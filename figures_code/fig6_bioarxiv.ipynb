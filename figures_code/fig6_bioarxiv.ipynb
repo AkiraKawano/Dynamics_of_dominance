{
 "cells": [
  {
   "cell_type": "code",
   "execution_count": null,
   "id": "8dce474b-ff82-45f8-8d31-601d5e217bf3",
   "metadata": {},
   "outputs": [],
   "source": []
  },
  {
   "cell_type": "markdown",
   "id": "a06ad90c-9492-45f0-8c33-97b2c2e15f47",
   "metadata": {},
   "source": [
    "# Notes"
   ]
  },
  {
   "cell_type": "markdown",
   "id": "c6563027-ddbb-42ee-9c1a-0b40e9ed1f86",
   "metadata": {},
   "source": [
    "This notebook is for making the figure 6 of the bioarxiv version of the paper."
   ]
  },
  {
   "cell_type": "code",
   "execution_count": null,
   "id": "3e91f8af-6e77-47c7-9c61-b80df90ef29e",
   "metadata": {},
   "outputs": [],
   "source": []
  },
  {
   "cell_type": "code",
   "execution_count": null,
   "id": "f47abab5-a698-41ee-8d58-d13cd72fc59c",
   "metadata": {},
   "outputs": [],
   "source": []
  },
  {
   "cell_type": "markdown",
   "id": "0b7a9bb6-1767-41e8-92dc-fddd198bce9e",
   "metadata": {},
   "source": [
    "# Imports"
   ]
  },
  {
   "cell_type": "code",
   "execution_count": 3,
   "id": "0ffc9353-7621-4809-8238-000f55235c2a",
   "metadata": {},
   "outputs": [
    {
     "name": "stdout",
     "output_type": "stream",
     "text": [
      "The autoreload extension is already loaded. To reload it, use:\n",
      "  %reload_ext autoreload\n"
     ]
    }
   ],
   "source": [
    "import numpy as np\n",
    "np.set_printoptions(suppress=True)\n",
    "import h5py\n",
    "import time\n",
    "import glob\n",
    "import pandas as pd\n",
    "import matplotlib.pyplot as plt\n",
    "import matplotlib as mpl\n",
    "import matplotlib.patches as mpatches\n",
    "from scipy.spatial import distance\n",
    "import seaborn as sns\n",
    "import os\n",
    "import sys\n",
    "%matplotlib widget\n",
    "%load_ext autoreload\n",
    "%autoreload 2\n",
    "\n",
    "# --- import functions for computing kinematic variables --- #\n",
    "sys.path.append('../tracking_code/lib/')\n",
    "sys.path.append('./lib/')\n",
    "\n",
    "from kinematics import compute_pec_pec_distance, compute_thetaW_and_thetaL, compute_pitch_angles\n",
    "from kinematics import compute_signed_pec_z_difference, compute_phi_dot_from_raw_trajectories, compute_coordinate_origin_z\n",
    "from post_processing import contiguous_regions\n",
    "from windowed_prob_utils import return_overlapping_windows_for_timeframes, compute_windowed_distribution_array_from_1D_tseries\n",
    "from windowed_prob_utils import get_fightbout_rectangle_info\n"
   ]
  },
  {
   "cell_type": "code",
   "execution_count": null,
   "id": "038d254d-0e40-468f-8d2f-20a16e5a2340",
   "metadata": {},
   "outputs": [],
   "source": []
  },
  {
   "cell_type": "code",
   "execution_count": null,
   "id": "9013180b-cd2e-465e-8cb5-664caeb4bb88",
   "metadata": {},
   "outputs": [],
   "source": []
  },
  {
   "cell_type": "code",
   "execution_count": null,
   "id": "021ce29f-a439-4cfb-8d8e-687b7f6d1825",
   "metadata": {},
   "outputs": [],
   "source": []
  },
  {
   "cell_type": "markdown",
   "id": "e30d0a2e-1a41-473c-ba47-465bb8ceeb55",
   "metadata": {},
   "source": [
    "# Functions "
   ]
  },
  {
   "cell_type": "code",
   "execution_count": 4,
   "id": "f5cbdd2d-6e04-47f3-9295-b9f1f9628a31",
   "metadata": {},
   "outputs": [],
   "source": [
    "def return_state_probabilities_from_state_tseries(state_tseries, numLabelledStates):\n",
    "    ''' Return the probabilities of each state in the state_tseries. \n",
    "        Each value in state_tseries is between 0 and numLabelledStates-1, or NaN,\n",
    "        or -1 if it was belonging to another cluster (nonlabelled cluster)\n",
    "        Return the probability of each state as a vector, with the last entry being prob\n",
    "        of another cluster, and NaN data excluded.\n",
    "    \n",
    "    --- args ---\n",
    "    state_tseries: a 1D timeseries of cluster indexes, starting from -1,  \n",
    "                   Can contains NaNs.\n",
    "    numLabelledStates: the number of state indices that should appear in state_tseries.\n",
    "                       Pass this in case no values are found for some indices, in which\n",
    "                       case we know how many zero probabilities to return.\n",
    "               \n",
    "    --- returns ---\n",
    "    state_probs: 1D array of shape (numLabelledStates+1,), containing the probability of \n",
    "                 each cluster idx and lastly the probability of nonlabelled clusters\n",
    "    '''\n",
    "    # add one state for -1 (nonlabelled cluster)\n",
    "    numStates = numLabelledStates + 1\n",
    "    # preallocate the output\n",
    "    state_probs = np.zeros((numStates,))\n",
    "    #  find the number of frames in total excluding NaN frames\n",
    "    state_tseries_nanless = state_tseries[~np.isnan(state_tseries)]\n",
    "    numFrames = state_tseries_nanless.shape[0]\n",
    "    # if we have no non-nan frames, all probs are zero except the last\n",
    "    if numFrames == 0:\n",
    "        return state_probs\n",
    "    else:\n",
    "        # first compute main states probs\n",
    "        for stateIdx in range(numLabelledStates):\n",
    "            state_counts = np.where(state_tseries_nanless==stateIdx)[0].shape[0]\n",
    "            state_probs[stateIdx] = state_counts / numFrames\n",
    "        # now add the final NaN probability\n",
    "        other_state_counts = np.where(state_tseries_nanless==-1)[0].shape[0]\n",
    "        state_probs[-1] = other_state_counts / numFrames\n",
    "        return state_probs\n",
    "\n",
    "\n",
    "    \n",
    "def compute_state_probabilities_in_time_windows(state_tseries, time_windows, numLabelledStates):\n",
    "    ''' Compute the probability of each of the state indices in state_tseries, in\n",
    "        each of the windows in time_windows.\n",
    "    \n",
    "    --- args ---\n",
    "    state_tseries: a 1D timeseries of cluster indexes, starting from 0 to (numLabelledClusters-1)\n",
    "                   for the labelled states, -1 for all nonlabelled states, and NaN for missing data.\n",
    "    time_windows: array of shape (numWins,2), where each row contains a start frame\n",
    "                  and a stop frame which define a region in time. The probabilities\n",
    "                  are estimated in each of these regions in time.\n",
    "    numLabelledStates: the number of state indices that should appear in state_tseries.\n",
    "                       Pass this in case no values are found for some indices, in which\n",
    "                       case we know how many zero probabilities to return.\n",
    "               \n",
    "    --- returns ---\n",
    "    window_state_probabilities: a (numWinds, numLabelledStates+1) array containing the \n",
    "                                probability of each cluster idx and lastly the probability of \n",
    "                                nonlabelled cluster occuring. \n",
    "                                \n",
    "    --- see also ---\n",
    "    return_state_probabilities_from_state_tseries: \n",
    "    the function which does the main computation in each time window.\n",
    "    \n",
    "    '''\n",
    "    numWins = time_windows.shape[0]\n",
    "    window_state_probabilities = np.zeros((numWins, numLabelledStates+1)) # plus1 for the nonlabelled states\n",
    "    for winIdx in range(numWins):\n",
    "        w0,wE = time_windows[winIdx]\n",
    "        win_data = state_tseries[w0:wE]\n",
    "        win_state_probs = return_state_probabilities_from_state_tseries(win_data, numLabelledStates)\n",
    "        window_state_probabilities[winIdx] = win_state_probs\n",
    "    return window_state_probabilities"
   ]
  },
  {
   "cell_type": "code",
   "execution_count": 33,
   "id": "d3604225-ea0f-4ec2-b9d6-294ee608de9e",
   "metadata": {},
   "outputs": [],
   "source": [
    "def return_region_win_state_probs(region_data, all_exp_window_state_probabilities, all_exp_time_windows, all_exp_numFrames):\n",
    "    ''' Return the list over fight-bouts, containing the windowed state probabilities for the chosen region.\n",
    "    \n",
    "    --- args ---\n",
    "    region_data: array (numBouts,3), where first col is exp idxs, 2nd and 3rd cols are the start/stop\n",
    "                 frames of certain regions, e.g. 3 mins before a fightbout.\n",
    "    \n",
    "    all_exp_window_state_probabilities: the list over experiments, containing the windowed state probability of\n",
    "                                        infomap clusters, e.g. each element of the list is a (numWins, 11) array,\n",
    "                                        where 11 is the number of states and state vals sum to 1.\n",
    "                                        \n",
    "    all_exp_time_windows: the list over experiments, with elements being the time windows associated with the \n",
    "                          state probabilities in all_exp_window_state_probabilities.\n",
    "                          \n",
    "    all_exp_numFrames: a list over experiments containing the number of frames in each experiment.\n",
    "                          \n",
    "    --- return ---\n",
    "    exps_region_win_state_probs: a list over fight bouts, where each element is a (numRegionWins,numStates) array\n",
    "                                 of state proabilities for windows during the chosen region for a particular fight bout.\n",
    "                                 \n",
    "    --- see also ---\n",
    "    find_time_window_indices_bounding_start_and_stop_frame()\n",
    "    \n",
    "    '''\n",
    "    #exps_region_time_wins = []\n",
    "    exps_region_win_state_probs = []\n",
    "\n",
    "    skipped_bIdxs = []\n",
    "    for bIdx in range(region_data.shape[0]):\n",
    "        expIdx, t0, tE = region_data[bIdx]\n",
    "        \n",
    "        # if t0 is negative, exclude this fight bout\n",
    "        # if tE is greater than the number of frames in the experiment, exclude fight bout\n",
    "        if t0 < 0:\n",
    "            skipped_bIdxs.append(bIdx)\n",
    "            continue\n",
    "        expnfs = expNumFrames[expIdx]\n",
    "        if tE > expnfs:\n",
    "            skipped_bIdxs.append(bIdx)\n",
    "            continue\n",
    "\n",
    "        exp_win_state_probs = all_exp_window_state_probabilities[expIdx]\n",
    "        exp_time_wins = all_exp_time_windows[expIdx]\n",
    "\n",
    "        desired_first_win_idx, desired_last_win_idx = find_time_window_indices_bounding_start_and_stop_frame(exp_time_wins, \n",
    "                                                                                                             t0, tE)\n",
    "\n",
    "        #region_time_wins = exp_time_wins[desired_first_win_idx:desired_last_win_idx+1, :] #+1 to get the last win\n",
    "        region_win_state_probs = np.copy(exp_win_state_probs[desired_first_win_idx:desired_last_win_idx+1, :])\n",
    "\n",
    "        #exps_region_time_wins.append(region_time_wins)\n",
    "        exps_region_win_state_probs.append(region_win_state_probs)\n",
    "    \n",
    "    \n",
    "    return exps_region_win_state_probs\n",
    "\n",
    "\n",
    "\n",
    "def find_time_window_indices_bounding_start_and_stop_frame(time_windows, startFrame, stopFrame):\n",
    "    ''' Return the time window indices of which bound the startFrame and stopFrame.\n",
    "    \n",
    "    The idea is to allow for the parsing of time_windows, to choose only windows that contain\n",
    "    no contributions for timepoints outside of the interval [startFrame, stopFrame]\n",
    "    \n",
    "    --- Example ---\n",
    "    time_windows = np.array([[     0,   6000],\n",
    "                            [   100,   6100],\n",
    "                            [   200,   6200],\n",
    "                            ...,\n",
    "                            [711600, 717600],\n",
    "                            [711700, 717700],\n",
    "                            [711800, 717800]])\n",
    "    startFrame = 36000\n",
    "    stopFrame = 66000\n",
    "                       \n",
    "    desired_first_win_idx, desired_first_win_idx = f(time_windows, startFrame, stopFrame)\n",
    "    time_windows[desired_first_win_idx] = array([36000, 42000])\n",
    "    time_windows[desired_last_win_idx] = array([60000, 66000])                  \n",
    "    \n",
    "    -- returns --\n",
    "    desired_first_win_idx, desired_first_win_idx: int, int\n",
    "    \n",
    "    '''\n",
    "    desired_first_win_idx = np.where(time_windows[:,0] >= startFrame)[0][0]\n",
    "    \n",
    "    \n",
    "    # for the end window, we need to do a check to make sure stopFrame is not\n",
    "    # beyond our windows\n",
    "    \n",
    "    # if tE is beyond the end of the last window, use the last window\n",
    "    if time_windows[:,1][-1] <= stopFrame:\n",
    "        desired_last_win_idx = time_windows.shape[0] - 1\n",
    "    # otherwise find the first window beyond tE\n",
    "    else:\n",
    "        desired_last_win_idx = np.where(time_windows[:,1] >= stopFrame)[0][0]\n",
    "    return desired_first_win_idx, desired_last_win_idx\n",
    "\n",
    "\n",
    "\n",
    "def return_overlapping_windows_for_timeframes(numFrames, window_size=200, window_step=50):\n",
    "    ''' Given a number of frames, return an 2D array of window start-stop frames.\n",
    "    '''\n",
    "    # define, for clarity, the first window\n",
    "    win0_start = 0\n",
    "    win0_mid = int(window_size/2)\n",
    "    win0_end = int(window_size)\n",
    "\n",
    "    # find numWindows, by adding incrementally and watching the last frame\n",
    "    last_frame_in_windows = win0_end\n",
    "    numWindows = 1\n",
    "    while last_frame_in_windows < (numFrames - window_step):\n",
    "        numWindows += 1\n",
    "        last_frame_in_windows = win0_end + (numWindows-1)*window_step\n",
    "\n",
    "    # now fill-in the windows array of frame indices\n",
    "    windows = np.zeros((numWindows, 2))\n",
    "    windows[0, 0] = 0\n",
    "    windows[0, 1] = win0_end\n",
    "    for winIdx in range(1, numWindows):\n",
    "        w0 = winIdx*window_step\n",
    "        wF = w0 + window_size\n",
    "        windows[winIdx, 0] = w0\n",
    "        windows[winIdx, 1] = wF\n",
    "    return windows.astype(int)"
   ]
  },
  {
   "cell_type": "code",
   "execution_count": null,
   "id": "b433d0fd-d176-4342-94b3-a82de654a304",
   "metadata": {},
   "outputs": [],
   "source": []
  },
  {
   "cell_type": "code",
   "execution_count": null,
   "id": "c9e4d905-38ea-4388-9478-1dfaf04f0f83",
   "metadata": {},
   "outputs": [],
   "source": []
  },
  {
   "cell_type": "code",
   "execution_count": null,
   "id": "f8c2c67d-d0a5-4306-a8de-123246dd396a",
   "metadata": {},
   "outputs": [],
   "source": []
  },
  {
   "cell_type": "markdown",
   "id": "b18834f3-9b81-4857-930a-1be269f4a3a6",
   "metadata": {},
   "source": [
    "# load the tracking data"
   ]
  },
  {
   "cell_type": "code",
   "execution_count": null,
   "id": "a801f802-708e-46ad-b624-f54528e9ba60",
   "metadata": {},
   "outputs": [],
   "source": []
  },
  {
   "cell_type": "code",
   "execution_count": 7,
   "id": "1a230372-ee0f-4866-8599-ae624503ce04",
   "metadata": {},
   "outputs": [],
   "source": [
    "main_load_folder = '/media/liam/hd1/fighting_data/tracking_results/'\n",
    "\n",
    "# ----------------------#\n",
    "\n",
    "interp_polyOrd=1  # the order of the polynomial used for interpolation\n",
    "interp_limit=5    # the maximum number of frames to interpolate over\n",
    "savgol_win=9      # the number of frames for the Savitzky-Golay filter\n",
    "savgol_ord=2      # the polynomial order for the Savitzky-Golay filter\n",
    "dt=0.01           # the frame rate of the recording\n",
    "\n",
    "\n",
    "# the filepaths for loading the infomap timeseries data we need\n",
    "infomap_data_loadpath = os.path.join( os.path.dirname(os.path.dirname(main_load_folder)) , \n",
    "                                      'infomap_data/transmat_and_infomap.h5')\n",
    "\n",
    "# the path for loading the fightbout info\n",
    "fightBouts_info_path = os.path.join(main_load_folder, 'fightBouts.h5')\n",
    "\n",
    "\n",
    "# -----------------------#\n",
    "\n",
    "loadpaths = glob.glob(os.path.join(main_load_folder, '*results.h5'))\n",
    "loadpaths.sort()\n",
    "\n",
    "# parse the exp names\n",
    "expNames = [path.split('/')[-1][:23] for path in loadpaths]\n",
    "\n",
    "\n",
    "raw_trajectories = []\n",
    "for path in loadpaths:\n",
    "    with h5py.File(path, 'r') as hf:\n",
    "        tracks_3D_raw = hf['tracks_3D_raw'][:]\n",
    "    raw_trajectories.append(tracks_3D_raw)\n",
    "\n",
    "smooth_trajectories = []\n",
    "for path in loadpaths:\n",
    "    with h5py.File(path, 'r') as hf:\n",
    "        tracks_3D_smooth = hf['tracks_3D_smooth'][:]\n",
    "    smooth_trajectories.append(tracks_3D_smooth)\n",
    "    \n",
    "    \n",
    "# create a list of the number of frames in each experiment\n",
    "expNumFrames = []\n",
    "for expIdx in range(len(expNames)):\n",
    "    nfs = smooth_trajectories[expIdx].shape[0]\n",
    "    expNumFrames.append(nfs)\n",
    "    \n",
    "# -----------------------------#\n",
    "# load other useful information\n",
    "    \n",
    "other_info_loadpath = os.path.join(main_load_folder, 'winners_losers_inconclusive.h5')\n",
    "with h5py.File(other_info_loadpath, 'r') as hf:\n",
    "    winner_idxs = hf['winner_idxs'][:]\n",
    "    loser_idxs = hf['loser_idxs'][:]\n",
    "    conclusive_winner_loser = hf['conclusive_winner_loser'][:]\n",
    "    already_established_dominance = hf['already_established_dominance'][:]\n",
    "\n",
    "\n",
    "with h5py.File(fightBouts_info_path, 'r') as hf:\n",
    "    fight_bout_info = hf['fight_bout_info'][:]\n",
    "    fight_bout_info_noDurThresh = hf['fight_bout_info_noDurThresh'][:]\n",
    "\n",
    "    \n"
   ]
  },
  {
   "cell_type": "code",
   "execution_count": null,
   "id": "c37e0758-25f8-4fff-bfad-f395691f4ea4",
   "metadata": {},
   "outputs": [],
   "source": []
  },
  {
   "cell_type": "code",
   "execution_count": null,
   "id": "f4112043-c61e-46cc-be04-fe1ebf739122",
   "metadata": {},
   "outputs": [],
   "source": []
  },
  {
   "cell_type": "markdown",
   "id": "5aa8657e-f1db-4f6b-9b17-6cf7064a7db7",
   "metadata": {},
   "source": [
    "# load the post-processed tseries of infomap cluster idxs"
   ]
  },
  {
   "cell_type": "code",
   "execution_count": null,
   "id": "4768dd1e-73e8-4111-ba93-1951528952ab",
   "metadata": {},
   "outputs": [],
   "source": []
  },
  {
   "cell_type": "code",
   "execution_count": 8,
   "id": "283fbeed-93a8-4524-9d21-d9029a4b7fa4",
   "metadata": {},
   "outputs": [
    {
     "data": {
      "text/plain": [
       "(16044324,)"
      ]
     },
     "execution_count": 8,
     "metadata": {},
     "output_type": "execute_result"
    }
   ],
   "source": [
    "# load\n",
    "all_exps_edited_postProced_clusterIdx_tseries = []\n",
    "postprocessed_all_exp_edited_cluster_tseries_savepath = os.path.join(os.path.dirname(infomap_data_loadpath),\n",
    "                                                                     'postprocessed_exp_edited_clusterIdx_timeseries.h5')\n",
    "with h5py.File(postprocessed_all_exp_edited_cluster_tseries_savepath, 'r') as hf:\n",
    "    for expIdx in range(len(expNames)):\n",
    "        expName = expNames[expIdx]\n",
    "        tseries = hf['{0}_clusterIdxs'.format(expName)][:]\n",
    "        all_exps_edited_postProced_clusterIdx_tseries.append(tseries)\n",
    "        \n",
    "# make the master-set\n",
    "clusterIdx_edited_postProced_tseries_master = np.concatenate(all_exps_edited_postProced_clusterIdx_tseries)\n",
    "clusterIdx_edited_postProced_tseries_master.shape"
   ]
  },
  {
   "cell_type": "code",
   "execution_count": 34,
   "id": "6e731329-52d7-4225-a8c6-bffeb9dccd25",
   "metadata": {},
   "outputs": [],
   "source": [
    "\n",
    "\n",
    "# colorlist without red and blue\n",
    "colorlist = ['#ffe119', '#3cb44b',                    '#f58231', \n",
    "             '#911eb4', '#42d4f4', '#f032e6', '#bfef45', '#fabed4', \n",
    "             '#469990', '#dcbeff', '#9A6324', '#800000', \n",
    "             '#aaffc3', '#808000', '#ffd8b1', '#000075', '#a9a9a9'] \n"
   ]
  },
  {
   "cell_type": "code",
   "execution_count": 10,
   "id": "0beab27a-5e2b-48a8-8825-668e1e4c11fd",
   "metadata": {},
   "outputs": [
    {
     "data": {
      "text/plain": [
       "['circling',\n",
       " 'direct away',\n",
       " 'winner attack',\n",
       " 'loser attack',\n",
       " 'display',\n",
       " 'direct to',\n",
       " 'middle circling',\n",
       " 'L approach',\n",
       " 'W approach',\n",
       " 'parallel',\n",
       " 'non-fight clusters']"
      ]
     },
     "execution_count": 10,
     "metadata": {},
     "output_type": "execute_result"
    }
   ],
   "source": [
    "\n",
    "# these are the state names of the clusterIdx_edited_postProced_tseries\n",
    "all_state_names = ['circling',\n",
    "                 'direct away',\n",
    "                 'winner attack',\n",
    "                 'loser attack',\n",
    "                 'display',\n",
    "                 'direct to',\n",
    "                 'middle circling',\n",
    "                 'L approach',\n",
    "                 'W approach',\n",
    "                 'parallel',\n",
    "                 'non-fight clusters']\n",
    "\n",
    "all_state_names"
   ]
  },
  {
   "cell_type": "code",
   "execution_count": 11,
   "id": "d907122c-8ce7-4967-ac25-2f5ac06047ac",
   "metadata": {},
   "outputs": [
    {
     "data": {
      "text/plain": [
       "11"
      ]
     },
     "execution_count": 11,
     "metadata": {},
     "output_type": "execute_result"
    }
   ],
   "source": [
    "len(all_state_names)"
   ]
  },
  {
   "cell_type": "code",
   "execution_count": 12,
   "id": "f8dc1a32-c48b-479c-bed3-130714e687d7",
   "metadata": {},
   "outputs": [
    {
     "data": {
      "text/plain": [
       "10"
      ]
     },
     "execution_count": 12,
     "metadata": {},
     "output_type": "execute_result"
    }
   ],
   "source": [
    "numLabelledStates = len(all_state_names)-1\n",
    "numLabelledStates\n"
   ]
  },
  {
   "cell_type": "code",
   "execution_count": null,
   "id": "a90f43f5-302d-457a-96ab-53073443993c",
   "metadata": {},
   "outputs": [],
   "source": []
  },
  {
   "cell_type": "code",
   "execution_count": 13,
   "id": "9e4e9516-5526-468b-b988-eefe2da26630",
   "metadata": {},
   "outputs": [
    {
     "data": {
      "text/plain": [
       "array([-1.,  0.,  1.,  2.,  3.,  4.,  5.,  6.,  7.,  8.,  9.])"
      ]
     },
     "execution_count": 13,
     "metadata": {},
     "output_type": "execute_result"
    }
   ],
   "source": [
    "# -1 represent nonFight clusters\n",
    "# NaN data means missing data\n",
    "np.unique(clusterIdx_edited_postProced_tseries_master[~np.isnan(clusterIdx_edited_postProced_tseries_master)])"
   ]
  },
  {
   "cell_type": "code",
   "execution_count": 14,
   "id": "5c93e345-d43b-4588-8863-821f8c5269d7",
   "metadata": {},
   "outputs": [],
   "source": [
    "totalNumStates = numLabelledStates+1"
   ]
  },
  {
   "cell_type": "code",
   "execution_count": null,
   "id": "65b4f1cc-6d82-4c95-a78f-80c0c0ff5c4d",
   "metadata": {},
   "outputs": [],
   "source": []
  },
  {
   "cell_type": "markdown",
   "id": "341f5173-40d0-4dec-b55e-67c757fe956a",
   "metadata": {},
   "source": [
    "# Panel A"
   ]
  },
  {
   "cell_type": "code",
   "execution_count": null,
   "id": "8576ab51-e1ab-4574-902f-ae6f3842ea05",
   "metadata": {},
   "outputs": [],
   "source": []
  },
  {
   "cell_type": "markdown",
   "id": "2b01f635-5851-4bf8-8010-ea8578613687",
   "metadata": {},
   "source": [
    "## rough"
   ]
  },
  {
   "cell_type": "code",
   "execution_count": null,
   "id": "347e56c1-c0b0-4911-8bfb-2e218ffc32fb",
   "metadata": {},
   "outputs": [],
   "source": []
  },
  {
   "cell_type": "code",
   "execution_count": 14,
   "id": "7a7448f8-3ebf-4972-abfb-bc4f4b2d859b",
   "metadata": {},
   "outputs": [
    {
     "data": {
      "text/plain": [
       "(501943,)"
      ]
     },
     "execution_count": 14,
     "metadata": {},
     "output_type": "execute_result"
    }
   ],
   "source": [
    "complete_labels = np.copy(all_exps_edited_postProced_clusterIdx_tseries[2])\n",
    "complete_labels.shape"
   ]
  },
  {
   "cell_type": "code",
   "execution_count": 15,
   "id": "85105b91-2628-4cba-a052-de7e50768069",
   "metadata": {},
   "outputs": [],
   "source": [
    "# numLabelledClusters = len(all_state_names)-1\n",
    "# numLabelledClusters"
   ]
  },
  {
   "cell_type": "code",
   "execution_count": null,
   "id": "97ea8916-d660-4ab5-bbdf-3a6f9fdcdc93",
   "metadata": {},
   "outputs": [],
   "source": []
  },
  {
   "cell_type": "code",
   "execution_count": 16,
   "id": "467023b5-79e3-4260-9cf5-15c3990f880f",
   "metadata": {},
   "outputs": [],
   "source": [
    "f0 = 40005 \n",
    "fE = f0 + 1000 #500\n",
    "eth_numFrames = fE - f0\n",
    "\n",
    "state_plot_order = [0,2,3,4,7,5]"
   ]
  },
  {
   "cell_type": "code",
   "execution_count": 17,
   "id": "545dd319-3038-4eea-8587-dab2c60a0c45",
   "metadata": {},
   "outputs": [],
   "source": [
    "plot_complete_labels = np.copy(complete_labels[f0:fE])\n",
    "\n",
    "# --- Remove small contiguous regions --- #\n",
    "MINSIZE = 5\n",
    "\n",
    "plot_complete_labels_edited = np.copy(plot_complete_labels)\n",
    "\n",
    "# loop over clusterIdxs, leaving -1 alone\n",
    "for clusterIdx in range(numLabelledStates):\n",
    "\n",
    "    # create a binary array\n",
    "    clIdx_bin_arr = plot_complete_labels_edited == clusterIdx\n",
    "\n",
    "    # get the regions and lenghts\n",
    "    regions = contiguous_regions(clIdx_bin_arr)\n",
    "    lengths = np.diff(regions, axis=1)[:,0]\n",
    "\n",
    "    # NaN any regions smaller than MINSIZE in original array\n",
    "    for regIdx in range(regions.shape[0]):\n",
    "        regSize = lengths[regIdx]\n",
    "        r0,rF = regions[regIdx]\n",
    "        if regSize < MINSIZE:\n",
    "            plot_complete_labels_edited[r0:rF] = np.NaN\n",
    "\n",
    "    \n",
    "    \n",
    "# ------ get the time regions of each cluster --------#\n",
    "cluster_time_regions = []\n",
    "for i in state_plot_order:\n",
    "    cls_frames = np.where(plot_complete_labels_edited==i)[0]\n",
    "    cluster_time_regions.append(cls_frames)\n",
    "    \n",
    "    \n",
    "    \n",
    "    \n",
    "plot_labels = [all_state_names[i] for i in state_plot_order]\n",
    "\n",
    "ethogram_colors = [colorlist[i] for i in state_plot_order]\n",
    "\n",
    "    \n",
    "    \n",
    "# ----- prepare the ethogram array ------ #\n",
    "# minus -1 will represent the background color\n",
    "eth_arr = np.ones((len(state_plot_order), eth_numFrames ))*-1\n",
    "\n",
    "# prepare the colors for the ethogram\n",
    "# white is the background (-1)\n",
    "eth_colors = ['#FFFFFF'] + ethogram_colors\n",
    "\n",
    "cmap = mpl.colors.ListedColormap(eth_colors)\n",
    "norm = mpl.colors.BoundaryNorm([i for i in range(-1, len(state_plot_order)+1)], cmap.N)\n",
    "\n",
    "# fill in the ethogram\n",
    "for ii in range(len(state_plot_order)):\n",
    "    \n",
    "    cls_frames = cluster_time_regions[ii]\n",
    "    \n",
    "    for fIdx in cls_frames:\n",
    "        eth_arr[ii, fIdx] = ii"
   ]
  },
  {
   "cell_type": "code",
   "execution_count": 18,
   "id": "f869d7f9-75ad-4a49-97f3-c2b920fc419e",
   "metadata": {},
   "outputs": [
    {
     "data": {
      "application/vnd.jupyter.widget-view+json": {
       "model_id": "2048d1e263f84f30a294a907a41c6f5f",
       "version_major": 2,
       "version_minor": 0
      },
      "text/html": [
       "\n",
       "            <div style=\"display: inline-block;\">\n",
       "                <div class=\"jupyter-widgets widget-label\" style=\"text-align: center;\">\n",
       "                    Figure\n",
       "                </div>\n",
       "                <img src='data:image/png;base64,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' width=1200.0/>\n",
       "            </div>\n",
       "        "
      ],
      "text/plain": [
       "Canvas(toolbar=Toolbar(toolitems=[('Home', 'Reset original view', 'home', 'home'), ('Back', 'Back to previous …"
      ]
     },
     "metadata": {},
     "output_type": "display_data"
    }
   ],
   "source": [
    "# ---- Plot --- #\n",
    "\n",
    "fig, axs = plt.subplots(figsize=(12,4))\n",
    "\n",
    "ax = axs\n",
    "im = ax.imshow(eth_arr, aspect='auto', cmap=cmap, norm=norm, interpolation='none')\n",
    "#fig.colorbar(im, orientation='vertical')\n",
    "\n",
    "\n",
    "ax.set_yticks([i for i in range(len(state_plot_order))])\n",
    "ax.set_yticklabels(plot_labels)\n",
    "\n",
    "ax.set_xticks([0,100,200,300,400,500,600,700,800,900,1000])\n",
    "ax.set_xticklabels(['0', '1', '2', '3', '4', '5','6','7','8','9','10'])\n",
    "\n",
    "ax.set_xlabel('time (s)')\n",
    "\n",
    "fig.tight_layout()\n"
   ]
  },
  {
   "cell_type": "code",
   "execution_count": null,
   "id": "fe8a4b2a-4414-40eb-b363-65c1e7d9d021",
   "metadata": {},
   "outputs": [],
   "source": []
  },
  {
   "cell_type": "code",
   "execution_count": null,
   "id": "950b0db0-196f-42f6-b121-a0d09fdc0561",
   "metadata": {},
   "outputs": [],
   "source": []
  },
  {
   "cell_type": "markdown",
   "id": "55997336-15b7-4cea-8b73-82c065111d10",
   "metadata": {},
   "source": [
    "## paper version"
   ]
  },
  {
   "cell_type": "code",
   "execution_count": 19,
   "id": "a1b362b7-0242-49c9-8c60-a3fa0bb045ff",
   "metadata": {},
   "outputs": [
    {
     "data": {
      "application/vnd.jupyter.widget-view+json": {
       "model_id": "e284e11b1e3144d7b985e0f909710273",
       "version_major": 2,
       "version_minor": 0
      },
      "text/html": [
       "\n",
       "            <div style=\"display: inline-block;\">\n",
       "                <div class=\"jupyter-widgets widget-label\" style=\"text-align: center;\">\n",
       "                    Figure\n",
       "                </div>\n",
       "                <img src='data:image/png;base64,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' width=600.0/>\n",
       "            </div>\n",
       "        "
      ],
      "text/plain": [
       "Canvas(toolbar=Toolbar(toolitems=[('Home', 'Reset original view', 'home', 'home'), ('Back', 'Back to previous …"
      ]
     },
     "metadata": {},
     "output_type": "display_data"
    }
   ],
   "source": [
    "# ---- Plot --- #\n",
    "\n",
    "fig, axs = plt.subplots(figsize=(6,2))\n",
    "\n",
    "\n",
    "ax = axs\n",
    "im = ax.imshow(eth_arr, aspect='auto', cmap=cmap, norm=norm, interpolation='none')\n",
    "\n",
    "ax.set_yticks([i for i in range(len(state_plot_order))])\n",
    "#ax.set_yticklabels(plot_labels)\n",
    "ax.set_yticklabels([])\n",
    "\n",
    "ax.set_xticks([0,100,200,300,400,500,600,700,800,900,1000])\n",
    "#ax.set_xticklabels(['0', '1', '2', '3', '4', '5','6','7','8','9','10'])\n",
    "ax.set_xticklabels([])\n",
    "\n",
    "#ax.set_xlabel('time (s)')\n",
    "ax.set_xlabel('')\n",
    "\n",
    "for axis in ['top','bottom','left','right']:\n",
    "    ax.spines[axis].set_linewidth(2)\n",
    "ax.xaxis.set_tick_params(width=2, length=4)\n",
    "ax.yaxis.set_tick_params(width=2, length=4)\n",
    "\n",
    "fig.tight_layout()\n",
    "\n",
    "fig.savefig('/home/liam/temp/image_transfer/fig6_A_ethogram_new.png', dpi=300, transparent=True)\n",
    "\n"
   ]
  },
  {
   "cell_type": "code",
   "execution_count": null,
   "id": "1f79b187-1f0d-49c9-a2b4-36ffb83d9a4d",
   "metadata": {},
   "outputs": [],
   "source": []
  },
  {
   "cell_type": "code",
   "execution_count": 22,
   "id": "4a742d3a-c077-4615-a922-eb4144528f13",
   "metadata": {},
   "outputs": [
    {
     "data": {
      "application/vnd.jupyter.widget-view+json": {
       "model_id": "8da6c0fbb9cb4682854289b21c384aa3",
       "version_major": 2,
       "version_minor": 0
      },
      "text/html": [
       "\n",
       "            <div style=\"display: inline-block;\">\n",
       "                <div class=\"jupyter-widgets widget-label\" style=\"text-align: center;\">\n",
       "                    Figure\n",
       "                </div>\n",
       "                <img src='data:image/png;base64,iVBORw0KGgoAAAANSUhEUgAAAUAAAACWCAYAAACvgFEsAAAAOXRFWHRTb2Z0d2FyZQBNYXRwbG90bGliIHZlcnNpb24zLjQuMywgaHR0cHM6Ly9tYXRwbG90bGliLm9yZy/MnkTPAAAACXBIWXMAAA9hAAAPYQGoP6dpAAAFRElEQVR4nO3dsW5TVxzH8T8I1IhKrcqAYhqljsQGA2pRJzxUHREDT8HWN0AI9Q3YeAqGqGPVga0KFYOZSaVAog5IrVQKaiR3CkrSEOfaN9c2v89nM4rPPede5ysHJ+eeGY1GowIIdHbWEwCYFQEEYgkgEEsAgVgCCMQSQCCWAAKxBBCIJYBALAEEYgkgEEsAgVgCCMQ618Ygb9++rY2NjVpeXq5z51oZEmCs3d3d2tnZqRs3btTS0lLj57dSq42NjRoMBm0MBdDYkydP6ubNm42f10oAl5eX309iZWWl6uW3zQf58teDjycZo8n4CY47h4nnYxF86Jp1fb3Gff/Nyetna2urBoPB+wY11UoA937sXVlZqX6/X3V2gmFX+wcfTzJGk/ETHHcOE8/HIvjQNev6eo37/puz18+k//XmQxAglgACsQQQiCWAQCwBBGIJIBBrqt812d7eru3t7Xr16lVb8wHozFQBfPToUT148KCtuQB0aqofge/evVtPnz6t9fX1tuYD0Jmp3gH2er3q9Xp18eLFtuYD0BkfggCxBBCIJYBALAEEYgkgEEsAgVit7jr6z8Nb9eaLT+rCvRb+MmR1vv+65M2PX//v3y7c+63xc05TK9dhjuw/f+POdRdO43rOzTUb8/03b9diUt4BArEEEIglgEAsAQRiCSAQSwCBWAIIxBJAIJYt8YFYtsQHYtkSH4hlS3wglg9BgFgCCMQSQCCWAAKxBBCIJYBArDOj0Wg07SCbm5u1trZWL168qH6/P9EYD7/66cDjH36/Ne20xh5jnKPmsDfGacxvETU9p0eZ5Fx+6LiuS/fa+L6a1LTt8Q4QiCWAQCwBBGIJIBBLAIFYAgjEEkAglgACsQQQiOWeIEAs9wQBYrknCBDLPUGAWD4EAWIJIBBLAIFYAgjEEkAglgACsebmniCn7fvnf9fPVz899WMc57SP38S4uVbN13xP6vC6FnENRznJ9TrsY1n7cdwTBGBCAgjEEkAglgACsQQQiCWAQCwBBGIJIBDLlvhALFviA7FsiQ/EsiU+EMuHIEAsAQRiCSAQSwCBWAIIxBJAIJYAArGm+j3ARdLF/REW6R4MJ5nrv788H/s157+7OvVcjjrOpOMeXlfTNex9fRvratMkr639a5+n9Zzkmpx4rJ2XUz3fO0AglgACsQQQiCWAQCwBBGIJIBBLAIFYAgjEck8QIJZ7ggCx3BMEiOWeIEAsH4IAsQQQiCWAQCwBBGIJIBBLAIFYMVviT+LPb7YPPP78aW9GM5mNrrZRP+o4h8991WTnv+ka9n/9UXOYdj5dGreWWc2/zdfV+c3pbkPhHSAQSwCBWAIIxBJAIJYAArEEEIglgEAsAQRi2RIfiGVLfCCWLfGBWLbEB2L5EASIJYBALAEEYgkgEEsAgVgCCMRqZUv83d3dqqra2tpqY7i58de7Pw48/mzz3Yxmkufwua/q/vwfNYf9Fun1MA/n8zTsNWevQU21EsDhcFhVVYPBoI3h5tfarCcQbt7O/7zNp6lFn/8+w+Gwrly50vh5rQTw0qVLVVX1+PHjun79ehtDjjUcDuv27du1vr5e165d++iOl3LMhDWmHHMWa3z27FnduXPnfYOaaiWAS0tLVVW1urpa/X6/jSHHev36dVVVXb58uZNjdn28lGMmrDHlmLNc416DmmrlQ5Ber1f379+vXq+72+x1fcyENc7imAlrTDnmIq7xzGg0GrU8J4CF4NdggFgCCMQSQCCWAAKxBBCIJYBALAEEYgkgEEsAgVgCCMQSQCCWAAKxBBCI9R+pvrPvnp5ZRQAAAABJRU5ErkJggg==' width=320.0/>\n",
       "            </div>\n",
       "        "
      ],
      "text/plain": [
       "Canvas(toolbar=Toolbar(toolitems=[('Home', 'Reset original view', 'home', 'home'), ('Back', 'Back to previous …"
      ]
     },
     "metadata": {},
     "output_type": "display_data"
    }
   ],
   "source": [
    "# ---- Plot --- #\n",
    "\n",
    "fig, axs = plt.subplots(figsize=(3.2, 1.5))\n",
    "\n",
    "\n",
    "ax = axs\n",
    "im = ax.imshow(eth_arr, aspect='auto', cmap=cmap, norm=norm, interpolation='none')\n",
    "\n",
    "ax.set_yticks([i for i in range(len(state_plot_order))])\n",
    "#ax.set_yticklabels(plot_labels)\n",
    "ax.set_yticklabels([])\n",
    "\n",
    "ax.set_xticks([0,100,200,300,400,500,600,700,800,900,1000])\n",
    "#ax.set_xticklabels(['0', '1', '2', '3', '4', '5','6','7','8','9','10'])\n",
    "ax.set_xticklabels([])\n",
    "\n",
    "#ax.set_xlabel('time (s)')\n",
    "ax.set_xlabel('')\n",
    "\n",
    "for axis in ['top','bottom','left','right']:\n",
    "    ax.spines[axis].set_linewidth(0.9)\n",
    "ax.xaxis.set_tick_params(width=1, length=2)\n",
    "ax.yaxis.set_tick_params(width=1, length=2)\n",
    "\n",
    "fig.tight_layout()\n",
    "\n",
    "fig.savefig('/home/liam/temp/image_transfer/fig6_A.png', dpi=900, transparent=True)"
   ]
  },
  {
   "cell_type": "code",
   "execution_count": null,
   "id": "78ccc48e-bec3-48c5-9227-66abdd6cdb66",
   "metadata": {},
   "outputs": [],
   "source": []
  },
  {
   "cell_type": "code",
   "execution_count": null,
   "id": "c27aa97c-5177-4c9e-b625-60c3d51602ee",
   "metadata": {},
   "outputs": [],
   "source": []
  },
  {
   "cell_type": "code",
   "execution_count": null,
   "id": "1c0b3080-ff2e-4403-a1af-97ff52bbbf48",
   "metadata": {},
   "outputs": [],
   "source": []
  },
  {
   "cell_type": "code",
   "execution_count": null,
   "id": "448f2050-e767-4731-9a12-9234cc491f9f",
   "metadata": {},
   "outputs": [],
   "source": []
  },
  {
   "cell_type": "code",
   "execution_count": null,
   "id": "9fb21398-696d-44e0-9204-107a47ce56df",
   "metadata": {},
   "outputs": [],
   "source": []
  },
  {
   "cell_type": "markdown",
   "id": "c4519c33-edf0-4344-af84-4806061bba30",
   "metadata": {},
   "source": [
    "# Panel B"
   ]
  },
  {
   "cell_type": "code",
   "execution_count": null,
   "id": "00c6a0ce-9193-4522-9722-2efeee966a5e",
   "metadata": {},
   "outputs": [],
   "source": []
  },
  {
   "cell_type": "code",
   "execution_count": null,
   "id": "3536785e-24d4-4464-93b4-c82b5e87f8b8",
   "metadata": {},
   "outputs": [],
   "source": []
  },
  {
   "cell_type": "code",
   "execution_count": null,
   "id": "bd28d076-bcd4-4ff2-aadb-e1d9c0f16e1c",
   "metadata": {},
   "outputs": [],
   "source": []
  },
  {
   "cell_type": "markdown",
   "id": "e9b81a6c-d6ee-4ced-a5b3-e2a4fc027d58",
   "metadata": {},
   "source": [
    "## prepare the arrays for indexing within fights and outside fights"
   ]
  },
  {
   "cell_type": "markdown",
   "id": "9341da1e-8c9f-4f91-8bf2-d0299fdc4670",
   "metadata": {},
   "source": [
    "For this figure, we will use without the size threshold on bout duration"
   ]
  },
  {
   "cell_type": "code",
   "execution_count": 15,
   "id": "b0f6efd3-a325-471a-b51b-ab203090bfbe",
   "metadata": {},
   "outputs": [
    {
     "data": {
      "text/plain": [
       "(33, 4)"
      ]
     },
     "execution_count": 15,
     "metadata": {},
     "output_type": "execute_result"
    }
   ],
   "source": [
    "figure_bout_info = np.copy(fight_bout_info_noDurThresh)\n",
    "\n",
    "# the set of expIdxs that have contributions to figure_bout_info\n",
    "chosen_expIdxs = np.unique(figure_bout_info[:,0])\n",
    "\n",
    "numBouts = figure_bout_info.shape[0]\n",
    "\n",
    "figure_bout_info.shape"
   ]
  },
  {
   "cell_type": "code",
   "execution_count": null,
   "id": "323137cb-1852-4368-b07a-34255e5d94ed",
   "metadata": {},
   "outputs": [],
   "source": []
  },
  {
   "cell_type": "code",
   "execution_count": 22,
   "id": "cea9fc10-7b95-4828-ba93-d57163de0ad6",
   "metadata": {},
   "outputs": [],
   "source": [
    "# ---- prepare the nonfight regions ----#\n",
    "# based on 'figure_bout_info'\n",
    "\n",
    "chosen_expIdx_nonFight_regions = []\n",
    "\n",
    "for expIdx in chosen_expIdxs:\n",
    "    expName = expNames[expIdx]\n",
    "    \n",
    "    # find the bouts for this exp\n",
    "    fight_epoch_array_rows = np.where(figure_bout_info[:,0] == expIdx)[0]\n",
    "    \n",
    "    # turn into list format over bouts, data is (startFrame,stopFrame)\n",
    "    exp_fight_bout_lims_list = []\n",
    "    for rowIdx in fight_epoch_array_rows:\n",
    "        fight_bout_lims = figure_bout_info[rowIdx,1:3]\n",
    "        exp_fight_bout_lims_list.append(fight_bout_lims)\n",
    "        \n",
    "    # now, prepare a binary timeseries of fight/non-fight membership for all frames,\n",
    "    # recording all fights as truth\n",
    "    expnfs = expNumFrames[expIdx]\n",
    "    exp_fightFrame_bin_arr = np.zeros((expnfs,), dtype=bool)\n",
    "    for bIdx in range(len(exp_fight_bout_lims_list)):\n",
    "        exp_fightFrame_bin_arr[ exp_fight_bout_lims_list[bIdx][0]:exp_fight_bout_lims_list[bIdx][1]] = True\n",
    "        \n",
    "    # now find contiguous regions of the inverse of this array, \n",
    "    # giving us frame ranges where the fish are not fighting\n",
    "    exp_non_fight_regions = contiguous_regions(~exp_fightFrame_bin_arr)\n",
    "    \n",
    "    # record\n",
    "    chosen_expIdx_nonFight_regions.append([expIdx, exp_non_fight_regions])\n",
    "    \n",
    "    \n",
    "# make into array along fightbouts with expIdxs\n",
    "figure_nonBout_info = []\n",
    "for vals in chosen_expIdx_nonFight_regions:\n",
    "    expIdx = vals[0]\n",
    "    boutInfo = vals[1]\n",
    "    expIdx_with_boutInfo_arr = np.full((boutInfo.shape[0],3), fill_value=expIdx)\n",
    "    expIdx_with_boutInfo_arr[:,1:] = boutInfo\n",
    "    figure_nonBout_info.append(expIdx_with_boutInfo_arr)\n",
    "figure_nonBout_info = np.concatenate(figure_nonBout_info, axis=0)\n",
    "\n",
    "numNoNBouts = figure_nonBout_info.shape[0]"
   ]
  },
  {
   "cell_type": "code",
   "execution_count": null,
   "id": "3b605ef8-6850-4381-b108-97e71a388a65",
   "metadata": {},
   "outputs": [],
   "source": []
  },
  {
   "cell_type": "code",
   "execution_count": null,
   "id": "9ed83040-9f0d-4d4a-8412-6978d23eb41b",
   "metadata": {},
   "outputs": [],
   "source": []
  },
  {
   "cell_type": "code",
   "execution_count": null,
   "id": "914dfadf-94c6-49ca-a694-f338b958862e",
   "metadata": {},
   "outputs": [],
   "source": []
  },
  {
   "cell_type": "markdown",
   "id": "a3ad7f25-5a85-402a-82f8-477fbbdf5b2b",
   "metadata": {},
   "source": [
    "## compute the windowed probabilities"
   ]
  },
  {
   "cell_type": "code",
   "execution_count": 18,
   "id": "0f104e35-a7f7-47bd-806c-5fea96d97038",
   "metadata": {},
   "outputs": [
    {
     "name": "stdout",
     "output_type": "stream",
     "text": [
      "FishTank20200127_143538\n",
      "FishTank20200129_140656\n",
      "FishTank20200130_153857\n",
      "FishTank20200130_181614\n",
      "FishTank20200207_161445\n",
      "FishTank20200213_154940\n",
      "FishTank20200214_153519\n",
      "FishTank20200217_160052\n",
      "FishTank20200218_153008\n",
      "FishTank20200316_163320\n",
      "FishTank20200327_154737\n",
      "FishTank20200330_161100\n",
      "FishTank20200331_162136\n",
      "FishTank20200520_152810\n",
      "FishTank20200521_154541\n",
      "FishTank20200525_161602\n",
      "FishTank20200526_160100\n",
      "FishTank20200527_152401\n",
      "FishTank20200824_151740\n",
      "FishTank20200828_155504\n",
      "FishTank20200902_160124\n",
      "FishTank20200903_160946\n"
     ]
    }
   ],
   "source": [
    "# compute the windowed state probabilities for each experiment\n",
    "window_size= 6000 #6000\n",
    "window_step=100\n",
    "\n",
    "all_exp_window_state_probabilities = []\n",
    "all_exp_time_windows = []\n",
    "\n",
    "for expIdx in range(len(expNames)):\n",
    "    expName = expNames[expIdx]\n",
    "    print(expName)\n",
    "    exp_cls_tseries = np.copy(all_exps_edited_postProced_clusterIdx_tseries[expIdx])\n",
    "    exp_numFrames = exp_cls_tseries.shape[0]\n",
    "    exp_time_windows = return_overlapping_windows_for_timeframes(exp_numFrames, window_size=window_size, window_step=window_step)\n",
    "    exp_window_state_probabilities = compute_state_probabilities_in_time_windows(exp_cls_tseries, exp_time_windows, numLabelledStates)\n",
    "    all_exp_window_state_probabilities.append(exp_window_state_probabilities)\n",
    "    all_exp_time_windows.append(exp_time_windows)"
   ]
  },
  {
   "cell_type": "code",
   "execution_count": null,
   "id": "36aa37f1-d297-4f7d-be02-01ac84b9d182",
   "metadata": {},
   "outputs": [],
   "source": []
  },
  {
   "cell_type": "code",
   "execution_count": 19,
   "id": "f1f9d907-1470-41dc-a62c-28a355a59101",
   "metadata": {},
   "outputs": [
    {
     "data": {
      "text/plain": [
       "(9658, 11)"
      ]
     },
     "execution_count": 19,
     "metadata": {},
     "output_type": "execute_result"
    }
   ],
   "source": [
    "all_exp_window_state_probabilities[0].shape"
   ]
  },
  {
   "cell_type": "code",
   "execution_count": null,
   "id": "92f60b0d-7771-4d69-ac19-95b5cb7ce7b2",
   "metadata": {},
   "outputs": [],
   "source": []
  },
  {
   "cell_type": "markdown",
   "id": "220bb714-f6c2-437b-bcfc-4865404bf8da",
   "metadata": {},
   "source": [
    "## get fight and nonfight data"
   ]
  },
  {
   "cell_type": "code",
   "execution_count": null,
   "id": "aa6f403b-ea8f-41aa-bd7c-9e53e8c9d44f",
   "metadata": {},
   "outputs": [],
   "source": []
  },
  {
   "cell_type": "code",
   "execution_count": null,
   "id": "2c719448-b728-4e3c-82d5-227d3a44aebe",
   "metadata": {},
   "outputs": [],
   "source": []
  },
  {
   "cell_type": "code",
   "execution_count": 21,
   "id": "864389e8-266d-497b-b741-fe1691e48399",
   "metadata": {},
   "outputs": [],
   "source": [
    "# ----- fighting ---- #\n",
    "\n",
    "bouts_winStateProbs = []\n",
    "\n",
    "for boutIdx in range(numBouts):\n",
    "    \n",
    "    expIdx, f0, fE, bout_duration = figure_bout_info[boutIdx]\n",
    "    \n",
    "    exp_time_wins = all_exp_time_windows[expIdx]\n",
    "    exp_window_state_probabilities = all_exp_window_state_probabilities[expIdx]\n",
    "    \n",
    "    # get the windows corresponding to the start and stop of the bout\n",
    "    desired_first_win_idx, desired_last_win_idx = find_time_window_indices_bounding_start_and_stop_frame(exp_time_wins, \n",
    "                                                                                                         f0, fE)\n",
    "    \n",
    "    # get the windowed probs for this bout\n",
    "    bout_win_state_probs = np.copy(exp_window_state_probabilities[desired_first_win_idx:desired_last_win_idx+1, :]) #+1 to get the last win\n",
    "    \n",
    "    bouts_winStateProbs.append(bout_win_state_probs)\n",
    "    \n",
    "# get all bouts togehter\n",
    "#bouts_winStateProbs = np.concatenate(bouts_winStateProbs, axis=0)\n",
    "    \n",
    "\n",
    "    \n",
    "    \n",
    "    \n",
    "# ----- non fighting ---- #\n",
    "\n",
    "nonbouts_winStateProbs = []\n",
    "\n",
    "for boutIdx in range(numNoNBouts):\n",
    "    \n",
    "    expIdx, f0, fE = figure_nonBout_info[boutIdx]\n",
    "    \n",
    "    exp_time_wins = all_exp_time_windows[expIdx]\n",
    "    exp_window_state_probabilities = all_exp_window_state_probabilities[expIdx]\n",
    "    \n",
    "    # get the windows corresponding to the start and stop of the bout\n",
    "    desired_first_win_idx, desired_last_win_idx = find_time_window_indices_bounding_start_and_stop_frame(exp_time_wins, \n",
    "                                                                                                         f0, fE)\n",
    "    \n",
    "    # get the windowed probs for this bout\n",
    "    bout_win_state_probs = np.copy(exp_window_state_probabilities[desired_first_win_idx:desired_last_win_idx+1, :]) #+1 to get the last win\n",
    "    \n",
    "    nonbouts_winStateProbs.append(bout_win_state_probs)\n",
    "    \n",
    "# get all bouts togehter\n",
    "#nonbouts_winStateProbs = np.concatenate(nonbouts_winStateProbs, axis=0)\n",
    "    \n",
    "\n"
   ]
  },
  {
   "cell_type": "code",
   "execution_count": null,
   "id": "02cabb95-47e1-4314-b7f9-18cc943e2109",
   "metadata": {},
   "outputs": [],
   "source": []
  },
  {
   "cell_type": "code",
   "execution_count": 30,
   "id": "9725c22c-1dd0-4d8b-b7d0-bd24224640e7",
   "metadata": {},
   "outputs": [],
   "source": [
    "boutIdx = 3\n",
    "expIdx, f0, fE = figure_nonBout_info[boutIdx]\n",
    "exp_time_wins = all_exp_time_windows[expIdx]\n",
    "exp_window_state_probabilities = all_exp_window_state_probabilities[expIdx]\n",
    "desired_first_win_idx, desired_last_win_idx = find_time_window_indices_bounding_start_and_stop_frame(exp_time_wins, \n",
    "                                                                                                         f0, fE)"
   ]
  },
  {
   "cell_type": "code",
   "execution_count": 31,
   "id": "694b8658-0d6e-4b62-a9f6-0aafa50067c9",
   "metadata": {},
   "outputs": [
    {
     "data": {
      "text/plain": [
       "(8054, 9657)"
      ]
     },
     "execution_count": 31,
     "metadata": {},
     "output_type": "execute_result"
    }
   ],
   "source": [
    "desired_first_win_idx, desired_last_win_idx"
   ]
  },
  {
   "cell_type": "code",
   "execution_count": 25,
   "id": "81a7eef7-531d-4d5a-af16-283cdd1437ea",
   "metadata": {},
   "outputs": [
    {
     "data": {
      "text/plain": [
       "(9658, 2)"
      ]
     },
     "execution_count": 25,
     "metadata": {},
     "output_type": "execute_result"
    }
   ],
   "source": [
    "exp_time_wins.shape"
   ]
  },
  {
   "cell_type": "code",
   "execution_count": null,
   "id": "15c94db8-dc86-450f-ad8e-6539a32b9507",
   "metadata": {},
   "outputs": [],
   "source": []
  },
  {
   "cell_type": "code",
   "execution_count": 95,
   "id": "5c70d598-18b2-4284-9a89-f3ae8ff7367b",
   "metadata": {},
   "outputs": [
    {
     "data": {
      "text/plain": [
       "33"
      ]
     },
     "execution_count": 95,
     "metadata": {},
     "output_type": "execute_result"
    }
   ],
   "source": [
    "len(bouts_winStateProbs)"
   ]
  },
  {
   "cell_type": "code",
   "execution_count": 96,
   "id": "aec7e5b7-75d3-4ce6-b0c4-d0f07a9db498",
   "metadata": {},
   "outputs": [
    {
     "data": {
      "text/plain": [
       "(360, 11)"
      ]
     },
     "execution_count": 96,
     "metadata": {},
     "output_type": "execute_result"
    }
   ],
   "source": [
    "bouts_winStateProbs[0].shape"
   ]
  },
  {
   "cell_type": "code",
   "execution_count": 97,
   "id": "17d144d4-e60d-4ed8-b88e-45253aad18e9",
   "metadata": {},
   "outputs": [
    {
     "data": {
      "text/plain": [
       "(210, 11)"
      ]
     },
     "execution_count": 97,
     "metadata": {},
     "output_type": "execute_result"
    }
   ],
   "source": [
    "bouts_winStateProbs[1].shape"
   ]
  },
  {
   "cell_type": "code",
   "execution_count": null,
   "id": "9feea848-cda0-403e-be10-3840bfbda06b",
   "metadata": {},
   "outputs": [],
   "source": []
  },
  {
   "cell_type": "code",
   "execution_count": 98,
   "id": "c37c8d6c-de88-4907-9cee-ed20d21789ea",
   "metadata": {},
   "outputs": [
    {
     "data": {
      "text/plain": [
       "51"
      ]
     },
     "execution_count": 98,
     "metadata": {},
     "output_type": "execute_result"
    }
   ],
   "source": [
    "len(nonbouts_winStateProbs)"
   ]
  },
  {
   "cell_type": "code",
   "execution_count": null,
   "id": "66cf9b6f-8d1c-45f8-a1e2-2b9c8765f8dd",
   "metadata": {},
   "outputs": [],
   "source": []
  },
  {
   "cell_type": "code",
   "execution_count": 39,
   "id": "bc99bd31-ceeb-4058-a91a-cea34270650b",
   "metadata": {},
   "outputs": [],
   "source": [
    "epoch_list_winStateProbs = [bouts_winStateProbs, nonbouts_winStateProbs]"
   ]
  },
  {
   "cell_type": "code",
   "execution_count": null,
   "id": "c4aeea88-ee8d-4bcf-9b02-f82e07a9d662",
   "metadata": {},
   "outputs": [],
   "source": []
  },
  {
   "cell_type": "code",
   "execution_count": null,
   "id": "7c0c3b3c-1c57-421a-aeff-d2a07a001f0e",
   "metadata": {},
   "outputs": [],
   "source": []
  },
  {
   "cell_type": "markdown",
   "id": "c8eb6665-2427-4ff1-9a00-18b94847be62",
   "metadata": {},
   "source": [
    "## bootstrapping"
   ]
  },
  {
   "cell_type": "code",
   "execution_count": null,
   "id": "282fa241-eea3-402d-be8c-dec2b9fd0c4d",
   "metadata": {},
   "outputs": [],
   "source": []
  },
  {
   "cell_type": "code",
   "execution_count": 40,
   "id": "c7bd47f5-4ef3-4eca-b93d-21299054f49f",
   "metadata": {},
   "outputs": [],
   "source": [
    "# for fights and nonfights, find the average 1-minute long prob vecs\n",
    "epoch_mean_win_state_probs = []\n",
    "epoch_num_wins_used = []\n",
    "\n",
    "for epoch_win_state_probs in epoch_list_winStateProbs:\n",
    "    \n",
    "    # stack all the prob vecs which occured in this epoch (fight or nonfight)\n",
    "    epoch_all_window_prob_stack = np.vstack(epoch_win_state_probs)\n",
    "    \n",
    "    # record the number of windows we got\n",
    "    epoch_num_wins_used.append(epoch_all_window_prob_stack.shape[0])\n",
    "    \n",
    "    # compute the 1-minute mean across all these measurments\n",
    "    epoch_mean = np.mean(epoch_all_window_prob_stack, axis=0)\n",
    "    epoch_mean_win_state_probs.append(epoch_mean)"
   ]
  },
  {
   "cell_type": "code",
   "execution_count": 41,
   "id": "9c85e204-564c-461f-8a13-e708c87e12f8",
   "metadata": {},
   "outputs": [
    {
     "data": {
      "text/plain": [
       "[array([0.17231156, 0.00253001, 0.30467414, 0.29816621, 0.05928477,\n",
       "        0.02946006, 0.01744026, 0.04000582, 0.02569933, 0.0060137 ,\n",
       "        0.04441415]),\n",
       " array([0.08625122, 0.01533056, 0.14407221, 0.05022556, 0.06395551,\n",
       "        0.04812746, 0.04877009, 0.05114149, 0.09921823, 0.02884373,\n",
       "        0.3618653 ])]"
      ]
     },
     "execution_count": 41,
     "metadata": {},
     "output_type": "execute_result"
    }
   ],
   "source": [
    "epoch_mean_win_state_probs"
   ]
  },
  {
   "cell_type": "code",
   "execution_count": 42,
   "id": "930e87fe-fc3c-4f02-81b5-42c3d7604e95",
   "metadata": {},
   "outputs": [
    {
     "data": {
      "text/plain": [
       "[19936, 106429]"
      ]
     },
     "execution_count": 42,
     "metadata": {},
     "output_type": "execute_result"
    }
   ],
   "source": [
    "epoch_num_wins_used"
   ]
  },
  {
   "cell_type": "code",
   "execution_count": null,
   "id": "581f7cea-16f3-4827-a924-f2b53250da3d",
   "metadata": {},
   "outputs": [],
   "source": []
  },
  {
   "cell_type": "code",
   "execution_count": 43,
   "id": "2f1d0459-64b9-4de4-981b-af7867595b6e",
   "metadata": {},
   "outputs": [
    {
     "name": "stdout",
     "output_type": "stream",
     "text": [
      "finished  0 0.3114466667175293\n",
      "finished  1 1.6978833675384521\n",
      "\n",
      "finished:  1.6981136798858643\n"
     ]
    }
   ],
   "source": [
    "# ---- compute the bootstrapped stddev ---- #\n",
    "\n",
    "# args\n",
    "n_resamples=500\n",
    "\n",
    "\n",
    "t0 = time.time()\n",
    "\n",
    "\n",
    "epoch_bootstrapped_stdevs = []\n",
    "for epochIdx in range(2):\n",
    "\n",
    "    # get the list over all bouts for this epoch (fight or nonfight are the two epochs)\n",
    "    epoch_win_state_probs = epoch_list_winStateProbs[epochIdx]\n",
    "    \n",
    "    # get the number of samples\n",
    "    numSamples = len(epoch_win_state_probs) # number of bouts to bootstrap over\n",
    "    \n",
    "    # grab all the bootstrap resampling data\n",
    "    allSamples_mean_epoch_win_state_probs = [] \n",
    "    for i in range(n_resamples):\n",
    "\n",
    "        #  get the fight indices for this resample \n",
    "        indices=np.random.choice(range(0,numSamples), numSamples)\n",
    "\n",
    "        # get the sample collection of bout epoch state probs\n",
    "        sample_epoch_win_state_probs = []\n",
    "        for sampBoutIdx in indices:\n",
    "            sample_epoch_win_state_probs.append(epoch_win_state_probs[sampBoutIdx])\n",
    "            \n",
    "        # concatenate across the selected fights\n",
    "        sample_epoch_win_state_probs  = np.vstack(sample_epoch_win_state_probs)\n",
    "\n",
    "        # get the sample mean and record \n",
    "        sample_epoch_win_state_probs_mean = np.mean(sample_epoch_win_state_probs, axis=0)\n",
    "        allSamples_mean_epoch_win_state_probs.append(sample_epoch_win_state_probs_mean)\n",
    "    allSamples_mean_epoch_win_state_probs = np.stack(allSamples_mean_epoch_win_state_probs, axis=0)\n",
    "\n",
    "    # get the sdtdev of the bootstrap means\n",
    "    allSamples_stdev = np.std(allSamples_mean_epoch_win_state_probs, axis=0)\n",
    "    epoch_bootstrapped_stdevs.append(allSamples_stdev)\n",
    "\n",
    "    tE = time.time()\n",
    "    print('finished ', epochIdx, tE-t0)\n",
    "    \n",
    "print()\n",
    "tE = time.time()\n",
    "print('finished: ', tE-t0)"
   ]
  },
  {
   "cell_type": "code",
   "execution_count": null,
   "id": "26b6f3a9-8835-476c-8b5e-4c604e103391",
   "metadata": {},
   "outputs": [],
   "source": []
  },
  {
   "cell_type": "code",
   "execution_count": 44,
   "id": "fcb69d3c-c9dc-4322-935b-970133b05a6f",
   "metadata": {},
   "outputs": [
    {
     "data": {
      "text/plain": [
       "[array([0.01033134, 0.00035314, 0.01182466, 0.01284101, 0.00304469,\n",
       "        0.00231478, 0.00085035, 0.00502728, 0.00282336, 0.00084504,\n",
       "        0.00734276]),\n",
       " array([0.00959689, 0.00114004, 0.01366015, 0.00630213, 0.00389557,\n",
       "        0.00566668, 0.00270422, 0.00378904, 0.00489363, 0.0020734 ,\n",
       "        0.02234474])]"
      ]
     },
     "execution_count": 44,
     "metadata": {},
     "output_type": "execute_result"
    }
   ],
   "source": [
    "epoch_bootstrapped_stdevs"
   ]
  },
  {
   "cell_type": "code",
   "execution_count": null,
   "id": "9b510f21-ce2c-45d1-8fb8-61643c1669db",
   "metadata": {},
   "outputs": [],
   "source": []
  },
  {
   "cell_type": "code",
   "execution_count": null,
   "id": "1a6b94ae-11b6-404c-879c-39d514bc8ab1",
   "metadata": {},
   "outputs": [],
   "source": []
  },
  {
   "cell_type": "code",
   "execution_count": 45,
   "id": "ed79814d-08f0-4a46-8a74-d23ef87ae829",
   "metadata": {},
   "outputs": [
    {
     "data": {
      "text/plain": [
       "['winner attack',\n",
       " 'loser attack',\n",
       " 'circling',\n",
       " 'display',\n",
       " 'W approach',\n",
       " 'L approach',\n",
       " 'direct away',\n",
       " 'direct to',\n",
       " 'middle circling',\n",
       " 'parallel',\n",
       " 'non-fight clusters']"
      ]
     },
     "execution_count": 45,
     "metadata": {},
     "output_type": "execute_result"
    }
   ],
   "source": [
    "# define a new order for plotting\n",
    "new_plot_order = [2,3,0,4,8,7,1,5,6,9,10]\n",
    "[all_state_names[i] for i in new_plot_order]\n"
   ]
  },
  {
   "cell_type": "code",
   "execution_count": 46,
   "id": "7217c0d7-effc-4a70-9522-073b0804aad9",
   "metadata": {},
   "outputs": [
    {
     "data": {
      "text/plain": [
       "{2: 0, 3: 1, 0: 2, 4: 3, 8: 4, 7: 5, 1: 6, 5: 7, 6: 8, 9: 9, 10: 10}"
      ]
     },
     "execution_count": 46,
     "metadata": {},
     "output_type": "execute_result"
    }
   ],
   "source": [
    "# a dcionary which maps state indexs to the row i want to draw them\n",
    "correct_place_dictionary = dict(zip(new_plot_order, np.arange(0, numLabelledStates+1)))\n",
    "correct_place_dictionary"
   ]
  },
  {
   "cell_type": "code",
   "execution_count": null,
   "id": "6d544f95-f220-44f2-b2dc-77d479b9c471",
   "metadata": {},
   "outputs": [],
   "source": []
  },
  {
   "cell_type": "code",
   "execution_count": null,
   "id": "050f3e27-fb92-4b5d-8788-ef487f3111cd",
   "metadata": {},
   "outputs": [],
   "source": []
  },
  {
   "cell_type": "markdown",
   "id": "814ff011-1946-42d0-af72-52b519944ab6",
   "metadata": {},
   "source": [
    "## plot v1"
   ]
  },
  {
   "cell_type": "code",
   "execution_count": 47,
   "id": "139d2669-c75d-40c2-bcbc-c3c98d9f4326",
   "metadata": {},
   "outputs": [],
   "source": [
    "fight_means = epoch_mean_win_state_probs[0]\n",
    "nonfight_means = epoch_mean_win_state_probs[1]\n",
    "\n",
    "fight_err = epoch_bootstrapped_stdevs[0]\n",
    "nonfight_err = epoch_bootstrapped_stdevs[1]\n",
    "\n",
    "n = len(all_state_names)\n",
    "xvals = np.arange(n)\n",
    "width = 0.25\n"
   ]
  },
  {
   "cell_type": "code",
   "execution_count": null,
   "id": "0c43f2dd-c23d-46b6-b365-c164b3f18c40",
   "metadata": {},
   "outputs": [],
   "source": []
  },
  {
   "cell_type": "code",
   "execution_count": 48,
   "id": "85180008-9b49-4a6c-bb10-004a8c730f81",
   "metadata": {},
   "outputs": [],
   "source": [
    "# We want to permute based on the new plot order\n",
    "plot_fight_means = np.array([fight_means[i] for i in new_plot_order])\n",
    "plot_fight_err = np.array([fight_err[i] for i in new_plot_order])\n",
    "plot_nonfight_means = np.array([nonfight_means[i] for i in new_plot_order])\n",
    "plot_nonfight_err = np.array([nonfight_err[i] for i in new_plot_order])\n",
    "\n",
    "\n",
    "plot_state_names = [all_state_names[i] for i in new_plot_order]"
   ]
  },
  {
   "cell_type": "code",
   "execution_count": null,
   "id": "eaea3d84-c0b4-431e-842f-54ed36a383ff",
   "metadata": {},
   "outputs": [],
   "source": []
  },
  {
   "cell_type": "code",
   "execution_count": 49,
   "id": "80311551-3b5c-44bf-9cca-0c9b180af42a",
   "metadata": {},
   "outputs": [
    {
     "data": {
      "application/vnd.jupyter.widget-view+json": {
       "model_id": "05d3f483d61b4b21a90145ed1aa87976",
       "version_major": 2,
       "version_minor": 0
      },
      "text/html": [
       "\n",
       "            <div style=\"display: inline-block;\">\n",
       "                <div class=\"jupyter-widgets widget-label\" style=\"text-align: center;\">\n",
       "                    Figure\n",
       "                </div>\n",
       "                <img src='data:image/png;base64,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' width=640.0/>\n",
       "            </div>\n",
       "        "
      ],
      "text/plain": [
       "Canvas(toolbar=Toolbar(toolitems=[('Home', 'Reset original view', 'home', 'home'), ('Back', 'Back to previous …"
      ]
     },
     "metadata": {},
     "output_type": "display_data"
    }
   ],
   "source": [
    "\n",
    "fig, axs = plt.subplots()\n",
    "ax=axs\n",
    "\n",
    "# get colors\n",
    "state_colors = [colorlist[i] for i in new_plot_order] \n",
    "\n",
    "ax.bar(xvals, plot_fight_means, color=state_colors, width=width, edgecolor='black', yerr=plot_fight_err,\n",
    "       label='fight')\n",
    "\n",
    "ax.bar(xvals+width, plot_nonfight_means, color=state_colors, width=width, edgecolor='black', yerr=plot_nonfight_err, hatch='//',\n",
    "       label='nonfight')\n",
    "\n",
    "xticks = xvals +  width/2\n",
    "xticklabels = list(plot_state_names)\n",
    "ax.set_xticks(xticks)\n",
    "ax.set_xticklabels(xticklabels, rotation=90)\n",
    "\n",
    "ax.legend()\n",
    "\n",
    "ax.set_ylabel('Probability')\n",
    "\n",
    "fig.tight_layout()"
   ]
  },
  {
   "cell_type": "code",
   "execution_count": null,
   "id": "b50ee8b4-16c3-4fe3-8fee-b5eb5427d805",
   "metadata": {},
   "outputs": [],
   "source": []
  },
  {
   "cell_type": "markdown",
   "id": "181a8518-439a-478d-989f-34a5fffd2b04",
   "metadata": {},
   "source": [
    "## paper version"
   ]
  },
  {
   "cell_type": "code",
   "execution_count": null,
   "id": "505687dd-2ba5-4f30-b3e4-490d44422bcf",
   "metadata": {},
   "outputs": [],
   "source": [
    "imsavepath = '/home/liam/temp/image_transfer/figure6_panel_B.png'\n",
    "\n",
    "\n",
    "fig, axs = plt.subplots(figsize=(6,1.75))\n",
    "ax=axs\n",
    "\n",
    "# get colors\n",
    "state_colors = [colorlist[i] for i in new_plot_order] \n",
    "\n",
    "ax.bar(xvals, plot_fight_means, color=state_colors, width=width, edgecolor='black', yerr=plot_fight_err,\n",
    "       label='fight')\n",
    "\n",
    "ax.bar(xvals+width, plot_nonfight_means, color=state_colors, width=width, edgecolor='black', yerr=plot_nonfight_err, hatch='///',\n",
    "       label='nonfight')\n",
    "\n",
    "xticks = xvals +  width/2\n",
    "xticklabels = list(plot_state_names)\n",
    "ax.set_xticks(xticks)\n",
    "ax.set_xticklabels(xticklabels, rotation=90)\n",
    "\n",
    "ax.legend()\n",
    "\n",
    "\n",
    "# -----------------------#\n",
    "ax.set_ylabel('')\n",
    "ax.set_xlabel('')\n",
    "ax.get_legend().remove()\n",
    "ytop = 0.45\n",
    "ax.set_yticks([0, ytop])\n",
    "ax.set_yticklabels([])\n",
    "#ax.set_xlim(0, np.max(xticks)+2) # add space for legend\n",
    "ax.set_ylim(0,ytop)\n",
    "ax.set_xticklabels([])\n",
    "\n",
    "# tick params\n",
    "ax.xaxis.set_tick_params(width=2, length=4)\n",
    "ax.yaxis.set_tick_params(width=2, length=4)\n",
    "\n",
    "# make the left and rights thicker for each axis\n",
    "for axis in ['top', 'bottom', 'left','right']:\n",
    "    ax.spines[axis].set_linewidth(2)\n",
    "\n",
    "\n",
    "fig.tight_layout()\n",
    "\n",
    "fig.savefig(imsavepath, dpi=300, transparent=True)"
   ]
  },
  {
   "cell_type": "code",
   "execution_count": null,
   "id": "b71ee916-f595-40f4-9291-538ca180b79e",
   "metadata": {},
   "outputs": [],
   "source": []
  },
  {
   "cell_type": "code",
   "execution_count": 53,
   "id": "8d28db74-c1ec-4f69-9166-ef2eb07b4166",
   "metadata": {},
   "outputs": [
    {
     "data": {
      "application/vnd.jupyter.widget-view+json": {
       "model_id": "751016e6ce6e4ab4b17b79b525b9e060",
       "version_major": 2,
       "version_minor": 0
      },
      "text/html": [
       "\n",
       "            <div style=\"display: inline-block;\">\n",
       "                <div class=\"jupyter-widgets widget-label\" style=\"text-align: center;\">\n",
       "                    Figure\n",
       "                </div>\n",
       "                <img src='data:image/png;base64,iVBORw0KGgoAAAANSUhEUgAAAUAAAABuCAYAAABWQcpYAAAAOXRFWHRTb2Z0d2FyZQBNYXRwbG90bGliIHZlcnNpb24zLjQuMywgaHR0cHM6Ly9tYXRwbG90bGliLm9yZy/MnkTPAAAACXBIWXMAAA9hAAAPYQGoP6dpAAAOJUlEQVR4nO3dfXAb5Z0H8K8cx5Ff8ub4BeXFMYmxLNdkoDGdAknbO2gzQJnmyABHgcAl6ctdoaS47VGYjq+hFDK8DwyFFNwOgaPpQKaBlBS4DgeOCW8NeaO2Yyd21rEkyxu/RVqtZNm6P3RaO0ROImu1z8r7/czsjLTZ3d+jjPT1s7vP7tqi0WgUREQWlCW6AUREojAAiciyGIBEZFkMQCKyLAYgEVkWA5CILIsBSESWxQAkIstiABKRZTEAiciyGIBEZFkMQCKyLAYgEVlWdiorezweeDweqKoKn8+HmpoaZGentEkionMWiUTg9XpRW1sLu92e/AaiKaivr48C4MSJEyehU2Nj46QyzJbK/QDjPcCuri6sXr0ajY2NWLhw4WQ3R0SUlOPHj2PlypVoa2tDRUVF0uuntL/qcDjgcDhQWFgIAFi4cCHKy8tT2SQRUdIme+iNJ0GIyLIYgERkWQxAIrIsBiARWRYDkIgsiwFIRJbFACQiy2IAEpFlMQCJSIhAIACbzQabzYZAICCkDQxAIrIsBiARWRbvXUVEhpMkCV1dXdr7ffv2ITc3F0VFRSgrKzOsHQxAIjKUJEmoqnIiGFS1eStWrAAA2GfMQOvhw4aFIHeBichQsiwjGFSxdkWJNi8LQNm8GVBDIciybFhbGIBEJETp7LEd0C8tysN3Lys2vA0MQCIS4khPSHu97mulmCYgjXgMkIiE2PH3E7hocT6+/0/nIXuaDbJ/2PA2sAdIREIsLbVr4ScKA5CIhLjukiKh4QcwAIlIEBHH/L5IeBPMcD0gEVmT0JMgRo0GDwQCKCgoAAD4/X7k5+frtm0iylzCAlCSJLiqnFASjAbPy7WjuaVVlxA0yyU3RHRm7v6w4TWF7QLLsgwlqOKZ7yzS5r2z/gK8sGYxlKCqy2hwSZJQ5XRpwQrEQnb58uWocrogSVLKNYgodR29Kl7+oNfwusKPAS5z5CGw6WIENl2MyxYXwFls123bsiwjqCr418Ifa/N+XLIZt86rQ1BVDL3khogS6+hV8fguN0pmTje8tiUGQi/MWYIny3Zq77vCMwS2hoji4uG3YG4Orqudh4ff7Da0viUCkIjMx90fxit7ZCyYm4O7Vs1Hz5CFjgESkbW9/EGvFn72HDFRxAAkIiFKZk4XGn4AA5CIBLnp0mKh4QcwAIlIkJzpYq8DBhiARGRhDEAisiwGIBGZQp8/YnhNBiARCdczGMbWJp/hdRmARCRUz2AYj77ZDXu28XHEACQiYeLhl5uThZsvN/6pcLwUjoiE6PNH8MqeXuTmZOHuqxZgQOExQCKyiK1NPi38ZueJ6YsxAIlICHu22PADGIBEJMjNlxcLDT+AAUhEghTYp4luAgOQiKyLAagTPt6TKPNwGIwO+OQ5otT51RHDazIAUyRJElwuJxQlweM98+xobtbn8Z5EU9mgEsHLTcY/FY4BmCJZlqEoKl56Yg5cFWP/nc3tEdyycQCyLDMAic5gUIngsV3dUCOjhtc2bQAGg0HYbLEbJvr9fuTn5wtu0Zm5KrLx5QuNf6wfUSaLh18wPIpbLy/Bb//mNbS+aQOwpaVFe81jakRTj18dQcN7PQiGR1F39QKow+wBwntyGFk2YMOGDdq8+DE1+4wctB5uYwgSTQEvN/UiMhpF3dULUDo7B8dk9ewr6cx0w2AG1RGMRoFnvrNIm3f3yhIAgBoKQ5ZlUU0jIh2pkVEt/EQxXQDGXVBk114/1ujD6uo54hpDRLq79fISoeEHmDgAc6dn4ZnVZbDZgA2XFKFuRYnoJhGRjgoLxB+BM20A7mwZxI92SFhfW4THr1kIW5b4R+gR0dRi2gB86H+9WvhlMfyIKA1MG4Crq+cw/IgsJDwcNbymaQOwbkUJw88kJElCU1OTdrOHpqYm7N27F5IkiW4aTRFqeBSv7OGlcBoe8zMHSZLgrKqCGgxq87Rxmbm5aG1p4bhMSokaHsWTb7nhOzlseG3TBuBU8dlnn2H58uUAgN27d2fcFS2yLEMNBnHhuluQ7yjV5gc8PTjY8BKvdaaUxMOvuz+Mmy8rxu/fN/bZwAzANPH4RpCVlfiKlky8S0y+oxSzyhadfUGicxQejmrh95Or5kPETp9pjwF+0Z5jftFNSMrAUBSjo4B9xti83a/Ow0tPzIGiqBl/RUt/21HRTaAM98qeXi38zi+2n32FNMiIHuBfWwfxi7e6RTdjUp57cDbWrsnT3ufajT/Oobfeg5+j9bUdoptBGc53chh1Vy8QFn5ABgTgX1sHcdMfO3BpWQEaOzOrFwgANZXpvUWWJEkJe5PpOs7Ye/Bz7Hu2AXOXLkH/4Xbdt0/WcfNlxULDDzB5AMbDb1XlLNStKME3ftcmuklCTBRyHo8Ha66/HqFxZ2jjcmbY0XZY3+OM8fArrqlG+aor8PHmJ3TbNlnP/LlirwMGTByAe475cd/bbqyqnIUXry/H5z7jb5VjBpIkwelyQVWUCZepfugF5C9xAgC6X/sD3NueRzik6nqGtr/tKA5vfx3FNdVY9r3b4Hd7dNkuMHHAA+nryRIBJg7AX7zVjaucs/Hi9eXIyU7PuRoRQ1SGI8mNdpdlGaqinBJy2r81vo2OpzYhf4kTM6svQsdzm+He9jzm37gB7m3P69lstL62AyUXfgnLvncbsrL1+9pIkgSn0wlVTfwHLi8vD83NzRkRgvGHY8XP9qfjO2VEDb0FAgEUFBQAiN3d3UxMG4CXlhWkLfyGRvphgy3hEJVcex5aWtPzgwuHo7hn89Ck1o2H3HiBo63a647nNqPjqftx/p2/RNHKVboH4NylS1IOv0Q/3s7OTqiqij/c+xBcZUtOWb5ZOorbf3NPRow1lCQJLqcLijrWU9eGPdnz0KzDd0qSJFRVOREMZs4DuBI9MbGzszPhsiPG3xDavAF4/zcdaev5BUf9iCKKW+fVoXT62Ni2nuEubD3xaFp+cOFwFDfe0Y/dn+h/Fji+23v+nb/E+T/4T5z8xz7da1zwL99OOfxcLhcU5fSAAABX2RJcXFmdUhtFkmUZiqpgS/nT+ND/MRrkF7GuaC2+WvAVfL/zDl2+U7IsIxhUUXnRTNz1cBWyp8d+H8daA/jNDw6Z7g/FmQL7iyIjUWz/xPihYaYNwOxp6R+iWDp9ERblVGjvAyMn01InHn5vvhvCI/fNxMZf6VtnfPilS1b2tJTWjz09Tzmtp7fr40b8V8NTidcZGkipZrokOmbZ3NwMAFr43ef4OX7m2Ih9ygHd69/1cBWqa+fovt04vUYWxAN7/ddLcd6csdEQh7oU7Njbp72PjESx5V0vjvQYf5zftAFotKGRfmzre1r37Q5HxsJv+7Nz4SiZBkDfAJx/44aUw2+iY0vxH7ZevtjTa5ESD6j29sn40WO/0rW2HhLt6o43PvzSJd7zS4dEPfU4u92O1tbkd7PPmzMdi8fd4d0zENZex8PvUFcAa75ShD99ZGwvkAGIWPg93XMvwtHTh5Ok6p7NQ/jg78PY/uxcXHOFHXsP6r8LvGDN7Smtf6YbHojg7ZPxrbp18AcnPvMtyvhd3Ur72N7DO4Pv4gHPZqwrWqtL+J2pl5lO8Z76o/e+hKVlLgDAwJCMn2/+N/hOuHXdzR4ZhRZ+P7zCgdl5qe1lTEbGBGCzT/9wAsbCT40GcEPhnWiQH9B1+7s/Gcaft8TCz6wmuuEBAMgH/4H213edto6/W79hMOPFw2/I78czd9fjhvqNumxX77OnlfYKXJS3THt/WI2NUV1b9F1d2upyOaEo4oZ+LS1zoabyy+jt86LuwVsQiYTPvlKStn8i46hPxQ+vcGBZWb6Qp8JlRAB+ejyAjW90nX3BJAVGTmKr/CjUaAB3lDyIUBp6gI/cN9PU4TdeohseBDw9py032HEMzf/9qu71x4ff2481IKBTD1CSJFQ6KxFSQ9o87ZZeeXa0muzsaawXpuLe52qw2Jmvzf/oHRkNDxw5bfmO5skNLTlbL7O3z4tb6v4Zfv8gfn33FvxH/XWTqjORIz0q/v3KWPiJklIAejweeDwe7TT38ePHz3ldt9sNAGjq9MMzNLZbuN8dOGV++wkVm/7mRkl+DgKDYbjdbhQWFiZV44h6CIORE9r8rnDsS7RVfgSjGME1c26Db/g45IhHWy/ZGu9/FIK7Z0Sbv/dQ7C9mdBTY+T9jf9naOyNJ1Yhvv//TJoR8p/a6hpr3J/w35f+PqyVd4/ARqAODp9aQuk75N8XrQ/vru5AzayZGTvQlXeP9A5/CLY/d8mhvW+wH95cP38MLO1+FEgri/vV3oa2rE+1uKanPAQA+nw8+36m3VGpvb0dIDWHuJcWYVT22nfAJFZ6dx3DgwAGMjp7bGIz45/jg5EfwhL3a/P2BzxPO7wgdS/ozxGsMyGHkzxr7iZ4ciP1O9jf1Q/bEwrzrSAANm9qTrtHd3Y0rr7xywvGX7364E9t2bkEwpOCn6x9Ed8/kP0ebV8WAEtHmd8mxtl96wUxEEcV+KRbgvUPJ/TaAscyJRCJnWXIC0RTU19dHAXDixImT0KmxsXFSGWaLRqNRTFK8B6iqKnw+H2pqapCd4lUChw4dwrXXXos33ngDNTU1KW2LNcxfYyp8BtYQVyMSicDr9aK2thZ2e/KHmlJKK4fDAYfDkcomTtPXFxsfNH/+fJSXl+u6bdYwX42p8BlYQ2yNioqKsy80AdPdENXhcKC+vl73YGUNc9aYCp+BNcxX41yltAtMRJTJTNcDJCIyCgOQiCyLAUhElsUAJCLLYgASkWUxAInIshiARGRZDEAisiwGIBFZFgOQiCyLAUhElsUAJCLLYgASkWX9H+ZGpAU7yFOAAAAAAElFTkSuQmCC' width=320.0/>\n",
       "            </div>\n",
       "        "
      ],
      "text/plain": [
       "Canvas(toolbar=Toolbar(toolitems=[('Home', 'Reset original view', 'home', 'home'), ('Back', 'Back to previous …"
      ]
     },
     "metadata": {},
     "output_type": "display_data"
    }
   ],
   "source": [
    "imsavepath = '/home/liam/temp/image_transfer/figure6_B.png'\n",
    "\n",
    "\n",
    "fig, axs = plt.subplots(figsize=(3.2, 1.1))\n",
    "ax=axs\n",
    "\n",
    "# get colors\n",
    "state_colors = [colorlist[i] for i in new_plot_order] \n",
    "\n",
    "ax.bar(xvals, plot_fight_means, color=state_colors, width=width, edgecolor='black', yerr=plot_fight_err,\n",
    "       label='fight')\n",
    "\n",
    "ax.bar(xvals+width, plot_nonfight_means, color=state_colors, width=width, edgecolor='black', yerr=plot_nonfight_err, hatch='///',\n",
    "       label='nonfight')\n",
    "\n",
    "xticks = xvals +  width/2\n",
    "xticklabels = list(plot_state_names)\n",
    "ax.set_xticks(xticks)\n",
    "ax.set_xticklabels(xticklabels, rotation=90)\n",
    "\n",
    "ax.legend()\n",
    "\n",
    "\n",
    "# -----------------------#\n",
    "ax.set_ylabel('')\n",
    "ax.set_xlabel('')\n",
    "ax.get_legend().remove()\n",
    "ytop = 0.45\n",
    "ax.set_yticks([0, ytop])\n",
    "ax.set_yticklabels([])\n",
    "#ax.set_xlim(0, np.max(xticks)+2) # add space for legend\n",
    "ax.set_ylim(0,ytop)\n",
    "ax.set_xticklabels([])\n",
    "\n",
    "# tick params\n",
    "ax.xaxis.set_tick_params(width=1, length=2)\n",
    "ax.yaxis.set_tick_params(width=1, length=2)\n",
    "\n",
    "# make the left and rights thicker for each axis\n",
    "for axis in ['top', 'bottom', 'left','right']:\n",
    "    ax.spines[axis].set_linewidth(0.9)\n",
    "\n",
    "\n",
    "fig.tight_layout()\n",
    "\n",
    "fig.savefig(imsavepath, dpi=900, transparent=True)"
   ]
  },
  {
   "cell_type": "code",
   "execution_count": null,
   "id": "610db4af-9703-4d20-aea0-964a5807def6",
   "metadata": {},
   "outputs": [],
   "source": []
  },
  {
   "cell_type": "code",
   "execution_count": null,
   "id": "809896a5-cb83-43a1-8cf8-3c31766b0ae6",
   "metadata": {},
   "outputs": [],
   "source": []
  },
  {
   "cell_type": "code",
   "execution_count": null,
   "id": "edd57067-c30d-40ae-b4ba-2a0780865324",
   "metadata": {},
   "outputs": [],
   "source": []
  },
  {
   "cell_type": "code",
   "execution_count": null,
   "id": "d41f003b-6535-40e3-a07a-3f6020a4717c",
   "metadata": {},
   "outputs": [],
   "source": []
  },
  {
   "cell_type": "code",
   "execution_count": null,
   "id": "06f4f46d-7899-44e5-8f38-9c3340885b03",
   "metadata": {},
   "outputs": [],
   "source": []
  },
  {
   "cell_type": "markdown",
   "id": "f57885f8-52da-40cd-b0d7-4599ba7fc50c",
   "metadata": {},
   "source": [
    "# Panel C"
   ]
  },
  {
   "cell_type": "code",
   "execution_count": null,
   "id": "45b04919-be00-4789-9687-46cb03d3971f",
   "metadata": {},
   "outputs": [],
   "source": []
  },
  {
   "cell_type": "markdown",
   "id": "1682a85c-0173-42d1-8f0c-3237c0489350",
   "metadata": {},
   "source": [
    "## compute the windowed probabilties"
   ]
  },
  {
   "cell_type": "code",
   "execution_count": 54,
   "id": "ff9ea8fb-a458-49fe-86b6-244dae4af66b",
   "metadata": {},
   "outputs": [
    {
     "name": "stdout",
     "output_type": "stream",
     "text": [
      "FishTank20200127_143538\n",
      "FishTank20200129_140656\n",
      "FishTank20200130_153857\n",
      "FishTank20200130_181614\n",
      "FishTank20200207_161445\n",
      "FishTank20200213_154940\n",
      "FishTank20200214_153519\n",
      "FishTank20200217_160052\n",
      "FishTank20200218_153008\n",
      "FishTank20200316_163320\n",
      "FishTank20200327_154737\n",
      "FishTank20200330_161100\n",
      "FishTank20200331_162136\n",
      "FishTank20200520_152810\n",
      "FishTank20200521_154541\n",
      "FishTank20200525_161602\n",
      "FishTank20200526_160100\n",
      "FishTank20200527_152401\n",
      "FishTank20200824_151740\n",
      "FishTank20200828_155504\n",
      "FishTank20200902_160124\n",
      "FishTank20200903_160946\n"
     ]
    }
   ],
   "source": [
    "# compute the windowed state probabilities for each experiment\n",
    "window_size= 6000 #6000\n",
    "window_step=100\n",
    "\n",
    "all_exp_window_state_probabilities = []\n",
    "all_exp_time_windows = []\n",
    "\n",
    "for expIdx in range(len(expNames)):\n",
    "    expName = expNames[expIdx]\n",
    "    print(expName)\n",
    "    exp_cls_tseries = np.copy(all_exps_edited_postProced_clusterIdx_tseries[expIdx])\n",
    "    exp_numFrames = exp_cls_tseries.shape[0]\n",
    "    exp_time_windows = return_overlapping_windows_for_timeframes(exp_numFrames, window_size=window_size, window_step=window_step)\n",
    "    exp_window_state_probabilities = compute_state_probabilities_in_time_windows(exp_cls_tseries, exp_time_windows, numLabelledStates)\n",
    "    all_exp_window_state_probabilities.append(exp_window_state_probabilities)\n",
    "    all_exp_time_windows.append(exp_time_windows)"
   ]
  },
  {
   "cell_type": "code",
   "execution_count": null,
   "id": "de702075-aaa4-436a-bdd4-41fa3eab5654",
   "metadata": {},
   "outputs": [],
   "source": []
  },
  {
   "cell_type": "markdown",
   "id": "db82c617-e889-49af-a9da-98cf23bb9719",
   "metadata": {},
   "source": [
    "## plot rough"
   ]
  },
  {
   "cell_type": "code",
   "execution_count": null,
   "id": "c68eea04-8e47-452e-b473-d73fccd090c3",
   "metadata": {},
   "outputs": [],
   "source": []
  },
  {
   "cell_type": "code",
   "execution_count": 55,
   "id": "62642a96-9347-4774-8a84-a1decfc19faa",
   "metadata": {},
   "outputs": [
    {
     "data": {
      "text/plain": [
       "['winner attack',\n",
       " 'loser attack',\n",
       " 'circling',\n",
       " 'display',\n",
       " 'W approach',\n",
       " 'L approach',\n",
       " 'direct away',\n",
       " 'direct to',\n",
       " 'middle circling',\n",
       " 'parallel',\n",
       " 'non-fight clusters']"
      ]
     },
     "execution_count": 55,
     "metadata": {},
     "output_type": "execute_result"
    }
   ],
   "source": [
    "# define a new order for plotting\n",
    "new_plot_order = [2,3,0,4,8,7,1,5,6,9,10]\n",
    "[all_state_names[i] for i in new_plot_order]\n"
   ]
  },
  {
   "cell_type": "code",
   "execution_count": 56,
   "id": "06e4b431-97ee-43d8-b798-2e2946b6cf1d",
   "metadata": {},
   "outputs": [
    {
     "data": {
      "text/plain": [
       "{2: 0, 3: 1, 0: 2, 4: 3, 8: 4, 7: 5, 1: 6, 5: 7, 6: 8, 9: 9, 10: 10}"
      ]
     },
     "execution_count": 56,
     "metadata": {},
     "output_type": "execute_result"
    }
   ],
   "source": [
    "# a dcionary which maps state indexs to the row i want to draw them\n",
    "correct_place_dictionary = dict(zip(new_plot_order, np.arange(0, numLabelledStates+1)))\n",
    "correct_place_dictionary"
   ]
  },
  {
   "cell_type": "code",
   "execution_count": null,
   "id": "7fe51896-392e-45dc-89cf-2950b9ed5d74",
   "metadata": {},
   "outputs": [],
   "source": []
  },
  {
   "cell_type": "code",
   "execution_count": 66,
   "id": "f7b7d9ad-494b-4cf4-a900-640d1f1adcd1",
   "metadata": {},
   "outputs": [
    {
     "data": {
      "text/plain": [
       "array([[ 31500, 175400],\n",
       "       [301300, 319600]])"
      ]
     },
     "execution_count": 66,
     "metadata": {},
     "output_type": "execute_result"
    }
   ],
   "source": [
    "expIdx = 2\n",
    "exp_fight_bout_lims = figure_bout_info[figure_bout_info[:,0]==expIdx][:, 1:3]\n",
    "exp_fight_bout_lims"
   ]
  },
  {
   "cell_type": "code",
   "execution_count": null,
   "id": "642ddad3-007a-483f-a34e-9f5ff764bff6",
   "metadata": {},
   "outputs": [],
   "source": []
  },
  {
   "cell_type": "code",
   "execution_count": null,
   "id": "d2765b78-6716-43e4-9409-364de42c952d",
   "metadata": {},
   "outputs": [],
   "source": []
  },
  {
   "cell_type": "code",
   "execution_count": 58,
   "id": "a0db180c-2ab3-4131-ac6e-8cdff8b9f9c7",
   "metadata": {},
   "outputs": [
    {
     "data": {
      "application/vnd.jupyter.widget-view+json": {
       "model_id": "5d0d653b4f2343238ab80f69244be31f",
       "version_major": 2,
       "version_minor": 0
      },
      "text/html": [
       "\n",
       "            <div style=\"display: inline-block;\">\n",
       "                <div class=\"jupyter-widgets widget-label\" style=\"text-align: center;\">\n",
       "                    Figure\n",
       "                </div>\n",
       "                <img src='data:image/png;base64,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' width=600.0/>\n",
       "            </div>\n",
       "        "
      ],
      "text/plain": [
       "Canvas(toolbar=Toolbar(toolitems=[('Home', 'Reset original view', 'home', 'home'), ('Back', 'Back to previous …"
      ]
     },
     "metadata": {},
     "output_type": "display_data"
    }
   ],
   "source": [
    "expIdx = 2\n",
    "#imsavepath = '/mnt/e/OneDrive/illustrator_projects/paper_figures/figure6/panel_A_v2.png'\n",
    "exp_fight_bout_lims = figure_bout_info[figure_bout_info[:,0]==expIdx][:, 1:3]\n",
    "\n",
    "\n",
    "t0 = time.time()\n",
    "\n",
    "\n",
    "# ---- parse and prepare data ------\n",
    "expName = expNames[expIdx]\n",
    "#print(expName)\n",
    "# get time windows\n",
    "exp_numFrames = (all_exps_edited_postProced_clusterIdx_tseries[expIdx]).shape[0]\n",
    "exp_time_windows = return_overlapping_windows_for_timeframes(exp_numFrames, window_size=window_size, window_step=window_step)\n",
    "window_mids = np.mean(exp_time_windows, axis=1)\n",
    "numWins = exp_time_windows.shape[0]\n",
    "# get the probabilities (computed cell above)\n",
    "exp_windowed_state_probabilities = all_exp_window_state_probabilities[expIdx]\n",
    "# get colors\n",
    "state_colors = [colorlist[i] for i in range(numLabelledStates+1)] #plus 1 for non-fight-clusters\n",
    "\n",
    "\n",
    "# find the max y vals, for yrange and ytickmax\n",
    "states_y_max = np.zeros((totalNumStates,))\n",
    "states_y_tick_max = np.zeros((totalNumStates,))\n",
    "for stateIdx in range(totalNumStates):\n",
    "    maxval = np.round(np.max(exp_windowed_state_probabilities[:,stateIdx]), 2)\n",
    "    states_y_max[stateIdx] = maxval*1.2\n",
    "    states_y_tick_max[stateIdx] = maxval\n",
    "\n",
    "\n",
    "# ----------- prepare the figure ----------#\n",
    "\n",
    "    \n",
    "\n",
    "# prepare the figure\n",
    "nrows = numLabelledStates+1\n",
    "\n",
    "fig = plt.figure(figsize=(6,5))\n",
    "gs = fig.add_gridspec(nrows=nrows, hspace=0)\n",
    "axs = gs.subplots(sharex=True, sharey=False)\n",
    "\n",
    "# loop over rows to draw clusters, but use new_plot_order\n",
    "# to draw them on the right axis\n",
    "for i in range(nrows):    \n",
    "    \n",
    "    correct_axis_idx = correct_place_dictionary[i]\n",
    "    ax = axs[correct_axis_idx]\n",
    "    \n",
    "    # everything else from now on uses i\n",
    "    \n",
    "    stateIdx = i\n",
    "    ax.plot(window_mids, exp_windowed_state_probabilities[:,stateIdx], \n",
    "            color=state_colors[stateIdx], alpha=0.9, linewidth=1.5, label='                  ')\n",
    "\n",
    "    \n",
    "    \n",
    "    # plot the fight boundaries\n",
    "    for boutIdx in range(exp_fight_bout_lims.shape[0]):\n",
    "        f0, fE = exp_fight_bout_lims[boutIdx, 0], exp_fight_bout_lims[boutIdx, 1]\n",
    "        ax.axvline(f0, linestyle='--', color='black', alpha=0.5)\n",
    "        ax.axvline(fE, linestyle='--', color='black', alpha=0.5)\n",
    "\n",
    "\n",
    "    # xticks\n",
    "    mins_between_ticks = 10\n",
    "    numWins = exp_time_windows.shape[0]\n",
    "    xtick_max = int(numWins*window_step)\n",
    "    exp_numMins = (exp_time_windows[-1][-1] / 100)/60\n",
    "    xsteps_per_min = xtick_max/exp_numMins\n",
    "    xticks = np.arange(0, xtick_max, mins_between_ticks*xsteps_per_min)\n",
    "    xticklabels = [mins_between_ticks*i for i in range(len(xticks))]\n",
    "    ax.set_xticks(xticks);\n",
    "    ax.set_xticklabels(xticklabels);\n",
    "    \n",
    "    # # yticks\n",
    "    # plot_max_y = np.max(exp_windowed_state_probabilities[:,stateIdx])\n",
    "    # print(all_state_names[i], plot_max_y)\n",
    "    # ax.set_yticks([0, plot_max_y])\n",
    "    # ax.set_yticklabels([0, np.round(plot_max_y, decimals=2)])\n",
    "\n",
    "    # plot limits\n",
    "    ax.set_xlim(0, window_mids[-1])\n",
    "    ax.set_ylim(bottom=0, top=states_y_max[stateIdx])\n",
    "    \n",
    "    # set the yticks\n",
    "    ax.set_yticks([0, states_y_tick_max[stateIdx]])\n",
    "    ax.set_yticklabels([0, states_y_tick_max[stateIdx]])\n",
    "    \n",
    "    # make the legend\n",
    "    ax.legend(frameon=False, loc='best')\n",
    "\n",
    "    # axes labels\n",
    "    ax.set_ylabel(all_state_names[i]+'\\n prob')\n",
    "    \n",
    "    # tick params\n",
    "    ax.xaxis.set_tick_params(width=2, length=4)\n",
    "    ax.yaxis.set_tick_params(width=2, length=4)\n",
    "    \n",
    "    # make the left and rights thicker for each axis\n",
    "    for axis in ['left','right']:\n",
    "        ax.spines[axis].set_linewidth(2)\n",
    "        \n",
    "    # turn off all the interior x axes    \n",
    "    for ii in range(numLabelledStates):\n",
    "        axs[ii].spines['bottom'].set_visible(False)\n",
    "        axs[ii+1].spines['top'].set_visible(False)\n",
    "        \n",
    "    # set the gridlines\n",
    "    #ax.grid(alpha=0.3)\n",
    "    ax.axhline(y=0, color='grey', alpha=0.3)\n",
    "    ax.axhline(y=states_y_tick_max[stateIdx], color='grey', alpha=0.2)\n",
    "        \n",
    "    ### EXTRAS TURN OFF PLOT ILLUSTRATOR VERSION ####\n",
    "    #ax.set_yticklabels([])\n",
    "    ax.set_xticklabels([])\n",
    "    ax.set_xlabel('')\n",
    "    ax.set_ylabel('')\n",
    "    ax.get_legend().remove()\n",
    "    \n",
    "    \n",
    "    \n",
    "# ----------------------------------------------------#\n",
    "\n",
    "\n",
    "# make the very top and very bottoms lines thicker\n",
    "ax = axs[0]\n",
    "for axis in ['top']:\n",
    "    ax.spines[axis].set_linewidth(2)\n",
    "ax = axs[-1]\n",
    "for axis in ['bottom']:\n",
    "    ax.spines[axis].set_linewidth(2)\n",
    "\n",
    "\n",
    "fig.tight_layout()\n",
    "\n",
    "#fig.savefig(imsavepath, dpi=300, transparent=False)"
   ]
  },
  {
   "cell_type": "code",
   "execution_count": null,
   "id": "c8214ce9-cb22-4101-9f1e-97d0561d0e00",
   "metadata": {},
   "outputs": [],
   "source": []
  },
  {
   "cell_type": "markdown",
   "id": "7af72838-6d78-4387-a895-8ee87a281f84",
   "metadata": {},
   "source": [
    "## paper version"
   ]
  },
  {
   "cell_type": "code",
   "execution_count": 79,
   "id": "eb918684-34d6-477b-8900-25b8d0329e4c",
   "metadata": {},
   "outputs": [
    {
     "data": {
      "application/vnd.jupyter.widget-view+json": {
       "model_id": "ef015bb446fe433e874b694911aea27a",
       "version_major": 2,
       "version_minor": 0
      },
      "text/html": [
       "\n",
       "            <div style=\"display: inline-block;\">\n",
       "                <div class=\"jupyter-widgets widget-label\" style=\"text-align: center;\">\n",
       "                    Figure\n",
       "                </div>\n",
       "                <img src='data:image/png;base64,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' width=600.0/>\n",
       "            </div>\n",
       "        "
      ],
      "text/plain": [
       "Canvas(toolbar=Toolbar(toolitems=[('Home', 'Reset original view', 'home', 'home'), ('Back', 'Back to previous …"
      ]
     },
     "metadata": {},
     "output_type": "display_data"
    }
   ],
   "source": [
    "expIdx = 2\n",
    "imsavepath = '/home/liam/temp/image_transfer/fig6_panel_A_v4.png'\n",
    "exp_fight_bout_lims = figure_bout_info[figure_bout_info[:,0]==expIdx][:, 1:3]\n",
    "\n",
    "t0 = time.time()\n",
    "\n",
    "\n",
    "# ---- parse and prepare data ------\n",
    "expName = expNames[expIdx]\n",
    "#print(expName)\n",
    "# get time windows\n",
    "exp_numFrames = (all_exps_edited_postProced_clusterIdx_tseries[expIdx]).shape[0]\n",
    "exp_time_windows = return_overlapping_windows_for_timeframes(exp_numFrames, window_size=window_size, window_step=window_step)\n",
    "window_mids = np.mean(exp_time_windows, axis=1)\n",
    "numWins = exp_time_windows.shape[0]\n",
    "# get the probabilities (computed cell above)\n",
    "exp_windowed_state_probabilities = all_exp_window_state_probabilities[expIdx]\n",
    "# get colors\n",
    "state_colors = [colorlist[i] for i in range(numLabelledStates+1)] #plus 1 for non-fight-clusters\n",
    "\n",
    "\n",
    "# find the max y vals, for yrange and ytickmax\n",
    "states_y_max = np.zeros((totalNumStates,))\n",
    "states_y_tick_max = np.zeros((totalNumStates,))\n",
    "for stateIdx in range(totalNumStates):\n",
    "    maxval = np.round(np.max(exp_windowed_state_probabilities[:,stateIdx]), 2)\n",
    "    states_y_max[stateIdx] = maxval*1.2\n",
    "    states_y_tick_max[stateIdx] = maxval\n",
    "\n",
    "\n",
    "# ----------- prepare the figure ----------#\n",
    "\n",
    "    \n",
    "\n",
    "# prepare the figure\n",
    "nrows = numLabelledStates+1\n",
    "\n",
    "fig = plt.figure(figsize=(6,5))\n",
    "gs = fig.add_gridspec(nrows=nrows, hspace=0)\n",
    "axs = gs.subplots(sharex=True, sharey=False)\n",
    "\n",
    "# loop over rows to draw clusters, but use new_plot_order\n",
    "# to draw them on the right axis\n",
    "for i in range(nrows):    \n",
    "    \n",
    "    correct_axis_idx = correct_place_dictionary[i]\n",
    "    ax = axs[correct_axis_idx]\n",
    "    \n",
    "    # everything else from now on uses i\n",
    "    \n",
    "    stateIdx = i\n",
    "    ax.plot(window_mids, exp_windowed_state_probabilities[:,stateIdx], \n",
    "            color=state_colors[stateIdx], alpha=0.9, linewidth=1.5, label='                  ')\n",
    "\n",
    "    \n",
    "    \n",
    "    # plot the fight boundaries\n",
    "    for boutIdx in range(exp_fight_bout_lims.shape[0]):\n",
    "        f0, fE = exp_fight_bout_lims[boutIdx, 0], exp_fight_bout_lims[boutIdx, 1]\n",
    "        ax.axvline(f0, linestyle='--', color='black', alpha=0.5)\n",
    "        ax.axvline(fE, linestyle='--', color='black', alpha=0.5)\n",
    "\n",
    "\n",
    "    # xticks\n",
    "    mins_between_ticks = 10\n",
    "    numWins = exp_time_windows.shape[0]\n",
    "    xtick_max = int(numWins*window_step)\n",
    "    exp_numMins = (exp_time_windows[-1][-1] / 100)/60\n",
    "    xsteps_per_min = xtick_max/exp_numMins\n",
    "    xticks = np.arange(0, xtick_max, mins_between_ticks*xsteps_per_min)\n",
    "    xticklabels = [mins_between_ticks*i for i in range(len(xticks))]\n",
    "    ax.set_xticks(xticks);\n",
    "    ax.set_xticklabels(xticklabels);\n",
    "    \n",
    "    # # yticks\n",
    "    # plot_max_y = np.max(exp_windowed_state_probabilities[:,stateIdx])\n",
    "    # print(all_state_names[i], plot_max_y)\n",
    "    # ax.set_yticks([0, plot_max_y])\n",
    "    # ax.set_yticklabels([0, np.round(plot_max_y, decimals=2)])\n",
    "\n",
    "    # plot limits\n",
    "    ax.set_xlim(0, window_mids[-1])\n",
    "    ax.set_ylim(bottom=0, top=states_y_max[stateIdx])\n",
    "    \n",
    "    # set the yticks\n",
    "    ax.set_yticks([0, states_y_tick_max[stateIdx]])\n",
    "    ax.set_yticklabels([0, states_y_tick_max[stateIdx]])\n",
    "    \n",
    "    # make the legend\n",
    "    ax.legend(frameon=False, loc='best')\n",
    "\n",
    "    # axes labels\n",
    "    ax.set_ylabel(all_state_names[i]+'\\n prob')\n",
    "    \n",
    "    # tick params\n",
    "    ax.xaxis.set_tick_params(width=2, length=4)\n",
    "    ax.yaxis.set_tick_params(width=2, length=4)\n",
    "    \n",
    "    # make the left and rights thicker for each axis\n",
    "    for axis in ['left','right']:\n",
    "        ax.spines[axis].set_linewidth(2)\n",
    "        \n",
    "    # turn off all the interior x axes    \n",
    "    for ii in range(numLabelledStates):\n",
    "        axs[ii].spines['bottom'].set_visible(False)\n",
    "        axs[ii+1].spines['top'].set_visible(False)\n",
    "        \n",
    "    # set the gridlines\n",
    "    #ax.grid(alpha=0.3)\n",
    "    #ax.axhline(y=0, color='grey', alpha=0.3)\n",
    "    #ax.axhline(y=states_y_tick_max[stateIdx], color='grey', alpha=0.2)\n",
    "        \n",
    "    ### EXTRAS TURN OFF PLOT ILLUSTRATOR VERSION ####\n",
    "    ax.set_yticklabels([])\n",
    "    ax.set_xticklabels([])\n",
    "    ax.set_xlabel('')\n",
    "    ax.set_ylabel('')\n",
    "    ax.get_legend().remove()\n",
    "    \n",
    "    \n",
    "    \n",
    "# ----------------------------------------------------#\n",
    "\n",
    "\n",
    "# make the very top and very bottoms lines thicker\n",
    "ax = axs[0]\n",
    "for axis in ['top']:\n",
    "    ax.spines[axis].set_linewidth(2)\n",
    "ax = axs[-1]\n",
    "for axis in ['bottom']:\n",
    "    ax.spines[axis].set_linewidth(2)\n",
    "\n",
    "\n",
    "fig.tight_layout()\n",
    "\n",
    "fig.savefig(imsavepath, dpi=300, transparent=False)"
   ]
  },
  {
   "cell_type": "code",
   "execution_count": null,
   "id": "b365fab4-8961-43d1-b4a7-b2f7b4bc2641",
   "metadata": {},
   "outputs": [],
   "source": []
  },
  {
   "cell_type": "code",
   "execution_count": null,
   "id": "1f60c457-fc1a-4baf-847c-f0bbe993c282",
   "metadata": {},
   "outputs": [],
   "source": []
  },
  {
   "cell_type": "code",
   "execution_count": 86,
   "id": "019ccc99-5909-4818-ab39-5c163f5c489c",
   "metadata": {},
   "outputs": [
    {
     "data": {
      "application/vnd.jupyter.widget-view+json": {
       "model_id": "5fbe21f6a45e49689a021875f4925588",
       "version_major": 2,
       "version_minor": 0
      },
      "text/html": [
       "\n",
       "            <div style=\"display: inline-block;\">\n",
       "                <div class=\"jupyter-widgets widget-label\" style=\"text-align: center;\">\n",
       "                    Figure\n",
       "                </div>\n",
       "                <img src='data:image/png;base64,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' width=320.0/>\n",
       "            </div>\n",
       "        "
      ],
      "text/plain": [
       "Canvas(toolbar=Toolbar(toolitems=[('Home', 'Reset original view', 'home', 'home'), ('Back', 'Back to previous …"
      ]
     },
     "metadata": {},
     "output_type": "display_data"
    }
   ],
   "source": [
    "expIdx = 2\n",
    "imsavepath = '/home/liam/temp/image_transfer/fig6_C.png'\n",
    "exp_fight_bout_lims = figure_bout_info[figure_bout_info[:,0]==expIdx][:, 1:3]\n",
    "\n",
    "t0 = time.time()\n",
    "\n",
    "\n",
    "# ---- parse and prepare data ------\n",
    "expName = expNames[expIdx]\n",
    "#print(expName)\n",
    "# get time windows\n",
    "exp_numFrames = (all_exps_edited_postProced_clusterIdx_tseries[expIdx]).shape[0]\n",
    "exp_time_windows = return_overlapping_windows_for_timeframes(exp_numFrames, window_size=window_size, window_step=window_step)\n",
    "window_mids = np.mean(exp_time_windows, axis=1)\n",
    "numWins = exp_time_windows.shape[0]\n",
    "# get the probabilities (computed cell above)\n",
    "exp_windowed_state_probabilities = all_exp_window_state_probabilities[expIdx]\n",
    "# get colors\n",
    "state_colors = [colorlist[i] for i in range(numLabelledStates+1)] #plus 1 for non-fight-clusters\n",
    "\n",
    "\n",
    "# find the max y vals, for yrange and ytickmax\n",
    "states_y_max = np.zeros((totalNumStates,))\n",
    "states_y_tick_max = np.zeros((totalNumStates,))\n",
    "for stateIdx in range(totalNumStates):\n",
    "    maxval = np.round(np.max(exp_windowed_state_probabilities[:,stateIdx]), 2)\n",
    "    states_y_max[stateIdx] = maxval*1.2\n",
    "    states_y_tick_max[stateIdx] = maxval\n",
    "\n",
    "\n",
    "# ----------- prepare the figure ----------#\n",
    "\n",
    "    \n",
    "\n",
    "# prepare the figure\n",
    "nrows = numLabelledStates+1\n",
    "\n",
    "fig = plt.figure(figsize=(3.2,3.2))\n",
    "gs = fig.add_gridspec(nrows=nrows, hspace=0)\n",
    "axs = gs.subplots(sharex=False, sharey=False)\n",
    "\n",
    "# loop over rows to draw clusters, but use new_plot_order\n",
    "# to draw them on the right axis\n",
    "for i in range(nrows):    \n",
    "    \n",
    "    correct_axis_idx = correct_place_dictionary[i]\n",
    "    ax = axs[correct_axis_idx]\n",
    "    \n",
    "    # everything else from now on uses i\n",
    "    stateIdx = i\n",
    "    ax.plot(window_mids, exp_windowed_state_probabilities[:,stateIdx], \n",
    "            color=state_colors[stateIdx], alpha=0.9, linewidth=0.9, label='                  ')\n",
    "\n",
    "    \n",
    "    # plot the fight boundaries\n",
    "    for boutIdx in range(exp_fight_bout_lims.shape[0]):\n",
    "        f0, fE = exp_fight_bout_lims[boutIdx, 0], exp_fight_bout_lims[boutIdx, 1]\n",
    "        ax.axvline(f0, linestyle='--', color='black', linewidth=0.9, alpha=0.5)\n",
    "        ax.axvline(fE, linestyle='--', color='black', linewidth=0.9, alpha=0.5)\n",
    "\n",
    "\n",
    "    # xticks\n",
    "    mins_between_ticks = 10\n",
    "    numWins = exp_time_windows.shape[0]\n",
    "    xtick_max = int(numWins*window_step)\n",
    "    exp_numMins = (exp_time_windows[-1][-1] / 100)/60\n",
    "    xsteps_per_min = xtick_max/exp_numMins\n",
    "    xticks = np.arange(0, xtick_max, mins_between_ticks*xsteps_per_min)\n",
    "    xticklabels = [mins_between_ticks*i for i in range(len(xticks))]\n",
    "    \n",
    "    # only set xticks for the last row\n",
    "    if i == (nrows-1):\n",
    "        ax.set_xticks(xticks);\n",
    "        #ax.set_xticklabels(xticklabels);\n",
    "    else:\n",
    "        ax.set_xticks([]);\n",
    "\n",
    "    # plot limits\n",
    "    ax.set_xlim(0, window_mids[-1])\n",
    "    ax.set_ylim(bottom=0, top=states_y_max[stateIdx])\n",
    "    \n",
    "    # set the yticks\n",
    "    ax.set_yticks([0, states_y_tick_max[stateIdx]])\n",
    "    ax.set_yticklabels([0, states_y_tick_max[stateIdx]])\n",
    "    \n",
    "    # make the legend\n",
    "    ax.legend(frameon=False, loc='best')\n",
    "\n",
    "    # axes labels\n",
    "    ax.set_ylabel(all_state_names[i]+'\\n prob')\n",
    "    \n",
    "    # tick params\n",
    "    ax.xaxis.set_tick_params(width=1, length=2)\n",
    "    ax.yaxis.set_tick_params(width=1, length=2)\n",
    "    \n",
    "    # make the left and rights thicker for each axis\n",
    "    for axis in ['left','right']:\n",
    "        ax.spines[axis].set_linewidth(2)\n",
    "        \n",
    "    # turn off all the interior x axes    \n",
    "    for ii in range(numLabelledStates):\n",
    "        axs[ii].spines['bottom'].set_visible(False)\n",
    "        axs[ii+1].spines['top'].set_visible(False)\n",
    "        \n",
    "        \n",
    "    ### EXTRAS TURN OFF PLOT ILLUSTRATOR VERSION ####\n",
    "    ax.set_yticklabels([])\n",
    "    ax.set_xticklabels([])\n",
    "    ax.set_xlabel('')\n",
    "    ax.set_ylabel('')\n",
    "    ax.get_legend().remove()\n",
    "    \n",
    "    # boundaries\n",
    "    for axis in ['top','bottom','left','right']:\n",
    "        ax.spines[axis].set_linewidth(0.9)\n",
    "    \n",
    "fig.tight_layout()\n",
    "\n",
    "fig.savefig(imsavepath, dpi=900, transparent=True)"
   ]
  },
  {
   "cell_type": "code",
   "execution_count": null,
   "id": "08c8407e-6a49-4a9a-85c9-fc4dcddb2fa1",
   "metadata": {},
   "outputs": [],
   "source": []
  },
  {
   "cell_type": "code",
   "execution_count": null,
   "id": "638f4f5c-4968-415a-b713-15b6832a0439",
   "metadata": {},
   "outputs": [],
   "source": []
  }
 ],
 "metadata": {
  "kernelspec": {
   "display_name": "analysis",
   "language": "python",
   "name": "analysis"
  },
  "language_info": {
   "codemirror_mode": {
    "name": "ipython",
    "version": 3
   },
   "file_extension": ".py",
   "mimetype": "text/x-python",
   "name": "python",
   "nbconvert_exporter": "python",
   "pygments_lexer": "ipython3",
   "version": "3.9.7"
  }
 },
 "nbformat": 4,
 "nbformat_minor": 5
}

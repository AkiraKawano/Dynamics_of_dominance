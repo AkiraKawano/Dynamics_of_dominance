{
 "cells": [
  {
   "cell_type": "code",
   "execution_count": null,
   "id": "8dce474b-ff82-45f8-8d31-601d5e217bf3",
   "metadata": {},
   "outputs": [],
   "source": []
  },
  {
   "cell_type": "markdown",
   "id": "a06ad90c-9492-45f0-8c33-97b2c2e15f47",
   "metadata": {},
   "source": [
    "# Notes"
   ]
  },
  {
   "cell_type": "code",
   "execution_count": null,
   "id": "da4dca35-5fa6-4146-a434-25ef59e6192e",
   "metadata": {},
   "outputs": [],
   "source": []
  },
  {
   "cell_type": "code",
   "execution_count": null,
   "id": "3e91f8af-6e77-47c7-9c61-b80df90ef29e",
   "metadata": {},
   "outputs": [],
   "source": []
  },
  {
   "cell_type": "code",
   "execution_count": null,
   "id": "f47abab5-a698-41ee-8d58-d13cd72fc59c",
   "metadata": {},
   "outputs": [],
   "source": []
  },
  {
   "cell_type": "markdown",
   "id": "0b7a9bb6-1767-41e8-92dc-fddd198bce9e",
   "metadata": {},
   "source": [
    "# Imports"
   ]
  },
  {
   "cell_type": "code",
   "execution_count": 27,
   "id": "0ffc9353-7621-4809-8238-000f55235c2a",
   "metadata": {},
   "outputs": [
    {
     "name": "stdout",
     "output_type": "stream",
     "text": [
      "The autoreload extension is already loaded. To reload it, use:\n",
      "  %reload_ext autoreload\n"
     ]
    }
   ],
   "source": [
    "import numpy as np\n",
    "np.set_printoptions(suppress=True)\n",
    "import h5py\n",
    "import time\n",
    "import glob\n",
    "import pandas as pd\n",
    "import matplotlib.pyplot as plt\n",
    "import matplotlib as mpl\n",
    "import matplotlib.patches as mpatches\n",
    "from scipy.spatial import distance\n",
    "import seaborn as sns\n",
    "import os\n",
    "import sys\n",
    "%matplotlib widget\n",
    "%load_ext autoreload\n",
    "%autoreload 2\n",
    "\n",
    "# --- import functions for computing kinematic variables --- #\n",
    "sys.path.append('../tracking_code/lib/')\n",
    "sys.path.append('./lib/')\n",
    "\n",
    "from kinematics import compute_pec_pec_distance, compute_thetaW_and_thetaL, compute_pitch_angles\n",
    "from kinematics import compute_signed_pec_z_difference, compute_phi_dot_from_raw_trajectories, compute_coordinate_origin_z\n",
    "from post_processing import contiguous_regions\n",
    "from windowed_prob_utils import return_overlapping_windows_for_timeframes, compute_windowed_distribution_array_from_1D_tseries\n",
    "from windowed_prob_utils import get_fightbout_rectangle_info\n"
   ]
  },
  {
   "cell_type": "code",
   "execution_count": null,
   "id": "038d254d-0e40-468f-8d2f-20a16e5a2340",
   "metadata": {},
   "outputs": [],
   "source": []
  },
  {
   "cell_type": "code",
   "execution_count": null,
   "id": "9013180b-cd2e-465e-8cb5-664caeb4bb88",
   "metadata": {},
   "outputs": [],
   "source": []
  },
  {
   "cell_type": "code",
   "execution_count": null,
   "id": "021ce29f-a439-4cfb-8d8e-687b7f6d1825",
   "metadata": {},
   "outputs": [],
   "source": []
  },
  {
   "cell_type": "markdown",
   "id": "e30d0a2e-1a41-473c-ba47-465bb8ceeb55",
   "metadata": {},
   "source": [
    "# Functions "
   ]
  },
  {
   "cell_type": "code",
   "execution_count": 3,
   "id": "f5cbdd2d-6e04-47f3-9295-b9f1f9628a31",
   "metadata": {},
   "outputs": [],
   "source": [
    "def return_state_probabilities_from_state_tseries(state_tseries, numLabelledStates):\n",
    "    ''' Return the probabilities of each state in the state_tseries. \n",
    "        Each value in state_tseries is between 0 and numLabelledStates-1, or NaN,\n",
    "        or -1 if it was belonging to another cluster (nonlabelled cluster)\n",
    "        Return the probability of each state as a vector, with the last entry being prob\n",
    "        of another cluster, and NaN data excluded.\n",
    "    \n",
    "    --- args ---\n",
    "    state_tseries: a 1D timeseries of cluster indexes, starting from -1,  \n",
    "                   Can contains NaNs.\n",
    "    numLabelledStates: the number of state indices that should appear in state_tseries.\n",
    "                       Pass this in case no values are found for some indices, in which\n",
    "                       case we know how many zero probabilities to return.\n",
    "               \n",
    "    --- returns ---\n",
    "    state_probs: 1D array of shape (numLabelledStates+1,), containing the probability of \n",
    "                 each cluster idx and lastly the probability of nonlabelled clusters\n",
    "    '''\n",
    "    # add one state for -1 (nonlabelled cluster)\n",
    "    numStates = numLabelledStates + 1\n",
    "    # preallocate the output\n",
    "    state_probs = np.zeros((numStates,))\n",
    "    #  find the number of frames in total excluding NaN frames\n",
    "    state_tseries_nanless = state_tseries[~np.isnan(state_tseries)]\n",
    "    numFrames = state_tseries_nanless.shape[0]\n",
    "    # if we have no non-nan frames, all probs are zero except the last\n",
    "    if numFrames == 0:\n",
    "        return state_probs\n",
    "    else:\n",
    "        # first compute main states probs\n",
    "        for stateIdx in range(numLabelledStates):\n",
    "            state_counts = np.where(state_tseries_nanless==stateIdx)[0].shape[0]\n",
    "            state_probs[stateIdx] = state_counts / numFrames\n",
    "        # now add the final NaN probability\n",
    "        other_state_counts = np.where(state_tseries_nanless==-1)[0].shape[0]\n",
    "        state_probs[-1] = other_state_counts / numFrames\n",
    "        return state_probs\n",
    "\n",
    "\n",
    "    \n",
    "def compute_state_probabilities_in_time_windows(state_tseries, time_windows, numLabelledStates):\n",
    "    ''' Compute the probability of each of the state indices in state_tseries, in\n",
    "        each of the windows in time_windows.\n",
    "    \n",
    "    --- args ---\n",
    "    state_tseries: a 1D timeseries of cluster indexes, starting from 0 to (numLabelledClusters-1)\n",
    "                   for the labelled states, -1 for all nonlabelled states, and NaN for missing data.\n",
    "    time_windows: array of shape (numWins,2), where each row contains a start frame\n",
    "                  and a stop frame which define a region in time. The probabilities\n",
    "                  are estimated in each of these regions in time.\n",
    "    numLabelledStates: the number of state indices that should appear in state_tseries.\n",
    "                       Pass this in case no values are found for some indices, in which\n",
    "                       case we know how many zero probabilities to return.\n",
    "               \n",
    "    --- returns ---\n",
    "    window_state_probabilities: a (numWinds, numLabelledStates+1) array containing the \n",
    "                                probability of each cluster idx and lastly the probability of \n",
    "                                nonlabelled cluster occuring. \n",
    "                                \n",
    "    --- see also ---\n",
    "    return_state_probabilities_from_state_tseries: \n",
    "    the function which does the main computation in each time window.\n",
    "    \n",
    "    '''\n",
    "    numWins = time_windows.shape[0]\n",
    "    window_state_probabilities = np.zeros((numWins, numLabelledStates+1)) # plus1 for the nonlabelled states\n",
    "    for winIdx in range(numWins):\n",
    "        w0,wE = time_windows[winIdx]\n",
    "        win_data = state_tseries[w0:wE]\n",
    "        win_state_probs = return_state_probabilities_from_state_tseries(win_data, numLabelledStates)\n",
    "        window_state_probabilities[winIdx] = win_state_probs\n",
    "    return window_state_probabilities"
   ]
  },
  {
   "cell_type": "code",
   "execution_count": 4,
   "id": "d3604225-ea0f-4ec2-b9d6-294ee608de9e",
   "metadata": {},
   "outputs": [],
   "source": [
    "def return_region_win_state_probs(region_data, all_exp_window_state_probabilities, all_exp_time_windows, all_exp_numFrames):\n",
    "    ''' Return the list over fight-bouts, containing the windowed state probabilities for the chosen region.\n",
    "    \n",
    "    --- args ---\n",
    "    region_data: array (numBouts,3), where first col is exp idxs, 2nd and 3rd cols are the start/stop\n",
    "                 frames of certain regions, e.g. 3 mins before a fightbout.\n",
    "    \n",
    "    all_exp_window_state_probabilities: the list over experiments, containing the windowed state probability of\n",
    "                                        infomap clusters, e.g. each element of the list is a (numWins, 11) array,\n",
    "                                        where 11 is the number of states and state vals sum to 1.\n",
    "                                        \n",
    "    all_exp_time_windows: the list over experiments, with elements being the time windows associated with the \n",
    "                          state probabilities in all_exp_window_state_probabilities.\n",
    "                          \n",
    "    all_exp_numFrames: a list over experiments containing the number of frames in each experiment.\n",
    "                          \n",
    "    --- return ---\n",
    "    exps_region_win_state_probs: a list over fight bouts, where each element is a (numRegionWins,numStates) array\n",
    "                                 of state proabilities for windows during the chosen region for a particular fight bout.\n",
    "                                 \n",
    "    --- see also ---\n",
    "    find_time_window_indices_bounding_start_and_stop_frame()\n",
    "    \n",
    "    '''\n",
    "    #exps_region_time_wins = []\n",
    "    exps_region_win_state_probs = []\n",
    "\n",
    "    skipped_bIdxs = []\n",
    "    for bIdx in range(region_data.shape[0]):\n",
    "        expIdx, t0, tE = region_data[bIdx]\n",
    "        \n",
    "        # if t0 is negative, exclude this fight bout\n",
    "        # if tE is greater than the number of frames in the experiment, exclude fight bout\n",
    "        if t0 < 0:\n",
    "            skipped_bIdxs.append(bIdx)\n",
    "            continue\n",
    "        expnfs = expNumFrames[expIdx]\n",
    "        if tE > expnfs:\n",
    "            skipped_bIdxs.append(bIdx)\n",
    "            continue\n",
    "\n",
    "        exp_win_state_probs = all_exp_window_state_probabilities[expIdx]\n",
    "        exp_time_wins = all_exp_time_windows[expIdx]\n",
    "\n",
    "        desired_first_win_idx, desired_last_win_idx = find_time_window_indices_bounding_start_and_stop_frame(exp_time_wins, \n",
    "                                                                                                             t0, tE)\n",
    "\n",
    "        #region_time_wins = exp_time_wins[desired_first_win_idx:desired_last_win_idx+1, :] #+1 to get the last win\n",
    "        region_win_state_probs = np.copy(exp_win_state_probs[desired_first_win_idx:desired_last_win_idx+1, :])\n",
    "\n",
    "        #exps_region_time_wins.append(region_time_wins)\n",
    "        exps_region_win_state_probs.append(region_win_state_probs)\n",
    "    \n",
    "    \n",
    "    return exps_region_win_state_probs\n",
    "\n",
    "\n",
    "\n",
    "def find_time_window_indices_bounding_start_and_stop_frame(time_windows, startFrame, stopFrame):\n",
    "    ''' Return the time window indices of which bound the startFrame and stopFrame.\n",
    "    \n",
    "    The idea is to allow for the parsing of time_windows, to choose only windows that contain\n",
    "    no contributions for timepoints outside of the interval [startFrame, stopFrame]\n",
    "    \n",
    "    --- Example ---\n",
    "    time_windows = np.array([[     0,   6000],\n",
    "                            [   100,   6100],\n",
    "                            [   200,   6200],\n",
    "                            ...,\n",
    "                            [711600, 717600],\n",
    "                            [711700, 717700],\n",
    "                            [711800, 717800]])\n",
    "    startFrame = 36000\n",
    "    stopFrame = 66000\n",
    "                       \n",
    "    desired_first_win_idx, desired_first_win_idx = f(time_windows, startFrame, stopFrame)\n",
    "    time_windows[desired_first_win_idx] = array([36000, 42000])\n",
    "    time_windows[desired_last_win_idx] = array([60000, 66000])                  \n",
    "    \n",
    "    -- returns --\n",
    "    desired_first_win_idx, desired_first_win_idx: int, int\n",
    "    \n",
    "    '''\n",
    "    desired_first_win_idx = np.where(time_windows[:,0] >= startFrame)[0][0]\n",
    "    desired_last_win_idx = np.where(time_windows[:,1] >= stopFrame)[0][0]\n",
    "    return desired_first_win_idx, desired_last_win_idx\n",
    "\n",
    "\n",
    "\n",
    "def return_overlapping_windows_for_timeframes(numFrames, window_size=200, window_step=50):\n",
    "    ''' Given a number of frames, return an 2D array of window start-stop frames.\n",
    "    '''\n",
    "    # define, for clarity, the first window\n",
    "    win0_start = 0\n",
    "    win0_mid = int(window_size/2)\n",
    "    win0_end = int(window_size)\n",
    "\n",
    "    # find numWindows, by adding incrementally and watching the last frame\n",
    "    last_frame_in_windows = win0_end\n",
    "    numWindows = 1\n",
    "    while last_frame_in_windows < (numFrames - window_step):\n",
    "        numWindows += 1\n",
    "        last_frame_in_windows = win0_end + (numWindows-1)*window_step\n",
    "\n",
    "    # now fill-in the windows array of frame indices\n",
    "    windows = np.zeros((numWindows, 2))\n",
    "    windows[0, 0] = 0\n",
    "    windows[0, 1] = win0_end\n",
    "    for winIdx in range(1, numWindows):\n",
    "        w0 = winIdx*window_step\n",
    "        wF = w0 + window_size\n",
    "        windows[winIdx, 0] = w0\n",
    "        windows[winIdx, 1] = wF\n",
    "    return windows.astype(int)"
   ]
  },
  {
   "cell_type": "code",
   "execution_count": 169,
   "id": "4a3f16a7-8d95-49a7-b61a-08b58dd1ee35",
   "metadata": {},
   "outputs": [],
   "source": [
    "\n",
    "def find_time_window_indices_bounding_start_and_stop_frame(time_windows, startFrame, stopFrame):\n",
    "    ''' Return the time window indices of which bound the startFrame and stopFrame.\n",
    "    \n",
    "    The idea is to allow for the parsing of time_windows, to choose only windows that contain\n",
    "    no contributions for timepoints outside of the interval [startFrame, stopFrame]\n",
    "    \n",
    "    --- Example ---\n",
    "    time_windows = np.array([[     0,   6000],\n",
    "                            [   100,   6100],\n",
    "                            [   200,   6200],\n",
    "                            ...,\n",
    "                            [711600, 717600],\n",
    "                            [711700, 717700],\n",
    "                            [711800, 717800]])\n",
    "    startFrame = 36000\n",
    "    stopFrame = 66000\n",
    "                       \n",
    "    desired_first_win_idx, desired_first_win_idx = f(time_windows, startFrame, stopFrame)\n",
    "    time_windows[desired_first_win_idx] = array([36000, 42000])\n",
    "    time_windows[desired_last_win_idx] = array([60000, 66000])                  \n",
    "    \n",
    "    -- returns --\n",
    "    desired_first_win_idx, desired_first_win_idx: int, int\n",
    "    \n",
    "    '''\n",
    "    desired_first_win_idx = np.where(time_windows[:,0] >= startFrame)[0][0]\n",
    "    \n",
    "    \n",
    "    # for the end window, we need to do a check to make sure stopFrame is not\n",
    "    # beyond our windows\n",
    "    \n",
    "    # if tE is beyond the end of the last window, use the last window\n",
    "    if time_windows[:,1][-1] <= stopFrame:\n",
    "        desired_last_win_idx = time_windows.shape[0] - 1\n",
    "    # otherwise find the first window beyond tE\n",
    "    else:\n",
    "        desired_last_win_idx = np.where(time_windows[:,1] >= stopFrame)[0][0]\n",
    "    return desired_first_win_idx, desired_last_win_idx"
   ]
  },
  {
   "cell_type": "code",
   "execution_count": null,
   "id": "b433d0fd-d176-4342-94b3-a82de654a304",
   "metadata": {},
   "outputs": [],
   "source": []
  },
  {
   "cell_type": "code",
   "execution_count": null,
   "id": "c9e4d905-38ea-4388-9478-1dfaf04f0f83",
   "metadata": {},
   "outputs": [],
   "source": []
  },
  {
   "cell_type": "code",
   "execution_count": null,
   "id": "f8c2c67d-d0a5-4306-a8de-123246dd396a",
   "metadata": {},
   "outputs": [],
   "source": []
  },
  {
   "cell_type": "markdown",
   "id": "b18834f3-9b81-4857-930a-1be269f4a3a6",
   "metadata": {},
   "source": [
    "# load the tracking data"
   ]
  },
  {
   "cell_type": "code",
   "execution_count": null,
   "id": "a801f802-708e-46ad-b624-f54528e9ba60",
   "metadata": {},
   "outputs": [],
   "source": []
  },
  {
   "cell_type": "code",
   "execution_count": 5,
   "id": "1a230372-ee0f-4866-8599-ae624503ce04",
   "metadata": {},
   "outputs": [],
   "source": [
    "main_load_folder = '/media/liam/hd1/fighting_data/tracking_results/'\n",
    "\n",
    "# ----------------------#\n",
    "\n",
    "interp_polyOrd=1  # the order of the polynomial used for interpolation\n",
    "interp_limit=5    # the maximum number of frames to interpolate over\n",
    "savgol_win=9      # the number of frames for the Savitzky-Golay filter\n",
    "savgol_ord=2      # the polynomial order for the Savitzky-Golay filter\n",
    "dt=0.01           # the frame rate of the recording\n",
    "\n",
    "\n",
    "# the filepaths for loading the infomap timeseries data we need\n",
    "infomap_data_loadpath = os.path.join( os.path.dirname(os.path.dirname(main_load_folder)) , \n",
    "                                      'infomap_data/transmat_and_infomap.h5')\n",
    "\n",
    "# the path for loading the fightbout info\n",
    "fightBouts_info_path = os.path.join(main_load_folder, 'fightBouts.h5')\n",
    "\n",
    "\n",
    "# -----------------------#\n",
    "\n",
    "loadpaths = glob.glob(os.path.join(main_load_folder, '*results.h5'))\n",
    "loadpaths.sort()\n",
    "\n",
    "# parse the exp names\n",
    "expNames = [path.split('/')[-1][:23] for path in loadpaths]\n",
    "\n",
    "\n",
    "raw_trajectories = []\n",
    "for path in loadpaths:\n",
    "    with h5py.File(path, 'r') as hf:\n",
    "        tracks_3D_raw = hf['tracks_3D_raw'][:]\n",
    "    raw_trajectories.append(tracks_3D_raw)\n",
    "\n",
    "smooth_trajectories = []\n",
    "for path in loadpaths:\n",
    "    with h5py.File(path, 'r') as hf:\n",
    "        tracks_3D_smooth = hf['tracks_3D_smooth'][:]\n",
    "    smooth_trajectories.append(tracks_3D_smooth)\n",
    "    \n",
    "    \n",
    "# create a list of the number of frames in each experiment\n",
    "expNumFrames = []\n",
    "for expIdx in range(len(expNames)):\n",
    "    nfs = smooth_trajectories[expIdx].shape[0]\n",
    "    expNumFrames.append(nfs)\n",
    "    \n",
    "# -----------------------------#\n",
    "# load other useful information\n",
    "    \n",
    "other_info_loadpath = os.path.join(main_load_folder, 'winners_losers_inconclusive.h5')\n",
    "with h5py.File(other_info_loadpath, 'r') as hf:\n",
    "    winner_idxs = hf['winner_idxs'][:]\n",
    "    loser_idxs = hf['loser_idxs'][:]\n",
    "    conclusive_winner_loser = hf['conclusive_winner_loser'][:]\n",
    "    already_established_dominance = hf['already_established_dominance'][:]\n",
    "\n",
    "\n",
    "with h5py.File(fightBouts_info_path, 'r') as hf:\n",
    "    fight_bout_info = hf['fight_bout_info'][:]\n",
    "    fight_bout_info_noDurThresh = hf['fight_bout_info_noDurThresh'][:]\n",
    "\n",
    "    \n"
   ]
  },
  {
   "cell_type": "code",
   "execution_count": null,
   "id": "c37e0758-25f8-4fff-bfad-f395691f4ea4",
   "metadata": {},
   "outputs": [],
   "source": []
  },
  {
   "cell_type": "code",
   "execution_count": null,
   "id": "f4112043-c61e-46cc-be04-fe1ebf739122",
   "metadata": {},
   "outputs": [],
   "source": []
  },
  {
   "cell_type": "markdown",
   "id": "5aa8657e-f1db-4f6b-9b17-6cf7064a7db7",
   "metadata": {},
   "source": [
    "# load the post-processed tseries of infomap cluster idxs"
   ]
  },
  {
   "cell_type": "code",
   "execution_count": null,
   "id": "4768dd1e-73e8-4111-ba93-1951528952ab",
   "metadata": {},
   "outputs": [],
   "source": []
  },
  {
   "cell_type": "code",
   "execution_count": 6,
   "id": "283fbeed-93a8-4524-9d21-d9029a4b7fa4",
   "metadata": {},
   "outputs": [
    {
     "data": {
      "text/plain": [
       "(16044324,)"
      ]
     },
     "execution_count": 6,
     "metadata": {},
     "output_type": "execute_result"
    }
   ],
   "source": [
    "# load\n",
    "all_exps_edited_postProced_clusterIdx_tseries = []\n",
    "postprocessed_all_exp_edited_cluster_tseries_savepath = os.path.join(os.path.dirname(infomap_data_loadpath),\n",
    "                                                                     'postprocessed_exp_edited_clusterIdx_timeseries.h5')\n",
    "with h5py.File(postprocessed_all_exp_edited_cluster_tseries_savepath, 'r') as hf:\n",
    "    for expIdx in range(len(expNames)):\n",
    "        expName = expNames[expIdx]\n",
    "        tseries = hf['{0}_clusterIdxs'.format(expName)][:]\n",
    "        all_exps_edited_postProced_clusterIdx_tseries.append(tseries)\n",
    "        \n",
    "# make the master-set\n",
    "clusterIdx_edited_postProced_tseries_master = np.concatenate(all_exps_edited_postProced_clusterIdx_tseries)\n",
    "clusterIdx_edited_postProced_tseries_master.shape"
   ]
  },
  {
   "cell_type": "code",
   "execution_count": 33,
   "id": "6e731329-52d7-4225-a8c6-bffeb9dccd25",
   "metadata": {},
   "outputs": [],
   "source": [
    "\n",
    "\n",
    "# colorlist without red and blue\n",
    "colorlist = ['#ffe119', '#3cb44b',                    '#f58231', \n",
    "             '#911eb4', '#42d4f4', '#f032e6', '#bfef45', '#fabed4', \n",
    "             '#469990', '#dcbeff', '#9A6324', '#800000', \n",
    "             '#aaffc3', '#808000', '#ffd8b1', '#000075', '#a9a9a9'] \n"
   ]
  },
  {
   "cell_type": "code",
   "execution_count": 34,
   "id": "0beab27a-5e2b-48a8-8825-668e1e4c11fd",
   "metadata": {},
   "outputs": [
    {
     "data": {
      "text/plain": [
       "['circling',\n",
       " 'direct away',\n",
       " 'winner attack',\n",
       " 'loser attack',\n",
       " 'display',\n",
       " 'direct to',\n",
       " 'middle circling',\n",
       " 'L approach',\n",
       " 'W approach',\n",
       " 'parallel',\n",
       " 'non-fight clusters']"
      ]
     },
     "execution_count": 34,
     "metadata": {},
     "output_type": "execute_result"
    }
   ],
   "source": [
    "\n",
    "# these are the state names of the clusterIdx_edited_postProced_tseries\n",
    "all_state_names = ['circling',\n",
    "                 'direct away',\n",
    "                 'winner attack',\n",
    "                 'loser attack',\n",
    "                 'display',\n",
    "                 'direct to',\n",
    "                 'middle circling',\n",
    "                 'L approach',\n",
    "                 'W approach',\n",
    "                 'parallel',\n",
    "                 'non-fight clusters']\n",
    "\n",
    "all_state_names"
   ]
  },
  {
   "cell_type": "code",
   "execution_count": 35,
   "id": "d907122c-8ce7-4967-ac25-2f5ac06047ac",
   "metadata": {},
   "outputs": [
    {
     "data": {
      "text/plain": [
       "11"
      ]
     },
     "execution_count": 35,
     "metadata": {},
     "output_type": "execute_result"
    }
   ],
   "source": [
    "len(all_state_names)"
   ]
  },
  {
   "cell_type": "code",
   "execution_count": 17,
   "id": "f8dc1a32-c48b-479c-bed3-130714e687d7",
   "metadata": {},
   "outputs": [
    {
     "data": {
      "text/plain": [
       "10"
      ]
     },
     "execution_count": 17,
     "metadata": {},
     "output_type": "execute_result"
    }
   ],
   "source": [
    "numLabelledStates = len(all_state_names)-1\n",
    "numLabelledStates\n"
   ]
  },
  {
   "cell_type": "code",
   "execution_count": null,
   "id": "a90f43f5-302d-457a-96ab-53073443993c",
   "metadata": {},
   "outputs": [],
   "source": []
  },
  {
   "cell_type": "code",
   "execution_count": 18,
   "id": "9e4e9516-5526-468b-b988-eefe2da26630",
   "metadata": {},
   "outputs": [
    {
     "data": {
      "text/plain": [
       "array([-1.,  0.,  1.,  2.,  3.,  4.,  5.,  6.,  7.,  8.,  9.])"
      ]
     },
     "execution_count": 18,
     "metadata": {},
     "output_type": "execute_result"
    }
   ],
   "source": [
    "# -1 represent nonFight clusters\n",
    "# NaN data means missing data\n",
    "np.unique(clusterIdx_edited_postProced_tseries_master[~np.isnan(clusterIdx_edited_postProced_tseries_master)])"
   ]
  },
  {
   "cell_type": "code",
   "execution_count": 152,
   "id": "5c93e345-d43b-4588-8863-821f8c5269d7",
   "metadata": {},
   "outputs": [],
   "source": [
    "totalNumStates = numLabelledStates+1"
   ]
  },
  {
   "cell_type": "code",
   "execution_count": null,
   "id": "65b4f1cc-6d82-4c95-a78f-80c0c0ff5c4d",
   "metadata": {},
   "outputs": [],
   "source": []
  },
  {
   "cell_type": "markdown",
   "id": "341f5173-40d0-4dec-b55e-67c757fe956a",
   "metadata": {},
   "source": [
    "# Panel A"
   ]
  },
  {
   "cell_type": "code",
   "execution_count": null,
   "id": "8576ab51-e1ab-4574-902f-ae6f3842ea05",
   "metadata": {},
   "outputs": [],
   "source": []
  },
  {
   "cell_type": "markdown",
   "id": "2b01f635-5851-4bf8-8010-ea8578613687",
   "metadata": {},
   "source": [
    "## rough"
   ]
  },
  {
   "cell_type": "code",
   "execution_count": null,
   "id": "347e56c1-c0b0-4911-8bfb-2e218ffc32fb",
   "metadata": {},
   "outputs": [],
   "source": []
  },
  {
   "cell_type": "code",
   "execution_count": 36,
   "id": "7a7448f8-3ebf-4972-abfb-bc4f4b2d859b",
   "metadata": {},
   "outputs": [
    {
     "data": {
      "text/plain": [
       "(501943,)"
      ]
     },
     "execution_count": 36,
     "metadata": {},
     "output_type": "execute_result"
    }
   ],
   "source": [
    "complete_labels = np.copy(all_exps_edited_postProced_clusterIdx_tseries[2])\n",
    "complete_labels.shape"
   ]
  },
  {
   "cell_type": "code",
   "execution_count": 37,
   "id": "85105b91-2628-4cba-a052-de7e50768069",
   "metadata": {},
   "outputs": [],
   "source": [
    "# numLabelledClusters = len(all_state_names)-1\n",
    "# numLabelledClusters"
   ]
  },
  {
   "cell_type": "code",
   "execution_count": null,
   "id": "97ea8916-d660-4ab5-bbdf-3a6f9fdcdc93",
   "metadata": {},
   "outputs": [],
   "source": []
  },
  {
   "cell_type": "code",
   "execution_count": 38,
   "id": "467023b5-79e3-4260-9cf5-15c3990f880f",
   "metadata": {},
   "outputs": [],
   "source": [
    "f0 = 40005 \n",
    "fE = f0 + 1000 #500\n",
    "eth_numFrames = fE - f0\n",
    "\n",
    "state_plot_order = [0,2,3,4,7,5]"
   ]
  },
  {
   "cell_type": "code",
   "execution_count": 39,
   "id": "545dd319-3038-4eea-8587-dab2c60a0c45",
   "metadata": {},
   "outputs": [],
   "source": [
    "plot_complete_labels = np.copy(complete_labels[f0:fE])\n",
    "\n",
    "# --- Remove small contiguous regions --- #\n",
    "MINSIZE = 5\n",
    "\n",
    "plot_complete_labels_edited = np.copy(plot_complete_labels)\n",
    "\n",
    "# loop over clusterIdxs, leaving -1 alone\n",
    "for clusterIdx in range(numLabelledStates):\n",
    "\n",
    "    # create a binary array\n",
    "    clIdx_bin_arr = plot_complete_labels_edited == clusterIdx\n",
    "\n",
    "    # get the regions and lenghts\n",
    "    regions = contiguous_regions(clIdx_bin_arr)\n",
    "    lengths = np.diff(regions, axis=1)[:,0]\n",
    "\n",
    "    # NaN any regions smaller than MINSIZE in original array\n",
    "    for regIdx in range(regions.shape[0]):\n",
    "        regSize = lengths[regIdx]\n",
    "        r0,rF = regions[regIdx]\n",
    "        if regSize < MINSIZE:\n",
    "            plot_complete_labels_edited[r0:rF] = np.NaN\n",
    "\n",
    "    \n",
    "    \n",
    "# ------ get the time regions of each cluster --------#\n",
    "cluster_time_regions = []\n",
    "for i in state_plot_order:\n",
    "    cls_frames = np.where(plot_complete_labels_edited==i)[0]\n",
    "    cluster_time_regions.append(cls_frames)\n",
    "    \n",
    "    \n",
    "    \n",
    "    \n",
    "plot_labels = [all_state_names[i] for i in state_plot_order]\n",
    "\n",
    "ethogram_colors = [colorlist[i] for i in state_plot_order]\n",
    "\n",
    "    \n",
    "    \n",
    "# ----- prepare the ethogram array ------ #\n",
    "# minus -1 will represent the background color\n",
    "eth_arr = np.ones((len(state_plot_order), eth_numFrames ))*-1\n",
    "\n",
    "# prepare the colors for the ethogram\n",
    "# white is the background (-1)\n",
    "eth_colors = ['#FFFFFF'] + ethogram_colors\n",
    "\n",
    "cmap = mpl.colors.ListedColormap(eth_colors)\n",
    "norm = mpl.colors.BoundaryNorm([i for i in range(-1, len(state_plot_order)+1)], cmap.N)\n",
    "\n",
    "# fill in the ethogram\n",
    "for ii in range(len(state_plot_order)):\n",
    "    \n",
    "    cls_frames = cluster_time_regions[ii]\n",
    "    \n",
    "    for fIdx in cls_frames:\n",
    "        eth_arr[ii, fIdx] = ii"
   ]
  },
  {
   "cell_type": "code",
   "execution_count": 40,
   "id": "f869d7f9-75ad-4a49-97f3-c2b920fc419e",
   "metadata": {},
   "outputs": [
    {
     "data": {
      "application/vnd.jupyter.widget-view+json": {
       "model_id": "8f151b11cfd944ef963c6ea276ff155e",
       "version_major": 2,
       "version_minor": 0
      },
      "text/html": [
       "\n",
       "            <div style=\"display: inline-block;\">\n",
       "                <div class=\"jupyter-widgets widget-label\" style=\"text-align: center;\">\n",
       "                    Figure\n",
       "                </div>\n",
       "                <img src='data:image/png;base64,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' width=1200.0/>\n",
       "            </div>\n",
       "        "
      ],
      "text/plain": [
       "Canvas(toolbar=Toolbar(toolitems=[('Home', 'Reset original view', 'home', 'home'), ('Back', 'Back to previous …"
      ]
     },
     "metadata": {},
     "output_type": "display_data"
    }
   ],
   "source": [
    "# ---- Plot --- #\n",
    "\n",
    "fig, axs = plt.subplots(figsize=(12,4))\n",
    "\n",
    "ax = axs\n",
    "im = ax.imshow(eth_arr, aspect='auto', cmap=cmap, norm=norm, interpolation='none')\n",
    "#fig.colorbar(im, orientation='vertical')\n",
    "\n",
    "\n",
    "ax.set_yticks([i for i in range(len(state_plot_order))])\n",
    "ax.set_yticklabels(plot_labels)\n",
    "\n",
    "ax.set_xticks([0,100,200,300,400,500,600,700,800,900,1000])\n",
    "ax.set_xticklabels(['0', '1', '2', '3', '4', '5','6','7','8','9','10'])\n",
    "\n",
    "ax.set_xlabel('time (s)')\n",
    "\n",
    "fig.tight_layout()\n"
   ]
  },
  {
   "cell_type": "code",
   "execution_count": null,
   "id": "fe8a4b2a-4414-40eb-b363-65c1e7d9d021",
   "metadata": {},
   "outputs": [],
   "source": []
  },
  {
   "cell_type": "code",
   "execution_count": null,
   "id": "950b0db0-196f-42f6-b121-a0d09fdc0561",
   "metadata": {},
   "outputs": [],
   "source": []
  },
  {
   "cell_type": "markdown",
   "id": "55997336-15b7-4cea-8b73-82c065111d10",
   "metadata": {},
   "source": [
    "## paper version"
   ]
  },
  {
   "cell_type": "code",
   "execution_count": 41,
   "id": "a1b362b7-0242-49c9-8c60-a3fa0bb045ff",
   "metadata": {},
   "outputs": [
    {
     "data": {
      "application/vnd.jupyter.widget-view+json": {
       "model_id": "ddf00a3807224f4bb705766cce6a00e1",
       "version_major": 2,
       "version_minor": 0
      },
      "text/html": [
       "\n",
       "            <div style=\"display: inline-block;\">\n",
       "                <div class=\"jupyter-widgets widget-label\" style=\"text-align: center;\">\n",
       "                    Figure\n",
       "                </div>\n",
       "                <img src='data:image/png;base64,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' width=600.0/>\n",
       "            </div>\n",
       "        "
      ],
      "text/plain": [
       "Canvas(toolbar=Toolbar(toolitems=[('Home', 'Reset original view', 'home', 'home'), ('Back', 'Back to previous …"
      ]
     },
     "metadata": {},
     "output_type": "display_data"
    }
   ],
   "source": [
    "# ---- Plot --- #\n",
    "\n",
    "fig, axs = plt.subplots(figsize=(6,2))\n",
    "\n",
    "\n",
    "ax = axs\n",
    "im = ax.imshow(eth_arr, aspect='auto', cmap=cmap, norm=norm, interpolation='none')\n",
    "\n",
    "ax.set_yticks([i for i in range(len(state_plot_order))])\n",
    "#ax.set_yticklabels(plot_labels)\n",
    "ax.set_yticklabels([])\n",
    "\n",
    "ax.set_xticks([0,100,200,300,400,500,600,700,800,900,1000])\n",
    "#ax.set_xticklabels(['0', '1', '2', '3', '4', '5','6','7','8','9','10'])\n",
    "ax.set_xticklabels([])\n",
    "\n",
    "#ax.set_xlabel('time (s)')\n",
    "ax.set_xlabel('')\n",
    "\n",
    "for axis in ['top','bottom','left','right']:\n",
    "    ax.spines[axis].set_linewidth(2)\n",
    "ax.xaxis.set_tick_params(width=2, length=4)\n",
    "ax.yaxis.set_tick_params(width=2, length=4)\n",
    "\n",
    "fig.tight_layout()\n",
    "\n",
    "fig.savefig('/home/liam/temp/image_transfer/fig6_A_ethogram_new.png', dpi=300, transparent=True)\n",
    "\n"
   ]
  },
  {
   "cell_type": "code",
   "execution_count": null,
   "id": "1c0b3080-ff2e-4403-a1af-97ff52bbbf48",
   "metadata": {},
   "outputs": [],
   "source": []
  },
  {
   "cell_type": "code",
   "execution_count": null,
   "id": "448f2050-e767-4731-9a12-9234cc491f9f",
   "metadata": {},
   "outputs": [],
   "source": []
  },
  {
   "cell_type": "code",
   "execution_count": null,
   "id": "9fb21398-696d-44e0-9204-107a47ce56df",
   "metadata": {},
   "outputs": [],
   "source": []
  },
  {
   "cell_type": "markdown",
   "id": "c4519c33-edf0-4344-af84-4806061bba30",
   "metadata": {},
   "source": [
    "# Panel B"
   ]
  },
  {
   "cell_type": "code",
   "execution_count": null,
   "id": "00c6a0ce-9193-4522-9722-2efeee966a5e",
   "metadata": {},
   "outputs": [],
   "source": []
  },
  {
   "cell_type": "code",
   "execution_count": null,
   "id": "3536785e-24d4-4464-93b4-c82b5e87f8b8",
   "metadata": {},
   "outputs": [],
   "source": []
  },
  {
   "cell_type": "code",
   "execution_count": null,
   "id": "bd28d076-bcd4-4ff2-aadb-e1d9c0f16e1c",
   "metadata": {},
   "outputs": [],
   "source": []
  },
  {
   "cell_type": "markdown",
   "id": "e9b81a6c-d6ee-4ced-a5b3-e2a4fc027d58",
   "metadata": {},
   "source": [
    "## prepare the arrays for indexing within fights and outside fights"
   ]
  },
  {
   "cell_type": "markdown",
   "id": "9341da1e-8c9f-4f91-8bf2-d0299fdc4670",
   "metadata": {},
   "source": [
    "For this figure, we will use without the size threshold on bout duration"
   ]
  },
  {
   "cell_type": "code",
   "execution_count": 43,
   "id": "b0f6efd3-a325-471a-b51b-ab203090bfbe",
   "metadata": {},
   "outputs": [
    {
     "data": {
      "text/plain": [
       "(33, 4)"
      ]
     },
     "execution_count": 43,
     "metadata": {},
     "output_type": "execute_result"
    }
   ],
   "source": [
    "figure_bout_info = np.copy(fight_bout_info_noDurThresh)\n",
    "\n",
    "# the set of expIdxs that have contributions to figure_bout_info\n",
    "chosen_expIdxs = np.unique(figure_bout_info[:,0])\n",
    "\n",
    "numBouts = figure_bout_info.shape[0]\n",
    "\n",
    "figure_bout_info.shape"
   ]
  },
  {
   "cell_type": "code",
   "execution_count": null,
   "id": "323137cb-1852-4368-b07a-34255e5d94ed",
   "metadata": {},
   "outputs": [],
   "source": []
  },
  {
   "cell_type": "code",
   "execution_count": 44,
   "id": "cea9fc10-7b95-4828-ba93-d57163de0ad6",
   "metadata": {},
   "outputs": [],
   "source": [
    "# ---- prepare the nonfight regions ----#\n",
    "# based on 'figure_bout_info'\n",
    "\n",
    "chosen_expIdx_nonFight_regions = []\n",
    "\n",
    "for expIdx in chosen_expIdxs:\n",
    "    expName = expNames[expIdx]\n",
    "    \n",
    "    # find the bouts for this exp\n",
    "    fight_epoch_array_rows = np.where(figure_bout_info[:,0] == expIdx)[0]\n",
    "    \n",
    "    # turn into list format over bouts, data is (startFrame,stopFrame)\n",
    "    exp_fight_bout_lims_list = []\n",
    "    for rowIdx in fight_epoch_array_rows:\n",
    "        fight_bout_lims = figure_bout_info[rowIdx,1:3]\n",
    "        exp_fight_bout_lims_list.append(fight_bout_lims)\n",
    "        \n",
    "    # now, prepare a binary timeseries of fight/non-fight membership for all frames,\n",
    "    # recording all fights as truth\n",
    "    expnfs = expNumFrames[expIdx]\n",
    "    exp_fightFrame_bin_arr = np.zeros((expnfs,), dtype=bool)\n",
    "    for bIdx in range(len(exp_fight_bout_lims_list)):\n",
    "        exp_fightFrame_bin_arr[ exp_fight_bout_lims_list[bIdx][0]:exp_fight_bout_lims_list[bIdx][1]] = True\n",
    "        \n",
    "    # now find contiguous regions of the inverse of this array, \n",
    "    # giving us frame ranges where the fish are not fighting\n",
    "    exp_non_fight_regions = contiguous_regions(~exp_fightFrame_bin_arr)\n",
    "    \n",
    "    # record\n",
    "    chosen_expIdx_nonFight_regions.append([expIdx, exp_non_fight_regions])\n",
    "    \n",
    "    \n",
    "# make into array along fightbouts with expIdxs\n",
    "figure_nonBout_info = []\n",
    "for vals in chosen_expIdx_nonFight_regions:\n",
    "    expIdx = vals[0]\n",
    "    boutInfo = vals[1]\n",
    "    expIdx_with_boutInfo_arr = np.full((boutInfo.shape[0],3), fill_value=expIdx)\n",
    "    expIdx_with_boutInfo_arr[:,1:] = boutInfo\n",
    "    figure_nonBout_info.append(expIdx_with_boutInfo_arr)\n",
    "figure_nonBout_info = np.concatenate(figure_nonBout_info, axis=0)\n",
    "\n",
    "numNoNBouts = figure_nonBout_info.shape[0]"
   ]
  },
  {
   "cell_type": "code",
   "execution_count": null,
   "id": "3b605ef8-6850-4381-b108-97e71a388a65",
   "metadata": {},
   "outputs": [],
   "source": []
  },
  {
   "cell_type": "code",
   "execution_count": 45,
   "id": "9ed83040-9f0d-4d4a-8412-6978d23eb41b",
   "metadata": {},
   "outputs": [
    {
     "data": {
      "text/plain": [
       "array([[      0,       0,  385500],\n",
       "       [      0,  427400,  583500],\n",
       "       [      0,  610400,  643500],\n",
       "       [      0,  805400,  971756],\n",
       "       [      1,       0,  274500],\n",
       "       [      1,  301400,  385700],\n",
       "       [      1,  409400,  493700],\n",
       "       [      1,  655400,  700700],\n",
       "       [      1,  718600,  769848],\n",
       "       [      2,       0,   31500],\n",
       "       [      2,  175400,  301300],\n",
       "       [      2,  319600,  501943],\n",
       "       [      3,       0,  331300],\n",
       "       [      3,  436400,  517000],\n",
       "       [      5,       0,  448500],\n",
       "       [      5,  559400,  730119],\n",
       "       [      6,       0,  217700],\n",
       "       [      6,  250400,  495610],\n",
       "       [      7,       0,   91500],\n",
       "       [      7,  127400,  505500],\n",
       "       [      7,  553400,  601226],\n",
       "       [      8,       0,  181500],\n",
       "       [      8,  256200,  274700],\n",
       "       [      8,  334400,  352500],\n",
       "       [      8,  370400,  537880],\n",
       "       [     10,       0,   19700],\n",
       "       [     10,   79400,  561010],\n",
       "       [     11,       0,  214900],\n",
       "       [     11,  280400,  556428],\n",
       "       [     12,       0,  142500],\n",
       "       [     12,  226400,  262500],\n",
       "       [     12,  343400,  358500],\n",
       "       [     12,  385400,  746434],\n",
       "       [     13,       0,  694500],\n",
       "       [     13,  745600, 1248577],\n",
       "       [     14,       0,    7700],\n",
       "       [     14,   61800,  596607],\n",
       "       [     15,       0,   13500],\n",
       "       [     15,  184400,  490500],\n",
       "       [     15,  514600,  588962],\n",
       "       [     17,       0,   85500],\n",
       "       [     17,  124400,  421500],\n",
       "       [     17,  436600,  497635],\n",
       "       [     18,       0,  388700],\n",
       "       [     18,  556400,  898700],\n",
       "       [     18,  931400, 1695643],\n",
       "       [     19,       0,  526700],\n",
       "       [     19,  571200,  798382],\n",
       "       [     20,       0,   40900],\n",
       "       [     20,  169600,  559700],\n",
       "       [     20,  595400,  717814]])"
      ]
     },
     "execution_count": 45,
     "metadata": {},
     "output_type": "execute_result"
    }
   ],
   "source": [
    "figure_nonBout_info"
   ]
  },
  {
   "cell_type": "code",
   "execution_count": null,
   "id": "914dfadf-94c6-49ca-a694-f338b958862e",
   "metadata": {},
   "outputs": [],
   "source": []
  },
  {
   "cell_type": "code",
   "execution_count": null,
   "id": "13700405-74f1-428d-b373-ece668f83cd4",
   "metadata": {},
   "outputs": [],
   "source": [
    "    #exps_region_time_wins = []\n",
    "    exps_region_win_state_probs = []\n",
    "\n",
    "    skipped_bIdxs = []\n",
    "    for bIdx in range(region_data.shape[0]):\n",
    "        expIdx, t0, tE = region_data[bIdx]\n",
    "        \n",
    "        # if t0 is negative, exclude this fight bout\n",
    "        # if tE is greater than the number of frames in the experiment, exclude fight bout\n",
    "        if t0 < 0:\n",
    "            skipped_bIdxs.append(bIdx)\n",
    "            continue\n",
    "        expnfs = expNumFrames[expIdx]\n",
    "        if tE > expnfs:\n",
    "            skipped_bIdxs.append(bIdx)\n",
    "            continue\n",
    "\n",
    "        exp_win_state_probs = all_exp_window_state_probabilities[expIdx]\n",
    "        exp_time_wins = all_exp_time_windows[expIdx]\n",
    "\n",
    "        desired_first_win_idx, desired_last_win_idx = find_time_window_indices_bounding_start_and_stop_frame(exp_time_wins, \n",
    "                                                                                                             t0, tE)\n",
    "\n",
    "        #region_time_wins = exp_time_wins[desired_first_win_idx:desired_last_win_idx+1, :] #+1 to get the last win\n",
    "        region_win_state_probs = np.copy(exp_win_state_probs[desired_first_win_idx:desired_last_win_idx+1, :])\n",
    "\n",
    "        #exps_region_time_wins.append(region_time_wins)\n",
    "        exps_region_win_state_probs.append(region_win_state_probs)\n",
    "    \n",
    "    "
   ]
  },
  {
   "cell_type": "code",
   "execution_count": null,
   "id": "dc8e45f2-9839-4464-8ecd-90c071077bc6",
   "metadata": {},
   "outputs": [],
   "source": []
  },
  {
   "cell_type": "code",
   "execution_count": null,
   "id": "8c50943a-5676-4ed6-92cc-b863925f0529",
   "metadata": {},
   "outputs": [],
   "source": []
  },
  {
   "cell_type": "markdown",
   "id": "a3ad7f25-5a85-402a-82f8-477fbbdf5b2b",
   "metadata": {},
   "source": [
    "## compute the windowed probabilities"
   ]
  },
  {
   "cell_type": "code",
   "execution_count": 42,
   "id": "0f104e35-a7f7-47bd-806c-5fea96d97038",
   "metadata": {},
   "outputs": [
    {
     "name": "stdout",
     "output_type": "stream",
     "text": [
      "FishTank20200127_143538\n",
      "FishTank20200129_140656\n",
      "FishTank20200130_153857\n",
      "FishTank20200130_181614\n",
      "FishTank20200207_161445\n",
      "FishTank20200213_154940\n",
      "FishTank20200214_153519\n",
      "FishTank20200217_160052\n",
      "FishTank20200218_153008\n",
      "FishTank20200316_163320\n",
      "FishTank20200327_154737\n",
      "FishTank20200330_161100\n",
      "FishTank20200331_162136\n",
      "FishTank20200520_152810\n",
      "FishTank20200521_154541\n",
      "FishTank20200525_161602\n",
      "FishTank20200526_160100\n",
      "FishTank20200527_152401\n",
      "FishTank20200824_151740\n",
      "FishTank20200828_155504\n",
      "FishTank20200902_160124\n",
      "FishTank20200903_160946\n"
     ]
    }
   ],
   "source": [
    "# compute the windowed state probabilities for each experiment\n",
    "window_size= 6000 #6000\n",
    "window_step=100\n",
    "\n",
    "all_exp_window_state_probabilities = []\n",
    "all_exp_time_windows = []\n",
    "\n",
    "for expIdx in range(len(expNames)):\n",
    "    expName = expNames[expIdx]\n",
    "    print(expName)\n",
    "    exp_cls_tseries = np.copy(all_exps_edited_postProced_clusterIdx_tseries[expIdx])\n",
    "    exp_numFrames = exp_cls_tseries.shape[0]\n",
    "    exp_time_windows = return_overlapping_windows_for_timeframes(exp_numFrames, window_size=window_size, window_step=window_step)\n",
    "    exp_window_state_probabilities = compute_state_probabilities_in_time_windows(exp_cls_tseries, exp_time_windows, numLabelledStates)\n",
    "    all_exp_window_state_probabilities.append(exp_window_state_probabilities)\n",
    "    all_exp_time_windows.append(exp_time_windows)"
   ]
  },
  {
   "cell_type": "code",
   "execution_count": null,
   "id": "36aa37f1-d297-4f7d-be02-01ac84b9d182",
   "metadata": {},
   "outputs": [],
   "source": []
  },
  {
   "cell_type": "code",
   "execution_count": 47,
   "id": "f1f9d907-1470-41dc-a62c-28a355a59101",
   "metadata": {},
   "outputs": [
    {
     "data": {
      "text/plain": [
       "(9658, 11)"
      ]
     },
     "execution_count": 47,
     "metadata": {},
     "output_type": "execute_result"
    }
   ],
   "source": [
    "all_exp_window_state_probabilities[0].shape"
   ]
  },
  {
   "cell_type": "code",
   "execution_count": null,
   "id": "92f60b0d-7771-4d69-ac19-95b5cb7ce7b2",
   "metadata": {},
   "outputs": [],
   "source": []
  },
  {
   "cell_type": "markdown",
   "id": "220bb714-f6c2-437b-bcfc-4865404bf8da",
   "metadata": {},
   "source": [
    "## get fight and nonfight data"
   ]
  },
  {
   "cell_type": "code",
   "execution_count": null,
   "id": "2c719448-b728-4e3c-82d5-227d3a44aebe",
   "metadata": {},
   "outputs": [],
   "source": []
  },
  {
   "cell_type": "code",
   "execution_count": 109,
   "id": "864389e8-266d-497b-b741-fe1691e48399",
   "metadata": {},
   "outputs": [],
   "source": [
    "# ----- fighting ---- #\n",
    "\n",
    "bouts_winStateProbs = []\n",
    "\n",
    "for boutIdx in range(numBouts):\n",
    "    \n",
    "    expIdx, f0, fE, bout_duration = figure_bout_info[boutIdx]\n",
    "    \n",
    "    exp_time_wins = all_exp_time_windows[expIdx]\n",
    "    exp_window_state_probabilities = all_exp_window_state_probabilities[expIdx]\n",
    "    \n",
    "    # get the windows corresponding to the start and stop of the bout\n",
    "    desired_first_win_idx, desired_last_win_idx = find_time_window_indices_bounding_start_and_stop_frame(exp_time_wins, \n",
    "                                                                                                         f0, fE)\n",
    "    \n",
    "    # get the windowed probs for this bout\n",
    "    bout_win_state_probs = np.copy(exp_window_state_probabilities[desired_first_win_idx:desired_last_win_idx+1, :]) #+1 to get the last win\n",
    "    \n",
    "    bouts_winStateProbs.append(bout_win_state_probs)\n",
    "    \n",
    "# get all bouts togehter\n",
    "#bouts_winStateProbs = np.concatenate(bouts_winStateProbs, axis=0)\n",
    "    \n",
    "\n",
    "    \n",
    "    \n",
    "    \n",
    "# ----- non fighting ---- #\n",
    "\n",
    "nonbouts_winStateProbs = []\n",
    "\n",
    "for boutIdx in range(numNoNBouts):\n",
    "    \n",
    "    expIdx, f0, fE = figure_nonBout_info[boutIdx]\n",
    "    \n",
    "    exp_time_wins = all_exp_time_windows[expIdx]\n",
    "    exp_window_state_probabilities = all_exp_window_state_probabilities[expIdx]\n",
    "    \n",
    "    # get the windows corresponding to the start and stop of the bout\n",
    "    desired_first_win_idx, desired_last_win_idx = find_time_window_indices_bounding_start_and_stop_frame(exp_time_wins, \n",
    "                                                                                                         f0, fE)\n",
    "    \n",
    "    # get the windowed probs for this bout\n",
    "    bout_win_state_probs = np.copy(exp_window_state_probabilities[desired_first_win_idx:desired_last_win_idx+1, :]) #+1 to get the last win\n",
    "    \n",
    "    nonbouts_winStateProbs.append(bout_win_state_probs)\n",
    "    \n",
    "# get all bouts togehter\n",
    "#nonbouts_winStateProbs = np.concatenate(nonbouts_winStateProbs, axis=0)\n",
    "    \n",
    "\n"
   ]
  },
  {
   "cell_type": "code",
   "execution_count": 110,
   "id": "5c70d598-18b2-4284-9a89-f3ae8ff7367b",
   "metadata": {},
   "outputs": [
    {
     "data": {
      "text/plain": [
       "33"
      ]
     },
     "execution_count": 110,
     "metadata": {},
     "output_type": "execute_result"
    }
   ],
   "source": [
    "len(bouts_winStateProbs)"
   ]
  },
  {
   "cell_type": "code",
   "execution_count": 113,
   "id": "aec7e5b7-75d3-4ce6-b0c4-d0f07a9db498",
   "metadata": {},
   "outputs": [
    {
     "data": {
      "text/plain": [
       "(360, 11)"
      ]
     },
     "execution_count": 113,
     "metadata": {},
     "output_type": "execute_result"
    }
   ],
   "source": [
    "bouts_winStateProbs[0].shape"
   ]
  },
  {
   "cell_type": "code",
   "execution_count": 114,
   "id": "17d144d4-e60d-4ed8-b88e-45253aad18e9",
   "metadata": {},
   "outputs": [
    {
     "data": {
      "text/plain": [
       "(210, 11)"
      ]
     },
     "execution_count": 114,
     "metadata": {},
     "output_type": "execute_result"
    }
   ],
   "source": [
    "bouts_winStateProbs[1].shape"
   ]
  },
  {
   "cell_type": "code",
   "execution_count": null,
   "id": "9feea848-cda0-403e-be10-3840bfbda06b",
   "metadata": {},
   "outputs": [],
   "source": []
  },
  {
   "cell_type": "code",
   "execution_count": 111,
   "id": "c37c8d6c-de88-4907-9cee-ed20d21789ea",
   "metadata": {},
   "outputs": [
    {
     "data": {
      "text/plain": [
       "51"
      ]
     },
     "execution_count": 111,
     "metadata": {},
     "output_type": "execute_result"
    }
   ],
   "source": [
    "len(nonbouts_winStateProbs)"
   ]
  },
  {
   "cell_type": "code",
   "execution_count": null,
   "id": "71278183-9bcf-4294-a86d-b02c428a1e20",
   "metadata": {},
   "outputs": [],
   "source": []
  },
  {
   "cell_type": "code",
   "execution_count": null,
   "id": "e1aa5a87-83f7-4623-b5f5-45742162b80c",
   "metadata": {},
   "outputs": [],
   "source": []
  },
  {
   "cell_type": "code",
   "execution_count": null,
   "id": "66cf9b6f-8d1c-45f8-a1e2-2b9c8765f8dd",
   "metadata": {},
   "outputs": [],
   "source": []
  },
  {
   "cell_type": "code",
   "execution_count": 117,
   "id": "bc99bd31-ceeb-4058-a91a-cea34270650b",
   "metadata": {},
   "outputs": [],
   "source": [
    "epoch_list_winStateProbs = [bouts_winStateProbs, nonbouts_winStateProbs]"
   ]
  },
  {
   "cell_type": "code",
   "execution_count": null,
   "id": "c4aeea88-ee8d-4bcf-9b02-f82e07a9d662",
   "metadata": {},
   "outputs": [],
   "source": []
  },
  {
   "cell_type": "code",
   "execution_count": null,
   "id": "7c0c3b3c-1c57-421a-aeff-d2a07a001f0e",
   "metadata": {},
   "outputs": [],
   "source": []
  },
  {
   "cell_type": "markdown",
   "id": "c8eb6665-2427-4ff1-9a00-18b94847be62",
   "metadata": {},
   "source": [
    "## bootstrapping"
   ]
  },
  {
   "cell_type": "code",
   "execution_count": null,
   "id": "282fa241-eea3-402d-be8c-dec2b9fd0c4d",
   "metadata": {},
   "outputs": [],
   "source": []
  },
  {
   "cell_type": "code",
   "execution_count": 74,
   "id": "c7bd47f5-4ef3-4eca-b93d-21299054f49f",
   "metadata": {},
   "outputs": [],
   "source": [
    "# for fights and nonfights, find the average 1-minute long prob vecs\n",
    "epoch_mean_win_state_probs = []\n",
    "epoch_num_wins_used = []\n",
    "\n",
    "for epoch_win_state_probs in epoch_list_winStateProbs:\n",
    "    \n",
    "    # stack all the prob vecs which occured in this epoch (fight or nonfight)\n",
    "    epoch_all_window_prob_stack = np.vstack(epoch_win_state_probs)\n",
    "    \n",
    "    # record the number of windows we got\n",
    "    epoch_num_wins_used.append(epoch_all_window_prob_stack.shape[0])\n",
    "    \n",
    "    # compute the 1-minute mean across all these measurments\n",
    "    epoch_mean = np.mean(epoch_all_window_prob_stack, axis=0)\n",
    "    epoch_mean_win_state_probs.append(epoch_mean)"
   ]
  },
  {
   "cell_type": "code",
   "execution_count": 75,
   "id": "9c85e204-564c-461f-8a13-e708c87e12f8",
   "metadata": {},
   "outputs": [
    {
     "data": {
      "text/plain": [
       "[array([0.17231156, 0.00253001, 0.30467414, 0.29816621, 0.05928477,\n",
       "        0.02946006, 0.01744026, 0.04000582, 0.02569933, 0.0060137 ,\n",
       "        0.04441415]),\n",
       " array([0.08625122, 0.01533056, 0.14407221, 0.05022556, 0.06395551,\n",
       "        0.04812746, 0.04877009, 0.05114149, 0.09921823, 0.02884373,\n",
       "        0.3618653 ])]"
      ]
     },
     "execution_count": 75,
     "metadata": {},
     "output_type": "execute_result"
    }
   ],
   "source": [
    "epoch_mean_win_state_probs"
   ]
  },
  {
   "cell_type": "code",
   "execution_count": 76,
   "id": "930e87fe-fc3c-4f02-81b5-42c3d7604e95",
   "metadata": {},
   "outputs": [
    {
     "data": {
      "text/plain": [
       "[19936, 106429]"
      ]
     },
     "execution_count": 76,
     "metadata": {},
     "output_type": "execute_result"
    }
   ],
   "source": [
    "epoch_num_wins_used"
   ]
  },
  {
   "cell_type": "code",
   "execution_count": null,
   "id": "581f7cea-16f3-4827-a924-f2b53250da3d",
   "metadata": {},
   "outputs": [],
   "source": []
  },
  {
   "cell_type": "code",
   "execution_count": 139,
   "id": "2f1d0459-64b9-4de4-981b-af7867595b6e",
   "metadata": {},
   "outputs": [
    {
     "name": "stdout",
     "output_type": "stream",
     "text": [
      "finished  0 0.31999993324279785\n",
      "finished  1 1.7224664688110352\n",
      "\n",
      "finished:  1.7227084636688232\n"
     ]
    }
   ],
   "source": [
    "# ---- compute the bootstrapped stddev ---- #\n",
    "\n",
    "# args\n",
    "n_resamples=500\n",
    "\n",
    "\n",
    "t0 = time.time()\n",
    "\n",
    "\n",
    "epoch_bootstrapped_stdevs = []\n",
    "for epochIdx in range(2):\n",
    "\n",
    "    # get the list over all bouts for this epoch (fight or nonfight are the two epochs)\n",
    "    epoch_win_state_probs = epoch_list_winStateProbs[epochIdx]\n",
    "    \n",
    "    # get the number of samples\n",
    "    numSamples = len(epoch_win_state_probs) # number of bouts to bootstrap over\n",
    "    \n",
    "    # grab all the bootstrap resampling data\n",
    "    allSamples_mean_epoch_win_state_probs = [] \n",
    "    for i in range(n_resamples):\n",
    "\n",
    "        #  get the fight indices for this resample \n",
    "        indices=np.random.choice(range(0,numSamples), numSamples)\n",
    "\n",
    "        # get the sample collection of bout epoch state probs\n",
    "        sample_epoch_win_state_probs = []\n",
    "        for sampBoutIdx in indices:\n",
    "            sample_epoch_win_state_probs.append(epoch_win_state_probs[sampBoutIdx])\n",
    "            \n",
    "        # concatenate across the selected fights\n",
    "        sample_epoch_win_state_probs  = np.vstack(sample_epoch_win_state_probs)\n",
    "\n",
    "        # get the sample mean and record \n",
    "        sample_epoch_win_state_probs_mean = np.mean(sample_epoch_win_state_probs, axis=0)\n",
    "        allSamples_mean_epoch_win_state_probs.append(sample_epoch_win_state_probs_mean)\n",
    "    allSamples_mean_epoch_win_state_probs = np.stack(allSamples_mean_epoch_win_state_probs, axis=0)\n",
    "\n",
    "    # get the sdtdev of the bootstrap means\n",
    "    allSamples_stdev = np.std(allSamples_mean_epoch_win_state_probs, axis=0)\n",
    "    epoch_bootstrapped_stdevs.append(allSamples_stdev)\n",
    "\n",
    "    tE = time.time()\n",
    "    print('finished ', epochIdx, tE-t0)\n",
    "    \n",
    "print()\n",
    "tE = time.time()\n",
    "print('finished: ', tE-t0)"
   ]
  },
  {
   "cell_type": "code",
   "execution_count": null,
   "id": "26b6f3a9-8835-476c-8b5e-4c604e103391",
   "metadata": {},
   "outputs": [],
   "source": []
  },
  {
   "cell_type": "code",
   "execution_count": 138,
   "id": "fcb69d3c-c9dc-4322-935b-970133b05a6f",
   "metadata": {},
   "outputs": [
    {
     "data": {
      "text/plain": [
       "[array([0.01074306, 0.00035862, 0.01192672, 0.01267978, 0.00306392,\n",
       "        0.00235998, 0.00092984, 0.0054986 , 0.00302921, 0.0008752 ,\n",
       "        0.00747101]),\n",
       " array([0.00942515, 0.00112801, 0.0143063 , 0.00646992, 0.00372819,\n",
       "        0.00559805, 0.0024443 , 0.00383965, 0.00494043, 0.00187431,\n",
       "        0.02139183])]"
      ]
     },
     "execution_count": 138,
     "metadata": {},
     "output_type": "execute_result"
    }
   ],
   "source": [
    "epoch_bootstrapped_stdevs"
   ]
  },
  {
   "cell_type": "code",
   "execution_count": null,
   "id": "9b510f21-ce2c-45d1-8fb8-61643c1669db",
   "metadata": {},
   "outputs": [],
   "source": []
  },
  {
   "cell_type": "code",
   "execution_count": null,
   "id": "1a6b94ae-11b6-404c-879c-39d514bc8ab1",
   "metadata": {},
   "outputs": [],
   "source": []
  },
  {
   "cell_type": "code",
   "execution_count": 88,
   "id": "ed79814d-08f0-4a46-8a74-d23ef87ae829",
   "metadata": {},
   "outputs": [
    {
     "data": {
      "text/plain": [
       "['winner attack',\n",
       " 'loser attack',\n",
       " 'circling',\n",
       " 'display',\n",
       " 'W approach',\n",
       " 'L approach',\n",
       " 'direct away',\n",
       " 'direct to',\n",
       " 'middle circling',\n",
       " 'parallel',\n",
       " 'non-fight clusters']"
      ]
     },
     "execution_count": 88,
     "metadata": {},
     "output_type": "execute_result"
    }
   ],
   "source": [
    "# define a new order for plotting\n",
    "new_plot_order = [2,3,0,4,8,7,1,5,6,9,10]\n",
    "[all_state_names[i] for i in new_plot_order]\n"
   ]
  },
  {
   "cell_type": "code",
   "execution_count": 89,
   "id": "7217c0d7-effc-4a70-9522-073b0804aad9",
   "metadata": {},
   "outputs": [
    {
     "data": {
      "text/plain": [
       "{2: 0, 3: 1, 0: 2, 4: 3, 8: 4, 7: 5, 1: 6, 5: 7, 6: 8, 9: 9, 10: 10}"
      ]
     },
     "execution_count": 89,
     "metadata": {},
     "output_type": "execute_result"
    }
   ],
   "source": [
    "# a dcionary which maps state indexs to the row i want to draw them\n",
    "correct_place_dictionary = dict(zip(new_plot_order, np.arange(0, numLabelledStates+1)))\n",
    "correct_place_dictionary"
   ]
  },
  {
   "cell_type": "code",
   "execution_count": null,
   "id": "6d544f95-f220-44f2-b2dc-77d479b9c471",
   "metadata": {},
   "outputs": [],
   "source": []
  },
  {
   "cell_type": "code",
   "execution_count": null,
   "id": "050f3e27-fb92-4b5d-8788-ef487f3111cd",
   "metadata": {},
   "outputs": [],
   "source": []
  },
  {
   "cell_type": "markdown",
   "id": "814ff011-1946-42d0-af72-52b519944ab6",
   "metadata": {},
   "source": [
    "## plot v1"
   ]
  },
  {
   "cell_type": "code",
   "execution_count": 142,
   "id": "139d2669-c75d-40c2-bcbc-c3c98d9f4326",
   "metadata": {},
   "outputs": [],
   "source": [
    "fight_means = epoch_mean_win_state_probs[0]\n",
    "nonfight_means = epoch_mean_win_state_probs[1]\n",
    "\n",
    "fight_err = epoch_bootstrapped_stdevs[0]\n",
    "nonfight_err = epoch_bootstrapped_stdevs[1]\n",
    "\n",
    "n = len(all_state_names)\n",
    "xvals = np.arange(n)\n",
    "width = 0.25\n"
   ]
  },
  {
   "cell_type": "code",
   "execution_count": null,
   "id": "0c43f2dd-c23d-46b6-b365-c164b3f18c40",
   "metadata": {},
   "outputs": [],
   "source": []
  },
  {
   "cell_type": "code",
   "execution_count": 143,
   "id": "85180008-9b49-4a6c-bb10-004a8c730f81",
   "metadata": {},
   "outputs": [],
   "source": [
    "# We want to permute based on the new plot order\n",
    "plot_fight_means = np.array([fight_means[i] for i in new_plot_order])\n",
    "plot_fight_err = np.array([fight_err[i] for i in new_plot_order])\n",
    "plot_nonfight_means = np.array([nonfight_means[i] for i in new_plot_order])\n",
    "plot_nonfight_err = np.array([nonfight_err[i] for i in new_plot_order])\n",
    "\n",
    "\n",
    "plot_state_names = [all_state_names[i] for i in new_plot_order]"
   ]
  },
  {
   "cell_type": "code",
   "execution_count": null,
   "id": "eaea3d84-c0b4-431e-842f-54ed36a383ff",
   "metadata": {},
   "outputs": [],
   "source": []
  },
  {
   "cell_type": "code",
   "execution_count": 144,
   "id": "80311551-3b5c-44bf-9cca-0c9b180af42a",
   "metadata": {},
   "outputs": [
    {
     "data": {
      "application/vnd.jupyter.widget-view+json": {
       "model_id": "488485428f2f453cbc09b34425712129",
       "version_major": 2,
       "version_minor": 0
      },
      "text/html": [
       "\n",
       "            <div style=\"display: inline-block;\">\n",
       "                <div class=\"jupyter-widgets widget-label\" style=\"text-align: center;\">\n",
       "                    Figure\n",
       "                </div>\n",
       "                <img src='data:image/png;base64,iVBORw0KGgoAAAANSUhEUgAAAoAAAAHgCAYAAAA10dzkAAAAOXRFWHRTb2Z0d2FyZQBNYXRwbG90bGliIHZlcnNpb24zLjQuMywgaHR0cHM6Ly9tYXRwbG90bGliLm9yZy/MnkTPAAAACXBIWXMAAA9hAAAPYQGoP6dpAACQiUlEQVR4nOzdd1QU198G8GfpRap0pSlKCRaKDWxExZaIRn/2Go0x9hJbjA17bNhb7EY0sRsrRkGJnWJFVEQWFYQVpSwd5v3Dlw3rUhZYmJnl+zlnz4HZYfZZCzzcmblXwDAMA0IIIYQQUmuosB2AEEIIIYTULCqAhBBCCCG1DBVAQgghhJBahgogIYQQQkgtQwWQEEIIIaSWoQJICCGEEFLLUAEkhBBCCKllqAASQgghhNQyVAAJIYQQQmoZKoCEEEIIIbUMFUBCCCGEkFqGCiAhhBBCSC1DBZAQQgghpJahAkgIIYQQUsuosR2gJFu3bsXq1auRkJCAr776CgEBAWjXrl25X/fvv/+iQ4cOcHV1RWRkpNRzx48fx/z58xETE4OGDRti2bJl6NOnj9yZCgsL8e7dO+jp6UEgEFT0LRFCCCGEKAzDMEhPT4eVlRVUVCoxnsdwzJEjRxh1dXVm165dzNOnT5kpU6Ywurq6TFxcXJlf9+nTJ6ZBgwaMr68v06xZM6nnbt68yaiqqjLLly9noqKimOXLlzNqamrM7du35c4VHx/PAKAHPehBD3rQgx704MwjPj6+MnWLETAMw4BDWrVqBXd3d2zbtk2yzdnZGb1798aKFStK/bqBAweiUaNGUFVVxalTp6RGAAcMGIC0tDRcuHBBsq1bt24wMjJCYGCgXLlSU1NhaGiI+Ph46OvrV/yNEUIIIYQoSFpaGqytrfHp0ycYGBhU+Os5dQo4NzcXYWFhmDNnjtR2X19f3Lx5s9Sv27t3L2JiYnDo0CEsXbpU5vlbt25h2rRpUtu6du2KgIAAubMVnfbV19enAkgIIYQQTqjsZWmcKoAikQgFBQUwNzeX2m5ubo7ExMQSv+bFixeYM2cObty4ATW1kt9OYmJihY4JADk5OcjJyZF8npaWJu/bIIQQQgjhNE7eBfxlm2UYpsSGW1BQgMGDB2Px4sVo3LixQo5ZZMWKFTAwMJA8rK2tK/AOCCGEEEK4i1MF0MTEBKqqqjIjc0lJSTIjeACQnp6O+/fvY+LEiVBTU4Oamhr8/f3x4MEDqKmp4erVqwAACwsLuY9ZZO7cuUhNTZU84uPjFfAOCSGEEELYx6lTwBoaGvDw8EBQUJDUFC1BQUHw8/OT2V9fXx+PHj2S2rZ161ZcvXoVx44dg729PQCgTZs2CAoKkroO8PLly/Dy8io1i6amJjQ1NSv8HgoKCpCXl1fhryM1Q11dHaqqqmzHIIQQQljFqQIIANOnT8ewYcPg6emJNm3aYOfOnRAKhRg3bhyAzyNzb9++xYEDB6CiogJXV1eprzczM4OWlpbU9ilTpqB9+/ZYtWoV/Pz8cPr0aVy5cgWhoaEKy80wDBITE/Hp0yeFHZNUD0NDQ1hYWNB8joQQQmotzhXAAQMG4MOHD/D390dCQgJcXV1x/vx52NraAgASEhIgFAordEwvLy8cOXIEv/76K+bPn4+GDRvi6NGjaNWqlcJyF5U/MzMz6OjoULngIIZhkJmZiaSkJACApaUly4kIIYQQdnBuHkCuSktLg4GBAVJTU2WmgSkoKMDz589hZmaGunXrspSQyOvDhw9ISkpC48aN6XQwIYQQXiqrl8iDUzeB8FXRNX86OjosJyHyKPp7oms1CSGE1FZUABWITvvyA/09EUIIqe2oABJCCCGE1DKcuwlE2QiFQohEohp7PRMTE9jY2Mi9P8Mw+PHHH3Hs2DF8/PgRBgYGGDlyZIWXyTt58iR69+5d8cCEEEIIqXFUAKuRUCiEs5MjMrOya+w1dbS1EPUsWu4SePHiRezbtw/BwcFo0KABVFRUoK2trdBMwcHB8PHxwcePH2FoaKjQYxNCCCGk4qgAViORSITMrGzs7msLR1Otan+96ORsjD4eB5FIJHcBjImJgaWlZZmTYhNCCCFEmlgsRp06dQAAGRkZ0NXVZTlRxVABrAGOplpws+LeHcIjR47E/v37AXw+jWtraws7Ozs0b95ccgo4ISEBY8aMwdWrV2FhYYFly5bhl19+wdSpUzF16lTJsUQiEfr06YNLly6hXr16WLt2LXr16oXXr1/Dx8cHAGBkZAQAGDFiBPbt21eTb5UQQgghxdBNILXYhg0b4O/vj/r16yMhIQH37t2T2Wf48OF49+4dgoODcfz4cezcuVMykXJxixcvRv/+/fHw4UP06NEDQ4YMQUpKCqytrXH8+HEAQHR0NBISErBhw4Zqf2+EEEIIKR0VwFrMwMAAenp6UFVVhYWFBUxNTaWef/bsGa5cuYJdu3ahVatWcHd3x++//46srCyZY40cORKDBg2Cg4MDli9fDrFYjLt370JVVRXGxsYAPi/TZ2FhAQMDgxp5f4QQQggpGRVAUqro6GioqanB3d1dss3BwUFyKre4pk2bSj7W1dWFnp5eiSOFhBBCCGEfFUBSqtJWCSxpu7q6utTnAoEAhYWF1ZKLEEIIIVVDBZCUysnJCfn5+YiIiJBse/nyJT59+lSh42hoaAD4vGYyIYQQQthHBZCUysnJCZ07d8bYsWNx9+5dREREYOzYsdDW1q7Qcmq2trYQCAT4+++/kZycjIyMjGpMTQghhJDy0DQwNSA6uWYmgq6O1zlw4ABGjx6N9u3bw8LCAitWrMCTJ0+gpSX/vIb16tXD4sWLMWfOHIwaNQrDhw+naWAIIYQQFgmY0i70IlLS0tJgYGCA1NRU6OvrSz2XnZ2N2NhY2NvbSxUjPqwEUlFv3ryBtbU1rly5gk6dOlXLa1S30v6+CCGEEHmxPRF0Wb1EHjQCWI1sbGwQ9Sya02sBl+fq1avIyMhAkyZNkJCQgFmzZsHOzg7t27dX2GsQQgghpGZRAaxmNjY21TYaVxPy8vLwyy+/4NWrV9DT04OXlxf++OMPmbt+CSGEEMIfVABJmbp27YquXbuyHYMQQgghCkR3ARNCCCGE1DJUAAkhhBBCahkqgIQQQgghtQwVQEIIIYSQWoYKICGEEEJILUN3ARNCCCGElEMoFErN65uVlSX5ODIyEtra2lL7K3peXkWjAljNvvwHU924+A+OYRj8+OOPOHbsGD5+/IiIiAhMnToVzZs3R0BAgNzHEQgEOHnyJHr37l1tWQkhhJAvCYVCODk5IquUlb3atm0rs01LSxPR0c859zO5CBXAasTKUnBaWoiKrr6l4Crj4sWL2LdvH4KDg9GgQQOYmJjgxIkTCp9MOjg4GD4+Pvj48SMMDQ0VemxCCCG1l0gkQlZWNkZ3MIeF4eefXbn5hVh97h0AYGZPK2ioqSA0Og0hz9LgbqeL8NdiiEQiTv08Lo4KYDUSiUTIzMrG7r62cDQtec3Z/WEfsOueCD+0MMEIj7oVfo3M3ALMOPcGr1JyMK2tOZZeS+TcP7iYmBhYWlrCy8tLss3Y2JjFRIQQQkjFWRiqw9bk88/znLxCyXabulq48vgTQp6lwc/dGK7WOgh/LWYrplzoJpAa4GiqBTcrHZnH5edp2HVPhAVfWyLgW+sS9ynr4VBXEwuCEhD3KRfnRzVCN0eDCmfr2LEjJk+ejFmzZsHY2BgWFhZYtGiR5HmhUAg/Pz/UqVMH+vr66N+/P96/fy95ftGiRWjevDkOHjwIOzs7GBgYYODAgUhPTwcAjBw5EpMmTYJQKIRAIICdnZ3kdadOnSo5TkJCAnr27AltbW3Y29vj8OHDsLOzkzlFLBKJ0KdPH+jo6KBRo0Y4c+YMAOD169fw8fEBABgZGUEgEGDkyJEV/vMghBBCKurig484HZ4CP3dj9HTjxwAHFUCWrApOhP/VBCz42hKzO1pU+OvTcwrQ+0AMniZl4ewIB3jW1610lv3790NXVxd37tzBb7/9Bn9/fwQFBYFhGPTu3RspKSkICQlBUFAQYmJiMGDAAKmvj4mJwalTp/D333/j77//RkhICFauXAkA2LBhA/z9/VG/fn0kJCTg3r17JWYYPnw43r17h+DgYBw/fhw7d+5EUlKSzH6LFy9G//798fDhQ/To0QNDhgxBSkoKrK2tcfz4cQBAdHQ0EhISsGHDhkr/mRBCCCHyOvfgI6/KH8DRArh161bY29tDS0sLHh4euHHjRqn7hoaGwtvbG3Xr1oW2tjacnJywfv16qX327dsHgUAg88jOrrlr84rjUvkDgKZNm2LhwoVo1KgRhg8fDk9PT/zzzz+4cuUKHj58iMOHD8PDwwOtWrXCwYMHERISIlXkCgsLsW/fPri6uqJdu3YYNmwY/vnnHwCAgYEB9PT0oKqqCgsLC5iamsq8/rNnz3DlyhXs2rULrVq1gru7O37//XepO6yKjBw5EoMGDYKDgwOWL18OsViMu3fvQlVVVXJa2czMDBYWFjAwqPiIKCGEEFJRPZsZ8ar8ARy8BvDo0aOYOnUqtm7dCm9vb+zYsQPdu3fH06dPS7yuTVdXFxMnTkTTpk2hq6uL0NBQ/Pjjj9DV1cXYsWMl++nr6yM6Olrqa7W0Sr4urzpxrfwBnwtgcZaWlkhKSkJUVBSsra1hbW0tec7FxQWGhoaIiopCixYtAAB2dnbQ09OT+Xp5RUdHQ01NDe7u7pJtDg4OMDIyKjOrrq4u9PT0KvRahBBCiCJcfPBR8nG3ZrI/r7iOcwVw3bp1GD16NMaMGQMACAgIwKVLl7Bt2zasWLFCZn83Nze4ublJPrezs8OJEydw48YNqQIoEAhgYVHxwqVIXCx/AGTuxhUIBCgsLATDMBAIBDL7f7m9tK+XF8Mwcm+v6msRQgghVXUuIgXnihVAPuLUKeDc3FyEhYXB19dXaruvry9u3rwp1zEiIiJw8+ZNdOjQQWp7RkYGbG1tUb9+fXzzzTeIiIgo8zg5OTlIS0uTelQFV8tfWVxcXCAUChEfHy/Z9vTpU6SmpsLZ2Vlhr+Pk5IT8/Hypv5OXL1/i06dPFTqOhoYGAKCgoEBh2QghhJDizkWk4HR4CnrycNSvOE4VQJFIhIKCApibm0ttNzc3R2JiYplfW79+fWhqasLT0xMTJkyQjCACnwvGvn37cObMGQQGBkJLSwve3t548eJFqcdbsWIFDAwMJI/ip0Eran/YB96VPwDo3LkzmjZtiiFDhiA8PBx3797F8OHD0aFDB3h6eirsdZycnNC5c2eMHTsWd+/eRUREBMaOHQttbe0SRyBLY2trC4FAgL///hvJycnIyMhQWEZCCCEkNDpNcrcvH0/7Fse5U8AAZH7ol3YqsrgbN24gIyMDt2/fxpw5c+Dg4IBBgwYBAFq3bo3WrVtL9vX29oa7uzs2bdqEjRs3lni8uXPnYvr06ZLP09LSKl0Ci+b5822sj4h3mRX62uLz/AV8aw1VFUGpx4hOVuxNLQKBAKdOncKkSZPQvn17qKiooFu3bti0aZNCXwcADhw4gNGjR6N9+/awsLDAihUr8OTJkwpdp1mvXj0sXrwYc+bMwahRozB8+HDs27dP4VkJIYTUTkXz/PV0M5aaB5CPBExpF2CxIDc3Fzo6Ovjrr7/Qp08fyfYpU6YgMjISISEhch1n6dKlOHjwoMxNH8X98MMPePPmDS5cuCDXMdPS0mBgYIDU1FTo6+tLPZednY3Y2FjJnctFhEIhHBs3QnZOrlyvoQg62lqIesatlUAq482bN7C2tsaVK1fQqVMnhR67tL8vQgghpCTh4eHw8PBAByd9DPE2A/B5IuhJB14BADYNbwBN9f9OqsaJsrHs9BuEhYVJ3eCoSGX1EnlwagRQQ0MDHh4eCAoKkiqAQUFB8PPzk/s4DMMgJyenzOcjIyPRpEmTKuUtj42NDaKfv6j1awHL4+rVq8jIyECTJk2QkJCAWbNmwc7ODu3bt2c7GiGEEAIAaOtY8aLFVZwqgAAwffp0DBs2DJ6enmjTpg127twJoVCIcePGAfh8avbt27c4cOAAAGDLli2wsbGBk5MTgM/zAq5ZswaTJk2SHHPx4sVo3bo1GjVqhLS0NGzcuBGRkZHYsmVLtb8fGxsbXhaympaXl4dffvkFr169gp6eHry8vPDHH38ofL1gQgghhHCwAA4YMAAfPnyAv78/EhIS4OrqivPnz8PW1hbA5yXDhEKhZP/CwkLMnTsXsbGxUFNTQ8OGDbFy5Ur8+OOPkn0+ffqEsWPHIjExEQYGBnBzc8P169fRsmXLGn9/pGRdu3ZF165d2Y5BCCGE1AqcK4AAMH78eIwfP77E5768qH/SpElSo30lWb9+vczqIIQQQggh1SE3jzO3V5SKU9PA8B2H7qchZaC/J0IIIdUlO7cQgbeS2Y5RLiqAClB0nVpmZsWmeCHsKPp7ousLCSGEKFJ2biE2XHqHpPQ8tqOUi5OngPlGVVUVhoaGkjVpdXR0KjSBMakZDMMgMzMTSUlJMDQ0hKqqKtuRCCGE8JSmugp2jnaQfF5U/t5+zMUQL1Psvc7tdeqpACpI0TrDRSWQcJehoSHr60ITQghRHsXL37TuVlDhwRgQFUAFEQgEsLS0hJmZGfLyuD/0W1upq6vTyB8hhBCF+bL82ZtqIU6k2JW5qgMVQAVTVVWlgkEIIYTUAiWVP76gm0AIIYQQQiqIz+UPoAJICCGEEFIhfC9/ABVAQgghhBC5KUP5A6gAEkIIIYTIJTePUYryB9BNIIQQQgghcgm8lQxRRj7vyx9AI4CEEEIIIXJJSs9TivIHUAEkhBBCCJHLEC9TpSh/ABVAQgghhBC5WBlpsB1BYagAEkIIIYTUMlQACSGEEEJqGSqAhBBCCCEK9O5jLtsRykUFkBBCCCFEQWKTs/HHzWS2Y5SLCiAhhBBCiALEJmdj/YV3MNNTZztKuagAcpxYLIZAIIBAIIBYLGY7DiGEEEJKUFT+6hlpYFAbU7bjlIsKICGEEEJIFRQvf1O6WkFDXcB2pHJRASSEEEIIqaQvy5+WBj+qFT9SEkIIIYRwDF/LH0AFkFQzuoaREEKIMuJz+QOoABJCCCGEVAjfyx9ABZAQQgghRG7KUP4AQI3tAIQQQgghfPDuYy4Cb4l4X/4AGgEkhBBCCJHLHzeTlaL8ARwtgFu3boW9vT20tLTg4eGBGzdulLpvaGgovL29UbduXWhra8PJyQnr16+X2e/48eNwcXGBpqYmXFxccPLkyep8C5UmFAoRHh4ueURGRkqei4yMlHouPDwcQqGQvbCEEEJILWKmp64U5Q/g4Cngo0ePYurUqdi6dSu8vb2xY8cOdO/eHU+fPoWNjY3M/rq6upg4cSKaNm0KXV1dhIaG4scff4Suri7Gjh0LALh16xYGDBiAJUuWoE+fPjh58iT69++P0NBQtGrVqqbfYqmEQiGcnRyRmZVd4vNt27aV2aajrYWoZ9El/tkQQgghRHEGtTFVivIHAAKGYRi2QxTXqlUruLu7Y9u2bZJtzs7O6N27N1asWCHXMb777jvo6uri4MGDAIABAwYgLS0NFy5ckOzTrVs3GBkZITAwUK5jpqWlwcDAAKmpqdDX16/AO5JfeHg4PDw8sLuvLRxNtQAAWXmF6LL7BQAgaHQjaKv/9w8vOjkbo4/HISwsDO7u7tWSqarEYjHq1KkDAMjIyICuri7LiQghhJCKKfr5PM+vPmxNtMrdP06UjWWn31Trz+eq9hJO1djc3FyEhYXB19dXaruvry9u3rwp1zEiIiJw8+ZNdOjQQbLt1q1bMsfs2rVrmcfMyclBWlqa1KOmOJpqwc1KB25WOmhmqS3Z3sxSW7LdzUpHUhIJIYQQQiqCUwVQJBKhoKAA5ubmUtvNzc2RmJhY5tfWr18fmpqa8PT0xIQJEzBmzBjJc4mJiRU+5ooVK2BgYCB5WFtbV+IdEUIIIYRwD+euAQQAgUB6EWWGYWS2fenGjRvIyMjA7du3MWfOHDg4OGDQoEGVPubcuXMxffp0yedpaWlUAuUgFAohEokkn2dlZUk+joyMhLa2ttT+JiYmdP0iIYQQpRIaXXNnDSuLUwXQxMQEqqqqMiNzSUlJMiN4X7K3twcANGnSBO/fv8eiRYskBdDCwqLCx9TU1ISmpmZl3katJRQK4eTojKzszBKfL+kmFm0tHTyLjqISSAghRCmci0hByDMqgBWioaEBDw8PBAUFoU+fPpLtQUFB8PPzk/s4DMMgJydH8nmbNm0QFBSEadOmSbZdvnwZXl5eiglOAHw+hZ+VnYlhdWfAXP3zaGluYQ42Js0GAEw2WwUNlf9K9fu8eBz8sBYikYgKICGEEN47F5GC0+Ep6OCkz/kSyKkCCADTp0/HsGHD4OnpiTZt2mDnzp0QCoUYN24cgM+nZt++fYsDBw4AALZs2QIbGxs4OTkB+Dwv4Jo1azBp0iTJMadMmYL27dtj1apV8PPzw+nTp3HlyhWEhobW/BusBczVrWGt4QAAyCn8b0qb+hoNoalCN64QQghRPkXlz8/dGK7WOlQAK2rAgAH48OED/P39kZCQAFdXV5w/fx62trYAgISEBKnJjwsLCzF37lzExsZCTU0NDRs2xMqVK/Hjjz9K9vHy8sKRI0fw66+/Yv78+WjYsCGOHj3KqTkACSGEEMJPxctfTzdjxIlKns+XSzhXAAFg/PjxGD9+fInP7du3T+rzSZMmSY32laZfv37o16+fIuLVKF0NVYj93diOQQghhJASfFn++IJT08AQQgghhPAFX8sfQAWQEEIIIaTC+Fz+ACqAhBBCCCEVwvfyB1ABJIQQQgiRmzKUP4CjN4EQQgghhHBNaHQaQp6l8b78AVQASTXTVNHCBpu/2Y5BCCGEVJmylD+ATgETQgghhMilg5O+UpQ/gAogIYQQQohc2jrqsx1BYagAEkIIIYTUMlQACSGEEEJqGSqAhBBCCCEKlJvHsB2hXFQACSGEEEIUJDu3EIG3ktmOUS4qgIQQQgghCpCdW4gNl94hKT2P7SjlogJICCGEEFJFReXv7cdcDPEyZTtOuWgiaEIIIYSQKihe/qZ1t4KKgO1E5aMRQEIIIYSQSvqy/NmbarEdSS5UAAkhhBBCKoGv5Q+gAkgIIYQQUmF8Ln8AFUBCCCGEkArhe/kDqAASQgghhMhNGcofQAWQEEIIIUQuuXmMUpQ/gKaBIYQQQgiRS+CtZIgy8nlf/gAaASSEEEIIkUtSep5SlD+ACiAhhBBCiFyGeJkqRfkDqAASQgghhMjFykiD7QgKQwWQEEIIIaSWoQJICCGEEFLLUAEkhBBCCFGgdx9z2Y5QLk4WwK1bt8Le3h5aWlrw8PDAjRs3St33xIkT6NKlC0xNTaGvr482bdrg0qVLUvvs27cPAoFA5pGdnV3db4UQQgghtUhscjb+uJnMdoxyca4AHj16FFOnTsW8efMQERGBdu3aoXv37hAKhSXuf/36dXTp0gXnz59HWFgYfHx88O233yIiIkJqP319fSQkJEg9tLSU404eQgghhLAvNjkb6y+8g5meOttRysW5Arhu3TqMHj0aY8aMgbOzMwICAmBtbY1t27aVuH9AQABmzZqFFi1aoFGjRli+fDkaNWqEs2fPSu0nEAhgYWEh9SCEEEIIUYSi8lfPSAOD2piyHadcnCqAubm5CAsLg6+vr9R2X19f3Lx5U65jFBYWIj09HcbGxlLbMzIyYGtri/r16+Obb76RGSEkhBBCCKmM4uVvSlcraKgL2I5ULk4VQJFIhIKCApibm0ttNzc3R2JiolzHWLt2LcRiMfr37y/Z5uTkhH379uHMmTMIDAyElpYWvL298eLFi1KPk5OTg7S0NKkHIYQQQkhxX5Y/LQ1OVatScXItYIFAujkzDCOzrSSBgYFYtGgRTp8+DTMzM8n21q1bo3Xr1pLPvb294e7ujk2bNmHjxo0lHmvFihVYvHhxJd8BIYQQQpQdX8sfwLERQBMTE6iqqsqM9iUlJcmMCn7p6NGjGD16NP7880907ty5zH1VVFTQokWLMkcA586di9TUVMkjPj5e/jdCCCGEEKXG5/IHcKwAamhowMPDA0FBQVLbg4KC4OXlVerXBQYGYuTIkTh8+DB69uxZ7uswDIPIyEhYWlqWuo+mpib09fWlHoQQQgghfC9/gAIL4L59+5CZmVnl40yfPh2///479uzZg6ioKEybNg1CoRDjxo0D8Hlkbvjw4ZL9AwMDMXz4cKxduxatW7dGYmIiEhMTkZqaKtln8eLFuHTpEl69eoXIyEiMHj0akZGRkmMSQgghhMhDGcofoMACOHfuXFhYWGD06NFy37FbkgEDBiAgIAD+/v5o3rw5rl+/jvPnz8PW1hYAkJCQIDUn4I4dO5Cfn48JEybA0tJS8pgyZYpkn0+fPmHs2LFwdnaGr68v3r59i+vXr6Nly5aVf8OEEEIIqVXefcxVivIHKPAmkDdv3uDcuXPYt28ffHx8YG9vj1GjRmHEiBEVnnNv/PjxGD9+fInP7du3T+rz4ODgco+3fv16rF+/vkIZCCGEEEKK++NmMqyNNXlf/gAFjgCqqqqiV69eOHHiBOLj4zF27Fj88ccfsLGxQa9evXD69GkUFhYq6uUIIYQQQmqUmZ66UpQ/oJpuAjEzM4O3tzfatGkDFRUVPHr0CCNHjkTDhg3lGrEjhBBCCOGaQW1MlaL8AQougO/fv8eaNWvw1VdfoWPHjkhLS8Pff/+N2NhYvHv3Dt999x1GjBihyJckhBBCCKkRfFjhQ14Kuwbw22+/xaVLl9C4cWP88MMPGD58uNRybNra2pgxYwZdi0cIIYQQwjKFFUAzMzOEhISgTZs2pe5jaWmJ2NhYRb0kIYQQQgipBIWdAu7QoQPc3d1ltufm5uLAgQMAPi/xVjSdCyGEEEKIMgqNTmM7QrkUVgBHjRolNflykfT0dIwaNUpRL0MIIYQQwlnnIlIQ8qwWFUCGYSAQyF4c+ebNGxgYGCjqZQghhBBCOOlcRApOh6eggxP3l4+t8jWAbm5uEAgEEAgE6NSpE9TU/jtkQUEBYmNj0a1bt6q+DCGEEEIIZxWVPz93Y7ha63B+FLDKBbB3794AgMjISHTt2hV16tSRPKehoQE7Ozv07du3qi9DCCGEEMJJxctfTzdjxImy2Y5UrioXwIULFwIA7OzsMGDAAGhpaVU5FCGEEEIIH3xZ/vhCYdPA0ATPhBBCCKlN+Fr+gCoWQGNjYzx//hwmJiYwMjIq8SaQIikpKVV5KUIIIYQQzuBz+QOqWADXr18PPT09ycdlFUBCCCGEEGXA9/IHVLEAFj/tO3LkyKpmIYQQQgjhNGUof0AVC2Bamvy3OOvrc39OHEIIIYSQ0oRGpyHkWRrvyx9QxQJoaGhY7mnfogmiCwoKqvJShBBCCCGsUpbyB1SxAF67dk1ROQghhBBCOK2Dk75SlD+gigWwQ4cOispBCCGEEMJpbR2V53K2KhXAhw8fwtXVFSoqKnj48GGZ+zZt2rQqL0UIIYQQQhSkSgWwefPmSExMhJmZGZo3bw6BQACGYWT2o2sACSGEEEK4o0oFMDY2FqamppKPCSGEEEJqu9w82cEwrqlSAbS1tS3xY0IIIYSQ2ig7txCBt5LZjlEuha0FDADR0dHYtGkToqKiIBAI4OTkhEmTJsHR0VGRL0MIIYQQwjnZuYXYcOkdktLz2I5SLhVFHejYsWNwdXVFWFgYmjVrhqZNmyI8PByurq7466+/FPUyhBBCCCGcU1T+3n7MxRAvU7bjlEthI4CzZs3C3Llz4e/vL7V94cKFmD17Nv73v/8p6qUIIYQQQjijePmb1t0KKmWvkcEJChsBTExMxPDhw2W2Dx06FImJiYp6GUIIIYQQzviy/NmbarEdSS4KK4AdO3bEjRs3ZLaHhoaiXbt2inoZQgghhBBO4Gv5A6pYAM+cOSN59OrVC7Nnz8bEiRNx6NAhHDp0CBMnTsScOXPQp0+fCh1369atsLe3h5aWFjw8PEoslkVOnDiBLl26wNTUFPr6+mjTpg0uXboks9/x48fh4uICTU1NuLi44OTJkxV+v4QQQgghAL/LH1DFawB79+4ts23r1q3YunWr1LYJEyZg3Lhxch3z6NGjmDp1KrZu3Qpvb2/s2LED3bt3x9OnT2FjYyOz//Xr19GlSxcsX74choaG2Lt3L7799lvcuXMHbm5uAIBbt25hwIABWLJkCfr06YOTJ0+if//+CA0NRatWrSr+xgkhhBBSa/G9/AFVHAEsLCyU61GRVUDWrVuH0aNHY8yYMXB2dkZAQACsra2xbdu2EvcPCAjArFmz0KJFCzRq1AjLly9Ho0aNcPbsWal9unTpgrlz58LJyQlz585Fp06dEBAQUJW3TwghhJBaRhnKH6DAawAVITc3F2FhYfD19ZXa7uvri5s3b8p1jMLCQqSnp8PY2Fiy7datWzLH7Nq1q9zHJIQQQgjJzWOUovwBCp4IWiwWIyQkBEKhELm5uVLPTZ48udyvF4lEKCgogLm5udR2c3Nzue8kXrt2LcRiMfr37y/ZlpiYWOFj5uTkICcnR/J5WlqaXK9PCCGEEOUUeCsZoox83pc/QIEFMCIiAj169EBmZibEYjGMjY0hEomgo6MDMzMzuQpgEYFAegIdhmFktpUkMDAQixYtwunTp2FmZlalY65YsQKLFy+WOzMhhBBClFtSeh5m9KjH+/IHKPAU8LRp0/Dtt98iJSUF2trauH37NuLi4uDh4YE1a9bIdQwTExOoqqrKjMwlJSXJjOB96ejRoxg9ejT+/PNPdO7cWeo5CwuLCh9z7ty5SE1NlTzi4+Pleg+EEEIIUU5DvEyVovwBCiyAkZGRmDFjBlRVVaGqqoqcnBxYW1vjt99+wy+//CLXMTQ0NODh4YGgoCCp7UFBQfDy8ir16wIDAzFy5EgcPnwYPXv2lHm+TZs2Mse8fPlymcfU1NSEvr6+1IMQQgghtZeVkQbbERRGYaeA1dXVJadUzc3NIRQK4ezsDAMDAwiFQrmPM336dAwbNgyenp5o06YNdu7cCaFQKJlGZu7cuXj79i0OHDgA4HP5Gz58ODZs2IDWrVtLRvq0tbVhYGAAAJgyZQrat2+PVatWwc/PD6dPn8aVK1cQGhqqqLdPCCGEEMIbCiuAbm5uuH//Pho3bgwfHx8sWLAAIpEIBw8eRJMmTeQ+zoABA/Dhwwf4+/sjISEBrq6uOH/+PGxtbQEACQkJUoVyx44dyM/Px4QJEzBhwgTJ9hEjRmDfvn0AAC8vLxw5cgS//vor5s+fj4YNG+Lo0aM0ByAhhBBCaiWFFcDly5cjPT0dALBkyRKMGDECP/30ExwcHLB3794KHWv8+PEYP358ic8VlboiwcHBch2zX79+6NevX4VyEEIIIYRU1LuPueXvxDKFFUBPT0/Jx6ampjh//ryiDk0IIYQQwguxydn442Yy2zHKpdB5AIHPd9dGR0dDIBDA0dERpqamin4JQgghhBDOiU3OxvoL72Cmp443HB8FVNhdwGlpaRg2bBjq1auHDh06oH379rCyssLQoUORmpqqqJchhBBCCOGcovJXz0gDg9pwf/BLYQVwzJgxuHPnDv7++298+vQJqamp+Pvvv3H//n388MMPinoZQgghhBBOKV7+pnS1goZ6+YtXsE1hp4DPnTuHS5cuoW3btpJtXbt2xa5du9CtWzdFvQwhhBBCCGd8Wf60NBQ2tlatFJaybt26knn3ijMwMICRkZGiXoYQQgghhBP4Wv4ABRbAX3/9FdOnT0dCQoJkW2JiImbOnIn58+cr6mUIIYQQQljH5/IHVPEUsJubm2T1DwB48eIFbG1tYWNjAwAQCoXQ1NREcnIyfvzxx6olJaSGicVi1KlTBwCQkZEBXV1dlhMRQgjhAr6XP6CKBbB3794KikEIIYQQwn3KUP6AKhbAhQsXKioHIYQQQginvfuYi8BbIt6XP6AaJoIOCwtDVFQUBAIBXFxc4ObmpuiXIIQQQgipcX/cTIa1sSbvyx+gwAKYlJSEgQMHIjg4GIaGhmAYBqmpqfDx8cGRI0doRRBCCCGE8JqZnrpSlD9AgXcBT5o0CWlpaXjy5AlSUlLw8eNHPH78GGlpaZg8ebKiXoYQQgghhBWD2pgqRfkDFDgCePHiRVy5cgXOzs6SbS4uLtiyZQt8fX0V9TKEEEIIIazgwwof8lJYjS0sLIS6urrMdnV1dRQWFirqZQghhBBCSBUpbATw66+/xpQpUxAYGAgrKysAwNu3bzFt2jR06tRJUS9DSLURCoUQiUSSz7OysiQfR0ZGQltbW2p/ExMTyZyXhBBCCJ8orABu3rwZfn5+sLOzg7W1NQQCAYRCIZo0aYJDhw4p6mUIqRZCoRDOzo7IzMwu8fnia1wX0dHRQlRUNJVAQgghUkKj09iOUC6FFUBra2uEh4cjKCgIz549A8MwcHFxQefOnRX1EoRUG5FIhMzMbBwKMISzw+f/FlnZDNr2+wAACD1WF9pa/137EfUyH0OnfoJIJKICSAghROJcRApCntWSApifnw8tLS1ERkaiS5cu6NKliyIOS0iNc3ZQg3uTz9eyijP/u3a1+Vdq0NVRjju/CCGEVI9zESk4HZ6CDk76nC+BCvmJpqamBltbWxQUFCjicIQQQgghvFJU/vzcjdHWUZ/tOOVS2JDGr7/+irlz5yIlJUVRhySEEEII4bzi5a+nmzHbceSisGsAN27ciJcvX8LKygq2trbQ1dWVej48PFxRL0UIIYQQwgl8LH+AAgtg7969IRAIwDCMog5JCCGEEMJZfC1/gAIKYGZmJmbOnIlTp04hLy8PnTp1wqZNm2BiYqKIfIQQQgghnMPn8gco4BrAhQsXYt++fejZsycGDRqEK1eu4KefflJENkJYpaujAibOEkycJd0BTAghRILv5Q9QwAjgiRMnsHv3bgwcOBAAMGTIEHh7e6OgoACqqqpVDkgIIYQQwhXKUP4ABYwAxsfHo127dpLPW7ZsCTU1Nbx7966qhyaVIBaLIRAIIBAIIBaL2Y5DCCGEKI3Q6DSlKH+AAgpgQUEBNDQ0pLapqakhPz+/qocmhBBCCOGMkGdpSlH+AAWcAmYYBiNHjoSmpqZkW3Z2NsaNGyc1FcyJEyeq+lKEEEIIIazp4KSvFOUPUMAI4IgRI2BmZgYDAwPJY+jQobCyspLaVhFbt26Fvb09tLS04OHhgRs3bpS6b0JCAgYPHgxHR0eoqKhg6tSpMvvs27dPclq0+CM7O7uib5cQQgghtRQfVviQV5VHAPfu3auIHBJHjx7F1KlTsXXrVnh7e2PHjh3o3r07nj59ChsbG5n9c3JyYGpqinnz5mH9+vWlHldfXx/R0dFS27S0tBSanRBCCCGEDzg3t8W6deswevRojBkzBs7OzggICIC1tTW2bdtW4v52dnbYsGEDhg8fXuZIo0AggIWFhdSDEEIIIaQ24lQBzM3NRVhYGHx9faW2+/r64ubNm1U6dkZGBmxtbVG/fn188803iIiIKHP/nJwcpKWlST0IIYQQQsqTm8f9VdE4VQBFIhEKCgpgbm4utd3c3ByJiYmVPq6TkxP27duHM2fOIDAwEFpaWvD29saLFy9K/ZoVK1ZIXcNobW1d6dcnhBBCSO2QnVuIwFvJbMcoF6cKYBGBQCD1OcMwMtsqonXr1hg6dCiaNWuGdu3a4c8//0Tjxo2xadOmUr9m7ty5SE1NlTzi4+Mr/fqEEEIIUX7ZuYXYcOkdktLz2I5SLk4VQBMTE6iqqsqM9iUlJcmMClaFiooKWrRoUeYIoKamJvT19aUehBBCCCElKSp/bz/mYoiXKdtxysWpAqihoQEPDw8EBQVJbQ8KCoKXl5fCXodhGERGRsLS0lJhxySEEEJI7VS8/E3rbgUrI43yv4hlVZ4GRtGmT5+OYcOGwdPTE23atMHOnTshFAoxbtw4AJ9Pzb59+xYHDhyQfE1kZCSAzzd6JCcnIzIyEhoaGnBxcQEALF68GK1bt0ajRo2QlpaGjRs3IjIyElu2bKnx91cdoqKiJB9nZWVJPo6MjIS2trbUviYmJiVOp0MIIYSQivuy/NmbaiFOxP15hjlXAAcMGIAPHz7A398fCQkJcHV1xfnz52Frawvg88TPQqFQ6mvc3NwkH4eFheHw4cOwtbXF69evAQCfPn3C2LFjkZiYCAMDA7i5ueH69eto2bJljb2v6pCYngcVATB06NASn2/btq3MNh1tLUQ9i6YSSAghhFRRSeWPLzhXAAFg/PjxGD9+fInP7du3T2Ybw5R9u/X69evLnCSar1KzC1DIALv72sLx///RZeUVosvuz9c2Bo1uBG31/87yRydnY/TxOIhEIiqAhBBCSBXwufwBHC2ApGIcTbXgZqUDABDnFki2N7PUhq6GKluxCCGEEKXE9/IHcOwmEEIIIYQQLlOG8gdQAaxV9od9YDsCIYQQwlu5eYxSlD+ATgHXGquCE7HrnojtGIQQQghvBd5Khigjn/flD6ARwFphVXAi/K8m4IcWJmxHIYQQQngrKT1PKcofQAVQ6RWVvwVfW2KER1224xBCCCG8NcTLVCnKH0AFUKmtu/FeUv5md7RgOw4hhBDCa3xY4UNeVACV2MqQ91T+CCGEECKDCqASm9PBnMofIYQQQmRQAVQy6268l3w8vZ05i0kIIYSQ2undx1y2I5SLCqASWRWcKDntK/Z3o1VACCGEkBoWm5yNP24msx2jXFQAlUTxu33ptC8hhBBS82KTs7H+wjuY6amzHaVcVACVwP6wD1T+CCGEEBYVlb96RhoY1MaU7TjlogKoBHbdE1H5I4QQQlhSvPxN6WoFDXUB25HKRQVQCfzQwoTKHyGEEMKCL8uflgY/qhU/UpIy0QofhBBCSM3ja/kDqAASQgghhFQYn8sfQAWQEEIIIaRC+F7+ACqAtUpmbgHbEQghhBBeU4byBwBqbAcgNSM9pwAzzr1hOwYhhBDCW+8+5iLwloj35Q+gEcBaIT2nAL0PxOBVSg7bUQghhBDe+uNmslKUP4AKoNIrKn9Pk7IQ8K0123EIIYQQ3jLTU1eK8gfQKWClVrz8nR3hAFUV7k9MSQghhHDVoDamSlH+ABoBVFpflj/P+rpsRyKEEEJ4jQ8rfMiLCqASovJHCCGEkLJQAVQyVP4IIYQQUh4qgEqEyh8hhBDCvtDoNLYjlIsKoJKg8kcIIYSw71xECkKeUQGslK1bt8Le3h5aWlrw8PDAjRs3St03ISEBgwcPhqOjI1RUVDB16tQS9zt+/DhcXFygqakJFxcXnDx5sprS17zMXCp/hBBCCNvORaTgdHgKOjjpsx2lXJwrgEePHsXUqVMxb948REREoF27dujevTuEQmGJ++fk5MDU1BTz5s1Ds2bNStzn1q1bGDBgAIYNG4YHDx5g2LBh6N+/P+7cuVOdb6XGzDj3hsofqdXEYjEEAgEEAgHEYjHbcQghtVBR+fNzN0ZbRyqAFbZu3TqMHj0aY8aMgbOzMwICAmBtbY1t27aVuL+dnR02bNiA4cOHw8DAoMR9AgIC0KVLF8ydOxdOTk6YO3cuOnXqhICAgGp8JzXnVUoOlT9CCCGEJcXLX083Y7bjyIVTBTA3NxdhYWHw9fWV2u7r64ubN29W+ri3bt2SOWbXrl3LPGZOTg7S0tKkHlwV8K01lT9CCCGEBXwsfwDHVgIRiUQoKCiAubm51HZzc3MkJiZW+riJiYkVPuaKFSuwePHiSr9mTXI202Y7AiE1TigUQiQSAQCysrIk2yMjI6GtLf1/wsTEBDY2NjWajxCi/Pha/gCOFcAiAoH0TNsMw8hsq+5jzp07F9OnT5d8npaWBmtrWkuXEC4QCoVwdHJCdrHiV6Rt27Yy27S0tRH97BmVQEKIwvC5/AEcK4AmJiZQVVWVGZlLSkqSGcGrCAsLiwofU1NTE5qampV+TUJI9RGJRMjOykKT74dC19IcBbl5uLd6IwBARV0dLkP+hzr1LAEA4oT3eLTnEEQiERVAQohC8L38ARy7BlBDQwMeHh4ICgqS2h4UFAQvL69KH7dNmzYyx7x8+XKVjslHUUmyoyVEcehO1Jqna2kOfRtr6JiaSLa5T/oRVm1aQt/GGvo21tC1rPwvj4QQ8iVlKH8Ax0YAAWD69OkYNmwYPD090aZNG+zcuRNCoRDjxo0D8PnU7Nu3b3HgwAHJ10RGRgIAMjIykJycjMjISGhoaMDFxQUAMGXKFLRv3x6rVq2Cn58fTp8+jStXriA0NLTG3x9b7r8RY+rZeLZjEKJw+dnZiNy2W/K5vh1dqkEIqR6h0WkIeZbG+/IHcLAADhgwAB8+fIC/vz8SEhLg6uqK8+fPw9bWFsDniZ+/nBPQzc1N8nFYWBgOHz4MW1tbvH79GgDg5eWFI0eO4Ndff8X8+fPRsGFDHD16FK1ataqx98Wm+2/E+Hb/SzQw1sSj99lsxyFEYQpychG+cQfECe/Ras40GNjbsh2JEKLElKX8ARwsgAAwfvx4jB8/vsTn9u3bJ7ONYZhyj9mvXz/069evqtF4p6j8uZhpw7+LJXz3vGQ7EiEKE3XkOLJFKfCY+hOVP0JItevgpK8U5Q/g2DWARLGKl79TwxtCR0OV7UiEKFRWkojKHyGkxvBhhQ95UQFUUl+WPz1NKn9E+TgP7kfljxBCKoEKoBKi8kdqi6KpXgghhFQMJ68BJJVH5a9mRUVFST6m1SgIIYQAQG5e+fcmsI0KoBKh8ldzEpIKoKICDB06tMTnS1qNQkdHC1FR0VQCCSFEiWXnFiLwVjLbMcpFp4CVBJW/mvUpjUFhIXAowBBhf5sg7G8ThB6rK3l+5wp96OoATZ3VcP0vYxwKMERmZrZk7VpCCCHKJzu3EBsuvUNSeh7bUcpFI4BKICopCzPOvaHyxwJnBzW4N1EHAIgzCyXbZyxLQzNndVw8YAy9OioIf8T9bwbKKuNtAtsRCCG1QFH5e/sxF0O8TLH3ehLbkcpEBVAJTD0bjyYWOlT+OMTFQU1S/gh7UmPjEHX4GNsxCCFKrnj5m9bdCioCthOVj346KYEGxppU/jjg/sP/RvlO7aLyx7bU2DiEBWyDtplJ+TsTQkglfVn+7E212I4kF/oJpQTW9qxP5Y9ldyNz8e3oFMnnenV48OufEisqf3XqWcJ5YF+24xBClBRfyx9ABVAp0Aof7LobmYsuQ1Pg4kBXVHBB8fLnPvlHqGpqsB2JEKKE+Fz+ACqAhFTJ4+d56DI0Ba6N1XBql3KsD8lnX5Y/NS1+fUMmhPAD38sfQDeBEFIl439Nlbrbl4mjlSnYQuWPEFITlKH8ATQCWKvsD/vAdgSl09CW7vblAip/hJCakJvHKEX5A2gEsNZYFZyIXfdoEmJF2+yvT+WPZVT+CCE1JfBWMkQZ+bwvfwCNANYKq4IT4X81AT+0oOkwFE1Xm/4LsSnjbQKVP0JIjUlKz1OK8gdQAVR6ReVvwdeWGOFRt/wvIIRHog4fo/JHCKkxQ7xMlaL8AVQAlVrx8je7owXbcQhROG0zEyp/hJAaY2WkPNNKUQFUUlT+uOX3I2K2Iygl54F9qfwRQkglUAFUQlT+uGXpxnRsO5TFdoxyicViCAQCCAQCiMX8KKw0yTMhhFQOFUAlQ+WPW5ZuTMf8tRn4aag221EIIYTUkHcfc9mOUC6aBkaJUPnjlqLyt2RGHfTw0eLcKKBQKIRI9N/UQFlZ/+WLjIyEtrZ0aTUxMYGNjU2N5SOEED6KTc7GHzeT2Y5RLiqASoLKH7cUL3+/TtZD+KM8tiNJEQqFcHR2RnZmZonPt23bVmablo4OoqOiqAQSQkgpYpOzsf7CO5jpqeMNx0cB6RSwEtgf9oHKH4d8Wf7YUtY1fSKRCNmZmXBZuRst/gxFiz9D4X4gSPK8+4EgWA0YAwCwGjAGLit3IzszU2rEkC/e3LjNdgRCSC1QVP7qGWlgUBtTtuOUi0YAlcCueyIqfxzBZvmryCndqKgoAIBuA0fouTQHABRk/lcSP9y8gndHf4f9pPmw/3E20p9GVm/4avLq3GW8uf4v2zEIIUquePmb0tUK79O4PfoHUAFUCj+0MKHyxwFsl7+KntL9kqqOLr5+nIHYHasQu2mJpPzx1atzl/HyzHnUb+9NJZAQUm2+LH9aGvw4uUoFUAnQCh/sY/u0b/FTuroNHAEABdlZCB/eBcDnU7qqWv+NAIpuXEbsJn+Z4yhb+XPo1QMmTZypABJCqgVfyx9ABZBwjFgsRp06dQAAGRkZ0NXVZTlR+dguf8WVdkpXz6kpVHX++7MUv4qW+VplLH8NevoiTRjPdiRCiBLic/kDOHoTyNatW2Fvbw8tLS14eHjgxo0bZe4fEhICDw8PaGlpoUGDBti+fbvU8/v27ZNcDF/8kZ2dXZ1vg9QCvx8Rc6b8fanolO7XjzOkyl9JlLX8EUJIdeB7+QM4WACPHj2KqVOnYt68eYiIiEC7du3QvXt3CIXCEvePjY1Fjx490K5dO0REROCXX37B5MmTcfz4can99PX1kZCQIPXQqmVLSGXmFrAdQelsO5TFyfJXEVT+2MfHVViUBf3Zk4pShvIHcPAU8Lp16zB69GiMGfN5CoqAgABcunQJ27Ztw4oVK2T23759O2xsbBAQEAAAcHZ2xv3797FmzRr07dtXsp9AIICFRe29USI9pwAzzr1hO4bS+WmoNq/L39vj+6Tu9uUrPpc/Qgh/vPuYi8BbIt6XP4BjBTA3NxdhYWGYM2eO1HZfX1/cvHmzxK+5desWfH2lv+F37doVu3fvRl5eHtTV1QF8vp7M1tYWBQUFaN68OZYsWQI3N7fqeSMck55TgN4HYvAqJYftKCUqmpIE4N9qFGMGcv8axbJQ+WMHrcJCFIWP101zlTx/ln/cTIa1sSbvyx/AsQIoEolQUFAAc3Nzqe3m5uZITEws8WsSExNL3D8/Px8ikQiWlpZwcnLCvn370KRJE6SlpWHDhg3w9vbGgwcP0KhRoxKPm5OTg5yc/wpTWlpaFd8dO4rK39OkLAR8a40fTpR8Kp0NaQUfIYAAQ4cOLfH5kqYu0dTQxPMXz+mHoYJYDRjD6/L35sZtvLn+L+/Kn7OzMzIrMGWPjo4OomgVFkJYZ6anrhTlD+BYASwiEAikPmcYRmZbefsX3966dWu0bt1a8ry3tzfc3d2xadMmbNy4scRjrlixAosXL65Ufq4oXv7OjnCAqkrpf4ZsyCrMAAMGw+rOgLm6NQAgtzAHG5M+F5LJZqugoaKJ3MJsHEvZjuT8d8jJzYFIJKIfhApSr+9ItiNUCd/KH/D5F93MzEzs+2UlnG0aYPe549h59qjk+eANB6Ct+d/1yVHCVxi5fA79u1cQvo++8j0/3w1qY6oU5Q/gWAE0MTGBqqqqzGhfUlKSzChfEQsLixL3V1NTQ926Jc+Pp6KighYtWuDFixelZpk7dy6mT58u+TwtLQ3W1tbyvhXWfVn+POvrIuJdySMObDNXt4a1hgMAIKfwvzuz62s0BINCbE9aiJSCJPQ3noA/UtazFbNKxFmFbEdQSvXbe/Oq/BXnbNMAF+7cwM6zR/HL0HFYfujz7AXNHJygq63DcjrlJBQK4ezojMzsCoy+aukgKpobo6+fR48dkZlZ8gwWJY8eayEqKpoT+ZWBhjq3BlKqglMFUENDAx4eHggKCkKfPn0k24OCguDn51fi17Rp0wZnz56V2nb58mV4enpKrv/7EsMwiIyMRJMmTUrNoqmpCU1NzUq8C/aVVP74KKcwE3tEK5CQF4fxZkugIlBlO1KlpGcUYuICfl5CwHX127UufyeOKhr5WzRqEn4Z9iMWfT+R7UhKTyQSITM7EzvtNqOx1udfOrMKs9H9eW/JPt+bDMdwk8EAgOfZLzH29UTOjL5+Hj3Oxi87XGHr+Pn7ek5WASZ3vw8A2HjBE1f+SsSZPW/Q6/v6cG1liOU/PuZMfsItnCqAADB9+nQMGzYMnp6eaNOmDXbu3AmhUIhx48YB+Dwy9/btWxw4cAAAMG7cOGzevBnTp0/HDz/8gFu3bmH37t0IDAyUHHPx4sVo3bo1GjVqhLS0NGzcuBGRkZHYsmULK++xOilL+QOA35OX4X1+PMabLYGtpiPic1+yHanC0jMK0W14CmLi8tmOUiX5WTQ9hqIVL3+kZjXWckBznaYAAHHBf6OBM82nYl69WWzFkputoy4aN9OXfH7t4+cVfw6ueYUze97g+3kNMeznBnj+gH7xLEtl1k9XJpwrgAMGDMCHDx/g7++PhIQEuLq64vz587C1tQUAJCQkSM0JaG9vj/Pnz2PatGnYsmULrKyssHHjRqkpYD59+oSxY8ciMTERBgYGcHNzw/Xr19GyZcsaf3/VSRnKn6aKFlbV/xPbkxZKRv5sNR3ZjlUpReXv8fN8bF1qgBHTU9mOVCn54nS8WPYz2zF4RZ67Ccd+O4DKHwcEJG6WfDzVgr+jsAfXvMKeZTGS8kfKJhQK4eTkiKws+U+nV0RoNPfLN+cKIACMHz8e48ePL/G5ffv2yWzr0KEDwsPDSz3e+vXrsX49P68dk5cylD8AyC7MVLryF3TIGGqq/LxuJF+cjgc/9kFm/Cu2oyid0T37lr8TqVarEwKw+n0A2zGqjMpfxYlEImRlZWN0B3NYGH6+XCw3vxCrz70DAMzsaQUNtf9u9ngcn4nT4SlyHftcRApCnlEBJDUgM5fKH5d8Wf5aNtdA+KM8tmNVWFH5y3j5FI7z1yPql7FsR6qUgpzcan+N2n4qiY9WJwRgWcJvmGc5CzMtp7Idp9Ko/FWNhaE6bE0+33Wfk/ffzXo2dbWgqf5fAUz4JN/3kXMRKTgdnoIOTvqcL4FUAJXAjHNvEPcpl8ofB5RU/vioePlz23UGAlV+fqvIz85G1JHj5e9YBZWZ14+w64DoMPaIDlD5IwpVVP783I3haq1DBZBUv1cpOTg/qhFvy19uYTaVPw75svzpN/FE+tNItmNVWH52NsI37kBWkqj8navgy3n9ACArJxsdpwwHIDuv34W7N7Bozya5jy/Ozip/J1IhVP6IohUvfz3djBEnKvnaQi6hAqgEAr615m35A4BjKduRUpBE5Y8DSip/fFRU/jLeJsB5cD883ne42l/T2aYB3Bq7AADEWf+NBn45r98zofzXU6ZnijFl4zLFhSQAPk/1wufyd+7AW6m7fQm7vix/fEEFUAk4m2mXvxOHifITMdF8GZU/lilj+fOY+hMEqvyctT89U4xvZv+IV+/i2Y6idIrm+eMrKn/VQ1NdBTtHO1Toa/ha/gCAn98ZiVL5n/FPvC1/4iwqf1zyZfkzsLdlJYeutg5yrz5G7tXHlVrVo6j8PXn9EpumzK+GhITPen1fn8ofB/C5/AE0Akg4wFKDnR/SijBxQRpevymg8scBXCl/VVW8/F34bRfUVPm5Ag6pPj2H12M7Qq3H9/IH0AhgrRKVRBeTK1pMHM9H/rLEVP445Mvy18K59OUqSfXLLKDvmUSWMpQ/gApgrXH/jRhTz9K1RIq2dakBb8sfALxY9jOVP46g8qcYYrEYAoEAAoEAYnHllzBML8jArPhfFJiMKIPQ6DSlKH8AnQKuFe6/EePb/S/RwFgTj95z/9b00iTkxrEdQYZrY3W2I1RJZvwruO85x9vyV5CTS+WvlquOSbjTCzLQ7+VgxOZw73tORWSLC9iOIKP431dWVpZknszQ0FCpvysAMDExgY2NTY1nLEvIszSlKH8AFUClV1T+XMy04d/FEr57XrIdqVLicqLxV8o2tmMoHcf56zlb/uRZTzfqyHFki1Ko/NVSQqEQzo7OyMxW3CTcReUvKisaa2xW4Ke4KVWNyYrM9HxsmPWM7RhSypo0vaS/Kx0dHURFRXGqBHZw0leK8gdQAVRqxcvfqeEN8fJDDtuRKiUuJxpbk+bDRM0C7/Jfsx1HqdRxcGE7QpVkJYngOX0Clb9aSiQSITM7EzvtNqOxVvnTdwSlXsOyhFWlPl+8/J1sdASqAn7egJOZno9Z/cLxLpZb1zAWTZq+9pdDaGjjjOycLAyc8rn4HdkQCi3N/0YAY4RRmLF8KEQiEacKYFtHfbYjKAwVQCX1ZfnT0+TnN7Ki8mepbotvDUdgY9IctiNVyuPn/FsLuKZV5lSe8+B+vC1/4uwsKn8K0ljLAc11mpa73/PsF6U+92X589B1Q2TmQ0XGrBFF5e91lBhT1zph5U9P2I4ko6GNM1wbuwMAXl5lStwnK7vy128S+VABVELKWP7GmS1Gcv47tiNVyt3IXIz/NZXtGJwmFArh6OSE7KySRyxKO5VXp55ldcaqVlM2LkPc+3dU/jigpPLHR8XL3+qT7lBVE7AdqVIyMtOxeONEtmMoPSqASkZZy5+WSsUn0+WCu5G56DI0BQ1t1fAwKp/tOJWW8fJptR5fJBIhOysLTb4fCl1LcwBAQW4e7q3eCABoMXMyVDX+u+FG9OgpXp65UK2Zqturd/G4vHYPlT+WKWv5c/YwwPMHaWzHqrCMzHR8P7sb4t7FsB2lSnLzSh7Z5BIqgEqEyh+3FJU/18ZqWDlHD+3/l8J2pEpJe3Qf0Uum1chr6VqaQ9/GWvK5746AEvcTJ7yvkTzVadOU+VT+WKbM5Y+Pisrf89eP4T9lK2auGsF2pErJzi1E4K1ktmOUi+YBVBJU/rilePm7eMAYutr8/K+W9ug+In7oBR1rWnZK0b6yr9iao0SxqPxxS/Hyt/+3IDSyd2U7UqVk5xZiw6V3SErn/nXf/PypRKREJWVR+eOQL8ufXh1+/jcrKn91HFzQaN4atuNUWsbbBLYjEI7JLMii8schX5a/Zs4t2Y5UKUXl7+3HXAzxMmU7TrnoFLASmHo2Hk0sdKj8cYAylr9mO04iK46f1+OkxsYh6vAxtmMQjpkV/wuEuW84Uf5Kuvu9tMmRi09kTeWPW4qXv2ndraDCg/tvqAAqgQbGmrwufwm5cTj+cQeVP474svyp6eqxHalSUmPjEBawDdpmJsh4w887yAHgSSw/J2/nsticOJxp/Bcnyp+zsyMyM0teoam0u9+zxQVU/jjky/Jnb6qFOBH3V92iAqgE1vasz9vyBwB/pWxDPQ17Kn8coGzlr049SzTq8w3urdnEdqRKuRf1CJM2LGE7hoyKjFoB3FvSa43NCtbLH1A0MXI2ftnhCltH2ZVuvnQnSIQ9y2KwYdYzvBdmU/njgJLKH19QAVQCOhr8LX8AYKJmQeWPA5Sx/LlP/hGZSdy/G68k96IeofusH9DAyhqPXj1nO46EUCiEo7MjsiswaqWhqYEXz19wpgQ6azuyHUGKraMuGjcrf4UJ4fPPkyO/i83CujMevC1/WdliKn8cQAWQsK6f8Tjelr/Hz/MwaWEalT+O+LL8qWnx6xtykaLy95WdA5b9MA1fT+XOdBgikQjZmdloPKM5dKzrlLmvOC4dL7c8Qm5OLueW9OKzqWudeFv+AGDxxol48/41lT+WUQEkrNNQ4d9/nCLjf01FM2d1Kn8coIzl7+9VO/DyTRzbkUqkY10HdRxKLyHp0Z/wascTaFvpIvN1eg0mU372zmUXb66LexeDQ2uvUvljGT9/YpFK2R/2ge0ISqehLb9H/jJePqXyxyFflj89nfKvC+Oi9OhPeDz/DnRs9dBwHD/ncwOAqKxotiMoJf8pW3lb/nLzGKUofwAVwFpjVXAidt0Tlb8jqZDN/vq8LX8AEL1kGpU/jlDG8vfV4pZQ1eLnNcph4gj8LJzLdgylxNdJngEg8FayUpQ/gApgrbAqOBH+VxPwQwsTtqNUya2MS2xHkMHXFT6K6Fg34HX5y3ibQOWPQ74sf2o6/LzKKEwcgT4vBsJe05btKFUSG5XBdgSlk5SepxTlD6BrAJVeUflb8LUlfBvr83YU8FLqEfybcYHtGEqn0bw1vC1/ABB1+Bj0rOtR+eMAZSt/ztqOWGg1Dz1e9GE7UqVEhaUiYMazan+dyk5kzVdDvEyVovwBHB0B3Lp1K+zt7aGlpQUPDw/cuHGjzP1DQkLg4eEBLS0tNGjQANu3b5fZ5/jx43BxcYGmpiZcXFxw8uTJ6orPGcXL3+yOFmzHqbRLqUdwPvUQvOt0ZzuK0lHT5mfZKKJtZkLljwOUsfwdczgMHVXt8r+Ig6LCUjGzTzis7Ks3/+eJrJ3h4eEheRSfBqht27ZSzw0dOrRa89QEKyMNtiMoDOf+lx49ehRTp07F1q1b4e3tjR07dqB79+54+vRpiVMIxMbGokePHvjhhx9w6NAh/Pvvvxg/fjxMTU3Rt29fAMCtW7cwYMAALFmyBH369MHJkyfRv39/hIaGolWrVjX9FmuEspW/HgZD4aLtydtRwN+PiNmOoJScB/blbfl7EvsSUzcvp/LHEV+WPz1Vft5pW1T+7Jx1MXZhI0zpeb/aXuvzRNaZWPvLITS0cS53/5C757F+z3y5jv0i9nFV45FycO5/6rp16zB69GiMGTMGABAQEIBLly5h27ZtWLFihcz+27dvh42NDQICAgAAzs7OuH//PtasWSMpgAEBAejSpQvmzv18Qe/cuXMREhKCgIAABAYG1swbq0HKWP66GgxEfC4/l8RaujEd2w5lsR1DKalq8ve38UkblqBpQ0dOlL8vT+OVpfhpPCp/3FK8/P12zB1vXmXWyOs2tHGGa2P3cveLEcp3CvhB1F0s2DC+qrFIOTj1vzU3NxdhYWGYM2eO1HZfX1/cvHmzxK+5desWfH19pbZ17doVu3fvRl5eHtTV1XHr1i1MmzZNZp+i0qhMlLX88dXSjemYvzYDPw3V5nUJfHt8H9sRlE4DK2vOlL+yVvYojTguHa92PKHyxxFflj8dPX7+fTyIuosRs7rA1qohnr16yHacSnv3MZftCOXi1L8QkUiEgoICmJubS203NzdHYmJiiV+TmJhY4v75+fkQiUSwtLQsdZ/SjgkAOTk5yMnJkXyempoKAEhLS6vQe6qIjIzPd2xFvsuEOLeg3P2fJ2dJ7X84MgX7w1Mwwt0Y3na6CP1i8tUXohzJ61TH+yjKH5/zEjmF5f8wScyLL3H/u+IruCO+gla6ndFQ0xUvsz+fCkjKeyN5HUXnL8oe9jgPGZmF5e4f9TKv3P0PHMvE7j+zMbq/FtxcNQBkVfuffdrTSBRkln+6WRz7XO793535A4knDkhep1rzx8Ujv9j/u9KIExLl3j8zMUnyGtWZPfzFU2RklT/iEiWMBQB836MvIl+UPyLy/M1ryetUR/7Xr18jOzMb9b5rAE05Lm5Pf/4Jydfe4cXmh9C21IX1AAeIX6WWun/mm8//vqrz/+2DzEcQF5T/7/55VozU/tHZL/Fr/CLYalpjpvk0PMx8JLX/y5xX1Za96LgA8DwyDVni/HL3j/v/peC+3D8uWoyt857D0lYbw2c2wItHn7PGv8iUvE515n/yIgyZWeXfcVw0Alja/jFxUVi2bTqsLe3xvx5jsGTz5GrPLhTlICev/O/5iZ/y5N4/4VMujt4WSV6nunpD0XEZhqncARgOefv2LQOAuXnzptT2pUuXMo6OjiV+TaNGjZjly5dLbQsNDWUAMAkJCQzDMIy6ujpz+PBhqX0OHTrEaGpqlppl4cKFDAB60IMe9KAHPehBD84+4uPjK1O5GE6NAJqYmEBVVVVmZC4pKUlmBK+IhYVFifurqamhbt26Ze5T2jGBz9cJTp8+XfJ5YWEhUlJSULduXQgEggq9r+qSlpYGa2trxMfHQ1+//IXEuYbP+fmcHaD8bOJzdoDf+fmcHaD8bOJidoZhkJ6eDisrq0p9PacKoIaGBjw8PBAUFIQ+ff6beykoKAh+fn4lfk2bNm1w9uxZqW2XL1+Gp6cn1NXVJfsEBQVJXQd4+fJleHl5lZpFU1MTmpqaUtsMDQ0r+pZqhL6+Pmf+QVYGn/PzOTtA+dnE5+wAv/PzOTtA+dnEtewGBgaV/lpOFUAAmD59OoYNGwZPT0+0adMGO3fuhFAoxLhx4wB8Hpl7+/YtDhz4fE3SuHHjsHnzZkyfPh0//PADbt26hd27d0vd3TtlyhS0b98eq1atgp+fH06fPo0rV64gNDSUlfdICCGEEMImzhXAAQMG4MOHD/D390dCQgJcXV1x/vx52NraAgASEhIgFAol+9vb2+P8+fOYNm0atmzZAisrK2zcuFEyBQwAeHl54ciRI/j1118xf/58NGzYEEePHlXaOQAJIYQQQsrCuQIIAOPHj8f48SXPAbRv3z6ZbR06dEB4eHiZx+zXrx/69euniHicoampiYULF8qcquYLPufnc3aA8rOJz9kBfufnc3aA8rOJz9lLI2CYyt4/TAghhBBC+IiTawETQgghhJDqQwWQEEIIIaSWoQJICCGEEFLLUAFUEllZ/F1nlhBCCCE1i5N3AZOSTZgwAVu2bJHZLhaL0bNnTwQHB9d8qAo4dOgQhg4dWuJzM2fOxOrVq2s4EeGTT58+4e7du0hKSkJhofRanMOHD2cplXz4nH3RokUYNWqUZCouPgoLC0NUVBQEAgGcnZ3h7u7OdiS5FF+NqjiBQAAtLS04ODjAz88PxsbGNZxM+V28eBF16tRB27ZtAQBbtmzBrl274OLigi1btsDIyIjlhApQqQXkCCscHByYefPmSW3LyMhg2rZty7Rt25alVPIzMDBgzp49K7N96tSpjIWFBQuJahdbW1tm8eLFTFxcHNtRKuzMmTOMnp4eo6KiwhgYGDCGhoaSh5GREdvxysTn7AzDMO7u7oyqqirz9ddfM3/88QeTlZXFdiS5vX//nvHx8WEEAgFjZGTEGBoaMgKBgPn666+ZpKQktuOVq2PHjoy+vj6jq6vLuLu7M25ubkydOnUYAwMDplWrVpJ/Q0+ePGE7qtJxdXVlzp07xzAMwzx8+JDR1NRk5s6dy7Rq1YoZOXIky+kUgwogj7x69YqxsrJi1q1bxzAMw6SlpTFt2rRh2rVrx2RkZLCcrnwXLlxgDAwMmJCQEMm2iRMnMlZWVkxUVBSLyeTTu3dvpk+fPjKP7777jhk8eDCzYMEC5tmzZ2zHLNXGjRslP8w7d+7MBAYGMtnZ2WzHkkujRo2YKVOmMGKxmO0oFcbn7EUePHjATJ06lTEzM2MMDQ2ZcePGMXfv3mU7Vrn69+/PeHh4ME+fPpVse/LkCePp6ckMHDiQxWTyWb9+PfPdd98xqampkm2pqalMv379mICAAEYsFjN+fn6Mr68viymVk66uLhMbG8swDMMsXLiQ6du3L8MwDBMWFsaYm5uzmExxaB5Annn8+DE6duyI+fPn48iRI9DU1MS5c+egq6vLdjS5HDlyBOPHj8fly5exZ88enD59GteuXUPjxo3ZjlaukSNH4tSpUzA0NISHhwcYhkFERAQ+ffoEX19fPHjwAK9fv8Y///wDb29vtuOW6sGDB9izZw8CAwORn5+PwYMH4/vvv+f0aTFdXV08evQIDRo0YDtKhfE5+5fy8/Nx9uxZ7N27FxcvXoSjoyPGjBmDkSNHVmlN0upiYGCAK1euoEWLFlLb7969C19fX3z69ImdYHKqV68egoKC4OLiIrX9yZMn8PX1xdu3bxEeHg5fX1+IRCKWUsr67rvv5N73xIkT1Zik8oyNjREaGgoXFxe0bdsWw4cPx9ixY/H69Wu4uLggMzOT7YhVRjeB8Iyrqyv+/vtvzJs3Dzo6Orhw4QJvyh8ADBw4EMuWLUPbtm1x9uxZhISE8KL8AYCFhQUGDx6MV69e4fjx4zhx4gRiYmIwdOhQNGzYEFFRURgxYgRmz57NdtQyNWvWDBs2bMDbt2+xcOFC/P7772jRogWaNWuGPXv2gIu/E3bt2hX3799nO0al8Dn7lwoLC5Gbm4ucnBwwDANjY2Ns27YN1tbWOHr0KNvxZBQWFkJdXV1mu7q6usy1mFyUmpqKpKQkme3JyclIS0sDABgaGiI3N7emo5XJwMBA7gdXeXt7Y/r06ViyZAnu3r2Lnj17AgCeP3+O+vXrs5xOMWgEkOPc3NwgEAhktsfFxcHMzAza2tqSbeUth8eG0i5iPnbsGNzc3NCwYUPJtnXr1tVUrEoxNTXFv//+K1NYnz9/Di8vL4hEIjx69Ajt2rXj9MhCXl4eTp48ib179yIoKAitW7fG6NGj8e7dO2zevBk+Pj44fPgw2zFx5swZycfJycnw9/fHqFGj0KRJE5kf6r169arpeGXic/aShIWFYe/evQgMDISmpiaGDx+OMWPGwMHBAQCwdu1a/Pbbb3j//j3LSaX5+fnh06dPCAwMhJWVFQDg7du3GDJkCIyMjHDy5EmWE5ZtyJAhuHXrFtauXYsWLVpAIBDg7t27+Pnnn+Hl5YWDBw/iyJEjWLNmjdL8ksEVQqEQEyZMgFAoxOTJkzF69GgAwLRp01BQUICNGzeynLDqqABy3OLFi+Xed+HChdWYpHJ8fHzk2k8gEODq1avVnKZqjIyMsH//fpkf2GfOnMGIESPw8eNHvHjxAi1btsTHjx9ZSlm68PBwyQ9xVVVVDBs2DGPGjIGTk5Nkn3v37qF9+/acmFZIRUW+ExQCgQAFBQXVnKZi+Jz9S02bNkVUVBR8fX3xww8/4Ntvv4WqqqrUPsnJyTA3N+fcqFp8fDz8/Pzw+PFjWFtbQyAQQCgUokmTJjh9+jTnR3IyMjIwbdo0HDhwAPn5+QAANTU1jBgxAuvXr4euri4iIyMBAM2bN2cvaDny8/MRHByMmJgYDB48GHp6enj37h309fVRp04dtuPJyM/Pxx9//AFfX19YWlqyHafaUAEkRE6TJ09GYGAgfvnlF6nfxpcvX47Bgwdjw4YN+P3337Fv3z6EhoayHVeGqqoqunTpgtGjR6N3794lnhoTi8WYOHEi9u7dy0JCwkVLlizB999/j3r16rEdpdKCgoLw7NkzMAwDFxcXdO7cme1IFZKRkYFXr16BYRg0bNiQk6WpNHFxcejWrRuEQiFycnLw/PlzNGjQAFOnTkV2dja2b9/OdsQS6ejoICoqitfTH5WHCiCP3Lt3D4WFhWjVqpXU9jt37kBVVRWenp4sJZNPamoqCgoKZOasSklJgZqaGvT19VlKJp+CggKsXLkSmzdvlpzqMjc3x6RJkzB79myoqqpCKBRCRUWFkyMLcXFxSv3NjJAvHThwAAMGDICmpqbU9tzcXBw5coTzczAqg969e0NPTw+7d+9G3bp18eDBAzRo0AAhISEYM2YMXrx4wXbEEvn4+GDKlCno3bs321GqDRVAHmnZsiVmzZqFfv36SW0/ceIEVq1ahTt37rCUTD7du3fHt99+i/Hjx0tt3759O86cOYPz58+zlKziii7A5nppVRaTJ0+Gg4MDJk+eLLV98+bNePnyJQICAtgJJgc+Zy/y5s0bnDlzBkKhUOaGAy5fu6uqqoqEhASYmZlJbf/w4QPMzMw4f/pdLBZj5cqV+Oeff0qcRPzVq1csJZOfiYkJ/v33Xzg6OkJPT09SALl+N+1ff/2FOXPmYNq0afDw8JC52bJp06YsJVMcWgmER54+fVriVB1ubm54+vQpC4kq5s6dOyX+sOjYsSPmzZvHQqLK42PxKygowPr16/Hnn3+W+IM8JSWFpWTlO378uNSNFUW8vLywcuVKTpcoPmcHgH/++Qe9evWCvb09oqOj4erqitevX4NhGE5PHQQADMOUeBPdmzdvOH0HapExY8YgJCQEw4YNg6WlZYnvhesKCwtLLNpv3ryBnp4eC4nkM2DAAACQ+sVNIBBI/k1x/ZcHeVAB5BFNTU28f/9eZj6xhIQEqKlx/68yJydHciFzcXl5eZy46aA879+/x88//yz5bfzLwXOuf0NYvHgxfv/9d0yfPh3z58/HvHnz8Pr1a5w6dQoLFixgO16ZPnz4UOIPbH19fU7Nf1YSPmcHgLlz52LGjBnw9/eHnp4ejh8/DjMzMwwZMgTdunVjO16JimZPEAgE6NSpk9T3x4KCAsTGxnI2e3EXLlzAuXPnOD2vaHm6dOmCgIAA7Ny5E8DnEpWRkYGFCxeiR48eLKcrXWxsLNsRqh33WwOR6NKlC+bOnYvTp09LfqB8+vQJv/zyC7p06cJyuvK1aNECO3fuxKZNm6S2b9++HR4eHiylkt/IkSMhFAoxf/58Xv42/scff2DXrl3o2bMnFi9ejEGDBqFhw4Zo2rQpbt++LXOKkkscHBxw8eJFTJw4UWr7hQsXOD/BMp+zA0BUVBQCAwMBfL4DNSsrC3Xq1IG/vz/8/Pzw008/sZxQVtF1W5GRkejatavUTRMaGhqws7ND3759WUonPyMjI96v87t+/Xr4+PjAxcUF2dnZGDx4MF68eAETExPJvysuqg3XS1MB5JG1a9eiffv2sLW1hZubG4DP3+DMzc1x8OBBltOVb9myZejcuTMePHiATp06Afh8eunevXu4fPkyy+nKFxoaihs3bnB6uoWyJCYmokmTJgCAOnXqIDU1FQDwzTffYP78+WxGK9f06dMxceJEJCcn4+uvvwbw+d/O2rVrOX8Klc/Zgc8rmeTk5AAArKysEBMTg6+++goAODuCWTQllp2dHQYMGAAtLS2WE1XOkiVLsGDBAuzfvx86Ojpsx6kUKysrREZGIjAwEOHh4SgsLMTo0aMxZMgQqXlsuejgwYPYvn07YmNjcevWLdja2iIgIAD29vbw8/NjO17V1ejCc6TKMjIymB07djDjx49nZsyYwezfv5/Jzc1lO5bcIiIimMGDBzMuLi6Mh4cHM2rUKOb58+dsx5KLs7MzEx4eznaMSmvcuDFz+/ZthmEYpm3btsyKFSsYhmGYI0eOMKampmxGk8vWrVuZevXqMQKBgBEIBIy9vT2zf/9+tmPJhc/Z/fz8mJ07dzIMwzAzZ85kHBwcmKVLlzLu7u5Mp06dWE6n3Jo3b87o6ekxderUYVxdXRk3NzepB6k+W7duZUxMTJilS5cy2traTExMDMMwDLN3716mY8eOLKdTDLoLmBA5Xb58GWvXrsWOHTtgZ2fHdpwKmzNnDvT19fHLL7/g2LFjGDRoEOzs7CAUCjFt2jSsXLmS7YhySU5Ohra2Nq/mQivCx+yvXr1CRkYGmjZtiszMTPz8888IDQ2Fg4MD1q9fXytOlbGlvIUAuDj5P4ASb3oqDVdXwnFxccHy5csl09gU3b38+PFjdOzYkbOj3xVBBZCHnj59WuJdnFz9j1SSrKws5OXlSW3j+p21RkZGyMzMRH5+PnR0dGQmUubyXbQluX37Nm7evAkHBwde/dshhHCbMqyEo62tjWfPnsHW1laqAL548QJNmzblxY2L5aFrAHnk1atX6NOnDx49eiS5HR2A5GYErv5HKpKZmYlZs2bhzz//xIcPH2Se53p+PlyvVRGtW7dG69at2Y4ht2PHjpU6hQ0X18Eujs/Z582bh44dO8Lb25u316GRmsW1JQErw97eHpGRkTIj3BcuXICLiwtLqRSLCiCPTJkyBfb29rhy5QoaNGiAu3fv4sOHD5gxYwbWrFnDdrxyzZw5E9euXcPWrVsxfPhwbNmyBW/fvsWOHTt4cfpxxIgRbEeoMGU4FQMAGzduxLx58zBixAicPn0ao0aNQkxMDO7du4cJEyawHa9MfM4OAGFhYdi0aRNycnLg7u6Ojh07okOHDmjbti3nT2X7+/vj559/limuWVlZWL16NSenPzI2Nsbz589hYmICIyOjMmcb4NtZBz6ZOXMmJkyYgOzsbDAMg7t37yIwMBArVqzA77//znY8haBTwDxiYmKCq1evomnTpjAwMMDdu3fh6OiIq1evYsaMGYiIiGA7YplsbGxw4MABdOzYEfr6+ggPD4eDgwMOHjyIwMBATq4EkpaWJjk1XbT6R2m4eApbGU7FAICTkxMWLlyIQYMGSZ2OWbBgAVJSUrB582a2I5aKz9mLFBQU4O7duwgJCUFwcDBu3bqFrKwsuLu74/bt22zHKxUfVwLZv38/Bg4cCE1NTezfv7/Mfbn6S+nGjRvl3pfL00/t2rULS5cuRXx8PACgXr16WLRoEUaPHs1yMsWgAsgjRkZGCAsLQ4MGDdCwYUP8/vvv8PHxQUxMDJo0acLZJXWK1KlTB0+ePIGtrS3q16+PEydOoGXLloiNjUWTJk2QkZHBdkQZxX+AqKiolPjbOKNEM8NzVfGF2c3MzBAUFIRmzZrhxYsXaN26dYmXFHAFn7N/KTo6GsHBwbhy5QpOnToFQ0NDJCcnsx2rVCoqKnj//j1MTU2ltl+9ehUDBgzgdHY+s7e3l2s/gUDAi+XsRCIRCgsLZX6R4Ds6Bcwjrq6uePjwIRo0aIBWrVrht99+g4aGBnbu3MmLCWWL1n+0tbWFi4sL/vzzT7Rs2RJnz56FoaEh2/FKdPXqVclErNeuXWM5Te1lYWGBDx8+wNbWFra2trh9+zaaNWuG2NhYmRVZuIbP2QFg27ZtCAkJQUhICAoKCtCuXTt06NAB8+fP5+x6qEWnTgUCARo3biz1i1tBQQEyMjIwbtw4FhOWrrwzDcVx8awDoByraHz99dc4ceIEDA0NYWJiItmelpaG3r174+rVqyymUwwaAeSRS5cuQSwW47vvvsOrV6/wzTff4NmzZ6hbty6OHDkimVyZq9avXw9VVVVMnjwZ165dQ8+ePVFQUID8/HysW7cOU6ZMYTui0vvnn3+wfv16REVFQSAQwMnJCVOnTkXnzp3ZjlamMWPGwNraGgsXLsT27dsxffp0eHt74/79+/juu++we/dutiOWis/Zgc+jaKamppgxYwbGjRvH2dJR3P79+8EwDL7//nsEBARILcVXtBJImzZtWExYutLONBRHZx2qn4qKChITE2VG/ZKSklCvXj2ZWSz4iAogz6WkpJR7oTBXCYVC3L9/Hw0bNkSzZs3YjlOihw8fyr0vV0dDimzevBnTpk1Dv379JD/8bt++jWPHjmHdunUyS5VxSWFhIQoLCyVruv7555+SuejGjRsHDQ0NlhOWjs/ZAeDUqVO4fv06goOD8fTpUzRr1gwdO3ZEx44d0a5dO07fCBISEgJvb29erJVeJCQkRO59O3ToUI1JFOfNmzc4c+ZMiXfBr1u3jqVUJSv6nt+8eXOpM0DA59HjixcvYseOHXj9+jVLCRWohieeJlUwatQoJi0tTWZ7RkYGM2rUKBYSVcz+/fuZ7Oxsme05OTmcXRVBIBAwKioqkhUcSnuoqKiwHbVcVlZWzKZNm2S2b968mbG0tGQhEeGbT58+MWfPnmVGjBjBqKurMxoaGmxHKtO5c+eYixcvymy/ePEic/78eRYS1T5XrlxhdHR0mK+++opRU1NjmjdvzhgaGjIGBgaMj48P2/FkFH0/L+37vo6ODrN79262YyoEjQDySGl3tIlEIlhYWCA/P5+lZPLh4x15cXFxcu/L9RUR9PT0EBERAQcHB6ntL168gJubGydvwinu06dP2L17t+T0tYuLC77//nup03tcxefswOczDUV3AAcHB+Px48eoW7cuOnTogL/++ovteKVq2rQpVq5ciR49ekhtv3jxImbPno0HDx6wlEw+e/fuRZ06dfC///1Pavtff/2FzMxMzt4FXFzLli3RrVs3+Pv7S+6CNzMzw5AhQ9CtWzf89NNPbEeUEhcXB4ZhJFOtFb+BSENDA2ZmZlBVVWUxoeJQAeSBtLQ0MAwDIyMjvHjxQuofZEFBAc6ePYs5c+bg3bt3LKYsX2l35D148AA+Pj40p1U1GzJkCJo3b46ZM2dKbV+zZg3CwsIQGBjIUrLy3b9/H127doW2tjZatmwJhmFw//59ZGVl4fLly3B3d2c7Yqn4nB34XKKePn0KY2NjtG/fXnL619XVle1o5dLW1kZUVJTM0o2vX7/GV199BbFYzE4wOTk6OmL79u3w8fGR2h4SEoKxY8ciOjqapWTy09PTQ2RkJBo2bAgjIyOEhobiq6++woMHD+Dn56ccp1J5ij8XRtRihoaGUne0fUkgEJS7ZiSb3NzcJPk7deokdT1OQUEBYmNj0a1bNxYTymfFihUwNzfH999/L7V9z549SE5OxuzZs1lKJh9nZ2csW7YMwcHBUtcA/vvvv5gxY4bU3F1cm5tr2rRp6NWrF3bt2iX595Ofn48xY8Zg6tSpuH79OssJS8fn7AAwduxY3hS+LxkYGODVq1cyBfDly5fQ1dVlJ1QFxMXFlTiliq2tLYRCIQuJKk5XVxc5OTkAACsrK8TExOCrr74CAE6vp7t//36YmJigZ8+eAIBZs2Zh586dcHFxQWBgIOfP+MiDRgB5ICQkBAzD4Ouvv8bx48elLkrV0NCAra0trKysWExYtqJyunjxYsyYMUPqovGiO/L69u3L+Yvh7ezscPjwYXh5eUltv3PnDgYOHMj5qQ/4PDeXtrY2IiIi4OTkJLX96dOn8PT05PQcmHzOzndjx47F7du3cfLkSTRs2BDA5/LXt29ftGjRgvMrOtjY2GDz5s0yq/ScPn0aEyZMwJs3b1hKJr/evXujZ8+e+OGHHzBr1iycPHkSI0eOxIkTJ2BkZIQrV66wHbFEjo6O2LZtG77++mvcunULnTp1QkBAAP7++2+oqanhxIkTbEesMhoB5IGiO71iY2NhY2NT4h2/QqEQNjY2NR1NLgsXLgTwuUAVzXDPR4mJibC0tJTZbmpqioSEBBYSVQzXC2pZ9PX1IRQKZUpUfHw89PT0WEolHz5nL8KnuziLW716Nbp16wYnJyfUr18fwOf30q5dO14snzlw4EBMnjwZenp6aN++PYDPAwJTpkzBwIEDWU4nn3Xr1kmuL160aBEyMjJw9OhRODg4YP369SynK118fLzkeulTp06hX79+GDt2LLy9vdGxY0d2wykKSzefkEpQUVFh3r9/L7NdJBLx4i5Ue3t7RiQSyWz/+PEjY29vz0KiinFwcGAOHjwos/3AgQO8yP+l/Px8JiIigklJSWE7SrkmTZrE1K9fnzly5AgjFAqZ+Ph4JjAwkKlfvz4zZcoUtuOVic/ZGYZ/d3F+qbCwkLl06RLz22+/MZs2bWJCQkLYjiS3nJwcpn///oxAIGDU1dUZdXV1RlVVlRk1ahSTk5PDdrxy5efnM8HBwbz4HvMlU1NTJjw8nGEYhmnevLlkpoqXL18yurq6bEZTGCqAPCIQCEosgK9fv2Z0dHRYSFQxpeVPTEzk/HQSDMMwK1euZOrWrcvs2bOHef36NfP69Wtm9+7dTN26dZnly5ezHa9cU6ZMYX7//XeGYT5/Y/by8mIEAgGjq6vLXLt2jd1w5cjJyWEmT57MaGhoSKZo0NTUZKZOnVri1EJcwufsDMMwLVq0YObPn88wDMPUqVOHiYmJYdLT05levXoxW7duZTmd/LKyspjCwkK2Y8itsLCQef36NSMWi5nnz58zf/75J3P27Fnm9evXbEerEE1NTebVq1dsx6iwwYMHM+7u7szo0aMZHR0dyeDF6dOnma+++orldIpB1wDywPTp0wEAGzZswA8//AAdHR3JcwUFBbhz5w5UVVXx77//shWxTGfOnAHw+VqQ/fv3S019UVBQgH/++QdBQUGcv6ONYRjMmTMHGzdulJwG09LSwuzZs7FgwQKW05Wvfv36OHXqFDw9PXHq1ClMmDAB165dw4EDB3Dt2jXO/vspKChAaGgomjRpAi0tLcTExIBhGDg4OEj9X+AiPmcvwue7OAsLC7Fs2TJs374d79+/x/Pnz9GgQQPMnz8fdnZ2GD16NNsRS1VYWAgtLS08efIEjRo1YjtOpbVo0QIrV67k/EpVX/r06RN+/fVXxMfH46effpLcqLhw4UJoaGhg3rx5LCdUAFbrJ5FLx44dmY4dOzICgYDx8vKSfN6xY0fG19eXGTt2LPP8+XO2Y5aq+GTJX06qqaGhwTRu3Jg5e/Ys2zHLVHQq48OHD0x6ejpz9+5d5tGjR7wYwSmiqanJxMfHMwzDMD/88IPk9OOrV68YPT09FpOVj6+jCAzD7+wMwzDm5ubMkydPGIZhGBcXF+b06dMMwzBMZGQk50+FLV68mGnQoAFz6NAhRltbm4mJiWEYhmGOHj3KtG7dmuV05XNxcWFu3brFdowquXTpEtO8eXPm7NmzzLt375jU1FSpB2EP3QTCA9euXQMAjBo1Chs2bODFWpzFFRYWAvh8F+q9e/ekFtbmC1VVVXTt2hVRUVGwt7dHixYt2I5UYebm5nj69CksLS1x8eJFbN26FQCQmZnJ+YlNmzRpglevXsl9JzOX8Dk7ALRu3Rr//vsvXFxc0LNnT8yYMQOPHj3CiRMn0Lp1a7bjlenAgQPYuXMnOnXqhHHjxkm2N23aFM+ePWMxmXx+++03zJw5E9u2bePlNDwAJCNnvXr1krqBkeH4esblTc9UdFMOn1EB5JG9e/eyHaFK+HwXKsD/H+SjRo1C//79YWlpCYFAgC5dugD4PI3Nl3eocs2yZcvw888/Y8mSJfDw8JCZw43LvxTxOTvA37s4AeDt27cyK98An38pzcvLYyFRxQwdOhSZmZlo1qwZNDQ0oK2tLfU8HybPLxrA4JuS7vQtXmC5Wlwrgq4B5Jl79+7hr7/+KnE6Bj7MSyQWixESElJifq5NPvyly5cvY/bs2bz9QQ4Ax44dQ3x8PP73v/9JpsXYv38/DA0N4efnx3K60qmoqEg+5tMoAsDv7Hzn6emJqVOnYujQoZJlyBo0aIDFixfjypUruHHjBtsRy7R///4yn+fDUnB8lZqaKvV5Xl4eIiIiMH/+fCxbtox31zSWhAogjxw5cgTDhw+Hr68vgoKC4OvrixcvXiAxMRF9+vTh/AhhREQEevTogczMTIjFYhgbG0MkEkFHRwdmZmacm3z4S/SDnD0hISFlPl80VyYX8Tk73509exbDhg3D3Llz4e/vj8WLFyM6OhoHDhzA33//LRkFJ9UvMzOzxF/8mzZtylKiyrl+/TqmTZuGsLAwtqNUGRVAHmnatCl+/PFHTJgwQfLbrL29PX788UdYWlpyejk44POQeuPGjbFt2zYYGhriwYMHUFdXx9ChQzFlyhR89913bEcsEx9/kG/cuBFjx46FlpaW1FJvJeH6CCwhlXHp0iUsX74cYWFhKCwshLu7OxYsWABfX1+2o5UoLS1NcjYhLS2tzH35cNYhOTkZo0aNwoULF0p8nm+/OEdFRaFFixaSyyL4jAogj+jq6uLJkyews7ODiYkJrl27hiZNmiAqKgpff/0151ejMDQ0xJ07d+Do6AhDQ0PcunULzs7OuHPnDkaMGMGLi7L5xt7eHvfv30fdunXLvHaRi8u/fenjx4/YvXs3oqKiIBAI4OzsjFGjRkktjchVfM7OV/n5+Vi2bBm+//57WFtbsx1HbqqqqkhISICZmRlUVFRKXPmJT2cdhgwZgtevXyMgIAA+Pj44efIk3r9/j6VLl2Lt2rWStXa55uHDh1KfMwyDhIQErFy5Enl5eZydNqsi6CYQHjE2NkZ6ejoAoF69enj8+DGaNGmCT58+8WI9UXV1dck3M3NzcwiFQjg7O8PAwICzC5s/fPgQrq6uUFFRkfmG8CUunsoofuMNn2/CCQkJQa9evWBgYABPT08An0c3/f39cebMGU6Ovhbhc3Y+U1NTw+rVq3l3ndzVq1clvxjw9QaK4q5evYrTp0+jRYsWUFFRga2tLbp06QJ9fX2sWLGCswWwefPmEAgE+HKMrHXr1tizZw9LqRSLCiCPtGvXDkFBQWjSpAn69++PKVOm4OrVqwgKCuLFBalubm64f/8+GjduDB8fHyxYsAAikQgHDx5EkyZN2I5XoubNmyMxMRFmZmalfkMAwNnfxosmES+PQCDA2rVrqzlN5U2YMAEDBgzAtm3bJFPWFBQUYPz48ZgwYQIeP37McsLS8Tk7APj7++Pnn3+Wmbg6KysLq1ev5vQk6J07d0ZwcDBGjhzJdhS5Ff+FQBl+ORCLxTAzMwPweRAjOTkZjRs3RpMmTRAeHs5yutJ9+QuziooKTE1NoaWlxVIixaNTwDySkpKC7OxsWFlZobCwEGvWrEFoaCgcHBwwf/58GBkZsR2xTPfv30d6ejp8fHyQnJyMESNGSPLv3bsXzZo1YzuijLi4ONjY2EAgECAuLq7MfW1tbWsolfx8fHykPg8LC0NBQQEcHR0BAM+fP4eqqio8PDxw9epVNiLKRVtbG5GRkZLcRaKjo9G8eXNkZWWxlKx8fM4OSJ+SLO7Dhw8wMzPj5C8+RXbs2IFFixZhyJAhJd6536tXL5aSyWfv3r2oU6cO/ve//0lt/+uvv5CZmcmL0c0WLVpg6dKl6Nq1K3r37i0Z+du4cSOOHTuGmJgYtiPWWjQCyCPFrxdSUVHBrFmzMGvWLBYTVUzR6S8AMDU1xfnz51lMI5/ipe7w4cMwNzfH999/L7XPnj17kJycjNmzZ9d0vHIVP4W0bt066OnpYf/+/ZJfFj5+/IhRo0ahXbt2bEWUi7u7O6KiomRKVFRUFJo3b85OKDnxOTvw3/VmX3rw4AHnr2H86aefAHz+t/8lro7aF7dy5Ups375dZruZmRnGjh3LiwI4depUyfXpCxcuRNeuXXHo0CFoaGiUO81NTSvvRrnilOGmORoBJEROdnZ2OHz4MLy8vKS237lzBwMHDuT8NXb16tXD5cuX8dVXX0ltf/z4MXx9ffHu3TuWkpXv6NGjmDVrFiZNmiRZfeL27dvYsmULVq5cCWdnZ8m+XLsWk6/ZjYyMIBAIkJqaCn19fZlJcDMyMjBu3Dhs2bKFxZTKTUtLC8+ePYOdnZ3U9tevX8PZ2Znzo8dfYhgGWVlZePbsGWxsbDi3KpS8k/zz4aY5eVABJEROWlpakqXginv16hVcXFyQnZ3NUjL56Onp4fTp0/j666+ltl+9ehV+fn6SG4y4qPgcjCUpujaTi6M6fM2+f/9+MAyD77//HgEBATAwMJA8p6GhATs7O7Rp04bFhMrPxsYGmzdvljlVffr0aUyYMAFv3rxhKVnF7N69G+vXr8eLFy8AAI0aNcLUqVMxZswYlpPVbnQKmBA5WVtb499//5UpgP/++y+srKxYSiW/Pn36YNSoUVi7dq3USNTMmTM5Pwcj10dXy8LX7EWnF+3t7eHt7Q01NX78uFCmuS8HDhyIyZMnQ09PT7L2bEhICKZMmYKBAweynE4+8+fPx/r16zFp0iTJLwy3bt3CtGnT8Pr1ayxdupTlhLUYQwiRy8qVK5m6desye/bsYV6/fs28fv2a2b17N1O3bl1m+fLlbMcrl1gsZn766SdGU1OTUVFRYVRUVBgNDQ3mp59+YjIyMtiORzjq3LlzzMWLF2W2X7x4kTl//jwLicpmZ2fHiEQiycelPezt7VlOWr6cnBymf//+jEAgYNTV1Rl1dXVGVVWVGTVqFJOTk8N2PLnUrVuXOXz4sMz2w4cPM3Xr1mUhkXz69u3LrFixQmb7b7/9xvTr14+FRIpHp4B5Ij8/H1paWoiMjISrqyvbcSosLy8Pvr6+2LFjBxo3bsx2nEphGAZz5szBxo0bJcsZaWlpYfbs2ZyeCuNLYrEYMTExYBgGDg4OMndGclV0dDQ2bdokmUzZyckJkyZNkrm5gov4nL1p06ZYuXIlevToIbX94sWLmD17Nh48eMBSstrjxYsXiIyMhLa2Npo0acLJGQdKY2RkhLt376JRo0ZS258/f46WLVvi06dP7AQrh6mpKa5evSozRdmjR4/QuXNnvH//nqVkilP2xSmEM9TU1GBra8upa4QqQl1dHY8fPy7xbkK+EAgEWLVqFZKTk3H79m08ePAAKSkpvCp/wOcVZZo2bYpmzZrxpvwdO3YMrq6uCAsLQ7NmzdC0aVOEh4fD1dUVf/31F9vxysTn7MDn8uHi4iKz3cnJCS9fvmQhUe3TqFEj/O9//8M333zDq/IHAEOHDsW2bdtktu/cuRNDhgxhIZF8MjIyoKGhIbNdXV293CX6+IJGAHlk7969+Ouvv3Do0CHOT79QkhkzZkBdXR0rV65kOwrhmQYNGmDo0KHw9/eX2r5w4UIcPHiQ03fk8Tk7AFhYWODw4cMyNw9duXIFgwcPRlJSEkvJSibv5OdAydPDEMWaNGkSDhw4AGtra6lrj+Pj4zF8+HCoq6tL9uXS30eLFi3w7bffyvyCv2jRIpw9exZhYWEsJVMcKoA84ubmhpcvXyIvLw+2trYyozdcnlUd+O8bgYODAzw9PWXyc+k/P+EWHR0dPHz4EA4ODlLbX7x4gWbNmnF6KUQ+ZweAsWPH4vbt2zh58iQaNmwIAHj58iX69u2LFi1a4Pfff2c5oTRlmfxcWXz591EagUDAqb+PM2fOoG/fvhg8eLDkl59//vkHgYGB+Ouvv9C7d292AyoAP27rIgDA+39wjx8/hru7O4DP34SL4/OpYVL9OnbsiBs3bsiUqNDQUM5PYs3n7ACwevVqdOvWDU5OTqhfvz4A4M2bN2jXrh3WrFnDcjpZyjL5ubLg63rGvXr1wqlTp7B8+XIcO3YM2traaNq0Ka5cuaIUS/QBNAJICOGB7du3Y8GCBejfv7/UaaS//voLixcvlpqGh2vLe/E5exGGYRAUFIQHDx5IfhAWTUvCZXye/JyQ6kYFkGc+ffokWT9x5syZMDY2Rnh4OMzNzVGvXj2248nl5cuXiImJQfv27aGtrV3qUlOEFClvMuUiXJtMGeB39i9lZ2dDU1OTN/9f+Tz5eZEbN25gx44diImJwbFjx1CvXj0cPHgQ9vb2aNu2LdvxCI/RXcA88vDhQzRu3BirVq3CmjVrJLfPnzx5EnPnzmU3nBw+fPiATp06oXHjxujRo4dkfcgxY8ZgxowZLKcjXFZYWCjXg4sFis/Zgc/5lyxZgnr16qFOnTqSia3nz5+P3bt3s5yubEWTnx87dgxv3rzBmzdvcOzYMYwePZrzk58DwPHjx9G1a1doa2sjIiICOTk5AID09HQsX76c5XSE76gA8sj06dMxcuRIvHjxAlpaWpLt3bt3x/Xr11lMJp9p06ZBXV0dQqEQOjo6ku0DBgzAxYsXWUxGCCnN0qVLsW/fPvz2229S02I0adKEczeAfGn79u3o2bMnhg4dCltbW9ja2mLIkCHo3r07tm7dyna8ci1duhTbt2/Hrl27pO6W9fLy4vxNf4T76CYQHrl37x527Nghs71evXpITExkIVHFXL58GZcuXZJcSF6kUaNGiIuLYykV4QuxWIyQkBAIhULJRNxFuL6kF5+zHzhwADt37kSnTp0wbtw4yfamTZvi2bNnLCYrn46ODrZu3YrVq1fzdvLzkq611NfX5+wEyoQ/qADyiJaWVokTUEZHR8PU1JSFRBUjFoulRv6KiEQiaGpqspCI8EVERAR69OiBzMxMiMViGBsbQyQSQUdHB2ZmZpwuUXzODgBv376VuYMZ+HxqOC8vj4VEFVc0+TnfWFpa4uXLl7Czs5PaHhoaigYNGrATqpbw9/fHzz//LPMzKysrC6tXr+bdAgAloVPAPOLn5wd/f3/JN12BQAChUIg5c+agb9++LKcrX/v27XHgwAHJ5wKBAIWFhVi9erXcc0WR2mnatGn49ttvkZKSAm1tbdy+fRtxcXHw8PDg5FQkxfE5OwB89dVXuHHjhsz2v/76C25ubiwkqj1+/PFHTJkyBXfu3IFAIMC7d+/wxx9/4Oeff8b48ePZjqfUFi9ejIyMDJntmZmZWLx4MQuJqgEL6w+TSkpNTWW8vb0ZQ0NDRlVVlbG2tmbU1dWZ9u3bMxkZGWzHK9eTJ08YU1NTplu3boyGhgbTr18/xtnZmTE3N2devnzJdjzCYQYGBsyzZ88kHz99+pRhGIa5ffs24+joyGa0cvE5O8MwzJkzZxgDAwNm5cqVjI6ODrN69WpmzJgxjIaGBnP58mW24ym9X375hdHW1mYEAgEjEAgYLS0t5tdff2U7ltITCARMUlKSzPZ//vmHMTExYSGR4tEpYB7R19dHaGgorl69ivDwcBQWFsLd3R2dO3dmO5pcXFxc8PDhQ2zbtg2qqqoQi8X47rvvMGHCBFhaWrIdj3CYurq6ZOoRc3NzCIVCODs7w8DAAEKhkOV0ZeNzdgD49ttvcfToUSxfvhwCgQALFiyAu7s7zp49iy5durAdT+ktW7YM8+bNw9OnT1FYWAgXFxfUqVOH7VhKy8jICAKBAAKBAI0bN5aa8qigoAAZGRlS18LyGc0DSAjhPF9fX4wcORKDBw/GuHHjEBERgcmTJ+PgwYP4+PEj7ty5w3bEUvE5e35+PpYtW4bvv/8e1tbWbMchpNrt378fDMPg+++/R0BAAAwMDCTPaWhowM7ODm3atGExoeJQAeSZf/75B//88w+SkpJQWFgo9dyePXtYSiWfixcvok6dOpLJS7ds2YJdu3bBxcUFW7ZskSzVRMiX7t+/j/T0dPj4+CA5ORkjRoxAaGgoHBwcsHfvXjRr1oztiKXic3YAqFOnDh4/fixzIwKpHhWZn/DEiRPVmKR2CwkJgZeXl9T0O8qGCiCPLF68GP7+/vD09ISlpaXMbPwnT55kKZl8mjRpglWrVqFHjx549OgRPD09MWPGDFy9ehXOzs7Yu3cv2xEJIV/o3bs3evfujZEjR7IdpVYYNWqU3PvS98zqVVhYiJcvX5Y44MKHpRDLQwWQRywtLfHbb79h2LBhbEeplOIjCYsWLcLjx49x7NgxhIeHo0ePHryYy5CQ2mbHjh1YtGgRhgwZAg8PD5k59Li6fjEhVXH79m0MHjwYcXFx+LIm8WHZRnnQTSA8kpubCy8vL7ZjVJqGhgYyMzMBAFeuXMHw4cMBAMbGxiXOb0gIYd9PP/0EAFi3bp3Mc8ryg5CQL40bNw6enp44d+5ciWfclAGNAPLI7NmzUadOHcyfP5/tKJXSq1cv5ObmwtvbG0uWLEFsbCzq1auHy5cvY+LEiXj+/DnbEQkhhFVubm5ylw1aDq766Orq4sGDByVOgq4saASQR7Kzs7Fz505cuXIFTZs2lbk4taTf0Llk8+bNGD9+PI4dO4Zt27ahXr16AIALFy6gW7duLKcjhBD29e7dW/JxdnY2tm7dChcXF8mdp7dv38aTJ09oIuhq1qpVK7x8+VKpCyCNAPJIWatlCAQCXL16tQbTEFL9lPkbcHx8PBYuXMjJu/c3btyIsWPHQktLCxs3bixzX64vZcdnY8aMgaWlJZYsWSK1feHChYiPj+fkvx0+e/jwoeTjmJgY/Prrr5g5cyaaNGkiM+DCx6UFv0QFkNSogoICnDp1ClFRURAIBHB2doafnx9UVVXZjkY4SEVFBfXq1YOPj4/koSzTkTx48ADu7u6cvIbO3t4e9+/fR926dWFvb1/qfgKBAK9evarBZLWLgYEB7t+/j0aNGkltf/HiBTw9PZGamspSMuWkoqICgUAgc9NHkaLnlOXaVzoFTGrMy5cv0aNHD7x9+xaOjo5gGAbPnz+HtbU1zp07h4YNG7IdkXBMSEgIQkJCEBwcjIkTJyI7Oxs2Njb4+uuvJYWw6FICojixsbElfkxqlra2NkJDQ2UKYGhoKLS0tFhKpbxq2791GgHkEbFYjJUrV5Y6ETTXfxPv0aMHGIbBH3/8AWNjYwDAhw8fMHToUKioqODcuXMsJyRclpeXh1u3biE4OBjBwcG4ffs2cnJy4ODggOjoaLbjVRiXRwAJN6xcuRKLFi3CmDFj0Lp1awCfrwHcs2cPFixYgDlz5rCckPAZFUAeGTRoEEJCQjBs2LASb0ufMmUKS8nko6uri9u3b6NJkyZS2x88eABvb29kZGSwlIzwSVZWFkJDQ3Hp0iXs2rULGRkZvCxRXC6A06dPl3tfrt98xnd//vknNmzYgKioKACAs7MzpkyZgv79+7OcTLmdOXOmxO0CgQBaWlpwcHAo8/IIPqBTwDxy4cIFnDt3Dt7e3mxHqRRNTU2kp6fLbM/IyICGhgYLiQgfZGdn4+bNm7h27RqCg4Nx79492Nvbo0OHDti2bRs6dOjAdsQSlbek16dPn2omSCVERERIfR4WFoaCggI4OjoCAJ4/fw5VVVV4eHiwEa9W6d+/P5U9FvTu3bvE6wGLXwfYtm1bnDp1irfLmKqwHYDIz8jISHLqlI+++eYbjB07Fnfu3AHDMGAYBrdv38a4ceNoNQFSog4dOsDY2BhTpkxBSkoKJk2ahLi4OERFRWH79u0YPHgwZ68BNDAwKPNha2srmQyda65duyZ5fPvtt+jYsSPevHmD8PBwhIeHIz4+Hj4+PujZsyfbUQmpFkFBQWjRogWCgoKQmpqK1NRUBAUFoWXLlvj7779x/fp1fPjwAT///DPbUSuNTgHzyKFDh3D69Gns378fOjo6bMepsE+fPmHEiBE4e/as5Jb6/Px89OrVC/v27YOBgQHLCQnXqKurw9LSEr1790bHjh3Rvn17mJiYsB2rVimarP2rr76S2v748WP4+vri3bt3LCVTTkZGRnJPBJ2SklLNaWovV1dX7Ny5U2b1rX///Rdjx47FkydPcOXKFXz//fcQCoUspawaOgXMI2vXrkVMTAzMzc1hZ2cnMy8R12eFNzQ0xOnTp/HixQs8e/YMDMPAxcVFaed5I1X36dMn3LhxA8HBwVi1ahUGDRqExo0bo0OHDujYsSM6dOgAU1NTtmMqtbS0NLx//16mACYlJZV4SQepmoCAAMnHHz58wNKlS9G1a1fJRNC3bt3CpUuXeLsiFF/ExMRAX19fZru+vr7khstGjRpBJBLVdDSFoRFAHlm8eHGZzy9cuLCGkhDCjvT0dISGhkquB3zw4AEaNWqEx48fsx1NaQ0fPhwhISFYu3at1J2oM2fORPv27bF//36WEyqvvn37wsfHBxMnTpTavnnzZly5cgWnTp1iJ1gt0LZtW+jp6eHAgQOSXzKTk5MxfPhwiMViXL9+HVeuXMH48eN5u4wpFUBSrehuQqJIhYWFuHfvnuT6tNDQUGRnZ3PyTlplkZmZiZ9//hl79uxBXl4eAEBNTQ2jR4/G6tWroaury3JC5VWnTh1ERkbKnCV58eIF3NzcaOaEahQdHQ0/Pz/ExsbC2toaAoEAQqEQDRo0wOnTp9G4cWOcOnUK6enpGDZsGNtxK4UKIKlWZS1fVxwtZUdKUlhYiPv37yM4OBjXrl3Dv//+C7FYLLM6iK2tLdtRlZ5YLEZMTAwYhoGDgwMVvxpga2uLiRMnYubMmVLbV69ejc2bNyMuLo6lZLUDwzC4dOkSnj9/DoZh4OTkhC5dukBFRTnun6UCyHHGxsZ4/vw5TExMyr04mC4IJspGX18fYrEYlpaW6NixIzp27AgfHx9aNYbUCvv27cPo0aPRrVs3yTWAt2/fxsWLF/H7779j5MiR7AYkvEY3gXDc+vXroaenJ/lY3rvDCFEGq1evho+PDxo3bsx2FEJq3MiRI+Hs7IyNGzfixIkTkhvn/v33X7Rq1YrteEpn48aNGDt2LLS0tLBx48Yy9508eXINpao+NAJICCGEkFrP3t4e9+/fR926dctc5UMgEHB+6VV5UAHkkSFDhkimvqAREUIIUT5paWmS6UfS0tLK3LekaUpI5aWmptaq+WiV40rGWqJOnTpYu3YtnJycYGVlhUGDBmH79u149uwZ29EIIYQogJGREZKSkgB8njvVyMhI5lG0nSiWsbGx5M/+66+/5vRyjYpAI4A8lJiYiODgYAQHByMkJATPnz+HmZkZEhIS2I5GCCGkCkJCQuDt7Q01NTWEhISUuS9X18HmKwMDA9y+fRvOzs5QUVHB+/fvlXqieboJhIf09PSkfhNUU1ODhYUF27EIIYRUUfFSRwWvZnXu3Bk+Pj5wdnYGAPTp0wcaGhol7qsM05ZRAeSR2bNnIyQkBA8ePICrqyvat2+PuXPnon379jA0NGQ7HiGEEAXLzs7Gw4cPkZSUhMLCQqnnevXqxVIq5XTo0CHs378fMTExCAkJwVdffQUdHR22Y1UbOgXMIyoqKjA1NcW0adPg5+cn+S2FEEKI8rl48SKGDx9e4nqzAoGAVsCpRj4+Pjh58qRSD65QAeSRBw8eICQkBMHBwbhx4wZUVVXRoUMHyQS5VAgJIUR5ODg4oGvXrliwYAHMzc3ZjlNr/fvvv/D09ISmpibbURSKCiCPPXjwAAEBATh06BAKCwvpt0FCCFEi+vr6iIiIoJVvWKavr4/IyEg0aNCA7SgKRdcA8kxERITkDuAbN24gLS0NzZs3l3vNXUIIIfzQr18/BAcHUwFkmbKOk9EIII8YGRkhIyMDzZo1k5z2bd++PU0GSgghSigzMxP/+9//YGpqiiZNmkBdXV3qeWVYjowP9PT08ODBA6UbAaQCyCN///03FT5CCKklfv/9d4wbNw7a2tqoW7eu1FrwyrIcGR8cPnwYfn5+0NXVZTuKQlEBJIQQQjjIwsICkydPxpw5c6CiQgt3EcWiawAJIYQQDsrNzcWAAQOo/LFALBZj5cqV+Oeff0qcg1EZRl+pABJCCCEcNGLECBw9ehS//PIL21FqnTFjxiAkJATDhg2DpaWl1Ol3ZUEFkBBCCOGggoIC/Pbbb7h06RKaNm0qcxPIunXrWEqm/C5cuIBz587B29ub7SjVhgogIeT/2rtbltjWMAzAzwpmP8AwoGAeUBjQYhsVq0aLzariT9Bo8AcYBEHEOtkZMQtaXKLFomiY4MckMbh226x9Zp+0Z87ax3Vd8X3LHW/eT+AvdH19HbVaLSIi0jT9Ze47rkj9TYaHh2NkZKToGH3lEggAQM7R0VE0Go04PDz8tv8BK4AAADm1Wi3u7+8jy7KYmJjo2n6/uroqKFnv2AIGAMhZXl4uOkLfWQEEACgZK4AAAL9xeXkZt7e3kSRJVKvVn5dyvgMFEAAgp91ux8rKSpyfn8fQ0FBkWRbv7+9Rr9fj5OQkRkdHi474xzwvDgCQs76+Hp1OJ25ubuLl5SVeX18jTdPodDqxsbFRdLyecAYQACBncHAwms1mzMzM/DJ+cXERi4uL8fb2VkywHrICCACQ8/X11fX0S0TEwMBA17/A/1cKIABAztzcXGxubsbz8/PPsaenp9ja2or5+fkCk/WOLWAAgJzHx8dYWlqKNE1jfHw8kiSJh4eHmJycjEajEWNjY0VH/GMKIADAb5yensbd3V1kWRbVajUWFhaKjtQzCiAAQMl4BxAA4B9arVa0Wq1ot9tdFz8ODg4KStU7CiAAQM729nbs7OzE9PR0VCqVSJKk6Eg9ZwsYACCnUqnE7u5urK6uFh2lbzwDAwCQ8/n5GbOzs0XH6CsFEAAgZ21tLY6Pj4uO0VfOAAIA5Hx8fMT+/n40m82Ymprq+hVkb2+voGS94wwgAEBOvV7/17kkSeLs7Ow/TNMfCiAAQMk4AwgAUDIKIABAySiAAAAlowACAJSMAggAUDIKIABAySiAAAAlowACAJSMAggAUDIKIABAySiAAAAlowACAJSMAggAUDIKIABAyfwAWXmuxjIO66gAAAAASUVORK5CYII=' width=640.0/>\n",
       "            </div>\n",
       "        "
      ],
      "text/plain": [
       "Canvas(toolbar=Toolbar(toolitems=[('Home', 'Reset original view', 'home', 'home'), ('Back', 'Back to previous …"
      ]
     },
     "metadata": {},
     "output_type": "display_data"
    }
   ],
   "source": [
    "\n",
    "fig, axs = plt.subplots()\n",
    "ax=axs\n",
    "\n",
    "# get colors\n",
    "state_colors = [colorlist[i] for i in new_plot_order] \n",
    "\n",
    "ax.bar(xvals, plot_fight_means, color=state_colors, width=width, edgecolor='black', yerr=plot_fight_err,\n",
    "       label='fight')\n",
    "\n",
    "ax.bar(xvals+width, plot_nonfight_means, color=state_colors, width=width, edgecolor='black', yerr=plot_nonfight_err, hatch='//',\n",
    "       label='nonfight')\n",
    "\n",
    "xticks = xvals +  width/2\n",
    "xticklabels = list(plot_state_names)\n",
    "ax.set_xticks(xticks)\n",
    "ax.set_xticklabels(xticklabels, rotation=90)\n",
    "\n",
    "ax.legend()\n",
    "\n",
    "ax.set_ylabel('Probability')\n",
    "\n",
    "fig.tight_layout()"
   ]
  },
  {
   "cell_type": "code",
   "execution_count": null,
   "id": "b50ee8b4-16c3-4fe3-8fee-b5eb5427d805",
   "metadata": {},
   "outputs": [],
   "source": []
  },
  {
   "cell_type": "markdown",
   "id": "181a8518-439a-478d-989f-34a5fffd2b04",
   "metadata": {},
   "source": [
    "## paper version"
   ]
  },
  {
   "cell_type": "code",
   "execution_count": 166,
   "id": "8d28db74-c1ec-4f69-9166-ef2eb07b4166",
   "metadata": {},
   "outputs": [
    {
     "data": {
      "application/vnd.jupyter.widget-view+json": {
       "model_id": "33333e4ca0af4899872952ff82a3397a",
       "version_major": 2,
       "version_minor": 0
      },
      "text/html": [
       "\n",
       "            <div style=\"display: inline-block;\">\n",
       "                <div class=\"jupyter-widgets widget-label\" style=\"text-align: center;\">\n",
       "                    Figure\n",
       "                </div>\n",
       "                <img src='data:image/png;base64,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' width=600.0/>\n",
       "            </div>\n",
       "        "
      ],
      "text/plain": [
       "Canvas(toolbar=Toolbar(toolitems=[('Home', 'Reset original view', 'home', 'home'), ('Back', 'Back to previous …"
      ]
     },
     "metadata": {},
     "output_type": "display_data"
    }
   ],
   "source": [
    "imsavepath = '/home/liam/temp/image_transfer/figure6_panel_B.png'\n",
    "\n",
    "\n",
    "fig, axs = plt.subplots(figsize=(6,1.75))\n",
    "ax=axs\n",
    "\n",
    "# get colors\n",
    "state_colors = [colorlist[i] for i in new_plot_order] \n",
    "\n",
    "ax.bar(xvals, plot_fight_means, color=state_colors, width=width, edgecolor='black', yerr=plot_fight_err,\n",
    "       label='fight')\n",
    "\n",
    "ax.bar(xvals+width, plot_nonfight_means, color=state_colors, width=width, edgecolor='black', yerr=plot_nonfight_err, hatch='///',\n",
    "       label='nonfight')\n",
    "\n",
    "xticks = xvals +  width/2\n",
    "xticklabels = list(plot_state_names)\n",
    "ax.set_xticks(xticks)\n",
    "ax.set_xticklabels(xticklabels, rotation=90)\n",
    "\n",
    "ax.legend()\n",
    "\n",
    "\n",
    "# -----------------------#\n",
    "ax.set_ylabel('')\n",
    "ax.set_xlabel('')\n",
    "ax.get_legend().remove()\n",
    "ytop = 0.45\n",
    "ax.set_yticks([0, ytop])\n",
    "ax.set_yticklabels([])\n",
    "#ax.set_xlim(0, np.max(xticks)+2) # add space for legend\n",
    "ax.set_ylim(0,ytop)\n",
    "ax.set_xticklabels([])\n",
    "\n",
    "# tick params\n",
    "ax.xaxis.set_tick_params(width=2, length=4)\n",
    "ax.yaxis.set_tick_params(width=2, length=4)\n",
    "\n",
    "# make the left and rights thicker for each axis\n",
    "for axis in ['top', 'bottom', 'left','right']:\n",
    "    ax.spines[axis].set_linewidth(2)\n",
    "\n",
    "\n",
    "fig.tight_layout()\n",
    "\n",
    "fig.savefig(imsavepath, dpi=300, transparent=True)"
   ]
  },
  {
   "cell_type": "code",
   "execution_count": null,
   "id": "610db4af-9703-4d20-aea0-964a5807def6",
   "metadata": {},
   "outputs": [],
   "source": []
  },
  {
   "cell_type": "code",
   "execution_count": null,
   "id": "edd57067-c30d-40ae-b4ba-2a0780865324",
   "metadata": {},
   "outputs": [],
   "source": []
  },
  {
   "cell_type": "code",
   "execution_count": null,
   "id": "d41f003b-6535-40e3-a07a-3f6020a4717c",
   "metadata": {},
   "outputs": [],
   "source": []
  },
  {
   "cell_type": "code",
   "execution_count": null,
   "id": "06f4f46d-7899-44e5-8f38-9c3340885b03",
   "metadata": {},
   "outputs": [],
   "source": []
  },
  {
   "cell_type": "markdown",
   "id": "f57885f8-52da-40cd-b0d7-4599ba7fc50c",
   "metadata": {},
   "source": [
    "# Panel C"
   ]
  },
  {
   "cell_type": "code",
   "execution_count": null,
   "id": "45b04919-be00-4789-9687-46cb03d3971f",
   "metadata": {},
   "outputs": [],
   "source": []
  },
  {
   "cell_type": "markdown",
   "id": "1682a85c-0173-42d1-8f0c-3237c0489350",
   "metadata": {},
   "source": [
    "## compute the windowed probabilties"
   ]
  },
  {
   "cell_type": "code",
   "execution_count": 146,
   "id": "ff9ea8fb-a458-49fe-86b6-244dae4af66b",
   "metadata": {},
   "outputs": [
    {
     "name": "stdout",
     "output_type": "stream",
     "text": [
      "FishTank20200127_143538\n",
      "FishTank20200129_140656\n",
      "FishTank20200130_153857\n",
      "FishTank20200130_181614\n",
      "FishTank20200207_161445\n",
      "FishTank20200213_154940\n",
      "FishTank20200214_153519\n",
      "FishTank20200217_160052\n",
      "FishTank20200218_153008\n",
      "FishTank20200316_163320\n",
      "FishTank20200327_154737\n",
      "FishTank20200330_161100\n",
      "FishTank20200331_162136\n",
      "FishTank20200520_152810\n",
      "FishTank20200521_154541\n",
      "FishTank20200525_161602\n",
      "FishTank20200526_160100\n",
      "FishTank20200527_152401\n",
      "FishTank20200824_151740\n",
      "FishTank20200828_155504\n",
      "FishTank20200902_160124\n",
      "FishTank20200903_160946\n"
     ]
    }
   ],
   "source": [
    "# compute the windowed state probabilities for each experiment\n",
    "window_size= 6000 #6000\n",
    "window_step=100\n",
    "\n",
    "all_exp_window_state_probabilities = []\n",
    "all_exp_time_windows = []\n",
    "\n",
    "for expIdx in range(len(expNames)):\n",
    "    expName = expNames[expIdx]\n",
    "    print(expName)\n",
    "    exp_cls_tseries = np.copy(all_exps_edited_postProced_clusterIdx_tseries[expIdx])\n",
    "    exp_numFrames = exp_cls_tseries.shape[0]\n",
    "    exp_time_windows = return_overlapping_windows_for_timeframes(exp_numFrames, window_size=window_size, window_step=window_step)\n",
    "    exp_window_state_probabilities = compute_state_probabilities_in_time_windows(exp_cls_tseries, exp_time_windows, numLabelledStates)\n",
    "    all_exp_window_state_probabilities.append(exp_window_state_probabilities)\n",
    "    all_exp_time_windows.append(exp_time_windows)"
   ]
  },
  {
   "cell_type": "code",
   "execution_count": null,
   "id": "de702075-aaa4-436a-bdd4-41fa3eab5654",
   "metadata": {},
   "outputs": [],
   "source": []
  },
  {
   "cell_type": "markdown",
   "id": "db82c617-e889-49af-a9da-98cf23bb9719",
   "metadata": {},
   "source": [
    "## plot rough"
   ]
  },
  {
   "cell_type": "code",
   "execution_count": null,
   "id": "c68eea04-8e47-452e-b473-d73fccd090c3",
   "metadata": {},
   "outputs": [],
   "source": []
  },
  {
   "cell_type": "code",
   "execution_count": 147,
   "id": "62642a96-9347-4774-8a84-a1decfc19faa",
   "metadata": {},
   "outputs": [
    {
     "data": {
      "text/plain": [
       "['winner attack',\n",
       " 'loser attack',\n",
       " 'circling',\n",
       " 'display',\n",
       " 'W approach',\n",
       " 'L approach',\n",
       " 'direct away',\n",
       " 'direct to',\n",
       " 'middle circling',\n",
       " 'parallel',\n",
       " 'non-fight clusters']"
      ]
     },
     "execution_count": 147,
     "metadata": {},
     "output_type": "execute_result"
    }
   ],
   "source": [
    "# define a new order for plotting\n",
    "new_plot_order = [2,3,0,4,8,7,1,5,6,9,10]\n",
    "[all_state_names[i] for i in new_plot_order]\n"
   ]
  },
  {
   "cell_type": "code",
   "execution_count": 148,
   "id": "06e4b431-97ee-43d8-b798-2e2946b6cf1d",
   "metadata": {},
   "outputs": [
    {
     "data": {
      "text/plain": [
       "{2: 0, 3: 1, 0: 2, 4: 3, 8: 4, 7: 5, 1: 6, 5: 7, 6: 8, 9: 9, 10: 10}"
      ]
     },
     "execution_count": 148,
     "metadata": {},
     "output_type": "execute_result"
    }
   ],
   "source": [
    "# a dcionary which maps state indexs to the row i want to draw them\n",
    "correct_place_dictionary = dict(zip(new_plot_order, np.arange(0, numLabelledStates+1)))\n",
    "correct_place_dictionary"
   ]
  },
  {
   "cell_type": "code",
   "execution_count": null,
   "id": "7fe51896-392e-45dc-89cf-2950b9ed5d74",
   "metadata": {},
   "outputs": [],
   "source": []
  },
  {
   "cell_type": "code",
   "execution_count": 159,
   "id": "f7b7d9ad-494b-4cf4-a900-640d1f1adcd1",
   "metadata": {},
   "outputs": [
    {
     "data": {
      "text/plain": [
       "array([[ 31500, 175400],\n",
       "       [301300, 319600]])"
      ]
     },
     "execution_count": 159,
     "metadata": {},
     "output_type": "execute_result"
    }
   ],
   "source": [
    "exp_fight_bout_lims = figure_bout_info[figure_bout_info[:,0]==expIdx][:, 1:3]\n",
    "exp_fight_bout_lims"
   ]
  },
  {
   "cell_type": "code",
   "execution_count": null,
   "id": "642ddad3-007a-483f-a34e-9f5ff764bff6",
   "metadata": {},
   "outputs": [],
   "source": []
  },
  {
   "cell_type": "code",
   "execution_count": null,
   "id": "d2765b78-6716-43e4-9409-364de42c952d",
   "metadata": {},
   "outputs": [],
   "source": []
  },
  {
   "cell_type": "code",
   "execution_count": 160,
   "id": "a0db180c-2ab3-4131-ac6e-8cdff8b9f9c7",
   "metadata": {},
   "outputs": [
    {
     "data": {
      "application/vnd.jupyter.widget-view+json": {
       "model_id": "94ca51d1a3334eb598a259032c9d03b1",
       "version_major": 2,
       "version_minor": 0
      },
      "text/html": [
       "\n",
       "            <div style=\"display: inline-block;\">\n",
       "                <div class=\"jupyter-widgets widget-label\" style=\"text-align: center;\">\n",
       "                    Figure\n",
       "                </div>\n",
       "                <img src='data:image/png;base64,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' width=600.0/>\n",
       "            </div>\n",
       "        "
      ],
      "text/plain": [
       "Canvas(toolbar=Toolbar(toolitems=[('Home', 'Reset original view', 'home', 'home'), ('Back', 'Back to previous …"
      ]
     },
     "metadata": {},
     "output_type": "display_data"
    }
   ],
   "source": [
    "expIdx = 2\n",
    "#imsavepath = '/mnt/e/OneDrive/illustrator_projects/paper_figures/figure6/panel_A_v2.png'\n",
    "\n",
    "\n",
    "t0 = time.time()\n",
    "\n",
    "\n",
    "# ---- parse and prepare data ------\n",
    "expName = expNames[expIdx]\n",
    "#print(expName)\n",
    "# get time windows\n",
    "exp_numFrames = (all_exps_edited_postProced_clusterIdx_tseries[expIdx]).shape[0]\n",
    "exp_time_windows = return_overlapping_windows_for_timeframes(exp_numFrames, window_size=window_size, window_step=window_step)\n",
    "window_mids = np.mean(exp_time_windows, axis=1)\n",
    "numWins = exp_time_windows.shape[0]\n",
    "# get the probabilities (computed cell above)\n",
    "exp_windowed_state_probabilities = all_exp_window_state_probabilities[expIdx]\n",
    "# get colors\n",
    "state_colors = [colorlist[i] for i in range(numLabelledStates+1)] #plus 1 for non-fight-clusters\n",
    "\n",
    "\n",
    "# find the max y vals, for yrange and ytickmax\n",
    "states_y_max = np.zeros((totalNumStates,))\n",
    "states_y_tick_max = np.zeros((totalNumStates,))\n",
    "for stateIdx in range(totalNumStates):\n",
    "    maxval = np.round(np.max(exp_windowed_state_probabilities[:,stateIdx]), 2)\n",
    "    states_y_max[stateIdx] = maxval*1.2\n",
    "    states_y_tick_max[stateIdx] = maxval\n",
    "\n",
    "\n",
    "# ----------- prepare the figure ----------#\n",
    "\n",
    "    \n",
    "\n",
    "# prepare the figure\n",
    "nrows = numLabelledStates+1\n",
    "\n",
    "fig = plt.figure(figsize=(6,5))\n",
    "gs = fig.add_gridspec(nrows=nrows, hspace=0)\n",
    "axs = gs.subplots(sharex=True, sharey=False)\n",
    "\n",
    "# loop over rows to draw clusters, but use new_plot_order\n",
    "# to draw them on the right axis\n",
    "for i in range(nrows):    \n",
    "    \n",
    "    correct_axis_idx = correct_place_dictionary[i]\n",
    "    ax = axs[correct_axis_idx]\n",
    "    \n",
    "    # everything else from now on uses i\n",
    "    \n",
    "    stateIdx = i\n",
    "    ax.plot(window_mids, exp_windowed_state_probabilities[:,stateIdx], \n",
    "            color=state_colors[stateIdx], alpha=0.9, linewidth=1.5, label='                  ')\n",
    "\n",
    "    \n",
    "    \n",
    "    # plot the fight boundaries\n",
    "    for boutIdx in range(exp_fight_bout_lims.shape[0]):\n",
    "        f0, fE = exp_fight_bout_lims[boutIdx, 0], exp_fight_bout_lims[boutIdx, 1]\n",
    "        ax.axvline(f0, linestyle='--', color='black', alpha=0.5)\n",
    "        ax.axvline(fE, linestyle='--', color='black', alpha=0.5)\n",
    "\n",
    "\n",
    "    # xticks\n",
    "    mins_between_ticks = 10\n",
    "    numWins = exp_time_windows.shape[0]\n",
    "    xtick_max = int(numWins*window_step)\n",
    "    exp_numMins = (exp_time_windows[-1][-1] / 100)/60\n",
    "    xsteps_per_min = xtick_max/exp_numMins\n",
    "    xticks = np.arange(0, xtick_max, mins_between_ticks*xsteps_per_min)\n",
    "    xticklabels = [mins_between_ticks*i for i in range(len(xticks))]\n",
    "    ax.set_xticks(xticks);\n",
    "    ax.set_xticklabels(xticklabels);\n",
    "    \n",
    "    # # yticks\n",
    "    # plot_max_y = np.max(exp_windowed_state_probabilities[:,stateIdx])\n",
    "    # print(all_state_names[i], plot_max_y)\n",
    "    # ax.set_yticks([0, plot_max_y])\n",
    "    # ax.set_yticklabels([0, np.round(plot_max_y, decimals=2)])\n",
    "\n",
    "    # plot limits\n",
    "    ax.set_xlim(0, window_mids[-1])\n",
    "    ax.set_ylim(bottom=0, top=states_y_max[stateIdx])\n",
    "    \n",
    "    # set the yticks\n",
    "    ax.set_yticks([0, states_y_tick_max[stateIdx]])\n",
    "    ax.set_yticklabels([0, states_y_tick_max[stateIdx]])\n",
    "    \n",
    "    # make the legend\n",
    "    ax.legend(frameon=False, loc='best')\n",
    "\n",
    "    # axes labels\n",
    "    ax.set_ylabel(all_state_names[i]+'\\n prob')\n",
    "    \n",
    "    # tick params\n",
    "    ax.xaxis.set_tick_params(width=2, length=4)\n",
    "    ax.yaxis.set_tick_params(width=2, length=4)\n",
    "    \n",
    "    # make the left and rights thicker for each axis\n",
    "    for axis in ['left','right']:\n",
    "        ax.spines[axis].set_linewidth(2)\n",
    "        \n",
    "    # turn off all the interior x axes    \n",
    "    for ii in range(numLabelledStates):\n",
    "        axs[ii].spines['bottom'].set_visible(False)\n",
    "        axs[ii+1].spines['top'].set_visible(False)\n",
    "        \n",
    "    # set the gridlines\n",
    "    #ax.grid(alpha=0.3)\n",
    "    ax.axhline(y=0, color='grey', alpha=0.3)\n",
    "    ax.axhline(y=states_y_tick_max[stateIdx], color='grey', alpha=0.2)\n",
    "        \n",
    "    ### EXTRAS TURN OFF PLOT ILLUSTRATOR VERSION ####\n",
    "    #ax.set_yticklabels([])\n",
    "    ax.set_xticklabels([])\n",
    "    ax.set_xlabel('')\n",
    "    ax.set_ylabel('')\n",
    "    ax.get_legend().remove()\n",
    "    \n",
    "    \n",
    "    \n",
    "# ----------------------------------------------------#\n",
    "\n",
    "\n",
    "# make the very top and very bottoms lines thicker\n",
    "ax = axs[0]\n",
    "for axis in ['top']:\n",
    "    ax.spines[axis].set_linewidth(2)\n",
    "ax = axs[-1]\n",
    "for axis in ['bottom']:\n",
    "    ax.spines[axis].set_linewidth(2)\n",
    "\n",
    "\n",
    "fig.tight_layout()\n",
    "\n",
    "#fig.savefig(imsavepath, dpi=300, transparent=False)"
   ]
  },
  {
   "cell_type": "code",
   "execution_count": null,
   "id": "c8214ce9-cb22-4101-9f1e-97d0561d0e00",
   "metadata": {},
   "outputs": [],
   "source": []
  },
  {
   "cell_type": "markdown",
   "id": "7af72838-6d78-4387-a895-8ee87a281f84",
   "metadata": {},
   "source": [
    "## paper version"
   ]
  },
  {
   "cell_type": "code",
   "execution_count": 168,
   "id": "eb918684-34d6-477b-8900-25b8d0329e4c",
   "metadata": {},
   "outputs": [
    {
     "data": {
      "application/vnd.jupyter.widget-view+json": {
       "model_id": "9e7310eab05a460287d26f149f234147",
       "version_major": 2,
       "version_minor": 0
      },
      "text/html": [
       "\n",
       "            <div style=\"display: inline-block;\">\n",
       "                <div class=\"jupyter-widgets widget-label\" style=\"text-align: center;\">\n",
       "                    Figure\n",
       "                </div>\n",
       "                <img src='data:image/png;base64,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' width=600.0/>\n",
       "            </div>\n",
       "        "
      ],
      "text/plain": [
       "Canvas(toolbar=Toolbar(toolitems=[('Home', 'Reset original view', 'home', 'home'), ('Back', 'Back to previous …"
      ]
     },
     "metadata": {},
     "output_type": "display_data"
    }
   ],
   "source": [
    "expIdx = 2\n",
    "imsavepath = '/home/liam/temp/image_transfer/fig6_panel_A_v4.png'\n",
    "\n",
    "\n",
    "t0 = time.time()\n",
    "\n",
    "\n",
    "# ---- parse and prepare data ------\n",
    "expName = expNames[expIdx]\n",
    "#print(expName)\n",
    "# get time windows\n",
    "exp_numFrames = (all_exps_edited_postProced_clusterIdx_tseries[expIdx]).shape[0]\n",
    "exp_time_windows = return_overlapping_windows_for_timeframes(exp_numFrames, window_size=window_size, window_step=window_step)\n",
    "window_mids = np.mean(exp_time_windows, axis=1)\n",
    "numWins = exp_time_windows.shape[0]\n",
    "# get the probabilities (computed cell above)\n",
    "exp_windowed_state_probabilities = all_exp_window_state_probabilities[expIdx]\n",
    "# get colors\n",
    "state_colors = [colorlist[i] for i in range(numLabelledStates+1)] #plus 1 for non-fight-clusters\n",
    "\n",
    "\n",
    "# find the max y vals, for yrange and ytickmax\n",
    "states_y_max = np.zeros((totalNumStates,))\n",
    "states_y_tick_max = np.zeros((totalNumStates,))\n",
    "for stateIdx in range(totalNumStates):\n",
    "    maxval = np.round(np.max(exp_windowed_state_probabilities[:,stateIdx]), 2)\n",
    "    states_y_max[stateIdx] = maxval*1.2\n",
    "    states_y_tick_max[stateIdx] = maxval\n",
    "\n",
    "\n",
    "# ----------- prepare the figure ----------#\n",
    "\n",
    "    \n",
    "\n",
    "# prepare the figure\n",
    "nrows = numLabelledStates+1\n",
    "\n",
    "fig = plt.figure(figsize=(6,5))\n",
    "gs = fig.add_gridspec(nrows=nrows, hspace=0)\n",
    "axs = gs.subplots(sharex=True, sharey=False)\n",
    "\n",
    "# loop over rows to draw clusters, but use new_plot_order\n",
    "# to draw them on the right axis\n",
    "for i in range(nrows):    \n",
    "    \n",
    "    correct_axis_idx = correct_place_dictionary[i]\n",
    "    ax = axs[correct_axis_idx]\n",
    "    \n",
    "    # everything else from now on uses i\n",
    "    \n",
    "    stateIdx = i\n",
    "    ax.plot(window_mids, exp_windowed_state_probabilities[:,stateIdx], \n",
    "            color=state_colors[stateIdx], alpha=0.9, linewidth=1.5, label='                  ')\n",
    "\n",
    "    \n",
    "    \n",
    "    # plot the fight boundaries\n",
    "    for boutIdx in range(exp_fight_bout_lims.shape[0]):\n",
    "        f0, fE = exp_fight_bout_lims[boutIdx, 0], exp_fight_bout_lims[boutIdx, 1]\n",
    "        ax.axvline(f0, linestyle='--', color='black', alpha=0.5)\n",
    "        ax.axvline(fE, linestyle='--', color='black', alpha=0.5)\n",
    "\n",
    "\n",
    "    # xticks\n",
    "    mins_between_ticks = 10\n",
    "    numWins = exp_time_windows.shape[0]\n",
    "    xtick_max = int(numWins*window_step)\n",
    "    exp_numMins = (exp_time_windows[-1][-1] / 100)/60\n",
    "    xsteps_per_min = xtick_max/exp_numMins\n",
    "    xticks = np.arange(0, xtick_max, mins_between_ticks*xsteps_per_min)\n",
    "    xticklabels = [mins_between_ticks*i for i in range(len(xticks))]\n",
    "    ax.set_xticks(xticks);\n",
    "    ax.set_xticklabels(xticklabels);\n",
    "    \n",
    "    # # yticks\n",
    "    # plot_max_y = np.max(exp_windowed_state_probabilities[:,stateIdx])\n",
    "    # print(all_state_names[i], plot_max_y)\n",
    "    # ax.set_yticks([0, plot_max_y])\n",
    "    # ax.set_yticklabels([0, np.round(plot_max_y, decimals=2)])\n",
    "\n",
    "    # plot limits\n",
    "    ax.set_xlim(0, window_mids[-1])\n",
    "    ax.set_ylim(bottom=0, top=states_y_max[stateIdx])\n",
    "    \n",
    "    # set the yticks\n",
    "    ax.set_yticks([0, states_y_tick_max[stateIdx]])\n",
    "    ax.set_yticklabels([0, states_y_tick_max[stateIdx]])\n",
    "    \n",
    "    # make the legend\n",
    "    ax.legend(frameon=False, loc='best')\n",
    "\n",
    "    # axes labels\n",
    "    ax.set_ylabel(all_state_names[i]+'\\n prob')\n",
    "    \n",
    "    # tick params\n",
    "    ax.xaxis.set_tick_params(width=2, length=4)\n",
    "    ax.yaxis.set_tick_params(width=2, length=4)\n",
    "    \n",
    "    # make the left and rights thicker for each axis\n",
    "    for axis in ['left','right']:\n",
    "        ax.spines[axis].set_linewidth(2)\n",
    "        \n",
    "    # turn off all the interior x axes    \n",
    "    for ii in range(numLabelledStates):\n",
    "        axs[ii].spines['bottom'].set_visible(False)\n",
    "        axs[ii+1].spines['top'].set_visible(False)\n",
    "        \n",
    "    # set the gridlines\n",
    "    #ax.grid(alpha=0.3)\n",
    "    #ax.axhline(y=0, color='grey', alpha=0.3)\n",
    "    #ax.axhline(y=states_y_tick_max[stateIdx], color='grey', alpha=0.2)\n",
    "        \n",
    "    ### EXTRAS TURN OFF PLOT ILLUSTRATOR VERSION ####\n",
    "    ax.set_yticklabels([])\n",
    "    ax.set_xticklabels([])\n",
    "    ax.set_xlabel('')\n",
    "    ax.set_ylabel('')\n",
    "    ax.get_legend().remove()\n",
    "    \n",
    "    \n",
    "    \n",
    "# ----------------------------------------------------#\n",
    "\n",
    "\n",
    "# make the very top and very bottoms lines thicker\n",
    "ax = axs[0]\n",
    "for axis in ['top']:\n",
    "    ax.spines[axis].set_linewidth(2)\n",
    "ax = axs[-1]\n",
    "for axis in ['bottom']:\n",
    "    ax.spines[axis].set_linewidth(2)\n",
    "\n",
    "\n",
    "fig.tight_layout()\n",
    "\n",
    "fig.savefig(imsavepath, dpi=300, transparent=False)"
   ]
  },
  {
   "cell_type": "code",
   "execution_count": null,
   "id": "b365fab4-8961-43d1-b4a7-b2f7b4bc2641",
   "metadata": {},
   "outputs": [],
   "source": []
  },
  {
   "cell_type": "code",
   "execution_count": null,
   "id": "638f4f5c-4968-415a-b713-15b6832a0439",
   "metadata": {},
   "outputs": [],
   "source": []
  }
 ],
 "metadata": {
  "kernelspec": {
   "display_name": "analysis",
   "language": "python",
   "name": "analysis"
  },
  "language_info": {
   "codemirror_mode": {
    "name": "ipython",
    "version": 3
   },
   "file_extension": ".py",
   "mimetype": "text/x-python",
   "name": "python",
   "nbconvert_exporter": "python",
   "pygments_lexer": "ipython3",
   "version": "3.9.7"
  }
 },
 "nbformat": 4,
 "nbformat_minor": 5
}

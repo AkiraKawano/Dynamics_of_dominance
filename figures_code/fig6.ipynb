{
 "cells": [
  {
   "cell_type": "code",
   "execution_count": null,
   "id": "8dce474b-ff82-45f8-8d31-601d5e217bf3",
   "metadata": {},
   "outputs": [],
   "source": []
  },
  {
   "cell_type": "markdown",
   "id": "a06ad90c-9492-45f0-8c33-97b2c2e15f47",
   "metadata": {},
   "source": [
    "# Notes"
   ]
  },
  {
   "cell_type": "markdown",
   "id": "9248323f-781d-42ec-98cc-5eff0ae03ce4",
   "metadata": {},
   "source": [
    "This notebook makes the \"new\" figure 6, consisting of the \"old\" figure 6 B, and the old figure 7."
   ]
  },
  {
   "cell_type": "code",
   "execution_count": null,
   "id": "3e91f8af-6e77-47c7-9c61-b80df90ef29e",
   "metadata": {},
   "outputs": [],
   "source": []
  },
  {
   "cell_type": "code",
   "execution_count": null,
   "id": "f47abab5-a698-41ee-8d58-d13cd72fc59c",
   "metadata": {},
   "outputs": [],
   "source": []
  },
  {
   "cell_type": "markdown",
   "id": "0b7a9bb6-1767-41e8-92dc-fddd198bce9e",
   "metadata": {},
   "source": [
    "# Imports"
   ]
  },
  {
   "cell_type": "code",
   "execution_count": 3,
   "id": "0ffc9353-7621-4809-8238-000f55235c2a",
   "metadata": {},
   "outputs": [
    {
     "name": "stdout",
     "output_type": "stream",
     "text": [
      "The autoreload extension is already loaded. To reload it, use:\n",
      "  %reload_ext autoreload\n"
     ]
    }
   ],
   "source": [
    "import numpy as np\n",
    "np.set_printoptions(suppress=True)\n",
    "import h5py\n",
    "import time\n",
    "import glob\n",
    "import pandas as pd\n",
    "import matplotlib.pyplot as plt\n",
    "import seaborn as sns\n",
    "import os\n",
    "import sys\n",
    "%matplotlib widget\n",
    "%load_ext autoreload\n",
    "%autoreload 2\n",
    "\n",
    "# --- import functions for computing kinematic variables --- #\n",
    "sys.path.append('../tracking_code/lib/')\n",
    "sys.path.append('./lib/')\n",
    "from post_processing import contiguous_regions"
   ]
  },
  {
   "cell_type": "code",
   "execution_count": null,
   "id": "038d254d-0e40-468f-8d2f-20a16e5a2340",
   "metadata": {},
   "outputs": [],
   "source": []
  },
  {
   "cell_type": "code",
   "execution_count": null,
   "id": "021ce29f-a439-4cfb-8d8e-687b7f6d1825",
   "metadata": {},
   "outputs": [],
   "source": []
  },
  {
   "cell_type": "markdown",
   "id": "e30d0a2e-1a41-473c-ba47-465bb8ceeb55",
   "metadata": {},
   "source": [
    "# Functions "
   ]
  },
  {
   "cell_type": "code",
   "execution_count": 4,
   "id": "f5cbdd2d-6e04-47f3-9295-b9f1f9628a31",
   "metadata": {},
   "outputs": [],
   "source": [
    "def return_state_probabilities_from_state_tseries(state_tseries, numLabelledStates):\n",
    "    ''' Return the probabilities of each state in the state_tseries. \n",
    "        Each value in state_tseries is between 0 and numLabelledStates-1, or NaN,\n",
    "        or -1 if it was belonging to another cluster (nonlabelled cluster)\n",
    "        Return the probability of each state as a vector, with the last entry being prob\n",
    "        of another cluster, and NaN data excluded.\n",
    "    \n",
    "    --- args ---\n",
    "    state_tseries: a 1D timeseries of cluster indexes, starting from -1,  \n",
    "                   Can contains NaNs.\n",
    "    numLabelledStates: the number of state indices that should appear in state_tseries.\n",
    "                       Pass this in case no values are found for some indices, in which\n",
    "                       case we know how many zero probabilities to return.\n",
    "               \n",
    "    --- returns ---\n",
    "    state_probs: 1D array of shape (numLabelledStates+1,), containing the probability of \n",
    "                 each cluster idx and lastly the probability of nonlabelled clusters\n",
    "    '''\n",
    "    # add one state for -1 (nonlabelled cluster)\n",
    "    numStates = numLabelledStates + 1\n",
    "    # preallocate the output\n",
    "    state_probs = np.zeros((numStates,))\n",
    "    #  find the number of frames in total excluding NaN frames\n",
    "    state_tseries_nanless = state_tseries[~np.isnan(state_tseries)]\n",
    "    numFrames = state_tseries_nanless.shape[0]\n",
    "    # if we have no non-nan frames, all probs are zero except the last\n",
    "    if numFrames == 0:\n",
    "        return state_probs\n",
    "    else:\n",
    "        # first compute main states probs\n",
    "        for stateIdx in range(numLabelledStates):\n",
    "            state_counts = np.where(state_tseries_nanless==stateIdx)[0].shape[0]\n",
    "            state_probs[stateIdx] = state_counts / numFrames\n",
    "        # now add the final NaN probability\n",
    "        other_state_counts = np.where(state_tseries_nanless==-1)[0].shape[0]\n",
    "        state_probs[-1] = other_state_counts / numFrames\n",
    "        return state_probs\n",
    "\n",
    "\n",
    "    \n",
    "def compute_state_probabilities_in_time_windows(state_tseries, time_windows, numLabelledStates):\n",
    "    ''' Compute the probability of each of the state indices in state_tseries, in\n",
    "        each of the windows in time_windows.\n",
    "    \n",
    "    --- args ---\n",
    "    state_tseries: a 1D timeseries of cluster indexes, starting from 0 to (numLabelledClusters-1)\n",
    "                   for the labelled states, -1 for all nonlabelled states, and NaN for missing data.\n",
    "    time_windows: array of shape (numWins,2), where each row contains a start frame\n",
    "                  and a stop frame which define a region in time. The probabilities\n",
    "                  are estimated in each of these regions in time.\n",
    "    numLabelledStates: the number of state indices that should appear in state_tseries.\n",
    "                       Pass this in case no values are found for some indices, in which\n",
    "                       case we know how many zero probabilities to return.\n",
    "               \n",
    "    --- returns ---\n",
    "    window_state_probabilities: a (numWinds, numLabelledStates+1) array containing the \n",
    "                                probability of each cluster idx and lastly the probability of \n",
    "                                nonlabelled cluster occuring. \n",
    "                                \n",
    "    --- see also ---\n",
    "    return_state_probabilities_from_state_tseries: \n",
    "    the function which does the main computation in each time window.\n",
    "    \n",
    "    '''\n",
    "    numWins = time_windows.shape[0]\n",
    "    window_state_probabilities = np.zeros((numWins, numLabelledStates+1)) # plus1 for the nonlabelled states\n",
    "    for winIdx in range(numWins):\n",
    "        w0,wE = time_windows[winIdx]\n",
    "        win_data = state_tseries[w0:wE]\n",
    "        win_state_probs = return_state_probabilities_from_state_tseries(win_data, numLabelledStates)\n",
    "        window_state_probabilities[winIdx] = win_state_probs\n",
    "    return window_state_probabilities"
   ]
  },
  {
   "cell_type": "code",
   "execution_count": 21,
   "id": "d3604225-ea0f-4ec2-b9d6-294ee608de9e",
   "metadata": {},
   "outputs": [],
   "source": [
    "def return_region_win_state_probs(region_data, all_exp_window_state_probabilities, all_exp_time_windows, all_exp_numFrames):\n",
    "    ''' Return the list over fight-bouts, containing the windowed state probabilities for the chosen region.\n",
    "    \n",
    "    --- args ---\n",
    "    region_data: array (numBouts,3), where first col is exp idxs, 2nd and 3rd cols are the start/stop\n",
    "                 frames of certain regions, e.g. 3 mins before a fightbout.\n",
    "    \n",
    "    all_exp_window_state_probabilities: the list over experiments, containing the windowed state probability of\n",
    "                                        infomap clusters, e.g. each element of the list is a (numWins, 11) array,\n",
    "                                        where 11 is the number of states and state vals sum to 1.\n",
    "                                        \n",
    "    all_exp_time_windows: the list over experiments, with elements being the time windows associated with the \n",
    "                          state probabilities in all_exp_window_state_probabilities.\n",
    "                          \n",
    "    all_exp_numFrames: a list over experiments containing the number of frames in each experiment.\n",
    "                          \n",
    "    --- return ---\n",
    "    exps_region_win_state_probs: a list over fight bouts, where each element is a (numRegionWins,numStates) array\n",
    "                                 of state proabilities for windows during the chosen region for a particular fight bout.\n",
    "                                 \n",
    "    --- see also ---\n",
    "    find_time_window_indices_bounding_start_and_stop_frame()\n",
    "    \n",
    "    '''\n",
    "    #exps_region_time_wins = []\n",
    "    exps_region_win_state_probs = []\n",
    "\n",
    "    skipped_bIdxs = []\n",
    "    for bIdx in range(region_data.shape[0]):\n",
    "        expIdx, t0, tE = region_data[bIdx]\n",
    "        \n",
    "        # if t0 is negative, exclude this fight bout\n",
    "        # if tE is greater than the number of frames in the experiment, exclude fight bout\n",
    "        if t0 < 0:\n",
    "            skipped_bIdxs.append(bIdx)\n",
    "            continue\n",
    "        expnfs = expNumFrames[expIdx]\n",
    "        if tE > expnfs:\n",
    "            skipped_bIdxs.append(bIdx)\n",
    "            continue\n",
    "\n",
    "        exp_win_state_probs = all_exp_window_state_probabilities[expIdx]\n",
    "        exp_time_wins = all_exp_time_windows[expIdx]\n",
    "\n",
    "        desired_first_win_idx, desired_last_win_idx = find_time_window_indices_bounding_start_and_stop_frame(exp_time_wins, \n",
    "                                                                                                             t0, tE)\n",
    "\n",
    "        #region_time_wins = exp_time_wins[desired_first_win_idx:desired_last_win_idx+1, :] #+1 to get the last win\n",
    "        region_win_state_probs = np.copy(exp_win_state_probs[desired_first_win_idx:desired_last_win_idx+1, :])\n",
    "\n",
    "        #exps_region_time_wins.append(region_time_wins)\n",
    "        exps_region_win_state_probs.append(region_win_state_probs)\n",
    "    \n",
    "    \n",
    "    return exps_region_win_state_probs\n",
    "\n",
    "\n",
    "def find_time_window_indices_bounding_start_and_stop_frame(time_windows, startFrame, stopFrame):\n",
    "    ''' Return the time window indices of which bound the startFrame and stopFrame.\n",
    "    \n",
    "    The idea is to allow for the parsing of time_windows, to choose only windows that contain\n",
    "    no contributions for timepoints outside of the interval [startFrame, stopFrame]\n",
    "    \n",
    "    --- Example ---\n",
    "    time_windows = np.array([[     0,   6000],\n",
    "                            [   100,   6100],\n",
    "                            [   200,   6200],\n",
    "                            ...,\n",
    "                            [711600, 717600],\n",
    "                            [711700, 717700],\n",
    "                            [711800, 717800]])\n",
    "    startFrame = 36000\n",
    "    stopFrame = 66000\n",
    "                       \n",
    "    desired_first_win_idx, desired_first_win_idx = f(time_windows, startFrame, stopFrame)\n",
    "    time_windows[desired_first_win_idx] = array([36000, 42000])\n",
    "    time_windows[desired_last_win_idx] = array([60000, 66000])                  \n",
    "    \n",
    "    -- returns --\n",
    "    desired_first_win_idx, desired_first_win_idx: int, int\n",
    "    \n",
    "    '''\n",
    "    desired_first_win_idx = np.where(time_windows[:,0] >= startFrame)[0][0]\n",
    "    \n",
    "    \n",
    "    # for the end window, we need to do a check to make sure stopFrame is not\n",
    "    # beyond our windows\n",
    "    \n",
    "    # if tE is beyond the end of the last window, use the last window\n",
    "    if time_windows[:,1][-1] <= stopFrame:\n",
    "        desired_last_win_idx = time_windows.shape[0] - 1\n",
    "    # otherwise find the first window beyond tE\n",
    "    else:\n",
    "        desired_last_win_idx = np.where(time_windows[:,1] >= stopFrame)[0][0]\n",
    "    return desired_first_win_idx, desired_last_win_idx\n",
    "\n",
    "\n",
    "\n",
    "def return_overlapping_windows_for_timeframes(numFrames, window_size=200, window_step=50):\n",
    "    ''' Given a number of frames, return an 2D array of window start-stop frames.\n",
    "    '''\n",
    "    # define, for clarity, the first window\n",
    "    win0_start = 0\n",
    "    win0_mid = int(window_size/2)\n",
    "    win0_end = int(window_size)\n",
    "\n",
    "    # find numWindows, by adding incrementally and watching the last frame\n",
    "    last_frame_in_windows = win0_end\n",
    "    numWindows = 1\n",
    "    while last_frame_in_windows < (numFrames - window_step):\n",
    "        numWindows += 1\n",
    "        last_frame_in_windows = win0_end + (numWindows-1)*window_step\n",
    "\n",
    "    # now fill-in the windows array of frame indices\n",
    "    windows = np.zeros((numWindows, 2))\n",
    "    windows[0, 0] = 0\n",
    "    windows[0, 1] = win0_end\n",
    "    for winIdx in range(1, numWindows):\n",
    "        w0 = winIdx*window_step\n",
    "        wF = w0 + window_size\n",
    "        windows[winIdx, 0] = w0\n",
    "        windows[winIdx, 1] = wF\n",
    "    return windows.astype(int)"
   ]
  },
  {
   "cell_type": "code",
   "execution_count": null,
   "id": "4a3f16a7-8d95-49a7-b61a-08b58dd1ee35",
   "metadata": {},
   "outputs": [],
   "source": []
  },
  {
   "cell_type": "code",
   "execution_count": null,
   "id": "b433d0fd-d176-4342-94b3-a82de654a304",
   "metadata": {},
   "outputs": [],
   "source": []
  },
  {
   "cell_type": "code",
   "execution_count": null,
   "id": "c9e4d905-38ea-4388-9478-1dfaf04f0f83",
   "metadata": {},
   "outputs": [],
   "source": []
  },
  {
   "cell_type": "code",
   "execution_count": null,
   "id": "f8c2c67d-d0a5-4306-a8de-123246dd396a",
   "metadata": {},
   "outputs": [],
   "source": []
  },
  {
   "cell_type": "markdown",
   "id": "b18834f3-9b81-4857-930a-1be269f4a3a6",
   "metadata": {},
   "source": [
    "# load the tracking data"
   ]
  },
  {
   "cell_type": "code",
   "execution_count": null,
   "id": "a801f802-708e-46ad-b624-f54528e9ba60",
   "metadata": {},
   "outputs": [],
   "source": []
  },
  {
   "cell_type": "code",
   "execution_count": 6,
   "id": "1a230372-ee0f-4866-8599-ae624503ce04",
   "metadata": {},
   "outputs": [],
   "source": [
    "main_load_folder = '/media/liam/hd1/fighting_data/tracking_results/'\n",
    "\n",
    "# ----------------------#\n",
    "\n",
    "interp_polyOrd=1  # the order of the polynomial used for interpolation\n",
    "interp_limit=5    # the maximum number of frames to interpolate over\n",
    "savgol_win=9      # the number of frames for the Savitzky-Golay filter\n",
    "savgol_ord=2      # the polynomial order for the Savitzky-Golay filter\n",
    "dt=0.01           # the frame rate of the recording\n",
    "\n",
    "\n",
    "# the filepaths for loading the infomap timeseries data we need\n",
    "infomap_data_loadpath = os.path.join( os.path.dirname(os.path.dirname(main_load_folder)) , \n",
    "                                      'infomap_data/transmat_and_infomap.h5')\n",
    "\n",
    "# the path for loading the fightbout info\n",
    "fightBouts_info_path = os.path.join(main_load_folder, 'fightBouts.h5')\n",
    "\n",
    "\n",
    "# -----------------------#\n",
    "\n",
    "loadpaths = glob.glob(os.path.join(main_load_folder, '*results.h5'))\n",
    "loadpaths.sort()\n",
    "\n",
    "# parse the exp names\n",
    "expNames = [path.split('/')[-1][:23] for path in loadpaths]\n",
    "\n",
    "\n",
    "raw_trajectories = []\n",
    "for path in loadpaths:\n",
    "    with h5py.File(path, 'r') as hf:\n",
    "        tracks_3D_raw = hf['tracks_3D_raw'][:]\n",
    "    raw_trajectories.append(tracks_3D_raw)\n",
    "\n",
    "smooth_trajectories = []\n",
    "for path in loadpaths:\n",
    "    with h5py.File(path, 'r') as hf:\n",
    "        tracks_3D_smooth = hf['tracks_3D_smooth'][:]\n",
    "    smooth_trajectories.append(tracks_3D_smooth)\n",
    "    \n",
    "    \n",
    "# create a list of the number of frames in each experiment\n",
    "expNumFrames = []\n",
    "for expIdx in range(len(expNames)):\n",
    "    nfs = smooth_trajectories[expIdx].shape[0]\n",
    "    expNumFrames.append(nfs)\n",
    "    \n",
    "# -----------------------------#\n",
    "# load other useful information\n",
    "    \n",
    "other_info_loadpath = os.path.join(main_load_folder, 'winners_losers_inconclusive.h5')\n",
    "with h5py.File(other_info_loadpath, 'r') as hf:\n",
    "    winner_idxs = hf['winner_idxs'][:]\n",
    "    loser_idxs = hf['loser_idxs'][:]\n",
    "    conclusive_winner_loser = hf['conclusive_winner_loser'][:]\n",
    "    already_established_dominance = hf['already_established_dominance'][:]\n",
    "\n",
    "with h5py.File(fightBouts_info_path, 'r') as hf:\n",
    "    fight_bout_info = hf['fight_bout_info'][:]\n",
    "    fight_bout_info_noDurThresh = hf['fight_bout_info_noDurThresh'][:]\n"
   ]
  },
  {
   "cell_type": "code",
   "execution_count": null,
   "id": "c37e0758-25f8-4fff-bfad-f395691f4ea4",
   "metadata": {},
   "outputs": [],
   "source": []
  },
  {
   "cell_type": "code",
   "execution_count": null,
   "id": "71191c8f-9357-4735-87a5-3e3910c8447b",
   "metadata": {},
   "outputs": [],
   "source": []
  },
  {
   "cell_type": "code",
   "execution_count": null,
   "id": "a7279cc0-5d59-4550-bc43-c1b45588eef7",
   "metadata": {},
   "outputs": [],
   "source": []
  },
  {
   "cell_type": "code",
   "execution_count": null,
   "id": "bb074f70-5a8f-4b63-97bf-c5c16c7a1d5b",
   "metadata": {},
   "outputs": [],
   "source": []
  },
  {
   "cell_type": "code",
   "execution_count": null,
   "id": "5ef5b0aa-bcb8-4e58-ac61-f23e08c93170",
   "metadata": {},
   "outputs": [],
   "source": []
  },
  {
   "cell_type": "code",
   "execution_count": null,
   "id": "ec98a1be-0502-468e-abf1-da41ed6bf119",
   "metadata": {},
   "outputs": [],
   "source": []
  },
  {
   "cell_type": "code",
   "execution_count": null,
   "id": "f4112043-c61e-46cc-be04-fe1ebf739122",
   "metadata": {},
   "outputs": [],
   "source": []
  },
  {
   "cell_type": "markdown",
   "id": "5aa8657e-f1db-4f6b-9b17-6cf7064a7db7",
   "metadata": {},
   "source": [
    "# load the post-processed tseries of infomap cluster idxs"
   ]
  },
  {
   "cell_type": "code",
   "execution_count": null,
   "id": "4768dd1e-73e8-4111-ba93-1951528952ab",
   "metadata": {},
   "outputs": [],
   "source": []
  },
  {
   "cell_type": "code",
   "execution_count": 7,
   "id": "283fbeed-93a8-4524-9d21-d9029a4b7fa4",
   "metadata": {},
   "outputs": [
    {
     "data": {
      "text/plain": [
       "(16044324,)"
      ]
     },
     "execution_count": 7,
     "metadata": {},
     "output_type": "execute_result"
    }
   ],
   "source": [
    "# load\n",
    "all_exps_edited_postProced_clusterIdx_tseries = []\n",
    "postprocessed_all_exp_edited_cluster_tseries_savepath = os.path.join(os.path.dirname(infomap_data_loadpath),\n",
    "                                                                     'postprocessed_exp_edited_clusterIdx_timeseries.h5')\n",
    "with h5py.File(postprocessed_all_exp_edited_cluster_tseries_savepath, 'r') as hf:\n",
    "    for expIdx in range(len(expNames)):\n",
    "        expName = expNames[expIdx]\n",
    "        tseries = hf['{0}_clusterIdxs'.format(expName)][:]\n",
    "        all_exps_edited_postProced_clusterIdx_tseries.append(tseries)\n",
    "        \n",
    "# make the master-set\n",
    "clusterIdx_edited_postProced_tseries_master = np.concatenate(all_exps_edited_postProced_clusterIdx_tseries)\n",
    "clusterIdx_edited_postProced_tseries_master.shape"
   ]
  },
  {
   "cell_type": "code",
   "execution_count": null,
   "id": "7ab507bc-7b5b-4c2f-8a43-da8ab7b29b23",
   "metadata": {},
   "outputs": [],
   "source": []
  },
  {
   "cell_type": "code",
   "execution_count": null,
   "id": "fbd038b3-530b-473a-8512-bfc00bade4b3",
   "metadata": {},
   "outputs": [],
   "source": []
  },
  {
   "cell_type": "code",
   "execution_count": 51,
   "id": "6e731329-52d7-4225-a8c6-bffeb9dccd25",
   "metadata": {},
   "outputs": [],
   "source": [
    "# # We use these for plotting consistent fight maneuver colors across figures\n",
    "\n",
    "# colorlist without red and blue\n",
    "colorlist = ['#ffe119', '#3cb44b',                    '#f58231', \n",
    "             '#911eb4', '#42d4f4', '#f032e6', '#bfef45', '#fabed4', \n",
    "             '#469990', '#dcbeff', '#9A6324', '#800000', \n",
    "             '#aaffc3', '#808000', '#ffd8b1', '#000075', '#a9a9a9'] \n",
    "\n",
    "\n",
    "\n",
    "# colorlist = ['#ffe119', '#3cb44b', '#e6194B', '#4363d8', '#f58231', \n",
    "#              '#911eb4', '#42d4f4', '#f032e6', '#bfef45', '#fabed4', \n",
    "#              '#469990', '#dcbeff', '#9A6324', '#800000', \n",
    "#              '#aaffc3', '#808000', '#ffd8b1', '#000075', '#a9a9a9'] \n"
   ]
  },
  {
   "cell_type": "code",
   "execution_count": 9,
   "id": "0beab27a-5e2b-48a8-8825-668e1e4c11fd",
   "metadata": {},
   "outputs": [
    {
     "data": {
      "text/plain": [
       "['circling',\n",
       " 'direct away',\n",
       " 'winner attack',\n",
       " 'loser attack',\n",
       " 'display',\n",
       " 'direct to',\n",
       " 'middle circling',\n",
       " 'L approach',\n",
       " 'W approach',\n",
       " 'parallel',\n",
       " 'non-fight clusters']"
      ]
     },
     "execution_count": 9,
     "metadata": {},
     "output_type": "execute_result"
    }
   ],
   "source": [
    "\n",
    "# these are the state names of the clusterIdx_edited_postProced_tseries\n",
    "all_state_names = ['circling',\n",
    "                 'direct away',\n",
    "                 'winner attack',\n",
    "                 'loser attack',\n",
    "                 'display',\n",
    "                 'direct to',\n",
    "                 'middle circling',\n",
    "                 'L approach',\n",
    "                 'W approach',\n",
    "                 'parallel',\n",
    "                 'non-fight clusters']\n",
    "\n",
    "all_state_names"
   ]
  },
  {
   "cell_type": "code",
   "execution_count": 10,
   "id": "d907122c-8ce7-4967-ac25-2f5ac06047ac",
   "metadata": {},
   "outputs": [
    {
     "data": {
      "text/plain": [
       "11"
      ]
     },
     "execution_count": 10,
     "metadata": {},
     "output_type": "execute_result"
    }
   ],
   "source": [
    "len(all_state_names)"
   ]
  },
  {
   "cell_type": "code",
   "execution_count": 11,
   "id": "f8dc1a32-c48b-479c-bed3-130714e687d7",
   "metadata": {},
   "outputs": [
    {
     "data": {
      "text/plain": [
       "10"
      ]
     },
     "execution_count": 11,
     "metadata": {},
     "output_type": "execute_result"
    }
   ],
   "source": [
    "numLabelledStates = len(all_state_names)-1\n",
    "numLabelledStates\n"
   ]
  },
  {
   "cell_type": "code",
   "execution_count": null,
   "id": "a90f43f5-302d-457a-96ab-53073443993c",
   "metadata": {},
   "outputs": [],
   "source": []
  },
  {
   "cell_type": "code",
   "execution_count": 12,
   "id": "9e4e9516-5526-468b-b988-eefe2da26630",
   "metadata": {},
   "outputs": [
    {
     "data": {
      "text/plain": [
       "array([-1.,  0.,  1.,  2.,  3.,  4.,  5.,  6.,  7.,  8.,  9.])"
      ]
     },
     "execution_count": 12,
     "metadata": {},
     "output_type": "execute_result"
    }
   ],
   "source": [
    "# -1 represent nonFight clusters\n",
    "# NaN data means missing data\n",
    "np.unique(clusterIdx_edited_postProced_tseries_master[~np.isnan(clusterIdx_edited_postProced_tseries_master)])"
   ]
  },
  {
   "cell_type": "code",
   "execution_count": null,
   "id": "16415249-e4e1-4c4a-90c1-b9e4f398d5d9",
   "metadata": {},
   "outputs": [],
   "source": []
  },
  {
   "cell_type": "markdown",
   "id": "e7258174-5ea6-4600-bb44-2c89ddff8ba2",
   "metadata": {},
   "source": [
    "# --------------------------------------------"
   ]
  },
  {
   "cell_type": "code",
   "execution_count": null,
   "id": "4e34281a-9b77-4e4d-9926-740c6929d5b7",
   "metadata": {},
   "outputs": [],
   "source": []
  },
  {
   "cell_type": "markdown",
   "id": "7a301b3e-054f-4e49-9422-a95893180935",
   "metadata": {},
   "source": [
    "# Panel A"
   ]
  },
  {
   "cell_type": "markdown",
   "id": "39e40fdf-3a69-4607-913a-97f71b431838",
   "metadata": {},
   "source": [
    "Was the old figure6 B."
   ]
  },
  {
   "cell_type": "code",
   "execution_count": null,
   "id": "0eb82da1-5b48-4b9a-af98-c8129f673250",
   "metadata": {},
   "outputs": [],
   "source": []
  },
  {
   "cell_type": "code",
   "execution_count": null,
   "id": "ba275ead-907c-4510-9db3-823237356c53",
   "metadata": {},
   "outputs": [],
   "source": []
  },
  {
   "cell_type": "markdown",
   "id": "f9447490-e06f-48cb-b62f-dc03c35d5843",
   "metadata": {},
   "source": [
    "## prepare the arrays for indexing within fights and outside fights"
   ]
  },
  {
   "cell_type": "markdown",
   "id": "d0596359-5dcb-4ba0-958b-357ed7c182d0",
   "metadata": {},
   "source": [
    "For this figure, we will use without the size threshold on bout duration"
   ]
  },
  {
   "cell_type": "code",
   "execution_count": 13,
   "id": "eea3b774-d804-4450-9543-3459887d3b5e",
   "metadata": {},
   "outputs": [
    {
     "data": {
      "text/plain": [
       "(33, 4)"
      ]
     },
     "execution_count": 13,
     "metadata": {},
     "output_type": "execute_result"
    }
   ],
   "source": [
    "figure_bout_info = np.copy(fight_bout_info_noDurThresh)\n",
    "\n",
    "# the set of expIdxs that have contributions to figure_bout_info\n",
    "chosen_expIdxs = np.unique(figure_bout_info[:,0])\n",
    "\n",
    "numBouts = figure_bout_info.shape[0]\n",
    "\n",
    "figure_bout_info.shape"
   ]
  },
  {
   "cell_type": "code",
   "execution_count": null,
   "id": "03ef303a-b4e4-4caa-9623-c6c977ade53b",
   "metadata": {},
   "outputs": [],
   "source": []
  },
  {
   "cell_type": "code",
   "execution_count": 14,
   "id": "e9218ce9-9bf3-4393-aeaf-9f3c8d55a926",
   "metadata": {},
   "outputs": [],
   "source": [
    "# ---- prepare the nonfight regions ----#\n",
    "# based on 'figure_bout_info'\n",
    "\n",
    "chosen_expIdx_nonFight_regions = []\n",
    "\n",
    "for expIdx in chosen_expIdxs:\n",
    "    expName = expNames[expIdx]\n",
    "    \n",
    "    # find the bouts for this exp\n",
    "    fight_epoch_array_rows = np.where(figure_bout_info[:,0] == expIdx)[0]\n",
    "    \n",
    "    # turn into list format over bouts, data is (startFrame,stopFrame)\n",
    "    exp_fight_bout_lims_list = []\n",
    "    for rowIdx in fight_epoch_array_rows:\n",
    "        fight_bout_lims = figure_bout_info[rowIdx,1:3]\n",
    "        exp_fight_bout_lims_list.append(fight_bout_lims)\n",
    "        \n",
    "    # now, prepare a binary timeseries of fight/non-fight membership for all frames,\n",
    "    # recording all fights as truth\n",
    "    expnfs = expNumFrames[expIdx]\n",
    "    exp_fightFrame_bin_arr = np.zeros((expnfs,), dtype=bool)\n",
    "    for bIdx in range(len(exp_fight_bout_lims_list)):\n",
    "        exp_fightFrame_bin_arr[ exp_fight_bout_lims_list[bIdx][0]:exp_fight_bout_lims_list[bIdx][1]] = True\n",
    "        \n",
    "    # now find contiguous regions of the inverse of this array, \n",
    "    # giving us frame ranges where the fish are not fighting\n",
    "    exp_non_fight_regions = contiguous_regions(~exp_fightFrame_bin_arr)\n",
    "    \n",
    "    # record\n",
    "    chosen_expIdx_nonFight_regions.append([expIdx, exp_non_fight_regions])\n",
    "    \n",
    "    \n",
    "# make into array along fightbouts with expIdxs\n",
    "figure_nonBout_info = []\n",
    "for vals in chosen_expIdx_nonFight_regions:\n",
    "    expIdx = vals[0]\n",
    "    boutInfo = vals[1]\n",
    "    expIdx_with_boutInfo_arr = np.full((boutInfo.shape[0],3), fill_value=expIdx)\n",
    "    expIdx_with_boutInfo_arr[:,1:] = boutInfo\n",
    "    figure_nonBout_info.append(expIdx_with_boutInfo_arr)\n",
    "figure_nonBout_info = np.concatenate(figure_nonBout_info, axis=0)\n",
    "\n",
    "numNoNBouts = figure_nonBout_info.shape[0]"
   ]
  },
  {
   "cell_type": "code",
   "execution_count": null,
   "id": "4fe39380-325f-4194-b1a1-cf51b116bff9",
   "metadata": {},
   "outputs": [],
   "source": []
  },
  {
   "cell_type": "code",
   "execution_count": null,
   "id": "fc9f83f3-a3e8-4ce0-89fe-f11f2d575882",
   "metadata": {},
   "outputs": [],
   "source": []
  },
  {
   "cell_type": "code",
   "execution_count": null,
   "id": "49d87e80-ecb0-4e39-95f2-f2c6c126ab74",
   "metadata": {},
   "outputs": [],
   "source": []
  },
  {
   "cell_type": "code",
   "execution_count": null,
   "id": "663dea4f-96f6-4060-87f6-5025be26149b",
   "metadata": {},
   "outputs": [],
   "source": []
  },
  {
   "cell_type": "markdown",
   "id": "3ef1ee74-4a11-40d7-81b5-d53dddaa52ae",
   "metadata": {},
   "source": [
    "## compute the windowed probabilities"
   ]
  },
  {
   "cell_type": "code",
   "execution_count": 15,
   "id": "e7366ae9-726e-4ec7-a4ab-b1dc2818af64",
   "metadata": {},
   "outputs": [
    {
     "name": "stdout",
     "output_type": "stream",
     "text": [
      "FishTank20200127_143538\n",
      "FishTank20200129_140656\n",
      "FishTank20200130_153857\n",
      "FishTank20200130_181614\n",
      "FishTank20200207_161445\n",
      "FishTank20200213_154940\n",
      "FishTank20200214_153519\n",
      "FishTank20200217_160052\n",
      "FishTank20200218_153008\n",
      "FishTank20200316_163320\n",
      "FishTank20200327_154737\n",
      "FishTank20200330_161100\n",
      "FishTank20200331_162136\n",
      "FishTank20200520_152810\n",
      "FishTank20200521_154541\n",
      "FishTank20200525_161602\n",
      "FishTank20200526_160100\n",
      "FishTank20200527_152401\n",
      "FishTank20200824_151740\n",
      "FishTank20200828_155504\n",
      "FishTank20200902_160124\n",
      "FishTank20200903_160946\n"
     ]
    }
   ],
   "source": [
    "# compute the windowed state probabilities for each experiment\n",
    "window_size= 6000 #6000\n",
    "window_step=100\n",
    "\n",
    "all_exp_window_state_probabilities = []\n",
    "all_exp_time_windows = []\n",
    "\n",
    "for expIdx in range(len(expNames)):\n",
    "    expName = expNames[expIdx]\n",
    "    print(expName)\n",
    "    exp_cls_tseries = np.copy(all_exps_edited_postProced_clusterIdx_tseries[expIdx])\n",
    "    exp_numFrames = exp_cls_tseries.shape[0]\n",
    "    exp_time_windows = return_overlapping_windows_for_timeframes(exp_numFrames, window_size=window_size, window_step=window_step)\n",
    "    exp_window_state_probabilities = compute_state_probabilities_in_time_windows(exp_cls_tseries, exp_time_windows, numLabelledStates)\n",
    "    all_exp_window_state_probabilities.append(exp_window_state_probabilities)\n",
    "    all_exp_time_windows.append(exp_time_windows)"
   ]
  },
  {
   "cell_type": "code",
   "execution_count": null,
   "id": "2682cfd9-e863-4710-860a-f02556d79d2a",
   "metadata": {},
   "outputs": [],
   "source": []
  },
  {
   "cell_type": "code",
   "execution_count": 16,
   "id": "2179598a-6ccc-44a9-92e7-46bbbc56d36a",
   "metadata": {},
   "outputs": [
    {
     "data": {
      "text/plain": [
       "(9658, 11)"
      ]
     },
     "execution_count": 16,
     "metadata": {},
     "output_type": "execute_result"
    }
   ],
   "source": [
    "all_exp_window_state_probabilities[0].shape"
   ]
  },
  {
   "cell_type": "code",
   "execution_count": null,
   "id": "fca7ea95-2172-47c3-a34e-7ad08fd15941",
   "metadata": {},
   "outputs": [],
   "source": []
  },
  {
   "cell_type": "markdown",
   "id": "afbe6c9a-09c4-462e-a102-8a0fdc7b9104",
   "metadata": {},
   "source": [
    "## get fight and nonfight data"
   ]
  },
  {
   "cell_type": "code",
   "execution_count": null,
   "id": "67cc521e-2bec-4004-b3fc-1daf92cbf52f",
   "metadata": {},
   "outputs": [],
   "source": []
  },
  {
   "cell_type": "code",
   "execution_count": null,
   "id": "bfde69d4-1553-4e23-8bfa-c8b80d298e68",
   "metadata": {},
   "outputs": [],
   "source": []
  },
  {
   "cell_type": "code",
   "execution_count": 33,
   "id": "f018c7ba-d246-4dc2-ac11-8e7eb96de2e0",
   "metadata": {},
   "outputs": [],
   "source": [
    "# ----- fighting ---- #\n",
    "\n",
    "bouts_winStateProbs = []\n",
    "\n",
    "for boutIdx in range(numBouts):\n",
    "    \n",
    "    expIdx, f0, fE, bout_duration = figure_bout_info[boutIdx]\n",
    "    \n",
    "    exp_time_wins = all_exp_time_windows[expIdx]\n",
    "    exp_window_state_probabilities = all_exp_window_state_probabilities[expIdx]\n",
    "    \n",
    "    # get the windows corresponding to the start and stop of the bout\n",
    "    desired_first_win_idx, desired_last_win_idx = find_time_window_indices_bounding_start_and_stop_frame(exp_time_wins, \n",
    "                                                                                                         f0, fE)\n",
    "    \n",
    "    # get the windowed probs for this bout\n",
    "    bout_win_state_probs = np.copy(exp_window_state_probabilities[desired_first_win_idx:desired_last_win_idx+1, :]) #+1 to get the last win\n",
    "    \n",
    "    bouts_winStateProbs.append(bout_win_state_probs)\n",
    "    \n",
    "\n",
    "    \n",
    "    \n",
    "# ----- non fighting ---- #\n",
    "\n",
    "nonbouts_winStateProbs = []\n",
    "\n",
    "for boutIdx in range(numNoNBouts):\n",
    "    \n",
    "    expIdx, f0, fE = figure_nonBout_info[boutIdx]\n",
    "    \n",
    "    exp_time_wins = all_exp_time_windows[expIdx]\n",
    "    exp_window_state_probabilities = all_exp_window_state_probabilities[expIdx]\n",
    "    \n",
    "    # get the windows corresponding to the start and stop of the bout\n",
    "    desired_first_win_idx, desired_last_win_idx = find_time_window_indices_bounding_start_and_stop_frame(exp_time_wins, \n",
    "                                                                                                         f0, fE)\n",
    "    \n",
    "    # get the windowed probs for this bout\n",
    "    bout_win_state_probs = np.copy(exp_window_state_probabilities[desired_first_win_idx:desired_last_win_idx+1, :]) #+1 to get the last win\n",
    "    \n",
    "    nonbouts_winStateProbs.append(bout_win_state_probs)\n",
    "    \n",
    "\n",
    "    \n",
    "\n"
   ]
  },
  {
   "cell_type": "code",
   "execution_count": null,
   "id": "4b2df920-2c9f-464e-9204-cfa6247b1e93",
   "metadata": {},
   "outputs": [],
   "source": []
  },
  {
   "cell_type": "code",
   "execution_count": null,
   "id": "cd66744a-deba-4f92-a50c-0aac3206fedc",
   "metadata": {},
   "outputs": [],
   "source": []
  },
  {
   "cell_type": "code",
   "execution_count": 34,
   "id": "59fe519a-d48e-49e1-8e00-37a89545125b",
   "metadata": {},
   "outputs": [
    {
     "data": {
      "text/plain": [
       "33"
      ]
     },
     "execution_count": 34,
     "metadata": {},
     "output_type": "execute_result"
    }
   ],
   "source": [
    "len(bouts_winStateProbs)"
   ]
  },
  {
   "cell_type": "code",
   "execution_count": 35,
   "id": "216747cb-e3e8-4701-8a5a-b5fc53aef52c",
   "metadata": {},
   "outputs": [
    {
     "data": {
      "text/plain": [
       "(360, 11)"
      ]
     },
     "execution_count": 35,
     "metadata": {},
     "output_type": "execute_result"
    }
   ],
   "source": [
    "bouts_winStateProbs[0].shape"
   ]
  },
  {
   "cell_type": "code",
   "execution_count": 36,
   "id": "a03cedb0-3c1c-4f1f-82df-d86c89c1429d",
   "metadata": {},
   "outputs": [
    {
     "data": {
      "text/plain": [
       "(210, 11)"
      ]
     },
     "execution_count": 36,
     "metadata": {},
     "output_type": "execute_result"
    }
   ],
   "source": [
    "bouts_winStateProbs[1].shape"
   ]
  },
  {
   "cell_type": "code",
   "execution_count": 37,
   "id": "beb0bedb-33bb-40ff-81c9-ad4b5a003c99",
   "metadata": {},
   "outputs": [
    {
     "data": {
      "text/plain": [
       "51"
      ]
     },
     "execution_count": 37,
     "metadata": {},
     "output_type": "execute_result"
    }
   ],
   "source": [
    "len(nonbouts_winStateProbs)"
   ]
  },
  {
   "cell_type": "code",
   "execution_count": 38,
   "id": "28e9d74c-0804-47fa-8173-db933d968240",
   "metadata": {},
   "outputs": [],
   "source": [
    "epoch_list_winStateProbs = [bouts_winStateProbs, nonbouts_winStateProbs]"
   ]
  },
  {
   "cell_type": "code",
   "execution_count": null,
   "id": "c83c6560-7cd6-40a2-86bf-3fc0b21b04b8",
   "metadata": {},
   "outputs": [],
   "source": []
  },
  {
   "cell_type": "code",
   "execution_count": null,
   "id": "61491243-6974-44e8-b469-1d4c902260a4",
   "metadata": {},
   "outputs": [],
   "source": []
  },
  {
   "cell_type": "markdown",
   "id": "12d83162-f163-4ace-ba14-a41d145d3993",
   "metadata": {},
   "source": [
    "## bootstrapping"
   ]
  },
  {
   "cell_type": "code",
   "execution_count": null,
   "id": "a1258715-554b-4ca3-9676-4747c95a75a6",
   "metadata": {},
   "outputs": [],
   "source": []
  },
  {
   "cell_type": "code",
   "execution_count": 39,
   "id": "24db26f6-f95e-4658-bdb7-5d5a4b57cc6f",
   "metadata": {},
   "outputs": [],
   "source": [
    "# for fights and nonfights, find the average 1-minute long prob vecs\n",
    "epoch_mean_win_state_probs = []\n",
    "epoch_num_wins_used = []\n",
    "\n",
    "for epoch_win_state_probs in epoch_list_winStateProbs:\n",
    "    \n",
    "    # stack all the prob vecs which occured in this epoch (fight or nonfight)\n",
    "    epoch_all_window_prob_stack = np.vstack(epoch_win_state_probs)\n",
    "    \n",
    "    # record the number of windows we got\n",
    "    epoch_num_wins_used.append(epoch_all_window_prob_stack.shape[0])\n",
    "    \n",
    "    # compute the 1-minute mean across all these measurments\n",
    "    epoch_mean = np.mean(epoch_all_window_prob_stack, axis=0)\n",
    "    epoch_mean_win_state_probs.append(epoch_mean)"
   ]
  },
  {
   "cell_type": "code",
   "execution_count": 40,
   "id": "98c8572f-188e-4b11-9e3c-69eb353abf10",
   "metadata": {},
   "outputs": [
    {
     "data": {
      "text/plain": [
       "[array([0.17231156, 0.00253001, 0.30467414, 0.29816621, 0.05928477,\n",
       "        0.02946006, 0.01744026, 0.04000582, 0.02569933, 0.0060137 ,\n",
       "        0.04441415]),\n",
       " array([0.08625122, 0.01533056, 0.14407221, 0.05022556, 0.06395551,\n",
       "        0.04812746, 0.04877009, 0.05114149, 0.09921823, 0.02884373,\n",
       "        0.3618653 ])]"
      ]
     },
     "execution_count": 40,
     "metadata": {},
     "output_type": "execute_result"
    }
   ],
   "source": [
    "epoch_mean_win_state_probs"
   ]
  },
  {
   "cell_type": "code",
   "execution_count": 41,
   "id": "a275dde3-8a75-4c26-8d66-0c0d7a691586",
   "metadata": {},
   "outputs": [
    {
     "data": {
      "text/plain": [
       "[19936, 106429]"
      ]
     },
     "execution_count": 41,
     "metadata": {},
     "output_type": "execute_result"
    }
   ],
   "source": [
    "epoch_num_wins_used"
   ]
  },
  {
   "cell_type": "code",
   "execution_count": null,
   "id": "d5a85e35-b232-45d9-adeb-eceaa6db0e36",
   "metadata": {},
   "outputs": [],
   "source": []
  },
  {
   "cell_type": "code",
   "execution_count": 42,
   "id": "ff226a20-e546-4984-877f-fbf387c24653",
   "metadata": {},
   "outputs": [
    {
     "name": "stdout",
     "output_type": "stream",
     "text": [
      "finished  0 0.32439112663269043\n",
      "finished  1 1.7297906875610352\n",
      "\n",
      "finished:  1.730036973953247\n"
     ]
    }
   ],
   "source": [
    "# ---- compute the bootstrapped stddev ---- #\n",
    "\n",
    "# args\n",
    "n_resamples=500\n",
    "\n",
    "\n",
    "t0 = time.time()\n",
    "\n",
    "\n",
    "epoch_bootstrapped_stdevs = []\n",
    "for epochIdx in range(2):\n",
    "\n",
    "    # get the list over all bouts for this epoch (fight or nonfight are the two epochs)\n",
    "    epoch_win_state_probs = epoch_list_winStateProbs[epochIdx]\n",
    "    \n",
    "    # get the number of samples\n",
    "    numSamples = len(epoch_win_state_probs) # number of bouts to bootstrap over\n",
    "    \n",
    "    # grab all the bootstrap resampling data\n",
    "    allSamples_mean_epoch_win_state_probs = [] \n",
    "    for i in range(n_resamples):\n",
    "\n",
    "        #  get the fight indices for this resample \n",
    "        indices=np.random.choice(range(0,numSamples), numSamples)\n",
    "\n",
    "        # get the sample collection of bout epoch state probs\n",
    "        sample_epoch_win_state_probs = []\n",
    "        for sampBoutIdx in indices:\n",
    "            sample_epoch_win_state_probs.append(epoch_win_state_probs[sampBoutIdx])\n",
    "            \n",
    "        # concatenate across the selected fights\n",
    "        sample_epoch_win_state_probs  = np.vstack(sample_epoch_win_state_probs)\n",
    "\n",
    "        # get the sample mean and record \n",
    "        sample_epoch_win_state_probs_mean = np.mean(sample_epoch_win_state_probs, axis=0)\n",
    "        allSamples_mean_epoch_win_state_probs.append(sample_epoch_win_state_probs_mean)\n",
    "    allSamples_mean_epoch_win_state_probs = np.stack(allSamples_mean_epoch_win_state_probs, axis=0)\n",
    "\n",
    "    # get the sdtdev of the bootstrap means\n",
    "    allSamples_stdev = np.std(allSamples_mean_epoch_win_state_probs, axis=0)\n",
    "    epoch_bootstrapped_stdevs.append(allSamples_stdev)\n",
    "\n",
    "    tE = time.time()\n",
    "    print('finished ', epochIdx, tE-t0)\n",
    "    \n",
    "print()\n",
    "tE = time.time()\n",
    "print('finished: ', tE-t0)"
   ]
  },
  {
   "cell_type": "code",
   "execution_count": null,
   "id": "672f8cfb-8717-4172-8ea4-37e82996c527",
   "metadata": {},
   "outputs": [],
   "source": []
  },
  {
   "cell_type": "code",
   "execution_count": 43,
   "id": "660859e9-7906-4a71-9926-1b30c1f28e57",
   "metadata": {},
   "outputs": [
    {
     "data": {
      "text/plain": [
       "[array([0.01041394, 0.00036663, 0.01212089, 0.01371363, 0.00304139,\n",
       "        0.00225917, 0.00095081, 0.00513609, 0.00313868, 0.00094043,\n",
       "        0.0077065 ]),\n",
       " array([0.00916118, 0.00116021, 0.01421001, 0.00623058, 0.00404482,\n",
       "        0.00551086, 0.00275563, 0.00396198, 0.0045946 , 0.00188564,\n",
       "        0.02171567])]"
      ]
     },
     "execution_count": 43,
     "metadata": {},
     "output_type": "execute_result"
    }
   ],
   "source": [
    "epoch_bootstrapped_stdevs"
   ]
  },
  {
   "cell_type": "code",
   "execution_count": null,
   "id": "8c20e123-4a51-42ca-bfa9-cbadb80d1ea6",
   "metadata": {},
   "outputs": [],
   "source": []
  },
  {
   "cell_type": "code",
   "execution_count": null,
   "id": "18af22ac-3dce-4039-a2db-387c9acd48b7",
   "metadata": {},
   "outputs": [],
   "source": []
  },
  {
   "cell_type": "code",
   "execution_count": 49,
   "id": "d9720a82-36d1-45e7-bebe-ad4065dca834",
   "metadata": {},
   "outputs": [
    {
     "data": {
      "text/plain": [
       "['winner attack',\n",
       " 'loser attack',\n",
       " 'circling',\n",
       " 'display',\n",
       " 'W approach',\n",
       " 'L approach',\n",
       " 'direct away',\n",
       " 'direct to',\n",
       " 'middle circling',\n",
       " 'parallel',\n",
       " 'non-fight clusters']"
      ]
     },
     "execution_count": 49,
     "metadata": {},
     "output_type": "execute_result"
    }
   ],
   "source": [
    "# define a new order for plotting\n",
    "new_plot_order = [2,3,0,4,8,7,1,5,6,9,10]\n",
    "[all_state_names[i] for i in new_plot_order]\n"
   ]
  },
  {
   "cell_type": "code",
   "execution_count": 50,
   "id": "1bac03b0-2cfe-4887-b97c-baa33fd75b24",
   "metadata": {},
   "outputs": [
    {
     "data": {
      "text/plain": [
       "{2: 0, 3: 1, 0: 2, 4: 3, 8: 4, 7: 5, 1: 6, 5: 7, 6: 8, 9: 9, 10: 10}"
      ]
     },
     "execution_count": 50,
     "metadata": {},
     "output_type": "execute_result"
    }
   ],
   "source": [
    "# a dcionary which maps state indexs to the row i want to draw them\n",
    "correct_place_dictionary = dict(zip(new_plot_order, np.arange(0, numLabelledStates+1)))\n",
    "correct_place_dictionary"
   ]
  },
  {
   "cell_type": "code",
   "execution_count": null,
   "id": "2d9c7f27-1a1f-433e-9589-72961d525ba9",
   "metadata": {},
   "outputs": [],
   "source": []
  },
  {
   "cell_type": "code",
   "execution_count": null,
   "id": "241ee67e-505e-471b-b53a-a8991b2f9d5e",
   "metadata": {},
   "outputs": [],
   "source": []
  },
  {
   "cell_type": "markdown",
   "id": "51392374-fdc0-4c0a-bf7a-3018e33d4397",
   "metadata": {},
   "source": [
    "## plot v1"
   ]
  },
  {
   "cell_type": "code",
   "execution_count": 46,
   "id": "db76ac5b-ddeb-4a06-ba46-ebe01d58dfda",
   "metadata": {},
   "outputs": [],
   "source": [
    "fight_means = epoch_mean_win_state_probs[0]\n",
    "nonfight_means = epoch_mean_win_state_probs[1]\n",
    "\n",
    "fight_err = epoch_bootstrapped_stdevs[0]\n",
    "nonfight_err = epoch_bootstrapped_stdevs[1]\n",
    "\n",
    "n = len(all_state_names)\n",
    "xvals = np.arange(n)\n",
    "width = 0.25\n"
   ]
  },
  {
   "cell_type": "code",
   "execution_count": null,
   "id": "3afff623-2cea-42f5-98b6-3673e8c592c6",
   "metadata": {},
   "outputs": [],
   "source": []
  },
  {
   "cell_type": "code",
   "execution_count": 47,
   "id": "38848ffe-b820-4cd3-a14f-36cd17aab097",
   "metadata": {},
   "outputs": [],
   "source": [
    "# We want to permute based on the new plot order\n",
    "plot_fight_means = np.array([fight_means[i] for i in new_plot_order])\n",
    "plot_fight_err = np.array([fight_err[i] for i in new_plot_order])\n",
    "plot_nonfight_means = np.array([nonfight_means[i] for i in new_plot_order])\n",
    "plot_nonfight_err = np.array([nonfight_err[i] for i in new_plot_order])\n",
    "\n",
    "\n",
    "plot_state_names = [all_state_names[i] for i in new_plot_order]"
   ]
  },
  {
   "cell_type": "code",
   "execution_count": null,
   "id": "86a8a93e-1778-4d27-a443-17e627014704",
   "metadata": {},
   "outputs": [],
   "source": []
  },
  {
   "cell_type": "code",
   "execution_count": 52,
   "id": "23199165-4405-4717-8f6f-0004613d8847",
   "metadata": {},
   "outputs": [
    {
     "data": {
      "application/vnd.jupyter.widget-view+json": {
       "model_id": "45201757661842128bb7e69179397bad",
       "version_major": 2,
       "version_minor": 0
      },
      "text/html": [
       "\n",
       "            <div style=\"display: inline-block;\">\n",
       "                <div class=\"jupyter-widgets widget-label\" style=\"text-align: center;\">\n",
       "                    Figure\n",
       "                </div>\n",
       "                <img src='data:image/png;base64,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' width=640.0/>\n",
       "            </div>\n",
       "        "
      ],
      "text/plain": [
       "Canvas(toolbar=Toolbar(toolitems=[('Home', 'Reset original view', 'home', 'home'), ('Back', 'Back to previous …"
      ]
     },
     "metadata": {},
     "output_type": "display_data"
    }
   ],
   "source": [
    "\n",
    "fig, axs = plt.subplots()\n",
    "ax=axs\n",
    "\n",
    "# get colors\n",
    "state_colors = [colorlist[i] for i in new_plot_order] \n",
    "\n",
    "ax.bar(xvals, plot_fight_means, color=state_colors, width=width, edgecolor='black', yerr=plot_fight_err,\n",
    "       label='fight')\n",
    "\n",
    "ax.bar(xvals+width, plot_nonfight_means, color=state_colors, width=width, edgecolor='black', yerr=plot_nonfight_err, hatch='//',\n",
    "       label='nonfight')\n",
    "\n",
    "xticks = xvals +  width/2\n",
    "xticklabels = list(plot_state_names)\n",
    "ax.set_xticks(xticks)\n",
    "ax.set_xticklabels(xticklabels, rotation=90)\n",
    "\n",
    "ax.legend()\n",
    "\n",
    "ax.set_ylabel('Probability')\n",
    "\n",
    "fig.tight_layout()"
   ]
  },
  {
   "cell_type": "code",
   "execution_count": null,
   "id": "d3d00ade-9ed4-4707-bea3-de3055c2c957",
   "metadata": {},
   "outputs": [],
   "source": []
  },
  {
   "cell_type": "markdown",
   "id": "fb692198-9589-4aa5-9e14-2eb2ab98a56b",
   "metadata": {},
   "source": [
    "## paper version"
   ]
  },
  {
   "cell_type": "code",
   "execution_count": 53,
   "id": "bf09f798-414e-4037-9f74-0f11b7e61e66",
   "metadata": {},
   "outputs": [
    {
     "data": {
      "application/vnd.jupyter.widget-view+json": {
       "model_id": "0bb6be6ad2e04283a4966cbe06ac210e",
       "version_major": 2,
       "version_minor": 0
      },
      "text/html": [
       "\n",
       "            <div style=\"display: inline-block;\">\n",
       "                <div class=\"jupyter-widgets widget-label\" style=\"text-align: center;\">\n",
       "                    Figure\n",
       "                </div>\n",
       "                <img src='data:image/png;base64,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' width=600.0/>\n",
       "            </div>\n",
       "        "
      ],
      "text/plain": [
       "Canvas(toolbar=Toolbar(toolitems=[('Home', 'Reset original view', 'home', 'home'), ('Back', 'Back to previous …"
      ]
     },
     "metadata": {},
     "output_type": "display_data"
    }
   ],
   "source": [
    "imsavepath = '/home/liam/temp/image_transfer/figure6_panel_A.png'\n",
    "\n",
    "\n",
    "fig, axs = plt.subplots(figsize=(6,1.75))\n",
    "ax=axs\n",
    "\n",
    "# get colors\n",
    "state_colors = [colorlist[i] for i in new_plot_order] \n",
    "\n",
    "ax.bar(xvals, plot_fight_means, color=state_colors, width=width, edgecolor='black', yerr=plot_fight_err,\n",
    "       label='fight')\n",
    "\n",
    "ax.bar(xvals+width, plot_nonfight_means, color=state_colors, width=width, edgecolor='black', yerr=plot_nonfight_err, hatch='///',\n",
    "       label='nonfight')\n",
    "\n",
    "xticks = xvals +  width/2\n",
    "xticklabels = list(plot_state_names)\n",
    "ax.set_xticks(xticks)\n",
    "ax.set_xticklabels(xticklabels, rotation=90)\n",
    "\n",
    "ax.legend()\n",
    "\n",
    "\n",
    "# -----------------------#\n",
    "ax.set_ylabel('')\n",
    "ax.set_xlabel('')\n",
    "ax.get_legend().remove()\n",
    "ytop = 0.45\n",
    "ax.set_yticks([0, ytop])\n",
    "ax.set_yticklabels([])\n",
    "#ax.set_xlim(0, np.max(xticks)+2) # add space for legend\n",
    "ax.set_ylim(0,ytop)\n",
    "ax.set_xticklabels([])\n",
    "\n",
    "# tick params\n",
    "ax.xaxis.set_tick_params(width=2, length=4)\n",
    "ax.yaxis.set_tick_params(width=2, length=4)\n",
    "\n",
    "# make the left and rights thicker for each axis\n",
    "for axis in ['top', 'bottom', 'left','right']:\n",
    "    ax.spines[axis].set_linewidth(2)\n",
    "\n",
    "\n",
    "fig.tight_layout()\n",
    "\n",
    "#fig.savefig(imsavepath, dpi=300, transparent=True)"
   ]
  },
  {
   "cell_type": "code",
   "execution_count": null,
   "id": "d7b89f35-39eb-401e-9c90-98ee5efd4b4b",
   "metadata": {},
   "outputs": [],
   "source": []
  },
  {
   "cell_type": "code",
   "execution_count": 98,
   "id": "cd673b20-0d8e-4491-8d38-a12b162405f6",
   "metadata": {},
   "outputs": [
    {
     "data": {
      "application/vnd.jupyter.widget-view+json": {
       "model_id": "dcb6a20e74004fd682c42ab92349cab2",
       "version_major": 2,
       "version_minor": 0
      },
      "text/html": [
       "\n",
       "            <div style=\"display: inline-block;\">\n",
       "                <div class=\"jupyter-widgets widget-label\" style=\"text-align: center;\">\n",
       "                    Figure\n",
       "                </div>\n",
       "                <img src='data:image/png;base64,iVBORw0KGgoAAAANSUhEUgAAAYgAAABuCAYAAAA9KYQNAAAAOXRFWHRTb2Z0d2FyZQBNYXRwbG90bGliIHZlcnNpb24zLjQuMywgaHR0cHM6Ly9tYXRwbG90bGliLm9yZy/MnkTPAAAACXBIWXMAAA9hAAAPYQGoP6dpAAAPoUlEQVR4nO3dbXRT930H8K/ABj2YJ9sERG1Dg21ZmUN4MB3bYDkNnKQtg3AgOU0yspWQ5aFraDfWleXFguGQNuvJmoR2G2yhOYVu4WxkJyEmWThZW2xYA40x1EWyDcRcYcsoFz9LupJlay+MrmX7CiPpXl/r+vt5ZV1J9/8TNvre/8O91xSNRqMgIiIaYYreBRAR0cTEgCAiIkUMCCIiUsSAICIiRQwIIiJSxIAgIiJFDAgiIlLEgCAiIkUMCCIiUsSAICIiRQwIIiJSlKV3Aanyer3wer2QJAk+nw/l5eXIysrYj0NEk1AkEkFbWxsqKipgNpv1LmeUjP1GPXDgACorK/Uug4gobdXV1Vi9erXeZYxiytSrucZ6EB6PB5s2bUJ1dTUKCgr0LouI6I5dv34da9asQVNTE4qLi/UuZ5SM7UHY7XbY7Xbk5uYCAAoKCrBo0SJ9iyIiSsFEHR7nJDURESliQBARkSIGBBERKWJAEBGRIgYEEREpYkAQEZEiBgQRESliQBARkSIGBBERKWJAEBGRIgYEEVGS/H4/TCYTTCYT/H6/3uVohgFBRESKGBBERKRoYl5CkIhoghIEAR6PR35cV1cHi8WC/Px8FBUV6ViZ+hgQRER3SBAElJU5EAxK8rbYjX4sFjPc7gZDhQSHmIiI7pAoiggGJcydMXRs/d31C7D9/nkIBiWIoqhjdepjD4KIKEmdgYj8c1GeGdOywjpWox32IIiIkvT1VXP1LmFcsAdBRJSkhfnTcXD7xLuHtNrYgyAiIkUMCCIiUsSAICJKU/+A3hVoY9IHxGS5pgoRaSPSH8U754y1vDVm0gfEeGIYERlLpD+Kg79ow5Ub0tgvzkCTOiAEQUBdXZ38uK6uDrW1tRAEQb+iiCgjxMKh3uPHli/l612OJibtMldBEOAscyCgcMq81WKGS8VT5gVBuHUGZlDeZuTrtxAZXf8A5HB4bq0ds6xT9S5JE5M2IERRRCAo4Z8eLsQ33x288NbJ7SUQOsPYfuwaRFFU5YtbEASUOZwISoFh2+Xrt5itcDe4GBJEGeSdcyKu+iQ8t9aOJUU2XBONOcQ0aQMiZondCv+eZfJjS3bgNq9OniiKCEoBPJm3E3Om3oU3fN8DAOy46xV09Ptw+OarqoUREY2PKzckPL9uMByMbNIHxHiZl12IwmnFeL3ofXmbJzxdx4qIKFVbvpRv+HAAJvkkNRFRKkrmm/UuYVwwIIiISBEDgoiIFDEgiIjSFI3qXYE2GBBERGkYiEbx4cUOvcvQBAOCiChFA9Eo/uPM56htNualcxgQREQpiIXDKXc31i+bo3c5mmBAEBElKRqFHA5PrrkLSw16TgQDgogoSR9e7JDDYXXpTL3L0QwDgogoSbXNfsOHA8CAICJK2vplcwwfDgADgogoaUadcxiJAUFERIoYEEREpIgBQUREihgQRERpqmno1rsETTAgiIjSUHW+Hb9yMyCIiChO1fl2vFvbjvvLjLnklQFBRJSCWDg8vDwXqx0MCMoAgiDg9OnTMJlMMJlMOH36NGprayEIgt6lERlGTUO3HA7rl+XqXY5msvQugNQjCAKcTgcCAUnetnr1agCA1WqGy9WAoqIivcojMoxfubsNHw4AexCGIooiAgEJ//bKLHlbzX/l4chrsxEISBBFUcfqiIzj/rKZhg8HgD0IQ1r2e9mIXrPLjy3mPh2rITIeo845jMQexG34/X55LN/vN+Ydo4iIEmFAEBGRIg4xJeByuRAMBuXHdXV1sFgsyM/P50QvEU0KDIgR2nr6MMUEbN26ddh2eTWQxQyXm6uBiGhInWDMIWgOMY3QJfVjIArse3AB8ixT5e0nt5fgzS0LEQhyNRARDalp7EbV+Q69y9AEexAJ/KjGh7k52Tj7LSfmz8gGAFiyAzpXRUQTSU1jNw5X+7B8kQ21zcbrRbAHkUDOtCmo+kaxHA5ERPFi4fDHZTPxlSVz9C5HEwyIBF7fWMhwICJFdYJfDofH/3AuTCa9K9IGAyKBPCtH34hIWdX5Djkcphg1HcCAICJK2vJFNsOHA8CASMrNQETvEigOr1xLevnKkjmGDweAq5juWFtPH779nkfvMugWQRBQUlqKcCgkb4udq2K2WNDgdvNcFdLMJMgGAAyIO9LW04f1b11Gb3hA71LSEgwGYbr1l93b2wubzaZzRakTRRHhUAglWzYir6xE3u733sBvDx2BKIoMCKI0MSDGEAuHLqkf+zcW4PG3m/UuKWVut1v+OXbpEAAZffmQvLISzCwq1LsMIkNiQNxGfDh8sK04Y3sQXl8/pkwBnn76aXlbbDgGACzm6XA3NGZsSBDpralNGvtFGYiT1AncDESGhUNJvlnvklLW2R3FwABw5LXZ+PT9fHz6fj7+fkcOAOCBP5qGoBTi5UOIUnRR8OPYWWP+/2FAJPDt9zyGCId4zuIsLL83G3WX+rB3fy+e22rFK7tm6F2WqvpDYb1LoEnkouDHv3zsxeJ5xviOGIkBkUBveMBQ4RBz6GgAT3+vC8/+qRU/2TtT9aV6giCgtrZWl+WnEUmC6+1jmrZBFBMLh/JCGzavzNe7HE1wDiKB/RsLDBcO734kYe/+3qFwmJJ6OAiCAI/HI89l1NTUoLOzE1sefRShuPtoAHHLT61WNLhcmsx1RCQJtW8cQNBnzK4+TSxNbRLeOSeivNCGZ748Hy0dobHflIEYEAkUzp4+bm2dP38eK1asADD4RavVjYn2vDE4rKRGODicTkiBoavbxk963/ODN2G72zHsPf6rDbi0a7smy09j4dDb4oXziUdQ/9a/q7p/QRASztFk8gowSt2xsyLuLRoMh6ypxj0pggGho+7+DphgUlxdZDFb4W5Q92h7y1fNaYcDMHgOghQIjAoCsfojfLZ/D2x3OzDjnqXD3iO1ajO81B8Ky+Gw4jvPwzRV3VFTQRBQVlY27O6C8axWK1wa9Yq0pNQD1OLAJFE7QGaEq9/vR07O4IKO3t5eefvieWbDhwPAgEhKINyv6v6CA72IIorH5ryAtzv2AwDWzngEC6YtxOGbr6p+tL3rm7a0wyHeyCDwX21QfF2guQmuyh2qtRvP9fYxSGI7Vnznecz64kJ0C6mf7a70Zdbc3IxgMIi3XvwBnEV3D29buIpvvLwr407KEwQBjhIHpPDQ0kz5jolmK1wqHZgIggCn04FAYHQ7AGA2T0fDBF1eHes1jrztcHNzMwBg88p8w4cDwIC4Yz2hfuysuq7Jvl3SpzDBhMdyX8CqnAfhCV/WpB09rh0TaG5C7VNfQ5bVhkiH+vMDQZ+Iir/+S8z64sK09jP4ZeZEIMGwmbPobiwrvSetNiYKURQhhSX8sGAfVuaskLc3SpfxTPO3VAs8URQRCEh48UA5FjqGztqP9A3g9e+60VjXMyHDdbDX6EAwOPzchvi/B5U7qhMWA+IO9IT6selnV3C1XZuJqAvBM3g8dwdW5Tyoyf71IodDzkyU7PoHXHjmYdXbcD7xSNrhAMS+zAKjegofnK3G7kP7Fd/zZtXEXjGVaO7E5XIBAFbmrMBS6xLN61josKH0vpkAgL7wAPY8dRFX63tUbyfR5012KGuw5yBh+/3zMH/28HvC1HsCeLe2Pe1aMwUDYgyxcLjkC+K1DYX4i3fUH0t/aOZjuoVD9TltQi8+HJYdOoGwz5vSfuK7+iOHfgAg5wt2tUoGMLqn4BauKr7u5cMHcPD4UVXbVpMgCHA6nAhIE+c2ubFw+OSkiGf3luInf9eo2r4FQUBpqQOh0OgzmlOdJ5o/OxsLR6xk9HZOrvNsGBC3ER8Ox/+8GFNVHL+Pd691lSb7HUvVxxL+Zp/6R3JSq4CGl3fK4TA9f15KASEIAhxlZZASLJvVy8uHD2D3T/fjmQ1fn7AhIYoiAlIABxf9GKXm4mHPnez6BfZ5XxnXeuLDofJn9yFvvrqrBEVRRCgk4dUXj2BxkVPefkVwYefLWzUfymrtMGZwMCASCISHh0NFgQ3nWyfO0Vi6qj6WsPm5DqxemY1f/l+fqvt2Ve7AtDl5cjikShRFSMEg7n1qK2z24fsRf3sJl9/7IN1SkxYLh93bXsBXf3+NqgGhxXLaUnPxqGGkRqlJ8bXtkY6k9x+TaIIfGJxziA+HP3hoLhovdKfc1u0sLnKivHS5JvtO5LPPJfz8zOfj2uZ4YUAksLPqOq51huVwMJJYOHzty9Ox6/kcrNp0U9X9Z1ltaYdDPJt93qgrtvq9NxRfOxBRd6VZvPhwePHJZ3G+8ZJq+xYEAaWOUoQk5SE/s9WMBleDZkfBN/p8+Cvhb1N671irlf61sgm/O9slh4ORfPa5hB990Iq7ZmTjugF7EQyIBK62h3BiW4mhw+Hoj+egvkH9u+Q5XnpDtXBIxkAkgqb/fl+Tfb9ZdQwHjx+VwyEdSj0Fl8uFkBRC6c6lsBbmDHsu4OlF46t1mg2T3OjzYWPTo/APpNZDTrRa6ZOTIg7tu4L6X3diz5GlqoTDWBPv4ykWDl+YMw2bK/LwwxMt416D1jI2ILxeL7xeLzyewXXv168ntwS1tbUVAHC6uRfe7qEhlgutfgDAthV58PVGcMLdJT8XW8XU2tqK3NzcpNq5ItWjKzL8SN0TvqL4XE3PiaTbiW/r1CchtN4YOpKurR88svnnI7346X9KqFiShT/bbMFHp0K43BxJ+TN1/OY0QnFzC92uCwAA/2U3ouHhR1OBW5O9KbXTeAVSZ9ew52LnO8Sei/b347P/+V90N19Lup34tk5d/A1aRZ+8vbZp8Ivn4PGjeHztn+C+xQ5UnfklAODyrZP/kmmrpaUFD6x7AGFJ+WizryuEkDVr1LZk24l9njM9n8Abbhv23AX/7+Tn3MFG7G39PgIDQWzLfxL/eGN/yv92nWIYtplDtfd0Dv6/euiJBYhGgTMfDg3DtFwNJP2ZWlpasG7dOkhS4ktrn7t4CjfEVvnxex//POl2Yp+nqU1C54jbDHvEwd/Fry/34JS7C3m2bKy9Zxau3Uz+dwQMfW9FIhPzdsamaDQa1buIVOzevRuVlZV6l0FElLbq6mrdF18oydiAiPUgJEmCz+dDeXk5srLS7xDV19djw4YNOH78OMrLy1WoVP+2jNbOeLZltHbGsy1+prFFIhG0tbWhoqICZvPEuzhoxg4x2e122O3qroEHgPb2wZNgFixYgEWLFqm+fz3aMlo749mW0doZz7b4me5McXHx2C/SySQ5YfzO2e12vPTSS5qEj15tGa2d8WzLaO2MZ1v8TJkvY4eYiIhIW+xBEBGRIgYEEREpYkAQEZEiBgQRESliQBARkSIGBBERKWJAEBGRov8HawMF9QCbUZcAAAAASUVORK5CYII=' width=392.5/>\n",
       "            </div>\n",
       "        "
      ],
      "text/plain": [
       "Canvas(toolbar=Toolbar(toolitems=[('Home', 'Reset original view', 'home', 'home'), ('Back', 'Back to previous …"
      ]
     },
     "metadata": {},
     "output_type": "display_data"
    }
   ],
   "source": [
    "imsavepath = '/home/liam/temp/image_transfer/figure6_A.png'\n",
    "\n",
    "\n",
    "fig, axs = plt.subplots(figsize=(3.925, 1.1))\n",
    "ax=axs\n",
    "\n",
    "# get colors\n",
    "state_colors = [colorlist[i] for i in new_plot_order] \n",
    "\n",
    "ax.bar(xvals, plot_fight_means, color=state_colors, width=width, edgecolor='black', yerr=plot_fight_err,\n",
    "       label='fight')\n",
    "\n",
    "ax.bar(xvals+width, plot_nonfight_means, color=state_colors, width=width, edgecolor='black', yerr=plot_nonfight_err, hatch='///',\n",
    "       label='nonfight')\n",
    "\n",
    "xticks = xvals +  width/2\n",
    "xticklabels = list(plot_state_names)\n",
    "ax.set_xticks(xticks)\n",
    "ax.set_xticklabels(xticklabels, rotation=90)\n",
    "\n",
    "ax.legend()\n",
    "\n",
    "\n",
    "# -----------------------#\n",
    "ax.set_ylabel('')\n",
    "ax.set_xlabel('')\n",
    "ax.get_legend().remove()\n",
    "ytop = 0.45\n",
    "ax.set_yticks([0, ytop])\n",
    "ax.set_yticklabels([])\n",
    "#ax.set_xlim(0, np.max(xticks)+2) # add space for legend\n",
    "ax.set_ylim(0,ytop)\n",
    "ax.set_xticklabels([])\n",
    "\n",
    "# tick params\n",
    "ax.xaxis.set_tick_params(width=1, length=2)\n",
    "ax.yaxis.set_tick_params(width=1, length=2)\n",
    "\n",
    "# make the left and rights thicker for each axis\n",
    "for axis in ['top', 'bottom', 'left','right']:\n",
    "    ax.spines[axis].set_linewidth(0.9)\n",
    "\n",
    "\n",
    "#fig.tight_layout()\n",
    "\n",
    "fig.savefig(imsavepath, dpi=900, transparent=True)"
   ]
  },
  {
   "cell_type": "code",
   "execution_count": null,
   "id": "820b0075-5c29-4965-8ac5-8d193eec7a00",
   "metadata": {},
   "outputs": [],
   "source": []
  },
  {
   "cell_type": "code",
   "execution_count": null,
   "id": "cbebb4b6-109d-4a8b-9adf-b3bc2d432655",
   "metadata": {},
   "outputs": [],
   "source": []
  },
  {
   "cell_type": "code",
   "execution_count": null,
   "id": "237bc4eb-21e4-4e97-83a6-0175b5d0166a",
   "metadata": {},
   "outputs": [],
   "source": []
  },
  {
   "cell_type": "markdown",
   "id": "7db48941-6261-48ec-a193-a37f8d4ea101",
   "metadata": {},
   "source": [
    "# -------------------------"
   ]
  },
  {
   "cell_type": "code",
   "execution_count": null,
   "id": "5c93e345-d43b-4588-8863-821f8c5269d7",
   "metadata": {},
   "outputs": [],
   "source": []
  },
  {
   "cell_type": "markdown",
   "id": "21bd82ae-c53f-416e-9737-b81edfc04373",
   "metadata": {},
   "source": [
    "# Panel B"
   ]
  },
  {
   "cell_type": "code",
   "execution_count": null,
   "id": "2389e9c1-aea4-42a5-92a2-ed8bbba8a651",
   "metadata": {},
   "outputs": [],
   "source": []
  },
  {
   "cell_type": "markdown",
   "id": "a8be277e-e01c-4118-a722-c7d26cf2fa33",
   "metadata": {},
   "source": [
    "# Compute the windowed probabilities"
   ]
  },
  {
   "cell_type": "code",
   "execution_count": 55,
   "id": "8fe83190-b609-422f-a6e3-f5302cdf063e",
   "metadata": {},
   "outputs": [
    {
     "name": "stdout",
     "output_type": "stream",
     "text": [
      "FishTank20200127_143538\n",
      "FishTank20200129_140656\n",
      "FishTank20200130_153857\n",
      "FishTank20200130_181614\n",
      "FishTank20200207_161445\n",
      "FishTank20200213_154940\n",
      "FishTank20200214_153519\n",
      "FishTank20200217_160052\n",
      "FishTank20200218_153008\n",
      "FishTank20200316_163320\n",
      "FishTank20200327_154737\n",
      "FishTank20200330_161100\n",
      "FishTank20200331_162136\n",
      "FishTank20200520_152810\n",
      "FishTank20200521_154541\n",
      "FishTank20200525_161602\n",
      "FishTank20200526_160100\n",
      "FishTank20200527_152401\n",
      "FishTank20200824_151740\n",
      "FishTank20200828_155504\n",
      "FishTank20200902_160124\n",
      "FishTank20200903_160946\n"
     ]
    }
   ],
   "source": [
    "# compute the windowed state probabilities for each experiment\n",
    "window_size= 3000 #6000\n",
    "window_step=100\n",
    "\n",
    "all_exp_window_state_probabilities = []\n",
    "all_exp_time_windows = []\n",
    "\n",
    "for expIdx in range(len(expNames)):\n",
    "    expName = expNames[expIdx]\n",
    "    print(expName)\n",
    "    exp_cls_tseries = np.copy(all_exps_edited_postProced_clusterIdx_tseries[expIdx])\n",
    "    exp_numFrames = exp_cls_tseries.shape[0]\n",
    "    exp_time_windows = return_overlapping_windows_for_timeframes(exp_numFrames, window_size=window_size, window_step=window_step)\n",
    "    exp_window_state_probabilities = compute_state_probabilities_in_time_windows(exp_cls_tseries, exp_time_windows, numLabelledStates)\n",
    "    all_exp_window_state_probabilities.append(exp_window_state_probabilities)\n",
    "    all_exp_time_windows.append(exp_time_windows)"
   ]
  },
  {
   "cell_type": "code",
   "execution_count": null,
   "id": "7d742b12-41a9-45e1-b959-bdec4c99fd91",
   "metadata": {},
   "outputs": [],
   "source": []
  },
  {
   "cell_type": "code",
   "execution_count": null,
   "id": "54f84754-6b32-443e-9e3c-d4a7e5523168",
   "metadata": {},
   "outputs": [],
   "source": []
  },
  {
   "cell_type": "markdown",
   "id": "a2aaea59-0c60-48a7-b9ad-65a139b3cd03",
   "metadata": {},
   "source": [
    "# Load the fight boundaries for this figure"
   ]
  },
  {
   "cell_type": "markdown",
   "id": "23500677-c8dc-47ae-bb79-625f13e0c8dc",
   "metadata": {},
   "source": [
    "See the fight_detector.ipynb notebook for more information"
   ]
  },
  {
   "cell_type": "code",
   "execution_count": 56,
   "id": "ea2a0a4d-b128-48f6-9c48-dc73b71ae316",
   "metadata": {},
   "outputs": [
    {
     "data": {
      "text/plain": [
       "'/media/liam/hd1/fighting_data/tracking_results/fightBouts.h5'"
      ]
     },
     "execution_count": 56,
     "metadata": {},
     "output_type": "execute_result"
    }
   ],
   "source": [
    "fightBouts_info_path"
   ]
  },
  {
   "cell_type": "code",
   "execution_count": 57,
   "id": "4171d97b-66e2-4edc-9702-dcc754650897",
   "metadata": {},
   "outputs": [
    {
     "data": {
      "text/plain": [
       "(18, 4)"
      ]
     },
     "execution_count": 57,
     "metadata": {},
     "output_type": "execute_result"
    }
   ],
   "source": [
    "with h5py.File(fightBouts_info_path, 'r') as hf:\n",
    "    fight_bout_info = hf['fight_bout_info'][:]\n",
    "    \n",
    "fight_bout_info.shape"
   ]
  },
  {
   "cell_type": "code",
   "execution_count": null,
   "id": "80dff317-2b24-4ada-91b4-696128f4f19c",
   "metadata": {},
   "outputs": [],
   "source": []
  },
  {
   "cell_type": "code",
   "execution_count": null,
   "id": "aa879b2b-67ea-474f-9c56-d369c6792a24",
   "metadata": {},
   "outputs": [],
   "source": []
  },
  {
   "cell_type": "code",
   "execution_count": null,
   "id": "82e55c9c-d2bb-4a40-9e15-8c8caa8cc8d7",
   "metadata": {},
   "outputs": [],
   "source": []
  },
  {
   "cell_type": "markdown",
   "id": "d0b0ef58-b160-4293-a0ac-1ee7c8803a7e",
   "metadata": {},
   "source": [
    "# grabbing the exp and time frame data for each of the 4 periods"
   ]
  },
  {
   "cell_type": "code",
   "execution_count": null,
   "id": "b8431250-5249-4c5d-94ad-faa21297b6b1",
   "metadata": {},
   "outputs": [],
   "source": []
  },
  {
   "cell_type": "code",
   "execution_count": 58,
   "id": "d634fcf3-ddee-4ef7-9bc5-470a226eacc7",
   "metadata": {},
   "outputs": [],
   "source": [
    "# ---- get the frame ranges for each of the 4 time periods ---#\n",
    "\n",
    "\n",
    "''' Schematic for pre-fight\n",
    "\n",
    "win_size = 6000\n",
    "f0 = 36000\n",
    "desired_time_win = 18000\n",
    "\n",
    "win_buff = window_size/2 = 3000\n",
    "\n",
    "pre_fight_time_data = f0 - (desired_time_win+win_buff) : f0 + win_buff\n",
    "                    = 36000 - (21000) : 36000 + 3000\n",
    "                    = 15900 : 39000\n",
    "                    \n",
    "-    : normal time\n",
    "*    : buffer\n",
    "&    : desired region\n",
    "<--> : sample window\n",
    "\n",
    "The buffer allows us to center windows right up until the edges of the desired regions.\n",
    "                    \n",
    "-----------*****&&&&&&&&&*****--------------\n",
    "           <-------->   \n",
    "                    <--------> \n",
    "'''\n",
    "\n",
    "epoch_names = ['pre fight start', 'post fight start', 'pre fight end', 'post fight end']\n",
    "\n",
    "pre_fight_time_data = []\n",
    "start_fight_time_data = []\n",
    "end_fight_time_data = []\n",
    "post_fight_time_data = []\n",
    "\n",
    "desired_time_win = 18000\n",
    "win_buff = window_size/2 # a bit extra, so we can plot a full desired_time_wins\n",
    "\n",
    "for boutIdx in range(fight_bout_info.shape[0]):\n",
    "    expIdx, f0, fE, _ = fight_bout_info[boutIdx]\n",
    "    \n",
    "    pre_fight_time_data.append( np.array([expIdx, f0-(desired_time_win+win_buff), f0+win_buff]) )\n",
    "    start_fight_time_data.append( np.array([expIdx, f0-win_buff, f0+(desired_time_win+win_buff)]) )\n",
    "    end_fight_time_data.append( np.array([expIdx, fE-(desired_time_win+win_buff), fE+win_buff]) )\n",
    "    post_fight_time_data.append( np.array([expIdx, fE-win_buff, fE+(desired_time_win+win_buff)]) )\n",
    "    \n",
    "    \n",
    "pre_fight_time_data = np.array(pre_fight_time_data).astype(int)\n",
    "start_fight_time_data = np.array(start_fight_time_data).astype(int)\n",
    "end_fight_time_data = np.array(end_fight_time_data).astype(int)\n",
    "post_fight_time_data = np.array(post_fight_time_data).astype(int)\n",
    "\n",
    "\n",
    "total_plot_time_mins = int(desired_time_win / (100*60))"
   ]
  },
  {
   "cell_type": "code",
   "execution_count": null,
   "id": "0d8d5fff-67db-487f-a7a8-298b803ba055",
   "metadata": {},
   "outputs": [],
   "source": []
  },
  {
   "cell_type": "code",
   "execution_count": null,
   "id": "a0255359-a704-4873-aa57-b3bede1f8ad2",
   "metadata": {},
   "outputs": [],
   "source": []
  },
  {
   "cell_type": "markdown",
   "id": "601324be-a715-4e2d-b884-cf4e7a927d23",
   "metadata": {},
   "source": [
    "# grabbing the data"
   ]
  },
  {
   "cell_type": "markdown",
   "id": "bd31c915-7f53-4dbb-a453-b5ac41795363",
   "metadata": {},
   "source": [
    "Get the probabilities in windows, for each of the 11 states (fight-maneuvers & all-non-fight-maneuvers), for  <br>\n",
    "(1) before the start of the bouts  <br>\n",
    "(2) after the start of the bouts  <br>\n",
    "(3) before the end of the bouts  <br>\n",
    "(4) after the end of the bouts <br>"
   ]
  },
  {
   "cell_type": "code",
   "execution_count": null,
   "id": "ad03d730-f17f-4e47-a697-e7d4015c4ab2",
   "metadata": {},
   "outputs": [],
   "source": []
  },
  {
   "cell_type": "code",
   "execution_count": null,
   "id": "8d4eaa67-89df-4cc4-8d79-94e3fd64e607",
   "metadata": {},
   "outputs": [],
   "source": []
  },
  {
   "cell_type": "code",
   "execution_count": 59,
   "id": "21a569fc-bb84-4276-9854-c27728bdc6aa",
   "metadata": {},
   "outputs": [],
   "source": [
    "# a list which contains the information for each of the 4 epochs\n",
    "epoch_region_data_list = [pre_fight_time_data, start_fight_time_data, end_fight_time_data, post_fight_time_data]\n",
    "\n",
    "# compute the windowed probs in each epoch (using multiple fightbouts)\n",
    "epoch_list_of_region_bout_win_state_probs = []\n",
    "for region_data in epoch_region_data_list:\n",
    "    region_bout_win_state_probs_list = return_region_win_state_probs(region_data, \n",
    "                                                                all_exp_window_state_probabilities, \n",
    "                                                                all_exp_time_windows,\n",
    "                                                                expNumFrames)\n",
    "    epoch_list_of_region_bout_win_state_probs.append(np.stack(region_bout_win_state_probs_list,axis=0))\n",
    "    \n"
   ]
  },
  {
   "cell_type": "code",
   "execution_count": 60,
   "id": "a5ee1221-baa6-4f1f-95b5-951e1b22f01e",
   "metadata": {},
   "outputs": [
    {
     "data": {
      "text/plain": [
       "4"
      ]
     },
     "execution_count": 60,
     "metadata": {},
     "output_type": "execute_result"
    }
   ],
   "source": [
    "len(epoch_list_of_region_bout_win_state_probs)"
   ]
  },
  {
   "cell_type": "code",
   "execution_count": 99,
   "id": "ac535ab5-7f54-4c0a-8e47-0627c796cc36",
   "metadata": {},
   "outputs": [
    {
     "data": {
      "text/plain": [
       "(16, 181, 11)"
      ]
     },
     "execution_count": 99,
     "metadata": {},
     "output_type": "execute_result"
    }
   ],
   "source": [
    "epoch_list_of_region_bout_win_state_probs[0].shape"
   ]
  },
  {
   "cell_type": "code",
   "execution_count": 62,
   "id": "90238ac5-4fb8-4a1a-a300-5a36b822da24",
   "metadata": {},
   "outputs": [
    {
     "data": {
      "text/plain": [
       "(18, 181, 11)"
      ]
     },
     "execution_count": 62,
     "metadata": {},
     "output_type": "execute_result"
    }
   ],
   "source": [
    "epoch_list_of_region_bout_win_state_probs[1].shape"
   ]
  },
  {
   "cell_type": "code",
   "execution_count": 63,
   "id": "66c27af6-6b21-4cb8-bc95-33c420edc024",
   "metadata": {},
   "outputs": [
    {
     "data": {
      "text/plain": [
       "(18, 181, 11)"
      ]
     },
     "execution_count": 63,
     "metadata": {},
     "output_type": "execute_result"
    }
   ],
   "source": [
    "epoch_list_of_region_bout_win_state_probs[2].shape"
   ]
  },
  {
   "cell_type": "code",
   "execution_count": 64,
   "id": "f0419904-6072-4213-bf31-2f14ce92ccd0",
   "metadata": {},
   "outputs": [
    {
     "data": {
      "text/plain": [
       "(18, 181, 11)"
      ]
     },
     "execution_count": 64,
     "metadata": {},
     "output_type": "execute_result"
    }
   ],
   "source": [
    "epoch_list_of_region_bout_win_state_probs[3].shape"
   ]
  },
  {
   "cell_type": "code",
   "execution_count": 65,
   "id": "1c9e3564-e60b-41d1-9289-a190821e5c48",
   "metadata": {},
   "outputs": [
    {
     "name": "stdout",
     "output_type": "stream",
     "text": [
      "(numBouts, numWins, numStates)\n"
     ]
    }
   ],
   "source": [
    "print('(numBouts, numWins, numStates)')"
   ]
  },
  {
   "cell_type": "code",
   "execution_count": null,
   "id": "b1c3a380-49e7-4ac6-a786-b2bbd5acf162",
   "metadata": {},
   "outputs": [],
   "source": []
  },
  {
   "cell_type": "code",
   "execution_count": null,
   "id": "1f5af318-0e30-4ec7-bf0e-1b7b8e136c6c",
   "metadata": {},
   "outputs": [],
   "source": []
  },
  {
   "cell_type": "markdown",
   "id": "a4bde36c-7ad7-46fe-b2ff-e22f4db9cab6",
   "metadata": {},
   "source": [
    "# combining maneuvers probabilities in the 4 regions"
   ]
  },
  {
   "cell_type": "markdown",
   "id": "b10bfd1e-4656-4459-8270-d0dbc54a2077",
   "metadata": {},
   "source": [
    " combine the winner stuff, the loser stuff, and the display stuff"
   ]
  },
  {
   "cell_type": "code",
   "execution_count": null,
   "id": "dee522e2-4d04-4f3a-b35b-9b578b1d746f",
   "metadata": {},
   "outputs": [],
   "source": []
  },
  {
   "cell_type": "code",
   "execution_count": 66,
   "id": "ddca6a79-e596-4764-86a3-5378f9a18369",
   "metadata": {},
   "outputs": [
    {
     "name": "stdout",
     "output_type": "stream",
     "text": [
      "0 circling\n",
      "1 direct away\n",
      "2 winner attack\n",
      "3 loser attack\n",
      "4 display\n",
      "5 direct to\n",
      "6 middle circling\n",
      "7 L approach\n",
      "8 W approach\n",
      "9 parallel\n",
      "10 non-fight clusters\n"
     ]
    }
   ],
   "source": [
    "for i, name in enumerate(all_state_names):\n",
    "    print(i, name)"
   ]
  },
  {
   "cell_type": "code",
   "execution_count": null,
   "id": "0f6ece51-f2e7-409d-ad6c-6516f6f9be04",
   "metadata": {},
   "outputs": [],
   "source": []
  },
  {
   "cell_type": "code",
   "execution_count": 67,
   "id": "79f27cdc-d08a-4d80-9a6e-06abff7ab526",
   "metadata": {},
   "outputs": [],
   "source": [
    "epoch_list_of_region_bout_combined_win_state_probs = []\n",
    "\n",
    "for epochIdx in range(4):\n",
    "\n",
    "    bout_arr_win_state_probs = epoch_list_of_region_bout_win_state_probs[epochIdx]\n",
    "\n",
    "    # preallocate \n",
    "    # shapes are (numFights used, numWindows, numManeuvers)\n",
    "    winner_man_win_state_probs = np.zeros((bout_arr_win_state_probs.shape[0], bout_arr_win_state_probs.shape[1], 2))\n",
    "    loser_man_win_state_probs = np.zeros((bout_arr_win_state_probs.shape[0], bout_arr_win_state_probs.shape[1], 2))\n",
    "    display_man_win_state_probs = np.zeros((bout_arr_win_state_probs.shape[0], bout_arr_win_state_probs.shape[1], 4))\n",
    "\n",
    "    # fill in the values\n",
    "    winner_man_win_state_probs[:,:,0] = bout_arr_win_state_probs[:,:,2]  #winner attack\n",
    "    winner_man_win_state_probs[:,:,1] = bout_arr_win_state_probs[:,:,8]  #winner app\n",
    "\n",
    "    loser_man_win_state_probs[:,:,0] = bout_arr_win_state_probs[:,:,3]   #loser attack\n",
    "    loser_man_win_state_probs[:,:,1] = bout_arr_win_state_probs[:,:,7]   #loser app\n",
    "\n",
    "    display_man_win_state_probs[:,:,0] = bout_arr_win_state_probs[:,:,0] # close circling\n",
    "    display_man_win_state_probs[:,:,1] = bout_arr_win_state_probs[:,:,4] # close parallel\n",
    "    display_man_win_state_probs[:,:,2] = bout_arr_win_state_probs[:,:,6] # far circling\n",
    "    display_man_win_state_probs[:,:,3] = bout_arr_win_state_probs[:,:,9] # far parallel\n",
    "\n",
    "\n",
    "    # sum over the states\n",
    "    winner_man_win_state_probs_summed = np.sum(winner_man_win_state_probs, axis=2)\n",
    "    loser_man_win_state_probs_summed = np.sum(loser_man_win_state_probs, axis=2)\n",
    "    display_man_win_state_probs_summed = np.sum(display_man_win_state_probs, axis=2)\n",
    "\n",
    "\n",
    "    # combine into one new array\n",
    "    combined_maneuvers_win_state_probs = np.stack([winner_man_win_state_probs_summed, \n",
    "                                                   loser_man_win_state_probs_summed, \n",
    "                                                   display_man_win_state_probs_summed], axis=2)\n",
    "    \n",
    "    # record\n",
    "    epoch_list_of_region_bout_combined_win_state_probs.append(combined_maneuvers_win_state_probs)\n",
    "\n"
   ]
  },
  {
   "cell_type": "code",
   "execution_count": null,
   "id": "a3f467c2-33c2-4164-90cf-b6db22608f95",
   "metadata": {},
   "outputs": [],
   "source": []
  },
  {
   "cell_type": "code",
   "execution_count": 68,
   "id": "160448cc-783f-4e4d-ad14-7dcff7d3b874",
   "metadata": {},
   "outputs": [
    {
     "data": {
      "text/plain": [
       "4"
      ]
     },
     "execution_count": 68,
     "metadata": {},
     "output_type": "execute_result"
    }
   ],
   "source": [
    "len(epoch_list_of_region_bout_combined_win_state_probs)"
   ]
  },
  {
   "cell_type": "code",
   "execution_count": 69,
   "id": "4a1110f8-9acd-406f-8d76-0cb67ffd4f68",
   "metadata": {},
   "outputs": [
    {
     "data": {
      "text/plain": [
       "(16, 181, 3)"
      ]
     },
     "execution_count": 69,
     "metadata": {},
     "output_type": "execute_result"
    }
   ],
   "source": [
    "epoch_list_of_region_bout_combined_win_state_probs[0].shape"
   ]
  },
  {
   "cell_type": "code",
   "execution_count": 70,
   "id": "3930b376-2985-4fb8-83f3-fa133628349b",
   "metadata": {},
   "outputs": [
    {
     "data": {
      "text/plain": [
       "(18, 181, 3)"
      ]
     },
     "execution_count": 70,
     "metadata": {},
     "output_type": "execute_result"
    }
   ],
   "source": [
    "epoch_list_of_region_bout_combined_win_state_probs[1].shape"
   ]
  },
  {
   "cell_type": "code",
   "execution_count": 71,
   "id": "10b7ffab-c921-478e-9cdb-bd6ace150712",
   "metadata": {},
   "outputs": [
    {
     "data": {
      "text/plain": [
       "(18, 181, 3)"
      ]
     },
     "execution_count": 71,
     "metadata": {},
     "output_type": "execute_result"
    }
   ],
   "source": [
    "epoch_list_of_region_bout_combined_win_state_probs[2].shape"
   ]
  },
  {
   "cell_type": "code",
   "execution_count": 72,
   "id": "64e72df7-b4f2-4fc6-99f9-7ac452ec72be",
   "metadata": {},
   "outputs": [
    {
     "data": {
      "text/plain": [
       "(18, 181, 3)"
      ]
     },
     "execution_count": 72,
     "metadata": {},
     "output_type": "execute_result"
    }
   ],
   "source": [
    "epoch_list_of_region_bout_combined_win_state_probs[3].shape"
   ]
  },
  {
   "cell_type": "code",
   "execution_count": null,
   "id": "0ee865cc-0ba6-4c77-b0ff-e397a02ce548",
   "metadata": {},
   "outputs": [],
   "source": []
  },
  {
   "cell_type": "code",
   "execution_count": 73,
   "id": "d4799431-a1bd-490f-aeb7-c0783510187a",
   "metadata": {},
   "outputs": [
    {
     "name": "stdout",
     "output_type": "stream",
     "text": [
      "(numBouts, numWins, compressed_numStates)\n"
     ]
    }
   ],
   "source": [
    "print('(numBouts, numWins, compressed_numStates)')"
   ]
  },
  {
   "cell_type": "code",
   "execution_count": null,
   "id": "728bfe39-375b-4527-96be-febee37dd039",
   "metadata": {},
   "outputs": [],
   "source": []
  },
  {
   "cell_type": "markdown",
   "id": "fdaa83c1-11e9-4cbb-afbd-b4cd6be245aa",
   "metadata": {},
   "source": [
    "# means across fights and bootstrapping"
   ]
  },
  {
   "cell_type": "code",
   "execution_count": null,
   "id": "b8f0573d-17e7-4384-8fb4-f5298842577c",
   "metadata": {},
   "outputs": [],
   "source": []
  },
  {
   "cell_type": "code",
   "execution_count": 74,
   "id": "a34e1a11-2591-403a-8bc8-3dcdbfcfd0be",
   "metadata": {},
   "outputs": [],
   "source": [
    "# --- compute the means across experiments for each of the 4 regions ----#\n",
    "epoch_across_bout_mean_win_state_probs = []\n",
    "for region_bout_win_state_probs in epoch_list_of_region_bout_combined_win_state_probs:\n",
    "    across_bout_mean = np.mean(region_bout_win_state_probs, axis=0)\n",
    "    epoch_across_bout_mean_win_state_probs.append(across_bout_mean)"
   ]
  },
  {
   "cell_type": "code",
   "execution_count": 75,
   "id": "f4c6a191-ca8f-4d20-8cd9-46f0111d3c82",
   "metadata": {},
   "outputs": [
    {
     "data": {
      "text/plain": [
       "4"
      ]
     },
     "execution_count": 75,
     "metadata": {},
     "output_type": "execute_result"
    }
   ],
   "source": [
    "len(epoch_across_bout_mean_win_state_probs)"
   ]
  },
  {
   "cell_type": "code",
   "execution_count": 76,
   "id": "dce5ba2e-f41d-4af4-a16b-9bd535f4818b",
   "metadata": {},
   "outputs": [
    {
     "data": {
      "text/plain": [
       "(181, 3)"
      ]
     },
     "execution_count": 76,
     "metadata": {},
     "output_type": "execute_result"
    }
   ],
   "source": [
    "epoch_across_bout_mean_win_state_probs[0].shape"
   ]
  },
  {
   "cell_type": "code",
   "execution_count": null,
   "id": "3991b7be-8675-41e6-936b-b90dd7265fa0",
   "metadata": {},
   "outputs": [],
   "source": []
  },
  {
   "cell_type": "code",
   "execution_count": 77,
   "id": "9079ca84-ca63-4067-b1c2-2f8f2c507dad",
   "metadata": {},
   "outputs": [
    {
     "name": "stdout",
     "output_type": "stream",
     "text": [
      "finished  0 0.9894776344299316\n",
      "finished  1 2.0107505321502686\n",
      "finished  2 2.9987847805023193\n",
      "finished  3 3.9923102855682373\n",
      "\n",
      "finished:  3.9928817749023438\n"
     ]
    }
   ],
   "source": [
    "# ---- compute the bootstrapped stddev ---- #\n",
    "\n",
    "\n",
    "# args\n",
    "n_resamples=10000\n",
    "\n",
    "\n",
    "t0 = time.time()\n",
    "\n",
    "\n",
    "epoch_bootstrapped_stdevs = []\n",
    "for epochIdx in range(4):\n",
    "\n",
    "    epoch_data = np.copy(epoch_list_of_region_bout_combined_win_state_probs[epochIdx])\n",
    "\n",
    "    numSamples = epoch_data.shape[0] # number of bouts to bootstrap over\n",
    "\n",
    "    # grab all the bootstrap resampling data\n",
    "    allSamples_mean_epoch_win_state_probs = []\n",
    "    for i in range(n_resamples):\n",
    "\n",
    "        #  get the fight indices for this resample \n",
    "        indices=np.random.choice(range(0,numSamples), numSamples)\n",
    "\n",
    "        # get the sample collection of bout epoch state probs\n",
    "        sample_epoch_win_state_probs = []\n",
    "        for sampBoutIdx in indices:\n",
    "            sample_epoch_win_state_probs.append(epoch_data[sampBoutIdx,:,:])\n",
    "        sample_epoch_win_state_probs = np.stack(sample_epoch_win_state_probs, axis=0)\n",
    "\n",
    "        # get the sample mean, and record\n",
    "        sample_epoch_win_state_probs_mean = np.mean(sample_epoch_win_state_probs, axis=0)\n",
    "        allSamples_mean_epoch_win_state_probs.append(sample_epoch_win_state_probs_mean)\n",
    "    allSamples_mean_epoch_win_state_probs = np.stack(allSamples_mean_epoch_win_state_probs, axis=0)\n",
    "\n",
    "    # get the sdtdev of the bootstrap means\n",
    "    allSamples_stdev = np.std(allSamples_mean_epoch_win_state_probs, axis=0)\n",
    "    epoch_bootstrapped_stdevs.append(allSamples_stdev)\n",
    "\n",
    "    tE = time.time()\n",
    "    print('finished ', epochIdx, tE-t0)\n",
    "    \n",
    "print()\n",
    "tE = time.time()\n",
    "print('finished: ', tE-t0)"
   ]
  },
  {
   "cell_type": "code",
   "execution_count": 78,
   "id": "c894bb5d-12a8-4073-84b3-1a5be91f3cb9",
   "metadata": {},
   "outputs": [
    {
     "data": {
      "text/plain": [
       "4"
      ]
     },
     "execution_count": 78,
     "metadata": {},
     "output_type": "execute_result"
    }
   ],
   "source": [
    "len(epoch_bootstrapped_stdevs)"
   ]
  },
  {
   "cell_type": "code",
   "execution_count": 79,
   "id": "48a3d570-ff86-4410-9e24-6f353c1940cf",
   "metadata": {},
   "outputs": [
    {
     "data": {
      "text/plain": [
       "(181, 3)"
      ]
     },
     "execution_count": 79,
     "metadata": {},
     "output_type": "execute_result"
    }
   ],
   "source": [
    "epoch_bootstrapped_stdevs[0].shape"
   ]
  },
  {
   "cell_type": "code",
   "execution_count": null,
   "id": "f9300c40-bbfc-4081-9d51-85d75e529201",
   "metadata": {},
   "outputs": [],
   "source": []
  },
  {
   "cell_type": "code",
   "execution_count": null,
   "id": "117d82e4-3575-474e-9320-8625ff0c3b73",
   "metadata": {},
   "outputs": [],
   "source": []
  },
  {
   "cell_type": "code",
   "execution_count": null,
   "id": "ba770fee-43b6-4888-87bb-a10d6b11754d",
   "metadata": {},
   "outputs": [],
   "source": []
  },
  {
   "cell_type": "code",
   "execution_count": 80,
   "id": "3d8274b3-93c6-461a-ad43-c71458bac37d",
   "metadata": {},
   "outputs": [
    {
     "name": "stdout",
     "output_type": "stream",
     "text": [
      "(361, 3)\n",
      "(361, 3)\n",
      "\n",
      "(361, 3)\n",
      "(361, 3)\n"
     ]
    }
   ],
   "source": [
    "# --- for plotting purposes, i.e. 2 panels, combine the first two epochs, and combining the last two epochs --- #\n",
    "\n",
    "# Now, when combining epochs they have one common window, so exclude that window from the second epoch\n",
    "# (i.e. when combining prefightstart and postfightstart, they both contain the exact fight start window)\n",
    "\n",
    "start_epoch_mean_win_state_probs = np.concatenate([ epoch_across_bout_mean_win_state_probs[0], \n",
    "                                                   epoch_across_bout_mean_win_state_probs[1][1:,:] ], axis=0)\n",
    "\n",
    "stop_epoch_mean_win_state_probs = np.concatenate([ epoch_across_bout_mean_win_state_probs[2], \n",
    "                                                  epoch_across_bout_mean_win_state_probs[3][1:,:] ], axis=0)\n",
    "\n",
    "start_epoch_stdevs = np.concatenate([ epoch_bootstrapped_stdevs[0], epoch_bootstrapped_stdevs[1][1:,:] ], axis=0)\n",
    "stop_epoch_stdevs = np.concatenate([ epoch_bootstrapped_stdevs[2], epoch_bootstrapped_stdevs[3][1:,:] ], axis=0)\n",
    "\n",
    "\n",
    "combined_numUsedWins = start_epoch_mean_win_state_probs.shape[0]\n",
    "\n",
    "print(start_epoch_mean_win_state_probs.shape)\n",
    "print(stop_epoch_mean_win_state_probs.shape)\n",
    "print()\n",
    "print(start_epoch_stdevs.shape)\n",
    "print(stop_epoch_stdevs.shape)"
   ]
  },
  {
   "cell_type": "code",
   "execution_count": null,
   "id": "face1f05-6f42-42e5-bb39-61cbe4fc7418",
   "metadata": {},
   "outputs": [],
   "source": []
  },
  {
   "cell_type": "code",
   "execution_count": 81,
   "id": "2a302ef5-4b7b-40a1-990e-a65fd82c17c5",
   "metadata": {},
   "outputs": [
    {
     "name": "stdout",
     "output_type": "stream",
     "text": [
      "0 0.39\n",
      "1 0.42\n",
      "2 0.38\n"
     ]
    }
   ],
   "source": [
    "# find the max y vals for both starts and stops for plotting purposes\n",
    "\n",
    "states_y_max = np.zeros((3))\n",
    "states_y_tick_max = np.zeros((3,))\n",
    "for stateIdx in range(3):\n",
    "    start_max = start_epoch_mean_win_state_probs[:, stateIdx] + start_epoch_stdevs[:, stateIdx]\n",
    "    stop_max = stop_epoch_mean_win_state_probs[:, stateIdx] + stop_epoch_stdevs[:, stateIdx]\n",
    "    both_max = np.round( np.max(np.array([start_max, stop_max])), 2)\n",
    "    states_y_max[stateIdx] = both_max*1.2\n",
    "    states_y_tick_max[stateIdx] = both_max\n",
    "    print(stateIdx, both_max)"
   ]
  },
  {
   "cell_type": "code",
   "execution_count": null,
   "id": "ec92ed70-c06d-4310-8926-e5ef14a05086",
   "metadata": {},
   "outputs": [],
   "source": []
  },
  {
   "cell_type": "markdown",
   "id": "b8b906c0-1f75-4760-b6c8-7c7dc584b234",
   "metadata": {},
   "source": [
    "# plotting"
   ]
  },
  {
   "cell_type": "code",
   "execution_count": null,
   "id": "81d68be1-fa99-4f10-a625-29f830114f96",
   "metadata": {},
   "outputs": [],
   "source": []
  },
  {
   "cell_type": "markdown",
   "id": "34e700de-af74-4390-9b58-a5e1416cebd9",
   "metadata": {},
   "source": [
    "## rough plots - left and right"
   ]
  },
  {
   "cell_type": "code",
   "execution_count": null,
   "id": "14d2d674-74dc-4099-83d3-32e231d8fbfe",
   "metadata": {},
   "outputs": [],
   "source": []
  },
  {
   "cell_type": "code",
   "execution_count": 82,
   "id": "1c9e04fb-db39-4420-99d0-a09518799bce",
   "metadata": {},
   "outputs": [
    {
     "data": {
      "application/vnd.jupyter.widget-view+json": {
       "model_id": "ec6e5805f147461b990d83a2c33c99b4",
       "version_major": 2,
       "version_minor": 0
      },
      "text/html": [
       "\n",
       "            <div style=\"display: inline-block;\">\n",
       "                <div class=\"jupyter-widgets widget-label\" style=\"text-align: center;\">\n",
       "                    Figure\n",
       "                </div>\n",
       "                <img src='data:image/png;base64,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' width=600.0/>\n",
       "            </div>\n",
       "        "
      ],
      "text/plain": [
       "Canvas(toolbar=Toolbar(toolitems=[('Home', 'Reset original view', 'home', 'home'), ('Back', 'Back to previous …"
      ]
     },
     "metadata": {},
     "output_type": "display_data"
    }
   ],
   "source": [
    "fig = plt.figure(figsize=(6,6))\n",
    "gs = fig.add_gridspec(nrows=1, ncols=1, hspace=0)\n",
    "axs = gs.subplots(sharex=True, sharey=False)\n",
    "ax = axs\n",
    "\n",
    "# create xvalues for plotting\n",
    "x_vals_frames = np.array( [i*window_step for i in range(combined_numUsedWins)]) \n",
    "\n",
    "\n",
    "# make colors for this\n",
    "combined_colors = ['red', 'blue', 'green']\n",
    "\n",
    "var_names = ['winner maneuvers', 'loser maneuvers', 'display maneuvers']\n",
    "\n",
    "\n",
    "# plot the mean across trials\n",
    "for stateIdx in [0,1,2]:\n",
    "        \n",
    "    # fill between the stdev lines\n",
    "    max_curve = start_epoch_mean_win_state_probs[:, stateIdx] + start_epoch_stdevs[:, stateIdx]\n",
    "    min_curve = start_epoch_mean_win_state_probs[:, stateIdx] - start_epoch_stdevs[:, stateIdx]\n",
    "    ax.fill_between(x_vals_frames, y1=min_curve, y2=max_curve, color=combined_colors[stateIdx], alpha=0.5)\n",
    "\n",
    "    # plot the mean\n",
    "    ax.plot(x_vals_frames, start_epoch_mean_win_state_probs[:, stateIdx], color=combined_colors[stateIdx], linewidth=2,\n",
    "           label=var_names[stateIdx])\n",
    "    \n",
    "    # xticks\n",
    "    xticks = np.array([i*6000 for i in range(int(total_plot_time_mins*2)+1)]) #*2 because of concatenated 2 epochs\n",
    "    xticklabels = [i for i in range(-total_plot_time_mins, total_plot_time_mins+1)]\n",
    "    ax.set_xticks(xticks);\n",
    "    ax.set_xticklabels(xticklabels);\n",
    "    \n",
    "    # plot the dividing line between epochs\n",
    "    ax.axvline(np.mean(x_vals_frames), color='black', linestyle='--')\n",
    "    \n",
    "    # set the yticks\n",
    "    ax.set_yticks([0, states_y_tick_max[stateIdx]])\n",
    "    ax.set_yticklabels([0, states_y_tick_max[stateIdx]])\n",
    "    \n",
    "    # plot limits\n",
    "    ax.set_xlim(x_vals_frames[0], x_vals_frames[-1])\n",
    "    ax.set_ylim(bottom=0, top=states_y_max[stateIdx])\n",
    "    \n",
    "     # axes labels\n",
    "    ax.set_ylabel('probability')\n",
    "        \n",
    "    # tick params\n",
    "    ax.xaxis.set_tick_params(width=2, length=4)\n",
    "    ax.yaxis.set_tick_params(width=2, length=4)\n",
    "    \n",
    "    # make the left and rights thicker for each axis\n",
    "    for axis in ['left','right']:\n",
    "        ax.spines[axis].set_linewidth(2)\n",
    "        \n",
    "    # # turn off all the interior x axes    \n",
    "    # for ii in range(2):\n",
    "    #     axs[ii].spines['bottom'].set_visible(False)\n",
    "    #     axs[ii+1].spines['top'].set_visible(False)\n",
    "        \n",
    "    # set the gridlines\n",
    "    #ax.grid(alpha=0.3)\n",
    "    ax.axhline(y=0, color='grey', alpha=0.3)\n",
    "    ax.axhline(y=states_y_tick_max[stateIdx], color='grey', alpha=0.2)\n",
    "    \n",
    "    ax.legend()\n",
    "\n",
    "    ax.set_title('Fight starts: winsize={0} s'.format(window_size/100))\n",
    "    ax.set_xlabel('time [min]')\n",
    "    \n",
    "fig.tight_layout()"
   ]
  },
  {
   "cell_type": "code",
   "execution_count": null,
   "id": "b3c1ecaa-525d-4e8b-93bf-20b9a17d5677",
   "metadata": {},
   "outputs": [],
   "source": []
  },
  {
   "cell_type": "code",
   "execution_count": 83,
   "id": "23b97351-4a8f-47e4-9039-0be5b3b996dc",
   "metadata": {},
   "outputs": [
    {
     "data": {
      "application/vnd.jupyter.widget-view+json": {
       "model_id": "4953dea824e94e0f99c4deb1a510cb95",
       "version_major": 2,
       "version_minor": 0
      },
      "text/html": [
       "\n",
       "            <div style=\"display: inline-block;\">\n",
       "                <div class=\"jupyter-widgets widget-label\" style=\"text-align: center;\">\n",
       "                    Figure\n",
       "                </div>\n",
       "                <img src='data:image/png;base64,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' width=600.0/>\n",
       "            </div>\n",
       "        "
      ],
      "text/plain": [
       "Canvas(toolbar=Toolbar(toolitems=[('Home', 'Reset original view', 'home', 'home'), ('Back', 'Back to previous …"
      ]
     },
     "metadata": {},
     "output_type": "display_data"
    }
   ],
   "source": [
    "fig = plt.figure(figsize=(6,6))\n",
    "gs = fig.add_gridspec(nrows=1, ncols=1, hspace=0)\n",
    "axs = gs.subplots(sharex=True, sharey=False)\n",
    "ax = axs\n",
    "\n",
    "# create xvalues for plotting\n",
    "x_vals_frames = np.array( [i*window_step for i in range(combined_numUsedWins)]) \n",
    "\n",
    "\n",
    "# make colors for this\n",
    "combined_colors = ['red', 'blue', 'green']\n",
    "\n",
    "var_names = ['winner maneuvers', 'loser maneuvers', 'display maneuvers']\n",
    "\n",
    "\n",
    "# plot the mean across trials\n",
    "for stateIdx in [0,1,2]:\n",
    "        \n",
    "    # fill between the stdev lines\n",
    "    max_curve = stop_epoch_mean_win_state_probs[:, stateIdx] + stop_epoch_stdevs[:, stateIdx]\n",
    "    min_curve = stop_epoch_mean_win_state_probs[:, stateIdx] - stop_epoch_stdevs[:, stateIdx]\n",
    "    ax.fill_between(x_vals_frames, y1=min_curve, y2=max_curve, color=combined_colors[stateIdx], alpha=0.5)\n",
    "\n",
    "    # plot the mean\n",
    "    ax.plot(x_vals_frames, stop_epoch_mean_win_state_probs[:, stateIdx], color=combined_colors[stateIdx], linewidth=2,\n",
    "           label=var_names[stateIdx])\n",
    "    \n",
    "    # xticks\n",
    "    xticks = np.array([i*6000 for i in range(int(total_plot_time_mins*2)+1)]) #*2 because of concatenated 2 epochs\n",
    "    xticklabels = [i for i in range(-total_plot_time_mins, total_plot_time_mins+1)]\n",
    "    ax.set_xticks(xticks);\n",
    "    ax.set_xticklabels(xticklabels);\n",
    "    \n",
    "    # plot the dividing line between epochs\n",
    "    ax.axvline(np.mean(x_vals_frames), color='black', linestyle='--')\n",
    "    \n",
    "    # set the yticks\n",
    "    ax.set_yticks([0, states_y_tick_max[stateIdx]])\n",
    "    ax.set_yticklabels([0, states_y_tick_max[stateIdx]])\n",
    "    \n",
    "    # plot limits\n",
    "    ax.set_xlim(x_vals_frames[0], x_vals_frames[-1])\n",
    "    ax.set_ylim(bottom=0, top=states_y_max[stateIdx])\n",
    "    \n",
    "     # axes labels\n",
    "    ax.set_ylabel('probability')\n",
    "        \n",
    "    # tick params\n",
    "    ax.xaxis.set_tick_params(width=2, length=4)\n",
    "    ax.yaxis.set_tick_params(width=2, length=4)\n",
    "    \n",
    "    # make the left and rights thicker for each axis\n",
    "    for axis in ['left','right']:\n",
    "        ax.spines[axis].set_linewidth(2)\n",
    "        \n",
    "    # # turn off all the interior x axes    \n",
    "    # for ii in range(2):\n",
    "    #     axs[ii].spines['bottom'].set_visible(False)\n",
    "    #     axs[ii+1].spines['top'].set_visible(False)\n",
    "        \n",
    "    # set the gridlines\n",
    "    #ax.grid(alpha=0.3)\n",
    "    ax.axhline(y=0, color='grey', alpha=0.3)\n",
    "    ax.axhline(y=states_y_tick_max[stateIdx], color='grey', alpha=0.2)\n",
    "    \n",
    "    ax.legend()\n",
    "    \n",
    "    ax.set_title('Fight ends: winsize={0} s'.format(window_size/100))\n",
    "    ax.set_xlabel('time [min]')\n",
    "\n",
    "\n",
    "fig.tight_layout()"
   ]
  },
  {
   "cell_type": "code",
   "execution_count": null,
   "id": "6e84415c-668d-474b-bc49-a5b0d7cb7a98",
   "metadata": {},
   "outputs": [],
   "source": []
  },
  {
   "cell_type": "code",
   "execution_count": null,
   "id": "4d7b3064-dbb0-44a3-9db6-fc60f8b8d323",
   "metadata": {},
   "outputs": [],
   "source": []
  },
  {
   "cell_type": "code",
   "execution_count": null,
   "id": "bcff5456-8cf2-415a-88a1-feaf02c88b15",
   "metadata": {},
   "outputs": [],
   "source": []
  },
  {
   "cell_type": "markdown",
   "id": "ec089ea6-ef54-4ead-9031-6fb67e3dad79",
   "metadata": {
    "tags": []
   },
   "source": [
    "## publication version plots - both panels at once"
   ]
  },
  {
   "cell_type": "code",
   "execution_count": 179,
   "id": "3c1eb65d-cb5c-48a6-bfd5-adff5f88e16a",
   "metadata": {},
   "outputs": [
    {
     "data": {
      "application/vnd.jupyter.widget-view+json": {
       "model_id": "0daf4cb98da64ccc90ce4897fbee1dac",
       "version_major": 2,
       "version_minor": 0
      },
      "text/html": [
       "\n",
       "            <div style=\"display: inline-block;\">\n",
       "                <div class=\"jupyter-widgets widget-label\" style=\"text-align: center;\">\n",
       "                    Figure\n",
       "                </div>\n",
       "                <img src='data:image/png;base64,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' width=484.99999999999994/>\n",
       "            </div>\n",
       "        "
      ],
      "text/plain": [
       "Canvas(toolbar=Toolbar(toolitems=[('Home', 'Reset original view', 'home', 'home'), ('Back', 'Back to previous …"
      ]
     },
     "metadata": {},
     "output_type": "display_data"
    }
   ],
   "source": [
    "#imsavepath = '/home/liam/temp/image_transfer/figure7_A_v2.png'\n",
    "\n",
    "fig = plt.figure(figsize=(4.85,1.75))\n",
    "gs = fig.add_gridspec(nrows=1, ncols=2, hspace=0)\n",
    "axs = gs.subplots(sharex=False, sharey=False)\n",
    "ax= axs[0]\n",
    "\n",
    "# create xvalues for plotting\n",
    "x_vals_frames = np.array( [i*window_step for i in range(combined_numUsedWins)]) \n",
    "\n",
    "\n",
    "# plot the mean across trials\n",
    "for stateIdx in [0,1,2]:\n",
    "    \n",
    "    # make the left and rights thicker for each axis\n",
    "    #for axis in ['left','right']:\n",
    "    for axis in ['left', 'right']:\n",
    "        ax.spines[axis].set_linewidth(2)\n",
    "    for axis in ['right']:\n",
    "        ax.spines[axis].set_visible(False)\n",
    "    \n",
    "    # fill between the stdev lines\n",
    "    max_curve = start_epoch_mean_win_state_probs[:, stateIdx] + start_epoch_stdevs[:, stateIdx]\n",
    "    min_curve = start_epoch_mean_win_state_probs[:, stateIdx] - start_epoch_stdevs[:, stateIdx]\n",
    "    ax.fill_between(x_vals_frames, y1=min_curve, y2=max_curve, color=combined_colors[stateIdx], alpha=0.5)\n",
    "\n",
    "    # plot the mean\n",
    "    ax.plot(x_vals_frames, start_epoch_mean_win_state_probs[:, stateIdx], color=combined_colors[stateIdx], linewidth=1)\n",
    "    \n",
    "    # xticks\n",
    "    ax.set_xticks([]);\n",
    "    ax.set_xticklabels([]);\n",
    "    \n",
    "    # plot the dividing line between epochs\n",
    "    ax.axvline(np.mean(x_vals_frames), color='black', linestyle='--')\n",
    "    \n",
    "    # plot limits\n",
    "    ax.set_xlim(x_vals_frames[0], x_vals_frames[-1])\n",
    "    ax.set_ylim(bottom=0, top=states_y_max[stateIdx])\n",
    "    \n",
    "     # axes labels\n",
    "    ax.set_ylabel(all_state_names[stateIdx]+'\\n prob')\n",
    "        \n",
    "    # tick params\n",
    "    ax.xaxis.set_tick_params(width=1, length=4)\n",
    "    ax.yaxis.set_tick_params(width=1, length=4)\n",
    "\n",
    "    # set the gridlines\n",
    "    #ax.grid(alpha=0.3)\n",
    "    #ax.axhline(y=0, color='grey', alpha=0.3)\n",
    "    #ax.axhline(y=states_y_tick_max[stateIdx], color='grey', alpha=0.2)\n",
    "    \n",
    "    ## EXTRAS TURN OFF PLOT ILLUSTRATOR VERSION ####\n",
    "    ax.set_yticklabels([])\n",
    "    ax.set_xticklabels([])\n",
    "    ax.set_xlabel('')\n",
    "    ax.set_ylabel('')\n",
    "\n",
    "# xticks\n",
    "xticks = np.array([i*6000 for i in range(int(total_plot_time_mins*2)+1)]) #*2 because of concatenated 2 epochs\n",
    "xticklabels = [i for i in range(-total_plot_time_mins, total_plot_time_mins+1)]\n",
    "ax.set_xticks(xticks);\n",
    "\n",
    "# set the yticks\n",
    "#yticks = [0, states_y_tick_max[2], states_y_tick_max[3]]\n",
    "#ax.set_yticks(yticks)\n",
    "\n",
    "# set the yticks\n",
    "ax.set_yticks([0, np.max(states_y_tick_max)])\n",
    "\n",
    "#ax.set_yticks(yticks)\n",
    "ax.set_yticklabels('')\n",
    "\n",
    "\n",
    "# make the very top and very bottoms lines thicker\n",
    "#ax = axs[0]\n",
    "for axis in ['top']:\n",
    "    ax.spines[axis].set_linewidth(2)\n",
    "#ax = axs[-1]\n",
    "for axis in ['bottom']:\n",
    "    ax.spines[axis].set_linewidth(2)\n",
    "\n",
    "    \n",
    "    \n",
    "    \n",
    "    \n",
    "    \n",
    "# ---------------------------------------------------------------\n",
    "\n",
    "\n",
    "\n",
    "\n",
    "\n",
    "ax= axs[1]\n",
    "# create xvalues for plotting\n",
    "x_vals_frames = np.array( [i*window_step for i in range(combined_numUsedWins)]) \n",
    "\n",
    "\n",
    "# plot the mean across trials\n",
    "for stateIdx in [0,1,2]:\n",
    "    \n",
    "    # make the left and rights thicker for each axis\n",
    "    #for axis in ['left','right']:\n",
    "    for axis in ['left', 'right']:\n",
    "        ax.spines[axis].set_linewidth(2)\n",
    "    for axis in ['left']:\n",
    "        ax.spines[axis].set_visible(False)\n",
    "    \n",
    "    # fill between the stdev lines\n",
    "    max_curve = stop_epoch_mean_win_state_probs[:, stateIdx] + stop_epoch_stdevs[:, stateIdx]\n",
    "    min_curve = stop_epoch_mean_win_state_probs[:, stateIdx] - stop_epoch_stdevs[:, stateIdx]\n",
    "    ax.fill_between(x_vals_frames, y1=min_curve, y2=max_curve, color=combined_colors[stateIdx], alpha=0.5)\n",
    "\n",
    "    # plot the mean\n",
    "    ax.plot(x_vals_frames, stop_epoch_mean_win_state_probs[:, stateIdx], color=combined_colors[stateIdx], linewidth=1)\n",
    "    \n",
    "    # xticks\n",
    "    ax.set_xticks([]);\n",
    "    ax.set_xticklabels([]);\n",
    "    \n",
    "    # plot the dividing line between epochs\n",
    "    ax.axvline(np.mean(x_vals_frames), color='black', linestyle='--')\n",
    "    \n",
    "    # plot limits\n",
    "    ax.set_xlim(x_vals_frames[0], x_vals_frames[-1])\n",
    "    ax.set_ylim(bottom=0, top=states_y_max[stateIdx])\n",
    "    \n",
    "     # axes labels\n",
    "    ax.set_ylabel(all_state_names[stateIdx]+'\\n prob')\n",
    "        \n",
    "    # tick params\n",
    "    ax.xaxis.set_tick_params(width=1, length=4)\n",
    "    ax.yaxis.set_tick_params(width=0, length=4)\n",
    "\n",
    "    # set the gridlines\n",
    "    #ax.grid(alpha=0.3)\n",
    "    #ax.axhline(y=0, color='grey', alpha=0.3)\n",
    "    #ax.axhline(y=states_y_tick_max[stateIdx], color='grey', alpha=0.2)\n",
    "    \n",
    "    ## EXTRAS TURN OFF PLOT ILLUSTRATOR VERSION ####\n",
    "    ax.set_yticklabels([])\n",
    "    ax.set_xticklabels([])\n",
    "    ax.set_xlabel('')\n",
    "    ax.set_ylabel('')\n",
    "\n",
    "# xticks\n",
    "xticks = np.array([i*6000 for i in range(int(total_plot_time_mins*2)+1)]) #*2 because of concatenated 2 epochs\n",
    "xticklabels = [i for i in range(-total_plot_time_mins, total_plot_time_mins+1)]\n",
    "ax.set_xticks(xticks);\n",
    "\n",
    "# set the yticks\n",
    "#yticks = [0, states_y_tick_max[2], states_y_tick_max[3]]\n",
    "#ax.set_yticks(yticks)\n",
    "\n",
    "# set the yticks\n",
    "ax.set_yticks([0, np.max(states_y_tick_max)])\n",
    "ax.set_yticklabels([0, states_y_tick_max[stateIdx]])\n",
    "\n",
    "#ax.set_yticks(yticks)\n",
    "ax.set_yticklabels('')\n",
    "\n",
    "\n",
    "# make the very top and very bottoms lines thicker\n",
    "#ax = axs[0]\n",
    "for axis in ['top']:\n",
    "    ax.spines[axis].set_linewidth(2)\n",
    "#ax = axs[-1]\n",
    "for axis in ['bottom']:\n",
    "    ax.spines[axis].set_linewidth(2)\n",
    "    \n",
    "    \n",
    "    \n",
    "    \n",
    "    \n",
    "    \n",
    "\n",
    "\n",
    "\n",
    "# ----------------------------#\n",
    "fig.tight_layout()\n",
    "#fig.savefig(imsavepath, dpi=300, transparent=False)"
   ]
  },
  {
   "cell_type": "code",
   "execution_count": null,
   "id": "941ec6a8-58b0-437d-86fd-810bfc914fc5",
   "metadata": {},
   "outputs": [],
   "source": []
  },
  {
   "cell_type": "markdown",
   "id": "8dd499de-b645-4938-bcd2-0f4084c6ed61",
   "metadata": {
    "tags": []
   },
   "source": [
    "## publication version - split (Fig 7)"
   ]
  },
  {
   "cell_type": "code",
   "execution_count": null,
   "id": "0fdcfdff-40a7-45d5-b497-df89ba0fa6f8",
   "metadata": {},
   "outputs": [],
   "source": []
  },
  {
   "cell_type": "code",
   "execution_count": 41,
   "id": "54f3a322-e734-4c72-9a2e-d44af97d0397",
   "metadata": {},
   "outputs": [
    {
     "data": {
      "application/vnd.jupyter.widget-view+json": {
       "model_id": "0de723f40bf541f9a9a0fa6b90751d75",
       "version_major": 2,
       "version_minor": 0
      },
      "text/html": [
       "\n",
       "            <div style=\"display: inline-block;\">\n",
       "                <div class=\"jupyter-widgets widget-label\" style=\"text-align: center;\">\n",
       "                    Figure\n",
       "                </div>\n",
       "                <img src='data:image/png;base64,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' width=285.0/>\n",
       "            </div>\n",
       "        "
      ],
      "text/plain": [
       "Canvas(toolbar=Toolbar(toolitems=[('Home', 'Reset original view', 'home', 'home'), ('Back', 'Back to previous …"
      ]
     },
     "metadata": {},
     "output_type": "display_data"
    }
   ],
   "source": [
    "imsavepath = '/home/liam/temp/image_transfer/figure6_A_starts.png'\n",
    "\n",
    "fig = plt.figure(figsize=(2.85,1.75))\n",
    "gs = fig.add_gridspec(nrows=1, ncols=1, hspace=0)\n",
    "axs = gs.subplots(sharex=False, sharey=False)\n",
    "ax= axs\n",
    "\n",
    "# create xvalues for plotting\n",
    "x_vals_frames = np.array( [i*window_step for i in range(combined_numUsedWins)]) \n",
    "\n",
    "\n",
    "# plot the mean across trials\n",
    "for stateIdx in [0,1,2]:\n",
    "    \n",
    "    # make the left and rights thicker for each axis\n",
    "    #for axis in ['left','right']:\n",
    "    for axis in ['left', 'right']:\n",
    "        ax.spines[axis].set_linewidth(2)\n",
    "    for axis in ['right']:\n",
    "        ax.spines[axis].set_visible(False)\n",
    "    \n",
    "    # fill between the stdev lines\n",
    "    max_curve = start_epoch_mean_win_state_probs[:, stateIdx] + start_epoch_stdevs[:, stateIdx]\n",
    "    min_curve = start_epoch_mean_win_state_probs[:, stateIdx] - start_epoch_stdevs[:, stateIdx]\n",
    "    ax.fill_between(x_vals_frames, y1=min_curve, y2=max_curve, color=combined_colors[stateIdx], alpha=0.5)\n",
    "\n",
    "    # plot the mean\n",
    "    ax.plot(x_vals_frames, start_epoch_mean_win_state_probs[:, stateIdx], color=combined_colors[stateIdx], linewidth=1)\n",
    "    \n",
    "    # xticks\n",
    "    ax.set_xticks([]);\n",
    "    ax.set_xticklabels([]);\n",
    "    \n",
    "    # plot the dividing line between epochs\n",
    "    ax.axvline(np.mean(x_vals_frames), color='black', linestyle='--')\n",
    "    \n",
    "    # plot limits\n",
    "    ax.set_xlim(x_vals_frames[0], x_vals_frames[-1])\n",
    "    #ax.set_ylim(bottom=0, top=states_y_max[stateIdx])\n",
    "    \n",
    "     # axes labels\n",
    "    ax.set_ylabel(all_state_names[stateIdx]+'\\n prob')\n",
    "        \n",
    "    # tick params\n",
    "    ax.xaxis.set_tick_params(width=1, length=4)\n",
    "    ax.yaxis.set_tick_params(width=1, length=4)\n",
    "\n",
    "    # set the gridlines\n",
    "    #ax.grid(alpha=0.3)\n",
    "    #ax.axhline(y=0, color='grey', alpha=0.3)\n",
    "    #ax.axhline(y=states_y_tick_max[stateIdx], color='grey', alpha=0.2)\n",
    "    \n",
    "    ## EXTRAS TURN OFF PLOT ILLUSTRATOR VERSION ####\n",
    "    ax.set_yticklabels([])\n",
    "    ax.set_xticklabels([])\n",
    "    ax.set_xlabel('')\n",
    "    ax.set_ylabel('')\n",
    "    \n",
    "    \n",
    "\n",
    "\n",
    "    \n",
    "# ----------------------------------------------------#\n",
    "\n",
    "# xticks\n",
    "xticks = np.array([i*6000 for i in range(int(total_plot_time_mins*2)+1)]) #*2 because of concatenated 2 epochs\n",
    "xticklabels = [i for i in range(-total_plot_time_mins, total_plot_time_mins+1)]\n",
    "ax.set_xticks(xticks);\n",
    "\n",
    "# set the yticks\n",
    "#yticks = [0, states_y_tick_max[2], states_y_tick_max[3]]\n",
    "#ax.set_yticks(yticks)\n",
    "\n",
    "# set the yticks\n",
    "ax.set_ylim(bottom=0, top=np.max(states_y_max))\n",
    "ax.set_yticks([0, np.max(states_y_max)])\n",
    "\n",
    "#ax.set_yticks(yticks)\n",
    "ax.set_yticklabels('')\n",
    "\n",
    "\n",
    "# make the very top and very bottoms lines thicker\n",
    "#ax = axs[0]\n",
    "for axis in ['top']:\n",
    "    ax.spines[axis].set_linewidth(2)\n",
    "#ax = axs[-1]\n",
    "for axis in ['bottom']:\n",
    "    ax.spines[axis].set_linewidth(2)\n",
    "\n",
    "\n",
    "\n",
    "\n",
    "# ----------------------------#\n",
    "fig.tight_layout()\n",
    "fig.savefig(imsavepath, dpi=300, transparent=False)"
   ]
  },
  {
   "cell_type": "code",
   "execution_count": 42,
   "id": "8a4b1049-6057-4759-94ad-3363e372992e",
   "metadata": {},
   "outputs": [
    {
     "data": {
      "text/plain": [
       "0.42"
      ]
     },
     "execution_count": 42,
     "metadata": {},
     "output_type": "execute_result"
    }
   ],
   "source": [
    "np.max(states_y_tick_max)"
   ]
  },
  {
   "cell_type": "code",
   "execution_count": 43,
   "id": "2719e52a-67b9-45f0-986f-6b309abe9395",
   "metadata": {},
   "outputs": [
    {
     "data": {
      "text/plain": [
       "array([0.39, 0.42, 0.38])"
      ]
     },
     "execution_count": 43,
     "metadata": {},
     "output_type": "execute_result"
    }
   ],
   "source": [
    "states_y_tick_max"
   ]
  },
  {
   "cell_type": "code",
   "execution_count": 44,
   "id": "0f70114a-8188-4d15-b334-bc93737d968a",
   "metadata": {},
   "outputs": [
    {
     "data": {
      "text/plain": [
       "array([0.468, 0.504, 0.456])"
      ]
     },
     "execution_count": 44,
     "metadata": {},
     "output_type": "execute_result"
    }
   ],
   "source": [
    "states_y_max"
   ]
  },
  {
   "cell_type": "code",
   "execution_count": null,
   "id": "f8eba9f4-830f-47f1-990c-f725197e00e2",
   "metadata": {},
   "outputs": [],
   "source": []
  },
  {
   "cell_type": "code",
   "execution_count": 45,
   "id": "45526f72-24a3-4efe-81d4-6718d1e3ad61",
   "metadata": {},
   "outputs": [
    {
     "data": {
      "application/vnd.jupyter.widget-view+json": {
       "model_id": "2aad77e71c7647e2804182890c05026d",
       "version_major": 2,
       "version_minor": 0
      },
      "text/html": [
       "\n",
       "            <div style=\"display: inline-block;\">\n",
       "                <div class=\"jupyter-widgets widget-label\" style=\"text-align: center;\">\n",
       "                    Figure\n",
       "                </div>\n",
       "                <img src='data:image/png;base64,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' width=180.0/>\n",
       "            </div>\n",
       "        "
      ],
      "text/plain": [
       "Canvas(toolbar=Toolbar(toolitems=[('Home', 'Reset original view', 'home', 'home'), ('Back', 'Back to previous …"
      ]
     },
     "metadata": {},
     "output_type": "display_data"
    }
   ],
   "source": [
    "imsavepath = '/home/liam/temp/image_transfer/figure6_A_stops.png'\n",
    "\n",
    "fig = plt.figure(figsize=(2.85,1.75))\n",
    "gs = fig.add_gridspec(nrows=1, ncols=1, hspace=0)\n",
    "axs = gs.subplots(sharex=False, sharey=False)\n",
    "ax= axs\n",
    "\n",
    "# create xvalues for plotting\n",
    "x_vals_frames = np.array( [i*window_step for i in range(combined_numUsedWins)]) \n",
    "\n",
    "\n",
    "# plot the mean across trials\n",
    "for stateIdx in [0,1,2]:\n",
    "    \n",
    "    # make the left and rights thicker for each axis\n",
    "    #for axis in ['left','right']:\n",
    "    for axis in ['left', 'right']:\n",
    "        ax.spines[axis].set_linewidth(2)\n",
    "    for axis in ['left']:\n",
    "        ax.spines[axis].set_visible(False)\n",
    "    \n",
    "    # fill between the stdev lines\n",
    "    max_curve = stop_epoch_mean_win_state_probs[:, stateIdx] + stop_epoch_stdevs[:, stateIdx]\n",
    "    min_curve = stop_epoch_mean_win_state_probs[:, stateIdx] - stop_epoch_stdevs[:, stateIdx]\n",
    "    ax.fill_between(x_vals_frames, y1=min_curve, y2=max_curve, color=combined_colors[stateIdx], alpha=0.5)\n",
    "\n",
    "    # plot the mean\n",
    "    ax.plot(x_vals_frames, stop_epoch_mean_win_state_probs[:, stateIdx], color=combined_colors[stateIdx], linewidth=1)\n",
    "    \n",
    "    # xticks\n",
    "    ax.set_xticks([]);\n",
    "    ax.set_xticklabels([]);\n",
    "    \n",
    "    # plot the dividing line between epochs\n",
    "    ax.axvline(np.mean(x_vals_frames), color='black', linestyle='--')\n",
    "    \n",
    "    # plot limits\n",
    "    ax.set_xlim(x_vals_frames[0], x_vals_frames[-1])\n",
    "    ax.set_ylim(bottom=0, top=states_y_max[stateIdx])\n",
    "    \n",
    "     # axes labels\n",
    "    ax.set_ylabel(all_state_names[stateIdx]+'\\n prob')\n",
    "        \n",
    "    # tick params\n",
    "    ax.xaxis.set_tick_params(width=1, length=4)\n",
    "    ax.yaxis.set_tick_params(width=0, length=4)\n",
    "\n",
    "    # set the gridlines\n",
    "    #ax.grid(alpha=0.3)\n",
    "    #ax.axhline(y=0, color='grey', alpha=0.3)\n",
    "    #ax.axhline(y=states_y_tick_max[stateIdx], color='grey', alpha=0.2)\n",
    "    \n",
    "    ## EXTRAS TURN OFF PLOT ILLUSTRATOR VERSION ####\n",
    "    ax.set_yticklabels([])\n",
    "    ax.set_xticklabels([])\n",
    "    ax.set_xlabel('')\n",
    "    ax.set_ylabel('')\n",
    "    \n",
    "    \n",
    "\n",
    "\n",
    "    \n",
    "# ----------------------------------------------------#\n",
    "\n",
    "# xticks\n",
    "xticks = np.array([i*6000 for i in range(int(total_plot_time_mins*2)+1)]) #*2 because of concatenated 2 epochs\n",
    "xticklabels = [i for i in range(-total_plot_time_mins, total_plot_time_mins+1)]\n",
    "ax.set_xticks(xticks);\n",
    "\n",
    "# set the yticks\n",
    "#yticks = [0, states_y_tick_max[2], states_y_tick_max[3]]\n",
    "#ax.set_yticks(yticks)\n",
    "\n",
    "# set the yticks\n",
    "ax.set_ylim(bottom=0, top=np.max(states_y_max))\n",
    "ax.set_yticks([0, np.max(states_y_max)])\n",
    "\n",
    "#ax.set_yticks(yticks)\n",
    "ax.set_yticklabels('')\n",
    "\n",
    "\n",
    "# make the very top and very bottoms lines thicker\n",
    "#ax = axs[0]\n",
    "for axis in ['top']:\n",
    "    ax.spines[axis].set_linewidth(2)\n",
    "#ax = axs[-1]\n",
    "for axis in ['bottom']:\n",
    "    ax.spines[axis].set_linewidth(2)\n",
    "\n",
    "\n",
    "\n",
    "\n",
    "# ----------------------------#\n",
    "fig.tight_layout()\n",
    "fig.savefig(imsavepath, dpi=300, transparent=False)"
   ]
  },
  {
   "cell_type": "code",
   "execution_count": 46,
   "id": "c6b81281-c24f-42fa-81b0-b239176353fd",
   "metadata": {},
   "outputs": [
    {
     "data": {
      "text/plain": [
       "0.504"
      ]
     },
     "execution_count": 46,
     "metadata": {},
     "output_type": "execute_result"
    }
   ],
   "source": [
    "np.max(states_y_max)"
   ]
  },
  {
   "cell_type": "code",
   "execution_count": null,
   "id": "772fa996-5f5e-4247-ac61-ccc5039cdd5b",
   "metadata": {},
   "outputs": [],
   "source": []
  },
  {
   "cell_type": "code",
   "execution_count": null,
   "id": "241ddd58-9316-4393-b6a2-0209012b1391",
   "metadata": {},
   "outputs": [],
   "source": []
  },
  {
   "cell_type": "markdown",
   "id": "27bbae06-2435-4ab2-9a64-4dcd9e29f283",
   "metadata": {},
   "source": [
    "## resized publication versions"
   ]
  },
  {
   "cell_type": "code",
   "execution_count": null,
   "id": "8fa599bf-0a26-4647-a1fb-9f3b8a303764",
   "metadata": {},
   "outputs": [],
   "source": []
  },
  {
   "cell_type": "code",
   "execution_count": null,
   "id": "7917f946-1e01-4b8c-ac2a-cf0ddcb1c20c",
   "metadata": {},
   "outputs": [],
   "source": []
  },
  {
   "cell_type": "code",
   "execution_count": 84,
   "id": "70c8a289-ff8d-49a6-83b0-32947bc517eb",
   "metadata": {},
   "outputs": [
    {
     "data": {
      "application/vnd.jupyter.widget-view+json": {
       "model_id": "f79a0e3c02254d15b73f6fcad01222f0",
       "version_major": 2,
       "version_minor": 0
      },
      "text/html": [
       "\n",
       "            <div style=\"display: inline-block;\">\n",
       "                <div class=\"jupyter-widgets widget-label\" style=\"text-align: center;\">\n",
       "                    Figure\n",
       "                </div>\n",
       "                <img src='data:image/png;base64,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' width=185.0/>\n",
       "            </div>\n",
       "        "
      ],
      "text/plain": [
       "Canvas(toolbar=Toolbar(toolitems=[('Home', 'Reset original view', 'home', 'home'), ('Back', 'Back to previous …"
      ]
     },
     "metadata": {},
     "output_type": "display_data"
    }
   ],
   "source": [
    "imsavepath = '/home/liam/temp/image_transfer/figure6_B_starts.png'\n",
    "\n",
    "fig = plt.figure(figsize=(1.85, 1))\n",
    "gs = fig.add_gridspec(nrows=1, ncols=1, hspace=0)\n",
    "axs = gs.subplots(sharex=False, sharey=False)\n",
    "ax= axs\n",
    "\n",
    "# create xvalues for plotting\n",
    "x_vals_frames = np.array( [i*window_step for i in range(combined_numUsedWins)]) \n",
    "\n",
    "\n",
    "# plot the mean across trials\n",
    "for stateIdx in [0,1,2]:\n",
    "    \n",
    "    # make the left and rights thicker for each axis\n",
    "    #for axis in ['left','right']:\n",
    "    for axis in ['left', 'right']:\n",
    "        ax.spines[axis].set_linewidth(0.9)\n",
    "    for axis in ['right']:\n",
    "        ax.spines[axis].set_visible(False)\n",
    "    \n",
    "    # fill between the stdev lines\n",
    "    max_curve = start_epoch_mean_win_state_probs[:, stateIdx] + start_epoch_stdevs[:, stateIdx]\n",
    "    min_curve = start_epoch_mean_win_state_probs[:, stateIdx] - start_epoch_stdevs[:, stateIdx]\n",
    "    ax.fill_between(x_vals_frames, y1=min_curve, y2=max_curve, color=combined_colors[stateIdx], alpha=0.5)\n",
    "\n",
    "    # plot the mean\n",
    "    ax.plot(x_vals_frames, start_epoch_mean_win_state_probs[:, stateIdx], color=combined_colors[stateIdx], linewidth=0.9)\n",
    "    \n",
    "    # xticks\n",
    "    ax.set_xticks([]);\n",
    "    ax.set_xticklabels([]);\n",
    "    \n",
    "    # plot the dividing line between epochs\n",
    "    ax.axvline(np.mean(x_vals_frames), color='black',  linewidth=0.9, linestyle='--')\n",
    "    \n",
    "    # plot limits\n",
    "    ax.set_xlim(x_vals_frames[0], x_vals_frames[-1])\n",
    "    #ax.set_ylim(bottom=0, top=states_y_max[stateIdx])\n",
    "    \n",
    "     # axes labels\n",
    "    ax.set_ylabel(all_state_names[stateIdx]+'\\n prob')\n",
    "        \n",
    "    # tick params\n",
    "    ax.xaxis.set_tick_params(width=1, length=2)\n",
    "    ax.yaxis.set_tick_params(width=1, length=2)\n",
    "\n",
    "    # set the gridlines\n",
    "    #ax.grid(alpha=0.3)\n",
    "    #ax.axhline(y=0, color='grey', alpha=0.3)\n",
    "    #ax.axhline(y=states_y_tick_max[stateIdx], color='grey', alpha=0.2)\n",
    "    \n",
    "    ## EXTRAS TURN OFF PLOT ILLUSTRATOR VERSION ####\n",
    "    ax.set_yticklabels([])\n",
    "    ax.set_xticklabels([])\n",
    "    ax.set_xlabel('')\n",
    "    ax.set_ylabel('')\n",
    "    \n",
    "    \n",
    "\n",
    "\n",
    "    \n",
    "# ----------------------------------------------------#\n",
    "\n",
    "# xticks\n",
    "xticks = np.array([i*6000 for i in range(int(total_plot_time_mins*2)+1)]) #*2 because of concatenated 2 epochs\n",
    "xticklabels = [i for i in range(-total_plot_time_mins, total_plot_time_mins+1)]\n",
    "ax.set_xticks(xticks);\n",
    "\n",
    "# set the yticks\n",
    "#yticks = [0, states_y_tick_max[2], states_y_tick_max[3]]\n",
    "#ax.set_yticks(yticks)\n",
    "\n",
    "# set the yticks\n",
    "ax.set_ylim(bottom=0, top=np.max(states_y_max))\n",
    "ax.set_yticks([0, np.max(states_y_max)])\n",
    "\n",
    "#ax.set_yticks(yticks)\n",
    "ax.set_yticklabels('')\n",
    "\n",
    "fig.savefig(imsavepath, dpi=1200, transparent=True)"
   ]
  },
  {
   "cell_type": "code",
   "execution_count": 85,
   "id": "aa64acc2-98d7-4d1b-b82f-fd4f1b796086",
   "metadata": {},
   "outputs": [
    {
     "data": {
      "text/plain": [
       "0.42"
      ]
     },
     "execution_count": 85,
     "metadata": {},
     "output_type": "execute_result"
    }
   ],
   "source": [
    "np.max(states_y_tick_max)"
   ]
  },
  {
   "cell_type": "code",
   "execution_count": 86,
   "id": "c31d05d1-0f9d-454d-b389-b680b4e7273e",
   "metadata": {},
   "outputs": [
    {
     "data": {
      "text/plain": [
       "array([0.39, 0.42, 0.38])"
      ]
     },
     "execution_count": 86,
     "metadata": {},
     "output_type": "execute_result"
    }
   ],
   "source": [
    "states_y_tick_max"
   ]
  },
  {
   "cell_type": "code",
   "execution_count": 87,
   "id": "ca60a459-cd3b-410f-a0be-16c0a3fb926e",
   "metadata": {},
   "outputs": [
    {
     "data": {
      "text/plain": [
       "array([0.468, 0.504, 0.456])"
      ]
     },
     "execution_count": 87,
     "metadata": {},
     "output_type": "execute_result"
    }
   ],
   "source": [
    "states_y_max"
   ]
  },
  {
   "cell_type": "code",
   "execution_count": null,
   "id": "2c14760f-8c26-4e4d-94d7-0bd2920b2f6c",
   "metadata": {},
   "outputs": [],
   "source": []
  },
  {
   "cell_type": "code",
   "execution_count": 88,
   "id": "2012d179-a10a-483a-86e5-29d665603136",
   "metadata": {},
   "outputs": [
    {
     "data": {
      "application/vnd.jupyter.widget-view+json": {
       "model_id": "cb1948635488446c9bf8385e3c4ef1c3",
       "version_major": 2,
       "version_minor": 0
      },
      "text/html": [
       "\n",
       "            <div style=\"display: inline-block;\">\n",
       "                <div class=\"jupyter-widgets widget-label\" style=\"text-align: center;\">\n",
       "                    Figure\n",
       "                </div>\n",
       "                <img src='data:image/png;base64,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' width=185.0/>\n",
       "            </div>\n",
       "        "
      ],
      "text/plain": [
       "Canvas(toolbar=Toolbar(toolitems=[('Home', 'Reset original view', 'home', 'home'), ('Back', 'Back to previous …"
      ]
     },
     "metadata": {},
     "output_type": "display_data"
    }
   ],
   "source": [
    "imsavepath = '/home/liam/temp/image_transfer/figure6_B_stops.png'\n",
    "\n",
    "fig = plt.figure(figsize=(1.85, 1))\n",
    "gs = fig.add_gridspec(nrows=1, ncols=1, hspace=0)\n",
    "axs = gs.subplots(sharex=False, sharey=False)\n",
    "ax= axs\n",
    "\n",
    "# create xvalues for plotting\n",
    "x_vals_frames = np.array( [i*window_step for i in range(combined_numUsedWins)]) \n",
    "\n",
    "\n",
    "# plot the mean across trials\n",
    "for stateIdx in [0,1,2]:\n",
    "    \n",
    "    # make the left and rights thicker for each axis\n",
    "    #for axis in ['left','right']:\n",
    "    for axis in ['left', 'right']:\n",
    "        ax.spines[axis].set_linewidth(0.9)\n",
    "    for axis in ['left']:\n",
    "        ax.spines[axis].set_visible(False)\n",
    "    \n",
    "    # fill between the stdev lines\n",
    "    max_curve = stop_epoch_mean_win_state_probs[:, stateIdx] + stop_epoch_stdevs[:, stateIdx]\n",
    "    min_curve = stop_epoch_mean_win_state_probs[:, stateIdx] - stop_epoch_stdevs[:, stateIdx]\n",
    "    ax.fill_between(x_vals_frames, y1=min_curve, y2=max_curve, color=combined_colors[stateIdx], alpha=0.5)\n",
    "\n",
    "    # plot the mean\n",
    "    ax.plot(x_vals_frames, stop_epoch_mean_win_state_probs[:, stateIdx], color=combined_colors[stateIdx], linewidth=0.9)\n",
    "    \n",
    "    # xticks\n",
    "    ax.set_xticks([]);\n",
    "    ax.set_xticklabels([]);\n",
    "    \n",
    "    # plot the dividing line between epochs\n",
    "    ax.axvline(np.mean(x_vals_frames), linewidth=0.9, color='black', linestyle='--')\n",
    "    \n",
    "    # plot limits\n",
    "    ax.set_xlim(x_vals_frames[0], x_vals_frames[-1])\n",
    "    ax.set_ylim(bottom=0, top=states_y_max[stateIdx])\n",
    "    \n",
    "     # axes labels\n",
    "    ax.set_ylabel(all_state_names[stateIdx]+'\\n prob')\n",
    "        \n",
    "    # tick params\n",
    "    ax.xaxis.set_tick_params(width=1, length=2)\n",
    "    ax.yaxis.set_tick_params(width=0, length=2)\n",
    "\n",
    "    # set the gridlines\n",
    "    #ax.grid(alpha=0.3)\n",
    "    #ax.axhline(y=0, color='grey', alpha=0.3)\n",
    "    #ax.axhline(y=states_y_tick_max[stateIdx], color='grey', alpha=0.2)\n",
    "    \n",
    "    ## EXTRAS TURN OFF PLOT ILLUSTRATOR VERSION ####\n",
    "    ax.set_yticklabels([])\n",
    "    ax.set_xticklabels([])\n",
    "    ax.set_xlabel('')\n",
    "    ax.set_ylabel('')\n",
    "    \n",
    "    \n",
    "\n",
    "\n",
    "    \n",
    "# ----------------------------------------------------#\n",
    "\n",
    "# xticks\n",
    "xticks = np.array([i*6000 for i in range(int(total_plot_time_mins*2)+1)]) #*2 because of concatenated 2 epochs\n",
    "xticklabels = [i for i in range(-total_plot_time_mins, total_plot_time_mins+1)]\n",
    "ax.set_xticks(xticks);\n",
    "\n",
    "# set the yticks\n",
    "ax.set_ylim(bottom=0, top=np.max(states_y_max))\n",
    "ax.set_yticks([0, np.max(states_y_max)])\n",
    "\n",
    "#ax.set_yticks(yticks)\n",
    "ax.set_yticklabels('')\n",
    "\n",
    "fig.savefig(imsavepath, dpi=1200, transparent=True)"
   ]
  },
  {
   "cell_type": "code",
   "execution_count": 89,
   "id": "b1494cc2-b5e2-4bf0-8032-88b444075d3d",
   "metadata": {},
   "outputs": [
    {
     "data": {
      "text/plain": [
       "0.504"
      ]
     },
     "execution_count": 89,
     "metadata": {},
     "output_type": "execute_result"
    }
   ],
   "source": [
    "np.max(states_y_max)"
   ]
  },
  {
   "cell_type": "code",
   "execution_count": null,
   "id": "f83a93dc-27b6-4f26-9f26-393c21e9c988",
   "metadata": {},
   "outputs": [],
   "source": []
  },
  {
   "cell_type": "code",
   "execution_count": null,
   "id": "eb956f0e-5de2-42cf-801c-0781b4ecdcfc",
   "metadata": {},
   "outputs": [],
   "source": []
  },
  {
   "cell_type": "code",
   "execution_count": null,
   "id": "ba950d6c-e133-4a49-85c3-59742ddcd6aa",
   "metadata": {},
   "outputs": [],
   "source": []
  },
  {
   "cell_type": "code",
   "execution_count": null,
   "id": "af5e866c-be34-4308-b156-5cc3f0ba6f46",
   "metadata": {},
   "outputs": [],
   "source": []
  },
  {
   "cell_type": "code",
   "execution_count": null,
   "id": "9daae929-91e3-43f2-8052-3c37006bcef5",
   "metadata": {},
   "outputs": [],
   "source": []
  },
  {
   "cell_type": "code",
   "execution_count": null,
   "id": "e1ae9085-417d-48de-949a-098677fe1ca2",
   "metadata": {},
   "outputs": [],
   "source": []
  }
 ],
 "metadata": {
  "kernelspec": {
   "display_name": "analysis",
   "language": "python",
   "name": "analysis"
  },
  "language_info": {
   "codemirror_mode": {
    "name": "ipython",
    "version": 3
   },
   "file_extension": ".py",
   "mimetype": "text/x-python",
   "name": "python",
   "nbconvert_exporter": "python",
   "pygments_lexer": "ipython3",
   "version": "3.9.7"
  }
 },
 "nbformat": 4,
 "nbformat_minor": 5
}

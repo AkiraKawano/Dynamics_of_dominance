{
 "cells": [
  {
   "cell_type": "code",
   "execution_count": null,
   "id": "8dce474b-ff82-45f8-8d31-601d5e217bf3",
   "metadata": {},
   "outputs": [],
   "source": []
  },
  {
   "cell_type": "code",
   "execution_count": null,
   "id": "3e91f8af-6e77-47c7-9c61-b80df90ef29e",
   "metadata": {},
   "outputs": [],
   "source": []
  },
  {
   "cell_type": "markdown",
   "id": "00deff3c-6f6f-4584-8151-1f069b0ae957",
   "metadata": {},
   "source": [
    "# Notes"
   ]
  },
  {
   "cell_type": "code",
   "execution_count": null,
   "id": "da4dca35-5fa6-4146-a434-25ef59e6192e",
   "metadata": {},
   "outputs": [],
   "source": []
  },
  {
   "cell_type": "code",
   "execution_count": null,
   "id": "93164394",
   "metadata": {},
   "outputs": [],
   "source": []
  },
  {
   "cell_type": "code",
   "execution_count": null,
   "id": "f47abab5-a698-41ee-8d58-d13cd72fc59c",
   "metadata": {},
   "outputs": [],
   "source": []
  },
  {
   "cell_type": "markdown",
   "id": "a096c673-053a-4dfa-a7da-eb8c8896e2a4",
   "metadata": {},
   "source": [
    "# Imports"
   ]
  },
  {
   "cell_type": "code",
   "execution_count": 53,
   "id": "0ffc9353-7621-4809-8238-000f55235c2a",
   "metadata": {},
   "outputs": [
    {
     "name": "stdout",
     "output_type": "stream",
     "text": [
      "The autoreload extension is already loaded. To reload it, use:\n",
      "  %reload_ext autoreload\n"
     ]
    }
   ],
   "source": [
    "import numpy as np\n",
    "np.set_printoptions(suppress=True)\n",
    "import h5py\n",
    "import time\n",
    "import glob\n",
    "import pandas as pd\n",
    "import matplotlib.pyplot as plt\n",
    "import matplotlib.patches as mpatches\n",
    "from scipy.spatial import distance\n",
    "import seaborn as sns\n",
    "import os\n",
    "import sys\n",
    "%matplotlib widget\n",
    "%load_ext autoreload\n",
    "%autoreload 2\n",
    "\n",
    "# --- import functions for computing kinematic variables --- #\n",
    "sys.path.append('../tracking_code/lib/')\n",
    "sys.path.append('./lib/')\n",
    "\n",
    "from kinematics import compute_pec_pec_distance, compute_thetaW_and_thetaL\n",
    "from kinematics import compute_signed_pec_z_difference, compute_phi_dot_from_raw_trajectories, compute_coordinate_origin_z\n",
    "from post_processing import contiguous_regions\n",
    "from windowed_prob_utils import return_overlapping_windows_for_timeframes, compute_windowed_distribution_array_from_1D_tseries\n",
    "from windowed_prob_utils import get_fightbout_rectangle_info\n"
   ]
  },
  {
   "cell_type": "code",
   "execution_count": null,
   "id": "038d254d-0e40-468f-8d2f-20a16e5a2340",
   "metadata": {},
   "outputs": [],
   "source": []
  },
  {
   "cell_type": "code",
   "execution_count": null,
   "id": "f8c2c67d-d0a5-4306-a8de-123246dd396a",
   "metadata": {},
   "outputs": [],
   "source": []
  },
  {
   "cell_type": "markdown",
   "id": "352db5df-32d2-448c-951e-c182e697976b",
   "metadata": {},
   "source": [
    "# load the tracking data"
   ]
  },
  {
   "cell_type": "code",
   "execution_count": null,
   "id": "a801f802-708e-46ad-b624-f54528e9ba60",
   "metadata": {},
   "outputs": [],
   "source": []
  },
  {
   "cell_type": "code",
   "execution_count": 4,
   "id": "1a230372-ee0f-4866-8599-ae624503ce04",
   "metadata": {},
   "outputs": [],
   "source": [
    "main_load_folder = '/media/liam/hd1/fighting_data/tracking_results/'\n",
    "\n",
    "# ----------------------#\n",
    "\n",
    "interp_polyOrd=1  # the order of the polynomial used for interpolation\n",
    "interp_limit=5    # the maximum number of frames to interpolate over\n",
    "savgol_win=9      # the number of frames for the Savitzky-Golay filter\n",
    "savgol_ord=2      # the polynomial order for the Savitzky-Golay filter\n",
    "dt=0.01           # the frame rate of the recording\n",
    "\n",
    "\n",
    "# the filepaths for loading the infomap timeseries data we need\n",
    "infomap_data_loadpath = os.path.join( os.path.dirname(os.path.dirname(main_load_folder)) , \n",
    "                                      'infomap_data/transmat_and_infomap.h5')\n",
    "\n",
    "# the path for loading the fightbout info\n",
    "fightBouts_info_path = os.path.join(main_load_folder, 'fightBouts.h5')\n",
    "\n",
    "\n",
    "# -----------------------#\n",
    "\n",
    "loadpaths = glob.glob(os.path.join(main_load_folder, '*results.h5'))\n",
    "loadpaths.sort()\n",
    "\n",
    "# parse the exp names\n",
    "expNames = [path.split('/')[-1][:23] for path in loadpaths]\n",
    "\n",
    "\n",
    "raw_trajectories = []\n",
    "for path in loadpaths:\n",
    "    with h5py.File(path, 'r') as hf:\n",
    "        tracks_3D_raw = hf['tracks_3D_raw'][:]\n",
    "    raw_trajectories.append(tracks_3D_raw)\n",
    "\n",
    "smooth_trajectories = []\n",
    "for path in loadpaths:\n",
    "    with h5py.File(path, 'r') as hf:\n",
    "        tracks_3D_smooth = hf['tracks_3D_smooth'][:]\n",
    "    smooth_trajectories.append(tracks_3D_smooth)\n",
    "    \n",
    "    \n",
    "# create a list of the number of frames in each experiment\n",
    "expNumFrames = []\n",
    "for expIdx in range(len(expNames)):\n",
    "    nfs = smooth_trajectories[expIdx].shape[0]\n",
    "    expNumFrames.append(nfs)\n",
    "    \n",
    "# -----------------------------#\n",
    "# load other useful information\n",
    "    \n",
    "other_info_loadpath = os.path.join(main_load_folder, 'winners_losers_inconclusive.h5')\n",
    "with h5py.File(other_info_loadpath, 'r') as hf:\n",
    "    winner_idxs = hf['winner_idxs'][:]\n",
    "    loser_idxs = hf['loser_idxs'][:]\n",
    "    conclusive_winner_loser = hf['conclusive_winner_loser'][:]\n",
    "    already_established_dominance = hf['already_established_dominance'][:]\n",
    "\n",
    "\n",
    "with h5py.File(fightBouts_info_path, 'r') as hf:\n",
    "    fight_bout_info = hf['fight_bout_info'][:]\n",
    "    fight_bout_info_noDurThresh = hf['fight_bout_info_noDurThresh'][:]"
   ]
  },
  {
   "cell_type": "code",
   "execution_count": null,
   "id": "34f02a0b",
   "metadata": {},
   "outputs": [],
   "source": []
  },
  {
   "cell_type": "markdown",
   "id": "612aff74-4d9f-4b2d-ad32-4fcbfce1920d",
   "metadata": {},
   "source": [
    "# compute the $D_{PP}, \\theta_{W}, \\theta_{L}$ vars"
   ]
  },
  {
   "cell_type": "code",
   "execution_count": 5,
   "id": "909119b8-3e84-4ef6-aca7-8b717200e716",
   "metadata": {},
   "outputs": [
    {
     "name": "stdout",
     "output_type": "stream",
     "text": [
      "FishTank20200127_143538\n",
      "FishTank20200129_140656\n",
      "FishTank20200130_153857\n",
      "FishTank20200130_181614\n",
      "FishTank20200207_161445\n",
      "FishTank20200213_154940\n",
      "FishTank20200214_153519\n",
      "FishTank20200217_160052\n",
      "FishTank20200218_153008\n",
      "FishTank20200316_163320\n",
      "FishTank20200327_154737\n",
      "FishTank20200330_161100\n",
      "FishTank20200331_162136\n",
      "FishTank20200520_152810\n",
      "FishTank20200521_154541\n",
      "FishTank20200525_161602\n",
      "FishTank20200526_160100\n"
     ]
    },
    {
     "name": "stderr",
     "output_type": "stream",
     "text": [
      "/home/liam/code/Dynamics_of_dominance/figures_code/../tracking_code/lib/kinematics.py:24: RuntimeWarning: invalid value encountered in true_divide\n",
      "  vec_ts = vec_ts / row_norms[:, np.newaxis]\n"
     ]
    },
    {
     "name": "stdout",
     "output_type": "stream",
     "text": [
      "FishTank20200527_152401\n",
      "FishTank20200824_151740\n",
      "FishTank20200828_155504\n",
      "FishTank20200902_160124\n",
      "FishTank20200903_160946\n",
      "\n",
      "finished: 7.498088781954721 s\n"
     ]
    }
   ],
   "source": [
    "# ---- generate the state variables for all exps ---- #\n",
    "\n",
    "\n",
    "t0 = time.perf_counter()\n",
    "\n",
    "exp_dpps = []\n",
    "exp_tetWs = []\n",
    "exp_tetLs = []\n",
    "\n",
    "for ii, expName in enumerate(expNames):\n",
    "    print(expName)\n",
    "    \n",
    "    smooth_traj = smooth_trajectories[ii]\n",
    "    winIdx = winner_idxs[ii]\n",
    "    losIdx = loser_idxs[ii]\n",
    "    \n",
    "    dpp_ts = compute_pec_pec_distance(smooth_traj)\n",
    "    tetW_ts, tetL_ts = compute_thetaW_and_thetaL(smooth_traj, winIdx, losIdx)\n",
    "    \n",
    "    # ---- record ---- #\n",
    "    \n",
    "    exp_dpps.append(dpp_ts)\n",
    "    exp_tetWs.append(tetW_ts)\n",
    "    exp_tetLs.append(tetL_ts)\n",
    "    \n",
    "tE = time.perf_counter()\n",
    "print()\n",
    "print('finished: {0} s'.format(tE-t0))"
   ]
  },
  {
   "cell_type": "code",
   "execution_count": null,
   "id": "bc45be10-177f-4cc6-982a-fab3c8af6739",
   "metadata": {},
   "outputs": [],
   "source": []
  },
  {
   "cell_type": "code",
   "execution_count": null,
   "id": "5e5ef389-6b71-4af3-b6ac-56b3e8ea494a",
   "metadata": {},
   "outputs": [],
   "source": []
  },
  {
   "cell_type": "markdown",
   "id": "3a5d84bb-dd6a-4c7f-9849-d2a3cf8c9182",
   "metadata": {},
   "source": [
    "# prepare the arrays for indexing within fights and outside fights"
   ]
  },
  {
   "cell_type": "markdown",
   "id": "97ceac5b-d883-410d-a2c4-b5425b6053b5",
   "metadata": {},
   "source": [
    "For this figure, we will use without the size threshold on bout duration"
   ]
  },
  {
   "cell_type": "code",
   "execution_count": 28,
   "id": "53432275-07ba-4681-a8ba-0d0d3cf69d9f",
   "metadata": {},
   "outputs": [
    {
     "data": {
      "text/plain": [
       "(33, 4)"
      ]
     },
     "execution_count": 28,
     "metadata": {},
     "output_type": "execute_result"
    }
   ],
   "source": [
    "figure_bout_info = np.copy(fight_bout_info_noDurThresh)\n",
    "\n",
    "# the set of expIdxs that have contributions to figure_bout_info\n",
    "chosen_expIdxs = np.unique(figure_bout_info[:,0])\n",
    "\n",
    "numBouts = figure_bout_info.shape[0]\n",
    "\n",
    "figure_bout_info.shape"
   ]
  },
  {
   "cell_type": "code",
   "execution_count": null,
   "id": "a642bf52-f5df-4174-99b9-d03152878ba6",
   "metadata": {},
   "outputs": [],
   "source": []
  },
  {
   "cell_type": "code",
   "execution_count": 30,
   "id": "396a6346-281c-4089-9940-e5381b1332ab",
   "metadata": {},
   "outputs": [],
   "source": [
    "# ---- prepare the nonfight regions ----#\n",
    "# based on 'figure_bout_info'\n",
    "\n",
    "chosen_expIdx_nonFight_regions = []\n",
    "\n",
    "for expIdx in chosen_expIdxs:\n",
    "    expName = expNames[expIdx]\n",
    "    \n",
    "    # find the bouts for this exp\n",
    "    fight_epoch_array_rows = np.where(figure_bout_info[:,0] == expIdx)[0]\n",
    "    \n",
    "    # turn into list format over bouts, data is (startFrame,stopFrame)\n",
    "    exp_fight_bout_lims_list = []\n",
    "    for rowIdx in fight_epoch_array_rows:\n",
    "        fight_bout_lims = figure_bout_info[rowIdx,1:3]\n",
    "        exp_fight_bout_lims_list.append(fight_bout_lims)\n",
    "        \n",
    "    # now, prepare a binary timeseries of fight/non-fight membership for all frames,\n",
    "    # recording all fights as truth\n",
    "    expnfs = expNumFrames[expIdx]\n",
    "    exp_fightFrame_bin_arr = np.zeros((expnfs,), dtype=bool)\n",
    "    for bIdx in range(len(exp_fight_bout_lims_list)):\n",
    "        exp_fightFrame_bin_arr[ exp_fight_bout_lims_list[bIdx][0]:exp_fight_bout_lims_list[bIdx][1]] = True\n",
    "        \n",
    "    # now find contiguous regions of the inverse of this array, \n",
    "    # giving us frame ranges where the fish are not fighting\n",
    "    exp_non_fight_regions = contiguous_regions(~exp_fightFrame_bin_arr)\n",
    "    \n",
    "    # record\n",
    "    chosen_expIdx_nonFight_regions.append([expIdx, exp_non_fight_regions])\n",
    "    \n",
    "    \n",
    "# make into array along fightbouts with expIdxs\n",
    "figure_nonBout_info = []\n",
    "for vals in chosen_expIdx_nonFight_regions:\n",
    "    expIdx = vals[0]\n",
    "    boutInfo = vals[1]\n",
    "    expIdx_with_boutInfo_arr = np.full((boutInfo.shape[0],3), fill_value=expIdx)\n",
    "    expIdx_with_boutInfo_arr[:,1:] = boutInfo\n",
    "    figure_nonBout_info.append(expIdx_with_boutInfo_arr)\n",
    "figure_nonBout_info = np.concatenate(figure_nonBout_info, axis=0)\n",
    "\n",
    "numNoNBouts = figure_nonBout_info.shape[0]"
   ]
  },
  {
   "cell_type": "code",
   "execution_count": null,
   "id": "fe8a4c80-8400-4f61-8a2d-7d123719433b",
   "metadata": {},
   "outputs": [],
   "source": []
  },
  {
   "cell_type": "code",
   "execution_count": 26,
   "id": "76b174c8-b263-4d89-888b-64a325c60296",
   "metadata": {},
   "outputs": [
    {
     "data": {
      "text/plain": [
       "array([[      0,       0,  385500],\n",
       "       [      0,  427400,  583500],\n",
       "       [      0,  610400,  643500],\n",
       "       [      0,  805400,  971756],\n",
       "       [      1,       0,  274500],\n",
       "       [      1,  301400,  385700],\n",
       "       [      1,  409400,  493700],\n",
       "       [      1,  655400,  700700],\n",
       "       [      1,  718600,  769848],\n",
       "       [      2,       0,   31500],\n",
       "       [      2,  175400,  301300],\n",
       "       [      2,  319600,  501943],\n",
       "       [      3,       0,  331300],\n",
       "       [      3,  436400,  517000],\n",
       "       [      5,       0,  448500],\n",
       "       [      5,  559400,  730119],\n",
       "       [      6,       0,  217700],\n",
       "       [      6,  250400,  495610],\n",
       "       [      7,       0,   91500],\n",
       "       [      7,  127400,  505500],\n",
       "       [      7,  553400,  601226],\n",
       "       [      8,       0,  181500],\n",
       "       [      8,  256200,  274700],\n",
       "       [      8,  334400,  352500],\n",
       "       [      8,  370400,  537880],\n",
       "       [     10,       0,   19700],\n",
       "       [     10,   79400,  561010],\n",
       "       [     11,       0,  214900],\n",
       "       [     11,  280400,  556428],\n",
       "       [     12,       0,  142500],\n",
       "       [     12,  226400,  262500],\n",
       "       [     12,  343400,  358500],\n",
       "       [     12,  385400,  746434],\n",
       "       [     13,       0,  694500],\n",
       "       [     13,  745600, 1248577],\n",
       "       [     14,       0,    7700],\n",
       "       [     14,   61800,  596607],\n",
       "       [     15,       0,   13500],\n",
       "       [     15,  184400,  490500],\n",
       "       [     15,  514600,  588962],\n",
       "       [     17,       0,   85500],\n",
       "       [     17,  124400,  421500],\n",
       "       [     17,  436600,  497635],\n",
       "       [     18,       0,  388700],\n",
       "       [     18,  556400,  898700],\n",
       "       [     18,  931400, 1695643],\n",
       "       [     19,       0,  526700],\n",
       "       [     19,  571200,  798382],\n",
       "       [     20,       0,   40900],\n",
       "       [     20,  169600,  559700],\n",
       "       [     20,  595400,  717814]])"
      ]
     },
     "execution_count": 26,
     "metadata": {},
     "output_type": "execute_result"
    }
   ],
   "source": [
    "figure_nonBout_info"
   ]
  },
  {
   "cell_type": "code",
   "execution_count": null,
   "id": "5d0204bc-49e9-4ac9-9eed-74f1e43603a1",
   "metadata": {},
   "outputs": [],
   "source": []
  },
  {
   "cell_type": "markdown",
   "id": "fa85ca3c-77aa-4453-8e65-c50885f6b14f",
   "metadata": {},
   "source": [
    "# gathering $\\theta$s in fights and out"
   ]
  },
  {
   "cell_type": "code",
   "execution_count": null,
   "id": "2861b4f0-1d49-4d90-b01c-d1f153400eae",
   "metadata": {},
   "outputs": [],
   "source": []
  },
  {
   "cell_type": "code",
   "execution_count": null,
   "id": "a0be6b8d-72b5-4460-92c9-f663e71b8d42",
   "metadata": {},
   "outputs": [],
   "source": []
  },
  {
   "cell_type": "code",
   "execution_count": 29,
   "id": "8f446eaa-ccca-4d1f-a72f-2f1b648eb1ce",
   "metadata": {},
   "outputs": [],
   "source": [
    "# ----- get all fight state vars ---- #\n",
    "\n",
    "\n",
    "master_fight_dpps = []\n",
    "master_fight_tetWs = []\n",
    "master_fight_tetLs = []\n",
    "\n",
    "for boutIdx in range(numBouts):\n",
    "    \n",
    "    expIdx, f0, fE, bout_duration = figure_bout_info[boutIdx]\n",
    "    \n",
    "    bout_dpp = np.copy( exp_dpps[expIdx][f0:fE] )\n",
    "    bout_tetW = np.copy( exp_tetWs[expIdx][f0:fE] )\n",
    "    bout_tetL = np.copy( exp_tetLs[expIdx][f0:fE] )\n",
    "    \n",
    "    master_fight_dpps.append(bout_dpp)\n",
    "    master_fight_tetWs.append(bout_tetW)\n",
    "    master_fight_tetLs.append(bout_tetL)\n",
    "    \n",
    "# concatenate the results\n",
    "master_fight_dpps = np.concatenate(master_fight_dpps)\n",
    "master_fight_tetWs = np.concatenate(master_fight_tetWs)\n",
    "master_fight_tetLs = np.concatenate(master_fight_tetLs)\n",
    "    \n"
   ]
  },
  {
   "cell_type": "code",
   "execution_count": 36,
   "id": "e3c9ed66-ba80-4149-bde4-3fa5a48dc071",
   "metadata": {},
   "outputs": [],
   "source": [
    "# ---- get all non-fight state vars ---- #\n",
    "\n",
    "\n",
    "master_nonfight_dpps = []\n",
    "master_nonfight_tetWs = []\n",
    "master_nonfight_tetLs = []\n",
    "\n",
    "for boutIdx in range(numNoNBouts):\n",
    "    \n",
    "    expIdx, f0, fE = figure_nonBout_info[boutIdx]\n",
    "    \n",
    "    nonBout_dpp =  np.copy( exp_dpps[expIdx][f0:fE] )\n",
    "    nonBout_tetW = np.copy( exp_tetWs[expIdx][f0:fE] )\n",
    "    nonBout_tetL = np.copy( exp_tetLs[expIdx][f0:fE] )\n",
    "    \n",
    "    master_nonfight_dpps.append(nonBout_dpp)\n",
    "    master_nonfight_tetWs.append(nonBout_tetW)\n",
    "    master_nonfight_tetLs.append(nonBout_tetL)\n",
    "    \n",
    "# concatenate the results\n",
    "master_nonfight_dpps = np.concatenate(master_nonfight_dpps)\n",
    "master_nonfight_tetWs = np.concatenate(master_nonfight_tetWs)\n",
    "master_nonfight_tetLs = np.concatenate(master_nonfight_tetLs)"
   ]
  },
  {
   "cell_type": "code",
   "execution_count": null,
   "id": "a3fe54bf-8585-4022-9abd-4a7476a4fa56",
   "metadata": {},
   "outputs": [],
   "source": []
  },
  {
   "cell_type": "code",
   "execution_count": null,
   "id": "a47f6b12-8b5f-4a6d-a90a-3dd7b4197b01",
   "metadata": {},
   "outputs": [],
   "source": [
    "# concatenate the results\n",
    "# master_fight_dpps\n",
    "# master_fight_tetWs \n",
    "# master_fight_tetLs\n",
    "\n",
    "# master_nonfight_dpps\n",
    "# master_nonfight_tetWs \n",
    "# master_nonfight_tetLs "
   ]
  },
  {
   "cell_type": "code",
   "execution_count": null,
   "id": "41f83b9f-bff7-4116-9b44-c9eea5b0bde1",
   "metadata": {},
   "outputs": [],
   "source": []
  },
  {
   "cell_type": "code",
   "execution_count": null,
   "id": "ff78c3b0-fa2f-42c7-b954-0b0adebb2636",
   "metadata": {},
   "outputs": [],
   "source": []
  },
  {
   "cell_type": "markdown",
   "id": "a00c52f2-e384-4a28-93f8-e83974b3b1fa",
   "metadata": {},
   "source": [
    "# Panel A: the theta-theta explanation figure"
   ]
  },
  {
   "cell_type": "markdown",
   "id": "422fdf27-5c85-4f6c-8caa-a36f97890568",
   "metadata": {
    "tags": []
   },
   "source": [
    "## prep version"
   ]
  },
  {
   "cell_type": "code",
   "execution_count": 37,
   "id": "8b295b60-f323-43cb-b874-8044125d4073",
   "metadata": {},
   "outputs": [
    {
     "data": {
      "text/plain": [
       "<matplotlib.patches.FancyArrow at 0x7f12d8b877c0>"
      ]
     },
     "execution_count": 37,
     "metadata": {},
     "output_type": "execute_result"
    },
    {
     "data": {
      "application/vnd.jupyter.widget-view+json": {
       "model_id": "2ec38d02a7a64c3aa77e9a647a0fccef",
       "version_major": 2,
       "version_minor": 0
      },
      "text/html": [
       "\n",
       "            <div style=\"display: inline-block;\">\n",
       "                <div class=\"jupyter-widgets widget-label\" style=\"text-align: center;\">\n",
       "                    Figure\n",
       "                </div>\n",
       "                <img src='data:image/png;base64,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' width=1000.0/>\n",
       "            </div>\n",
       "        "
      ],
      "text/plain": [
       "Canvas(toolbar=Toolbar(toolitems=[('Home', 'Reset original view', 'home', 'home'), ('Back', 'Back to previous …"
      ]
     },
     "metadata": {},
     "output_type": "display_data"
    }
   ],
   "source": [
    "# --- explanatory figure --- #\n",
    "\n",
    "# ---- set-up the main figure information ----- #\n",
    "fig = plt.figure(figsize=(10,10)) \n",
    "gs = fig.add_gridspec(10, 10)\n",
    "\n",
    "\n",
    "\n",
    "ax = fig.add_subplot(gs[:, :])\n",
    "ax.set_xlim(-np.pi, np.pi);\n",
    "ax.set_ylim(-np.pi, np.pi);\n",
    "ax.set_xticks([-np.pi, -np.pi/2, 0, np.pi/2, np.pi]);\n",
    "ax.set_xticklabels([r\"-$\\pi$\", r\"-$\\pi/2$\", r\"0\", r\"$\\pi/2$\", r\"$\\pi$\"], fontsize=25,);\n",
    "ax.set_yticks([-np.pi, -np.pi/2, 0, np.pi/2, np.pi]);\n",
    "ax.set_yticklabels([r\"-$\\pi$\", r\"-$\\pi/2$\", r\"0\", r\"$\\pi/2$\", r\"$\\pi$\"], fontsize=25,);\n",
    "ax.set_xlabel(r'$\\theta_{W}$ [rad]', fontsize=30, )\n",
    "ax.set_ylabel(r'$\\theta_{L}$ [rad]', fontsize=30,)\n",
    "\n",
    "\n",
    "# we want to rotate so theta=0 points from origin to y-inf\n",
    "image_rot_angle = np.pi/2\n",
    "# scale the size of the arrows\n",
    "arrfac = 0.2\n",
    "# winner-loser-top\n",
    "c_x = 0\n",
    "c_y = np.pi/2+0.8\n",
    "vert_gap = 0.2\n",
    "dx_winner = -arrfac*np.cos(c_x + np.pi/2)\n",
    "dy_winner = arrfac*np.sin(c_x + np.pi/2)\n",
    "dx_loser = arrfac*np.cos(c_y + np.pi/2)\n",
    "dy_loser = -arrfac*np.sin(c_y + np.pi/2)\n",
    "ax.arrow(c_x, c_y-vert_gap, dx=dx_winner, dy=dy_winner, head_width=0.1, color='red')\n",
    "ax.arrow(c_x+0.1, c_y+vert_gap, dx=dx_loser, dy=dy_loser, head_width=0.1, color='blue')\n",
    "# winner-loser-bottom\n",
    "c_x = 0\n",
    "c_y = -(np.pi/2+0.8)\n",
    "vert_gap = 0.2\n",
    "dx_winner = -arrfac*np.cos(c_x + np.pi/2)\n",
    "dy_winner = arrfac*np.sin(c_x + np.pi/2)\n",
    "dx_loser = arrfac*np.cos(c_y + np.pi/2)\n",
    "dy_loser = -arrfac*np.sin(c_y + np.pi/2)\n",
    "ax.arrow(c_x, c_y-vert_gap, dx=dx_winner, dy=dy_winner, head_width=0.1, color='red')\n",
    "ax.arrow(c_x-0.1, c_y+vert_gap, dx=dx_loser, dy=dy_loser, head_width=0.1, color='blue')\n",
    "# loser-winner-left\n",
    "c_x = -(np.pi-0.6)\n",
    "c_y = 0\n",
    "vert_gap = 0.2\n",
    "dx_winner = -arrfac*np.cos(c_x + np.pi/2)\n",
    "dy_winner = arrfac*np.sin(c_x + np.pi/2)\n",
    "dx_loser = arrfac*np.cos(c_y + np.pi/2)\n",
    "dy_loser = -arrfac*np.sin(c_y + np.pi/2)\n",
    "ax.arrow(c_x+0.1, c_y-vert_gap, dx=dx_winner, dy=dy_winner, head_width=0.1, color='red')\n",
    "ax.arrow(c_x, c_y+vert_gap, dx=dx_loser, dy=dy_loser, head_width=0.1, color='blue')\n",
    "# loser-winner-right\n",
    "c_x = (np.pi-0.6)\n",
    "c_y = 0\n",
    "vert_gap = 0.2\n",
    "dx_winner = -arrfac*np.cos(c_x + np.pi/2)\n",
    "dy_winner = arrfac*np.sin(c_x + np.pi/2)\n",
    "dx_loser = arrfac*np.cos(c_y + np.pi/2)\n",
    "dy_loser = -arrfac*np.sin(c_y + np.pi/2)\n",
    "ax.arrow(c_x-0.1, c_y-vert_gap, dx=dx_winner, dy=dy_winner, head_width=0.1, color='red')\n",
    "ax.arrow(c_x, c_y+vert_gap, dx=dx_loser, dy=dy_loser, head_width=0.1, color='blue')\n",
    "# face-off\n",
    "c_x = 0\n",
    "c_y = 0\n",
    "vert_gap = 0.4\n",
    "dx_winner = arrfac*np.cos(c_x + np.pi/2)\n",
    "dy_winner = arrfac*np.sin(c_x + np.pi/2)\n",
    "dx_loser = arrfac*np.cos(c_y + np.pi/2)\n",
    "dy_loser = -arrfac*np.sin(c_y + np.pi/2)\n",
    "ax.arrow(c_x, c_y-vert_gap, dx=dx_winner, dy=dy_winner, head_width=0.1, color='red')\n",
    "ax.arrow(c_x, c_y+vert_gap, dx=dx_loser, dy=dy_loser, head_width=0.1, color='blue')\n",
    "# parallel WRE (top-left)\n",
    "c_x = -np.pi/2\n",
    "c_y = np.pi/2\n",
    "vert_gap = 0.1\n",
    "dx_winner = -arrfac*np.cos(c_x + np.pi/2)\n",
    "dy_winner = arrfac*np.sin(c_x + np.pi/2)\n",
    "dx_loser = arrfac*np.cos(c_y + np.pi/2)\n",
    "dy_loser = -arrfac*np.sin(c_y + np.pi/2)\n",
    "ax.arrow(c_x+0.1, c_y-vert_gap, dx=dx_winner, dy=dy_winner, head_width=0.1, color='red')\n",
    "ax.arrow(c_x+0.1, c_y+vert_gap, dx=dx_loser, dy=dy_loser, head_width=0.1, color='blue')\n",
    "# parallel WLE (bottom-right)\n",
    "c_x = np.pi/2\n",
    "c_y = -np.pi/2\n",
    "vert_gap = 0.1\n",
    "dx_winner = -arrfac*np.cos(c_x + np.pi/2)\n",
    "dy_winner = arrfac*np.sin(c_x + np.pi/2)\n",
    "dx_loser = arrfac*np.cos(c_y + np.pi/2)\n",
    "dy_loser = -arrfac*np.sin(c_y + np.pi/2)\n",
    "ax.arrow(c_x-0.1, c_y-vert_gap, dx=dx_winner, dy=dy_winner, head_width=0.1, color='red')\n",
    "ax.arrow(c_x-0.1, c_y+vert_gap, dx=dx_loser, dy=dy_loser, head_width=0.1, color='blue')\n",
    "# anti-parallel WLE (top-left)\n",
    "c_x = np.pi/2\n",
    "c_y = np.pi/2\n",
    "horz_gap = 0.15\n",
    "dx_winner = -arrfac*np.cos(c_x + np.pi/2)\n",
    "dy_winner = arrfac*np.sin(c_x + np.pi/2)\n",
    "dx_loser = arrfac*np.cos(c_y + np.pi/2)\n",
    "dy_loser = -arrfac*np.sin(c_y + np.pi/2)\n",
    "ax.arrow(c_x-horz_gap, c_y-vert_gap, dx=dx_winner, dy=dy_winner, head_width=0.1, color='red')\n",
    "ax.arrow(c_x+horz_gap, c_y+vert_gap, dx=dx_loser, dy=dy_loser, head_width=0.1, color='blue')\n",
    "# anti-parallel RE (bottom-right)\n",
    "c_x = -np.pi/2\n",
    "c_y = -np.pi/2\n",
    "horz_gap = 0.15\n",
    "dx_winner = -arrfac*np.cos(c_x + np.pi/2)\n",
    "dy_winner = arrfac*np.sin(c_x + np.pi/2)\n",
    "dx_loser = arrfac*np.cos(c_y + np.pi/2)\n",
    "dy_loser = -arrfac*np.sin(c_y + np.pi/2)\n",
    "ax.arrow(c_x+horz_gap, c_y-vert_gap, dx=dx_winner, dy=dy_winner, head_width=0.1, color='red')\n",
    "ax.arrow(c_x-horz_gap, c_y+vert_gap, dx=dx_loser, dy=dy_loser, head_width=0.1, color='blue')\n",
    "\n",
    "\n",
    "# ---- the 4 corners are done slightly differently ---- #\n",
    "\n",
    "# directly opposite (bottom left)\n",
    "c_x = -np.pi\n",
    "c_y = -np.pi\n",
    "corner_x_offset = 0.1\n",
    "corner_y_offset = 0.3\n",
    "horz_gap = 0\n",
    "vert_gap = 0.01\n",
    "arrfac = 0.1\n",
    "dx_winner = -arrfac*np.cos(c_x + np.pi/2)\n",
    "dy_winner = arrfac*np.sin(c_x + np.pi/2)\n",
    "dx_loser = arrfac*np.cos(c_y + np.pi/2)\n",
    "dy_loser = -arrfac*np.sin(c_y + np.pi/2)\n",
    "ax.arrow(c_x+horz_gap+corner_x_offset, c_y-vert_gap+corner_y_offset, dx=dx_winner, dy=dy_winner, head_width=0.08, color='red')\n",
    "ax.arrow(c_x-horz_gap+corner_x_offset, c_y+vert_gap+corner_y_offset, dx=dx_loser, dy=dy_loser, head_width=0.08, color='blue')\n",
    "\n",
    "# directly opposite (top left)\n",
    "c_x = -np.pi\n",
    "c_y = np.pi\n",
    "corner_x_offset = 0.1\n",
    "corner_y_offset = -0.3\n",
    "horz_gap = 0\n",
    "vert_gap = 0.01\n",
    "arrfac = 0.1\n",
    "dx_winner = -arrfac*np.cos(c_x + np.pi/2)\n",
    "dy_winner = arrfac*np.sin(c_x + np.pi/2)\n",
    "dx_loser = arrfac*np.cos(c_y + np.pi/2)\n",
    "dy_loser = -arrfac*np.sin(c_y + np.pi/2)\n",
    "ax.arrow(c_x+horz_gap+corner_x_offset, c_y-vert_gap+corner_y_offset, dx=dx_winner, dy=dy_winner, head_width=0.08, color='red')\n",
    "ax.arrow(c_x-horz_gap+corner_x_offset, c_y+vert_gap+corner_y_offset, dx=dx_loser, dy=dy_loser, head_width=0.08, color='blue')\n",
    "\n",
    "\n",
    "\n",
    "# directly opposite (top right)\n",
    "c_x = np.pi\n",
    "c_y = np.pi\n",
    "corner_x_offset = -0.1\n",
    "corner_y_offset = -0.3\n",
    "horz_gap = 0\n",
    "vert_gap = 0.01\n",
    "arrfac = 0.1\n",
    "dx_winner = -arrfac*np.cos(c_x + np.pi/2)\n",
    "dy_winner = arrfac*np.sin(c_x + np.pi/2)\n",
    "dx_loser = arrfac*np.cos(c_y + np.pi/2)\n",
    "dy_loser = -arrfac*np.sin(c_y + np.pi/2)\n",
    "ax.arrow(c_x+horz_gap+corner_x_offset, c_y-vert_gap+corner_y_offset, dx=dx_winner, dy=dy_winner, head_width=0.08, color='red')\n",
    "ax.arrow(c_x-horz_gap+corner_x_offset, c_y+vert_gap+corner_y_offset, dx=dx_loser, dy=dy_loser, head_width=0.08, color='blue')\n",
    "\n",
    "\n",
    "# directly opposite (bottom right)\n",
    "c_x = np.pi\n",
    "c_y = -np.pi\n",
    "corner_x_offset = -0.1\n",
    "corner_y_offset = +0.3\n",
    "horz_gap = 0\n",
    "vert_gap = 0.01\n",
    "arrfac = 0.1\n",
    "dx_winner = -arrfac*np.cos(c_x + np.pi/2)\n",
    "dy_winner = arrfac*np.sin(c_x + np.pi/2)\n",
    "dx_loser = arrfac*np.cos(c_y + np.pi/2)\n",
    "dy_loser = -arrfac*np.sin(c_y + np.pi/2)\n",
    "ax.arrow(c_x+horz_gap+corner_x_offset, c_y-vert_gap+corner_y_offset, dx=dx_winner, dy=dy_winner, head_width=0.08, color='red')\n",
    "ax.arrow(c_x-horz_gap+corner_x_offset, c_y+vert_gap+corner_y_offset, dx=dx_loser, dy=dy_loser, head_width=0.08, color='blue')\n",
    "\n",
    "\n",
    "\n"
   ]
  },
  {
   "cell_type": "markdown",
   "id": "84381236-05fc-46cc-a186-6c05856a5684",
   "metadata": {},
   "source": [
    "## paper version"
   ]
  },
  {
   "cell_type": "code",
   "execution_count": 38,
   "id": "864bcea2-6c2b-4a07-a413-e93230db48b6",
   "metadata": {},
   "outputs": [
    {
     "data": {
      "application/vnd.jupyter.widget-view+json": {
       "model_id": "2db90519eac5432fa467ba45e008f54f",
       "version_major": 2,
       "version_minor": 0
      },
      "text/html": [
       "\n",
       "            <div style=\"display: inline-block;\">\n",
       "                <div class=\"jupyter-widgets widget-label\" style=\"text-align: center;\">\n",
       "                    Figure\n",
       "                </div>\n",
       "                <img src='data:image/png;base64,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' width=260.0/>\n",
       "            </div>\n",
       "        "
      ],
      "text/plain": [
       "Canvas(toolbar=Toolbar(toolitems=[('Home', 'Reset original view', 'home', 'home'), ('Back', 'Back to previous …"
      ]
     },
     "metadata": {},
     "output_type": "display_data"
    }
   ],
   "source": [
    "# --- explanatory figure --- #\n",
    "\n",
    "# ---- set-up the main figure information ----- #\n",
    "fig = plt.figure(figsize=(2.6,2.6)) \n",
    "gs = fig.add_gridspec(10, 10)\n",
    "imsavepath = imsavepath = '/mnt/e/OneDrive/illustrator_projects/paper_figures/figure4/panel_B.png'\n",
    "\n",
    "ax = fig.add_subplot(gs[:, :])\n",
    "ax.set_xlim(-np.pi, np.pi);\n",
    "ax.set_ylim(-np.pi, np.pi);\n",
    "ax.set_xticks([-np.pi, -np.pi/2, 0, np.pi/2, np.pi]);\n",
    "ax.set_xticklabels([], fontsize=25,);\n",
    "ax.set_yticks([-np.pi, -np.pi/2, 0, np.pi/2, np.pi]);\n",
    "ax.set_yticklabels([], fontsize=25,);\n",
    "ax.set_xlabel('', fontsize=30, )\n",
    "ax.set_ylabel('', fontsize=30,)\n",
    "\n",
    "\n",
    "# we want to rotate so theta=0 points from origin to y-inf\n",
    "image_rot_angle = np.pi/2\n",
    "# scale the size of the arrows\n",
    "arrfac = 0.2\n",
    "# winner-loser-top\n",
    "c_x = 0\n",
    "c_y = np.pi/2+0.8\n",
    "vert_gap = 0.2\n",
    "dx_winner = -arrfac*np.cos(c_x + np.pi/2)\n",
    "dy_winner = arrfac*np.sin(c_x + np.pi/2)\n",
    "dx_loser = arrfac*np.cos(c_y + np.pi/2)\n",
    "dy_loser = -arrfac*np.sin(c_y + np.pi/2)\n",
    "ax.arrow(c_x, c_y-vert_gap, dx=dx_winner, dy=dy_winner, head_width=0.1, color='red')\n",
    "ax.arrow(c_x+0.1, c_y+vert_gap, dx=dx_loser, dy=dy_loser, head_width=0.1, color='blue')\n",
    "# winner-loser-bottom\n",
    "c_x = 0\n",
    "c_y = -(np.pi/2+0.8)\n",
    "vert_gap = 0.2\n",
    "dx_winner = -arrfac*np.cos(c_x + np.pi/2)\n",
    "dy_winner = arrfac*np.sin(c_x + np.pi/2)\n",
    "dx_loser = arrfac*np.cos(c_y + np.pi/2)\n",
    "dy_loser = -arrfac*np.sin(c_y + np.pi/2)\n",
    "ax.arrow(c_x, c_y-vert_gap, dx=dx_winner, dy=dy_winner, head_width=0.1, color='red')\n",
    "ax.arrow(c_x-0.1, c_y+vert_gap, dx=dx_loser, dy=dy_loser, head_width=0.1, color='blue')\n",
    "# loser-winner-left\n",
    "c_x = -(np.pi-0.6)\n",
    "c_y = 0\n",
    "vert_gap = 0.2\n",
    "dx_winner = -arrfac*np.cos(c_x + np.pi/2)\n",
    "dy_winner = arrfac*np.sin(c_x + np.pi/2)\n",
    "dx_loser = arrfac*np.cos(c_y + np.pi/2)\n",
    "dy_loser = -arrfac*np.sin(c_y + np.pi/2)\n",
    "ax.arrow(c_x+0.1, c_y-vert_gap, dx=dx_winner, dy=dy_winner, head_width=0.1, color='red')\n",
    "ax.arrow(c_x, c_y+vert_gap, dx=dx_loser, dy=dy_loser, head_width=0.1, color='blue')\n",
    "# loser-winner-right\n",
    "c_x = (np.pi-0.6)\n",
    "c_y = 0\n",
    "vert_gap = 0.2\n",
    "dx_winner = -arrfac*np.cos(c_x + np.pi/2)\n",
    "dy_winner = arrfac*np.sin(c_x + np.pi/2)\n",
    "dx_loser = arrfac*np.cos(c_y + np.pi/2)\n",
    "dy_loser = -arrfac*np.sin(c_y + np.pi/2)\n",
    "ax.arrow(c_x-0.1, c_y-vert_gap, dx=dx_winner, dy=dy_winner, head_width=0.1, color='red')\n",
    "ax.arrow(c_x, c_y+vert_gap, dx=dx_loser, dy=dy_loser, head_width=0.1, color='blue')\n",
    "# face-off\n",
    "c_x = 0\n",
    "c_y = 0\n",
    "vert_gap = 0.4\n",
    "dx_winner = arrfac*np.cos(c_x + np.pi/2)\n",
    "dy_winner = arrfac*np.sin(c_x + np.pi/2)\n",
    "dx_loser = arrfac*np.cos(c_y + np.pi/2)\n",
    "dy_loser = -arrfac*np.sin(c_y + np.pi/2)\n",
    "ax.arrow(c_x, c_y-vert_gap, dx=dx_winner, dy=dy_winner, head_width=0.1, color='red')\n",
    "ax.arrow(c_x, c_y+vert_gap, dx=dx_loser, dy=dy_loser, head_width=0.1, color='blue')\n",
    "# parallel WRE (top-left)\n",
    "c_x = -np.pi/2\n",
    "c_y = np.pi/2\n",
    "vert_gap = 0.1\n",
    "dx_winner = -arrfac*np.cos(c_x + np.pi/2)\n",
    "dy_winner = arrfac*np.sin(c_x + np.pi/2)\n",
    "dx_loser = arrfac*np.cos(c_y + np.pi/2)\n",
    "dy_loser = -arrfac*np.sin(c_y + np.pi/2)\n",
    "ax.arrow(c_x+0.1, c_y-vert_gap, dx=dx_winner, dy=dy_winner, head_width=0.1, color='red')\n",
    "ax.arrow(c_x+0.1, c_y+vert_gap, dx=dx_loser, dy=dy_loser, head_width=0.1, color='blue')\n",
    "# parallel WLE (bottom-right)\n",
    "c_x = np.pi/2\n",
    "c_y = -np.pi/2\n",
    "vert_gap = 0.1\n",
    "dx_winner = -arrfac*np.cos(c_x + np.pi/2)\n",
    "dy_winner = arrfac*np.sin(c_x + np.pi/2)\n",
    "dx_loser = arrfac*np.cos(c_y + np.pi/2)\n",
    "dy_loser = -arrfac*np.sin(c_y + np.pi/2)\n",
    "ax.arrow(c_x-0.1, c_y-vert_gap, dx=dx_winner, dy=dy_winner, head_width=0.1, color='red')\n",
    "ax.arrow(c_x-0.1, c_y+vert_gap, dx=dx_loser, dy=dy_loser, head_width=0.1, color='blue')\n",
    "# anti-parallel WLE (top-left)\n",
    "c_x = np.pi/2\n",
    "c_y = np.pi/2\n",
    "horz_gap = 0.15\n",
    "dx_winner = -arrfac*np.cos(c_x + np.pi/2)\n",
    "dy_winner = arrfac*np.sin(c_x + np.pi/2)\n",
    "dx_loser = arrfac*np.cos(c_y + np.pi/2)\n",
    "dy_loser = -arrfac*np.sin(c_y + np.pi/2)\n",
    "ax.arrow(c_x-horz_gap, c_y-vert_gap, dx=dx_winner, dy=dy_winner, head_width=0.1, color='red')\n",
    "ax.arrow(c_x+horz_gap, c_y+vert_gap, dx=dx_loser, dy=dy_loser, head_width=0.1, color='blue')\n",
    "# anti-parallel RE (bottom-right)\n",
    "c_x = -np.pi/2\n",
    "c_y = -np.pi/2\n",
    "horz_gap = 0.15\n",
    "dx_winner = -arrfac*np.cos(c_x + np.pi/2)\n",
    "dy_winner = arrfac*np.sin(c_x + np.pi/2)\n",
    "dx_loser = arrfac*np.cos(c_y + np.pi/2)\n",
    "dy_loser = -arrfac*np.sin(c_y + np.pi/2)\n",
    "ax.arrow(c_x+horz_gap, c_y-vert_gap, dx=dx_winner, dy=dy_winner, head_width=0.1, color='red')\n",
    "ax.arrow(c_x-horz_gap, c_y+vert_gap, dx=dx_loser, dy=dy_loser, head_width=0.1, color='blue')\n",
    "\n",
    "\n",
    "# ---- the 4 corners are done slightly differently ---- #\n",
    "\n",
    "# directly opposite (bottom left)\n",
    "c_x = -np.pi\n",
    "c_y = -np.pi\n",
    "corner_x_offset = 0.1\n",
    "corner_y_offset = 0.3\n",
    "horz_gap = 0\n",
    "vert_gap = 0.01\n",
    "arrfac = 0.1\n",
    "dx_winner = -arrfac*np.cos(c_x + np.pi/2)\n",
    "dy_winner = arrfac*np.sin(c_x + np.pi/2)\n",
    "dx_loser = arrfac*np.cos(c_y + np.pi/2)\n",
    "dy_loser = -arrfac*np.sin(c_y + np.pi/2)\n",
    "ax.arrow(c_x+horz_gap+corner_x_offset, c_y-vert_gap+corner_y_offset, dx=dx_winner, dy=dy_winner, head_width=0.08, color='red')\n",
    "ax.arrow(c_x-horz_gap+corner_x_offset, c_y+vert_gap+corner_y_offset, dx=dx_loser, dy=dy_loser, head_width=0.08, color='blue')\n",
    "\n",
    "# directly opposite (top left)\n",
    "c_x = -np.pi\n",
    "c_y = np.pi\n",
    "corner_x_offset = 0.1\n",
    "corner_y_offset = -0.3\n",
    "horz_gap = 0\n",
    "vert_gap = 0.01\n",
    "arrfac = 0.1\n",
    "dx_winner = -arrfac*np.cos(c_x + np.pi/2)\n",
    "dy_winner = arrfac*np.sin(c_x + np.pi/2)\n",
    "dx_loser = arrfac*np.cos(c_y + np.pi/2)\n",
    "dy_loser = -arrfac*np.sin(c_y + np.pi/2)\n",
    "ax.arrow(c_x+horz_gap+corner_x_offset, c_y-vert_gap+corner_y_offset, dx=dx_winner, dy=dy_winner, head_width=0.08, color='red')\n",
    "ax.arrow(c_x-horz_gap+corner_x_offset, c_y+vert_gap+corner_y_offset, dx=dx_loser, dy=dy_loser, head_width=0.08, color='blue')\n",
    "\n",
    "\n",
    "\n",
    "# directly opposite (top right)\n",
    "c_x = np.pi\n",
    "c_y = np.pi\n",
    "corner_x_offset = -0.1\n",
    "corner_y_offset = -0.3\n",
    "horz_gap = 0\n",
    "vert_gap = 0.01\n",
    "arrfac = 0.1\n",
    "dx_winner = -arrfac*np.cos(c_x + np.pi/2)\n",
    "dy_winner = arrfac*np.sin(c_x + np.pi/2)\n",
    "dx_loser = arrfac*np.cos(c_y + np.pi/2)\n",
    "dy_loser = -arrfac*np.sin(c_y + np.pi/2)\n",
    "ax.arrow(c_x+horz_gap+corner_x_offset, c_y-vert_gap+corner_y_offset, dx=dx_winner, dy=dy_winner, head_width=0.08, color='red')\n",
    "ax.arrow(c_x-horz_gap+corner_x_offset, c_y+vert_gap+corner_y_offset, dx=dx_loser, dy=dy_loser, head_width=0.08, color='blue')\n",
    "\n",
    "\n",
    "# directly opposite (bottom right)\n",
    "c_x = np.pi\n",
    "c_y = -np.pi\n",
    "corner_x_offset = -0.1\n",
    "corner_y_offset = +0.3\n",
    "horz_gap = 0\n",
    "vert_gap = 0.01\n",
    "arrfac = 0.1\n",
    "dx_winner = -arrfac*np.cos(c_x + np.pi/2)\n",
    "dy_winner = arrfac*np.sin(c_x + np.pi/2)\n",
    "dx_loser = arrfac*np.cos(c_y + np.pi/2)\n",
    "dy_loser = -arrfac*np.sin(c_y + np.pi/2)\n",
    "ax.arrow(c_x+horz_gap+corner_x_offset, c_y-vert_gap+corner_y_offset, dx=dx_winner, dy=dy_winner, head_width=0.08, color='red')\n",
    "ax.arrow(c_x-horz_gap+corner_x_offset, c_y+vert_gap+corner_y_offset, dx=dx_loser, dy=dy_loser, head_width=0.08, color='blue')\n",
    "\n",
    "lw = 1\n",
    "ticklen = 4\n",
    "for axis in ['top','bottom','left','right']:\n",
    "    ax.spines[axis].set_linewidth(lw)\n",
    "ax.xaxis.set_tick_params(width=lw, length=ticklen)\n",
    "ax.yaxis.set_tick_params(width=lw, length=ticklen)\n",
    "\n",
    "fig.tight_layout()\n",
    "#fig.savefig(imsavepath, transparent=True, dpi=300)"
   ]
  },
  {
   "cell_type": "code",
   "execution_count": null,
   "id": "8dda8d0e-d805-4072-a206-8a130f62d81b",
   "metadata": {},
   "outputs": [],
   "source": []
  },
  {
   "cell_type": "code",
   "execution_count": null,
   "id": "ca69df7b-4a2a-49e7-9f66-e8a8612f046c",
   "metadata": {},
   "outputs": [],
   "source": []
  },
  {
   "cell_type": "code",
   "execution_count": null,
   "id": "a35c5f12-fa2e-4d98-9ce5-a379c351a222",
   "metadata": {},
   "outputs": [],
   "source": []
  },
  {
   "cell_type": "markdown",
   "id": "d1ac38a2-3ab5-4fa1-b96d-87e8404ab5aa",
   "metadata": {},
   "source": [
    "# Panel B"
   ]
  },
  {
   "cell_type": "code",
   "execution_count": null,
   "id": "79d9e446-14de-4e65-8884-78897bc69c10",
   "metadata": {},
   "outputs": [],
   "source": []
  },
  {
   "cell_type": "code",
   "execution_count": null,
   "id": "8a696225-0aa0-4af3-aaac-dbc4e83796fc",
   "metadata": {},
   "outputs": [],
   "source": []
  },
  {
   "cell_type": "code",
   "execution_count": null,
   "id": "a140b61c-8e38-432f-955a-f667f8ee8a0b",
   "metadata": {},
   "outputs": [],
   "source": []
  },
  {
   "cell_type": "markdown",
   "id": "9762d67b-cb91-4171-9003-ae9b0024cf36",
   "metadata": {},
   "source": [
    "## during fights"
   ]
  },
  {
   "cell_type": "code",
   "execution_count": null,
   "id": "1e09e3de-07d0-4924-8b0d-5eaa453102f2",
   "metadata": {},
   "outputs": [],
   "source": []
  },
  {
   "cell_type": "code",
   "execution_count": 40,
   "id": "e2773636-219b-44d7-b883-0bb4517d4632",
   "metadata": {},
   "outputs": [
    {
     "data": {
      "text/plain": [
       "(2188300, 2)"
      ]
     },
     "execution_count": 40,
     "metadata": {},
     "output_type": "execute_result"
    }
   ],
   "source": [
    "data = np.stack([master_fight_tetWs, master_fight_tetLs], axis=1)\n",
    "data.shape"
   ]
  },
  {
   "cell_type": "code",
   "execution_count": null,
   "id": "06c8e295-d4a4-4308-b9cc-53cf32c4b471",
   "metadata": {},
   "outputs": [],
   "source": []
  },
  {
   "cell_type": "code",
   "execution_count": 41,
   "id": "6d32c590-be8e-4fbc-aeb4-1b0e785f9527",
   "metadata": {},
   "outputs": [
    {
     "data": {
      "application/vnd.jupyter.widget-view+json": {
       "model_id": "2b0190385d61452b96ea62adeb1c9975",
       "version_major": 2,
       "version_minor": 0
      },
      "text/html": [
       "\n",
       "            <div style=\"display: inline-block;\">\n",
       "                <div class=\"jupyter-widgets widget-label\" style=\"text-align: center;\">\n",
       "                    Figure\n",
       "                </div>\n",
       "                <img src='data:image/png;base64,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' width=640.0/>\n",
       "            </div>\n",
       "        "
      ],
      "text/plain": [
       "Canvas(toolbar=Toolbar(toolitems=[('Home', 'Reset original view', 'home', 'home'), ('Back', 'Back to previous …"
      ]
     },
     "metadata": {},
     "output_type": "display_data"
    }
   ],
   "source": [
    "fig, axs = plt.subplots() #figsize=(2.6,2.6)\n",
    "ax = axs\n",
    "\n",
    "\n",
    "tet_bins = np.linspace(-np.pi, np.pi, 20)\n",
    "bin_width = tet_bins[1]-tet_bins[0]\n",
    "\n",
    "counts, xedges, yedges, im = ax.hist2d(data[:,0], data[:,1], bins=tet_bins, cmap='Greys', density=True);\n",
    "cbar = fig.colorbar(im, ax=ax, ticks=[0, np.max(counts)])\n",
    "cbar.ax.set_yticklabels(['0', 'max'])  # vertically oriented colorbar\n",
    "\n",
    "ax.set_xticks([-np.pi, -np.pi/2, 0, np.pi/2, np.pi])\n",
    "ax.set_yticks([-np.pi, -np.pi/2, 0, np.pi/2, np.pi])\n",
    "\n",
    "ax.set_xticklabels([r'-$\\pi$', r'-$\\pi$/2', '0', r'$\\pi$/2', r'$\\pi$'], fontsize=13)\n",
    "ax.set_yticklabels([r'-$\\pi$', r'-$\\pi$/2', '0', r'$\\pi$/2', r'$\\pi$'], fontsize=13)\n",
    "\n",
    "fig.tight_layout()"
   ]
  },
  {
   "cell_type": "code",
   "execution_count": 42,
   "id": "814d58fc-00a4-4158-b5c4-22ce998fd935",
   "metadata": {},
   "outputs": [
    {
     "data": {
      "text/plain": [
       "0.05034631159095587"
      ]
     },
     "execution_count": 42,
     "metadata": {},
     "output_type": "execute_result"
    }
   ],
   "source": [
    "np.max(counts)*bin_width"
   ]
  },
  {
   "cell_type": "code",
   "execution_count": 43,
   "id": "6ab77057-ff4c-4909-8392-dc08722eb322",
   "metadata": {},
   "outputs": [
    {
     "data": {
      "text/plain": [
       "1.0000000000000002"
      ]
     },
     "execution_count": 43,
     "metadata": {},
     "output_type": "execute_result"
    }
   ],
   "source": [
    "np.sum(counts)*bin_width*bin_width"
   ]
  },
  {
   "cell_type": "code",
   "execution_count": null,
   "id": "a7a6d523-164e-4cc9-b699-2d58591b914a",
   "metadata": {},
   "outputs": [],
   "source": []
  },
  {
   "cell_type": "code",
   "execution_count": null,
   "id": "afcefbe0-3fdd-42ff-a7d2-9764856dd43b",
   "metadata": {},
   "outputs": [],
   "source": []
  },
  {
   "cell_type": "code",
   "execution_count": 44,
   "id": "39701066-2432-4d0a-979c-bc8bc83cc611",
   "metadata": {},
   "outputs": [
    {
     "data": {
      "application/vnd.jupyter.widget-view+json": {
       "model_id": "96d7dd6ac2874c45a3848613b6b4a4dc",
       "version_major": 2,
       "version_minor": 0
      },
      "text/html": [
       "\n",
       "            <div style=\"display: inline-block;\">\n",
       "                <div class=\"jupyter-widgets widget-label\" style=\"text-align: center;\">\n",
       "                    Figure\n",
       "                </div>\n",
       "                <img src='data:image/png;base64,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' width=260.0/>\n",
       "            </div>\n",
       "        "
      ],
      "text/plain": [
       "Canvas(toolbar=Toolbar(toolitems=[('Home', 'Reset original view', 'home', 'home'), ('Back', 'Back to previous …"
      ]
     },
     "metadata": {},
     "output_type": "display_data"
    }
   ],
   "source": [
    "fig, axs = plt.subplots(figsize=(2.6,2.6)) #figsize=(2.6,2.6)\n",
    "ax = axs\n",
    "\n",
    "imsavepath = '/home/liam/temp/image_transfer/fig4_fight_wbar.png'\n",
    "\n",
    "tet_bins = np.linspace(-np.pi, np.pi, 20)\n",
    "bin_width = tet_bins[1]-tet_bins[0]\n",
    "\n",
    "counts, xedges, yedges, im = ax.hist2d(data[:,0], data[:,1], bins=tet_bins, cmap='Greys', density=True);\n",
    "cbar = fig.colorbar(im, ax=ax, ticks=[0, np.max(counts)])\n",
    "cbar.ax.set_yticklabels([])  # vertically oriented colorbar\n",
    "\n",
    "ax.set_xticks([-np.pi, -np.pi/2, 0, np.pi/2, np.pi])\n",
    "ax.set_yticks([-np.pi, -np.pi/2, 0, np.pi/2, np.pi])\n",
    "\n",
    "ax.set_xticklabels([], fontsize=13)\n",
    "ax.set_yticklabels([], fontsize=13)\n",
    "\n",
    "fig.tight_layout()\n",
    "\n",
    "fig.savefig(imsavepath, dpi=300, transparent=False)"
   ]
  },
  {
   "cell_type": "code",
   "execution_count": null,
   "id": "09a518de-e240-44ef-916d-e223bf0e0c1b",
   "metadata": {},
   "outputs": [],
   "source": []
  },
  {
   "cell_type": "code",
   "execution_count": 45,
   "id": "df9f7d94-b652-4a2f-b9b1-eda5ddf2b2a0",
   "metadata": {},
   "outputs": [
    {
     "data": {
      "application/vnd.jupyter.widget-view+json": {
       "model_id": "1017f9358b6b4f47baa423b197137a3d",
       "version_major": 2,
       "version_minor": 0
      },
      "text/html": [
       "\n",
       "            <div style=\"display: inline-block;\">\n",
       "                <div class=\"jupyter-widgets widget-label\" style=\"text-align: center;\">\n",
       "                    Figure\n",
       "                </div>\n",
       "                <img src='data:image/png;base64,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' width=260.0/>\n",
       "            </div>\n",
       "        "
      ],
      "text/plain": [
       "Canvas(toolbar=Toolbar(toolitems=[('Home', 'Reset original view', 'home', 'home'), ('Back', 'Back to previous …"
      ]
     },
     "metadata": {},
     "output_type": "display_data"
    }
   ],
   "source": [
    "fig, axs = plt.subplots(figsize=(2.6,2.6)) #figsize=(2.6,2.6)\n",
    "ax = axs\n",
    "\n",
    "imsavepath = '/home/liam/temp/image_transfer/fig4_fight_woutbar.png'\n",
    "\n",
    "tet_bins = np.linspace(-np.pi, np.pi, 20)\n",
    "bin_width = tet_bins[1]-tet_bins[0]\n",
    "\n",
    "counts, xedges, yedges, im = ax.hist2d(data[:,0], data[:,1], bins=tet_bins, cmap='Greys', density=True);\n",
    "#cbar = fig.colorbar(im, ax=ax, ticks=[0, np.max(counts)])\n",
    "#cbar.ax.set_yticklabels([])  # vertically oriented colorbar\n",
    "\n",
    "ax.set_xticks([-np.pi, -np.pi/2, 0, np.pi/2, np.pi])\n",
    "ax.set_yticks([-np.pi, -np.pi/2, 0, np.pi/2, np.pi])\n",
    "\n",
    "ax.set_xticklabels([], fontsize=13)\n",
    "ax.set_yticklabels([], fontsize=13)\n",
    "\n",
    "ax.xaxis.set_tick_params(width=1, length=4)\n",
    "ax.yaxis.set_tick_params(width=1, length=4)\n",
    "for axis in ['top','bottom','left','right']:\n",
    "    ax.spines[axis].set_linewidth(1)\n",
    "\n",
    "fig.tight_layout()\n",
    "\n",
    "fig.savefig(imsavepath, dpi=300, transparent=False)"
   ]
  },
  {
   "cell_type": "code",
   "execution_count": null,
   "id": "633adc93-ffc3-4a5a-a28f-82cbd6e92099",
   "metadata": {},
   "outputs": [],
   "source": []
  },
  {
   "cell_type": "code",
   "execution_count": null,
   "id": "516a261e-12cc-4809-a75a-72e0a582739e",
   "metadata": {},
   "outputs": [],
   "source": [
    "# concatenate the results\n",
    "# master_fight_dpps\n",
    "# master_fight_tetWs \n",
    "# master_fight_tetLs\n",
    "\n",
    "# master_nonfight_dpps\n",
    "# master_nonfight_tetWs \n",
    "# master_nonfight_tetLs \n",
    "\n",
    "data = np.stack([master_fight_tetWs, master_fight_tetLs], axis=1)"
   ]
  },
  {
   "cell_type": "code",
   "execution_count": null,
   "id": "2bbe04d7-a0a7-4977-8cfa-35873886c9d0",
   "metadata": {},
   "outputs": [],
   "source": []
  },
  {
   "cell_type": "markdown",
   "id": "b7875539-7b87-425a-8757-4f61c46eb2ad",
   "metadata": {},
   "source": [
    "## outside fights"
   ]
  },
  {
   "cell_type": "code",
   "execution_count": null,
   "id": "b22b96ba-9673-4b2d-8dba-a7f9b7a22976",
   "metadata": {},
   "outputs": [],
   "source": []
  },
  {
   "cell_type": "code",
   "execution_count": 46,
   "id": "e7fdef7b-22f7-4161-ac39-03ca5dfb172e",
   "metadata": {},
   "outputs": [
    {
     "data": {
      "text/plain": [
       "(10944574, 2)"
      ]
     },
     "execution_count": 46,
     "metadata": {},
     "output_type": "execute_result"
    }
   ],
   "source": [
    "data = np.stack([master_nonfight_tetWs, master_nonfight_tetLs], axis=1)\n",
    "data.shape"
   ]
  },
  {
   "cell_type": "code",
   "execution_count": null,
   "id": "5c856231-2288-4294-8137-478f0d3aa7ce",
   "metadata": {},
   "outputs": [],
   "source": []
  },
  {
   "cell_type": "code",
   "execution_count": 47,
   "id": "79cc1c62-5249-49cc-a025-633742c24255",
   "metadata": {},
   "outputs": [
    {
     "data": {
      "application/vnd.jupyter.widget-view+json": {
       "model_id": "e6b1e6e383444281850b4a212e30fb3b",
       "version_major": 2,
       "version_minor": 0
      },
      "text/html": [
       "\n",
       "            <div style=\"display: inline-block;\">\n",
       "                <div class=\"jupyter-widgets widget-label\" style=\"text-align: center;\">\n",
       "                    Figure\n",
       "                </div>\n",
       "                <img src='data:image/png;base64,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' width=640.0/>\n",
       "            </div>\n",
       "        "
      ],
      "text/plain": [
       "Canvas(toolbar=Toolbar(toolitems=[('Home', 'Reset original view', 'home', 'home'), ('Back', 'Back to previous …"
      ]
     },
     "metadata": {},
     "output_type": "display_data"
    }
   ],
   "source": [
    "fig, axs = plt.subplots() #figsize=(2.6,2.6)\n",
    "ax = axs\n",
    "\n",
    "\n",
    "tet_bins = np.linspace(-np.pi, np.pi, 20)\n",
    "bin_width = tet_bins[1]-tet_bins[0]\n",
    "\n",
    "counts, xedges, yedges, im = ax.hist2d(data[:,0], data[:,1], bins=tet_bins, cmap='Greys', density=True);\n",
    "cbar = fig.colorbar(im, ax=ax, ticks=[0, np.max(counts)])\n",
    "cbar.ax.set_yticklabels(['0', 'max'])  # vertically oriented colorbar\n",
    "\n",
    "ax.set_xticks([-np.pi, -np.pi/2, 0, np.pi/2, np.pi])\n",
    "ax.set_yticks([-np.pi, -np.pi/2, 0, np.pi/2, np.pi])\n",
    "\n",
    "ax.set_xticklabels([r'-$\\pi$', r'-$\\pi$/2', '0', r'$\\pi$/2', r'$\\pi$'], fontsize=13)\n",
    "ax.set_yticklabels([r'-$\\pi$', r'-$\\pi$/2', '0', r'$\\pi$/2', r'$\\pi$'], fontsize=13)\n",
    "\n",
    "fig.tight_layout()"
   ]
  },
  {
   "cell_type": "code",
   "execution_count": 48,
   "id": "527d9465-9faa-4fba-a3d9-614079931656",
   "metadata": {},
   "outputs": [
    {
     "data": {
      "text/plain": [
       "0.044564880949344673"
      ]
     },
     "execution_count": 48,
     "metadata": {},
     "output_type": "execute_result"
    }
   ],
   "source": [
    "np.max(counts)*bin_width"
   ]
  },
  {
   "cell_type": "code",
   "execution_count": 49,
   "id": "022af912-9dec-4c76-91aa-1dac54dd5ec3",
   "metadata": {},
   "outputs": [
    {
     "data": {
      "text/plain": [
       "1.0000000000000002"
      ]
     },
     "execution_count": 49,
     "metadata": {},
     "output_type": "execute_result"
    }
   ],
   "source": [
    "np.sum(counts)*bin_width*bin_width"
   ]
  },
  {
   "cell_type": "code",
   "execution_count": null,
   "id": "3ff3a83a-7341-45ef-bde4-a99e70ecf1c6",
   "metadata": {},
   "outputs": [],
   "source": []
  },
  {
   "cell_type": "code",
   "execution_count": null,
   "id": "45e5abfc-e91b-4bba-81ac-e7c5417d41ab",
   "metadata": {},
   "outputs": [],
   "source": []
  },
  {
   "cell_type": "code",
   "execution_count": 50,
   "id": "386e59b7-c117-4672-b0e6-0f7029270e6d",
   "metadata": {},
   "outputs": [
    {
     "data": {
      "application/vnd.jupyter.widget-view+json": {
       "model_id": "e0ccd847cdbb45c28f13bedac0d56edd",
       "version_major": 2,
       "version_minor": 0
      },
      "text/html": [
       "\n",
       "            <div style=\"display: inline-block;\">\n",
       "                <div class=\"jupyter-widgets widget-label\" style=\"text-align: center;\">\n",
       "                    Figure\n",
       "                </div>\n",
       "                <img src='data:image/png;base64,iVBORw0KGgoAAAANSUhEUgAAAQQAAAEECAYAAADOCEoKAAAAOXRFWHRTb2Z0d2FyZQBNYXRwbG90bGliIHZlcnNpb24zLjQuMywgaHR0cHM6Ly9tYXRwbG90bGliLm9yZy/MnkTPAAAACXBIWXMAAA9hAAAPYQGoP6dpAAAK5UlEQVR4nO3dwW4bVRsG4OM4yaSQ2EWAVEApEhISW3oFrNhyLSyzyjISl8OKa2DPCgECbxGtHSFn2qb+F7/6QUOa+WKfOJ7keaRZBE7PjMf2629mzpkZLBaLRQEopWzd9gYAm0MgAEEgAEEgAEEgAEEgAEEgAEEgAEEgAEEgAEEgAEEgAEEgAGF7lX/ctm1p2zb+fvXqVfnrr7/K+++/XwaDwcobB7dpsViU09PT8vHHH5etre7fzrOzs/L8+fN03xe/I03TlKZpltrWahYrOD4+XpRSLJY7vUwmk87vwnw+v1af+/v7//lvx8fHq3wdqxgsFsvfD+FihTCdTsvjx4/Lb7/9Vg4ODt7672pWD7fR1/n5eWeb7C/F77//3tnmm2++SfX13Xffdbb56quvUn09ePCgs03mV7PPTk9Py2effVaePXtWxuPxlW1ns1lnm4smk0kZjUbx9yZUCCsdMrztBRwcHLzxQi8SCP/Y39/vbJP94r3zzjudba56X/5NIPzjOp+xwWDQ2X6xWJTFYlFGo1H6/ViXlQIBeFMmEEr5fyhsIoEAFQ2Hw1SF8OrVqzVt0fUIBKgoWyFsKoEAFQkEIAgEIAgEIGxtbaVOKm4qgQAVqRCAoEK4xNbW1pWj2LIJuu4dl11fpl32NWZGBH799depvjLblR1Bubu7W2V92XbZvjKjIzP7fjgcVunnsn+jQgBKKQIB+JfBYNBZxWzqKMVSBAJUlakQNrmCEAhQkUAAgkAAQtcVtk0nEKAigQAEhwxAEAhAEAhAEAg3qOYY+JqjwzLrzK4vc9vtL7/8MtXXhx9+2Nmm5gmv7L7P3KW65joz8xRuikAAgqsMQBAIQHDIALxhk7/wXQQCVJQ5ZLh3d0yC+8ohAxAEAhAcMgBhOBze6sCoVQkEqMghAxAEwhJq3s8/O04+067mswGyo9Uyz2V48uRJqq+PPvqos01m7kQp9Z5/UErd9zGzznW2ucg5BCCoEICgQgCCCgEIW1tbnZcdVQhwT6gQgJA5h7DJ90sQCFCRCgEIKgQgqBCAIBAukdkptdQcBp3d5sxstmxfmaHLn3zySaqvg4ODzjY7OzupvjKvMXur+cy+yM4QvKkhx7VkZju67Aj3hHMIQHDIAASBAITBYNB5SCAQ4J5QIQDBSUUg3OsKoW3b0rZt/D2bzVbeIOizzDiE7PiN27BS7XJyclLG43Esh4eHtbYLeul1hdC1bKqVAuHo6KhMp9NYJpNJre2CXup7IKx0yNA0TfouvnAf3OtzCG+zzhSsOf9gezu3O2rehj0zrn1/fz/V197eXmeb7Gtc94c2O75/02/DLhCAIBCAIBCA0PfLjgIBKlIhAG/Y5C98F4EAFakQgCAQgCAQgCAQgOB+CEBQIVxisVhcOTY9O2695gCOzBj+7LMBaiZ8zWc81Owro+Z+WPdgncxncJnnJwgEIAgEIAgEIAgEIAgEIAgEIBiHAAQVAhAEAvCGTf7CdxEIUJEKAQgC4RIvXrwoL168WLmfzFjy7Bnbm7oP/9tkx8Fn2p2dnaX6evfdd1PtMjL7ouZrrDmXodb6Xr58ee11CwQguOwIBIEABIcMQBAIQBAIQBAIQBAIQHCVAQgqBCAIBCAIhEu0bVvatn3r/695DJXtK/NchuwbVXOcf2a8/K+//prq6+HDh51tlnnWwNtk5x/UnDdwfn7e2abW+zOfz1PbdHHdXZ/JexcIcF+pEIAgEIDgsiMQVAhAEAhAEAhAEAhAEAhAcJUBCCoEIKgQLvH06dMrx6Y3TZPqJ7Pjdnd3U33VfDZAzTc0M17++++/T/X1xRdfdLbJ7q+a8zUy+zX7HI/sMypqWHYugwoBKKUIBOCCTf7CdxEIUJEKAQj3OhAu3ghlNputvEHQZ30PhJVOl5+cnJTxeBzL4eFhre2CXhoOh6llU60UCEdHR2U6ncYymUxqbRf00usKoWvZVCsdMjRNkx5TAPdB3w8ZnFSEioxUBIIK4RKj0aiMRqOV+8kMed3knZuRGUr85MmTVF8PHjzobJP9dcq0yw71zsgeeu7s7HS2qXWr+WVen0AAgkAAQuay4iZfdhQIUJEKAXjDJn/huwgEqEiFAATjEICgQgCCQACCQACCcQhAUCFcomtadHaMeKZdzbH52b5qvqGZcfeZ26uXkvvlqbnt2f2VeY3ZX83M9me2K9PPMlP7BQIQBAIQjEMAggoBCAIBCA4ZgDAYDDq/8CoEuCccMgBBIABBIADBSUUgqBAu63R7u2xvv73r8/PzVD/r3nHZORaZhM8+GyDzGsfjcbW+svs00y67vzL7IttXrbkMmTbLzEoUCEAQCEAQCEAQCEAQCEAQCEDoeyBs7ggJYO1UCFCRkYpA6Pshg0CAyjb5C99FIEBFKoQl1Lyff3bOQM1nPGTH3Wdk5nVkP0DZfVGrr+z6Mq+x5tyPWnNNltmfAgEIfQ+EzT3dCaydCgEqctkRCH0/ZBAIUJFAAIJAAIJAAIJAAIJAAIJAAIJAWEJ2jHimXfYZD5m+svfhr/lchvl83tnm9PQ01dd7773X2eaq52VcV3bfv3z5srNNzcE6Ned0XJdAAMK9DoS2bUvbtvH3bDZbeYOgz/oeCCvVaScnJ2U8HsdyeHhYa7ugl14HQteyqVYKhKOjozKdTmOZTCa1tgu4BSsdMjRNU5qmqbUt0HuDwaDzBOmdrRCAu8VVBqio7ycVBQJUJBCA0PdAcA4BCCoEqKjvFcJGz2XIPP+g5lyGrExfmfH7pZQynU472/z888+pvkajUWeb3d3dVF+ZD212n2bmKWTnMtSa85B5fct8cQUCEAQCEAQCEPoeCK4yAEGFABX1vUIQCFCRQACCQACCQABC3wPBVQYgqBCgor5XCDcSCIvF4spx7jWfy5Ad215zLkNmjsW/70Z9lT///LOzzY8//pjq6/PPP+9s88EHH6T6ysx5yH6waz7HIqPWPAVzGYCV9D0QnEMAggoBKnLXZeDOUCFARX0/hyAQoKK+B4JDBiCoEKAiFQJwZ6gQoKK+Vwi3Egg1h7zWXGfN28Nn/f33351tfvrpp1Rf8/m8s81wOEz1tb3d/dHI9pXZr+seulxzfRfX3edAcMgABIcMUJEKAbgzVAhQkQoBuDNUCFBR3ysEgQAV9T0QHDIAQSAAwSEDVOSQAbgzbqRC6ErJ7Bj4TLubGpO+6jrPz89Tfe3s7HS2+eGHH1J9ffvtt6l2Gev+FcuuL7PvM3NNavVzkQoBuDOcQ4CK+l4hCASoqO+B4JABCCoEqEiFANwZKgSoSIUA3BkqBKio7xWCQICK7nUgtG1b2raNv6fTaSmllNPT09W26ho2dehy5pbopeRuw56V6Ws2m6X6ev78eWeb7G3ya75HtW7pnmnz+nN8ne3P7N/se3ArFis4Pj5elFIslju9/PLLL53fhfl8vnj06FG6z0ePHi3m8/kqX78bMVgslo/vixXCs2fPyqefflr++OOPMh6Pl+12rWazWTk8PCyTyaSMRqPb3pwU27we0+m0PH78uDx9+rQ8fPiws/3Z2VmqsiqllN3d3bK3t7fiFta30iFD0zSlaZr//PfxeNybN/210Whkm9egj9ucPTTa29vbyC/5dbjsCASBAISqgdA0TTk+Pr70MGJT2eb1sM39sNJJReBuccgABIEABIEABIEABIEABIEABIEABIEABIEABIEABIEABIEABIEAhP8BC+JeMcbOMAYAAAAASUVORK5CYII=' width=260.0/>\n",
       "            </div>\n",
       "        "
      ],
      "text/plain": [
       "Canvas(toolbar=Toolbar(toolitems=[('Home', 'Reset original view', 'home', 'home'), ('Back', 'Back to previous …"
      ]
     },
     "metadata": {},
     "output_type": "display_data"
    }
   ],
   "source": [
    "fig, axs = plt.subplots(figsize=(2.6,2.6)) #figsize=(2.6,2.6)\n",
    "ax = axs\n",
    "\n",
    "imsavepath = '/home/liam/temp/image_transfer/fig4_nofight_wbar.png'\n",
    "\n",
    "tet_bins = np.linspace(-np.pi, np.pi, 20)\n",
    "bin_width = tet_bins[1]-tet_bins[0]\n",
    "\n",
    "counts, xedges, yedges, im = ax.hist2d(data[:,0], data[:,1], bins=tet_bins, cmap='Greys', density=True);\n",
    "cbar = fig.colorbar(im, ax=ax, ticks=[0, np.max(counts)])\n",
    "cbar.ax.set_yticklabels([])  # vertically oriented colorbar\n",
    "\n",
    "ax.set_xticks([-np.pi, -np.pi/2, 0, np.pi/2, np.pi])\n",
    "ax.set_yticks([-np.pi, -np.pi/2, 0, np.pi/2, np.pi])\n",
    "\n",
    "ax.set_xticklabels([], fontsize=13)\n",
    "ax.set_yticklabels([], fontsize=13)\n",
    "\n",
    "fig.tight_layout()\n",
    "\n",
    "fig.savefig(imsavepath, dpi=300, transparent=False)"
   ]
  },
  {
   "cell_type": "code",
   "execution_count": null,
   "id": "de05e23f-24ab-41d6-b040-54cd287af7c2",
   "metadata": {},
   "outputs": [],
   "source": []
  },
  {
   "cell_type": "code",
   "execution_count": 51,
   "id": "d551fc3c-aebb-48b2-bde2-7a9ee0207af8",
   "metadata": {},
   "outputs": [
    {
     "data": {
      "application/vnd.jupyter.widget-view+json": {
       "model_id": "776a47b203864e369a04e6115ba212bb",
       "version_major": 2,
       "version_minor": 0
      },
      "text/html": [
       "\n",
       "            <div style=\"display: inline-block;\">\n",
       "                <div class=\"jupyter-widgets widget-label\" style=\"text-align: center;\">\n",
       "                    Figure\n",
       "                </div>\n",
       "                <img src='data:image/png;base64,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' width=260.0/>\n",
       "            </div>\n",
       "        "
      ],
      "text/plain": [
       "Canvas(toolbar=Toolbar(toolitems=[('Home', 'Reset original view', 'home', 'home'), ('Back', 'Back to previous …"
      ]
     },
     "metadata": {},
     "output_type": "display_data"
    }
   ],
   "source": [
    "fig, axs = plt.subplots(figsize=(2.6,2.6)) #figsize=(2.6,2.6)\n",
    "ax = axs\n",
    "\n",
    "imsavepath = '/home/liam/temp/image_transfer/fig4_nofight_woutbar.png'\n",
    "\n",
    "tet_bins = np.linspace(-np.pi, np.pi, 20)\n",
    "bin_width = tet_bins[1]-tet_bins[0]\n",
    "\n",
    "counts, xedges, yedges, im = ax.hist2d(data[:,0], data[:,1], bins=tet_bins, cmap='Greys', density=True);\n",
    "#cbar = fig.colorbar(im, ax=ax, ticks=[0, np.max(counts)])\n",
    "#cbar.ax.set_yticklabels([])  # vertically oriented colorbar\n",
    "\n",
    "ax.set_xticks([-np.pi, -np.pi/2, 0, np.pi/2, np.pi])\n",
    "ax.set_yticks([-np.pi, -np.pi/2, 0, np.pi/2, np.pi])\n",
    "\n",
    "ax.set_xticklabels([], fontsize=13)\n",
    "ax.set_yticklabels([], fontsize=13)\n",
    "\n",
    "ax.xaxis.set_tick_params(width=1, length=4)\n",
    "ax.yaxis.set_tick_params(width=1, length=4)\n",
    "for axis in ['top','bottom','left','right']:\n",
    "    ax.spines[axis].set_linewidth(1)\n",
    "\n",
    "fig.tight_layout()\n",
    "\n",
    "fig.savefig(imsavepath, dpi=300, transparent=False)"
   ]
  },
  {
   "cell_type": "code",
   "execution_count": null,
   "id": "19a5f33b-171b-4339-98a6-74d291746e7e",
   "metadata": {},
   "outputs": [],
   "source": []
  },
  {
   "cell_type": "code",
   "execution_count": null,
   "id": "b053518b-1ab2-484e-889e-ce7ea3173cd9",
   "metadata": {},
   "outputs": [],
   "source": []
  },
  {
   "cell_type": "code",
   "execution_count": null,
   "id": "6320b98a-ac61-4783-a798-a8637a5887f9",
   "metadata": {},
   "outputs": [],
   "source": []
  },
  {
   "cell_type": "code",
   "execution_count": null,
   "id": "4d87af6a-9447-42b8-9225-38f153fbaba6",
   "metadata": {},
   "outputs": [],
   "source": []
  },
  {
   "cell_type": "code",
   "execution_count": null,
   "id": "a42a62ce-80d4-47f9-9146-140bd937c552",
   "metadata": {},
   "outputs": [],
   "source": []
  },
  {
   "cell_type": "code",
   "execution_count": null,
   "id": "b4b6a1f9-1005-4080-a4c1-07c2bf49902b",
   "metadata": {},
   "outputs": [],
   "source": []
  },
  {
   "cell_type": "code",
   "execution_count": null,
   "id": "8db9043e-a3c5-4a8f-88bb-cce564f0ed09",
   "metadata": {},
   "outputs": [],
   "source": []
  }
 ],
 "metadata": {
  "kernelspec": {
   "display_name": "analysis",
   "language": "python",
   "name": "analysis"
  },
  "language_info": {
   "codemirror_mode": {
    "name": "ipython",
    "version": 3
   },
   "file_extension": ".py",
   "mimetype": "text/x-python",
   "name": "python",
   "nbconvert_exporter": "python",
   "pygments_lexer": "ipython3",
   "version": "3.9.7"
  }
 },
 "nbformat": 4,
 "nbformat_minor": 5
}

{
 "cells": [
  {
   "cell_type": "code",
   "execution_count": null,
   "id": "8dce474b-ff82-45f8-8d31-601d5e217bf3",
   "metadata": {},
   "outputs": [],
   "source": []
  },
  {
   "cell_type": "code",
   "execution_count": null,
   "id": "3e91f8af-6e77-47c7-9c61-b80df90ef29e",
   "metadata": {},
   "outputs": [],
   "source": []
  },
  {
   "cell_type": "markdown",
   "id": "00deff3c-6f6f-4584-8151-1f069b0ae957",
   "metadata": {},
   "source": [
    "# Notes"
   ]
  },
  {
   "cell_type": "code",
   "execution_count": null,
   "id": "da4dca35-5fa6-4146-a434-25ef59e6192e",
   "metadata": {},
   "outputs": [],
   "source": []
  },
  {
   "cell_type": "code",
   "execution_count": null,
   "id": "93164394",
   "metadata": {},
   "outputs": [],
   "source": []
  },
  {
   "cell_type": "code",
   "execution_count": null,
   "id": "f47abab5-a698-41ee-8d58-d13cd72fc59c",
   "metadata": {},
   "outputs": [],
   "source": []
  },
  {
   "cell_type": "markdown",
   "id": "a096c673-053a-4dfa-a7da-eb8c8896e2a4",
   "metadata": {},
   "source": [
    "# Imports"
   ]
  },
  {
   "cell_type": "code",
   "execution_count": 3,
   "id": "0ffc9353-7621-4809-8238-000f55235c2a",
   "metadata": {},
   "outputs": [
    {
     "name": "stdout",
     "output_type": "stream",
     "text": [
      "The autoreload extension is already loaded. To reload it, use:\n",
      "  %reload_ext autoreload\n"
     ]
    }
   ],
   "source": [
    "import numpy as np\n",
    "np.set_printoptions(suppress=True)\n",
    "import h5py\n",
    "import time\n",
    "import glob\n",
    "import pandas as pd\n",
    "import matplotlib.pyplot as plt\n",
    "import matplotlib.patches as mpatches\n",
    "from scipy.spatial import distance\n",
    "import seaborn as sns\n",
    "import os\n",
    "import sys\n",
    "%matplotlib widget\n",
    "%load_ext autoreload\n",
    "%autoreload 2\n",
    "\n",
    "# --- import functions for computing kinematic variables --- #\n",
    "sys.path.append('../tracking_code/lib/')\n",
    "sys.path.append('./lib/')\n",
    "\n",
    "from kinematics import compute_pec_pec_distance, compute_thetaW_and_thetaL\n",
    "from kinematics import compute_signed_pec_z_difference, compute_phi_dot_from_raw_trajectories, compute_coordinate_origin_z\n",
    "from post_processing import contiguous_regions\n",
    "from windowed_prob_utils import return_overlapping_windows_for_timeframes, compute_windowed_distribution_array_from_1D_tseries\n",
    "from windowed_prob_utils import get_fightbout_rectangle_info\n"
   ]
  },
  {
   "cell_type": "code",
   "execution_count": null,
   "id": "038d254d-0e40-468f-8d2f-20a16e5a2340",
   "metadata": {},
   "outputs": [],
   "source": []
  },
  {
   "cell_type": "code",
   "execution_count": null,
   "id": "f8c2c67d-d0a5-4306-a8de-123246dd396a",
   "metadata": {},
   "outputs": [],
   "source": []
  },
  {
   "cell_type": "markdown",
   "id": "352db5df-32d2-448c-951e-c182e697976b",
   "metadata": {},
   "source": [
    "# load the tracking data"
   ]
  },
  {
   "cell_type": "code",
   "execution_count": null,
   "id": "a801f802-708e-46ad-b624-f54528e9ba60",
   "metadata": {},
   "outputs": [],
   "source": []
  },
  {
   "cell_type": "code",
   "execution_count": 4,
   "id": "1a230372-ee0f-4866-8599-ae624503ce04",
   "metadata": {},
   "outputs": [],
   "source": [
    "main_load_folder = '/media/liam/hd1/fighting_data/tracking_results/'\n",
    "\n",
    "# ----------------------#\n",
    "\n",
    "interp_polyOrd=1  # the order of the polynomial used for interpolation\n",
    "interp_limit=5    # the maximum number of frames to interpolate over\n",
    "savgol_win=9      # the number of frames for the Savitzky-Golay filter\n",
    "savgol_ord=2      # the polynomial order for the Savitzky-Golay filter\n",
    "dt=0.01           # the frame rate of the recording\n",
    "\n",
    "\n",
    "# the filepaths for loading the infomap timeseries data we need\n",
    "infomap_data_loadpath = os.path.join( os.path.dirname(os.path.dirname(main_load_folder)) , \n",
    "                                      'infomap_data/transmat_and_infomap.h5')\n",
    "\n",
    "# the path for loading the fightbout info\n",
    "fightBouts_info_path = os.path.join(main_load_folder, 'fightBouts.h5')\n",
    "\n",
    "\n",
    "# -----------------------#\n",
    "\n",
    "loadpaths = glob.glob(os.path.join(main_load_folder, '*results.h5'))\n",
    "loadpaths.sort()\n",
    "\n",
    "# parse the exp names\n",
    "expNames = [path.split('/')[-1][:23] for path in loadpaths]\n",
    "\n",
    "\n",
    "raw_trajectories = []\n",
    "for path in loadpaths:\n",
    "    with h5py.File(path, 'r') as hf:\n",
    "        tracks_3D_raw = hf['tracks_3D_raw'][:]\n",
    "    raw_trajectories.append(tracks_3D_raw)\n",
    "\n",
    "smooth_trajectories = []\n",
    "for path in loadpaths:\n",
    "    with h5py.File(path, 'r') as hf:\n",
    "        tracks_3D_smooth = hf['tracks_3D_smooth'][:]\n",
    "    smooth_trajectories.append(tracks_3D_smooth)\n",
    "    \n",
    "    \n",
    "# create a list of the number of frames in each experiment\n",
    "expNumFrames = []\n",
    "for expIdx in range(len(expNames)):\n",
    "    nfs = smooth_trajectories[expIdx].shape[0]\n",
    "    expNumFrames.append(nfs)\n",
    "    \n",
    "# -----------------------------#\n",
    "# load other useful information\n",
    "    \n",
    "other_info_loadpath = os.path.join(main_load_folder, 'winners_losers_inconclusive.h5')\n",
    "with h5py.File(other_info_loadpath, 'r') as hf:\n",
    "    winner_idxs = hf['winner_idxs'][:]\n",
    "    loser_idxs = hf['loser_idxs'][:]\n",
    "    conclusive_winner_loser = hf['conclusive_winner_loser'][:]\n",
    "    already_established_dominance = hf['already_established_dominance'][:]\n",
    "\n",
    "\n",
    "with h5py.File(fightBouts_info_path, 'r') as hf:\n",
    "    fight_bout_info = hf['fight_bout_info'][:]\n",
    "    fight_bout_info_noDurThresh = hf['fight_bout_info_noDurThresh'][:]"
   ]
  },
  {
   "cell_type": "code",
   "execution_count": null,
   "id": "34f02a0b",
   "metadata": {},
   "outputs": [],
   "source": []
  },
  {
   "cell_type": "markdown",
   "id": "612aff74-4d9f-4b2d-ad32-4fcbfce1920d",
   "metadata": {},
   "source": [
    "# compute the $D_{PP}, \\theta_{W}, \\theta_{L}$ vars"
   ]
  },
  {
   "cell_type": "code",
   "execution_count": 5,
   "id": "909119b8-3e84-4ef6-aca7-8b717200e716",
   "metadata": {},
   "outputs": [
    {
     "name": "stdout",
     "output_type": "stream",
     "text": [
      "FishTank20200127_143538\n",
      "FishTank20200129_140656\n",
      "FishTank20200130_153857\n",
      "FishTank20200130_181614\n",
      "FishTank20200207_161445\n",
      "FishTank20200213_154940\n",
      "FishTank20200214_153519\n",
      "FishTank20200217_160052\n",
      "FishTank20200218_153008\n",
      "FishTank20200316_163320\n",
      "FishTank20200327_154737\n",
      "FishTank20200330_161100\n",
      "FishTank20200331_162136\n",
      "FishTank20200520_152810\n",
      "FishTank20200521_154541\n",
      "FishTank20200525_161602\n",
      "FishTank20200526_160100\n"
     ]
    },
    {
     "name": "stderr",
     "output_type": "stream",
     "text": [
      "/home/liam/code/Dynamics_of_dominance/figures_code/../tracking_code/lib/kinematics.py:24: RuntimeWarning: invalid value encountered in true_divide\n",
      "  vec_ts = vec_ts / row_norms[:, np.newaxis]\n"
     ]
    },
    {
     "name": "stdout",
     "output_type": "stream",
     "text": [
      "FishTank20200527_152401\n",
      "FishTank20200824_151740\n",
      "FishTank20200828_155504\n",
      "FishTank20200902_160124\n",
      "FishTank20200903_160946\n",
      "\n",
      "finished: 7.593744849786162 s\n"
     ]
    }
   ],
   "source": [
    "# ---- generate the state variables for all exps ---- #\n",
    "\n",
    "\n",
    "t0 = time.perf_counter()\n",
    "\n",
    "exp_dpps = []\n",
    "exp_tetWs = []\n",
    "exp_tetLs = []\n",
    "\n",
    "for ii, expName in enumerate(expNames):\n",
    "    print(expName)\n",
    "    \n",
    "    smooth_traj = smooth_trajectories[ii]\n",
    "    winIdx = winner_idxs[ii]\n",
    "    losIdx = loser_idxs[ii]\n",
    "    \n",
    "    dpp_ts = compute_pec_pec_distance(smooth_traj)\n",
    "    tetW_ts, tetL_ts = compute_thetaW_and_thetaL(smooth_traj, winIdx, losIdx)\n",
    "    \n",
    "    # ---- record ---- #\n",
    "    \n",
    "    exp_dpps.append(dpp_ts)\n",
    "    exp_tetWs.append(tetW_ts)\n",
    "    exp_tetLs.append(tetL_ts)\n",
    "    \n",
    "tE = time.perf_counter()\n",
    "print()\n",
    "print('finished: {0} s'.format(tE-t0))"
   ]
  },
  {
   "cell_type": "code",
   "execution_count": null,
   "id": "bc45be10-177f-4cc6-982a-fab3c8af6739",
   "metadata": {},
   "outputs": [],
   "source": []
  },
  {
   "cell_type": "code",
   "execution_count": null,
   "id": "5e5ef389-6b71-4af3-b6ac-56b3e8ea494a",
   "metadata": {},
   "outputs": [],
   "source": []
  },
  {
   "cell_type": "markdown",
   "id": "3a5d84bb-dd6a-4c7f-9849-d2a3cf8c9182",
   "metadata": {},
   "source": [
    "# prepare the arrays for indexing within fights and outside fights"
   ]
  },
  {
   "cell_type": "markdown",
   "id": "97ceac5b-d883-410d-a2c4-b5425b6053b5",
   "metadata": {},
   "source": [
    "For this figure, we will use without the size threshold on bout duration"
   ]
  },
  {
   "cell_type": "code",
   "execution_count": 6,
   "id": "53432275-07ba-4681-a8ba-0d0d3cf69d9f",
   "metadata": {},
   "outputs": [
    {
     "data": {
      "text/plain": [
       "(33, 4)"
      ]
     },
     "execution_count": 6,
     "metadata": {},
     "output_type": "execute_result"
    }
   ],
   "source": [
    "figure_bout_info = np.copy(fight_bout_info_noDurThresh)\n",
    "\n",
    "# the set of expIdxs that have contributions to figure_bout_info\n",
    "chosen_expIdxs = np.unique(figure_bout_info[:,0])\n",
    "\n",
    "numBouts = figure_bout_info.shape[0]\n",
    "\n",
    "figure_bout_info.shape"
   ]
  },
  {
   "cell_type": "code",
   "execution_count": null,
   "id": "a642bf52-f5df-4174-99b9-d03152878ba6",
   "metadata": {},
   "outputs": [],
   "source": []
  },
  {
   "cell_type": "code",
   "execution_count": 7,
   "id": "396a6346-281c-4089-9940-e5381b1332ab",
   "metadata": {},
   "outputs": [],
   "source": [
    "# ---- prepare the nonfight regions ----#\n",
    "# based on 'figure_bout_info'\n",
    "\n",
    "chosen_expIdx_nonFight_regions = []\n",
    "\n",
    "for expIdx in chosen_expIdxs:\n",
    "    expName = expNames[expIdx]\n",
    "    \n",
    "    # find the bouts for this exp\n",
    "    fight_epoch_array_rows = np.where(figure_bout_info[:,0] == expIdx)[0]\n",
    "    \n",
    "    # turn into list format over bouts, data is (startFrame,stopFrame)\n",
    "    exp_fight_bout_lims_list = []\n",
    "    for rowIdx in fight_epoch_array_rows:\n",
    "        fight_bout_lims = figure_bout_info[rowIdx,1:3]\n",
    "        exp_fight_bout_lims_list.append(fight_bout_lims)\n",
    "        \n",
    "    # now, prepare a binary timeseries of fight/non-fight membership for all frames,\n",
    "    # recording all fights as truth\n",
    "    expnfs = expNumFrames[expIdx]\n",
    "    exp_fightFrame_bin_arr = np.zeros((expnfs,), dtype=bool)\n",
    "    for bIdx in range(len(exp_fight_bout_lims_list)):\n",
    "        exp_fightFrame_bin_arr[ exp_fight_bout_lims_list[bIdx][0]:exp_fight_bout_lims_list[bIdx][1]] = True\n",
    "        \n",
    "    # now find contiguous regions of the inverse of this array, \n",
    "    # giving us frame ranges where the fish are not fighting\n",
    "    exp_non_fight_regions = contiguous_regions(~exp_fightFrame_bin_arr)\n",
    "    \n",
    "    # record\n",
    "    chosen_expIdx_nonFight_regions.append([expIdx, exp_non_fight_regions])\n",
    "    \n",
    "    \n",
    "# make into array along fightbouts with expIdxs\n",
    "figure_nonBout_info = []\n",
    "for vals in chosen_expIdx_nonFight_regions:\n",
    "    expIdx = vals[0]\n",
    "    boutInfo = vals[1]\n",
    "    expIdx_with_boutInfo_arr = np.full((boutInfo.shape[0],3), fill_value=expIdx)\n",
    "    expIdx_with_boutInfo_arr[:,1:] = boutInfo\n",
    "    figure_nonBout_info.append(expIdx_with_boutInfo_arr)\n",
    "figure_nonBout_info = np.concatenate(figure_nonBout_info, axis=0)\n",
    "\n",
    "numNoNBouts = figure_nonBout_info.shape[0]"
   ]
  },
  {
   "cell_type": "code",
   "execution_count": null,
   "id": "fe8a4c80-8400-4f61-8a2d-7d123719433b",
   "metadata": {},
   "outputs": [],
   "source": []
  },
  {
   "cell_type": "code",
   "execution_count": 8,
   "id": "76b174c8-b263-4d89-888b-64a325c60296",
   "metadata": {},
   "outputs": [
    {
     "data": {
      "text/plain": [
       "array([[      0,       0,  385500],\n",
       "       [      0,  427400,  583500],\n",
       "       [      0,  610400,  643500],\n",
       "       [      0,  805400,  971756],\n",
       "       [      1,       0,  274500],\n",
       "       [      1,  301400,  385700],\n",
       "       [      1,  409400,  493700],\n",
       "       [      1,  655400,  700700],\n",
       "       [      1,  718600,  769848],\n",
       "       [      2,       0,   31500],\n",
       "       [      2,  175400,  301300],\n",
       "       [      2,  319600,  501943],\n",
       "       [      3,       0,  331300],\n",
       "       [      3,  436400,  517000],\n",
       "       [      5,       0,  448500],\n",
       "       [      5,  559400,  730119],\n",
       "       [      6,       0,  217700],\n",
       "       [      6,  250400,  495610],\n",
       "       [      7,       0,   91500],\n",
       "       [      7,  127400,  505500],\n",
       "       [      7,  553400,  601226],\n",
       "       [      8,       0,  181500],\n",
       "       [      8,  256200,  274700],\n",
       "       [      8,  334400,  352500],\n",
       "       [      8,  370400,  537880],\n",
       "       [     10,       0,   19700],\n",
       "       [     10,   79400,  561010],\n",
       "       [     11,       0,  214900],\n",
       "       [     11,  280400,  556428],\n",
       "       [     12,       0,  142500],\n",
       "       [     12,  226400,  262500],\n",
       "       [     12,  343400,  358500],\n",
       "       [     12,  385400,  746434],\n",
       "       [     13,       0,  694500],\n",
       "       [     13,  745600, 1248577],\n",
       "       [     14,       0,    7700],\n",
       "       [     14,   61800,  596607],\n",
       "       [     15,       0,   13500],\n",
       "       [     15,  184400,  490500],\n",
       "       [     15,  514600,  588962],\n",
       "       [     17,       0,   85500],\n",
       "       [     17,  124400,  421500],\n",
       "       [     17,  436600,  497635],\n",
       "       [     18,       0,  388700],\n",
       "       [     18,  556400,  898700],\n",
       "       [     18,  931400, 1695643],\n",
       "       [     19,       0,  526700],\n",
       "       [     19,  571200,  798382],\n",
       "       [     20,       0,   40900],\n",
       "       [     20,  169600,  559700],\n",
       "       [     20,  595400,  717814]])"
      ]
     },
     "execution_count": 8,
     "metadata": {},
     "output_type": "execute_result"
    }
   ],
   "source": [
    "figure_nonBout_info"
   ]
  },
  {
   "cell_type": "code",
   "execution_count": null,
   "id": "5d0204bc-49e9-4ac9-9eed-74f1e43603a1",
   "metadata": {},
   "outputs": [],
   "source": []
  },
  {
   "cell_type": "markdown",
   "id": "fa85ca3c-77aa-4453-8e65-c50885f6b14f",
   "metadata": {},
   "source": [
    "# gathering $\\theta$s in fights and out"
   ]
  },
  {
   "cell_type": "code",
   "execution_count": null,
   "id": "2861b4f0-1d49-4d90-b01c-d1f153400eae",
   "metadata": {},
   "outputs": [],
   "source": []
  },
  {
   "cell_type": "code",
   "execution_count": null,
   "id": "a0be6b8d-72b5-4460-92c9-f663e71b8d42",
   "metadata": {},
   "outputs": [],
   "source": []
  },
  {
   "cell_type": "code",
   "execution_count": 9,
   "id": "8f446eaa-ccca-4d1f-a72f-2f1b648eb1ce",
   "metadata": {},
   "outputs": [],
   "source": [
    "# ----- get all fight state vars ---- #\n",
    "\n",
    "\n",
    "master_fight_dpps = []\n",
    "master_fight_tetWs = []\n",
    "master_fight_tetLs = []\n",
    "\n",
    "for boutIdx in range(numBouts):\n",
    "    \n",
    "    expIdx, f0, fE, bout_duration = figure_bout_info[boutIdx]\n",
    "    \n",
    "    bout_dpp = np.copy( exp_dpps[expIdx][f0:fE] )\n",
    "    bout_tetW = np.copy( exp_tetWs[expIdx][f0:fE] )\n",
    "    bout_tetL = np.copy( exp_tetLs[expIdx][f0:fE] )\n",
    "    \n",
    "    master_fight_dpps.append(bout_dpp)\n",
    "    master_fight_tetWs.append(bout_tetW)\n",
    "    master_fight_tetLs.append(bout_tetL)\n",
    "    \n",
    "# concatenate the results\n",
    "master_fight_dpps = np.concatenate(master_fight_dpps)\n",
    "master_fight_tetWs = np.concatenate(master_fight_tetWs)\n",
    "master_fight_tetLs = np.concatenate(master_fight_tetLs)\n",
    "    \n"
   ]
  },
  {
   "cell_type": "code",
   "execution_count": 10,
   "id": "e3c9ed66-ba80-4149-bde4-3fa5a48dc071",
   "metadata": {},
   "outputs": [],
   "source": [
    "# ---- get all non-fight state vars ---- #\n",
    "\n",
    "\n",
    "master_nonfight_dpps = []\n",
    "master_nonfight_tetWs = []\n",
    "master_nonfight_tetLs = []\n",
    "\n",
    "for boutIdx in range(numNoNBouts):\n",
    "    \n",
    "    expIdx, f0, fE = figure_nonBout_info[boutIdx]\n",
    "    \n",
    "    nonBout_dpp =  np.copy( exp_dpps[expIdx][f0:fE] )\n",
    "    nonBout_tetW = np.copy( exp_tetWs[expIdx][f0:fE] )\n",
    "    nonBout_tetL = np.copy( exp_tetLs[expIdx][f0:fE] )\n",
    "    \n",
    "    master_nonfight_dpps.append(nonBout_dpp)\n",
    "    master_nonfight_tetWs.append(nonBout_tetW)\n",
    "    master_nonfight_tetLs.append(nonBout_tetL)\n",
    "    \n",
    "# concatenate the results\n",
    "master_nonfight_dpps = np.concatenate(master_nonfight_dpps)\n",
    "master_nonfight_tetWs = np.concatenate(master_nonfight_tetWs)\n",
    "master_nonfight_tetLs = np.concatenate(master_nonfight_tetLs)"
   ]
  },
  {
   "cell_type": "code",
   "execution_count": null,
   "id": "a3fe54bf-8585-4022-9abd-4a7476a4fa56",
   "metadata": {},
   "outputs": [],
   "source": []
  },
  {
   "cell_type": "code",
   "execution_count": null,
   "id": "a47f6b12-8b5f-4a6d-a90a-3dd7b4197b01",
   "metadata": {},
   "outputs": [],
   "source": [
    "# concatenate the results\n",
    "# master_fight_dpps\n",
    "# master_fight_tetWs \n",
    "# master_fight_tetLs\n",
    "\n",
    "# master_nonfight_dpps\n",
    "# master_nonfight_tetWs \n",
    "# master_nonfight_tetLs "
   ]
  },
  {
   "cell_type": "code",
   "execution_count": null,
   "id": "41f83b9f-bff7-4116-9b44-c9eea5b0bde1",
   "metadata": {},
   "outputs": [],
   "source": []
  },
  {
   "cell_type": "code",
   "execution_count": null,
   "id": "ff78c3b0-fa2f-42c7-b954-0b0adebb2636",
   "metadata": {},
   "outputs": [],
   "source": []
  },
  {
   "cell_type": "markdown",
   "id": "a00c52f2-e384-4a28-93f8-e83974b3b1fa",
   "metadata": {},
   "source": [
    "# Panel A: the theta-theta explanation figure"
   ]
  },
  {
   "cell_type": "markdown",
   "id": "422fdf27-5c85-4f6c-8caa-a36f97890568",
   "metadata": {
    "tags": []
   },
   "source": [
    "## prep version"
   ]
  },
  {
   "cell_type": "code",
   "execution_count": 11,
   "id": "8b295b60-f323-43cb-b874-8044125d4073",
   "metadata": {},
   "outputs": [
    {
     "data": {
      "text/plain": [
       "<matplotlib.patches.FancyArrow at 0x7f3f71cb3430>"
      ]
     },
     "execution_count": 66,
     "metadata": {},
     "output_type": "execute_result"
    },
    {
     "data": {
      "application/vnd.jupyter.widget-view+json": {
       "model_id": "d7ad8827caa84292ae26f89d16b9091d",
       "version_major": 2,
       "version_minor": 0
      },
      "text/html": [
       "\n",
       "            <div style=\"display: inline-block;\">\n",
       "                <div class=\"jupyter-widgets widget-label\" style=\"text-align: center;\">\n",
       "                    Figure\n",
       "                </div>\n",
       "                <img src='data:image/png;base64,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' width=1000.0/>\n",
       "            </div>\n",
       "        "
      ],
      "text/plain": [
       "Canvas(toolbar=Toolbar(toolitems=[('Home', 'Reset original view', 'home', 'home'), ('Back', 'Back to previous …"
      ]
     },
     "metadata": {},
     "output_type": "display_data"
    }
   ],
   "source": [
    "# --- explanatory figure --- #\n",
    "\n",
    "# ---- set-up the main figure information ----- #\n",
    "fig = plt.figure(figsize=(10,10)) \n",
    "gs = fig.add_gridspec(10, 10)\n",
    "\n",
    "\n",
    "\n",
    "ax = fig.add_subplot(gs[:, :])\n",
    "ax.set_xlim(-np.pi, np.pi);\n",
    "ax.set_ylim(-np.pi, np.pi);\n",
    "ax.set_xticks([-np.pi, -np.pi/2, 0, np.pi/2, np.pi]);\n",
    "ax.set_xticklabels([r\"-$\\pi$\", r\"-$\\pi/2$\", r\"0\", r\"$\\pi/2$\", r\"$\\pi$\"], fontsize=25,);\n",
    "ax.set_yticks([-np.pi, -np.pi/2, 0, np.pi/2, np.pi]);\n",
    "ax.set_yticklabels([r\"-$\\pi$\", r\"-$\\pi/2$\", r\"0\", r\"$\\pi/2$\", r\"$\\pi$\"], fontsize=25,);\n",
    "ax.set_xlabel(r'$\\theta_{W}$ [rad]', fontsize=30, )\n",
    "ax.set_ylabel(r'$\\theta_{L}$ [rad]', fontsize=30,)\n",
    "\n",
    "\n",
    "# we want to rotate so theta=0 points from origin to y-inf\n",
    "image_rot_angle = np.pi/2\n",
    "# scale the size of the arrows\n",
    "arrfac = 0.2\n",
    "# winner-loser-top\n",
    "c_x = 0\n",
    "c_y = np.pi/2+0.8\n",
    "vert_gap = 0.2\n",
    "dx_winner = -arrfac*np.cos(c_x + np.pi/2)\n",
    "dy_winner = arrfac*np.sin(c_x + np.pi/2)\n",
    "dx_loser = arrfac*np.cos(c_y + np.pi/2)\n",
    "dy_loser = -arrfac*np.sin(c_y + np.pi/2)\n",
    "ax.arrow(c_x, c_y-vert_gap, dx=dx_winner, dy=dy_winner, head_width=0.1, color='red')\n",
    "ax.arrow(c_x+0.1, c_y+vert_gap, dx=dx_loser, dy=dy_loser, head_width=0.1, color='blue')\n",
    "# winner-loser-bottom\n",
    "c_x = 0\n",
    "c_y = -(np.pi/2+0.8)\n",
    "vert_gap = 0.2\n",
    "dx_winner = -arrfac*np.cos(c_x + np.pi/2)\n",
    "dy_winner = arrfac*np.sin(c_x + np.pi/2)\n",
    "dx_loser = arrfac*np.cos(c_y + np.pi/2)\n",
    "dy_loser = -arrfac*np.sin(c_y + np.pi/2)\n",
    "ax.arrow(c_x, c_y-vert_gap, dx=dx_winner, dy=dy_winner, head_width=0.1, color='red')\n",
    "ax.arrow(c_x-0.1, c_y+vert_gap, dx=dx_loser, dy=dy_loser, head_width=0.1, color='blue')\n",
    "# loser-winner-left\n",
    "c_x = -(np.pi-0.6)\n",
    "c_y = 0\n",
    "vert_gap = 0.2\n",
    "dx_winner = -arrfac*np.cos(c_x + np.pi/2)\n",
    "dy_winner = arrfac*np.sin(c_x + np.pi/2)\n",
    "dx_loser = arrfac*np.cos(c_y + np.pi/2)\n",
    "dy_loser = -arrfac*np.sin(c_y + np.pi/2)\n",
    "ax.arrow(c_x+0.1, c_y-vert_gap, dx=dx_winner, dy=dy_winner, head_width=0.1, color='red')\n",
    "ax.arrow(c_x, c_y+vert_gap, dx=dx_loser, dy=dy_loser, head_width=0.1, color='blue')\n",
    "# loser-winner-right\n",
    "c_x = (np.pi-0.6)\n",
    "c_y = 0\n",
    "vert_gap = 0.2\n",
    "dx_winner = -arrfac*np.cos(c_x + np.pi/2)\n",
    "dy_winner = arrfac*np.sin(c_x + np.pi/2)\n",
    "dx_loser = arrfac*np.cos(c_y + np.pi/2)\n",
    "dy_loser = -arrfac*np.sin(c_y + np.pi/2)\n",
    "ax.arrow(c_x-0.1, c_y-vert_gap, dx=dx_winner, dy=dy_winner, head_width=0.1, color='red')\n",
    "ax.arrow(c_x, c_y+vert_gap, dx=dx_loser, dy=dy_loser, head_width=0.1, color='blue')\n",
    "# face-off\n",
    "c_x = 0\n",
    "c_y = 0\n",
    "vert_gap = 0.4\n",
    "dx_winner = arrfac*np.cos(c_x + np.pi/2)\n",
    "dy_winner = arrfac*np.sin(c_x + np.pi/2)\n",
    "dx_loser = arrfac*np.cos(c_y + np.pi/2)\n",
    "dy_loser = -arrfac*np.sin(c_y + np.pi/2)\n",
    "ax.arrow(c_x, c_y-vert_gap, dx=dx_winner, dy=dy_winner, head_width=0.1, color='red')\n",
    "ax.arrow(c_x, c_y+vert_gap, dx=dx_loser, dy=dy_loser, head_width=0.1, color='blue')\n",
    "# parallel WRE (top-left)\n",
    "c_x = -np.pi/2\n",
    "c_y = np.pi/2\n",
    "vert_gap = 0.1\n",
    "dx_winner = -arrfac*np.cos(c_x + np.pi/2)\n",
    "dy_winner = arrfac*np.sin(c_x + np.pi/2)\n",
    "dx_loser = arrfac*np.cos(c_y + np.pi/2)\n",
    "dy_loser = -arrfac*np.sin(c_y + np.pi/2)\n",
    "ax.arrow(c_x+0.1, c_y-vert_gap, dx=dx_winner, dy=dy_winner, head_width=0.1, color='red')\n",
    "ax.arrow(c_x+0.1, c_y+vert_gap, dx=dx_loser, dy=dy_loser, head_width=0.1, color='blue')\n",
    "# parallel WLE (bottom-right)\n",
    "c_x = np.pi/2\n",
    "c_y = -np.pi/2\n",
    "vert_gap = 0.1\n",
    "dx_winner = -arrfac*np.cos(c_x + np.pi/2)\n",
    "dy_winner = arrfac*np.sin(c_x + np.pi/2)\n",
    "dx_loser = arrfac*np.cos(c_y + np.pi/2)\n",
    "dy_loser = -arrfac*np.sin(c_y + np.pi/2)\n",
    "ax.arrow(c_x-0.1, c_y-vert_gap, dx=dx_winner, dy=dy_winner, head_width=0.1, color='red')\n",
    "ax.arrow(c_x-0.1, c_y+vert_gap, dx=dx_loser, dy=dy_loser, head_width=0.1, color='blue')\n",
    "# anti-parallel WLE (top-left)\n",
    "c_x = np.pi/2\n",
    "c_y = np.pi/2\n",
    "horz_gap = 0.15\n",
    "dx_winner = -arrfac*np.cos(c_x + np.pi/2)\n",
    "dy_winner = arrfac*np.sin(c_x + np.pi/2)\n",
    "dx_loser = arrfac*np.cos(c_y + np.pi/2)\n",
    "dy_loser = -arrfac*np.sin(c_y + np.pi/2)\n",
    "ax.arrow(c_x-horz_gap, c_y-vert_gap, dx=dx_winner, dy=dy_winner, head_width=0.1, color='red')\n",
    "ax.arrow(c_x+horz_gap, c_y+vert_gap, dx=dx_loser, dy=dy_loser, head_width=0.1, color='blue')\n",
    "# anti-parallel RE (bottom-right)\n",
    "c_x = -np.pi/2\n",
    "c_y = -np.pi/2\n",
    "horz_gap = 0.15\n",
    "dx_winner = -arrfac*np.cos(c_x + np.pi/2)\n",
    "dy_winner = arrfac*np.sin(c_x + np.pi/2)\n",
    "dx_loser = arrfac*np.cos(c_y + np.pi/2)\n",
    "dy_loser = -arrfac*np.sin(c_y + np.pi/2)\n",
    "ax.arrow(c_x+horz_gap, c_y-vert_gap, dx=dx_winner, dy=dy_winner, head_width=0.1, color='red')\n",
    "ax.arrow(c_x-horz_gap, c_y+vert_gap, dx=dx_loser, dy=dy_loser, head_width=0.1, color='blue')\n",
    "\n",
    "\n",
    "# ---- the 4 corners are done slightly differently ---- #\n",
    "\n",
    "# directly opposite (bottom left)\n",
    "c_x = -np.pi\n",
    "c_y = -np.pi\n",
    "corner_x_offset = 0.1\n",
    "corner_y_offset = 0.3\n",
    "horz_gap = 0\n",
    "vert_gap = 0.01\n",
    "arrfac = 0.1\n",
    "dx_winner = -arrfac*np.cos(c_x + np.pi/2)\n",
    "dy_winner = arrfac*np.sin(c_x + np.pi/2)\n",
    "dx_loser = arrfac*np.cos(c_y + np.pi/2)\n",
    "dy_loser = -arrfac*np.sin(c_y + np.pi/2)\n",
    "ax.arrow(c_x+horz_gap+corner_x_offset, c_y-vert_gap+corner_y_offset, dx=dx_winner, dy=dy_winner, head_width=0.08, color='red')\n",
    "ax.arrow(c_x-horz_gap+corner_x_offset, c_y+vert_gap+corner_y_offset, dx=dx_loser, dy=dy_loser, head_width=0.08, color='blue')\n",
    "\n",
    "# directly opposite (top left)\n",
    "c_x = -np.pi\n",
    "c_y = np.pi\n",
    "corner_x_offset = 0.1\n",
    "corner_y_offset = -0.3\n",
    "horz_gap = 0\n",
    "vert_gap = 0.01\n",
    "arrfac = 0.1\n",
    "dx_winner = -arrfac*np.cos(c_x + np.pi/2)\n",
    "dy_winner = arrfac*np.sin(c_x + np.pi/2)\n",
    "dx_loser = arrfac*np.cos(c_y + np.pi/2)\n",
    "dy_loser = -arrfac*np.sin(c_y + np.pi/2)\n",
    "ax.arrow(c_x+horz_gap+corner_x_offset, c_y-vert_gap+corner_y_offset, dx=dx_winner, dy=dy_winner, head_width=0.08, color='red')\n",
    "ax.arrow(c_x-horz_gap+corner_x_offset, c_y+vert_gap+corner_y_offset, dx=dx_loser, dy=dy_loser, head_width=0.08, color='blue')\n",
    "\n",
    "\n",
    "\n",
    "# directly opposite (top right)\n",
    "c_x = np.pi\n",
    "c_y = np.pi\n",
    "corner_x_offset = -0.1\n",
    "corner_y_offset = -0.3\n",
    "horz_gap = 0\n",
    "vert_gap = 0.01\n",
    "arrfac = 0.1\n",
    "dx_winner = -arrfac*np.cos(c_x + np.pi/2)\n",
    "dy_winner = arrfac*np.sin(c_x + np.pi/2)\n",
    "dx_loser = arrfac*np.cos(c_y + np.pi/2)\n",
    "dy_loser = -arrfac*np.sin(c_y + np.pi/2)\n",
    "ax.arrow(c_x+horz_gap+corner_x_offset, c_y-vert_gap+corner_y_offset, dx=dx_winner, dy=dy_winner, head_width=0.08, color='red')\n",
    "ax.arrow(c_x-horz_gap+corner_x_offset, c_y+vert_gap+corner_y_offset, dx=dx_loser, dy=dy_loser, head_width=0.08, color='blue')\n",
    "\n",
    "\n",
    "# directly opposite (bottom right)\n",
    "c_x = np.pi\n",
    "c_y = -np.pi\n",
    "corner_x_offset = -0.1\n",
    "corner_y_offset = +0.3\n",
    "horz_gap = 0\n",
    "vert_gap = 0.01\n",
    "arrfac = 0.1\n",
    "dx_winner = -arrfac*np.cos(c_x + np.pi/2)\n",
    "dy_winner = arrfac*np.sin(c_x + np.pi/2)\n",
    "dx_loser = arrfac*np.cos(c_y + np.pi/2)\n",
    "dy_loser = -arrfac*np.sin(c_y + np.pi/2)\n",
    "ax.arrow(c_x+horz_gap+corner_x_offset, c_y-vert_gap+corner_y_offset, dx=dx_winner, dy=dy_winner, head_width=0.08, color='red')\n",
    "ax.arrow(c_x-horz_gap+corner_x_offset, c_y+vert_gap+corner_y_offset, dx=dx_loser, dy=dy_loser, head_width=0.08, color='blue')\n",
    "\n",
    "\n",
    "\n"
   ]
  },
  {
   "cell_type": "markdown",
   "id": "84381236-05fc-46cc-a186-6c05856a5684",
   "metadata": {},
   "source": [
    "## paper version"
   ]
  },
  {
   "cell_type": "code",
   "execution_count": 38,
   "id": "864bcea2-6c2b-4a07-a413-e93230db48b6",
   "metadata": {},
   "outputs": [
    {
     "data": {
      "application/vnd.jupyter.widget-view+json": {
       "model_id": "2db90519eac5432fa467ba45e008f54f",
       "version_major": 2,
       "version_minor": 0
      },
      "text/html": [
       "\n",
       "            <div style=\"display: inline-block;\">\n",
       "                <div class=\"jupyter-widgets widget-label\" style=\"text-align: center;\">\n",
       "                    Figure\n",
       "                </div>\n",
       "                <img src='data:image/png;base64,iVBORw0KGgoAAAANSUhEUgAAAQQAAAEECAYAAADOCEoKAAAAOXRFWHRTb2Z0d2FyZQBNYXRwbG90bGliIHZlcnNpb24zLjQuMywgaHR0cHM6Ly9tYXRwbG90bGliLm9yZy/MnkTPAAAACXBIWXMAAA9hAAAPYQGoP6dpAAATLklEQVR4nO3deZAU5f3H8c8e3OdWATJElEOOTRFlMZh4IIIVkTN4LAu6UBqSEElSRWKiwRgXYgnyi6Q8ykQiSjTIIZelgkc0QEKMB+CiqZoVjC7xGBD5IQuyCzvL/P54fvv0DruLsD3N0zvzflVN9dMzO93f3Z75bB9Pd2clEomEAEBStusCAIQHgQDAIhAAWAQCAItAAGARCAAsAgGARSAAsAgEABaBAMAiEABYBAIAi0AAYOX6eXMsFlMsFkt67sCBA4pGoyooKFCbNm18FQfg9FRWVqq8vFyjRo1Sly5dTn8CCR9KSkoSknjw4BGyx9KlS5v0nc7ycz2EhtYQSktLNX36dC1dulT5+flNnTSAJohGoyouLtaWLVt06aWXnvb7fW0yRCIRRSKRBl/Lz8/Xiy8O0dat0po1UlaWnzkBaMjGjdLdd0uPPCL17+8939TN9cB2Ksbj0oIF0rp1UmlpUHMBMtvixSYUVqxIzfQCC4S33pIqKsyawapVQc0FyFxVVdIzz5j28uWpmWZggfDyy1JurpRISMuWmSGA1HnpJenIEdMuK5OiUf/TDCwQtm0zmw2StHu3dMK+RwA+bdly8vGmCCwQfvtbr/3UU1KPHkHNCchMv/yldM45pn3DDdLUqf6nGVggDB7stW+4Iai5AJmrWzdp8mTT/uEPpdat/U+TrssArEAD4b7Z+zX2on1BzgI+VFWZB5qvwonV6tftoAb0T81e+0AD4daH++jZN88KchbwYfx4qXdv6U9/kqqrXVeDpvjmqwtU9lmeun/wWkqmF+wmQ0WFssXxxrDq2VPas0eaMUM67zzpL3+RampcV4XTcuiQ+Y7VHtLzKbhAqFvg0aOBzQZNN3u216X8o4+kadOkr389ZZ8tBC2RkCorTbt26FNwgTBrltfu1Us6eDCwWaFp+vWTioq8DmSS9Mkn0uHDbuvCKXr8cemhh0x79Ghp0ybfkwwuEGq7UEnSgQPmU4fQ+fWvk9cIvvxS6tTJXT04DQcOJI9XVPieZHCBcPXVZn00O1saN05q1y6wWaHpBg0ymwrdukm119PIzqarebNQWOi127WTrrrK9ySDC4SRI83w+HFp0qTAZgP/nnjC7Fzct8/sXJQIhWbh3HOlIUNMe+LElPRMCi4QunSRLrlEatVKGjs2sNkgNWp3Lu7aZdYWJKltW3f14BRNmWKGKfqnG+xhx7VrzWlYbC40K3v3mhyvqpK+8Q3X1eCkbrnFfMdGj07J5ILd01f7rwbNTmWl6afADsaQa9dOGjAgZZNj1z+SHTkitWihrBYt9PHHrovBmcbJTfDs2yd16GBOnUNGIhDgWbfOHBVas0Y6dsx1NXCAQIBn+XJzuOHQIenVV11XAwcIBBj79kmbN5vOB7m50tNPu64IDhAIMNat83oixeNsNmQoAgHG3r3J4/F4/b7ySHsEAozbb5f++U9vvLRUOouL22QaAgFGy5amq7kkdeyYfF8wZAwCAYBFIACwCAQAFoEAwCIQUN+4ca4rgCOc7Yhku3aZi+IiIxEISFZ7DTVkJDYZAFgEAgCLQABgEQgALAIBgEUgALAIBAAWgQDAIhAAWAQCAItAAGARCAAsAgGARSA0Yvdu6b77pKFDpfvvd10Nmmr3bmnhQumii6Tf/951NeHH6c91fPqptGyZuaPZ9u1Sdra51eG//y317t3wey65ROra9czWiZOLxbzluG2btxzffVfq27fh97AcDQKhjkcflebM8caPHzfDqipp4sSG3zN6tLRhQ9CV4XQsXizddZc3firLcdQo6cUXAy8t9AiEOoqLzYdm2TLpv/81tziMx81r997b8HsmTz5z9eHU3HijVFlpluPu3VJOjlRTY15rbDkWFZ25+sKMQKijb19p/nxp3jxz46Knn5ZWrJBuusnc2AjNQ58+Zhnec49ZjqtWmc2HadNYjl/FVyDEYjHFYrGk56LRqK+CwiArSyooMI/5811Xg6aquxznzXNdTfPgKxAWLVqkuXPnpqoWAI75CoQZM2ZowoQJSc9Fo1EVFxf7KioUqqqkl16SVq+Wrr1WuuYa1xUhVRIJs8qwb59UWChdfLE5FAF/gRCJRBSJRFJVi3u1IfD009Izz0hHjpjn33lHGjOm4fe0aMGHKazicW9vYl3V1dKdd5ptigceMHe5njyZcBAdk5ItWGCOSy1b5oWBZAKhdeuGH9/9rrNycRKVlY0vsw4dzM8kEma4d68JhssukzZtclZyGHCUoa4xY6QdO0zHgqNHk49XXX55/Z/PypJKSs5sjTg1bdpIjz8uPfZY/dficem110y79thyXp5ZQxg48MzWGTIEQl1Dh0pr10qHD0vr10srV5pwuPHGhj9YCLdp08zjRDU10qBBZs2gsFCaNEkaPtyEQ4bjL9CQ9u1NT5WiIrPp0KaN64qQSjk5Zk0wO5sQOAF/ja/Stq3rChCEli1dVxBK7FQEYBEIACwCAYBFIACwCAQAFoEAwCIQAFgEAgCLQABgEQgALAIBgEUgALAIBAAWgQDAIhAAWAQCAItAAGARCAAsAgGARSAAsAgEABaBAMAiEABYBAIAi0AAYBEIACwCAYBFIACwCAQAFoEAwCIQAFgEAgCLQABgEQhI8rvfSWVlrquAKwQCktx2mzRmjOsq4AqBgHr273ddAVwhEABYBAIAi0AAYBEIAKxmEQhvvilt3+66ivS2a5f0ve+ZdkWFdPfdUiLhtqZ0lkhIjz8uHTvmupJkzSIQvvUt6cILXVeR3h5+WFqyxBu/6y7pk0/c1ZPutmyRpk+XFi50XUmyZhEICN7Yscnj+fnS2We7qSUTxONmeOiQ2zpORCBAkjRihNSpk2nn5EhTpritB24QCJAk5eZK119v2jU1UmGh23rgBoEAq6jIDPPzpYED3dYCN3JdF4DwGDFCmjRJGj/edSVwxVcgxGIxxWKxpOei0aivguqKx6UHH/TG779f+ulPzTYuUi83V1q50nUV6a+0VHrkEdNeuVK66irpiitcVuTxFQiLFi3S3LlzU1VLPWvXSrfe6o3/7GdSr17SxImBzRII3C23SK+/btoffGA21fbskbKy3NYl+QyEGTNmaMKECUnPRaNRFRcX+yqq1sUXJ49nZUnf/nZKJo3GbN8ude8u9ejhupK0dcUV0ltvmZ23ubnS8OHhCAPJZyBEIhFFIpFU1VJPz57S0KHS1q1m/LLLzGcVASkvNz3ArrnGrJ4hEIWF0r33mnY87u3MDYPQH2WYMsVLz8mT3daS9latMsP166XDh93WksYKCqRzzjHt1q2l0aPd1lNX6APh+uul48dN+9pr3daS9pYvN8Njx0woIBBZWdINN5j2+PFS27Zu66kr9IHQs6d03XVm7YDNhQCVl0tvv23aOTkcbgjY5MnSoEHSTTe5riRZs+iHsHp1nZFEQvrwQ6l37/DsiUkHtZsLktnbVbvZ0L69u5rSzb59UqtWUseOuuAC6d13XRdUX+jXEOoZOVLq29f8cZE6J37xO3WSqqvd1JKubr/d/F0//th1JY1qXoGwZYu0aZNpd+vmtJS086MfSQcOmHaLFmYTIi/PaUlpZ+pUM+zZ020dJ9F8AqGmRho2zLTLy52WkpaysqTOnU27TZtw7elKFyNGmIt7SCaAQ6j5BEJ+vhn+6lfSuee6rQVoqtdeM8NFi6T33nNbSwPCHQhHjkg7dkjPPWeu8SVJ8+e7rQnwIzvbux7gwIFmx22I9i6GOxDGjJEGD5Zqu0d/9pnTcoCUKCgwx9IlqUMH6fzzQ9PvI7yBUFFhdiLWtWePm1qAVBs0yGvn5EgbNrirpY7wBsKrr5odiXXVniKG4LRvb04rRbCWLvX60dTUSM8+G4rLXIc3EDZsMNtbtX+02bOlm292W1Mm+PRTac4c11Wkv/XrpQEDzGdcMn0Tdu50W5PCGgiJhPT88+Ykho4dzR9v3jxzriiC1aGD6woyw4AB0rZtXt8ESXrhBXf1/L9wBkJFhQmDoUOld97h/uRIT23bSn/+s7ljS8uWXscwh8L5L7dTJ7P61KaN+UMB6ezmm6Vx46SuXV1XEtJAkLybBACZIARhIIV1kwGAEwQCAItAAGARCAAsAgGARSAAsAgEABaBAMAiEABYBAIAi0AAYBEIACwCAYBFIACwCAQAFoEAwCIQAFgEAgCLQABgEQgALAIBgEUgALAIBAAWgQDAIhAAWAQCAItAAGARCAAsAgGARSAAsMJ7O/gQO3pUuuceKRKRrr1WOuss1xWhKWqXY/fuZjl27+66IvdYQ2iCN96Q7r5bmjnThMLw4dIf/yjt3eu6MpyOt94yy/HHP5Z69JAuv1z6wx+kPXtcV+YOgdCI996TsrIafgwf7v1cIiH9/e8mHHr0kKqq3NWM+nbubHw5Dhvm/VwiIW3Z4oXDkSPuanaJTYZG9O0rTZ0qvfRS/dc++8xr5+ZK8bjUubNUWGjGER59+kjTpkkvvlj/tYaWY6dOZjm2aHHmagwTPr6NyM2Vnnyy4dfKyqQhQ6RWrcyHZ9Ik6YorCIMwys2Vnnii4dd27pQKCsyXv7BQKipiOfr61WOxmGKxWNJz0WjUV0HNwcCB0u7dUl5eZn94mrv+/aXycpZjXb7+DIsWLdLcuXNTVUuz0rWr6wqQCizHZL4CYcaMGZowYULSc9FoVMXFxb6KCp2yMumvfzU7FTp3dl0NUiWRkJ56yhw3HjGC1QT5DIRIJKJIJJKqWsKlrExatUpavlyq3Qx6/33pgQfc1oXU+de/TMhLJuivv97sEMrgcOCwY0OmTpXy86WSEi8MJOnBBxs/hrVihbt60biPPmp8mV16qfdzX3whLVkiXXWV2Y7I0OPHBEJD8vOl9u3NKuWp/qfo2zfYmtA0eXnShRd+9c9lZ0vHj5ugOP98M56BMvO3/ip33CF9/rn03HPSlClSu3bm+TvvNCHR0GPoULc1o2Ht20tbtza8zEpLvbWFyy6THn5YisWkzZulli1dV+5EZm4onYpWraRx48zj0UelN99MXsVE83fBBdLbb5uTGDghRRKBcGpatUru54r0ccEFrisIFTYZAFgEAgCLQABgEQgALAIBJ7Vxo+m8d8I5bEhTBAIa9PrrpgfvyJGmB/fmza4rwpnAYUck2bVLmjVL2rBByskxz/XqZa4XgPTHGgKSLFliwkCSamrM8De/8cIB6Y1AQJLvfz95PBKR0u1sdjSOQIAVj9c/R+uOOzK2W39GIhAgyZzoV3th0dGjzSXln39e+sEP3NaFM4udilAi4e0jGDbM24cwdqy7muAGawgZLpHwTv0fPNjcYwKZi0DIcM8+a4Z9+pgzgZHZCIQMd8kl0t/+Jv3nP64rQRgQCBmua1fTI1GSVF1tLjTa2B1qkPYIBHg2bpTWrJHmz3ddCRwhEOBZudIMy8qSrzaNjEEgwKiullavNu2cHHNGEzIOgQBj40aposK0a2rMDWqQcQgEGLW9kWqVlUkff+ymFjhDIMD4yU+Sz2yaN086+2x39cAJAgHGeeeZ+09IUseO0uzZbuuBEwQCAItAAGARCAAsAgGARSCgvi5dXFcARwgEJFu4UHrhBddVwJFAA2HBAnP57kQiyLkgpX7+c6l/f9dV4BRt2iR95zvm8vmpEFggxOPmpLnVq6UdO4KaC5DZFi+WXnlFWrEiNdMLLBC2bpUOHpSysjhPBghCVZX0zDOmnapTTwILhJdflnJzzebCsmVsNgCp9vLL0pdfmnY0ak4/8SvQNYR43LTLy7lZKJBq//hH8ngqLpAbWCDMmeO1n3xS6tEjqDkBmekXv5C+9jXTLiqSpk3zP83AAmHIEK89dWpQcwEy11lnSTfeaNq33CK1bu1/mvRDAGAF2w/h9v/V1d/8PMhZABntugnV6t3lkPr3S81e+0AD4bZH+mj91m5BzgLIaBdt+h+9/3knRT58LSXTC/bejgcPsk0CBKmiQtlKeIf0fAru+1pT47WPHQtsNkDGSiSko0dNu3boU3CBMGuW1+7Vy3RbBJA6S5ZIDzxg2qNGSZs3+55kcIFw+LDX3r/fu984gNTYvz95/IsvfE8yuEC4+mpzIkN2tjR2rNS+fWCzAjJSYaHXbtvWrCX4FFwgjBxphsePm25UAFKrVy+poMC0J05MSc+k4AKha1fp4oulli3NGgKA1JsyxQwnTUrJ5II97LhmjTkdi80FIBgzZ5p/uP36pWRyvgIhFospdsJpjKWlpZKkaN27B2/f7mc2AL7Ku+9K8r53lZWVTZtOwoeSkpKEJB48eITs8dBDDzXpO52VSDT90iUNrSG88cYbmjlzph577DENHjy4qZMOrWg0quLiYi1dulT5+fmuy0k5fr/mrbS0VNOnT9crr7yiK6+88rTf72uTIRKJKBKJNPja4MGDNaTuOdBpJj8/n9+vGUv33y8vL69J7+NUAwAWgQDAIhAAWCkPhEgkopKSkkb3LTR3/H7NG7/fyfk6ygAgvbDJAMAiEABYBAIAi0AAYBEIACwCAYBFIACwCAQAFoEAwCIQAFgEAgCLQABgEQgArP8D7bxE0MxknykAAAAASUVORK5CYII=' width=260.0/>\n",
       "            </div>\n",
       "        "
      ],
      "text/plain": [
       "Canvas(toolbar=Toolbar(toolitems=[('Home', 'Reset original view', 'home', 'home'), ('Back', 'Back to previous …"
      ]
     },
     "metadata": {},
     "output_type": "display_data"
    }
   ],
   "source": [
    "# --- explanatory figure --- #\n",
    "\n",
    "# ---- set-up the main figure information ----- #\n",
    "fig = plt.figure(figsize=(2.6,2.6)) \n",
    "gs = fig.add_gridspec(10, 10)\n",
    "imsavepath = imsavepath = '/mnt/e/OneDrive/illustrator_projects/paper_figures/figure4/panel_B.png'\n",
    "\n",
    "ax = fig.add_subplot(gs[:, :])\n",
    "ax.set_xlim(-np.pi, np.pi);\n",
    "ax.set_ylim(-np.pi, np.pi);\n",
    "ax.set_xticks([-np.pi, -np.pi/2, 0, np.pi/2, np.pi]);\n",
    "ax.set_xticklabels([], fontsize=25,);\n",
    "ax.set_yticks([-np.pi, -np.pi/2, 0, np.pi/2, np.pi]);\n",
    "ax.set_yticklabels([], fontsize=25,);\n",
    "ax.set_xlabel('', fontsize=30, )\n",
    "ax.set_ylabel('', fontsize=30,)\n",
    "\n",
    "\n",
    "# we want to rotate so theta=0 points from origin to y-inf\n",
    "image_rot_angle = np.pi/2\n",
    "# scale the size of the arrows\n",
    "arrfac = 0.2\n",
    "# winner-loser-top\n",
    "c_x = 0\n",
    "c_y = np.pi/2+0.8\n",
    "vert_gap = 0.2\n",
    "dx_winner = -arrfac*np.cos(c_x + np.pi/2)\n",
    "dy_winner = arrfac*np.sin(c_x + np.pi/2)\n",
    "dx_loser = arrfac*np.cos(c_y + np.pi/2)\n",
    "dy_loser = -arrfac*np.sin(c_y + np.pi/2)\n",
    "ax.arrow(c_x, c_y-vert_gap, dx=dx_winner, dy=dy_winner, head_width=0.1, color='red')\n",
    "ax.arrow(c_x+0.1, c_y+vert_gap, dx=dx_loser, dy=dy_loser, head_width=0.1, color='blue')\n",
    "# winner-loser-bottom\n",
    "c_x = 0\n",
    "c_y = -(np.pi/2+0.8)\n",
    "vert_gap = 0.2\n",
    "dx_winner = -arrfac*np.cos(c_x + np.pi/2)\n",
    "dy_winner = arrfac*np.sin(c_x + np.pi/2)\n",
    "dx_loser = arrfac*np.cos(c_y + np.pi/2)\n",
    "dy_loser = -arrfac*np.sin(c_y + np.pi/2)\n",
    "ax.arrow(c_x, c_y-vert_gap, dx=dx_winner, dy=dy_winner, head_width=0.1, color='red')\n",
    "ax.arrow(c_x-0.1, c_y+vert_gap, dx=dx_loser, dy=dy_loser, head_width=0.1, color='blue')\n",
    "# loser-winner-left\n",
    "c_x = -(np.pi-0.6)\n",
    "c_y = 0\n",
    "vert_gap = 0.2\n",
    "dx_winner = -arrfac*np.cos(c_x + np.pi/2)\n",
    "dy_winner = arrfac*np.sin(c_x + np.pi/2)\n",
    "dx_loser = arrfac*np.cos(c_y + np.pi/2)\n",
    "dy_loser = -arrfac*np.sin(c_y + np.pi/2)\n",
    "ax.arrow(c_x+0.1, c_y-vert_gap, dx=dx_winner, dy=dy_winner, head_width=0.1, color='red')\n",
    "ax.arrow(c_x, c_y+vert_gap, dx=dx_loser, dy=dy_loser, head_width=0.1, color='blue')\n",
    "# loser-winner-right\n",
    "c_x = (np.pi-0.6)\n",
    "c_y = 0\n",
    "vert_gap = 0.2\n",
    "dx_winner = -arrfac*np.cos(c_x + np.pi/2)\n",
    "dy_winner = arrfac*np.sin(c_x + np.pi/2)\n",
    "dx_loser = arrfac*np.cos(c_y + np.pi/2)\n",
    "dy_loser = -arrfac*np.sin(c_y + np.pi/2)\n",
    "ax.arrow(c_x-0.1, c_y-vert_gap, dx=dx_winner, dy=dy_winner, head_width=0.1, color='red')\n",
    "ax.arrow(c_x, c_y+vert_gap, dx=dx_loser, dy=dy_loser, head_width=0.1, color='blue')\n",
    "# face-off\n",
    "c_x = 0\n",
    "c_y = 0\n",
    "vert_gap = 0.4\n",
    "dx_winner = arrfac*np.cos(c_x + np.pi/2)\n",
    "dy_winner = arrfac*np.sin(c_x + np.pi/2)\n",
    "dx_loser = arrfac*np.cos(c_y + np.pi/2)\n",
    "dy_loser = -arrfac*np.sin(c_y + np.pi/2)\n",
    "ax.arrow(c_x, c_y-vert_gap, dx=dx_winner, dy=dy_winner, head_width=0.1, color='red')\n",
    "ax.arrow(c_x, c_y+vert_gap, dx=dx_loser, dy=dy_loser, head_width=0.1, color='blue')\n",
    "# parallel WRE (top-left)\n",
    "c_x = -np.pi/2\n",
    "c_y = np.pi/2\n",
    "vert_gap = 0.1\n",
    "dx_winner = -arrfac*np.cos(c_x + np.pi/2)\n",
    "dy_winner = arrfac*np.sin(c_x + np.pi/2)\n",
    "dx_loser = arrfac*np.cos(c_y + np.pi/2)\n",
    "dy_loser = -arrfac*np.sin(c_y + np.pi/2)\n",
    "ax.arrow(c_x+0.1, c_y-vert_gap, dx=dx_winner, dy=dy_winner, head_width=0.1, color='red')\n",
    "ax.arrow(c_x+0.1, c_y+vert_gap, dx=dx_loser, dy=dy_loser, head_width=0.1, color='blue')\n",
    "# parallel WLE (bottom-right)\n",
    "c_x = np.pi/2\n",
    "c_y = -np.pi/2\n",
    "vert_gap = 0.1\n",
    "dx_winner = -arrfac*np.cos(c_x + np.pi/2)\n",
    "dy_winner = arrfac*np.sin(c_x + np.pi/2)\n",
    "dx_loser = arrfac*np.cos(c_y + np.pi/2)\n",
    "dy_loser = -arrfac*np.sin(c_y + np.pi/2)\n",
    "ax.arrow(c_x-0.1, c_y-vert_gap, dx=dx_winner, dy=dy_winner, head_width=0.1, color='red')\n",
    "ax.arrow(c_x-0.1, c_y+vert_gap, dx=dx_loser, dy=dy_loser, head_width=0.1, color='blue')\n",
    "# anti-parallel WLE (top-left)\n",
    "c_x = np.pi/2\n",
    "c_y = np.pi/2\n",
    "horz_gap = 0.15\n",
    "dx_winner = -arrfac*np.cos(c_x + np.pi/2)\n",
    "dy_winner = arrfac*np.sin(c_x + np.pi/2)\n",
    "dx_loser = arrfac*np.cos(c_y + np.pi/2)\n",
    "dy_loser = -arrfac*np.sin(c_y + np.pi/2)\n",
    "ax.arrow(c_x-horz_gap, c_y-vert_gap, dx=dx_winner, dy=dy_winner, head_width=0.1, color='red')\n",
    "ax.arrow(c_x+horz_gap, c_y+vert_gap, dx=dx_loser, dy=dy_loser, head_width=0.1, color='blue')\n",
    "# anti-parallel RE (bottom-right)\n",
    "c_x = -np.pi/2\n",
    "c_y = -np.pi/2\n",
    "horz_gap = 0.15\n",
    "dx_winner = -arrfac*np.cos(c_x + np.pi/2)\n",
    "dy_winner = arrfac*np.sin(c_x + np.pi/2)\n",
    "dx_loser = arrfac*np.cos(c_y + np.pi/2)\n",
    "dy_loser = -arrfac*np.sin(c_y + np.pi/2)\n",
    "ax.arrow(c_x+horz_gap, c_y-vert_gap, dx=dx_winner, dy=dy_winner, head_width=0.1, color='red')\n",
    "ax.arrow(c_x-horz_gap, c_y+vert_gap, dx=dx_loser, dy=dy_loser, head_width=0.1, color='blue')\n",
    "\n",
    "\n",
    "# ---- the 4 corners are done slightly differently ---- #\n",
    "\n",
    "# directly opposite (bottom left)\n",
    "c_x = -np.pi\n",
    "c_y = -np.pi\n",
    "corner_x_offset = 0.1\n",
    "corner_y_offset = 0.3\n",
    "horz_gap = 0\n",
    "vert_gap = 0.01\n",
    "arrfac = 0.1\n",
    "dx_winner = -arrfac*np.cos(c_x + np.pi/2)\n",
    "dy_winner = arrfac*np.sin(c_x + np.pi/2)\n",
    "dx_loser = arrfac*np.cos(c_y + np.pi/2)\n",
    "dy_loser = -arrfac*np.sin(c_y + np.pi/2)\n",
    "ax.arrow(c_x+horz_gap+corner_x_offset, c_y-vert_gap+corner_y_offset, dx=dx_winner, dy=dy_winner, head_width=0.08, color='red')\n",
    "ax.arrow(c_x-horz_gap+corner_x_offset, c_y+vert_gap+corner_y_offset, dx=dx_loser, dy=dy_loser, head_width=0.08, color='blue')\n",
    "\n",
    "# directly opposite (top left)\n",
    "c_x = -np.pi\n",
    "c_y = np.pi\n",
    "corner_x_offset = 0.1\n",
    "corner_y_offset = -0.3\n",
    "horz_gap = 0\n",
    "vert_gap = 0.01\n",
    "arrfac = 0.1\n",
    "dx_winner = -arrfac*np.cos(c_x + np.pi/2)\n",
    "dy_winner = arrfac*np.sin(c_x + np.pi/2)\n",
    "dx_loser = arrfac*np.cos(c_y + np.pi/2)\n",
    "dy_loser = -arrfac*np.sin(c_y + np.pi/2)\n",
    "ax.arrow(c_x+horz_gap+corner_x_offset, c_y-vert_gap+corner_y_offset, dx=dx_winner, dy=dy_winner, head_width=0.08, color='red')\n",
    "ax.arrow(c_x-horz_gap+corner_x_offset, c_y+vert_gap+corner_y_offset, dx=dx_loser, dy=dy_loser, head_width=0.08, color='blue')\n",
    "\n",
    "\n",
    "\n",
    "# directly opposite (top right)\n",
    "c_x = np.pi\n",
    "c_y = np.pi\n",
    "corner_x_offset = -0.1\n",
    "corner_y_offset = -0.3\n",
    "horz_gap = 0\n",
    "vert_gap = 0.01\n",
    "arrfac = 0.1\n",
    "dx_winner = -arrfac*np.cos(c_x + np.pi/2)\n",
    "dy_winner = arrfac*np.sin(c_x + np.pi/2)\n",
    "dx_loser = arrfac*np.cos(c_y + np.pi/2)\n",
    "dy_loser = -arrfac*np.sin(c_y + np.pi/2)\n",
    "ax.arrow(c_x+horz_gap+corner_x_offset, c_y-vert_gap+corner_y_offset, dx=dx_winner, dy=dy_winner, head_width=0.08, color='red')\n",
    "ax.arrow(c_x-horz_gap+corner_x_offset, c_y+vert_gap+corner_y_offset, dx=dx_loser, dy=dy_loser, head_width=0.08, color='blue')\n",
    "\n",
    "\n",
    "# directly opposite (bottom right)\n",
    "c_x = np.pi\n",
    "c_y = -np.pi\n",
    "corner_x_offset = -0.1\n",
    "corner_y_offset = +0.3\n",
    "horz_gap = 0\n",
    "vert_gap = 0.01\n",
    "arrfac = 0.1\n",
    "dx_winner = -arrfac*np.cos(c_x + np.pi/2)\n",
    "dy_winner = arrfac*np.sin(c_x + np.pi/2)\n",
    "dx_loser = arrfac*np.cos(c_y + np.pi/2)\n",
    "dy_loser = -arrfac*np.sin(c_y + np.pi/2)\n",
    "ax.arrow(c_x+horz_gap+corner_x_offset, c_y-vert_gap+corner_y_offset, dx=dx_winner, dy=dy_winner, head_width=0.08, color='red')\n",
    "ax.arrow(c_x-horz_gap+corner_x_offset, c_y+vert_gap+corner_y_offset, dx=dx_loser, dy=dy_loser, head_width=0.08, color='blue')\n",
    "\n",
    "lw = 1\n",
    "ticklen = 4\n",
    "for axis in ['top','bottom','left','right']:\n",
    "    ax.spines[axis].set_linewidth(lw)\n",
    "ax.xaxis.set_tick_params(width=lw, length=ticklen)\n",
    "ax.yaxis.set_tick_params(width=lw, length=ticklen)\n",
    "\n",
    "fig.tight_layout()\n",
    "#fig.savefig(imsavepath, transparent=True, dpi=300)"
   ]
  },
  {
   "cell_type": "code",
   "execution_count": null,
   "id": "8dda8d0e-d805-4072-a206-8a130f62d81b",
   "metadata": {},
   "outputs": [],
   "source": []
  },
  {
   "cell_type": "markdown",
   "id": "7ea54e1c-2d84-4ac8-8098-a25896e2988c",
   "metadata": {},
   "source": [
    "## paper version resized"
   ]
  },
  {
   "cell_type": "code",
   "execution_count": 121,
   "id": "ca69df7b-4a2a-49e7-9f66-e8a8612f046c",
   "metadata": {},
   "outputs": [
    {
     "data": {
      "application/vnd.jupyter.widget-view+json": {
       "model_id": "52ad3eee1b7140de89384c8cf5d917ad",
       "version_major": 2,
       "version_minor": 0
      },
      "text/html": [
       "\n",
       "            <div style=\"display: inline-block;\">\n",
       "                <div class=\"jupyter-widgets widget-label\" style=\"text-align: center;\">\n",
       "                    Figure\n",
       "                </div>\n",
       "                <img src='data:image/png;base64,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' width=100.0/>\n",
       "            </div>\n",
       "        "
      ],
      "text/plain": [
       "Canvas(toolbar=Toolbar(toolitems=[('Home', 'Reset original view', 'home', 'home'), ('Back', 'Back to previous …"
      ]
     },
     "metadata": {},
     "output_type": "display_data"
    }
   ],
   "source": [
    "# --- explanatory figure --- #\n",
    "\n",
    "# ---- set-up the main figure information ----- #\n",
    "fig = plt.figure(figsize=(1,1)) \n",
    "gs = fig.add_gridspec(10, 10)\n",
    "\n",
    "ax = fig.add_subplot(gs[:, :])\n",
    "ax.set_xlim(-np.pi, np.pi);\n",
    "ax.set_ylim(-np.pi, np.pi);\n",
    "ax.set_xticks([-np.pi, -np.pi/2, 0, np.pi/2, np.pi]);\n",
    "ax.set_xticklabels([], fontsize=25,);\n",
    "ax.set_yticks([-np.pi, -np.pi/2, 0, np.pi/2, np.pi]);\n",
    "ax.set_yticklabels([], fontsize=25,);\n",
    "ax.set_xlabel('', fontsize=30, )\n",
    "ax.set_ylabel('', fontsize=30,)\n",
    "\n",
    "\n",
    "# we want to rotate so theta=0 points from origin to y-inf\n",
    "image_rot_angle = np.pi/2\n",
    "# scale the size of the arrows\n",
    "arrfac = 0.6\n",
    "# winner-loser-top\n",
    "c_x = 0\n",
    "c_y = np.pi/2+0.5\n",
    "vert_gap = 0.4\n",
    "dx_winner = -arrfac*np.cos(c_x + np.pi/2)\n",
    "dy_winner = arrfac*np.sin(c_x + np.pi/2)\n",
    "dx_loser = arrfac*np.cos(c_y + np.pi/2)\n",
    "dy_loser = -arrfac*np.sin(c_y + np.pi/2)\n",
    "ax.arrow(c_x, c_y-vert_gap, dx=dx_winner, dy=dy_winner, head_width=0.1, color='red')\n",
    "ax.arrow(c_x+0.3, c_y+vert_gap, dx=dx_loser, dy=dy_loser, head_width=0.1, color='blue')\n",
    "# winner-loser-bottom\n",
    "c_x = 0\n",
    "c_y = -(np.pi/2+0.8)\n",
    "vert_gap = 0.35\n",
    "dx_winner = -arrfac*np.cos(c_x + np.pi/2)\n",
    "dy_winner = arrfac*np.sin(c_x + np.pi/2)\n",
    "dx_loser = arrfac*np.cos(c_y + np.pi/2)\n",
    "dy_loser = -arrfac*np.sin(c_y + np.pi/2)\n",
    "ax.arrow(c_x, c_y-vert_gap, dx=dx_winner, dy=dy_winner, head_width=0.1, color='red')\n",
    "ax.arrow(c_x-0.3, c_y+vert_gap, dx=dx_loser, dy=dy_loser, head_width=0.1, color='blue')\n",
    "# loser-winner-left\n",
    "c_x = -(np.pi-0.6)\n",
    "c_y = 0\n",
    "vert_gap = 0.3\n",
    "dx_winner = -arrfac*np.cos(c_x + np.pi/2)\n",
    "dy_winner = arrfac*np.sin(c_x + np.pi/2)\n",
    "dx_loser = arrfac*np.cos(c_y + np.pi/2)\n",
    "dy_loser = -arrfac*np.sin(c_y + np.pi/2)\n",
    "ax.arrow(c_x+0.3, c_y-vert_gap, dx=dx_winner, dy=dy_winner, head_width=0.1, color='red')\n",
    "ax.arrow(c_x, c_y+vert_gap, dx=dx_loser, dy=dy_loser, head_width=0.1, color='blue')\n",
    "# loser-winner-right\n",
    "c_x = (np.pi-0.6)\n",
    "c_y = 0\n",
    "vert_gap = 0.3\n",
    "dx_winner = -arrfac*np.cos(c_x + np.pi/2)\n",
    "dy_winner = arrfac*np.sin(c_x + np.pi/2)\n",
    "dx_loser = arrfac*np.cos(c_y + np.pi/2)\n",
    "dy_loser = -arrfac*np.sin(c_y + np.pi/2)\n",
    "ax.arrow(c_x-0.3, c_y-vert_gap, dx=dx_winner, dy=dy_winner, head_width=0.1, color='red')\n",
    "ax.arrow(c_x, c_y+vert_gap, dx=dx_loser, dy=dy_loser, head_width=0.1, color='blue')\n",
    "# face-off\n",
    "c_x = 0\n",
    "c_y = 0\n",
    "vert_gap = 0.9\n",
    "dx_winner = arrfac*np.cos(c_x + np.pi/2)\n",
    "dy_winner = arrfac*np.sin(c_x + np.pi/2)\n",
    "dx_loser = arrfac*np.cos(c_y + np.pi/2)\n",
    "dy_loser = -arrfac*np.sin(c_y + np.pi/2)\n",
    "ax.arrow(c_x, c_y-vert_gap, dx=dx_winner, dy=dy_winner, head_width=0.1, color='red')\n",
    "ax.arrow(c_x, c_y+vert_gap, dx=dx_loser, dy=dy_loser, head_width=0.1, color='blue')\n",
    "\n",
    "\n",
    "# parallel WRE \n",
    "c_x = -np.pi/2\n",
    "c_y = np.pi/2\n",
    "vert_gap = 0.15\n",
    "dx_winner = -arrfac*np.cos(c_x + np.pi/2)\n",
    "dy_winner = arrfac*np.sin(c_x + np.pi/2)\n",
    "dx_loser = arrfac*np.cos(c_y + np.pi/2)\n",
    "dy_loser = -arrfac*np.sin(c_y + np.pi/2)\n",
    "ax.arrow(c_x+0.1, c_y-vert_gap, dx=dx_winner, dy=dy_winner, head_width=0.1, color='red')\n",
    "ax.arrow(c_x+0.1, c_y+vert_gap, dx=dx_loser, dy=dy_loser, head_width=0.1, color='blue')\n",
    "# parallel WLE \n",
    "c_x = np.pi/2\n",
    "c_y = -np.pi/2\n",
    "vert_gap = 0.15\n",
    "dx_winner = -arrfac*np.cos(c_x + np.pi/2)\n",
    "dy_winner = arrfac*np.sin(c_x + np.pi/2)\n",
    "dx_loser = arrfac*np.cos(c_y + np.pi/2)\n",
    "dy_loser = -arrfac*np.sin(c_y + np.pi/2)\n",
    "ax.arrow(c_x-0.1, c_y-vert_gap, dx=dx_winner, dy=dy_winner, head_width=0.1, color='red')\n",
    "ax.arrow(c_x-0.1, c_y+vert_gap, dx=dx_loser, dy=dy_loser, head_width=0.1, color='blue')\n",
    "# anti-parallel WLE\n",
    "c_x = np.pi/2\n",
    "c_y = np.pi/2\n",
    "horz_gap = 0.3\n",
    "dx_winner = -arrfac*np.cos(c_x + np.pi/2)\n",
    "dy_winner = arrfac*np.sin(c_x + np.pi/2)\n",
    "dx_loser = arrfac*np.cos(c_y + np.pi/2)\n",
    "dy_loser = -arrfac*np.sin(c_y + np.pi/2)\n",
    "ax.arrow(c_x-horz_gap, c_y-vert_gap, dx=dx_winner, dy=dy_winner, head_width=0.1, color='red')\n",
    "ax.arrow(c_x+horz_gap, c_y+vert_gap, dx=dx_loser, dy=dy_loser, head_width=0.1, color='blue')\n",
    "# anti-parallel RE \n",
    "c_x = -np.pi/2\n",
    "c_y = -np.pi/2\n",
    "horz_gap = 0.3\n",
    "dx_winner = -arrfac*np.cos(c_x + np.pi/2)\n",
    "dy_winner = arrfac*np.sin(c_x + np.pi/2)\n",
    "dx_loser = arrfac*np.cos(c_y + np.pi/2)\n",
    "dy_loser = -arrfac*np.sin(c_y + np.pi/2)\n",
    "ax.arrow(c_x+horz_gap, c_y-vert_gap, dx=dx_winner, dy=dy_winner, head_width=0.1, color='red')\n",
    "ax.arrow(c_x-horz_gap, c_y+vert_gap, dx=dx_loser, dy=dy_loser, head_width=0.1, color='blue')\n",
    "\n",
    "\n",
    "# ---- the 4 corners are done slightly differently ---- #\n",
    "\n",
    "# # directly opposite (bottom left)\n",
    "# c_x = -np.pi\n",
    "# c_y = -np.pi\n",
    "# corner_x_offset = 0.1\n",
    "# corner_y_offset = 0.3\n",
    "# horz_gap = 0\n",
    "# vert_gap = 0.01\n",
    "# arrfac = 0.1\n",
    "# dx_winner = -arrfac*np.cos(c_x + np.pi/2)\n",
    "# dy_winner = arrfac*np.sin(c_x + np.pi/2)\n",
    "# dx_loser = arrfac*np.cos(c_y + np.pi/2)\n",
    "# dy_loser = -arrfac*np.sin(c_y + np.pi/2)\n",
    "# ax.arrow(c_x+horz_gap+corner_x_offset, c_y-vert_gap+corner_y_offset, dx=dx_winner, dy=dy_winner, head_width=0.08, color='red')\n",
    "# ax.arrow(c_x-horz_gap+corner_x_offset, c_y+vert_gap+corner_y_offset, dx=dx_loser, dy=dy_loser, head_width=0.08, color='blue')\n",
    "\n",
    "# # directly opposite (top left)\n",
    "# c_x = -np.pi\n",
    "# c_y = np.pi\n",
    "# corner_x_offset = 0.1\n",
    "# corner_y_offset = -0.3\n",
    "# horz_gap = 0\n",
    "# vert_gap = 0.01\n",
    "# arrfac = 0.1\n",
    "# dx_winner = -arrfac*np.cos(c_x + np.pi/2)\n",
    "# dy_winner = arrfac*np.sin(c_x + np.pi/2)\n",
    "# dx_loser = arrfac*np.cos(c_y + np.pi/2)\n",
    "# dy_loser = -arrfac*np.sin(c_y + np.pi/2)\n",
    "# ax.arrow(c_x+horz_gap+corner_x_offset, c_y-vert_gap+corner_y_offset, dx=dx_winner, dy=dy_winner, head_width=0.08, color='red')\n",
    "# ax.arrow(c_x-horz_gap+corner_x_offset, c_y+vert_gap+corner_y_offset, dx=dx_loser, dy=dy_loser, head_width=0.08, color='blue')\n",
    "\n",
    "\n",
    "\n",
    "# # directly opposite (top right)\n",
    "# c_x = np.pi\n",
    "# c_y = np.pi\n",
    "# corner_x_offset = -0.1\n",
    "# corner_y_offset = -0.3\n",
    "# horz_gap = 0\n",
    "# vert_gap = 0.01\n",
    "# arrfac = 0.1\n",
    "# dx_winner = -arrfac*np.cos(c_x + np.pi/2)\n",
    "# dy_winner = arrfac*np.sin(c_x + np.pi/2)\n",
    "# dx_loser = arrfac*np.cos(c_y + np.pi/2)\n",
    "# dy_loser = -arrfac*np.sin(c_y + np.pi/2)\n",
    "# ax.arrow(c_x+horz_gap+corner_x_offset, c_y-vert_gap+corner_y_offset, dx=dx_winner, dy=dy_winner, head_width=0.08, color='red')\n",
    "# ax.arrow(c_x-horz_gap+corner_x_offset, c_y+vert_gap+corner_y_offset, dx=dx_loser, dy=dy_loser, head_width=0.08, color='blue')\n",
    "\n",
    "\n",
    "# # directly opposite (bottom right)\n",
    "# c_x = np.pi\n",
    "# c_y = -np.pi\n",
    "# corner_x_offset = -0.1\n",
    "# corner_y_offset = +0.3\n",
    "# horz_gap = 0\n",
    "# vert_gap = 0.01\n",
    "# arrfac = 0.1\n",
    "# dx_winner = -arrfac*np.cos(c_x + np.pi/2)\n",
    "# dy_winner = arrfac*np.sin(c_x + np.pi/2)\n",
    "# dx_loser = arrfac*np.cos(c_y + np.pi/2)\n",
    "# dy_loser = -arrfac*np.sin(c_y + np.pi/2)\n",
    "# ax.arrow(c_x+horz_gap+corner_x_offset, c_y-vert_gap+corner_y_offset, dx=dx_winner, dy=dy_winner, head_width=0.08, color='red')\n",
    "# ax.arrow(c_x-horz_gap+corner_x_offset, c_y+vert_gap+corner_y_offset, dx=dx_loser, dy=dy_loser, head_width=0.08, color='blue')\n",
    "\n",
    "lw = 1\n",
    "ticklen = 4\n",
    "for axis in ['top','bottom','left','right']:\n",
    "    ax.spines[axis].set_linewidth(lw)\n",
    "ax.xaxis.set_tick_params(width=lw, length=ticklen)\n",
    "ax.yaxis.set_tick_params(width=lw, length=ticklen)\n",
    "\n",
    "#fig.tight_layout()\n",
    "#fig.savefig(imsavepath, transparent=True, dpi=300)\n",
    "\n",
    "fig.savefig('/home/liam/temp/image_transfer/fig4_A.png', dpi=900, transparent=True)"
   ]
  },
  {
   "cell_type": "code",
   "execution_count": null,
   "id": "a35c5f12-fa2e-4d98-9ce5-a379c351a222",
   "metadata": {},
   "outputs": [],
   "source": []
  },
  {
   "cell_type": "markdown",
   "id": "d1ac38a2-3ab5-4fa1-b96d-87e8404ab5aa",
   "metadata": {},
   "source": [
    "# Panel B"
   ]
  },
  {
   "cell_type": "code",
   "execution_count": null,
   "id": "79d9e446-14de-4e65-8884-78897bc69c10",
   "metadata": {},
   "outputs": [],
   "source": []
  },
  {
   "cell_type": "code",
   "execution_count": null,
   "id": "8a696225-0aa0-4af3-aaac-dbc4e83796fc",
   "metadata": {},
   "outputs": [],
   "source": []
  },
  {
   "cell_type": "code",
   "execution_count": null,
   "id": "a140b61c-8e38-432f-955a-f667f8ee8a0b",
   "metadata": {},
   "outputs": [],
   "source": []
  },
  {
   "cell_type": "markdown",
   "id": "9762d67b-cb91-4171-9003-ae9b0024cf36",
   "metadata": {},
   "source": [
    "## during fights"
   ]
  },
  {
   "cell_type": "code",
   "execution_count": null,
   "id": "1e09e3de-07d0-4924-8b0d-5eaa453102f2",
   "metadata": {},
   "outputs": [],
   "source": []
  },
  {
   "cell_type": "code",
   "execution_count": 86,
   "id": "e2773636-219b-44d7-b883-0bb4517d4632",
   "metadata": {},
   "outputs": [
    {
     "data": {
      "text/plain": [
       "(2188300, 2)"
      ]
     },
     "execution_count": 86,
     "metadata": {},
     "output_type": "execute_result"
    }
   ],
   "source": [
    "data = np.stack([master_fight_tetWs, master_fight_tetLs], axis=1)\n",
    "data.shape"
   ]
  },
  {
   "cell_type": "code",
   "execution_count": null,
   "id": "06c8e295-d4a4-4308-b9cc-53cf32c4b471",
   "metadata": {},
   "outputs": [],
   "source": []
  },
  {
   "cell_type": "code",
   "execution_count": 87,
   "id": "6d32c590-be8e-4fbc-aeb4-1b0e785f9527",
   "metadata": {},
   "outputs": [
    {
     "data": {
      "application/vnd.jupyter.widget-view+json": {
       "model_id": "3d095130aeb34ded867d7b2a7b5d511f",
       "version_major": 2,
       "version_minor": 0
      },
      "text/html": [
       "\n",
       "            <div style=\"display: inline-block;\">\n",
       "                <div class=\"jupyter-widgets widget-label\" style=\"text-align: center;\">\n",
       "                    Figure\n",
       "                </div>\n",
       "                <img src='data:image/png;base64,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' width=640.0/>\n",
       "            </div>\n",
       "        "
      ],
      "text/plain": [
       "Canvas(toolbar=Toolbar(toolitems=[('Home', 'Reset original view', 'home', 'home'), ('Back', 'Back to previous …"
      ]
     },
     "metadata": {},
     "output_type": "display_data"
    }
   ],
   "source": [
    "fig, axs = plt.subplots() #figsize=(2.6,2.6)\n",
    "ax = axs\n",
    "\n",
    "\n",
    "tet_bins = np.linspace(-np.pi, np.pi, 20)\n",
    "bin_width = tet_bins[1]-tet_bins[0]\n",
    "\n",
    "counts, xedges, yedges, im = ax.hist2d(data[:,0], data[:,1], bins=tet_bins, cmap='Greys', density=True);\n",
    "cbar = fig.colorbar(im, ax=ax, ticks=[0, np.max(counts)])\n",
    "cbar.ax.set_yticklabels(['0', 'max'])  # vertically oriented colorbar\n",
    "\n",
    "ax.set_xticks([-np.pi, -np.pi/2, 0, np.pi/2, np.pi])\n",
    "ax.set_yticks([-np.pi, -np.pi/2, 0, np.pi/2, np.pi])\n",
    "\n",
    "ax.set_xticklabels([r'-$\\pi$', r'-$\\pi$/2', '0', r'$\\pi$/2', r'$\\pi$'], fontsize=13)\n",
    "ax.set_yticklabels([r'-$\\pi$', r'-$\\pi$/2', '0', r'$\\pi$/2', r'$\\pi$'], fontsize=13)\n",
    "\n",
    "fig.tight_layout()"
   ]
  },
  {
   "cell_type": "code",
   "execution_count": 88,
   "id": "814d58fc-00a4-4158-b5c4-22ce998fd935",
   "metadata": {},
   "outputs": [
    {
     "data": {
      "text/plain": [
       "0.05034631159095587"
      ]
     },
     "execution_count": 88,
     "metadata": {},
     "output_type": "execute_result"
    }
   ],
   "source": [
    "np.max(counts)*bin_width"
   ]
  },
  {
   "cell_type": "code",
   "execution_count": 89,
   "id": "6ab77057-ff4c-4909-8392-dc08722eb322",
   "metadata": {},
   "outputs": [
    {
     "data": {
      "text/plain": [
       "1.0000000000000002"
      ]
     },
     "execution_count": 89,
     "metadata": {},
     "output_type": "execute_result"
    }
   ],
   "source": [
    "np.sum(counts)*bin_width*bin_width"
   ]
  },
  {
   "cell_type": "code",
   "execution_count": null,
   "id": "a7a6d523-164e-4cc9-b699-2d58591b914a",
   "metadata": {},
   "outputs": [],
   "source": []
  },
  {
   "cell_type": "code",
   "execution_count": null,
   "id": "afcefbe0-3fdd-42ff-a7d2-9764856dd43b",
   "metadata": {},
   "outputs": [],
   "source": []
  },
  {
   "cell_type": "code",
   "execution_count": 93,
   "id": "39701066-2432-4d0a-979c-bc8bc83cc611",
   "metadata": {},
   "outputs": [
    {
     "data": {
      "application/vnd.jupyter.widget-view+json": {
       "model_id": "1e100f177b9f4b10ba033377ea4dd6ad",
       "version_major": 2,
       "version_minor": 0
      },
      "text/html": [
       "\n",
       "            <div style=\"display: inline-block;\">\n",
       "                <div class=\"jupyter-widgets widget-label\" style=\"text-align: center;\">\n",
       "                    Figure\n",
       "                </div>\n",
       "                <img src='data:image/png;base64,iVBORw0KGgoAAAANSUhEUgAAAGQAAABkCAYAAABw4pVUAAAAOXRFWHRTb2Z0d2FyZQBNYXRwbG90bGliIHZlcnNpb24zLjQuMywgaHR0cHM6Ly9tYXRwbG90bGliLm9yZy/MnkTPAAAACXBIWXMAAA9hAAAPYQGoP6dpAAAHP0lEQVR4nO2dz08TXxDAZ3+1KKUlgAgCxXhQExJDQsKFk4SrUThy8uIfIDdOPZL4P3hQr1w9evQPMJ48eJBqTDwALWALtuz38P3uMPva2W27Wzr9Op+kyex234/d2Tezb97bt5bv+z4oYrAHXQEljCpEGKoQYahChKEKEYYqRBiqEGGoQoShChGGKkQYbtwB5+fncH5+jtuXl5dweHgIk5OTYFlWXysnCd/34eTkBO7cuQO2bUO9XoeLi4vQ/+b1yGazkM1muy4oklKp5AOA/v77lctlv1artezP5XIt+0qlUtzlbcGKCy6aLaRSqUCxWISDgwPI5/NsK7m8vGTzpEXS9M1mM3RcvV5H+fPnzygvLi6iPDU1FUrjOE7bvKNOkzsH276y6NVqFYrFIhwfH4NlWVAoFMB1rwxMo9GAcrkM+Xwe9/XSQmJNFpdpPp/vu0IymQzKo6OjKI+NjYXqQemXQtod67ouWJYFvu9Do9HAa5KEWIUoPFQhqeWZWk4xcJWm+81WdXR0hPL79+9Rfvr0KcrmHTkyMoIyvZtp3mZd6HG0VcS1MMdxhlch/0dc1wXbtiPNc9d5ppbTX4jjOGDbdqqP/6qQBIhvIbRi5hNTo9Fom4Ye9/v379B/Hz58QHl/fx/ltbW1jsqh/oDWzbyA3JNZVBoAAM/zZCvkb0NNljAcxwHHcVpaaRJUIQnIZDLyFML1I/78+RM6rlartf0vyof8/PkT5UePHqFMe+pRfQDOp3H+DIDvk7TDdV3si6SFtpAEqEKE4XkeuK4b2eK6RRWSANd1QxHfVPLsNaHv+y2DMtRO08EbAICTkxOUPc9D+caNGyjTOBQAwMbGBsorKyso3717t21eALzd79RvdGN+RClE+fdm8Dzven2IOUBVrVZTK3zYCVpImtHe2EkOe3t7UCgU8LewsJBa4cNOoJA0zVZsTru7u7Czs4Pb1WoVFhYWwLKsyKZqdpZo34GOQFIfYOb34MEDlGk/hsvLzIP6DVqO6WfoNjce0u5c+9FCeh7CVQZkshQe27YxwJgW+pSVgKCFiAq/c7EssxlTs0dnk1CHGOWT6HE0PR3LMKF+w4ytUbhy43xIEO2NqkO3qMlKQD8UoiYrAf0wWdpCEiDKqTebTWg2myFfQad+0t49QHR/g9tPT5Qb946C82mmP6H/mbGxgHaDUGqyhBHEstRkCUGfsoQhymTV63XIZDJQqVRw38ePH1E2m/Hq6irK1DfQ/onpHGksio6305nwUdD0NEr948eP0HH0HCYmJlCem5tDmY7nBLiuC57npTrJQVtIAtRkCUOUyVKunrJEzMv68uUL5HK50JzbV69eofzkyZPQ8dQ253I5lOndZfoQ6jc+ffqE8vLyMsp0TB4g7LvoGAr1G+/evQulef36Ncrb29soP3/+HOWzszMwUZMljIH01HVMnWcgLUTH1HkCH8KFW3ohViG7u7tQqVTwVy6XUyt82BnIJAduTH1+fh7GxsZgc3MT992/fx/l2dnZ0PEPHz5E+ebNmyhHBR1pB3BpaSlUJzwB42LQQCGVp6enUV5fXw+lofV+/Pgxyrdu3UK5nanuh0LUqScg6KmrQoSgj73CGIgP4SgUCpDP50O+4d69eyib/oD6DS6gaKah23SBAHpHRt2dNP34+DjKNNBpbtNJeDRv7qXPa3/KUnjUZAnDcRx8iyotVCEJEOVDgorQl2zoBDZzohx3FyV9tyJqIRluGSjzAnL9Gm6SBd2nJksQqhBhqEKEIWqiXAA3Idl8bqf2nI6wRS0SRicp0AEizm+Z0Alx3GIFUecQh23b+EsLbSEJ0OCiMNSHCKMfJivVIVxqm00fQrdp7If6CTMNLev79+8oFwoFlG/fvh1KQy8OrTed8NBp/CuOgZgsHcLlsSwr9QXMdAg3AQMxWfpaNI+omYvBwgFcvMjsU3ALUlLoCz8AAN++fUP57du3KNNxl62trVAaOgmP81vmIjedvHjabr/2Q4ShChGG9kOEMRCnHgfnG8y7ppOYl/ky5q9fv1B+8+YNyi9fvkTZ9Ad07J6rp1k37oLqwgFDxkD6IQqPOnVhiPIhQT+Es82mXaW+gvM7ZgeUzq2lH3F59uwZynS+FQD/4r9Zd25b+yFDTHBTqg8RgrYQYfSjhaTaD4mKZXXy4S3Th9CY1YsXL1AuFosoR/V3eoGLzbVDW4gw1IcIQ8QQbrAuSLuhXO51MoDOHnvNsPzp6SnKdBoQXXfEvDt7CWN08qgbnC9d7/709BRs2w7VMzH6ceLufl+/fvVrtZo/MzMT2j8zM+PXarWuP0Zs0vXHiY+Pj2FxcREODg5Ckw06IVgV2/yI73WkT1p28FHmo6MjGB8fb/l8dyaTaQl09kLPQ7jBG1S9kPQjvknSJy07MLcjIyOpKKAl/9RzVBKhChFG1wrJZrNQKpV6momSJO0wl90NsU5duV7UZAlDFSIMVYgwVCHC+AdIVxPbcA0KIQAAAABJRU5ErkJggg==' width=100.0/>\n",
       "            </div>\n",
       "        "
      ],
      "text/plain": [
       "Canvas(toolbar=Toolbar(toolitems=[('Home', 'Reset original view', 'home', 'home'), ('Back', 'Back to previous …"
      ]
     },
     "metadata": {},
     "output_type": "display_data"
    }
   ],
   "source": [
    "#fig, axs = plt.subplots(figsize=(2.6,2.6)) #figsize=(2.6,2.6)\n",
    "fig, axs = plt.subplots(figsize=(1,1))\n",
    "ax = axs\n",
    "\n",
    "imsavepath = '/home/liam/temp/image_transfer/fig4_fight_wbar.png'\n",
    "\n",
    "tet_bins = np.linspace(-np.pi, np.pi, 20)\n",
    "bin_width = tet_bins[1]-tet_bins[0]\n",
    "\n",
    "counts, xedges, yedges, im = ax.hist2d(data[:,0], data[:,1], bins=tet_bins, cmap='Greys', density=True);\n",
    "cbar = fig.colorbar(im, ax=ax, ticks=[0, np.max(counts)])\n",
    "cbar.ax.set_yticklabels([])  # vertically oriented colorbar\n",
    "\n",
    "ax.set_xticks([-np.pi, -np.pi/2, 0, np.pi/2, np.pi])\n",
    "ax.set_yticks([-np.pi, -np.pi/2, 0, np.pi/2, np.pi])\n",
    "\n",
    "ax.set_xticklabels([], fontsize=13)\n",
    "ax.set_yticklabels([], fontsize=13)\n",
    "\n",
    "#fig.tight_layout()\n",
    "\n",
    "fig.savefig(imsavepath, dpi=900, transparent=False)"
   ]
  },
  {
   "cell_type": "code",
   "execution_count": null,
   "id": "09a518de-e240-44ef-916d-e223bf0e0c1b",
   "metadata": {},
   "outputs": [],
   "source": []
  },
  {
   "cell_type": "code",
   "execution_count": 94,
   "id": "df9f7d94-b652-4a2f-b9b1-eda5ddf2b2a0",
   "metadata": {},
   "outputs": [
    {
     "data": {
      "application/vnd.jupyter.widget-view+json": {
       "model_id": "2a68505e039e4b578afdd5b2782a15ba",
       "version_major": 2,
       "version_minor": 0
      },
      "text/html": [
       "\n",
       "            <div style=\"display: inline-block;\">\n",
       "                <div class=\"jupyter-widgets widget-label\" style=\"text-align: center;\">\n",
       "                    Figure\n",
       "                </div>\n",
       "                <img src='data:image/png;base64,iVBORw0KGgoAAAANSUhEUgAAAGQAAABkCAYAAABw4pVUAAAAOXRFWHRTb2Z0d2FyZQBNYXRwbG90bGliIHZlcnNpb24zLjQuMywgaHR0cHM6Ly9tYXRwbG90bGliLm9yZy/MnkTPAAAACXBIWXMAAA9hAAAPYQGoP6dpAAAGIElEQVR4nO2duUssSxTGzzjXfRcXBlHUwAVBXMDEyAWMXEMxEEQEM/8CMTU1MjBQJzQ100wDM41GExdUBBNxHR2XfsFjhjnftF097YzvPO/5wcD9pnqqqz236vSpU9XtsyzLIkUMGf91AxSOGkQYahBhqEGEoQYRhhpEGGoQYahBhKEGEYYaRBh/nAqvr6/p+vqafXd7e0uhUIg6OjooNzc3rY37LYTDYTo7O6PBwUEqLy93PthyYGFhwSIi/aToEwwGnf7clmVZls9pctGuhxwcHND09DQFg0Fqbm4mIiKfz/dVFURE9Pn56ViOTcD68Pevr69MHx8fM11dXc10aWkp0xkZiSM1ntM052q65vhzHB0d0eTkJO3u7lJPT4/j7xyHrEAgQIFAwLasubmZOjs7XTXuuwb5+Phg+uXlxbG++vp6pisqKpj2+/0Jv0mnQaK4GeLVqQvDsYekC9P/PizHHnZ7e8v01tYW0yMjI0wXFRUxnZOTk3BO0zBp6sXYI+LLk0k5aQ8RhhpEGGoQYaTFh+D4i3dJ7+/vjr/H45+fn5ne2dlhenNzk2m8tXRzfvQBeA2o8U7NyQeZ7jJZO1wfqfwIahBhqEGEkRIfYoob3t7emA6Hw47lJh+C0zltbW1MFxYWOrbPju/6PVNc4hbtIcJQgwhDDSIMzz7EsqzY2GyanY1EIkw/PDwwnZmZyTTOiuLc08DAANNdXV1M19XVOdbvZnxP1meYZn/doj1EGEmncEOhUFob9LfjaJCVlRVaXFz8qbYoZDDI7OwsDQ8Ps+9CoRBNTk6Sz+dzPW6iT8E4ITs7m2kc8/E8TU1NTGNcY6rfrt3oM0x+x6Tjz5GMf/GcwlXSgzp1YahBhPEjc1lYjmN6VlYWb9Qf3izTGIzHY312q0wQ9Bk4v4aY2uTVh2gPEYYaRBhqEGF49iEfHx+x+AJ9BK4sxKWfpjgDMeUaTPltN5j8HvoULMdrcqrbCe0hwlCDCEMNIgzPPiQSicR8xd3dHSvb29tjGsfQ7u5uptEnYJyC5TjvhDn3/Px8p6bbgnXe398zfXV1xTRec1lZGdPxWyIeHx9dt0N7iDDUIMJQgwjDsw85PT2NjfW4tnZpaYnpoaEhpnG8LSgoYBrjCvQh6DMODw+Zbm9vZxpz9HZxAeZU0GdsbGwwvbq6yvTExATTU1NTsX9fXFwknO8rtIcIQ3PqwtCcujA859SV9OA5p15VVUU1NTVERDQ2NsbKGhsbE+qJJ7q/PUpeXh7TpslHDPxaW1uZxsASE1h2i6/xu8rKSqb7+vqYxmvs7e1lOn4rNt6EOKFOXRhqEGGoQYThOTAsLCykkpISIkr0CQ0NDUyjD0CfYZpMNC1sxgcDYGDpZpED1hm9tig4IYoaF+fFnxOv1wntIcJQgwhDDSIMzz7E7/fH7u9xQw0uVMN7fNOYnqrNL1+d365+0zEYy5hinXg/mMwGUO0hwlCDCEMNIoyULLY2xQmmRWi4ocf0uD1ckPD09MS0yafZgQvhTA8z0E2ffwlqEGGoQYSRlhQujremh4Fh/gN9BB6Pi9guLy+ZLi4uZrqqqoppu7gAF4Tjooefip00hSsMTeEKQ7dFC8NzHBL/4ADTPBCWmx44ieAGoPPzc6bX19eZxnzM+Pg407gwz64N6NcwtklmY6pu+vwfowYRhhpEGCmZyzL5BNOmTNPcF84r3dzcML22tsb0/Pw80zj+u8lxmzaWmnIc+uCAX4IaRBhqEGGkJA4xjbeo0UeYfBDmr/EVRvgCl9HRUaZxjZXTJv+vMPk9jUN+KWoQYahBhJGWOMQ0l5XMC7WIEn0IzlXNzMwwXVtby3QqHk5jws3aLzdoDxGGGkQYSadwDw4OiOjf14l+BXZfkzYNcXgbjFvETk5OmMYUMG4V8Ppuj3iSecZXNO2NaWFb9OXEP/dZXl5O/cuJ9/f3aW5ujlZXVxOemJAs0XRwMBiklpYWMXWlur7oC523t7epv7/f8VjPKdz29vbYy4m/S0tLi8i6Ul0fvrXaDnXqwlCDCEMNIoykDRIIBGhhYSEly4Ok1pXq+pKpy/EuS/l5dMgShhpEGGoQYfwDVK2Bxiv4UmwAAAAASUVORK5CYII=' width=100.0/>\n",
       "            </div>\n",
       "        "
      ],
      "text/plain": [
       "Canvas(toolbar=Toolbar(toolitems=[('Home', 'Reset original view', 'home', 'home'), ('Back', 'Back to previous …"
      ]
     },
     "metadata": {},
     "output_type": "display_data"
    }
   ],
   "source": [
    "#fig, axs = plt.subplots(figsize=(2.6,2.6)) #figsize=(2.6,2.6)\n",
    "fig, axs = plt.subplots(figsize=(1,1))\n",
    "ax = axs\n",
    "\n",
    "imsavepath = '/home/liam/temp/image_transfer/fig4_fight_woutbar.png'\n",
    "\n",
    "tet_bins = np.linspace(-np.pi, np.pi, 20)\n",
    "bin_width = tet_bins[1]-tet_bins[0]\n",
    "\n",
    "counts, xedges, yedges, im = ax.hist2d(data[:,0], data[:,1], bins=tet_bins, cmap='Greys', density=True);\n",
    "#cbar = fig.colorbar(im, ax=ax, ticks=[0, np.max(counts)])\n",
    "#cbar.ax.set_yticklabels([])  # vertically oriented colorbar\n",
    "\n",
    "ax.set_xticks([-np.pi, -np.pi/2, 0, np.pi/2, np.pi])\n",
    "ax.set_yticks([-np.pi, -np.pi/2, 0, np.pi/2, np.pi])\n",
    "\n",
    "ax.set_xticklabels([], fontsize=13)\n",
    "ax.set_yticklabels([], fontsize=13)\n",
    "\n",
    "ax.xaxis.set_tick_params(width=1, length=4)\n",
    "ax.yaxis.set_tick_params(width=1, length=4)\n",
    "for axis in ['top','bottom','left','right']:\n",
    "    ax.spines[axis].set_linewidth(1)\n",
    "\n",
    "#fig.tight_layout()\n",
    "\n",
    "fig.savefig(imsavepath, dpi=900, transparent=True)"
   ]
  },
  {
   "cell_type": "code",
   "execution_count": null,
   "id": "633adc93-ffc3-4a5a-a28f-82cbd6e92099",
   "metadata": {},
   "outputs": [],
   "source": []
  },
  {
   "cell_type": "code",
   "execution_count": null,
   "id": "2bbe04d7-a0a7-4977-8cfa-35873886c9d0",
   "metadata": {},
   "outputs": [],
   "source": []
  },
  {
   "cell_type": "markdown",
   "id": "b7875539-7b87-425a-8757-4f61c46eb2ad",
   "metadata": {},
   "source": [
    "## outside fights"
   ]
  },
  {
   "cell_type": "code",
   "execution_count": null,
   "id": "b22b96ba-9673-4b2d-8dba-a7f9b7a22976",
   "metadata": {},
   "outputs": [],
   "source": []
  },
  {
   "cell_type": "code",
   "execution_count": 95,
   "id": "e7fdef7b-22f7-4161-ac39-03ca5dfb172e",
   "metadata": {},
   "outputs": [
    {
     "data": {
      "text/plain": [
       "(10944574, 2)"
      ]
     },
     "execution_count": 95,
     "metadata": {},
     "output_type": "execute_result"
    }
   ],
   "source": [
    "data = np.stack([master_nonfight_tetWs, master_nonfight_tetLs], axis=1)\n",
    "data.shape"
   ]
  },
  {
   "cell_type": "code",
   "execution_count": null,
   "id": "5c856231-2288-4294-8137-478f0d3aa7ce",
   "metadata": {},
   "outputs": [],
   "source": []
  },
  {
   "cell_type": "code",
   "execution_count": 96,
   "id": "79cc1c62-5249-49cc-a025-633742c24255",
   "metadata": {},
   "outputs": [
    {
     "data": {
      "application/vnd.jupyter.widget-view+json": {
       "model_id": "0f797dd328cf47629d155e53ebcb086b",
       "version_major": 2,
       "version_minor": 0
      },
      "text/html": [
       "\n",
       "            <div style=\"display: inline-block;\">\n",
       "                <div class=\"jupyter-widgets widget-label\" style=\"text-align: center;\">\n",
       "                    Figure\n",
       "                </div>\n",
       "                <img src='data:image/png;base64,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' width=640.0/>\n",
       "            </div>\n",
       "        "
      ],
      "text/plain": [
       "Canvas(toolbar=Toolbar(toolitems=[('Home', 'Reset original view', 'home', 'home'), ('Back', 'Back to previous …"
      ]
     },
     "metadata": {},
     "output_type": "display_data"
    }
   ],
   "source": [
    "fig, axs = plt.subplots() #figsize=(2.6,2.6)\n",
    "ax = axs\n",
    "\n",
    "\n",
    "tet_bins = np.linspace(-np.pi, np.pi, 20)\n",
    "bin_width = tet_bins[1]-tet_bins[0]\n",
    "\n",
    "counts, xedges, yedges, im = ax.hist2d(data[:,0], data[:,1], bins=tet_bins, cmap='Greys', density=True);\n",
    "cbar = fig.colorbar(im, ax=ax, ticks=[0, np.max(counts)])\n",
    "cbar.ax.set_yticklabels(['0', 'max'])  # vertically oriented colorbar\n",
    "\n",
    "ax.set_xticks([-np.pi, -np.pi/2, 0, np.pi/2, np.pi])\n",
    "ax.set_yticks([-np.pi, -np.pi/2, 0, np.pi/2, np.pi])\n",
    "\n",
    "ax.set_xticklabels([r'-$\\pi$', r'-$\\pi$/2', '0', r'$\\pi$/2', r'$\\pi$'], fontsize=13)\n",
    "ax.set_yticklabels([r'-$\\pi$', r'-$\\pi$/2', '0', r'$\\pi$/2', r'$\\pi$'], fontsize=13)\n",
    "\n",
    "fig.tight_layout()"
   ]
  },
  {
   "cell_type": "code",
   "execution_count": 97,
   "id": "527d9465-9faa-4fba-a3d9-614079931656",
   "metadata": {},
   "outputs": [
    {
     "data": {
      "text/plain": [
       "0.044564880949344673"
      ]
     },
     "execution_count": 97,
     "metadata": {},
     "output_type": "execute_result"
    }
   ],
   "source": [
    "np.max(counts)*bin_width"
   ]
  },
  {
   "cell_type": "code",
   "execution_count": 98,
   "id": "022af912-9dec-4c76-91aa-1dac54dd5ec3",
   "metadata": {},
   "outputs": [
    {
     "data": {
      "text/plain": [
       "1.0000000000000002"
      ]
     },
     "execution_count": 98,
     "metadata": {},
     "output_type": "execute_result"
    }
   ],
   "source": [
    "np.sum(counts)*bin_width*bin_width"
   ]
  },
  {
   "cell_type": "code",
   "execution_count": null,
   "id": "3ff3a83a-7341-45ef-bde4-a99e70ecf1c6",
   "metadata": {},
   "outputs": [],
   "source": []
  },
  {
   "cell_type": "code",
   "execution_count": null,
   "id": "45e5abfc-e91b-4bba-81ac-e7c5417d41ab",
   "metadata": {},
   "outputs": [],
   "source": []
  },
  {
   "cell_type": "code",
   "execution_count": 101,
   "id": "386e59b7-c117-4672-b0e6-0f7029270e6d",
   "metadata": {},
   "outputs": [
    {
     "data": {
      "application/vnd.jupyter.widget-view+json": {
       "model_id": "012eb4ae78894b4f8ddbd086c345051d",
       "version_major": 2,
       "version_minor": 0
      },
      "text/html": [
       "\n",
       "            <div style=\"display: inline-block;\">\n",
       "                <div class=\"jupyter-widgets widget-label\" style=\"text-align: center;\">\n",
       "                    Figure\n",
       "                </div>\n",
       "                <img src='data:image/png;base64,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' width=100.0/>\n",
       "            </div>\n",
       "        "
      ],
      "text/plain": [
       "Canvas(toolbar=Toolbar(toolitems=[('Home', 'Reset original view', 'home', 'home'), ('Back', 'Back to previous …"
      ]
     },
     "metadata": {},
     "output_type": "display_data"
    }
   ],
   "source": [
    "#fig, axs = plt.subplots(figsize=(2.6,2.6)) #figsize=(2.6,2.6)\n",
    "fig, axs = plt.subplots(figsize=(1,1))\n",
    "ax = axs\n",
    "\n",
    "imsavepath = '/home/liam/temp/image_transfer/fig4_nofight_wbar.png'\n",
    "\n",
    "tet_bins = np.linspace(-np.pi, np.pi, 20)\n",
    "bin_width = tet_bins[1]-tet_bins[0]\n",
    "\n",
    "counts, xedges, yedges, im = ax.hist2d(data[:,0], data[:,1], bins=tet_bins, cmap='Greys', density=True);\n",
    "cbar = fig.colorbar(im, ax=ax, ticks=[0, np.max(counts)])\n",
    "cbar.ax.set_yticklabels([])  # vertically oriented colorbar\n",
    "\n",
    "ax.set_xticks([-np.pi, -np.pi/2, 0, np.pi/2, np.pi])\n",
    "ax.set_yticks([-np.pi, -np.pi/2, 0, np.pi/2, np.pi])\n",
    "\n",
    "ax.set_xticklabels([], fontsize=13)\n",
    "ax.set_yticklabels([], fontsize=13)\n",
    "\n",
    "#fig.tight_layout()\n",
    "\n",
    "fig.savefig(imsavepath, dpi=900, transparent=False)"
   ]
  },
  {
   "cell_type": "code",
   "execution_count": null,
   "id": "de05e23f-24ab-41d6-b040-54cd287af7c2",
   "metadata": {},
   "outputs": [],
   "source": []
  },
  {
   "cell_type": "code",
   "execution_count": 100,
   "id": "d551fc3c-aebb-48b2-bde2-7a9ee0207af8",
   "metadata": {},
   "outputs": [
    {
     "data": {
      "application/vnd.jupyter.widget-view+json": {
       "model_id": "ffde7e24913245c79cf1bb9e0f9ef0c0",
       "version_major": 2,
       "version_minor": 0
      },
      "text/html": [
       "\n",
       "            <div style=\"display: inline-block;\">\n",
       "                <div class=\"jupyter-widgets widget-label\" style=\"text-align: center;\">\n",
       "                    Figure\n",
       "                </div>\n",
       "                <img src='data:image/png;base64,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' width=100.0/>\n",
       "            </div>\n",
       "        "
      ],
      "text/plain": [
       "Canvas(toolbar=Toolbar(toolitems=[('Home', 'Reset original view', 'home', 'home'), ('Back', 'Back to previous …"
      ]
     },
     "metadata": {},
     "output_type": "display_data"
    }
   ],
   "source": [
    "#fig, axs = plt.subplots(figsize=(2.6,2.6)) #figsize=(2.6,2.6)\n",
    "fig, axs = plt.subplots(figsize=(1,1))\n",
    "ax = axs\n",
    "\n",
    "imsavepath = '/home/liam/temp/image_transfer/fig4_nofight_woutbar.png'\n",
    "\n",
    "tet_bins = np.linspace(-np.pi, np.pi, 20)\n",
    "bin_width = tet_bins[1]-tet_bins[0]\n",
    "\n",
    "counts, xedges, yedges, im = ax.hist2d(data[:,0], data[:,1], bins=tet_bins, cmap='Greys', density=True);\n",
    "#cbar = fig.colorbar(im, ax=ax, ticks=[0, np.max(counts)])\n",
    "#cbar.ax.set_yticklabels([])  # vertically oriented colorbar\n",
    "\n",
    "ax.set_xticks([-np.pi, -np.pi/2, 0, np.pi/2, np.pi])\n",
    "ax.set_yticks([-np.pi, -np.pi/2, 0, np.pi/2, np.pi])\n",
    "\n",
    "ax.set_xticklabels([], fontsize=13)\n",
    "ax.set_yticklabels([], fontsize=13)\n",
    "\n",
    "ax.xaxis.set_tick_params(width=1, length=4)\n",
    "ax.yaxis.set_tick_params(width=1, length=4)\n",
    "for axis in ['top','bottom','left','right']:\n",
    "    ax.spines[axis].set_linewidth(1)\n",
    "\n",
    "#fig.tight_layout()\n",
    "\n",
    "fig.savefig(imsavepath, dpi=900, transparent=True)"
   ]
  },
  {
   "cell_type": "code",
   "execution_count": null,
   "id": "19a5f33b-171b-4339-98a6-74d291746e7e",
   "metadata": {},
   "outputs": [],
   "source": []
  },
  {
   "cell_type": "code",
   "execution_count": null,
   "id": "b053518b-1ab2-484e-889e-ce7ea3173cd9",
   "metadata": {},
   "outputs": [],
   "source": []
  },
  {
   "cell_type": "code",
   "execution_count": null,
   "id": "6320b98a-ac61-4783-a798-a8637a5887f9",
   "metadata": {},
   "outputs": [],
   "source": []
  },
  {
   "cell_type": "code",
   "execution_count": null,
   "id": "4d87af6a-9447-42b8-9225-38f153fbaba6",
   "metadata": {},
   "outputs": [],
   "source": []
  },
  {
   "cell_type": "code",
   "execution_count": null,
   "id": "a42a62ce-80d4-47f9-9146-140bd937c552",
   "metadata": {},
   "outputs": [],
   "source": []
  },
  {
   "cell_type": "code",
   "execution_count": null,
   "id": "b4b6a1f9-1005-4080-a4c1-07c2bf49902b",
   "metadata": {},
   "outputs": [],
   "source": []
  },
  {
   "cell_type": "code",
   "execution_count": null,
   "id": "8db9043e-a3c5-4a8f-88bb-cce564f0ed09",
   "metadata": {},
   "outputs": [],
   "source": []
  }
 ],
 "metadata": {
  "kernelspec": {
   "display_name": "analysis",
   "language": "python",
   "name": "analysis"
  },
  "language_info": {
   "codemirror_mode": {
    "name": "ipython",
    "version": 3
   },
   "file_extension": ".py",
   "mimetype": "text/x-python",
   "name": "python",
   "nbconvert_exporter": "python",
   "pygments_lexer": "ipython3",
   "version": "3.9.7"
  }
 },
 "nbformat": 4,
 "nbformat_minor": 5
}

{
 "cells": [
  {
   "cell_type": "code",
   "execution_count": null,
   "id": "fc388d13-937b-4c18-a641-eb873826c793",
   "metadata": {},
   "outputs": [],
   "source": []
  },
  {
   "cell_type": "markdown",
   "id": "21ed9855-5494-4aeb-96c3-add5ff79b12f",
   "metadata": {},
   "source": [
    "# Imports "
   ]
  },
  {
   "cell_type": "code",
   "execution_count": 2,
   "id": "08ce32f2-d147-4467-83a9-c85c0dcb2e4b",
   "metadata": {},
   "outputs": [
    {
     "name": "stdout",
     "output_type": "stream",
     "text": [
      "The autoreload extension is already loaded. To reload it, use:\n",
      "  %reload_ext autoreload\n"
     ]
    }
   ],
   "source": [
    "import numpy as np\n",
    "np.set_printoptions(suppress=True)\n",
    "import h5py\n",
    "import pandas as pd\n",
    "import time\n",
    "import glob\n",
    "import matplotlib.pyplot as plt\n",
    "import matplotlib.patches as mpatches\n",
    "import seaborn as sns\n",
    "import os\n",
    "import sys\n",
    "from multiprocessing import Pool, RawArray\n",
    "from scipy.spatial import distance\n",
    "%matplotlib widget\n",
    "%load_ext autoreload\n",
    "%autoreload 2\n",
    "\n",
    "# --- import functions for computing kinematic variables --- #\n",
    "sys.path.append('../tracking_code/lib/')\n",
    "from kinematics import compute_pec_pec_distance, compute_thetaW_and_thetaL\n",
    "from tracking import contiguous_regions"
   ]
  },
  {
   "cell_type": "code",
   "execution_count": null,
   "id": "f8425eef-319a-45e3-9141-87ec421f0d9b",
   "metadata": {},
   "outputs": [],
   "source": []
  },
  {
   "cell_type": "markdown",
   "id": "3864d32d-fc4c-4755-ab47-31746609f12d",
   "metadata": {},
   "source": [
    "# load the tracking data"
   ]
  },
  {
   "cell_type": "code",
   "execution_count": null,
   "id": "6fb7c212-ce9f-412c-bf77-c423f2b739f0",
   "metadata": {},
   "outputs": [],
   "source": []
  },
  {
   "cell_type": "code",
   "execution_count": 182,
   "id": "b4f1ec1d-c023-4d6e-ad33-14de7e79e3f2",
   "metadata": {},
   "outputs": [],
   "source": [
    "main_load_folder = '/media/liam/hd1/fighting_data/tracking_results/'\n",
    "\n",
    "# ----------------------#\n",
    "\n",
    "interp_polyOrd=1  # the order of the polynomial used for interpolation\n",
    "interp_limit=5    # the maximum number of frames to interpolate over\n",
    "savgol_win=9      # the number of frames for the Savitzky-Golay filter\n",
    "savgol_ord=2      # the polynomial order for the Savitzky-Golay filter\n",
    "dt=0.01           # the frame rate of the recording\n",
    "\n",
    "# -----------------------#\n",
    "\n",
    "\n",
    "\n",
    "\n",
    "# set datapaths for saving later on\n",
    "clusterable_data_path = os.path.join( os.path.dirname(os.path.dirname(main_load_folder)) , \n",
    "                                      'fight_detection_data/clusterable_data.h5')\n",
    "clusterable_data_dmat_path = os.path.join( os.path.dirname(os.path.dirname(main_load_folder)) , \n",
    "                                      'fight_detection_data/clusterable_data_dmat.h5')\n",
    "clusterable_data_labels_path = os.path.join( os.path.dirname(os.path.dirname(main_load_folder)) , \n",
    "                                      'fight_detection_data/clusterable_data_labels.h5')\n",
    "cluster_params_path = os.path.join( os.path.dirname(os.path.dirname(main_load_folder)) , \n",
    "                                      'fight_detection_data/cluster_params.h5')\n",
    "fightBouts_info_path = os.path.join(main_load_folder, 'fightBouts.h5')\n",
    "\n",
    "\n",
    "# get the filepaths of the traking results\n",
    "loadpaths = glob.glob(os.path.join(main_load_folder, '*results.h5'))\n",
    "loadpaths.sort()\n",
    "\n",
    "# parse the exp names\n",
    "expNames = [path.split('/')[-1][:23] for path in loadpaths]\n",
    "\n",
    "smooth_trajectories = []\n",
    "for path in loadpaths:\n",
    "    with h5py.File(path, 'r') as hf:\n",
    "        tracks_3D_smooth = hf['tracks_3D_smooth'][:]\n",
    "    smooth_trajectories.append(tracks_3D_smooth)\n",
    "    \n",
    "    \n",
    "# create a list of the number of frames in each experiment\n",
    "expNumFrames = []\n",
    "for expIdx in range(len(expNames)):\n",
    "    nfs = smooth_trajectories[expIdx].shape[0]\n",
    "    expNumFrames.append(nfs)\n",
    "    \n",
    "\n",
    "other_info_loadpath = os.path.join(main_load_folder, 'winners_losers_inconclusive.h5')\n",
    "with h5py.File(other_info_loadpath, 'r') as hf:\n",
    "    winner_idxs = hf['winner_idxs'][:]\n",
    "    loser_idxs = hf['loser_idxs'][:]\n",
    "    conclusive_winner_loser = hf['conclusive_winner_loser'][:]\n",
    "    already_established_dominance = hf['already_established_dominance'][:]\n"
   ]
  },
  {
   "cell_type": "code",
   "execution_count": null,
   "id": "f733eb1c-196b-43b1-94e0-1716fb57f1a8",
   "metadata": {},
   "outputs": [],
   "source": []
  },
  {
   "cell_type": "code",
   "execution_count": null,
   "id": "f834fda4-4374-440b-a339-d0bbf4efc14f",
   "metadata": {},
   "outputs": [],
   "source": []
  },
  {
   "cell_type": "code",
   "execution_count": null,
   "id": "af1b922d-7ad3-4494-bd4b-e7edfe8cd397",
   "metadata": {},
   "outputs": [],
   "source": []
  },
  {
   "cell_type": "markdown",
   "id": "80a99d8a-c9c4-4eb1-ae3d-180724b11b5c",
   "metadata": {},
   "source": [
    "# Compute $\\theta_{W}$, $\\theta_{L}$ and $D_{PP}$ for all experiments"
   ]
  },
  {
   "cell_type": "code",
   "execution_count": null,
   "id": "35920e0d-73f4-4e04-a320-e81109d83aee",
   "metadata": {},
   "outputs": [],
   "source": []
  },
  {
   "cell_type": "code",
   "execution_count": 4,
   "id": "e22cb0ad-75db-45f5-9d1f-6d09e3a4a260",
   "metadata": {},
   "outputs": [],
   "source": [
    "interp_polyOrd=1  # the order of the polynomial used for interpolation\n",
    "interp_limit=5    # the maximum number of frames to interpolate over\n",
    "savgol_win=9      # the number of frames for the Savitzky-Golay filter\n",
    "savgol_ord=2      # the polynomial order for the Savitzky-Golay filter\n",
    "dt=0.01           # the frame rate of the recording"
   ]
  },
  {
   "cell_type": "code",
   "execution_count": null,
   "id": "dd7f38fa-d5f3-4d28-be73-ffcf7eeef7d3",
   "metadata": {},
   "outputs": [],
   "source": []
  },
  {
   "cell_type": "code",
   "execution_count": 5,
   "id": "6f5b62dd-b8bd-43ac-b0ab-2aaae7c4b475",
   "metadata": {},
   "outputs": [
    {
     "name": "stdout",
     "output_type": "stream",
     "text": [
      "FishTank20200127_143538\n",
      "FishTank20200129_140656\n",
      "FishTank20200130_153857\n",
      "FishTank20200130_181614\n",
      "FishTank20200207_161445\n",
      "FishTank20200213_154940\n",
      "FishTank20200214_153519\n",
      "FishTank20200217_160052\n",
      "FishTank20200218_153008\n",
      "FishTank20200316_163320\n",
      "FishTank20200327_154737\n",
      "FishTank20200330_161100\n",
      "FishTank20200331_162136\n",
      "FishTank20200520_152810\n",
      "FishTank20200521_154541\n",
      "FishTank20200525_161602\n",
      "FishTank20200526_160100\n"
     ]
    },
    {
     "name": "stderr",
     "output_type": "stream",
     "text": [
      "/home/liam/code/Dynamics_of_dominance/figures_code/../tracking_code/lib/kinematics.py:24: RuntimeWarning: invalid value encountered in true_divide\n",
      "  vec_ts = vec_ts / row_norms[:, np.newaxis]\n"
     ]
    },
    {
     "name": "stdout",
     "output_type": "stream",
     "text": [
      "FishTank20200527_152401\n",
      "FishTank20200824_151740\n",
      "FishTank20200828_155504\n",
      "FishTank20200902_160124\n",
      "FishTank20200903_160946\n",
      "\n",
      "finished: 7.394581590080634 s\n"
     ]
    }
   ],
   "source": [
    "t0 = time.perf_counter()\n",
    "\n",
    "exp_dpps = []\n",
    "exp_tetWs = []\n",
    "exp_tetLs = []\n",
    "exp_numFrames = []\n",
    "\n",
    "\n",
    "for ii, expName in enumerate(expNames):\n",
    "    print(expName)\n",
    "    \n",
    "    smooth_traj = smooth_trajectories[ii]\n",
    "    winIdx = winner_idxs[ii]\n",
    "    losIdx = loser_idxs[ii]\n",
    "    \n",
    "    dpp_ts = compute_pec_pec_distance(smooth_traj)\n",
    "    tetW_ts, tetL_ts = compute_thetaW_and_thetaL(smooth_traj, winIdx, losIdx)\n",
    "    \n",
    "    exp_dpps.append(dpp_ts)\n",
    "    exp_tetWs.append(tetW_ts)\n",
    "    exp_tetLs.append(tetL_ts)\n",
    "    exp_numFrames.append(smooth_traj.shape[0])\n",
    "    \n",
    "    \n",
    "tE = time.perf_counter()\n",
    "print()\n",
    "print('finished: {0} s'.format(tE-t0))"
   ]
  },
  {
   "cell_type": "code",
   "execution_count": null,
   "id": "2602d35a-5e25-410e-a819-c27ac2dac2ac",
   "metadata": {},
   "outputs": [],
   "source": []
  },
  {
   "cell_type": "markdown",
   "id": "5ec78f6c-8fb8-4ca3-a644-ab8a433941d4",
   "metadata": {},
   "source": [
    "# Functions"
   ]
  },
  {
   "cell_type": "code",
   "execution_count": null,
   "id": "fff1a097-782e-4d00-b910-3d41a4dae106",
   "metadata": {},
   "outputs": [],
   "source": []
  },
  {
   "cell_type": "code",
   "execution_count": 6,
   "id": "acca57a1-f073-46f8-b7a4-2c0c39a1b4d9",
   "metadata": {},
   "outputs": [],
   "source": [
    "def map_02Pi_array_to_minusPiPi_array(arr):\n",
    "    ''' Given a timeseries of angles in the range (0, 2pi),\n",
    "        return the same timeseries in the range (-pi, pi)\n",
    "    '''\n",
    "    out_arr = np.copy(arr)\n",
    "    too_big_idxs = np.where(arr > np.pi)[0]\n",
    "    too_neg_idxs = np.where(arr < -np.pi)[0]\n",
    "    out_arr[too_big_idxs] -= 2*np.pi\n",
    "    out_arr[too_neg_idxs] += 2*np.pi\n",
    "    return out_arr\n",
    "\n",
    "def sum_theta_angles(tet1, tet2):\n",
    "    ''' Add the two arrays of theta angles, keeping the (-pi,pi) range.\n",
    "    \n",
    "    -- args --\n",
    "    tet1: arr shape (numFrames,)\n",
    "    tet2: arr shape (numFrames,)\n",
    "    \n",
    "    -- returns --\n",
    "    sum_thetas: arr shape (numFrames)\n",
    "    '''\n",
    "    # map to (0,2pi) range\n",
    "    alpha1 = tet1 + np.pi\n",
    "    alpha2 = tet2 + np.pi\n",
    "    # sum\n",
    "    alpha = alpha1 + alpha2\n",
    "    #  apply boundary\n",
    "    beta = np.mod(alpha, 2*np.pi)\n",
    "    # map back to -pi, pi\n",
    "    sum_thetas = map_02Pi_array_to_minusPiPi_array(beta)\n",
    "    return sum_thetas\n",
    "\n",
    "def abs_diff_theta_angles(tet1, tet2):\n",
    "    ''' Subtract the two arrays of theta angles, keeping the (-pi,pi) range,\n",
    "        then take the absolute value.\n",
    "    \n",
    "    -- args --\n",
    "    tet1: arr shape (numFrames,)\n",
    "    tet2: arr shape (numFrames,)\n",
    "    \n",
    "    -- returns --\n",
    "    abs_diff_thetas: arr shape (numFrames)\n",
    "    '''\n",
    "    # map to (0,2pi) range\n",
    "    alpha1 = tet1 + np.pi\n",
    "    alpha2 = tet2 + np.pi\n",
    "    alpha = alpha1 - alpha2\n",
    "    # sum and apply boundary\n",
    "    beta = np.mod(alpha, 2*np.pi)\n",
    "    # map back to -pi, pi, then take the absolute value\n",
    "    abs_diff_thetas = np.abs(map_02Pi_array_to_minusPiPi_array(beta))\n",
    "    return abs_diff_thetas\n",
    "\n",
    "def diff_theta_angles(tet1, tet2):\n",
    "    ''' Subtract the two arrays of theta angles, keeping the (-pi,pi) range,\n",
    "    \n",
    "    -- args --\n",
    "    tet1: arr shape (numFrames,)\n",
    "    tet2: arr shape (numFrames,)\n",
    "    \n",
    "    -- returns --\n",
    "    diff_thetas: arr shape (numFrames)\n",
    "    '''\n",
    "    # map to (0,2pi) range\n",
    "    alpha1 = tet1 + np.pi\n",
    "    alpha2 = tet2 + np.pi\n",
    "    alpha = alpha1 - alpha2\n",
    "    # sum and apply boundary,\n",
    "    beta = np.mod(alpha, 2*np.pi)\n",
    "    # map back to -pi, pi\n",
    "    diff_thetas = map_02Pi_array_to_minusPiPi_array(beta)\n",
    "    return diff_thetas\n",
    "\n",
    "\n",
    "def symmetrize_tet1_tet2(tet1, tet2):\n",
    "    ''' Use a symmetric function to transform tet1 into tet2 into variables\n",
    "        where the order of tet1 and tet2 doesn't matter.\n",
    "    \n",
    "    -- args --\n",
    "    tet1: arr shape (numFrames,)\n",
    "    tet2: arr shape (numFrames,)\n",
    "    \n",
    "    -- returns --\n",
    "    sum_thetas: arr shape (numFrames)\n",
    "    '''\n",
    "    tet1_plus_tet2 =  sum_theta_angles(tet1, tet2)\n",
    "    abs_tet1_minus_tet2 =  abs_diff_theta_angles(tet1, tet2)\n",
    "    return tet1_plus_tet2, abs_tet1_minus_tet2"
   ]
  },
  {
   "cell_type": "code",
   "execution_count": 7,
   "id": "cea53911-fb04-4504-9315-4d205b2a1382",
   "metadata": {},
   "outputs": [],
   "source": [
    "def return_overlapping_windows_for_timeframes(numFrames, window_size=200, window_step=50):\n",
    "    ''' Given a number of frames, return an 2D array of window start-stop frames.\n",
    "    '''\n",
    "    # define, for clarity, the first window\n",
    "    win0_start = 0\n",
    "    win0_mid = int(window_size/2)\n",
    "    win0_end = int(window_size)\n",
    "\n",
    "    # find numWindows, by adding incrementally and watching the last frame\n",
    "    last_frame_in_windows = win0_end\n",
    "    numWindows = 1\n",
    "    while last_frame_in_windows < (numFrames - window_step):\n",
    "        numWindows += 1\n",
    "        last_frame_in_windows = win0_end + (numWindows-1)*window_step\n",
    "\n",
    "    # now fill-in the windows array of frame indices\n",
    "    windows = np.zeros((numWindows, 2))\n",
    "    windows[0, 0] = 0\n",
    "    windows[0, 1] = win0_end\n",
    "    for winIdx in range(1, numWindows):\n",
    "        w0 = winIdx*window_step\n",
    "        wF = w0 + window_size\n",
    "        windows[winIdx, 0] = w0\n",
    "        windows[winIdx, 1] = wF\n",
    "    return windows.astype(int)\n",
    "\n",
    "\n",
    "def get_1D_prob_vectors_from_dpp_g1_g2_in_timeWins(dpp, g1, g2, dppBins, g1Bins, g2Bins, timeWins):\n",
    "    ''' Return the 1D probability vector from the 3D histogramming of (dpp,g1,g2),\n",
    "        using the spatial bins provided, and the timeWins provided. timeWins may be a decimated\n",
    "        time_windows array.\n",
    "        \n",
    "    These 1D probability vectors represenent the probability of being in each of the microstates\n",
    "    defined by the spatial binning, in that particular window of time. \n",
    "        \n",
    "    --- args ---\n",
    "    dpp: (numFrames,)\n",
    "    g1: (numFrames,)\n",
    "    g2: (numFrames,)\n",
    "    dppBins: (numBins,)\n",
    "    g1Bins: (numBins,)\n",
    "    g2Bins: (numBins,)\n",
    "    timeWins: (numWindows, win_start_and_stop)\n",
    "\n",
    "    --- returns ---\n",
    "    prob_vectors_for_wins: (numWindows, num_dpp_bins*num_g1_bins*num_g2_bins),\n",
    "                            \n",
    "    '''\n",
    "    # parse info\n",
    "    hist_bins = [dppBins, g1Bins, g2Bins]\n",
    "    numFrames = dpp.shape[0]\n",
    "    if ~ dpp.shape[0] == g1.shape[0] == g2.shape[0]:\n",
    "        raise TypeError('dpp, g1, g2 are not the same length')\n",
    "    numWindows = timeWins.shape[0]\n",
    "    \n",
    "    # --------- get the prob vectors for all windows ------ #\n",
    "    probs = []\n",
    "    for winIdx in range(numWindows):\n",
    "        # parse the data for this windows\n",
    "        f0,fE = timeWins[winIdx]\n",
    "        # grab the data\n",
    "        win_g1 = g1[f0:fE]\n",
    "        win_g2 = g2[f0:fE]\n",
    "        win_dpp = dpp[f0:fE]\n",
    "        # Make (N,D) data\n",
    "        win_data = np.stack([win_dpp, win_g1, win_g2], axis=1)\n",
    "        # get the probs\n",
    "        hist_counts, hist_edges = np.histogramdd(win_data, bins=hist_bins, density=True)\n",
    "        hist_probs = hist_counts / np.sum(hist_counts)\n",
    "        probs.append(hist_probs)\n",
    "    # convert probs list to array\n",
    "    prob_vectors_for_wins = np.array(probs)\n",
    "    # cast dpp-theta-theta dist into 1D form (first dim runs along windows)\n",
    "    prob_vectors_for_wins = prob_vectors_for_wins.reshape(prob_vectors_for_wins.shape[0], -1)\n",
    "    return prob_vectors_for_wins"
   ]
  },
  {
   "cell_type": "code",
   "execution_count": null,
   "id": "79014a2c-7334-4758-8e5d-411b7580577d",
   "metadata": {},
   "outputs": [],
   "source": []
  },
  {
   "cell_type": "code",
   "execution_count": null,
   "id": "132f212e-c6a6-44bc-9894-1a0400541c65",
   "metadata": {},
   "outputs": [],
   "source": []
  },
  {
   "cell_type": "markdown",
   "id": "fff29b36-949f-4d24-ae09-57a1f560ee82",
   "metadata": {},
   "source": [
    "# Prepare the data to cluster"
   ]
  },
  {
   "cell_type": "code",
   "execution_count": null,
   "id": "e3fc2c27-c20f-4500-94a2-bf1307b39da4",
   "metadata": {},
   "outputs": [],
   "source": []
  },
  {
   "cell_type": "code",
   "execution_count": 8,
   "id": "5b3c655d-a611-4ba3-af6d-418b60d606fe",
   "metadata": {},
   "outputs": [],
   "source": [
    "# ----------- bins --------------#\n",
    "# designed to match the infomap results (main paper figure data)\n",
    "dpp_bins = np.arange(0, 20+1, 1)              # the bin-edges array for the binning of Dpp\n",
    "theta_bins = np.linspace(-np.pi, np.pi, 20+1)         # the bin-edges array for the binning of Tet1 and Tet2\n",
    "g1_bins = np.linspace(-np.pi, np.pi, 20+1)         # the bin-edges array for g1\n",
    "g2_bins = np.linspace(0, np.pi, 20+1)         # the bin-edges array for g2\n",
    "window_size = 6000                            # the size of the windows in frames\n",
    "window_step = 100                             # the number of frames between centers of neighbouring windows\n",
    "skip_size = 30                                # the number of windows to skip between samples when gathering clustering data\n",
    "\n",
    "numStates = (dpp_bins.shape[0]-1)*(theta_bins.shape[0]-1)*(theta_bins.shape[0]-1)\n",
    "\n",
    "cluster_params = {'dpp_bins':dpp_bins,\n",
    "                  'theta_bins':theta_bins,\n",
    "                  'numStates':numStates,\n",
    "                  'window_size':window_size,\n",
    "                  'window_step':window_step,\n",
    "                  'skip_size':skip_size,\n",
    "                  'g1_bins':g1_bins,\n",
    "                  'g2_bins':g2_bins}"
   ]
  },
  {
   "cell_type": "code",
   "execution_count": null,
   "id": "348efc16-ea3a-45f7-8877-007cb6fa6555",
   "metadata": {},
   "outputs": [],
   "source": []
  },
  {
   "cell_type": "code",
   "execution_count": 9,
   "id": "8a4d6e18-2a18-479d-a0bf-92b2482247f9",
   "metadata": {},
   "outputs": [
    {
     "name": "stderr",
     "output_type": "stream",
     "text": [
      "/tmp/ipykernel_884602/3243086601.py:28: RuntimeWarning: invalid value encountered in remainder\n",
      "  beta = np.mod(alpha, 2*np.pi)\n",
      "/tmp/ipykernel_884602/3243086601.py:49: RuntimeWarning: invalid value encountered in remainder\n",
      "  beta = np.mod(alpha, 2*np.pi)\n"
     ]
    },
    {
     "name": "stdout",
     "output_type": "stream",
     "text": [
      "FishTank20200127_143538  finished:  0.2942708469927311\n",
      "FishTank20200129_140656  finished:  0.5091853770427406\n",
      "FishTank20200130_153857  finished:  0.6477822801098228\n",
      "FishTank20200130_181614  finished:  0.7928366891574115\n",
      "FishTank20200207_161445  finished:  0.9132156970445067\n",
      "FishTank20200213_154940  finished:  1.1162953041493893\n",
      "FishTank20200214_153519  finished:  1.2442481860052794\n",
      "FishTank20200217_160052  finished:  1.4078171860892326\n",
      "FishTank20200218_153008  finished:  1.5495364831294864\n",
      "FishTank20200316_163320  finished:  1.8366514299996197\n",
      "FishTank20200327_154737  finished:  1.9843017931561917\n",
      "FishTank20200330_161100  finished:  2.129891452146694\n",
      "FishTank20200331_162136  finished:  2.337150804931298\n",
      "FishTank20200520_152810  finished:  2.690365373156965\n",
      "FishTank20200521_154541  finished:  2.843562499154359\n",
      "FishTank20200525_161602  finished:  2.997992452001199\n",
      "FishTank20200526_160100  finished:  3.183082499075681\n",
      "FishTank20200527_152401  finished:  3.3129432550631464\n",
      "FishTank20200824_151740  finished:  3.7987679420039058\n",
      "FishTank20200828_155504  finished:  4.010598584078252\n",
      "FishTank20200902_160124  finished:  4.1996852569282055\n"
     ]
    },
    {
     "name": "stderr",
     "output_type": "stream",
     "text": [
      "/home/liam/anaconda3/envs/analysis/lib/python3.9/site-packages/numpy/lib/histograms.py:1124: RuntimeWarning: invalid value encountered in true_divide\n",
      "  hist /= s\n"
     ]
    },
    {
     "name": "stdout",
     "output_type": "stream",
     "text": [
      "FishTank20200903_160946  finished:  4.399592877132818\n",
      "\n",
      "4.400091334013268  s\n"
     ]
    }
   ],
   "source": [
    "t0 = time.perf_counter()\n",
    "\n",
    "\n",
    "exps_decimated_prob_vecs_list = []\n",
    "exps_decimated_timeWins_list = []\n",
    "exp_g1s = []\n",
    "exp_g2s = []\n",
    "\n",
    "for expIdx, expName in enumerate(expNames):\n",
    "    \n",
    "    # ---- time windows ---#\n",
    "    numFrames = exp_numFrames[expIdx]\n",
    "    time_windows = return_overlapping_windows_for_timeframes(numFrames, \n",
    "                                                             window_size=cluster_params['window_size'], \n",
    "                                                             window_step=cluster_params['window_step'])\n",
    "    # and decimated time windows\n",
    "    decimated_exp_time_windows = time_windows[::cluster_params['skip_size'], :]\n",
    "    \n",
    "    \n",
    "    # --- get Dpp,tet1,tet2 --- #\n",
    "    dpp = exp_dpps[expIdx]\n",
    "    tet1 = exp_tetWs[expIdx]\n",
    "    tet2 = exp_tetLs[expIdx]\n",
    "    \n",
    "    \n",
    "    # ---- compute the transformed variables ---- #\n",
    "    g1_arr, g2_arr = symmetrize_tet1_tet2(tet1, tet2)\n",
    "    \n",
    "    # --------- get the prob vectors for the decimated time_windows ------ #\n",
    "    prob_vectors_for_decimated_wins = get_1D_prob_vectors_from_dpp_g1_g2_in_timeWins(dpp, g1_arr, g2_arr,\n",
    "                                                                                    cluster_params['dpp_bins'],\n",
    "                                                                                    cluster_params['g1_bins'],\n",
    "                                                                                    cluster_params['g2_bins'],\n",
    "                                                                                    decimated_exp_time_windows)\n",
    "    \n",
    "    # ------ select only distributions without any NaNs -------#\n",
    "    # apply the mask for the probvecs to the time_windows too, to keep track of which we use\n",
    "    prob_vectors_for_decimated_wins_nanless = prob_vectors_for_decimated_wins[ np.where(~np.isnan(prob_vectors_for_decimated_wins).any(axis=1))[0] ]\n",
    "    decimated_exp_time_windows_nanless = decimated_exp_time_windows[ np.where(~np.isnan(prob_vectors_for_decimated_wins).any(axis=1))[0] ]\n",
    "    \n",
    "    \n",
    "    # ----------------------- record -----------------------#\n",
    "    exps_decimated_prob_vecs_list.append(prob_vectors_for_decimated_wins_nanless)\n",
    "    exps_decimated_timeWins_list.append(decimated_exp_time_windows_nanless)\n",
    "    exp_g1s.append(g1_arr)\n",
    "    exp_g2s.append(g2_arr)\n",
    "    \n",
    "    \n",
    "    # ------- finish up ----------\n",
    "    print(expName, ' finished: ', time.perf_counter()-t0)\n",
    "       \n",
    "print()\n",
    "print(time.perf_counter() - t0, ' s')\n",
    "    "
   ]
  },
  {
   "cell_type": "code",
   "execution_count": null,
   "id": "c52327af-c02e-493c-aa86-1ca48bd6db4b",
   "metadata": {},
   "outputs": [],
   "source": []
  },
  {
   "cell_type": "code",
   "execution_count": null,
   "id": "bf32a687-669e-4c0f-b0c8-7e8cd55e7a1a",
   "metadata": {},
   "outputs": [],
   "source": []
  },
  {
   "cell_type": "code",
   "execution_count": 10,
   "id": "21b99ef7-fb1e-4040-98c7-46e9c8e92b63",
   "metadata": {},
   "outputs": [],
   "source": [
    "# ------- Combine results from various experiments --------- #\n",
    "\n",
    "# combine the distributions\n",
    "prob_vectors_clusterable_data = np.concatenate(exps_decimated_prob_vecs_list, axis=0)\n",
    "\n",
    "# to combine the time arrays, add in the expIdx\n",
    "expidx_and_decimated_wins_clusterable_data = []\n",
    "for expIdx, expName in enumerate(expNames):\n",
    "    exp_decimated_wins = exps_decimated_timeWins_list[expIdx]\n",
    "    # preallocate an array the same size, but with 3 cols instead of two\n",
    "    expidx_and_decimated_wins = np.zeros((exp_decimated_wins.shape[0], 3), dtype=int)\n",
    "    # fill-in the expIdx in the first column, and the timewindows in the other two\n",
    "    expidx_and_decimated_wins[:,0] = expIdx\n",
    "    expidx_and_decimated_wins[:,1:] = exp_decimated_wins\n",
    "    # record\n",
    "    expidx_and_decimated_wins_clusterable_data.append(expidx_and_decimated_wins)\n",
    "expidx_and_decimated_wins_clusterable_data = np.concatenate(expidx_and_decimated_wins_clusterable_data, axis=0)"
   ]
  },
  {
   "cell_type": "code",
   "execution_count": null,
   "id": "c0224594-ee0c-453a-936c-84fe6bee882c",
   "metadata": {},
   "outputs": [],
   "source": []
  },
  {
   "cell_type": "code",
   "execution_count": 11,
   "id": "1cbcae3d-a168-42b0-aa9b-2d5f72cdeed1",
   "metadata": {},
   "outputs": [
    {
     "data": {
      "text/plain": [
       "(5308, 8000)"
      ]
     },
     "execution_count": 11,
     "metadata": {},
     "output_type": "execute_result"
    }
   ],
   "source": [
    "prob_vectors_clusterable_data.shape"
   ]
  },
  {
   "cell_type": "code",
   "execution_count": 12,
   "id": "26fa30af-d5eb-4d81-8c7f-03aab61aa131",
   "metadata": {},
   "outputs": [
    {
     "data": {
      "text/plain": [
       "(5308, 3)"
      ]
     },
     "execution_count": 12,
     "metadata": {},
     "output_type": "execute_result"
    }
   ],
   "source": [
    "expidx_and_decimated_wins_clusterable_data.shape"
   ]
  },
  {
   "cell_type": "code",
   "execution_count": 13,
   "id": "8473f2f5-b697-433a-8e00-13f43d7aa337",
   "metadata": {},
   "outputs": [
    {
     "data": {
      "text/plain": [
       "array([[     0,      0,   6000],\n",
       "       [     0,   3000,   9000],\n",
       "       [     0,   6000,  12000],\n",
       "       ...,\n",
       "       [    21, 711000, 717000],\n",
       "       [    21, 714000, 720000],\n",
       "       [    21, 717000, 723000]])"
      ]
     },
     "execution_count": 13,
     "metadata": {},
     "output_type": "execute_result"
    }
   ],
   "source": [
    "expidx_and_decimated_wins_clusterable_data"
   ]
  },
  {
   "cell_type": "code",
   "execution_count": null,
   "id": "af42540b-2ddb-4277-85b4-dfcd61676b2f",
   "metadata": {},
   "outputs": [],
   "source": []
  },
  {
   "cell_type": "code",
   "execution_count": null,
   "id": "836ffee6-0c41-4e40-bc19-dd3c7ff1f1bc",
   "metadata": {},
   "outputs": [],
   "source": []
  },
  {
   "cell_type": "code",
   "execution_count": 15,
   "id": "08621555-a11c-4e46-b59a-294a7ee819f6",
   "metadata": {},
   "outputs": [],
   "source": [
    "# --- save --- #\n",
    "with h5py.File(clusterable_data_path, 'w') as hf:\n",
    "    hf.create_dataset(\"prob_vectors_clusterable_data\", data=prob_vectors_clusterable_data)\n",
    "    hf.create_dataset(\"expidx_and_decimated_wins_clusterable_data\", data=expidx_and_decimated_wins_clusterable_data)"
   ]
  },
  {
   "cell_type": "code",
   "execution_count": null,
   "id": "387b663b-d698-48c1-974f-177a7bc99e3d",
   "metadata": {},
   "outputs": [],
   "source": []
  },
  {
   "cell_type": "code",
   "execution_count": null,
   "id": "5a628104-f363-4348-9c8d-959be3c85d06",
   "metadata": {},
   "outputs": [],
   "source": []
  },
  {
   "cell_type": "code",
   "execution_count": null,
   "id": "0d7b7952-2280-49e6-b1ff-5f6701644700",
   "metadata": {},
   "outputs": [],
   "source": []
  },
  {
   "cell_type": "code",
   "execution_count": null,
   "id": "475806c1-21cd-48d4-9944-95dc4c90b99b",
   "metadata": {},
   "outputs": [],
   "source": []
  },
  {
   "cell_type": "markdown",
   "id": "6f59a5a1-9368-473f-9fd0-080c0b5895b9",
   "metadata": {},
   "source": [
    "# compute and save the distance matrix"
   ]
  },
  {
   "cell_type": "code",
   "execution_count": 16,
   "id": "12401109-0673-4922-bd9b-5074216b3123",
   "metadata": {},
   "outputs": [
    {
     "name": "stdout",
     "output_type": "stream",
     "text": [
      "(5308, 5308)\n",
      "247.100576877594\n"
     ]
    }
   ],
   "source": [
    "# -----------------------------------------------------------------#\n",
    "# ------ Cell for computing distance matrix in parallel ---------- #\n",
    "# -----------------------------------------------------------------#\n",
    "t0 = time.time()\n",
    "\n",
    "# --- args --- #\n",
    "numProcessors = 40\n",
    "\n",
    "distribution_array = np.copy(prob_vectors_clusterable_data)\n",
    "\n",
    "# --------------------------------------------------------------------------------------------#\n",
    "# --------------------------------------------------------------------------------------------#\n",
    "\n",
    "# make the list of distributions indices to map over\n",
    "dist_idxs =  range(distribution_array.shape[0])\n",
    "\n",
    "#  ---- make a shareable version of the theta probs --- #\n",
    "# NB: this is a weird, necessary, formalisim for allowing multiple processes to share access to arrays\n",
    "distribution_array_RARR = RawArray('d', int(np.prod(distribution_array.shape)))\n",
    "distribution_array_np = np.frombuffer(distribution_array_RARR).reshape(distribution_array.shape)\n",
    "np.copyto(distribution_array_np, distribution_array)\n",
    "\n",
    "\n",
    "# A global dictionary storing the variables passed from the initializer\n",
    "# This dictionary holds variables that each process will share access to, instead of making copies\n",
    "var_dict = {}\n",
    "\n",
    "# This function initializes the shared data in each job process\n",
    "def init_worker(distribution_array, distribution_array_shape):\n",
    "    var_dict['distribution_array'] = distribution_array\n",
    "    var_dict['distribution_array_shape'] = distribution_array_shape\n",
    "    \n",
    "# define the function we will map over dist_idxs\n",
    "def computing_jsd_function(i):\n",
    "    ''' This is a function which is mapped over the individual distributions,\n",
    "        to compute the jsd of each dist to all other dists.\n",
    "    '''\n",
    "    # get the numpy version of the distribution data\n",
    "    distribution_array = np.frombuffer(var_dict['distribution_array']).reshape(var_dict['distribution_array_shape'])\n",
    "    num_dists = distribution_array.shape[0]\n",
    "    # preallocate the output\n",
    "    focal_dist = distribution_array[i]\n",
    "    jsd_array = np.zeros((num_dists,))\n",
    "    for otherDistIdx in range(num_dists):\n",
    "        other_dist = distribution_array[otherDistIdx]\n",
    "        jsd_array[otherDistIdx] = distance.jensenshannon(focal_dist, other_dist, base=2)\n",
    "    return jsd_array\n",
    "\n",
    "\n",
    "# map the function\n",
    "with Pool(processes=numProcessors, initializer=init_worker,\n",
    "          initargs=(distribution_array_RARR, distribution_array.shape)) as pool:\n",
    "    outputs = pool.map(computing_jsd_function, dist_idxs )\n",
    "    \n",
    "distance_matrix = np.array(outputs)\n",
    "\n",
    "\n",
    "tE = time.time()\n",
    "print(distance_matrix.shape)\n",
    "print(tE-t0)"
   ]
  },
  {
   "cell_type": "code",
   "execution_count": null,
   "id": "5eefc577-3bd0-4b6b-b9ad-0a1d76fca486",
   "metadata": {},
   "outputs": [],
   "source": []
  },
  {
   "cell_type": "code",
   "execution_count": null,
   "id": "27fa5f96-1415-4000-9f02-b375625c43f2",
   "metadata": {},
   "outputs": [],
   "source": []
  },
  {
   "cell_type": "code",
   "execution_count": 17,
   "id": "c0e70e15-2381-49a6-8faa-3e21d3b8e2c3",
   "metadata": {},
   "outputs": [
    {
     "name": "stdout",
     "output_type": "stream",
     "text": [
      "saved\n"
     ]
    }
   ],
   "source": [
    "# --- save --- #\n",
    "with h5py.File(clusterable_data_dmat_path, 'w') as hf:\n",
    "    hf.create_dataset(\"dmat\", data=distance_matrix)\n",
    "    \n",
    "print('saved')"
   ]
  },
  {
   "cell_type": "code",
   "execution_count": null,
   "id": "36c4cf4b-83de-45ba-9b28-7d555e91f71c",
   "metadata": {},
   "outputs": [],
   "source": []
  },
  {
   "cell_type": "code",
   "execution_count": null,
   "id": "143c0b1e-acb0-4663-9f7a-503903d29333",
   "metadata": {},
   "outputs": [],
   "source": []
  },
  {
   "cell_type": "markdown",
   "id": "a085364f-1925-4451-a097-3a57cc281cd6",
   "metadata": {},
   "source": [
    "# load clusterable data and distance matrix"
   ]
  },
  {
   "cell_type": "code",
   "execution_count": 66,
   "id": "fffa5c10-cb8b-4051-92a6-e755d63fe265",
   "metadata": {},
   "outputs": [],
   "source": [
    "\n",
    "with h5py.File(clusterable_data_path, 'r') as hf:\n",
    "    prob_vectors_clusterable_data = hf[\"prob_vectors_clusterable_data\"][:]\n",
    "    expidx_and_decimated_wins_clusterable_data = hf[\"expidx_and_decimated_wins_clusterable_data\"][:]"
   ]
  },
  {
   "cell_type": "code",
   "execution_count": 67,
   "id": "821bc5b6-0f6e-4c14-9cb2-f10dba1385fb",
   "metadata": {},
   "outputs": [
    {
     "data": {
      "text/plain": [
       "(5308, 8000)"
      ]
     },
     "execution_count": 67,
     "metadata": {},
     "output_type": "execute_result"
    }
   ],
   "source": [
    "prob_vectors_clusterable_data.shape"
   ]
  },
  {
   "cell_type": "code",
   "execution_count": 68,
   "id": "af8b1a2d-9762-46f2-b8cb-2caacde7bee0",
   "metadata": {},
   "outputs": [
    {
     "data": {
      "text/plain": [
       "(5308, 3)"
      ]
     },
     "execution_count": 68,
     "metadata": {},
     "output_type": "execute_result"
    }
   ],
   "source": [
    "expidx_and_decimated_wins_clusterable_data.shape"
   ]
  },
  {
   "cell_type": "code",
   "execution_count": null,
   "id": "f1cf86d9-cb6f-493d-be15-3de9430b7332",
   "metadata": {},
   "outputs": [],
   "source": []
  },
  {
   "cell_type": "code",
   "execution_count": 69,
   "id": "ccc0a924-3d01-4697-a733-1ec95f0b170f",
   "metadata": {},
   "outputs": [],
   "source": [
    "\n",
    "with h5py.File(clusterable_data_dmat_path, 'r') as hf:\n",
    "    distance_matrix = hf[\"dmat\"][:]"
   ]
  },
  {
   "cell_type": "code",
   "execution_count": 70,
   "id": "fe3316a3-55ea-4578-9049-d8731cb4c1cb",
   "metadata": {},
   "outputs": [
    {
     "data": {
      "text/plain": [
       "(5308, 5308)"
      ]
     },
     "execution_count": 70,
     "metadata": {},
     "output_type": "execute_result"
    }
   ],
   "source": [
    "distance_matrix.shape"
   ]
  },
  {
   "cell_type": "code",
   "execution_count": null,
   "id": "31cc9a38-dc30-470e-8ae7-352fd9202f38",
   "metadata": {},
   "outputs": [],
   "source": []
  },
  {
   "cell_type": "code",
   "execution_count": null,
   "id": "546f215f-7ca6-4bb5-9313-266a000cba5a",
   "metadata": {},
   "outputs": [],
   "source": []
  },
  {
   "cell_type": "code",
   "execution_count": null,
   "id": "0bfbf952-5a6d-419f-b514-1aa9e281b677",
   "metadata": {},
   "outputs": [],
   "source": []
  },
  {
   "cell_type": "markdown",
   "id": "87c989c7-0b16-49be-adf5-7e397a2a9acc",
   "metadata": {},
   "source": [
    "# interpreting the clusters"
   ]
  },
  {
   "cell_type": "code",
   "execution_count": null,
   "id": "23b023c3-3c79-4276-bbba-38798c626840",
   "metadata": {},
   "outputs": [],
   "source": []
  },
  {
   "cell_type": "code",
   "execution_count": 51,
   "id": "1fc6505e-495e-4299-812c-47347589a364",
   "metadata": {},
   "outputs": [],
   "source": [
    "\n",
    "\n",
    "dpp_bins = np.linspace(0, 20, 100)              # the bin-edges array for the binning of Dpp\n",
    "theta_bins = np.linspace(-np.pi, np.pi, 100)    # the bin-edges array for the binning of Tet1 and Tet2\n",
    " \n",
    "hist_bins = [dpp_bins, theta_bins, theta_bins]"
   ]
  },
  {
   "cell_type": "code",
   "execution_count": null,
   "id": "273c638d-6d2e-4ad9-9996-0eea05ad828d",
   "metadata": {},
   "outputs": [],
   "source": []
  },
  {
   "cell_type": "code",
   "execution_count": 52,
   "id": "437d47d3-b136-4f40-aa8b-aebec05855f4",
   "metadata": {},
   "outputs": [],
   "source": [
    "#load clustering packages\n",
    "import scipy.cluster as cl\n",
    "import scipy.spatial.distance as ssd\n",
    "import scipy.cluster.hierarchy as sch\n",
    "from scipy.cluster.hierarchy import dendrogram\n",
    "from scipy.cluster.hierarchy import fcluster\n",
    "from scipy.cluster import hierarchy\n",
    "\n"
   ]
  },
  {
   "cell_type": "code",
   "execution_count": 53,
   "id": "0da9de26-c5bf-4d8a-9852-de5259006375",
   "metadata": {},
   "outputs": [],
   "source": [
    "import scipy.cluster.hierarchy as sch\n",
    "def seriation(Z,N,cur_index):\n",
    "    if cur_index < N:\n",
    "        return [cur_index]\n",
    "    else:\n",
    "        left = int(Z[cur_index-N,0])\n",
    "        right = int(Z[cur_index-N,1])\n",
    "        return (seriation(Z,N,left) + seriation(Z,N,right))\n",
    "    \n",
    "def compute_serial_matrix(dist_mat,Z=0,method=\"ward\",precomputed=False):\n",
    "    N = len(dist_mat)\n",
    "    if precomputed:\n",
    "        res_linkage = Z\n",
    "    else:\n",
    "        flat_dist_mat = ssd.squareform(dist_mat)\n",
    "        res_linkage=sch.linkage(flat_dist_mat, method=method)\n",
    "    res_order = seriation(res_linkage, N, N + N-2)\n",
    "    seriated_dist = np.zeros((N,N))\n",
    "    a,b = np.triu_indices(N,k=1)\n",
    "    seriated_dist[a,b] = dist_mat[ [res_order[i] for i in a], [res_order[j] for j in b]]\n",
    "    seriated_dist[b,a] = seriated_dist[a,b]\n",
    "    \n",
    "    return seriated_dist, res_order, res_linkage\n",
    "\n",
    "def symmetrize(a):\n",
    "    return (a + a.T)/2 - np.diag(a.diagonal())"
   ]
  },
  {
   "cell_type": "code",
   "execution_count": null,
   "id": "f23308f2-15bd-430d-9b04-241cb8eb1e65",
   "metadata": {},
   "outputs": [],
   "source": []
  },
  {
   "cell_type": "code",
   "execution_count": null,
   "id": "90b7c169-63e7-4d20-ba9e-b346fc7bdf2a",
   "metadata": {},
   "outputs": [],
   "source": []
  },
  {
   "cell_type": "code",
   "execution_count": null,
   "id": "671327f5-c668-42b5-bc99-140fe3f1f8e0",
   "metadata": {},
   "outputs": [],
   "source": []
  },
  {
   "cell_type": "markdown",
   "id": "01126fe0-7006-4461-9bdf-f2042d1ac1a5",
   "metadata": {},
   "source": [
    "## ensure diagonality before ward's method"
   ]
  },
  {
   "cell_type": "code",
   "execution_count": null,
   "id": "74f197c6-1e16-40ad-9ea6-b2cccc677b13",
   "metadata": {},
   "outputs": [],
   "source": []
  },
  {
   "cell_type": "code",
   "execution_count": 22,
   "id": "f496cb80-9407-44cd-a4aa-05f5b34dceee",
   "metadata": {},
   "outputs": [],
   "source": [
    "\n",
    "\n",
    "#this fixes possible numerical precision errors\n",
    "sym_dissimilarity_matrix=symmetrize(distance_matrix)\n",
    "sym_dissimilarity_matrix[sym_dissimilarity_matrix<0]=0\n",
    "\n",
    "#turn distance matrix into a vector\n",
    "pdist=ssd.squareform(sym_dissimilarity_matrix,force='tovector')\n",
    "\n",
    "#perform hierarchical clustering using Ward's method\n",
    "Z=cl.hierarchy.ward(pdist)\n",
    "\n"
   ]
  },
  {
   "cell_type": "code",
   "execution_count": 23,
   "id": "53bc911c-15cb-4b6a-9a97-e235646a3e03",
   "metadata": {},
   "outputs": [
    {
     "data": {
      "text/plain": [
       "True"
      ]
     },
     "execution_count": 23,
     "metadata": {},
     "output_type": "execute_result"
    }
   ],
   "source": [
    "np.all(sym_dissimilarity_matrix == distance_matrix)"
   ]
  },
  {
   "cell_type": "code",
   "execution_count": 29,
   "id": "df281185-1444-4ece-9f7b-78162a04910e",
   "metadata": {},
   "outputs": [],
   "source": [
    "# if true, we don't need to do this"
   ]
  },
  {
   "cell_type": "code",
   "execution_count": null,
   "id": "fcb11d34-c608-4d52-a02d-f02ea02f162d",
   "metadata": {},
   "outputs": [],
   "source": []
  },
  {
   "cell_type": "markdown",
   "id": "8d557332-3651-4eeb-863b-3941ed705d4c",
   "metadata": {},
   "source": [
    "## Organize distance matrix according to the clustering"
   ]
  },
  {
   "cell_type": "code",
   "execution_count": 24,
   "id": "76824097-4de8-46f1-b25d-73a30a4ccfd4",
   "metadata": {},
   "outputs": [
    {
     "name": "stdout",
     "output_type": "stream",
     "text": [
      "0.8639683723449707\n"
     ]
    }
   ],
   "source": [
    "t0 = time.time()\n",
    "\n",
    "\n",
    "#turn distance matrix into a vector\n",
    "pdist=ssd.squareform(distance_matrix,force='tovector')\n",
    "#perform hierarchical clustering using Ward's method\n",
    "Z=cl.hierarchy.ward(pdist)\n",
    "\n",
    "    \n",
    "print(time.time()-t0)\n"
   ]
  },
  {
   "cell_type": "code",
   "execution_count": null,
   "id": "e64d306c-0976-437f-8a53-a46f3af67eef",
   "metadata": {},
   "outputs": [],
   "source": []
  },
  {
   "cell_type": "code",
   "execution_count": 25,
   "id": "3f4ac88f-58d4-4f5d-ac7e-ce49eeabdcd3",
   "metadata": {},
   "outputs": [
    {
     "data": {
      "application/vnd.jupyter.widget-view+json": {
       "model_id": "7657f5608ce74107b40013c3adcdfa6c",
       "version_major": 2,
       "version_minor": 0
      },
      "text/html": [
       "\n",
       "            <div style=\"display: inline-block;\">\n",
       "                <div class=\"jupyter-widgets widget-label\" style=\"text-align: center;\">\n",
       "                    Figure\n",
       "                </div>\n",
       "                <img src='data:image/png;base64,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' width=500.0/>\n",
       "            </div>\n",
       "        "
      ],
      "text/plain": [
       "Canvas(toolbar=Toolbar(toolitems=[('Home', 'Reset original view', 'home', 'home'), ('Back', 'Back to previous …"
      ]
     },
     "metadata": {},
     "output_type": "display_data"
    }
   ],
   "source": [
    "seriated_dist,res_order,res_linkage=compute_serial_matrix(distance_matrix,Z=Z,precomputed=True)\n",
    "plt.figure(figsize=(5,5))\n",
    "plt.title('')\n",
    "plt.imshow(seriated_dist,cmap='jet',vmin=0.1)#,vmax=300)\n",
    "plt.grid(False)\n",
    "plt.colorbar()\n",
    "plt.show()"
   ]
  },
  {
   "cell_type": "code",
   "execution_count": null,
   "id": "2a0050fd-fdb7-465f-8194-7f8dfa9cf6c0",
   "metadata": {},
   "outputs": [],
   "source": []
  },
  {
   "cell_type": "code",
   "execution_count": null,
   "id": "219d34f8-6700-41f6-a43f-c95a18e3a947",
   "metadata": {},
   "outputs": [],
   "source": []
  },
  {
   "cell_type": "markdown",
   "id": "3af9530a-f7f1-4bc0-9640-4cd0bc8dde67",
   "metadata": {},
   "source": [
    "## plot dendrogram and clusters, K=2"
   ]
  },
  {
   "cell_type": "code",
   "execution_count": null,
   "id": "a3c39a64-bf3a-45a7-bc8e-78f70fd9c2fe",
   "metadata": {},
   "outputs": [],
   "source": []
  },
  {
   "cell_type": "code",
   "execution_count": 33,
   "id": "b20f5a7c-4c70-4165-a498-dbecf67c244b",
   "metadata": {},
   "outputs": [
    {
     "data": {
      "application/vnd.jupyter.widget-view+json": {
       "model_id": "15c3001610fa440ab48f6e045e6e1045",
       "version_major": 2,
       "version_minor": 0
      },
      "text/html": [
       "\n",
       "            <div style=\"display: inline-block;\">\n",
       "                <div class=\"jupyter-widgets widget-label\" style=\"text-align: center;\">\n",
       "                    Figure\n",
       "                </div>\n",
       "                <img src='data:image/png;base64,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' width=640.0/>\n",
       "            </div>\n",
       "        "
      ],
      "text/plain": [
       "Canvas(toolbar=Toolbar(toolitems=[('Home', 'Reset original view', 'home', 'home'), ('Back', 'Back to previous …"
      ]
     },
     "metadata": {},
     "output_type": "display_data"
    }
   ],
   "source": [
    "\n",
    "\n",
    "plt.figure()\n",
    "\n",
    "plt.title('Hierarchical Clustering Dendrogram (truncated)')\n",
    "plt.xlabel('sample index')\n",
    "plt.ylabel('dissimilarity')\n",
    "ddgram=dendrogram(\n",
    "    Z,\n",
    "    show_leaf_counts=False,  # otherwise numbers in brackets are counts\n",
    "    leaf_rotation=90.,\n",
    "    leaf_font_size=12.,\n",
    "    no_labels=True,\n",
    ")\n",
    "plt.grid(False)\n",
    "plt.show()"
   ]
  },
  {
   "cell_type": "code",
   "execution_count": null,
   "id": "d123bd49-3f9d-4c5a-9c08-714ff0d37337",
   "metadata": {},
   "outputs": [],
   "source": []
  },
  {
   "cell_type": "code",
   "execution_count": null,
   "id": "0b9d0bee-d190-497e-a6e7-c703fc8c6a71",
   "metadata": {},
   "outputs": [],
   "source": [
    "\n"
   ]
  },
  {
   "cell_type": "code",
   "execution_count": null,
   "id": "5a460d58-6e00-477a-a85c-52daea2a399b",
   "metadata": {},
   "outputs": [],
   "source": []
  },
  {
   "cell_type": "code",
   "execution_count": 34,
   "id": "5e8c248b-c3df-4113-a5b7-4834a105665b",
   "metadata": {},
   "outputs": [
    {
     "data": {
      "application/vnd.jupyter.widget-view+json": {
       "model_id": "6becec7ac73244b7a59e89dd0cde16e9",
       "version_major": 2,
       "version_minor": 0
      },
      "text/html": [
       "\n",
       "            <div style=\"display: inline-block;\">\n",
       "                <div class=\"jupyter-widgets widget-label\" style=\"text-align: center;\">\n",
       "                    Figure\n",
       "                </div>\n",
       "                <img src='data:image/png;base64,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' width=400.0/>\n",
       "            </div>\n",
       "        "
      ],
      "text/plain": [
       "Canvas(toolbar=Toolbar(toolitems=[('Home', 'Reset original view', 'home', 'home'), ('Back', 'Back to previous …"
      ]
     },
     "metadata": {},
     "output_type": "display_data"
    }
   ],
   "source": [
    "\n",
    "\n",
    "fig, ax = plt.subplots(figsize=(4,1.6))\n",
    "\n",
    "ax.set_title('')\n",
    "ax.set_xlabel('')\n",
    "ax.set_ylabel('')\n",
    "ddgram=dendrogram(\n",
    "    Z,\n",
    "    show_leaf_counts=False,  # otherwise numbers in brackets are counts\n",
    "    leaf_rotation=90.,\n",
    "    leaf_font_size=12.,\n",
    "    no_labels=True,\n",
    "    ax=ax,\n",
    ")\n",
    "ax.grid(False)\n",
    "\n",
    "hierarchy.set_link_color_palette(['c', 'm', 'y', 'k'])\n",
    "\n",
    "\n",
    "ax.set_yticks([]);\n",
    "\n",
    "ax.xaxis.set_tick_params(width=1.5, length=4)\n",
    "ax.yaxis.set_tick_params(width=1.5, length=4)\n",
    "for axis in ['top','bottom','left','right']:\n",
    "    ax.spines[axis].set_linewidth(1.5)\n",
    "\n",
    "fig.tight_layout()\n",
    "\n",
    "#imsavepath = '/home/liam/temp/image_transfer/SI_fig_dend_k2_panelA.png'\n",
    "#fig.savefig(imsavepath, transparent=True, dpi=300)\n"
   ]
  },
  {
   "cell_type": "code",
   "execution_count": null,
   "id": "9b95584e-2675-4b02-8522-0a21ed93d5f3",
   "metadata": {},
   "outputs": [],
   "source": []
  },
  {
   "cell_type": "code",
   "execution_count": null,
   "id": "3b8b8def-f3bf-45f1-9183-591f03eed94b",
   "metadata": {},
   "outputs": [],
   "source": []
  },
  {
   "cell_type": "markdown",
   "id": "55ca2fba-e7e9-4568-94ea-61a0ed17c35f",
   "metadata": {},
   "source": [
    "## paper figure - dendrogram (SI fig 6)"
   ]
  },
  {
   "cell_type": "code",
   "execution_count": 160,
   "id": "51a89fda-f978-4348-befa-478c972466bb",
   "metadata": {},
   "outputs": [
    {
     "data": {
      "application/vnd.jupyter.widget-view+json": {
       "model_id": "7486c55ff8e04873874cb64dcf8ef5a1",
       "version_major": 2,
       "version_minor": 0
      },
      "text/html": [
       "\n",
       "            <div style=\"display: inline-block;\">\n",
       "                <div class=\"jupyter-widgets widget-label\" style=\"text-align: center;\">\n",
       "                    Figure\n",
       "                </div>\n",
       "                <img src='data:image/png;base64,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' width=400.0/>\n",
       "            </div>\n",
       "        "
      ],
      "text/plain": [
       "Canvas(toolbar=Toolbar(toolitems=[('Home', 'Reset original view', 'home', 'home'), ('Back', 'Back to previous …"
      ]
     },
     "metadata": {},
     "output_type": "display_data"
    }
   ],
   "source": [
    "\n",
    "\n",
    "fig, ax = plt.subplots(figsize=(4,1.6))\n",
    "\n",
    "hierarchy.set_link_color_palette(['purple', 'green'])\n",
    "\n",
    "ax.set_title('')\n",
    "ax.set_xlabel('')\n",
    "ax.set_ylabel('')\n",
    "ddgram=dendrogram(\n",
    "    Z,\n",
    "    show_leaf_counts=False,  # otherwise numbers in brackets are counts\n",
    "    leaf_rotation=90.,\n",
    "    leaf_font_size=12.,\n",
    "    no_labels=True,\n",
    "    ax=ax,\n",
    ")\n",
    "ax.grid(False)\n",
    "\n",
    "\n",
    "\n",
    "ax.set_yticks([]);\n",
    "\n",
    "ax.xaxis.set_tick_params(width=1.5, length=4)\n",
    "ax.yaxis.set_tick_params(width=1.5, length=4)\n",
    "for axis in ['top','bottom','left','right']:\n",
    "    ax.spines[axis].set_linewidth(1.5)\n",
    "    \n",
    "    \n",
    "hierarchy.set_link_color_palette(None)  # reset to default after use\n",
    "\n",
    "fig.tight_layout()\n",
    "\n",
    "imsavepath = '/home/liam/temp/image_transfer/SI_fig_dend_k2_panelA.png'\n",
    "fig.savefig(imsavepath, transparent=True, dpi=300)"
   ]
  },
  {
   "cell_type": "code",
   "execution_count": null,
   "id": "3905d2ca-1e5e-4267-a4b5-b7d0553f219b",
   "metadata": {},
   "outputs": [],
   "source": []
  },
  {
   "cell_type": "code",
   "execution_count": null,
   "id": "3f85c3e2-170d-438e-b144-235880c4ee63",
   "metadata": {},
   "outputs": [],
   "source": []
  },
  {
   "cell_type": "markdown",
   "id": "d9f23558-deb0-4dbf-9884-e764947d0375",
   "metadata": {},
   "source": [
    "## interpreting the k=2 clusters"
   ]
  },
  {
   "cell_type": "code",
   "execution_count": null,
   "id": "6900ca9c-10de-4b61-ada3-e9745d7fbaef",
   "metadata": {},
   "outputs": [],
   "source": []
  },
  {
   "cell_type": "code",
   "execution_count": null,
   "id": "8344efd2-910f-4edd-b29d-976db178d858",
   "metadata": {},
   "outputs": [],
   "source": []
  },
  {
   "cell_type": "code",
   "execution_count": 36,
   "id": "c9c5669e-e159-4198-a7d7-dc448efc1128",
   "metadata": {},
   "outputs": [],
   "source": [
    "k=2 #fight/nonfight\n",
    "cluster_labels = fcluster(Z, k, criterion='maxclust')\n",
    "\n",
    "\n",
    "## ---- gather the data ---- ##\n",
    "\n",
    "\n",
    "# list over cluster labels, where the empty list\n",
    "cluster_data = [ [[],[],[]] for _ in range(k)]\n",
    "\n",
    "# for each window, get the data\n",
    "numWins = expidx_and_decimated_wins_clusterable_data.shape[0]\n",
    "for winIdx in range(numWins):\n",
    "    \n",
    "    # parse info for this window\n",
    "    win_expIdx,win_f0,win_fE = expidx_and_decimated_wins_clusterable_data[winIdx, :].astype(int)\n",
    "    win_cls_idx = cluster_labels[winIdx] - 1  # to move from 1-indexing of cluster_labels to zero indexing\n",
    "    \n",
    "    # get the interpretation data for this windows\n",
    "    win_dpp = exp_dpps[win_expIdx][win_f0:win_fE]\n",
    "    win_theta_1 = exp_tetWs[win_expIdx][win_f0:win_fE]\n",
    "    win_theta_2 = exp_tetLs[win_expIdx][win_f0:win_fE]\n",
    "            \n",
    "    # record under results for correct cluster label\n",
    "    cluster_data[win_cls_idx][0].append(win_dpp)\n",
    "    cluster_data[win_cls_idx][1].append(win_theta_1)\n",
    "    cluster_data[win_cls_idx][2].append(win_theta_2)\n",
    "\n",
    "# covert to master_arrays\n",
    "cluster_master_data_list = []\n",
    "for clsIdx in range(k):\n",
    "    cls_master_dpp = np.concatenate(cluster_data[clsIdx][0])\n",
    "    cls_master_tet1 = np.concatenate(cluster_data[clsIdx][1])\n",
    "    cls_master_tet2 = np.concatenate(cluster_data[clsIdx][2])\n",
    "    cluster_master_data_list.append([cls_master_dpp, cls_master_tet1, cls_master_tet2])\n",
    "    \n",
    "    \n",
    "    "
   ]
  },
  {
   "cell_type": "code",
   "execution_count": null,
   "id": "65403edf-eda8-4d33-aa02-5711aeb82e30",
   "metadata": {},
   "outputs": [],
   "source": []
  },
  {
   "cell_type": "code",
   "execution_count": 37,
   "id": "f57fdf89-7b9b-4313-81b5-5a4055d73924",
   "metadata": {},
   "outputs": [
    {
     "data": {
      "application/vnd.jupyter.widget-view+json": {
       "model_id": "ba00ef89af804d8ea128762a4cb8affa",
       "version_major": 2,
       "version_minor": 0
      },
      "text/html": [
       "\n",
       "            <div style=\"display: inline-block;\">\n",
       "                <div class=\"jupyter-widgets widget-label\" style=\"text-align: center;\">\n",
       "                    Figure\n",
       "                </div>\n",
       "                <img src='data:image/png;base64,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' width=1000.0/>\n",
       "            </div>\n",
       "        "
      ],
      "text/plain": [
       "Canvas(toolbar=Toolbar(toolitems=[('Home', 'Reset original view', 'home', 'home'), ('Back', 'Back to previous …"
      ]
     },
     "metadata": {},
     "output_type": "display_data"
    }
   ],
   "source": [
    "    \n",
    "    \n",
    "# ---- plot the histograms for each cluster_label ---- #\n",
    "\n",
    "fig, axs = plt.subplots(nrows=k, ncols=3, figsize=(10,int(k*2)), sharey=True)\n",
    "\n",
    "for clIdx in range(k):\n",
    "    \n",
    "    # parse info for this cluster\n",
    "    cls_label = clIdx + 1\n",
    "    cls_dpp_data, cls_tet1_data, cls_tet2_data = cluster_master_data_list[clIdx]\n",
    "    \n",
    "    # draw the histograms\n",
    "    axs[clIdx,0].hist(cls_dpp_data, bins=hist_bins[0], density=True, label='dpp',\n",
    "                      color='C{0}'.format(cls_label))\n",
    "    axs[clIdx,1].hist(cls_tet1_data, bins=hist_bins[1], density=True, label='tet1',\n",
    "                      color='C{0}'.format(cls_label))\n",
    "    axs[clIdx,2].hist(cls_tet2_data, bins=hist_bins[2], density=True, label='tet2',\n",
    "                      color='C{0}'.format(cls_label))\n",
    "    \n",
    "    # xticks \n",
    "    axs[clIdx,0].set_xticks([0, 5, 10, 15, 20, 25, 30])\n",
    "    axs[clIdx,1].set_xticks([-np.pi, -np.pi/2, -np.pi/4, 0, np.pi/4, np.pi/2, np.pi])\n",
    "    axs[clIdx,2].set_xticks([-np.pi, -np.pi/2, -np.pi/4, 0, np.pi/4, np.pi/2, np.pi])\n",
    "    \n",
    "    # xtick labels\n",
    "    axs[clIdx,0].set_xticklabels([0, 5, 10, 15, 20, 25, 30])\n",
    "    axs[clIdx,1].set_xticklabels([r'-$\\pi$', r'-$\\pi$/2', r'-$\\pi$/4', '0',  r'$\\pi$/4', r'$\\pi$/2', r'$\\pi$'])\n",
    "    axs[clIdx,2].set_xticklabels([r'-$\\pi$', r'-$\\pi$/2', r'-$\\pi$/4', '0',  r'$\\pi$/4', r'$\\pi$/2', r'$\\pi$'])\n",
    "    \n",
    "    # xlims\n",
    "    axs[clIdx,0].set_xlim(np.min(hist_bins[0]), np.max(hist_bins[0]))\n",
    "    axs[clIdx,1].set_xlim(np.min(hist_bins[1]), np.max(hist_bins[1]))\n",
    "    axs[clIdx,2].set_xlim(np.min(hist_bins[2]), np.max(hist_bins[2]))\n",
    "    \n",
    "    # xlabels\n",
    "    axs[clIdx,0].set_xlabel('dpp [cm]')\n",
    "    axs[clIdx,1].set_xlabel('tet1 [rad]')\n",
    "    axs[clIdx,2].set_xlabel('tet2 [rad]')\n",
    "    \n",
    "    \n",
    "fig.tight_layout()"
   ]
  },
  {
   "cell_type": "code",
   "execution_count": null,
   "id": "5e21154d-d3ae-4b90-8688-739f2f66e4a1",
   "metadata": {},
   "outputs": [],
   "source": []
  },
  {
   "cell_type": "code",
   "execution_count": 176,
   "id": "f2ed1785-abcf-4899-bbe9-cec89b645ca9",
   "metadata": {},
   "outputs": [],
   "source": [
    "# cluster label which denotes 'fight'\n",
    "fight_cluster_label = 1"
   ]
  },
  {
   "cell_type": "code",
   "execution_count": null,
   "id": "fda4f19d-da9c-47a2-8a17-434e650a92ba",
   "metadata": {},
   "outputs": [],
   "source": []
  },
  {
   "cell_type": "code",
   "execution_count": null,
   "id": "8ff4d8cb-9f3b-4416-97e0-6bd6836f5992",
   "metadata": {},
   "outputs": [],
   "source": []
  },
  {
   "cell_type": "code",
   "execution_count": null,
   "id": "410f5f4e-c59e-4d50-834d-624a5efd8c10",
   "metadata": {},
   "outputs": [],
   "source": []
  },
  {
   "cell_type": "markdown",
   "id": "0f5cd75f-7469-4f60-a9cd-4dbe70b59123",
   "metadata": {},
   "source": [
    "## save the cluster labels"
   ]
  },
  {
   "cell_type": "code",
   "execution_count": 179,
   "id": "2b9c2dd5-4b05-4e58-990a-7cc7c69a5724",
   "metadata": {},
   "outputs": [
    {
     "data": {
      "text/plain": [
       "'/media/liam/hd1/fighting_data/fight_detection_data/clusterable_data_labels.h5'"
      ]
     },
     "execution_count": 179,
     "metadata": {},
     "output_type": "execute_result"
    }
   ],
   "source": [
    "clusterable_data_labels_path"
   ]
  },
  {
   "cell_type": "code",
   "execution_count": 177,
   "id": "5c4e44fd-084d-4fb6-8a12-9f2ee80a423d",
   "metadata": {},
   "outputs": [],
   "source": [
    "with h5py.File(clusterable_data_labels_path, 'w') as hf:\n",
    "    hf.create_dataset('cluster_labels', data=cluster_labels)\n",
    "    hf.create_dataset('fight_label_number', data=fight_cluster_label)"
   ]
  },
  {
   "cell_type": "code",
   "execution_count": null,
   "id": "37a8cea8-71c9-47c0-b8d2-25aa13633e29",
   "metadata": {},
   "outputs": [],
   "source": []
  },
  {
   "cell_type": "code",
   "execution_count": null,
   "id": "926eeb60-6e27-4446-a747-9be539b2c79a",
   "metadata": {},
   "outputs": [],
   "source": []
  },
  {
   "cell_type": "code",
   "execution_count": null,
   "id": "66642dae-d3af-4813-91d7-c65d10bf1ba3",
   "metadata": {},
   "outputs": [],
   "source": []
  },
  {
   "cell_type": "markdown",
   "id": "bd6c7937-cc6c-4bd9-a4db-7061fe0f01ef",
   "metadata": {},
   "source": [
    "## save the other clustering params"
   ]
  },
  {
   "cell_type": "code",
   "execution_count": null,
   "id": "95acd25c-343d-48f4-9e99-4eb0e89788c3",
   "metadata": {},
   "outputs": [],
   "source": []
  },
  {
   "cell_type": "code",
   "execution_count": 183,
   "id": "f2523f56-a84e-4315-ae80-122903795ffb",
   "metadata": {},
   "outputs": [
    {
     "data": {
      "text/plain": [
       "{'dpp_bins': array([ 0,  1,  2,  3,  4,  5,  6,  7,  8,  9, 10, 11, 12, 13, 14, 15, 16,\n",
       "        17, 18, 19, 20]),\n",
       " 'theta_bins': array([-3.14159265, -2.82743339, -2.51327412, -2.19911486, -1.88495559,\n",
       "        -1.57079633, -1.25663706, -0.9424778 , -0.62831853, -0.31415927,\n",
       "         0.        ,  0.31415927,  0.62831853,  0.9424778 ,  1.25663706,\n",
       "         1.57079633,  1.88495559,  2.19911486,  2.51327412,  2.82743339,\n",
       "         3.14159265]),\n",
       " 'numStates': 8000,\n",
       " 'window_size': 6000,\n",
       " 'window_step': 100,\n",
       " 'skip_size': 30,\n",
       " 'g1_bins': array([-3.14159265, -2.82743339, -2.51327412, -2.19911486, -1.88495559,\n",
       "        -1.57079633, -1.25663706, -0.9424778 , -0.62831853, -0.31415927,\n",
       "         0.        ,  0.31415927,  0.62831853,  0.9424778 ,  1.25663706,\n",
       "         1.57079633,  1.88495559,  2.19911486,  2.51327412,  2.82743339,\n",
       "         3.14159265]),\n",
       " 'g2_bins': array([0.        , 0.15707963, 0.31415927, 0.4712389 , 0.62831853,\n",
       "        0.78539816, 0.9424778 , 1.09955743, 1.25663706, 1.41371669,\n",
       "        1.57079633, 1.72787596, 1.88495559, 2.04203522, 2.19911486,\n",
       "        2.35619449, 2.51327412, 2.67035376, 2.82743339, 2.98451302,\n",
       "        3.14159265])}"
      ]
     },
     "execution_count": 183,
     "metadata": {},
     "output_type": "execute_result"
    }
   ],
   "source": [
    "cluster_params"
   ]
  },
  {
   "cell_type": "code",
   "execution_count": null,
   "id": "9e1cfb5f-7f0e-43f0-8f98-b34cfcc6fb02",
   "metadata": {},
   "outputs": [],
   "source": []
  },
  {
   "cell_type": "code",
   "execution_count": 187,
   "id": "61fed58e-1705-490b-b1a8-f9c5f204e8e5",
   "metadata": {},
   "outputs": [],
   "source": [
    "\n",
    "#-----------  save all entries of cluster_parms to a h5 file. -----------#\n",
    "with h5py.File(cluster_params_path, 'w') as hf:\n",
    "    for key,val in cluster_params.items():\n",
    "        hf.create_dataset(key, data=val)"
   ]
  },
  {
   "cell_type": "code",
   "execution_count": null,
   "id": "52242baf-d44e-4e71-83a9-aeb3eafc7378",
   "metadata": {},
   "outputs": [],
   "source": []
  },
  {
   "cell_type": "code",
   "execution_count": null,
   "id": "03c7b6aa-685c-4014-a13e-5f4f35e30ce5",
   "metadata": {},
   "outputs": [],
   "source": []
  },
  {
   "cell_type": "code",
   "execution_count": null,
   "id": "8710f2aa-27a4-451c-8ee5-27f817902365",
   "metadata": {},
   "outputs": [],
   "source": [
    "#-----------  load the cluster params dictionary -----------#\n",
    "\n",
    "cluster_params_loaded = {}\n",
    "with h5py.File(cluster_params_path, 'r') as hf:\n",
    "    for param_key in hf.keys():\n",
    "        \n",
    "        try:\n",
    "            param_value = hf[param_key][:]\n",
    "        except:\n",
    "            param_value = hf[param_key][()]\n",
    "\n",
    "        cluster_params_loaded.update({param_key:param_value})\n",
    "cluster_params_loaded"
   ]
  },
  {
   "cell_type": "code",
   "execution_count": null,
   "id": "f8c00aae-3742-48b5-ac65-1eec01d0d645",
   "metadata": {},
   "outputs": [],
   "source": []
  },
  {
   "cell_type": "code",
   "execution_count": null,
   "id": "524951ec-9ed3-418b-af4d-5bee87ed7a16",
   "metadata": {},
   "outputs": [],
   "source": []
  },
  {
   "cell_type": "code",
   "execution_count": null,
   "id": "7981488a-a0aa-4dda-a305-2fff008cf40e",
   "metadata": {},
   "outputs": [],
   "source": []
  },
  {
   "cell_type": "code",
   "execution_count": null,
   "id": "5b10df04-8b3a-4223-b718-23a77b84a0a4",
   "metadata": {},
   "outputs": [],
   "source": []
  },
  {
   "cell_type": "code",
   "execution_count": null,
   "id": "7c96bbff-1022-46f5-b877-7d7a83ca085d",
   "metadata": {},
   "outputs": [],
   "source": []
  },
  {
   "cell_type": "code",
   "execution_count": null,
   "id": "80a53953-9cab-4ca2-a5ad-6b87b863756e",
   "metadata": {},
   "outputs": [],
   "source": []
  },
  {
   "cell_type": "markdown",
   "id": "2ac63780-9246-4652-8511-a5bea3dea98f",
   "metadata": {},
   "source": [
    "# Finding fight epochs using the clustering results"
   ]
  },
  {
   "cell_type": "code",
   "execution_count": null,
   "id": "2710346f-d876-4d78-9e26-e63425ed9777",
   "metadata": {},
   "outputs": [],
   "source": []
  },
  {
   "cell_type": "code",
   "execution_count": 33,
   "id": "73d4e253-eb91-48f5-acbb-33ae91be6711",
   "metadata": {},
   "outputs": [],
   "source": [
    "# k=2 #fight/nonfight\n",
    "# cluster_labels = fcluster(Z, k, criterion='maxclust')"
   ]
  },
  {
   "cell_type": "code",
   "execution_count": null,
   "id": "c769023a-b79c-45c1-89e8-48c7bb0c6fb8",
   "metadata": {},
   "outputs": [],
   "source": []
  },
  {
   "cell_type": "code",
   "execution_count": null,
   "id": "631043f2-c101-432e-98cc-d01e3c1fc6e7",
   "metadata": {},
   "outputs": [],
   "source": []
  },
  {
   "cell_type": "markdown",
   "id": "7a0ad055-163f-4e0a-8f81-ab904701e518",
   "metadata": {},
   "source": [
    "## find fight-bouts from the clustered data"
   ]
  },
  {
   "cell_type": "code",
   "execution_count": 26,
   "id": "edcd896a-0c4d-4f93-983d-0f07e3563b19",
   "metadata": {},
   "outputs": [
    {
     "data": {
      "text/plain": [
       "(5308, 3)"
      ]
     },
     "execution_count": 26,
     "metadata": {},
     "output_type": "execute_result"
    }
   ],
   "source": [
    "expidx_and_decimated_wins_clusterable_data.shape"
   ]
  },
  {
   "cell_type": "code",
   "execution_count": 27,
   "id": "1be38b58-4e03-4fbf-b15e-3ffb937a0d67",
   "metadata": {},
   "outputs": [
    {
     "data": {
      "text/plain": [
       "(5308, 8000)"
      ]
     },
     "execution_count": 27,
     "metadata": {},
     "output_type": "execute_result"
    }
   ],
   "source": [
    "prob_vectors_clusterable_data.shape"
   ]
  },
  {
   "cell_type": "code",
   "execution_count": 34,
   "id": "c9fd5ac1-0bcb-489d-83b6-b0ad446274f1",
   "metadata": {},
   "outputs": [
    {
     "data": {
      "text/plain": [
       "(5308,)"
      ]
     },
     "execution_count": 34,
     "metadata": {},
     "output_type": "execute_result"
    }
   ],
   "source": [
    "cluster_labels.shape"
   ]
  },
  {
   "cell_type": "code",
   "execution_count": 35,
   "id": "236ec697-8c7a-4d79-8398-32bd899b7bff",
   "metadata": {},
   "outputs": [
    {
     "data": {
      "text/plain": [
       "array([[     0,      0,   6000],\n",
       "       [     0,   3000,   9000],\n",
       "       [     0,   6000,  12000],\n",
       "       ...,\n",
       "       [    21, 711000, 717000],\n",
       "       [    21, 714000, 720000],\n",
       "       [    21, 717000, 723000]])"
      ]
     },
     "execution_count": 35,
     "metadata": {},
     "output_type": "execute_result"
    }
   ],
   "source": [
    "expidx_and_decimated_wins_clusterable_data"
   ]
  },
  {
   "cell_type": "code",
   "execution_count": null,
   "id": "5fab7996-1552-40f6-8323-8220a6aea5d2",
   "metadata": {},
   "outputs": [],
   "source": []
  },
  {
   "cell_type": "code",
   "execution_count": null,
   "id": "4ee02b90-0229-4db0-8ca5-544cc4356519",
   "metadata": {},
   "outputs": [],
   "source": []
  },
  {
   "cell_type": "code",
   "execution_count": null,
   "id": "b5afaa0a-d16b-4924-8feb-aad28198368b",
   "metadata": {},
   "outputs": [],
   "source": []
  },
  {
   "cell_type": "code",
   "execution_count": 37,
   "id": "9261ca46-ce84-4974-ab78-ce7d5cc817b0",
   "metadata": {},
   "outputs": [
    {
     "name": "stdout",
     "output_type": "stream",
     "text": [
      "0.002022319007664919\n"
     ]
    }
   ],
   "source": [
    "## ---- Find the window indices of the fight bouts in each experiment  ---- ##\n",
    "# We will find contiguous regions of windows which were assigned the identity of fight windows\n",
    "\n",
    "exp_fight_regions_indices = []\n",
    "\n",
    "# --------------------------------------------------------#\n",
    "\n",
    "t0 = time.perf_counter()\n",
    "\n",
    "for expIdx,expName in enumerate(expNames):\n",
    "\n",
    "    # get the rows corresponding to this experiment\n",
    "    exp_row_indices = np.where(expidx_and_decimated_wins_clusterable_data[:,0] == expIdx)[0]\n",
    "\n",
    "    # get the cluster labels for these rows  / windows\n",
    "    exp_cluster_labels = cluster_labels[exp_row_indices]\n",
    "\n",
    "    # find a binary timeseries of fight cluster membership\n",
    "    fight_cluster_idx = 1\n",
    "    fight_bin_tseries = np.zeros_like(exp_cluster_labels)\n",
    "    fight_bin_tseries[exp_cluster_labels==fight_cluster_idx] = 1\n",
    "\n",
    "    # get the fight regions - contiguous regions of fight cluster membership\n",
    "    fight_regions_indices = contiguous_regions(fight_bin_tseries)\n",
    "\n",
    "    # record\n",
    "    exp_fight_regions_indices.append(fight_regions_indices)\n",
    "\n",
    "tE = time.perf_counter()\n",
    "print(tE-t0)\n"
   ]
  },
  {
   "cell_type": "code",
   "execution_count": null,
   "id": "3acec518-9193-4d80-be3b-c47ba0f9b749",
   "metadata": {},
   "outputs": [],
   "source": []
  },
  {
   "cell_type": "code",
   "execution_count": null,
   "id": "1f2a4472-780d-4a41-866a-6b1387af8e8b",
   "metadata": {},
   "outputs": [],
   "source": [
    "\n",
    "# if os.path.exists(savePath):\n",
    "#     os.remove(savePath)"
   ]
  },
  {
   "cell_type": "code",
   "execution_count": null,
   "id": "a33fc791-8569-4909-84b2-349fb6ff72d0",
   "metadata": {},
   "outputs": [],
   "source": []
  },
  {
   "cell_type": "markdown",
   "id": "cc25c4ac-88c9-44dd-93b5-f20378275c15",
   "metadata": {},
   "source": [
    "## Post-process the detected fight regions"
   ]
  },
  {
   "cell_type": "code",
   "execution_count": null,
   "id": "6820a515-5323-463a-a815-f0dc78d04f7c",
   "metadata": {},
   "outputs": [],
   "source": []
  },
  {
   "cell_type": "code",
   "execution_count": null,
   "id": "83c801c2-1fe5-43ce-84d6-a8a5e2fe29d9",
   "metadata": {},
   "outputs": [],
   "source": []
  },
  {
   "cell_type": "code",
   "execution_count": 38,
   "id": "ba31640b-8495-4eee-9728-377f96f3629b",
   "metadata": {},
   "outputs": [
    {
     "name": "stdout",
     "output_type": "stream",
     "text": [
      "0.001215789932757616\n"
     ]
    }
   ],
   "source": [
    "# if fight regions are very close together, we should merge them\n",
    "# if fight regions are very small, we should discard them\n",
    "\n",
    "merge_gap_size_in_windows = 5\n",
    "min_region_window_size = 5\n",
    "\n",
    "\n",
    "\n",
    "# --------------------------------------------------------#\n",
    "t0 = time.perf_counter()\n",
    "\n",
    "\n",
    "## --- merge close by regions ---- ##\n",
    "\n",
    "exp_fight_regions_indices_after_merge = []\n",
    "\n",
    "for expIdx in range(len(expNames)):\n",
    "\n",
    "    fight_regions_indices = exp_fight_regions_indices[expIdx]\n",
    "    num_fight_regions = fight_regions_indices.shape[0]\n",
    "\n",
    "    # prepare the list to hold the results\n",
    "    fight_regions_indices_after_merge = []\n",
    "\n",
    "    # start the variable which will update as we step through the list\n",
    "    # this contains the start and stop window idxs for each region\n",
    "    current_region_info = fight_regions_indices[0]\n",
    "\n",
    "    # step through, merging as far into the future as we can\n",
    "    for ii in range(num_fight_regions-1):\n",
    "\n",
    "        # can i merge current and next bout?\n",
    "        curr_region_end_idx = current_region_info[1]\n",
    "        next_region_start_idx = fight_regions_indices[ii+1][0]\n",
    "        num_indexs_between_regions = next_region_start_idx - curr_region_end_idx\n",
    "        if num_indexs_between_regions < merge_gap_size_in_windows:\n",
    "            do_merge_bouts = True\n",
    "        else:\n",
    "            do_merge_bouts = False\n",
    "\n",
    "        if do_merge_bouts:\n",
    "            current_region_start = current_region_info[0]\n",
    "            next_region_end = fight_regions_indices[ii+1][1]\n",
    "            current_region_info = np.array([current_region_start, next_region_end])\n",
    "            continue\n",
    "        else:\n",
    "            # record what we have\n",
    "            fight_regions_indices_after_merge.append(current_region_info)\n",
    "            # move current info to next bout\n",
    "            current_region_info = fight_regions_indices[ii+1]\n",
    "            continue\n",
    "\n",
    "\n",
    "    # record the last region\n",
    "    fight_regions_indices_after_merge.append(current_region_info)\n",
    "    \n",
    "    # convert to array and record results for this experiment\n",
    "    fight_regions_indices_after_merge = np.array(fight_regions_indices_after_merge)\n",
    "    exp_fight_regions_indices_after_merge.append(fight_regions_indices_after_merge)\n",
    "\n",
    "    \n",
    "    \n",
    "## --- remove small regions ---- ##\n",
    "\n",
    "exp_fight_regions_indices_after_merge_and_minSizeThreshing = []\n",
    "\n",
    "for expIdx in range(len(expNames)):\n",
    "\n",
    "    regions = exp_fight_regions_indices_after_merge[expIdx]\n",
    "    \n",
    "    # get the region sizes\n",
    "    region_sizes_in_windows = regions[:,1] - regions[:,0]\n",
    "    \n",
    "    # get the regIdxs to remove, and remove them\n",
    "    remove_reg_idxs = np.where(region_sizes_in_windows < min_region_window_size)[0]\n",
    "    threshed_regions = np.delete(regions, remove_reg_idxs, 0)\n",
    "    \n",
    "    # record\n",
    "    exp_fight_regions_indices_after_merge_and_minSizeThreshing.append(threshed_regions)\n",
    "    \n",
    "    \n",
    "tE = time.perf_counter()\n",
    "print(tE-t0)"
   ]
  },
  {
   "cell_type": "code",
   "execution_count": null,
   "id": "0fb5451b-1757-4d10-b299-88f6a850a0d4",
   "metadata": {},
   "outputs": [],
   "source": []
  },
  {
   "cell_type": "code",
   "execution_count": 39,
   "id": "ef1409a2-152b-4bf4-97be-b8f8b39501ce",
   "metadata": {},
   "outputs": [
    {
     "data": {
      "text/plain": [
       "[array([[128, 142],\n",
       "        [194, 203],\n",
       "        [214, 268]]),\n",
       " array([[ 91, 100],\n",
       "        [128, 136],\n",
       "        [164, 218],\n",
       "        [233, 239]]),\n",
       " array([[ 10,  58],\n",
       "        [100, 106]]),\n",
       " array([[110, 145]]),\n",
       " array([[ 95, 130]]),\n",
       " array([[149, 186]]),\n",
       " array([[72, 83]]),\n",
       " array([[ 30,  42],\n",
       "        [168, 184]]),\n",
       " array([[ 60,  85],\n",
       "        [ 91, 111],\n",
       "        [117, 123]]),\n",
       " array([[214, 236]]),\n",
       " array([[ 6, 26]]),\n",
       " array([[71, 93]]),\n",
       " array([[ 47,  75],\n",
       "        [ 87, 114],\n",
       "        [119, 128]]),\n",
       " array([[231, 248]]),\n",
       " array([[ 2, 20]]),\n",
       " array([[  4,  61],\n",
       "        [163, 171]]),\n",
       " array([[ 30,  50],\n",
       "        [ 68,  94],\n",
       "        [107, 120],\n",
       "        [136, 168],\n",
       "        [179, 213]]),\n",
       " array([[ 28,  41],\n",
       "        [140, 145]]),\n",
       " array([[129, 185],\n",
       "        [299, 310]]),\n",
       " array([[175, 190]]),\n",
       " array([[ 13,  56],\n",
       "        [183, 195]]),\n",
       " array([[  0,   9],\n",
       "        [ 34,  43],\n",
       "        [ 58, 118],\n",
       "        [129, 139],\n",
       "        [188, 209]])]"
      ]
     },
     "execution_count": 39,
     "metadata": {},
     "output_type": "execute_result"
    }
   ],
   "source": [
    "exp_fight_regions_indices_after_merge_and_minSizeThreshing"
   ]
  },
  {
   "cell_type": "code",
   "execution_count": null,
   "id": "2c87ca56-3127-46fc-9813-221f33f43ed8",
   "metadata": {},
   "outputs": [],
   "source": []
  },
  {
   "cell_type": "code",
   "execution_count": null,
   "id": "003bbc7f-a4a8-401a-9c4b-76d6107e9d53",
   "metadata": {},
   "outputs": [],
   "source": []
  },
  {
   "cell_type": "code",
   "execution_count": null,
   "id": "e2018588-c844-460d-961f-e1a41970fea5",
   "metadata": {},
   "outputs": [],
   "source": []
  },
  {
   "cell_type": "code",
   "execution_count": null,
   "id": "6013a785-45e3-40e8-a661-a5cb13b58c77",
   "metadata": {},
   "outputs": [],
   "source": []
  },
  {
   "cell_type": "code",
   "execution_count": null,
   "id": "b29c75ed-fc58-4960-a9dd-85cb94e04448",
   "metadata": {},
   "outputs": [],
   "source": []
  },
  {
   "cell_type": "markdown",
   "id": "f964351e-2db8-428e-8bc2-3e8a554f9e4f",
   "metadata": {},
   "source": [
    "## get the fight-boundaries in the form of an array of expIdxs and frame numbers"
   ]
  },
  {
   "cell_type": "code",
   "execution_count": null,
   "id": "852a05b5-448b-4d46-9295-aca405e78d5f",
   "metadata": {},
   "outputs": [],
   "source": []
  },
  {
   "cell_type": "code",
   "execution_count": 40,
   "id": "dec87912-1257-4cd2-9c40-83727ef3aec4",
   "metadata": {},
   "outputs": [],
   "source": [
    "# --- find \"fight_bout_ranges\" ---- #\n",
    "\n",
    "# An array over fight-bouts for all experiments,\n",
    "# with rows containing the (expIdx, boutStartFrame, boutStopFrame, duration) for the bout\n",
    "\n",
    "exps_fightBouts_startStops = []\n",
    "for expIdx,expName in enumerate(expNames):\n",
    "    \n",
    "    # get the array of fight-bouts in window indices\n",
    "    fight_region_window_idxs = exp_fight_regions_indices_after_merge_and_minSizeThreshing[expIdx]\n",
    "    exp_numBouts =  fight_region_window_idxs.shape[0]\n",
    "    \n",
    "    # get the start-stop frames of all windows for this experiment\n",
    "    exp_window_start_stop_frames = expidx_and_decimated_wins_clusterable_data[expidx_and_decimated_wins_clusterable_data[:,0]==expIdx][:,1:]\n",
    "    \n",
    "    # loop over the fight-bouts for this experiment, \n",
    "    # recording the frame ranges for all windows -> exp_bout_all_window_frames, (for debugging)\n",
    "    # and recording the frames of the start and stop of the bout -> exp_bouts_startStops  (for main use)\n",
    "    exp_bouts_all_window_frames = []\n",
    "    exp_bouts_startStops = []\n",
    "    for boutIdx in range(exp_numBouts):\n",
    "        \n",
    "        bout_all_window_frames = exp_window_start_stop_frames[fight_region_window_idxs[boutIdx,0]:fight_region_window_idxs[boutIdx,1]]\n",
    "        exp_bouts_all_window_frames.append(bout_all_window_frames)\n",
    "        \n",
    "        bout_startStop_frames = np.array([np.mean(bout_all_window_frames[0]), np.mean(bout_all_window_frames[-1])])\n",
    "        exp_bouts_startStops.append(bout_startStop_frames)\n",
    "        \n",
    "    # keep \"exp_bouts_all_window_frames\" as a list of arrays, one entry for each bout,\n",
    "    # but we want \"exp_bouts_startStops\" as an array for ease of use (matches fight_region_window_idxs)\n",
    "    exp_bouts_startStops = np.array(exp_bouts_startStops)\n",
    "    \n",
    "    # record results for this experiment\n",
    "    exps_fightBouts_startStops.append(exp_bouts_startStops)\n",
    "    \n",
    "    \n",
    "# finally, convert the list over experiments, into an array of (expIdx, boutStart, boutstop, duration) for each bout\n",
    "exps_fight_info = []\n",
    "for expIdx,expName in enumerate(expNames):\n",
    "    exp_bouts_startStops = exps_fightBouts_startStops[expIdx]\n",
    "    exp_bouts_startStops_with_expIdx = np.zeros((exp_bouts_startStops.shape[0], exp_bouts_startStops.shape[1] + 2))*np.NaN\n",
    "    exp_bouts_startStops_with_expIdx[:,0] = expIdx\n",
    "    exp_bouts_startStops_with_expIdx[:,1:3] = exp_bouts_startStops\n",
    "    exp_bouts_startStops_with_expIdx[:,3] = exp_bouts_startStops_with_expIdx[:,2] - exp_bouts_startStops_with_expIdx[:,1]\n",
    "    exps_fight_info.append(exp_bouts_startStops_with_expIdx)\n",
    "exps_fight_info = np.concatenate(exps_fight_info).astype(int)"
   ]
  },
  {
   "cell_type": "code",
   "execution_count": 41,
   "id": "b99bf573-925b-4320-a24e-e7051001d5cd",
   "metadata": {},
   "outputs": [
    {
     "data": {
      "text/plain": [
       "(45, 4)"
      ]
     },
     "execution_count": 41,
     "metadata": {},
     "output_type": "execute_result"
    }
   ],
   "source": [
    "exps_fight_info.shape"
   ]
  },
  {
   "cell_type": "code",
   "execution_count": 42,
   "id": "a81224a1-e378-4c8c-8ba7-72ffa2db9b19",
   "metadata": {},
   "outputs": [
    {
     "data": {
      "text/plain": [
       "array([[     0, 387000, 426000,  39000],\n",
       "       [     0, 585000, 609000,  24000],\n",
       "       [     0, 645000, 804000, 159000],\n",
       "       [     1, 276000, 300000,  24000],\n",
       "       [     1, 387000, 408000,  21000],\n",
       "       [     1, 495000, 654000, 159000],\n",
       "       [     1, 702000, 717000,  15000],\n",
       "       [     2,  33000, 174000, 141000],\n",
       "       [     2, 303000, 318000,  15000],\n",
       "       [     3, 333000, 435000, 102000],\n",
       "       [     4, 288000, 390000, 102000],\n",
       "       [     5, 450000, 558000, 108000],\n",
       "       [     6, 219000, 249000,  30000],\n",
       "       [     7,  93000, 126000,  33000],\n",
       "       [     7, 507000, 552000,  45000],\n",
       "       [     8, 183000, 255000,  72000],\n",
       "       [     8, 276000, 333000,  57000],\n",
       "       [     8, 354000, 369000,  15000],\n",
       "       [     9, 645000, 708000,  63000],\n",
       "       [    10,  21000,  78000,  57000],\n",
       "       [    11, 216000, 279000,  63000],\n",
       "       [    12, 144000, 225000,  81000],\n",
       "       [    12, 264000, 342000,  78000],\n",
       "       [    12, 360000, 384000,  24000],\n",
       "       [    13, 696000, 744000,  48000],\n",
       "       [    14,   9000,  60000,  51000],\n",
       "       [    15,  15000, 183000, 168000],\n",
       "       [    15, 492000, 513000,  21000],\n",
       "       [    16,  93000, 150000,  57000],\n",
       "       [    16, 207000, 282000,  75000],\n",
       "       [    16, 324000, 360000,  36000],\n",
       "       [    16, 411000, 504000,  93000],\n",
       "       [    16, 540000, 639000,  99000],\n",
       "       [    17,  87000, 123000,  36000],\n",
       "       [    17, 423000, 435000,  12000],\n",
       "       [    18, 390000, 555000, 165000],\n",
       "       [    18, 900000, 930000,  30000],\n",
       "       [    19, 528000, 570000,  42000],\n",
       "       [    20,  42000, 168000, 126000],\n",
       "       [    20, 561000, 594000,  33000],\n",
       "       [    21,   3000,  27000,  24000],\n",
       "       [    21, 105000, 129000,  24000],\n",
       "       [    21, 177000, 354000, 177000],\n",
       "       [    21, 390000, 417000,  27000],\n",
       "       [    21, 567000, 627000,  60000]])"
      ]
     },
     "execution_count": 42,
     "metadata": {},
     "output_type": "execute_result"
    }
   ],
   "source": [
    "exps_fight_info"
   ]
  },
  {
   "cell_type": "code",
   "execution_count": null,
   "id": "259c3159-42c4-445b-9700-d1e10c98be6c",
   "metadata": {},
   "outputs": [],
   "source": []
  },
  {
   "cell_type": "code",
   "execution_count": null,
   "id": "25d9b724-3136-488f-ba0b-e376b8fe8d94",
   "metadata": {},
   "outputs": [],
   "source": []
  },
  {
   "cell_type": "markdown",
   "id": "05f12167-2ef6-4c24-89c0-7db90f52eabf",
   "metadata": {},
   "source": [
    "## refine the boundaries by clustering distributions around edges of fights"
   ]
  },
  {
   "cell_type": "code",
   "execution_count": 43,
   "id": "7a6edc68-5577-4393-9835-54403e17d535",
   "metadata": {},
   "outputs": [],
   "source": [
    "def create_padding_windows_before_bout_start_frame(start_frame, window_size, window_step, exp_nfs):\n",
    "    ''' Given a frame index, create an array of sliding windows before the frame.\n",
    "    '''\n",
    "    # create the padding windows\n",
    "    padding_starts = np.arange(start_frame-(window_size)+window_step, start_frame, window_step)\n",
    "    padding_stops = padding_starts + window_size\n",
    "    padding_windows = np.stack([padding_starts, padding_stops], axis=1)\n",
    "    \n",
    "    # remove any problematic windows\n",
    "    bad_idxs = []\n",
    "    good_idxs = []\n",
    "    for winIdx in range(padding_windows.shape[0]):\n",
    "        winF0, winFE = padding_windows[winIdx]\n",
    "        if winF0 < 0:\n",
    "            bad_idxs.append(winIdx)\n",
    "        elif winFE < 0:\n",
    "            bad_idxs.append(winIdx)\n",
    "        elif winFE >= exp_nfs:\n",
    "            bad_idxs.append(winIdx)\n",
    "        else:\n",
    "            good_idxs.append(winIdx)\n",
    "    padding_windows_parsed = []\n",
    "    for idx in good_idxs:\n",
    "        padding_windows_parsed.append(padding_windows[idx])\n",
    "    padding_windows_parsed = np.array(padding_windows_parsed)\n",
    "    \n",
    "    # finally, return a simply padding without to avoid problems if empty\n",
    "    if padding_windows_parsed.shape[0] == 0:\n",
    "        padding_windows_parsed = np.array([start_frame, start_frame+window_size]).reshape(1,2)\n",
    "            \n",
    "    return padding_windows_parsed.astype(int)\n",
    "\n",
    "\n",
    "    \n",
    "def create_padding_windows_before_bout_stop_frame(stop_frame, window_size, window_step, exp_nfs):\n",
    "    ''' Given a frame index, create an array of sliding windows after the frame.\n",
    "    '''\n",
    "    # create the padding windows\n",
    "    padding_starts = np.arange(stop_frame-window_size+window_step, stop_frame, window_step)\n",
    "    padding_stops = padding_starts + window_size\n",
    "    padding_windows = np.stack([padding_starts, padding_stops], axis=1)\n",
    "    \n",
    "    # remove any problematic windows\n",
    "    bad_idxs = []\n",
    "    good_idxs = []\n",
    "    for winIdx in range(padding_windows.shape[0]):\n",
    "        winF0, winFE = padding_windows[winIdx]\n",
    "        if winF0 < 0:\n",
    "            bad_idxs.append(winIdx)\n",
    "        elif winFE < 0:\n",
    "            bad_idxs.append(winIdx)\n",
    "        elif winFE >= exp_nfs:\n",
    "            bad_idxs.append(winIdx)\n",
    "        else:\n",
    "            good_idxs.append(winIdx)\n",
    "    padding_windows_parsed = []\n",
    "    for idx in good_idxs:\n",
    "        padding_windows_parsed.append(padding_windows[idx])\n",
    "    padding_windows_parsed = np.array(padding_windows_parsed)\n",
    "            \n",
    "    return padding_windows_parsed.astype(int)\n",
    "\n",
    "\n",
    "\n",
    "def create_sliding_windows_around_detected_bout(bout_detected_start_frame, bout_detected_end_frame, exp_nfs, window_size, window_step):\n",
    "    ''' Given the start and end frame of a fight bout detected by the clustering (decimated),\n",
    "        create some sliding windows either side of the fight, to probe if the bout can be \n",
    "        extended futher backwards of forwards in time (to refine the start and stop frames).\n",
    "    '''\n",
    "    bout_start_padding_windows = create_padding_windows_before_bout_start_frame(bout_detected_start_frame, \n",
    "                                                                                window_size, \n",
    "                                                                                window_step, \n",
    "                                                                                exp_nfs)\n",
    "    bout_stop_padding_windows = create_padding_windows_before_bout_stop_frame(bout_detected_end_frame, \n",
    "                                                                              window_size, \n",
    "                                                                              window_step, \n",
    "                                                                              exp_nfs)\n",
    "\n",
    "    bout_padding_windows = np.concatenate([bout_start_padding_windows, bout_stop_padding_windows])\n",
    "    return bout_padding_windows"
   ]
  },
  {
   "cell_type": "code",
   "execution_count": null,
   "id": "17925a08-26ac-4fbd-8db7-2bc9183c9a73",
   "metadata": {},
   "outputs": [],
   "source": []
  },
  {
   "cell_type": "code",
   "execution_count": null,
   "id": "e795b807-3e08-4a28-a516-1c3642610a25",
   "metadata": {},
   "outputs": [],
   "source": []
  },
  {
   "cell_type": "code",
   "execution_count": null,
   "id": "cb17dd3e-8900-4083-9c9c-434ba974d923",
   "metadata": {},
   "outputs": [],
   "source": []
  },
  {
   "cell_type": "code",
   "execution_count": null,
   "id": "74d16e3b-7a01-492d-abdc-93e00ebce5af",
   "metadata": {},
   "outputs": [],
   "source": []
  },
  {
   "cell_type": "code",
   "execution_count": 372,
   "id": "1fafc69f-8f83-4c61-9980-89a26507bff1",
   "metadata": {},
   "outputs": [
    {
     "name": "stderr",
     "output_type": "stream",
     "text": [
      "/tmp/ipykernel_718118/3243086601.py:28: RuntimeWarning: invalid value encountered in remainder\n",
      "  beta = np.mod(alpha, 2*np.pi)\n",
      "/tmp/ipykernel_718118/3243086601.py:49: RuntimeWarning: invalid value encountered in remainder\n",
      "  beta = np.mod(alpha, 2*np.pi)\n"
     ]
    },
    {
     "name": "stdout",
     "output_type": "stream",
     "text": [
      "3103.508852800005  s\n"
     ]
    }
   ],
   "source": [
    "t0 = time.perf_counter()\n",
    "\n",
    "\n",
    "refined_exps_fight_info = []\n",
    "\n",
    "# --------------------------------------------------#\n",
    "\n",
    "numBouts = exps_fight_info.shape[0]\n",
    "#for boutIdx in range(1):\n",
    "for boutIdx in range(numBouts):\n",
    "    # parse the info for this bout\n",
    "    expIdx, old_bout_startFrame, old_bout_stopFrame, old_bout_duration = exps_fight_info[boutIdx]\n",
    "    exp_nfs = expNumFrames[expIdx]\n",
    "    \n",
    "    \n",
    "    # create padding windows around the bout\n",
    "    # We will identify boundaries down to a resolution of 2 windows steps (2s)\n",
    "    bout_padding_windows = create_sliding_windows_around_detected_bout(old_bout_startFrame, \n",
    "                                                                       old_bout_stopFrame, \n",
    "                                                                       exp_nfs, \n",
    "                                                                       window_size,\n",
    "                                                                       window_step)\n",
    "    bout_padding_windows = bout_padding_windows[::2]\n",
    "    \n",
    "    \n",
    "    \n",
    "    \n",
    "    # get the prob vecs for each padding window, only using nonNaN windows\n",
    "    g1_arr, g2_arr = symmetrize_tet1_tet2(exp_tetWs[expIdx], exp_tetLs[expIdx])\n",
    "    prob_vectors_for_bout_padding_windows = get_1D_prob_vectors_from_dpp_g1_g2_in_timeWins(exp_dpps[expIdx], \n",
    "                                                                                           g1_arr, g2_arr,\n",
    "                                                                                           cluster_params['dpp_bins'],\n",
    "                                                                                           cluster_params['g1_bins'],\n",
    "                                                                                           cluster_params['g2_bins'],\n",
    "                                                                                           bout_padding_windows)\n",
    "    prob_vectors_for_bout_padding_windows_nanless = prob_vectors_for_bout_padding_windows[ np.where(~np.isnan(prob_vectors_for_bout_padding_windows).any(axis=1))[0] ]\n",
    "    bout_padding_windows_nanless = bout_padding_windows[ np.where(~np.isnan(bout_padding_windows).any(axis=1))[0] ]\n",
    "    \n",
    "    \n",
    "    \n",
    "    #  compute the distance for each prob vec to all clustered data \n",
    "    prob_vectors_for_bout_padding_windows_nanless_distances = np.zeros((prob_vectors_for_bout_padding_windows_nanless.shape[0],\n",
    "                                                                        prob_vectors_clusterable_data.shape[0]))\n",
    "    for pad_vec_idx in range(prob_vectors_for_bout_padding_windows_nanless.shape[0]):\n",
    "        for clust_vec_idx in range(prob_vectors_clusterable_data.shape[0]):\n",
    "            pad_vec = prob_vectors_for_bout_padding_windows_nanless[pad_vec_idx]\n",
    "            clust_vec = prob_vectors_clusterable_data[clust_vec_idx]\n",
    "            pad_clust_dist = distance.jensenshannon(pad_vec, clust_vec, base=2)\n",
    "            prob_vectors_for_bout_padding_windows_nanless_distances[pad_vec_idx, clust_vec_idx] = pad_clust_dist\n",
    "            \n",
    "            \n",
    "    #  get the new boundaries using the nearest neighbors \n",
    "    #  the first window labelled fight is the new start, and the last window labelled fight is new stop\n",
    "    pad_vec_NN_idxs = np.argmin(prob_vectors_for_bout_padding_windows_nanless_distances, axis=1)\n",
    "    pad_vec_cluster_labels = cluster_labels[pad_vec_NN_idxs]\n",
    "\n",
    "    first_fight_index = np.where(pad_vec_cluster_labels==fight_cluster_idx)[0][0]\n",
    "    last_fight_index = np.where(pad_vec_cluster_labels==fight_cluster_idx)[0][-1]\n",
    "\n",
    "    first_win = bout_padding_windows_nanless[first_fight_index]\n",
    "    last_win = bout_padding_windows_nanless[last_fight_index]\n",
    "\n",
    "    bout_start = np.mean(first_win)\n",
    "    bout_stop = np.mean(last_win)\n",
    "    bout_duration = bout_stop - bout_start\n",
    "    expIdx_bout_start_stop_duration = np.array([expIdx, bout_start, bout_stop, bout_duration]).astype(int)  \n",
    "    \n",
    "    # record the results for this bout\n",
    "    refined_exps_fight_info.append(expIdx_bout_start_stop_duration)\n",
    "    \n",
    "    \n",
    "refined_exps_fight_info = np.stack(refined_exps_fight_info, axis=0)\n",
    "    \n",
    "tE = time.perf_counter()\n",
    "print(tE-t0, ' s')"
   ]
  },
  {
   "cell_type": "code",
   "execution_count": null,
   "id": "197337af-3aa0-4945-9ccb-b6d3bdde985b",
   "metadata": {},
   "outputs": [],
   "source": []
  },
  {
   "cell_type": "code",
   "execution_count": 54,
   "id": "102bf28d-d33c-4138-a7ab-e84abe3d9daa",
   "metadata": {},
   "outputs": [
    {
     "ename": "NameError",
     "evalue": "name 'refined_exps_fight_info' is not defined",
     "output_type": "error",
     "traceback": [
      "\u001b[0;31m---------------------------------------------------------------------------\u001b[0m",
      "\u001b[0;31mNameError\u001b[0m                                 Traceback (most recent call last)",
      "\u001b[0;32m/tmp/ipykernel_884602/715435884.py\u001b[0m in \u001b[0;36m<module>\u001b[0;34m\u001b[0m\n\u001b[0;32m----> 1\u001b[0;31m \u001b[0mrefined_exps_fight_info\u001b[0m\u001b[0;34m\u001b[0m\u001b[0;34m\u001b[0m\u001b[0m\n\u001b[0m",
      "\u001b[0;31mNameError\u001b[0m: name 'refined_exps_fight_info' is not defined"
     ]
    }
   ],
   "source": [
    "refined_exps_fight_info"
   ]
  },
  {
   "cell_type": "code",
   "execution_count": null,
   "id": "910cfb63-9f10-481e-a344-2a4b74f59658",
   "metadata": {},
   "outputs": [],
   "source": []
  },
  {
   "cell_type": "code",
   "execution_count": 394,
   "id": "2efa43e2-e6b9-46e1-b584-7ac1bade165f",
   "metadata": {},
   "outputs": [
    {
     "data": {
      "text/plain": [
       "array([[     0, 387000, 426000,  39000],\n",
       "       [     0, 585000, 609000,  24000],\n",
       "       [     0, 645000, 804000, 159000],\n",
       "       [     1, 276000, 300000,  24000],\n",
       "       [     1, 387000, 408000,  21000],\n",
       "       [     1, 495000, 654000, 159000],\n",
       "       [     1, 702000, 717000,  15000],\n",
       "       [     2,  33000, 174000, 141000],\n",
       "       [     2, 303000, 318000,  15000],\n",
       "       [     3, 333000, 435000, 102000],\n",
       "       [     4, 288000, 390000, 102000],\n",
       "       [     5, 450000, 558000, 108000],\n",
       "       [     6, 219000, 249000,  30000],\n",
       "       [     7,  93000, 126000,  33000],\n",
       "       [     7, 507000, 552000,  45000],\n",
       "       [     8, 183000, 255000,  72000],\n",
       "       [     8, 276000, 333000,  57000],\n",
       "       [     8, 354000, 369000,  15000],\n",
       "       [     9, 645000, 708000,  63000],\n",
       "       [    10,  21000,  78000,  57000],\n",
       "       [    11, 216000, 279000,  63000],\n",
       "       [    12, 144000, 225000,  81000],\n",
       "       [    12, 264000, 342000,  78000],\n",
       "       [    12, 360000, 384000,  24000],\n",
       "       [    13, 696000, 744000,  48000],\n",
       "       [    14,   9000,  60000,  51000],\n",
       "       [    15,  15000, 183000, 168000],\n",
       "       [    15, 492000, 513000,  21000],\n",
       "       [    16,  93000, 150000,  57000],\n",
       "       [    16, 207000, 282000,  75000],\n",
       "       [    16, 324000, 360000,  36000],\n",
       "       [    16, 411000, 504000,  93000],\n",
       "       [    16, 540000, 639000,  99000],\n",
       "       [    17,  87000, 123000,  36000],\n",
       "       [    17, 423000, 435000,  12000],\n",
       "       [    18, 390000, 555000, 165000],\n",
       "       [    18, 900000, 930000,  30000],\n",
       "       [    19, 528000, 570000,  42000],\n",
       "       [    20,  42000, 168000, 126000],\n",
       "       [    20, 561000, 594000,  33000],\n",
       "       [    21,   3000,  27000,  24000],\n",
       "       [    21, 105000, 129000,  24000],\n",
       "       [    21, 177000, 354000, 177000],\n",
       "       [    21, 390000, 417000,  27000],\n",
       "       [    21, 567000, 627000,  60000]])"
      ]
     },
     "execution_count": 394,
     "metadata": {},
     "output_type": "execute_result"
    }
   ],
   "source": [
    "exps_fight_info"
   ]
  },
  {
   "cell_type": "code",
   "execution_count": null,
   "id": "73647c8c-a3ca-4ee2-9c53-5ce779793b4f",
   "metadata": {},
   "outputs": [],
   "source": []
  },
  {
   "cell_type": "code",
   "execution_count": 163,
   "id": "b2fc8a0a-f277-4701-8576-de4e9fb4cdd4",
   "metadata": {},
   "outputs": [],
   "source": []
  },
  {
   "cell_type": "markdown",
   "id": "c5a13609-b73b-4fff-9703-e864a0499e23",
   "metadata": {},
   "source": [
    "## save"
   ]
  },
  {
   "cell_type": "code",
   "execution_count": null,
   "id": "71486e12-6622-4e58-b468-cc639d732f7a",
   "metadata": {},
   "outputs": [],
   "source": [
    "with h5py.File(fightBouts_info_path, 'w') as hf:\n",
    "    hf.create_dataset('exps_fight_info', data=exps_fight_info)\n",
    "    hf.create_dataset('refined_exps_fight_info', data=refined_exps_fight_info)\n",
    "    \n"
   ]
  },
  {
   "cell_type": "code",
   "execution_count": null,
   "id": "215b9faf-b98c-4d39-87c5-fe7b2ed1ef88",
   "metadata": {},
   "outputs": [],
   "source": []
  },
  {
   "cell_type": "code",
   "execution_count": null,
   "id": "0d64e1fb-6c93-43e7-8976-b84aa3c5d959",
   "metadata": {},
   "outputs": [],
   "source": []
  },
  {
   "cell_type": "markdown",
   "id": "ac3f0056-bf3a-4e5e-9291-1fafaa4a8571",
   "metadata": {},
   "source": [
    "# ----------------------------------#"
   ]
  },
  {
   "cell_type": "code",
   "execution_count": null,
   "id": "ee55a19f-33e1-4a40-bf85-42c8c3509eae",
   "metadata": {},
   "outputs": [],
   "source": []
  },
  {
   "cell_type": "markdown",
   "id": "dd1d9fce-6afc-4c63-8458-ad4a37e99a8f",
   "metadata": {},
   "source": [
    "# Creating subsets of fight-bouts used for other situations."
   ]
  },
  {
   "cell_type": "code",
   "execution_count": null,
   "id": "4382136f-0a10-4d0d-8e22-1dcdcd217691",
   "metadata": {},
   "outputs": [],
   "source": []
  },
  {
   "cell_type": "markdown",
   "id": "03b46eb4-db7f-4170-934b-e0f878c1cae7",
   "metadata": {},
   "source": [
    "## make a dataframe from the fight detector results"
   ]
  },
  {
   "cell_type": "code",
   "execution_count": null,
   "id": "89bb5d66-7ebf-4f2c-afb1-931a3fe89799",
   "metadata": {},
   "outputs": [],
   "source": [
    "# --------   Make the dataFrame from the refined fight-boundaries  ------------------------#\n",
    "\n",
    "with h5py.File(fightBouts_info_path, 'r') as hf:\n",
    "    exps_fight_info = hf['refined_exps_fight_info'][:]\n",
    "    \n",
    "# make a dataframe for the fight info\n",
    "fight_cols = ['expIdxs', 'startIdx', 'stopIdx', 'durations']\n",
    "fight_bout_df = pd.DataFrame(data=exps_fight_info, columns=fight_cols)\n",
    "\n",
    "# make a column showing if the experiment ended with a conclusive winner and loser\n",
    "ends_conclusive_arr = []\n",
    "df_expIdxs_col = fight_bout_df['expIdxs'].values\n",
    "for ii, expIdx in enumerate(df_expIdxs_col):\n",
    "    ends_conclusive_arr.append(conclusive_winner_loser[expIdx])\n",
    "ends_conclusive_arr = np.array(ends_conclusive_arr)\n",
    "fight_bout_df['conclusive_winner'] = ends_conclusive_arr\n",
    "\n",
    "# make a column showing if the experiment had an existing dominance relationship\n",
    "existing_dominance_arr = []\n",
    "df_expIdxs_col = fight_bout_df['expIdxs'].values\n",
    "for ii, expIdx in enumerate(df_expIdxs_col):\n",
    "    existing_dominance_arr.append(already_established_dominance[expIdx])\n",
    "existing_dominance_arr = np.array(existing_dominance_arr)\n",
    "fight_bout_df['existing_dominance'] = existing_dominance_arr\n",
    "\n",
    "# make a column to show how close each bout is to the end of the experiment\n",
    "bouts_frames_to_end = []\n",
    "df_bout_stop_idxs_col = fight_bout_df['stopIdx'].values\n",
    "df_expIdxs_col = fight_bout_df['expIdxs'].values\n",
    "for rowIdx,expIdx in enumerate(df_expIdxs_col):\n",
    "    #print(rowIdx, expIdx)\n",
    "    row_nfs = smooth_trajectories[expIdx].shape[0]\n",
    "    row_frame_to_end = row_nfs - df_bout_stop_idxs_col[rowIdx]\n",
    "    bouts_frames_to_end.append(row_frame_to_end)\n",
    "bouts_frames_to_end = np.array(bouts_frames_to_end)\n",
    "fight_bout_df['frames_post_bout'] = bouts_frames_to_end"
   ]
  },
  {
   "cell_type": "code",
   "execution_count": 115,
   "id": "86845337-d017-45af-862f-cb7b27286a60",
   "metadata": {},
   "outputs": [
    {
     "data": {
      "text/html": [
       "<div>\n",
       "<style scoped>\n",
       "    .dataframe tbody tr th:only-of-type {\n",
       "        vertical-align: middle;\n",
       "    }\n",
       "\n",
       "    .dataframe tbody tr th {\n",
       "        vertical-align: top;\n",
       "    }\n",
       "\n",
       "    .dataframe thead th {\n",
       "        text-align: right;\n",
       "    }\n",
       "</style>\n",
       "<table border=\"1\" class=\"dataframe\">\n",
       "  <thead>\n",
       "    <tr style=\"text-align: right;\">\n",
       "      <th></th>\n",
       "      <th>expIdxs</th>\n",
       "      <th>startIdx</th>\n",
       "      <th>stopIdx</th>\n",
       "      <th>durations</th>\n",
       "      <th>conclusive_winner</th>\n",
       "      <th>existing_dominance</th>\n",
       "      <th>frames_post_bout</th>\n",
       "    </tr>\n",
       "  </thead>\n",
       "  <tbody>\n",
       "    <tr>\n",
       "      <th>0</th>\n",
       "      <td>0</td>\n",
       "      <td>385500</td>\n",
       "      <td>427400</td>\n",
       "      <td>41900</td>\n",
       "      <td>1</td>\n",
       "      <td>0</td>\n",
       "      <td>544356</td>\n",
       "    </tr>\n",
       "    <tr>\n",
       "      <th>1</th>\n",
       "      <td>0</td>\n",
       "      <td>583500</td>\n",
       "      <td>610400</td>\n",
       "      <td>26900</td>\n",
       "      <td>1</td>\n",
       "      <td>0</td>\n",
       "      <td>361356</td>\n",
       "    </tr>\n",
       "    <tr>\n",
       "      <th>2</th>\n",
       "      <td>0</td>\n",
       "      <td>643500</td>\n",
       "      <td>805400</td>\n",
       "      <td>161900</td>\n",
       "      <td>1</td>\n",
       "      <td>0</td>\n",
       "      <td>166356</td>\n",
       "    </tr>\n",
       "    <tr>\n",
       "      <th>3</th>\n",
       "      <td>1</td>\n",
       "      <td>274500</td>\n",
       "      <td>301400</td>\n",
       "      <td>26900</td>\n",
       "      <td>1</td>\n",
       "      <td>0</td>\n",
       "      <td>468448</td>\n",
       "    </tr>\n",
       "    <tr>\n",
       "      <th>4</th>\n",
       "      <td>1</td>\n",
       "      <td>385700</td>\n",
       "      <td>409400</td>\n",
       "      <td>23700</td>\n",
       "      <td>1</td>\n",
       "      <td>0</td>\n",
       "      <td>360448</td>\n",
       "    </tr>\n",
       "    <tr>\n",
       "      <th>5</th>\n",
       "      <td>1</td>\n",
       "      <td>493700</td>\n",
       "      <td>655400</td>\n",
       "      <td>161700</td>\n",
       "      <td>1</td>\n",
       "      <td>0</td>\n",
       "      <td>114448</td>\n",
       "    </tr>\n",
       "    <tr>\n",
       "      <th>6</th>\n",
       "      <td>1</td>\n",
       "      <td>700700</td>\n",
       "      <td>718600</td>\n",
       "      <td>17900</td>\n",
       "      <td>1</td>\n",
       "      <td>0</td>\n",
       "      <td>51248</td>\n",
       "    </tr>\n",
       "    <tr>\n",
       "      <th>7</th>\n",
       "      <td>2</td>\n",
       "      <td>31500</td>\n",
       "      <td>175400</td>\n",
       "      <td>143900</td>\n",
       "      <td>1</td>\n",
       "      <td>0</td>\n",
       "      <td>326543</td>\n",
       "    </tr>\n",
       "    <tr>\n",
       "      <th>8</th>\n",
       "      <td>2</td>\n",
       "      <td>301300</td>\n",
       "      <td>319600</td>\n",
       "      <td>18300</td>\n",
       "      <td>1</td>\n",
       "      <td>0</td>\n",
       "      <td>182343</td>\n",
       "    </tr>\n",
       "    <tr>\n",
       "      <th>9</th>\n",
       "      <td>3</td>\n",
       "      <td>331300</td>\n",
       "      <td>436400</td>\n",
       "      <td>105100</td>\n",
       "      <td>1</td>\n",
       "      <td>0</td>\n",
       "      <td>80600</td>\n",
       "    </tr>\n",
       "    <tr>\n",
       "      <th>10</th>\n",
       "      <td>4</td>\n",
       "      <td>286500</td>\n",
       "      <td>391400</td>\n",
       "      <td>104900</td>\n",
       "      <td>0</td>\n",
       "      <td>0</td>\n",
       "      <td>72597</td>\n",
       "    </tr>\n",
       "    <tr>\n",
       "      <th>11</th>\n",
       "      <td>5</td>\n",
       "      <td>448500</td>\n",
       "      <td>559400</td>\n",
       "      <td>110900</td>\n",
       "      <td>1</td>\n",
       "      <td>0</td>\n",
       "      <td>170719</td>\n",
       "    </tr>\n",
       "    <tr>\n",
       "      <th>12</th>\n",
       "      <td>6</td>\n",
       "      <td>217700</td>\n",
       "      <td>250400</td>\n",
       "      <td>32700</td>\n",
       "      <td>1</td>\n",
       "      <td>0</td>\n",
       "      <td>245210</td>\n",
       "    </tr>\n",
       "    <tr>\n",
       "      <th>13</th>\n",
       "      <td>7</td>\n",
       "      <td>91500</td>\n",
       "      <td>127400</td>\n",
       "      <td>35900</td>\n",
       "      <td>1</td>\n",
       "      <td>0</td>\n",
       "      <td>473826</td>\n",
       "    </tr>\n",
       "    <tr>\n",
       "      <th>14</th>\n",
       "      <td>7</td>\n",
       "      <td>505500</td>\n",
       "      <td>553400</td>\n",
       "      <td>47900</td>\n",
       "      <td>1</td>\n",
       "      <td>0</td>\n",
       "      <td>47826</td>\n",
       "    </tr>\n",
       "    <tr>\n",
       "      <th>15</th>\n",
       "      <td>8</td>\n",
       "      <td>181500</td>\n",
       "      <td>256200</td>\n",
       "      <td>74700</td>\n",
       "      <td>1</td>\n",
       "      <td>0</td>\n",
       "      <td>281680</td>\n",
       "    </tr>\n",
       "    <tr>\n",
       "      <th>16</th>\n",
       "      <td>8</td>\n",
       "      <td>274700</td>\n",
       "      <td>334400</td>\n",
       "      <td>59700</td>\n",
       "      <td>1</td>\n",
       "      <td>0</td>\n",
       "      <td>203480</td>\n",
       "    </tr>\n",
       "    <tr>\n",
       "      <th>17</th>\n",
       "      <td>8</td>\n",
       "      <td>352500</td>\n",
       "      <td>370400</td>\n",
       "      <td>17900</td>\n",
       "      <td>1</td>\n",
       "      <td>0</td>\n",
       "      <td>167480</td>\n",
       "    </tr>\n",
       "    <tr>\n",
       "      <th>18</th>\n",
       "      <td>9</td>\n",
       "      <td>643500</td>\n",
       "      <td>709200</td>\n",
       "      <td>65700</td>\n",
       "      <td>0</td>\n",
       "      <td>0</td>\n",
       "      <td>323153</td>\n",
       "    </tr>\n",
       "    <tr>\n",
       "      <th>19</th>\n",
       "      <td>10</td>\n",
       "      <td>19700</td>\n",
       "      <td>79400</td>\n",
       "      <td>59700</td>\n",
       "      <td>1</td>\n",
       "      <td>0</td>\n",
       "      <td>481610</td>\n",
       "    </tr>\n",
       "    <tr>\n",
       "      <th>20</th>\n",
       "      <td>11</td>\n",
       "      <td>214900</td>\n",
       "      <td>280400</td>\n",
       "      <td>65500</td>\n",
       "      <td>1</td>\n",
       "      <td>0</td>\n",
       "      <td>276028</td>\n",
       "    </tr>\n",
       "    <tr>\n",
       "      <th>21</th>\n",
       "      <td>12</td>\n",
       "      <td>142500</td>\n",
       "      <td>226400</td>\n",
       "      <td>83900</td>\n",
       "      <td>1</td>\n",
       "      <td>0</td>\n",
       "      <td>520034</td>\n",
       "    </tr>\n",
       "    <tr>\n",
       "      <th>22</th>\n",
       "      <td>12</td>\n",
       "      <td>262500</td>\n",
       "      <td>343400</td>\n",
       "      <td>80900</td>\n",
       "      <td>1</td>\n",
       "      <td>0</td>\n",
       "      <td>403034</td>\n",
       "    </tr>\n",
       "    <tr>\n",
       "      <th>23</th>\n",
       "      <td>12</td>\n",
       "      <td>358500</td>\n",
       "      <td>385400</td>\n",
       "      <td>26900</td>\n",
       "      <td>1</td>\n",
       "      <td>0</td>\n",
       "      <td>361034</td>\n",
       "    </tr>\n",
       "    <tr>\n",
       "      <th>24</th>\n",
       "      <td>13</td>\n",
       "      <td>694500</td>\n",
       "      <td>745600</td>\n",
       "      <td>51100</td>\n",
       "      <td>1</td>\n",
       "      <td>0</td>\n",
       "      <td>502977</td>\n",
       "    </tr>\n",
       "    <tr>\n",
       "      <th>25</th>\n",
       "      <td>14</td>\n",
       "      <td>7700</td>\n",
       "      <td>61800</td>\n",
       "      <td>54100</td>\n",
       "      <td>1</td>\n",
       "      <td>0</td>\n",
       "      <td>534807</td>\n",
       "    </tr>\n",
       "    <tr>\n",
       "      <th>26</th>\n",
       "      <td>15</td>\n",
       "      <td>13500</td>\n",
       "      <td>184400</td>\n",
       "      <td>170900</td>\n",
       "      <td>1</td>\n",
       "      <td>0</td>\n",
       "      <td>404562</td>\n",
       "    </tr>\n",
       "    <tr>\n",
       "      <th>27</th>\n",
       "      <td>15</td>\n",
       "      <td>490500</td>\n",
       "      <td>514600</td>\n",
       "      <td>24100</td>\n",
       "      <td>1</td>\n",
       "      <td>0</td>\n",
       "      <td>74362</td>\n",
       "    </tr>\n",
       "    <tr>\n",
       "      <th>28</th>\n",
       "      <td>16</td>\n",
       "      <td>91500</td>\n",
       "      <td>151400</td>\n",
       "      <td>59900</td>\n",
       "      <td>1</td>\n",
       "      <td>1</td>\n",
       "      <td>537700</td>\n",
       "    </tr>\n",
       "    <tr>\n",
       "      <th>29</th>\n",
       "      <td>16</td>\n",
       "      <td>205500</td>\n",
       "      <td>283400</td>\n",
       "      <td>77900</td>\n",
       "      <td>1</td>\n",
       "      <td>1</td>\n",
       "      <td>405700</td>\n",
       "    </tr>\n",
       "    <tr>\n",
       "      <th>30</th>\n",
       "      <td>16</td>\n",
       "      <td>322300</td>\n",
       "      <td>361400</td>\n",
       "      <td>39100</td>\n",
       "      <td>1</td>\n",
       "      <td>1</td>\n",
       "      <td>327700</td>\n",
       "    </tr>\n",
       "    <tr>\n",
       "      <th>31</th>\n",
       "      <td>16</td>\n",
       "      <td>409300</td>\n",
       "      <td>505400</td>\n",
       "      <td>96100</td>\n",
       "      <td>1</td>\n",
       "      <td>1</td>\n",
       "      <td>183700</td>\n",
       "    </tr>\n",
       "    <tr>\n",
       "      <th>32</th>\n",
       "      <td>16</td>\n",
       "      <td>538500</td>\n",
       "      <td>640400</td>\n",
       "      <td>101900</td>\n",
       "      <td>1</td>\n",
       "      <td>1</td>\n",
       "      <td>48700</td>\n",
       "    </tr>\n",
       "    <tr>\n",
       "      <th>33</th>\n",
       "      <td>17</td>\n",
       "      <td>85500</td>\n",
       "      <td>124400</td>\n",
       "      <td>38900</td>\n",
       "      <td>1</td>\n",
       "      <td>0</td>\n",
       "      <td>373235</td>\n",
       "    </tr>\n",
       "    <tr>\n",
       "      <th>34</th>\n",
       "      <td>17</td>\n",
       "      <td>421500</td>\n",
       "      <td>436600</td>\n",
       "      <td>15100</td>\n",
       "      <td>1</td>\n",
       "      <td>0</td>\n",
       "      <td>61035</td>\n",
       "    </tr>\n",
       "    <tr>\n",
       "      <th>35</th>\n",
       "      <td>18</td>\n",
       "      <td>388700</td>\n",
       "      <td>556400</td>\n",
       "      <td>167700</td>\n",
       "      <td>1</td>\n",
       "      <td>0</td>\n",
       "      <td>1139243</td>\n",
       "    </tr>\n",
       "    <tr>\n",
       "      <th>36</th>\n",
       "      <td>18</td>\n",
       "      <td>898700</td>\n",
       "      <td>931400</td>\n",
       "      <td>32700</td>\n",
       "      <td>1</td>\n",
       "      <td>0</td>\n",
       "      <td>764243</td>\n",
       "    </tr>\n",
       "    <tr>\n",
       "      <th>37</th>\n",
       "      <td>19</td>\n",
       "      <td>526700</td>\n",
       "      <td>571200</td>\n",
       "      <td>44500</td>\n",
       "      <td>1</td>\n",
       "      <td>0</td>\n",
       "      <td>227182</td>\n",
       "    </tr>\n",
       "    <tr>\n",
       "      <th>38</th>\n",
       "      <td>20</td>\n",
       "      <td>40900</td>\n",
       "      <td>169600</td>\n",
       "      <td>128700</td>\n",
       "      <td>1</td>\n",
       "      <td>0</td>\n",
       "      <td>548214</td>\n",
       "    </tr>\n",
       "    <tr>\n",
       "      <th>39</th>\n",
       "      <td>20</td>\n",
       "      <td>559700</td>\n",
       "      <td>595400</td>\n",
       "      <td>35700</td>\n",
       "      <td>1</td>\n",
       "      <td>0</td>\n",
       "      <td>122414</td>\n",
       "    </tr>\n",
       "    <tr>\n",
       "      <th>40</th>\n",
       "      <td>21</td>\n",
       "      <td>3000</td>\n",
       "      <td>28500</td>\n",
       "      <td>25500</td>\n",
       "      <td>1</td>\n",
       "      <td>1</td>\n",
       "      <td>697500</td>\n",
       "    </tr>\n",
       "    <tr>\n",
       "      <th>41</th>\n",
       "      <td>21</td>\n",
       "      <td>103500</td>\n",
       "      <td>130400</td>\n",
       "      <td>26900</td>\n",
       "      <td>1</td>\n",
       "      <td>1</td>\n",
       "      <td>595600</td>\n",
       "    </tr>\n",
       "    <tr>\n",
       "      <th>42</th>\n",
       "      <td>21</td>\n",
       "      <td>175700</td>\n",
       "      <td>355400</td>\n",
       "      <td>179700</td>\n",
       "      <td>1</td>\n",
       "      <td>1</td>\n",
       "      <td>370600</td>\n",
       "    </tr>\n",
       "    <tr>\n",
       "      <th>43</th>\n",
       "      <td>21</td>\n",
       "      <td>388500</td>\n",
       "      <td>418400</td>\n",
       "      <td>29900</td>\n",
       "      <td>1</td>\n",
       "      <td>1</td>\n",
       "      <td>307600</td>\n",
       "    </tr>\n",
       "    <tr>\n",
       "      <th>44</th>\n",
       "      <td>21</td>\n",
       "      <td>565700</td>\n",
       "      <td>628600</td>\n",
       "      <td>62900</td>\n",
       "      <td>1</td>\n",
       "      <td>1</td>\n",
       "      <td>97400</td>\n",
       "    </tr>\n",
       "  </tbody>\n",
       "</table>\n",
       "</div>"
      ],
      "text/plain": [
       "    expIdxs  startIdx  stopIdx  durations  conclusive_winner  \\\n",
       "0         0    385500   427400      41900                  1   \n",
       "1         0    583500   610400      26900                  1   \n",
       "2         0    643500   805400     161900                  1   \n",
       "3         1    274500   301400      26900                  1   \n",
       "4         1    385700   409400      23700                  1   \n",
       "5         1    493700   655400     161700                  1   \n",
       "6         1    700700   718600      17900                  1   \n",
       "7         2     31500   175400     143900                  1   \n",
       "8         2    301300   319600      18300                  1   \n",
       "9         3    331300   436400     105100                  1   \n",
       "10        4    286500   391400     104900                  0   \n",
       "11        5    448500   559400     110900                  1   \n",
       "12        6    217700   250400      32700                  1   \n",
       "13        7     91500   127400      35900                  1   \n",
       "14        7    505500   553400      47900                  1   \n",
       "15        8    181500   256200      74700                  1   \n",
       "16        8    274700   334400      59700                  1   \n",
       "17        8    352500   370400      17900                  1   \n",
       "18        9    643500   709200      65700                  0   \n",
       "19       10     19700    79400      59700                  1   \n",
       "20       11    214900   280400      65500                  1   \n",
       "21       12    142500   226400      83900                  1   \n",
       "22       12    262500   343400      80900                  1   \n",
       "23       12    358500   385400      26900                  1   \n",
       "24       13    694500   745600      51100                  1   \n",
       "25       14      7700    61800      54100                  1   \n",
       "26       15     13500   184400     170900                  1   \n",
       "27       15    490500   514600      24100                  1   \n",
       "28       16     91500   151400      59900                  1   \n",
       "29       16    205500   283400      77900                  1   \n",
       "30       16    322300   361400      39100                  1   \n",
       "31       16    409300   505400      96100                  1   \n",
       "32       16    538500   640400     101900                  1   \n",
       "33       17     85500   124400      38900                  1   \n",
       "34       17    421500   436600      15100                  1   \n",
       "35       18    388700   556400     167700                  1   \n",
       "36       18    898700   931400      32700                  1   \n",
       "37       19    526700   571200      44500                  1   \n",
       "38       20     40900   169600     128700                  1   \n",
       "39       20    559700   595400      35700                  1   \n",
       "40       21      3000    28500      25500                  1   \n",
       "41       21    103500   130400      26900                  1   \n",
       "42       21    175700   355400     179700                  1   \n",
       "43       21    388500   418400      29900                  1   \n",
       "44       21    565700   628600      62900                  1   \n",
       "\n",
       "    existing_dominance  frames_post_bout  \n",
       "0                    0            544356  \n",
       "1                    0            361356  \n",
       "2                    0            166356  \n",
       "3                    0            468448  \n",
       "4                    0            360448  \n",
       "5                    0            114448  \n",
       "6                    0             51248  \n",
       "7                    0            326543  \n",
       "8                    0            182343  \n",
       "9                    0             80600  \n",
       "10                   0             72597  \n",
       "11                   0            170719  \n",
       "12                   0            245210  \n",
       "13                   0            473826  \n",
       "14                   0             47826  \n",
       "15                   0            281680  \n",
       "16                   0            203480  \n",
       "17                   0            167480  \n",
       "18                   0            323153  \n",
       "19                   0            481610  \n",
       "20                   0            276028  \n",
       "21                   0            520034  \n",
       "22                   0            403034  \n",
       "23                   0            361034  \n",
       "24                   0            502977  \n",
       "25                   0            534807  \n",
       "26                   0            404562  \n",
       "27                   0             74362  \n",
       "28                   1            537700  \n",
       "29                   1            405700  \n",
       "30                   1            327700  \n",
       "31                   1            183700  \n",
       "32                   1             48700  \n",
       "33                   0            373235  \n",
       "34                   0             61035  \n",
       "35                   0           1139243  \n",
       "36                   0            764243  \n",
       "37                   0            227182  \n",
       "38                   0            548214  \n",
       "39                   0            122414  \n",
       "40                   1            697500  \n",
       "41                   1            595600  \n",
       "42                   1            370600  \n",
       "43                   1            307600  \n",
       "44                   1             97400  "
      ]
     },
     "execution_count": 115,
     "metadata": {},
     "output_type": "execute_result"
    }
   ],
   "source": [
    "fight_bout_df"
   ]
  },
  {
   "cell_type": "code",
   "execution_count": null,
   "id": "f4b1ff23-96b4-4a31-80c7-65efb37272a8",
   "metadata": {},
   "outputs": [],
   "source": []
  },
  {
   "cell_type": "code",
   "execution_count": null,
   "id": "2fd36f54-f4fa-40b9-8edb-1f5f5f876429",
   "metadata": {},
   "outputs": [],
   "source": []
  },
  {
   "cell_type": "code",
   "execution_count": null,
   "id": "44754fde-e1ff-46e5-bf05-148e01917463",
   "metadata": {},
   "outputs": [],
   "source": []
  },
  {
   "cell_type": "code",
   "execution_count": null,
   "id": "673337de-8d4e-4eab-9cc3-f546378237f4",
   "metadata": {},
   "outputs": [],
   "source": []
  },
  {
   "cell_type": "code",
   "execution_count": null,
   "id": "abb86b60-8e68-4ff8-820c-6659d012c468",
   "metadata": {},
   "outputs": [],
   "source": []
  },
  {
   "cell_type": "markdown",
   "id": "4d75c172-ed2c-42df-818c-c8cd504b9e68",
   "metadata": {},
   "source": [
    "## figure 7 boundaries"
   ]
  },
  {
   "cell_type": "markdown",
   "id": "933ac483-d448-4f67-93f6-3f332b8ce215",
   "metadata": {},
   "source": [
    "For figure 7, we don't want to use all of the detected fight-bouts. <br>\n",
    "We want to exclude,  <br>\n",
    "(1) the two experiments that did not end conclusively.  <br>\n",
    "(2) the two experiments that had the dominance relationship already strongley established.  <br>\n",
    "(3) bouts that are shorter than 7 mins (to avoid the starts and ends of bouts overlapping in figure 7). <br>"
   ]
  },
  {
   "cell_type": "code",
   "execution_count": null,
   "id": "529b77c4-9fba-4523-836b-e24f8bb66f34",
   "metadata": {},
   "outputs": [],
   "source": []
  },
  {
   "cell_type": "code",
   "execution_count": 132,
   "id": "56395fbb-7583-49de-9529-827f062bfb97",
   "metadata": {},
   "outputs": [],
   "source": [
    "# ---------    Apply criteria to fight bouts  ----------------------------------------#\n",
    "# make a version of the fight-bout dataframe for triggering on starts/stops\n",
    "\n",
    "# 7 mins, for 2 three-minute segments wihoutout overlap, plus 6000 frames (i.e. 2 30sec frame segments for window overlap past 3 mins)\n",
    "duration_thresh = 36000 + 6000  \n",
    "\n",
    "# selecting rows based on ending with clear winner/loser, and longer than frame gap\n",
    "fight_bout_df_for_fight_triggers = fight_bout_df.loc[(fight_bout_df['conclusive_winner'] == 1) &\n",
    "                                                          (fight_bout_df['existing_dominance'] == 0) &\n",
    "                                                          (fight_bout_df['durations'] >= (duration_thresh))\n",
    "                                                         ]"
   ]
  },
  {
   "cell_type": "code",
   "execution_count": 128,
   "id": "e7c45c02-6db9-4b04-84ae-a5feed40893d",
   "metadata": {},
   "outputs": [
    {
     "data": {
      "text/html": [
       "<div>\n",
       "<style scoped>\n",
       "    .dataframe tbody tr th:only-of-type {\n",
       "        vertical-align: middle;\n",
       "    }\n",
       "\n",
       "    .dataframe tbody tr th {\n",
       "        vertical-align: top;\n",
       "    }\n",
       "\n",
       "    .dataframe thead th {\n",
       "        text-align: right;\n",
       "    }\n",
       "</style>\n",
       "<table border=\"1\" class=\"dataframe\">\n",
       "  <thead>\n",
       "    <tr style=\"text-align: right;\">\n",
       "      <th></th>\n",
       "      <th>expIdxs</th>\n",
       "      <th>startIdx</th>\n",
       "      <th>stopIdx</th>\n",
       "      <th>durations</th>\n",
       "      <th>conclusive_winner</th>\n",
       "      <th>existing_dominance</th>\n",
       "      <th>frames_post_bout</th>\n",
       "    </tr>\n",
       "  </thead>\n",
       "  <tbody>\n",
       "    <tr>\n",
       "      <th>2</th>\n",
       "      <td>0</td>\n",
       "      <td>643500</td>\n",
       "      <td>805400</td>\n",
       "      <td>161900</td>\n",
       "      <td>1</td>\n",
       "      <td>0</td>\n",
       "      <td>166356</td>\n",
       "    </tr>\n",
       "    <tr>\n",
       "      <th>5</th>\n",
       "      <td>1</td>\n",
       "      <td>493700</td>\n",
       "      <td>655400</td>\n",
       "      <td>161700</td>\n",
       "      <td>1</td>\n",
       "      <td>0</td>\n",
       "      <td>114448</td>\n",
       "    </tr>\n",
       "    <tr>\n",
       "      <th>7</th>\n",
       "      <td>2</td>\n",
       "      <td>31500</td>\n",
       "      <td>175400</td>\n",
       "      <td>143900</td>\n",
       "      <td>1</td>\n",
       "      <td>0</td>\n",
       "      <td>326543</td>\n",
       "    </tr>\n",
       "    <tr>\n",
       "      <th>9</th>\n",
       "      <td>3</td>\n",
       "      <td>331300</td>\n",
       "      <td>436400</td>\n",
       "      <td>105100</td>\n",
       "      <td>1</td>\n",
       "      <td>0</td>\n",
       "      <td>80600</td>\n",
       "    </tr>\n",
       "    <tr>\n",
       "      <th>11</th>\n",
       "      <td>5</td>\n",
       "      <td>448500</td>\n",
       "      <td>559400</td>\n",
       "      <td>110900</td>\n",
       "      <td>1</td>\n",
       "      <td>0</td>\n",
       "      <td>170719</td>\n",
       "    </tr>\n",
       "    <tr>\n",
       "      <th>14</th>\n",
       "      <td>7</td>\n",
       "      <td>505500</td>\n",
       "      <td>553400</td>\n",
       "      <td>47900</td>\n",
       "      <td>1</td>\n",
       "      <td>0</td>\n",
       "      <td>47826</td>\n",
       "    </tr>\n",
       "    <tr>\n",
       "      <th>15</th>\n",
       "      <td>8</td>\n",
       "      <td>181500</td>\n",
       "      <td>256200</td>\n",
       "      <td>74700</td>\n",
       "      <td>1</td>\n",
       "      <td>0</td>\n",
       "      <td>281680</td>\n",
       "    </tr>\n",
       "    <tr>\n",
       "      <th>16</th>\n",
       "      <td>8</td>\n",
       "      <td>274700</td>\n",
       "      <td>334400</td>\n",
       "      <td>59700</td>\n",
       "      <td>1</td>\n",
       "      <td>0</td>\n",
       "      <td>203480</td>\n",
       "    </tr>\n",
       "    <tr>\n",
       "      <th>19</th>\n",
       "      <td>10</td>\n",
       "      <td>19700</td>\n",
       "      <td>79400</td>\n",
       "      <td>59700</td>\n",
       "      <td>1</td>\n",
       "      <td>0</td>\n",
       "      <td>481610</td>\n",
       "    </tr>\n",
       "    <tr>\n",
       "      <th>20</th>\n",
       "      <td>11</td>\n",
       "      <td>214900</td>\n",
       "      <td>280400</td>\n",
       "      <td>65500</td>\n",
       "      <td>1</td>\n",
       "      <td>0</td>\n",
       "      <td>276028</td>\n",
       "    </tr>\n",
       "    <tr>\n",
       "      <th>21</th>\n",
       "      <td>12</td>\n",
       "      <td>142500</td>\n",
       "      <td>226400</td>\n",
       "      <td>83900</td>\n",
       "      <td>1</td>\n",
       "      <td>0</td>\n",
       "      <td>520034</td>\n",
       "    </tr>\n",
       "    <tr>\n",
       "      <th>22</th>\n",
       "      <td>12</td>\n",
       "      <td>262500</td>\n",
       "      <td>343400</td>\n",
       "      <td>80900</td>\n",
       "      <td>1</td>\n",
       "      <td>0</td>\n",
       "      <td>403034</td>\n",
       "    </tr>\n",
       "    <tr>\n",
       "      <th>24</th>\n",
       "      <td>13</td>\n",
       "      <td>694500</td>\n",
       "      <td>745600</td>\n",
       "      <td>51100</td>\n",
       "      <td>1</td>\n",
       "      <td>0</td>\n",
       "      <td>502977</td>\n",
       "    </tr>\n",
       "    <tr>\n",
       "      <th>25</th>\n",
       "      <td>14</td>\n",
       "      <td>7700</td>\n",
       "      <td>61800</td>\n",
       "      <td>54100</td>\n",
       "      <td>1</td>\n",
       "      <td>0</td>\n",
       "      <td>534807</td>\n",
       "    </tr>\n",
       "    <tr>\n",
       "      <th>26</th>\n",
       "      <td>15</td>\n",
       "      <td>13500</td>\n",
       "      <td>184400</td>\n",
       "      <td>170900</td>\n",
       "      <td>1</td>\n",
       "      <td>0</td>\n",
       "      <td>404562</td>\n",
       "    </tr>\n",
       "    <tr>\n",
       "      <th>35</th>\n",
       "      <td>18</td>\n",
       "      <td>388700</td>\n",
       "      <td>556400</td>\n",
       "      <td>167700</td>\n",
       "      <td>1</td>\n",
       "      <td>0</td>\n",
       "      <td>1139243</td>\n",
       "    </tr>\n",
       "    <tr>\n",
       "      <th>37</th>\n",
       "      <td>19</td>\n",
       "      <td>526700</td>\n",
       "      <td>571200</td>\n",
       "      <td>44500</td>\n",
       "      <td>1</td>\n",
       "      <td>0</td>\n",
       "      <td>227182</td>\n",
       "    </tr>\n",
       "    <tr>\n",
       "      <th>38</th>\n",
       "      <td>20</td>\n",
       "      <td>40900</td>\n",
       "      <td>169600</td>\n",
       "      <td>128700</td>\n",
       "      <td>1</td>\n",
       "      <td>0</td>\n",
       "      <td>548214</td>\n",
       "    </tr>\n",
       "  </tbody>\n",
       "</table>\n",
       "</div>"
      ],
      "text/plain": [
       "    expIdxs  startIdx  stopIdx  durations  conclusive_winner  \\\n",
       "2         0    643500   805400     161900                  1   \n",
       "5         1    493700   655400     161700                  1   \n",
       "7         2     31500   175400     143900                  1   \n",
       "9         3    331300   436400     105100                  1   \n",
       "11        5    448500   559400     110900                  1   \n",
       "14        7    505500   553400      47900                  1   \n",
       "15        8    181500   256200      74700                  1   \n",
       "16        8    274700   334400      59700                  1   \n",
       "19       10     19700    79400      59700                  1   \n",
       "20       11    214900   280400      65500                  1   \n",
       "21       12    142500   226400      83900                  1   \n",
       "22       12    262500   343400      80900                  1   \n",
       "24       13    694500   745600      51100                  1   \n",
       "25       14      7700    61800      54100                  1   \n",
       "26       15     13500   184400     170900                  1   \n",
       "35       18    388700   556400     167700                  1   \n",
       "37       19    526700   571200      44500                  1   \n",
       "38       20     40900   169600     128700                  1   \n",
       "\n",
       "    existing_dominance  frames_post_bout  \n",
       "2                    0            166356  \n",
       "5                    0            114448  \n",
       "7                    0            326543  \n",
       "9                    0             80600  \n",
       "11                   0            170719  \n",
       "14                   0             47826  \n",
       "15                   0            281680  \n",
       "16                   0            203480  \n",
       "19                   0            481610  \n",
       "20                   0            276028  \n",
       "21                   0            520034  \n",
       "22                   0            403034  \n",
       "24                   0            502977  \n",
       "25                   0            534807  \n",
       "26                   0            404562  \n",
       "35                   0           1139243  \n",
       "37                   0            227182  \n",
       "38                   0            548214  "
      ]
     },
     "execution_count": 128,
     "metadata": {},
     "output_type": "execute_result"
    }
   ],
   "source": [
    "fight_bout_df_for_fight_triggers"
   ]
  },
  {
   "cell_type": "code",
   "execution_count": null,
   "id": "1a065b66-8730-47b9-8dfb-fccfd0e5a3c1",
   "metadata": {},
   "outputs": [],
   "source": []
  },
  {
   "cell_type": "code",
   "execution_count": null,
   "id": "513c4870-e7ec-44df-866d-f25a06b94300",
   "metadata": {},
   "outputs": [],
   "source": []
  },
  {
   "cell_type": "code",
   "execution_count": 119,
   "id": "e1d4e1f0-813a-4dd4-a59d-24e1408d7ebe",
   "metadata": {},
   "outputs": [
    {
     "data": {
      "text/plain": [
       "array([[     0, 643500, 805400, 161900],\n",
       "       [     1, 493700, 655400, 161700],\n",
       "       [     2,  31500, 175400, 143900],\n",
       "       [     3, 331300, 436400, 105100],\n",
       "       [     5, 448500, 559400, 110900],\n",
       "       [     7, 505500, 553400,  47900],\n",
       "       [     8, 181500, 256200,  74700],\n",
       "       [     8, 274700, 334400,  59700],\n",
       "       [    10,  19700,  79400,  59700],\n",
       "       [    11, 214900, 280400,  65500],\n",
       "       [    12, 142500, 226400,  83900],\n",
       "       [    12, 262500, 343400,  80900],\n",
       "       [    13, 694500, 745600,  51100],\n",
       "       [    14,   7700,  61800,  54100],\n",
       "       [    15,  13500, 184400, 170900],\n",
       "       [    18, 388700, 556400, 167700],\n",
       "       [    19, 526700, 571200,  44500],\n",
       "       [    20,  40900, 169600, 128700]])"
      ]
     },
     "execution_count": 119,
     "metadata": {},
     "output_type": "execute_result"
    }
   ],
   "source": [
    "fight_bout_info = fight_bout_df_for_fight_end_triggered[['expIdxs', 'startIdx', 'stopIdx', 'durations']].values\n",
    "fight_bout_info"
   ]
  },
  {
   "cell_type": "code",
   "execution_count": null,
   "id": "16d65570-9502-4899-9be4-150a10bf107c",
   "metadata": {},
   "outputs": [],
   "source": []
  },
  {
   "cell_type": "code",
   "execution_count": 121,
   "id": "fc59ffcc-5b68-418a-a2c1-3661ce216d03",
   "metadata": {},
   "outputs": [
    {
     "data": {
      "text/plain": [
       "(18, 4)"
      ]
     },
     "execution_count": 121,
     "metadata": {},
     "output_type": "execute_result"
    }
   ],
   "source": [
    "fight_bout_info.shape"
   ]
  },
  {
   "cell_type": "code",
   "execution_count": null,
   "id": "573ae5f1-a38a-4b57-9d7b-1a09b7ac1a25",
   "metadata": {},
   "outputs": [],
   "source": []
  },
  {
   "cell_type": "markdown",
   "id": "5a0b583a-88bc-4c1d-9a38-54c5d77f87a0",
   "metadata": {},
   "source": [
    "There are 4 experiments with multilple fight-bouts in this set. <br>\n",
    "expIdx=8,12 <br>\n",
    "<br>\n",
    "We want to make sure that none are closer than 3 mins (18,000 frames)"
   ]
  },
  {
   "cell_type": "code",
   "execution_count": null,
   "id": "8476a86b-8aad-42a8-875f-a6eca05e1e84",
   "metadata": {},
   "outputs": [],
   "source": []
  },
  {
   "cell_type": "code",
   "execution_count": 122,
   "id": "9f971bea-aba4-454b-8fe3-edd965e2f0cf",
   "metadata": {},
   "outputs": [
    {
     "name": "stdout",
     "output_type": "stream",
     "text": [
      "FishTank20200218_153008\n"
     ]
    },
    {
     "data": {
      "text/plain": [
       "array([[     8, 181500, 256200,  74700],\n",
       "       [     8, 274700, 334400,  59700]])"
      ]
     },
     "execution_count": 122,
     "metadata": {},
     "output_type": "execute_result"
    }
   ],
   "source": [
    "# check how close fight-bouts are to each other\n",
    "print(expNames[8])\n",
    "fight_bout_info[fight_bout_info[:,0]==8]"
   ]
  },
  {
   "cell_type": "code",
   "execution_count": 123,
   "id": "edfdc1c7-944e-476d-8429-729b5048034c",
   "metadata": {},
   "outputs": [
    {
     "data": {
      "text/plain": [
       "18500"
      ]
     },
     "execution_count": 123,
     "metadata": {},
     "output_type": "execute_result"
    }
   ],
   "source": [
    "274700 - 256200"
   ]
  },
  {
   "cell_type": "code",
   "execution_count": null,
   "id": "3ed52e98-7ef5-41af-a4c0-2d6fb09a88fc",
   "metadata": {},
   "outputs": [],
   "source": []
  },
  {
   "cell_type": "code",
   "execution_count": null,
   "id": "eb99e634-291d-4975-8c0f-f4a0da58d89d",
   "metadata": {},
   "outputs": [],
   "source": []
  },
  {
   "cell_type": "code",
   "execution_count": 124,
   "id": "4dce12f4-dca2-4db5-988a-e79e6689f547",
   "metadata": {},
   "outputs": [
    {
     "name": "stdout",
     "output_type": "stream",
     "text": [
      "FishTank20200331_162136\n"
     ]
    },
    {
     "data": {
      "text/plain": [
       "array([[    12, 142500, 226400,  83900],\n",
       "       [    12, 262500, 343400,  80900]])"
      ]
     },
     "execution_count": 124,
     "metadata": {},
     "output_type": "execute_result"
    }
   ],
   "source": [
    "# check how close fight-bouts are to each other\n",
    "print(expNames[12])\n",
    "fight_bout_info[fight_bout_info[:,0]==12]"
   ]
  },
  {
   "cell_type": "code",
   "execution_count": 125,
   "id": "3883b3c3-de63-410e-bd12-d3f37a6c78ed",
   "metadata": {},
   "outputs": [
    {
     "data": {
      "text/plain": [
       "36100"
      ]
     },
     "execution_count": 125,
     "metadata": {},
     "output_type": "execute_result"
    }
   ],
   "source": [
    "262500 - 226400"
   ]
  },
  {
   "cell_type": "code",
   "execution_count": null,
   "id": "a16b65e2-4e01-47b1-b79b-b0346f0043b3",
   "metadata": {},
   "outputs": [],
   "source": []
  },
  {
   "cell_type": "code",
   "execution_count": 130,
   "id": "9d60d36d-7d49-4a38-9d12-f992adb2b460",
   "metadata": {},
   "outputs": [
    {
     "data": {
      "text/plain": [
       "(18, 4)"
      ]
     },
     "execution_count": 130,
     "metadata": {},
     "output_type": "execute_result"
    }
   ],
   "source": [
    "fight_bout_info.shape"
   ]
  },
  {
   "cell_type": "code",
   "execution_count": 129,
   "id": "4f4e5986-8dc0-4313-aff5-ccd2bcd588de",
   "metadata": {},
   "outputs": [
    {
     "data": {
      "text/plain": [
       "array([[     0, 643500, 805400, 161900],\n",
       "       [     1, 493700, 655400, 161700],\n",
       "       [     2,  31500, 175400, 143900],\n",
       "       [     3, 331300, 436400, 105100],\n",
       "       [     5, 448500, 559400, 110900],\n",
       "       [     7, 505500, 553400,  47900],\n",
       "       [     8, 181500, 256200,  74700],\n",
       "       [     8, 274700, 334400,  59700],\n",
       "       [    10,  19700,  79400,  59700],\n",
       "       [    11, 214900, 280400,  65500],\n",
       "       [    12, 142500, 226400,  83900],\n",
       "       [    12, 262500, 343400,  80900],\n",
       "       [    13, 694500, 745600,  51100],\n",
       "       [    14,   7700,  61800,  54100],\n",
       "       [    15,  13500, 184400, 170900],\n",
       "       [    18, 388700, 556400, 167700],\n",
       "       [    19, 526700, 571200,  44500],\n",
       "       [    20,  40900, 169600, 128700]])"
      ]
     },
     "execution_count": 129,
     "metadata": {},
     "output_type": "execute_result"
    }
   ],
   "source": [
    "fight_bout_info"
   ]
  },
  {
   "cell_type": "code",
   "execution_count": null,
   "id": "bb8f10a8-a290-4edc-85b0-2169b480ac4a",
   "metadata": {},
   "outputs": [],
   "source": []
  },
  {
   "cell_type": "code",
   "execution_count": 131,
   "id": "959497a4-7798-4c85-bd5f-109abf35a478",
   "metadata": {},
   "outputs": [],
   "source": [
    "# save\n",
    "with h5py.File(fightBouts_info_path, 'a') as hf:\n",
    "    hf.create_dataset('fight_bout_info', data=fight_bout_info)"
   ]
  },
  {
   "cell_type": "code",
   "execution_count": null,
   "id": "ed731f66-33f7-4e54-a434-73ad2fc0fded",
   "metadata": {},
   "outputs": [],
   "source": []
  },
  {
   "cell_type": "code",
   "execution_count": null,
   "id": "4fbaf31e-bb2d-4537-a0d9-4e45e3969ae3",
   "metadata": {},
   "outputs": [],
   "source": []
  },
  {
   "cell_type": "markdown",
   "id": "a2a99c3a-2c62-47ed-a0d0-cee83ab219d8",
   "metadata": {},
   "source": [
    "## create a version of fight_bout_info without the size threshold"
   ]
  },
  {
   "cell_type": "code",
   "execution_count": null,
   "id": "f651e0af-e8e7-4a4d-a242-d47c86b786dc",
   "metadata": {},
   "outputs": [],
   "source": []
  },
  {
   "cell_type": "code",
   "execution_count": 133,
   "id": "41b568af-84cf-4ced-a306-91ff0a24a0dc",
   "metadata": {},
   "outputs": [
    {
     "data": {
      "text/html": [
       "<div>\n",
       "<style scoped>\n",
       "    .dataframe tbody tr th:only-of-type {\n",
       "        vertical-align: middle;\n",
       "    }\n",
       "\n",
       "    .dataframe tbody tr th {\n",
       "        vertical-align: top;\n",
       "    }\n",
       "\n",
       "    .dataframe thead th {\n",
       "        text-align: right;\n",
       "    }\n",
       "</style>\n",
       "<table border=\"1\" class=\"dataframe\">\n",
       "  <thead>\n",
       "    <tr style=\"text-align: right;\">\n",
       "      <th></th>\n",
       "      <th>expIdxs</th>\n",
       "      <th>startIdx</th>\n",
       "      <th>stopIdx</th>\n",
       "      <th>durations</th>\n",
       "      <th>conclusive_winner</th>\n",
       "      <th>existing_dominance</th>\n",
       "      <th>frames_post_bout</th>\n",
       "    </tr>\n",
       "  </thead>\n",
       "  <tbody>\n",
       "    <tr>\n",
       "      <th>0</th>\n",
       "      <td>0</td>\n",
       "      <td>385500</td>\n",
       "      <td>427400</td>\n",
       "      <td>41900</td>\n",
       "      <td>1</td>\n",
       "      <td>0</td>\n",
       "      <td>544356</td>\n",
       "    </tr>\n",
       "    <tr>\n",
       "      <th>1</th>\n",
       "      <td>0</td>\n",
       "      <td>583500</td>\n",
       "      <td>610400</td>\n",
       "      <td>26900</td>\n",
       "      <td>1</td>\n",
       "      <td>0</td>\n",
       "      <td>361356</td>\n",
       "    </tr>\n",
       "    <tr>\n",
       "      <th>2</th>\n",
       "      <td>0</td>\n",
       "      <td>643500</td>\n",
       "      <td>805400</td>\n",
       "      <td>161900</td>\n",
       "      <td>1</td>\n",
       "      <td>0</td>\n",
       "      <td>166356</td>\n",
       "    </tr>\n",
       "    <tr>\n",
       "      <th>3</th>\n",
       "      <td>1</td>\n",
       "      <td>274500</td>\n",
       "      <td>301400</td>\n",
       "      <td>26900</td>\n",
       "      <td>1</td>\n",
       "      <td>0</td>\n",
       "      <td>468448</td>\n",
       "    </tr>\n",
       "    <tr>\n",
       "      <th>4</th>\n",
       "      <td>1</td>\n",
       "      <td>385700</td>\n",
       "      <td>409400</td>\n",
       "      <td>23700</td>\n",
       "      <td>1</td>\n",
       "      <td>0</td>\n",
       "      <td>360448</td>\n",
       "    </tr>\n",
       "    <tr>\n",
       "      <th>5</th>\n",
       "      <td>1</td>\n",
       "      <td>493700</td>\n",
       "      <td>655400</td>\n",
       "      <td>161700</td>\n",
       "      <td>1</td>\n",
       "      <td>0</td>\n",
       "      <td>114448</td>\n",
       "    </tr>\n",
       "    <tr>\n",
       "      <th>6</th>\n",
       "      <td>1</td>\n",
       "      <td>700700</td>\n",
       "      <td>718600</td>\n",
       "      <td>17900</td>\n",
       "      <td>1</td>\n",
       "      <td>0</td>\n",
       "      <td>51248</td>\n",
       "    </tr>\n",
       "    <tr>\n",
       "      <th>7</th>\n",
       "      <td>2</td>\n",
       "      <td>31500</td>\n",
       "      <td>175400</td>\n",
       "      <td>143900</td>\n",
       "      <td>1</td>\n",
       "      <td>0</td>\n",
       "      <td>326543</td>\n",
       "    </tr>\n",
       "    <tr>\n",
       "      <th>8</th>\n",
       "      <td>2</td>\n",
       "      <td>301300</td>\n",
       "      <td>319600</td>\n",
       "      <td>18300</td>\n",
       "      <td>1</td>\n",
       "      <td>0</td>\n",
       "      <td>182343</td>\n",
       "    </tr>\n",
       "    <tr>\n",
       "      <th>9</th>\n",
       "      <td>3</td>\n",
       "      <td>331300</td>\n",
       "      <td>436400</td>\n",
       "      <td>105100</td>\n",
       "      <td>1</td>\n",
       "      <td>0</td>\n",
       "      <td>80600</td>\n",
       "    </tr>\n",
       "    <tr>\n",
       "      <th>11</th>\n",
       "      <td>5</td>\n",
       "      <td>448500</td>\n",
       "      <td>559400</td>\n",
       "      <td>110900</td>\n",
       "      <td>1</td>\n",
       "      <td>0</td>\n",
       "      <td>170719</td>\n",
       "    </tr>\n",
       "    <tr>\n",
       "      <th>12</th>\n",
       "      <td>6</td>\n",
       "      <td>217700</td>\n",
       "      <td>250400</td>\n",
       "      <td>32700</td>\n",
       "      <td>1</td>\n",
       "      <td>0</td>\n",
       "      <td>245210</td>\n",
       "    </tr>\n",
       "    <tr>\n",
       "      <th>13</th>\n",
       "      <td>7</td>\n",
       "      <td>91500</td>\n",
       "      <td>127400</td>\n",
       "      <td>35900</td>\n",
       "      <td>1</td>\n",
       "      <td>0</td>\n",
       "      <td>473826</td>\n",
       "    </tr>\n",
       "    <tr>\n",
       "      <th>14</th>\n",
       "      <td>7</td>\n",
       "      <td>505500</td>\n",
       "      <td>553400</td>\n",
       "      <td>47900</td>\n",
       "      <td>1</td>\n",
       "      <td>0</td>\n",
       "      <td>47826</td>\n",
       "    </tr>\n",
       "    <tr>\n",
       "      <th>15</th>\n",
       "      <td>8</td>\n",
       "      <td>181500</td>\n",
       "      <td>256200</td>\n",
       "      <td>74700</td>\n",
       "      <td>1</td>\n",
       "      <td>0</td>\n",
       "      <td>281680</td>\n",
       "    </tr>\n",
       "    <tr>\n",
       "      <th>16</th>\n",
       "      <td>8</td>\n",
       "      <td>274700</td>\n",
       "      <td>334400</td>\n",
       "      <td>59700</td>\n",
       "      <td>1</td>\n",
       "      <td>0</td>\n",
       "      <td>203480</td>\n",
       "    </tr>\n",
       "    <tr>\n",
       "      <th>17</th>\n",
       "      <td>8</td>\n",
       "      <td>352500</td>\n",
       "      <td>370400</td>\n",
       "      <td>17900</td>\n",
       "      <td>1</td>\n",
       "      <td>0</td>\n",
       "      <td>167480</td>\n",
       "    </tr>\n",
       "    <tr>\n",
       "      <th>19</th>\n",
       "      <td>10</td>\n",
       "      <td>19700</td>\n",
       "      <td>79400</td>\n",
       "      <td>59700</td>\n",
       "      <td>1</td>\n",
       "      <td>0</td>\n",
       "      <td>481610</td>\n",
       "    </tr>\n",
       "    <tr>\n",
       "      <th>20</th>\n",
       "      <td>11</td>\n",
       "      <td>214900</td>\n",
       "      <td>280400</td>\n",
       "      <td>65500</td>\n",
       "      <td>1</td>\n",
       "      <td>0</td>\n",
       "      <td>276028</td>\n",
       "    </tr>\n",
       "    <tr>\n",
       "      <th>21</th>\n",
       "      <td>12</td>\n",
       "      <td>142500</td>\n",
       "      <td>226400</td>\n",
       "      <td>83900</td>\n",
       "      <td>1</td>\n",
       "      <td>0</td>\n",
       "      <td>520034</td>\n",
       "    </tr>\n",
       "    <tr>\n",
       "      <th>22</th>\n",
       "      <td>12</td>\n",
       "      <td>262500</td>\n",
       "      <td>343400</td>\n",
       "      <td>80900</td>\n",
       "      <td>1</td>\n",
       "      <td>0</td>\n",
       "      <td>403034</td>\n",
       "    </tr>\n",
       "    <tr>\n",
       "      <th>23</th>\n",
       "      <td>12</td>\n",
       "      <td>358500</td>\n",
       "      <td>385400</td>\n",
       "      <td>26900</td>\n",
       "      <td>1</td>\n",
       "      <td>0</td>\n",
       "      <td>361034</td>\n",
       "    </tr>\n",
       "    <tr>\n",
       "      <th>24</th>\n",
       "      <td>13</td>\n",
       "      <td>694500</td>\n",
       "      <td>745600</td>\n",
       "      <td>51100</td>\n",
       "      <td>1</td>\n",
       "      <td>0</td>\n",
       "      <td>502977</td>\n",
       "    </tr>\n",
       "    <tr>\n",
       "      <th>25</th>\n",
       "      <td>14</td>\n",
       "      <td>7700</td>\n",
       "      <td>61800</td>\n",
       "      <td>54100</td>\n",
       "      <td>1</td>\n",
       "      <td>0</td>\n",
       "      <td>534807</td>\n",
       "    </tr>\n",
       "    <tr>\n",
       "      <th>26</th>\n",
       "      <td>15</td>\n",
       "      <td>13500</td>\n",
       "      <td>184400</td>\n",
       "      <td>170900</td>\n",
       "      <td>1</td>\n",
       "      <td>0</td>\n",
       "      <td>404562</td>\n",
       "    </tr>\n",
       "    <tr>\n",
       "      <th>27</th>\n",
       "      <td>15</td>\n",
       "      <td>490500</td>\n",
       "      <td>514600</td>\n",
       "      <td>24100</td>\n",
       "      <td>1</td>\n",
       "      <td>0</td>\n",
       "      <td>74362</td>\n",
       "    </tr>\n",
       "    <tr>\n",
       "      <th>33</th>\n",
       "      <td>17</td>\n",
       "      <td>85500</td>\n",
       "      <td>124400</td>\n",
       "      <td>38900</td>\n",
       "      <td>1</td>\n",
       "      <td>0</td>\n",
       "      <td>373235</td>\n",
       "    </tr>\n",
       "    <tr>\n",
       "      <th>34</th>\n",
       "      <td>17</td>\n",
       "      <td>421500</td>\n",
       "      <td>436600</td>\n",
       "      <td>15100</td>\n",
       "      <td>1</td>\n",
       "      <td>0</td>\n",
       "      <td>61035</td>\n",
       "    </tr>\n",
       "    <tr>\n",
       "      <th>35</th>\n",
       "      <td>18</td>\n",
       "      <td>388700</td>\n",
       "      <td>556400</td>\n",
       "      <td>167700</td>\n",
       "      <td>1</td>\n",
       "      <td>0</td>\n",
       "      <td>1139243</td>\n",
       "    </tr>\n",
       "    <tr>\n",
       "      <th>36</th>\n",
       "      <td>18</td>\n",
       "      <td>898700</td>\n",
       "      <td>931400</td>\n",
       "      <td>32700</td>\n",
       "      <td>1</td>\n",
       "      <td>0</td>\n",
       "      <td>764243</td>\n",
       "    </tr>\n",
       "    <tr>\n",
       "      <th>37</th>\n",
       "      <td>19</td>\n",
       "      <td>526700</td>\n",
       "      <td>571200</td>\n",
       "      <td>44500</td>\n",
       "      <td>1</td>\n",
       "      <td>0</td>\n",
       "      <td>227182</td>\n",
       "    </tr>\n",
       "    <tr>\n",
       "      <th>38</th>\n",
       "      <td>20</td>\n",
       "      <td>40900</td>\n",
       "      <td>169600</td>\n",
       "      <td>128700</td>\n",
       "      <td>1</td>\n",
       "      <td>0</td>\n",
       "      <td>548214</td>\n",
       "    </tr>\n",
       "    <tr>\n",
       "      <th>39</th>\n",
       "      <td>20</td>\n",
       "      <td>559700</td>\n",
       "      <td>595400</td>\n",
       "      <td>35700</td>\n",
       "      <td>1</td>\n",
       "      <td>0</td>\n",
       "      <td>122414</td>\n",
       "    </tr>\n",
       "  </tbody>\n",
       "</table>\n",
       "</div>"
      ],
      "text/plain": [
       "    expIdxs  startIdx  stopIdx  durations  conclusive_winner  \\\n",
       "0         0    385500   427400      41900                  1   \n",
       "1         0    583500   610400      26900                  1   \n",
       "2         0    643500   805400     161900                  1   \n",
       "3         1    274500   301400      26900                  1   \n",
       "4         1    385700   409400      23700                  1   \n",
       "5         1    493700   655400     161700                  1   \n",
       "6         1    700700   718600      17900                  1   \n",
       "7         2     31500   175400     143900                  1   \n",
       "8         2    301300   319600      18300                  1   \n",
       "9         3    331300   436400     105100                  1   \n",
       "11        5    448500   559400     110900                  1   \n",
       "12        6    217700   250400      32700                  1   \n",
       "13        7     91500   127400      35900                  1   \n",
       "14        7    505500   553400      47900                  1   \n",
       "15        8    181500   256200      74700                  1   \n",
       "16        8    274700   334400      59700                  1   \n",
       "17        8    352500   370400      17900                  1   \n",
       "19       10     19700    79400      59700                  1   \n",
       "20       11    214900   280400      65500                  1   \n",
       "21       12    142500   226400      83900                  1   \n",
       "22       12    262500   343400      80900                  1   \n",
       "23       12    358500   385400      26900                  1   \n",
       "24       13    694500   745600      51100                  1   \n",
       "25       14      7700    61800      54100                  1   \n",
       "26       15     13500   184400     170900                  1   \n",
       "27       15    490500   514600      24100                  1   \n",
       "33       17     85500   124400      38900                  1   \n",
       "34       17    421500   436600      15100                  1   \n",
       "35       18    388700   556400     167700                  1   \n",
       "36       18    898700   931400      32700                  1   \n",
       "37       19    526700   571200      44500                  1   \n",
       "38       20     40900   169600     128700                  1   \n",
       "39       20    559700   595400      35700                  1   \n",
       "\n",
       "    existing_dominance  frames_post_bout  \n",
       "0                    0            544356  \n",
       "1                    0            361356  \n",
       "2                    0            166356  \n",
       "3                    0            468448  \n",
       "4                    0            360448  \n",
       "5                    0            114448  \n",
       "6                    0             51248  \n",
       "7                    0            326543  \n",
       "8                    0            182343  \n",
       "9                    0             80600  \n",
       "11                   0            170719  \n",
       "12                   0            245210  \n",
       "13                   0            473826  \n",
       "14                   0             47826  \n",
       "15                   0            281680  \n",
       "16                   0            203480  \n",
       "17                   0            167480  \n",
       "19                   0            481610  \n",
       "20                   0            276028  \n",
       "21                   0            520034  \n",
       "22                   0            403034  \n",
       "23                   0            361034  \n",
       "24                   0            502977  \n",
       "25                   0            534807  \n",
       "26                   0            404562  \n",
       "27                   0             74362  \n",
       "33                   0            373235  \n",
       "34                   0             61035  \n",
       "35                   0           1139243  \n",
       "36                   0            764243  \n",
       "37                   0            227182  \n",
       "38                   0            548214  \n",
       "39                   0            122414  "
      ]
     },
     "execution_count": 133,
     "metadata": {},
     "output_type": "execute_result"
    }
   ],
   "source": [
    "# selecting rows based on ending with clear winner/loser, and longer than frame gap\n",
    "fight_bout_df_for_fight_triggers_noDurThresh = fight_bout_df.loc[(fight_bout_df['conclusive_winner'] == 1) &\n",
    "                                                                  (fight_bout_df['existing_dominance'] == 0)\n",
    "                                                                 ]\n",
    "\n",
    "fight_bout_df_for_fight_triggers_noDurThresh"
   ]
  },
  {
   "cell_type": "code",
   "execution_count": null,
   "id": "7d12b099-a7c4-4663-9ab4-61a84103714d",
   "metadata": {},
   "outputs": [],
   "source": []
  },
  {
   "cell_type": "code",
   "execution_count": 134,
   "id": "622e7d09-3e52-4b2d-988d-9cb25e905108",
   "metadata": {},
   "outputs": [
    {
     "data": {
      "text/plain": [
       "array([[     0, 385500, 427400,  41900],\n",
       "       [     0, 583500, 610400,  26900],\n",
       "       [     0, 643500, 805400, 161900],\n",
       "       [     1, 274500, 301400,  26900],\n",
       "       [     1, 385700, 409400,  23700],\n",
       "       [     1, 493700, 655400, 161700],\n",
       "       [     1, 700700, 718600,  17900],\n",
       "       [     2,  31500, 175400, 143900],\n",
       "       [     2, 301300, 319600,  18300],\n",
       "       [     3, 331300, 436400, 105100],\n",
       "       [     5, 448500, 559400, 110900],\n",
       "       [     6, 217700, 250400,  32700],\n",
       "       [     7,  91500, 127400,  35900],\n",
       "       [     7, 505500, 553400,  47900],\n",
       "       [     8, 181500, 256200,  74700],\n",
       "       [     8, 274700, 334400,  59700],\n",
       "       [     8, 352500, 370400,  17900],\n",
       "       [    10,  19700,  79400,  59700],\n",
       "       [    11, 214900, 280400,  65500],\n",
       "       [    12, 142500, 226400,  83900],\n",
       "       [    12, 262500, 343400,  80900],\n",
       "       [    12, 358500, 385400,  26900],\n",
       "       [    13, 694500, 745600,  51100],\n",
       "       [    14,   7700,  61800,  54100],\n",
       "       [    15,  13500, 184400, 170900],\n",
       "       [    15, 490500, 514600,  24100],\n",
       "       [    17,  85500, 124400,  38900],\n",
       "       [    17, 421500, 436600,  15100],\n",
       "       [    18, 388700, 556400, 167700],\n",
       "       [    18, 898700, 931400,  32700],\n",
       "       [    19, 526700, 571200,  44500],\n",
       "       [    20,  40900, 169600, 128700],\n",
       "       [    20, 559700, 595400,  35700]])"
      ]
     },
     "execution_count": 134,
     "metadata": {},
     "output_type": "execute_result"
    }
   ],
   "source": [
    "fight_bout_info_noDurThresh = fight_bout_df_for_fight_triggers_noDurThresh[['expIdxs', 'startIdx', 'stopIdx', 'durations']].values\n",
    "fight_bout_info_noDurThresh"
   ]
  },
  {
   "cell_type": "code",
   "execution_count": 135,
   "id": "0f17e8be-b8bd-48b0-b00f-3bc436d8b3f5",
   "metadata": {},
   "outputs": [
    {
     "data": {
      "text/plain": [
       "(33, 4)"
      ]
     },
     "execution_count": 135,
     "metadata": {},
     "output_type": "execute_result"
    }
   ],
   "source": [
    "fight_bout_info_noDurThresh.shape"
   ]
  },
  {
   "cell_type": "code",
   "execution_count": null,
   "id": "40061e5c-01be-4b91-b48d-b0c9220162e9",
   "metadata": {},
   "outputs": [],
   "source": []
  },
  {
   "cell_type": "code",
   "execution_count": 136,
   "id": "428d0128-e7d4-4b0c-b8c8-8b265152426e",
   "metadata": {},
   "outputs": [],
   "source": [
    "# save\n",
    "with h5py.File(fightBouts_info_path, 'a') as hf:\n",
    "    hf.create_dataset('fight_bout_info_noDurThresh', data=fight_bout_info_noDurThresh)"
   ]
  },
  {
   "cell_type": "code",
   "execution_count": null,
   "id": "bb8cd9cb-a511-44c3-a7cc-4b103013e70a",
   "metadata": {},
   "outputs": [],
   "source": []
  },
  {
   "cell_type": "code",
   "execution_count": null,
   "id": "85c59865-9eb9-4226-b51a-165937fad1bb",
   "metadata": {},
   "outputs": [],
   "source": []
  },
  {
   "cell_type": "markdown",
   "id": "ad4d93d0-bf34-47e5-b79c-6acb9a32c26b",
   "metadata": {},
   "source": [
    "# --------------------------------#"
   ]
  },
  {
   "cell_type": "code",
   "execution_count": null,
   "id": "58aaaea7-1d04-4bdb-8ce4-d5ba19397a0d",
   "metadata": {},
   "outputs": [],
   "source": []
  },
  {
   "cell_type": "markdown",
   "id": "4ad6cb62-4c2a-4b5e-84b6-406607b6193b",
   "metadata": {},
   "source": [
    "# Loading the fight-boundaries"
   ]
  },
  {
   "cell_type": "code",
   "execution_count": null,
   "id": "f9a6e8ed-04fb-40cb-b06b-c818427b776a",
   "metadata": {},
   "outputs": [],
   "source": []
  },
  {
   "cell_type": "code",
   "execution_count": 137,
   "id": "24561e5e-dc04-4da1-ac12-458e70b618a2",
   "metadata": {},
   "outputs": [],
   "source": [
    "with h5py.File(fightBouts_info_path, 'r') as hf:\n",
    "    exps_fight_info = hf['exps_fight_info'][:]\n",
    "    refined_exps_fight_info = hf['refined_exps_fight_info'][:]\n",
    "    fight_bout_info = hf['fight_bout_info'][:]\n",
    "    fight_bout_info_noDurThresh = hf['fight_bout_info_noDurThresh'][:]"
   ]
  },
  {
   "cell_type": "code",
   "execution_count": null,
   "id": "7f4cc061-dd4d-4b5d-8e31-9d1a9a5ca838",
   "metadata": {},
   "outputs": [],
   "source": []
  },
  {
   "cell_type": "code",
   "execution_count": 138,
   "id": "61f5ceaf-60ab-417e-ac99-abb3df0b8744",
   "metadata": {},
   "outputs": [
    {
     "data": {
      "text/plain": [
       "(45, 4)"
      ]
     },
     "execution_count": 138,
     "metadata": {},
     "output_type": "execute_result"
    }
   ],
   "source": [
    "# the fight-bouts detected at 30s resolution\n",
    "exps_fight_info.shape"
   ]
  },
  {
   "cell_type": "code",
   "execution_count": 139,
   "id": "8339c2c9-f821-4931-b989-d5adb024cd6c",
   "metadata": {},
   "outputs": [
    {
     "data": {
      "text/plain": [
       "(45, 4)"
      ]
     },
     "execution_count": 139,
     "metadata": {},
     "output_type": "execute_result"
    }
   ],
   "source": [
    "# the fight-bouts detected with refined edges (down to 2s)\n",
    "refined_exps_fight_info.shape"
   ]
  },
  {
   "cell_type": "code",
   "execution_count": 140,
   "id": "2e42d928-8579-4bdf-ab42-72bccd7bb67b",
   "metadata": {},
   "outputs": [
    {
     "data": {
      "text/plain": [
       "(18, 4)"
      ]
     },
     "execution_count": 140,
     "metadata": {},
     "output_type": "execute_result"
    }
   ],
   "source": [
    "# the main set of fight-bouts used in this paper\n",
    "fight_bout_info.shape"
   ]
  },
  {
   "cell_type": "code",
   "execution_count": 141,
   "id": "a6e09b01-42c0-4969-b9aa-bdb3f0c5e8e3",
   "metadata": {},
   "outputs": [
    {
     "data": {
      "text/plain": [
       "(33, 4)"
      ]
     },
     "execution_count": 141,
     "metadata": {},
     "output_type": "execute_result"
    }
   ],
   "source": [
    "# the main set of fight-bouts used in this paper, but without a duration threshold on bouts\n",
    "fight_bout_info_noDurThresh.shape"
   ]
  },
  {
   "cell_type": "code",
   "execution_count": null,
   "id": "78a91846-cdf4-4ddf-ad79-93f49155efca",
   "metadata": {},
   "outputs": [],
   "source": []
  },
  {
   "cell_type": "code",
   "execution_count": null,
   "id": "b50570fb-44e6-49c9-9879-eac39fd44283",
   "metadata": {},
   "outputs": [],
   "source": []
  },
  {
   "cell_type": "markdown",
   "id": "26937563-4025-4c7c-8a2d-fd1ada002a67",
   "metadata": {},
   "source": [
    "# Plot the distribution of fight-bout sizes (SI fig 11)"
   ]
  },
  {
   "cell_type": "markdown",
   "id": "abcdc8b4-38a7-4306-9578-75067d485b93",
   "metadata": {},
   "source": [
    "To plot the distribution of fight-bout sizes, we will use the fight_bout_info_noDurThresh results"
   ]
  },
  {
   "cell_type": "code",
   "execution_count": 142,
   "id": "819830a2-e018-4ba9-891f-f820a8629893",
   "metadata": {},
   "outputs": [
    {
     "data": {
      "text/plain": [
       "array([[     0, 385500, 427400,  41900],\n",
       "       [     0, 583500, 610400,  26900],\n",
       "       [     0, 643500, 805400, 161900],\n",
       "       [     1, 274500, 301400,  26900],\n",
       "       [     1, 385700, 409400,  23700],\n",
       "       [     1, 493700, 655400, 161700],\n",
       "       [     1, 700700, 718600,  17900],\n",
       "       [     2,  31500, 175400, 143900],\n",
       "       [     2, 301300, 319600,  18300],\n",
       "       [     3, 331300, 436400, 105100],\n",
       "       [     5, 448500, 559400, 110900],\n",
       "       [     6, 217700, 250400,  32700],\n",
       "       [     7,  91500, 127400,  35900],\n",
       "       [     7, 505500, 553400,  47900],\n",
       "       [     8, 181500, 256200,  74700],\n",
       "       [     8, 274700, 334400,  59700],\n",
       "       [     8, 352500, 370400,  17900],\n",
       "       [    10,  19700,  79400,  59700],\n",
       "       [    11, 214900, 280400,  65500],\n",
       "       [    12, 142500, 226400,  83900],\n",
       "       [    12, 262500, 343400,  80900],\n",
       "       [    12, 358500, 385400,  26900],\n",
       "       [    13, 694500, 745600,  51100],\n",
       "       [    14,   7700,  61800,  54100],\n",
       "       [    15,  13500, 184400, 170900],\n",
       "       [    15, 490500, 514600,  24100],\n",
       "       [    17,  85500, 124400,  38900],\n",
       "       [    17, 421500, 436600,  15100],\n",
       "       [    18, 388700, 556400, 167700],\n",
       "       [    18, 898700, 931400,  32700],\n",
       "       [    19, 526700, 571200,  44500],\n",
       "       [    20,  40900, 169600, 128700],\n",
       "       [    20, 559700, 595400,  35700]])"
      ]
     },
     "execution_count": 142,
     "metadata": {},
     "output_type": "execute_result"
    }
   ],
   "source": [
    "fight_bout_info_noDurThresh"
   ]
  },
  {
   "cell_type": "code",
   "execution_count": null,
   "id": "52e1a38d-06e8-4b13-adc6-883c515f5353",
   "metadata": {},
   "outputs": [],
   "source": []
  },
  {
   "cell_type": "code",
   "execution_count": 143,
   "id": "172d2b17-00e5-41d8-a701-27b926a59257",
   "metadata": {},
   "outputs": [],
   "source": [
    "durations_frames = fight_bout_info_noDurThresh[:, 3]\n",
    "durations_mins = durations_frames / (6000)"
   ]
  },
  {
   "cell_type": "code",
   "execution_count": 144,
   "id": "bd36174c-a7a5-44df-b497-3df6e1dd4039",
   "metadata": {},
   "outputs": [
    {
     "data": {
      "text/plain": [
       "array([ 6.98333333,  4.48333333, 26.98333333,  4.48333333,  3.95      ,\n",
       "       26.95      ,  2.98333333, 23.98333333,  3.05      , 17.51666667,\n",
       "       18.48333333,  5.45      ,  5.98333333,  7.98333333, 12.45      ,\n",
       "        9.95      ,  2.98333333,  9.95      , 10.91666667, 13.98333333,\n",
       "       13.48333333,  4.48333333,  8.51666667,  9.01666667, 28.48333333,\n",
       "        4.01666667,  6.48333333,  2.51666667, 27.95      ,  5.45      ,\n",
       "        7.41666667, 21.45      ,  5.95      ])"
      ]
     },
     "execution_count": 144,
     "metadata": {},
     "output_type": "execute_result"
    }
   ],
   "source": [
    "durations_mins"
   ]
  },
  {
   "cell_type": "code",
   "execution_count": 145,
   "id": "6078c46b-b920-44ee-aaaf-e309f873529b",
   "metadata": {},
   "outputs": [
    {
     "data": {
      "text/plain": [
       "11.052020202020202"
      ]
     },
     "execution_count": 145,
     "metadata": {},
     "output_type": "execute_result"
    }
   ],
   "source": [
    "np.mean(durations_mins)"
   ]
  },
  {
   "cell_type": "code",
   "execution_count": 146,
   "id": "24cae314-0586-41bc-837c-f58c33042e1a",
   "metadata": {},
   "outputs": [
    {
     "data": {
      "text/plain": [
       "28.483333333333334"
      ]
     },
     "execution_count": 146,
     "metadata": {},
     "output_type": "execute_result"
    }
   ],
   "source": [
    "np.max(durations_mins)"
   ]
  },
  {
   "cell_type": "code",
   "execution_count": null,
   "id": "6047dc88-85c8-4984-89d7-3786dc293afd",
   "metadata": {},
   "outputs": [],
   "source": []
  },
  {
   "cell_type": "code",
   "execution_count": null,
   "id": "326e9c0d-61e0-482c-99a4-1befadba754d",
   "metadata": {},
   "outputs": [],
   "source": []
  },
  {
   "cell_type": "code",
   "execution_count": 158,
   "id": "a1cbe743-0134-4c75-a9a3-28dd63180c15",
   "metadata": {},
   "outputs": [
    {
     "data": {
      "text/plain": [
       "<matplotlib.lines.Line2D at 0x7efc649e02e0>"
      ]
     },
     "execution_count": 158,
     "metadata": {},
     "output_type": "execute_result"
    },
    {
     "data": {
      "application/vnd.jupyter.widget-view+json": {
       "model_id": "7c74f69bf1044465a4cade58bdc1a6d5",
       "version_major": 2,
       "version_minor": 0
      },
      "text/html": [
       "\n",
       "            <div style=\"display: inline-block;\">\n",
       "                <div class=\"jupyter-widgets widget-label\" style=\"text-align: center;\">\n",
       "                    Figure\n",
       "                </div>\n",
       "                <img src='data:image/png;base64,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' width=640.0/>\n",
       "            </div>\n",
       "        "
      ],
      "text/plain": [
       "Canvas(toolbar=Toolbar(toolitems=[('Home', 'Reset original view', 'home', 'home'), ('Back', 'Back to previous …"
      ]
     },
     "metadata": {},
     "output_type": "display_data"
    }
   ],
   "source": [
    "fig, axs = plt.subplots()\n",
    "ax = axs\n",
    "\n",
    "y_tick_max = 5\n",
    "hbins = np.arange(0, 30, 0.5)\n",
    "ax.hist(durations_mins, bins=hbins);\n",
    "ax.set_xlim(0, np.max(hbins))\n",
    "ax.set_ylabel('counts')\n",
    "ax.set_xlabel('fight-bout duration [min]')\n",
    "ax.set_yticks([0, y_tick_max])\n",
    "ax.set_xticks([0,5,10,15,20,25,30])\n",
    "ax.set_ylim([0, y_tick_max])\n",
    "ax.axvline(7, color='black', linestyle='--')  # draw the size threshold line"
   ]
  },
  {
   "cell_type": "code",
   "execution_count": null,
   "id": "c29fe9c9-c993-47c7-8782-ff0270680ca8",
   "metadata": {},
   "outputs": [],
   "source": []
  },
  {
   "cell_type": "code",
   "execution_count": 162,
   "id": "a81de1ee-4888-43a2-885e-bf1c2e3dcb0e",
   "metadata": {},
   "outputs": [
    {
     "data": {
      "application/vnd.jupyter.widget-view+json": {
       "model_id": "e8d14c3ab129427aabf5e119a8ca5c7d",
       "version_major": 2,
       "version_minor": 0
      },
      "text/html": [
       "\n",
       "            <div style=\"display: inline-block;\">\n",
       "                <div class=\"jupyter-widgets widget-label\" style=\"text-align: center;\">\n",
       "                    Figure\n",
       "                </div>\n",
       "                <img src='data:image/png;base64,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' width=400.0/>\n",
       "            </div>\n",
       "        "
      ],
      "text/plain": [
       "Canvas(toolbar=Toolbar(toolitems=[('Home', 'Reset original view', 'home', 'home'), ('Back', 'Back to previous …"
      ]
     },
     "metadata": {},
     "output_type": "display_data"
    }
   ],
   "source": [
    "fig, axs = plt.subplots(figsize=(4,1.6))\n",
    "ax = axs\n",
    "\n",
    "y_tick_max = 5\n",
    "hbins = np.arange(0, 30, 0.5)\n",
    "ax.hist(durations_mins, bins=hbins);\n",
    "ax.set_xlim(0, np.max(hbins))\n",
    "ax.set_ylabel('counts')\n",
    "ax.set_xlabel('fight-bout duration [min]')\n",
    "ax.set_yticks([0, y_tick_max])\n",
    "ax.set_xticks([0,5,7,10,15,20,25,30])\n",
    "ax.set_ylim([0, y_tick_max])\n",
    "ax.axvline(7, color='black', linestyle='--')  # draw the size threshold line\n",
    "# -------------------------------------------#\n",
    "\n",
    "ax.set_xticklabels([])\n",
    "ax.set_yticklabels([])\n",
    "ax.set_xlabel('')\n",
    "ax.set_ylabel('')\n",
    "for axis in ['top','bottom','left','right']:\n",
    "    ax.spines[axis].set_linewidth(1.5)\n",
    "ax.xaxis.set_tick_params(width=1.5, length=4)\n",
    "ax.yaxis.set_tick_params(width=1.5, length=4)\n",
    "ax.grid(alpha=0.2)\n",
    "fig.tight_layout()\n",
    "fig.savefig('/home/liam/temp/image_transfer/SI_fight_bout_durations.png', dpi=300, transparent=True)"
   ]
  },
  {
   "cell_type": "code",
   "execution_count": null,
   "id": "de1a08a5-6df3-4cb8-9fd5-928a4a08052c",
   "metadata": {},
   "outputs": [],
   "source": []
  },
  {
   "cell_type": "code",
   "execution_count": null,
   "id": "02a967b5-ffb9-4ab1-8997-7f2dd7fe3a9f",
   "metadata": {},
   "outputs": [],
   "source": []
  },
  {
   "cell_type": "code",
   "execution_count": null,
   "id": "b9ac3c58-5f01-4883-8561-a0c8b29cd39c",
   "metadata": {},
   "outputs": [],
   "source": []
  }
 ],
 "metadata": {
  "kernelspec": {
   "display_name": "analysis",
   "language": "python",
   "name": "analysis"
  },
  "language_info": {
   "codemirror_mode": {
    "name": "ipython",
    "version": 3
   },
   "file_extension": ".py",
   "mimetype": "text/x-python",
   "name": "python",
   "nbconvert_exporter": "python",
   "pygments_lexer": "ipython3",
   "version": "3.9.7"
  }
 },
 "nbformat": 4,
 "nbformat_minor": 5
}

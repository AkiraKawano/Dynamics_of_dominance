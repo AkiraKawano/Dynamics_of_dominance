{
 "cells": [
  {
   "cell_type": "code",
   "execution_count": null,
   "id": "1007a8bb-6003-40a8-9ee2-73419d71fa81",
   "metadata": {},
   "outputs": [],
   "source": []
  },
  {
   "cell_type": "markdown",
   "id": "865a7747-4612-4e98-a4e5-08e67ba4a1db",
   "metadata": {},
   "source": [
    "# Notes\n"
   ]
  },
  {
   "cell_type": "markdown",
   "id": "b0581dce-0afb-4d50-b5e2-11b100a83ea7",
   "metadata": {},
   "source": [
    "Computing the tracking parameter figures\n"
   ]
  },
  {
   "cell_type": "markdown",
   "id": "1b48def3-3b43-4a2e-b38e-8df10b73b77a",
   "metadata": {},
   "source": []
  },
  {
   "cell_type": "code",
   "execution_count": null,
   "id": "bcd6e8c9-117b-47c3-8776-46a4a0fb5750",
   "metadata": {},
   "outputs": [],
   "source": []
  },
  {
   "cell_type": "markdown",
   "id": "dd72b960-451b-47fc-9290-0010a0294353",
   "metadata": {},
   "source": [
    "# Imports"
   ]
  },
  {
   "cell_type": "code",
   "execution_count": 3,
   "id": "2a1fdf9e-5d87-44a5-a47d-b5a759dcc447",
   "metadata": {},
   "outputs": [
    {
     "name": "stdout",
     "output_type": "stream",
     "text": [
      "The autoreload extension is already loaded. To reload it, use:\n",
      "  %reload_ext autoreload\n"
     ]
    }
   ],
   "source": [
    "import numpy as np\n",
    "import h5py\n",
    "import time\n",
    "import glob\n",
    "import matplotlib.pyplot as plt\n",
    "%matplotlib widget\n",
    "%load_ext autoreload\n",
    "import os\n",
    "%autoreload 2\n",
    "import sys\n",
    "\n",
    "# --- import functions for computing kinematic variables --- #\n",
    "sys.path.append('../tracking_code/lib/')\n",
    "sys.path.append('./lib/')"
   ]
  },
  {
   "cell_type": "code",
   "execution_count": null,
   "id": "9bd88c1b-3484-453c-8916-6ae3d3eacc53",
   "metadata": {},
   "outputs": [],
   "source": []
  },
  {
   "cell_type": "code",
   "execution_count": null,
   "id": "062e60bf-3b47-455e-a2a1-427aa998efc9",
   "metadata": {},
   "outputs": [],
   "source": []
  },
  {
   "cell_type": "markdown",
   "id": "3ad6e86a-c999-47de-9e17-ab73e77fa63d",
   "metadata": {},
   "source": [
    "# Prepare filepaths"
   ]
  },
  {
   "cell_type": "code",
   "execution_count": null,
   "id": "ae1d5419-0d1a-4439-b1a9-928f1efabd9f",
   "metadata": {},
   "outputs": [],
   "source": []
  },
  {
   "cell_type": "code",
   "execution_count": 4,
   "id": "5aa612e4-c412-482b-a1ea-0182e015db37",
   "metadata": {},
   "outputs": [],
   "source": [
    "main_load_folder = '/media/liam/hd1/fighting_data/tracking_results/'\n",
    "\n",
    "# ----------------------#\n",
    "\n",
    "interp_polyOrd=1  # the order of the polynomial used for interpolation\n",
    "interp_limit=5    # the maximum number of frames to interpolate over\n",
    "savgol_win=9      # the number of frames for the Savitzky-Golay filter\n",
    "savgol_ord=2      # the polynomial order for the Savitzky-Golay filter\n",
    "dt=0.01           # the frame rate of the recording\n",
    "\n",
    "\n",
    "# the filepaths for loading the infomap timeseries data we need\n",
    "infomap_data_loadpath = os.path.join( os.path.dirname(os.path.dirname(main_load_folder)) , \n",
    "                                      'infomap_data/transmat_and_infomap.h5')\n",
    "\n",
    "# the path for loading the fightbout info\n",
    "fightBouts_info_path = os.path.join(main_load_folder, 'fightBouts.h5')\n",
    "\n",
    "\n",
    "# -----------------------#\n",
    "\n",
    "loadpaths = glob.glob(os.path.join(main_load_folder, '*results.h5'))\n",
    "loadpaths.sort()\n",
    "\n",
    "# parse the exp names\n",
    "expNames = [path.split('/')[-1][:23] for path in loadpaths]\n",
    "\n",
    "\n",
    "raw_trajectories = []\n",
    "for path in loadpaths:\n",
    "    with h5py.File(path, 'r') as hf:\n",
    "        tracks_3D_raw = hf['tracks_3D_raw'][:]\n",
    "    raw_trajectories.append(tracks_3D_raw)\n",
    "\n",
    "smooth_trajectories = []\n",
    "for path in loadpaths:\n",
    "    with h5py.File(path, 'r') as hf:\n",
    "        tracks_3D_smooth = hf['tracks_3D_smooth'][:]\n",
    "    smooth_trajectories.append(tracks_3D_smooth)\n",
    "    \n",
    "    \n",
    "# create a list of the number of frames in each experiment\n",
    "expNumFrames = []\n",
    "for expIdx in range(len(expNames)):\n",
    "    nfs = smooth_trajectories[expIdx].shape[0]\n",
    "    expNumFrames.append(nfs)\n",
    "    \n",
    "# -----------------------------#\n",
    "# load other useful information\n",
    "    \n",
    "other_info_loadpath = os.path.join(main_load_folder, 'winners_losers_inconclusive.h5')\n",
    "with h5py.File(other_info_loadpath, 'r') as hf:\n",
    "    winner_idxs = hf['winner_idxs'][:]\n",
    "    loser_idxs = hf['loser_idxs'][:]\n",
    "    conclusive_winner_loser = hf['conclusive_winner_loser'][:]\n",
    "    already_established_dominance = hf['already_established_dominance'][:]\n",
    "\n",
    "\n",
    "with h5py.File(fightBouts_info_path, 'r') as hf:\n",
    "    fight_bout_info = hf['fight_bout_info'][:]\n",
    "    fight_bout_info_noDurThresh = hf['fight_bout_info_noDurThresh'][:]"
   ]
  },
  {
   "cell_type": "code",
   "execution_count": null,
   "id": "88e58d15-f607-4c69-b7fb-18cceaa93ec1",
   "metadata": {},
   "outputs": [],
   "source": []
  },
  {
   "cell_type": "code",
   "execution_count": 5,
   "id": "ee6bdb0e-b822-4681-bd0c-eb6b5eb6a7ba",
   "metadata": {},
   "outputs": [],
   "source": [
    "# --- gather the filepaths needed to track the experiments --- #\n",
    "\n",
    "main_dataset_folder = os.path.dirname(os.path.dirname(main_load_folder)) \n",
    "exp_folder_paths = glob.glob(main_dataset_folder+'/FishTank*')\n",
    "exp_folder_paths.sort()  "
   ]
  },
  {
   "cell_type": "code",
   "execution_count": null,
   "id": "2f2fb58e-ea74-4cad-a57b-09f3ef3e1470",
   "metadata": {},
   "outputs": [],
   "source": []
  },
  {
   "cell_type": "code",
   "execution_count": null,
   "id": "8da181e1-0024-4c38-bea8-8e3eaf5f94bb",
   "metadata": {},
   "outputs": [],
   "source": []
  },
  {
   "cell_type": "markdown",
   "id": "b272d965-f8af-48b1-9f75-f90378cf28fd",
   "metadata": {},
   "source": [
    "# Panel A - cross-camera registration costs"
   ]
  },
  {
   "cell_type": "code",
   "execution_count": null,
   "id": "97b373a2-04a9-4834-89f4-d357fff5a17e",
   "metadata": {},
   "outputs": [],
   "source": []
  },
  {
   "cell_type": "code",
   "execution_count": null,
   "id": "d32c2714-6b8a-4275-ba58-3992c807e3ed",
   "metadata": {},
   "outputs": [],
   "source": []
  },
  {
   "cell_type": "code",
   "execution_count": 6,
   "id": "1682cc8c-298e-4af9-a9a4-7471156858a8",
   "metadata": {},
   "outputs": [
    {
     "data": {
      "text/plain": [
       "(15643271, 2, 3)"
      ]
     },
     "execution_count": 6,
     "metadata": {},
     "output_type": "execute_result"
    }
   ],
   "source": [
    "# ------ load the cross-camera registration costs for frames solved using hungarian method -----#\n",
    "exps_m1_reg_costs = []\n",
    "for expIdx in range(len(expNames)):\n",
    "    lp = loadpaths[expIdx]\n",
    "    with h5py.File(lp, 'r') as hf:\n",
    "        methodIdxs = hf['methodIdxs'][:]\n",
    "        registration_costs = hf['registration_costs'][:]\n",
    "    m1_reg_costs = registration_costs[methodIdxs==0]\n",
    "    exps_m1_reg_costs.append(m1_reg_costs)\n",
    "\n",
    "m1_reg_costs_master = np.concatenate(exps_m1_reg_costs)\n",
    "\n",
    "m1_reg_costs_master.shape"
   ]
  },
  {
   "cell_type": "code",
   "execution_count": null,
   "id": "bf89a185-0aae-46f1-bb5a-be55cb6c2ff0",
   "metadata": {},
   "outputs": [],
   "source": []
  },
  {
   "cell_type": "code",
   "execution_count": 7,
   "id": "c3eda55c-21c3-450d-bf86-c98bdfb23f0a",
   "metadata": {},
   "outputs": [],
   "source": [
    "# lets take every 100th to save time for now \n",
    "m1_reg_costs_master_downsampled = np.copy(m1_reg_costs_master[::100])"
   ]
  },
  {
   "cell_type": "code",
   "execution_count": null,
   "id": "aff928a3-9449-4394-906f-b040c43983cf",
   "metadata": {},
   "outputs": [],
   "source": []
  },
  {
   "cell_type": "code",
   "execution_count": 8,
   "id": "de4e4f3a-df6e-4b10-a05f-d0b994936a89",
   "metadata": {},
   "outputs": [
    {
     "name": "stdout",
     "output_type": "stream",
     "text": [
      "12.60652706772089\n"
     ]
    }
   ],
   "source": [
    "# ----- now convert to bodypoint means ---- #\n",
    "t0 = time.perf_counter()\n",
    "\n",
    "\n",
    "m1_reg_costs_meanBP = np.zeros((m1_reg_costs_master_downsampled.shape[0], m1_reg_costs_master_downsampled.shape[1]))*np.NaN\n",
    "for ii in range(m1_reg_costs_master_downsampled.shape[0]):\n",
    "    for fishIdx in range(2):\n",
    "        bp_costs = m1_reg_costs_master_downsampled[ii, fishIdx]\n",
    "        numBps_used = np.count_nonzero(~np.isnan(bp_costs))\n",
    "        if numBps_used >= 2:\n",
    "            m1_reg_costs_meanBP[ii,fishIdx] = np.nanmean(bp_costs)\n",
    "m1_reg_costs_meanBP = m1_reg_costs_meanBP.reshape(-1)  # collapse along fish\n",
    "\n",
    "\n",
    "tE = time.perf_counter()\n",
    "print(tE-t0)"
   ]
  },
  {
   "cell_type": "code",
   "execution_count": null,
   "id": "5ca5a9c5-60ea-4d73-bf2f-ef743b604192",
   "metadata": {},
   "outputs": [],
   "source": []
  },
  {
   "cell_type": "code",
   "execution_count": null,
   "id": "02af4227-a272-4c59-87df-e71506654bb7",
   "metadata": {},
   "outputs": [],
   "source": []
  },
  {
   "cell_type": "code",
   "execution_count": 10,
   "id": "1c501f5c-1cde-40c8-b495-19f9d0e83f7e",
   "metadata": {},
   "outputs": [
    {
     "data": {
      "application/vnd.jupyter.widget-view+json": {
       "model_id": "30c80dcaf957460e9783c24f86360435",
       "version_major": 2,
       "version_minor": 0
      },
      "text/html": [
       "\n",
       "            <div style=\"display: inline-block;\">\n",
       "                <div class=\"jupyter-widgets widget-label\" style=\"text-align: center;\">\n",
       "                    Figure\n",
       "                </div>\n",
       "                <img src='data:image/png;base64,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' width=200.0/>\n",
       "            </div>\n",
       "        "
      ],
      "text/plain": [
       "Canvas(toolbar=Toolbar(toolitems=[('Home', 'Reset original view', 'home', 'home'), ('Back', 'Back to previous …"
      ]
     },
     "metadata": {},
     "output_type": "display_data"
    }
   ],
   "source": [
    "\n",
    "# the cost to histogram\n",
    "reg_costs = np.copy(m1_reg_costs_meanBP)\n",
    "\n",
    "\n",
    "# ---- the figure ---- #\n",
    "\n",
    "fig, axs = plt.subplots(figsize=(2,1.6))\n",
    "ax = axs\n",
    "\n",
    "histbins = np.linspace(0, 15, num=200)\n",
    "ax.hist(reg_costs, label='head', alpha=0.5, density=True, bins=histbins)\n",
    "\n",
    "ax.set_title('')\n",
    "ax.set_xlabel('')\n",
    "ax.set_ylabel('')\n",
    "\n",
    "thresh=10\n",
    "ax.axvline(x=thresh, color='black', linestyle='--')\n",
    "\n",
    "ax.set_xlim(0, 12)\n",
    "ax.set_ylim(0, 0.4)\n",
    "\n",
    "ax.set_xticks([0,2,10,15])\n",
    "ax.set_yticks([0, 0.4])\n",
    "\n",
    "#ax.set_xticklabels([])\n",
    "#ax.set_yticklabels([])\n",
    "\n",
    "ax.set_xlabel('')\n",
    "ax.set_ylabel('')\n",
    "\n",
    "for axis in ['top','bottom','left','right']:\n",
    "    ax.spines[axis].set_linewidth(1.5)\n",
    "ax.xaxis.set_tick_params(width=1.5, length=4)\n",
    "ax.yaxis.set_tick_params(width=1.5, length=4)\n",
    "ax.grid(alpha=0.2)\n",
    "fig.tight_layout()"
   ]
  },
  {
   "cell_type": "code",
   "execution_count": null,
   "id": "618eeb67-e10d-476a-b8ad-0d5659e8c7e7",
   "metadata": {},
   "outputs": [],
   "source": []
  },
  {
   "cell_type": "code",
   "execution_count": 11,
   "id": "f3ba3ade-efd9-459a-8bbb-95a7d47297d4",
   "metadata": {},
   "outputs": [
    {
     "data": {
      "application/vnd.jupyter.widget-view+json": {
       "model_id": "19c197c225104f9194af5280dee44ae7",
       "version_major": 2,
       "version_minor": 0
      },
      "text/html": [
       "\n",
       "            <div style=\"display: inline-block;\">\n",
       "                <div class=\"jupyter-widgets widget-label\" style=\"text-align: center;\">\n",
       "                    Figure\n",
       "                </div>\n",
       "                <img src='data:image/png;base64,iVBORw0KGgoAAAANSUhEUgAAAMgAAACgCAYAAABJ/yOpAAAAOXRFWHRTb2Z0d2FyZQBNYXRwbG90bGliIHZlcnNpb24zLjQuMywgaHR0cHM6Ly9tYXRwbG90bGliLm9yZy/MnkTPAAAACXBIWXMAAA9hAAAPYQGoP6dpAAAG+klEQVR4nO3dz2sTWx/H8U9+0CQziQ+UENuFKIguulbcKfLgolvdu3dxF+J/4UYu1717d0LBhVYRRBDEjeAVC1JHRYN18TSZSajtzF1c2ieNybFN0szJnPdrlSApJ5P55Ps9Z46ZXJIkiQAMlE97AIDNCAhgQEAAAwICGBAQwICAAAYEBDAgIIABAQEMCAhgQEAAAwICGBTHeXEYhvuex3GsjY0N+b4vz/OUy+XGGhwwjiRJFEWRJKleryufP3w9yI2zm5cAYFY0m001Go1Dv44WCzAYq8Vqt9u/PF9YWJAkffnyRbVabZw/vyeOY3369EknTpwYqUxiuDAMtbi4KGmyn5kNet+b53kj/Y2xAuL7/tB/q9VqEw1ItVpVrVYjIBNWKpV069YtbW5uan5+XuVyOe0hTUzvuTLqdGCsgGD2zc3N6fbt2wqCQHNzc2kPxzp8HQMGBMRxcRxrfX1dnz9/VhzHaQ/HOrRYjut0Ojp9+rQkaXNzM1OT9EmgggAGBAQwmImA/Pl4Le0hwFHWB+TOo/d7j/98vLbvOXDUrA8IkKaZCcjjv5tpDwEOYpnXccViUTdu3FCr1VKxyOnQjyPiuFKppLt37yoIApVKpbSHY52ZabGANFgdkGErVqxkTU6SJPr+/bt+/Pgh7oTxK1osx0VRtPd/eNhq8itrKwhVAjawNiC/Q4AwDTMbEGAaZjogVBEctZkOCHDUrAwIlQG2YJnXccViUdevX1cYhmw1GWDmj8idR+9188rZtIcxs0qlku7du8dWkyGsbLEAWxAQxyVJojAMFUURW00GsK7FYoI+XVEU6dixY5LYajIIFQQwICCAgVUBob2CbawKyKgIFo5KJgICHBUCAhhYt8yL6SoUCrp27ZqiKFKhUEh7ONbJTEDYcjKacrms+/fvKwiCTN1dalJosQADAgIYZKbFwmjCMFS1WpXEVpNBqCCAAQEBDDIVEK6oY9IyFRBg0ggIYEBAAANrAjKp+QPzkMMpFApaXl7W5cuX2WoyANdBHFcul7WyssJWkyGsqSCAjTIZENosTAotluPCMFSj0VCSJGo2m2w16UNAoCiK0h6CtTLZYgGTQkAAAwICGFgREFadYCsrAgLYKrMBoSodTD6f16VLl3ThwgXl85k9HUbGMq/jKpWKnjx5oiAIVKlU0h6OdfjKAAwyHRDaLIyLFstxYRjq1KlTiuNY6+vrbDXpQ0CgjY2NtIdgrUy3WBJtFsaTekA4gWGz1AMC2IyAAAZOBIQ2DqNiFctx+Xxe586d09bWFltNBnDmiFBFBqtUKnr58qUePHjAVpMBnAkIMAoCAhgwB3FcFEVaWlrS9va23r17t3czHfwr1YAwL0hfkiT6+PHj3mPsR4sFGDgVECoWDsupgACHRUAAAwICGKQWkLTmA8xD9svlclpaWtKZM2eUy+XSHo51uA7iOM/z9ObNGwVBIM/z0h6OdWixAAMnA0KbhYOixXJcFEU6f/68fv78qdevX7PVpI+TFUSiiuxKkkRv377V2toaW00GcDYgwEE4HRCqCH7H6YAAv0NAAAMCAhiwzOu4XC6nkydPant7m60mAzhfQVyfqHuepw8fPuj58+dsNRnA+YAAJgRE/1YR1ysJBktlDsLJaI9Op6OLFy9qa2tLL168kO/7aQ/JKkzSHRfHsV69erX3GPvRYvWgsqEfAQEMCEgfqgh6ERDAgIAMQBXBLgIyhEshqdfrmp+fT3sYVpr6Mq9LJ94s8H1fzWZTQRBwDWQAKogBYQYB+Q1C4jaupDuu0+loeXlZ3W5Xq6urtFl9CIjj4jjWs2fP9h5jP1qsA6DNchcV5IB6Q3LzytkUR4JpmmoF4ZsYs4YWCzAgICPYrYRUxOxjDjKiLIXD8zx+l3eIqQUkSydUr933NasTd9/31Wq12GoyBC3WhPDDD9lEQCaMkGQLc5AjMEvXTLrdrq5evaput6uVlRV+PK4PFeSI9bZeNlaXnZ0dPXz4UE+fPtXOzk7aw7EOAZkSm0OC4WixUtAfEtvbMJdNpYLwrWm224ZRZexDBbGMKSQ3r5zVnUfvqThTlEvGuIQahuG+5+12WwsLC5Kkr1+/qlar6a/VtfFGKElKVNv5n1qF/0jiHhb9/vjvGUnSX6tre48PKgxDHT9+XNL/P7Os6H1vrVZrpFtcjxUQbriCWdFsNtVoNA79Olax4IT+buegxpqDtNvtfc9brZYWFxclSd++fRuppPXrLZPNZpP9QhOW5ePb2/LX6/WR/sZYATEdzGq1OvGD7ft+pj5A22T5+ObzozVLtFiAAQEBDAgIYDDWMi+QdVQQwICAAAYEBDAgIIABAQEMCAhgQEAAAwICGBAQwICAAAYEBDAgIIABAQEMCAhg8A8NjiUsR4rXOAAAAABJRU5ErkJggg==' width=200.0/>\n",
       "            </div>\n",
       "        "
      ],
      "text/plain": [
       "Canvas(toolbar=Toolbar(toolitems=[('Home', 'Reset original view', 'home', 'home'), ('Back', 'Back to previous …"
      ]
     },
     "metadata": {},
     "output_type": "display_data"
    }
   ],
   "source": [
    "# the cost to histogram\n",
    "reg_costs = np.copy(m1_reg_costs_meanBP)\n",
    "\n",
    "\n",
    "# ---- the figure ---- #\n",
    "\n",
    "fig, axs = plt.subplots(figsize=(2,1.6))\n",
    "ax = axs\n",
    "\n",
    "histbins = np.linspace(0, 15, num=200)\n",
    "ax.hist(reg_costs, label='head', alpha=0.5, density=True, bins=histbins)\n",
    "\n",
    "ax.set_title('')\n",
    "ax.set_xlabel('')\n",
    "ax.set_ylabel('')\n",
    "\n",
    "thresh=10\n",
    "ax.axvline(x=thresh, color='black', linestyle='--')\n",
    "\n",
    "ax.set_xlim(0, 12)\n",
    "ax.set_ylim(0, 0.4)\n",
    "\n",
    "ax.set_xticks([0,2,10,15])\n",
    "ax.set_yticks([0, 0.4])\n",
    "\n",
    "ax.set_xticklabels([])\n",
    "ax.set_yticklabels([])\n",
    "\n",
    "ax.set_xlabel('')\n",
    "ax.set_ylabel('')\n",
    "\n",
    "for axis in ['top','bottom','left','right']:\n",
    "    ax.spines[axis].set_linewidth(1.5)\n",
    "ax.xaxis.set_tick_params(width=1.5, length=4)\n",
    "ax.yaxis.set_tick_params(width=1.5, length=4)\n",
    "ax.grid(alpha=0.4)\n",
    "fig.tight_layout()\n",
    "fig.savefig('/home/liam/temp/image_transfer/SI_fig_tracking_params_A.png', dpi=300, transparent=True)"
   ]
  },
  {
   "cell_type": "code",
   "execution_count": null,
   "id": "fd15b32d-af67-45fb-b22c-c27c62bbf303",
   "metadata": {},
   "outputs": [],
   "source": []
  },
  {
   "cell_type": "code",
   "execution_count": null,
   "id": "27e42323-d97a-49c3-b353-e2b0bde4e027",
   "metadata": {},
   "outputs": [],
   "source": []
  },
  {
   "cell_type": "code",
   "execution_count": null,
   "id": "9b0d87b7-e868-48ce-8869-3ccb19cbb4d9",
   "metadata": {},
   "outputs": [],
   "source": []
  },
  {
   "cell_type": "code",
   "execution_count": null,
   "id": "9adae73f-acff-42aa-a7e3-095089eee1ba",
   "metadata": {},
   "outputs": [],
   "source": []
  },
  {
   "cell_type": "code",
   "execution_count": null,
   "id": "208fb002-bdf4-4fe2-ae92-5d6510e30586",
   "metadata": {},
   "outputs": [],
   "source": []
  },
  {
   "cell_type": "code",
   "execution_count": null,
   "id": "579e849f-1023-4f63-a6c1-5044892ac362",
   "metadata": {},
   "outputs": [],
   "source": []
  },
  {
   "cell_type": "markdown",
   "id": "afa086b1-428e-4836-9965-3d0e5e19f7bf",
   "metadata": {},
   "source": [
    "# Panel B - idtracker"
   ]
  },
  {
   "cell_type": "code",
   "execution_count": null,
   "id": "c33f3976-e504-4645-8d05-bb5e234a0257",
   "metadata": {},
   "outputs": [],
   "source": []
  },
  {
   "cell_type": "code",
   "execution_count": 12,
   "id": "b3da2f33-5ed7-45fa-b65d-37aa06fb9f1d",
   "metadata": {},
   "outputs": [
    {
     "name": "stdout",
     "output_type": "stream",
     "text": [
      "2.392932891845703\n"
     ]
    }
   ],
   "source": [
    "t0 = time.time()\n",
    "\n",
    "exps_absaccels = []\n",
    "\n",
    "for expIdx in range(len(expNames)):\n",
    "    #print(expIdx)\n",
    "    \n",
    "    raw_idtracker_filepath = os.path.join(exp_folder_paths[expIdx], 'idtracker_results/trajectories.npy')\n",
    "    trajectories_dict = np.load(raw_idtracker_filepath, allow_pickle=True).item()\n",
    "    idtraj = trajectories_dict['trajectories']\n",
    "    \n",
    "    # get the speeds etc of both fish\n",
    "    speed = np.gradient(idtraj, axis=0)\n",
    "    normspeed = np.linalg.norm(speed, axis=2)\n",
    "    normaccel = np.gradient(normspeed, axis=0)\n",
    "    absaccel = np.abs(normaccel)\n",
    "    \n",
    "    # collapse acceleration along fish\n",
    "    absaccel_flat = absaccel.reshape((-1))\n",
    "    \n",
    "    # record\n",
    "    exps_absaccels.append(absaccel_flat)\n",
    "    \n",
    "    \n",
    "# combine experiments\n",
    "exps_absaccels_master = np.concatenate(exps_absaccels)\n",
    "    \n",
    "tE = time.time()\n",
    "print(tE-t0)"
   ]
  },
  {
   "cell_type": "code",
   "execution_count": 13,
   "id": "277bf2a9-f10d-4ba5-b9c8-a35d85d76993",
   "metadata": {},
   "outputs": [
    {
     "data": {
      "text/plain": [
       "(32088648,)"
      ]
     },
     "execution_count": 13,
     "metadata": {},
     "output_type": "execute_result"
    }
   ],
   "source": [
    "exps_absaccels_master.shape"
   ]
  },
  {
   "cell_type": "code",
   "execution_count": null,
   "id": "3b33ca22-0367-4665-9a1f-64a9eccfe115",
   "metadata": {},
   "outputs": [],
   "source": []
  },
  {
   "cell_type": "code",
   "execution_count": 14,
   "id": "ff7951b5-cdaa-4fec-bb70-e2d34f8d8904",
   "metadata": {},
   "outputs": [
    {
     "data": {
      "text/plain": [
       "(0.0, 10.0)"
      ]
     },
     "execution_count": 14,
     "metadata": {},
     "output_type": "execute_result"
    },
    {
     "data": {
      "application/vnd.jupyter.widget-view+json": {
       "model_id": "54a56f2125734b45813915eca6d54983",
       "version_major": 2,
       "version_minor": 0
      },
      "text/html": [
       "\n",
       "            <div style=\"display: inline-block;\">\n",
       "                <div class=\"jupyter-widgets widget-label\" style=\"text-align: center;\">\n",
       "                    Figure\n",
       "                </div>\n",
       "                <img src='data:image/png;base64,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' width=600.0/>\n",
       "            </div>\n",
       "        "
      ],
      "text/plain": [
       "Canvas(toolbar=Toolbar(toolitems=[('Home', 'Reset original view', 'home', 'home'), ('Back', 'Back to previous …"
      ]
     },
     "metadata": {},
     "output_type": "display_data"
    }
   ],
   "source": [
    "fig, axs = plt.subplots(figsize=(6,4))\n",
    "ax = axs\n",
    "\n",
    "ax.hist(exps_absaccels_master, \n",
    "        bins=np.linspace(0, 10, 200), \n",
    "        log=True,\n",
    "        );\n",
    "\n",
    "ax.axvline(x=3.3, color='black')\n",
    "\n",
    "ax.set_xlim(0, 10)\n",
    "\n",
    "#ax.set_yticks()\n",
    "\n"
   ]
  },
  {
   "cell_type": "code",
   "execution_count": 15,
   "id": "5898a47f-ffe5-446a-924b-50f49a9288a5",
   "metadata": {},
   "outputs": [
    {
     "data": {
      "text/plain": [
       "(31464,)"
      ]
     },
     "execution_count": 15,
     "metadata": {},
     "output_type": "execute_result"
    }
   ],
   "source": [
    "np.where(exps_absaccels_master >= 3.3)[0].shape"
   ]
  },
  {
   "cell_type": "code",
   "execution_count": 16,
   "id": "353c06ad-3310-4d8f-8d9d-ef5555146953",
   "metadata": {},
   "outputs": [
    {
     "data": {
      "text/plain": [
       "(28642149,)"
      ]
     },
     "execution_count": 16,
     "metadata": {},
     "output_type": "execute_result"
    }
   ],
   "source": [
    "np.where(exps_absaccels_master <= 3.3)[0].shape"
   ]
  },
  {
   "cell_type": "code",
   "execution_count": null,
   "id": "9aa99f28-d93b-48f2-a47a-4d82c51d4414",
   "metadata": {},
   "outputs": [],
   "source": []
  },
  {
   "cell_type": "code",
   "execution_count": 33,
   "id": "d72c9d52-7ad0-45e5-b5a9-f675777a8fb7",
   "metadata": {},
   "outputs": [
    {
     "name": "stderr",
     "output_type": "stream",
     "text": [
      "/tmp/ipykernel_1984834/1834090485.py:4: RuntimeWarning: More than 20 figures have been opened. Figures created through the pyplot interface (`matplotlib.pyplot.figure`) are retained until explicitly closed and may consume too much memory. (To control this warning, see the rcParam `figure.max_open_warning`).\n",
      "  fig, axs = plt.subplots(figsize=(2,1.6))\n"
     ]
    },
    {
     "data": {
      "application/vnd.jupyter.widget-view+json": {
       "model_id": "d47c7b940bed4bbbbc079adc1e6e2e92",
       "version_major": 2,
       "version_minor": 0
      },
      "text/html": [
       "\n",
       "            <div style=\"display: inline-block;\">\n",
       "                <div class=\"jupyter-widgets widget-label\" style=\"text-align: center;\">\n",
       "                    Figure\n",
       "                </div>\n",
       "                <img src='data:image/png;base64,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' width=200.0/>\n",
       "            </div>\n",
       "        "
      ],
      "text/plain": [
       "Canvas(toolbar=Toolbar(toolitems=[('Home', 'Reset original view', 'home', 'home'), ('Back', 'Back to previous …"
      ]
     },
     "metadata": {},
     "output_type": "display_data"
    }
   ],
   "source": [
    "accel_thresh = 3.3\n",
    "\n",
    "\n",
    "fig, axs = plt.subplots(figsize=(2,1.6))\n",
    "ax = axs\n",
    "histbins = np.linspace(0, 10, num=200)\n",
    "\n",
    "ax.hist(exps_absaccels_master, \n",
    "        bins=histbins, \n",
    "        alpha=0.5,\n",
    "        log=True,\n",
    "        );\n",
    "\n",
    "ax.set_xlim(0,10)\n",
    "ax.set_xticks([0,accel_thresh,5,10])\n",
    "\n",
    "ax.set_yticks([10**2, 10**7])\n",
    "\n",
    "ax.axvline(x=accel_thresh, color='black', linestyle='--')\n",
    "\n",
    "ax.set_xticklabels([])\n",
    "#ax.set_yticklabels([])\n",
    "ax.set_xlabel('')\n",
    "ax.set_ylabel('')\n",
    "for axis in ['top','bottom','left','right']:\n",
    "    ax.spines[axis].set_linewidth(1.5)\n",
    "ax.xaxis.set_tick_params(width=1.5, length=4)\n",
    "ax.yaxis.set_tick_params(width=1.5, length=4)\n",
    "ax.grid(alpha=0.2)\n",
    "fig.tight_layout()\n",
    "#fig.savefig('/home/liam/temp/image_transfer/SI_fig_tracking_params_B1.png', dpi=300, transparent=True)"
   ]
  },
  {
   "cell_type": "code",
   "execution_count": null,
   "id": "03e2a59a-0728-40fc-869f-f1cf780f59da",
   "metadata": {},
   "outputs": [],
   "source": []
  },
  {
   "cell_type": "code",
   "execution_count": 34,
   "id": "8660be86-df40-4ee7-a823-003165fe6a20",
   "metadata": {},
   "outputs": [
    {
     "data": {
      "application/vnd.jupyter.widget-view+json": {
       "model_id": "603f0cb6fe41454598dcc4372d31cffc",
       "version_major": 2,
       "version_minor": 0
      },
      "text/html": [
       "\n",
       "            <div style=\"display: inline-block;\">\n",
       "                <div class=\"jupyter-widgets widget-label\" style=\"text-align: center;\">\n",
       "                    Figure\n",
       "                </div>\n",
       "                <img src='data:image/png;base64,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' width=200.0/>\n",
       "            </div>\n",
       "        "
      ],
      "text/plain": [
       "Canvas(toolbar=Toolbar(toolitems=[('Home', 'Reset original view', 'home', 'home'), ('Back', 'Back to previous …"
      ]
     },
     "metadata": {},
     "output_type": "display_data"
    }
   ],
   "source": [
    "accel_thresh = 3.3\n",
    "\n",
    "\n",
    "fig, axs = plt.subplots(figsize=(2,1.6))\n",
    "ax = axs\n",
    "histbins = np.linspace(0, 10, num=200)\n",
    "\n",
    "ax.hist(exps_absaccels_master, \n",
    "        bins=histbins, \n",
    "        log=True,\n",
    "        alpha=0.5,\n",
    "        );\n",
    "\n",
    "ax.set_xlim(0,10)\n",
    "ax.set_xticks([0,accel_thresh,10])\n",
    "\n",
    "ax.axvline(x=accel_thresh, color='black', linestyle='--')\n",
    "\n",
    "\n",
    "ax.set_yticks([10**2, 10**7])\n",
    "\n",
    "ax.set_xticklabels([])\n",
    "ax.set_yticklabels([])\n",
    "ax.set_xlabel('')\n",
    "ax.set_ylabel('')\n",
    "for axis in ['top','bottom','left','right']:\n",
    "    ax.spines[axis].set_linewidth(1.5)\n",
    "ax.xaxis.set_tick_params(width=1.5, length=4)\n",
    "ax.yaxis.set_tick_params(width=1.5, length=4)\n",
    "ax.grid(False)\n",
    "fig.tight_layout()\n",
    "fig.savefig('/home/liam/temp/image_transfer/SI_fig_tracking_params_B.png', dpi=300, transparent=True)"
   ]
  },
  {
   "cell_type": "code",
   "execution_count": null,
   "id": "05ef567f-468e-4b1e-970e-93a9531cafb9",
   "metadata": {},
   "outputs": [],
   "source": []
  },
  {
   "cell_type": "code",
   "execution_count": null,
   "id": "4cc60337-f3ff-4d13-942f-5a381facf87a",
   "metadata": {},
   "outputs": [],
   "source": []
  },
  {
   "cell_type": "code",
   "execution_count": null,
   "id": "cc6ad0cb-b44e-4a21-9932-11aefe35f215",
   "metadata": {},
   "outputs": [],
   "source": []
  },
  {
   "cell_type": "code",
   "execution_count": null,
   "id": "c360633e-3f05-4ae0-9fec-ba8cca4d079a",
   "metadata": {},
   "outputs": [],
   "source": []
  },
  {
   "cell_type": "code",
   "execution_count": null,
   "id": "6ae2dcec-ee9b-4919-ad1f-6d044916b15b",
   "metadata": {},
   "outputs": [],
   "source": []
  },
  {
   "cell_type": "markdown",
   "id": "164e7943-675f-4e10-b2ae-88058f7616ea",
   "metadata": {},
   "source": [
    "# Panel C - sleapPec to idTrackerCentroid"
   ]
  },
  {
   "cell_type": "code",
   "execution_count": null,
   "id": "2cec4ff2-edc6-46d1-92a3-bd68c01229d6",
   "metadata": {},
   "outputs": [],
   "source": []
  },
  {
   "cell_type": "code",
   "execution_count": 20,
   "id": "01d81ed5-22f8-43bd-b2c6-db55c599e525",
   "metadata": {},
   "outputs": [],
   "source": [
    "idtracker_to_sleap_costs = []\n",
    "\n",
    "for expIdx in np.unique(fight_bout_info_noDurThresh[:,0]):\n",
    "    path = loadpaths[expIdx]\n",
    "    with h5py.File(path, 'r') as hf:\n",
    "        idtracker_sleap_assignment_nothresh_costs = hf['idtracker_sleap_assignment_nothresh_costs'][:]\n",
    "        idtracker_to_sleap_costs.append(idtracker_sleap_assignment_nothresh_costs)\n",
    "        \n",
    "        \n",
    "# combine across experiments\n",
    "idtracker_to_sleap_costs = np.concatenate(idtracker_to_sleap_costs, axis=0)\n",
    "\n",
    "# flatten across fish\n",
    "idtracker_to_sleap_costs = idtracker_to_sleap_costs.reshape(-1)"
   ]
  },
  {
   "cell_type": "code",
   "execution_count": null,
   "id": "c25e22d1-a0a3-4e30-a5cf-b1d4c3a0173b",
   "metadata": {},
   "outputs": [],
   "source": []
  },
  {
   "cell_type": "code",
   "execution_count": 21,
   "id": "25a86c43-2f0b-4831-a44c-4dfa3a0d5202",
   "metadata": {},
   "outputs": [
    {
     "data": {
      "application/vnd.jupyter.widget-view+json": {
       "model_id": "ac2b915a9247425ba974f693ecc50c12",
       "version_major": 2,
       "version_minor": 0
      },
      "text/html": [
       "\n",
       "            <div style=\"display: inline-block;\">\n",
       "                <div class=\"jupyter-widgets widget-label\" style=\"text-align: center;\">\n",
       "                    Figure\n",
       "                </div>\n",
       "                <img src='data:image/png;base64,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' width=200.0/>\n",
       "            </div>\n",
       "        "
      ],
      "text/plain": [
       "Canvas(toolbar=Toolbar(toolitems=[('Home', 'Reset original view', 'home', 'home'), ('Back', 'Back to previous …"
      ]
     },
     "metadata": {},
     "output_type": "display_data"
    }
   ],
   "source": [
    "# the cost to histogram\n",
    "reg_costs = np.copy(idtracker_to_sleap_costs)\n",
    "\n",
    "\n",
    "# ---- the figure ---- #\n",
    "\n",
    "fig, axs = plt.subplots(figsize=(2,1.6))\n",
    "ax = axs\n",
    "\n",
    "histbins = np.linspace(0, 20, num=200)\n",
    "ax.hist(reg_costs, label='head', alpha=0.5, density=True, bins=histbins)\n",
    "\n",
    "ax.set_title('')\n",
    "ax.set_xlabel('')\n",
    "ax.set_ylabel('')\n",
    "\n",
    "thresh=12.5\n",
    "ax.axvline(x=thresh, color='black', linestyle='--')\n",
    "\n",
    "ax.set_xlim(0, 20)\n",
    "ax.set_ylim(0, 0.2)\n",
    "\n",
    "ax.set_xticks([0,5,10,15,20])\n",
    "ax.set_yticks([0, 0.2])\n",
    "\n",
    "#ax.set_xticklabels([])\n",
    "#ax.set_yticklabels([])\n",
    "\n",
    "ax.set_xlabel('')\n",
    "ax.set_ylabel('')\n",
    "\n",
    "for axis in ['top','bottom','left','right']:\n",
    "    ax.spines[axis].set_linewidth(1.5)\n",
    "ax.xaxis.set_tick_params(width=1.5, length=4)\n",
    "ax.yaxis.set_tick_params(width=1.5, length=4)\n",
    "ax.grid(alpha=0.4)\n",
    "fig.tight_layout()\n",
    "#fig.savefig('/home/liam/temp/image_transfer/SI_fig_tracking_params_A.png', dpi=300, transparent=True)"
   ]
  },
  {
   "cell_type": "code",
   "execution_count": null,
   "id": "d9dbef1f-24c3-4997-a222-a4754ee1eb9c",
   "metadata": {},
   "outputs": [],
   "source": []
  },
  {
   "cell_type": "code",
   "execution_count": 31,
   "id": "65236ec0-ccdd-4f10-84b5-3e9a404d2786",
   "metadata": {},
   "outputs": [
    {
     "data": {
      "application/vnd.jupyter.widget-view+json": {
       "model_id": "ad4b50cf08f14103a1516fb2a8dff12d",
       "version_major": 2,
       "version_minor": 0
      },
      "text/html": [
       "\n",
       "            <div style=\"display: inline-block;\">\n",
       "                <div class=\"jupyter-widgets widget-label\" style=\"text-align: center;\">\n",
       "                    Figure\n",
       "                </div>\n",
       "                <img src='data:image/png;base64,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' width=200.0/>\n",
       "            </div>\n",
       "        "
      ],
      "text/plain": [
       "Canvas(toolbar=Toolbar(toolitems=[('Home', 'Reset original view', 'home', 'home'), ('Back', 'Back to previous …"
      ]
     },
     "metadata": {},
     "output_type": "display_data"
    }
   ],
   "source": [
    "# the cost to histogram\n",
    "reg_costs = np.copy(idtracker_to_sleap_costs)\n",
    "\n",
    "\n",
    "# ---- the figure ---- #\n",
    "\n",
    "fig, axs = plt.subplots(figsize=(2,1.6))\n",
    "ax = axs\n",
    "\n",
    "histbins = np.linspace(0, 20, num=200)\n",
    "ax.hist(reg_costs, label='head', alpha=0.5, density=True, bins=histbins)\n",
    "\n",
    "ax.set_title('')\n",
    "ax.set_xlabel('')\n",
    "ax.set_ylabel('')\n",
    "\n",
    "thresh=12.5\n",
    "ax.axvline(x=thresh, color='black', linestyle='--')\n",
    "\n",
    "ax.set_xlim(0, 20)\n",
    "ax.set_ylim(0, 0.2)\n",
    "\n",
    "ax.set_xticks([0,5,thresh,20])\n",
    "ax.set_yticks([0, 0.2])\n",
    "\n",
    "ax.set_xticklabels([])\n",
    "ax.set_yticklabels([])\n",
    "\n",
    "ax.set_xlabel('')\n",
    "ax.set_ylabel('')\n",
    "\n",
    "for axis in ['top','bottom','left','right']:\n",
    "    ax.spines[axis].set_linewidth(1.5)\n",
    "ax.xaxis.set_tick_params(width=1.5, length=4)\n",
    "ax.yaxis.set_tick_params(width=1.5, length=4)\n",
    "ax.grid(False)\n",
    "fig.tight_layout()\n",
    "fig.savefig('/home/liam/temp/image_transfer/SI_fig_tracking_params_C.png', dpi=300, transparent=True)"
   ]
  },
  {
   "cell_type": "code",
   "execution_count": null,
   "id": "c7d449f6-6232-47d9-8981-f88a7dfb6e1f",
   "metadata": {},
   "outputs": [],
   "source": []
  },
  {
   "cell_type": "code",
   "execution_count": null,
   "id": "518ffc23-f5ba-4f50-960f-16a1882e2352",
   "metadata": {},
   "outputs": [],
   "source": []
  },
  {
   "cell_type": "markdown",
   "id": "5a550f03-b6be-42d8-a0eb-c947c71fead4",
   "metadata": {},
   "source": [
    "# Panel D - fish sizes"
   ]
  },
  {
   "cell_type": "code",
   "execution_count": null,
   "id": "2dd30529-da4d-4bb5-ab96-78939f8275a3",
   "metadata": {},
   "outputs": [],
   "source": []
  },
  {
   "cell_type": "code",
   "execution_count": 23,
   "id": "60978b21-2e07-49f6-b160-2edf1461a421",
   "metadata": {},
   "outputs": [
    {
     "name": "stdout",
     "output_type": "stream",
     "text": [
      "0\n",
      "1\n",
      "2\n",
      "3\n",
      "5\n",
      "6\n",
      "7\n",
      "8\n",
      "10\n",
      "11\n",
      "12\n",
      "13\n",
      "14\n",
      "15\n",
      "17\n",
      "18\n",
      "19\n",
      "20\n"
     ]
    }
   ],
   "source": [
    "# ---- get the size of all fish ---- #\n",
    "\n",
    "\n",
    "downsample_step = 10\n",
    "\n",
    "head_pec_sizes = []\n",
    "pec_tail_sizes = []\n",
    "\n",
    "for expIdx in np.unique(fight_bout_info_noDurThresh[:,0]):\n",
    "    print(expIdx)\n",
    "    exp_nfs = expNumFrames[expIdx]\n",
    "    traj = raw_trajectories[expIdx]\n",
    "    \n",
    "    for fIdx in range(0, exp_nfs, downsample_step):\n",
    "        for fishIdx in range(2):\n",
    "            fishData = np.copy(traj[fIdx, fishIdx])\n",
    "            head_pec_sizes.append(np.linalg.norm(fishData[0]-fishData[1]))\n",
    "            pec_tail_sizes.append(np.linalg.norm(fishData[1]-fishData[2]))\n",
    "            \n",
    "            \n",
    "head_pec_sizes = np.array(head_pec_sizes)\n",
    "pec_tail_sizes = np.array(pec_tail_sizes)"
   ]
  },
  {
   "cell_type": "code",
   "execution_count": null,
   "id": "cd4e0620-d0cf-45c3-9694-19a9a30e130a",
   "metadata": {},
   "outputs": [],
   "source": []
  },
  {
   "cell_type": "code",
   "execution_count": null,
   "id": "2c2e1b38-7016-460d-a5aa-663207758666",
   "metadata": {},
   "outputs": [],
   "source": []
  },
  {
   "cell_type": "code",
   "execution_count": null,
   "id": "c9b48668-00db-45e4-b0b8-507664aac759",
   "metadata": {},
   "outputs": [],
   "source": []
  },
  {
   "cell_type": "code",
   "execution_count": 24,
   "id": "5e2b0055-ef74-4f6c-9cee-de5c75a3bcc1",
   "metadata": {},
   "outputs": [
    {
     "data": {
      "text/plain": [
       "<matplotlib.lines.Line2D at 0x7f7713984640>"
      ]
     },
     "execution_count": 24,
     "metadata": {},
     "output_type": "execute_result"
    },
    {
     "data": {
      "application/vnd.jupyter.widget-view+json": {
       "model_id": "be36423c1d974e24a2143bc4fd73cbc1",
       "version_major": 2,
       "version_minor": 0
      },
      "text/html": [
       "\n",
       "            <div style=\"display: inline-block;\">\n",
       "                <div class=\"jupyter-widgets widget-label\" style=\"text-align: center;\">\n",
       "                    Figure\n",
       "                </div>\n",
       "                <img src='data:image/png;base64,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' width=640.0/>\n",
       "            </div>\n",
       "        "
      ],
      "text/plain": [
       "Canvas(toolbar=Toolbar(toolitems=[('Home', 'Reset original view', 'home', 'home'), ('Back', 'Back to previous …"
      ]
     },
     "metadata": {},
     "output_type": "display_data"
    },
    {
     "data": {
      "application/vnd.jupyter.widget-view+json": {
       "model_id": "af07ae66437140cdbcafe3d275a912a0",
       "version_major": 2,
       "version_minor": 0
      },
      "text/html": [
       "\n",
       "            <div style=\"display: inline-block;\">\n",
       "                <div class=\"jupyter-widgets widget-label\" style=\"text-align: center;\">\n",
       "                    Figure\n",
       "                </div>\n",
       "                <img src='data:image/png;base64,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' width=640.0/>\n",
       "            </div>\n",
       "        "
      ],
      "text/plain": [
       "Canvas(toolbar=Toolbar(toolitems=[('Home', 'Reset original view', 'home', 'home'), ('Back', 'Back to previous …"
      ]
     },
     "metadata": {},
     "output_type": "display_data"
    }
   ],
   "source": [
    "# --- plot the distributions --- #\n",
    "\n",
    "#(head_pec_sizes[head_pec_sizes!=0]\n",
    "#pec_tail_sizes[pec_tail_sizes!=0]\n",
    "\n",
    "fig, axs = plt.subplots()\n",
    "ax = axs\n",
    "thresh_val = 1.2\n",
    "histbins = np.linspace(0, 1.5, num=200)\n",
    "ax.hist(head_pec_sizes, label='head', alpha=0.5, density=True, bins=histbins);#, log=True);;\n",
    "ax.set_xlim(0,1.5)\n",
    "ax.set_xticks([0,0.5,1,thresh_val,1.5])\n",
    "ax.set_ylim([0,6])\n",
    "ax.set_yticks([0,6])\n",
    "ax.axvline(thresh_val, color='black', linestyle='--') #the threshold\n",
    "\n",
    "\n",
    "\n",
    "fig, axs = plt.subplots()\n",
    "ax = axs\n",
    "thresh_val = 2.5\n",
    "histbins = np.linspace(0, 3, num=200)\n",
    "ax.hist(pec_tail_sizes, label='head', alpha=0.5, density=True, bins=histbins);# log=True);;\n",
    "ax.set_xlim(0,3)\n",
    "ax.set_xticks([0,1,2,thresh_val,3])\n",
    "ax.set_ylim([0,2.6])\n",
    "ax.set_yticks([0,2.6])\n",
    "ax.axvline(thresh_val, color='black', linestyle='--') #the threshold\n"
   ]
  },
  {
   "cell_type": "code",
   "execution_count": null,
   "id": "803c8bed-555b-498a-9544-bd392f390639",
   "metadata": {},
   "outputs": [],
   "source": []
  },
  {
   "cell_type": "code",
   "execution_count": null,
   "id": "549b2e75-910d-4c16-937d-014039312ffb",
   "metadata": {},
   "outputs": [],
   "source": []
  },
  {
   "cell_type": "code",
   "execution_count": null,
   "id": "d51afac9-59d4-40e6-9441-41d3f14f594b",
   "metadata": {},
   "outputs": [],
   "source": []
  },
  {
   "cell_type": "code",
   "execution_count": 25,
   "id": "b2601826-4ce5-4618-af2e-9b68ed28adc6",
   "metadata": {},
   "outputs": [
    {
     "data": {
      "application/vnd.jupyter.widget-view+json": {
       "model_id": "18a0e52e637e4870bed26cbd4662cd75",
       "version_major": 2,
       "version_minor": 0
      },
      "text/html": [
       "\n",
       "            <div style=\"display: inline-block;\">\n",
       "                <div class=\"jupyter-widgets widget-label\" style=\"text-align: center;\">\n",
       "                    Figure\n",
       "                </div>\n",
       "                <img src='data:image/png;base64,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' width=200.0/>\n",
       "            </div>\n",
       "        "
      ],
      "text/plain": [
       "Canvas(toolbar=Toolbar(toolitems=[('Home', 'Reset original view', 'home', 'home'), ('Back', 'Back to previous …"
      ]
     },
     "metadata": {},
     "output_type": "display_data"
    },
    {
     "data": {
      "application/vnd.jupyter.widget-view+json": {
       "model_id": "a396bd29d4f744309a0e3a48fbb6b4e6",
       "version_major": 2,
       "version_minor": 0
      },
      "text/html": [
       "\n",
       "            <div style=\"display: inline-block;\">\n",
       "                <div class=\"jupyter-widgets widget-label\" style=\"text-align: center;\">\n",
       "                    Figure\n",
       "                </div>\n",
       "                <img src='data:image/png;base64,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' width=200.0/>\n",
       "            </div>\n",
       "        "
      ],
      "text/plain": [
       "Canvas(toolbar=Toolbar(toolitems=[('Home', 'Reset original view', 'home', 'home'), ('Back', 'Back to previous …"
      ]
     },
     "metadata": {},
     "output_type": "display_data"
    }
   ],
   "source": [
    "\n",
    "fig, axs = plt.subplots(figsize=(2,1.6))\n",
    "ax = axs\n",
    "thresh_val = 1.1\n",
    "histbins = np.linspace(0, 1.5, num=200)\n",
    "ax.hist(head_pec_sizes, label='head', alpha=0.5, density=True, bins=histbins);#, log=True);;\n",
    "ax.set_xlim(0,1.5)\n",
    "ax.set_xticks([0,0.5,1,thresh_val,1.5])\n",
    "ax.set_ylim([0,6])\n",
    "ax.set_yticks([0,6])\n",
    "ax.axvline(thresh_val, color='black', linestyle='--') #the threshold\n",
    "\n",
    "ax.set_xticklabels([])\n",
    "ax.set_yticklabels([])\n",
    "ax.set_xlabel('')\n",
    "ax.set_ylabel('')\n",
    "for axis in ['top','bottom','left','right']:\n",
    "    ax.spines[axis].set_linewidth(1.5)\n",
    "ax.xaxis.set_tick_params(width=1.5, length=4)\n",
    "ax.yaxis.set_tick_params(width=1.5, length=4)\n",
    "ax.grid(alpha=0.2)\n",
    "fig.tight_layout()\n",
    "#fig.savefig('/home/liam/temp/image_transfer/SI_fig_tracking_params_B1.png', dpi=300, transparent=True)\n",
    "\n",
    "\n",
    "\n",
    "\n",
    "\n",
    "\n",
    "\n",
    "fig, axs = plt.subplots(figsize=(2,1.6))\n",
    "ax = axs\n",
    "thresh_val = 2.5\n",
    "histbins = np.linspace(0, 3, num=200)\n",
    "ax.hist(pec_tail_sizes, label='head', alpha=0.5, density=True, bins=histbins);# log=True);;\n",
    "ax.set_xlim(0,3)\n",
    "ax.set_xticks([0,1,2,thresh_val,3])\n",
    "ax.set_ylim([0,2.6])\n",
    "ax.set_yticks([0,2.6])\n",
    "ax.axvline(thresh_val, color='black', linestyle='--') #the threshold\n",
    "\n",
    "ax.set_xticklabels([])\n",
    "ax.set_yticklabels([])\n",
    "ax.set_xlabel('')\n",
    "ax.set_ylabel('')\n",
    "for axis in ['top','bottom','left','right']:\n",
    "    ax.spines[axis].set_linewidth(1.5)\n",
    "ax.xaxis.set_tick_params(width=1.5, length=4)\n",
    "ax.yaxis.set_tick_params(width=1.5, length=4)\n",
    "ax.grid(alpha=0.2)\n",
    "fig.tight_layout()\n",
    "#fig.savefig('/home/liam/temp/image_transfer/SI_fig_tracking_params_B2.png', dpi=300, transparent=True)"
   ]
  },
  {
   "cell_type": "code",
   "execution_count": null,
   "id": "b4cd4e55-e85b-4d9e-ae08-2addfa192cb0",
   "metadata": {},
   "outputs": [],
   "source": []
  },
  {
   "cell_type": "code",
   "execution_count": 30,
   "id": "a6c01be1-4f31-481f-a851-0027d3eb098d",
   "metadata": {},
   "outputs": [
    {
     "data": {
      "application/vnd.jupyter.widget-view+json": {
       "model_id": "ffa4ec96e8b941f48314ccbcff5eed66",
       "version_major": 2,
       "version_minor": 0
      },
      "text/html": [
       "\n",
       "            <div style=\"display: inline-block;\">\n",
       "                <div class=\"jupyter-widgets widget-label\" style=\"text-align: center;\">\n",
       "                    Figure\n",
       "                </div>\n",
       "                <img src='data:image/png;base64,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' width=200.0/>\n",
       "            </div>\n",
       "        "
      ],
      "text/plain": [
       "Canvas(toolbar=Toolbar(toolitems=[('Home', 'Reset original view', 'home', 'home'), ('Back', 'Back to previous …"
      ]
     },
     "metadata": {},
     "output_type": "display_data"
    }
   ],
   "source": [
    "fig, axs = plt.subplots(nrows=2, figsize=(2,1.6))\n",
    "\n",
    "\n",
    "\n",
    "ax = axs[0]\n",
    "thresh_val = 1.2\n",
    "histbins = np.linspace(0, 3, num=200)\n",
    "ax.hist(head_pec_sizes, label='head', alpha=0.5, density=True, bins=histbins);#, log=True);;\n",
    "ax.set_xlim(0,3)\n",
    "ax.set_xticks([0,1,thresh_val,2,3])\n",
    "ax.set_ylim([0,6])\n",
    "ax.set_yticks([0,6])\n",
    "ax.axvline(thresh_val, color='black', linestyle='--') #the threshold\n",
    "\n",
    "ax.set_xticklabels([])\n",
    "ax.set_yticklabels([])\n",
    "ax.set_xlabel('')\n",
    "ax.set_ylabel('')\n",
    "for axis in ['top','bottom','left','right']:\n",
    "    ax.spines[axis].set_linewidth(1.5)\n",
    "ax.xaxis.set_tick_params(width=1.5, length=4)\n",
    "ax.yaxis.set_tick_params(width=1.5, length=4)\n",
    "ax.grid(alpha=0.2)\n",
    "\n",
    "\n",
    "\n",
    "\n",
    "ax = axs[1]\n",
    "thresh_val = 2.5\n",
    "histbins = np.linspace(0, 3, num=200)\n",
    "ax.hist(pec_tail_sizes, label='head', alpha=0.5, density=True, bins=histbins);# log=True);;\n",
    "ax.set_xlim(0,3)\n",
    "ax.set_xticks([0,1,2,thresh_val,3])\n",
    "ax.set_ylim([0,2.6])\n",
    "ax.set_yticks([0,2.6])\n",
    "ax.axvline(thresh_val, color='black', linestyle='--') #the threshold\n",
    "\n",
    "ax.set_xticklabels([])\n",
    "ax.set_yticklabels([])\n",
    "ax.set_xlabel('')\n",
    "ax.set_ylabel('')\n",
    "for axis in ['top','bottom','left','right']:\n",
    "    ax.spines[axis].set_linewidth(1.5)\n",
    "ax.xaxis.set_tick_params(width=1.5, length=4)\n",
    "ax.yaxis.set_tick_params(width=1.5, length=4)\n",
    "ax.grid(alpha=0.2)\n",
    "fig.tight_layout()\n",
    "\n",
    "\n",
    "\n",
    "fig.tight_layout()\n",
    "fig.savefig('/home/liam/temp/image_transfer/SI_fig_tracking_params_D.png', dpi=300, transparent=True)"
   ]
  },
  {
   "cell_type": "code",
   "execution_count": null,
   "id": "288ceac6-5c22-4319-9d75-3875ea7313b7",
   "metadata": {},
   "outputs": [],
   "source": []
  }
 ],
 "metadata": {
  "kernelspec": {
   "display_name": "analysis",
   "language": "python",
   "name": "analysis"
  },
  "language_info": {
   "codemirror_mode": {
    "name": "ipython",
    "version": 3
   },
   "file_extension": ".py",
   "mimetype": "text/x-python",
   "name": "python",
   "nbconvert_exporter": "python",
   "pygments_lexer": "ipython3",
   "version": "3.9.7"
  }
 },
 "nbformat": 4,
 "nbformat_minor": 5
}

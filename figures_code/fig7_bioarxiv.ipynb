{
 "cells": [
  {
   "cell_type": "code",
   "execution_count": null,
   "id": "8dce474b-ff82-45f8-8d31-601d5e217bf3",
   "metadata": {},
   "outputs": [],
   "source": []
  },
  {
   "cell_type": "markdown",
   "id": "a06ad90c-9492-45f0-8c33-97b2c2e15f47",
   "metadata": {},
   "source": [
    "# Notes"
   ]
  },
  {
   "cell_type": "code",
   "execution_count": null,
   "id": "da4dca35-5fa6-4146-a434-25ef59e6192e",
   "metadata": {},
   "outputs": [],
   "source": []
  },
  {
   "cell_type": "code",
   "execution_count": null,
   "id": "3e91f8af-6e77-47c7-9c61-b80df90ef29e",
   "metadata": {},
   "outputs": [],
   "source": []
  },
  {
   "cell_type": "code",
   "execution_count": null,
   "id": "f47abab5-a698-41ee-8d58-d13cd72fc59c",
   "metadata": {},
   "outputs": [],
   "source": []
  },
  {
   "cell_type": "markdown",
   "id": "0b7a9bb6-1767-41e8-92dc-fddd198bce9e",
   "metadata": {},
   "source": [
    "# Imports"
   ]
  },
  {
   "cell_type": "code",
   "execution_count": 2,
   "id": "0ffc9353-7621-4809-8238-000f55235c2a",
   "metadata": {},
   "outputs": [
    {
     "name": "stdout",
     "output_type": "stream",
     "text": [
      "The autoreload extension is already loaded. To reload it, use:\n",
      "  %reload_ext autoreload\n"
     ]
    }
   ],
   "source": [
    "import numpy as np\n",
    "np.set_printoptions(suppress=True)\n",
    "import h5py\n",
    "import time\n",
    "import glob\n",
    "import pandas as pd\n",
    "import matplotlib.pyplot as plt\n",
    "import seaborn as sns\n",
    "import os\n",
    "import sys\n",
    "%matplotlib widget\n",
    "%load_ext autoreload\n",
    "%autoreload 2\n",
    "\n",
    "# --- import functions for computing kinematic variables --- #\n",
    "sys.path.append('../tracking_code/lib/')\n",
    "sys.path.append('./lib/')\n"
   ]
  },
  {
   "cell_type": "code",
   "execution_count": null,
   "id": "038d254d-0e40-468f-8d2f-20a16e5a2340",
   "metadata": {},
   "outputs": [],
   "source": []
  },
  {
   "cell_type": "code",
   "execution_count": null,
   "id": "9013180b-cd2e-465e-8cb5-664caeb4bb88",
   "metadata": {},
   "outputs": [],
   "source": []
  },
  {
   "cell_type": "code",
   "execution_count": null,
   "id": "021ce29f-a439-4cfb-8d8e-687b7f6d1825",
   "metadata": {},
   "outputs": [],
   "source": []
  },
  {
   "cell_type": "markdown",
   "id": "e30d0a2e-1a41-473c-ba47-465bb8ceeb55",
   "metadata": {},
   "source": [
    "# Functions "
   ]
  },
  {
   "cell_type": "code",
   "execution_count": 3,
   "id": "f5cbdd2d-6e04-47f3-9295-b9f1f9628a31",
   "metadata": {},
   "outputs": [],
   "source": [
    "def return_state_probabilities_from_state_tseries(state_tseries, numLabelledStates):\n",
    "    ''' Return the probabilities of each state in the state_tseries. \n",
    "        Each value in state_tseries is between 0 and numLabelledStates-1, or NaN,\n",
    "        or -1 if it was belonging to another cluster (nonlabelled cluster)\n",
    "        Return the probability of each state as a vector, with the last entry being prob\n",
    "        of another cluster, and NaN data excluded.\n",
    "    \n",
    "    --- args ---\n",
    "    state_tseries: a 1D timeseries of cluster indexes, starting from -1,  \n",
    "                   Can contains NaNs.\n",
    "    numLabelledStates: the number of state indices that should appear in state_tseries.\n",
    "                       Pass this in case no values are found for some indices, in which\n",
    "                       case we know how many zero probabilities to return.\n",
    "               \n",
    "    --- returns ---\n",
    "    state_probs: 1D array of shape (numLabelledStates+1,), containing the probability of \n",
    "                 each cluster idx and lastly the probability of nonlabelled clusters\n",
    "    '''\n",
    "    # add one state for -1 (nonlabelled cluster)\n",
    "    numStates = numLabelledStates + 1\n",
    "    # preallocate the output\n",
    "    state_probs = np.zeros((numStates,))\n",
    "    #  find the number of frames in total excluding NaN frames\n",
    "    state_tseries_nanless = state_tseries[~np.isnan(state_tseries)]\n",
    "    numFrames = state_tseries_nanless.shape[0]\n",
    "    # if we have no non-nan frames, all probs are zero except the last\n",
    "    if numFrames == 0:\n",
    "        return state_probs\n",
    "    else:\n",
    "        # first compute main states probs\n",
    "        for stateIdx in range(numLabelledStates):\n",
    "            state_counts = np.where(state_tseries_nanless==stateIdx)[0].shape[0]\n",
    "            state_probs[stateIdx] = state_counts / numFrames\n",
    "        # now add the final NaN probability\n",
    "        other_state_counts = np.where(state_tseries_nanless==-1)[0].shape[0]\n",
    "        state_probs[-1] = other_state_counts / numFrames\n",
    "        return state_probs\n",
    "\n",
    "\n",
    "    \n",
    "def compute_state_probabilities_in_time_windows(state_tseries, time_windows, numLabelledStates):\n",
    "    ''' Compute the probability of each of the state indices in state_tseries, in\n",
    "        each of the windows in time_windows.\n",
    "    \n",
    "    --- args ---\n",
    "    state_tseries: a 1D timeseries of cluster indexes, starting from 0 to (numLabelledClusters-1)\n",
    "                   for the labelled states, -1 for all nonlabelled states, and NaN for missing data.\n",
    "    time_windows: array of shape (numWins,2), where each row contains a start frame\n",
    "                  and a stop frame which define a region in time. The probabilities\n",
    "                  are estimated in each of these regions in time.\n",
    "    numLabelledStates: the number of state indices that should appear in state_tseries.\n",
    "                       Pass this in case no values are found for some indices, in which\n",
    "                       case we know how many zero probabilities to return.\n",
    "               \n",
    "    --- returns ---\n",
    "    window_state_probabilities: a (numWinds, numLabelledStates+1) array containing the \n",
    "                                probability of each cluster idx and lastly the probability of \n",
    "                                nonlabelled cluster occuring. \n",
    "                                \n",
    "    --- see also ---\n",
    "    return_state_probabilities_from_state_tseries: \n",
    "    the function which does the main computation in each time window.\n",
    "    \n",
    "    '''\n",
    "    numWins = time_windows.shape[0]\n",
    "    window_state_probabilities = np.zeros((numWins, numLabelledStates+1)) # plus1 for the nonlabelled states\n",
    "    for winIdx in range(numWins):\n",
    "        w0,wE = time_windows[winIdx]\n",
    "        win_data = state_tseries[w0:wE]\n",
    "        win_state_probs = return_state_probabilities_from_state_tseries(win_data, numLabelledStates)\n",
    "        window_state_probabilities[winIdx] = win_state_probs\n",
    "    return window_state_probabilities"
   ]
  },
  {
   "cell_type": "code",
   "execution_count": 4,
   "id": "d3604225-ea0f-4ec2-b9d6-294ee608de9e",
   "metadata": {},
   "outputs": [],
   "source": [
    "def return_region_win_state_probs(region_data, all_exp_window_state_probabilities, all_exp_time_windows, all_exp_numFrames):\n",
    "    ''' Return the list over fight-bouts, containing the windowed state probabilities for the chosen region.\n",
    "    \n",
    "    --- args ---\n",
    "    region_data: array (numBouts,3), where first col is exp idxs, 2nd and 3rd cols are the start/stop\n",
    "                 frames of certain regions, e.g. 3 mins before a fightbout.\n",
    "    \n",
    "    all_exp_window_state_probabilities: the list over experiments, containing the windowed state probability of\n",
    "                                        infomap clusters, e.g. each element of the list is a (numWins, 11) array,\n",
    "                                        where 11 is the number of states and state vals sum to 1.\n",
    "                                        \n",
    "    all_exp_time_windows: the list over experiments, with elements being the time windows associated with the \n",
    "                          state probabilities in all_exp_window_state_probabilities.\n",
    "                          \n",
    "    all_exp_numFrames: a list over experiments containing the number of frames in each experiment.\n",
    "                          \n",
    "    --- return ---\n",
    "    exps_region_win_state_probs: a list over fight bouts, where each element is a (numRegionWins,numStates) array\n",
    "                                 of state proabilities for windows during the chosen region for a particular fight bout.\n",
    "                                 \n",
    "    --- see also ---\n",
    "    find_time_window_indices_bounding_start_and_stop_frame()\n",
    "    \n",
    "    '''\n",
    "    #exps_region_time_wins = []\n",
    "    exps_region_win_state_probs = []\n",
    "\n",
    "    skipped_bIdxs = []\n",
    "    for bIdx in range(region_data.shape[0]):\n",
    "        expIdx, t0, tE = region_data[bIdx]\n",
    "        \n",
    "        # if t0 is negative, exclude this fight bout\n",
    "        # if tE is greater than the number of frames in the experiment, exclude fight bout\n",
    "        if t0 < 0:\n",
    "            skipped_bIdxs.append(bIdx)\n",
    "            continue\n",
    "        expnfs = expNumFrames[expIdx]\n",
    "        if tE > expnfs:\n",
    "            skipped_bIdxs.append(bIdx)\n",
    "            continue\n",
    "\n",
    "        exp_win_state_probs = all_exp_window_state_probabilities[expIdx]\n",
    "        exp_time_wins = all_exp_time_windows[expIdx]\n",
    "\n",
    "        desired_first_win_idx, desired_last_win_idx = find_time_window_indices_bounding_start_and_stop_frame(exp_time_wins, \n",
    "                                                                                                             t0, tE)\n",
    "\n",
    "        #region_time_wins = exp_time_wins[desired_first_win_idx:desired_last_win_idx+1, :] #+1 to get the last win\n",
    "        region_win_state_probs = np.copy(exp_win_state_probs[desired_first_win_idx:desired_last_win_idx+1, :])\n",
    "\n",
    "        #exps_region_time_wins.append(region_time_wins)\n",
    "        exps_region_win_state_probs.append(region_win_state_probs)\n",
    "    \n",
    "    \n",
    "    return exps_region_win_state_probs\n",
    "\n",
    "\n",
    "\n",
    "def find_time_window_indices_bounding_start_and_stop_frame(time_windows, startFrame, stopFrame):\n",
    "    ''' Return the time window indices of which bound the startFrame and stopFrame.\n",
    "    \n",
    "    The idea is to allow for the parsing of time_windows, to choose only windows that contain\n",
    "    no contributions for timepoints outside of the interval [startFrame, stopFrame]\n",
    "    \n",
    "    --- Example ---\n",
    "    time_windows = np.array([[     0,   6000],\n",
    "                            [   100,   6100],\n",
    "                            [   200,   6200],\n",
    "                            ...,\n",
    "                            [711600, 717600],\n",
    "                            [711700, 717700],\n",
    "                            [711800, 717800]])\n",
    "    startFrame = 36000\n",
    "    stopFrame = 66000\n",
    "                       \n",
    "    desired_first_win_idx, desired_first_win_idx = f(time_windows, startFrame, stopFrame)\n",
    "    time_windows[desired_first_win_idx] = array([36000, 42000])\n",
    "    time_windows[desired_last_win_idx] = array([60000, 66000])                  \n",
    "    \n",
    "    -- returns --\n",
    "    desired_first_win_idx, desired_first_win_idx: int, int\n",
    "    \n",
    "    '''\n",
    "    desired_first_win_idx = np.where(time_windows[:,0] >= startFrame)[0][0]\n",
    "    desired_last_win_idx = np.where(time_windows[:,1] >= stopFrame)[0][0]\n",
    "    return desired_first_win_idx, desired_last_win_idx\n",
    "\n",
    "\n",
    "\n",
    "def return_overlapping_windows_for_timeframes(numFrames, window_size=200, window_step=50):\n",
    "    ''' Given a number of frames, return an 2D array of window start-stop frames.\n",
    "    '''\n",
    "    # define, for clarity, the first window\n",
    "    win0_start = 0\n",
    "    win0_mid = int(window_size/2)\n",
    "    win0_end = int(window_size)\n",
    "\n",
    "    # find numWindows, by adding incrementally and watching the last frame\n",
    "    last_frame_in_windows = win0_end\n",
    "    numWindows = 1\n",
    "    while last_frame_in_windows < (numFrames - window_step):\n",
    "        numWindows += 1\n",
    "        last_frame_in_windows = win0_end + (numWindows-1)*window_step\n",
    "\n",
    "    # now fill-in the windows array of frame indices\n",
    "    windows = np.zeros((numWindows, 2))\n",
    "    windows[0, 0] = 0\n",
    "    windows[0, 1] = win0_end\n",
    "    for winIdx in range(1, numWindows):\n",
    "        w0 = winIdx*window_step\n",
    "        wF = w0 + window_size\n",
    "        windows[winIdx, 0] = w0\n",
    "        windows[winIdx, 1] = wF\n",
    "    return windows.astype(int)"
   ]
  },
  {
   "cell_type": "code",
   "execution_count": null,
   "id": "4a3f16a7-8d95-49a7-b61a-08b58dd1ee35",
   "metadata": {},
   "outputs": [],
   "source": []
  },
  {
   "cell_type": "code",
   "execution_count": null,
   "id": "b433d0fd-d176-4342-94b3-a82de654a304",
   "metadata": {},
   "outputs": [],
   "source": []
  },
  {
   "cell_type": "code",
   "execution_count": null,
   "id": "c9e4d905-38ea-4388-9478-1dfaf04f0f83",
   "metadata": {},
   "outputs": [],
   "source": []
  },
  {
   "cell_type": "code",
   "execution_count": null,
   "id": "f8c2c67d-d0a5-4306-a8de-123246dd396a",
   "metadata": {},
   "outputs": [],
   "source": []
  },
  {
   "cell_type": "markdown",
   "id": "b18834f3-9b81-4857-930a-1be269f4a3a6",
   "metadata": {},
   "source": [
    "# load the tracking data"
   ]
  },
  {
   "cell_type": "code",
   "execution_count": null,
   "id": "a801f802-708e-46ad-b624-f54528e9ba60",
   "metadata": {},
   "outputs": [],
   "source": []
  },
  {
   "cell_type": "code",
   "execution_count": 5,
   "id": "1a230372-ee0f-4866-8599-ae624503ce04",
   "metadata": {},
   "outputs": [],
   "source": [
    "main_load_folder = '/media/liam/hd1/fighting_data/tracking_results/'\n",
    "\n",
    "# ----------------------#\n",
    "\n",
    "interp_polyOrd=1  # the order of the polynomial used for interpolation\n",
    "interp_limit=5    # the maximum number of frames to interpolate over\n",
    "savgol_win=9      # the number of frames for the Savitzky-Golay filter\n",
    "savgol_ord=2      # the polynomial order for the Savitzky-Golay filter\n",
    "dt=0.01           # the frame rate of the recording\n",
    "\n",
    "\n",
    "# the filepaths for loading the infomap timeseries data we need\n",
    "infomap_data_loadpath = os.path.join( os.path.dirname(os.path.dirname(main_load_folder)) , \n",
    "                                      'infomap_data/transmat_and_infomap.h5')\n",
    "\n",
    "# the path for loading the fightbout info\n",
    "fightBouts_info_path = os.path.join(main_load_folder, 'fightBouts.h5')\n",
    "\n",
    "\n",
    "# -----------------------#\n",
    "\n",
    "loadpaths = glob.glob(os.path.join(main_load_folder, '*results.h5'))\n",
    "loadpaths.sort()\n",
    "\n",
    "# parse the exp names\n",
    "expNames = [path.split('/')[-1][:23] for path in loadpaths]\n",
    "\n",
    "\n",
    "raw_trajectories = []\n",
    "for path in loadpaths:\n",
    "    with h5py.File(path, 'r') as hf:\n",
    "        tracks_3D_raw = hf['tracks_3D_raw'][:]\n",
    "    raw_trajectories.append(tracks_3D_raw)\n",
    "\n",
    "smooth_trajectories = []\n",
    "for path in loadpaths:\n",
    "    with h5py.File(path, 'r') as hf:\n",
    "        tracks_3D_smooth = hf['tracks_3D_smooth'][:]\n",
    "    smooth_trajectories.append(tracks_3D_smooth)\n",
    "    \n",
    "    \n",
    "# create a list of the number of frames in each experiment\n",
    "expNumFrames = []\n",
    "for expIdx in range(len(expNames)):\n",
    "    nfs = smooth_trajectories[expIdx].shape[0]\n",
    "    expNumFrames.append(nfs)\n",
    "    \n",
    "# -----------------------------#\n",
    "# load other useful information\n",
    "    \n",
    "other_info_loadpath = os.path.join(main_load_folder, 'winners_losers_inconclusive.h5')\n",
    "with h5py.File(other_info_loadpath, 'r') as hf:\n",
    "    winner_idxs = hf['winner_idxs'][:]\n",
    "    loser_idxs = hf['loser_idxs'][:]\n",
    "    conclusive_winner_loser = hf['conclusive_winner_loser'][:]\n",
    "    already_established_dominance = hf['already_established_dominance'][:]\n",
    "\n",
    "    \n"
   ]
  },
  {
   "cell_type": "code",
   "execution_count": null,
   "id": "c37e0758-25f8-4fff-bfad-f395691f4ea4",
   "metadata": {},
   "outputs": [],
   "source": []
  },
  {
   "cell_type": "code",
   "execution_count": null,
   "id": "71191c8f-9357-4735-87a5-3e3910c8447b",
   "metadata": {},
   "outputs": [],
   "source": []
  },
  {
   "cell_type": "code",
   "execution_count": null,
   "id": "a7279cc0-5d59-4550-bc43-c1b45588eef7",
   "metadata": {},
   "outputs": [],
   "source": []
  },
  {
   "cell_type": "code",
   "execution_count": null,
   "id": "bb074f70-5a8f-4b63-97bf-c5c16c7a1d5b",
   "metadata": {},
   "outputs": [],
   "source": []
  },
  {
   "cell_type": "code",
   "execution_count": null,
   "id": "5ef5b0aa-bcb8-4e58-ac61-f23e08c93170",
   "metadata": {},
   "outputs": [],
   "source": []
  },
  {
   "cell_type": "code",
   "execution_count": null,
   "id": "ec98a1be-0502-468e-abf1-da41ed6bf119",
   "metadata": {},
   "outputs": [],
   "source": []
  },
  {
   "cell_type": "code",
   "execution_count": null,
   "id": "f4112043-c61e-46cc-be04-fe1ebf739122",
   "metadata": {},
   "outputs": [],
   "source": []
  },
  {
   "cell_type": "markdown",
   "id": "5aa8657e-f1db-4f6b-9b17-6cf7064a7db7",
   "metadata": {},
   "source": [
    "# load the post-processed tseries of infomap cluster idxs"
   ]
  },
  {
   "cell_type": "code",
   "execution_count": null,
   "id": "4768dd1e-73e8-4111-ba93-1951528952ab",
   "metadata": {},
   "outputs": [],
   "source": []
  },
  {
   "cell_type": "code",
   "execution_count": 6,
   "id": "283fbeed-93a8-4524-9d21-d9029a4b7fa4",
   "metadata": {},
   "outputs": [
    {
     "data": {
      "text/plain": [
       "(16044324,)"
      ]
     },
     "execution_count": 6,
     "metadata": {},
     "output_type": "execute_result"
    }
   ],
   "source": [
    "# load\n",
    "all_exps_edited_postProced_clusterIdx_tseries = []\n",
    "postprocessed_all_exp_edited_cluster_tseries_savepath = os.path.join(os.path.dirname(infomap_data_loadpath),\n",
    "                                                                     'postprocessed_exp_edited_clusterIdx_timeseries.h5')\n",
    "with h5py.File(postprocessed_all_exp_edited_cluster_tseries_savepath, 'r') as hf:\n",
    "    for expIdx in range(len(expNames)):\n",
    "        expName = expNames[expIdx]\n",
    "        tseries = hf['{0}_clusterIdxs'.format(expName)][:]\n",
    "        all_exps_edited_postProced_clusterIdx_tseries.append(tseries)\n",
    "        \n",
    "# make the master-set\n",
    "clusterIdx_edited_postProced_tseries_master = np.concatenate(all_exps_edited_postProced_clusterIdx_tseries)\n",
    "clusterIdx_edited_postProced_tseries_master.shape"
   ]
  },
  {
   "cell_type": "code",
   "execution_count": null,
   "id": "7ab507bc-7b5b-4c2f-8a43-da8ab7b29b23",
   "metadata": {},
   "outputs": [],
   "source": []
  },
  {
   "cell_type": "code",
   "execution_count": null,
   "id": "fbd038b3-530b-473a-8512-bfc00bade4b3",
   "metadata": {},
   "outputs": [],
   "source": []
  },
  {
   "cell_type": "code",
   "execution_count": 7,
   "id": "6e731329-52d7-4225-a8c6-bffeb9dccd25",
   "metadata": {},
   "outputs": [],
   "source": [
    "# We use these for plotting consistent fight maneuver colors across figures\n",
    "colorlist = ['#ffe119', '#3cb44b', '#e6194B', '#4363d8', '#f58231', \n",
    "             '#911eb4', '#42d4f4', '#f032e6', '#bfef45', '#fabed4', \n",
    "             '#469990', '#dcbeff', '#9A6324', '#800000', \n",
    "             '#aaffc3', '#808000', '#ffd8b1', '#000075', '#a9a9a9'] \n"
   ]
  },
  {
   "cell_type": "code",
   "execution_count": 8,
   "id": "0beab27a-5e2b-48a8-8825-668e1e4c11fd",
   "metadata": {},
   "outputs": [
    {
     "data": {
      "text/plain": [
       "['circling',\n",
       " 'direct away',\n",
       " 'winner attack',\n",
       " 'loser attack',\n",
       " 'display',\n",
       " 'direct to',\n",
       " 'middle circling',\n",
       " 'L approach',\n",
       " 'W approach',\n",
       " 'parallel',\n",
       " 'non-fight clusters']"
      ]
     },
     "execution_count": 8,
     "metadata": {},
     "output_type": "execute_result"
    }
   ],
   "source": [
    "\n",
    "# these are the state names of the clusterIdx_edited_postProced_tseries\n",
    "all_state_names = ['circling',\n",
    "                 'direct away',\n",
    "                 'winner attack',\n",
    "                 'loser attack',\n",
    "                 'display',\n",
    "                 'direct to',\n",
    "                 'middle circling',\n",
    "                 'L approach',\n",
    "                 'W approach',\n",
    "                 'parallel',\n",
    "                 'non-fight clusters']\n",
    "\n",
    "all_state_names"
   ]
  },
  {
   "cell_type": "code",
   "execution_count": 9,
   "id": "d907122c-8ce7-4967-ac25-2f5ac06047ac",
   "metadata": {},
   "outputs": [
    {
     "data": {
      "text/plain": [
       "11"
      ]
     },
     "execution_count": 9,
     "metadata": {},
     "output_type": "execute_result"
    }
   ],
   "source": [
    "len(all_state_names)"
   ]
  },
  {
   "cell_type": "code",
   "execution_count": 10,
   "id": "f8dc1a32-c48b-479c-bed3-130714e687d7",
   "metadata": {},
   "outputs": [
    {
     "data": {
      "text/plain": [
       "10"
      ]
     },
     "execution_count": 10,
     "metadata": {},
     "output_type": "execute_result"
    }
   ],
   "source": [
    "numLabelledStates = len(all_state_names)-1\n",
    "numLabelledStates\n"
   ]
  },
  {
   "cell_type": "code",
   "execution_count": null,
   "id": "a90f43f5-302d-457a-96ab-53073443993c",
   "metadata": {},
   "outputs": [],
   "source": []
  },
  {
   "cell_type": "code",
   "execution_count": 11,
   "id": "9e4e9516-5526-468b-b988-eefe2da26630",
   "metadata": {},
   "outputs": [
    {
     "data": {
      "text/plain": [
       "array([-1.,  0.,  1.,  2.,  3.,  4.,  5.,  6.,  7.,  8.,  9.])"
      ]
     },
     "execution_count": 11,
     "metadata": {},
     "output_type": "execute_result"
    }
   ],
   "source": [
    "# -1 represent nonFight clusters\n",
    "# NaN data means missing data\n",
    "np.unique(clusterIdx_edited_postProced_tseries_master[~np.isnan(clusterIdx_edited_postProced_tseries_master)])"
   ]
  },
  {
   "cell_type": "code",
   "execution_count": null,
   "id": "5c93e345-d43b-4588-8863-821f8c5269d7",
   "metadata": {},
   "outputs": [],
   "source": []
  },
  {
   "cell_type": "code",
   "execution_count": null,
   "id": "65b4f1cc-6d82-4c95-a78f-80c0c0ff5c4d",
   "metadata": {},
   "outputs": [],
   "source": []
  },
  {
   "cell_type": "code",
   "execution_count": null,
   "id": "2389e9c1-aea4-42a5-92a2-ed8bbba8a651",
   "metadata": {},
   "outputs": [],
   "source": []
  },
  {
   "cell_type": "markdown",
   "id": "a8be277e-e01c-4118-a722-c7d26cf2fa33",
   "metadata": {},
   "source": [
    "# Compute the windowed probabilities"
   ]
  },
  {
   "cell_type": "code",
   "execution_count": 12,
   "id": "8fe83190-b609-422f-a6e3-f5302cdf063e",
   "metadata": {},
   "outputs": [
    {
     "name": "stdout",
     "output_type": "stream",
     "text": [
      "FishTank20200127_143538\n",
      "FishTank20200129_140656\n",
      "FishTank20200130_153857\n",
      "FishTank20200130_181614\n",
      "FishTank20200207_161445\n",
      "FishTank20200213_154940\n",
      "FishTank20200214_153519\n",
      "FishTank20200217_160052\n",
      "FishTank20200218_153008\n",
      "FishTank20200316_163320\n",
      "FishTank20200327_154737\n",
      "FishTank20200330_161100\n",
      "FishTank20200331_162136\n",
      "FishTank20200520_152810\n",
      "FishTank20200521_154541\n",
      "FishTank20200525_161602\n",
      "FishTank20200526_160100\n",
      "FishTank20200527_152401\n",
      "FishTank20200824_151740\n",
      "FishTank20200828_155504\n",
      "FishTank20200902_160124\n",
      "FishTank20200903_160946\n"
     ]
    }
   ],
   "source": [
    "# compute the windowed state probabilities for each experiment\n",
    "window_size= 3000 #6000\n",
    "window_step=100\n",
    "\n",
    "all_exp_window_state_probabilities = []\n",
    "all_exp_time_windows = []\n",
    "\n",
    "for expIdx in range(len(expNames)):\n",
    "    expName = expNames[expIdx]\n",
    "    print(expName)\n",
    "    exp_cls_tseries = np.copy(all_exps_edited_postProced_clusterIdx_tseries[expIdx])\n",
    "    exp_numFrames = exp_cls_tseries.shape[0]\n",
    "    exp_time_windows = return_overlapping_windows_for_timeframes(exp_numFrames, window_size=window_size, window_step=window_step)\n",
    "    exp_window_state_probabilities = compute_state_probabilities_in_time_windows(exp_cls_tseries, exp_time_windows, numLabelledStates)\n",
    "    all_exp_window_state_probabilities.append(exp_window_state_probabilities)\n",
    "    all_exp_time_windows.append(exp_time_windows)"
   ]
  },
  {
   "cell_type": "code",
   "execution_count": null,
   "id": "7d742b12-41a9-45e1-b959-bdec4c99fd91",
   "metadata": {},
   "outputs": [],
   "source": []
  },
  {
   "cell_type": "code",
   "execution_count": null,
   "id": "54f84754-6b32-443e-9e3c-d4a7e5523168",
   "metadata": {},
   "outputs": [],
   "source": []
  },
  {
   "cell_type": "markdown",
   "id": "a2aaea59-0c60-48a7-b9ad-65a139b3cd03",
   "metadata": {},
   "source": [
    "# Load the fight boundaries for this figure"
   ]
  },
  {
   "cell_type": "markdown",
   "id": "23500677-c8dc-47ae-bb79-625f13e0c8dc",
   "metadata": {},
   "source": [
    "See the fight_detector.ipynb notebook for more information"
   ]
  },
  {
   "cell_type": "code",
   "execution_count": 13,
   "id": "ea2a0a4d-b128-48f6-9c48-dc73b71ae316",
   "metadata": {},
   "outputs": [
    {
     "data": {
      "text/plain": [
       "'/media/liam/hd1/fighting_data/tracking_results/fightBouts.h5'"
      ]
     },
     "execution_count": 13,
     "metadata": {},
     "output_type": "execute_result"
    }
   ],
   "source": [
    "fightBouts_info_path"
   ]
  },
  {
   "cell_type": "code",
   "execution_count": 14,
   "id": "4171d97b-66e2-4edc-9702-dcc754650897",
   "metadata": {},
   "outputs": [
    {
     "data": {
      "text/plain": [
       "(18, 4)"
      ]
     },
     "execution_count": 14,
     "metadata": {},
     "output_type": "execute_result"
    }
   ],
   "source": [
    "with h5py.File(fightBouts_info_path, 'r') as hf:\n",
    "    fight_bout_info = hf['fight_bout_info'][:]\n",
    "    \n",
    "fight_bout_info.shape"
   ]
  },
  {
   "cell_type": "code",
   "execution_count": null,
   "id": "80dff317-2b24-4ada-91b4-696128f4f19c",
   "metadata": {},
   "outputs": [],
   "source": []
  },
  {
   "cell_type": "code",
   "execution_count": null,
   "id": "aa879b2b-67ea-474f-9c56-d369c6792a24",
   "metadata": {},
   "outputs": [],
   "source": []
  },
  {
   "cell_type": "code",
   "execution_count": null,
   "id": "82e55c9c-d2bb-4a40-9e15-8c8caa8cc8d7",
   "metadata": {},
   "outputs": [],
   "source": []
  },
  {
   "cell_type": "markdown",
   "id": "d0b0ef58-b160-4293-a0ac-1ee7c8803a7e",
   "metadata": {},
   "source": [
    "# grabbing the exp and time frame data for each of the 4 periods"
   ]
  },
  {
   "cell_type": "code",
   "execution_count": null,
   "id": "b8431250-5249-4c5d-94ad-faa21297b6b1",
   "metadata": {},
   "outputs": [],
   "source": []
  },
  {
   "cell_type": "code",
   "execution_count": 15,
   "id": "d634fcf3-ddee-4ef7-9bc5-470a226eacc7",
   "metadata": {},
   "outputs": [],
   "source": [
    "# ---- get the frame ranges for each of the 4 time periods ---#\n",
    "\n",
    "\n",
    "''' Schematic for pre-fight\n",
    "\n",
    "win_size = 6000\n",
    "f0 = 36000\n",
    "desired_time_win = 18000\n",
    "\n",
    "win_buff = window_size/2 = 3000\n",
    "\n",
    "pre_fight_time_data = f0 - (desired_time_win+win_buff) : f0 + win_buff\n",
    "                    = 36000 - (21000) : 36000 + 3000\n",
    "                    = 15900 : 39000\n",
    "                    \n",
    "-    : normal time\n",
    "*    : buffer\n",
    "&    : desired region\n",
    "<--> : sample window\n",
    "\n",
    "The buffer allows us to center windows right up until the edges of the desired regions.\n",
    "                    \n",
    "-----------*****&&&&&&&&&*****--------------\n",
    "           <-------->   \n",
    "                    <--------> \n",
    "'''\n",
    "\n",
    "epoch_names = ['pre fight start', 'post fight start', 'pre fight end', 'post fight end']\n",
    "\n",
    "pre_fight_time_data = []\n",
    "start_fight_time_data = []\n",
    "end_fight_time_data = []\n",
    "post_fight_time_data = []\n",
    "\n",
    "desired_time_win = 18000\n",
    "win_buff = window_size/2 # a bit extra, so we can plot a full desired_time_wins\n",
    "\n",
    "for boutIdx in range(fight_bout_info.shape[0]):\n",
    "    expIdx, f0, fE, _ = fight_bout_info[boutIdx]\n",
    "    \n",
    "    pre_fight_time_data.append( np.array([expIdx, f0-(desired_time_win+win_buff), f0+win_buff]) )\n",
    "    start_fight_time_data.append( np.array([expIdx, f0-win_buff, f0+(desired_time_win+win_buff)]) )\n",
    "    end_fight_time_data.append( np.array([expIdx, fE-(desired_time_win+win_buff), fE+win_buff]) )\n",
    "    post_fight_time_data.append( np.array([expIdx, fE-win_buff, fE+(desired_time_win+win_buff)]) )\n",
    "    \n",
    "    \n",
    "pre_fight_time_data = np.array(pre_fight_time_data).astype(int)\n",
    "start_fight_time_data = np.array(start_fight_time_data).astype(int)\n",
    "end_fight_time_data = np.array(end_fight_time_data).astype(int)\n",
    "post_fight_time_data = np.array(post_fight_time_data).astype(int)\n",
    "\n",
    "\n",
    "total_plot_time_mins = int(desired_time_win / (100*60))"
   ]
  },
  {
   "cell_type": "code",
   "execution_count": null,
   "id": "0d8d5fff-67db-487f-a7a8-298b803ba055",
   "metadata": {},
   "outputs": [],
   "source": []
  },
  {
   "cell_type": "code",
   "execution_count": null,
   "id": "a0255359-a704-4873-aa57-b3bede1f8ad2",
   "metadata": {},
   "outputs": [],
   "source": []
  },
  {
   "cell_type": "markdown",
   "id": "601324be-a715-4e2d-b884-cf4e7a927d23",
   "metadata": {},
   "source": [
    "# grabbing the data"
   ]
  },
  {
   "cell_type": "markdown",
   "id": "bd31c915-7f53-4dbb-a453-b5ac41795363",
   "metadata": {},
   "source": [
    "Get the probabilities in windows, for each of the 11 states (fight-maneuvers & all-non-fight-maneuvers), for  <br>\n",
    "(1) before the start of the bouts  <br>\n",
    "(2) after the start of the bouts  <br>\n",
    "(3) before the end of the bouts  <br>\n",
    "(4) after the end of the bouts <br>"
   ]
  },
  {
   "cell_type": "code",
   "execution_count": null,
   "id": "ad03d730-f17f-4e47-a697-e7d4015c4ab2",
   "metadata": {},
   "outputs": [],
   "source": []
  },
  {
   "cell_type": "code",
   "execution_count": null,
   "id": "8d4eaa67-89df-4cc4-8d79-94e3fd64e607",
   "metadata": {},
   "outputs": [],
   "source": []
  },
  {
   "cell_type": "code",
   "execution_count": 16,
   "id": "21a569fc-bb84-4276-9854-c27728bdc6aa",
   "metadata": {},
   "outputs": [],
   "source": [
    "# a list which contains the information for each of the 4 epochs\n",
    "epoch_region_data_list = [pre_fight_time_data, start_fight_time_data, end_fight_time_data, post_fight_time_data]\n",
    "\n",
    "# compute the windowed probs in each epoch (using multiple fightbouts)\n",
    "epoch_list_of_region_bout_win_state_probs = []\n",
    "for region_data in epoch_region_data_list:\n",
    "    region_bout_win_state_probs_list = return_region_win_state_probs(region_data, \n",
    "                                                                all_exp_window_state_probabilities, \n",
    "                                                                all_exp_time_windows,\n",
    "                                                                expNumFrames)\n",
    "    epoch_list_of_region_bout_win_state_probs.append(np.stack(region_bout_win_state_probs_list,axis=0))\n",
    "    \n"
   ]
  },
  {
   "cell_type": "code",
   "execution_count": 17,
   "id": "a5ee1221-baa6-4f1f-95b5-951e1b22f01e",
   "metadata": {},
   "outputs": [
    {
     "data": {
      "text/plain": [
       "4"
      ]
     },
     "execution_count": 17,
     "metadata": {},
     "output_type": "execute_result"
    }
   ],
   "source": [
    "len(epoch_list_of_region_bout_win_state_probs)"
   ]
  },
  {
   "cell_type": "code",
   "execution_count": 18,
   "id": "ac535ab5-7f54-4c0a-8e47-0627c796cc36",
   "metadata": {},
   "outputs": [
    {
     "data": {
      "text/plain": [
       "(16, 181, 11)"
      ]
     },
     "execution_count": 18,
     "metadata": {},
     "output_type": "execute_result"
    }
   ],
   "source": [
    "epoch_list_of_region_bout_win_state_probs[0].shape"
   ]
  },
  {
   "cell_type": "code",
   "execution_count": 19,
   "id": "90238ac5-4fb8-4a1a-a300-5a36b822da24",
   "metadata": {},
   "outputs": [
    {
     "data": {
      "text/plain": [
       "(18, 181, 11)"
      ]
     },
     "execution_count": 19,
     "metadata": {},
     "output_type": "execute_result"
    }
   ],
   "source": [
    "epoch_list_of_region_bout_win_state_probs[1].shape"
   ]
  },
  {
   "cell_type": "code",
   "execution_count": 20,
   "id": "66c27af6-6b21-4cb8-bc95-33c420edc024",
   "metadata": {},
   "outputs": [
    {
     "data": {
      "text/plain": [
       "(18, 181, 11)"
      ]
     },
     "execution_count": 20,
     "metadata": {},
     "output_type": "execute_result"
    }
   ],
   "source": [
    "epoch_list_of_region_bout_win_state_probs[2].shape"
   ]
  },
  {
   "cell_type": "code",
   "execution_count": 21,
   "id": "f0419904-6072-4213-bf31-2f14ce92ccd0",
   "metadata": {},
   "outputs": [
    {
     "data": {
      "text/plain": [
       "(18, 181, 11)"
      ]
     },
     "execution_count": 21,
     "metadata": {},
     "output_type": "execute_result"
    }
   ],
   "source": [
    "epoch_list_of_region_bout_win_state_probs[3].shape"
   ]
  },
  {
   "cell_type": "code",
   "execution_count": 22,
   "id": "1c9e3564-e60b-41d1-9289-a190821e5c48",
   "metadata": {},
   "outputs": [
    {
     "name": "stdout",
     "output_type": "stream",
     "text": [
      "(numBouts, numWins, numStates)\n"
     ]
    }
   ],
   "source": [
    "print('(numBouts, numWins, numStates)')"
   ]
  },
  {
   "cell_type": "code",
   "execution_count": null,
   "id": "b1c3a380-49e7-4ac6-a786-b2bbd5acf162",
   "metadata": {},
   "outputs": [],
   "source": []
  },
  {
   "cell_type": "code",
   "execution_count": null,
   "id": "1f5af318-0e30-4ec7-bf0e-1b7b8e136c6c",
   "metadata": {},
   "outputs": [],
   "source": []
  },
  {
   "cell_type": "markdown",
   "id": "a4bde36c-7ad7-46fe-b2ff-e22f4db9cab6",
   "metadata": {},
   "source": [
    "# combining maneuvers probabilities in the 4 regions"
   ]
  },
  {
   "cell_type": "markdown",
   "id": "b10bfd1e-4656-4459-8270-d0dbc54a2077",
   "metadata": {},
   "source": [
    " combine the winner stuff, the loser stuff, and the display stuff"
   ]
  },
  {
   "cell_type": "code",
   "execution_count": null,
   "id": "dee522e2-4d04-4f3a-b35b-9b578b1d746f",
   "metadata": {},
   "outputs": [],
   "source": []
  },
  {
   "cell_type": "code",
   "execution_count": 23,
   "id": "ddca6a79-e596-4764-86a3-5378f9a18369",
   "metadata": {},
   "outputs": [
    {
     "name": "stdout",
     "output_type": "stream",
     "text": [
      "0 circling\n",
      "1 direct away\n",
      "2 winner attack\n",
      "3 loser attack\n",
      "4 display\n",
      "5 direct to\n",
      "6 middle circling\n",
      "7 L approach\n",
      "8 W approach\n",
      "9 parallel\n",
      "10 non-fight clusters\n"
     ]
    }
   ],
   "source": [
    "for i, name in enumerate(all_state_names):\n",
    "    print(i, name)"
   ]
  },
  {
   "cell_type": "code",
   "execution_count": null,
   "id": "0f6ece51-f2e7-409d-ad6c-6516f6f9be04",
   "metadata": {},
   "outputs": [],
   "source": []
  },
  {
   "cell_type": "code",
   "execution_count": 24,
   "id": "79f27cdc-d08a-4d80-9a6e-06abff7ab526",
   "metadata": {},
   "outputs": [],
   "source": [
    "epoch_list_of_region_bout_combined_win_state_probs = []\n",
    "\n",
    "for epochIdx in range(4):\n",
    "\n",
    "    bout_arr_win_state_probs = epoch_list_of_region_bout_win_state_probs[epochIdx]\n",
    "\n",
    "    # preallocate \n",
    "    # shapes are (numFights used, numWindows, numManeuvers)\n",
    "    winner_man_win_state_probs = np.zeros((bout_arr_win_state_probs.shape[0], bout_arr_win_state_probs.shape[1], 2))\n",
    "    loser_man_win_state_probs = np.zeros((bout_arr_win_state_probs.shape[0], bout_arr_win_state_probs.shape[1], 2))\n",
    "    display_man_win_state_probs = np.zeros((bout_arr_win_state_probs.shape[0], bout_arr_win_state_probs.shape[1], 4))\n",
    "\n",
    "    # fill in the values\n",
    "    winner_man_win_state_probs[:,:,0] = bout_arr_win_state_probs[:,:,2]  #winner attack\n",
    "    winner_man_win_state_probs[:,:,1] = bout_arr_win_state_probs[:,:,8]  #winner app\n",
    "\n",
    "    loser_man_win_state_probs[:,:,0] = bout_arr_win_state_probs[:,:,3]   #loser attack\n",
    "    loser_man_win_state_probs[:,:,1] = bout_arr_win_state_probs[:,:,7]   #loser app\n",
    "\n",
    "    display_man_win_state_probs[:,:,0] = bout_arr_win_state_probs[:,:,0] # close circling\n",
    "    display_man_win_state_probs[:,:,1] = bout_arr_win_state_probs[:,:,4] # close parallel\n",
    "    display_man_win_state_probs[:,:,2] = bout_arr_win_state_probs[:,:,6] # far circling\n",
    "    display_man_win_state_probs[:,:,3] = bout_arr_win_state_probs[:,:,9] # far parallel\n",
    "\n",
    "\n",
    "    # sum over the states\n",
    "    winner_man_win_state_probs_summed = np.sum(winner_man_win_state_probs, axis=2)\n",
    "    loser_man_win_state_probs_summed = np.sum(loser_man_win_state_probs, axis=2)\n",
    "    display_man_win_state_probs_summed = np.sum(display_man_win_state_probs, axis=2)\n",
    "\n",
    "\n",
    "    # combine into one new array\n",
    "    combined_maneuvers_win_state_probs = np.stack([winner_man_win_state_probs_summed, \n",
    "                                                   loser_man_win_state_probs_summed, \n",
    "                                                   display_man_win_state_probs_summed], axis=2)\n",
    "    \n",
    "    # record\n",
    "    epoch_list_of_region_bout_combined_win_state_probs.append(combined_maneuvers_win_state_probs)\n",
    "\n"
   ]
  },
  {
   "cell_type": "code",
   "execution_count": null,
   "id": "a3f467c2-33c2-4164-90cf-b6db22608f95",
   "metadata": {},
   "outputs": [],
   "source": []
  },
  {
   "cell_type": "code",
   "execution_count": 25,
   "id": "160448cc-783f-4e4d-ad14-7dcff7d3b874",
   "metadata": {},
   "outputs": [
    {
     "data": {
      "text/plain": [
       "4"
      ]
     },
     "execution_count": 25,
     "metadata": {},
     "output_type": "execute_result"
    }
   ],
   "source": [
    "len(epoch_list_of_region_bout_combined_win_state_probs)"
   ]
  },
  {
   "cell_type": "code",
   "execution_count": 26,
   "id": "4a1110f8-9acd-406f-8d76-0cb67ffd4f68",
   "metadata": {},
   "outputs": [
    {
     "data": {
      "text/plain": [
       "(16, 181, 3)"
      ]
     },
     "execution_count": 26,
     "metadata": {},
     "output_type": "execute_result"
    }
   ],
   "source": [
    "epoch_list_of_region_bout_combined_win_state_probs[0].shape"
   ]
  },
  {
   "cell_type": "code",
   "execution_count": 27,
   "id": "3930b376-2985-4fb8-83f3-fa133628349b",
   "metadata": {},
   "outputs": [
    {
     "data": {
      "text/plain": [
       "(18, 181, 3)"
      ]
     },
     "execution_count": 27,
     "metadata": {},
     "output_type": "execute_result"
    }
   ],
   "source": [
    "epoch_list_of_region_bout_combined_win_state_probs[1].shape"
   ]
  },
  {
   "cell_type": "code",
   "execution_count": 28,
   "id": "10b7ffab-c921-478e-9cdb-bd6ace150712",
   "metadata": {},
   "outputs": [
    {
     "data": {
      "text/plain": [
       "(18, 181, 3)"
      ]
     },
     "execution_count": 28,
     "metadata": {},
     "output_type": "execute_result"
    }
   ],
   "source": [
    "epoch_list_of_region_bout_combined_win_state_probs[2].shape"
   ]
  },
  {
   "cell_type": "code",
   "execution_count": 29,
   "id": "64e72df7-b4f2-4fc6-99f9-7ac452ec72be",
   "metadata": {},
   "outputs": [
    {
     "data": {
      "text/plain": [
       "(18, 181, 3)"
      ]
     },
     "execution_count": 29,
     "metadata": {},
     "output_type": "execute_result"
    }
   ],
   "source": [
    "epoch_list_of_region_bout_combined_win_state_probs[3].shape"
   ]
  },
  {
   "cell_type": "code",
   "execution_count": null,
   "id": "0ee865cc-0ba6-4c77-b0ff-e397a02ce548",
   "metadata": {},
   "outputs": [],
   "source": []
  },
  {
   "cell_type": "code",
   "execution_count": 30,
   "id": "d4799431-a1bd-490f-aeb7-c0783510187a",
   "metadata": {},
   "outputs": [
    {
     "name": "stdout",
     "output_type": "stream",
     "text": [
      "(numBouts, numWins, compressed_numStates)\n"
     ]
    }
   ],
   "source": [
    "print('(numBouts, numWins, compressed_numStates)')"
   ]
  },
  {
   "cell_type": "code",
   "execution_count": null,
   "id": "728bfe39-375b-4527-96be-febee37dd039",
   "metadata": {},
   "outputs": [],
   "source": []
  },
  {
   "cell_type": "markdown",
   "id": "fdaa83c1-11e9-4cbb-afbd-b4cd6be245aa",
   "metadata": {},
   "source": [
    "# means across fights and bootstrapping"
   ]
  },
  {
   "cell_type": "code",
   "execution_count": null,
   "id": "b8f0573d-17e7-4384-8fb4-f5298842577c",
   "metadata": {},
   "outputs": [],
   "source": []
  },
  {
   "cell_type": "code",
   "execution_count": 31,
   "id": "a34e1a11-2591-403a-8bc8-3dcdbfcfd0be",
   "metadata": {},
   "outputs": [],
   "source": [
    "# --- compute the means across experiments for each of the 4 regions ----#\n",
    "epoch_across_bout_mean_win_state_probs = []\n",
    "for region_bout_win_state_probs in epoch_list_of_region_bout_combined_win_state_probs:\n",
    "    across_bout_mean = np.mean(region_bout_win_state_probs, axis=0)\n",
    "    epoch_across_bout_mean_win_state_probs.append(across_bout_mean)"
   ]
  },
  {
   "cell_type": "code",
   "execution_count": 32,
   "id": "f4c6a191-ca8f-4d20-8cd9-46f0111d3c82",
   "metadata": {},
   "outputs": [
    {
     "data": {
      "text/plain": [
       "4"
      ]
     },
     "execution_count": 32,
     "metadata": {},
     "output_type": "execute_result"
    }
   ],
   "source": [
    "len(epoch_across_bout_mean_win_state_probs)"
   ]
  },
  {
   "cell_type": "code",
   "execution_count": 33,
   "id": "dce5ba2e-f41d-4af4-a16b-9bd535f4818b",
   "metadata": {},
   "outputs": [
    {
     "data": {
      "text/plain": [
       "(181, 3)"
      ]
     },
     "execution_count": 33,
     "metadata": {},
     "output_type": "execute_result"
    }
   ],
   "source": [
    "epoch_across_bout_mean_win_state_probs[0].shape"
   ]
  },
  {
   "cell_type": "code",
   "execution_count": null,
   "id": "3991b7be-8675-41e6-936b-b90dd7265fa0",
   "metadata": {},
   "outputs": [],
   "source": []
  },
  {
   "cell_type": "code",
   "execution_count": 34,
   "id": "9079ca84-ca63-4067-b1c2-2f8f2c507dad",
   "metadata": {},
   "outputs": [
    {
     "name": "stdout",
     "output_type": "stream",
     "text": [
      "finished  0 1.0474836826324463\n",
      "finished  1 2.078336477279663\n",
      "finished  2 3.1055612564086914\n",
      "finished  3 4.135396957397461\n",
      "\n",
      "finished:  4.13570237159729\n"
     ]
    }
   ],
   "source": [
    "# ---- compute the bootstrapped stddev ---- #\n",
    "\n",
    "\n",
    "# args\n",
    "n_resamples=10000\n",
    "\n",
    "\n",
    "t0 = time.time()\n",
    "\n",
    "\n",
    "epoch_bootstrapped_stdevs = []\n",
    "for epochIdx in range(4):\n",
    "\n",
    "    epoch_data = np.copy(epoch_list_of_region_bout_combined_win_state_probs[epochIdx])\n",
    "\n",
    "    numSamples = epoch_data.shape[0] # number of bouts to bootstrap over\n",
    "\n",
    "    # grab all the bootstrap resampling data\n",
    "    allSamples_mean_epoch_win_state_probs = []\n",
    "    for i in range(n_resamples):\n",
    "\n",
    "        #  get the fight indices for this resample \n",
    "        indices=np.random.choice(range(0,numSamples), numSamples)\n",
    "\n",
    "        # get the sample collection of bout epoch state probs\n",
    "        sample_epoch_win_state_probs = []\n",
    "        for sampBoutIdx in indices:\n",
    "            sample_epoch_win_state_probs.append(epoch_data[sampBoutIdx,:,:])\n",
    "        sample_epoch_win_state_probs = np.stack(sample_epoch_win_state_probs, axis=0)\n",
    "\n",
    "        # get the sample mean, and record\n",
    "        sample_epoch_win_state_probs_mean = np.mean(sample_epoch_win_state_probs, axis=0)\n",
    "        allSamples_mean_epoch_win_state_probs.append(sample_epoch_win_state_probs_mean)\n",
    "    allSamples_mean_epoch_win_state_probs = np.stack(allSamples_mean_epoch_win_state_probs, axis=0)\n",
    "\n",
    "    # get the sdtdev of the bootstrap means\n",
    "    allSamples_stdev = np.std(allSamples_mean_epoch_win_state_probs, axis=0)\n",
    "    epoch_bootstrapped_stdevs.append(allSamples_stdev)\n",
    "\n",
    "    tE = time.time()\n",
    "    print('finished ', epochIdx, tE-t0)\n",
    "    \n",
    "print()\n",
    "tE = time.time()\n",
    "print('finished: ', tE-t0)"
   ]
  },
  {
   "cell_type": "code",
   "execution_count": 35,
   "id": "c894bb5d-12a8-4073-84b3-1a5be91f3cb9",
   "metadata": {},
   "outputs": [
    {
     "data": {
      "text/plain": [
       "4"
      ]
     },
     "execution_count": 35,
     "metadata": {},
     "output_type": "execute_result"
    }
   ],
   "source": [
    "len(epoch_bootstrapped_stdevs)"
   ]
  },
  {
   "cell_type": "code",
   "execution_count": 36,
   "id": "48a3d570-ff86-4410-9e24-6f353c1940cf",
   "metadata": {},
   "outputs": [
    {
     "data": {
      "text/plain": [
       "(181, 3)"
      ]
     },
     "execution_count": 36,
     "metadata": {},
     "output_type": "execute_result"
    }
   ],
   "source": [
    "epoch_bootstrapped_stdevs[0].shape"
   ]
  },
  {
   "cell_type": "code",
   "execution_count": null,
   "id": "f9300c40-bbfc-4081-9d51-85d75e529201",
   "metadata": {},
   "outputs": [],
   "source": []
  },
  {
   "cell_type": "code",
   "execution_count": null,
   "id": "117d82e4-3575-474e-9320-8625ff0c3b73",
   "metadata": {},
   "outputs": [],
   "source": []
  },
  {
   "cell_type": "code",
   "execution_count": null,
   "id": "ba770fee-43b6-4888-87bb-a10d6b11754d",
   "metadata": {},
   "outputs": [],
   "source": []
  },
  {
   "cell_type": "code",
   "execution_count": 37,
   "id": "3d8274b3-93c6-461a-ad43-c71458bac37d",
   "metadata": {},
   "outputs": [
    {
     "name": "stdout",
     "output_type": "stream",
     "text": [
      "(361, 3)\n",
      "(361, 3)\n",
      "\n",
      "(361, 3)\n",
      "(361, 3)\n"
     ]
    }
   ],
   "source": [
    "# --- for plotting purposes, i.e. 2 panels, combine the first two epochs, and combining the last two epochs --- #\n",
    "\n",
    "# Now, when combining epochs they have one common window, so exclude that window from the second epoch\n",
    "# (i.e. when combining prefightstart and postfightstart, they both contain the exact fight start window)\n",
    "\n",
    "start_epoch_mean_win_state_probs = np.concatenate([ epoch_across_bout_mean_win_state_probs[0], \n",
    "                                                   epoch_across_bout_mean_win_state_probs[1][1:,:] ], axis=0)\n",
    "\n",
    "stop_epoch_mean_win_state_probs = np.concatenate([ epoch_across_bout_mean_win_state_probs[2], \n",
    "                                                  epoch_across_bout_mean_win_state_probs[3][1:,:] ], axis=0)\n",
    "\n",
    "start_epoch_stdevs = np.concatenate([ epoch_bootstrapped_stdevs[0], epoch_bootstrapped_stdevs[1][1:,:] ], axis=0)\n",
    "stop_epoch_stdevs = np.concatenate([ epoch_bootstrapped_stdevs[2], epoch_bootstrapped_stdevs[3][1:,:] ], axis=0)\n",
    "\n",
    "\n",
    "combined_numUsedWins = start_epoch_mean_win_state_probs.shape[0]\n",
    "\n",
    "print(start_epoch_mean_win_state_probs.shape)\n",
    "print(stop_epoch_mean_win_state_probs.shape)\n",
    "print()\n",
    "print(start_epoch_stdevs.shape)\n",
    "print(stop_epoch_stdevs.shape)"
   ]
  },
  {
   "cell_type": "code",
   "execution_count": null,
   "id": "face1f05-6f42-42e5-bb39-61cbe4fc7418",
   "metadata": {},
   "outputs": [],
   "source": []
  },
  {
   "cell_type": "code",
   "execution_count": 1,
   "id": "2a302ef5-4b7b-40a1-990e-a65fd82c17c5",
   "metadata": {},
   "outputs": [
    {
     "ename": "NameError",
     "evalue": "name 'np' is not defined",
     "output_type": "error",
     "traceback": [
      "\u001b[0;31m---------------------------------------------------------------------------\u001b[0m",
      "\u001b[0;31mNameError\u001b[0m                                 Traceback (most recent call last)",
      "\u001b[0;32m/tmp/ipykernel_3474694/384539102.py\u001b[0m in \u001b[0;36m<module>\u001b[0;34m\u001b[0m\n\u001b[1;32m      1\u001b[0m \u001b[0;31m# find the max y vals for both starts and stops for plotting purposes\u001b[0m\u001b[0;34m\u001b[0m\u001b[0;34m\u001b[0m\u001b[0m\n\u001b[1;32m      2\u001b[0m \u001b[0;34m\u001b[0m\u001b[0m\n\u001b[0;32m----> 3\u001b[0;31m \u001b[0mstates_y_max\u001b[0m \u001b[0;34m=\u001b[0m \u001b[0mnp\u001b[0m\u001b[0;34m.\u001b[0m\u001b[0mzeros\u001b[0m\u001b[0;34m(\u001b[0m\u001b[0;34m(\u001b[0m\u001b[0;36m3\u001b[0m\u001b[0;34m)\u001b[0m\u001b[0;34m)\u001b[0m\u001b[0;34m\u001b[0m\u001b[0;34m\u001b[0m\u001b[0m\n\u001b[0m\u001b[1;32m      4\u001b[0m \u001b[0mstates_y_tick_max\u001b[0m \u001b[0;34m=\u001b[0m \u001b[0mnp\u001b[0m\u001b[0;34m.\u001b[0m\u001b[0mzeros\u001b[0m\u001b[0;34m(\u001b[0m\u001b[0;34m(\u001b[0m\u001b[0;36m3\u001b[0m\u001b[0;34m,\u001b[0m\u001b[0;34m)\u001b[0m\u001b[0;34m)\u001b[0m\u001b[0;34m\u001b[0m\u001b[0;34m\u001b[0m\u001b[0m\n\u001b[1;32m      5\u001b[0m \u001b[0;32mfor\u001b[0m \u001b[0mstateIdx\u001b[0m \u001b[0;32min\u001b[0m \u001b[0mrange\u001b[0m\u001b[0;34m(\u001b[0m\u001b[0;36m3\u001b[0m\u001b[0;34m)\u001b[0m\u001b[0;34m:\u001b[0m\u001b[0;34m\u001b[0m\u001b[0;34m\u001b[0m\u001b[0m\n",
      "\u001b[0;31mNameError\u001b[0m: name 'np' is not defined"
     ]
    }
   ],
   "source": [
    "# find the max y vals for both starts and stops for plotting purposes\n",
    "\n",
    "states_y_max = np.zeros((3))\n",
    "states_y_tick_max = np.zeros((3,))\n",
    "for stateIdx in range(3):\n",
    "    start_max = start_epoch_mean_win_state_probs[:, stateIdx] + start_epoch_stdevs[:, stateIdx]\n",
    "    stop_max = stop_epoch_mean_win_state_probs[:, stateIdx] + stop_epoch_stdevs[:, stateIdx]\n",
    "    both_max = np.round( np.max(np.array([start_max, stop_max])), 2)\n",
    "    states_y_max[stateIdx] = both_max*1.2\n",
    "    states_y_tick_max[stateIdx] = both_max\n",
    "    print(stateIdx, both_max)"
   ]
  },
  {
   "cell_type": "code",
   "execution_count": null,
   "id": "ec92ed70-c06d-4310-8926-e5ef14a05086",
   "metadata": {},
   "outputs": [],
   "source": []
  },
  {
   "cell_type": "markdown",
   "id": "b8b906c0-1f75-4760-b6c8-7c7dc584b234",
   "metadata": {},
   "source": [
    "# plotting"
   ]
  },
  {
   "cell_type": "code",
   "execution_count": null,
   "id": "81d68be1-fa99-4f10-a625-29f830114f96",
   "metadata": {},
   "outputs": [],
   "source": []
  },
  {
   "cell_type": "markdown",
   "id": "34e700de-af74-4390-9b58-a5e1416cebd9",
   "metadata": {},
   "source": [
    "## rough plots - left and right"
   ]
  },
  {
   "cell_type": "code",
   "execution_count": null,
   "id": "14d2d674-74dc-4099-83d3-32e231d8fbfe",
   "metadata": {},
   "outputs": [],
   "source": []
  },
  {
   "cell_type": "code",
   "execution_count": 39,
   "id": "1c9e04fb-db39-4420-99d0-a09518799bce",
   "metadata": {},
   "outputs": [
    {
     "data": {
      "application/vnd.jupyter.widget-view+json": {
       "model_id": "9824379f66524e8fb4cf7c958e158f14",
       "version_major": 2,
       "version_minor": 0
      },
      "text/html": [
       "\n",
       "            <div style=\"display: inline-block;\">\n",
       "                <div class=\"jupyter-widgets widget-label\" style=\"text-align: center;\">\n",
       "                    Figure\n",
       "                </div>\n",
       "                <img src='data:image/png;base64,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' width=600.0/>\n",
       "            </div>\n",
       "        "
      ],
      "text/plain": [
       "Canvas(toolbar=Toolbar(toolitems=[('Home', 'Reset original view', 'home', 'home'), ('Back', 'Back to previous …"
      ]
     },
     "metadata": {},
     "output_type": "display_data"
    }
   ],
   "source": [
    "fig = plt.figure(figsize=(6,6))\n",
    "gs = fig.add_gridspec(nrows=1, ncols=1, hspace=0)\n",
    "axs = gs.subplots(sharex=True, sharey=False)\n",
    "ax = axs\n",
    "\n",
    "# create xvalues for plotting\n",
    "x_vals_frames = np.array( [i*window_step for i in range(combined_numUsedWins)]) \n",
    "\n",
    "\n",
    "# make colors for this\n",
    "combined_colors = ['red', 'blue', 'green']\n",
    "\n",
    "var_names = ['winner maneuvers', 'loser maneuvers', 'display maneuvers']\n",
    "\n",
    "\n",
    "# plot the mean across trials\n",
    "for stateIdx in [0,1,2]:\n",
    "        \n",
    "    # fill between the stdev lines\n",
    "    max_curve = start_epoch_mean_win_state_probs[:, stateIdx] + start_epoch_stdevs[:, stateIdx]\n",
    "    min_curve = start_epoch_mean_win_state_probs[:, stateIdx] - start_epoch_stdevs[:, stateIdx]\n",
    "    ax.fill_between(x_vals_frames, y1=min_curve, y2=max_curve, color=combined_colors[stateIdx], alpha=0.5)\n",
    "\n",
    "    # plot the mean\n",
    "    ax.plot(x_vals_frames, start_epoch_mean_win_state_probs[:, stateIdx], color=combined_colors[stateIdx], linewidth=2,\n",
    "           label=var_names[stateIdx])\n",
    "    \n",
    "    # xticks\n",
    "    xticks = np.array([i*6000 for i in range(int(total_plot_time_mins*2)+1)]) #*2 because of concatenated 2 epochs\n",
    "    xticklabels = [i for i in range(-total_plot_time_mins, total_plot_time_mins+1)]\n",
    "    ax.set_xticks(xticks);\n",
    "    ax.set_xticklabels(xticklabels);\n",
    "    \n",
    "    # plot the dividing line between epochs\n",
    "    ax.axvline(np.mean(x_vals_frames), color='black', linestyle='--')\n",
    "    \n",
    "    # set the yticks\n",
    "    ax.set_yticks([0, states_y_tick_max[stateIdx]])\n",
    "    ax.set_yticklabels([0, states_y_tick_max[stateIdx]])\n",
    "    \n",
    "    # plot limits\n",
    "    ax.set_xlim(x_vals_frames[0], x_vals_frames[-1])\n",
    "    ax.set_ylim(bottom=0, top=states_y_max[stateIdx])\n",
    "    \n",
    "     # axes labels\n",
    "    ax.set_ylabel('probability')\n",
    "        \n",
    "    # tick params\n",
    "    ax.xaxis.set_tick_params(width=2, length=4)\n",
    "    ax.yaxis.set_tick_params(width=2, length=4)\n",
    "    \n",
    "    # make the left and rights thicker for each axis\n",
    "    for axis in ['left','right']:\n",
    "        ax.spines[axis].set_linewidth(2)\n",
    "        \n",
    "    # # turn off all the interior x axes    \n",
    "    # for ii in range(2):\n",
    "    #     axs[ii].spines['bottom'].set_visible(False)\n",
    "    #     axs[ii+1].spines['top'].set_visible(False)\n",
    "        \n",
    "    # set the gridlines\n",
    "    #ax.grid(alpha=0.3)\n",
    "    ax.axhline(y=0, color='grey', alpha=0.3)\n",
    "    ax.axhline(y=states_y_tick_max[stateIdx], color='grey', alpha=0.2)\n",
    "    \n",
    "    ax.legend()\n",
    "\n",
    "    ax.set_title('Fight starts: winsize={0} s'.format(window_size/100))\n",
    "    ax.set_xlabel('time [min]')\n",
    "    \n",
    "fig.tight_layout()"
   ]
  },
  {
   "cell_type": "code",
   "execution_count": null,
   "id": "b3c1ecaa-525d-4e8b-93bf-20b9a17d5677",
   "metadata": {},
   "outputs": [],
   "source": []
  },
  {
   "cell_type": "code",
   "execution_count": 40,
   "id": "23b97351-4a8f-47e4-9039-0be5b3b996dc",
   "metadata": {},
   "outputs": [
    {
     "data": {
      "application/vnd.jupyter.widget-view+json": {
       "model_id": "e0b026d8a108443298269e605dd6a737",
       "version_major": 2,
       "version_minor": 0
      },
      "text/html": [
       "\n",
       "            <div style=\"display: inline-block;\">\n",
       "                <div class=\"jupyter-widgets widget-label\" style=\"text-align: center;\">\n",
       "                    Figure\n",
       "                </div>\n",
       "                <img src='data:image/png;base64,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' width=600.0/>\n",
       "            </div>\n",
       "        "
      ],
      "text/plain": [
       "Canvas(toolbar=Toolbar(toolitems=[('Home', 'Reset original view', 'home', 'home'), ('Back', 'Back to previous …"
      ]
     },
     "metadata": {},
     "output_type": "display_data"
    }
   ],
   "source": [
    "fig = plt.figure(figsize=(6,6))\n",
    "gs = fig.add_gridspec(nrows=1, ncols=1, hspace=0)\n",
    "axs = gs.subplots(sharex=True, sharey=False)\n",
    "ax = axs\n",
    "\n",
    "# create xvalues for plotting\n",
    "x_vals_frames = np.array( [i*window_step for i in range(combined_numUsedWins)]) \n",
    "\n",
    "\n",
    "# make colors for this\n",
    "combined_colors = ['red', 'blue', 'green']\n",
    "\n",
    "var_names = ['winner maneuvers', 'loser maneuvers', 'display maneuvers']\n",
    "\n",
    "\n",
    "# plot the mean across trials\n",
    "for stateIdx in [0,1,2]:\n",
    "        \n",
    "    # fill between the stdev lines\n",
    "    max_curve = stop_epoch_mean_win_state_probs[:, stateIdx] + stop_epoch_stdevs[:, stateIdx]\n",
    "    min_curve = stop_epoch_mean_win_state_probs[:, stateIdx] - stop_epoch_stdevs[:, stateIdx]\n",
    "    ax.fill_between(x_vals_frames, y1=min_curve, y2=max_curve, color=combined_colors[stateIdx], alpha=0.5)\n",
    "\n",
    "    # plot the mean\n",
    "    ax.plot(x_vals_frames, stop_epoch_mean_win_state_probs[:, stateIdx], color=combined_colors[stateIdx], linewidth=2,\n",
    "           label=var_names[stateIdx])\n",
    "    \n",
    "    # xticks\n",
    "    xticks = np.array([i*6000 for i in range(int(total_plot_time_mins*2)+1)]) #*2 because of concatenated 2 epochs\n",
    "    xticklabels = [i for i in range(-total_plot_time_mins, total_plot_time_mins+1)]\n",
    "    ax.set_xticks(xticks);\n",
    "    ax.set_xticklabels(xticklabels);\n",
    "    \n",
    "    # plot the dividing line between epochs\n",
    "    ax.axvline(np.mean(x_vals_frames), color='black', linestyle='--')\n",
    "    \n",
    "    # set the yticks\n",
    "    ax.set_yticks([0, states_y_tick_max[stateIdx]])\n",
    "    ax.set_yticklabels([0, states_y_tick_max[stateIdx]])\n",
    "    \n",
    "    # plot limits\n",
    "    ax.set_xlim(x_vals_frames[0], x_vals_frames[-1])\n",
    "    ax.set_ylim(bottom=0, top=states_y_max[stateIdx])\n",
    "    \n",
    "     # axes labels\n",
    "    ax.set_ylabel('probability')\n",
    "        \n",
    "    # tick params\n",
    "    ax.xaxis.set_tick_params(width=2, length=4)\n",
    "    ax.yaxis.set_tick_params(width=2, length=4)\n",
    "    \n",
    "    # make the left and rights thicker for each axis\n",
    "    for axis in ['left','right']:\n",
    "        ax.spines[axis].set_linewidth(2)\n",
    "        \n",
    "    # # turn off all the interior x axes    \n",
    "    # for ii in range(2):\n",
    "    #     axs[ii].spines['bottom'].set_visible(False)\n",
    "    #     axs[ii+1].spines['top'].set_visible(False)\n",
    "        \n",
    "    # set the gridlines\n",
    "    #ax.grid(alpha=0.3)\n",
    "    ax.axhline(y=0, color='grey', alpha=0.3)\n",
    "    ax.axhline(y=states_y_tick_max[stateIdx], color='grey', alpha=0.2)\n",
    "    \n",
    "    ax.legend()\n",
    "    \n",
    "    ax.set_title('Fight ends: winsize={0} s'.format(window_size/100))\n",
    "    ax.set_xlabel('time [min]')\n",
    "\n",
    "\n",
    "fig.tight_layout()"
   ]
  },
  {
   "cell_type": "code",
   "execution_count": null,
   "id": "6e84415c-668d-474b-bc49-a5b0d7cb7a98",
   "metadata": {},
   "outputs": [],
   "source": []
  },
  {
   "cell_type": "code",
   "execution_count": null,
   "id": "4d7b3064-dbb0-44a3-9db6-fc60f8b8d323",
   "metadata": {},
   "outputs": [],
   "source": []
  },
  {
   "cell_type": "code",
   "execution_count": null,
   "id": "bcff5456-8cf2-415a-88a1-feaf02c88b15",
   "metadata": {},
   "outputs": [],
   "source": []
  },
  {
   "cell_type": "markdown",
   "id": "ec089ea6-ef54-4ead-9031-6fb67e3dad79",
   "metadata": {
    "tags": []
   },
   "source": [
    "## publication version plots - both panels at once"
   ]
  },
  {
   "cell_type": "code",
   "execution_count": 179,
   "id": "3c1eb65d-cb5c-48a6-bfd5-adff5f88e16a",
   "metadata": {},
   "outputs": [
    {
     "data": {
      "application/vnd.jupyter.widget-view+json": {
       "model_id": "0daf4cb98da64ccc90ce4897fbee1dac",
       "version_major": 2,
       "version_minor": 0
      },
      "text/html": [
       "\n",
       "            <div style=\"display: inline-block;\">\n",
       "                <div class=\"jupyter-widgets widget-label\" style=\"text-align: center;\">\n",
       "                    Figure\n",
       "                </div>\n",
       "                <img src='data:image/png;base64,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' width=484.99999999999994/>\n",
       "            </div>\n",
       "        "
      ],
      "text/plain": [
       "Canvas(toolbar=Toolbar(toolitems=[('Home', 'Reset original view', 'home', 'home'), ('Back', 'Back to previous …"
      ]
     },
     "metadata": {},
     "output_type": "display_data"
    }
   ],
   "source": [
    "#imsavepath = '/home/liam/temp/image_transfer/figure7_A_v2.png'\n",
    "\n",
    "fig = plt.figure(figsize=(4.85,1.75))\n",
    "gs = fig.add_gridspec(nrows=1, ncols=2, hspace=0)\n",
    "axs = gs.subplots(sharex=False, sharey=False)\n",
    "ax= axs[0]\n",
    "\n",
    "# create xvalues for plotting\n",
    "x_vals_frames = np.array( [i*window_step for i in range(combined_numUsedWins)]) \n",
    "\n",
    "\n",
    "# plot the mean across trials\n",
    "for stateIdx in [0,1,2]:\n",
    "    \n",
    "    # make the left and rights thicker for each axis\n",
    "    #for axis in ['left','right']:\n",
    "    for axis in ['left', 'right']:\n",
    "        ax.spines[axis].set_linewidth(2)\n",
    "    for axis in ['right']:\n",
    "        ax.spines[axis].set_visible(False)\n",
    "    \n",
    "    # fill between the stdev lines\n",
    "    max_curve = start_epoch_mean_win_state_probs[:, stateIdx] + start_epoch_stdevs[:, stateIdx]\n",
    "    min_curve = start_epoch_mean_win_state_probs[:, stateIdx] - start_epoch_stdevs[:, stateIdx]\n",
    "    ax.fill_between(x_vals_frames, y1=min_curve, y2=max_curve, color=combined_colors[stateIdx], alpha=0.5)\n",
    "\n",
    "    # plot the mean\n",
    "    ax.plot(x_vals_frames, start_epoch_mean_win_state_probs[:, stateIdx], color=combined_colors[stateIdx], linewidth=1)\n",
    "    \n",
    "    # xticks\n",
    "    ax.set_xticks([]);\n",
    "    ax.set_xticklabels([]);\n",
    "    \n",
    "    # plot the dividing line between epochs\n",
    "    ax.axvline(np.mean(x_vals_frames), color='black', linestyle='--')\n",
    "    \n",
    "    # plot limits\n",
    "    ax.set_xlim(x_vals_frames[0], x_vals_frames[-1])\n",
    "    ax.set_ylim(bottom=0, top=states_y_max[stateIdx])\n",
    "    \n",
    "     # axes labels\n",
    "    ax.set_ylabel(all_state_names[stateIdx]+'\\n prob')\n",
    "        \n",
    "    # tick params\n",
    "    ax.xaxis.set_tick_params(width=1, length=4)\n",
    "    ax.yaxis.set_tick_params(width=1, length=4)\n",
    "\n",
    "    # set the gridlines\n",
    "    #ax.grid(alpha=0.3)\n",
    "    #ax.axhline(y=0, color='grey', alpha=0.3)\n",
    "    #ax.axhline(y=states_y_tick_max[stateIdx], color='grey', alpha=0.2)\n",
    "    \n",
    "    ## EXTRAS TURN OFF PLOT ILLUSTRATOR VERSION ####\n",
    "    ax.set_yticklabels([])\n",
    "    ax.set_xticklabels([])\n",
    "    ax.set_xlabel('')\n",
    "    ax.set_ylabel('')\n",
    "\n",
    "# xticks\n",
    "xticks = np.array([i*6000 for i in range(int(total_plot_time_mins*2)+1)]) #*2 because of concatenated 2 epochs\n",
    "xticklabels = [i for i in range(-total_plot_time_mins, total_plot_time_mins+1)]\n",
    "ax.set_xticks(xticks);\n",
    "\n",
    "# set the yticks\n",
    "#yticks = [0, states_y_tick_max[2], states_y_tick_max[3]]\n",
    "#ax.set_yticks(yticks)\n",
    "\n",
    "# set the yticks\n",
    "ax.set_yticks([0, np.max(states_y_tick_max)])\n",
    "\n",
    "#ax.set_yticks(yticks)\n",
    "ax.set_yticklabels('')\n",
    "\n",
    "\n",
    "# make the very top and very bottoms lines thicker\n",
    "#ax = axs[0]\n",
    "for axis in ['top']:\n",
    "    ax.spines[axis].set_linewidth(2)\n",
    "#ax = axs[-1]\n",
    "for axis in ['bottom']:\n",
    "    ax.spines[axis].set_linewidth(2)\n",
    "\n",
    "    \n",
    "    \n",
    "    \n",
    "    \n",
    "    \n",
    "# ---------------------------------------------------------------\n",
    "\n",
    "\n",
    "\n",
    "\n",
    "\n",
    "ax= axs[1]\n",
    "# create xvalues for plotting\n",
    "x_vals_frames = np.array( [i*window_step for i in range(combined_numUsedWins)]) \n",
    "\n",
    "\n",
    "# plot the mean across trials\n",
    "for stateIdx in [0,1,2]:\n",
    "    \n",
    "    # make the left and rights thicker for each axis\n",
    "    #for axis in ['left','right']:\n",
    "    for axis in ['left', 'right']:\n",
    "        ax.spines[axis].set_linewidth(2)\n",
    "    for axis in ['left']:\n",
    "        ax.spines[axis].set_visible(False)\n",
    "    \n",
    "    # fill between the stdev lines\n",
    "    max_curve = stop_epoch_mean_win_state_probs[:, stateIdx] + stop_epoch_stdevs[:, stateIdx]\n",
    "    min_curve = stop_epoch_mean_win_state_probs[:, stateIdx] - stop_epoch_stdevs[:, stateIdx]\n",
    "    ax.fill_between(x_vals_frames, y1=min_curve, y2=max_curve, color=combined_colors[stateIdx], alpha=0.5)\n",
    "\n",
    "    # plot the mean\n",
    "    ax.plot(x_vals_frames, stop_epoch_mean_win_state_probs[:, stateIdx], color=combined_colors[stateIdx], linewidth=1)\n",
    "    \n",
    "    # xticks\n",
    "    ax.set_xticks([]);\n",
    "    ax.set_xticklabels([]);\n",
    "    \n",
    "    # plot the dividing line between epochs\n",
    "    ax.axvline(np.mean(x_vals_frames), color='black', linestyle='--')\n",
    "    \n",
    "    # plot limits\n",
    "    ax.set_xlim(x_vals_frames[0], x_vals_frames[-1])\n",
    "    ax.set_ylim(bottom=0, top=states_y_max[stateIdx])\n",
    "    \n",
    "     # axes labels\n",
    "    ax.set_ylabel(all_state_names[stateIdx]+'\\n prob')\n",
    "        \n",
    "    # tick params\n",
    "    ax.xaxis.set_tick_params(width=1, length=4)\n",
    "    ax.yaxis.set_tick_params(width=0, length=4)\n",
    "\n",
    "    # set the gridlines\n",
    "    #ax.grid(alpha=0.3)\n",
    "    #ax.axhline(y=0, color='grey', alpha=0.3)\n",
    "    #ax.axhline(y=states_y_tick_max[stateIdx], color='grey', alpha=0.2)\n",
    "    \n",
    "    ## EXTRAS TURN OFF PLOT ILLUSTRATOR VERSION ####\n",
    "    ax.set_yticklabels([])\n",
    "    ax.set_xticklabels([])\n",
    "    ax.set_xlabel('')\n",
    "    ax.set_ylabel('')\n",
    "\n",
    "# xticks\n",
    "xticks = np.array([i*6000 for i in range(int(total_plot_time_mins*2)+1)]) #*2 because of concatenated 2 epochs\n",
    "xticklabels = [i for i in range(-total_plot_time_mins, total_plot_time_mins+1)]\n",
    "ax.set_xticks(xticks);\n",
    "\n",
    "# set the yticks\n",
    "#yticks = [0, states_y_tick_max[2], states_y_tick_max[3]]\n",
    "#ax.set_yticks(yticks)\n",
    "\n",
    "# set the yticks\n",
    "ax.set_yticks([0, np.max(states_y_tick_max)])\n",
    "ax.set_yticklabels([0, states_y_tick_max[stateIdx]])\n",
    "\n",
    "#ax.set_yticks(yticks)\n",
    "ax.set_yticklabels('')\n",
    "\n",
    "\n",
    "# make the very top and very bottoms lines thicker\n",
    "#ax = axs[0]\n",
    "for axis in ['top']:\n",
    "    ax.spines[axis].set_linewidth(2)\n",
    "#ax = axs[-1]\n",
    "for axis in ['bottom']:\n",
    "    ax.spines[axis].set_linewidth(2)\n",
    "    \n",
    "    \n",
    "    \n",
    "    \n",
    "    \n",
    "    \n",
    "\n",
    "\n",
    "\n",
    "# ----------------------------#\n",
    "fig.tight_layout()\n",
    "#fig.savefig(imsavepath, dpi=300, transparent=False)"
   ]
  },
  {
   "cell_type": "code",
   "execution_count": null,
   "id": "941ec6a8-58b0-437d-86fd-810bfc914fc5",
   "metadata": {},
   "outputs": [],
   "source": []
  },
  {
   "cell_type": "markdown",
   "id": "8dd499de-b645-4938-bcd2-0f4084c6ed61",
   "metadata": {},
   "source": [
    "## publication version - split (Fig 7)"
   ]
  },
  {
   "cell_type": "code",
   "execution_count": null,
   "id": "0fdcfdff-40a7-45d5-b497-df89ba0fa6f8",
   "metadata": {},
   "outputs": [],
   "source": []
  },
  {
   "cell_type": "code",
   "execution_count": 41,
   "id": "54f3a322-e734-4c72-9a2e-d44af97d0397",
   "metadata": {},
   "outputs": [
    {
     "data": {
      "application/vnd.jupyter.widget-view+json": {
       "model_id": "0de723f40bf541f9a9a0fa6b90751d75",
       "version_major": 2,
       "version_minor": 0
      },
      "text/html": [
       "\n",
       "            <div style=\"display: inline-block;\">\n",
       "                <div class=\"jupyter-widgets widget-label\" style=\"text-align: center;\">\n",
       "                    Figure\n",
       "                </div>\n",
       "                <img src='data:image/png;base64,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' width=285.0/>\n",
       "            </div>\n",
       "        "
      ],
      "text/plain": [
       "Canvas(toolbar=Toolbar(toolitems=[('Home', 'Reset original view', 'home', 'home'), ('Back', 'Back to previous …"
      ]
     },
     "metadata": {},
     "output_type": "display_data"
    }
   ],
   "source": [
    "imsavepath = '/home/liam/temp/image_transfer/figure7_A_starts.png'\n",
    "\n",
    "fig = plt.figure(figsize=(2.85,1.75))\n",
    "gs = fig.add_gridspec(nrows=1, ncols=1, hspace=0)\n",
    "axs = gs.subplots(sharex=False, sharey=False)\n",
    "ax= axs\n",
    "\n",
    "# create xvalues for plotting\n",
    "x_vals_frames = np.array( [i*window_step for i in range(combined_numUsedWins)]) \n",
    "\n",
    "\n",
    "# plot the mean across trials\n",
    "for stateIdx in [0,1,2]:\n",
    "    \n",
    "    # make the left and rights thicker for each axis\n",
    "    #for axis in ['left','right']:\n",
    "    for axis in ['left', 'right']:\n",
    "        ax.spines[axis].set_linewidth(2)\n",
    "    for axis in ['right']:\n",
    "        ax.spines[axis].set_visible(False)\n",
    "    \n",
    "    # fill between the stdev lines\n",
    "    max_curve = start_epoch_mean_win_state_probs[:, stateIdx] + start_epoch_stdevs[:, stateIdx]\n",
    "    min_curve = start_epoch_mean_win_state_probs[:, stateIdx] - start_epoch_stdevs[:, stateIdx]\n",
    "    ax.fill_between(x_vals_frames, y1=min_curve, y2=max_curve, color=combined_colors[stateIdx], alpha=0.5)\n",
    "\n",
    "    # plot the mean\n",
    "    ax.plot(x_vals_frames, start_epoch_mean_win_state_probs[:, stateIdx], color=combined_colors[stateIdx], linewidth=1)\n",
    "    \n",
    "    # xticks\n",
    "    ax.set_xticks([]);\n",
    "    ax.set_xticklabels([]);\n",
    "    \n",
    "    # plot the dividing line between epochs\n",
    "    ax.axvline(np.mean(x_vals_frames), color='black', linestyle='--')\n",
    "    \n",
    "    # plot limits\n",
    "    ax.set_xlim(x_vals_frames[0], x_vals_frames[-1])\n",
    "    #ax.set_ylim(bottom=0, top=states_y_max[stateIdx])\n",
    "    \n",
    "     # axes labels\n",
    "    ax.set_ylabel(all_state_names[stateIdx]+'\\n prob')\n",
    "        \n",
    "    # tick params\n",
    "    ax.xaxis.set_tick_params(width=1, length=4)\n",
    "    ax.yaxis.set_tick_params(width=1, length=4)\n",
    "\n",
    "    # set the gridlines\n",
    "    #ax.grid(alpha=0.3)\n",
    "    #ax.axhline(y=0, color='grey', alpha=0.3)\n",
    "    #ax.axhline(y=states_y_tick_max[stateIdx], color='grey', alpha=0.2)\n",
    "    \n",
    "    ## EXTRAS TURN OFF PLOT ILLUSTRATOR VERSION ####\n",
    "    ax.set_yticklabels([])\n",
    "    ax.set_xticklabels([])\n",
    "    ax.set_xlabel('')\n",
    "    ax.set_ylabel('')\n",
    "    \n",
    "    \n",
    "\n",
    "\n",
    "    \n",
    "# ----------------------------------------------------#\n",
    "\n",
    "# xticks\n",
    "xticks = np.array([i*6000 for i in range(int(total_plot_time_mins*2)+1)]) #*2 because of concatenated 2 epochs\n",
    "xticklabels = [i for i in range(-total_plot_time_mins, total_plot_time_mins+1)]\n",
    "ax.set_xticks(xticks);\n",
    "\n",
    "# set the yticks\n",
    "#yticks = [0, states_y_tick_max[2], states_y_tick_max[3]]\n",
    "#ax.set_yticks(yticks)\n",
    "\n",
    "# set the yticks\n",
    "ax.set_ylim(bottom=0, top=np.max(states_y_max))\n",
    "ax.set_yticks([0, np.max(states_y_max)])\n",
    "\n",
    "#ax.set_yticks(yticks)\n",
    "ax.set_yticklabels('')\n",
    "\n",
    "\n",
    "# make the very top and very bottoms lines thicker\n",
    "#ax = axs[0]\n",
    "for axis in ['top']:\n",
    "    ax.spines[axis].set_linewidth(2)\n",
    "#ax = axs[-1]\n",
    "for axis in ['bottom']:\n",
    "    ax.spines[axis].set_linewidth(2)\n",
    "\n",
    "\n",
    "\n",
    "\n",
    "# ----------------------------#\n",
    "fig.tight_layout()\n",
    "fig.savefig(imsavepath, dpi=300, transparent=False)"
   ]
  },
  {
   "cell_type": "code",
   "execution_count": 42,
   "id": "8a4b1049-6057-4759-94ad-3363e372992e",
   "metadata": {},
   "outputs": [
    {
     "data": {
      "text/plain": [
       "0.42"
      ]
     },
     "execution_count": 42,
     "metadata": {},
     "output_type": "execute_result"
    }
   ],
   "source": [
    "np.max(states_y_tick_max)"
   ]
  },
  {
   "cell_type": "code",
   "execution_count": 43,
   "id": "2719e52a-67b9-45f0-986f-6b309abe9395",
   "metadata": {},
   "outputs": [
    {
     "data": {
      "text/plain": [
       "array([0.39, 0.42, 0.38])"
      ]
     },
     "execution_count": 43,
     "metadata": {},
     "output_type": "execute_result"
    }
   ],
   "source": [
    "states_y_tick_max"
   ]
  },
  {
   "cell_type": "code",
   "execution_count": 44,
   "id": "0f70114a-8188-4d15-b334-bc93737d968a",
   "metadata": {},
   "outputs": [
    {
     "data": {
      "text/plain": [
       "array([0.468, 0.504, 0.456])"
      ]
     },
     "execution_count": 44,
     "metadata": {},
     "output_type": "execute_result"
    }
   ],
   "source": [
    "states_y_max"
   ]
  },
  {
   "cell_type": "code",
   "execution_count": null,
   "id": "f8eba9f4-830f-47f1-990c-f725197e00e2",
   "metadata": {},
   "outputs": [],
   "source": []
  },
  {
   "cell_type": "code",
   "execution_count": 45,
   "id": "45526f72-24a3-4efe-81d4-6718d1e3ad61",
   "metadata": {},
   "outputs": [
    {
     "data": {
      "application/vnd.jupyter.widget-view+json": {
       "model_id": "2aad77e71c7647e2804182890c05026d",
       "version_major": 2,
       "version_minor": 0
      },
      "text/html": [
       "\n",
       "            <div style=\"display: inline-block;\">\n",
       "                <div class=\"jupyter-widgets widget-label\" style=\"text-align: center;\">\n",
       "                    Figure\n",
       "                </div>\n",
       "                <img src='data:image/png;base64,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' width=180.0/>\n",
       "            </div>\n",
       "        "
      ],
      "text/plain": [
       "Canvas(toolbar=Toolbar(toolitems=[('Home', 'Reset original view', 'home', 'home'), ('Back', 'Back to previous …"
      ]
     },
     "metadata": {},
     "output_type": "display_data"
    }
   ],
   "source": [
    "imsavepath = '/home/liam/temp/image_transfer/figure7_A_stops.png'\n",
    "\n",
    "fig = plt.figure(figsize=(2.85,1.75))\n",
    "gs = fig.add_gridspec(nrows=1, ncols=1, hspace=0)\n",
    "axs = gs.subplots(sharex=False, sharey=False)\n",
    "ax= axs\n",
    "\n",
    "# create xvalues for plotting\n",
    "x_vals_frames = np.array( [i*window_step for i in range(combined_numUsedWins)]) \n",
    "\n",
    "\n",
    "# plot the mean across trials\n",
    "for stateIdx in [0,1,2]:\n",
    "    \n",
    "    # make the left and rights thicker for each axis\n",
    "    #for axis in ['left','right']:\n",
    "    for axis in ['left', 'right']:\n",
    "        ax.spines[axis].set_linewidth(2)\n",
    "    for axis in ['left']:\n",
    "        ax.spines[axis].set_visible(False)\n",
    "    \n",
    "    # fill between the stdev lines\n",
    "    max_curve = stop_epoch_mean_win_state_probs[:, stateIdx] + stop_epoch_stdevs[:, stateIdx]\n",
    "    min_curve = stop_epoch_mean_win_state_probs[:, stateIdx] - stop_epoch_stdevs[:, stateIdx]\n",
    "    ax.fill_between(x_vals_frames, y1=min_curve, y2=max_curve, color=combined_colors[stateIdx], alpha=0.5)\n",
    "\n",
    "    # plot the mean\n",
    "    ax.plot(x_vals_frames, stop_epoch_mean_win_state_probs[:, stateIdx], color=combined_colors[stateIdx], linewidth=1)\n",
    "    \n",
    "    # xticks\n",
    "    ax.set_xticks([]);\n",
    "    ax.set_xticklabels([]);\n",
    "    \n",
    "    # plot the dividing line between epochs\n",
    "    ax.axvline(np.mean(x_vals_frames), color='black', linestyle='--')\n",
    "    \n",
    "    # plot limits\n",
    "    ax.set_xlim(x_vals_frames[0], x_vals_frames[-1])\n",
    "    ax.set_ylim(bottom=0, top=states_y_max[stateIdx])\n",
    "    \n",
    "     # axes labels\n",
    "    ax.set_ylabel(all_state_names[stateIdx]+'\\n prob')\n",
    "        \n",
    "    # tick params\n",
    "    ax.xaxis.set_tick_params(width=1, length=4)\n",
    "    ax.yaxis.set_tick_params(width=0, length=4)\n",
    "\n",
    "    # set the gridlines\n",
    "    #ax.grid(alpha=0.3)\n",
    "    #ax.axhline(y=0, color='grey', alpha=0.3)\n",
    "    #ax.axhline(y=states_y_tick_max[stateIdx], color='grey', alpha=0.2)\n",
    "    \n",
    "    ## EXTRAS TURN OFF PLOT ILLUSTRATOR VERSION ####\n",
    "    ax.set_yticklabels([])\n",
    "    ax.set_xticklabels([])\n",
    "    ax.set_xlabel('')\n",
    "    ax.set_ylabel('')\n",
    "    \n",
    "    \n",
    "\n",
    "\n",
    "    \n",
    "# ----------------------------------------------------#\n",
    "\n",
    "# xticks\n",
    "xticks = np.array([i*6000 for i in range(int(total_plot_time_mins*2)+1)]) #*2 because of concatenated 2 epochs\n",
    "xticklabels = [i for i in range(-total_plot_time_mins, total_plot_time_mins+1)]\n",
    "ax.set_xticks(xticks);\n",
    "\n",
    "# set the yticks\n",
    "#yticks = [0, states_y_tick_max[2], states_y_tick_max[3]]\n",
    "#ax.set_yticks(yticks)\n",
    "\n",
    "# set the yticks\n",
    "ax.set_ylim(bottom=0, top=np.max(states_y_max))\n",
    "ax.set_yticks([0, np.max(states_y_max)])\n",
    "\n",
    "#ax.set_yticks(yticks)\n",
    "ax.set_yticklabels('')\n",
    "\n",
    "\n",
    "# make the very top and very bottoms lines thicker\n",
    "#ax = axs[0]\n",
    "for axis in ['top']:\n",
    "    ax.spines[axis].set_linewidth(2)\n",
    "#ax = axs[-1]\n",
    "for axis in ['bottom']:\n",
    "    ax.spines[axis].set_linewidth(2)\n",
    "\n",
    "\n",
    "\n",
    "\n",
    "# ----------------------------#\n",
    "fig.tight_layout()\n",
    "fig.savefig(imsavepath, dpi=300, transparent=False)"
   ]
  },
  {
   "cell_type": "code",
   "execution_count": 46,
   "id": "c6b81281-c24f-42fa-81b0-b239176353fd",
   "metadata": {},
   "outputs": [
    {
     "data": {
      "text/plain": [
       "0.504"
      ]
     },
     "execution_count": 46,
     "metadata": {},
     "output_type": "execute_result"
    }
   ],
   "source": [
    "np.max(states_y_max)"
   ]
  },
  {
   "cell_type": "code",
   "execution_count": null,
   "id": "772fa996-5f5e-4247-ac61-ccc5039cdd5b",
   "metadata": {},
   "outputs": [],
   "source": []
  },
  {
   "cell_type": "code",
   "execution_count": null,
   "id": "241ddd58-9316-4393-b6a2-0209012b1391",
   "metadata": {},
   "outputs": [],
   "source": []
  },
  {
   "cell_type": "markdown",
   "id": "27bbae06-2435-4ab2-9a64-4dcd9e29f283",
   "metadata": {},
   "source": [
    "## resized publication versions"
   ]
  },
  {
   "cell_type": "code",
   "execution_count": null,
   "id": "8fa599bf-0a26-4647-a1fb-9f3b8a303764",
   "metadata": {},
   "outputs": [],
   "source": []
  },
  {
   "cell_type": "code",
   "execution_count": null,
   "id": "7917f946-1e01-4b8c-ac2a-cf0ddcb1c20c",
   "metadata": {},
   "outputs": [],
   "source": []
  },
  {
   "cell_type": "code",
   "execution_count": 80,
   "id": "70c8a289-ff8d-49a6-83b0-32947bc517eb",
   "metadata": {},
   "outputs": [
    {
     "data": {
      "application/vnd.jupyter.widget-view+json": {
       "model_id": "033b1735638c4a429ddf6332e233fa55",
       "version_major": 2,
       "version_minor": 0
      },
      "text/html": [
       "\n",
       "            <div style=\"display: inline-block;\">\n",
       "                <div class=\"jupyter-widgets widget-label\" style=\"text-align: center;\">\n",
       "                    Figure\n",
       "                </div>\n",
       "                <img src='data:image/png;base64,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' width=185.0/>\n",
       "            </div>\n",
       "        "
      ],
      "text/plain": [
       "Canvas(toolbar=Toolbar(toolitems=[('Home', 'Reset original view', 'home', 'home'), ('Back', 'Back to previous …"
      ]
     },
     "metadata": {},
     "output_type": "display_data"
    }
   ],
   "source": [
    "imsavepath = '/home/liam/temp/image_transfer/figure7_A_starts.png'\n",
    "\n",
    "fig = plt.figure(figsize=(1.85, 1))\n",
    "gs = fig.add_gridspec(nrows=1, ncols=1, hspace=0)\n",
    "axs = gs.subplots(sharex=False, sharey=False)\n",
    "ax= axs\n",
    "\n",
    "# create xvalues for plotting\n",
    "x_vals_frames = np.array( [i*window_step for i in range(combined_numUsedWins)]) \n",
    "\n",
    "\n",
    "# plot the mean across trials\n",
    "for stateIdx in [0,1,2]:\n",
    "    \n",
    "    # make the left and rights thicker for each axis\n",
    "    #for axis in ['left','right']:\n",
    "    for axis in ['left', 'right']:\n",
    "        ax.spines[axis].set_linewidth(0.9)\n",
    "    for axis in ['right']:\n",
    "        ax.spines[axis].set_visible(False)\n",
    "    \n",
    "    # fill between the stdev lines\n",
    "    max_curve = start_epoch_mean_win_state_probs[:, stateIdx] + start_epoch_stdevs[:, stateIdx]\n",
    "    min_curve = start_epoch_mean_win_state_probs[:, stateIdx] - start_epoch_stdevs[:, stateIdx]\n",
    "    ax.fill_between(x_vals_frames, y1=min_curve, y2=max_curve, color=combined_colors[stateIdx], alpha=0.5)\n",
    "\n",
    "    # plot the mean\n",
    "    ax.plot(x_vals_frames, start_epoch_mean_win_state_probs[:, stateIdx], color=combined_colors[stateIdx], linewidth=0.9)\n",
    "    \n",
    "    # xticks\n",
    "    ax.set_xticks([]);\n",
    "    ax.set_xticklabels([]);\n",
    "    \n",
    "    # plot the dividing line between epochs\n",
    "    ax.axvline(np.mean(x_vals_frames), color='black',  linewidth=0.9, linestyle='--')\n",
    "    \n",
    "    # plot limits\n",
    "    ax.set_xlim(x_vals_frames[0], x_vals_frames[-1])\n",
    "    #ax.set_ylim(bottom=0, top=states_y_max[stateIdx])\n",
    "    \n",
    "     # axes labels\n",
    "    ax.set_ylabel(all_state_names[stateIdx]+'\\n prob')\n",
    "        \n",
    "    # tick params\n",
    "    ax.xaxis.set_tick_params(width=1, length=2)\n",
    "    ax.yaxis.set_tick_params(width=1, length=2)\n",
    "\n",
    "    # set the gridlines\n",
    "    #ax.grid(alpha=0.3)\n",
    "    #ax.axhline(y=0, color='grey', alpha=0.3)\n",
    "    #ax.axhline(y=states_y_tick_max[stateIdx], color='grey', alpha=0.2)\n",
    "    \n",
    "    ## EXTRAS TURN OFF PLOT ILLUSTRATOR VERSION ####\n",
    "    ax.set_yticklabels([])\n",
    "    ax.set_xticklabels([])\n",
    "    ax.set_xlabel('')\n",
    "    ax.set_ylabel('')\n",
    "    \n",
    "    \n",
    "\n",
    "\n",
    "    \n",
    "# ----------------------------------------------------#\n",
    "\n",
    "# xticks\n",
    "xticks = np.array([i*6000 for i in range(int(total_plot_time_mins*2)+1)]) #*2 because of concatenated 2 epochs\n",
    "xticklabels = [i for i in range(-total_plot_time_mins, total_plot_time_mins+1)]\n",
    "ax.set_xticks(xticks);\n",
    "\n",
    "# set the yticks\n",
    "#yticks = [0, states_y_tick_max[2], states_y_tick_max[3]]\n",
    "#ax.set_yticks(yticks)\n",
    "\n",
    "# set the yticks\n",
    "ax.set_ylim(bottom=0, top=np.max(states_y_max))\n",
    "ax.set_yticks([0, np.max(states_y_max)])\n",
    "\n",
    "#ax.set_yticks(yticks)\n",
    "ax.set_yticklabels('')\n",
    "\n",
    "fig.savefig(imsavepath, dpi=1200, transparent=True)"
   ]
  },
  {
   "cell_type": "code",
   "execution_count": 62,
   "id": "aa64acc2-98d7-4d1b-b82f-fd4f1b796086",
   "metadata": {},
   "outputs": [
    {
     "data": {
      "text/plain": [
       "0.42"
      ]
     },
     "execution_count": 62,
     "metadata": {},
     "output_type": "execute_result"
    }
   ],
   "source": [
    "np.max(states_y_tick_max)"
   ]
  },
  {
   "cell_type": "code",
   "execution_count": 63,
   "id": "c31d05d1-0f9d-454d-b389-b680b4e7273e",
   "metadata": {},
   "outputs": [
    {
     "data": {
      "text/plain": [
       "array([0.39, 0.42, 0.38])"
      ]
     },
     "execution_count": 63,
     "metadata": {},
     "output_type": "execute_result"
    }
   ],
   "source": [
    "states_y_tick_max"
   ]
  },
  {
   "cell_type": "code",
   "execution_count": 64,
   "id": "ca60a459-cd3b-410f-a0be-16c0a3fb926e",
   "metadata": {},
   "outputs": [
    {
     "data": {
      "text/plain": [
       "array([0.468, 0.504, 0.456])"
      ]
     },
     "execution_count": 64,
     "metadata": {},
     "output_type": "execute_result"
    }
   ],
   "source": [
    "states_y_max"
   ]
  },
  {
   "cell_type": "code",
   "execution_count": null,
   "id": "2c14760f-8c26-4e4d-94d7-0bd2920b2f6c",
   "metadata": {},
   "outputs": [],
   "source": []
  },
  {
   "cell_type": "code",
   "execution_count": 81,
   "id": "2012d179-a10a-483a-86e5-29d665603136",
   "metadata": {},
   "outputs": [
    {
     "data": {
      "application/vnd.jupyter.widget-view+json": {
       "model_id": "32ce091a22c244f786031b43e297d07e",
       "version_major": 2,
       "version_minor": 0
      },
      "text/html": [
       "\n",
       "            <div style=\"display: inline-block;\">\n",
       "                <div class=\"jupyter-widgets widget-label\" style=\"text-align: center;\">\n",
       "                    Figure\n",
       "                </div>\n",
       "                <img src='data:image/png;base64,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' width=185.0/>\n",
       "            </div>\n",
       "        "
      ],
      "text/plain": [
       "Canvas(toolbar=Toolbar(toolitems=[('Home', 'Reset original view', 'home', 'home'), ('Back', 'Back to previous …"
      ]
     },
     "metadata": {},
     "output_type": "display_data"
    }
   ],
   "source": [
    "imsavepath = '/home/liam/temp/image_transfer/figure7_A_stops.png'\n",
    "\n",
    "fig = plt.figure(figsize=(1.85, 1))\n",
    "gs = fig.add_gridspec(nrows=1, ncols=1, hspace=0)\n",
    "axs = gs.subplots(sharex=False, sharey=False)\n",
    "ax= axs\n",
    "\n",
    "# create xvalues for plotting\n",
    "x_vals_frames = np.array( [i*window_step for i in range(combined_numUsedWins)]) \n",
    "\n",
    "\n",
    "# plot the mean across trials\n",
    "for stateIdx in [0,1,2]:\n",
    "    \n",
    "    # make the left and rights thicker for each axis\n",
    "    #for axis in ['left','right']:\n",
    "    for axis in ['left', 'right']:\n",
    "        ax.spines[axis].set_linewidth(0.9)\n",
    "    for axis in ['left']:\n",
    "        ax.spines[axis].set_visible(False)\n",
    "    \n",
    "    # fill between the stdev lines\n",
    "    max_curve = stop_epoch_mean_win_state_probs[:, stateIdx] + stop_epoch_stdevs[:, stateIdx]\n",
    "    min_curve = stop_epoch_mean_win_state_probs[:, stateIdx] - stop_epoch_stdevs[:, stateIdx]\n",
    "    ax.fill_between(x_vals_frames, y1=min_curve, y2=max_curve, color=combined_colors[stateIdx], alpha=0.5)\n",
    "\n",
    "    # plot the mean\n",
    "    ax.plot(x_vals_frames, stop_epoch_mean_win_state_probs[:, stateIdx], color=combined_colors[stateIdx], linewidth=0.9)\n",
    "    \n",
    "    # xticks\n",
    "    ax.set_xticks([]);\n",
    "    ax.set_xticklabels([]);\n",
    "    \n",
    "    # plot the dividing line between epochs\n",
    "    ax.axvline(np.mean(x_vals_frames), linewidth=0.9, color='black', linestyle='--')\n",
    "    \n",
    "    # plot limits\n",
    "    ax.set_xlim(x_vals_frames[0], x_vals_frames[-1])\n",
    "    ax.set_ylim(bottom=0, top=states_y_max[stateIdx])\n",
    "    \n",
    "     # axes labels\n",
    "    ax.set_ylabel(all_state_names[stateIdx]+'\\n prob')\n",
    "        \n",
    "    # tick params\n",
    "    ax.xaxis.set_tick_params(width=1, length=2)\n",
    "    ax.yaxis.set_tick_params(width=0, length=2)\n",
    "\n",
    "    # set the gridlines\n",
    "    #ax.grid(alpha=0.3)\n",
    "    #ax.axhline(y=0, color='grey', alpha=0.3)\n",
    "    #ax.axhline(y=states_y_tick_max[stateIdx], color='grey', alpha=0.2)\n",
    "    \n",
    "    ## EXTRAS TURN OFF PLOT ILLUSTRATOR VERSION ####\n",
    "    ax.set_yticklabels([])\n",
    "    ax.set_xticklabels([])\n",
    "    ax.set_xlabel('')\n",
    "    ax.set_ylabel('')\n",
    "    \n",
    "    \n",
    "\n",
    "\n",
    "    \n",
    "# ----------------------------------------------------#\n",
    "\n",
    "# xticks\n",
    "xticks = np.array([i*6000 for i in range(int(total_plot_time_mins*2)+1)]) #*2 because of concatenated 2 epochs\n",
    "xticklabels = [i for i in range(-total_plot_time_mins, total_plot_time_mins+1)]\n",
    "ax.set_xticks(xticks);\n",
    "\n",
    "# set the yticks\n",
    "ax.set_ylim(bottom=0, top=np.max(states_y_max))\n",
    "ax.set_yticks([0, np.max(states_y_max)])\n",
    "\n",
    "#ax.set_yticks(yticks)\n",
    "ax.set_yticklabels('')\n",
    "\n",
    "fig.savefig(imsavepath, dpi=1200, transparent=True)"
   ]
  },
  {
   "cell_type": "code",
   "execution_count": 66,
   "id": "b1494cc2-b5e2-4bf0-8032-88b444075d3d",
   "metadata": {},
   "outputs": [
    {
     "data": {
      "text/plain": [
       "0.504"
      ]
     },
     "execution_count": 66,
     "metadata": {},
     "output_type": "execute_result"
    }
   ],
   "source": [
    "np.max(states_y_max)"
   ]
  },
  {
   "cell_type": "code",
   "execution_count": null,
   "id": "9daae929-91e3-43f2-8052-3c37006bcef5",
   "metadata": {},
   "outputs": [],
   "source": []
  },
  {
   "cell_type": "code",
   "execution_count": null,
   "id": "e1ae9085-417d-48de-949a-098677fe1ca2",
   "metadata": {},
   "outputs": [],
   "source": []
  }
 ],
 "metadata": {
  "kernelspec": {
   "display_name": "analysis",
   "language": "python",
   "name": "analysis"
  },
  "language_info": {
   "codemirror_mode": {
    "name": "ipython",
    "version": 3
   },
   "file_extension": ".py",
   "mimetype": "text/x-python",
   "name": "python",
   "nbconvert_exporter": "python",
   "pygments_lexer": "ipython3",
   "version": "3.9.7"
  }
 },
 "nbformat": 4,
 "nbformat_minor": 5
}

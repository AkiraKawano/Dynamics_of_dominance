{
 "cells": [
  {
   "cell_type": "code",
   "execution_count": null,
   "id": "8dce474b-ff82-45f8-8d31-601d5e217bf3",
   "metadata": {},
   "outputs": [],
   "source": []
  },
  {
   "cell_type": "markdown",
   "id": "a06ad90c-9492-45f0-8c33-97b2c2e15f47",
   "metadata": {},
   "source": [
    "# Notes"
   ]
  },
  {
   "cell_type": "code",
   "execution_count": null,
   "id": "da4dca35-5fa6-4146-a434-25ef59e6192e",
   "metadata": {},
   "outputs": [],
   "source": []
  },
  {
   "cell_type": "code",
   "execution_count": null,
   "id": "3e91f8af-6e77-47c7-9c61-b80df90ef29e",
   "metadata": {},
   "outputs": [],
   "source": []
  },
  {
   "cell_type": "code",
   "execution_count": null,
   "id": "f47abab5-a698-41ee-8d58-d13cd72fc59c",
   "metadata": {},
   "outputs": [],
   "source": []
  },
  {
   "cell_type": "markdown",
   "id": "0b7a9bb6-1767-41e8-92dc-fddd198bce9e",
   "metadata": {},
   "source": [
    "# Imports"
   ]
  },
  {
   "cell_type": "code",
   "execution_count": 2,
   "id": "0ffc9353-7621-4809-8238-000f55235c2a",
   "metadata": {},
   "outputs": [
    {
     "name": "stdout",
     "output_type": "stream",
     "text": [
      "The autoreload extension is already loaded. To reload it, use:\n",
      "  %reload_ext autoreload\n"
     ]
    }
   ],
   "source": [
    "import numpy as np\n",
    "np.set_printoptions(suppress=True)\n",
    "import h5py\n",
    "import time\n",
    "import glob\n",
    "import pandas as pd\n",
    "import matplotlib.pyplot as plt\n",
    "import seaborn as sns\n",
    "import os\n",
    "import sys\n",
    "%matplotlib widget\n",
    "%load_ext autoreload\n",
    "%autoreload 2\n",
    "\n",
    "# --- import functions for computing kinematic variables --- #\n",
    "sys.path.append('../tracking_code/lib/')\n",
    "sys.path.append('./lib/')\n"
   ]
  },
  {
   "cell_type": "code",
   "execution_count": null,
   "id": "038d254d-0e40-468f-8d2f-20a16e5a2340",
   "metadata": {},
   "outputs": [],
   "source": []
  },
  {
   "cell_type": "code",
   "execution_count": null,
   "id": "9013180b-cd2e-465e-8cb5-664caeb4bb88",
   "metadata": {},
   "outputs": [],
   "source": []
  },
  {
   "cell_type": "code",
   "execution_count": null,
   "id": "021ce29f-a439-4cfb-8d8e-687b7f6d1825",
   "metadata": {},
   "outputs": [],
   "source": []
  },
  {
   "cell_type": "markdown",
   "id": "e30d0a2e-1a41-473c-ba47-465bb8ceeb55",
   "metadata": {},
   "source": [
    "# Functions "
   ]
  },
  {
   "cell_type": "code",
   "execution_count": 3,
   "id": "f5cbdd2d-6e04-47f3-9295-b9f1f9628a31",
   "metadata": {},
   "outputs": [],
   "source": [
    "def return_state_probabilities_from_state_tseries(state_tseries, numLabelledStates):\n",
    "    ''' Return the probabilities of each state in the state_tseries. \n",
    "        Each value in state_tseries is between 0 and numLabelledStates-1, or NaN,\n",
    "        or -1 if it was belonging to another cluster (nonlabelled cluster)\n",
    "        Return the probability of each state as a vector, with the last entry being prob\n",
    "        of another cluster, and NaN data excluded.\n",
    "    \n",
    "    --- args ---\n",
    "    state_tseries: a 1D timeseries of cluster indexes, starting from -1,  \n",
    "                   Can contains NaNs.\n",
    "    numLabelledStates: the number of state indices that should appear in state_tseries.\n",
    "                       Pass this in case no values are found for some indices, in which\n",
    "                       case we know how many zero probabilities to return.\n",
    "               \n",
    "    --- returns ---\n",
    "    state_probs: 1D array of shape (numLabelledStates+1,), containing the probability of \n",
    "                 each cluster idx and lastly the probability of nonlabelled clusters\n",
    "    '''\n",
    "    # add one state for -1 (nonlabelled cluster)\n",
    "    numStates = numLabelledStates + 1\n",
    "    # preallocate the output\n",
    "    state_probs = np.zeros((numStates,))\n",
    "    #  find the number of frames in total excluding NaN frames\n",
    "    state_tseries_nanless = state_tseries[~np.isnan(state_tseries)]\n",
    "    numFrames = state_tseries_nanless.shape[0]\n",
    "    # if we have no non-nan frames, all probs are zero except the last\n",
    "    if numFrames == 0:\n",
    "        return state_probs\n",
    "    else:\n",
    "        # first compute main states probs\n",
    "        for stateIdx in range(numLabelledStates):\n",
    "            state_counts = np.where(state_tseries_nanless==stateIdx)[0].shape[0]\n",
    "            state_probs[stateIdx] = state_counts / numFrames\n",
    "        # now add the final NaN probability\n",
    "        other_state_counts = np.where(state_tseries_nanless==-1)[0].shape[0]\n",
    "        state_probs[-1] = other_state_counts / numFrames\n",
    "        return state_probs\n",
    "\n",
    "\n",
    "    \n",
    "def compute_state_probabilities_in_time_windows(state_tseries, time_windows, numLabelledStates):\n",
    "    ''' Compute the probability of each of the state indices in state_tseries, in\n",
    "        each of the windows in time_windows.\n",
    "    \n",
    "    --- args ---\n",
    "    state_tseries: a 1D timeseries of cluster indexes, starting from 0 to (numLabelledClusters-1)\n",
    "                   for the labelled states, -1 for all nonlabelled states, and NaN for missing data.\n",
    "    time_windows: array of shape (numWins,2), where each row contains a start frame\n",
    "                  and a stop frame which define a region in time. The probabilities\n",
    "                  are estimated in each of these regions in time.\n",
    "    numLabelledStates: the number of state indices that should appear in state_tseries.\n",
    "                       Pass this in case no values are found for some indices, in which\n",
    "                       case we know how many zero probabilities to return.\n",
    "               \n",
    "    --- returns ---\n",
    "    window_state_probabilities: a (numWinds, numLabelledStates+1) array containing the \n",
    "                                probability of each cluster idx and lastly the probability of \n",
    "                                nonlabelled cluster occuring. \n",
    "                                \n",
    "    --- see also ---\n",
    "    return_state_probabilities_from_state_tseries: \n",
    "    the function which does the main computation in each time window.\n",
    "    \n",
    "    '''\n",
    "    numWins = time_windows.shape[0]\n",
    "    window_state_probabilities = np.zeros((numWins, numLabelledStates+1)) # plus1 for the nonlabelled states\n",
    "    for winIdx in range(numWins):\n",
    "        w0,wE = time_windows[winIdx]\n",
    "        win_data = state_tseries[w0:wE]\n",
    "        win_state_probs = return_state_probabilities_from_state_tseries(win_data, numLabelledStates)\n",
    "        window_state_probabilities[winIdx] = win_state_probs\n",
    "    return window_state_probabilities"
   ]
  },
  {
   "cell_type": "code",
   "execution_count": 4,
   "id": "d3604225-ea0f-4ec2-b9d6-294ee608de9e",
   "metadata": {},
   "outputs": [],
   "source": [
    "def return_region_win_state_probs(region_data, all_exp_window_state_probabilities, all_exp_time_windows, all_exp_numFrames):\n",
    "    ''' Return the list over fight-bouts, containing the windowed state probabilities for the chosen region.\n",
    "    \n",
    "    --- args ---\n",
    "    region_data: array (numBouts,3), where first col is exp idxs, 2nd and 3rd cols are the start/stop\n",
    "                 frames of certain regions, e.g. 3 mins before a fightbout.\n",
    "    \n",
    "    all_exp_window_state_probabilities: the list over experiments, containing the windowed state probability of\n",
    "                                        infomap clusters, e.g. each element of the list is a (numWins, 11) array,\n",
    "                                        where 11 is the number of states and state vals sum to 1.\n",
    "                                        \n",
    "    all_exp_time_windows: the list over experiments, with elements being the time windows associated with the \n",
    "                          state probabilities in all_exp_window_state_probabilities.\n",
    "                          \n",
    "    all_exp_numFrames: a list over experiments containing the number of frames in each experiment.\n",
    "                          \n",
    "    --- return ---\n",
    "    exps_region_win_state_probs: a list over fight bouts, where each element is a (numRegionWins,numStates) array\n",
    "                                 of state proabilities for windows during the chosen region for a particular fight bout.\n",
    "                                 \n",
    "    --- see also ---\n",
    "    find_time_window_indices_bounding_start_and_stop_frame()\n",
    "    \n",
    "    '''\n",
    "    #exps_region_time_wins = []\n",
    "    exps_region_win_state_probs = []\n",
    "\n",
    "    skipped_bIdxs = []\n",
    "    for bIdx in range(region_data.shape[0]):\n",
    "        expIdx, t0, tE = region_data[bIdx]\n",
    "        \n",
    "        # if t0 is negative, exclude this fight bout\n",
    "        # if tE is greater than the number of frames in the experiment, exclude fight bout\n",
    "        if t0 < 0:\n",
    "            skipped_bIdxs.append(bIdx)\n",
    "            continue\n",
    "        expnfs = expNumFrames[expIdx]\n",
    "        if tE > expnfs:\n",
    "            skipped_bIdxs.append(bIdx)\n",
    "            continue\n",
    "\n",
    "        exp_win_state_probs = all_exp_window_state_probabilities[expIdx]\n",
    "        exp_time_wins = all_exp_time_windows[expIdx]\n",
    "\n",
    "        desired_first_win_idx, desired_last_win_idx = find_time_window_indices_bounding_start_and_stop_frame(exp_time_wins, \n",
    "                                                                                                             t0, tE)\n",
    "\n",
    "        #region_time_wins = exp_time_wins[desired_first_win_idx:desired_last_win_idx+1, :] #+1 to get the last win\n",
    "        region_win_state_probs = np.copy(exp_win_state_probs[desired_first_win_idx:desired_last_win_idx+1, :])\n",
    "\n",
    "        #exps_region_time_wins.append(region_time_wins)\n",
    "        exps_region_win_state_probs.append(region_win_state_probs)\n",
    "    \n",
    "    \n",
    "    return exps_region_win_state_probs\n",
    "\n",
    "\n",
    "\n",
    "def find_time_window_indices_bounding_start_and_stop_frame(time_windows, startFrame, stopFrame):\n",
    "    ''' Return the time window indices of which bound the startFrame and stopFrame.\n",
    "    \n",
    "    The idea is to allow for the parsing of time_windows, to choose only windows that contain\n",
    "    no contributions for timepoints outside of the interval [startFrame, stopFrame]\n",
    "    \n",
    "    --- Example ---\n",
    "    time_windows = np.array([[     0,   6000],\n",
    "                            [   100,   6100],\n",
    "                            [   200,   6200],\n",
    "                            ...,\n",
    "                            [711600, 717600],\n",
    "                            [711700, 717700],\n",
    "                            [711800, 717800]])\n",
    "    startFrame = 36000\n",
    "    stopFrame = 66000\n",
    "                       \n",
    "    desired_first_win_idx, desired_first_win_idx = f(time_windows, startFrame, stopFrame)\n",
    "    time_windows[desired_first_win_idx] = array([36000, 42000])\n",
    "    time_windows[desired_last_win_idx] = array([60000, 66000])                  \n",
    "    \n",
    "    -- returns --\n",
    "    desired_first_win_idx, desired_first_win_idx: int, int\n",
    "    \n",
    "    '''\n",
    "    desired_first_win_idx = np.where(time_windows[:,0] >= startFrame)[0][0]\n",
    "    desired_last_win_idx = np.where(time_windows[:,1] >= stopFrame)[0][0]\n",
    "    return desired_first_win_idx, desired_last_win_idx\n",
    "\n",
    "\n",
    "\n",
    "def return_overlapping_windows_for_timeframes(numFrames, window_size=200, window_step=50):\n",
    "    ''' Given a number of frames, return an 2D array of window start-stop frames.\n",
    "    '''\n",
    "    # define, for clarity, the first window\n",
    "    win0_start = 0\n",
    "    win0_mid = int(window_size/2)\n",
    "    win0_end = int(window_size)\n",
    "\n",
    "    # find numWindows, by adding incrementally and watching the last frame\n",
    "    last_frame_in_windows = win0_end\n",
    "    numWindows = 1\n",
    "    while last_frame_in_windows < (numFrames - window_step):\n",
    "        numWindows += 1\n",
    "        last_frame_in_windows = win0_end + (numWindows-1)*window_step\n",
    "\n",
    "    # now fill-in the windows array of frame indices\n",
    "    windows = np.zeros((numWindows, 2))\n",
    "    windows[0, 0] = 0\n",
    "    windows[0, 1] = win0_end\n",
    "    for winIdx in range(1, numWindows):\n",
    "        w0 = winIdx*window_step\n",
    "        wF = w0 + window_size\n",
    "        windows[winIdx, 0] = w0\n",
    "        windows[winIdx, 1] = wF\n",
    "    return windows.astype(int)"
   ]
  },
  {
   "cell_type": "code",
   "execution_count": null,
   "id": "4a3f16a7-8d95-49a7-b61a-08b58dd1ee35",
   "metadata": {},
   "outputs": [],
   "source": []
  },
  {
   "cell_type": "code",
   "execution_count": null,
   "id": "b433d0fd-d176-4342-94b3-a82de654a304",
   "metadata": {},
   "outputs": [],
   "source": []
  },
  {
   "cell_type": "code",
   "execution_count": null,
   "id": "c9e4d905-38ea-4388-9478-1dfaf04f0f83",
   "metadata": {},
   "outputs": [],
   "source": []
  },
  {
   "cell_type": "code",
   "execution_count": null,
   "id": "f8c2c67d-d0a5-4306-a8de-123246dd396a",
   "metadata": {},
   "outputs": [],
   "source": []
  },
  {
   "cell_type": "markdown",
   "id": "b18834f3-9b81-4857-930a-1be269f4a3a6",
   "metadata": {},
   "source": [
    "# load the tracking data"
   ]
  },
  {
   "cell_type": "code",
   "execution_count": null,
   "id": "a801f802-708e-46ad-b624-f54528e9ba60",
   "metadata": {},
   "outputs": [],
   "source": []
  },
  {
   "cell_type": "code",
   "execution_count": 139,
   "id": "1a230372-ee0f-4866-8599-ae624503ce04",
   "metadata": {},
   "outputs": [],
   "source": [
    "main_load_folder = '/media/liam/hd1/fighting_data/tracking_results/'\n",
    "\n",
    "# ----------------------#\n",
    "\n",
    "interp_polyOrd=1  # the order of the polynomial used for interpolation\n",
    "interp_limit=5    # the maximum number of frames to interpolate over\n",
    "savgol_win=9      # the number of frames for the Savitzky-Golay filter\n",
    "savgol_ord=2      # the polynomial order for the Savitzky-Golay filter\n",
    "dt=0.01           # the frame rate of the recording\n",
    "\n",
    "\n",
    "# the filepaths for loading the infomap timeseries data we need\n",
    "infomap_data_loadpath = os.path.join( os.path.dirname(os.path.dirname(main_load_folder)) , \n",
    "                                      'infomap_data/transmat_and_infomap.h5')\n",
    "\n",
    "# the path for loading the fightbout info\n",
    "fightBouts_info_path = os.path.join(main_load_folder, 'fightBouts.h5')\n",
    "\n",
    "\n",
    "# -----------------------#\n",
    "\n",
    "loadpaths = glob.glob(os.path.join(main_load_folder, '*results.h5'))\n",
    "loadpaths.sort()\n",
    "\n",
    "# parse the exp names\n",
    "expNames = [path.split('/')[-1][:23] for path in loadpaths]\n",
    "\n",
    "\n",
    "raw_trajectories = []\n",
    "for path in loadpaths:\n",
    "    with h5py.File(path, 'r') as hf:\n",
    "        tracks_3D_raw = hf['tracks_3D_raw'][:]\n",
    "    raw_trajectories.append(tracks_3D_raw)\n",
    "\n",
    "smooth_trajectories = []\n",
    "for path in loadpaths:\n",
    "    with h5py.File(path, 'r') as hf:\n",
    "        tracks_3D_smooth = hf['tracks_3D_smooth'][:]\n",
    "    smooth_trajectories.append(tracks_3D_smooth)\n",
    "    \n",
    "    \n",
    "# create a list of the number of frames in each experiment\n",
    "expNumFrames = []\n",
    "for expIdx in range(len(expNames)):\n",
    "    nfs = smooth_trajectories[expIdx].shape[0]\n",
    "    expNumFrames.append(nfs)\n",
    "    \n",
    "# -----------------------------#\n",
    "# load other useful information\n",
    "    \n",
    "other_info_loadpath = os.path.join(main_load_folder, 'winners_losers_inconclusive.h5')\n",
    "with h5py.File(other_info_loadpath, 'r') as hf:\n",
    "    winner_idxs = hf['winner_idxs'][:]\n",
    "    loser_idxs = hf['loser_idxs'][:]\n",
    "    conclusive_winner_loser = hf['conclusive_winner_loser'][:]\n",
    "    already_established_dominance = hf['already_established_dominance'][:]\n",
    "\n",
    "    \n"
   ]
  },
  {
   "cell_type": "code",
   "execution_count": null,
   "id": "c37e0758-25f8-4fff-bfad-f395691f4ea4",
   "metadata": {},
   "outputs": [],
   "source": []
  },
  {
   "cell_type": "code",
   "execution_count": null,
   "id": "71191c8f-9357-4735-87a5-3e3910c8447b",
   "metadata": {},
   "outputs": [],
   "source": []
  },
  {
   "cell_type": "code",
   "execution_count": null,
   "id": "a7279cc0-5d59-4550-bc43-c1b45588eef7",
   "metadata": {},
   "outputs": [],
   "source": []
  },
  {
   "cell_type": "code",
   "execution_count": null,
   "id": "bb074f70-5a8f-4b63-97bf-c5c16c7a1d5b",
   "metadata": {},
   "outputs": [],
   "source": []
  },
  {
   "cell_type": "code",
   "execution_count": null,
   "id": "5ef5b0aa-bcb8-4e58-ac61-f23e08c93170",
   "metadata": {},
   "outputs": [],
   "source": []
  },
  {
   "cell_type": "code",
   "execution_count": null,
   "id": "ec98a1be-0502-468e-abf1-da41ed6bf119",
   "metadata": {},
   "outputs": [],
   "source": []
  },
  {
   "cell_type": "code",
   "execution_count": null,
   "id": "f4112043-c61e-46cc-be04-fe1ebf739122",
   "metadata": {},
   "outputs": [],
   "source": []
  },
  {
   "cell_type": "markdown",
   "id": "5aa8657e-f1db-4f6b-9b17-6cf7064a7db7",
   "metadata": {},
   "source": [
    "# load the post-processed tseries of infomap cluster idxs"
   ]
  },
  {
   "cell_type": "code",
   "execution_count": null,
   "id": "4768dd1e-73e8-4111-ba93-1951528952ab",
   "metadata": {},
   "outputs": [],
   "source": []
  },
  {
   "cell_type": "code",
   "execution_count": 6,
   "id": "283fbeed-93a8-4524-9d21-d9029a4b7fa4",
   "metadata": {},
   "outputs": [
    {
     "data": {
      "text/plain": [
       "(16044324,)"
      ]
     },
     "execution_count": 6,
     "metadata": {},
     "output_type": "execute_result"
    }
   ],
   "source": [
    "# load\n",
    "all_exps_edited_postProced_clusterIdx_tseries = []\n",
    "postprocessed_all_exp_edited_cluster_tseries_savepath = os.path.join(os.path.dirname(infomap_data_loadpath),\n",
    "                                                                     'postprocessed_exp_edited_clusterIdx_timeseries.h5')\n",
    "with h5py.File(postprocessed_all_exp_edited_cluster_tseries_savepath, 'r') as hf:\n",
    "    for expIdx in range(len(expNames)):\n",
    "        expName = expNames[expIdx]\n",
    "        tseries = hf['{0}_clusterIdxs'.format(expName)][:]\n",
    "        all_exps_edited_postProced_clusterIdx_tseries.append(tseries)\n",
    "        \n",
    "# make the master-set\n",
    "clusterIdx_edited_postProced_tseries_master = np.concatenate(all_exps_edited_postProced_clusterIdx_tseries)\n",
    "clusterIdx_edited_postProced_tseries_master.shape"
   ]
  },
  {
   "cell_type": "code",
   "execution_count": null,
   "id": "7ab507bc-7b5b-4c2f-8a43-da8ab7b29b23",
   "metadata": {},
   "outputs": [],
   "source": []
  },
  {
   "cell_type": "code",
   "execution_count": null,
   "id": "fbd038b3-530b-473a-8512-bfc00bade4b3",
   "metadata": {},
   "outputs": [],
   "source": []
  },
  {
   "cell_type": "code",
   "execution_count": 7,
   "id": "6e731329-52d7-4225-a8c6-bffeb9dccd25",
   "metadata": {},
   "outputs": [],
   "source": [
    "# We use these for plotting consistent fight maneuver colors across figures\n",
    "colorlist = ['#ffe119', '#3cb44b', '#e6194B', '#4363d8', '#f58231', \n",
    "             '#911eb4', '#42d4f4', '#f032e6', '#bfef45', '#fabed4', \n",
    "             '#469990', '#dcbeff', '#9A6324', '#800000', \n",
    "             '#aaffc3', '#808000', '#ffd8b1', '#000075', '#a9a9a9'] \n"
   ]
  },
  {
   "cell_type": "code",
   "execution_count": 8,
   "id": "0beab27a-5e2b-48a8-8825-668e1e4c11fd",
   "metadata": {},
   "outputs": [
    {
     "data": {
      "text/plain": [
       "['circling',\n",
       " 'direct away',\n",
       " 'winner attack',\n",
       " 'loser attack',\n",
       " 'display',\n",
       " 'direct to',\n",
       " 'middle circling',\n",
       " 'L approach',\n",
       " 'W approach',\n",
       " 'parallel',\n",
       " 'non-fight clusters']"
      ]
     },
     "execution_count": 8,
     "metadata": {},
     "output_type": "execute_result"
    }
   ],
   "source": [
    "\n",
    "# these are the state names of the clusterIdx_edited_postProced_tseries\n",
    "all_state_names = ['circling',\n",
    "                 'direct away',\n",
    "                 'winner attack',\n",
    "                 'loser attack',\n",
    "                 'display',\n",
    "                 'direct to',\n",
    "                 'middle circling',\n",
    "                 'L approach',\n",
    "                 'W approach',\n",
    "                 'parallel',\n",
    "                 'non-fight clusters']\n",
    "\n",
    "all_state_names"
   ]
  },
  {
   "cell_type": "code",
   "execution_count": 9,
   "id": "d907122c-8ce7-4967-ac25-2f5ac06047ac",
   "metadata": {},
   "outputs": [
    {
     "data": {
      "text/plain": [
       "11"
      ]
     },
     "execution_count": 9,
     "metadata": {},
     "output_type": "execute_result"
    }
   ],
   "source": [
    "len(all_state_names)"
   ]
  },
  {
   "cell_type": "code",
   "execution_count": 10,
   "id": "f8dc1a32-c48b-479c-bed3-130714e687d7",
   "metadata": {},
   "outputs": [
    {
     "data": {
      "text/plain": [
       "10"
      ]
     },
     "execution_count": 10,
     "metadata": {},
     "output_type": "execute_result"
    }
   ],
   "source": [
    "numLabelledStates = len(all_state_names)-1\n",
    "numLabelledStates\n"
   ]
  },
  {
   "cell_type": "code",
   "execution_count": null,
   "id": "a90f43f5-302d-457a-96ab-53073443993c",
   "metadata": {},
   "outputs": [],
   "source": []
  },
  {
   "cell_type": "code",
   "execution_count": 11,
   "id": "9e4e9516-5526-468b-b988-eefe2da26630",
   "metadata": {},
   "outputs": [
    {
     "data": {
      "text/plain": [
       "array([-1.,  0.,  1.,  2.,  3.,  4.,  5.,  6.,  7.,  8.,  9.])"
      ]
     },
     "execution_count": 11,
     "metadata": {},
     "output_type": "execute_result"
    }
   ],
   "source": [
    "# -1 represent nonFight clusters\n",
    "# NaN data means missing data\n",
    "np.unique(clusterIdx_edited_postProced_tseries_master[~np.isnan(clusterIdx_edited_postProced_tseries_master)])"
   ]
  },
  {
   "cell_type": "code",
   "execution_count": null,
   "id": "5c93e345-d43b-4588-8863-821f8c5269d7",
   "metadata": {},
   "outputs": [],
   "source": []
  },
  {
   "cell_type": "code",
   "execution_count": null,
   "id": "65b4f1cc-6d82-4c95-a78f-80c0c0ff5c4d",
   "metadata": {},
   "outputs": [],
   "source": []
  },
  {
   "cell_type": "code",
   "execution_count": null,
   "id": "2389e9c1-aea4-42a5-92a2-ed8bbba8a651",
   "metadata": {},
   "outputs": [],
   "source": []
  },
  {
   "cell_type": "markdown",
   "id": "a8be277e-e01c-4118-a722-c7d26cf2fa33",
   "metadata": {},
   "source": [
    "# Compute the windowed probabilities"
   ]
  },
  {
   "cell_type": "code",
   "execution_count": 12,
   "id": "8fe83190-b609-422f-a6e3-f5302cdf063e",
   "metadata": {},
   "outputs": [
    {
     "name": "stdout",
     "output_type": "stream",
     "text": [
      "FishTank20200127_143538\n",
      "FishTank20200129_140656\n",
      "FishTank20200130_153857\n",
      "FishTank20200130_181614\n",
      "FishTank20200207_161445\n",
      "FishTank20200213_154940\n",
      "FishTank20200214_153519\n",
      "FishTank20200217_160052\n",
      "FishTank20200218_153008\n",
      "FishTank20200316_163320\n",
      "FishTank20200327_154737\n",
      "FishTank20200330_161100\n",
      "FishTank20200331_162136\n",
      "FishTank20200520_152810\n",
      "FishTank20200521_154541\n",
      "FishTank20200525_161602\n",
      "FishTank20200526_160100\n",
      "FishTank20200527_152401\n",
      "FishTank20200824_151740\n",
      "FishTank20200828_155504\n",
      "FishTank20200902_160124\n",
      "FishTank20200903_160946\n"
     ]
    }
   ],
   "source": [
    "# compute the windowed state probabilities for each experiment\n",
    "window_size= 3000 #6000\n",
    "window_step=100\n",
    "\n",
    "all_exp_window_state_probabilities = []\n",
    "all_exp_time_windows = []\n",
    "\n",
    "for expIdx in range(len(expNames)):\n",
    "    expName = expNames[expIdx]\n",
    "    print(expName)\n",
    "    exp_cls_tseries = np.copy(all_exps_edited_postProced_clusterIdx_tseries[expIdx])\n",
    "    exp_numFrames = exp_cls_tseries.shape[0]\n",
    "    exp_time_windows = return_overlapping_windows_for_timeframes(exp_numFrames, window_size=window_size, window_step=window_step)\n",
    "    exp_window_state_probabilities = compute_state_probabilities_in_time_windows(exp_cls_tseries, exp_time_windows, numLabelledStates)\n",
    "    all_exp_window_state_probabilities.append(exp_window_state_probabilities)\n",
    "    all_exp_time_windows.append(exp_time_windows)"
   ]
  },
  {
   "cell_type": "code",
   "execution_count": null,
   "id": "7d742b12-41a9-45e1-b959-bdec4c99fd91",
   "metadata": {},
   "outputs": [],
   "source": []
  },
  {
   "cell_type": "code",
   "execution_count": null,
   "id": "54f84754-6b32-443e-9e3c-d4a7e5523168",
   "metadata": {},
   "outputs": [],
   "source": []
  },
  {
   "cell_type": "markdown",
   "id": "a2aaea59-0c60-48a7-b9ad-65a139b3cd03",
   "metadata": {},
   "source": [
    "# Load the fight boundaries for this figure"
   ]
  },
  {
   "cell_type": "markdown",
   "id": "23500677-c8dc-47ae-bb79-625f13e0c8dc",
   "metadata": {},
   "source": [
    "See the fight_detector.ipynb notebook for more information"
   ]
  },
  {
   "cell_type": "code",
   "execution_count": 141,
   "id": "ea2a0a4d-b128-48f6-9c48-dc73b71ae316",
   "metadata": {},
   "outputs": [
    {
     "data": {
      "text/plain": [
       "'/media/liam/hd1/fighting_data/tracking_results/fightBouts.h5'"
      ]
     },
     "execution_count": 141,
     "metadata": {},
     "output_type": "execute_result"
    }
   ],
   "source": [
    "fightBouts_info_path"
   ]
  },
  {
   "cell_type": "code",
   "execution_count": 142,
   "id": "4171d97b-66e2-4edc-9702-dcc754650897",
   "metadata": {},
   "outputs": [
    {
     "data": {
      "text/plain": [
       "(18, 4)"
      ]
     },
     "execution_count": 142,
     "metadata": {},
     "output_type": "execute_result"
    }
   ],
   "source": [
    "with h5py.File(fightBouts_info_path, 'r') as hf:\n",
    "    fight_bout_info = hf['fight_bout_info'][:]\n",
    "    \n",
    "fight_bout_info.shape"
   ]
  },
  {
   "cell_type": "code",
   "execution_count": null,
   "id": "80dff317-2b24-4ada-91b4-696128f4f19c",
   "metadata": {},
   "outputs": [],
   "source": []
  },
  {
   "cell_type": "code",
   "execution_count": null,
   "id": "aa879b2b-67ea-474f-9c56-d369c6792a24",
   "metadata": {},
   "outputs": [],
   "source": []
  },
  {
   "cell_type": "code",
   "execution_count": null,
   "id": "82e55c9c-d2bb-4a40-9e15-8c8caa8cc8d7",
   "metadata": {},
   "outputs": [],
   "source": []
  },
  {
   "cell_type": "markdown",
   "id": "d0b0ef58-b160-4293-a0ac-1ee7c8803a7e",
   "metadata": {},
   "source": [
    "# grabbing the exp and time frame data for each of the 4 periods"
   ]
  },
  {
   "cell_type": "code",
   "execution_count": null,
   "id": "b8431250-5249-4c5d-94ad-faa21297b6b1",
   "metadata": {},
   "outputs": [],
   "source": []
  },
  {
   "cell_type": "code",
   "execution_count": 143,
   "id": "d634fcf3-ddee-4ef7-9bc5-470a226eacc7",
   "metadata": {},
   "outputs": [],
   "source": [
    "# ---- get the frame ranges for each of the 4 time periods ---#\n",
    "\n",
    "\n",
    "''' Schematic for pre-fight\n",
    "\n",
    "win_size = 6000\n",
    "f0 = 36000\n",
    "desired_time_win = 18000\n",
    "\n",
    "win_buff = window_size/2 = 3000\n",
    "\n",
    "pre_fight_time_data = f0 - (desired_time_win+win_buff) : f0 + win_buff\n",
    "                    = 36000 - (21000) : 36000 + 3000\n",
    "                    = 15900 : 39000\n",
    "                    \n",
    "-    : normal time\n",
    "*    : buffer\n",
    "&    : desired region\n",
    "<--> : sample window\n",
    "\n",
    "The buffer allows us to center windows right up until the edges of the desired regions.\n",
    "                    \n",
    "-----------*****&&&&&&&&&*****--------------\n",
    "           <-------->   \n",
    "                    <--------> \n",
    "'''\n",
    "\n",
    "epoch_names = ['pre fight start', 'post fight start', 'pre fight end', 'post fight end']\n",
    "\n",
    "pre_fight_time_data = []\n",
    "start_fight_time_data = []\n",
    "end_fight_time_data = []\n",
    "post_fight_time_data = []\n",
    "\n",
    "desired_time_win = 18000\n",
    "win_buff = window_size/2 # a bit extra, so we can plot a full desired_time_wins\n",
    "\n",
    "for boutIdx in range(fight_bout_info.shape[0]):\n",
    "    expIdx, f0, fE, _ = fight_bout_info[boutIdx]\n",
    "    \n",
    "    pre_fight_time_data.append( np.array([expIdx, f0-(desired_time_win+win_buff), f0+win_buff]) )\n",
    "    start_fight_time_data.append( np.array([expIdx, f0-win_buff, f0+(desired_time_win+win_buff)]) )\n",
    "    end_fight_time_data.append( np.array([expIdx, fE-(desired_time_win+win_buff), fE+win_buff]) )\n",
    "    post_fight_time_data.append( np.array([expIdx, fE-win_buff, fE+(desired_time_win+win_buff)]) )\n",
    "    \n",
    "    \n",
    "pre_fight_time_data = np.array(pre_fight_time_data).astype(int)\n",
    "start_fight_time_data = np.array(start_fight_time_data).astype(int)\n",
    "end_fight_time_data = np.array(end_fight_time_data).astype(int)\n",
    "post_fight_time_data = np.array(post_fight_time_data).astype(int)\n",
    "\n",
    "\n",
    "total_plot_time_mins = int(desired_time_win / (100*60))"
   ]
  },
  {
   "cell_type": "code",
   "execution_count": null,
   "id": "0d8d5fff-67db-487f-a7a8-298b803ba055",
   "metadata": {},
   "outputs": [],
   "source": []
  },
  {
   "cell_type": "code",
   "execution_count": null,
   "id": "a0255359-a704-4873-aa57-b3bede1f8ad2",
   "metadata": {},
   "outputs": [],
   "source": []
  },
  {
   "cell_type": "markdown",
   "id": "601324be-a715-4e2d-b884-cf4e7a927d23",
   "metadata": {},
   "source": [
    "# grabbing the data"
   ]
  },
  {
   "cell_type": "markdown",
   "id": "bd31c915-7f53-4dbb-a453-b5ac41795363",
   "metadata": {},
   "source": [
    "Get the probabilities in windows, for each of the 11 states (fight-maneuvers & all-non-fight-maneuvers), for  <br>\n",
    "(1) before the start of the bouts  <br>\n",
    "(2) after the start of the bouts  <br>\n",
    "(3) before the end of the bouts  <br>\n",
    "(4) after the end of the bouts <br>"
   ]
  },
  {
   "cell_type": "code",
   "execution_count": null,
   "id": "ad03d730-f17f-4e47-a697-e7d4015c4ab2",
   "metadata": {},
   "outputs": [],
   "source": []
  },
  {
   "cell_type": "code",
   "execution_count": null,
   "id": "8d4eaa67-89df-4cc4-8d79-94e3fd64e607",
   "metadata": {},
   "outputs": [],
   "source": []
  },
  {
   "cell_type": "code",
   "execution_count": 144,
   "id": "21a569fc-bb84-4276-9854-c27728bdc6aa",
   "metadata": {},
   "outputs": [],
   "source": [
    "# a list which contains the information for each of the 4 epochs\n",
    "epoch_region_data_list = [pre_fight_time_data, start_fight_time_data, end_fight_time_data, post_fight_time_data]\n",
    "\n",
    "# compute the windowed probs in each epoch (using multiple fightbouts)\n",
    "epoch_list_of_region_bout_win_state_probs = []\n",
    "for region_data in epoch_region_data_list:\n",
    "    region_bout_win_state_probs_list = return_region_win_state_probs(region_data, \n",
    "                                                                all_exp_window_state_probabilities, \n",
    "                                                                all_exp_time_windows,\n",
    "                                                                expNumFrames)\n",
    "    epoch_list_of_region_bout_win_state_probs.append(np.stack(region_bout_win_state_probs_list,axis=0))\n",
    "    \n"
   ]
  },
  {
   "cell_type": "code",
   "execution_count": 145,
   "id": "a5ee1221-baa6-4f1f-95b5-951e1b22f01e",
   "metadata": {},
   "outputs": [
    {
     "data": {
      "text/plain": [
       "4"
      ]
     },
     "execution_count": 145,
     "metadata": {},
     "output_type": "execute_result"
    }
   ],
   "source": [
    "len(epoch_list_of_region_bout_win_state_probs)"
   ]
  },
  {
   "cell_type": "code",
   "execution_count": 146,
   "id": "ac535ab5-7f54-4c0a-8e47-0627c796cc36",
   "metadata": {},
   "outputs": [
    {
     "data": {
      "text/plain": [
       "(16, 181, 11)"
      ]
     },
     "execution_count": 146,
     "metadata": {},
     "output_type": "execute_result"
    }
   ],
   "source": [
    "epoch_list_of_region_bout_win_state_probs[0].shape"
   ]
  },
  {
   "cell_type": "code",
   "execution_count": 147,
   "id": "90238ac5-4fb8-4a1a-a300-5a36b822da24",
   "metadata": {},
   "outputs": [
    {
     "data": {
      "text/plain": [
       "(18, 181, 11)"
      ]
     },
     "execution_count": 147,
     "metadata": {},
     "output_type": "execute_result"
    }
   ],
   "source": [
    "epoch_list_of_region_bout_win_state_probs[1].shape"
   ]
  },
  {
   "cell_type": "code",
   "execution_count": 148,
   "id": "66c27af6-6b21-4cb8-bc95-33c420edc024",
   "metadata": {},
   "outputs": [
    {
     "data": {
      "text/plain": [
       "(18, 181, 11)"
      ]
     },
     "execution_count": 148,
     "metadata": {},
     "output_type": "execute_result"
    }
   ],
   "source": [
    "epoch_list_of_region_bout_win_state_probs[2].shape"
   ]
  },
  {
   "cell_type": "code",
   "execution_count": 149,
   "id": "f0419904-6072-4213-bf31-2f14ce92ccd0",
   "metadata": {},
   "outputs": [
    {
     "data": {
      "text/plain": [
       "(18, 181, 11)"
      ]
     },
     "execution_count": 149,
     "metadata": {},
     "output_type": "execute_result"
    }
   ],
   "source": [
    "epoch_list_of_region_bout_win_state_probs[3].shape"
   ]
  },
  {
   "cell_type": "code",
   "execution_count": 150,
   "id": "1c9e3564-e60b-41d1-9289-a190821e5c48",
   "metadata": {},
   "outputs": [
    {
     "name": "stdout",
     "output_type": "stream",
     "text": [
      "(numBouts, numWins, numStates)\n"
     ]
    }
   ],
   "source": [
    "print('(numBouts, numWins, numStates)')"
   ]
  },
  {
   "cell_type": "code",
   "execution_count": null,
   "id": "b1c3a380-49e7-4ac6-a786-b2bbd5acf162",
   "metadata": {},
   "outputs": [],
   "source": []
  },
  {
   "cell_type": "code",
   "execution_count": null,
   "id": "1f5af318-0e30-4ec7-bf0e-1b7b8e136c6c",
   "metadata": {},
   "outputs": [],
   "source": []
  },
  {
   "cell_type": "markdown",
   "id": "a4bde36c-7ad7-46fe-b2ff-e22f4db9cab6",
   "metadata": {},
   "source": [
    "# combining maneuvers probabilities in the 4 regions"
   ]
  },
  {
   "cell_type": "markdown",
   "id": "b10bfd1e-4656-4459-8270-d0dbc54a2077",
   "metadata": {},
   "source": [
    " combine the winner stuff, the loser stuff, and the display stuff"
   ]
  },
  {
   "cell_type": "code",
   "execution_count": null,
   "id": "dee522e2-4d04-4f3a-b35b-9b578b1d746f",
   "metadata": {},
   "outputs": [],
   "source": []
  },
  {
   "cell_type": "code",
   "execution_count": 151,
   "id": "ddca6a79-e596-4764-86a3-5378f9a18369",
   "metadata": {},
   "outputs": [
    {
     "name": "stdout",
     "output_type": "stream",
     "text": [
      "0 circling\n",
      "1 direct away\n",
      "2 winner attack\n",
      "3 loser attack\n",
      "4 display\n",
      "5 direct to\n",
      "6 middle circling\n",
      "7 L approach\n",
      "8 W approach\n",
      "9 parallel\n",
      "10 non-fight clusters\n"
     ]
    }
   ],
   "source": [
    "for i, name in enumerate(all_state_names):\n",
    "    print(i, name)"
   ]
  },
  {
   "cell_type": "code",
   "execution_count": null,
   "id": "0f6ece51-f2e7-409d-ad6c-6516f6f9be04",
   "metadata": {},
   "outputs": [],
   "source": []
  },
  {
   "cell_type": "code",
   "execution_count": 152,
   "id": "79f27cdc-d08a-4d80-9a6e-06abff7ab526",
   "metadata": {},
   "outputs": [],
   "source": [
    "epoch_list_of_region_bout_combined_win_state_probs = []\n",
    "\n",
    "for epochIdx in range(4):\n",
    "\n",
    "    bout_arr_win_state_probs = epoch_list_of_region_bout_win_state_probs[epochIdx]\n",
    "\n",
    "    # preallocate \n",
    "    # shapes are (numFights used, numWindows, numManeuvers)\n",
    "    winner_man_win_state_probs = np.zeros((bout_arr_win_state_probs.shape[0], bout_arr_win_state_probs.shape[1], 2))\n",
    "    loser_man_win_state_probs = np.zeros((bout_arr_win_state_probs.shape[0], bout_arr_win_state_probs.shape[1], 2))\n",
    "    display_man_win_state_probs = np.zeros((bout_arr_win_state_probs.shape[0], bout_arr_win_state_probs.shape[1], 4))\n",
    "\n",
    "    # fill in the values\n",
    "    winner_man_win_state_probs[:,:,0] = bout_arr_win_state_probs[:,:,2]  #winner attack\n",
    "    winner_man_win_state_probs[:,:,1] = bout_arr_win_state_probs[:,:,8]  #winner app\n",
    "\n",
    "    loser_man_win_state_probs[:,:,0] = bout_arr_win_state_probs[:,:,3]   #loser attack\n",
    "    loser_man_win_state_probs[:,:,1] = bout_arr_win_state_probs[:,:,7]   #loser app\n",
    "\n",
    "    display_man_win_state_probs[:,:,0] = bout_arr_win_state_probs[:,:,0] # close circling\n",
    "    display_man_win_state_probs[:,:,1] = bout_arr_win_state_probs[:,:,4] # close parallel\n",
    "    display_man_win_state_probs[:,:,2] = bout_arr_win_state_probs[:,:,6] # far circling\n",
    "    display_man_win_state_probs[:,:,3] = bout_arr_win_state_probs[:,:,9] # far parallel\n",
    "\n",
    "\n",
    "    # sum over the states\n",
    "    winner_man_win_state_probs_summed = np.sum(winner_man_win_state_probs, axis=2)\n",
    "    loser_man_win_state_probs_summed = np.sum(loser_man_win_state_probs, axis=2)\n",
    "    display_man_win_state_probs_summed = np.sum(display_man_win_state_probs, axis=2)\n",
    "\n",
    "\n",
    "    # combine into one new array\n",
    "    combined_maneuvers_win_state_probs = np.stack([winner_man_win_state_probs_summed, \n",
    "                                                   loser_man_win_state_probs_summed, \n",
    "                                                   display_man_win_state_probs_summed], axis=2)\n",
    "    \n",
    "    # record\n",
    "    epoch_list_of_region_bout_combined_win_state_probs.append(combined_maneuvers_win_state_probs)\n",
    "\n"
   ]
  },
  {
   "cell_type": "code",
   "execution_count": null,
   "id": "a3f467c2-33c2-4164-90cf-b6db22608f95",
   "metadata": {},
   "outputs": [],
   "source": []
  },
  {
   "cell_type": "code",
   "execution_count": 153,
   "id": "160448cc-783f-4e4d-ad14-7dcff7d3b874",
   "metadata": {},
   "outputs": [
    {
     "data": {
      "text/plain": [
       "4"
      ]
     },
     "execution_count": 153,
     "metadata": {},
     "output_type": "execute_result"
    }
   ],
   "source": [
    "len(epoch_list_of_region_bout_combined_win_state_probs)"
   ]
  },
  {
   "cell_type": "code",
   "execution_count": 154,
   "id": "4a1110f8-9acd-406f-8d76-0cb67ffd4f68",
   "metadata": {},
   "outputs": [
    {
     "data": {
      "text/plain": [
       "(16, 181, 3)"
      ]
     },
     "execution_count": 154,
     "metadata": {},
     "output_type": "execute_result"
    }
   ],
   "source": [
    "epoch_list_of_region_bout_combined_win_state_probs[0].shape"
   ]
  },
  {
   "cell_type": "code",
   "execution_count": 155,
   "id": "3930b376-2985-4fb8-83f3-fa133628349b",
   "metadata": {},
   "outputs": [
    {
     "data": {
      "text/plain": [
       "(18, 181, 3)"
      ]
     },
     "execution_count": 155,
     "metadata": {},
     "output_type": "execute_result"
    }
   ],
   "source": [
    "epoch_list_of_region_bout_combined_win_state_probs[1].shape"
   ]
  },
  {
   "cell_type": "code",
   "execution_count": 156,
   "id": "10b7ffab-c921-478e-9cdb-bd6ace150712",
   "metadata": {},
   "outputs": [
    {
     "data": {
      "text/plain": [
       "(18, 181, 3)"
      ]
     },
     "execution_count": 156,
     "metadata": {},
     "output_type": "execute_result"
    }
   ],
   "source": [
    "epoch_list_of_region_bout_combined_win_state_probs[2].shape"
   ]
  },
  {
   "cell_type": "code",
   "execution_count": 157,
   "id": "64e72df7-b4f2-4fc6-99f9-7ac452ec72be",
   "metadata": {},
   "outputs": [
    {
     "data": {
      "text/plain": [
       "(18, 181, 3)"
      ]
     },
     "execution_count": 157,
     "metadata": {},
     "output_type": "execute_result"
    }
   ],
   "source": [
    "epoch_list_of_region_bout_combined_win_state_probs[3].shape"
   ]
  },
  {
   "cell_type": "code",
   "execution_count": null,
   "id": "0ee865cc-0ba6-4c77-b0ff-e397a02ce548",
   "metadata": {},
   "outputs": [],
   "source": []
  },
  {
   "cell_type": "code",
   "execution_count": 158,
   "id": "d4799431-a1bd-490f-aeb7-c0783510187a",
   "metadata": {},
   "outputs": [
    {
     "name": "stdout",
     "output_type": "stream",
     "text": [
      "(numBouts, numWins, compressed_numStates)\n"
     ]
    }
   ],
   "source": [
    "print('(numBouts, numWins, compressed_numStates)')"
   ]
  },
  {
   "cell_type": "code",
   "execution_count": null,
   "id": "728bfe39-375b-4527-96be-febee37dd039",
   "metadata": {},
   "outputs": [],
   "source": []
  },
  {
   "cell_type": "markdown",
   "id": "fdaa83c1-11e9-4cbb-afbd-b4cd6be245aa",
   "metadata": {},
   "source": [
    "# means across fights and bootstrapping"
   ]
  },
  {
   "cell_type": "code",
   "execution_count": null,
   "id": "b8f0573d-17e7-4384-8fb4-f5298842577c",
   "metadata": {},
   "outputs": [],
   "source": []
  },
  {
   "cell_type": "code",
   "execution_count": 159,
   "id": "a34e1a11-2591-403a-8bc8-3dcdbfcfd0be",
   "metadata": {},
   "outputs": [],
   "source": [
    "# --- compute the means across experiments for each of the 4 regions ----#\n",
    "epoch_across_bout_mean_win_state_probs = []\n",
    "for region_bout_win_state_probs in epoch_list_of_region_bout_combined_win_state_probs:\n",
    "    across_bout_mean = np.mean(region_bout_win_state_probs, axis=0)\n",
    "    epoch_across_bout_mean_win_state_probs.append(across_bout_mean)"
   ]
  },
  {
   "cell_type": "code",
   "execution_count": 160,
   "id": "f4c6a191-ca8f-4d20-8cd9-46f0111d3c82",
   "metadata": {},
   "outputs": [
    {
     "data": {
      "text/plain": [
       "4"
      ]
     },
     "execution_count": 160,
     "metadata": {},
     "output_type": "execute_result"
    }
   ],
   "source": [
    "len(epoch_across_bout_mean_win_state_probs)"
   ]
  },
  {
   "cell_type": "code",
   "execution_count": 161,
   "id": "dce5ba2e-f41d-4af4-a16b-9bd535f4818b",
   "metadata": {},
   "outputs": [
    {
     "data": {
      "text/plain": [
       "(181, 3)"
      ]
     },
     "execution_count": 161,
     "metadata": {},
     "output_type": "execute_result"
    }
   ],
   "source": [
    "epoch_across_bout_mean_win_state_probs[0].shape"
   ]
  },
  {
   "cell_type": "code",
   "execution_count": null,
   "id": "3991b7be-8675-41e6-936b-b90dd7265fa0",
   "metadata": {},
   "outputs": [],
   "source": []
  },
  {
   "cell_type": "code",
   "execution_count": 172,
   "id": "9079ca84-ca63-4067-b1c2-2f8f2c507dad",
   "metadata": {},
   "outputs": [
    {
     "name": "stdout",
     "output_type": "stream",
     "text": [
      "finished  0 1.0020291805267334\n",
      "finished  1 1.9874942302703857\n",
      "finished  2 2.970754861831665\n",
      "finished  3 3.9804728031158447\n",
      "\n",
      "finished:  3.9808833599090576\n"
     ]
    }
   ],
   "source": [
    "# ---- compute the bootstrapped stddev ---- #\n",
    "\n",
    "\n",
    "# args\n",
    "n_resamples=10000\n",
    "\n",
    "\n",
    "t0 = time.time()\n",
    "\n",
    "\n",
    "epoch_bootstrapped_stdevs = []\n",
    "for epochIdx in range(4):\n",
    "\n",
    "    epoch_data = np.copy(epoch_list_of_region_bout_combined_win_state_probs[epochIdx])\n",
    "\n",
    "    numSamples = epoch_data.shape[0] # number of bouts to bootstrap over\n",
    "\n",
    "    # grab all the bootstrap resampling data\n",
    "    allSamples_mean_epoch_win_state_probs = []\n",
    "    for i in range(n_resamples):\n",
    "\n",
    "        #  get the fight indices for this resample \n",
    "        indices=np.random.choice(range(0,numSamples), numSamples)\n",
    "\n",
    "        # get the sample collection of bout epoch state probs\n",
    "        sample_epoch_win_state_probs = []\n",
    "        for sampBoutIdx in indices:\n",
    "            sample_epoch_win_state_probs.append(epoch_data[sampBoutIdx,:,:])\n",
    "        sample_epoch_win_state_probs = np.stack(sample_epoch_win_state_probs, axis=0)\n",
    "\n",
    "        # get the sample mean, and record\n",
    "        sample_epoch_win_state_probs_mean = np.mean(sample_epoch_win_state_probs, axis=0)\n",
    "        allSamples_mean_epoch_win_state_probs.append(sample_epoch_win_state_probs_mean)\n",
    "    allSamples_mean_epoch_win_state_probs = np.stack(allSamples_mean_epoch_win_state_probs, axis=0)\n",
    "\n",
    "    # get the sdtdev of the bootstrap means\n",
    "    allSamples_stdev = np.std(allSamples_mean_epoch_win_state_probs, axis=0)\n",
    "    epoch_bootstrapped_stdevs.append(allSamples_stdev)\n",
    "\n",
    "    tE = time.time()\n",
    "    print('finished ', epochIdx, tE-t0)\n",
    "    \n",
    "print()\n",
    "tE = time.time()\n",
    "print('finished: ', tE-t0)"
   ]
  },
  {
   "cell_type": "code",
   "execution_count": 173,
   "id": "c894bb5d-12a8-4073-84b3-1a5be91f3cb9",
   "metadata": {},
   "outputs": [
    {
     "data": {
      "text/plain": [
       "4"
      ]
     },
     "execution_count": 173,
     "metadata": {},
     "output_type": "execute_result"
    }
   ],
   "source": [
    "len(epoch_bootstrapped_stdevs)"
   ]
  },
  {
   "cell_type": "code",
   "execution_count": 174,
   "id": "48a3d570-ff86-4410-9e24-6f353c1940cf",
   "metadata": {},
   "outputs": [
    {
     "data": {
      "text/plain": [
       "(181, 3)"
      ]
     },
     "execution_count": 174,
     "metadata": {},
     "output_type": "execute_result"
    }
   ],
   "source": [
    "epoch_bootstrapped_stdevs[0].shape"
   ]
  },
  {
   "cell_type": "code",
   "execution_count": null,
   "id": "f9300c40-bbfc-4081-9d51-85d75e529201",
   "metadata": {},
   "outputs": [],
   "source": []
  },
  {
   "cell_type": "code",
   "execution_count": null,
   "id": "117d82e4-3575-474e-9320-8625ff0c3b73",
   "metadata": {},
   "outputs": [],
   "source": []
  },
  {
   "cell_type": "code",
   "execution_count": null,
   "id": "ba770fee-43b6-4888-87bb-a10d6b11754d",
   "metadata": {},
   "outputs": [],
   "source": []
  },
  {
   "cell_type": "code",
   "execution_count": 175,
   "id": "3d8274b3-93c6-461a-ad43-c71458bac37d",
   "metadata": {},
   "outputs": [
    {
     "name": "stdout",
     "output_type": "stream",
     "text": [
      "(361, 3)\n",
      "(361, 3)\n",
      "\n",
      "(361, 3)\n",
      "(361, 3)\n"
     ]
    }
   ],
   "source": [
    "# --- for plotting purposes, i.e. 2 panels, combine the first two epochs, and combining the last two epochs --- #\n",
    "\n",
    "# Now, when combining epochs they have one common window, so exclude that window from the second epoch\n",
    "# (i.e. when combining prefightstart and postfightstart, they both contain the exact fight start window)\n",
    "\n",
    "start_epoch_mean_win_state_probs = np.concatenate([ epoch_across_bout_mean_win_state_probs[0], \n",
    "                                                   epoch_across_bout_mean_win_state_probs[1][1:,:] ], axis=0)\n",
    "\n",
    "stop_epoch_mean_win_state_probs = np.concatenate([ epoch_across_bout_mean_win_state_probs[2], \n",
    "                                                  epoch_across_bout_mean_win_state_probs[3][1:,:] ], axis=0)\n",
    "\n",
    "start_epoch_stdevs = np.concatenate([ epoch_bootstrapped_stdevs[0], epoch_bootstrapped_stdevs[1][1:,:] ], axis=0)\n",
    "stop_epoch_stdevs = np.concatenate([ epoch_bootstrapped_stdevs[2], epoch_bootstrapped_stdevs[3][1:,:] ], axis=0)\n",
    "\n",
    "\n",
    "combined_numUsedWins = start_epoch_mean_win_state_probs.shape[0]\n",
    "\n",
    "print(start_epoch_mean_win_state_probs.shape)\n",
    "print(stop_epoch_mean_win_state_probs.shape)\n",
    "print()\n",
    "print(start_epoch_stdevs.shape)\n",
    "print(stop_epoch_stdevs.shape)"
   ]
  },
  {
   "cell_type": "code",
   "execution_count": null,
   "id": "face1f05-6f42-42e5-bb39-61cbe4fc7418",
   "metadata": {},
   "outputs": [],
   "source": []
  },
  {
   "cell_type": "code",
   "execution_count": 176,
   "id": "2a302ef5-4b7b-40a1-990e-a65fd82c17c5",
   "metadata": {},
   "outputs": [
    {
     "name": "stdout",
     "output_type": "stream",
     "text": [
      "0 0.39\n",
      "1 0.42\n",
      "2 0.38\n"
     ]
    }
   ],
   "source": [
    "# find the max y vals for both starts and stops for plotting purposes\n",
    "\n",
    "states_y_max = np.zeros((3))\n",
    "states_y_tick_max = np.zeros((3,))\n",
    "for stateIdx in range(3):\n",
    "    start_max = start_epoch_mean_win_state_probs[:, stateIdx] + start_epoch_stdevs[:, stateIdx]\n",
    "    stop_max = stop_epoch_mean_win_state_probs[:, stateIdx] + stop_epoch_stdevs[:, stateIdx]\n",
    "    both_max = np.round( np.max(np.array([start_max, stop_max])), 2)\n",
    "    states_y_max[stateIdx] = both_max*1.2\n",
    "    states_y_tick_max[stateIdx] = both_max\n",
    "    print(stateIdx, both_max)"
   ]
  },
  {
   "cell_type": "code",
   "execution_count": null,
   "id": "ec92ed70-c06d-4310-8926-e5ef14a05086",
   "metadata": {},
   "outputs": [],
   "source": []
  },
  {
   "cell_type": "markdown",
   "id": "b8b906c0-1f75-4760-b6c8-7c7dc584b234",
   "metadata": {},
   "source": [
    "# plotting"
   ]
  },
  {
   "cell_type": "code",
   "execution_count": null,
   "id": "81d68be1-fa99-4f10-a625-29f830114f96",
   "metadata": {},
   "outputs": [],
   "source": []
  },
  {
   "cell_type": "markdown",
   "id": "34e700de-af74-4390-9b58-a5e1416cebd9",
   "metadata": {},
   "source": [
    "## rough plots - left and right"
   ]
  },
  {
   "cell_type": "code",
   "execution_count": null,
   "id": "14d2d674-74dc-4099-83d3-32e231d8fbfe",
   "metadata": {},
   "outputs": [],
   "source": []
  },
  {
   "cell_type": "code",
   "execution_count": 177,
   "id": "1c9e04fb-db39-4420-99d0-a09518799bce",
   "metadata": {},
   "outputs": [
    {
     "data": {
      "application/vnd.jupyter.widget-view+json": {
       "model_id": "3aab53f234f540068bc5f38527bee5f6",
       "version_major": 2,
       "version_minor": 0
      },
      "text/html": [
       "\n",
       "            <div style=\"display: inline-block;\">\n",
       "                <div class=\"jupyter-widgets widget-label\" style=\"text-align: center;\">\n",
       "                    Figure\n",
       "                </div>\n",
       "                <img src='data:image/png;base64,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' width=600.0/>\n",
       "            </div>\n",
       "        "
      ],
      "text/plain": [
       "Canvas(toolbar=Toolbar(toolitems=[('Home', 'Reset original view', 'home', 'home'), ('Back', 'Back to previous …"
      ]
     },
     "metadata": {},
     "output_type": "display_data"
    }
   ],
   "source": [
    "fig = plt.figure(figsize=(6,6))\n",
    "gs = fig.add_gridspec(nrows=1, ncols=1, hspace=0)\n",
    "axs = gs.subplots(sharex=True, sharey=False)\n",
    "ax = axs\n",
    "\n",
    "# create xvalues for plotting\n",
    "x_vals_frames = np.array( [i*window_step for i in range(combined_numUsedWins)]) \n",
    "\n",
    "\n",
    "# make colors for this\n",
    "combined_colors = ['red', 'blue', 'green']\n",
    "\n",
    "var_names = ['winner maneuvers', 'loser maneuvers', 'display maneuvers']\n",
    "\n",
    "\n",
    "# plot the mean across trials\n",
    "for stateIdx in [0,1,2]:\n",
    "        \n",
    "    # fill between the stdev lines\n",
    "    max_curve = start_epoch_mean_win_state_probs[:, stateIdx] + start_epoch_stdevs[:, stateIdx]\n",
    "    min_curve = start_epoch_mean_win_state_probs[:, stateIdx] - start_epoch_stdevs[:, stateIdx]\n",
    "    ax.fill_between(x_vals_frames, y1=min_curve, y2=max_curve, color=combined_colors[stateIdx], alpha=0.5)\n",
    "\n",
    "    # plot the mean\n",
    "    ax.plot(x_vals_frames, start_epoch_mean_win_state_probs[:, stateIdx], color=combined_colors[stateIdx], linewidth=2,\n",
    "           label=var_names[stateIdx])\n",
    "    \n",
    "    # xticks\n",
    "    xticks = np.array([i*6000 for i in range(int(total_plot_time_mins*2)+1)]) #*2 because of concatenated 2 epochs\n",
    "    xticklabels = [i for i in range(-total_plot_time_mins, total_plot_time_mins+1)]\n",
    "    ax.set_xticks(xticks);\n",
    "    ax.set_xticklabels(xticklabels);\n",
    "    \n",
    "    # plot the dividing line between epochs\n",
    "    ax.axvline(np.mean(x_vals_frames), color='black', linestyle='--')\n",
    "    \n",
    "    # set the yticks\n",
    "    ax.set_yticks([0, states_y_tick_max[stateIdx]])\n",
    "    ax.set_yticklabels([0, states_y_tick_max[stateIdx]])\n",
    "    \n",
    "    # plot limits\n",
    "    ax.set_xlim(x_vals_frames[0], x_vals_frames[-1])\n",
    "    ax.set_ylim(bottom=0, top=states_y_max[stateIdx])\n",
    "    \n",
    "     # axes labels\n",
    "    ax.set_ylabel('probability')\n",
    "        \n",
    "    # tick params\n",
    "    ax.xaxis.set_tick_params(width=2, length=4)\n",
    "    ax.yaxis.set_tick_params(width=2, length=4)\n",
    "    \n",
    "    # make the left and rights thicker for each axis\n",
    "    for axis in ['left','right']:\n",
    "        ax.spines[axis].set_linewidth(2)\n",
    "        \n",
    "    # # turn off all the interior x axes    \n",
    "    # for ii in range(2):\n",
    "    #     axs[ii].spines['bottom'].set_visible(False)\n",
    "    #     axs[ii+1].spines['top'].set_visible(False)\n",
    "        \n",
    "    # set the gridlines\n",
    "    #ax.grid(alpha=0.3)\n",
    "    ax.axhline(y=0, color='grey', alpha=0.3)\n",
    "    ax.axhline(y=states_y_tick_max[stateIdx], color='grey', alpha=0.2)\n",
    "    \n",
    "    ax.legend()\n",
    "\n",
    "    ax.set_title('Fight starts: winsize={0} s'.format(window_size/100))\n",
    "    ax.set_xlabel('time [min]')\n",
    "    \n",
    "fig.tight_layout()"
   ]
  },
  {
   "cell_type": "code",
   "execution_count": null,
   "id": "b3c1ecaa-525d-4e8b-93bf-20b9a17d5677",
   "metadata": {},
   "outputs": [],
   "source": []
  },
  {
   "cell_type": "code",
   "execution_count": 178,
   "id": "23b97351-4a8f-47e4-9039-0be5b3b996dc",
   "metadata": {},
   "outputs": [
    {
     "data": {
      "application/vnd.jupyter.widget-view+json": {
       "model_id": "55063617ce0344f88ff0a5b9933ba29d",
       "version_major": 2,
       "version_minor": 0
      },
      "text/html": [
       "\n",
       "            <div style=\"display: inline-block;\">\n",
       "                <div class=\"jupyter-widgets widget-label\" style=\"text-align: center;\">\n",
       "                    Figure\n",
       "                </div>\n",
       "                <img src='data:image/png;base64,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' width=600.0/>\n",
       "            </div>\n",
       "        "
      ],
      "text/plain": [
       "Canvas(toolbar=Toolbar(toolitems=[('Home', 'Reset original view', 'home', 'home'), ('Back', 'Back to previous …"
      ]
     },
     "metadata": {},
     "output_type": "display_data"
    }
   ],
   "source": [
    "fig = plt.figure(figsize=(6,6))\n",
    "gs = fig.add_gridspec(nrows=1, ncols=1, hspace=0)\n",
    "axs = gs.subplots(sharex=True, sharey=False)\n",
    "ax = axs\n",
    "\n",
    "# create xvalues for plotting\n",
    "x_vals_frames = np.array( [i*window_step for i in range(combined_numUsedWins)]) \n",
    "\n",
    "\n",
    "# make colors for this\n",
    "combined_colors = ['red', 'blue', 'green']\n",
    "\n",
    "var_names = ['winner maneuvers', 'loser maneuvers', 'display maneuvers']\n",
    "\n",
    "\n",
    "# plot the mean across trials\n",
    "for stateIdx in [0,1,2]:\n",
    "        \n",
    "    # fill between the stdev lines\n",
    "    max_curve = stop_epoch_mean_win_state_probs[:, stateIdx] + stop_epoch_stdevs[:, stateIdx]\n",
    "    min_curve = stop_epoch_mean_win_state_probs[:, stateIdx] - stop_epoch_stdevs[:, stateIdx]\n",
    "    ax.fill_between(x_vals_frames, y1=min_curve, y2=max_curve, color=combined_colors[stateIdx], alpha=0.5)\n",
    "\n",
    "    # plot the mean\n",
    "    ax.plot(x_vals_frames, stop_epoch_mean_win_state_probs[:, stateIdx], color=combined_colors[stateIdx], linewidth=2,\n",
    "           label=var_names[stateIdx])\n",
    "    \n",
    "    # xticks\n",
    "    xticks = np.array([i*6000 for i in range(int(total_plot_time_mins*2)+1)]) #*2 because of concatenated 2 epochs\n",
    "    xticklabels = [i for i in range(-total_plot_time_mins, total_plot_time_mins+1)]\n",
    "    ax.set_xticks(xticks);\n",
    "    ax.set_xticklabels(xticklabels);\n",
    "    \n",
    "    # plot the dividing line between epochs\n",
    "    ax.axvline(np.mean(x_vals_frames), color='black', linestyle='--')\n",
    "    \n",
    "    # set the yticks\n",
    "    ax.set_yticks([0, states_y_tick_max[stateIdx]])\n",
    "    ax.set_yticklabels([0, states_y_tick_max[stateIdx]])\n",
    "    \n",
    "    # plot limits\n",
    "    ax.set_xlim(x_vals_frames[0], x_vals_frames[-1])\n",
    "    ax.set_ylim(bottom=0, top=states_y_max[stateIdx])\n",
    "    \n",
    "     # axes labels\n",
    "    ax.set_ylabel('probability')\n",
    "        \n",
    "    # tick params\n",
    "    ax.xaxis.set_tick_params(width=2, length=4)\n",
    "    ax.yaxis.set_tick_params(width=2, length=4)\n",
    "    \n",
    "    # make the left and rights thicker for each axis\n",
    "    for axis in ['left','right']:\n",
    "        ax.spines[axis].set_linewidth(2)\n",
    "        \n",
    "    # # turn off all the interior x axes    \n",
    "    # for ii in range(2):\n",
    "    #     axs[ii].spines['bottom'].set_visible(False)\n",
    "    #     axs[ii+1].spines['top'].set_visible(False)\n",
    "        \n",
    "    # set the gridlines\n",
    "    #ax.grid(alpha=0.3)\n",
    "    ax.axhline(y=0, color='grey', alpha=0.3)\n",
    "    ax.axhline(y=states_y_tick_max[stateIdx], color='grey', alpha=0.2)\n",
    "    \n",
    "    ax.legend()\n",
    "    \n",
    "    ax.set_title('Fight ends: winsize={0} s'.format(window_size/100))\n",
    "    ax.set_xlabel('time [min]')\n",
    "\n",
    "\n",
    "fig.tight_layout()"
   ]
  },
  {
   "cell_type": "code",
   "execution_count": null,
   "id": "6e84415c-668d-474b-bc49-a5b0d7cb7a98",
   "metadata": {},
   "outputs": [],
   "source": []
  },
  {
   "cell_type": "code",
   "execution_count": null,
   "id": "4d7b3064-dbb0-44a3-9db6-fc60f8b8d323",
   "metadata": {},
   "outputs": [],
   "source": []
  },
  {
   "cell_type": "code",
   "execution_count": null,
   "id": "bcff5456-8cf2-415a-88a1-feaf02c88b15",
   "metadata": {},
   "outputs": [],
   "source": []
  },
  {
   "cell_type": "markdown",
   "id": "ec089ea6-ef54-4ead-9031-6fb67e3dad79",
   "metadata": {
    "jp-MarkdownHeadingCollapsed": true,
    "tags": []
   },
   "source": [
    "## publication version plots - both panels at once"
   ]
  },
  {
   "cell_type": "code",
   "execution_count": 179,
   "id": "3c1eb65d-cb5c-48a6-bfd5-adff5f88e16a",
   "metadata": {},
   "outputs": [
    {
     "data": {
      "application/vnd.jupyter.widget-view+json": {
       "model_id": "0daf4cb98da64ccc90ce4897fbee1dac",
       "version_major": 2,
       "version_minor": 0
      },
      "text/html": [
       "\n",
       "            <div style=\"display: inline-block;\">\n",
       "                <div class=\"jupyter-widgets widget-label\" style=\"text-align: center;\">\n",
       "                    Figure\n",
       "                </div>\n",
       "                <img src='data:image/png;base64,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' width=484.99999999999994/>\n",
       "            </div>\n",
       "        "
      ],
      "text/plain": [
       "Canvas(toolbar=Toolbar(toolitems=[('Home', 'Reset original view', 'home', 'home'), ('Back', 'Back to previous …"
      ]
     },
     "metadata": {},
     "output_type": "display_data"
    }
   ],
   "source": [
    "#imsavepath = '/home/liam/temp/image_transfer/figure7_A_v2.png'\n",
    "\n",
    "fig = plt.figure(figsize=(4.85,1.75))\n",
    "gs = fig.add_gridspec(nrows=1, ncols=2, hspace=0)\n",
    "axs = gs.subplots(sharex=False, sharey=False)\n",
    "ax= axs[0]\n",
    "\n",
    "# create xvalues for plotting\n",
    "x_vals_frames = np.array( [i*window_step for i in range(combined_numUsedWins)]) \n",
    "\n",
    "\n",
    "# plot the mean across trials\n",
    "for stateIdx in [0,1,2]:\n",
    "    \n",
    "    # make the left and rights thicker for each axis\n",
    "    #for axis in ['left','right']:\n",
    "    for axis in ['left', 'right']:\n",
    "        ax.spines[axis].set_linewidth(2)\n",
    "    for axis in ['right']:\n",
    "        ax.spines[axis].set_visible(False)\n",
    "    \n",
    "    # fill between the stdev lines\n",
    "    max_curve = start_epoch_mean_win_state_probs[:, stateIdx] + start_epoch_stdevs[:, stateIdx]\n",
    "    min_curve = start_epoch_mean_win_state_probs[:, stateIdx] - start_epoch_stdevs[:, stateIdx]\n",
    "    ax.fill_between(x_vals_frames, y1=min_curve, y2=max_curve, color=combined_colors[stateIdx], alpha=0.5)\n",
    "\n",
    "    # plot the mean\n",
    "    ax.plot(x_vals_frames, start_epoch_mean_win_state_probs[:, stateIdx], color=combined_colors[stateIdx], linewidth=1)\n",
    "    \n",
    "    # xticks\n",
    "    ax.set_xticks([]);\n",
    "    ax.set_xticklabels([]);\n",
    "    \n",
    "    # plot the dividing line between epochs\n",
    "    ax.axvline(np.mean(x_vals_frames), color='black', linestyle='--')\n",
    "    \n",
    "    # plot limits\n",
    "    ax.set_xlim(x_vals_frames[0], x_vals_frames[-1])\n",
    "    ax.set_ylim(bottom=0, top=states_y_max[stateIdx])\n",
    "    \n",
    "     # axes labels\n",
    "    ax.set_ylabel(all_state_names[stateIdx]+'\\n prob')\n",
    "        \n",
    "    # tick params\n",
    "    ax.xaxis.set_tick_params(width=1, length=4)\n",
    "    ax.yaxis.set_tick_params(width=1, length=4)\n",
    "\n",
    "    # set the gridlines\n",
    "    #ax.grid(alpha=0.3)\n",
    "    #ax.axhline(y=0, color='grey', alpha=0.3)\n",
    "    #ax.axhline(y=states_y_tick_max[stateIdx], color='grey', alpha=0.2)\n",
    "    \n",
    "    ## EXTRAS TURN OFF PLOT ILLUSTRATOR VERSION ####\n",
    "    ax.set_yticklabels([])\n",
    "    ax.set_xticklabels([])\n",
    "    ax.set_xlabel('')\n",
    "    ax.set_ylabel('')\n",
    "\n",
    "# xticks\n",
    "xticks = np.array([i*6000 for i in range(int(total_plot_time_mins*2)+1)]) #*2 because of concatenated 2 epochs\n",
    "xticklabels = [i for i in range(-total_plot_time_mins, total_plot_time_mins+1)]\n",
    "ax.set_xticks(xticks);\n",
    "\n",
    "# set the yticks\n",
    "#yticks = [0, states_y_tick_max[2], states_y_tick_max[3]]\n",
    "#ax.set_yticks(yticks)\n",
    "\n",
    "# set the yticks\n",
    "ax.set_yticks([0, np.max(states_y_tick_max)])\n",
    "\n",
    "#ax.set_yticks(yticks)\n",
    "ax.set_yticklabels('')\n",
    "\n",
    "\n",
    "# make the very top and very bottoms lines thicker\n",
    "#ax = axs[0]\n",
    "for axis in ['top']:\n",
    "    ax.spines[axis].set_linewidth(2)\n",
    "#ax = axs[-1]\n",
    "for axis in ['bottom']:\n",
    "    ax.spines[axis].set_linewidth(2)\n",
    "\n",
    "    \n",
    "    \n",
    "    \n",
    "    \n",
    "    \n",
    "# ---------------------------------------------------------------\n",
    "\n",
    "\n",
    "\n",
    "\n",
    "\n",
    "ax= axs[1]\n",
    "# create xvalues for plotting\n",
    "x_vals_frames = np.array( [i*window_step for i in range(combined_numUsedWins)]) \n",
    "\n",
    "\n",
    "# plot the mean across trials\n",
    "for stateIdx in [0,1,2]:\n",
    "    \n",
    "    # make the left and rights thicker for each axis\n",
    "    #for axis in ['left','right']:\n",
    "    for axis in ['left', 'right']:\n",
    "        ax.spines[axis].set_linewidth(2)\n",
    "    for axis in ['left']:\n",
    "        ax.spines[axis].set_visible(False)\n",
    "    \n",
    "    # fill between the stdev lines\n",
    "    max_curve = stop_epoch_mean_win_state_probs[:, stateIdx] + stop_epoch_stdevs[:, stateIdx]\n",
    "    min_curve = stop_epoch_mean_win_state_probs[:, stateIdx] - stop_epoch_stdevs[:, stateIdx]\n",
    "    ax.fill_between(x_vals_frames, y1=min_curve, y2=max_curve, color=combined_colors[stateIdx], alpha=0.5)\n",
    "\n",
    "    # plot the mean\n",
    "    ax.plot(x_vals_frames, stop_epoch_mean_win_state_probs[:, stateIdx], color=combined_colors[stateIdx], linewidth=1)\n",
    "    \n",
    "    # xticks\n",
    "    ax.set_xticks([]);\n",
    "    ax.set_xticklabels([]);\n",
    "    \n",
    "    # plot the dividing line between epochs\n",
    "    ax.axvline(np.mean(x_vals_frames), color='black', linestyle='--')\n",
    "    \n",
    "    # plot limits\n",
    "    ax.set_xlim(x_vals_frames[0], x_vals_frames[-1])\n",
    "    ax.set_ylim(bottom=0, top=states_y_max[stateIdx])\n",
    "    \n",
    "     # axes labels\n",
    "    ax.set_ylabel(all_state_names[stateIdx]+'\\n prob')\n",
    "        \n",
    "    # tick params\n",
    "    ax.xaxis.set_tick_params(width=1, length=4)\n",
    "    ax.yaxis.set_tick_params(width=0, length=4)\n",
    "\n",
    "    # set the gridlines\n",
    "    #ax.grid(alpha=0.3)\n",
    "    #ax.axhline(y=0, color='grey', alpha=0.3)\n",
    "    #ax.axhline(y=states_y_tick_max[stateIdx], color='grey', alpha=0.2)\n",
    "    \n",
    "    ## EXTRAS TURN OFF PLOT ILLUSTRATOR VERSION ####\n",
    "    ax.set_yticklabels([])\n",
    "    ax.set_xticklabels([])\n",
    "    ax.set_xlabel('')\n",
    "    ax.set_ylabel('')\n",
    "\n",
    "# xticks\n",
    "xticks = np.array([i*6000 for i in range(int(total_plot_time_mins*2)+1)]) #*2 because of concatenated 2 epochs\n",
    "xticklabels = [i for i in range(-total_plot_time_mins, total_plot_time_mins+1)]\n",
    "ax.set_xticks(xticks);\n",
    "\n",
    "# set the yticks\n",
    "#yticks = [0, states_y_tick_max[2], states_y_tick_max[3]]\n",
    "#ax.set_yticks(yticks)\n",
    "\n",
    "# set the yticks\n",
    "ax.set_yticks([0, np.max(states_y_tick_max)])\n",
    "ax.set_yticklabels([0, states_y_tick_max[stateIdx]])\n",
    "\n",
    "#ax.set_yticks(yticks)\n",
    "ax.set_yticklabels('')\n",
    "\n",
    "\n",
    "# make the very top and very bottoms lines thicker\n",
    "#ax = axs[0]\n",
    "for axis in ['top']:\n",
    "    ax.spines[axis].set_linewidth(2)\n",
    "#ax = axs[-1]\n",
    "for axis in ['bottom']:\n",
    "    ax.spines[axis].set_linewidth(2)\n",
    "    \n",
    "    \n",
    "    \n",
    "    \n",
    "    \n",
    "    \n",
    "\n",
    "\n",
    "\n",
    "# ----------------------------#\n",
    "fig.tight_layout()\n",
    "#fig.savefig(imsavepath, dpi=300, transparent=False)"
   ]
  },
  {
   "cell_type": "code",
   "execution_count": null,
   "id": "941ec6a8-58b0-437d-86fd-810bfc914fc5",
   "metadata": {},
   "outputs": [],
   "source": []
  },
  {
   "cell_type": "markdown",
   "id": "8dd499de-b645-4938-bcd2-0f4084c6ed61",
   "metadata": {},
   "source": [
    "## publication version - split (Fig 7)"
   ]
  },
  {
   "cell_type": "code",
   "execution_count": null,
   "id": "0fdcfdff-40a7-45d5-b497-df89ba0fa6f8",
   "metadata": {},
   "outputs": [],
   "source": []
  },
  {
   "cell_type": "code",
   "execution_count": 188,
   "id": "54f3a322-e734-4c72-9a2e-d44af97d0397",
   "metadata": {},
   "outputs": [
    {
     "data": {
      "application/vnd.jupyter.widget-view+json": {
       "model_id": "33808da4bdda43a3b512d7e6fd090c0b",
       "version_major": 2,
       "version_minor": 0
      },
      "text/html": [
       "\n",
       "            <div style=\"display: inline-block;\">\n",
       "                <div class=\"jupyter-widgets widget-label\" style=\"text-align: center;\">\n",
       "                    Figure\n",
       "                </div>\n",
       "                <img src='data:image/png;base64,iVBORw0KGgoAAAANSUhEUgAAAR0AAACvCAYAAADAHwqxAAAAOXRFWHRTb2Z0d2FyZQBNYXRwbG90bGliIHZlcnNpb24zLjQuMywgaHR0cHM6Ly9tYXRwbG90bGliLm9yZy/MnkTPAAAACXBIWXMAAA9hAAAPYQGoP6dpAABcg0lEQVR4nO29d3hcZ5m/f5/pXaPRqPdebbl3p9lOMyQhnQSTACF0CLuwy8LuD9jdL7AsLGVDSUggAUIqCalOc+zEjrtsy7YsWb3X0Yym9zm/P15LtrEdHCdWEvbc1zWXx5qZc945c87nPO/TXkmWZRkFBQWFWUL1Xg9AQUHh/xaK6CgoKMwqiugoKCjMKoroKCgozCqK6CgoKMwqiugoKCjMKoroKCgozCqK6CgoKMwqiugoKCjMKoroKCgozCqK6CgoKMwqiugoKCjMKoroKCgozCqad/LhkZERRkZGTvrbypUricViqNVqsrKy3tHgFBQU3r/k5OSwd+/et/25dyQ699xzD9/97ndP+1oqlWJoaOidbF5BQeHvEOmd9NM5naWzdOlSEokEKpWK3NzcdzxAhfcvyWSS0dFRQNz11Gr1ezwihdnkXC2ddyQ6p6OgoIChoSHy8/MZHBx8Nzet8D6jp6eHsrIyALq7uyktLX2PR6TwQUBxJCsoKMwqiugoKCjMKoroKCgozCrvKHql8H+btLQ0iouLZ54rKJwNiugonDMOh4Pe3t73ehgKHzCU6ZWCgsKsolg6CudMLBbjnnvuAeAzn/kMOp3uPR6RwgcBJU9H4ZxR8nQUzgVleqWgoDCrKKKjoKAwqyiio6CgMKsooqOgoDCrKKKjoKAwqyiio6CgMKsoeToK50xaWhrZ2dkzzxUUzgZFdBTOGYfDMdPES0HhbFGmVwoKCrOKYukonDOxWIynn34agKuvvlopg1A4KxTRUThnhoaGuPHGGwGlDELh7FGmVwoKCrOKIjoKCgqziiI6CgoKs4oiOgoKCrOKIjoKCgqziiI6CgoKs4oSMlc4ZywWCw6HY+a5gsLZoIiOwjmTmZnJ5OTkez0MhQ8YyvRKQUFhVlEsHYVzJplMsnPnTgCWLVuGWq1+j0ek8EFAER2Fc6a/v59Vq1YBShmEwtmjTK8UFBRmFUV0FBQUZpX3reik5BS/2P0Lvrf1ewRigZm/u8NuUnLqPRtXIpV4z/atoPD3wPvKpyPLMo+2PEo4HqYxp5GdgzuJJWP0TvXSkNVA+2Q7d+++G6fJyfrK9SzMWzir42ufbOd3+3/H5xZ/jqK0olndt4LC3wvvG9GJJqIcGD3AM0efYSoyxZ7hPYTiIQD6vf2Up5fz0MGH6HR30uftwx12Y9FZqMqoQpKk8z4+WZZ5uu1p9o3s49mjz7K2bC2VGZWopPetsaigcF6QZRgYgKJzvO++L0Qnmojyk50/YTw4TjKVpDG7kfHgODXOGro8XbSMt6CW1LRMtNCY3YgkSbSMt/CDbT9gTekaPlT9IewG+3kdoyvk4ujkUbIt2Wzp3cLBsYN8dtFnmZ87/5T3JlNJujxdGDQGnCYnJq3pvI5N4YPN4cPQ3Q3RKLhc0NAAq1e/16M6PfE4PPYY7NsHP/7xuW3jPRedZCrJlt4tM1Op+sx69Bo9hWmFAORacmkea2bIP4RJa0Kv0QMwJ3sOk6FJnmh9Ak/Ew5zsOZSll53VtCeaiNLqagUg25xNrjX3b37m8PhhpiJT1Dpr8UV9HJ08StNIEwW2ArYPbGdt2VrMOjPJVJKHDj3Ey10vo5bUpBvTuar6KlYUrsCgMbyDI/X+w2KxYLVaZ54rvD1kGTZuhGefFRfz1JQQnr17IRKBNWtA9T4ypI8cgT/8ATweMb5zRZJlWX73hgUFBQUMDQ2Rn5/P4ODgW7535+BO/nToT4TiIZKpJMX24pNel2UZSZLodncTTUapcFSgVWtPeo8/6qfL04VVZ2Vuzly+vuLrp+wnnozzQscLdHm6uKbmGt7oe4ONHRvRqXUUphXynYu+g0595v6+uwZ38Zt9vyGSiFDhqABgIjhBIBag2F7M4fHDLMxdyIrCFXS6O9nUs4lMUyZatRZXyEU4HqbGWcMXl3yRbEv22R5Khb9TwmG4+26wWGDHDkilIBgEux3y82FoSLzn1lvhwgshmYT09NkZmywL8fvr/QUCcO+98MoroNFARgY88MC57eM9tXS2D2yn29NNtjmbAlsBU5Ep9o3sY1nBMlonWnmx60UuKr6IlUUrAfBFfYwFxyiwFcxsw6q3Up5eTp+3j47JDg6MHmBu9lzcYTcZxgx2Du7k9b7X2T+yH3fYjUlronWiFbPOjElros3Vxr1N9+KNeEnJKeoy65iXM49yRzmJVILn25/n6aNPE01EaZ9sZ8A3wMUlF5NpziQYD3Jg9ADphnSax5rZN7KPpJzEbrCTYcoAwKa3EU1EaZlo4fEjj/PFJV98T4713yKSiDAVmSLHkvNeD+XvjlhMWDJbtoiLd2ICtm+HREIITUWFuNinXZPFxTAyAo8/Di+/LATgO98RFobZDIazMJhlGVpawGoV2ztbXnhB7PPqq4+Lnc0GL74IW7eKbcXj4rVz5T0TnfbJdtpcbRSnFeMwOujydPFs+7MEYgGaRpqIJWMkUgmax5pZWbSSUDzEb/f/Fm/Ui8PoYMPcDTN+HKveSl1mHUddR/nJjp9Qml5KKB7i2tpr+fXeXxOIBdCpdZTYS2amSbmWXMw6MxqVhk3dm0jJKcw6M03DTbzS/Qr1mfVMhidpdbWSpk/DHXOzd2QvADUZNThNTkrsJeRZ89CqtEiSREpOndaxrNfoybPmcWD0ACP+kbOazs0mL3e+zJsDb+IKufjsos8yJ3vOWX0umUzS398PQFFRkVIG8Ve43fDb38L4uJiO9PaCTicu2rw8yD7B6P3rWEhODoyNiYfHA889B5s3Q2Mj3H776feXSsGTT4p9ud1w6BBotfCtb4FaLfZ3ppjL6Ci8+iq89hr09IDXC5OToNeLRzwuBMduF9v2+c79uMy66Pijfl7uepnNvZvxhD3UOGvY1LOJHYM7ALh1zq081/4cFp2FuVlzebXnVULxEK92v0o0GWV95Xpe7X6VV7tf5SM1H0GtEie6SlJRm1lLv7efNlcbsWSMFztfJBALUO4ox6AxEEvGaBlvQaPSzDh37QY7adlpyMioJBWyLNPp7mRj50YMGgNWnZU8ax5bereQb80nkohw7757ybXk8ukFn0aWZWRkJKS3jGQ5jA4OjR3i7t1389XlX8Vpcp7/g/036Jvq496mexkPjjMWHEOWZZ448gTVzuq3nG5O09/fT1lZGaCUQZyOI0fgzTeFVeBwQH29sED0+pMv/hOtnGkkCXIcMXL0QTon03ngAXGhx+Nwww3C4gHo7xfTnKoq8ZmnnhLWFIDRKKypX/xCCMjSpfCJT5y6r8FB+OlPob1dbPeCC8Dvh4IC4VOKRMTDbBaO7oceEpbQuTKropOSU/y++fds6tmEhIRRa+ShQw/RM9VDoa2Q+bnzqXBU8KUlX0IlqfBFfbza8yr7RvZxYPQAl5ZfyqK8RaglNc+0P8NIYIR1ZeuocdbM7KPQVsh4cBxXyMVkaBK1Sj0jMAaNgQW5C04JsUuShIQ087wyoxJZlgnGg5i1ZjxhD92ebtaUrWFO1hye73ieNlcbh8YPsalnE1qVluvrrn/LqYlKUlGXWccR1xEeOPAAdyy447xH3N6KRCrBw4cfZvfQbsw6M/Nz5hNNCgf7nqE9M1PaWDJGMpXEqDXOfFaWZZ5sfZLh/uGZv/V4ek4SnWQqybB/mGgyymMtj7G6aDWri99GSEaWxRWjPebD8/mEE+REz2oiIW7NWVkwb945HYfzgccjhKa9Xfg/GhvP/F63W4hGTo4QA5UKLloZJ1vrhuZmSCSouOACZLOFRALa2uCh3ye5TL+FaO08nticwdat4q2plLBmqqvFc0kSvqGWFmHpvPqqGMvCv0pve+456OoSr00bqzbb8ddNJjGl++lPhRi905jBrIpOl7uLnYM7KUorQkLiZ7t+hoxMcVoxH2/8+IylMG29pBnSKEsvY1PPJnRqHQtyFwAwP3c+edY8Xul+hUdbHqUmowZX2MUd8+9Ar9GTbckm3ZjOobFDlKaffPc925weSZKw6Cx4wh4eaH6ANEMajdmNmLQmbqq/icdaHuOptqdm3n9v073Mz52PWWtm7/Be9Bo9N9XfdJIQadVaKh2VvNn/JhWOCq6pueadHM53xLSQz8uZh1FrRJIkDBoDGknD40ceJ5FKoJJUvNT1EqF4iK8s/QqZ5kyOTByhx9PDk61P4hs7bmN3uDu4hEsAeOTwIxyZOMKwfxidWkebq43RwCgLchdg1pn/9uBSKeHQaGoSNn1xsbhiLr5Y3GITCeEU2bwZmpsZqMnjoPFy0ox25mTNIc1w6rrq/d5+nm9/ntrMWhbkLsCmt51mx2dBNAp9fVBZedq5ysgI/OAHQnSSSTEdOS2yTO9+N0+8aicYVuP3iz9rtTIdR1VclO1ihdWNSpJhZASpogKtVsKmi/DirwbYHtQipw3hsaipqjZhcejQaoXIwXHxMJth/rGsjtZWEe52uYRGZ2cLgdy/X4ieWn18CpiXd3yoiYQQpukx1tWd26GbZtZER5ZltvRuIRgPUqYvY+/wXiRJ4uvLv45eoz/j1GRd2Tpe6X6Fmoyak0z+bEs2t865lafanuLQ+CEA2lxtNOaI24pOrTtjxvKeoT00jzUTS8a4sf7GM051piJTPNj8IBqVhtsabzsp3+YjNR/B2mNFlmUur7icrf1b2TGwg2gySmN2I4O+Qe5puofG7EbWV66fibqZtCaseitv9r/JJaWXnPvJ/w5IpBK81PkSwCkiUOYoo9PdyYPNDxKMBYkmo8RTcX745g9JN6bT5mojJadwmpzoTfqZz/V4erhn7z24w2463Z1MhCbQqrQ4TU4W5y2mw93Bz3f9nE8v/DROkxNZljk4dpBqZ/WpqQRtbSKOPDYGBw+C0ylCOm63uKrGxuDFF0moJV7Lj/BU9FUGt7VhsKZT7aymIauBZQXL2DGwg3xbPssLlrOxYyNPH32aTT2bWFO6hjsW3IFGpTm7m9CePUI9ysvh4YdFkso3vnH8ygwEYHwcT3oZzz4rNCkUElbLkiWn39ye7QlCATMOrYcbK9voD2UwJ9+DMT+dLa9LvDZax3DMCYk4a/a1kTEwAE4nRZKKVKwVf0qHPDVFSbwTqTcbspceV5xjJJNiDNNfsagIjh4V074lS+CWW2DXLuFzamiAAwfg6afF+xctEl9LpRI+nlBIaH5amph2TQvQuTBrIfNt/dv45Z5fkmnKRK/R88CBB7DqrGxo3DDznukpjUFjQKPSkJJTSEhveWLIsswR1xG29m1FkiQ+Me8Tp/gjEqkERyaOkG3OJpFKcN/++yi0FTLgG6A8vZyLSy7mjb43MOvM5FhymJ8zH7VKza/2/opkKsnt827HprcRiocY8Y9QbC9GozpVr/1RP33ePuoz64kmoxwcO8ir3a+Sac5kfeV68qziJA3GgnS6O6nPrOcbq7+BRTe7OS5Nw038aPuPKLAVnNbykGWZQd8gdoMdo9ZISk4x7B/GFXJRnl5OulHEUz0jHn5+y88BuOW+W4jb4kQSEUxaE8VpxRg0hpnfzhvx0jvVy/zc+Xx6wadxh938eu+vubLySlYXr8asNSNJEt7AJIbfPghbtzJeV0xhygo+H3G7lf7RdspcCSQkIjlOfpHZw055EKsnQEFONZ6qItpC/RSmFZJhzKB5rBmH0UFjdiNHJ49i1VnRqDQM+4cpsZdwafmlrClbI67OVEqIWm8vzJ0LmzYRScV4I95J4dZmXjAPc0H2EhZv7xNX3HXXiav48GFwuWjutvJb65cJBUFrM+JwiM3qj+lyezvs3i0u3pER8bc8g5vra1tIj4+LKzwtTYwjlWJHeB4vd5cDEvlmDytsLSR1Rhoyx5DiMfHeeFw8gkGYP58eTSUbN0JJidhPayssXw6rVolp1nQYPBIR40mzpQgcHcaepWFbezZtbRIlJUKEQiHxfqtVjHfBApnLLxe/pd8vfETnGjI/b6KTl5/H0OAQAH9p/QtPtT2FjIxaUvNC5wsEYgE+PvfjM3krE8EJhgPDmDQmQokQZfYyOj2daCQNtZm1aFQaZFlmNDCKTW/DpDWdJEYj/hEeaH6AQlshywqWkW3O5sDYAfqm+hgJjBCKh1BLaublzKNlooWvr/g6Xe4uHj78MDIyafo0JEliKjKFWlKTlEVM8M4Fd5JrzUWWZZrHmsk2ZxNJRE6Ztp2JId8Qz7Q/w3hwnE/O++RM0mMoHqLT3cmn5n+K9VXr382f4BSiiSgbOzfS5mrj8orLeanzJfaN7KM2s/ZtbWc6b2qaE0Vn7c/WUl5W/pZ+rWgiytHJo5SllxGMBTk6eZQ5WXOQkVlXto652XP5n8fuInb4IA5zBmP6BIvIIx0D4wQ5wgSfTcynUc5iq3aYn7ObYtKwBGIQDEBhEfLy5bS6WpFlmQpHBd6ol9HAKGpJTV1mHZIk0e/tp3eqlzlZc/j2gq/iuOf3IjklkYBAgPaMxbTuGuBFyzh7i/aSF1OTTB+mOKJng3EZDX4j0miUN3zzyE8NICUT/HF0LbviC3BofTRcXYHKauaJJ4TRlp8vHL7TzM0Z53LzGxiz0477rGRZhIwMBtDrUZEif2A7zdICfju4lmBMqNed+c/RkDNJemyMTscS3GEjCW8QtV7No8OrmXAdnzFIkowsSzP/XnedsGgAZJ8f94F+1AM9bBxfSF8km8Z5KuFE1nUylDhAVWIu1kg6yZFxVJMTSEYD2O34ZQuTISMPPJvxts6fmXGdL9GxZdoYGhwimUryzU3fxB/zE4lHeLz1cSQkbm64maqMKiKJCP6oH1fIhUVn4cKSC+md6qVpuIlqZzXeiBeNSkOmOZP2yXZMWhORRIRkKkm1s/qkffd4evj9wd8DkGfNwxVyEUvGADEdmvbBVGdUc3PDzQAMeAfocHewJH8JFp2F8eA4L3W+hCRJ5Fvzubj0YgA8YQ/+mJ8Liy/kpa6XiCQilNhL0Kv1jAXHyLfmz/ii/pqUnOLXe3+NTW/jow0fnXlft6cbp8nJJ+Z94qzD1G+X3UO7ebrtadpcbcRTcbLN2XgiHkrtpTNWTjKV5PW+19GpdawoXHHW9WQnis6X//Rl0nNPzWDzR/1MhCYosZegklTEkjE63Z3YDXYcRgdDviGmIlNkmDIothay640/UeCXmLCpMaElRBwALSoCxCnEhgMTIWK4CVNJBiAfD9msXSfmBBrNjNM5mUoiSSdEF2WZeCLGkYkWasdSrG3ykO4rZq9jAmPEyM+iDiZ0AZL6BJqUFkkXpMwYZFIbxiFbqNRrmBypwH1wPQXki+/pl6miA4MUhbIy4uU1fO8ecVEWFIjo0uLFEBv3YGvaIkJLp0u4kWXMcQ9reu5nwegLjJhLuPHaC9EE89j17L+xyHGAFycvxZAIsq3gZj4y8kvcSTsAOn2Qq646QmXpHAZbQhSE2nl+TxZBzAT1DiJJLV/8IqjDAdi2DTweOqOFPNS3iptqmyldriUR87E/dyPd2tepb21gYftFwo+l0YBaTUJjoGcqHZ1Rze9al53VefLXnDefTiwZ4z/e+A9CsRBD/iHqnHXct/8+KtIr+Oicj85Ep3o8PagkFeur1rMkfwlVGVX4oj6ahptYWrCUX+75JS3jLejUOiQk7lx4J6F4iN80/QZP2DNj6gOUppeytmwtr3a/yrBfRFZuqLsBlaSixllD81gz3Z5uqjKqZj5TmFY4Y30AZJmzTprygThpB3wDLMlfwobGDdRn1bO5ZzPbB7ajklQ4jA5aJlrINmefNuNYJam4uORiHj/yOA8deoiPNnwUrVpLtjmb9sl2fr331/znJf950nd5N2gebebepnsJxoJUZlSiV+sZ8g+RacrErDMTiAXwR/1s7NzIgG8AABmZ1UVnF2XS6rWo9WpQiefTyLKMK+Ri0D/IS50vEU1GuaLiCpbkL0Gn1lGXedwTWe4oB6BjsoND+zaS50lQYCugAO3MeCQkkGVSErgIMYKfJCkqUulkTQQYz7aAySyy7pqaIOCH4hKoEVFNdSIpagtKS4W3dHwcrdtNnTOdrv7d/KTAQP94Nn6zH705gj8cxqlRI0kS5nA6vmAGw34Vfr2LSW2IEX2UMfN+5lXYsQ5cQ0oGm1PGYMwkEFKxa18a4Y5BIINPfzpAXp5l+sBgGO8S2YIneJhTyRT24BA+WyFre+5l1cAj4vfLqqJxvJ3LelMczrKSXVXH1paP8RA3U56xgycGV+HGzp3mhzhUG2Gs4QHaNCqmBqtpGFuAKmjmI3P94PEwkVXPr96o589PxilXu1gQncJfqGVTcyE2Rx/honvYEh5ATiXwe/1YZD1D5iOE5oVZMXgz6qkgY34TPeEcbJoQV2Y2A+8z0dGoNIz6R9GpdRSlFTHkH2IiNMEVFVfM3HEGvAMsyFvAwtyFXFh84cyd12lyclnFZQDUZ9azZ3gPQ/4hluQvYXHeYmRkutxdvNj5It6ol0JbIdFkFK1Ky8rClSzKXcQP3vwBAFUZVTP+l6urr8YX9ZFvzT/r7yHLMq0TrZSll/HRBiGWi/IWUZVRRTwVp3WilcsrLkdGhJGTcnLGd3MitZm13NZ4Gw8deojHjjzGLQ23YNaZqcqoossjonqVGZVsH9hOv7efzyz8DJnmzHM+/gdGD/DLPb8kGAueVIk/nc2dSCX4xZ5fEElEsOqsfHzux+nydLGldwsF1gIcRgf9vn629W+jOqOaS0ovmdn2UddRtvRtocJRgfW7VsLxMBqbhr6pPlJyiseOPEYkIYpzKhwVJFIJUYumUrMw9zTOfVmmclIm2RdGZc4GjZb8QR9euwFkmfkHRplzaJxvffhiRjW5XOjtY9nAIHWtnTg8Ee7/xDwGitJEnHd4CIIhMVXKyhIOiI4OAq5h9B4X2pQEEoQ9UQ70ZFOoKmNUysEdkTAFGkkkNZRaQqhTxyYAKhmHUXyXLExMhR0EvFoKHQNMZRzC5F2KKSGiZbGkmj+0LmA8aAE3aG39THjvxTl+BbqoBtloINXfidqWRuPYyywefhqVnCAv0AHAU45PscL9KC9nXs0fl/tpygvxn5uz+detYm7Wp/1HFnI5d/IbOLYIR5ahm18FN3BH3gqiahv6oIYB8wGm5g6THaqk1nUhfv0oCVUf8xbEOdKeQ6u/hI4CHyHfAUZdxeRf8Q06S46QIEpC1oI3g5y4FnfWKFG66Pe3EJALCCbSmJfrJR5OckPxbuAz53RunjfRkZBO8nu80v0KmaZMSuwlgLAeZGTWlK5hReGKM25nQe4Cnjn6DO6wm6X5S2dyajY0bqDAVsDzHc/TPNZMIpVAp9YxL2ceeo2ezy/6PGPBsZMcvja97W1HiwZ9g2SaM/nSki+dVBtm09u4a9ldtLnaqMusQ6/WY9QY+d2B3zHkE8Wpxfbik5zExfZirqm5hsePPM5oYJRcq8iKtuqsPNryKMlUUkxDExHGAmMsL1zOBcUXnFT2cTYkU0kePvwwvqiP6ozq0zridw3tIpKIkGnK5Orqq8m35VOUVsSAd2BmijrNeHCcAlsB3qiX8eA4TcNNyAj/Wll6Gd2Rbh448ABjwbGTPvf5RZ8X5SKxIM91PMfz7c+jQiRxburZRCgW4vq665FGRqDlMGq9AYwmLni9j0u29J4y5m89to0XCir4fFsTHouBoWIrDk+E+ftHhegYjeLhlGF8DHZsh1CYmJTkf3J6UCGxPOigdqqcEBn0T5gYN1YQwUCRMUxSlUSnjokw9Rn4dFcTbY4MDtqyGLf0sLvgKcrdi4mNV/NKdyXjISP5F/yEoTe+SnbdX+gyvc6gZjfVUwvwqCdwzRvnwuHL+dDe/yGisWCNuWe2/RH3/bTbs/ivS1S0WsHhaeAnS6v5c7WXb725ldrJcf638lJ+VHUVfm8O6fkH8dlb6H/Exi2H2ui84ApUOjUZSRMe4wgT0gHiqiEG08aR41E0iWfJW+wmePBOOvZ8itTgXFY6n8Ru72cymkkyZsYfMWPVRZlIGVGPZ+M19/OGbTuJjAAL6sw0mLIwhhNoQ+fezO68+XSsTiv/8Pg/IMsyO4d28nLXy1xVddVMK4geTw9WvZV/v/jfcRgdb7nNTd2bGPANcF3tdVj11pNeG/AO8NOdP0VGZBLPy5l3Vj6JUDyEN+Il3Zh+xupvf9TPgG+AT877JJdXXv43t5lIJfh98++x6CwMeAd4c+BN5mTNOemiT8kpfrT9RziMDm6ZcwsmrQlZlpkITWDSmjBpTYTjYfq8fciyTLYlm6+v+PopxbBvxYh/hG9u+qbItj5Nzko4HuZnu37G3Oy5XFl55UmvpeQUOwZ20DPVQ1l6GfNy5vGXtr/Q4RZ3Y6fJSaGtkFVFqxgNjFLrrOV/dv4PgVhgRnwrHBXY9LaTxDIlp3iu/Tn2j+5HJalmuj+ur1hPVfcUtjEPODPJGg9y571N9BeloU6mkCWJA2U5PGKu5592bmeBa5T9GTl8dt2V1GZP8vGDzVzwRh9/umUO3WXHp6eRcAp9PIBkNrFVPcxrUg82WY+fKDISTm81GX2ruaP/EDe3tzBstZJQqXittJTDWVksHB7mcFYWhV4v39q2jY9ffRVrevv4bFMTCUli7YYNJFXDyHj51MsaPjm8HQBT2WuUXfr/MIwswZg2RFg9RUwXIalKkJISqFN+HnlihMpJDx8regNzwTjfyHiSPbYjtCT7aSl3YpW0JL15tI/n4Y0a0KqSFCWnuGagnSdra0io1ZAS8XC3cZhr2ob49y2t7M7L4ztzLiCo0bHYN8y/7dqMISHznQvn80pRFbIUxSpbkFJJrmztZN3+AI3JFnbn5/OZleuJy2qyzUFK7B5aXZlkGEPkxr3MGWpnyJRBpnqQ9CgE9BINmfWs+fVLZ31Onsh5F539I/t5pv0ZqjOquan+JmRkhv3DBGNBPr/4828vS/UM+KN+eqd6+fmun6NWqf9m0WIwFqTL00WuJZfhwDBzsubgi/pwhVyYtWYsOgsGjYGW8RZWFa/iq8u+ekYn8ZkY9A3y/a3fZzQwSmVG5UnCtnd4L893PM/crLl8pPYjbznODncHV1RcwWcWndmUHQ2M0uZqwx12c3X11Tzb/ix/aP4DdZl1px33mwNvsrlnM3ctu+uswvWyLLN/dD+SJDE/53j/oBMdyet+uY5lNcv+puC3udrwhD3UZdbxROsTDPoG0coqPhWtoyxu5Yu/2IPfquO+OxYQ0aoZ8ttoHs0mFNeSZQqS7/czYjIzEbegUydZkd3OAd8b+HQyAbuJDL2dykA1r8VdBKx9GFMG3Fo3jcFssqcuYDw6QlPFFgCua3Hy8BMuJk1mcoJBAA5Tz+PcQExSseWaBwmnuXAkAwQMKV55UMZnsFHo8/ER8+/ZGVyLiRDdlJOv6uOK0p8TLxmht+B4ykYiJaFRyURUYbwRI1e1d/FfTdv45sp1tGasRV39HGWmJJ24qcCBieO+seFJHb0TZiSzCVfYTDCuxa6PYCACkSggk9RAyOTjx6+1c1Ff/4mHmr2ZWQT0KRaPeLnkqo/jVenJMgf50p7d3NDaSmtGBi+Xl/OV3bt5tKyOnjl2tAUp/E49VUdd1La5qGp3Yw7FT/kd7/yHSu79cfvfPHdOx3mbXsWTcTrdnTzT/gxl6WXc3HAzKTnF4fHDZBgzWFu2dibV/p1i1VuZkz2HtWVrebTlURxGx0yuTiwZOyVvp8/bx/KC5dwy5xa+v+37HBw7iEalodReij/mZyw4hj/qJ9eayyWll7xtwQHhO/naiq/xaMuj7BrcRY2zZqYX0KK8RcjIvNDxAheVXHRGB7JZZybfms+e4T2s960/ZZolyzJNI038bv/vcIVc6DV6uj3dtLnaRHrCCeOezjBOppLsGtxFQ1bDWecHSZI0kw1+JmrttWdlYZ5YsvLJxk/gP3qQPw29yF80XXzhgMSvF6SIrmzEq0vROppD31QGKVki0xwCJIaO5ec7NGFGIxoeNLTgt8tUu6DbEKKbEHusIohg9ZbjsvaSG5B59jdD6GN/ISMaZsgKP10GP1rpYk6WEVtwHROM43H2EJgykMz6b9BEQJUEWYJj062iK26hQu2kfFcRfxnaQK66n+5kOSbJz49T/8RNXY9BF9x16aXokknezCxkLGrBpE0QS5qxGyJ8eKSPAzlOdq0exan7PXEpSRdQTvpxwZFTEE+Qlxglq8DEGEEac/M5PJZD74QZgzYGZhOkUsgJiEzauf7yKfQqHV9vlinM1tJudjCYY0MzkeKiB1/ms9493O9cQOWgm2uOHuXeBQv405w5yIA7YeS7+16HbkhJ0F2WTlm3B59NT2uNk45KBzc/2oLPpqe7zM5guoaYdO59ys+bpYMV+EeRGXxtzbVUO6sZDYwiyzLfuuBbFNoK3/U2o4FYgB9t/xE7BnaQY8nBprfR7+2fEZ2knCTfms9IYISvLvsqK4tW0jTcxEOHHqLCUcEdC+4gnozTM9XDRHCCamc1uZbcdzROT9jDz3f9nJaJFvRq/Uy0Jp6M871t3wPgxvobqXWePmdGlmUOjR9iecFy7lp210n9hNpcbfz3m/9NOBGmOK2YNlcbGpUGg8ZAnjUPo9ZIJBFh7/BeNvduJsOYQWVGJTsHd/KFxV/4m9Pav/ndziJkHowFGfANoJE0lDvKkVIpkbJrMIh/h4cpbhnikxd6TvmsJmHE5i/GJpvwGcZIi+RQ5BWJJlF1kFbndvz6CT4cWsaX9gyQ1tnLk7XwP8vhxkMZfLg9ixUDrTjDoD+hFcPBrCzmjo+zrQjWbbAQ0QaEuAwvQgpkU5Q2zGjGUZxdV5E4fCNucz+JjHbkJb+AuAEObsA+vIK59a8jpzRopCgfP3iQrGCQQq+XORMTANxXM4/fLlpANKnGootxqb6Tf/nNmzx/ZSW7F+UQIo4V/clfOhGHCZeIshUV8YzUzv5ID9lxPRWhIjp9duIZY+ToFhJhCrNnASH5CF1ZG9GltMSkOCsoZB1lM5u88bEWaltdJFUSmpRMt83OZ678EHG9Gn9MhyzDjZYWnHKYuQfHGPENE8l20HZRA/Kxc1+VTJFSi5uKP+ZnMublgR91ntN5c94sHb1Gz/ra9TRkNsxctBOhCa6quuq8NTW36CzcMucWXCEXvqiPLk8XDVkNTAQnyDBlkGvJZWPnRgpsBTM+koV5C2f8QJIkoVPraMhqeNfGlG5M559W/hNberfwx4N/ZCI4QaZZNPhaXbSarf1b2dS9iZqMGpJyEl/UR7ohfeaYSZJEhaOCXUO7eKrtKVYVrZp5/Zmjz+CNemfGW+2sRpZljFojsizz5sCbvNr9KiCigB3uDrYPbGdx3uLTCs50C5CzqTB/K6Yr74f9w0xFpihPL2c8OE6bq42qkAH1gf0gqSAeo8wj8fHNHo5mZfBgRQqHawHdtiMktAFUSS1uextTsoaUKoHbNIQ2pSMrUMbh7M1ENUEKBy5lIJrHfxSVUJeopd4zwf8+F+fTB5oJaH08Vj+PN4qK6LXbyQyF8Ot0JFQqnF1pyCkVlfvTOeQzwMAK6LuQ2ov+l0xdEyWDc0APLPwLABFNgJZgPgFXKVLFi/jm/47EwHVoJQMpVDxwrOBUk0zy/216gwtG+rmj7QDL/EMEs7X40vVUdroJWHQ0z8tBjQqrrBVWTSwqomwykEwwlGngRcsYzjQtB8Z7qDEW0SUP8mZaBxxz0bkRUymb0YfGOkpJzMKtsWq2mVy8LvVxUB7jDuaThoEnrq+j/vA4r1hcdOjsRIIrGCGJO2MrqpiVGo2J/rQ4zzBBZoGVZySxhy/IYZyI0p9pwXk3OG+io1PrmJN1POEtloyhkTTMzZ57vnYJiBD5N1d/k8daHuPlrpdZlLeIHEsOpfZSpiJTNI814zQ5ybUc72lzLtOnt4NRa+TyistxhVy81PUS/pifUnspl5ReQoWjgt8d+B3f2/Y9NCoNkUSE4rRiLi2/lEQqQZY5C5PWRKYpk0dbHmVjh2i5YdKa6JnqmelkCMz4jRKpBI+3PE67u53FeYtZUbgCu8HOeHCcHQM7uLD4wlPG2OPpIZ6KE06EqckQU8FpB7c34qUsvewtj1M0EWXIN0QilRB3wtAk5Y5yNszdwIeqPsT2ge08eeTPtLe8QkUqhTdNT1xr4uZNvQzlWYkULyC3qwRfVE9jsAi9OkEKmaQqji6lJxUOcCT3IO0ZO+lM30tKHWde/1psQROBVIxxyYK7wMQRYxYAB3LzGLDZ8J2QgDdxrB+ELEs8uuPumb9bnV00XPJTYnNfxeIYOO33MyQsLBxfS9CThxStpMn6e4at7RR7Tz6fx2IWPnZNAaOOCa5rjfKnJydwh42k7w+TUkk8dMscEhqVEBqPB1IyaLV4DLBT76LPEMFFiGQ0yeD4OAtzF7K+cj2JRAx1Ty/7PUm63A58US/ovQxZNoIMa62L0HR7uTBqI27PZ7tqiNfiHeRFtIyYUvx6bpgRKQC4qE55cSVj+LVeNCkNO1QJdshwrNECBbKVEQL8QtrDGrmUlRQSJYnhXZKLWSv4HA+Ok2nOPCkx73yRZ83jpvqbGAuMUZdZN2MJ5Fpz2TB3wxkdrOcTSZL42NyPUe4o5zdNv2EsOEaOJYeitCLWla2jfbJd1EJpzbzc/TK/2fcbANL0aXxu0edmKueDsSCRRISJ0ATl6eWnbfq+e2g3XZ4ubqq/6SQfSpY5i6trjjdCSaQSDPuHkZBIykluqLuB5rFmDo4dRCWpCMaCpBvTSTek0+ftoyxdmOyheIgeTw8+1/Eq8+axZoqNxThNTtQqNXaDnSsrr5zZ3+ri1dgmfNzvfZF9Ji3xKQfXd/ZR0+7msTV1tLudhBNa8m1+ce4nkqiTSdQpGTkZouPAF5jsugScrUiLf0FtZjdpcTsY1FhDAaymk5vStGRlnXRMElKcoM6DNLSY8W6RoqFSxyhufJKC0qdRkUKXPv19zjydNqcLf1F2oIxex35kKUWht4FESqJXP0DIMYQvrZO0WAaPzA2jrqqmXJ+NORgnpVYRMRy75Hw+yMmF7GyS0Qh/8r9GmATF6SWUGeysKlpFLBmbaX+i1eqhqpoFMtSGYWwsB1taiid7DuIwplNTtgas3Uh9vaxz27Ho47xsHeegFjSyhAxcKBeTgZGNUicGjZo7XSXkqqy042Y0TU2hys4Bxricctpw8QztbJJ62EQPyHAhRSRTKWriZ9Ep4C0479ErEHdRd9jN7fNv57ra697N3b0lyVRy1sXlbPhj8x95qu2pM5Y+BGNBmkaa8Ea9HBg9wNqytSwvWH722z/4RyQkbp1761u+r3eqdyZ8fX3t9ayvWk8kEeG59ufYObiTLHMW9Vn1WHQWfr3316glNbFkjFA8RGP2XDp27+CJb70OwIb7N7CkYQlXV19Nv7cfGZl5OfNOclbLjz7GGz98lpFgjAt63iQvNsTGwky+taaeWKgKizaJQROHWFwk96lVoFIxcORDdB+4hfILn8SsbeXI63chaWQWffaX6Ew+UQadTL5FH0+ZCW0n6lgWhx/+I3LcTHrRdurmfx+NRi8axiQTIlNYRuT6qFSALKaBySSoJPE8EYdIlKA9xt7CZwHQJozENeGZvS2XC7k4Vc49qt1MSiHSZQM1OGnFRTFpXOXNRpWSSSxcwKTDyPaB7RwaP8SdC+982+1iT+lWGQxCKEQ0EuQH3Q+Sbcris+F65IkxpAyRbCqnEjAxgZSTJ6pD+/tFUmV6uqgFO7a9FDLPJVsZkX2kJzS0GkWELyuh54pECQ98v+1tjXWa827pTJ+ka8vWsq5s3fne3Um8HwUHYF7uPF7ufpmOyQ4qMypPed2sM3NB8QWAEM5t/duYmzX3tBXhsWSMo5NH6XZ3Mzd7LgW2Avq9/TOfPxOxZAx/1M81NdfMlJ9IkmisdkP9DSJp75jlkJJTDHgH2Nq/lZXZK8kxOrlQXcaOtr08rVIhqdV88+JvUlVShUpSnVRWMoPLxWt/HGJh8wtcmHQzbCjlKxUP0V/lwhNuImXuJiOeDWFRK4fTScqQRtfrH2a4eRmFK7dRcNFBSCZZVHs3e+79Cv3bL6Di8hfBmSHaXYRDYDQx0TEH72Qtan0c72g1eks/pppn6X3hfwEoX3Y3hvnPMpH04FTVonUWHmtknCAx5cczEUOrktGqE2g1ATRJDRIyklYnxFCvhykTFeGbSMhxxvO2kR4u4KI0KzadTB5WJJXMrTQwIgfYzRA7GKSENA4yxqh5iisylrHZvZm+HuGbua72unPqT31KxNBsBrMZPZl8Nv2zIq9teEIkYE55QK1BisXAng7Llonv4nSKJjoD/ZBMgcUMySSqcISrVJlQMB9CIfoTUwTkGM/peqHy3JvqnDfRSaQSTAQn6PP2UZ5ezqcXflpZ/+kYdZl13NxwMw8fehhvxHvaBL5p1patpcPdwTPtz3Bz/c0nRdL6pvp4qu0pvFEvAEcnj5JmSCMlp6jOqD7TJgFh5dQ4a7i29trTitmJ+1FJKj4292NcWn4pWTEt0n/9F2ia+ZDXROyqq0TvhPQc8EyJ5QLmzTveP1OWYccOHvvJECM7A6xJutlS/HF2532EdJ2d9GAeOe4UO2sGCUkuzOp0yM7B663nwK/uAKBs3UsULNspBqNWo3eEKVi+g/6tqylcsR19ugyyTHLIzeTRebTuvAuVOkoqqSUtdx/jvRdD96UALKoPsbphKaOOfPq8z+NN96FVjaDWmwkYBvGnwGxwE1KZSGkh4tWR0o6iSiWxBoqwOwoxaeL4B6JUqt2k22VUocWkST6cXpe4aO1a0GhJlzWkazOpxYkMqJDoio/zqqqHB3yiwHZV4SqqndVvO+v8r/FFfQx4B0gzpJFjyUGj0hyvA8zPhzlzjglzWFiQpWXH+26YzaKdYFGRaO/R0S5+u8ZG0dsiNxeSSYpkGdRq7MExYqnYOY/1vImOWqVm2D/MuvJ1rK9crwjOCagkFVdUXMGRiSPsGtyFTq07qR3oiVh0Fq6quopHWh7hweYHqXXW0pDVQEpO8WjLo2SaMvnY3I/hDrtFm46IzB0L7njLuq1kKkk0EZ1Zq+tskDwestu6xJopLS1CTGprxTRk2zYoKxPdobZtEzVPc+bATTfB8DDun/6eV/Zcxz8E/0K/rZ4tJZ84vuFolOxAISXmD9OWtompA1fh3ruAeFBMy+Z94rekFfWfMp6CZTsZ2rWU/q2rqVj/HG5vHW3PbSARs5BetJvqS37CpGoCo93GVNeVpA7fyBWX2MjLMwGLsbGY8oz19LKF/anfMzw1hWPySurNFWy4VabJ9wrBcBx193paoy8gT3gYSh8hFLTiDqvILZqiutJBWl2BqMBuaoJ+t1ibZcoL4cljjY5zkVSqGS9ReVBLkbmR1qocsq25Z7Uk0VRkimgiSpY5C0mSiCVjSEgEYgEMGgNatZYeTw/zcucxEZygZaKFivSK47+tRiPa/dXVCYsuHD65H+n0e3JzRQvBrCwxpcw5wfI6oU2sVW9lMjx5NqfNaTlvomPRWvjKsq+wrGDZ390ic+8GkiRxQfEFNA030epqpdZZe0bhqXZWc0PdDewe2s3L3S/zSvcr6NQ61Co1N9bfiFlnxmly8pmFnyFNn3ba7cSTosGWRWdhJDAimpWdZnXS0xIMiuUcW1vFhZSff7ypLwhfyq5d0NEh7o6RiGgnOjgIsszRqWyc0iS14X08UvbvRBJq9MSQ/D5xARQUkGVYyrZN9bh2rcOU2094PJvyyzeeVnAANPoohSvepGfTOnwuC6HRQnSOceyND2KbuwWXMUiZfAVlqnXI81Jkz7Oe4h5Wo6OMdYwPpVGV4SHfuZbGORo+dgFcn1hGNBnFbrATii8hFAvzzVf/jddb3kTlzaV0jpO0guO5MMybJ45JTo7oB9rbK/rjDA2C2QJ6nbiwYzG0DXOYm1vBWzFdJhKMBRn0DWLT29g3ug+HwYE36iWejJNlzmLQN4gkSRTYCvjqsq8CcM/ee3it5zVqnDUnWdGyLBOWEhhtNiRJYtqde1IemiRB5rkXGp8N59XSuajkovO1+b8L5uXM49raa9k9tJsjE0fIMmcRT8VxGB3YDXbiyTj+mB+7wU5dZh11mXWE4iH2DO0hGA+yonDFSZbK6XwC04v9eSIejBojapWaQCzAbY23nX1j+NdeE4JTUyPm/sfo8Xgo+7lIDuxeu5bSggIhQAaDMMs7O0mkVGxNXsE1kz/CZcjnDf1afvXmchqsfUzJaVjtaj5cC88/YsE1VIAxw0XRHV8nInvRqMxMoMGIA/WxbF0D6TNN9AuW7SSlCTCydylyzMjqK8fQFqqYohQdFuZJn8DI6RMgg0HxlUDCYV3K528XDc0dDnHdGbXGGfGerom7pu5DlKaV09I/REQ3gC+qPl5ArNVC4TFfVm6ueAwOinarGrVwjgeCImJ1hkXA/VE//d7+mQZyyKK1x8WlF9OY3cjrfa8TiAVYmr8Ui97CwtyFvN73OjsGdnBl5ZUzY7mp4SYiyQj7hvcxJ3vOjN+n39uPL+rDqDVSnl7OkYkjJFNJ8m35OIyOGfGZzrM6275Kb5f3dIVPBUHrRCt3774btUqNVqVlyC86Lk6GJymwFojcmRNC32fDdD2aVW/FprcxL2cedoOdx1oeI9OUyf9b8//OruLe64V//VdxlZ54scgyPS4XZb/8JQDdN91EaVXVSWZ4j8fO81uMLOh9isW+TVxi3cs2/+mXRlCrRc/1/OIoU7attPMcTmoY5QAAKRLECGLAgSGRiUYDKZJMcJhyLmde6g40xwIHcUKo0aF6i3vqdEe/WAyuvx5WrjylxfAZSaaS/GLPL3ij740zJpL6oj7iiRiOlB7JbBYO6OmlFPT6U94fT8Y54jrCysKVqCQVafo09o3sQ5Ik/nnlP5/eOY+whA6NH2Jx3uKTAicTwQn+9bV/ZSoyhYxMOB7GbrAzN3vuzNpvmebMmfytQCyAhIRGpZlptuYwOsiz5p2Ske+P+pkMT/LANQ+c3QH7K97ztcwVRK+db13wLZwmJ1qVlle6XmFr/1ayolnMzZ7Lpu5NBGPBs/a/pOQU3Z5uLiq5iEvLL6XGWTOzGKBNZ5sRorPiyBHRJLf2WJmGLIs+vps3C//ONNnZ0NdHdHsTgbQ80gvMtHRUcWfrTzmkXcBC3SFaAlWszWqmsiCCN6eaqNHOwYNiVnbVVcINBHocrCWfpeiw4GMAA3aScpID4ac5kngebTKKCSdJezt2qYQ6rpsRHAAtZ/YfTldhyLLYZ22tcGG8Haat+J2DO+md6p1J4JRlmaScZDI0iTvsxqAxEFZHKFBZhYWYceb2noO+QcrTy/nsos/OpBmsnVqLUWsky3zmAZp1ZpYVnNpMK9OcyZzsObza/Sq1TrECRmFaIUvzl/J63+s0jzazOH8xywqW0TTcxI7BHRg0BnYP7UYlqShLL2PHwA5GAiNkmbPwRX2oJBVZ5iymIlOn7RF+tiii8z7hxMZfl1ZcyrrydXijXiw6C5OhSfYM76E+s/6s6sC8ES92g50b6m84absqScXa8rVvb2CHDon5hlotmoBv3CjWLPkrtrWkU/DGfQQkG8ZkP6omPx8CDqev5AvGhzg0XMxNVfup0XXD4pVk5dgB4X8eHxfpIieiR7QwSaMIWRaWSab+Fi6tyaHH+AQ940dI9yxjheM2TJz9woVjx1r+LFkigm7nuihpQ1YDNc4aOiY7aBlvQZKkmfXBdGodNzXcRCwZ45HDj5BvzT/j7xZLxhj2DxNLxris/LJT+i+9E9aVrcMf8/PlJV8+6YZ1UclFJ7k+FucvZnH+YgDmZM3BYXTMTLncYTdHXUdZlLdILMoYGCORSiii8/eIJEkzPpcb6m+gd6qXTncn5Y7yk+basizjj/lxh90kUgnK08uZCE1QnVF9UqnH22J66ZdYDHbuFP6KRx8VV/401dWwejXcdx8ARa//ER8W/rXyUfpiOdgkH6WaIXROG0f3ZLEob4gadQfkF520nq7JdKrgHP9uYlbS2Sl8LZ//vI6Ghsvpnarmydf62fLoXMxp6XAa4YjHZ1aGIZkU7pbxcfG4/nqx0uU7WQVZJam4Y8EddLm7ODh2kG5PN3WZdWSZs8ix5LAgdwE9Uz1s7tnMofFDM6uaqCQVTpMTm95GMpWk09NJvjWf2xpv48KSU8tT3gnVzmr+ZdW/vK3PLC88noR658I7kWWZLk8XRWlFMy1hNvdsnmkHfC4oPp0PCHuG9vC7A79jLDiGRWuhxF5CPBXn6ORRzFozGcYMpiJTxFNxYskYX1j8hbd3EstiUTdiMfjNb8QiSBaLmI+88op4T2Mjw6E0phauoS7HQ9uEj9pf/gSAbmBH/f+j3bmCQEyLSpIxaRMM+azct38ht9Y0UaHtE+bFWc5nWluFK6mhQaz4snjx8de8XrFGdzQqfDMnMjIiAkgWi3BD2Wzw+uvi3/Jy2LBBpBG9W6Tk1MzSO39Nv7efAe8Ah8cPk2ZIYywwxuHxw/iiPqLJKBeVXMRtjbe96/2xzycpOcV4cPyckhlBsXQ+MCzOX0xRWhGHxg/xZOuTHBw7iIzMgtwFfLTho5Q7yrl/3/1s7d/KhcUXvv1eRa+/Dn/4g5hKud0iBCzLInIVDsPnP0/cks4PX1lHeI+WwjQvvujQzMdloD1D3CUtOtH0qX0ygyeO1JGmDVKWaIeiEsjMJHqsqNrpPHUd72RSRJt9PlGNcMEFcPvtp+pUWpp47ZFHxJp3kiQ+Mzgont92m/gKzmMzr/R0IU6XXXbyysTvBipJdcY8tKK0IorSimZ+j5ScmlmQ0Bf1sbpo9RlTJd6vqCTVOQsOKKLzgSLbIlabKE8vZ0vvFrRqLZeVXzaTCHjbvNtYV76OfGv+25tzJxJi2V6fT+SZ1NWJUE4qJXw6ixcj29LY1FXGeNCChMyRiUz8EZAQV/D9C+5FO52BnEwyFjDzyOF6HLoAF5f1oSopI1FRw+iQRF+fmC4NDYldl5QIH2sgIMqACgrE7C0eh7vuOilKfxKrVsHLL8PWrWLlYb9fRPUrK+FDHzpZXO6449yO+bvN9PTqTKvK/l9AEZ33moEB2oP5aPUqSs9u/T5K00tPu9ifTq2baXz/tujoEEWTJSUiJX6a4WGx1GNVFc1jOTx8qAG1lKTcMXXsDWoW5m+aeXv/lI2uIT3z0nrZ7qrEqo/zuQ1B1Ln1TPlU9PUJQbngApHKc/SosFIOHhTTIUkSAnPddWJlynj8zIID4rPr1omZ4NCQEKEvfemd+WoUzj/ve9GJRo8vcfp3x8QEsZ/9il/3fQ5NaSE/+MG7b/qfFS0tYgpl/quQfFMTmM34M0t5amcNkYSG2kyXsGZAOFb0eg77izkykUmrywlIvOGqB+CKy1Oo83NJJkWYeskS+NSnxFRJlsXfUin4z/8UDuXrrhN/X7xYHIfTpLOcwk03wbXXimlVXp4iOB8E3teiEwjAr34l5vi33Xb6xeg/qMgyvPSIh4Mv1dKTCmHSyrS2StTXz/JAEgmxyPZ0Lc7UlKifUqmguRkuu4yXeqo4OJZNrWUAXD5xJwCSRgsbO6po8pRj1MRYk3kQU04azx4q4fLLYclS1cwmMzLg058+7mORJGFYyTLceKOYEpWXn9tX0Go5aytR4b3nfS06mzaJEh6Ahx8WJ+YH3eKRZeE+2bMHWl40EhkrodjZx+BkHtse9VL37TwktUqYAFu3ipXq16wRntPzQWenmJukUuKAT+fgaDSwcCE7cq7htaZ8MiKDSLooBwIVzMmbRFKreHool0OeSkDmDucPcRTUIa8soeQi4bOZxuUSJVmny42TJLj8b6/uo/B3xPtWdDo74bnnxJ0xJwcOH4YXXoBbbjk52vFBIZEQgrNlC/z2tyC7PdjdvVTmuiAWI+Fu4fU/QrB7jMJVJeh7j7Ki/SGc0SHh/Pjyl0+d/rwbNDWJtpkvvij+X1QkElksFlwhEw+8Mg+XK0XdfAe7/HW8csjI033C1xKLjSHiViBZTFBejmRPO6nayeMRYe8lSz6Yv5vCu8/7UnQCAXjwQWGW19WJkzUvT4hOYaFwRKZS75H/4xx58klRNTDZH8Q0NU7hZDNISTz6PJ7uqeK6jC2kY2T7ZjvJbX3EInq6ytayoMRD1qbDVJc+z+b0a1mwRPPuWXsej5hKud3iYH7tazPd97rc6fxq7yLGPVrm5I8RqVrLvj+Iost580QOTEFBhEceObYtu114iU9gdFS4fSoqYP5ZFrQr/P0zO6Lj94ts1mhUhBj+Bs3NIjFsug8UiGr7QEAkxk5PUWpqhNPx3Uz0Oh/EeobY9tsgh9251AT3kZkYAbOJImmA/V3Z9Pkz2GFbzKUV3WSmIqTCXoJqK2+457A/GCMtXsGSn7axRdeN964qrr1WRLclSRRznzOdnTAxAd3d4mAeExxZhqfaajkynkmlpgMpO4fH/6IlFBJ+mbxjlRUezwlrHy1fLpToGKmUyP696SZYv/6klxT+j3N+RaerS5x5zz4L7e1iUl9Xd/KE/zRMl/v8dbi0uFi89qc/ic3t3y/E6T/+4/1pussyhANJtn1/B2OHslmc3YdR9kBONqGEjqamcbZE52DUxGgazWN1cT9GbQKV2YiVBKXpHvxRPa5kFk+PpeGKpNj9qhetNo2NG8XF/41vnH119Cn09hKf9KKdmBCx52MM+mwcHs+kyuHCHghyJFhEby/cfPNxwTkFScLlEtnANpv47llZcMkliuAonMz5E514HH7wAxHvjsWEjd3VJe6uixefpBLd3eKGCyJrtLlZ6FNHhwisrFghohMqlbBqxsdF2Y/fL0Klmzcfb2RnMglL//3A9u3wyA+HmNiXi9kKRsJMGIt4+VAl/b40YsmVXMufWZ/TzGeGv82jLQ2U2Kew6qPMdQxyyeTj9NjnM2krggyZyEg/R19X0d2nQTaZcU/K/PYXEQzpRm6++a1zWmbw+cQBbmuDvXvpa4+Spc0gltuAkygjfgt/ONiIP6qnWBpgSpvJU9uc1NW9tUXZ1SUMpVWrhJtIlkV903nuB6XwAeT8iU4kIpwypaUin31aZJ5+Gp56StxZV69m604tDz4opk6SJKyZsTHhQH7sMeGA7euDO+8UfzMaxXtA3FF7e+Ghh8SubDYR3fra197ijjwLRCJwtE3mhftH6W72UWPzoU23IKttPHegBlfIxDJjM/8d+BzF5kmM4z6Cpjj3hG5nq6+SlKyiQ6Xin1P3c5kqxsP1/0m3YxGGTCu1480kXcMY166kf1sfz/8sDCXF6PU2amtFhM/4Vln1Dz8MGzfijlvxajPIHT/IC+br2bdzFXcubOL+3Q3s77GTYxhmNKLnT6OrMBgkrr76ra3J/HxxL7n9drj7bmHdXPDWveEV/o9y/go+jUYGP/OZk0O9gYC4w8ZikJbG6LJr+G7HRwmGVGRlCZePyyWSwh57THx0wwYR7dFqRWLZX08lYjERVU5LE897e0WT+7vueosVSd4psiwG298vdnJCcytZhvvvh1efmCLW1k2NppNJawn3HliCdCzS8yfjp7g5/DuOOFfzRtEGPrvvzpnPd2hqaZVq2RD/LTGVAScuXpA+xJZ5dzFqLEVLXByk/HzxxT0e+u1zMSyowxM2UFkpLL71609tg8vkJPI3v8XOsVJ+P3gJjWMv8dnBf+O7dY/SHKulRtNBmzePmhoZnU7i0UN19Lqt3HqrNOMjjkSExanVQkfHEA8/XIQkQVdXP6WlovIykRBJeu/HKa/Ce8/5s3RUqlNzSywWEfrQaMDj4fW/uBk1BJmz3IpKJV7OyBA3Y61W5uPrRjFKdq67zsh99wmL5qabxHU+Hb3S6URnSBBTq+pqkQPz0kuiSdPbPvH/ugLxdK8/8ICY90UiYqd33ikSURA+py2vxHC6jxJIBYk5ctjTK8wugyrGvak7uDr+NPfNu5vBNJEJ+M3C35MdG0BbmMsth/4Fm2Y/dxRv4f6ByxiM5nMpL5DW5GVCm8/nl+1DbbWKeSVAYSG5Y120vakluzaDo2257N8vEQwerzeSZTiwI0zw13/mjb2rOKqpJy6rudT7OIcsy0g6sygf6aZDVY2j0Y5uQRab3tDSNixyaKYFR5ZFyQGI3yA7O59HHkly7bVChKY5Zx+Twv8Jzq/onHaPYpchSxZvDpeSUeJCpToegvFNxmhv13LVwmGMh5vAk0/uwoVs2CAiVw8/LPzQHR3CfP8r9xBGo5iG/fnPIrcuP19ULn/0o6e2QDgFWRYp0HY73HDDyVfSNN3doiI7lRIqOTlJ6lf38PrF34GsLN54OcJU2zgxV5zHhy+BY6vUfk/9b3wt+QOOZq7mp1UPE9WInJtYUk2ndQFDmjmkqSLcveT3pCQ1VknNXfk78YQN7OzNZvd4DcShZTyTLIsJtdlBpjkEKhXanAzmeNqhUyZr7lyGcqpo3uYjmHyGtkgJLeNOXtlhxTmQR3uyjPJMH3nqMUr8h3m26h9QJeKYdXHqVzogN5eRERFJnzdPrEwyzfi4OIaFhaK9Z03N8bbACgpny/kTHVkWDstQSNweEwnhx6kRvX4PjWUxmsqi0tsOkVxx65yY4OBzU6ilMmq9OyEZFHZ6OExJiZGbbhL5O/39YuqwcaOwdI6tXT9Dbq7IEWlqEolp7e1iyvbFL57BiEkkhDI9/LBY1cDnE9PAq64S3lOfT1xtkiS+i88Hc+YgI7EvPpe+Az4e3zZKJFPHePsUO4aLkCnCbghzoWobXwt9lxXJHQxZa3im+uvE1MLpEo1J9PRBbvYkxc4Qm3tLSaSpsOljqKUUWnWKdGOEK2r7+ErWIzx+uIanjn5kZtj/XPwI9bYBuhyLhYno98ORI6RXahg65OEbm21MSipCcR8Os4vuYBYXZ+ym1n2ARSPPIpHi0eQN5Hjc2NKsM/0jdu8WuvvhDx+/d4RCQnSuu04kaCoonCvnT3RCIfjLX8Tz+nrhHd6zB2pqkGXYPZQPRhM+9wRP3xNHpZMxxxN0ekuY6xzGkOcAOV2c6a2tMHcuJSUaNmwQibnZ2WKWs+PNFNGeEYrmZ5BTbJgRlZyc45XM1dWwd69wSJ/SpW7zZjEXq64W/yaTwht75IjwnaSliTjwihXwsY+JOL3FApJEr8fOPfsW4Q3pCLhjzFFv5+WxSyi2urmwdIC1iRf52JFvsrH8i/x7wX/O7LLfm8ZUWE88mqTIMsZHTS+SU1fAeMjMVMRItyedeFJFvXMMDQnQaGjPWM4tJc9T0DtEri3A/bEN7O9L51LuZXB+MVFb1ozlZWw/SDKQwZSjiOzUBGnmBKRSLDd0ccehu5CQmTTm85uC7/Bw1xIs6jAfvXCIzJSa1zcLXV29+rjgyLLwlTU2CgNw5nv091N8zKvf19dH0RlWOVBQOJHzJzqplLhIc3OF32PPHuQXX6RryEB3JJ/tA4XEkmp+1Xs5SVlFui7ISMJJujHKxeUDIEmkkHDr8jC29mN2uSAnh7KqKpFJG7azaJGRP/9ZxYuufDgINnOCy9drZnqI2+2wdKm4aEZHRSlFSQnCAfv442I73d0ijD82Jt44XXFZVyfEbmBAKNyLL4rn/f2QkUEqKXOgKUG3O43DE7mMBS1scUeJyxo+Ut/BdYM/Y+Xgo/TY57Mr/1pSsiT8z0kN4biGVcX92L39XLNoEId7GNQy31vYh0/n5MBEPk+3VHC0W0uR2YfRJKGxW2gpXs8a/UauOfpDijnEx3iIl7mMggND3LCkB60ajA4HUjhMTXkCpClAC2jRpGKs6XwQnz6TH815kLFEBm3uTDRSEpsuzKO7S8kZFFahTgdz5x7/KXt7hWV51VUnzziTyeRpnysovBXnT3Q0mpPKhuWaWhIvbqLivn8B81waMz/Hf43eRlGaj5trD6CTY6DXz/hxowk1nW4HNn2UEZWDSn8fBk+rsD7cbrDbaXA6ya1zo5bjjAXM7PNV8MTj2dx8yTiVi+0zvREkSVhHO3fClQvHUP3qF8enfHo98ZUXkRh3Yyw73g1tx1ARWns+i3IGxRTPaj22hpEGolG8217mpeEvsQmxFvkVFR10e9JZXjDAvMA2lg8+Rpd1HvdkfxsjEgdGs4kl1Vi0MWptQ3zZ8Bs0aWq44Hpo08CWLagKCrAH+rio0kf+8B5+rb2VMXUjob4J6hhBY7dwIPtyyjxNrA43c3v2VvxBFX8eWclPduUjIVOa7mFB7gj15omTfo6rjv43ZVP7uL/4u/zowBoiCaEelZYRLq/v5393LcXXLpaBmZ6uyrLoemEyHe/Ep6DwTjl/IXOLhcF//MeZv7eMZ7L32WFWuZ8hiYZ9oWo+yiN8btEesszBk7Yhy9AxauYC0z6WL03xXHsV+0ZyabD2IXncQkHicSEaqdRMUk5ybILHR1bR5c9iXXk3pvpSNm/VUlAgMmMnxxJUT+3kDvk++nOW0DSaT4YpxOHJXAzqBDeV78V/sJueoot4sbuKcFzD2rJu6rMmqM5wYU75haPo1VfpMtZTGT6IjIr/tfwLE/MvRZ8KM3/oWS7tvZdm8wp+XPxzdFoYDVjItgQxauLooz6+kPcUlR+qFpl05eUiM/Lhh8X85Y03hEm2dCm+6z/J/skinvqfbnr2eTBIUUoKUxi1iZOOV//uEfaEGyh1+NgcWEQwpuM/yh+gXnOUKUMOi4f/Qv3E63w383/5ie8O1KoUH6lpJRJTkR0dwLqqkTFDMaOjwsKZnqL6fELjN2wQhe5/HRvo6emhrEysctnd3U2p0l9C4Sw4f5bOCR7bQZ+NX+5ZzITNRHfZOlQkeXG7jWXJXWSbAsjH2vkb4n7KPXsYj6dz2/D9lIaOIDXcSnpjhNGghUO+YorsNuzmuLCIkgnyfa0kAyFGrZWoMzO43nKQR7sXsbGzCjrF/t1uyMmWMY31sW3UhLfoNjxjNiZCJjQqmXhKRWZ8CPY+QqOvmdCRXlJ5/4rBbOKpthqea68iwxRiTV4r12z5KfsKruHm4P2oozL/U/G/fLH9B7TueQm1lKIq3My4sQjv1R/nq+Y99E/Z6HVbWahvIcuRINvfgeO2q+CKK44nEtlsosu4JInFn7ZsgauuwuZwcCEwt6GER/8zTtsL43SP51KfP3XSoS5bkM5X2v+BBtdmniv/Crd2/QdSVwdX8190UMl/q77BfWyBCSi0ebmu9ghphqhQFZNYwzpbd9IiDcRioplgY+PpBUdB4Vw5f5aO1crgP/wD2/qLeKyljkGfjTlZ40gSTIaM3L1nKb9nA+aaQg5mX4o9PMInD3wZW8wFQFKlQZ2RLsJPa9Yw1ethk+5KNvpXgk7LeCwdR2qSBzpFAenm4tt5s+ijJFQ6UrJE+5iNpzvqqcubIpWRSW+vzBeKnwOVRG3fy2QmR2ivXM/6zp8zYq2k2LWP/EgXrWnLKAkeJiWpeb7yq6zv+And1nk8nfVpjL5R/nH4a9xStJWH+1dyaVkXZm2Meu92/m38S6jkBA/kf4tFF1mZV+4/flCOHhXW2dSUuILvvPNtt7iTkymOfOcxfvhAFiGtDYNFS7FhDI13EhwOVDoNl3X+gqXDT7Ge53iB9VSahugI5aNXxzFqE0jA5xftQhOPCAtxakostXCiA+cYnZ0iP+fOO8XaVKdDsXQUzoXzZunIssS2lnQeaKkhEFNTbRug3ZVDtjXMX47WYNbGqEsbo7bzGSIqE5d1/YqYSs/3ax4gllTz0UvGqLKNiRUKnn0WO3Ad27gOiEk6DmWtpXJqDzFJR7tzBav7H6LIe4gDOZehTUVR51xBZdoWVH4vvZkrOdCch8ct86+efyQz1EtS0rCu6UnhB/EeAODhun/naOZqzDE3tzd/lRuPfIcpfTY5kV7+uf1TuA25DFpqGJHy0ahSFNi8qFUyZFUSueZLjEfTmKPKojH/+CoJjI4KM+EjHxEh6drac+qpKalV1H19PdeGD7D9hRGisomOYRO1JSpwuUhlZbGx4ktMmgoo9MdhDCIaC1dVt1GT4UKvSZBMqdBMTYrxqFRQWMikrZTxVpFUPd2uJ5kU3UvXrTuz4CgonCvnTXS8ET337J6PSgfVaWMcnszlyb7j61jfMb+JTcYvkHFolFuO/BuTmiz+reSPeDXZXFPfRmW2H6Rj2b6xmAib3H03eDwkC0tY2P8CAH/I+ydey7yZRelv8IX2uyifakJGosh7iKer/wk5qqXYvQ+bOo3EyAQ2lYvfLPgVMipW9z/Ea6WfJDvYQ3agi2b7hfiDBrqi6Vxj2cQ/2n/GZHYdY+YyPtL2farcO/lDw39xuDOLmgwXnoiRy8o7+cyifYAJG3EqOCY4siyiXVNTwilyxRXveI4i2axc/d+ruHrO72n6zav8MPEpoo1z0O95U5SY2Gzszr+WbBm+WfkGWvUJrSdkGVXIK8a1YIHIsLRYGGmRKC8XyZaVlWLG1d4unp+YGHg61Gr1zMqVaqU5scJZct6mV2Z1Brdf8AbOJWW4PCoefVyFJhKkwOKh2BmiIWtcRKhcNm6N/A5LfRH2fAt6dYL6rAlU0mmGFYuJ0oNjvRPk8Qnu7b+c/WN5JFMSNaObkdMzKE11cl3b9xiw1fPA3B+TnPTS2mvgsfBVrM1toTwvxJ9b60ikVNh0USZCZlYU9rO1v5hY8rgOS8hkmYPUZk6QTEpk6b1sGqxiKmLkQ+WtZMWH+Gb1nylvMJ5a6DRwLBV56VJRbn267OZzxeUi8tRGvrHrGg50WnGEBiiaPIC98AzNdWRZJA7G41BURKJxIZMeFSqVMMTuukssb/X668InP22QffrT796QFRSmOW+WjkoFzgVFHO408NJLItJ87YJBct0tM5mvvVNp1Ga7WbMiC6veB/jeeqM63fH+DZKElJ3FnVn7CEWb8SeMPN1WxZbeUlr08/DNdfLxQ19nXsfjPJT2Bf45/lmG9LlsHl3IqyMqnKYglQ43gZgOs26KTT0ivH99XQsqSSbDGKbfm0an28H2gULUkkw4UYLTFGRFTheG0CQL6nyUry0VWcxFRSKRcHxcXMkWi2hAc+WV7/7BdToxfHoD19eC/DjY43p2PVWEaUgCjQaLLk6xzYOapPghXC7xb2kp8rz5dByVsFqFFlVVCZeOzSaMstWrz8+QFRSmOX/RK52OnYctvPSS0JhbboG0aCZs08DICDG1gYScwaXl3Vj1sdNvI3nsopEkcaeemhLlCCdMUyTXBOa+PswZGdw510NVhptHDjfwVOAKdI4ebh77JVXxFkqTB/hIQxuN6hT7B52sSjuMyWkCrRZZhpe7y7FpI9TLLaDWgCmdLHOQRXlizeZkSsIX1WOXPRAIcNi8hNq7FsBlWlEG/+qrYo5it4uCpFtvPXkd3PPAqlUidybgSSd4pJ8G33a89iK6fFl09aiosruEc8Zuh8ZG5JxchkckTCb43OdEixC7XdwQGhvhxz9WolQK55/zNr2CfGCQ5cvh0kuPvSjLIgPY76evK4E9PMz/u/4AJsMx30MqJaqntVrh1ezuFleBzSacDdnZoibKZhNXiyyLJryNjUKUenuhsJDBAZlHJ9fgitv5/KHPUhg8yjNld/G4/lbK5S5RFWo0isxkg0FMO6xWIWp2u/h/NCrqmYJB8X+jUSQbTkzgza3GnT+Xf/8PSfT2mV4h85VXRHbdihWzXmodnAhhuu/nSAf2s7mjgLuDt9NwoRNpeIhkRhYeaxETE8JQvPZa4dd+p/T391NyrK6kt7dXKYNQOCvO25Wh18M114iSpmm8PomUoxxdDnijYa5R78c03ClCJLIsBMXpFHdnv1/Y/vn5IuR82WXC0XDffUIMRkeFONXWwle/KgTrt7+Fl16ioLSUr6oeQranE2r8EAxWoLPNJ7gljtxQhNRQL8Rs1y6xL6NRlEGUlMCiRcIpu2+f2AcIp2soBG43slbHkLqI+nLpeIW1RiN6QFxyyVm273v3MWea4K6vwMGDlGzuxbS7jDGVmYA9l3AAMvRCV2+44YSbwDskmUwyfc9SyiAUzpbzJjo63UxBOSA05ehR0dnP7YbLLzdySW0DPLBZZORGIsLK+OpXxXRKlkXd1nT28fTF/M//LLydLpfwm6jVx5PsbrpJ7LS2FtWOHfDii1gDo7BoEfX9XdhMZXiLGrHbrKIOatEq9DrRkEvq7SGYUUhfr4lEwoQmYxWO0EHSrQl0q5cS8wQIHepiKJGNLS+NCy44zVTkPRKcGYxGWLqUggVLcf6TOM55eUIP584VxmJxsdJcS+G9ZVbmAPG4EJz8fBE5HhkRUWSrdRlMDYgWptGoCI9XVp66gRMv5mnz4sT02WkyM2HtWvH8+utFqfkvfgFTUxRMDVBZvoa9LgtTCWFI6fV6fD7Q6QyoNPPwD4pgU1kZdHRYGMtcQm9YwndIjcmkx1rtoDJH4vbb398rUGi18JWvCFHMzDzevnR6dU0FhfeS85gcKP4dGBB33Lo60Z9l2bIT3yUJe7+oSCjRmjXv7iBWrBAVi089hVRUxB3/UkLxUYkjR0QR46pVxyoBTKLc6fBh4e+YLmwcGtLg84kuF1lZUF4ukZFxdmtsv9ec0sJDQeF9wnkTnVRKtM9JTxfNui+44AxLAkvSXyvRu4dKJRbK7uiApUvJXlzEx84QUFq1SvQca2g4/rf8fPGYbpWhoKDwzjlvomOxiP4rNTVCcN4zP0J6OnznO8KceQsMBjG1UlBQOL+cN9HRauEznzlfW3+bKKu9nRdOLH1QyiAUzhalb7/COVNUVMS7nOal8H8AJf9UQUFhVlFER0FBYVZRREfhnBkaGkKtVqNWq4+Vvigo/G0Un47COROLxUilUjPPFRTOBsXSUVBQmFUU0VFQUJhVFNFRUFCYVRTRUVBQmFUU0VFQUJhVFNFRUFCYVZSQucI5U1paqpRBKLxtFEtHQUFhVlFER0FBYVZRREfhnBkaGkKj0aDRaJQyCIWzRvHpKJwzsVhsZhUIpQxC4WxRLB0FBYVZRREdBQWFWUURHQUFhVlFER0FBYVZRREdBQWFWUURHQUFhVlFCZkrnDNKGYTCuaBYOgoKCrOKIjoKCgqziiI6CufM6Ogoer0evV7P6Ojoez0chQ8Iik9H4ZwJh8Mz5Q/hcPg9Ho3CBwXF0lFQUJhVFNFRUFCYVRTRUVBQmFUU0VFQUJhVFNFRUFCYVd5R9GpkZISRkZGT/jY2NjbzWkFBwTvZvML7nOkGXgArVqxArVa/h6NRmG1ycnLYu3fv2/+g/A749re/LQPKQ3koj/+Dj9zc3HPSDUl+B8Uzp7N0li9fTiwWQ6PRkJ2dfa6bPq/E43HGx8fJyspCq9W+18M5Ix+EcX4QxggfjHF+EMYIx8dZW1vLkSNH3v4G3omlczqamppkQG5qanq3N/2u8UEYoyx/MMb5QRijLH8wxvlBGKMsv/NxKo5kBQWFWUURHQUFhVlFER0FBYVZ5V0XndzcXL797W+Tm5v7bm/6XeODMEb4YIzzgzBG+GCM84MwRnjn43xH0SsFBQWFt4syvVJQUJhVFNFRUFCYVRTRUVBQmFUU0VFQUJhVFNFRUFCYVRTRUVBQmFUU0VFQUJhVFNFRUFCYVRTRUVBQmFUU0VFQUJhVFNFRUFCYVRTRUVBQmFUU0VFQUJhV/n9s38GOCnel7QAAAABJRU5ErkJggg==' width=285.0/>\n",
       "            </div>\n",
       "        "
      ],
      "text/plain": [
       "Canvas(toolbar=Toolbar(toolitems=[('Home', 'Reset original view', 'home', 'home'), ('Back', 'Back to previous …"
      ]
     },
     "metadata": {},
     "output_type": "display_data"
    }
   ],
   "source": [
    "imsavepath = '/home/liam/temp/image_transfer/figure7_A_starts.png'\n",
    "\n",
    "fig = plt.figure(figsize=(2.85,1.75))\n",
    "gs = fig.add_gridspec(nrows=1, ncols=1, hspace=0)\n",
    "axs = gs.subplots(sharex=False, sharey=False)\n",
    "ax= axs\n",
    "\n",
    "# create xvalues for plotting\n",
    "x_vals_frames = np.array( [i*window_step for i in range(combined_numUsedWins)]) \n",
    "\n",
    "\n",
    "# plot the mean across trials\n",
    "for stateIdx in [0,1,2]:\n",
    "    \n",
    "    # make the left and rights thicker for each axis\n",
    "    #for axis in ['left','right']:\n",
    "    for axis in ['left', 'right']:\n",
    "        ax.spines[axis].set_linewidth(2)\n",
    "    for axis in ['right']:\n",
    "        ax.spines[axis].set_visible(False)\n",
    "    \n",
    "    # fill between the stdev lines\n",
    "    max_curve = start_epoch_mean_win_state_probs[:, stateIdx] + start_epoch_stdevs[:, stateIdx]\n",
    "    min_curve = start_epoch_mean_win_state_probs[:, stateIdx] - start_epoch_stdevs[:, stateIdx]\n",
    "    ax.fill_between(x_vals_frames, y1=min_curve, y2=max_curve, color=combined_colors[stateIdx], alpha=0.5)\n",
    "\n",
    "    # plot the mean\n",
    "    ax.plot(x_vals_frames, start_epoch_mean_win_state_probs[:, stateIdx], color=combined_colors[stateIdx], linewidth=1)\n",
    "    \n",
    "    # xticks\n",
    "    ax.set_xticks([]);\n",
    "    ax.set_xticklabels([]);\n",
    "    \n",
    "    # plot the dividing line between epochs\n",
    "    ax.axvline(np.mean(x_vals_frames), color='black', linestyle='--')\n",
    "    \n",
    "    # plot limits\n",
    "    ax.set_xlim(x_vals_frames[0], x_vals_frames[-1])\n",
    "    #ax.set_ylim(bottom=0, top=states_y_max[stateIdx])\n",
    "    \n",
    "     # axes labels\n",
    "    ax.set_ylabel(all_state_names[stateIdx]+'\\n prob')\n",
    "        \n",
    "    # tick params\n",
    "    ax.xaxis.set_tick_params(width=1, length=4)\n",
    "    ax.yaxis.set_tick_params(width=1, length=4)\n",
    "\n",
    "    # set the gridlines\n",
    "    #ax.grid(alpha=0.3)\n",
    "    #ax.axhline(y=0, color='grey', alpha=0.3)\n",
    "    #ax.axhline(y=states_y_tick_max[stateIdx], color='grey', alpha=0.2)\n",
    "    \n",
    "    ## EXTRAS TURN OFF PLOT ILLUSTRATOR VERSION ####\n",
    "    ax.set_yticklabels([])\n",
    "    ax.set_xticklabels([])\n",
    "    ax.set_xlabel('')\n",
    "    ax.set_ylabel('')\n",
    "    \n",
    "    \n",
    "\n",
    "\n",
    "    \n",
    "# ----------------------------------------------------#\n",
    "\n",
    "# xticks\n",
    "xticks = np.array([i*6000 for i in range(int(total_plot_time_mins*2)+1)]) #*2 because of concatenated 2 epochs\n",
    "xticklabels = [i for i in range(-total_plot_time_mins, total_plot_time_mins+1)]\n",
    "ax.set_xticks(xticks);\n",
    "\n",
    "# set the yticks\n",
    "#yticks = [0, states_y_tick_max[2], states_y_tick_max[3]]\n",
    "#ax.set_yticks(yticks)\n",
    "\n",
    "# set the yticks\n",
    "ax.set_ylim(bottom=0, top=np.max(states_y_max))\n",
    "ax.set_yticks([0, np.max(states_y_max)])\n",
    "\n",
    "#ax.set_yticks(yticks)\n",
    "ax.set_yticklabels('')\n",
    "\n",
    "\n",
    "# make the very top and very bottoms lines thicker\n",
    "#ax = axs[0]\n",
    "for axis in ['top']:\n",
    "    ax.spines[axis].set_linewidth(2)\n",
    "#ax = axs[-1]\n",
    "for axis in ['bottom']:\n",
    "    ax.spines[axis].set_linewidth(2)\n",
    "\n",
    "\n",
    "\n",
    "\n",
    "# ----------------------------#\n",
    "fig.tight_layout()\n",
    "fig.savefig(imsavepath, dpi=300, transparent=False)"
   ]
  },
  {
   "cell_type": "code",
   "execution_count": 182,
   "id": "8a4b1049-6057-4759-94ad-3363e372992e",
   "metadata": {},
   "outputs": [
    {
     "data": {
      "text/plain": [
       "0.42"
      ]
     },
     "execution_count": 182,
     "metadata": {},
     "output_type": "execute_result"
    }
   ],
   "source": [
    "np.max(states_y_tick_max)"
   ]
  },
  {
   "cell_type": "code",
   "execution_count": 183,
   "id": "2719e52a-67b9-45f0-986f-6b309abe9395",
   "metadata": {},
   "outputs": [
    {
     "data": {
      "text/plain": [
       "array([0.39, 0.42, 0.38])"
      ]
     },
     "execution_count": 183,
     "metadata": {},
     "output_type": "execute_result"
    }
   ],
   "source": [
    "states_y_tick_max"
   ]
  },
  {
   "cell_type": "code",
   "execution_count": 184,
   "id": "0f70114a-8188-4d15-b334-bc93737d968a",
   "metadata": {},
   "outputs": [
    {
     "data": {
      "text/plain": [
       "array([0.468, 0.504, 0.456])"
      ]
     },
     "execution_count": 184,
     "metadata": {},
     "output_type": "execute_result"
    }
   ],
   "source": [
    "states_y_max"
   ]
  },
  {
   "cell_type": "code",
   "execution_count": null,
   "id": "f8eba9f4-830f-47f1-990c-f725197e00e2",
   "metadata": {},
   "outputs": [],
   "source": []
  },
  {
   "cell_type": "code",
   "execution_count": 189,
   "id": "45526f72-24a3-4efe-81d4-6718d1e3ad61",
   "metadata": {},
   "outputs": [
    {
     "data": {
      "application/vnd.jupyter.widget-view+json": {
       "model_id": "f58175370ed64f1cbbf29d1e81dd33a7",
       "version_major": 2,
       "version_minor": 0
      },
      "text/html": [
       "\n",
       "            <div style=\"display: inline-block;\">\n",
       "                <div class=\"jupyter-widgets widget-label\" style=\"text-align: center;\">\n",
       "                    Figure\n",
       "                </div>\n",
       "                <img src='data:image/png;base64,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' width=285.0/>\n",
       "            </div>\n",
       "        "
      ],
      "text/plain": [
       "Canvas(toolbar=Toolbar(toolitems=[('Home', 'Reset original view', 'home', 'home'), ('Back', 'Back to previous …"
      ]
     },
     "metadata": {},
     "output_type": "display_data"
    }
   ],
   "source": [
    "imsavepath = '/home/liam/temp/image_transfer/figure7_A_stops.png'\n",
    "\n",
    "fig = plt.figure(figsize=(2.85,1.75))\n",
    "gs = fig.add_gridspec(nrows=1, ncols=1, hspace=0)\n",
    "axs = gs.subplots(sharex=False, sharey=False)\n",
    "ax= axs\n",
    "\n",
    "# create xvalues for plotting\n",
    "x_vals_frames = np.array( [i*window_step for i in range(combined_numUsedWins)]) \n",
    "\n",
    "\n",
    "# plot the mean across trials\n",
    "for stateIdx in [0,1,2]:\n",
    "    \n",
    "    # make the left and rights thicker for each axis\n",
    "    #for axis in ['left','right']:\n",
    "    for axis in ['left', 'right']:\n",
    "        ax.spines[axis].set_linewidth(2)\n",
    "    for axis in ['left']:\n",
    "        ax.spines[axis].set_visible(False)\n",
    "    \n",
    "    # fill between the stdev lines\n",
    "    max_curve = stop_epoch_mean_win_state_probs[:, stateIdx] + stop_epoch_stdevs[:, stateIdx]\n",
    "    min_curve = stop_epoch_mean_win_state_probs[:, stateIdx] - stop_epoch_stdevs[:, stateIdx]\n",
    "    ax.fill_between(x_vals_frames, y1=min_curve, y2=max_curve, color=combined_colors[stateIdx], alpha=0.5)\n",
    "\n",
    "    # plot the mean\n",
    "    ax.plot(x_vals_frames, stop_epoch_mean_win_state_probs[:, stateIdx], color=combined_colors[stateIdx], linewidth=1)\n",
    "    \n",
    "    # xticks\n",
    "    ax.set_xticks([]);\n",
    "    ax.set_xticklabels([]);\n",
    "    \n",
    "    # plot the dividing line between epochs\n",
    "    ax.axvline(np.mean(x_vals_frames), color='black', linestyle='--')\n",
    "    \n",
    "    # plot limits\n",
    "    ax.set_xlim(x_vals_frames[0], x_vals_frames[-1])\n",
    "    ax.set_ylim(bottom=0, top=states_y_max[stateIdx])\n",
    "    \n",
    "     # axes labels\n",
    "    ax.set_ylabel(all_state_names[stateIdx]+'\\n prob')\n",
    "        \n",
    "    # tick params\n",
    "    ax.xaxis.set_tick_params(width=1, length=4)\n",
    "    ax.yaxis.set_tick_params(width=0, length=4)\n",
    "\n",
    "    # set the gridlines\n",
    "    #ax.grid(alpha=0.3)\n",
    "    #ax.axhline(y=0, color='grey', alpha=0.3)\n",
    "    #ax.axhline(y=states_y_tick_max[stateIdx], color='grey', alpha=0.2)\n",
    "    \n",
    "    ## EXTRAS TURN OFF PLOT ILLUSTRATOR VERSION ####\n",
    "    ax.set_yticklabels([])\n",
    "    ax.set_xticklabels([])\n",
    "    ax.set_xlabel('')\n",
    "    ax.set_ylabel('')\n",
    "    \n",
    "    \n",
    "\n",
    "\n",
    "    \n",
    "# ----------------------------------------------------#\n",
    "\n",
    "# xticks\n",
    "xticks = np.array([i*6000 for i in range(int(total_plot_time_mins*2)+1)]) #*2 because of concatenated 2 epochs\n",
    "xticklabels = [i for i in range(-total_plot_time_mins, total_plot_time_mins+1)]\n",
    "ax.set_xticks(xticks);\n",
    "\n",
    "# set the yticks\n",
    "#yticks = [0, states_y_tick_max[2], states_y_tick_max[3]]\n",
    "#ax.set_yticks(yticks)\n",
    "\n",
    "# set the yticks\n",
    "ax.set_ylim(bottom=0, top=np.max(states_y_max))\n",
    "ax.set_yticks([0, np.max(states_y_max)])\n",
    "\n",
    "#ax.set_yticks(yticks)\n",
    "ax.set_yticklabels('')\n",
    "\n",
    "\n",
    "# make the very top and very bottoms lines thicker\n",
    "#ax = axs[0]\n",
    "for axis in ['top']:\n",
    "    ax.spines[axis].set_linewidth(2)\n",
    "#ax = axs[-1]\n",
    "for axis in ['bottom']:\n",
    "    ax.spines[axis].set_linewidth(2)\n",
    "\n",
    "\n",
    "\n",
    "\n",
    "# ----------------------------#\n",
    "fig.tight_layout()\n",
    "fig.savefig(imsavepath, dpi=300, transparent=False)"
   ]
  },
  {
   "cell_type": "code",
   "execution_count": 190,
   "id": "c6b81281-c24f-42fa-81b0-b239176353fd",
   "metadata": {},
   "outputs": [
    {
     "data": {
      "text/plain": [
       "0.504"
      ]
     },
     "execution_count": 190,
     "metadata": {},
     "output_type": "execute_result"
    }
   ],
   "source": [
    "np.max(states_y_max)"
   ]
  },
  {
   "cell_type": "code",
   "execution_count": null,
   "id": "772fa996-5f5e-4247-ac61-ccc5039cdd5b",
   "metadata": {},
   "outputs": [],
   "source": []
  },
  {
   "cell_type": "code",
   "execution_count": null,
   "id": "9daae929-91e3-43f2-8052-3c37006bcef5",
   "metadata": {},
   "outputs": [],
   "source": []
  },
  {
   "cell_type": "code",
   "execution_count": null,
   "id": "e1ae9085-417d-48de-949a-098677fe1ca2",
   "metadata": {},
   "outputs": [],
   "source": []
  }
 ],
 "metadata": {
  "kernelspec": {
   "display_name": "analysis",
   "language": "python",
   "name": "analysis"
  },
  "language_info": {
   "codemirror_mode": {
    "name": "ipython",
    "version": 3
   },
   "file_extension": ".py",
   "mimetype": "text/x-python",
   "name": "python",
   "nbconvert_exporter": "python",
   "pygments_lexer": "ipython3",
   "version": "3.9.7"
  }
 },
 "nbformat": 4,
 "nbformat_minor": 5
}

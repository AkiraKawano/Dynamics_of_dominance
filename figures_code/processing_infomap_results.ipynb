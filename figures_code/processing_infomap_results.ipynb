{
 "cells": [
  {
   "cell_type": "code",
   "execution_count": null,
   "id": "ace46984-04d1-45dd-8fb0-79584c01c00e",
   "metadata": {},
   "outputs": [],
   "source": []
  },
  {
   "cell_type": "markdown",
   "id": "71cb5e6b-ec4e-4db0-a195-72eb59407ca6",
   "metadata": {},
   "source": [
    "# concept"
   ]
  },
  {
   "cell_type": "markdown",
   "id": "04460e2a-92bf-4b77-9842-ad1a7e1df44c",
   "metadata": {},
   "source": [
    "After applying infomap to the transition matrix, we want to get tracking results in the form of infomap cluster timeseries\n"
   ]
  },
  {
   "cell_type": "code",
   "execution_count": null,
   "id": "29763450-7b73-4950-8988-18969dfc6901",
   "metadata": {},
   "outputs": [],
   "source": []
  },
  {
   "cell_type": "markdown",
   "id": "93f4fd28-4f3f-4d73-886e-1342faa55036",
   "metadata": {},
   "source": [
    "# imports "
   ]
  },
  {
   "cell_type": "code",
   "execution_count": 2,
   "id": "2a54029e-55f1-4e59-99a6-56b13862fb8e",
   "metadata": {},
   "outputs": [
    {
     "name": "stdout",
     "output_type": "stream",
     "text": [
      "The autoreload extension is already loaded. To reload it, use:\n",
      "  %reload_ext autoreload\n"
     ]
    }
   ],
   "source": [
    "import numpy as np\n",
    "np.set_printoptions(suppress=True)\n",
    "import h5py\n",
    "import pandas as pd\n",
    "import time\n",
    "import glob\n",
    "import matplotlib.pyplot as plt\n",
    "import matplotlib.patches as mpatches\n",
    "import seaborn as sns\n",
    "import img2pdf\n",
    "import os\n",
    "import sys\n",
    "%matplotlib widget\n",
    "%load_ext autoreload\n",
    "%autoreload 2\n",
    "\n",
    "# --- import functions for computing kinematic variables --- #\n",
    "sys.path.append('../tracking_code/lib/')\n",
    "sys.path.append('./lib/')\n",
    "\n",
    "from tracking import contiguous_regions\n",
    "\n",
    "# adding the infomap libs\n",
    "from infomap_utils import make_dictionary_of_state_numberings, find_binIdxs_for_timeseries\n",
    "from infomap_utils import build_transition_matrix, apply_infomap_clustering_to_transition_matrix\n",
    "from infomap_utils import make_binTuple_to_clusterIdx_dict"
   ]
  },
  {
   "cell_type": "code",
   "execution_count": null,
   "id": "6c7083dd-b381-458d-8098-c85ad4414491",
   "metadata": {},
   "outputs": [],
   "source": []
  },
  {
   "cell_type": "markdown",
   "id": "97aca4c7-6242-4650-86d2-5bd236e30513",
   "metadata": {},
   "source": [
    "# load the tracking data"
   ]
  },
  {
   "cell_type": "code",
   "execution_count": null,
   "id": "a801f802-708e-46ad-b624-f54528e9ba60",
   "metadata": {},
   "outputs": [],
   "source": []
  },
  {
   "cell_type": "code",
   "execution_count": 4,
   "id": "1a230372-ee0f-4866-8599-ae624503ce04",
   "metadata": {},
   "outputs": [],
   "source": [
    "main_load_folder = '/media/liam/hd1/fighting_data/tracking_results/'\n",
    "\n",
    "# ----------------------#\n",
    "\n",
    "interp_polyOrd=1  # the order of the polynomial used for interpolation\n",
    "interp_limit=5    # the maximum number of frames to interpolate over\n",
    "savgol_win=9      # the number of frames for the Savitzky-Golay filter\n",
    "savgol_ord=2      # the polynomial order for the Savitzky-Golay filter\n",
    "dt=0.01           # the frame rate of the recording\n",
    "\n",
    "\n",
    "# the filepaths for loading the infomap timeseries data we need\n",
    "infomap_data_loadpath = os.path.join( os.path.dirname(os.path.dirname(main_load_folder)) , \n",
    "                                      'infomap_data/transmat_and_infomap.h5')\n",
    "\n",
    "# the path for loading the fightbout info\n",
    "fightBouts_info_path = os.path.join(main_load_folder, 'fightBouts.h5')\n",
    "\n",
    "\n",
    "# -----------------------#\n",
    "\n",
    "loadpaths = glob.glob(os.path.join(main_load_folder, '*results.h5'))\n",
    "loadpaths.sort()\n",
    "\n",
    "# parse the exp names\n",
    "expNames = [path.split('/')[-1][:23] for path in loadpaths]\n",
    "\n",
    "\n",
    "raw_trajectories = []\n",
    "for path in loadpaths:\n",
    "    with h5py.File(path, 'r') as hf:\n",
    "        tracks_3D_raw = hf['tracks_3D_raw'][:]\n",
    "    raw_trajectories.append(tracks_3D_raw)\n",
    "\n",
    "smooth_trajectories = []\n",
    "for path in loadpaths:\n",
    "    with h5py.File(path, 'r') as hf:\n",
    "        tracks_3D_smooth = hf['tracks_3D_smooth'][:]\n",
    "    smooth_trajectories.append(tracks_3D_smooth)\n",
    "    \n",
    "    \n",
    "# create a list of the number of frames in each experiment\n",
    "expNumFrames = []\n",
    "for expIdx in range(len(expNames)):\n",
    "    nfs = smooth_trajectories[expIdx].shape[0]\n",
    "    expNumFrames.append(nfs)\n",
    "    \n",
    "# -----------------------------#\n",
    "# load other useful information\n",
    "    \n",
    "other_info_loadpath = os.path.join(main_load_folder, 'winners_losers_inconclusive.h5')\n",
    "with h5py.File(other_info_loadpath, 'r') as hf:\n",
    "    winner_idxs = hf['winner_idxs'][:]\n",
    "    loser_idxs = hf['loser_idxs'][:]\n",
    "    conclusive_winner_loser = hf['conclusive_winner_loser'][:]\n",
    "    already_established_dominance = hf['already_established_dominance'][:]\n",
    "\n",
    "\n",
    "with h5py.File(fightBouts_info_path, 'r') as hf:\n",
    "    fight_bout_info = hf['fight_bout_info'][:]\n",
    "    fight_bout_info_noDurThresh = hf['fight_bout_info_noDurThresh'][:]\n",
    "    \n",
    "    \n",
    "    \n"
   ]
  },
  {
   "cell_type": "code",
   "execution_count": null,
   "id": "922bbd39-a383-456b-bccb-c17bc1600310",
   "metadata": {},
   "outputs": [],
   "source": []
  },
  {
   "cell_type": "code",
   "execution_count": null,
   "id": "1719d453-25d6-4d9a-8843-df050137c9ef",
   "metadata": {},
   "outputs": [],
   "source": []
  },
  {
   "cell_type": "code",
   "execution_count": null,
   "id": "dd041b9d-c488-4f06-9f49-7db76b04a9cb",
   "metadata": {},
   "outputs": [],
   "source": []
  },
  {
   "cell_type": "markdown",
   "id": "9597ec1b-50c0-40d0-b96e-c2b048e42180",
   "metadata": {},
   "source": [
    "# Compute kin vars for all experiments"
   ]
  },
  {
   "cell_type": "code",
   "execution_count": null,
   "id": "fabc84f5-d480-4dd1-b568-3efa033bac7a",
   "metadata": {},
   "outputs": [],
   "source": []
  },
  {
   "cell_type": "code",
   "execution_count": 5,
   "id": "46529b2d-0466-4dc2-8f07-87918445b5ae",
   "metadata": {},
   "outputs": [],
   "source": [
    "from kinematics import compute_pec_pec_distance, compute_thetaW_and_thetaL\n",
    "from kinematics import compute_signed_pec_z_difference, compute_phi_dot_from_raw_trajectories, compute_coordinate_origin_z\n",
    "from kinematics import compute_pec_pec_distance_dot, compute_coordinate_origin_z_dot"
   ]
  },
  {
   "cell_type": "code",
   "execution_count": null,
   "id": "c2b36dce-0163-48df-9425-2294d877c3cf",
   "metadata": {},
   "outputs": [],
   "source": []
  },
  {
   "cell_type": "code",
   "execution_count": 6,
   "id": "ac60c294-ad96-4a95-8f60-9f4da556538e",
   "metadata": {},
   "outputs": [],
   "source": [
    "interp_polyOrd=1  # the order of the polynomial used for interpolation\n",
    "interp_limit=5    # the maximum number of frames to interpolate over\n",
    "savgol_win=9      # the number of frames for the Savitzky-Golay filter\n",
    "savgol_ord=2      # the polynomial order for the Savitzky-Golay filter\n",
    "dt=0.01           # the frame rate of the recording"
   ]
  },
  {
   "cell_type": "code",
   "execution_count": null,
   "id": "7b99cd59-da77-4cc4-b182-4f9cd30a3ac5",
   "metadata": {},
   "outputs": [],
   "source": []
  },
  {
   "cell_type": "code",
   "execution_count": 7,
   "id": "6ae8c83c-a979-4fa7-82b2-e810a97d97a1",
   "metadata": {},
   "outputs": [
    {
     "name": "stdout",
     "output_type": "stream",
     "text": [
      "FishTank20200127_143538\n"
     ]
    },
    {
     "name": "stderr",
     "output_type": "stream",
     "text": [
      "/home/liam/code/Dynamics_of_dominance/figures_code/../tracking_code/lib/kinematics.py:218: RuntimeWarning: invalid value encountered in true_divide\n",
      "  winnerPec_to_loserPec = winnerPec_to_loserPec / row_norms[:, np.newaxis]\n"
     ]
    },
    {
     "name": "stdout",
     "output_type": "stream",
     "text": [
      "FishTank20200129_140656\n"
     ]
    },
    {
     "name": "stderr",
     "output_type": "stream",
     "text": [
      "/home/liam/code/Dynamics_of_dominance/figures_code/../tracking_code/lib/kinematics.py:218: RuntimeWarning: invalid value encountered in true_divide\n",
      "  winnerPec_to_loserPec = winnerPec_to_loserPec / row_norms[:, np.newaxis]\n"
     ]
    },
    {
     "name": "stdout",
     "output_type": "stream",
     "text": [
      "FishTank20200130_153857\n"
     ]
    },
    {
     "name": "stderr",
     "output_type": "stream",
     "text": [
      "/home/liam/code/Dynamics_of_dominance/figures_code/../tracking_code/lib/kinematics.py:218: RuntimeWarning: invalid value encountered in true_divide\n",
      "  winnerPec_to_loserPec = winnerPec_to_loserPec / row_norms[:, np.newaxis]\n"
     ]
    },
    {
     "name": "stdout",
     "output_type": "stream",
     "text": [
      "FishTank20200130_181614\n"
     ]
    },
    {
     "name": "stderr",
     "output_type": "stream",
     "text": [
      "/home/liam/code/Dynamics_of_dominance/figures_code/../tracking_code/lib/kinematics.py:218: RuntimeWarning: invalid value encountered in true_divide\n",
      "  winnerPec_to_loserPec = winnerPec_to_loserPec / row_norms[:, np.newaxis]\n"
     ]
    },
    {
     "name": "stdout",
     "output_type": "stream",
     "text": [
      "FishTank20200207_161445\n"
     ]
    },
    {
     "name": "stderr",
     "output_type": "stream",
     "text": [
      "/home/liam/code/Dynamics_of_dominance/figures_code/../tracking_code/lib/kinematics.py:218: RuntimeWarning: invalid value encountered in true_divide\n",
      "  winnerPec_to_loserPec = winnerPec_to_loserPec / row_norms[:, np.newaxis]\n"
     ]
    },
    {
     "name": "stdout",
     "output_type": "stream",
     "text": [
      "FishTank20200213_154940\n"
     ]
    },
    {
     "name": "stderr",
     "output_type": "stream",
     "text": [
      "/home/liam/code/Dynamics_of_dominance/figures_code/../tracking_code/lib/kinematics.py:218: RuntimeWarning: invalid value encountered in true_divide\n",
      "  winnerPec_to_loserPec = winnerPec_to_loserPec / row_norms[:, np.newaxis]\n"
     ]
    },
    {
     "name": "stdout",
     "output_type": "stream",
     "text": [
      "FishTank20200214_153519\n"
     ]
    },
    {
     "name": "stderr",
     "output_type": "stream",
     "text": [
      "/home/liam/code/Dynamics_of_dominance/figures_code/../tracking_code/lib/kinematics.py:218: RuntimeWarning: invalid value encountered in true_divide\n",
      "  winnerPec_to_loserPec = winnerPec_to_loserPec / row_norms[:, np.newaxis]\n"
     ]
    },
    {
     "name": "stdout",
     "output_type": "stream",
     "text": [
      "FishTank20200217_160052\n"
     ]
    },
    {
     "name": "stderr",
     "output_type": "stream",
     "text": [
      "/home/liam/code/Dynamics_of_dominance/figures_code/../tracking_code/lib/kinematics.py:218: RuntimeWarning: invalid value encountered in true_divide\n",
      "  winnerPec_to_loserPec = winnerPec_to_loserPec / row_norms[:, np.newaxis]\n"
     ]
    },
    {
     "name": "stdout",
     "output_type": "stream",
     "text": [
      "FishTank20200218_153008\n"
     ]
    },
    {
     "name": "stderr",
     "output_type": "stream",
     "text": [
      "/home/liam/code/Dynamics_of_dominance/figures_code/../tracking_code/lib/kinematics.py:218: RuntimeWarning: invalid value encountered in true_divide\n",
      "  winnerPec_to_loserPec = winnerPec_to_loserPec / row_norms[:, np.newaxis]\n"
     ]
    },
    {
     "name": "stdout",
     "output_type": "stream",
     "text": [
      "FishTank20200316_163320\n"
     ]
    },
    {
     "name": "stderr",
     "output_type": "stream",
     "text": [
      "/home/liam/code/Dynamics_of_dominance/figures_code/../tracking_code/lib/kinematics.py:218: RuntimeWarning: invalid value encountered in true_divide\n",
      "  winnerPec_to_loserPec = winnerPec_to_loserPec / row_norms[:, np.newaxis]\n"
     ]
    },
    {
     "name": "stdout",
     "output_type": "stream",
     "text": [
      "FishTank20200327_154737\n"
     ]
    },
    {
     "name": "stderr",
     "output_type": "stream",
     "text": [
      "/home/liam/code/Dynamics_of_dominance/figures_code/../tracking_code/lib/kinematics.py:218: RuntimeWarning: invalid value encountered in true_divide\n",
      "  winnerPec_to_loserPec = winnerPec_to_loserPec / row_norms[:, np.newaxis]\n"
     ]
    },
    {
     "name": "stdout",
     "output_type": "stream",
     "text": [
      "FishTank20200330_161100\n"
     ]
    },
    {
     "name": "stderr",
     "output_type": "stream",
     "text": [
      "/home/liam/code/Dynamics_of_dominance/figures_code/../tracking_code/lib/kinematics.py:218: RuntimeWarning: invalid value encountered in true_divide\n",
      "  winnerPec_to_loserPec = winnerPec_to_loserPec / row_norms[:, np.newaxis]\n"
     ]
    },
    {
     "name": "stdout",
     "output_type": "stream",
     "text": [
      "FishTank20200331_162136\n"
     ]
    },
    {
     "name": "stderr",
     "output_type": "stream",
     "text": [
      "/home/liam/code/Dynamics_of_dominance/figures_code/../tracking_code/lib/kinematics.py:218: RuntimeWarning: invalid value encountered in true_divide\n",
      "  winnerPec_to_loserPec = winnerPec_to_loserPec / row_norms[:, np.newaxis]\n"
     ]
    },
    {
     "name": "stdout",
     "output_type": "stream",
     "text": [
      "FishTank20200520_152810\n"
     ]
    },
    {
     "name": "stderr",
     "output_type": "stream",
     "text": [
      "/home/liam/code/Dynamics_of_dominance/figures_code/../tracking_code/lib/kinematics.py:218: RuntimeWarning: invalid value encountered in true_divide\n",
      "  winnerPec_to_loserPec = winnerPec_to_loserPec / row_norms[:, np.newaxis]\n"
     ]
    },
    {
     "name": "stdout",
     "output_type": "stream",
     "text": [
      "FishTank20200521_154541\n"
     ]
    },
    {
     "name": "stderr",
     "output_type": "stream",
     "text": [
      "/home/liam/code/Dynamics_of_dominance/figures_code/../tracking_code/lib/kinematics.py:218: RuntimeWarning: invalid value encountered in true_divide\n",
      "  winnerPec_to_loserPec = winnerPec_to_loserPec / row_norms[:, np.newaxis]\n"
     ]
    },
    {
     "name": "stdout",
     "output_type": "stream",
     "text": [
      "FishTank20200525_161602\n"
     ]
    },
    {
     "name": "stderr",
     "output_type": "stream",
     "text": [
      "/home/liam/code/Dynamics_of_dominance/figures_code/../tracking_code/lib/kinematics.py:218: RuntimeWarning: invalid value encountered in true_divide\n",
      "  winnerPec_to_loserPec = winnerPec_to_loserPec / row_norms[:, np.newaxis]\n"
     ]
    },
    {
     "name": "stdout",
     "output_type": "stream",
     "text": [
      "FishTank20200526_160100\n"
     ]
    },
    {
     "name": "stderr",
     "output_type": "stream",
     "text": [
      "/home/liam/code/Dynamics_of_dominance/figures_code/../tracking_code/lib/kinematics.py:24: RuntimeWarning: invalid value encountered in true_divide\n",
      "  vec_ts = vec_ts / row_norms[:, np.newaxis]\n",
      "/home/liam/code/Dynamics_of_dominance/figures_code/../tracking_code/lib/kinematics.py:218: RuntimeWarning: invalid value encountered in true_divide\n",
      "  winnerPec_to_loserPec = winnerPec_to_loserPec / row_norms[:, np.newaxis]\n"
     ]
    },
    {
     "name": "stdout",
     "output_type": "stream",
     "text": [
      "FishTank20200527_152401\n",
      "FishTank20200824_151740\n"
     ]
    },
    {
     "name": "stderr",
     "output_type": "stream",
     "text": [
      "/home/liam/code/Dynamics_of_dominance/figures_code/../tracking_code/lib/kinematics.py:218: RuntimeWarning: invalid value encountered in true_divide\n",
      "  winnerPec_to_loserPec = winnerPec_to_loserPec / row_norms[:, np.newaxis]\n"
     ]
    },
    {
     "name": "stdout",
     "output_type": "stream",
     "text": [
      "FishTank20200828_155504\n"
     ]
    },
    {
     "name": "stderr",
     "output_type": "stream",
     "text": [
      "/home/liam/code/Dynamics_of_dominance/figures_code/../tracking_code/lib/kinematics.py:218: RuntimeWarning: invalid value encountered in true_divide\n",
      "  winnerPec_to_loserPec = winnerPec_to_loserPec / row_norms[:, np.newaxis]\n"
     ]
    },
    {
     "name": "stdout",
     "output_type": "stream",
     "text": [
      "FishTank20200902_160124\n"
     ]
    },
    {
     "name": "stderr",
     "output_type": "stream",
     "text": [
      "/home/liam/code/Dynamics_of_dominance/figures_code/../tracking_code/lib/kinematics.py:218: RuntimeWarning: invalid value encountered in true_divide\n",
      "  winnerPec_to_loserPec = winnerPec_to_loserPec / row_norms[:, np.newaxis]\n"
     ]
    },
    {
     "name": "stdout",
     "output_type": "stream",
     "text": [
      "FishTank20200903_160946\n"
     ]
    },
    {
     "name": "stderr",
     "output_type": "stream",
     "text": [
      "/home/liam/code/Dynamics_of_dominance/figures_code/../tracking_code/lib/kinematics.py:218: RuntimeWarning: invalid value encountered in true_divide\n",
      "  winnerPec_to_loserPec = winnerPec_to_loserPec / row_norms[:, np.newaxis]\n"
     ]
    },
    {
     "name": "stdout",
     "output_type": "stream",
     "text": [
      "\n",
      "finished: 19.444452458061278 s\n"
     ]
    }
   ],
   "source": [
    "t0 = time.perf_counter()\n",
    "\n",
    "exp_dpps = []\n",
    "exp_tetWs = []\n",
    "exp_tetLs = []\n",
    "\n",
    "exp_phi_dots = []\n",
    "exp_dpp_dots = []\n",
    "exp_pec_z_differences = []\n",
    "exp_Oz_dots = []\n",
    "\n",
    "\n",
    "for ii, expName in enumerate(expNames):\n",
    "    print(expName)\n",
    "    \n",
    "    smooth_traj = smooth_trajectories[ii]\n",
    "    raw_traj = raw_trajectories[ii]\n",
    "    winIdx = winner_idxs[ii]\n",
    "    losIdx = loser_idxs[ii]\n",
    "    \n",
    "    dpp_ts = compute_pec_pec_distance(smooth_traj)\n",
    "    tetW_ts, tetL_ts = compute_thetaW_and_thetaL(smooth_traj, winIdx, losIdx)\n",
    "    exp_dpps.append(dpp_ts)\n",
    "    exp_tetWs.append(tetW_ts)\n",
    "    exp_tetLs.append(tetL_ts)\n",
    "    \n",
    "    \n",
    "    phi_dot = compute_phi_dot_from_raw_trajectories(raw_traj, winIdx, losIdx, dt=dt,\n",
    "                                                    interp_max_gap=interp_limit, interp_polyOrd=interp_polyOrd,\n",
    "                                                    smooth_polyOrd=savgol_ord, smooth_winSize=savgol_win)\n",
    "    exp_phi_dots.append(phi_dot)\n",
    "    \n",
    "    \n",
    "    signed_pec_z_difference = compute_signed_pec_z_difference(smooth_traj, winIdx, losIdx)\n",
    "    exp_pec_z_differences.append(signed_pec_z_difference)\n",
    "    \n",
    "    dpp_dot = compute_pec_pec_distance_dot(raw_traj,  dt=dt,\n",
    "                                            interp_max_gap=interp_limit, interp_polyOrd=interp_polyOrd,\n",
    "                                            smooth_polyOrd=savgol_ord, smooth_winSize=savgol_win)\n",
    "    exp_dpp_dots.append(dpp_dot)\n",
    "    \n",
    "    \n",
    "    Oz_dot = compute_coordinate_origin_z_dot(raw_traj, winIdx, losIdx, dt=dt,\n",
    "                                             interp_max_gap=interp_limit, interp_polyOrd=interp_polyOrd, \n",
    "                                             smooth_polyOrd=savgol_ord, smooth_winSize=savgol_win)\n",
    "    exp_Oz_dots.append(Oz_dot)\n",
    "    \n",
    "    \n",
    "tE = time.perf_counter()\n",
    "print()\n",
    "print('finished: {0} s'.format(tE-t0))"
   ]
  },
  {
   "cell_type": "code",
   "execution_count": null,
   "id": "2848976c-58fa-4f6a-a397-c0af7b6ea882",
   "metadata": {},
   "outputs": [],
   "source": []
  },
  {
   "cell_type": "code",
   "execution_count": 8,
   "id": "bbe7d6eb-6be4-4dce-9d28-9f0ab3818be1",
   "metadata": {},
   "outputs": [],
   "source": [
    "# --- Master sets of plotting --- #\n",
    "dpp_dot_master = np.concatenate(exp_dpp_dots)\n",
    "phi_dot_master = np.concatenate(exp_phi_dots)\n",
    "pec_z_difference_master = np.concatenate(exp_pec_z_differences)\n",
    "Oz_dots_master = np.concatenate(exp_Oz_dots)"
   ]
  },
  {
   "cell_type": "code",
   "execution_count": null,
   "id": "b8556b41-f1d9-4b41-9338-f1045529c0f1",
   "metadata": {},
   "outputs": [],
   "source": []
  },
  {
   "cell_type": "code",
   "execution_count": null,
   "id": "f2e35831-c909-4b51-b640-6df99b53bfa4",
   "metadata": {},
   "outputs": [],
   "source": []
  },
  {
   "cell_type": "code",
   "execution_count": null,
   "id": "f2604609-3ada-4d79-957b-f16a5a3d3965",
   "metadata": {},
   "outputs": [],
   "source": []
  },
  {
   "cell_type": "markdown",
   "id": "5244df7a-b8c1-444d-801d-8dddefd06baa",
   "metadata": {},
   "source": [
    "# Load the main infomap results"
   ]
  },
  {
   "cell_type": "code",
   "execution_count": 11,
   "id": "6c1b23a0-1772-4af2-9f21-2a93abbf0caa",
   "metadata": {},
   "outputs": [
    {
     "data": {
      "text/plain": [
       "'/media/liam/hd1/fighting_data/infomap_data/transmat_and_infomap.h5'"
      ]
     },
     "execution_count": 11,
     "metadata": {},
     "output_type": "execute_result"
    }
   ],
   "source": [
    "infomap_data_loadpath"
   ]
  },
  {
   "cell_type": "code",
   "execution_count": 9,
   "id": "778a5c2e-7054-42a5-867e-354c5a9eb23d",
   "metadata": {},
   "outputs": [],
   "source": [
    "\n",
    "## VIEW THE CONTENTS ##\n",
    "# with h5py.File(infomap_data_loadpath, 'r') as hf:\n",
    "#     for key in hf.keys():\n",
    "#         print(key)"
   ]
  },
  {
   "cell_type": "code",
   "execution_count": 12,
   "id": "3acb4080-a306-4938-91ae-35abbc880e8c",
   "metadata": {},
   "outputs": [
    {
     "name": "stdout",
     "output_type": "stream",
     "text": [
      "/media/liam/hd1/fighting_data/infomap_data/transmat_and_infomap.h5\n",
      "8000\n",
      "56\n"
     ]
    }
   ],
   "source": [
    "## Load the main data saved in the h5 file ##\n",
    "\n",
    "with h5py.File(infomap_data_loadpath, 'r') as hf:\n",
    "    tseries = hf['tseries'][:]\n",
    "    transition_matrix = hf['edited_transition_matrix'][:]\n",
    "    dpp_bins = hf['dpp_bins'][:]\n",
    "    tet_w_bins = hf['tet_w_bins'][:]\n",
    "    tet_l_bins = hf['tet_l_bins'][:]\n",
    "    numClusters = hf['numClusters'][()]\n",
    "    # other\n",
    "    NaN_row_bin_tup_arr = hf['NaN_row_bin_tup_arr'][:]\n",
    "    NaN_row_idxs = hf['NaN_row_idxs'][:] \n",
    "    numInfoTrials = hf['numInfoTrials'][()]\n",
    "    tau = hf['tau'][()]\n",
    "    transMat_row_bin_tup_arr  = hf['transMat_row_bin_tup_arr'][:]\n",
    "    \n",
    "cluster_state_tuples = []\n",
    "cluster_state_idxs = []\n",
    "with h5py.File(infomap_data_loadpath, 'r') as hf:\n",
    "    for clusterIdx in range(numClusters):\n",
    "        st_idxs = hf['cluster_state_idxs/cluster{0}'.format(clusterIdx)][:]\n",
    "        st_tups = hf['cluster_state_tuples/cluster{0}'.format(clusterIdx)][:]\n",
    "        cluster_state_idxs.append(st_idxs)\n",
    "        cluster_state_tuples.append(st_tups)\n",
    "        \n",
    "num_tetW_bins = tet_w_bins.shape[0]-1\n",
    "num_tetL_bins = tet_l_bins.shape[0]-1\n",
    "num_dpp_bins = dpp_bins.shape[0]-1\n",
    "\n",
    "\n",
    "numStates = num_tetW_bins*num_tetL_bins*num_dpp_bins\n",
    "\n",
    "binTuple_to_clusterIdx_dict = make_binTuple_to_clusterIdx_dict(cluster_state_tuples)\n",
    "\n",
    "print(loadpath)\n",
    "print(numStates)\n",
    "print(numClusters)"
   ]
  },
  {
   "cell_type": "code",
   "execution_count": null,
   "id": "23fb71a6-fa44-4704-aae7-078ac6d2efb1",
   "metadata": {},
   "outputs": [],
   "source": []
  },
  {
   "cell_type": "code",
   "execution_count": null,
   "id": "e83e3a95-9a55-40ad-b1b7-0e697b2296bc",
   "metadata": {},
   "outputs": [],
   "source": []
  },
  {
   "cell_type": "code",
   "execution_count": null,
   "id": "ae1cd68f-2cda-47d2-8670-158d0527c97b",
   "metadata": {},
   "outputs": [],
   "source": []
  },
  {
   "cell_type": "markdown",
   "id": "467311d3-6c59-4039-a886-635ed94c0585",
   "metadata": {},
   "source": [
    "# Convert timeseries to clusterIdxs"
   ]
  },
  {
   "cell_type": "code",
   "execution_count": 27,
   "id": "bfd0b17c-a18f-41cd-b38a-31c7aa00f93e",
   "metadata": {},
   "outputs": [],
   "source": [
    "## There are two sections, compute and load\n",
    "#\n",
    "# You only need to compute once, from then on you can load."
   ]
  },
  {
   "cell_type": "code",
   "execution_count": null,
   "id": "844e2e65-3fd6-4617-89bc-174989b9086e",
   "metadata": {},
   "outputs": [],
   "source": []
  },
  {
   "cell_type": "markdown",
   "id": "0ac83577-581f-455f-8a45-f8640c2ebabf",
   "metadata": {
    "tags": []
   },
   "source": [
    "## compute"
   ]
  },
  {
   "cell_type": "code",
   "execution_count": 13,
   "id": "7f63fac6-feb7-46e3-bc2c-509915f9e92d",
   "metadata": {},
   "outputs": [
    {
     "data": {
      "text/plain": [
       "'/media/liam/hd1/fighting_data/infomap_data/transmat_and_infomap.h5'"
      ]
     },
     "execution_count": 13,
     "metadata": {},
     "output_type": "execute_result"
    }
   ],
   "source": [
    "loadpath"
   ]
  },
  {
   "cell_type": "code",
   "execution_count": 14,
   "id": "f5610a8b-6da4-4039-be68-16c2399cd857",
   "metadata": {},
   "outputs": [
    {
     "data": {
      "text/plain": [
       "'/media/liam/hd1/fighting_data/infomap_data/exp_clusterIdx_timeseries.h5'"
      ]
     },
     "execution_count": 14,
     "metadata": {},
     "output_type": "execute_result"
    }
   ],
   "source": [
    "# set a path to save the cluster timeseries\n",
    "all_cluster_tseries_savepath = os.path.join(os.path.dirname(loadpath), 'exp_clusterIdx_timeseries.h5')\n",
    "all_cluster_tseries_savepath"
   ]
  },
  {
   "cell_type": "code",
   "execution_count": 35,
   "id": "35b7ba7b-9448-4308-adbf-e0a2c5384989",
   "metadata": {},
   "outputs": [],
   "source": [
    "\n",
    "t0 = time.perf_counter()\n",
    "\n",
    "        \n",
    "        \n",
    "## --- load the tet_tet_beta_beta data --- ##\n",
    "all_exps_tetW_tetL_dpp_tseries = []\n",
    "for expIdx in range(len(expNames)):\n",
    "    dpp = exp_dpps[expIdx]\n",
    "    tetw = exp_tetWs[expIdx]\n",
    "    tetl = exp_tetLs[expIdx]\n",
    "    tettetdpp = np.stack([tetw, tetl, dpp], axis=1)\n",
    "    all_exps_tetW_tetL_dpp_tseries.append(tettetdpp)\n",
    "        \n",
    "        \n",
    "\n",
    "\n",
    "## --- create the cluster timeseries --- ##\n",
    "\n",
    "# get the bintuples for each experiment\n",
    "all_exps_tettetdpp_bintuples_tseries = []\n",
    "for expIdx in range(len(expNames)):\n",
    "    exp_tet_tet_dpp_tseries = np.copy(all_exps_tetW_tetL_dpp_tseries[expIdx])\n",
    "    exp_tetW_bin_idxs = find_binIdxs_for_timeseries(exp_tet_tet_dpp_tseries[:,0], tet_w_bins)\n",
    "    exp_tetL_bin_idxs = find_binIdxs_for_timeseries(exp_tet_tet_dpp_tseries[:,1], tet_l_bins)\n",
    "    exp_dpp_bin_idxs = find_binIdxs_for_timeseries(exp_tet_tet_dpp_tseries[:,2], dpp_bins)\n",
    "    \n",
    "    exp_bin_idxs_tseries = np.stack([exp_tetW_bin_idxs, exp_tetL_bin_idxs, exp_dpp_bin_idxs],\n",
    "                                     axis=1)\n",
    "    all_exps_tettetdpp_bintuples_tseries.append(exp_bin_idxs_tseries)\n",
    "    \n",
    "# find the cluster idxs for each experiment\n",
    "all_exps_clusterIdx_tseries = []\n",
    "for expIdx in range(len(expNames)):\n",
    "    print(expIdx)\n",
    "    exp_bintuples_tseries = all_exps_tettetdpp_bintuples_tseries[expIdx]\n",
    "    exp_cluster_idxs = []\n",
    "    for fIdx in range(exp_bintuples_tseries.shape[0]):\n",
    "        # first check if the original unbinned data was NaN here,\n",
    "        # (which shows up as a -1 here)\n",
    "        # meaning our clusterIdx should be NaN\n",
    "        if np.any(exp_bintuples_tseries[fIdx]==-1):\n",
    "            cls_idx = np.NaN\n",
    "        # otherwise see if we have this bintuple in our dictionary of states.\n",
    "        # if we don't, it means that this bintuple/state was removed from our\n",
    "        # transition matrix, because this state never transitions anywhere\n",
    "        # (i.e. tau steps later the data is not in a transition matrix state)\n",
    "        # So, use the dictionary to assign clusterIdx if we can,\n",
    "        # otherwise clusterIdx is NaN since this state was not clustered\n",
    "        else:\n",
    "            if tuple(exp_bintuples_tseries[fIdx]) in binTuple_to_clusterIdx_dict:\n",
    "                cls_idx = binTuple_to_clusterIdx_dict[tuple(exp_bintuples_tseries[fIdx])]\n",
    "            else:\n",
    "                cls_idx = np.NaN\n",
    "        exp_cluster_idxs.append(cls_idx)\n",
    "    all_exps_clusterIdx_tseries.append(np.array(exp_cluster_idxs))\n",
    "    \n",
    "    \n",
    "# --- save ----- #\n",
    "with h5py.File(all_cluster_tseries_savepath, 'w') as hf:\n",
    "    for expIdx in range(len(expNames)):\n",
    "        expName = expNames[expIdx]\n",
    "        hf.create_dataset('{0}_clusterIdxs'.format(expName), data=all_exps_clusterIdx_tseries[expIdx])\n",
    "    \n",
    "print(time.perf_counter()-t0)"
   ]
  },
  {
   "cell_type": "code",
   "execution_count": null,
   "id": "00567226-cbd4-406e-a250-515315f5f5b6",
   "metadata": {},
   "outputs": [],
   "source": []
  },
  {
   "cell_type": "code",
   "execution_count": null,
   "id": "59b3a6b7-b6c4-4d3e-b14f-ca7a4cd36011",
   "metadata": {},
   "outputs": [],
   "source": []
  },
  {
   "cell_type": "markdown",
   "id": "dce78a26-bca8-490b-bfd2-ace80d1343bd",
   "metadata": {},
   "source": [
    "## load"
   ]
  },
  {
   "cell_type": "code",
   "execution_count": null,
   "id": "cc4bace8-f149-4cab-9306-04c0a158d0d2",
   "metadata": {},
   "outputs": [],
   "source": [
    "# If the below doesn't work, make sure the 'compute' section above has been run at least once"
   ]
  },
  {
   "cell_type": "code",
   "execution_count": 13,
   "id": "bfc482cb-9c36-47d6-80db-da884ea9e62a",
   "metadata": {},
   "outputs": [],
   "source": [
    "# load\n",
    "all_exps_clusterIdx_tseries = []\n",
    "all_cluster_tseries_savepath = os.path.join(os.path.dirname(loadpath), 'exp_clusterIdx_timeseries.h5')\n",
    "with h5py.File(all_cluster_tseries_savepath, 'r') as hf:\n",
    "    for expIdx in range(len(expNames)):\n",
    "        expName = expNames[expIdx]\n",
    "        exp_cls_tseries = hf['{0}_clusterIdxs'.format(expName)][:]\n",
    "        all_exps_clusterIdx_tseries.append(exp_cls_tseries)\n",
    "        \n",
    "# make the master-set\n",
    "clusterIdx_tseries_master = np.concatenate(all_exps_clusterIdx_tseries)"
   ]
  },
  {
   "cell_type": "code",
   "execution_count": null,
   "id": "fc372fe6-398e-4dad-8590-f4e3dc40dc9a",
   "metadata": {},
   "outputs": [],
   "source": []
  },
  {
   "cell_type": "code",
   "execution_count": 14,
   "id": "1452b15f-95bd-4a83-9c6e-537610cac825",
   "metadata": {},
   "outputs": [
    {
     "data": {
      "text/plain": [
       "(16044324,)"
      ]
     },
     "execution_count": 14,
     "metadata": {},
     "output_type": "execute_result"
    }
   ],
   "source": [
    "# the master tseries\n",
    "clusterIdx_tseries_master.shape"
   ]
  },
  {
   "cell_type": "code",
   "execution_count": 15,
   "id": "2d30357e-bd65-4c9c-9eed-8aa0f600144a",
   "metadata": {},
   "outputs": [
    {
     "name": "stdout",
     "output_type": "stream",
     "text": [
      "22\n"
     ]
    }
   ],
   "source": [
    "# individual experiments\n",
    "print(len(all_exps_clusterIdx_tseries))"
   ]
  },
  {
   "cell_type": "code",
   "execution_count": null,
   "id": "6c074403-a204-4762-a33f-139d3115115c",
   "metadata": {},
   "outputs": [],
   "source": []
  },
  {
   "cell_type": "code",
   "execution_count": null,
   "id": "eb285b77-af7f-434d-ae1f-cb15edd89d00",
   "metadata": {},
   "outputs": [],
   "source": []
  },
  {
   "cell_type": "code",
   "execution_count": 17,
   "id": "b3c22773-dac2-4f3d-8e3d-38dcd2ca3435",
   "metadata": {},
   "outputs": [
    {
     "data": {
      "text/plain": [
       "array([[     0, 643500, 805400, 161900],\n",
       "       [     1, 493700, 655400, 161700],\n",
       "       [     2,  31500, 175400, 143900],\n",
       "       [     3, 331300, 436400, 105100],\n",
       "       [     5, 448500, 559400, 110900],\n",
       "       [     7, 505500, 553400,  47900],\n",
       "       [     8, 181500, 256200,  74700],\n",
       "       [     8, 274700, 334400,  59700],\n",
       "       [    10,  19700,  79400,  59700],\n",
       "       [    11, 214900, 280400,  65500],\n",
       "       [    12, 142500, 226400,  83900],\n",
       "       [    12, 262500, 343400,  80900],\n",
       "       [    13, 694500, 745600,  51100],\n",
       "       [    14,   7700,  61800,  54100],\n",
       "       [    15,  13500, 184400, 170900],\n",
       "       [    18, 388700, 556400, 167700],\n",
       "       [    19, 526700, 571200,  44500],\n",
       "       [    20,  40900, 169600, 128700]])"
      ]
     },
     "execution_count": 17,
     "metadata": {},
     "output_type": "execute_result"
    }
   ],
   "source": [
    " fight_bout_info"
   ]
  },
  {
   "cell_type": "markdown",
   "id": "0ffc2181-3635-447a-afaa-c563c4edfa58",
   "metadata": {},
   "source": [
    "# Plot the fight epoch cluster occupancy curve"
   ]
  },
  {
   "cell_type": "code",
   "execution_count": 18,
   "id": "2498f7ac-f494-484f-9389-ff01548b4751",
   "metadata": {},
   "outputs": [
    {
     "data": {
      "text/plain": [
       "array([[     0, 643500, 805400],\n",
       "       [     1, 493700, 655400],\n",
       "       [     2,  31500, 175400],\n",
       "       [     3, 331300, 436400],\n",
       "       [     5, 448500, 559400],\n",
       "       [     7, 505500, 553400],\n",
       "       [     8, 181500, 256200],\n",
       "       [     8, 274700, 334400],\n",
       "       [    10,  19700,  79400],\n",
       "       [    11, 214900, 280400],\n",
       "       [    12, 142500, 226400],\n",
       "       [    12, 262500, 343400],\n",
       "       [    13, 694500, 745600],\n",
       "       [    14,   7700,  61800],\n",
       "       [    15,  13500, 184400],\n",
       "       [    18, 388700, 556400],\n",
       "       [    19, 526700, 571200],\n",
       "       [    20,  40900, 169600]])"
      ]
     },
     "execution_count": 18,
     "metadata": {},
     "output_type": "execute_result"
    }
   ],
   "source": [
    "fight_regions = np.copy( fight_bout_info[:, :3] )\n",
    "fight_regions"
   ]
  },
  {
   "cell_type": "code",
   "execution_count": null,
   "id": "05fc0ea9-9c38-474d-b17e-48dc6f5c6d9b",
   "metadata": {},
   "outputs": [],
   "source": []
  },
  {
   "cell_type": "code",
   "execution_count": 19,
   "id": "9e73547a-35cc-4b57-bbb9-1379de0e17c4",
   "metadata": {},
   "outputs": [],
   "source": [
    "# # these are our fight regions from each experiment\n",
    "# #fight_regions = fight_bout_df[['expIdxs', 'startIdx', 'stopIdx']].values\n",
    "# fight_regions = fight_bout_df_for_fight_end_triggered[['expIdxs', 'startIdx', 'stopIdx']].values\n",
    "# fight_regions"
   ]
  },
  {
   "cell_type": "code",
   "execution_count": null,
   "id": "e0ae431b-20e1-4469-b26b-b055cf930d64",
   "metadata": {},
   "outputs": [],
   "source": []
  },
  {
   "cell_type": "code",
   "execution_count": 20,
   "id": "61f1e498-589b-4fde-b8bc-eb34bb5b2bb4",
   "metadata": {},
   "outputs": [
    {
     "data": {
      "text/plain": [
       "(1772800,)"
      ]
     },
     "execution_count": 20,
     "metadata": {},
     "output_type": "execute_result"
    }
   ],
   "source": [
    "# gather the clusterIdx tseries for all of this data\n",
    "\n",
    "all_fight_bout_master_clusterIdx_tseries = []\n",
    "\n",
    "for ii,expIdx in enumerate(fight_regions[:,0]):\n",
    "    \n",
    "    exp_clusterIdx_tseries = all_exps_clusterIdx_tseries[expIdx]\n",
    "    \n",
    "    fight_f0, fight_fE = fight_regions[ii, 1:]\n",
    "    fight_epoch_clusterIdx_tseries = np.copy(exp_clusterIdx_tseries[fight_f0:fight_fE])\n",
    "    \n",
    "    all_fight_bout_master_clusterIdx_tseries.append(fight_epoch_clusterIdx_tseries)\n",
    "    \n",
    "    \n",
    "all_fight_bout_master_clusterIdx_tseries = np.concatenate(all_fight_bout_master_clusterIdx_tseries)\n",
    "all_fight_bout_master_clusterIdx_tseries.shape"
   ]
  },
  {
   "cell_type": "code",
   "execution_count": null,
   "id": "c0b9c927-fdfd-4919-9b25-13eef3601ac6",
   "metadata": {},
   "outputs": [],
   "source": []
  },
  {
   "cell_type": "code",
   "execution_count": 21,
   "id": "ec1ad127-0097-4f5f-8865-c0fecc1752ea",
   "metadata": {},
   "outputs": [
    {
     "data": {
      "text/plain": [
       "(1592625,)"
      ]
     },
     "execution_count": 21,
     "metadata": {},
     "output_type": "execute_result"
    }
   ],
   "source": [
    "# remove any NaN data - we aren't going to include this for the occupancy calculation\n",
    "all_fight_bout_master_clusterIdx_tseries_nanless = np.copy(all_fight_bout_master_clusterIdx_tseries[~np.isnan(all_fight_bout_master_clusterIdx_tseries)])\n",
    "all_fight_bout_master_clusterIdx_tseries_nanless.shape"
   ]
  },
  {
   "cell_type": "code",
   "execution_count": 22,
   "id": "b5b87910-cf0d-4759-b1fb-a8e52b7c07b7",
   "metadata": {},
   "outputs": [
    {
     "name": "stdout",
     "output_type": "stream",
     "text": [
      "56\n",
      "\n"
     ]
    },
    {
     "data": {
      "text/plain": [
       "{0.0: 144400,\n",
       " 1.0: 116731,\n",
       " 2.0: 3647,\n",
       " 3.0: 245574,\n",
       " 4.0: 60661,\n",
       " 5.0: 485408,\n",
       " 6.0: 236984,\n",
       " 7.0: 18877,\n",
       " 8.0: 21882,\n",
       " 9.0: 47564,\n",
       " 10.0: 10210,\n",
       " 11.0: 36545,\n",
       " 12.0: 9962,\n",
       " 13.0: 620,\n",
       " 14.0: 21380,\n",
       " 15.0: 43669,\n",
       " 16.0: 2522,\n",
       " 17.0: 1238,\n",
       " 18.0: 5557,\n",
       " 19.0: 17664,\n",
       " 20.0: 4166,\n",
       " 21.0: 5396,\n",
       " 22.0: 5903,\n",
       " 23.0: 4333,\n",
       " 24.0: 1693,\n",
       " 25.0: 2039,\n",
       " 26.0: 1203,\n",
       " 27.0: 2522,\n",
       " 28.0: 791,\n",
       " 29.0: 1630,\n",
       " 30.0: 1769,\n",
       " 31.0: 5378,\n",
       " 32.0: 2212,\n",
       " 33.0: 1966,\n",
       " 34.0: 2688,\n",
       " 35.0: 1958,\n",
       " 36.0: 888,\n",
       " 37.0: 798,\n",
       " 38.0: 1207,\n",
       " 39.0: 1266,\n",
       " 40.0: 1764,\n",
       " 41.0: 562,\n",
       " 42.0: 435,\n",
       " 43.0: 444,\n",
       " 44.0: 333,\n",
       " 45.0: 840,\n",
       " 46.0: 466,\n",
       " 47.0: 1515,\n",
       " 48.0: 439,\n",
       " 49.0: 282,\n",
       " 50.0: 509,\n",
       " 51.0: 925,\n",
       " 52.0: 1869,\n",
       " 53.0: 924,\n",
       " 54.0: 166,\n",
       " 55.0: 251}"
      ]
     },
     "execution_count": 22,
     "metadata": {},
     "output_type": "execute_result"
    }
   ],
   "source": [
    "# count up the number of occurances of each cluster\n",
    "vals, counts = np.unique(all_fight_bout_master_clusterIdx_tseries_nanless, return_counts=True)\n",
    "vals_dict = dict(zip(vals, counts))\n",
    "print(len(vals_dict))\n",
    "print()\n",
    "vals_dict"
   ]
  },
  {
   "cell_type": "code",
   "execution_count": 23,
   "id": "4a75016a-72da-4555-8e5b-051f5571614f",
   "metadata": {},
   "outputs": [
    {
     "data": {
      "text/plain": [
       "(56,)"
      ]
     },
     "execution_count": 23,
     "metadata": {},
     "output_type": "execute_result"
    }
   ],
   "source": [
    "counts.shape"
   ]
  },
  {
   "cell_type": "code",
   "execution_count": null,
   "id": "868c9555-ffce-46d8-b244-c1e2ece3ded4",
   "metadata": {},
   "outputs": [],
   "source": []
  },
  {
   "cell_type": "code",
   "execution_count": null,
   "id": "6a301a6a-1186-4f32-a84d-9696e1c9f8e3",
   "metadata": {},
   "outputs": [],
   "source": []
  },
  {
   "cell_type": "code",
   "execution_count": null,
   "id": "35c34807-b4e2-4913-b5f5-2f76757d76ff",
   "metadata": {},
   "outputs": [],
   "source": []
  },
  {
   "cell_type": "code",
   "execution_count": 23,
   "id": "e3d39bdd-3a48-483c-944e-0f93d835fdd1",
   "metadata": {},
   "outputs": [
    {
     "data": {
      "text/plain": [
       "array([0.30478487, 0.45897936, 0.60778024, 0.69844816, 0.77174288,\n",
       "       0.80983157, 0.83969673, 0.86711624, 0.89006263, 0.90380221,\n",
       "       0.91722659, 0.92907935, 0.94017047, 0.94658127, 0.95283636,\n",
       "       0.95654281, 0.96003202, 0.96342014, 0.96679695, 0.96951762,\n",
       "       0.97213343, 0.97442336, 0.97611114, 0.97769469, 0.97927824,\n",
       "       0.98066714, 0.98194741, 0.98318185, 0.98441127, 0.9855848 ,\n",
       "       0.98669555, 0.98780316, 0.98886618, 0.98988965, 0.99084091,\n",
       "       0.99163582, 0.99241315, 0.99317102, 0.99392638, 0.99450718,\n",
       "       0.99508736, 0.99564493, 0.99617236, 0.99667342, 0.99717008,\n",
       "       0.99755938, 0.99791225, 0.99823185, 0.99852445, 0.99880323,\n",
       "       0.99907888, 0.99935201, 0.9995611 , 0.99973817, 0.99989577,\n",
       "       1.        ])"
      ]
     },
     "execution_count": 23,
     "metadata": {},
     "output_type": "execute_result"
    }
   ],
   "source": [
    "# get an array of clusterIdx, numberOccurances, sorted high to low\n",
    "# i.e. first row has (clusterIdx, occupancy) of the most occuring cluster\n",
    "\n",
    "cluster_occuring_counts_arr  = np.array([[x,y] for y,x in sorted(zip(counts,vals))])\n",
    "cluster_occuring_counts_arr = np.flipud(cluster_occuring_counts_arr )\n",
    "#cluster_occuring_counts_arr \n",
    "\n",
    "\n",
    "# now convert to probabilities by normalizing along second column\n",
    "cluster_occuring_prob_arr = np.copy(cluster_occuring_counts_arr)\n",
    "cluster_occuring_prob_arr[:,1] = cluster_occuring_prob_arr[:,1] / np.sum(cluster_occuring_prob_arr[:,1])\n",
    "#cluster_occuring_prob_arr\n",
    "\n",
    "\n",
    "# now get the commulative probability of clusters occuring\n",
    "cum_prob = np.cumsum(cluster_occuring_prob_arr[:,1])\n",
    "cum_prob"
   ]
  },
  {
   "cell_type": "code",
   "execution_count": null,
   "id": "67835117-97b0-4104-a973-64ac61db07e9",
   "metadata": {},
   "outputs": [],
   "source": []
  },
  {
   "cell_type": "code",
   "execution_count": 31,
   "id": "7aee6eef-bd56-4118-8020-b8b033d2f4f1",
   "metadata": {},
   "outputs": [
    {
     "data": {
      "application/vnd.jupyter.widget-view+json": {
       "model_id": "541762a1b83449bda9a42a9ba534f0e6",
       "version_major": 2,
       "version_minor": 0
      },
      "text/html": [
       "\n",
       "            <div style=\"display: inline-block;\">\n",
       "                <div class=\"jupyter-widgets widget-label\" style=\"text-align: center;\">\n",
       "                    Figure\n",
       "                </div>\n",
       "                <img src='data:image/png;base64,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' width=1600.0/>\n",
       "            </div>\n",
       "        "
      ],
      "text/plain": [
       "Canvas(toolbar=Toolbar(toolitems=[('Home', 'Reset original view', 'home', 'home'), ('Back', 'Back to previous …"
      ]
     },
     "metadata": {},
     "output_type": "display_data"
    }
   ],
   "source": [
    "fig, axs = plt.subplots(figsize=(16,4))\n",
    "ax = axs\n",
    "\n",
    "xs = [i for i in range(1, numClusters+1)]\n",
    "#ax.scatter(xs, cum_prob)\n",
    "ax.plot(xs, cum_prob, linestyle='-', marker='o')\n",
    "\n",
    "ax.set_xlim(0, numClusters+1)\n",
    "ax.set_ylim(0.2, 1.05)\n",
    "\n",
    "xticks = xs\n",
    "xticklabels = [int(i) for i in cluster_occuring_prob_arr[:,0]]\n",
    "ax.set_xticks(xticks)\n",
    "ax.set_xticklabels(xticklabels)\n",
    "\n",
    "ax.set_ylabel('Cummulative probability')\n",
    "ax.set_xlabel('Cluster index')\n",
    "\n",
    "ax.grid(alpha=0.5)\n",
    "\n",
    "\n",
    "fig.tight_layout()"
   ]
  },
  {
   "cell_type": "code",
   "execution_count": null,
   "id": "4c031981-7005-4a45-98d0-a1f943b49ecc",
   "metadata": {},
   "outputs": [],
   "source": []
  },
  {
   "cell_type": "code",
   "execution_count": null,
   "id": "c7731bd9-89f2-4f12-a3d9-e6b4d506c0e4",
   "metadata": {},
   "outputs": [],
   "source": []
  },
  {
   "cell_type": "code",
   "execution_count": null,
   "id": "650178e5-7fe5-4d66-a09d-a3e78e531f1d",
   "metadata": {},
   "outputs": [],
   "source": []
  },
  {
   "cell_type": "code",
   "execution_count": 26,
   "id": "97498099-1eac-43f0-9292-74e69344bc41",
   "metadata": {},
   "outputs": [
    {
     "data": {
      "text/plain": [
       "15"
      ]
     },
     "execution_count": 26,
     "metadata": {},
     "output_type": "execute_result"
    }
   ],
   "source": [
    "old_picks = [0,1,2,5,3,6,4,11,9,7,10,8,15,14,19]\n",
    "len(old_picks)"
   ]
  },
  {
   "cell_type": "code",
   "execution_count": 27,
   "id": "6e2520cb-b803-4440-9658-9968bc0a0ce7",
   "metadata": {},
   "outputs": [
    {
     "data": {
      "text/plain": [
       "(10,)"
      ]
     },
     "execution_count": 27,
     "metadata": {},
     "output_type": "execute_result"
    }
   ],
   "source": [
    "5,\n",
    "3,\n",
    "6,\n",
    "0,\n",
    "1,\n",
    "4,\n",
    "15,\n",
    "9,\n",
    "11,\n",
    "8,\n",
    "7,\n",
    "14, \n",
    "19,\n",
    "#12,\n",
    "10,\n"
   ]
  },
  {
   "cell_type": "code",
   "execution_count": 28,
   "id": "7edca162-31c9-401e-adb0-6ccb4ed19ff3",
   "metadata": {},
   "outputs": [
    {
     "data": {
      "text/plain": [
       "array([0.30478487, 0.45897936, 0.60778024, 0.69844816, 0.77174288,\n",
       "       0.80983157, 0.83969673, 0.86711624, 0.89006263, 0.90380221,\n",
       "       0.91722659, 0.92907935, 0.94017047, 0.94658127, 0.95283636])"
      ]
     },
     "execution_count": 28,
     "metadata": {},
     "output_type": "execute_result"
    }
   ],
   "source": [
    "cum_prob[:len(old_picks)]"
   ]
  },
  {
   "cell_type": "code",
   "execution_count": 29,
   "id": "2ddd8e1c-6c20-4188-a84b-60f11b2a0758",
   "metadata": {},
   "outputs": [
    {
     "data": {
      "text/plain": [
       "array([0.30478487, 0.15419449, 0.14880088, 0.09066792, 0.07329472,\n",
       "       0.03808869, 0.02986516, 0.02741951, 0.02294639, 0.01373958,\n",
       "       0.01342438, 0.01185276, 0.01109112, 0.0064108 , 0.00625508])"
      ]
     },
     "execution_count": 29,
     "metadata": {},
     "output_type": "execute_result"
    }
   ],
   "source": [
    "cluster_occuring_prob_arr[:len(old_picks),1]"
   ]
  },
  {
   "cell_type": "code",
   "execution_count": 30,
   "id": "896b8ffa-996a-4732-b697-e2665dda9605",
   "metadata": {},
   "outputs": [
    {
     "data": {
      "text/plain": [
       "(0.93830755,)"
      ]
     },
     "execution_count": 30,
     "metadata": {},
     "output_type": "execute_result"
    }
   ],
   "source": [
    "0.946742260 - 0.00843471,"
   ]
  },
  {
   "cell_type": "code",
   "execution_count": 40,
   "id": "7dc952ce-b6a9-4d43-84b8-8a4aa9f5b060",
   "metadata": {},
   "outputs": [
    {
     "data": {
      "text/plain": [
       "[5, 3, 6, 0, 1, 4, 9, 15, 11, 8, 14, 7, 19, 10, 12]"
      ]
     },
     "execution_count": 40,
     "metadata": {},
     "output_type": "execute_result"
    }
   ],
   "source": [
    "xticklabels[:15]"
   ]
  },
  {
   "cell_type": "code",
   "execution_count": null,
   "id": "3496e95b-311c-4b07-9f78-b74c46c2ae36",
   "metadata": {},
   "outputs": [],
   "source": []
  },
  {
   "cell_type": "code",
   "execution_count": null,
   "id": "9279d554-28e2-46ba-956e-86f5b7a6eb9a",
   "metadata": {},
   "outputs": [],
   "source": []
  },
  {
   "cell_type": "markdown",
   "id": "581fd985-a155-472c-a376-01aeb228c9d2",
   "metadata": {
    "tags": []
   },
   "source": [
    "## version for figure 5:"
   ]
  },
  {
   "cell_type": "code",
   "execution_count": 37,
   "id": "8afd321d-4eaa-4f67-99a0-af544163cba2",
   "metadata": {},
   "outputs": [
    {
     "name": "stderr",
     "output_type": "stream",
     "text": [
      "No handles with labels found to put in legend.\n"
     ]
    },
    {
     "data": {
      "application/vnd.jupyter.widget-view+json": {
       "model_id": "3efd95760dfb4ed6835c4f7c93205eae",
       "version_major": 2,
       "version_minor": 0
      },
      "text/html": [
       "\n",
       "            <div style=\"display: inline-block;\">\n",
       "                <div class=\"jupyter-widgets widget-label\" style=\"text-align: center;\">\n",
       "                    Figure\n",
       "                </div>\n",
       "                <img src='data:image/png;base64,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' width=500.0/>\n",
       "            </div>\n",
       "        "
      ],
      "text/plain": [
       "Canvas(toolbar=Toolbar(toolitems=[('Home', 'Reset original view', 'home', 'home'), ('Back', 'Back to previous …"
      ]
     },
     "metadata": {},
     "output_type": "display_data"
    }
   ],
   "source": [
    "fig, axs = plt.subplots(figsize=(5,4))\n",
    "ax = axs\n",
    "\n",
    "xs = [i for i in range(1, numClusters+1)]\n",
    "#ax.scatter(xs, cum_prob)\n",
    "ax.plot(xs, cum_prob, linestyle='-', marker='o')\n",
    "\n",
    "ax.set_xlim(0, numClusters+1)\n",
    "ax.set_ylim(0.2, 1)\n",
    "\n",
    "xticks = xs\n",
    "xticklabels = [int(i) for i in cluster_occuring_prob_arr[:,0]]\n",
    "ax.set_xticks(xticks)\n",
    "ax.set_xticklabels(xticklabels)\n",
    "\n",
    "ax.set_ylabel('Cummulative probability')\n",
    "ax.set_xlabel('Cluster index')\n",
    "\n",
    "ax.grid(alpha=0.3)\n",
    "\n",
    "ax.axvline(16, color='black', linestyle='--')\n",
    "ax.axhline(0.95, color='grey', linestyle='-')\n",
    "\n",
    "ax.set_yticks([0.2, 0.95, 1])\n",
    "\n",
    "# ----------\n",
    "ax.set_xticklabels([])\n",
    "#ax.set_yticklabels([])\n",
    "ax.set_xlabel('')\n",
    "ax.set_ylabel('')\n",
    "ax.legend(fontsize=10, frameon=False, markerscale=10, labelspacing=2, bbox_to_anchor=(0.6,0.9))\n",
    "for axis in ['top','bottom','left','right']:\n",
    "    ax.spines[axis].set_linewidth(2)\n",
    "ax.xaxis.set_tick_params(width=2, length=4)\n",
    "ax.yaxis.set_tick_params(width=2, length=4)\n",
    "\n",
    "fig.tight_layout()\n",
    "#fig.savefig('/mnt/e/OneDrive/illustrator_projects/paper_figures/figure5/fig5_los_dwell_new.png', dpi=300, transparent=True)\n",
    "\n",
    "fig.tight_layout()"
   ]
  },
  {
   "cell_type": "code",
   "execution_count": null,
   "id": "196af735-dbc8-46bf-b638-0e2924029634",
   "metadata": {},
   "outputs": [],
   "source": []
  },
  {
   "cell_type": "code",
   "execution_count": 38,
   "id": "ecc53dbe-9589-41cf-8374-2cba16c9f867",
   "metadata": {},
   "outputs": [
    {
     "name": "stderr",
     "output_type": "stream",
     "text": [
      "No handles with labels found to put in legend.\n"
     ]
    },
    {
     "data": {
      "application/vnd.jupyter.widget-view+json": {
       "model_id": "bdc115fa45ad49d28b04be155f2d87ba",
       "version_major": 2,
       "version_minor": 0
      },
      "text/html": [
       "\n",
       "            <div style=\"display: inline-block;\">\n",
       "                <div class=\"jupyter-widgets widget-label\" style=\"text-align: center;\">\n",
       "                    Figure\n",
       "                </div>\n",
       "                <img src='data:image/png;base64,iVBORw0KGgoAAAANSUhEUgAAAfQAAAGQCAYAAABYs5LGAAAAOXRFWHRTb2Z0d2FyZQBNYXRwbG90bGliIHZlcnNpb24zLjQuMywgaHR0cHM6Ly9tYXRwbG90bGliLm9yZy/MnkTPAAAACXBIWXMAAA9hAAAPYQGoP6dpAAAkv0lEQVR4nO3df3BcZ73f8c85q5VWq1+2LMtay+DIMYTKDreY2M4FmqTmhmtKHGaSC81wPQyByR1Mw9A6QMrtgDFMb2+YxH8UGk25wyTDuEwITdvBhLiF5Ca3QGMnMZAoSgiJnQTJK69t2ZK8q/15Tv9QVrGsX2vt7vn5fv0l9qyk58RCHz3P832+x7Bt2xYAAPA10+0BAACA6hHoAAAEAIEOAEAAEOgAAAQAgQ4AQAAQ6AAABACBDgBAABDoAAAEAIEOAEAAEOgAAAQAgQ4AQAAQ6AAABACBDgBAADRU88kHDhzQgQMHZr128uTJ6S/c0KDu7u5qvjwAAKGRSqVUKpUUi8WUTqcv+/OrCvSJiQmNjIzMe61QKCx4DQAAzC+bzS7r86oK9Pb2dvX29s56rRzipmkqkUjM+3mWZck0F17t9/p1L4yBewzHPXj9HvNFS8WSpYaIqcaGue9Z6Hq2UNJEtijLsmdeM01D7bEGxaKRJd8jSeczhQXH3NLUoHSuuOB10zRmfd05DEmLXF7y+lKq/XwESmdLoxobTCWTSVmWpUgksqyvY9i2XdMfq3Xr1mlkZES9vb0aHh6ec92yLKVSKXV3d8/7S8Lr170wBq/fo23bunDhgk6fPq3169fP+8Pp9Xvww/Vqv0bJsnXk+Bm9OnxaG9et1vYNXYqYRkXXDw8mtf/QkJLjb88kEh0x7dvVr52bE4tel6Q9B4/NybPydx7YvWXR99iSVsSjiwa6aUiL5TXCwTQk2174b6fFrhuS1rQ3STJ0aiK7rK9Ryffo6YjpV3fvUMQ0lszPpVQ1Qwfmk8lk1N7eLml6W6atrc3lEQXTdOCe1avDY9p4IbJAIM9/fW7gnlgikE8sGcij41ntOXhMf3Ndn77/Tyfmvf75g8e0Ih6d95db+bX/8D9fkG0bi75nsTCXCPNacDvsKhlDRzyq8bd+FuxLrknSHf9i+mfx0gWRSq9/8+ZNkqZ/3pf7NZa6vm9X/6z/31aDQAdcUE0YS94O5H/4v3M/9+LrS4Xx2fTi14Ois6VR59J534ahE2G31PW/v+VqSZqzGtRz0f8X3vfOlVVdl6ZXjer9PWqBQAfqoF6z4/J1LwdyEGbH9Q7Tno6Yvv6xfv2bH/k7DKX6h10lY7ixv2fB7aGdmxNVXa/F16jke9QCgQ4sw3IDW1r+7HjPwWP6L596n7796EsE8hLcXqqtZJl15+aEBkx/h2El73EiDCOmoWs3rNKG1pK6u1fJvCQoq73u1PeoFoEOzKMegV2L2fHen/xe2YK16Nj9HMiV7M3WIpCdWKqtJEyDEIa1+BpeCMMgINARSm4FdrWz46XC3AuqnR1Xsjdbq+Vit8NUIgxROwQ6Asmrge0H9V6uriSMpaX3ZqXql4sJUwQJgY6ai0QiuvXWW5XL5ZbdIGEx1VSAS/4P7Gqqo72yXC0tHsaSc8vFQFAQ6Ki5WCymhx9+WKlUSrFYrKZfu5oKcD8EthPV0V5YrpZqszcL4G0EOjxnoRn4Use1KqkAdzOwazE7rlV1tOT+cjWA2iLQ4bjl7G9//WP/bMmw3vvw75Utulc0Vklg12p27JXqZgDeQaCj5tLptFpbWyXNbf263P3tL/zot0t+33qHea0CW6p+diwRyABmI9BRc6WLzl4dPXFWN2xuXXLJvJL97XpzKrAlwhhA7RHouGxLLZl/45HnZt57+4PPqXf1axUtmddif3uxCnAvBTYA1BqBjstSyZJ5KZ+b9TmVLplXo9IKcAIbQFAR6KiYV5bMq60AlwhsAMFDoGOO+ZbUpelZrVtHwi6egX/70eoqwCUCG0DwEOiYZaEl9du2vmNWiNZaJfvb5dD+y83VV4ADQNDUNdDz+fyc1yzLUqFQUD6fl2mavrvuhTHU6/ovhkb1bx/6nWzN/sE4M57Wd3/5csU/LLYptb97uyQpakqGSrOuL7Rk/h9vnt7f/k8/f1mjExfNwNtj+tq/eo92vHvVzM/UlnVtekdTVqtXt6lULFzyHar77+CX614YA/fIPXplDEG4x2oZtm0ve4vzwIEDOnDgwKzXksmkLMtSW1ub7rrrrqoHCABAGNx3332anJxUb2+vhoeHL/vzq5qhT0xMaGRkpJovAQAAaqCqQG9vb1dvb++s1y6eod99991zPseyLJ05c0ZdXV0LLkl4+boXxrCc678YOqW9D/9+TlFbebn7hqtW6x//cHre+73UQkvmBz75Z5Kkv3/sDzo1OXvJ/O6dV+nG/jV1vcdafw2vX/fCGLhH7tErYwjCPX7/+9/X5OTkvN+7ElUF+t69e7V3795Zr61bt04jIyMyDGPeJ21ZlqXGxkbFYrEFb9jL170whsu9XrJs/d3/flUFLfwo01/8YUxa5HrZv/uLd+uhZ96cVSCXuKTK/Pp3rdKaNWtk2bZ+fmRIN2xeP6dojX8n7pF79M4YuAdv3KNhVFe8S5V7CBw9MVZRhXpTg6ncAv3Qy8fG7tyxUXfu2LjkkbDsVEaStK1v1ZwwBwDUXu3L7OCqkmXr6eNn9X9eHtPTx8+qZNlKTVZ23Oyvt79Tht5eQi+7+NhYxDRmjoR95D2dunYDgQ0AXsAMPUAWOkP+V1t6F/28shv7e7Str3PJLmsAAO8h0ANiobasyfGsvvuPry36ueXl9G19nYqYRkWP7gQAeAuBHgAly16wLWtZuTJ9sT7o5dCmyxoA+A976AFQSdGbrekK9Z6O2ScPejpiGti9heV0APA5ZugBUGnR2xVdcf3q7h11X043TVPXX3993dobAgDmItB9Zr4noa1ubaroc7vbYo4spzc3N+uJJ55QKpVSc3Nzzb8+AGAuAt1H5qtiX93WpJXNi/8zXlz0BgAIJgLdJxaqYj89mdPpyZwiplSyKit6AwAEDxucPlBJFfuqlibd/6ktnih6S6fTWrNmjTZt2qR0Ou3Y9wWAMGOG7gOVVLGnJnNa2dLoSNFbJc6cOeP49wSAMCPQfaDSKvbUZJYz5AAQUgS6x8xXxW5Ziy22v627be7T7QAA4UCge8h8Vewr4lFN5YqLfh5V7AAAAt0jFqpiP58pSJLWtDfp1ESOKnYAwLyocveASqrYTcPwTBU7AMB7mKF7QCVV7MnxrKeq2BdjmqauueYaFQoFWr8CgEMIdA8IWhV7c3Ozjhw5QutXAHAQge6w+arYo5HKZrFUsQMAFkKgO2i+KvbOlkbli6VFP48qdgDAUgh0hyxUxT6WzkuSOuNRjWUKgahiz2Qy6u/vV6lU0ksvvaTW1la3hwQAgUfFkgMqqWJvbIgEpordtm298cYbGh4elm1X1hQHAFAdZugOqKSKfXTCP1XsAADvIdAdELQqdgCA97Dk7oBKq9OpYgcALBeB7oBtfZ1aEY8ueN2QlKCKHQBQBQLdASfOpDWVn/9omh+r2AEA3sMeep2lc0V9/uBzyhUtvau7VZPZokYn3t5T7+mIad+ufl9VsS/FMAz19/erWCzKMPgjBQCcQKDXkW3b+uojz+vV1AWtaW/Sj+64Vp0tjYGvYo/H43rhhReUSqUUj8fdHg4AhAKBXmMXt3Z95emUHn0+qQbT0P1/vUWr25okiSp2AEDNEeg1NLe167RbtvTq/espeAMA1A9FcTVSbu06XwOZnzw7rMODSRdG5Y5MJqOrr75a119/vTKZjNvDAYBQINBroJLWrvsPDalkhaMNqm3bGhoa0iuvvELrVwBwCIFeA0u1drUlJcezOnpizLlBAQBChUCvgctp7QoAQD0Q6DVAa1cAgNsI9BrY1tepttjCBwZo7QoAqDcCvQaGz2WULdDaFQDgHs6hV8m2bf37R15QoWTr3WtaNZEtanQ82K1dl2IYhtavX69SqUTrVwBwCIFepYee+ZP+3/GzikVN/cOnr9G6lfHAt3ZdSjwe1/Hjx2n9CgAOItCrkByf0t89+pIk6csfuUrrV7VIorUrAMB5BPplKvdq/+PwWf2vF1/VZK6o971zhW7/YJ/bQwMAhBiBfhkW6tW+671rQ7esvpipqSldd911KhQK+vWvf62Wlha3hwQAgUegV6jcq32+Rqbf/tmQ1q6IharwbTGWZenZZ5+d+RgAUH8cW6sAvdoBAF5HoFeAXu0AAK8j0CtAr3YAgNcR6BWgVzsAwOsI9Aps6+vU6tamBa/Tqx0A4Daq3CsQMQ2t6WjS6Qu5Odfo1T6/rq4uKtwBwEEEegV+OXRKgyMTiphSZ7xRpy/kZ66FsVf7UlpaWnTq1CmlUinOoAOAQwj0JWQLJX3z0IuSpL+57kp9+SNXhb5XOwDAewj0JQw8+ZqGz00p0RHTF3dsVMQ06NUOAPAciuIW8ebZjAaeek2S9PWb+hVv5O+fSkxNTWnHjh265ZZbNDU15fZwACAUSKhF7D/0ovJFSx/a2KWPbu5xezi+YVmWnnrqqZmPAQD1R6BfpPwktVeHxzQxNKnHX04pGjH0zZs3yTBYWgcAeBeB/paFnqT2L6/q1sbuVpdGBQBAZdhD19tPUpuvX/svhk7p8GDShVEBAFC50Ac6T1IDAARB6AOdJ6kBAIIg9HvoPEmtPuLxuGybVQ0AcEroA50nqdVeS0uLJicnaf0KAA4K/ZL7tr5OJToWDmuepAYA8IPQB3rENLRvV/+813iSGgDAL0If6JL0gY1dijXM/U/R0xHTwO4tPEntMmWzWd10003avXu3sllqDwDACaHfQ5ek//b0m8oWLW1c3aJv7urX8ZNneJJaFUqlkh577LGZjwEA9Rf6QM8WSvrBr05IkvbcsFEf2Nilje0WT1IDAPhK6JfcHzk2rDMXclrbEdPN/3yt28MBAGBZQh3oxZKl//rUcUnSHddtUDQS6v8cAAAfC3WC/XxwVG+OZbQyHtW/3voOt4cDAMCyhTbQbdvWwJOvSZJu/2Cf4o2hLycAAPhYaAP9n/54Ri8lJxRvjOjTf77e7eEAAFCVUE1LS5atI8fP6tXhMf3ot6clSZ/a9k6tiDe6PLJgaWlpUalUovUrADgoNIF+eDCp/YeG5jxZ7cpuAgcA4H+hCPTDg0ntOXhs3mee/+3/GNTKeCPd4AAAvhb4PfSSZWv/oaF5w7xs/6EhlSwe9Vkr2WxWn/zkJ3XHHXfQ+hUAHBL4GfrRE2NzltkvZktKjmd19MSY/vzKVc4NLMBKpZIeeeSRmY8BAPUX+Bl6arKyGWKl7wMAwIsCH+jdbQs/63w57wMAwIsCH+jb+jqV6IhpocesGJISHTFt6+t0clgAANRU4AM9Yhrat6t/3mvlkN+3q5/HpAIAfC3wgS5JOzcnNLB7iy7N7J6OmAZ2b+HIGgDA9wJf5V62aW2HLFsyDelv/2K9+tev0fYNXczMAQCBEJpAP3piTJL0Z+tW6KZNXeruXiWTMK+LeDyuiYkJnT59WvF43O3hAEAohGLJXZKOnDgrSdrat9LlkQSfYRhqaWlRPB6XYfBHEwA4ITSBXp6hb6eaHQAQQKEI9FMTWb1+NiPTkN6/nhl6veVyOd1+++360pe+pFwu5/ZwACAUQhHoR96anfevbVd7LOryaIKvWCzqhz/8oR5++GEVi0W3hwMAoRCOQD8+vX++7Qp6tQMAgikUgT6zf76B/XMAQDAFPtDPXsjpj6kLkqStVxDoAIBgCnygP/P69Oz8qjVt6mxpdHk0AADUR+AD/enj04HOw1cAAEEW+EBn/xwAEAaBbv06ninopdEJSczQnRSPxzU6OkrrVwBwUKAD/dk3xmTb0oauFnW3xdweTmgYhqHVq1fLtm1avwKAQwK95F5uKMPsHAAQdKEIdPbPnZXL5XTnnXfqa1/7Gq1fAcAhgQ30C7miBkfGJUnb+ugQ56RisaiBgQE9+OCDtH4FAIcENtB/++Y5lSxb61Y2q3dFs9vDAQCgrgIb6EdOnJPE/jkAIBwCG+jl8+fXstwOAAiBQAZ6tmjp+eHzkpihAwDCIZCB/mIyrXzJ1pr2Jq1fRWMTAEDwBTLQfzsyKWm6up3GJgCAMAhUp7iSZevI8bN6/JXpgritV6x0eUTh1NzcrNdee01nz55VczMnDADACYEJ9MODSe0/NKTkeHbmtf/8+B/V3daknZsTLo4sfEzT1BVXXKF4PC7TDOQiEAB4TiB+2x4eTGrPwWOzwlySzl7Ia8/BYzo8mHRpZAAAOMP3gV6ybO0/NCR7nmvl1/YfGlLJmu8dqId8Pq+vfvWr+ta3vqV8Pu/2cAAgFHwf6EdPjM2ZmV/MlpQcz86cS0f9FQoF3XfffRoYGFChUHB7OAAQCr4P9NTkwmG+nPcBAOBHvg/0Sp9zzvPQAQBB5vtA39bXqURHTAudNjckJTpidIwDAASa7wM9Yhrat6t/3mvlkN+3q18RkwYzAIDg8n2gS9LOzQkN7N6ixsjs2+npiGlg9xbOoQMAAi8wjWX+clOPYlFT+ZKlz39gra7rX6ftG7qYmQMAQiEwgT58bkoT2aKiEUOf2rJG69aukkmYu6K5uVnPP/+8xsbGaP0KAA4JTKAPjoxLkq5a06bGhkDsJPiWaZratGmTUqkUrV8BwCGB+W07eHI60DetbXd5JAAAOC8wgf7CyIQkaXNvh8sjQT6f1/79+3XvvffS+hUAHBKIQLdtWy++teS+mRm66wqFgr71rW/pvvvuo/UrADgkEIGeHM/qbDqviGnoPT1tbg8HAADHBSLQywVx7+puVVM04vJoAABwXqAC/Wr2zwEAIRWMQD9JQRwAINwCEegvlAviCHQAQEj5PtBTE1mdnszJNKT+BBXuAIBw8n2nuPLsfGN3q5obI7Isy+URIRaL6emnn9a5c+cUi/EcegBwgu8DfbDcUGYty+1eEYlEtHXrVqVSKUUinDoAACf4fsm9PEPfxP45ACDEfB/oL57kyJrX5PN53Xvvvbr//vtp/QoADvH1kvuZCzklx7MyDKmflq+eUSgUdPfdd0uSvvKVr7CPDgAO8PUMvdxQpq+rRa1Nvv7bBACAqgQi0CmIAwCEnc8DfbrCnf1zAEDY+TrQ365wZ/8cABBuvg30c5m8Rs5PSZI2seQOAAg53wZ6ebl9/aq4OpqjLo8GAAB3+bY0vHz+nAeyeE8sFtPjjz+u8+fPc2QNABzi20Cn5at3RSIR3XDDDbR+BQAH+XbJ/cWTVLgDAFDmy0CfzBb1xlhGkrSJDnGeUygUdP/99+uBBx5QoVBwezgAEAq+XHJ/5fR0dfu6lc1a2dLo8mhwqXw+ry9+8YuSpDvvvFNNTU0ujwgAgs+XM/SXU2lJ7J8DAFDmy0D/Q2p6uf3qdQQ6AACSTwP95RT75wAAXMx3gT6ZLejNczlJnEEHAKDMV4Fesmz99+dGJEmdLVGtjFMQBwCA5KNAPzyY1IfueULffvQlSdJYuqAP3fOEDg8mXR4ZAADu88WxtcODSe05eEz2Ja+Pjme15+AxDezeop2bE66MDXM1NTXppz/9qcbHxzmyBgAO8Xyglyxb+w8NzQlzSbIlGZL2HxrSjf09ipiGw6PDfBoaGvSxj31MqVRKDQ2e/xEDgEDw/JL70RNjSo5nF7xuS0qOZ3X0xJhzgwIAwGM8H+ipyYXDfDnvQ/0VCgU9+OCD+vGPf0zrVwBwiOfXQ7vbKnv8ZqXvQ/3l83l97nOfkyR99rOfZR8dABzg+Rn6tr5OJTpiWmh33JCU6IhpW1+nk8MCAMBTPB/oEdPQvl39814rh/y+Xf0UxAEAQs3zgS5JOzcnNLB7i5qjs4fb0xHjyBoAAPLBHnrZzs0J/eBXJ/TM6+f0V+9drVu29Wn7hi5m5gAAyEeBLkknz09Xst/4nk5du2GVTMIcAABJPllyl6RiydLoxHSgJ9ro4Q4AwMV8M0NPTeZUsmw1mIZWtUTdHg4W0dTUpIceekgTExMcWQMAh/gm0EfOT0maLoRj39zbGhoa9IlPfILWrwDgIN8suY+cmw703hXNLo8EAADv8U+gnyfQ/aJYLOonP/mJDh06pGKx6PZwACAUfLMe+nag0+LV63K5nG677TZJ0m233abGRooYAaDe/DNDf2vJfe1KZugAAFzKP4H+1gx9bQeBDgDApXwR6LZtv10UxwwdAIA5fBHo5zMFTRVKkqTeDvbQAQC4lC8Cvbzc3tXapKZoxOXRAADgPb4I9OFzVLgDALAYXxxbmzmyxv65LzQ2NuoHP/iBJicnObIGAA7xR6DTJc5XotGoPvOZzyiVSikape8+ADjBF0vuJ+kSBwDAonwR6G8vucddHgkqUSwW9eijj+qXv/wlrV8BwCH+WHIvN5WhKM4Xcrmcbr75ZknSxz/+cfbRAcABnp+hZ/JFjaXzkqR1K5ihAwAwH88H+snzWUlSa1OD2pt9saAAAIDjPB/oFz821TAMl0cDAIA3eT/Qz7F/DgDAUrwf6OczkmgqAwDAYjwf6OU99F4K4gAAWJDnq8x4bKr/NDY26rvf/S6tXwHAQd4PdLrE+U40GtUXvvAFWr8CgIM8veReLFkanSgvuRPoAAAsxNOBPjqRVcmyFY0Y6m5rcns4qFCpVNKTTz6p3/zmNyqVSm4PBwBCwdNL7uWCuERHs0yTM+h+kc1m9eEPf1iSNDExwbI7ADjA0zP0mSNrLLcDALAobwf6TFMZAh0AgMV4O9DPc2QNAIBKeDzQp/fQ1zFDBwBgUd4O9HO0fQUAoBKeDXTbtmeW3NlDBwBgcZ49tjaWzitbsCRJiQ6etOYn0WhU99xzjy5cuMCRNQBwiGcD/eT49P756rYmxaIRl0eDy9HY2Kgvf/nLSqVS9HIHAId4dsl95qEsLLcDALAk7wY6R9Z8q1Qq6ZlnntHvfvc7Wr8CgEM8u+TOU9b8K5vN6tprr5VE61cAcIpnZ+jlPu4EOgAAS/NwoDNDBwCgUp4NdPbQAQConCcDfapQ0rlMQRJNZQAAqIQnA310Ii9JamtqUEczBVUAACzFm4E+OR3oLLcDAFAZTx5bK8/QKYjzp2g0qm984xtKp9McWQMAh3gz0Jmh+1pjY6P27dtH61cAcJAnl9yTb83QKYgDAKAynpyhn5pkyd3PLMvSiy++qLGxMXV1dck0Pfl3IwAEiicDfXQyJ4kld7+amprSe9/7XknTrV/b2tpcHhEABJ/npk6FkqXTF6bPoK9jhg4AQEU8F+inJrKybKkxYqirtcnt4QAA4AueC/Tyc9ATHc0yTcPl0QAA4A+eC/ST49NPWaPCHQCAynku0Msz9N6VMZdHAgCAf3gq0EuWrd++eU6SZNu2Spbt8ogAAPAHzxxbOzyY1P5DQ0q+teT+yLGT+s1rY9q3q187NydcHh0uRzQa1V133aVMJkPrVwBwiCcC/fBgUnsOHtOl8/HR8az2HDymgd1bCHUfaWxs1He+8x1avwKAg1xfci9ZtvYfGpoT5pJmXtt/aIjldwAAFuF6oB89MTazzD4fW1JyPKujJ8acGxSqYlmWXn/9df3pT3+SZVluDwcAQsH1JffU5MJhvpz3wX1TU1O68sorJdH6FQCc4voMvbutsuNplb4PAIAwcj3Qt/V1KtER00I94QxJiY6YtvV1OjksAAB8xfVAj5iG9u3qn/daOeT37epXhDawAAAsyPVAl6SdmxMa2L1Fsejs4fR0xDiyBgBABVwviivbuTmhdz/5mp4fHtdt7+vWze+/Qts3dDEzBwCgAp4JdGm6kYwk7XxPp67dsIqnrQEAUCHPBHquWFJqMidJWtNGdzE/a2ho0J49ezQ1NaWGBs/8iAFAoHnmt+2p8ekwb2owtaLZM8PCMjQ1Nel73/ueUqmUmpqa3B4OAISCJ4riJOnk+PRjUxMdMRkGS+0AAFwO7wT6+elAX7ui2eWRoFq2bev06dM6c+aMbJse/ADgBM+sbb8d6HSE87tMJqOenh5JtH4FAKd4ZoY+cn66wj3RwQwdAIDL5ZlAT44zQwcAYLk8E+gzS+7M0AEAuGweCvTpJfe1HczQAQC4XJ4I9IlsQRdyRUlSgiV3AAAumycCvbzcvjIeVbzRM4X3AAD4hifSsxzoVLgHQ0NDgz796U8rm83S+hUAHOKJ37Yz++c0lQmEpqYmPfDAA7R+BQAHeWrJvZf9cwAAlsVTgc4MPRhs21Y6nVYmk6H1KwA4xBtL7m89Bz1BoAdCJpNRe3u7JFq/AoBTPDVDZ8kdAIDlcT3QS5at0XGK4gAAqIbrgX7mQk5Fy1bENNTdxgwdAIDlcD3QR95abu9pjyliGi6PBgAAf3I90HkOOgAA1XM90JM8Bx0AgKq5fmxthDPogROJRHTrrbcql8spEom4PRwACAXXA50ja8ETi8X08MMPK5VKKRbj3xUAnOD6kvvJcWboAABUy/VAZw8dAIDquRro2UJJZ9N5SVIvM/TASKfTikQiSiQSSqfTbg8HAELB1UAv75+3NEbU3uz6dj4AAL7laqAnL3ooi2HQVAYAgOVyNdA5sgYAQG14YsmdI2sAAFTH3SV3KtwBAKgJd2fonEEHAKAmXC0tH+HBLIEUiUT00Y9+VPl8ntavAOAQ1wLdtu2ZJXfOoAdLLBbTz372M1q/AoCDXFtyPz9V0FShJEnq6eCXPgAA1XAt0MsV7l2tTWpqYFkWAIBquBbo5aYyHFkLnnQ6rba2Nm3YsIHWrwDgENf20E9yZC3QMpmM20MAgFBxfcmdI2sAAFTPxUCfnqFzZA0AgOq5uIfODB0AgFpxb4Y+Xp6hE+gAAFTLlUAvWrZOTbDkDgBArbhS5X7mQkGWLTVGTHW1NLkxBNSRaZq6/vrrlc/nZZquPi4AAELDlUAfncxLmu4QZ5qGG0NAHTU3N+uJJ55QKpVSczNbKgDgBFemT6feCnSW2wEAqA2XA53ZGwAAteBuoNMlLpDS6bTWrFmjTZs20foVABzi6h46M/TgOnPmjNtDAIBQcWWGnmIPHQCAmmIPHQCAAHA80NO5oiZyJUlSooMZOgAAteB4oJefg94ea1BbLOr0twcAIJAcD3QemwoAQO05XuVefigLy+3BZZqmrrnmGhUKBVq/AoBDHA/0JDP0wGtubtaRI0do/QoADnJ+yX2cp6wBAFBrru2hs+QOAEDtOBroJcvW8dPTrUDPpQsqWbaT3x4OyWQy2rBhg7Zu3apMJuP2cAAgFBwL9MODSX3w75/QqcmcJOnbj76kD93zhA4PJp0aAhxi27beeOMNDQ8Py7b5ow0AnOBIoB8eTGrPwWMancjOen10PKs9B48R6gAAVKnugV6ybO0/NKT55mnl1/YfGmL5HQCAKtQ90I+eGJvpDjcfW9Pd446eGKv3UAAACKy6B3pqcuEwX877AADAXHUP9O62yo6nVfo+AAAwV907xW3r61SiI6bR8ey8++iGpJ6OmLb1ddZ7KHCIYRjq7+9XsViUYRhuDwcAQqHuM/SIaWjfrn5J0+F9sfL/3rerXxGTX/xBEY/H9cILL+ipp55SPB53ezgAEAqOHFvbuTmhgd1b1HNJd7iejpgGdm/Rzs0JJ4YBAEBgOfZwlp2bE7qxv0dHjp/Rq8OntXHdam3f0MXMHACAGnD0aWsR09C1G1ZpQ2tJ3d2rZBLmgZTJZLR161YVi0U999xzam1tdXtIABB4jj8+FcFn27aGhoZmPgYA1J/jT1sDAAC1R6ADABAABDoAAAFAoAMAEAAEOgAAAUCVO2rOMAytX79epVKJ1q8A4BACHTUXj8d1/PhxpVIpWr8CgENYcgcAIAAIdAAAAoBAR81NTU1p+/bt2rlzp6amptweDgCEAnvoqDnLsvTss8/OfAwAqD9m6AAABACBDgBAABDoAAAEAIEOAEAAEOgAAAQAVe6oi66uLircAcBBBDpqrqWlRadOnVIqlVJLS4vbwwGAUGDJHQCAACDQAQAIAAIdNTc1NaUdO3bolltuofUrADiEPXTUnGVZeuqpp2Y+BgDUHzN0AAACgEAHACAACHQAAAKAQAcAIAAIdAAAAoAqd9RFPB6XbdtuDwMAQoNAR821tLRocnKS1q8A4CCW3AEACAACHQCAACDQUXPZbFY33XSTdu/erWw26/ZwACAU2ENHzZVKJT322GMzHwMA6o8ZOgAAAUCgAwAQAAQ6AAABQKADABAABDoAAAFg2FX05zxw4IAOHDgw67WRkRFJkmmaSiQS836eZVkyzYX/lvD6dS+Mwcv3aNu2Tp48KUlau3atDMOoyxj5d/LGGLhH7tErY/D7PSaTSVmWpWg0qnw+v+g45lPVsbWJiYmZAL+UZVkLXkN4lIMdAFCZ5R73rSrQ29vb1dvbO+u18i/whoYGdXd3z/mc8l8gC83gvX7dC2PgHsNxD9yjN8bAPYbjHrxwj6lUSqVSSbFYbN7vvyTbYb29vbYku7e315fXvTAG7jEc98A9emMM3GM47sEL91gtiuIAAAgAAh0AgAAg0AEACADHH86yd+9eTUxMqL293ZfXvTAG7jEc98A9emMM3GM47sEL91itqs6hAwAAb2DJHQCAACDQAQAIAAIdAIAAINABAAgAAh0AgAAg0AEACAACHQCAACDQAQAIAAIdAIAAINABAAgAAh0AgAAg0AEACAACHQCAAPj/qLrjdUUFmOoAAAAASUVORK5CYII=' width=500.0/>\n",
       "            </div>\n",
       "        "
      ],
      "text/plain": [
       "Canvas(toolbar=Toolbar(toolitems=[('Home', 'Reset original view', 'home', 'home'), ('Back', 'Back to previous …"
      ]
     },
     "metadata": {},
     "output_type": "display_data"
    }
   ],
   "source": [
    "fig, axs = plt.subplots(figsize=(5,4))\n",
    "ax = axs\n",
    "\n",
    "xs = [i for i in range(1, numClusters+1)]\n",
    "#ax.scatter(xs, cum_prob)\n",
    "ax.plot(xs, cum_prob, linestyle='-', marker='o')\n",
    "\n",
    "ax.set_xlim(0, numClusters+1)\n",
    "ax.set_ylim(0.2, 1)\n",
    "\n",
    "xticks = xs\n",
    "xticklabels = [int(i) for i in cluster_occuring_prob_arr[:,0]]\n",
    "ax.set_xticks(xticks)\n",
    "ax.set_xticklabels(xticklabels)\n",
    "\n",
    "ax.set_ylabel('Cummulative probability')\n",
    "ax.set_xlabel('Cluster index')\n",
    "\n",
    "ax.grid(alpha=0.3)\n",
    "\n",
    "ax.axvline(16, color='black', linestyle='--')\n",
    "ax.axhline(0.95, color='grey', linestyle='-')\n",
    "\n",
    "ax.set_yticks([0.2, 0.95, 1])\n",
    "\n",
    "# ----------\n",
    "ax.set_xticklabels([])\n",
    "ax.set_yticklabels([])\n",
    "ax.set_xlabel('')\n",
    "ax.set_ylabel('')\n",
    "ax.legend(fontsize=10, frameon=False, markerscale=10, labelspacing=2, bbox_to_anchor=(0.6,0.9))\n",
    "for axis in ['top','bottom','left','right']:\n",
    "    ax.spines[axis].set_linewidth(2)\n",
    "ax.xaxis.set_tick_params(width=2, length=4)\n",
    "ax.yaxis.set_tick_params(width=2, length=4)\n",
    "\n",
    "fig.tight_layout()\n",
    "#fig.savefig('/mnt/e/OneDrive/illustrator_projects/paper_figures/figure5/fig5_occupancy_plot.png', dpi=300, transparent=True)\n",
    "\n",
    "fig.tight_layout()"
   ]
  },
  {
   "cell_type": "code",
   "execution_count": null,
   "id": "dfc7452e-a1bd-4959-a209-4b112bc54e69",
   "metadata": {},
   "outputs": [],
   "source": []
  },
  {
   "cell_type": "markdown",
   "id": "782fc3bf-0dff-410b-af59-be1e96954aa3",
   "metadata": {},
   "source": [
    "# Making an edited set of cluster idx tseries"
   ]
  },
  {
   "cell_type": "code",
   "execution_count": 41,
   "id": "2cbc7358",
   "metadata": {},
   "outputs": [
    {
     "data": {
      "text/plain": [
       "array([0.30478487, 0.45897936, 0.60778024, 0.69844816, 0.77174288,\n",
       "       0.80983157, 0.83969673, 0.86711624, 0.89006263, 0.90380221,\n",
       "       0.91722659, 0.92907935, 0.94017047, 0.94658127, 0.95283636])"
      ]
     },
     "execution_count": 41,
     "metadata": {},
     "output_type": "execute_result"
    }
   ],
   "source": [
    "# So from above, lets use the 15 most common clusters, for about 95% occupancy, and perhaps join some by symmetry arguments\n",
    "cum_prob[:15]"
   ]
  },
  {
   "cell_type": "code",
   "execution_count": 42,
   "id": "e97a3639",
   "metadata": {},
   "outputs": [
    {
     "data": {
      "text/plain": [
       "array([0.30478487, 0.15419449, 0.14880088, 0.09066792, 0.07329472,\n",
       "       0.03808869, 0.02986516, 0.02741951, 0.02294639, 0.01373958,\n",
       "       0.01342438, 0.01185276, 0.01109112, 0.0064108 , 0.00625508])"
      ]
     },
     "execution_count": 42,
     "metadata": {},
     "output_type": "execute_result"
    }
   ],
   "source": [
    "cluster_probs = cluster_occuring_prob_arr[:15,1]\n",
    "cluster_probs"
   ]
  },
  {
   "cell_type": "code",
   "execution_count": 45,
   "id": "95ae84d1",
   "metadata": {},
   "outputs": [
    {
     "data": {
      "text/plain": [
       "array([ 5.,  3.,  6.,  0.,  1.,  4.,  9., 15., 11.,  8., 14.,  7., 19.,\n",
       "       10., 12.])"
      ]
     },
     "execution_count": 45,
     "metadata": {},
     "output_type": "execute_result"
    }
   ],
   "source": [
    "original_chosen_cluster_idxs = cluster_occuring_prob_arr[:15,0]\n",
    "original_chosen_cluster_idxs"
   ]
  },
  {
   "cell_type": "code",
   "execution_count": null,
   "id": "b7008f16-4259-4ee8-bed2-9ce2777d9996",
   "metadata": {},
   "outputs": [],
   "source": []
  },
  {
   "cell_type": "code",
   "execution_count": null,
   "id": "13e53c39-f1b1-457c-b096-8410d2208f8f",
   "metadata": {},
   "outputs": [],
   "source": []
  },
  {
   "cell_type": "code",
   "execution_count": null,
   "id": "87851822-f191-48f7-8341-9d6bf250267b",
   "metadata": {},
   "outputs": [],
   "source": []
  },
  {
   "cell_type": "code",
   "execution_count": 46,
   "id": "44030a8b-9173-4923-9a4b-28bc50e0a2a7",
   "metadata": {},
   "outputs": [],
   "source": [
    "# ---- get the distributions for each cluster ---- #\n",
    "\n",
    "cluster_dppdots_master = []\n",
    "cluster_phidots_master = []\n",
    "cluster_pecZ_diff_master = []\n",
    "cluster_Ozdots_master = []\n",
    "\n",
    "for clusterIdx in range(numClusters):\n",
    "    \n",
    "    cluster_idx_frames_master = np.where(clusterIdx_tseries_master==clusterIdx)[0]\n",
    "    \n",
    "    cls_dppdots = dpp_dot_master[cluster_idx_frames_master]\n",
    "    cls_phidots = phi_dot_master[cluster_idx_frames_master]\n",
    "    cls_pecZdiffs = pec_z_difference_master[cluster_idx_frames_master]\n",
    "    cls_Ozdots = Oz_dots_master[cluster_idx_frames_master]\n",
    "\n",
    "    cluster_dppdots_master.append(cls_dppdots)\n",
    "    cluster_phidots_master.append(cls_phidots)\n",
    "    cluster_pecZ_diff_master.append(cls_pecZdiffs)\n",
    "    cluster_Ozdots_master.append(cls_Ozdots)"
   ]
  },
  {
   "cell_type": "code",
   "execution_count": 47,
   "id": "df28a46f-12fb-4830-afe8-2a22b1deb0d5",
   "metadata": {},
   "outputs": [],
   "source": [
    "# --- set the bins we will use --- #\n",
    "dpp_dots_bins = np.arange(-20,20+0.25,0.25)\n",
    "phi_dots_bins = np.arange(-10,10+0.1,0.1)\n",
    "pec_z_difference_bins = np.arange(-5,5+0.1,0.1)\n",
    "Oz_dot_bins = np.arange(-10,10+0.1,0.1)"
   ]
  },
  {
   "cell_type": "code",
   "execution_count": null,
   "id": "9c095e2a-1dfd-4710-b0b8-2641d5a52c70",
   "metadata": {},
   "outputs": [],
   "source": []
  },
  {
   "cell_type": "markdown",
   "id": "ed89ded0-6aa7-4936-ab2d-60edfce0278b",
   "metadata": {},
   "source": [
    "## helpful function for plotting"
   ]
  },
  {
   "cell_type": "code",
   "execution_count": 48,
   "id": "a102f6fa-b557-40da-a0c3-f11c6985de49",
   "metadata": {},
   "outputs": [],
   "source": [
    "\n",
    "\n",
    "def plot_summary_of_cluster(clusterIdx):\n",
    "    ##NB: for now, very dirty use of global vars\n",
    "    plt.ioff()\n",
    "\n",
    "    # ---- set-up the main figure information ----- #\n",
    "    fig = plt.figure(figsize=(10,11)) \n",
    "    gs = fig.add_gridspec(13, 10)\n",
    "    fig.suptitle('Dpp 0-20 cm: ClusterIdx: {0}'.format(clusterIdx))\n",
    "    gs.update(left=0.04, right=0.96, top=0.90, bottom=0, wspace=0.1, hspace=0)\n",
    "    #imsavepath = os.path.join(imsavefolderpath,str(clusterIdx).zfill(2))+'.png'\n",
    "\n",
    "    # --- prepare some data --- #\n",
    "\n",
    "\n",
    "    # -- plot the 4 histograms --- #\n",
    "\n",
    "    # dpp-dot\n",
    "    ax = fig.add_subplot(gs[0:2, 0:5])\n",
    "    ax.set_title(r'$\\dot{D_{pp}}$')\n",
    "    ax.set_xlabel('[cm/s]')\n",
    "    ax.hist(cluster_dppdots_master[clusterIdx], bins=dpp_dots_bins, alpha=0.5, density=True, color='red', label='this');\n",
    "    ax.hist(dpp_dot_master, bins=dpp_dots_bins, density=True, alpha=0.5, color='C0', label='all');\n",
    "    ax.set_xlim(np.min(dpp_dots_bins), np.max(dpp_dots_bins))\n",
    "    ax.legend()\n",
    "\n",
    "    # phi-dot\n",
    "    ax = fig.add_subplot(gs[3:5, 0:5])\n",
    "    ax.set_title(r'$\\dot{\\phi}$')\n",
    "    ax.set_xlabel('[rad/s]')\n",
    "    ax.hist(cluster_phidots_master[clusterIdx], bins=phi_dots_bins,  alpha=0.5, color='red', density=True, label='cluster');\n",
    "    ax.hist(Oz_dots_master, bins=phi_dots_bins, density=True, alpha=0.5, color='C0', label='data');\n",
    "    ax.set_xlim(np.min(phi_dots_bins), np.max(phi_dots_bins))\n",
    "    ax.legend()\n",
    "\n",
    "    # relative Z\n",
    "    ax = fig.add_subplot(gs[6:8, 0:5])\n",
    "    ax.set_title(r'$P_{w}(Z) - P_{L}(Z)$')\n",
    "    ax.set_xlabel('[cm]')\n",
    "    ax.hist(cluster_pecZ_diff_master[clusterIdx], bins=pec_z_difference_bins, alpha=0.5, density=True, color='red', label='cluster');\n",
    "    ax.hist(pec_z_difference_master, bins=pec_z_difference_bins, density=True, alpha=0.5, color='C0', label='all');\n",
    "    ax.set_xlim(np.min(pec_z_difference_bins), np.max(pec_z_difference_bins))\n",
    "    ax.legend()\n",
    "\n",
    "    # Oz-dot\n",
    "    ax = fig.add_subplot(gs[9:11, 0:5])\n",
    "    ax.set_title(r'$\\dot{O_{Z}}$')\n",
    "    ax.set_xlabel('[cm/s]')\n",
    "    ax.hist(cluster_Ozdots_master[clusterIdx], bins=Oz_dot_bins, alpha=0.5, density=True, color='red', label='cluster');\n",
    "    ax.hist(pec_z_difference_master, bins=Oz_dot_bins, density=True, alpha=0.5, color='C0', label='all');\n",
    "    ax.set_xlim(np.min(Oz_dot_bins), np.max(Oz_dot_bins))\n",
    "    ax.legend()\n",
    "\n",
    "    # --- add side view 3D cluster panel --- #\n",
    "    ax = fig.add_subplot(gs[0:4, 5:11], projection='3d')\n",
    "    elev = 30\n",
    "    azim = -60\n",
    "    ax.view_init(elev, azim)\n",
    "    cluster_index_list = list(range(numClusters))\n",
    "    other_cluster_idxs = [x for x in cluster_index_list if x!=clusterIdx]\n",
    "    # prepare some coordinates, based on the number of bins\n",
    "    x, y, z = np.indices((num_tetW_bins, num_tetL_bins, num_dpp_bins))\n",
    "    #  Make the main voxel array \n",
    "    voxelarray = np.zeros((num_tetW_bins, num_tetL_bins, num_dpp_bins), dtype=bool)\n",
    "    # set the colors of the background voxels \n",
    "    colors = np.empty((num_tetW_bins, num_tetL_bins, num_dpp_bins,4), dtype=object)\n",
    "    # the chosen cluster\n",
    "    cluster_voxels = cluster_state_tuples[clusterIdx]\n",
    "    cluster_col = [1,0,0,0.4]\n",
    "    num_cls_voxs = cluster_voxels.shape[0]\n",
    "    for voxIdx in range(num_cls_voxs):\n",
    "        vox = cluster_voxels[voxIdx]\n",
    "        colors[vox[0], vox[1], vox[2]] = cluster_col\n",
    "        voxelarray[vox[0], vox[1], vox[2]] = True\n",
    "    # now start the figure\n",
    "    ax.voxels(voxelarray, facecolors=colors, edgecolor='k');\n",
    "    ax.set_xlabel(r'$\\theta_{W}$')\n",
    "    ax.set_ylabel(r'$\\theta_{L}$')\n",
    "    ax.set_zlabel(r'D$_{PP}$')\n",
    "    ax.set_xlim(0, num_tetW_bins)\n",
    "    ax.set_ylim(0, num_tetL_bins)\n",
    "    ax.set_zlim(0, num_dpp_bins)\n",
    "    ax.set_xticks([0, int(num_tetW_bins/4), int(num_tetW_bins/2), int(3*(num_tetW_bins/4)), int(num_tetW_bins) ])\n",
    "    ax.set_xticklabels([r\"-$\\pi$\", r\"-$\\pi/2$\", r\"0\", r\"$\\pi/2$\", r\"$\\pi$\"]);\n",
    "    ax.set_xticks(np.arange(num_tetW_bins+1));\n",
    "    ax.set_yticks([0, int(num_tetL_bins/4), int(num_tetL_bins/2), int(3*(num_tetL_bins/4)), int(num_tetL_bins) ])\n",
    "    ax.set_yticklabels([r\"-$\\pi$\", r\"-$\\pi/2$\", r\"0\", r\"$\\pi/2$\", r\"$\\pi$\"]);\n",
    "    ax.set_yticks(np.arange(num_tetL_bins+1));\n",
    "    ax.set_zticks(np.arange(num_dpp_bins+1));\n",
    "    ax.set_zticklabels(dpp_bins.astype(int), fontsize=4);\n",
    "    #  Plot the projections of the cluster onto the walls \n",
    "    min_x = np.min(cluster_voxels[:,0])\n",
    "    max_x = np.max(cluster_voxels[:,0])\n",
    "    min_y = np.min(cluster_voxels[:,1])\n",
    "    max_y = np.max(cluster_voxels[:,1])\n",
    "    min_z = np.min(cluster_voxels[:,2])\n",
    "    max_z = np.max(cluster_voxels[:,2])\n",
    "    # find the box for the XY plane\n",
    "    xy_xs = [min_x, min_x, max_x+1, max_x+1, min_x]\n",
    "    xy_ys = [min_y, max_y+1, max_y+1, min_y, min_y]\n",
    "    xy_zs = [0, 0, 0, 0, 0]\n",
    "    ax.plot(xy_xs, xy_ys, xy_zs, color='red')\n",
    "    # find the box for the XZ plane\n",
    "    xz_xs = [min_x, min_x, max_x+1, max_x+1, min_x]\n",
    "    xz_ys = [num_tetL_bins, num_tetL_bins, num_tetL_bins, num_tetL_bins, num_tetL_bins]\n",
    "    xz_zs = [min_z, max_z+1, max_z+1, min_z, min_z]\n",
    "    ax.plot(xz_xs, xz_ys, xz_zs, color='red')\n",
    "    # find the box for the YZ plane\n",
    "    yz_xs = [0, 0, 0, 0, 0]\n",
    "    yz_ys = [min_y, min_y, max_y+1, max_y+1, min_y]\n",
    "    yz_zs = [min_z, max_z+1, max_z+1, min_z, min_z]\n",
    "    ax.plot(yz_xs, yz_ys, yz_zs, color='red')\n",
    "\n",
    "\n",
    "    # --- add top-down 3D cluster panel --- #\n",
    "    ax = fig.add_subplot(gs[5:9, 5:11], projection='3d')\n",
    "    elev = 90\n",
    "    azim = -90\n",
    "    ax.view_init(elev, azim)\n",
    "    cluster_index_list = list(range(numClusters))\n",
    "    other_cluster_idxs = [x for x in cluster_index_list if x!=clusterIdx]\n",
    "    # prepare some coordinates, based on the number of bins\n",
    "    x, y, z = np.indices((num_tetW_bins, num_tetL_bins, num_dpp_bins))\n",
    "    #  Make the main voxel array \n",
    "    voxelarray = np.zeros((num_tetW_bins, num_tetL_bins, num_dpp_bins), dtype=bool)\n",
    "    # set the colors of the background voxels \n",
    "    colors = np.empty((num_tetW_bins, num_tetL_bins, num_dpp_bins,4), dtype=object)\n",
    "    # the chosen cluster\n",
    "    cluster_voxels = cluster_state_tuples[clusterIdx]\n",
    "    cluster_col = [1,0,0,0.4]\n",
    "    num_cls_voxs = cluster_voxels.shape[0]\n",
    "    for voxIdx in range(num_cls_voxs):\n",
    "        vox = cluster_voxels[voxIdx]\n",
    "        colors[vox[0], vox[1], vox[2]] = cluster_col\n",
    "        voxelarray[vox[0], vox[1], vox[2]] = True\n",
    "    # now start the figure\n",
    "    ax.voxels(voxelarray, facecolors=colors, edgecolor='k');\n",
    "    ax.set_xlabel(r'$\\theta_{W}$')\n",
    "    ax.set_ylabel(r'$\\theta_{L}$')\n",
    "    ax.set_zlabel('')\n",
    "    ax.set_xlim(0, num_tetW_bins)\n",
    "    ax.set_ylim(0, num_tetL_bins)\n",
    "    ax.set_zlim(0, num_dpp_bins)\n",
    "    ax.set_xticks([0, int(num_tetW_bins/4), int(num_tetW_bins/2), int(3*(num_tetW_bins/4)), int(num_tetW_bins) ])\n",
    "    ax.set_xticklabels([r\"-$\\pi$\", r\"-$\\pi/2$\", r\"0\", r\"$\\pi/2$\", r\"$\\pi$\"]);\n",
    "    ax.set_xticks(np.arange(num_tetW_bins+1));\n",
    "    ax.set_yticks([0, int(num_tetL_bins/4), int(num_tetL_bins/2), int(3*(num_tetL_bins/4)), int(num_tetL_bins) ])\n",
    "    ax.set_yticklabels([r\"-$\\pi$\", r\"-$\\pi/2$\", r\"0\", r\"$\\pi/2$\", r\"$\\pi$\"]);\n",
    "    ax.set_yticks(np.arange(num_tetL_bins+1));\n",
    "    ax.set_zticks([]);\n",
    "    #ax.set_zticklabels(dpp_bins.astype(int));\n",
    "\n",
    "\n",
    "    # --- explanatory figure --- #\n",
    "    ax = fig.add_subplot(gs[9:12, 6:9])\n",
    "    ax.set_xlim(-np.pi, np.pi);\n",
    "    ax.set_ylim(-np.pi, np.pi);\n",
    "    ax.set_xticks([-np.pi, -np.pi/2, 0, np.pi/2, np.pi]);\n",
    "    ax.set_xticklabels([r\"-$\\pi$\", r\"-$\\pi/2$\", r\"0\", r\"$\\pi/2$\", r\"$\\pi$\"]);\n",
    "    ax.set_yticks([-np.pi, -np.pi/2, 0, np.pi/2, np.pi]);\n",
    "    ax.set_yticklabels([r\"-$\\pi$\", r\"-$\\pi/2$\", r\"0\", r\"$\\pi/2$\", r\"$\\pi$\"]);\n",
    "    # we want to rotate so theta=0 points from origin to y-inf\n",
    "    image_rot_angle = np.pi/2\n",
    "    # scale the size of the arrows\n",
    "    arrfac = 0.2\n",
    "    # winner-loser-top\n",
    "    c_x = 0\n",
    "    c_y = np.pi/2+0.8\n",
    "    vert_gap = 0.2\n",
    "    dx_winner = -arrfac*np.cos(c_x + np.pi/2)\n",
    "    dy_winner = arrfac*np.sin(c_x + np.pi/2)\n",
    "    dx_loser = arrfac*np.cos(c_y + np.pi/2)\n",
    "    dy_loser = -arrfac*np.sin(c_y + np.pi/2)\n",
    "    ax.arrow(c_x, c_y-vert_gap, dx=dx_winner, dy=dy_winner, head_width=0.1, color='red')\n",
    "    ax.arrow(c_x+0.1, c_y+vert_gap, dx=dx_loser, dy=dy_loser, head_width=0.1, color='blue')\n",
    "    # winner-loser-bottom\n",
    "    c_x = 0\n",
    "    c_y = -(np.pi/2+0.8)\n",
    "    vert_gap = 0.2\n",
    "    dx_winner = -arrfac*np.cos(c_x + np.pi/2)\n",
    "    dy_winner = arrfac*np.sin(c_x + np.pi/2)\n",
    "    dx_loser = arrfac*np.cos(c_y + np.pi/2)\n",
    "    dy_loser = -arrfac*np.sin(c_y + np.pi/2)\n",
    "    ax.arrow(c_x, c_y-vert_gap, dx=dx_winner, dy=dy_winner, head_width=0.1, color='red')\n",
    "    ax.arrow(c_x-0.1, c_y+vert_gap, dx=dx_loser, dy=dy_loser, head_width=0.1, color='blue')\n",
    "    # loser-winner-left\n",
    "    c_x = -(np.pi-0.6)\n",
    "    c_y = 0\n",
    "    vert_gap = 0.2\n",
    "    dx_winner = -arrfac*np.cos(c_x + np.pi/2)\n",
    "    dy_winner = arrfac*np.sin(c_x + np.pi/2)\n",
    "    dx_loser = arrfac*np.cos(c_y + np.pi/2)\n",
    "    dy_loser = -arrfac*np.sin(c_y + np.pi/2)\n",
    "    ax.arrow(c_x+0.1, c_y-vert_gap, dx=dx_winner, dy=dy_winner, head_width=0.1, color='red')\n",
    "    ax.arrow(c_x, c_y+vert_gap, dx=dx_loser, dy=dy_loser, head_width=0.1, color='blue')\n",
    "    # loser-winner-right\n",
    "    c_x = (np.pi-0.6)\n",
    "    c_y = 0\n",
    "    vert_gap = 0.2\n",
    "    dx_winner = -arrfac*np.cos(c_x + np.pi/2)\n",
    "    dy_winner = arrfac*np.sin(c_x + np.pi/2)\n",
    "    dx_loser = arrfac*np.cos(c_y + np.pi/2)\n",
    "    dy_loser = -arrfac*np.sin(c_y + np.pi/2)\n",
    "    ax.arrow(c_x-0.1, c_y-vert_gap, dx=dx_winner, dy=dy_winner, head_width=0.1, color='red')\n",
    "    ax.arrow(c_x, c_y+vert_gap, dx=dx_loser, dy=dy_loser, head_width=0.1, color='blue')\n",
    "    # face-off\n",
    "    c_x = 0\n",
    "    c_y = 0\n",
    "    vert_gap = 0.4\n",
    "    dx_winner = arrfac*np.cos(c_x + np.pi/2)\n",
    "    dy_winner = arrfac*np.sin(c_x + np.pi/2)\n",
    "    dx_loser = arrfac*np.cos(c_y + np.pi/2)\n",
    "    dy_loser = -arrfac*np.sin(c_y + np.pi/2)\n",
    "    ax.arrow(c_x, c_y-vert_gap, dx=dx_winner, dy=dy_winner, head_width=0.1, color='red')\n",
    "    ax.arrow(c_x, c_y+vert_gap, dx=dx_loser, dy=dy_loser, head_width=0.1, color='blue')\n",
    "    # parallel WRE (top-left)\n",
    "    c_x = -np.pi/2\n",
    "    c_y = np.pi/2\n",
    "    vert_gap = 0.1\n",
    "    dx_winner = -arrfac*np.cos(c_x + np.pi/2)\n",
    "    dy_winner = arrfac*np.sin(c_x + np.pi/2)\n",
    "    dx_loser = arrfac*np.cos(c_y + np.pi/2)\n",
    "    dy_loser = -arrfac*np.sin(c_y + np.pi/2)\n",
    "    ax.arrow(c_x+0.1, c_y-vert_gap, dx=dx_winner, dy=dy_winner, head_width=0.1, color='red')\n",
    "    ax.arrow(c_x+0.1, c_y+vert_gap, dx=dx_loser, dy=dy_loser, head_width=0.1, color='blue')\n",
    "    # parallel WLE (bottom-right)\n",
    "    c_x = np.pi/2\n",
    "    c_y = -np.pi/2\n",
    "    vert_gap = 0.1\n",
    "    dx_winner = -arrfac*np.cos(c_x + np.pi/2)\n",
    "    dy_winner = arrfac*np.sin(c_x + np.pi/2)\n",
    "    dx_loser = arrfac*np.cos(c_y + np.pi/2)\n",
    "    dy_loser = -arrfac*np.sin(c_y + np.pi/2)\n",
    "    ax.arrow(c_x-0.1, c_y-vert_gap, dx=dx_winner, dy=dy_winner, head_width=0.1, color='red')\n",
    "    ax.arrow(c_x-0.1, c_y+vert_gap, dx=dx_loser, dy=dy_loser, head_width=0.1, color='blue')\n",
    "    # anti-parallel WLE (top-left)\n",
    "    c_x = np.pi/2\n",
    "    c_y = np.pi/2\n",
    "    horz_gap = 0.15\n",
    "    dx_winner = -arrfac*np.cos(c_x + np.pi/2)\n",
    "    dy_winner = arrfac*np.sin(c_x + np.pi/2)\n",
    "    dx_loser = arrfac*np.cos(c_y + np.pi/2)\n",
    "    dy_loser = -arrfac*np.sin(c_y + np.pi/2)\n",
    "    ax.arrow(c_x-horz_gap, c_y-vert_gap, dx=dx_winner, dy=dy_winner, head_width=0.1, color='red')\n",
    "    ax.arrow(c_x+horz_gap, c_y+vert_gap, dx=dx_loser, dy=dy_loser, head_width=0.1, color='blue')\n",
    "    # anti-parallel RE (bottom-right)\n",
    "    c_x = -np.pi/2\n",
    "    c_y = -np.pi/2\n",
    "    horz_gap = 0.15\n",
    "    dx_winner = -arrfac*np.cos(c_x + np.pi/2)\n",
    "    dy_winner = arrfac*np.sin(c_x + np.pi/2)\n",
    "    dx_loser = arrfac*np.cos(c_y + np.pi/2)\n",
    "    dy_loser = -arrfac*np.sin(c_y + np.pi/2)\n",
    "    ax.arrow(c_x+horz_gap, c_y-vert_gap, dx=dx_winner, dy=dy_winner, head_width=0.1, color='red')\n",
    "    ax.arrow(c_x-horz_gap, c_y+vert_gap, dx=dx_loser, dy=dy_loser, head_width=0.1, color='blue')\n",
    "\n",
    "    plt.ion()\n",
    "    return fig"
   ]
  },
  {
   "cell_type": "code",
   "execution_count": 49,
   "id": "91e7e526-5d63-4432-a5a0-88f49b145c08",
   "metadata": {},
   "outputs": [
    {
     "data": {
      "text/plain": [
       "array([ 5.,  3.,  6.,  0.,  1.,  4.,  9., 15., 11.,  8., 14.,  7., 19.,\n",
       "       10., 12.])"
      ]
     },
     "execution_count": 49,
     "metadata": {},
     "output_type": "execute_result"
    }
   ],
   "source": [
    "original_chosen_cluster_idxs"
   ]
  },
  {
   "cell_type": "code",
   "execution_count": null,
   "id": "20488974-2125-40c6-b1dc-1e1abf740d0c",
   "metadata": {},
   "outputs": [],
   "source": []
  },
  {
   "cell_type": "markdown",
   "id": "81516145-23d2-4f72-8285-733425b8f2ee",
   "metadata": {},
   "source": [
    "## main plots for investigating clusters"
   ]
  },
  {
   "cell_type": "code",
   "execution_count": 62,
   "id": "53d4be79-ecc1-46cd-a001-42d9a373e021",
   "metadata": {},
   "outputs": [
    {
     "name": "stdout",
     "output_type": "stream",
     "text": [
      "5.0\n",
      "3.0\n",
      "6.0\n",
      "0.0\n",
      "1.0\n",
      "4.0\n",
      "9.0\n",
      "15.0\n",
      "11.0\n",
      "8.0\n",
      "14.0\n",
      "7.0\n",
      "19.0\n",
      "10.0\n",
      "12.0\n",
      "22.0\n",
      "18.0\n"
     ]
    },
    {
     "name": "stderr",
     "output_type": "stream",
     "text": [
      "/tmp/ipykernel_1702883/2247939510.py:6: RuntimeWarning: More than 20 figures have been opened. Figures created through the pyplot interface (`matplotlib.pyplot.figure`) are retained until explicitly closed and may consume too much memory. (To control this warning, see the rcParam `figure.max_open_warning`).\n",
      "  fig = plt.figure(figsize=(10,11))\n"
     ]
    },
    {
     "name": "stdout",
     "output_type": "stream",
     "text": [
      "21.0\n",
      "31.0\n",
      "23.0\n",
      "20.0\n",
      "2.0\n",
      "34.0\n",
      "27.0\n",
      "16.0\n"
     ]
    }
   ],
   "source": [
    "cluster_figs = []\n",
    "\n",
    "imsavefolder = '/media/liam/hd1/fighting_data/infomap_data/infomap_cluster_ims/'\n",
    "\n",
    "for clusterIdx in cluster_occuring_prob_arr[:25,0]:\n",
    "    print(clusterIdx)\n",
    "    clusterIdx = int(clusterIdx)\n",
    "    fig = plot_summary_of_cluster(clusterIdx)\n",
    "    sp = os.path.join(imsavefolder, '{0}.png'.format(clusterIdx))\n",
    "    dpi=300\n",
    "    fig.savefig(sp, dpi=dpi, transparent=False, bbox_inches='tight', pad_inches=0.5)\n",
    "    #cluster_figs.append(fig)"
   ]
  },
  {
   "cell_type": "code",
   "execution_count": null,
   "id": "bc3f5360-a120-481f-94f7-88140ccd8008",
   "metadata": {},
   "outputs": [],
   "source": []
  },
  {
   "cell_type": "code",
   "execution_count": 63,
   "id": "a4fa66a0-24ac-4e1f-b592-0db3846256e5",
   "metadata": {},
   "outputs": [
    {
     "data": {
      "text/plain": [
       "'/media/liam/hd1/fighting_data/infomap_data/infomap_cluster_ims/all_clusters.pdf'"
      ]
     },
     "execution_count": 63,
     "metadata": {},
     "output_type": "execute_result"
    }
   ],
   "source": [
    "# grab the image paths to combine\n",
    "imagepaths = glob.glob(imsavefolder+'/*.png')\n",
    "imagepaths.sort()\n",
    "\n",
    "# set the output path\n",
    "pdfsavepath =  os.path.join(imsavefolder,'all_clusters.pdf')\n",
    "pdfsavepath"
   ]
  },
  {
   "cell_type": "code",
   "execution_count": 64,
   "id": "92b1d30c-42d0-4016-b3b2-d2f56db78231",
   "metadata": {},
   "outputs": [
    {
     "name": "stderr",
     "output_type": "stream",
     "text": [
      "Image contains an alpha channel which will be stored as a separate soft mask (/SMask) image in PDF.\n",
      "Image contains an alpha channel which will be stored as a separate soft mask (/SMask) image in PDF.\n",
      "Image contains an alpha channel which will be stored as a separate soft mask (/SMask) image in PDF.\n",
      "Image contains an alpha channel which will be stored as a separate soft mask (/SMask) image in PDF.\n",
      "Image contains an alpha channel which will be stored as a separate soft mask (/SMask) image in PDF.\n",
      "Image contains an alpha channel which will be stored as a separate soft mask (/SMask) image in PDF.\n",
      "Image contains an alpha channel which will be stored as a separate soft mask (/SMask) image in PDF.\n",
      "Image contains an alpha channel which will be stored as a separate soft mask (/SMask) image in PDF.\n",
      "Image contains an alpha channel which will be stored as a separate soft mask (/SMask) image in PDF.\n",
      "Image contains an alpha channel which will be stored as a separate soft mask (/SMask) image in PDF.\n",
      "Image contains an alpha channel which will be stored as a separate soft mask (/SMask) image in PDF.\n",
      "Image contains an alpha channel which will be stored as a separate soft mask (/SMask) image in PDF.\n",
      "Image contains an alpha channel which will be stored as a separate soft mask (/SMask) image in PDF.\n",
      "Image contains an alpha channel which will be stored as a separate soft mask (/SMask) image in PDF.\n",
      "Image contains an alpha channel which will be stored as a separate soft mask (/SMask) image in PDF.\n",
      "Image contains an alpha channel which will be stored as a separate soft mask (/SMask) image in PDF.\n",
      "Image contains an alpha channel which will be stored as a separate soft mask (/SMask) image in PDF.\n",
      "Image contains an alpha channel which will be stored as a separate soft mask (/SMask) image in PDF.\n",
      "Image contains an alpha channel which will be stored as a separate soft mask (/SMask) image in PDF.\n",
      "Image contains an alpha channel which will be stored as a separate soft mask (/SMask) image in PDF.\n",
      "Image contains an alpha channel which will be stored as a separate soft mask (/SMask) image in PDF.\n",
      "Image contains an alpha channel which will be stored as a separate soft mask (/SMask) image in PDF.\n",
      "Image contains an alpha channel which will be stored as a separate soft mask (/SMask) image in PDF.\n",
      "Image contains an alpha channel which will be stored as a separate soft mask (/SMask) image in PDF.\n",
      "Image contains an alpha channel which will be stored as a separate soft mask (/SMask) image in PDF.\n"
     ]
    }
   ],
   "source": [
    "with open(pdfsavepath,\"wb\") as f:\n",
    "    f.write(img2pdf.convert(imagepaths))"
   ]
  },
  {
   "cell_type": "code",
   "execution_count": null,
   "id": "919c9988-3634-46a7-a2b8-09926e1b49d1",
   "metadata": {},
   "outputs": [],
   "source": []
  },
  {
   "cell_type": "markdown",
   "id": "b65b9cab-0c0e-4598-a0a8-1a3560133c6e",
   "metadata": {},
   "source": []
  },
  {
   "cell_type": "code",
   "execution_count": null,
   "id": "908e45c3-4166-4389-b4fa-0768891120ac",
   "metadata": {},
   "outputs": [],
   "source": []
  },
  {
   "cell_type": "markdown",
   "id": "ec53152e-169d-48ef-9262-dcc2bbb5de9a",
   "metadata": {},
   "source": [
    "## keeping record of what we will change and update"
   ]
  },
  {
   "cell_type": "code",
   "execution_count": 66,
   "id": "a0a71175-0616-4ee3-a498-15f6a1da412b",
   "metadata": {},
   "outputs": [
    {
     "data": {
      "text/html": [
       "<div>\n",
       "<style scoped>\n",
       "    .dataframe tbody tr th:only-of-type {\n",
       "        vertical-align: middle;\n",
       "    }\n",
       "\n",
       "    .dataframe tbody tr th {\n",
       "        vertical-align: top;\n",
       "    }\n",
       "\n",
       "    .dataframe thead th {\n",
       "        text-align: right;\n",
       "    }\n",
       "</style>\n",
       "<table border=\"1\" class=\"dataframe\">\n",
       "  <thead>\n",
       "    <tr style=\"text-align: right;\">\n",
       "      <th></th>\n",
       "      <th>clusterIdx</th>\n",
       "      <th>edited clusterIdx</th>\n",
       "    </tr>\n",
       "  </thead>\n",
       "  <tbody>\n",
       "    <tr>\n",
       "      <th>0</th>\n",
       "      <td>0</td>\n",
       "      <td>0</td>\n",
       "    </tr>\n",
       "    <tr>\n",
       "      <th>1</th>\n",
       "      <td>1</td>\n",
       "      <td>0</td>\n",
       "    </tr>\n",
       "    <tr>\n",
       "      <th>2</th>\n",
       "      <td>2</td>\n",
       "      <td>1</td>\n",
       "    </tr>\n",
       "    <tr>\n",
       "      <th>3</th>\n",
       "      <td>5</td>\n",
       "      <td>2</td>\n",
       "    </tr>\n",
       "    <tr>\n",
       "      <th>4</th>\n",
       "      <td>3</td>\n",
       "      <td>3</td>\n",
       "    </tr>\n",
       "    <tr>\n",
       "      <th>5</th>\n",
       "      <td>6</td>\n",
       "      <td>3</td>\n",
       "    </tr>\n",
       "    <tr>\n",
       "      <th>6</th>\n",
       "      <td>4</td>\n",
       "      <td>4</td>\n",
       "    </tr>\n",
       "    <tr>\n",
       "      <th>7</th>\n",
       "      <td>11</td>\n",
       "      <td>4</td>\n",
       "    </tr>\n",
       "    <tr>\n",
       "      <th>8</th>\n",
       "      <td>9</td>\n",
       "      <td>5</td>\n",
       "    </tr>\n",
       "    <tr>\n",
       "      <th>9</th>\n",
       "      <td>7</td>\n",
       "      <td>6</td>\n",
       "    </tr>\n",
       "    <tr>\n",
       "      <th>10</th>\n",
       "      <td>10</td>\n",
       "      <td>6</td>\n",
       "    </tr>\n",
       "    <tr>\n",
       "      <th>11</th>\n",
       "      <td>8</td>\n",
       "      <td>7</td>\n",
       "    </tr>\n",
       "    <tr>\n",
       "      <th>12</th>\n",
       "      <td>15</td>\n",
       "      <td>7</td>\n",
       "    </tr>\n",
       "    <tr>\n",
       "      <th>13</th>\n",
       "      <td>14</td>\n",
       "      <td>8</td>\n",
       "    </tr>\n",
       "    <tr>\n",
       "      <th>14</th>\n",
       "      <td>19</td>\n",
       "      <td>8</td>\n",
       "    </tr>\n",
       "    <tr>\n",
       "      <th>15</th>\n",
       "      <td>12</td>\n",
       "      <td>9</td>\n",
       "    </tr>\n",
       "  </tbody>\n",
       "</table>\n",
       "</div>"
      ],
      "text/plain": [
       "    clusterIdx  edited clusterIdx\n",
       "0            0                  0\n",
       "1            1                  0\n",
       "2            2                  1\n",
       "3            5                  2\n",
       "4            3                  3\n",
       "5            6                  3\n",
       "6            4                  4\n",
       "7           11                  4\n",
       "8            9                  5\n",
       "9            7                  6\n",
       "10          10                  6\n",
       "11           8                  7\n",
       "12          15                  7\n",
       "13          14                  8\n",
       "14          19                  8\n",
       "15          12                  9"
      ]
     },
     "execution_count": 66,
     "metadata": {},
     "output_type": "execute_result"
    }
   ],
   "source": [
    "original_cluster_idxs = []\n",
    "edited_cluster_idxs = []\n",
    "cluster_names = []\n",
    "\n",
    "# close antiparallel swimming will be new zero idx, \n",
    "# and gets clusterIdxs 0 and 1\n",
    "original_cluster_idxs.append(0)\n",
    "edited_cluster_idxs.append(0)\n",
    "original_cluster_idxs.append(1)\n",
    "edited_cluster_idxs.append(0)\n",
    "cluster_names.append('circling')\n",
    "\n",
    "# swimming away will be new 1 index\n",
    "# and gets clusterIdxs 2\n",
    "original_cluster_idxs.append(2)\n",
    "edited_cluster_idxs.append(1)\n",
    "cluster_names.append('direct away')\n",
    "\n",
    "\n",
    "# close winner attack will be new 2 index\n",
    "# and gets clusterIdxs 5\n",
    "original_cluster_idxs.append(5)\n",
    "edited_cluster_idxs.append(2)\n",
    "cluster_names.append('winner attack')\n",
    "\n",
    "\n",
    "# close loser attack will be new 3 index\n",
    "# and gets clusterIdxs 3,6\n",
    "original_cluster_idxs.append(3)\n",
    "edited_cluster_idxs.append(3)\n",
    "original_cluster_idxs.append(6)\n",
    "edited_cluster_idxs.append(3)\n",
    "cluster_names.append('loser attack')\n",
    "\n",
    "\n",
    "# close parallel with be new 4 index,\n",
    "# and gets clusterIdxs 4 and 11\n",
    "original_cluster_idxs.append(4)\n",
    "edited_cluster_idxs.append(4)\n",
    "original_cluster_idxs.append(11)\n",
    "edited_cluster_idxs.append(4)\n",
    "cluster_names.append('display')\n",
    "\n",
    "# close direct approach will be new index 5,\n",
    "# and will get clusteridx 9\n",
    "original_cluster_idxs.append(9)\n",
    "edited_cluster_idxs.append(5)\n",
    "cluster_names.append('direct approach (close)')\n",
    "\n",
    "\n",
    "# anti-parallel 4-8cm will be new index 6,\n",
    "# and will get clusteridx 7,10\n",
    "original_cluster_idxs.append(7)\n",
    "edited_cluster_idxs.append(6)\n",
    "original_cluster_idxs.append(10)\n",
    "edited_cluster_idxs.append(6)\n",
    "cluster_names.append('middle circling')\n",
    "\n",
    "\n",
    "# middle distance loser approach will be new index 7,\n",
    "# and will get clusteridx 8,15\n",
    "original_cluster_idxs.append(8)\n",
    "edited_cluster_idxs.append(7)\n",
    "original_cluster_idxs.append(15)\n",
    "edited_cluster_idxs.append(7)\n",
    "cluster_names.append('loser approach')\n",
    "\n",
    "\n",
    "# middle distance winner approach will be new index 8,\n",
    "# and will get clusteridx 14,19\n",
    "original_cluster_idxs.append(14)\n",
    "edited_cluster_idxs.append(8)\n",
    "original_cluster_idxs.append(19)\n",
    "edited_cluster_idxs.append(8)\n",
    "cluster_names.append('winner approach')\n",
    "\n",
    "\n",
    "# parallel will be new index 9,\n",
    "# and will get clusteridx 12\n",
    "original_cluster_idxs.append(12)\n",
    "edited_cluster_idxs.append(9)\n",
    "cluster_names.append('parallel')\n",
    "\n",
    "\n",
    "\n",
    "\n",
    "# make a dataframe of updates\n",
    "column_names = ['clusterIdx', 'edited clusterIdx']\n",
    "update_df = pd.DataFrame(data=np.stack((original_cluster_idxs, edited_cluster_idxs), axis=1), columns=column_names)\n",
    "update_df"
   ]
  },
  {
   "cell_type": "code",
   "execution_count": null,
   "id": "ac4520ce-d79c-42c5-97d4-002c6eb72fb4",
   "metadata": {},
   "outputs": [],
   "source": []
  },
  {
   "cell_type": "code",
   "execution_count": null,
   "id": "c81c7a85-b939-4d2c-b1f8-05d02063f492",
   "metadata": {},
   "outputs": [],
   "source": [
    "\n"
   ]
  },
  {
   "cell_type": "code",
   "execution_count": 70,
   "id": "7625701a-1d3b-4251-954e-75321bc6f7c6",
   "metadata": {},
   "outputs": [],
   "source": [
    "# save the information for this dataFrame\n",
    "infomap_edited_cluster_info_path = os.path.join( os.path.dirname(os.path.dirname(main_load_folder)) , \n",
    "                                                  'infomap_data/editing_clusterIdx_info.h5')\n",
    "with h5py.File(infomap_edited_cluster_info_path, 'w') as hf:\n",
    "    hf.create_dataset('original_cluster_idxs', data=original_cluster_idxs)\n",
    "    hf.create_dataset('edited_cluster_idxs', data=edited_cluster_idxs)"
   ]
  },
  {
   "cell_type": "code",
   "execution_count": null,
   "id": "efac2300-751f-4e55-a56e-8e220e8c0cfa",
   "metadata": {},
   "outputs": [],
   "source": []
  },
  {
   "cell_type": "code",
   "execution_count": null,
   "id": "ae97c3f7-68f0-4d29-ac23-f318778cb623",
   "metadata": {},
   "outputs": [],
   "source": []
  },
  {
   "cell_type": "markdown",
   "id": "84c7d576-55c6-41b7-a710-23ec8679c4aa",
   "metadata": {
    "tags": []
   },
   "source": [
    "## create the new timeseries"
   ]
  },
  {
   "cell_type": "code",
   "execution_count": 81,
   "id": "f36e4d0e-79e2-4694-a468-40d7fd2518aa",
   "metadata": {},
   "outputs": [],
   "source": [
    "# We have already applied the raw infomap clustering, to generate clusterIdx tseries for each experiment.\n",
    "# Now we want to edit these, using the above information"
   ]
  },
  {
   "cell_type": "code",
   "execution_count": 43,
   "id": "09c5f451-2d6d-4988-a3ff-52fb08d878a7",
   "metadata": {},
   "outputs": [
    {
     "data": {
      "text/plain": [
       "22"
      ]
     },
     "execution_count": 43,
     "metadata": {},
     "output_type": "execute_result"
    }
   ],
   "source": [
    "len(all_exps_clusterIdx_tseries)"
   ]
  },
  {
   "cell_type": "code",
   "execution_count": null,
   "id": "495dab46-1f23-481b-81b8-697d62f1167e",
   "metadata": {},
   "outputs": [],
   "source": []
  },
  {
   "cell_type": "markdown",
   "id": "0d51c608-6172-4eac-a587-bee1de638bec",
   "metadata": {},
   "source": [
    "### compute"
   ]
  },
  {
   "cell_type": "code",
   "execution_count": 44,
   "id": "5714a107-082f-4356-b591-8821591efee4",
   "metadata": {},
   "outputs": [
    {
     "name": "stdout",
     "output_type": "stream",
     "text": [
      "0.3532085418701172\n"
     ]
    }
   ],
   "source": [
    "t0 = time.time()\n",
    "\n",
    "# how many assignings did we make above\n",
    "numClusterAssignments = update_df.shape[0]\n",
    "\n",
    "# create a new list to hold the results for each experiment\n",
    "all_exps_edited_clusterIdx_tseries = []\n",
    "\n",
    "for expIdx in range(len(all_exps_clusterIdx_tseries)):\n",
    "    # get the old tseries for parsing\n",
    "    old_tseries = np.copy(all_exps_clusterIdx_tseries[expIdx])\n",
    "    # preallocate an array to hold the new results for this experiment\n",
    "    new_tseries = np.ones_like(all_exps_clusterIdx_tseries[expIdx])*-1\n",
    "    # the new tseries is all -1.\n",
    "    # make it NaN where the old one was Nan, and then assign the new clusteridxs where appropriate\n",
    "    new_tseries[np.isnan(old_tseries)] = np.NaN\n",
    "    for rowIdx in range(numClusterAssignments):\n",
    "        oldIdx = update_df['clusterIdx'].iloc[rowIdx]\n",
    "        newIdx = update_df['edited clusterIdx'].iloc[rowIdx]\n",
    "        new_tseries[old_tseries==oldIdx] = newIdx\n",
    "    all_exps_edited_clusterIdx_tseries.append(new_tseries)\n",
    "\n",
    "# --- save ----- #\n",
    "# save next to the 'raw' clusterIdx tseries\n",
    "all_exp_edited_cluster_tseries_savepath = os.path.join(os.path.dirname(loadpath), 'exp_edited_clusterIdx_timeseries.h5')\n",
    "with h5py.File(all_exp_edited_cluster_tseries_savepath, 'w') as hf:\n",
    "    for expIdx in range(len(expNames)):\n",
    "        expName = expNames[expIdx]\n",
    "        hf.create_dataset('{0}_clusterIdxs'.format(expName), data=all_exps_edited_clusterIdx_tseries[expIdx])\n",
    "\n",
    "        \n",
    "tE = time.time()\n",
    "print(tE-t0)"
   ]
  },
  {
   "cell_type": "code",
   "execution_count": null,
   "id": "bd57a003-4479-4367-8324-0e4ad76953f1",
   "metadata": {},
   "outputs": [],
   "source": []
  },
  {
   "cell_type": "markdown",
   "id": "346fb8ea-9bc3-4658-9887-36257bbf789f",
   "metadata": {},
   "source": [
    "### load"
   ]
  },
  {
   "cell_type": "code",
   "execution_count": 45,
   "id": "7330e44a-a74d-40d4-a211-b1f8cc8107fe",
   "metadata": {},
   "outputs": [
    {
     "data": {
      "text/plain": [
       "(16044324,)"
      ]
     },
     "execution_count": 45,
     "metadata": {},
     "output_type": "execute_result"
    }
   ],
   "source": [
    "# load\n",
    "all_exps_edited_clusterIdx_tseries = []\n",
    "all_exp_edited_cluster_tseries_savepath = os.path.join(os.path.dirname(loadpath), 'exp_edited_clusterIdx_timeseries.h5')\n",
    "with h5py.File(all_exp_edited_cluster_tseries_savepath, 'r') as hf:\n",
    "    for expIdx in range(len(expNames)):\n",
    "        expName = expNames[expIdx]\n",
    "        exp_cls_tseries = hf['{0}_clusterIdxs'.format(expName)][:]\n",
    "        all_exps_edited_clusterIdx_tseries.append(exp_cls_tseries)\n",
    "        \n",
    "# make the master-set\n",
    "clusterIdx_edited_tseries_master = np.concatenate(all_exps_edited_clusterIdx_tseries)\n",
    "clusterIdx_edited_tseries_master.shape"
   ]
  },
  {
   "cell_type": "code",
   "execution_count": null,
   "id": "fa5a2621-ec41-46af-8015-b0ce1ac4733a",
   "metadata": {},
   "outputs": [],
   "source": []
  },
  {
   "cell_type": "markdown",
   "id": "96505cc2-5215-4e54-af92-b725dd7be26e",
   "metadata": {},
   "source": [
    "## Post-process the new timeseries"
   ]
  },
  {
   "cell_type": "code",
   "execution_count": 46,
   "id": "e245e63d-ee9d-4c72-a9d6-462ab84d74f4",
   "metadata": {},
   "outputs": [
    {
     "data": {
      "text/plain": [
       "(14163469,)"
      ]
     },
     "execution_count": 46,
     "metadata": {},
     "output_type": "execute_result"
    }
   ],
   "source": [
    "clusterIdx_edited_tseries_master[~np.isnan(clusterIdx_edited_tseries_master)].shape"
   ]
  },
  {
   "cell_type": "code",
   "execution_count": 47,
   "id": "c1a5303f-22aa-47af-9597-0e6b4d0be351",
   "metadata": {},
   "outputs": [
    {
     "data": {
      "text/plain": [
       "array([-1.,  0.,  1.,  2.,  3.,  4.,  5.,  6.,  7.,  8.,  9.])"
      ]
     },
     "execution_count": 47,
     "metadata": {},
     "output_type": "execute_result"
    }
   ],
   "source": [
    "np.unique(clusterIdx_edited_tseries_master[~np.isnan(clusterIdx_edited_tseries_master)])"
   ]
  },
  {
   "cell_type": "code",
   "execution_count": null,
   "id": "72ec0bb7-e0f0-406e-96f7-45c142525986",
   "metadata": {},
   "outputs": [],
   "source": []
  },
  {
   "cell_type": "code",
   "execution_count": 48,
   "id": "3b21812d-1b28-4866-a263-66841fdaa71f",
   "metadata": {},
   "outputs": [
    {
     "data": {
      "text/plain": [
       "(16044324,)"
      ]
     },
     "execution_count": 48,
     "metadata": {},
     "output_type": "execute_result"
    }
   ],
   "source": [
    "clusterIdx_edited_tseries_master.shape"
   ]
  },
  {
   "cell_type": "code",
   "execution_count": 49,
   "id": "382ccf40-ab1b-4074-851a-c24a85e43b99",
   "metadata": {},
   "outputs": [
    {
     "data": {
      "text/plain": [
       "10"
      ]
     },
     "execution_count": 49,
     "metadata": {},
     "output_type": "execute_result"
    }
   ],
   "source": [
    "numLabelledClusters = len(cluster_names)\n",
    "numLabelledClusters"
   ]
  },
  {
   "cell_type": "code",
   "execution_count": null,
   "id": "b91f28d9-5f06-4f78-a369-1360c0e3342a",
   "metadata": {},
   "outputs": [],
   "source": [
    "# the most common dwelling time is 1 frame.\n",
    "# let's reintroduce post-processing like we did in the past"
   ]
  },
  {
   "cell_type": "code",
   "execution_count": 50,
   "id": "1297618b-c095-42ad-b6c0-97c67469f9f2",
   "metadata": {},
   "outputs": [
    {
     "name": "stdout",
     "output_type": "stream",
     "text": [
      "22\n",
      "(16044324,)\n"
     ]
    }
   ],
   "source": [
    "print(len(all_exps_edited_clusterIdx_tseries))\n",
    "print(clusterIdx_edited_tseries_master.shape)"
   ]
  },
  {
   "cell_type": "code",
   "execution_count": 51,
   "id": "9cf20529-53da-407f-9490-9a98ade5fa4d",
   "metadata": {},
   "outputs": [],
   "source": [
    "# --- params --- #\n",
    "MINSIZE = 5  # remove any contiguous regions smaller than MINSIZE\n",
    "MAXGAP= 5   # join together contiguous regions of same clusterIdx separated by less than MAXGAP frames\n",
    "\n",
    "# first remove small regions\n",
    "# then join regions "
   ]
  },
  {
   "cell_type": "code",
   "execution_count": null,
   "id": "c1d60e16-5bca-473c-aa4c-62418f591f4c",
   "metadata": {},
   "outputs": [],
   "source": []
  },
  {
   "cell_type": "code",
   "execution_count": 52,
   "id": "e398f1c2-3945-4ee0-b764-6b338c780a32",
   "metadata": {},
   "outputs": [],
   "source": [
    "# --- Make a list of post-processed edited clusterIdx tseries --- #\n",
    "# this will be updated in the coming sections\n",
    "all_exps_edited_postProced_clusterIdx_tseries = []\n",
    "for expIdx in range(len(expNames)):\n",
    "    edited_postProced_cls_ts = np.copy(all_exps_edited_clusterIdx_tseries[expIdx])\n",
    "    all_exps_edited_postProced_clusterIdx_tseries.append(edited_postProced_cls_ts)\n",
    "    "
   ]
  },
  {
   "cell_type": "code",
   "execution_count": null,
   "id": "2e3f7bd3-f48b-4585-b06f-e2b234ffab98",
   "metadata": {},
   "outputs": [],
   "source": [
    "## FOR NOW, FORGET REMOVING SMALL GAPS"
   ]
  },
  {
   "cell_type": "code",
   "execution_count": 140,
   "id": "91e1635f-8081-4ff2-93ec-88f2d4547e8e",
   "metadata": {},
   "outputs": [],
   "source": [
    "# # --- Remove small contiguous regions --- #\n",
    "# # MINSIZE\n",
    "\n",
    "# for expIdx in range(len(expNames)):\n",
    "#     # dont make a copy, because we want to edit the entries of all_exps_edited_postProced_clusterIdx_tseries\n",
    "#     exp_edited_postProced_cls_ts = all_exps_edited_postProced_clusterIdx_tseries[expIdx]\n",
    "\n",
    "#     # loop over clusterIdxs, leaving -1 alone\n",
    "#     for clusterIdx in range(numLabelledClusters):\n",
    "        \n",
    "#         # create a binary array\n",
    "#         exp_clIdx_bin_arr = exp_edited_postProced_cls_ts == clusterIdx\n",
    "\n",
    "#         # get the regions and lenghts\n",
    "#         regions = contiguous_regions(exp_clIdx_bin_arr)\n",
    "#         lengths = np.diff(regions, axis=1)[:,0]\n",
    "\n",
    "#         # NaN any regions smaller than MINSIZE in original array\n",
    "#         for regIdx in range(regions.shape[0]):\n",
    "#             regSize = lengths[regIdx]\n",
    "#             r0,rF = regions[regIdx]\n",
    "#             if regSize < MINSIZE:\n",
    "#                 exp_edited_postProced_cls_ts[r0:rF] = np.NaN\n",
    "\n"
   ]
  },
  {
   "cell_type": "code",
   "execution_count": null,
   "id": "c0536297-64e8-42c9-a29c-4dcd3b62d2d9",
   "metadata": {},
   "outputs": [],
   "source": []
  },
  {
   "cell_type": "code",
   "execution_count": null,
   "id": "b87e3dce-8130-4536-8e23-fa471ccfd5d8",
   "metadata": {},
   "outputs": [],
   "source": []
  },
  {
   "cell_type": "code",
   "execution_count": 141,
   "id": "6cc24d4d-78ae-40ec-beb3-99e5492a5fe6",
   "metadata": {},
   "outputs": [],
   "source": [
    "# # plot histograms of the contiguous region occupancies\n",
    "\n",
    "\n",
    "# clusterIdx_edited_postProced_tseries_master = np.concatenate(all_exps_edited_postProced_clusterIdx_tseries)\n",
    "\n",
    "# post_processed_cluster_regions_sizes = []\n",
    "\n",
    "# for clIdx in range(numLabelledClusters):\n",
    "#     # get a bool array representing true for this clusterIdx\n",
    "#     clIdx_boolarr = clusterIdx_edited_postProced_tseries_master == clIdx\n",
    "#     # get the contiguous regions of this bool array\n",
    "#     cl_regions = contiguous_regions(clIdx_boolarr)\n",
    "#     # get the size of the regions\n",
    "#     cl_region_sizes = np.diff(cl_regions, axis=1).reshape(-1)\n",
    "#     post_processed_cluster_regions_sizes.append(cl_region_sizes)\n",
    "\n",
    "# occupancy_bins = [np.arange(0, 50, 1)]*numLabelledClusters\n",
    "\n",
    "# fig, axs = plt.subplots(nrows=numLabelledClusters, figsize=(10,15))\n",
    "# fig.suptitle('Histogram of cluster dwell times\\n\\n')\n",
    "\n",
    "# for clIdx in range(numLabelledClusters):\n",
    "#     ax = axs[clIdx]\n",
    "#     ax.set_title(cluster_names[clIdx])\n",
    "#     ax.hist(post_processed_cluster_regions_sizes[clIdx], bins=occupancy_bins[clIdx], density=True)\n",
    "#     ax.axvline(np.nanmean(post_processed_cluster_regions_sizes[clIdx]))\n",
    "#     ax.set_xlabel('frames')\n",
    "#     ax.set_xticks([i*5 for i in range(11)])\n",
    "    \n",
    "# # set xlabel on last plot\n",
    "# axs[-1].set_xlabel('frames')\n",
    "    \n",
    "# fig.tight_layout()"
   ]
  },
  {
   "cell_type": "code",
   "execution_count": null,
   "id": "44c5ca1c-5df5-42d6-a5ff-0325ee65e7de",
   "metadata": {},
   "outputs": [],
   "source": []
  },
  {
   "cell_type": "code",
   "execution_count": 55,
   "id": "ca454c93-3bd8-42cd-9b0b-37796d5e7777",
   "metadata": {},
   "outputs": [],
   "source": [
    "# --- Merge contiguous regions with smaller separations --- #\n",
    "# MAXGAP\n",
    "\n",
    "\n",
    "for expIdx in range(len(expNames)):\n",
    "    # dont make a copy, because we want to edit the entries of all_exps_edited_postProced_clusterIdx_tseries\n",
    "    exp_edited_postProced_cls_ts = all_exps_edited_postProced_clusterIdx_tseries[expIdx]\n",
    "    \n",
    "    # loop over clusters, ignoring -1\n",
    "    for clusterIdx in range(numLabelledClusters):\n",
    "        # create a binary array, and the inverse binary array\n",
    "        # (where clusterIdx is, and where clusterIdx isn't )\n",
    "        exp_clIdx_bin_arr_original = exp_edited_postProced_cls_ts == clusterIdx\n",
    "        exp_clIdx_bin_arr_inverse = ~exp_clIdx_bin_arr_original\n",
    "        \n",
    "        # get the regions, and lengths, of the inverse,\n",
    "        # where these regions are now contiguous gaps between clusterIdx contiguous regions\n",
    "        inverse_region_data = contiguous_regions(exp_clIdx_bin_arr_inverse)\n",
    "        inverse_region_lengths = np.diff(inverse_region_data, axis=1)[:,0]\n",
    "        \n",
    "        #---- Apply MAXGAP --- #\n",
    "        # join contiguous regions which are separated by less than MAXGAP\n",
    "        for regionIdx in range(inverse_region_lengths.shape[0]):\n",
    "            if inverse_region_lengths[regionIdx] <= MAXGAP:\n",
    "                f0, fE = inverse_region_data[regionIdx]\n",
    "                exp_edited_postProced_cls_ts[f0:fE] = clusterIdx\n",
    "        "
   ]
  },
  {
   "cell_type": "code",
   "execution_count": null,
   "id": "161f80e5-fd4a-45c7-b206-1e5b07ce0e7c",
   "metadata": {},
   "outputs": [],
   "source": []
  },
  {
   "cell_type": "code",
   "execution_count": 143,
   "id": "5ef2fb73-f74f-4971-a652-caeb7e4602a8",
   "metadata": {},
   "outputs": [],
   "source": [
    "# # plot histograms of the contiguous region occupancies\n",
    "\n",
    "\n",
    "# clusterIdx_edited_postProced_tseries_master = np.concatenate(all_exps_edited_postProced_clusterIdx_tseries)\n",
    "\n",
    "# post_processed_cluster_regions_sizes = []\n",
    "\n",
    "# for clIdx in range(numLabelledClusters):\n",
    "#     # get a bool array representing true for this clusterIdx\n",
    "#     clIdx_boolarr = clusterIdx_edited_postProced_tseries_master == clIdx\n",
    "#     # get the contiguous regions of this bool array\n",
    "#     cl_regions = contiguous_regions(clIdx_boolarr)\n",
    "#     # get the size of the regions\n",
    "#     cl_region_sizes = np.diff(cl_regions, axis=1).reshape(-1)\n",
    "#     post_processed_cluster_regions_sizes.append(cl_region_sizes)\n",
    "\n",
    "# occupancy_bins = [np.arange(0, 150, 1)]*numLabelledClusters\n",
    "\n",
    "# fig, axs = plt.subplots(nrows=numLabelledClusters, figsize=(10,15))\n",
    "# fig.suptitle('Histogram of cluster dwell times\\n\\n')\n",
    "\n",
    "# for clIdx in range(numLabelledClusters):\n",
    "#     ax = axs[clIdx]\n",
    "#     ax.set_title(cluster_names[clIdx])\n",
    "#     ax.hist(post_processed_cluster_regions_sizes[clIdx], bins=occupancy_bins[clIdx], density=True, log=True, alpha=0.5)\n",
    "#     ax.axvline(np.nanmean(post_processed_cluster_regions_sizes[clIdx]))\n",
    "#     ax.set_xlabel('frames')\n",
    "#     ax.set_xticks([5]+[i*10 for i in range(16)])\n",
    "    \n",
    "# # set xlabel on last plot\n",
    "# axs[-1].set_xlabel('frames')\n",
    "    \n",
    "# fig.tight_layout()"
   ]
  },
  {
   "cell_type": "code",
   "execution_count": null,
   "id": "13eb86b8-9f4e-4e41-87a7-8c5a5d135a20",
   "metadata": {},
   "outputs": [],
   "source": []
  },
  {
   "cell_type": "code",
   "execution_count": 56,
   "id": "918c3679-9ac0-4b3e-a0e8-bcc0f5d55380",
   "metadata": {},
   "outputs": [],
   "source": [
    "# --- save ----- #\n",
    "# save next to the 'raw' clusterIdx tseries\n",
    "postprocessed_all_exp_edited_cluster_tseries_savepath = os.path.join(os.path.dirname(loadpath), 'postprocessed_exp_edited_clusterIdx_timeseries.h5')\n",
    "with h5py.File(postprocessed_all_exp_edited_cluster_tseries_savepath, 'w') as hf:\n",
    "    for expIdx in range(len(expNames)):\n",
    "        expName = expNames[expIdx]\n",
    "        hf.create_dataset('{0}_clusterIdxs'.format(expName), data=all_exps_edited_postProced_clusterIdx_tseries[expIdx])"
   ]
  },
  {
   "cell_type": "code",
   "execution_count": 156,
   "id": "0b37cd46-8b21-42f7-b036-33472eeed81b",
   "metadata": {},
   "outputs": [
    {
     "data": {
      "text/plain": [
       "'/mnt/e/dataspace/post_processing_infomap/20220119_computation_dppMax_020/postprocessed_exp_edited_clusterIdx_timeseries.h5'"
      ]
     },
     "execution_count": 156,
     "metadata": {},
     "output_type": "execute_result"
    }
   ],
   "source": [
    "postprocessed_all_exp_edited_cluster_tseries_savepath "
   ]
  },
  {
   "cell_type": "code",
   "execution_count": null,
   "id": "2497d601-cc30-47d3-bc6a-7e7659b6ad24",
   "metadata": {},
   "outputs": [],
   "source": []
  },
  {
   "cell_type": "code",
   "execution_count": null,
   "id": "83fab370-7e00-437a-8e5c-f1c2ab70eee5",
   "metadata": {},
   "outputs": [],
   "source": []
  },
  {
   "cell_type": "code",
   "execution_count": null,
   "id": "d9ae43f5-7157-4370-96bf-acef6233ca7a",
   "metadata": {},
   "outputs": [],
   "source": []
  },
  {
   "cell_type": "code",
   "execution_count": 57,
   "id": "d03c2c12-08d5-4cee-893e-e80672d39efa",
   "metadata": {},
   "outputs": [
    {
     "data": {
      "text/plain": [
       "(16044324,)"
      ]
     },
     "execution_count": 57,
     "metadata": {},
     "output_type": "execute_result"
    }
   ],
   "source": [
    "# load\n",
    "all_exps_edited_postProced_clusterIdx_tseries = []\n",
    "postprocessed_all_exp_edited_cluster_tseries_savepath = os.path.join(os.path.dirname(loadpath), 'postprocessed_exp_edited_clusterIdx_timeseries.h5')\n",
    "with h5py.File(postprocessed_all_exp_edited_cluster_tseries_savepath, 'r') as hf:\n",
    "    for expIdx in range(len(expNames)):\n",
    "        expName = expNames[expIdx]\n",
    "        tseries = hf['{0}_clusterIdxs'.format(expName)][:]\n",
    "        all_exps_edited_postProced_clusterIdx_tseries.append(tseries)\n",
    "        \n",
    "# make the master-set\n",
    "clusterIdx_edited_postProced_tseries_master = np.concatenate(all_exps_edited_postProced_clusterIdx_tseries)\n",
    "clusterIdx_edited_postProced_tseries_master.shape"
   ]
  },
  {
   "cell_type": "code",
   "execution_count": null,
   "id": "d6ec8b1b-45d5-4636-a1fa-7b04772598b6",
   "metadata": {},
   "outputs": [],
   "source": []
  },
  {
   "cell_type": "code",
   "execution_count": null,
   "id": "5f197f81-7e4e-4126-b624-b9dc640f92a0",
   "metadata": {},
   "outputs": [],
   "source": []
  },
  {
   "cell_type": "code",
   "execution_count": null,
   "id": "a42c6e06-7069-4a13-b1cb-3b32fb82ac90",
   "metadata": {},
   "outputs": [],
   "source": []
  },
  {
   "cell_type": "code",
   "execution_count": null,
   "id": "70dd9831-c973-4fd3-a55f-8287e3b73617",
   "metadata": {},
   "outputs": [],
   "source": []
  },
  {
   "cell_type": "code",
   "execution_count": null,
   "id": "2ed8e5ce-2fad-4da9-840e-d403fda2787a",
   "metadata": {},
   "outputs": [],
   "source": []
  },
  {
   "cell_type": "code",
   "execution_count": null,
   "id": "f8afa47b-4006-45e4-9b71-572a62b1b553",
   "metadata": {},
   "outputs": [],
   "source": []
  },
  {
   "cell_type": "code",
   "execution_count": null,
   "id": "b9803aee-9d3b-43e4-88e4-8dbc52e08a74",
   "metadata": {},
   "outputs": [],
   "source": []
  }
 ],
 "metadata": {
  "kernelspec": {
   "display_name": "analysis",
   "language": "python",
   "name": "analysis"
  },
  "language_info": {
   "codemirror_mode": {
    "name": "ipython",
    "version": 3
   },
   "file_extension": ".py",
   "mimetype": "text/x-python",
   "name": "python",
   "nbconvert_exporter": "python",
   "pygments_lexer": "ipython3",
   "version": "3.9.7"
  }
 },
 "nbformat": 4,
 "nbformat_minor": 5
}

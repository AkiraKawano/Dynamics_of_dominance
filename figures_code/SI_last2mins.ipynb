{
 "cells": [
  {
   "cell_type": "code",
   "execution_count": null,
   "id": "8dce474b-ff82-45f8-8d31-601d5e217bf3",
   "metadata": {},
   "outputs": [],
   "source": []
  },
  {
   "cell_type": "markdown",
   "id": "a06ad90c-9492-45f0-8c33-97b2c2e15f47",
   "metadata": {},
   "source": [
    "# Notes"
   ]
  },
  {
   "cell_type": "code",
   "execution_count": null,
   "id": "da4dca35-5fa6-4146-a434-25ef59e6192e",
   "metadata": {},
   "outputs": [],
   "source": []
  },
  {
   "cell_type": "code",
   "execution_count": null,
   "id": "3e91f8af-6e77-47c7-9c61-b80df90ef29e",
   "metadata": {},
   "outputs": [],
   "source": []
  },
  {
   "cell_type": "code",
   "execution_count": null,
   "id": "f47abab5-a698-41ee-8d58-d13cd72fc59c",
   "metadata": {},
   "outputs": [],
   "source": []
  },
  {
   "cell_type": "markdown",
   "id": "0b7a9bb6-1767-41e8-92dc-fddd198bce9e",
   "metadata": {},
   "source": [
    "# Imports"
   ]
  },
  {
   "cell_type": "code",
   "execution_count": 8,
   "id": "0ffc9353-7621-4809-8238-000f55235c2a",
   "metadata": {},
   "outputs": [
    {
     "name": "stdout",
     "output_type": "stream",
     "text": [
      "The autoreload extension is already loaded. To reload it, use:\n",
      "  %reload_ext autoreload\n"
     ]
    }
   ],
   "source": [
    "import numpy as np\n",
    "np.set_printoptions(suppress=True)\n",
    "import h5py\n",
    "import time\n",
    "import glob\n",
    "import pandas as pd\n",
    "import matplotlib.pyplot as plt\n",
    "import seaborn as sns\n",
    "import os\n",
    "import sys\n",
    "%matplotlib widget\n",
    "%load_ext autoreload\n",
    "%autoreload 2\n",
    "\n",
    "# --- import functions for computing kinematic variables --- #\n",
    "sys.path.append('../tracking_code/lib/')\n",
    "sys.path.append('./lib/')\n"
   ]
  },
  {
   "cell_type": "code",
   "execution_count": null,
   "id": "038d254d-0e40-468f-8d2f-20a16e5a2340",
   "metadata": {},
   "outputs": [],
   "source": []
  },
  {
   "cell_type": "code",
   "execution_count": null,
   "id": "9013180b-cd2e-465e-8cb5-664caeb4bb88",
   "metadata": {},
   "outputs": [],
   "source": []
  },
  {
   "cell_type": "code",
   "execution_count": null,
   "id": "021ce29f-a439-4cfb-8d8e-687b7f6d1825",
   "metadata": {},
   "outputs": [],
   "source": []
  },
  {
   "cell_type": "markdown",
   "id": "e30d0a2e-1a41-473c-ba47-465bb8ceeb55",
   "metadata": {},
   "source": [
    "# Functions "
   ]
  },
  {
   "cell_type": "code",
   "execution_count": 9,
   "id": "f5cbdd2d-6e04-47f3-9295-b9f1f9628a31",
   "metadata": {},
   "outputs": [],
   "source": [
    "def return_state_probabilities_from_state_tseries(state_tseries, numLabelledStates):\n",
    "    ''' Return the probabilities of each state in the state_tseries. \n",
    "        Each value in state_tseries is between 0 and numLabelledStates-1, or NaN,\n",
    "        or -1 if it was belonging to another cluster (nonlabelled cluster)\n",
    "        Return the probability of each state as a vector, with the last entry being prob\n",
    "        of another cluster, and NaN data excluded.\n",
    "    \n",
    "    --- args ---\n",
    "    state_tseries: a 1D timeseries of cluster indexes, starting from -1,  \n",
    "                   Can contains NaNs.\n",
    "    numLabelledStates: the number of state indices that should appear in state_tseries.\n",
    "                       Pass this in case no values are found for some indices, in which\n",
    "                       case we know how many zero probabilities to return.\n",
    "               \n",
    "    --- returns ---\n",
    "    state_probs: 1D array of shape (numLabelledStates+1,), containing the probability of \n",
    "                 each cluster idx and lastly the probability of nonlabelled clusters\n",
    "    '''\n",
    "    # add one state for -1 (nonlabelled cluster)\n",
    "    numStates = numLabelledStates + 1\n",
    "    # preallocate the output\n",
    "    state_probs = np.zeros((numStates,))\n",
    "    #  find the number of frames in total excluding NaN frames\n",
    "    state_tseries_nanless = state_tseries[~np.isnan(state_tseries)]\n",
    "    numFrames = state_tseries_nanless.shape[0]\n",
    "    # if we have no non-nan frames, all probs are zero except the last\n",
    "    if numFrames == 0:\n",
    "        return state_probs\n",
    "    else:\n",
    "        # first compute main states probs\n",
    "        for stateIdx in range(numLabelledStates):\n",
    "            state_counts = np.where(state_tseries_nanless==stateIdx)[0].shape[0]\n",
    "            state_probs[stateIdx] = state_counts / numFrames\n",
    "        # now add the final NaN probability\n",
    "        other_state_counts = np.where(state_tseries_nanless==-1)[0].shape[0]\n",
    "        state_probs[-1] = other_state_counts / numFrames\n",
    "        return state_probs\n",
    "\n",
    "\n",
    "    \n",
    "def compute_state_probabilities_in_time_windows(state_tseries, time_windows, numLabelledStates):\n",
    "    ''' Compute the probability of each of the state indices in state_tseries, in\n",
    "        each of the windows in time_windows.\n",
    "    \n",
    "    --- args ---\n",
    "    state_tseries: a 1D timeseries of cluster indexes, starting from 0 to (numLabelledClusters-1)\n",
    "                   for the labelled states, -1 for all nonlabelled states, and NaN for missing data.\n",
    "    time_windows: array of shape (numWins,2), where each row contains a start frame\n",
    "                  and a stop frame which define a region in time. The probabilities\n",
    "                  are estimated in each of these regions in time.\n",
    "    numLabelledStates: the number of state indices that should appear in state_tseries.\n",
    "                       Pass this in case no values are found for some indices, in which\n",
    "                       case we know how many zero probabilities to return.\n",
    "               \n",
    "    --- returns ---\n",
    "    window_state_probabilities: a (numWinds, numLabelledStates+1) array containing the \n",
    "                                probability of each cluster idx and lastly the probability of \n",
    "                                nonlabelled cluster occuring. \n",
    "                                \n",
    "    --- see also ---\n",
    "    return_state_probabilities_from_state_tseries: \n",
    "    the function which does the main computation in each time window.\n",
    "    \n",
    "    '''\n",
    "    numWins = time_windows.shape[0]\n",
    "    window_state_probabilities = np.zeros((numWins, numLabelledStates+1)) # plus1 for the nonlabelled states\n",
    "    for winIdx in range(numWins):\n",
    "        w0,wE = time_windows[winIdx]\n",
    "        win_data = state_tseries[w0:wE]\n",
    "        win_state_probs = return_state_probabilities_from_state_tseries(win_data, numLabelledStates)\n",
    "        window_state_probabilities[winIdx] = win_state_probs\n",
    "    return window_state_probabilities"
   ]
  },
  {
   "cell_type": "code",
   "execution_count": 10,
   "id": "d3604225-ea0f-4ec2-b9d6-294ee608de9e",
   "metadata": {},
   "outputs": [],
   "source": [
    "def return_region_win_state_probs(region_data, all_exp_window_state_probabilities, all_exp_time_windows, all_exp_numFrames):\n",
    "    ''' Return the list over fight-bouts, containing the windowed state probabilities for the chosen region.\n",
    "    \n",
    "    --- args ---\n",
    "    region_data: array (numBouts,3), where first col is exp idxs, 2nd and 3rd cols are the start/stop\n",
    "                 frames of certain regions, e.g. 3 mins before a fightbout.\n",
    "    \n",
    "    all_exp_window_state_probabilities: the list over experiments, containing the windowed state probability of\n",
    "                                        infomap clusters, e.g. each element of the list is a (numWins, 11) array,\n",
    "                                        where 11 is the number of states and state vals sum to 1.\n",
    "                                        \n",
    "    all_exp_time_windows: the list over experiments, with elements being the time windows associated with the \n",
    "                          state probabilities in all_exp_window_state_probabilities.\n",
    "                          \n",
    "    all_exp_numFrames: a list over experiments containing the number of frames in each experiment.\n",
    "                          \n",
    "    --- return ---\n",
    "    exps_region_win_state_probs: a list over fight bouts, where each element is a (numRegionWins,numStates) array\n",
    "                                 of state proabilities for windows during the chosen region for a particular fight bout.\n",
    "                                 \n",
    "    --- see also ---\n",
    "    find_time_window_indices_bounding_start_and_stop_frame()\n",
    "    \n",
    "    '''\n",
    "    #exps_region_time_wins = []\n",
    "    exps_region_win_state_probs = []\n",
    "\n",
    "    skipped_bIdxs = []\n",
    "    for bIdx in range(region_data.shape[0]):\n",
    "        expIdx, t0, tE = region_data[bIdx]\n",
    "        \n",
    "        # if t0 is negative, exclude this fight bout\n",
    "        # if tE is greater than the number of frames in the experiment, exclude fight bout\n",
    "        if t0 < 0:\n",
    "            skipped_bIdxs.append(bIdx)\n",
    "            continue\n",
    "        expnfs = expNumFrames[expIdx]\n",
    "        if tE > expnfs:\n",
    "            skipped_bIdxs.append(bIdx)\n",
    "            continue\n",
    "\n",
    "        exp_win_state_probs = all_exp_window_state_probabilities[expIdx]\n",
    "        exp_time_wins = all_exp_time_windows[expIdx]\n",
    "\n",
    "        desired_first_win_idx, desired_last_win_idx = find_time_window_indices_bounding_start_and_stop_frame(exp_time_wins, \n",
    "                                                                                                             t0, tE)\n",
    "\n",
    "        #region_time_wins = exp_time_wins[desired_first_win_idx:desired_last_win_idx+1, :] #+1 to get the last win\n",
    "        region_win_state_probs = np.copy(exp_win_state_probs[desired_first_win_idx:desired_last_win_idx+1, :])\n",
    "\n",
    "        #exps_region_time_wins.append(region_time_wins)\n",
    "        exps_region_win_state_probs.append(region_win_state_probs)\n",
    "    \n",
    "    \n",
    "    return exps_region_win_state_probs\n",
    "\n",
    "\n",
    "\n",
    "def find_time_window_indices_bounding_start_and_stop_frame(time_windows, startFrame, stopFrame):\n",
    "    ''' Return the time window indices of which bound the startFrame and stopFrame.\n",
    "    \n",
    "    The idea is to allow for the parsing of time_windows, to choose only windows that contain\n",
    "    no contributions for timepoints outside of the interval [startFrame, stopFrame]\n",
    "    \n",
    "    --- Example ---\n",
    "    time_windows = np.array([[     0,   6000],\n",
    "                            [   100,   6100],\n",
    "                            [   200,   6200],\n",
    "                            ...,\n",
    "                            [711600, 717600],\n",
    "                            [711700, 717700],\n",
    "                            [711800, 717800]])\n",
    "    startFrame = 36000\n",
    "    stopFrame = 66000\n",
    "                       \n",
    "    desired_first_win_idx, desired_first_win_idx = f(time_windows, startFrame, stopFrame)\n",
    "    time_windows[desired_first_win_idx] = array([36000, 42000])\n",
    "    time_windows[desired_last_win_idx] = array([60000, 66000])                  \n",
    "    \n",
    "    -- returns --\n",
    "    desired_first_win_idx, desired_first_win_idx: int, int\n",
    "    \n",
    "    '''\n",
    "    desired_first_win_idx = np.where(time_windows[:,0] >= startFrame)[0][0]\n",
    "    desired_last_win_idx = np.where(time_windows[:,1] >= stopFrame)[0][0]\n",
    "    return desired_first_win_idx, desired_last_win_idx\n",
    "\n",
    "\n",
    "\n",
    "def return_overlapping_windows_for_timeframes(numFrames, window_size=200, window_step=50):\n",
    "    ''' Given a number of frames, return an 2D array of window start-stop frames.\n",
    "    '''\n",
    "    # define, for clarity, the first window\n",
    "    win0_start = 0\n",
    "    win0_mid = int(window_size/2)\n",
    "    win0_end = int(window_size)\n",
    "\n",
    "    # find numWindows, by adding incrementally and watching the last frame\n",
    "    last_frame_in_windows = win0_end\n",
    "    numWindows = 1\n",
    "    while last_frame_in_windows < (numFrames - window_step):\n",
    "        numWindows += 1\n",
    "        last_frame_in_windows = win0_end + (numWindows-1)*window_step\n",
    "\n",
    "    # now fill-in the windows array of frame indices\n",
    "    windows = np.zeros((numWindows, 2))\n",
    "    windows[0, 0] = 0\n",
    "    windows[0, 1] = win0_end\n",
    "    for winIdx in range(1, numWindows):\n",
    "        w0 = winIdx*window_step\n",
    "        wF = w0 + window_size\n",
    "        windows[winIdx, 0] = w0\n",
    "        windows[winIdx, 1] = wF\n",
    "    return windows.astype(int)"
   ]
  },
  {
   "cell_type": "code",
   "execution_count": null,
   "id": "4a3f16a7-8d95-49a7-b61a-08b58dd1ee35",
   "metadata": {},
   "outputs": [],
   "source": []
  },
  {
   "cell_type": "code",
   "execution_count": null,
   "id": "b433d0fd-d176-4342-94b3-a82de654a304",
   "metadata": {},
   "outputs": [],
   "source": []
  },
  {
   "cell_type": "code",
   "execution_count": null,
   "id": "c9e4d905-38ea-4388-9478-1dfaf04f0f83",
   "metadata": {},
   "outputs": [],
   "source": []
  },
  {
   "cell_type": "code",
   "execution_count": null,
   "id": "f8c2c67d-d0a5-4306-a8de-123246dd396a",
   "metadata": {},
   "outputs": [],
   "source": []
  },
  {
   "cell_type": "markdown",
   "id": "b18834f3-9b81-4857-930a-1be269f4a3a6",
   "metadata": {},
   "source": [
    "# load the tracking data"
   ]
  },
  {
   "cell_type": "code",
   "execution_count": null,
   "id": "a801f802-708e-46ad-b624-f54528e9ba60",
   "metadata": {},
   "outputs": [],
   "source": []
  },
  {
   "cell_type": "code",
   "execution_count": 11,
   "id": "1a230372-ee0f-4866-8599-ae624503ce04",
   "metadata": {},
   "outputs": [],
   "source": [
    "main_load_folder = '/media/liam/hd1/fighting_data/tracking_results/'\n",
    "\n",
    "# ----------------------#\n",
    "\n",
    "interp_polyOrd=1  # the order of the polynomial used for interpolation\n",
    "interp_limit=5    # the maximum number of frames to interpolate over\n",
    "savgol_win=9      # the number of frames for the Savitzky-Golay filter\n",
    "savgol_ord=2      # the polynomial order for the Savitzky-Golay filter\n",
    "dt=0.01           # the frame rate of the recording\n",
    "\n",
    "\n",
    "# the filepaths for loading the infomap timeseries data we need\n",
    "infomap_data_loadpath = os.path.join( os.path.dirname(os.path.dirname(main_load_folder)) , \n",
    "                                      'infomap_data/transmat_and_infomap.h5')\n",
    "\n",
    "# the path for loading the fightbout info\n",
    "fightBouts_info_path = os.path.join(main_load_folder, 'fightBouts.h5')\n",
    "\n",
    "\n",
    "# -----------------------#\n",
    "\n",
    "loadpaths = glob.glob(os.path.join(main_load_folder, '*results.h5'))\n",
    "loadpaths.sort()\n",
    "\n",
    "# parse the exp names\n",
    "expNames = [path.split('/')[-1][:23] for path in loadpaths]\n",
    "\n",
    "\n",
    "raw_trajectories = []\n",
    "for path in loadpaths:\n",
    "    with h5py.File(path, 'r') as hf:\n",
    "        tracks_3D_raw = hf['tracks_3D_raw'][:]\n",
    "    raw_trajectories.append(tracks_3D_raw)\n",
    "\n",
    "smooth_trajectories = []\n",
    "for path in loadpaths:\n",
    "    with h5py.File(path, 'r') as hf:\n",
    "        tracks_3D_smooth = hf['tracks_3D_smooth'][:]\n",
    "    smooth_trajectories.append(tracks_3D_smooth)\n",
    "    \n",
    "    \n",
    "# create a list of the number of frames in each experiment\n",
    "expNumFrames = []\n",
    "for expIdx in range(len(expNames)):\n",
    "    nfs = smooth_trajectories[expIdx].shape[0]\n",
    "    expNumFrames.append(nfs)\n",
    "    \n",
    "# -----------------------------#\n",
    "# load other useful information\n",
    "    \n",
    "other_info_loadpath = os.path.join(main_load_folder, 'winners_losers_inconclusive.h5')\n",
    "with h5py.File(other_info_loadpath, 'r') as hf:\n",
    "    winner_idxs = hf['winner_idxs'][:]\n",
    "    loser_idxs = hf['loser_idxs'][:]\n",
    "    conclusive_winner_loser = hf['conclusive_winner_loser'][:]\n",
    "    already_established_dominance = hf['already_established_dominance'][:]\n",
    "\n",
    "    \n"
   ]
  },
  {
   "cell_type": "code",
   "execution_count": null,
   "id": "c37e0758-25f8-4fff-bfad-f395691f4ea4",
   "metadata": {},
   "outputs": [],
   "source": []
  },
  {
   "cell_type": "code",
   "execution_count": null,
   "id": "71191c8f-9357-4735-87a5-3e3910c8447b",
   "metadata": {},
   "outputs": [],
   "source": []
  },
  {
   "cell_type": "code",
   "execution_count": null,
   "id": "a7279cc0-5d59-4550-bc43-c1b45588eef7",
   "metadata": {},
   "outputs": [],
   "source": []
  },
  {
   "cell_type": "code",
   "execution_count": null,
   "id": "bb074f70-5a8f-4b63-97bf-c5c16c7a1d5b",
   "metadata": {},
   "outputs": [],
   "source": []
  },
  {
   "cell_type": "code",
   "execution_count": null,
   "id": "5ef5b0aa-bcb8-4e58-ac61-f23e08c93170",
   "metadata": {},
   "outputs": [],
   "source": []
  },
  {
   "cell_type": "code",
   "execution_count": null,
   "id": "ec98a1be-0502-468e-abf1-da41ed6bf119",
   "metadata": {},
   "outputs": [],
   "source": []
  },
  {
   "cell_type": "code",
   "execution_count": null,
   "id": "f4112043-c61e-46cc-be04-fe1ebf739122",
   "metadata": {},
   "outputs": [],
   "source": []
  },
  {
   "cell_type": "markdown",
   "id": "5aa8657e-f1db-4f6b-9b17-6cf7064a7db7",
   "metadata": {},
   "source": [
    "# load the post-processed tseries of infomap cluster idxs"
   ]
  },
  {
   "cell_type": "code",
   "execution_count": null,
   "id": "4768dd1e-73e8-4111-ba93-1951528952ab",
   "metadata": {},
   "outputs": [],
   "source": []
  },
  {
   "cell_type": "code",
   "execution_count": 7,
   "id": "283fbeed-93a8-4524-9d21-d9029a4b7fa4",
   "metadata": {},
   "outputs": [
    {
     "data": {
      "text/plain": [
       "(16044324,)"
      ]
     },
     "execution_count": 7,
     "metadata": {},
     "output_type": "execute_result"
    }
   ],
   "source": [
    "# load\n",
    "all_exps_edited_postProced_clusterIdx_tseries = []\n",
    "postprocessed_all_exp_edited_cluster_tseries_savepath = os.path.join(os.path.dirname(infomap_data_loadpath),\n",
    "                                                                     'postprocessed_exp_edited_clusterIdx_timeseries.h5')\n",
    "with h5py.File(postprocessed_all_exp_edited_cluster_tseries_savepath, 'r') as hf:\n",
    "    for expIdx in range(len(expNames)):\n",
    "        expName = expNames[expIdx]\n",
    "        tseries = hf['{0}_clusterIdxs'.format(expName)][:]\n",
    "        all_exps_edited_postProced_clusterIdx_tseries.append(tseries)\n",
    "        \n",
    "# make the master-set\n",
    "clusterIdx_edited_postProced_tseries_master = np.concatenate(all_exps_edited_postProced_clusterIdx_tseries)\n",
    "clusterIdx_edited_postProced_tseries_master.shape"
   ]
  },
  {
   "cell_type": "code",
   "execution_count": null,
   "id": "7ab507bc-7b5b-4c2f-8a43-da8ab7b29b23",
   "metadata": {},
   "outputs": [],
   "source": []
  },
  {
   "cell_type": "code",
   "execution_count": null,
   "id": "fbd038b3-530b-473a-8512-bfc00bade4b3",
   "metadata": {},
   "outputs": [],
   "source": []
  },
  {
   "cell_type": "code",
   "execution_count": 8,
   "id": "6e731329-52d7-4225-a8c6-bffeb9dccd25",
   "metadata": {},
   "outputs": [],
   "source": [
    "# We use these for plotting consistent fight maneuver colors across figures\n",
    "colorlist = ['#ffe119', '#3cb44b', '#e6194B', '#4363d8', '#f58231', \n",
    "             '#911eb4', '#42d4f4', '#f032e6', '#bfef45', '#fabed4', \n",
    "             '#469990', '#dcbeff', '#9A6324', '#800000', \n",
    "             '#aaffc3', '#808000', '#ffd8b1', '#000075', '#a9a9a9'] \n"
   ]
  },
  {
   "cell_type": "code",
   "execution_count": 9,
   "id": "0beab27a-5e2b-48a8-8825-668e1e4c11fd",
   "metadata": {},
   "outputs": [
    {
     "data": {
      "text/plain": [
       "['circling',\n",
       " 'direct away',\n",
       " 'winner attack',\n",
       " 'loser attack',\n",
       " 'display',\n",
       " 'direct to',\n",
       " 'middle circling',\n",
       " 'L approach',\n",
       " 'W approach',\n",
       " 'parallel',\n",
       " 'non-fight clusters']"
      ]
     },
     "execution_count": 9,
     "metadata": {},
     "output_type": "execute_result"
    }
   ],
   "source": [
    "\n",
    "# these are the state names of the clusterIdx_edited_postProced_tseries\n",
    "all_state_names = ['circling',\n",
    "                 'direct away',\n",
    "                 'winner attack',\n",
    "                 'loser attack',\n",
    "                 'display',\n",
    "                 'direct to',\n",
    "                 'middle circling',\n",
    "                 'L approach',\n",
    "                 'W approach',\n",
    "                 'parallel',\n",
    "                 'non-fight clusters']\n",
    "\n",
    "all_state_names"
   ]
  },
  {
   "cell_type": "code",
   "execution_count": 10,
   "id": "d907122c-8ce7-4967-ac25-2f5ac06047ac",
   "metadata": {},
   "outputs": [
    {
     "data": {
      "text/plain": [
       "11"
      ]
     },
     "execution_count": 10,
     "metadata": {},
     "output_type": "execute_result"
    }
   ],
   "source": [
    "len(all_state_names)"
   ]
  },
  {
   "cell_type": "code",
   "execution_count": 11,
   "id": "f8dc1a32-c48b-479c-bed3-130714e687d7",
   "metadata": {},
   "outputs": [
    {
     "data": {
      "text/plain": [
       "10"
      ]
     },
     "execution_count": 11,
     "metadata": {},
     "output_type": "execute_result"
    }
   ],
   "source": [
    "numLabelledStates = len(all_state_names)-1\n",
    "numLabelledStates\n"
   ]
  },
  {
   "cell_type": "code",
   "execution_count": null,
   "id": "a90f43f5-302d-457a-96ab-53073443993c",
   "metadata": {},
   "outputs": [],
   "source": []
  },
  {
   "cell_type": "code",
   "execution_count": 12,
   "id": "9e4e9516-5526-468b-b988-eefe2da26630",
   "metadata": {},
   "outputs": [
    {
     "data": {
      "text/plain": [
       "array([-1.,  0.,  1.,  2.,  3.,  4.,  5.,  6.,  7.,  8.,  9.])"
      ]
     },
     "execution_count": 12,
     "metadata": {},
     "output_type": "execute_result"
    }
   ],
   "source": [
    "# -1 represent nonFight clusters\n",
    "# NaN data means missing data\n",
    "np.unique(clusterIdx_edited_postProced_tseries_master[~np.isnan(clusterIdx_edited_postProced_tseries_master)])"
   ]
  },
  {
   "cell_type": "code",
   "execution_count": null,
   "id": "207c4854-cae5-42ce-bb12-63f67338c193",
   "metadata": {},
   "outputs": [],
   "source": []
  },
  {
   "cell_type": "code",
   "execution_count": null,
   "id": "2f39b33b-ce4c-482c-aef5-4d3a316cfb74",
   "metadata": {},
   "outputs": [],
   "source": []
  },
  {
   "cell_type": "code",
   "execution_count": null,
   "id": "6ff573ae-77f2-4b7a-b3f9-f63109067eaf",
   "metadata": {},
   "outputs": [],
   "source": []
  },
  {
   "cell_type": "markdown",
   "id": "5c2e97f3-cdf4-4da2-bca0-0518f97aaa52",
   "metadata": {},
   "source": [
    "# Load the fight boundaries we have saved already"
   ]
  },
  {
   "cell_type": "code",
   "execution_count": 13,
   "id": "af1f9db0-9f2f-4fe4-8f87-fc856eae170d",
   "metadata": {},
   "outputs": [
    {
     "data": {
      "text/plain": [
       "'/media/liam/hd1/fighting_data/tracking_results/fightBouts.h5'"
      ]
     },
     "execution_count": 13,
     "metadata": {},
     "output_type": "execute_result"
    }
   ],
   "source": [
    "fightBouts_info_path"
   ]
  },
  {
   "cell_type": "code",
   "execution_count": 14,
   "id": "52cc19b3-a6c2-43e1-b657-4138814adebd",
   "metadata": {},
   "outputs": [
    {
     "data": {
      "text/plain": [
       "(18, 4)"
      ]
     },
     "execution_count": 14,
     "metadata": {},
     "output_type": "execute_result"
    }
   ],
   "source": [
    "with h5py.File(fightBouts_info_path, 'r') as hf:\n",
    "    exps_fight_info = hf['refined_exps_fight_info'][:]\n",
    "    fight_bout_info_noDurThresh = hf['fight_bout_info_noDurThresh'][:]\n",
    "    fight_bout_info = hf['fight_bout_info'][:]\n",
    "    \n",
    "fight_bout_info.shape"
   ]
  },
  {
   "cell_type": "code",
   "execution_count": 15,
   "id": "a03870c3-a323-4c2e-8a36-f0f42cb250fe",
   "metadata": {},
   "outputs": [
    {
     "data": {
      "text/plain": [
       "(45, 4)"
      ]
     },
     "execution_count": 15,
     "metadata": {},
     "output_type": "execute_result"
    }
   ],
   "source": [
    "exps_fight_info.shape"
   ]
  },
  {
   "cell_type": "code",
   "execution_count": 16,
   "id": "35c3aa71-868a-4acc-a834-e2c33ce92a30",
   "metadata": {},
   "outputs": [
    {
     "data": {
      "text/plain": [
       "(33, 4)"
      ]
     },
     "execution_count": 16,
     "metadata": {},
     "output_type": "execute_result"
    }
   ],
   "source": [
    "fight_bout_info_noDurThresh.shape"
   ]
  },
  {
   "cell_type": "code",
   "execution_count": 17,
   "id": "fe31cce5-f734-487c-a387-55790fbe2c61",
   "metadata": {},
   "outputs": [
    {
     "data": {
      "text/plain": [
       "(18, 4)"
      ]
     },
     "execution_count": 17,
     "metadata": {},
     "output_type": "execute_result"
    }
   ],
   "source": [
    "fight_bout_info.shape"
   ]
  },
  {
   "cell_type": "code",
   "execution_count": null,
   "id": "49db4a68-e5ae-465e-95ef-27da0e8daedd",
   "metadata": {},
   "outputs": [],
   "source": []
  },
  {
   "cell_type": "code",
   "execution_count": null,
   "id": "315752c5-7122-4fe2-be52-bcaa37b49e74",
   "metadata": {},
   "outputs": [],
   "source": []
  },
  {
   "cell_type": "markdown",
   "id": "b6dad715-6183-4d43-90a1-62c5064ba888",
   "metadata": {},
   "source": [
    "# Evaluate new slices of fight bouts"
   ]
  },
  {
   "cell_type": "markdown",
   "id": "254cc337-1498-4ef6-97ab-ab4fabc4fd5d",
   "metadata": {},
   "source": [
    "\"exps_fight_info\" is the 'rawest' output of the fight detector. \n",
    "From there, slice how you like"
   ]
  },
  {
   "cell_type": "code",
   "execution_count": null,
   "id": "f89d0ab4-646c-4c01-9ff9-dc5b229b398e",
   "metadata": {},
   "outputs": [],
   "source": []
  },
  {
   "cell_type": "code",
   "execution_count": 12,
   "id": "c567aada-f481-4c00-9828-a58cd1e0042c",
   "metadata": {},
   "outputs": [
    {
     "ename": "NameError",
     "evalue": "name 'exps_fight_info' is not defined",
     "output_type": "error",
     "traceback": [
      "\u001b[0;31m---------------------------------------------------------------------------\u001b[0m",
      "\u001b[0;31mNameError\u001b[0m                                 Traceback (most recent call last)",
      "\u001b[0;32m/tmp/ipykernel_2754973/3209048911.py\u001b[0m in \u001b[0;36m<module>\u001b[0;34m\u001b[0m\n\u001b[1;32m      2\u001b[0m \u001b[0;34m\u001b[0m\u001b[0m\n\u001b[1;32m      3\u001b[0m \u001b[0mfight_cols\u001b[0m \u001b[0;34m=\u001b[0m \u001b[0;34m[\u001b[0m\u001b[0;34m'expIdxs'\u001b[0m\u001b[0;34m,\u001b[0m \u001b[0;34m'startIdx'\u001b[0m\u001b[0;34m,\u001b[0m \u001b[0;34m'stopIdx'\u001b[0m\u001b[0;34m,\u001b[0m \u001b[0;34m'durations'\u001b[0m\u001b[0;34m]\u001b[0m\u001b[0;34m\u001b[0m\u001b[0;34m\u001b[0m\u001b[0m\n\u001b[0;32m----> 4\u001b[0;31m \u001b[0mfight_bout_df\u001b[0m \u001b[0;34m=\u001b[0m \u001b[0mpd\u001b[0m\u001b[0;34m.\u001b[0m\u001b[0mDataFrame\u001b[0m\u001b[0;34m(\u001b[0m\u001b[0mdata\u001b[0m\u001b[0;34m=\u001b[0m\u001b[0mexps_fight_info\u001b[0m\u001b[0;34m,\u001b[0m \u001b[0mcolumns\u001b[0m\u001b[0;34m=\u001b[0m\u001b[0mfight_cols\u001b[0m\u001b[0;34m)\u001b[0m\u001b[0;34m\u001b[0m\u001b[0;34m\u001b[0m\u001b[0m\n\u001b[0m\u001b[1;32m      5\u001b[0m \u001b[0;34m\u001b[0m\u001b[0m\n\u001b[1;32m      6\u001b[0m \u001b[0;31m# make a column showing if the experiment ended with a conclusive winner and loser\u001b[0m\u001b[0;34m\u001b[0m\u001b[0;34m\u001b[0m\u001b[0m\n",
      "\u001b[0;31mNameError\u001b[0m: name 'exps_fight_info' is not defined"
     ]
    }
   ],
   "source": [
    "# ------------ make a dataframe for the fight info from all 22 exps --------------#\n",
    "\n",
    "fight_cols = ['expIdxs', 'startIdx', 'stopIdx', 'durations']\n",
    "fight_bout_df = pd.DataFrame(data=exps_fight_info, columns=fight_cols)\n",
    "\n",
    "# make a column showing if the experiment ended with a conclusive winner and loser\n",
    "ends_conclusive_arr = []\n",
    "df_expIdxs_col = fight_bout_df['expIdxs'].values\n",
    "for ii, expIdx in enumerate(df_expIdxs_col):\n",
    "    ends_conclusive_arr.append(conclusive_winner_loser[expIdx])\n",
    "ends_conclusive_arr = np.array(ends_conclusive_arr)\n",
    "fight_bout_df['conclusive_winner'] = ends_conclusive_arr\n",
    "\n",
    "# make a column showing if the experiment had an existing dominance relationship\n",
    "existing_dominance_arr = []\n",
    "df_expIdxs_col = fight_bout_df['expIdxs'].values\n",
    "for ii, expIdx in enumerate(df_expIdxs_col):\n",
    "    existing_dominance_arr.append(already_established_dominance[expIdx])\n",
    "existing_dominance_arr = np.array(existing_dominance_arr)\n",
    "fight_bout_df['existing_dominance'] = existing_dominance_arr\n",
    "\n"
   ]
  },
  {
   "cell_type": "code",
   "execution_count": null,
   "id": "395ea73c-d453-451a-9dfe-356f41cbe2c9",
   "metadata": {},
   "outputs": [],
   "source": []
  },
  {
   "cell_type": "code",
   "execution_count": 45,
   "id": "a9284af9-12d3-4135-ac42-f5bfb28b2f03",
   "metadata": {},
   "outputs": [],
   "source": [
    "# # ---------    Apply criteria to fight bouts  ----------------------------------------#\n",
    "\n",
    "# Note: you can add these to calculations below in this notebook.\n",
    "#\n",
    "\n",
    "# # 5 mins, for 2 2-minute segments wihoutout overlap, plus 6000 frames (i.e. 2 30sec frame segments for window overlap past 3 mins)\n",
    "# duration_thresh_5min = 24000 + 6000  \n",
    "\n",
    "# # selecting rows based on ending with clear winner/loser, and longer than frame gap\n",
    "# bouts_g5_df = fight_bout_df.loc[(fight_bout_df['conclusive_winner'] == 1) &\n",
    "#                                 (fight_bout_df['existing_dominance'] == 0) &\n",
    "#                                 (fight_bout_df['durations'] >= (duration_thresh_5min))\n",
    "#                                                          ]"
   ]
  },
  {
   "cell_type": "code",
   "execution_count": 43,
   "id": "babd6b86-b227-4fbf-a43b-e662edb9f0fd",
   "metadata": {},
   "outputs": [],
   "source": [
    "#bouts_g5_df"
   ]
  },
  {
   "cell_type": "code",
   "execution_count": null,
   "id": "afb2838c-a3a4-4508-9ed7-8e4b0c5f6b6a",
   "metadata": {},
   "outputs": [],
   "source": []
  },
  {
   "cell_type": "code",
   "execution_count": null,
   "id": "232bfc13-f17f-4421-a084-846f3e24218e",
   "metadata": {},
   "outputs": [],
   "source": []
  },
  {
   "cell_type": "markdown",
   "id": "76451065-a5a2-4423-ab9c-2fd9bb1993e4",
   "metadata": {},
   "source": [
    "# Prepare fight boundary sets"
   ]
  },
  {
   "cell_type": "code",
   "execution_count": null,
   "id": "1f7c3cca-0d9d-40c9-823c-39def456ffcd",
   "metadata": {},
   "outputs": [],
   "source": []
  },
  {
   "cell_type": "code",
   "execution_count": 135,
   "id": "3ee45457-c10d-4f5d-ba17-0cfbabafe11b",
   "metadata": {},
   "outputs": [],
   "source": [
    "\n",
    "\n",
    "bouts_g7 = np.copy(fight_bout_info)\n",
    "bouts_g2 = np.copy(fight_bout_info_noDurThresh)\n",
    "\n",
    "fight_ensamble_names = ['> 7min', '> 2min']\n",
    "bout_list = [bouts_g7, bouts_g2]\n",
    "\n",
    "\n",
    "ensamble_durations_mins = [bouts_g7[:,-1]/6000,\n",
    "                           bouts_g2[:,-1]/6000]"
   ]
  },
  {
   "cell_type": "code",
   "execution_count": null,
   "id": "282261c4-8602-46ed-b5c6-ed325f558aef",
   "metadata": {},
   "outputs": [],
   "source": []
  },
  {
   "cell_type": "code",
   "execution_count": 99,
   "id": "16973768-bfe6-4e24-8203-dd4636c4e755",
   "metadata": {},
   "outputs": [
    {
     "data": {
      "text/plain": [
       "(33, 4)"
      ]
     },
     "execution_count": 99,
     "metadata": {},
     "output_type": "execute_result"
    }
   ],
   "source": [
    "bouts_g2.shape"
   ]
  },
  {
   "cell_type": "code",
   "execution_count": 100,
   "id": "9623a5d7-16ca-4258-83ca-f753c4a936cc",
   "metadata": {},
   "outputs": [
    {
     "data": {
      "text/plain": [
       "(18, 4)"
      ]
     },
     "execution_count": 100,
     "metadata": {},
     "output_type": "execute_result"
    }
   ],
   "source": [
    "bouts_g7.shape"
   ]
  },
  {
   "cell_type": "code",
   "execution_count": null,
   "id": "b9a48ccb-6a8e-439d-9967-483df5bf226e",
   "metadata": {},
   "outputs": [],
   "source": []
  },
  {
   "cell_type": "code",
   "execution_count": null,
   "id": "a933c556-8d8c-4f24-9053-c60e8d53ccf4",
   "metadata": {},
   "outputs": [],
   "source": []
  },
  {
   "cell_type": "code",
   "execution_count": 101,
   "id": "50adb857-8c60-4590-8ed2-bc9ddfbbda5e",
   "metadata": {},
   "outputs": [],
   "source": [
    "# -------------------------------------------------------------------------------------------------#\n",
    "# Compute the loser maneuvers prob minus the winners maneuvers prob in the 2 mins before bouts end,\n",
    "# for all ensambles of bouts\n",
    "#--------------------------------------------------------------------------------------------------#\n",
    "\n",
    "\n",
    "\n",
    "pre_fight_numFrames = int(2*6000) # 2mins\n",
    "\n",
    "bout_list_losMan_minus_winMan = []\n",
    "\n",
    "# ----------------------------------------------------------------#\n",
    "\n",
    "\n",
    "for bouts_choice_index in range(len(bout_list)):\n",
    "\n",
    "    bouts_choice_name = fight_ensamble_names[bouts_choice_index]\n",
    "    bouts = np.copy(bout_list[bouts_choice_index])\n",
    "    pre_fight_single_window_arr = np.array([0,pre_fight_numFrames]).reshape(-1,2)\n",
    "    #print(bouts_choice_name)\n",
    "    #print()\n",
    "\n",
    "\n",
    "    # ----- get the 11-state pre-fight window probs  ---- #\n",
    "\n",
    "\n",
    "    bouts_pre_fight_window_probs = []\n",
    "\n",
    "    for bIdx in range(bouts.shape[0]):\n",
    "\n",
    "        expIdx, f0, fE, dur = bouts[bIdx]\n",
    "\n",
    "        bout_cls_tseries = np.copy(all_exps_edited_postProced_clusterIdx_tseries[expIdx][f0:fE])\n",
    "\n",
    "        bout_last_N_frames_data = bout_cls_tseries[-pre_fight_numFrames:]\n",
    "\n",
    "        bout_last_N_frames_data_probabilities = compute_state_probabilities_in_time_windows(bout_last_N_frames_data, pre_fight_single_window_arr, numLabelledStates)\n",
    "\n",
    "\n",
    "        bouts_pre_fight_window_probs.append(bout_last_N_frames_data_probabilities)\n",
    "\n",
    "\n",
    "    # ----- combine into 3-state system ---- #\n",
    "\n",
    "    # numBouts, numStatesIntoOne\n",
    "    winnerManeuver_probs = np.zeros((bouts.shape[0],2))*np.NaN\n",
    "    loserManeuver_probs = np.zeros((bouts.shape[0],2))*np.NaN\n",
    "    displayManeuver_probs = np.zeros((bouts.shape[0],4))*np.NaN\n",
    "\n",
    "    for bIdx in range(bouts.shape[0]):\n",
    "\n",
    "        probs = bouts_pre_fight_window_probs[bIdx].reshape(-1)\n",
    "\n",
    "        winnerManeuver_probs[bIdx,0] = probs[2] #winner attack\n",
    "        winnerManeuver_probs[bIdx,1] = probs[8] #winner app\n",
    "\n",
    "        loserManeuver_probs[bIdx,0] = probs[3] #loser attack\n",
    "        loserManeuver_probs[bIdx,1] = probs[7] #loser app\n",
    "\n",
    "        displayManeuver_probs[bIdx,0] =  probs[0] # close circling\n",
    "        displayManeuver_probs[bIdx,1] =  probs[4] # display\n",
    "        displayManeuver_probs[bIdx,2] =  probs[6] # far circling\n",
    "        displayManeuver_probs[bIdx,3] =  probs[9] # far parallel\n",
    "        \n",
    "    # sum the probs for each of the three categories\n",
    "    winnerManeuver_probs = np.sum(winnerManeuver_probs,axis=1)\n",
    "    loserManeuver_probs = np.sum(loserManeuver_probs,axis=1)\n",
    "    displayManeuver_probs = np.sum(displayManeuver_probs,axis=1)\n",
    "    \n",
    "    \n",
    "    \n",
    "    # ----- compute the test statistic ---- #\n",
    "    losMan_minus_winMan = loserManeuver_probs - winnerManeuver_probs\n",
    "    \n",
    "    \n",
    "    \n",
    "    # ---- record --- #\n",
    "    bout_list_losMan_minus_winMan.append(losMan_minus_winMan)\n",
    "\n",
    "    "
   ]
  },
  {
   "cell_type": "code",
   "execution_count": null,
   "id": "a4f14439-092e-4bd2-9605-0b532a832253",
   "metadata": {},
   "outputs": [],
   "source": []
  },
  {
   "cell_type": "code",
   "execution_count": 102,
   "id": "c3e2e08f-c937-46a0-92e6-677d478efd81",
   "metadata": {},
   "outputs": [
    {
     "data": {
      "text/plain": [
       "[array([ 0.03780357,  0.02397423,  0.11289276,  0.02076663, -0.20160561,\n",
       "         0.08036299,  0.00634396,  0.05191831,  0.04074464,  0.17454966,\n",
       "        -0.09021749,  0.08771089,  0.12648795,  0.22047894, -0.17700454,\n",
       "         0.01836467, -0.05742919, -0.03857567]),\n",
       " array([-0.32164855, -0.07950936,  0.03780357,  0.02136792,  0.03831286,\n",
       "         0.02397423, -0.2165141 ,  0.11289276,  0.13623463,  0.02076663,\n",
       "        -0.20160561, -0.12042827,  0.05223945,  0.08036299,  0.00634396,\n",
       "         0.05191831, -0.16730837,  0.04074464,  0.17454966, -0.09021749,\n",
       "         0.08771089, -0.17584586,  0.12648795,  0.22047894, -0.17700454,\n",
       "        -0.05412682,  0.05294016, -0.02943468,  0.01836467,  0.03447199,\n",
       "        -0.05742919, -0.03857567,  0.04116016])]"
      ]
     },
     "execution_count": 102,
     "metadata": {},
     "output_type": "execute_result"
    }
   ],
   "source": [
    "bout_list_losMan_minus_winMan\n",
    "\n"
   ]
  },
  {
   "cell_type": "code",
   "execution_count": null,
   "id": "f2b5e078-b22a-43a6-a031-7e0116080372",
   "metadata": {},
   "outputs": [],
   "source": []
  },
  {
   "cell_type": "code",
   "execution_count": null,
   "id": "507ab3f4-c0ea-4d1c-b5f1-cde7badd33a8",
   "metadata": {},
   "outputs": [],
   "source": []
  },
  {
   "cell_type": "markdown",
   "id": "06bb1caa-9b68-4ab7-9b3d-bd47fa09f13c",
   "metadata": {},
   "source": [
    "# Make the cumulative distribution plots"
   ]
  },
  {
   "cell_type": "code",
   "execution_count": null,
   "id": "e7ae930c-f9e4-43bd-81ab-4dc22f97308a",
   "metadata": {},
   "outputs": [],
   "source": []
  },
  {
   "cell_type": "code",
   "execution_count": 103,
   "id": "23c5db71-b262-4822-a6fb-5de2f0465b85",
   "metadata": {},
   "outputs": [
    {
     "data": {
      "text/plain": [
       "array([ 0.03780357,  0.02397423,  0.11289276,  0.02076663, -0.20160561,\n",
       "        0.08036299,  0.00634396,  0.05191831,  0.04074464,  0.17454966,\n",
       "       -0.09021749,  0.08771089,  0.12648795,  0.22047894, -0.17700454,\n",
       "        0.01836467, -0.05742919, -0.03857567])"
      ]
     },
     "execution_count": 103,
     "metadata": {},
     "output_type": "execute_result"
    }
   ],
   "source": [
    "bout_list_losMan_minus_winMan[0]"
   ]
  },
  {
   "cell_type": "code",
   "execution_count": null,
   "id": "dd529003-113f-47f6-bdca-0dd9c49ed961",
   "metadata": {},
   "outputs": [],
   "source": []
  },
  {
   "cell_type": "code",
   "execution_count": 257,
   "id": "d7aa72c3-7459-4c26-a110-b6acca414401",
   "metadata": {},
   "outputs": [
    {
     "name": "stdout",
     "output_type": "stream",
     "text": [
      "numBouts = 18\n",
      "num positive vals =13, num negative vals =5,\n",
      "positive % = 72.22222222222221\n",
      "neg % = 27.77777777777778\n",
      "\n",
      "numBouts = 33\n",
      "num positive vals =20, num negative vals =13,\n",
      "positive % = 60.60606060606061\n",
      "neg % = 39.39393939393939\n",
      "\n"
     ]
    }
   ],
   "source": [
    "# --------------- fraction positive --------------- #\n",
    "\n",
    "for bouts_choice_index in range(len(bout_list_losMan_minus_winMan)):\n",
    "    \n",
    "    # parse inputs\n",
    "    losMan_minus_winMan = bout_list_losMan_minus_winMan[bouts_choice_index]\n",
    "    nme = fight_ensamble_names[bouts_choice_index]\n",
    "    \n",
    "    num_pos_bouts = losMan_minus_winMan[losMan_minus_winMan>+0].shape[0]\n",
    "    num_neg_bouts= losMan_minus_winMan[losMan_minus_winMan<0].shape[0]\n",
    "    \n",
    "    print(f'numBouts = {losMan_minus_winMan.shape[0]}')\n",
    "    print(f'num positive vals ={num_pos_bouts}, num negative vals ={num_neg_bouts},')\n",
    "    print(f'positive % = {(num_pos_bouts/losMan_minus_winMan.shape[0])*100}')\n",
    "    print(f'neg % = {(num_neg_bouts/losMan_minus_winMan.shape[0])*100}')\n",
    "    print()\n",
    "    \n",
    "    #print(losMan_minus_winMan.shape[0], num_pos_bouts, num_neg_bouts)"
   ]
  },
  {
   "cell_type": "code",
   "execution_count": 255,
   "id": "e1ca9abb-bd49-4b3d-8b12-02b74b50e4a4",
   "metadata": {},
   "outputs": [
    {
     "data": {
      "text/plain": [
       "28"
      ]
     },
     "execution_count": 255,
     "metadata": {},
     "output_type": "execute_result"
    }
   ],
   "source": [
    "100 - 72"
   ]
  },
  {
   "cell_type": "code",
   "execution_count": null,
   "id": "138d96f7-2ce2-441f-a407-c217868bfb8a",
   "metadata": {},
   "outputs": [],
   "source": []
  },
  {
   "cell_type": "code",
   "execution_count": 256,
   "id": "7af70099-d6e1-4643-b5f8-4d5382bcca50",
   "metadata": {},
   "outputs": [
    {
     "data": {
      "text/plain": [
       "39.4"
      ]
     },
     "execution_count": 256,
     "metadata": {},
     "output_type": "execute_result"
    }
   ],
   "source": [
    "100- 60.6"
   ]
  },
  {
   "cell_type": "code",
   "execution_count": null,
   "id": "5da9847e-1d76-468f-9701-a02ae17fe3fe",
   "metadata": {},
   "outputs": [],
   "source": []
  },
  {
   "cell_type": "markdown",
   "id": "37ef17f2-df3d-41a5-8e21-eb44a41875a7",
   "metadata": {},
   "source": [
    "## v1"
   ]
  },
  {
   "cell_type": "code",
   "execution_count": null,
   "id": "b2b64f2f-9a94-408c-9a5c-ccbca071d0c3",
   "metadata": {},
   "outputs": [],
   "source": []
  },
  {
   "cell_type": "code",
   "execution_count": 205,
   "id": "fd2f8bde-201b-4ff6-9084-68e904f1899c",
   "metadata": {},
   "outputs": [
    {
     "data": {
      "application/vnd.jupyter.widget-view+json": {
       "model_id": "9f422ecabbe142038689647bd4881be2",
       "version_major": 2,
       "version_minor": 0
      },
      "text/html": [
       "\n",
       "            <div style=\"display: inline-block;\">\n",
       "                <div class=\"jupyter-widgets widget-label\" style=\"text-align: center;\">\n",
       "                    Figure\n",
       "                </div>\n",
       "                <img src='data:image/png;base64,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' width=1300.0/>\n",
       "            </div>\n",
       "        "
      ],
      "text/plain": [
       "Canvas(toolbar=Toolbar(toolitems=[('Home', 'Reset original view', 'home', 'home'), ('Back', 'Back to previous …"
      ]
     },
     "metadata": {},
     "output_type": "display_data"
    }
   ],
   "source": [
    "#  ---------- Two column plot -------------- #\n",
    "\n",
    "numEnsambles = len(fight_ensamble_names)\n",
    "\n",
    "xticks_list = [[np.min(bout_list_losMan_minus_winMan[0]), 0, np.max(bout_list_losMan_minus_winMan[0])],\n",
    "               [np.min(bout_list_losMan_minus_winMan[1]), 0, np.max(bout_list_losMan_minus_winMan[1])]\n",
    "              ]\n",
    "\n",
    "# I determined these simply by examining the plot.\n",
    "y_tick_intercepts = [0.325, 0.418]\n",
    "yticks_list = [[0, y_tick_intercepts[0], 1],\n",
    "               [0, y_tick_intercepts[1], 1]]\n",
    "\n",
    "\n",
    "# ----------------------------------------------------------------------------------------------------#\n",
    "\n",
    "fig, axs = plt.subplots(ncols=2, figsize=(13,5))\n",
    "for bout_ensamble_index, ensamble_name in enumerate(fight_ensamble_names):\n",
    "\n",
    "    # get the prob differences for this ensamble and sort low to high\n",
    "    losMan_minus_winMan = bout_list_losMan_minus_winMan[bout_ensamble_index]\n",
    "    sorted_data = np.sort(losMan_minus_winMan)\n",
    "\n",
    "    # prepare the y-axis data for cum probs\n",
    "    N = len(sorted_data)\n",
    "    y_data = np.arange(1,N+1)/N\n",
    "\n",
    "    # plot the data\n",
    "    ax = axs[bout_ensamble_index]\n",
    "\n",
    "    ax.plot(sorted_data, y_data, linestyle='-', marker='o', alpha=1)\n",
    "\n",
    "    # set the axes limits\n",
    "    ax.set_ylim(0,1)\n",
    "    ax.set_xlim(np.min(sorted_data), np.max(sorted_data) )\n",
    "\n",
    "    # draw the lines\n",
    "    ax.axvline(0, linestyle='--',color='black', alpha=0.5)\n",
    "    ax.axhline(y_tick_intercepts[bout_ensamble_index], alpha=0.5, linestyle='--',color='black')\n",
    "\n",
    "    # set the ticks\n",
    "    ax.set_xticks(xticks_list[bout_ensamble_index])\n",
    "    ax.set_yticks(yticks_list[bout_ensamble_index])\n",
    "\n",
    "\n",
    "    ax.set_title(f'Cumulative distribution function \\n N={N} bouts {ensamble_name}')\n",
    "    ax.set_ylabel('cumulative probability')\n",
    "    ax.set_xlabel('P(loser maneuvers) - P(winner maneuvers)')\n",
    "\n",
    "    #fig.tight_layout()\n",
    "    #subplots_adjust(left=None, bottom=None, right=None, top=None, wspace=None, hspace=None)\n",
    "    # left  = 0.125  # the left side of the subplots of the figure\n",
    "    # right = 0.9    # the right side of the subplots of the figure\n",
    "    # bottom = 0.1   # the bottom of the subplots of the figure\n",
    "    # top = 0.9      # the top of the subplots of the figure\n",
    "    # wspace = 0.2   # the amount of width reserved for blank space between subplots\n",
    "    # hspace = 0.2   # the amount of height reserved for white space between subplots\n",
    "    fig.subplots_adjust(wspace=0.4)"
   ]
  },
  {
   "cell_type": "code",
   "execution_count": null,
   "id": "67701d68-4c72-4f94-9647-ba48e2fb1900",
   "metadata": {},
   "outputs": [],
   "source": []
  },
  {
   "cell_type": "code",
   "execution_count": null,
   "id": "ec319982-c406-44c7-8cb8-30297d5dfdf5",
   "metadata": {},
   "outputs": [],
   "source": []
  },
  {
   "cell_type": "markdown",
   "id": "f4653402-9593-42a1-8de7-d6b3f9db96c0",
   "metadata": {},
   "source": [
    "## v2"
   ]
  },
  {
   "cell_type": "code",
   "execution_count": 196,
   "id": "7bf36703-c0bd-41de-847a-e3d627e83b09",
   "metadata": {},
   "outputs": [],
   "source": [
    "from matplotlib.cm import ScalarMappable"
   ]
  },
  {
   "cell_type": "code",
   "execution_count": null,
   "id": "b0953ff8-2e05-48aa-91a5-31bbd0fde0f6",
   "metadata": {},
   "outputs": [],
   "source": []
  },
  {
   "cell_type": "code",
   "execution_count": 248,
   "id": "833fbb6c-bf13-4043-8bd7-015f2ac546f8",
   "metadata": {},
   "outputs": [
    {
     "data": {
      "application/vnd.jupyter.widget-view+json": {
       "model_id": "747179db85284c8b94dedab7d6c451de",
       "version_major": 2,
       "version_minor": 0
      },
      "text/html": [
       "\n",
       "            <div style=\"display: inline-block;\">\n",
       "                <div class=\"jupyter-widgets widget-label\" style=\"text-align: center;\">\n",
       "                    Figure\n",
       "                </div>\n",
       "                <img src='data:image/png;base64,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' width=1300.0/>\n",
       "            </div>\n",
       "        "
      ],
      "text/plain": [
       "Canvas(toolbar=Toolbar(toolitems=[('Home', 'Reset original view', 'home', 'home'), ('Back', 'Back to previous …"
      ]
     },
     "metadata": {},
     "output_type": "display_data"
    }
   ],
   "source": [
    "#  ---------- Two column plot -------------- #\n",
    "\n",
    "numEnsambles = len(fight_ensamble_names)\n",
    "\n",
    "# prepare the colorscale\n",
    "cmap = plt.get_cmap(\"cool\")\n",
    "min_dur = 2.5\n",
    "max_dur = 30\n",
    "norm = plt.Normalize(min_dur, max_dur)\n",
    "\n",
    "xticks_list = [[np.min(bout_list_losMan_minus_winMan[0]), 0, np.max(bout_list_losMan_minus_winMan[0])],\n",
    "               [np.min(bout_list_losMan_minus_winMan[1]), 0, np.max(bout_list_losMan_minus_winMan[1])]\n",
    "              ]\n",
    "\n",
    "# I determined these simply by examining the plot.\n",
    "y_tick_intercepts = [0.325, 0.418]\n",
    "yticks_list = [[0, y_tick_intercepts[0], 1],\n",
    "               [0, y_tick_intercepts[1], 1]]\n",
    "\n",
    "\n",
    "# ----------------------------------------------------------------------------------------------------#\n",
    "\n",
    "fig, axs = plt.subplots(ncols=2, figsize=(13,5))\n",
    "for bout_ensamble_index, ensamble_name in enumerate(fight_ensamble_names):\n",
    "    \n",
    "    # prepare the colors for the scatters\n",
    "    durs = ensamble_durations_mins[bout_ensamble_index]\n",
    "    cols = cmap(norm(durs))\n",
    "    sm =  ScalarMappable(norm=norm, cmap=cmap)\n",
    "    #sm.set_array([])\n",
    "\n",
    "    # get the prob differences for this ensamble\n",
    "    losMan_minus_winMan = bout_list_losMan_minus_winMan[bout_ensamble_index]\n",
    "    \n",
    "    # sort the data low to high and similarly rearrange the colors\n",
    "    sorted_data = losMan_minus_winMan[np.argsort(losMan_minus_winMan)]\n",
    "    cols = cols[np.argsort(losMan_minus_winMan)]\n",
    "\n",
    "\n",
    "    # prepare the y-axis data for cum probs\n",
    "    N = len(sorted_data)\n",
    "    y_data = np.arange(1,N+1)/N\n",
    "\n",
    "    # plot the data\n",
    "    ax = axs[bout_ensamble_index]\n",
    "\n",
    "    # plot the bouts colored by duration\n",
    "    for boutIdx in range(N):\n",
    "        ax.plot(sorted_data[boutIdx], y_data[boutIdx], c=cols[boutIdx], marker='o', alpha=1)\n",
    "        \n",
    "    # plot the lines joining the bouts\n",
    "    ax.plot(sorted_data, y_data, c='black', linestyle='-', alpha=0.2)\n",
    "\n",
    "    # set the axes limits\n",
    "    ax.set_ylim(0,1)\n",
    "    ax.set_xlim(np.min(sorted_data), np.max(sorted_data) )\n",
    "\n",
    "    # draw the lines\n",
    "    ax.axvline(0, linestyle='--',color='black', alpha=0.5)\n",
    "    ax.axhline(y_tick_intercepts[bout_ensamble_index], alpha=0.5, linestyle='--',color='black')\n",
    "\n",
    "    # set the ticks\n",
    "    ax.set_xticks(xticks_list[bout_ensamble_index])\n",
    "    ax.set_yticks(yticks_list[bout_ensamble_index])\n",
    "    \n",
    "    # set the colorbar\n",
    "    cbar = fig.colorbar(sm, ax=ax)\n",
    "    cbar.ax.set_title(\"duration [min]\")\n",
    "\n",
    "\n",
    "    ax.set_title(f'Cumulative distribution function \\n N={N} bouts {ensamble_name}')\n",
    "    ax.set_ylabel('cumulative probability')\n",
    "    ax.set_xlabel('P(loser maneuvers) - P(winner maneuvers)')\n",
    "\n",
    "    #fig.tight_layout()\n",
    "    #subplots_adjust(left=None, bottom=None, right=None, top=None, wspace=None, hspace=None)\n",
    "    # left  = 0.125  # the left side of the subplots of the figure\n",
    "    # right = 0.9    # the right side of the subplots of the figure\n",
    "    # bottom = 0.1   # the bottom of the subplots of the figure\n",
    "    # top = 0.9      # the top of the subplots of the figure\n",
    "    # wspace = 0.2   # the amount of width reserved for blank space between subplots\n",
    "    # hspace = 0.2   # the amount of height reserved for white space between subplots\n",
    "    \n",
    "    \n",
    "fig.subplots_adjust(wspace=0.4)"
   ]
  },
  {
   "cell_type": "code",
   "execution_count": null,
   "id": "bb0a3c24-5c72-4b70-bfa6-2cbac28a0eb0",
   "metadata": {},
   "outputs": [],
   "source": []
  },
  {
   "cell_type": "code",
   "execution_count": null,
   "id": "2fc2d51c-2c82-4693-a196-44d836541919",
   "metadata": {},
   "outputs": [],
   "source": []
  },
  {
   "cell_type": "markdown",
   "id": "d5356f4a-c9bf-4780-9c1c-8795ad5bc1d2",
   "metadata": {},
   "source": [
    "## v3"
   ]
  },
  {
   "cell_type": "code",
   "execution_count": null,
   "id": "4055fdff-816d-4ee8-9acd-34ee43fb00f7",
   "metadata": {},
   "outputs": [],
   "source": []
  },
  {
   "cell_type": "code",
   "execution_count": 253,
   "id": "96d4cab9-db87-42df-84b0-d9773483d491",
   "metadata": {},
   "outputs": [
    {
     "data": {
      "application/vnd.jupyter.widget-view+json": {
       "model_id": "938b1033e25849f6996494c35954d8ea",
       "version_major": 2,
       "version_minor": 0
      },
      "text/html": [
       "\n",
       "            <div style=\"display: inline-block;\">\n",
       "                <div class=\"jupyter-widgets widget-label\" style=\"text-align: center;\">\n",
       "                    Figure\n",
       "                </div>\n",
       "                <img src='data:image/png;base64,iVBORw0KGgoAAAANSUhEUgAABRQAAAH0CAYAAABM7aF5AAAAOXRFWHRTb2Z0d2FyZQBNYXRwbG90bGliIHZlcnNpb24zLjQuMywgaHR0cHM6Ly9tYXRwbG90bGliLm9yZy/MnkTPAAAACXBIWXMAAA9hAAAPYQGoP6dpAADUTUlEQVR4nOzdd3xT9f7H8ddJOtJdWlraMtoCipQpCAqCDEVBRXFvQUVxXUW9DnAA/hQFHOh1ol7cyvU6ceACVAQvICAy3GUILV3QltKRcX5/hAZKWyjQ9qTN+/l4VJNvvjnnkzYkn3zyHYZpmiYiIiIiIiIiIiIidWCzOgARERERERERERFpOlRQFBERERERERERkTpTQVFERERERERERETqTAVFERERERERERERqTMVFEVERERERERERKTOVFAUERERERERERGROlNBUUREREREREREROpMBUURERERERERERGpMxUURUREREREREREpM5UUBQREREREREREZE6U0FRRERERERERERE6kwFRREREREREREREakzFRRFRERERERERESkzlRQFBERERERERERkTpTQVFERERERERERETqTAVFERERERERERERqTMVFEVERERERERERKTOVFAUERERERERERGROlNBUUREREREREREROpMBUURERERERERERGpMxUURUREREREREREpM5UUBRpglavXs0VV1xBeno6DoeDyMhIevXqxfTp0ykoKLA6vP2aPHkyhmEc0n0//fRTJk+eXONtaWlpjBkz5tADq2f7xrNw4UIMw2DhwoUHdZxnnnmGl19++aDuU9O5xowZQ2Rk5EEd50AWL17M5MmT2bFjR7XbBg8ezODBg+v1fHW1cuVKBg0aRExMDIZhMHPmTEviANi6dSuTJ09m1apV1W47nH8LIiJWUh5SnfKQPZSHKA8RkcAQZHUAInJwXnjhBa6//no6derE7bffTkZGBk6nk+XLl/Pcc8+xZMkS3n//favDbBCffvopTz/9dI3J/Pvvv090dHTjB1VHvXr1YsmSJWRkZBzU/Z555hlatmx5UB9SDvVcB2vx4sVMmTKFMWPGEBsbW+W2Z555pkHPvT9XXnklJSUlvP3227Ro0YK0tDTLYtm6dStTpkwhLS2Nnj17Vrlt7NixDB8+3JrAREQOkfIQ5SENda6DpTzkwJSHiEhDUkFRpAlZsmQJ1113HcOGDeODDz4gNDTUd9uwYcO47bbbmDdvnoURWufoo4+2OoT9io6O5rjjjmvQczidTgzDaJRzHUhDf4jYnzVr1nD11VczYsQIy2KoizZt2tCmTRurwxARqTPlIbVTHqI8pJLyEBEJFJryLNKETJ06FcMwmDVrVpUkvlJISAhnnHGG77phGDV+i77vNJiXX34ZwzCYP38+V199NfHx8URHR3P55ZdTUlJCdnY2559/PrGxsSQnJ/PPf/4Tp9Ppu39t02g2bNiAYRgHnCozZ84cTj75ZJKTkwkLC6Nz587cddddlJSU+PqMGTOGp59+2ve4Kn82bNhQ7THl5uYSEhLCvffeW+1cv/zyC4Zh8OSTT/rasrOzGTduHG3atCEkJIT09HSmTJmCy+Xab9zgTZ7vuOMOkpKSCA8PZ8CAASxdurRav5p+R3/99RcXXnghKSkphIaG0qpVK0488UTftJS0tDTWrl3LN99843u8ld9yVx7vtdde47bbbqN169aEhobyxx9/7Hda09q1aznxxBOJiIggISGBG2+8kV27dvlu39/fbO/n0+TJk7n99tsBSE9P98VXec6aphoVFBRw/fXX07p1a0JCQmjfvj1333035eXl1c5z44038tprr9G5c2fCw8Pp0aMHH3/8ce1/CPY8j10uF88++6wvpsp4a5rWU3mfyucReH/vp59+OvPmzaNXr16EhYVx1FFH8e9//7va/bds2cI111xD27ZtCQkJISUlhXPPPZdt27axcOFC+vTpA8AVV1zhi2fv3+G+MXk8HqZPn85RRx1FaGgoiYmJXH755fz9999V+g0ePJiuXbuybNkyBg4cSHh4OO3bt+fhhx/G4/Hs9/ckInKolIcoD1EeUjvlIcpDRAKNRiiKNBFut5v58+fTu3dv2rZt2yDnGDt2LGeffTZvv/02K1euZOLEibhcLn799VfOPvtsrrnmGr766iumTZtGSkoKt956a72c9/fff+fUU09l/PjxRERE8MsvvzBt2jSWLl3K/PnzAbj33nspKSnhv//9L0uWLPHdNzk5udrxEhISOP3003nllVeYMmUKNtue705mz55NSEgIl1xyCeBN4vv27YvNZuO+++6jQ4cOLFmyhAceeIANGzYwe/bs/cZ+9dVX8+qrr/LPf/6TYcOGsWbNGs4++2yKi4sP+LhPPfVU3G4306dPp127duTl5bF48WLfWkDvv/8+5557LjExMb6pO/t+gJswYQL9+vXjueeew2azkZiYSHZ2do3nczqdnHrqqYwbN4677rqLxYsX88ADD7Bx40bmzp17wHj3NnbsWAoKCvjXv/7Fe++95/s71DYioKysjCFDhvDnn38yZcoUunfvznfffcdDDz3EqlWr+OSTT6r0/+STT1i2bBn3338/kZGRTJ8+nbPOOotff/2V9u3b13iO0047jSVLltCvXz/OPfdcbrvttoN6THv76aefuO2227jrrrto1aoVL774IldddRUdO3bkhBNOALxJfJ8+fXA6nUycOJHu3buTn5/P559/zvbt2+nVqxezZ8/miiuu4J577uG0004D2O9ogOuuu45Zs2Zx4403cvrpp7NhwwbuvfdeFi5cyIoVK2jZsqWvb3Z2Npdccgm33XYbkyZN4v3332fChAmkpKRw+eWXH/JjFxGpifIQ5SGgPER5iPIQEdmLKSJNQnZ2tgmYF154YZ3vA5iTJk2q1p6ammqOHj3ad3327NkmYP7jH/+o0m/UqFEmYD722GNV2nv27Gn26tXLd33BggUmYC5YsKBKv8zMTBMwZ8+e7WubNGmSub+XHo/HYzqdTvObb74xAfOnn37y3XbDDTfUet99H9NHH31kAuYXX3zha3O5XGZKSop5zjnn+NrGjRtnRkZGmhs3bqxyvEceecQEzLVr19Ya6/r1603AvOWWW6q0v/HGGyZQJZ59f0d5eXkmYM6cObPW45umaXbp0sUcNGhQtfbK451wwgm13rb332P06NEmYD7xxBNV+j744IMmYC5atMg0zZr/ZpX2fT7NmDHDBMzMzMxqfQcNGlQl7ueee84EzP/85z9V+k2bNq3a3wkwW7VqZRYVFfnasrOzTZvNZj700EPVzlVTnDfccEOVttqed5XP/b0fQ2pqqulwOKo8J0pLS824uDhz3LhxvrYrr7zSDA4ONtetW1drLMuWLav197lvTJXPp+uvv75Kv//9738mYE6cONHXNmjQIBMw//e//1Xpm5GRYZ5yyim1xiMicqiUhygP2ZvykNopD1EeIhIoNOVZRHxOP/30Ktc7d+4M4PtGc+/2jRs31tt5//rrLy6++GKSkpKw2+0EBwczaNAgANavX39IxxwxYgRJSUlVvtn//PPP2bp1K1deeaWv7eOPP2bIkCGkpKTgcrl8P5Xr3nzzzTe1nmPBggUAvlEGlc4//3yCgvY/ADwuLo4OHTowY8YMHnvsMVauXHlIU0TOOeecg+q/b6wXX3wxsOexNJT58+cTERHBueeeW6W9cnrY119/XaV9yJAhREVF+a63atWKxMTEen3e7U/Pnj1p166d77rD4eDII4+scv7PPvuMIUOG+P6dHK7Kv8G+C9/37duXzp07V/sdJSUl0bdv3ypt3bt3b7TfkYhIfVMeojykoSgPOTDlISJysFRQFGkiWrZsSXh4OJmZmQ12jri4uCrXQ0JCam0vKyurl3Pu3LmTgQMH8r///Y8HHniAhQsXsmzZMt577z0ASktLD+m4QUFBXHbZZbz//vu+qTsvv/wyycnJnHLKKb5+27ZtY+7cuQQHB1f56dKlCwB5eXm1niM/Px/wJlT7njs+Pn6/8RmGwddff80pp5zC9OnT6dWrFwkJCdx00011mqZUqaapVrWpKa7K2CsfS0PJz88nKSmp2lo9iYmJBAUFVTt/Tb+/0NDQQ34+HKy6nD83N7deFzOv/B3U9DdNSUnxu9+RiAQW5SEHR3lIdcpD6k55iIg0BVpDUaSJsNvtnHjiiXz22Wf8/fffdUogQkNDqy00DfWftDkcDoBq59pfElxp/vz5bN26lYULF/pGAwC+5PtwXHHFFcyYMYO3336bCy64gI8++ojx48djt9t9fVq2bEn37t158MEHazxGSkpKrcevTKSys7Np3bq1r93lctXpd5yamspLL70EwG+//cZ//vMfJk+eTEVFBc8991ydHmNNC3zXpjKuvRPAynWOKttq+1se7nMmPj6e//3vf5imWSXmnJwcXC5XlTV5GsLej2vv9Z/q8hytTUJCQrVFyg9H5d8gKyur2r/vrVu3NvjvSERkf5SHHDzlIVUpD1EeIiLNi0YoijQhEyZMwDRNrr76aioqKqrd7nQ6qyxqnZaWxurVq6v0mT9/Pjt37qzXuCp3/Nv3XB999NEB71uZ1O27yPfzzz9frW9ln7p+89m5c2eOPfZYZs+ezZtvvkl5eTlXXHFFlT6nn346a9asoUOHDhxzzDHVfvaXyFfuHvjGG29Uaf/Pf/5Tp50Z93bkkUdyzz330K1bN1asWOFrr+9veveN9c033wT2PJZWrVrhcDiq/S0//PDDasc6mL/HiSeeyM6dO/nggw+qtL/66qu+2xtSbc/Rg10Efm8jRoxgwYIF/Prrr7X2OZjf0dChQwF4/fXXq7QvW7aM9evXN/jvSETkQJSHKA85XMpDlIeISPOhEYoiTUi/fv149tlnuf766+nduzfXXXcdXbp0wel0snLlSmbNmkXXrl0ZOXIkAJdddhn33nsv9913H4MGDWLdunU89dRTxMTE1GtcSUlJnHTSSTz00EO0aNGC1NRUvv76a990of3p378/LVq04Nprr2XSpEkEBwfzxhtv8NNPP1Xr261bNwCmTZvGiBEjsNvtdO/e3TclqiZXXnkl48aNY+vWrfTv359OnTpVuf3+++/nyy+/pH///tx000106tSJsrIyNmzYwKeffspzzz1X6yiMzp07c+mllzJz5kyCg4M56aSTWLNmDY888gjR0dH7fdyrV6/mxhtv5LzzzuOII44gJCSE+fPns3r1au66664qj/ntt99mzpw5tG/fHofD4fs9HKyQkBAeffRRdu7cSZ8+fXy7K44YMYIBAwYA3g9Wl156Kf/+97/p0KEDPXr0YOnSpb6Ef2+VcTzxxBOMHj2a4OBgOnXqVGXNoUqXX345Tz/9NKNHj2bDhg1069aNRYsWMXXqVE499VROOumkQ3pMdXXqqacSFxfHVVddxf33309QUBAvv/wymzdvPuRj3n///Xz22WeccMIJTJw4kW7durFjxw7mzZvHrbfeylFHHUWHDh0ICwvjjTfeoHPnzkRGRpKSklLjB8ROnTpxzTXX8K9//QubzcaIESN8uyu2bduWW2655XB+BSIih015iPIQ5SGHRnmIiDRL1u4JIyKHYtWqVebo0aPNdu3amSEhIWZERIR59NFHm/fdd5+Zk5Pj61deXm7ecccdZtu2bc2wsDBz0KBB5qpVq2rdXXHZsmVVzlO5+1tubm6V9tGjR5sRERFV2rKyssxzzz3XjIuLM2NiYsxLL73UXL58eZ12V1y8eLHZr18/Mzw83ExISDDHjh1rrlixotp9y8vLzbFjx5oJCQmmYRhVdsXb9zFVKiwsNMPCwkzAfOGFF2r8febm5po33XSTmZ6ebgYHB5txcXFm7969zbvvvtvcuXNnjffZO6bbbrvNTExMNB0Oh3nccceZS5YsqRbPvjsebtu2zRwzZox51FFHmREREWZkZKTZvXt38/HHHzddLpfvfhs2bDBPPvlkMyoqygTM1NTUKsd75513qsVU2+6KERER5urVq83BgwebYWFhZlxcnHnddddVe4yFhYXm2LFjzVatWpkRERHmyJEjzQ0bNtS4W+eECRPMlJQU02azVTnnvrsrmqZp5ufnm9dee62ZnJxsBgUFmampqeaECRPMsrKyKv2oYXdE06z9b7yv2u6/dOlSs3///mZERITZunVrc9KkSeaLL75Y4+6Kp512WrX71/SYNm/ebF555ZVmUlKSGRwcbKakpJjnn3++uW3bNl+ft956yzzqqKPM4ODgKr/Dmv4tuN1uc9q0aeaRRx5pBgcHmy1btjQvvfRSc/PmzdVi6dKlS7UYR48e7XuOiIg0FOUhykOUh9ROeUjqAX5DItJcGKZpmg1bshQREREREREREZHmQmsoioiIiIiIiIiISJ2poCgiIiIiIiIiIiJ1poKiiIiIiIiIiIiI1JkKiiIiIiIiIiIiIlJnKiiKiIiIiIiIiIhInamgKCJ+ZcOGDRiGgWEYvP3229Vunzx5MoZhkJeXd9jnWrRoEWPHjqV3796EhoZiGAYbNmyosW92djY33ngj7du3JywsjNTUVK666io2bdp0wPO8/PLLGIbB8uXLDzvmg7Vr1y4mT57MwoULG/3cdVH5u6nt5+GHH663cy1cuBDDMPz2dyEiItZqzBzkySef5LjjjqNly5aEhobSrl07LrzwQtauXVulX0lJCRdeeCGdOnUiKiqKiIgIunTpwgMPPEBJSckBz6McpHa//fYb//znP+nduzexsbHExcVx/PHH89///rfez6UcpO4q/51ZZd26dUyePLnGzwRjxowhLS2t0WOqfP5U/tTnv+fDfW7Gxsb64rrxxhvrLS5pGoKsDkBEpDZ3330355xzDsHBwQ1y/K+//pqvvvqKo48+mujo6FrfSMvLyznhhBPYvn07U6ZMISMjg19//ZVJkybx+eefs379eqKiohokxsO1a9cupkyZAsDgwYOtDaYGp512GkuWLKnWft999/Hll19y1lln1du5evXqxZIlS8jIyKi3Y4qISPPU0DlIfn4+I0aMoEePHrRo0YK//vqLhx9+mGOPPZYff/yRTp06AeB0OjFNk1tvvZX09HRsNhvffvst999/PwsXLuSrr75qkPjqg7/nIF988QWffPIJl112GX369MHlcjFnzhzOO+88pkyZwn333Vdv51IO0nSsW7eOKVOmMHjw4GrFw3vvvZebb77ZmsCAp59+ml69etG5c+d6O+bhPje/+uorXC4X/fr1q7eYpOlQQVFE/NKIESP47LPPeO655/jHP/7RIOe49957mTRpEgCPPPJIrQXF7777jt9//50XX3yRq666CvAmxtHR0Vx88cV89dVX9Vr48ncFBQV4PB5atmx52MdKSEggISGhSltJSQlLlixhwIABvg9U9SE6Oprjjjuu3o4nIiLNU2PkIJWFtkqDBg3iuOOOIyMjgzfeeIP7778f8I7+mTNnTpW+J510EuXl5UyfPp2//vqL9u3bN0iM/qg+c5ALL7yQG264ocpouBEjRpCXl8e0adO48847CQ0NPezzgHIQK+3atYvw8PB6OVaHDh3q5TiHKiMjo96fR4f73DzmmGPqMRppajTlWUT80tChQznllFP4v//7P4qLixvkHDZb3V4CK0cnxMTEVGmPjY0FwOFw1Ok427dv54orriAuLo6IiAhGjhzJX3/9Va3fv//9b3r06IHD4SAuLo6zzjqL9evXV+kzePDgGr/t33sqxoYNG3zFuilTpvimI4wZMwaA3NxcrrnmGtq2bUtoaCgJCQkcf/zxBxztsHr1apKTkxkxYgSvvvpqvf995syZw86dOxk7dmy1xxYZGckvv/zCKaecQkREBMnJyb5p0T/88AMDBgwgIiKCI488kldeeaXK/Wua0lF5zD/++INTTz2VyMhI2rZty2233UZ5eXm9Pi4REWkaGiMHqUnle3ZQ0IHHfBxMX1AOUpOWLVvWOLW2b9++7Nq1i4KCgiqPTTlI/fvkk0/o2bMnoaGhpKen88gjj1TrU7kUwcsvv1ztNsMwmDx5su965XTpFStWcO6559KiRQtfEXD58uVceOGFpKWlERYWRlpaGhdddBEbN2703f/ll1/mvPPOA2DIkCG+523luWua8lxWVsaECRNIT08nJCSE1q1bc8MNN7Bjx44q/dLS0jj99NOZN28evXr1IiwsjKOOOop///vfB/+L24uem2IlFRRFxG9NmzaNvLw8ZsyYsd9+Ho8Hl8t1wB+3231IcRx//PH07t2byZMns2zZMnbu3MmKFSuYOHEivXr14qSTTqrTca666ipsNhtvvvkmM2fOZOnSpQwePLhKwvHQQw9x1VVX0aVLF9577z2eeOIJVq9eTb9+/fj9998PKu7k5GTmzZvnO/eSJUtYsmQJ9957LwCXXXYZH3zwAffddx9ffPEFL774IieddBL5+fn7Pe5xxx3HK6+8QnBwMFdffTWJiYmcd955vPfee/WSZLz00ktER0f7Erq9OZ1Ozj77bE477TQ+/PBDRowYwYQJE5g4cSKjR4/myiuv5P3336dTp06MGTOGH3/88YDnczqdnHHGGZx44ol8+OGHXHnllTz++ONMmzbtsB+LiIg0TY2Vg7jdbsrLy/nll18YO3YsiYmJXHHFFdX6maaJy+WiqKiIefPm8eijj3LRRRfRrl27Oj0e5SB1t2DBAhISEkhMTKzSrhykfn399deceeaZREVF8fbbbzNjxgz+85//MHv27MM+9tlnn03Hjh155513eO655wBvYbJTp07MnDmTzz//nGnTppGVlUWfPn1866KedtppTJ06FfBOL6583p522mk1nsc0TUaNGsUjjzzCZZddxieffMKtt97KK6+8wtChQ6s9J3/66Sduu+02brnlFj788EO6d+/OVVddxbfffntYj1fPTbGMKSLiRzIzM03AnDFjhmmapnnJJZeYERERZlZWlmmapjlp0iQTMHNzc333qWw70E9qamqt550xY4YJmJmZmTXeXlRUZI4cObLK8QYPHmzm5+cf8DHNnj3bBMyzzjqrSvv3339vAuYDDzxgmqZpbt++3QwLCzNPPfXUKv02bdpkhoaGmhdffLGvbdCgQeagQYOqnWv06NFVHmdubq4JmJMmTarWNzIy0hw/fvwB49+f7du3m//+97/Nk08+2QwKCjJjYmLMMWPGmJ9//rnpcrkO+njr1683AXPcuHHVbhs9erQJmO+++66vzel0mgkJCSZgrlixwteen59v2u1289Zbb/W1LViwwATMBQsWVDvmf/7znyrnOvXUU81OnToddPwiItJ0WZGDhIaG+voceeSR5rp162rs99Zbb1U53hVXXGE6nc4DPiblIAfnhRdeMAHziSeeqNKuHKT+HXvssWZKSopZWlrqaysqKjLj4uLMvcsUlf8uZ8+eXe0Y+z6/Kv893nfffQc8v8vlMnfu3GlGRERU+Xu/88471f5WlfZ9js+bN88EzOnTp1fpN2fOHBMwZ82a5WtLTU01HQ6HuXHjRl9baWmpGRcXV2Peu7eanj97x+QPz03AvOGGG/b7OKT50QhFEfFrDzzwAE6ns9paQ3u75pprWLZs2QF/5s6de0gxOJ1OLrjgAlatWsULL7zAt99+yyuvvMKWLVsYNmwYhYWFdTrOJZdcUuV6//79SU1NZcGCBQAsWbKE0tJS33SgSm3btmXo0KF8/fXXhxR/bfr27cvLL7/MAw88wA8//IDT6TzoY8TGxnLFFVfw+eefk5WVxcMPP0xmZibDhw8nJSWlxulU+/PSSy8BVJvuXMkwDE499VTf9aCgIDp27EhycjJHH320rz0uLo7ExMQq01hqYxgGI0eOrNLWvXv3Ot1XRESar8bIQRYvXsySJUt4/fXXiYqKYsiQIdV2egY45ZRTWLZsGfPnz+fBBx/k3Xff5ZxzzsHj8dTpsSgHObDPPvuMG264gXPPPbfGtTOVg9SfkpISli1bxtlnn11l6aCoqKhqv49Dcc4551Rr27lzJ3feeScdO3YkKCiIoKAgIiMjKSkpqTatv67mz58PUO3fzXnnnUdERES1fzc9e/asMqrY4XBw5JFHHvbfW89NsYo2ZRERv5aWlsb111/PU089xa233lpjn6SkpGrTUmpS0zo5dfHSSy/x2WefsWzZMt/CwwMHDmTAgAF06NCBmTNn+jZ32Z+kpKQa2yqn91T+Pzk5uVq/lJQUvvzyy0OKvzZz5szhgQce4MUXX+Tee+8lMjKSs846i+nTp9cY64EUFRWxY8cOCgsLMU2T2NjYOq/tBN7C7auvvkqPHj1qXeA5PDy82pqVISEhxMXFVesbEhJCWVnZAc9b0zFDQ0PrdF8REWm+GiMH6dWrF+CdynvGGWfQsWNHJk6cyIcfflilX4sWLXzvjUOGDKFDhw5ceOGFfPjhh3XaGE45yP59/vnnnH322QwbNow33nijxr+XcpD6s337djweT63Py8NV0/P44osv5uuvv+bee++lT58+REdH+wpxpaWlh3Se/Px8goKCqm0waBhGlX9fleLj46sdIzQ09JDPX0nPTbGKRiiKiN+75557CA8PZ+LEiTXefv/99xMcHHzAn0PdmW3VqlXY7XZf0l+pffv2xMfHs2bNmjodJzs7u8a2yuSi8v9ZWVnV+m3durXKjoYOh6PGtYIq14Cpi5YtWzJz5kw2bNjAxo0beeihh3jvvfeqfcu6P5s3b+axxx6jb9++dOjQgaeeeoqhQ4eybNkyfv311zqv7QTw8ccfk5OTU+voRBERkcbWmDlIVFQURx11FL/99tsB+/bt2xegTn1BOcj+fP7554waNYpBgwbx7rvvEhISUucY5NC0aNECwzBqfV7urbKote9zbn/rbe5bEC4sLOTjjz/mjjvu4K677uLEE0+kT58+dOvWrcrmOwcrPj4el8tFbm5ulXbTNMnOzq6X3chF/JlGKIqI34uPj+fOO+/k7rvvpqSkpNrt11xzDaeffvoBjxMaGnpI509JScHtdrNs2TKOPfZYX/tvv/1Gfn4+bdq0qdNx3njjjSpTMBYvXszGjRt9BbR+/foRFhbG66+/XmVDkr///pv58+dz7rnn+trS0tJ45513KC8v9z2u/Px8Fi9eTHR0dLXHfKBvPtu1a8eNN97I119/zffff7/fvsXFxbz88svMmTOHxYsX06JFC8455xymTZvGoEGD6rx79r5eeuklHA5HtWlZIiIiVmnMHCQvL4+ff/6Z448//oB9K6cqd+zY8YB9QTlIbb744gtGjRrFgAED+OCDDw45V5SDExERQd++fXnvvfeYMWOGr2hYXFxcbXmAVq1a4XA4WL16dZX2fUfx7o9hGJimWe3v++KLL1bbMKmuz1uAE088kenTp/P6669zyy23+NrfffddSkpKOPHEE+sco0hTpIKiiDQJ48eP5+mnn+azzz6rdltKSgopKSkHfczc3Fy++eYbAH7++WfAu35OQkICCQkJDBo0CIArrriCxx9/nHPOOYd77rmHTp068ddffzF16lQiIiK49tpr63S+5cuXM3bsWM477zw2b97M3XffTevWrbn++usB71pA9957LxMnTuTyyy/noosuIj8/nylTpuBwOKpMq77ssst4/vnnufTSS7n66qvJz89n+vTpVRJ58I52SE1N5cMPP+TEE08kLi6Oli1b0qJFC4YMGcLFF1/MUUcdRVRUFMuWLWPevHmcffbZ+30cP/74I3fddRdnnHEGH3zwASNGjCA4OLhuv/RabN26lXnz5nHBBRfQokWLwzqWiIhIfarvHKSwsJBhw4Zx8cUXc8QRRxAWFsZvv/3GE088QXl5eZX3++eff57vvvuOk08+mbZt21JSUsJ3333Hv/71L/r378+ZZ55Zp3MqB6lu0aJFjBo1iqSkJCZOnMiqVauq3J6RkVHtMUn9+b//+z+GDx/OsGHDuO2223C73UybNo2IiIgqowYNw+DSSy/l3//+Nx06dKBHjx4sXbqUN998s87nio6O5oQTTmDGjBm0bNmStLQ0vvnmG1566SViY2Or9O3atSsAs2bNIioqCofDQXp6eo3TlYcNG8Ypp5zCnXfeSVFREccffzyrV69m0qRJHH300Vx22WWH9ssRaSJUUBSRJiE8PJzJkydzzTXX1Nsx165dW+VbeMCXWA8aNIiFCxcC3gXJly1bxv3338+0adPIysqiVatW9OvXj/vuu49OnTrV6XwvvfQSr732GhdeeCHl5eUMGTKEJ554osr6JhMmTCAxMZEnn3ySOXPmEBYWxuDBg5k6dSpHHHGEr9/xxx/PK6+8wsMPP8yZZ55J+/btmTRpEp9++qkv7r3Pe/vtt3PGGWdQXl7O6NGjef755zn22GN57bXX2LBhA06nk3bt2nHnnXdyxx137Pdx9OrVi5ycHCIiIur0uOvi5Zdfxu12a7qziIj4nfrOQRwOBz169GDWrFls3ryZsrIykpKSGDx4MO+++y4ZGRm+vt26dePjjz9mwoQJ5OXlERQUxBFHHMHEiRO59dZb67xOoHKQ6r766itKS0vZsGEDQ4cOrXb7ggULGDx48GGfR2o2bNgwPvjgA+655x4uuOACkpKSuP766yktLa22EdKjjz4KwPTp09m5cydDhw7l448/Ji0trc7ne/PNN7n55pu54447cLlcHH/88Xz55ZecdtppVfqlp6czc+ZMnnjiCQYPHozb7Wb27Nk1Tsc3DIMPPviAyZMnM3v2bB588EFatmzJZZddxtSpUzXiVZo9wzRN0+ogRERERERERESkqoULFzJkyBC++uorBg0adFAbDjU0t9uNaZoEBwdzww038NRTT1kdkjQibcoiIiIiIiIiIuLHTjrpJIKDg1m+fLnVofjEx8cf9tJH0nRphKKIiIiIiIiIiB8qLi7m119/9V3PyMggPDzcwoj2WLVqFS6XC4DExMQ6764uzYMKiiIiIiIiIiIiIlJnmvLcTHz77beMHDmSlJQU3+KwB/LNN9/Qu3dvHA4H7du357nnnqvWp3Jh6NDQUDIyMnj//fer9XnmmWdIT0/H4XDQu3dvvvvuu/p4SCIiIiL1SvmSiIg0dc8++yzdu3cnOjqa6Oho+vXrV2UXetM0mTx5MikpKb7NldauXXvA49blvUxkbyooNhMlJSX06NGjzougZmZmcuqppzJw4EBWrlzJxIkTuemmm3j33Xd9fZYsWcIFF1zAZZddxk8//cRll13G+eefz//+9z9fnzlz5jB+/HjuvvtuVq5cycCBAxkxYgSbNm2q98coIiIicjiUL4mISFPXpk0bHn74YZYvX87y5csZOnQoZ555pq9oOH36dB577DGeeuopli1bRlJSEsOGDaO4uLjWY9blvUxkX5ry3AwZhsH777/PqFGjau1z55138tFHH7F+/Xpf27XXXstPP/3EkiVLALjgggsoKiqq8m3H8OHDadGiBW+99RYAxx57LL169eLZZ5/19encuTOjRo3ioYcequdHJiIiIlI/lC+JiEhzERcXx4wZM7jyyitJSUlh/Pjx3HnnnQCUl5fTqlUrpk2bxrhx42q8f13ey0T25T/7jUujWrJkCSeffHKVtlNOOYWXXnoJp9NJcHAwS5Ys4ZZbbqnWZ+bMmQBUVFTw448/ctddd1Xpc/LJJ7N48eL9nr+8vJzy8nLfdY/HQ0FBAfHx8RiGcRiPTERE5NCYpklxcTEpKSnYbJrEIdbmS8qVRETqR0O9v5eVlVFRUVEvxzJNs9pre2hoKKGhofu9n9vt5p133qGkpIR+/fqRmZlJdnZ2lfeu0NBQBg0axOLFi2stKB7ovUykJiooBqjs7GxatWpVpa1Vq1a4XC7y8vJITk6utU92djYAeXl5uN3u/fapzUMPPcSUKVPq4ZGIiIjUr82bN9OmTRurwxA/YGW+pFxJRKR+1ef7e1lZGelh6WSz/8+9dRUZGcnOnTurtE2aNInJkyfX2P/nn3+mX79+lJWVERkZyfvvv09GRobvi6qa3nM2btxY6/kP9F4mUhMVFAPYvt+AVM5+37u9pj77ttWlz74mTJjArbfe6rteWFhIu3bt2Lx5M9HR0XV/ECLNnGmaFBYWAhATE6NRKSL1oKTcxX9/3MyL3/3F9l0uX7unfBdbnh1DVFSUhdGJv7EqX1KuJHJgypOkksvloqCggLy8PH7OL+dfmd52myMSIySEVaO71+v7e0VFBdlks5nNRHN4r8lFFNF2Z9tqr+/7G53YqVMnVq1axY4dO3j33XcZPXo033zzje/2Q/mMfij3kcCmgmKASkpKqvZtQ05ODkFBQcTHx++3T+U3Fy1btsRut++3T21qG75duVOViHhVVFTw+OOPAzBx4kRCQkIsjkik6SooqeDlxRt4ZfEGCkudQAhBjhA8+6wmreRZKlmZLylXEjkw5UlSUlJCbm4uBQUFmKZJcHAwvVIcpLjjKIpIwB4ahqukCGiY9/coookyDu81uXJXi4N5fQ8JCaFjx44AHHPMMSxbtownnnjCt25idnY2ycnJvv4Hes850HuZSE20QFCA6tevH19++WWVti+++IJjjjmG4ODg/fbp378/4H0R6927d7U+X375pa+PiIiI1f7evovJH62l/8Nf8+TXv1NY6iS9ZQQPn92NJy7siQGohCg1Ub4kIuJ/PB4PeXl5rF+/nl9++YX8/HxM0yQ8PJzU1FSO7tGdCf3bYQ8Na/BYTKN+fg47DtOkvLyc9PR0kpKSqrznVFRU8M033+z3PedA72UiNdEIxWZi586d/PHHH77rmZmZrFq1iri4ONq1a8eECRPYsmULr776KuDdofCpp57i1ltv5eqrr2bJkiW89NJLVXZwuvnmmznhhBOYNm0aZ555Jh9++CFfffUVixYt8vW59dZbueyyyzjmmGPo168fs2bNYtOmTVx77bWN9+BFRERq8Gt2Mc9/8ycf/bQV1+5hiN1ax3D94A6c3CUJu82bwQfbbUyZu44tObusDFcagfIlEZGmq7S01Dca0e12A95Rh3FxcSQkJBAREeHrO6glPHAUPPEXZJVYFXHDmDhxIiNGjKBt27YUFxfz9ttvs3DhQubNm4dhGIwfP56pU6dyxBFHcMQRRzB16lTCw8O5+OKLfce4/PLLad26NQ899BBQt/cykX2poNhMLF++nCFDhviuV665M3r0aF5++WWysrLYtGmT7/b09HQ+/fRTbrnlFp5++mlSUlJ48sknOeecc3x9+vfvz9tvv80999zDvffeS4cOHZgzZw7HHnusr88FF1xAfn4+999/P1lZWXTt2pVPP/2U1NTURnjUIiIi1f24sYBnF/7JV+tzfG0DOrbkusEd6N+h+g65w7smMywjiQWrNzJsZiMHK41K+ZKISNNimibbt28nNze3yqYloaGhJCQkEB8fT1BQzWWNQS1hQDws3gwnNFR89TDC0PT9p262bdvGZZddRlZWFjExMXTv3p158+YxbNgwAO644w5KS0u5/vrr2b59O8ceeyxffPFFlTUkN23aVGXH67q8l4nsyzArV5YWsVBRURExMTEUFhZqXSCRvVRUVDB16lRAawOJ7I9pmiz4NYfnFv7F0g0FABgGjOiaxLWDOtC9TewBj6H3IvFnen6KVKc8qfkqLy8nLy+PvLw8XC7vBmqGYRATE0NCQsJBvQ42xOtn5THz7YVEH+YaikVmEfFuvb5L06MRiiIiItJkudwePl6dxXPf/Mkv2cUABNsNzunVhmtOaE/7hEiLIxQREZFKbhPW5cP2MmjhgIx4sO8e4WeaJkVFReTm5vp27wYIDg6mZcuWJCQk+NavFRHrqaAoIiIiTU5phZt3ftzMrG//4u/tpQBEhNi55LhUrjw+naQYh8URioiIyN6WbIUX1kB+2Z62eAdc0clJxxDvaMSKigrfbdHR0SQkJBATE9MgOzTXh3qb8izSBKmgKCLix2w2G3369PFdFgl0hbucvPbDBmZ/v4H8Eu+HjviIEK4ckM6lx6YSE66RCyIigUJ5UtOxZCs8vLxqm2tXMZuyc7ln7Q7GdDbpngBBQUHEx8eTkJBAaGioNcEeBBUUJZCpoCgi4seCgoI47bTTrA5DxHLZhWW8tOgv3vzfJkoqvDs7tmkRxrgT2nPeMW1xBNstjlBERBqb8qSmwW16RyYCmB4PFUV5lBfl4qnYM1Tx478jOO2YBFrGtVBxWKSJUEFRRERE/NafuTuZ9c1fvLfyb5xu73f4RyVFcd3gDpzWLZkguz50iIiI+LN1+ZBX4qa8KJfyHdsw3bs3WbHZCI6MIyQmAVdoONuAxCb2tq4RihLIVFAUEfFjpmmya9cuAMLDw/12/RiR+vbT5h08982fzFubjbk70+6bHsd1gzowuFOC/i2IiIjypCbA7Xbzx8YcijZuw/R4ZxjYgkMJjW1FSGQchn3PDIPtZbUdxX+poCiBTAVFERE/5nQ6mTFjBgATJ04kJCTE4ohEGo5pmnz/Rz7PfvMH3/+R72s/qXMrrhvcnt6pcRZGJyIi/kZ5kv9yuVzk5OSQk5NDxQ43pgdsIQ4cLZIJjmxRY/G3hfZTE2lSVFAUERERS7k9JvPWZPPsN3+wZksRAEE2gzN6pnDtoA4c2SrK4ghFRESkLlwuF9u2bSM3Nxe32zsisXMrB23aJVMcXHMhEaClAzLiGzPS+qERihLIVFAUERERS5S73Ly3YgvPf/MnG/K9U9bCgu1c0KctYwem06ZFuMURioiISF04nU5fIdHj8QAQFhZGcnIyLVq04Ma46rs8721sV7A3wRnrKihKIFNBUUREROqV22OyNLOAnOIyEqMc9E2Pw27bk20Xlzl583+beGlRJjnF5QDEhAUzpn8ao/unERehKWsiIiJNQU2FxPDwcJKTk4mNjfX165cCdx3j3e05f6+1Els6vMXEfimNHLiIHDYVFEVERKTezFuTxZS568gq3PNpITnGwaSRGfROjWP295m89sNGistcvtvGDmzPhX3aEhGqtERERKQpqKio8BUSzd27p0VERJCcnExMTEyN9+mXAn2Tvbs+by/zrpmYEd80RyZW0ghFCWTK3EVERKRezFuTxXWvr6iWGGcVlnHt6ysIshm4PN5bOyREcO2gDpzZszUhQbbGD1ZERESqcZuwyIQsIBkYYFQt+FVUVJCdnU1eXp6vkBgZGUlycjLR0dEHPL7dgG4tGyZ2K6igKIFMBUURERE5bG6PyZS56/abFLs8Jt3bxHDDkI4M69wKm60JD0kQERFpZt73wK1u2LJXW2vgMTuc6iwnOzub/Px8XyExKiqK5ORkoqK0eZpIIFJBUUTEj9lsNnr27Om7LOKvlmYWVJnmXJsJI46iX4dmNDRBREQsozyp/rzvgQvd1UfLbSkv54KsLKYWFjDEUCFxXxqhKIFMBUURET8WFBTEqFGjrA5D5ICydpTWqV/lJiwiIiKHS3lS/XCb3pGJexe2zLIyyMqC7QUAPA6c3iKaNinJREZGWhKnP1JBUQKZCooiIiJyyAp3OXlj6UZe+PavOvVPjHI0cEQiIiJyMBaZe6Y5m6YJGzdCQf6eDtEx5CQnsy06gqM0EFREdlNBUUTEj5mmidPpBCA4OBjD0Jpz4h825pfw70WZ/Gf535Q63QDYDPDU8jW7ASTFOOibHtd4QYqISLOmPKl+ZO19JS9vTzExJhaSkzHCw6v3E0AjFCWwqaAoIuLHnE4nU6dOBWDixImEhIRYHJEEMtM0+XHjdl747i++WLeN3Wuyc1RSFFcPbE9IkI2b3lrp7bvX/Srz7EkjM7BrIxYREaknypPqR/Lu/5sej3eaM0CbthiJiTX2kz1UUJRApoKiiIiI7JfL7WHe2mxe/C6TVZt3+NoHd0rg6oHt6d8h3jcqJNhuMGXuuiobtCTFOJg0MoPhXfVRRERExN8MMLy7OW/JzcV0OSE4BBISfLcbeG8foO8ERWQvKiiKiIhIjYrLnMxZtpnZ329gy+5NV0KCbJx9dGuuGpDOEa2q7+44vGsywzKSWJpZQE5xGYlR3mnOGpkoIiLin+wGPGJ4uDA729uQnOz7orDy3ftRu7efVKURihLIVFAUERGRKrbsKOXl7zN5e+lmistdAMRFhHDZcalcelwqCVGh+72/3WbQr0N8Y4QqIiIi9eD4vBweMl08HhJKTvye9/DWeIuJZ2kzlhqpoCiBTAVFERERAWD13zt44btMPv05C/fu3VU6JEQwdmB7zjq6NY5gu8URioiISH1zu91kZ2czxAaj26WwLsggC++aiQMMjUwUkZqpoCgiIhLA3B6Tr9dv48XvMlm6ocDX3r9DPGMHpjP4yERsmq4sIiLSbG3btg23201YWBgt41owSG/7B+VwRyhqiKI0VSooioiIBKBdFS7e/fFvXlqUyYb8XQAE2QzO6JHClQPS6do6xuIIRUREpKG4TfipCLaVutj+xzY6hkNKSopv7USpm3qZ8qxfuTRRKiiKiPgxm81GRkaG77LI4copKuOVJRt443+b2LHLCUC0I4hLjktldL80kmIcFkcoIiJSN8qTDs3CAnh8A+RUQHlONs4CDwlR4dzXPpbBVgcnIk2GCooiIn4sKCiI888/3+owpBlYn1XEi99l8tFPW3C6vXNr2sWFc+XxaZx3TFsiQpUSiIhI06I86eAtLIAJv3kve1xOXNtzASiObc2E3+ChI2FwnIUBNjEaoSiBTJ8eREREminTNPnmt1xe/C6TRX/k+dqPSW3B2IHpDMtIwq71EUVERAKC2/SOTKzkzMvCND3YwyIJiogGvLcPbKGNWOpKBUUJZCooioiINDNlTjcfrtrCi99l8nvOTgBsBozolszYAekc3a6FxRGKiIhIY/upyDvNGcBTXoar0PtlY0jLFF+fnApvv15aSllEDkAFRRERP1ZRUcHUqVMBmDhxIiEhIRZHJP4sf2c5r/+widd+2EDeTu8nhsjQIC7o05Yx/dNoGxducYQiIiL1R3nSwcnzLp2MaZqUZ2VimiZBETHYI6Jq7CcHphGKEshUUBQREWni/sjZyUuLMnlvxd+UuzwApMQ4uOL4dC7o25ZoR7DFEYqIiIjVWu5OBypyt+Au24VhDyIkObXWfnJgKihKIFNBUUREpAkyTZMlf+Xz0neZfP1Ljq+9e5sYxg5sz4iuSQTbteOliIiIePWIhhYVRWwu2AZAaHIatqCq1cPEEG8/EZEDUUFRRETEz7g9JkszC8gpLiMxykHf9Djf5ikVLg+f/LyVF7/LZO3WIgAMA07q3IqxA9Lpmx6HYeirbhEREanK43JyNpk8AQS3SCQosvpCibekaUOWg6ERihLIVFAUERHxI/PWZDFl7jqyCst8bckxDv55cidyist5ZfEGsou8tzmCbZzXuy1XHJ9G+4RIq0IWERGRJmDDhg0cHeHitiPDeC+kNbmuPbclhniLiYPjLAuvSVJBUQKZCooiIiJ+Yt6aLK57fQXmPu1ZhWXc9s5PvusJUaGM6Z/GxX3b0SJCC9CLiIjI/m3bto2ioiJsNhsX9mrPZaE2firybsDSMtg7zVkjE0XkYKigKCIi4gfcHpMpc9dVKybuLchm8OBZXRl1dGtCg+yNFpuIiIg0Xbt27WLLli0AtGnTBofDAUCv6jOe5SBphKIEMhUURUT8mM1m44gjjvBdluZraWZBlWnONXF5TNrFRaiYKCIigvKk2phuKPoJnHlgj/OwJSQT0zSJjY0lISHB6vCaFRUUJZCpoCgi4seCgoK45JJLrA5DGkFO8f6LiQfbT0REpLlTnlRdwULY8DhU5HivZ5VvZldUGe0uD6bH6FRLYxOR5kUFRRERET+QGOWo134iIiISWAoWwm8T9lwvcm2n0JkHBVDxfDpFHYKIG2xVdM2TRihKINO4cBERET/QNz2OlpG1b7Bi4N3tuW+6tl8UERGRqky3d2RiJaenguzyjQDEhSQRYY9iw+PeflJ/KguKh/sj0hSpoCgi4scqKip48MEHefDBB6moqLA6HGlABhDlqHniQGWeOWlkBnabsk4RERFQnrS3op/2THPe5d7JxtJf8JhuHPYIEoJTAO/tRT9ZGKSINCua8iwi4uecTqfVIUgjeGPpJjLzdhEaZCMmLJic4nLfbUkxDiaNzGB412QLIxQREfE/ypO8nHne/+dXZJPn3IppmoTYHLQObY9hGNX6Sf3QlGcJZCooioiIWGxbURnTP/sFgAkjjuKyfmkszSwgp7iMxCjvNGeNTBQREZHaGLEuNpdmUuIuAiA6KI6k0FRsRtVJicEtrYiu+VJBUQKZCooiIiIWm/zRWorLXfRoG8tl/dKw2wz6dYi3OiwRERFpAnbu3MnfwX9REePE2G6jVUhbYmuoHIYkQnQPCwIUkWZJBUURERELfbE2m8/WZBNkM3j47G4aiSgiIiJ1lpWVxdatWwFIH+Og4rn2OGxhNfZNuwUMe2NG1/xphKIEMhUURURELFJc5uS+D9cCcPUJ7emcHG1xRCIiItIUuFwuMjMzKSryTnGOj4+n3eh27Ei3seHxPRu0gHdkYtotEDfYmlibMxUUJZCpoCgiImKRR7/4jeyiMtrFhXPziUdYHY6IiIg0AcXFxWRmZuJ0OrHZbLRr1474eO9SKXGDocVA727OzjzvmonRPTQyUUTqnwqKIiJ+zDAM0tLSfJel+Vi5aTuvLNkAwINndcURrExfRETkYDTnPMnjgd+zoXAXxITDEUlgGCbZ2dm+Kc4Oh4MOHTrgcDiq3NewQ0wvK6IOPBqhKIFMBUURET8WHBzMmDFjrA5D6pnT7WHCez9jmnD20a0ZeESC1SGJiIg0Oc01T1qRCf9ZDNtL9rRFhzrp3yaTdrHFwO4pzu3aYbPZajmKNAYVFCWQqaAoIiLSyF747i9+yS6mRXgwd5/W2epwRERExE+syITnv6zaVlFWTObfmfz5m5Nz+9k4pd+eKc4iIlZRQVFERKQRbcwv4YmvfgfgntMyiI8MtTgiERER8Qcej3dkYiXTNCktyqZkh3eKc1BwGCty23NhC0ctRxAraIShBCoVFEVE/FhFRQUzZ84EYPz48YSEhFgbkBwW0zS5+/01lLs8HN8xnrN7tbY6JBERkSarueVJv2fvmeZsejwU5f5JRZl3F2dHZEsiW7Sl2Gnj92zolGJhoOKjKc8SyFRQFBHxc7t27bI6BKkn76/cwqI/8ggNsvHgqG7NbgF5ERGRxtac8qTCvR5K+a4CKsqKMAwbkfGpOCLiauwnImIVFRRFREQaiNtjsjSzgJziMsKC7dw/dy0AN514BGktIyyOTkRERPxJTPiey2U78wAIj02pUkzct59YSyMUJZCpoCgiItIA5q3JYsrcdWQVllVpT4lxcM0J7S2KSkRERPzVEUnQIgJyt5fiLC/BMIxqxcQWEd5+4h9UUJRApj3mRURE6tm8NVlc9/qKasVEgK2FZXy9fpsFUYmIiIg/s9ng/P57RieGhMVgswdX6XN+f28/ERGr6aVIRESkHrk9JlPmrsOs5XYDmDJ3HW5PbT1EREQkUB2dZjKyewHRYd6NWCq1iIBxw6BXuoXBSTWVIxQP90ekKdKUZxERkXq0NLOgxpGJlUwgq7CMpZkF9OsQ33iBiYiIiN/bsWMHR7Ry0XlkCKEtoykq9a6ZeESSRib6I015lkCmgqKIiB8zDIOUlBTfZfF/OcW1FxMPpZ+IiIjUrDnmSXl53unOCQnxpKQ0j8ckIs2TCooiIn4sODiYa665xuow5CAkRjnqtZ+IiIjUrLnkSW4TVu6ErTvLKcwqolM4tGzZ8sB3FMtphKIEMhUURURE6lF0WBA2A2pbItEAkmIc9E2Pq7mDiIiIBIz52+GRzZDjhIrcfJx5kBgTzaQOIQwNsTo6ORAVFCWQaRUGERGRerLw1xwueP6H/RYTASaNzMBuU/YoIiISyOZvhzv+8hYTTdPEtcM73bkwsiV3/OW9XUTEX6mgKCLix5xOJzNnzmTmzJk4nU6rw5H9eO2HjVz1ynJ2lrs4rn0cj57XneSYqtOak2IcPHtpL4Z3TbYoShERkeajKedJbtM7MrGSp6QI0+XEsAdhj4oF4NHN3n7iv7TLswQyTXkWEfFjpmmyY8cO32XxP26PydRP1/PSokwAzunVhofO7kZIkI1RR7dhaWYBOcVlJEZ5pzlrZKKIiEj9aMp50sqd3pGJAB5nBRW5WwEIion3bTCzzentd0yUVVHKgWjKswQyFRRFREQOUUm5i5vfXsVX67cBcPspnbh+cAffBwG7zaBfh3grQxQRERE/lLe7mOjakU/Fts2YHjeGzU5Qi4Qa+4mI+BsVFEVERA5BdmEZV72yjLVbiwgJsvHoeT0Y2SPF6rBERESkCYjFSdnmjbh3FgJgD4skJCUNW0holX4tg62ITupKIxQlkKmgKCIicpDWbi3kqpeXk11URnxECLMuP4beqS2sDktERESagO3btxOyaRMxZS62GwbBCa0Jikv0zXCo1CoYjo60KEipExUUJZCpoCgiInIQvl6/jX+8tZJdFW46JkYye0wf2saFWx2WiIiI+Dm3283mzZvJz88H4KrUMJ7ypGNzhNXY/7a2YFexSUT8lAqKIiIidWCaJrO/38ADn6zDY8LxHeN55pLexIRpLpKIiIjsX1FRERs3bqSiogKApKQkeqWkkLbD4JHNezZoAe/IxNvawlBNfvB7GqEogUwFRRERP2YYBgkJCb7LYg2X28P9H6/j1SUbAbiwT1v+b1RXgu02iyMTEREJXE0hT/J4PGzZsoWcnBwAQkNDSU9PJyIiAvAWDQfFendzznN610w8OlIjE5sKFRQlkKmgKCLix4KDg7nhhhusDiOgFZc5+cdbK1n4ay6GAXcNP4prTmjvtx9cREREAoW/50klJSVs2LCBsrIyABISEmjTpg02W9UvJO0GHBNlRYQiIodOBUUREZFabNlRylUvL+OX7GIcwTZmXtCT4V2TrQ5LRERE/ITbhOWlkOuGBDscEwY2TLKyssjKygK8hc+0tDSio6Mtjlbqm0YoSiBTQVFERKQGq//ewVWvLCe3uJyEqFBevPwYerSNtTosERER8ROf74QHcyHbtactwVXKmJIN9DJ2ARAXF0e7du2w2+0WRSkNSQVFCWQqKIqI+DGn08msWbMAuOaaawgO1gYgjeHztdnc/PZKypwejkqK4qUxfWgdW/MOjCIiImINK/Okz3fCTVlg7r5umibu/Bz+3raFB0yTu5KCuPCodrRooZ1VRKR5UkFRRMSPmaZJbm6u77I0LNM0eeG7v3jos18wTRh0ZAJPXXw0UQ4VckVERPyNVXmS2/SOTPQVEysqcP6diWfXTgDsUTG8GZ/KNbHKH5o7jVCUQKaCooiIBCS3x2RpZgE5xWUkRjk4ul0sU+au462lmwC47LhUJo3MIEg7OYuIiMhelpdWnebszN7sLSbabAQntcUe15Jtu/sdG25ZmNIIVFCUQKaCooiIBJx5a7KYMncdWYVlvraQIBsVLg+GAfeclsGVx6dpJ2cRERGpJtdd9bpZUQ5AcJt07NGxtfYTEWlOVFAUEZGAMm9NFte9voJ9J0ZVuDwAXHtCB64akN74gYmIiEiTkLDv/ioebw5h2IP230+aJY0wlECleVwiIhIw3B6TKXPXVSsm7u2DVVtwe7RepYiIiNTsmDBICgJfHWl3QRGb9+O1ASQHeftJ81Y55flwf0SaIhUURUQkYCzNLKgyzbkmWYVlLM0saKSIREREpKmxG3B3gveyAVUKipW1oYkJ3n4iIs2VCooiIn7MMAxiY2OJjY3Ven71IKd4/8XEg+0nIiIi1rEyTzolEp5MhlZBYJq7pzwbNpKCvO2nRDZqOGIRjVCUQKY1FEVE/FhwcDDjx4+3OoxmIzHKUa/9RERExDpW50mnRMKJ4SZvbDXZ7oY+bW0cF6WRiYFEuzxLINMIRRERCRh90+NIjnFQW95mAMkxDvqmxzVmWCIiItJEmaaJCXgMMOz6eC0igUOveCIiEjDsNoNJIzNq3JSlssg4aWQGdpu+KhYREZH9m1cCAzd5mFgAj+yAS3JtDPjb2y6BQVOeJZCpoCgi4secTiezZs1i1qxZOJ1Oq8NpFoZ3TebEoxKrtSfFOHj20l4M75psQVQiIiJysKzMk+aVwPW5kO3cvSHL7jUct7m97SoqBgYVFCWQaQ1FERE/ZpomW7du9V2Ww+fxmKzLKgLg1mFHkhofTmKUd5qzRiaKiIg0HVblSW4TphSAyZ4NWbB5x+qYeGc93F8Aw8K1nqKINF8qKIqISED5cdN2sgrLiAoN4poT2uMItlsdkoiIiDQhy8og2737imfPDs+VTCDL7e13XFjjxyeNR5uySCBTQVFERALKxz95RzIM69JKxUQRERE5aDnuva54qo5QrLWfNEsqKEog0xqKIiISMNwek09+zgZgZPcUi6MRERGRpiixpu8jjepVoRr7iYg0ExqhKCIiAeN/f+WTt7Oc2PBgju/Y0upwREREpAnq44Aku3cDFirXbtyroGjgvb2Pw5LwpBFphKIEMo1QFBGRgDF3dRYAw7skERKkt0ARERE5eHYDJsV5Lxv7FBQra0P3xWlDlkCgXZ4lkOnTlIiInwsPDyc8PNzqMJo8p9vDZ2u8BcWRPTTdWUREpDmwKk8aHgHPJECCreru0kl2b/vwiEYPSUSkUWnKs4iIHwsJCeGOO+6wOoxm4fs/8tixy0nLyBCOTY+zOhwRERE5TFbnScMjoE+KydwdsMth0KuVd5qzRiYGDk15lkCmgqKIiASEuT95Ryee2i2ZILsG6IuIiMjhs2HSzQGRkQadwqyORhqbCooSyFRQFBGRZq/c5eaLtd7dnU/X7s4iIiJST1wek98KwVlqUJYAXVtohKKIBAYVFEVE/JjT6eSNN94A4JJLLiE4ONjiiJqmb37NpbjcRVK0g2NSW1gdjoiIiNQDq/OkRdvg8aUmWzaBPcIgohRahsL1nWBAq0YNRSyiEYoSyFRQFBHxY6ZpsmHDBt9lOThuj8nSzAKe++ZPAEZ0S8JmU9YmIiLSHFiZJy3aBvevhooK73Vj9/7OeeXe9vu6q6gYCFRQlECmgqKIiDRL89ZkMWXuOrIKy3xtH63ayrHpcQzvmmxhZCIiItKUuU145tfdVyoLmUbVqtCzv0K/RE1/FpHmS6vSi4hIszNvTRbXvb6iSjERoKCkguteX8G8NVkWRSYiIiJN3Zrt3pGIAHg83v/vU1DMLff2k+atcoTi4f6INEUqKIqISLPi9phMmbuOmiY+VbZNmbsOt0dTyEVEROTgFewuJpqmSUVhLgC2EEet/aT5UkFRApkKiiIi0qwszSyoNjJxbyaQVVjG0syCxgtKREREmo24UO//nTty8VSUYdiDCI2tvmBiZT8RkeZIayiKiEizklNcezHxUPqJiIiI7K1rC4izu9hYsBWA0JatMez2Kn0SQr39pHnTpiwSyDRCUUTEzwUHBxMcHGx1GE1GsL1ub22JUdWnJomIiEjTYkWeZDfgvJitmG43ttAwgqPjq/W5rpM2ZAkEmvIsgUwjFEVE/FhISAh333231WE0GYt+z+Oe93/ebx8DSIpx0Dc9rnGCEhERkQZhVZ5UWlpKupHH1UfAPE9bCvfakCUh1FtMHFB9BrSISLOigqKIiDR5bo/Jk1//zpPzf8c0oXWsgy07yjCgyuYslen+pJEZ2G36OlhEREQO3t9//41pmgzuEMuY9lGs2e7dgCVu9zRnjUwMLBphKIFKBUUREWnScovLGT9nJd//kQ/ARX3bMmlkFxb+msOUueuqbNCSFONg0sgMhndNtipcERERacIKCwspKirCMAzatGmD3YAemvQQsLSGogQyFRRFRPyYy+Vizpw5AFxwwQUEBelle28//JXPP95aSW5xOWHBdqae3ZWzjm4DwPCuyQzLSGJpZgE5xWUkRnmnOWtkooiISPPQWHmS24RlZbDNZVLyx990NKF1UitCQ7WNs4gELn0yFRHxYx6Ph99//913Wbw8HpNnv/mTR7/4FY8JRyRG8swlvTiiVVSVfnabQb8O1RdKFxERkaavMfKkeSUwpQCy3eDOy8WVVUbLkCAeOjKJ1g1yRmlKNEJRApkKiiIi0qQUlFRwy5xVfPNbLgBn92rNA6O6Eh6itzQRERGpP/NK4Ppc73rMpsuFK2crAIUJrflHgR27HYZHWBujWEsFRQlk+vQlIiJNxo8bC7jxzZVkFZYRGmTj/87synnHtMEwlImJiIhI/XGb3pGJlZu7ubdtBbcbwxGG0cI7++H+AhgWrk1YRCQw2awOIJCNGTOGb7/91uowRET8nmmavPDtX1zw/A9kFZbRvmUEH9xwPOf3aatiokgzp3xJRKywrMw7zRnA9Hhwb88DICjZm3uYQJbb208CV+UIxcP9EWmKVFC0UHFxMSeffDJHHHEEU6dOZcuWLVaHJCLidwp3Obn61R958NP1uDwmI3uk8NE/BtA5Odrq0ESkEShfEhEr5Lj3uuJ2g2mCYWCLjKq9nwQcFRQlkKmgaKF3332XLVu2cOONN/LOO++QlpbGiBEj+O9//4vT6bQ6PBERy/20eQen/es7vlq/jRC7jQdGdeXJC3sSGaoVO0QChfIlEbFCon2vK+buic81zIqo0k9EJICooGix+Ph4br75ZlauXMnSpUvp2LEjl112GSkpKdxyyy2+XctERAKJaZq8/H0m5z63mL+3l9IuLpz3ru/PpcelaoqzSABSviQija2PA5LsYACmuXsH6b1yEANItnv7SeDSCEUJZBri4SeysrL44osv+OKLL7Db7Zx66qmsXbuWjIwMpk+fzi233GJ1iCJigZCQECZPnmx1GI2qqMzJXe+u5tOfswEY3iWJ6ed1J9oRbHFkImI15UsisreGzJPsBkyK8+7ybOweoWhg7P6/131x2pAl0GmXZwlkGqFoIafTybvvvsvpp59Oamoq77zzDrfccgtZWVm88sorfPHFF7z22mvcf//9VocqItIo1mwpZOS/FvHpz9kE2w0mjczg2Ut7qZgoEsCUL4mIVYZHwDMJkGirOuU5ye5tHx5hYXAiIhbTCEULJScn4/F4uOiii1i6dCk9e/as1ueUU04hNja20WMTEWlMpmny5tJNTJm7jgqXh9axYTx9SS96to21OjQRsZjyJRGx0vAI6J9i8l4uFAUZ9G3lneaskYkCGqEogU0FRQs9/vjjnHfeeTgctS+80aJFCzIzMxsxKhHxJy6Xi/feew+As88+m6Cgpv2y7faYLM0sIKe4jMQoB33T4yhzupn4/s98uGorACd1TuSR83oQGx5icbQi4g+UL4lIbRorTzJNk9ByiHTaCCsFtG6i7KaCogSypv3JtIlbsGABo0aNqpYgl5SU8I9//IN///vfFkUmIv7C4/Gwbt06AEaNGmVtMIdp3pospsxdR1Zhma+tZWQIdpvBtqJy7DaDO4d34uqB7bXxioj4KF8Skdo0Rp60aBs8sdJk859gCzV42wktQ+H6TjCgVYOcUkSkSdAaihZ65ZVXKC0trdZeWlrKq6++akFEIiINY96aLK57fUWVYiJA3s4KthWVExsWzJxrjuOaEzqomCgiVShfEhGrLNoG96+G/LKqayjmlXvbF22zMDjxC9rlWQKZRihaoKioCNM0MU2T4uLiKt+4u91uPv30UxITEy2MUESk/rg9JlPmrsPcT5/QYBtHt2vRaDGJiP9TviQiVnKb8Myv3sum6QH27PJc6dlfoV+i1lMMZJryLIFMBUULxMbGYhgGhmFw5JFHVrvdMAymTJliQWQiIvVvaWZBtZGJ+9pWVM7SzAL6dYhvpKhExN8pXxIRK63Z7h2JCIBZdYRipdxyb78ecY0bm4iIP1BB0QILFizANE2GDh3Ku+++S1zcnnegkJAQUlNTSUlJsTBCEZH6k1O8/2LiwfYTkcCgfElErFRQvudy5QhFbNVXDNu7nwQejVCUQKaCogUGDRoEQGZmJu3atdN6YSLSrCVG1W0rxLr2E5HAoHxJRKwUF7rnssfprRragkL2208CjwqKEshUUGxkq1evpmvXrthsNgoLC/n5559r7du9e/dGjExEpGH0TY8jOcZR67RnA0iKcdA3XfOFRMRL+ZKIWK1rC+9uznnlYDorALAFV60eJoR6+4mIBCIVFBtZz549yc7OJjExkZ49e2IYBqZZfasCwzBwu90WRCgi/iQ4OJiJEyf6LjdFdpvBlcen8+Cn66vdVvmF7KSRGdht+npWRLyUL4lIXTRknmQ34PpO3t2caxuheF0nbcgS6DRCUQKZCoqNLDMzk4SEBN9lEZH9MQyDkJDq02uamv9l5gPgCLZR5vT42pNiHEwamcHwrslWhSYifkj5kojURUPnSQNawX3d4cG/y9nOnhGKCaHeYuKAVg12amkiVFCUQKaCYiNLTU2t8bKISHO1YtN2vlqfg82Aj24cQP7OCnKKy0iM8k5z1shEEdmX8iUR8RfHJ5pM6ebkzyJIOCKUhAjvNGeNTBSRQKeCYiP76KOP6tz3jDPOaMBIRKQpcLlcfPzxxwCcfvrpBAU1vZftR7/4FYBzerXhyFZRoG/zReQAlC+JSF00Rp5UXl6O3YCjWtg4um3Ty8OkYWmEogQyvSI2slGjRtWpn9YEEhEAj8fDqlWrADj11FOtDeYQLP4zj+//yCfYbnDTiUdYHY6INBHKl0SkLho6T3KbsHBXBT+5ICUslO6mRiZKVSooSiBTQbGReTyeA3cSEWkGTNPkkc+9oxMv6tuOtnHhFkckIk2F8iURsdpHTrijHP4uLMcsByM0hAdLYHoonNE098kTEalXNqsDEBGR5mnBrzms2LQDR7CNG4d0tDocERERkTr5yAmXlcFWEyj37vBMaChZprf9I6el4YkfqRyheLg/Ik2RRig2sieffJJrrrkGh8PBk08+ud++N910UyNFJSJSvzwek0c+/w2A0f3SSIx2WByRiDQlypdExCpu0zsy0axsqKjw/j80FBMwgDvL4bQgTX8WLxUEJVCpoNjIHn/8cS655BIcDgePP/54rf0Mw1CCLCJN1mdrslmXVURkaBDXDupgdTgi0sQoXxIRqyx27x6ZuJtZ4R2haASHeK8DW0xvv4H6NC0iAUwvgY0sMzOzxssiIs2F22Py2JfetROvGpBOi4gQiyMSkaZG+ZKIWCXb3KehcuOn4OD995OApE1ZJJCpoOgnTNP7jmQYejURkabt/ZVb+DO3hNjwYMYOTLc6HBFpRpQviUhDS9r35aVyk6h9Xneq9ZOApIKiBDJtymKxl156ia5du+JwOHA4HHTt2pUXX3zR6rBExE8EBwdz++23c/vttxMc7P9bCla4PMz8yrt24rWDOhDl8P+YRcT/KV8SkZo0RJ7U3w4phnetRAB2f5FRWVA0gNaGt5+ISCDTCEUL3XvvvTz++OP84x//oF+/fgAsWbKEW265hQ0bNvDAAw9YHKGIWM0wDCIiIqwOo87mLN/M39tLSYgKZXS/NKvDEZFmQPmSiNSmIfIkuwHTQ727ORuwp6Bos/mKjNNCtSGLeGmEogQyFRQt9Oyzz/LCCy9w0UUX+drOOOMMunfvzj/+8Q8lyCLSpJQ53Tw1/3cAbhzSkbAQfXUvIodP+ZKINLYzguE1vLs9b95rynOK4S0mnqEJGLKbCooSyFRQtJDb7eaYY46p1t67d29cLpcFEYmIv3G5XHz++ecAnHLKKQQF+d/LtttjsjSzgDnLNrGtqJyUGAcX9m1rdVgi0kwoXxKR2jRknnRGMJwWBLNDTPKBvuEGJzg0MlFEpJLWULTQpZdeyrPPPlutfdasWVxyySUWRCQi/sbj8bBs2TKWLVuGp/Ibcj8yb00WA6bN56IXfuCDVVsBKKlws+CXHIsjE5HmQvmSiNSmofMkGyZHB8FJQXBCiE3FRKmmcoTi4f6INEX+N9Slmbv11lt9lw3D4MUXX+SLL77guOOOA+CHH35g8+bNXH755VaFKCJSJ/PWZHHd6ysw92kvKnVy3esrePbSXgzvmmxJbCLStClfEhF/4HZ6KF8NZgGUlxmEHQeGVnSRvWjKswQyFRQb2cqVK6tc7927NwB//vknAAkJCSQkJLB27dpGj01EpK7cHpMpc9dVKyYCmHgXMZ8ydx3DMpKw25QlicjBUb4kIlYr/Qzy7jPZscl7vSDEhj0ZYqdA2AhrYxMR8QcqKDayBQsWWB2CiMhhW5pZQFZhWa23m0BWYRlLMwvo1yG+8QITkWZB+ZKIWKn0M8gfB87d06iN3fs7u7O97fHPq6goXhqhKIFMayiKiMhByymuvZh4KP1ERERE/IHphh2TABPM3XMxKguKlVMzdkz29hPRGooSyDRC0WLLli3jnXfeYdOmTVRUVFS57b333rMoKhGR/UuMctRrPxGR/VG+JCKNpXwpuLO8lz14Ryja9h6HY4J7q7efo58FAYqI+AmNULTQ22+/zfHHH8+6det4//33cTqdrFu3jvnz5xMTE2N1eCIiteqbHkdyjIPavlA1gOQYB33T4xozLBFphpQviUhj8mzbc7nc9M60CDFC99tPApdGKEog0whFC02dOpXHH3+cG264gaioKJ544gnS09MZN24cycnaGVVEIDg4mPHjx/su+wu7zWDSyAyue31Ftdsqc6JJIzO0IYuIHDblSyJSm4bIk2yt9lwuM0sBcBhh++0ngUtrKEog0whFC/3555+cdtppAISGhlJSUoJhGNxyyy3MmjXL4uhExB8YhkFsbCyxsbEYhn9lG8O7JnP36Z2rtSfFOHj20l4M76oP+iJy+JQviUhtGiJPCu0L9mTAqKWgaIA9xdtPRCSQaYSiheLi4iguLgagdevWrFmzhm7durFjxw527dplcXQiIgfWtkU4AOktIxh/0hEkRnmnOWtkoojUF+VLItKYDDvETvHu5lytoLg7vYmd7O0nohGKEshUULTQwIED+fLLL+nWrRvnn38+N998M/Pnz+fLL7/kxBNPtDo8EfEDbrebr7/+GoATTzwRu92/stdN+d4P8xkp0ZzZs7XF0YhIc6R8SURq01B5UtgIaPGsB/cd5ZC3p6BoT/YWE8NG1MtppBlQQVECmQqKFnrqqacoK/Mu9DthwgSCg4NZtGgRZ599Nvfee6/F0YmIP3C73SxevBiAwYMH+11BcWNBCQCpceEWRyIizZXyJRGpTYPmSYNLiZ8N5q/BJEYFYWvlneaskYkiIl4qKFooLm7P7qc2m4077riDO+64w8KIREQOzsbdIxRT41VQFJGGoXxJRBqb24RvdpSy3glteoXRKwPsGkUmNdAIRQlkKihazO128/7777N+/XoMw6Bz586ceeaZBAXpTyMi/m9Tgbeg2C4uwuJIRKQ5U74kIo3l01KYtAM2by3FUwT2kDAeyYYpsXBq9c2eJcCpoCiBTFmYhdasWcOZZ55JdnY2nTp1AuC3334jISGBjz76iG7dulkcoYhI7VxuD1u2excr1whFEWkoypdEpLF8WgrjCsAEzDJvjkNYGNkeb/vzcSoqiohUslkdQCAbO3YsXbp04e+//2bFihWsWLGCzZs30717d6655hqrwxMR2a+tO8pweUxCgmwkRTusDkdEminlSyLSGNymd2SiWdmwu6BoOMJ8bZMLvf1EKlWOUDzcH5GmSCMULfTTTz+xfPlyWrRo4Wtr0aIFDz74IH369LEwMhGRA6vckKVtizBsNmVCItIwlC+JSGP4XwVkebyXTacT0+UCwAj1fmlqAlvd3n79Qy0KUvyOpjxLINMIRQt16tSJbdu2VWvPycmhY8eOFkQkIlJ3ezZk0fqJItJwlC+JSGPIce+57NmeD3hHJxo2W639REQCmUYoNrKioiLf5alTp3LTTTcxefJkjjvuOAB++OEH7r//fqZNm2ZViCLiR4KDg7n++ut9l/3Jng1ZtH6iiNQv5UsiUhf1mScl2r3/N10u3LnZANgTkmrtJwIaoSiBTQXFRhYbG4th7HnFME2T888/39dmmt5FOUaOHInbra+/RAKdYRgkJiZaHUaNNuZ7pzxrQxYRqW/Kl0SkLuozTzo2BJJt8Pe2reB2Y4SFY2sRt+dcQLLd209kbyoISqBSQbGRLViwwOoQREQOm9tjsm6rdwRRaYULt8fErnUURaSeKF8SkcZmN+BuRxnjCvIwAHtKW99tlRnO5BhvPxERUUGx0Q0aNMjqEESkCXG73Xz33XcADBw4ELvd+nk289ZkMXnuOrILywCY/vlvvPbDJiaNzGB412SLoxOR5kD5kojURX3nSV3z/2ZilMmLtli2R0T62pPt3mLiqWGHdXhphjTlWQKZCooW27FjBy+99BLr16/HMAwyMjK48soriYmJsTo0EfEDbrebhQsXAtC/f3/LC4rz1mRx3esrMPdpzy4s47rXV/Dspb1UVBSReqd8SURqUp95UnFxMYWFhQwMMxjbuTU/2bwbsCTunuaskYlSExUUJZBpl2cLLV++nA4dOvD4449TUFBAXl4ejz32GB06dGDFihVWhyciUoXbYzJl7rpqxUTA1zZl7jrcnpp6iIgcGuVLItLQTNNk8+bNACQkJBAR5qB/KIwKh/6hKiaKiNREIxQtdMstt3DGGWfwwgsvEBTk/VO4XC7Gjh3L+PHj+fbbby2OUERkj6WZBWTtnuZcExPIKixjaWYB/TrEN15gItKsKV8SkYZguqF8KXi2wXZHAbviSgkKsZOcrJkWUncaoSiBTAVFCy1fvrxKcgwQFBTEHXfcwTHHHGNhZCIi1eUU115MPJR+IiJ1oXxJROpb6WewYxK4s8BjevjVuQVPS+h0dzJBPfURWepOBUUJZJrybKHo6Gg2bdpUrX3z5s1ERUVZEJGISO0Soxz12k9EpC6UL4lIfSr9DPLHeYuJALmebThxYssPwXZnAqWfWRufiEhToYKihS644AKuuuoq5syZw+bNm/n77795++23GTt2LBdddJHV4YmIVNE3PY6WkSG13m4AyTEO+qbHNV5QItLsKV8Skfpiur0jEysXf3aaTnLd2QAk29tgM2zsmOztJ1IXlSMUD/dHpCnSeG4LPfLIIxiGweWXX47L5QIgODiY6667jocfftji6EREqjJNk7CQmndPrMyDJo3MwG5TViQi9Uf5kojUl/Kle0YmAuS6s/HgIdyIINbWAkxwb/X2c/SzLk5pOjTlWQKZCooWcbvdLFmyhEmTJvHQQw/x559/YpomHTt2JDw83OrwRMRPBAUFcfXVV/suW+nf32eyuaCUsGAbUY5gcorLfbclxTiYNDKD4V21kLmI1B/lSyKyPwebJ3m2Vb2+0ywGIMGetN9+IiJSnQqKFrHb7ZxyyimsX7+euLg4unXrZnVIIuKHbDYbrVu3tjoMNuaX8NiXvwEw5YyunNO7DUszC8gpLiMxyjvNWSMTRaS+KV8Skf052DzJ1qrq9QrT++VoqOHYbz+R2miEogQyFRQt1K1bN/766y/S09OtDkVEpFamaTLhvZ8pc3o4vmM85x3TBsMw6Nch3urQRCQAKF8SkfoS2hfsyeDOBqfHiQePt51QbwfDe3toXwuDlCZFBUUJZNqUxUIPPvgg//znP/n444/JysqiqKioyo+IiNvt5vvvv+f777/H7bZmhfB3lv/N4j/zcQTbmHpWNwxDWY+INB7lSyJSm4PNkww7xE7xXq7AOzox2Ajx5ja705vYyd5+IiKyfxqhaKHhw4cDcMYZZ1T5gG6aJoZhWFY8EBH/4Xa7+fLLLwHo06cPdnvjZrg5RWU88Mk6AG4ddiSp8RGNen4REeVLIlKbQ8mTwkZA/PNQeHc5bNkzOtGe7C0mho1oyIiludEIRQlkKihaaMGCBVaHICKyX5M+WktRmYturWO48nhNNxSRxqd8SUTqW9gIiO1aTuFXEOcMpWU37zRnjUyUg6WCogQyFRQtNGjQIKtDEBGp1bw12Xy2Jhu7zWDaOd0JsmuVDBFpfMqXRKQhVLjKCe0Osa1DcSQduL+IiFSlgqLFtm/fzksvvcT69esxDIPOnTtzxRVXEBcXZ3VoIhLACkud3PfhGgDGndCejJRoiyMSkUCmfElE6pPbhMU7y9lSAd1soZxsgl2jxOQQaISiBDINN7HQN998Q1paGk8++STbt2+noKCAJ598kvT0dL755hurwxORAPbwZ+vJKS6nfcsIbjrxCKvDEZEApnxJROrT3ArouQOu317Og6VwSUUoPXd420UOVmVB8XB/RJoijVC00A033MAFF1zAs88+61tA2O12c/3113PDDTewZs0aiyMUkUC05M983lq6GYCHzu6GI1gLComIdZQviUh9mVsBV+wEj9sNLpe3MTSULNPbPjsSRoZYG6OISFOhEYoW+vPPP7ntttuq7EZmt9u59dZb+fPPPy2MTEQCVZnTzYT3VgNw8bHtOLZ9vMURiUigU74kIvXBbcLEEjABysu9jUFBGHa7tw24u8TbT6SuNEJRAplGKFqoV69erF+/nk6dOlVpX79+PT179rQmKBHxK0FBQYwZM8Z3uaE98fXvbMjfRavoUO4acVSDn09E5ECUL4lIbQ4mT1rigq27i4VmhbegaISE+m43gS2mt9+A4IaIVpojraEogUwFRQvddNNN3Hzzzfzxxx8cd9xxAPzwww88/fTTPPzww6xevdrXt3v37laFKSIWstlspKWlNcq51mwpZNa3fwHwf2d2JdqhbFpErKd8SURqczB50jbPXlc8u6/UUISs0k9ERGqlgqKFLrroIgDuuOOOGm8zDAPTNDEMA7fb3djhiUgAcHtMlmYWkF1YyhPzf8ftMTmtWzInd0myOjQREUD5kojUj1Z7L/ZVWVA0qg8Na6VFweQgaISiBDIVFC2UmZlpdQgi4ufcbjc//vgjAL17966yhtjhmrcmiylz15FVWOZrM4ATjkyot3OIiBwu5UsiUpuDyZP6BUGKAVkmYO6e+2zbUz008N7eT5+Q5SCooCiBTC+XFkpNTbU6BBHxc263m08//RSAnj171ltBcd6aLK57fQX7rjtuAne9u5qYsCCGd02ul3OJiBwO5UsiUpuDyZPsBkyN8O7mbOwzQrGynvNghLefiIgcmAZ0i4gEGLfHZMrcddWKiXubMncdbo+2ORQREZHmY2QIzI6ERHN3QXH3CMUUw9s+MsTC4KRJ0i7PEsg0QlFEJMAszSyoMs15XyaQVVjG0swC+nWIb7zARERERBrYyBDoEW3yZTG4I2xkRHmnOWtkoojIwVFBUUQkwOQU115MPJR+IiIiIk2FxwNbMz3EbIJ2LoNj0sGmYqIcBo0wlEClgqKISIBJjHLUaz8RERGRpuC3n2H+h7B5k4eSUoiOtLFiAQw9E47sZnV00hRpUxYJZFpD0WI7duzgxRdfZMKECRQUFACwYsUKtmzZYnFkItJc9U2PIznGQW25iwEkxzjomx7XmGGJiNRK+ZKIHK7ffoaPXoWdhWDuXknaMGzsLPS2//azxQGKiDQxGqFoodWrV3PSSScRExPDhg0buPrqq4mLi+P9999n48aNvPrqq1aHKCLNkN1mMGlkBte9vqLabZVFxkkjM7Br/o+I+AHlSyJyuDwe78jESubuTVmMvb5eXfARdOzi26dFpE40QlECmV4uLXTrrbcyZswYfv/9dxyOPVMLR4wYwbfffmthZCLiL4KCgrj44ou5+OKLCQqqv++AhndN5plLelUbpZgU4+DZS3sxvGtyvZ1LRORwKF8SkdrUNU/6O9M7MrHS3iMUKxXv8PYTORja5VkCmUYoWmjZsmU8//zz1dpbt25Ndna2BRGJiL+x2WwceeSRDXLs3mktMPGOSnzkvO6kxIbTNz1OIxNFxK8oXxKR2tQ1Tyopqnrd43EBVQuKNfUTEZHaqaBoIYfDQVFR9XetX3/9lYSEBAsiEpFA8lduCQBt48I5p3dbi6MREamZ8iUROVwR0VWvu90VANjtIfvtJ3IgmvIsgUxTni105plncv/99+N0OgEwDINNmzZx1113cc4551gcnYj4A7fbzapVq1i1ahVut7tej52Z5y0opreMqNfjiojUJ+VLIlKbuuZJbdIhMsZ72TRNX0ExyB7q6xMV6+0ncjA05VkCmQqKFnrkkUfIzc0lMTGR0tJSBg0aRMeOHYmKiuLBBx+0OjwR8QNut5sPPviADz74oMEKiu0TVFAUEf+lfElEalPXPMlmg6FnVt7HW0zEMLDbg319hpyhDVlERA6GpjxbKDo6mkWLFjF//nxWrFiBx+OhV69enHTSSVaHJiIBoHLKc3uNUBQRP6Z8SUTqw5Hd4IzL4dP/VEDentGJUbHeYuKR3ayNT5omTXmWQKaCooU2bNhAWloaQ4cOZejQoVaHIyIBJjNvJwDpLSMtjkREpHbKl0SkvhzZDWJblbNsCdgIoUtX7zRnjUyUQ6WCogQyvXRaqH379gwYMIDnn3+egoICq8MRkQDicnvYVLALgHRNeRYRP6Z8SUTqk8tVQVIb6HJ0KO06qJgoInKo9PJpoeXLl9OvXz8eeOABUlJSOPPMM3nnnXcoLy+3OjQRaeb+3l6K020SGmQjOdphdTgiIrVSviQi9cV0w85F5VR8DcbKEMz6XZ5aApA2ZZFApoKihXr16sWMGTPYtGkTn332GYmJiYwbN47ExESuvPJKq8MTkWZs7x2ebTZlMSLiv5QviUh9KP8YdhwNBeMq2DUVKq4IZcfR3naRQ6WCogQyFRT9gGEYDBkyhBdeeIGvvvqK9u3b88orr1gdlog0Y3/tVVAUEWkKlC+JyKEq/xh2XgGerVBhekc3BxsheLK87SoqiogcPG3K4gc2b97MW2+9xZtvvsnPP/9Mv379eOqpp6wOS0T8QFBQEOedd57vcn2p3JClvdZPFJEmQvmSiOyrLnmS6YZdEwETPKYHJ04AQgkFEzBg190QMgIMeyMFLs2GNmWRQKaCooVmzZrFG2+8wffff0+nTp245JJL+OCDD0hLS7M6NBHxEzabjS5dutTrMd0ek1Wbduy+7L1u17RnEfFTypdEpDZ1yZNcS7wjEwHKKPPeDxtBxu6PwiZ4tnj7BQ9oyGilOVJBUQKZCooW+r//+z8uvPBCnnjiCXr27Gl1OCISAOatyWLK3HVkFXoT6ue++ZMPV21h0sgMhndNtjg6EZHqlC+JyOHwbNtzOcuzBYBII2q//URE5MBUULTQpk2bMAx9HSEitfN4PKxfvx6Azp07Y7Md+tK389Zkcd3rKzD3ac8uLOO611fw7KW9VFQUEb+jfElEalOXPMnWyvv/7Z4Cis0iDAxa29rW2k/kYGiEogQyFRQb2erVq+natSs2m42ff/55v327d+/eSFGJiL9yuVy88847AEycOJGQkJBDOo7bYzJl7rpqxUTwLR/ElLnrGJaRpOnPImI55UsiUhd1yZOC+oEn2cWWvzcDkGRLIdQI3dPBAFuKt5/IwVJBUQKZCoqNrGfPnmRnZ5OYmEjPnj0xDAPT3PMRv/K6YRi43W4LIxWR5mRpZoFvmnNNTCCrsIylmQX06xDfeIGJiNRA+ZKI1BfDDvk3b8Z1u4swI4xEY6+hiLsLOeEPakMWEZGDpYJiI8vMzCQhIcF3WUSkMeQU115MPJR+IiINSfmSiNSXoqIiSo4uIHwStH0xFSN7z3AwW4q3mBh6uoUBSpOmEYoSyFRQbGSpqam+yxs3bqR///4EBVX9M7hcLhYvXlylr4jI4UiMctRrPxGRhqR8SUTqg8fjYePGjQC0OSeR1v+I8O76vM27ZmJQP41MlMOjgqIEskNf3V8O25AhQygoKKjWXlhYyJAhQyyISESaq77pcSTHOKgtXzGA5BgHfdPjGjMsEZEDUr4kIodq69atVFRUEBISQuvWrTHsEDwAQs/x/l/FRBGRQ6eCooUq1/7ZV35+PhERERZEJCLNld1mMGlkRo23Vb4KTRqZoQ1ZRMTvKF8SkbryeGB9NizJhBV/7SIraxsA7dq1q3EHaJHDVTlC8XB/RJoiTXm2wNlnnw14FxQfM2YMoaF7dhlzu92sXr2a/v37WxWeiDRTw7sm8+ylvbj+jRV49truOSnGwaSRGQzvmmxdcCIi+1C+JCIHY/kmmLMaCnZ5v4go3LqBSBtc0C+O3jExVocnzZSmPEsgU0HRAjG739BM0yQqKoqwsDDfbSEhIRx33HFcffXVVoUnIn7EbrczatQo3+XDNfSoVr5i4gOjutIhIZK+6XEamSgifkf5kogcSGWetDYLnl5sp3IQYlnhNtwVpRTbgnjnz7a0bgd92lkbq4hIc6OCogVmz54NQFpaGv/85z81XUdEamW32+nZs2e9HW9bkXcX5xC7jYv7tsOmQqKI+KmGypeeeeYZZsyYQVZWFl26dGHmzJkMHDjwgPf7/vvvGTRoEF27dmXVqlW+9rVr13Lffffx448/snHjRh5//HHGjx9f5b4ul4vJkyfzxhtvkJ2dTXJyMmPGjOGee+7RNEyRw2C32+nevSez/8JXTHRXlFG6IwuA8Lg22OxBvL4cerfZ00ekPmmEoQQqvaRaaNKkSSomikijyir0FhSTYhwqJopIk1Cf+dKcOXMYP348d999NytXrmTgwIGMGDGCTZs27fd+hYWFXH755Zx44onVbtu1axft27fn4YcfJikpqcb7T5s2jeeee46nnnqK9evXM336dGbMmMG//vWvenlcIoHs1xzvNGePx82ugi0Ubl2PaXoIDosmNCoe8N7+a47FgUqzpDUUJZBphKLF/vvf//Kf//yHTZs2UVFRUeW2FStWWBSViPgLj8fDH3/8AUDHjh0PeyRLVmEp4N3RWUSkqaivfOmxxx7jqquuYuzYsQDMnDmTzz//nGeffZaHHnqo1vuNGzeOiy++GLvdzgcffFDltj59+tCnTx8A7rrrrhrvv2TJEs4880xOO+00wDvq8q233mL58uV1jr1SRUVFtd8BgM1mIygoqEq/2hiGQXBw8CH1dTqdmKbZqH3BO839UPq6XC48Hk+99A0ODvZtENRQfd1uN263u176BgUF+fIGf+jr8XhwuVy19rXb7b7lXera1+PxsGL1L2Svz8EeFAZ4nxdBoeE4YpNxuyowbHZsNjs7Sg8uBtM0cTqd9dJ373+fDdUX9v9vOZBfI/YXv4gcOhUULfTkk09y9913M3r0aD788EOuuOIK/vzzT5YtW8YNN9xgdXgi4gdcLhdvvvkmABMnTqySLB2KyhGKKiiKSFNRX/lSRUUFP/74Y7Wi38knn8zixYtrvd/s2bP5888/ef3113nggQcO6TEMGDCA5557jt9++40jjzySn376iUWLFjFz5sxa71NeXk55ebnvelFREQCPPvpolQ1qKh1xxBFccsklvuszZsyotRCRlpbGmDFjfNdnzpzJrl27auybkpLCNddc47v+9NNPs2PHjhr7JiQkVPmbzJo1i9zc3Br7xsbGVpkaPnv2bLZu3Vpj3/DwcO644w7f9TfeeIMNGzbU2Dc4OJi7777bd33OnDn8/vvvNfYFmDx5su/ye++9x7p162rtu/f78Mcff1xl6vu+br/9dt/I2s8//5xly5bV2nf8+PHExsYC8PXXX+/3+Xj99deTmJgIwHfffcfChQtr7Xv11VfTunVrAH744Qe+/PLLWvuOGTOGtLQ0AH788Uc+/fTTWvtefPHFHHnkkQD8/PPP1YrsezvvvPPo0qULAOvXr+edd96pte+oUaN8y7z88ccfvvynJqeeeip9+vQhKyuLt59/kB9//IW41KOxBYcQ7IjGHrInz0nuOozEI48nNgyysrJ44YUXaj3u4MGDGTx4MAC5ubk888wztfbt378/J598MuAdxby/f899+vTxfaGwa9cuZsyYUWvfnj17+tbPdjqdTJ06tda+GRkZnH/++b7r++sbyK8Re7+W1jdtyiKBTAVFCz3zzDPMmjWLiy66iFdeeYU77riD9u3bc99991FQUGB1eCLSDGXt2D1CMTbsAD1FRPxDfeVLeXl5uN1uWrVqVaW9VatWZGdn13if33//nbvuuovvvvuuysieg3XnnXdSWFjIUUcdhd1ux+128+CDD3LRRRfVep+HHnqIKVOmHPI5RZor0zQpLCxk7dq17Ny5k4hgD0F2g5DwGIIckWBUr87EhUOnRMjKsiBgadZUUJRAZpj7GzcsDSo8PJz169eTmppKYmIiX375JT169OD333/nuOOOIz8/3+oQG01RURExMTEUFhYSHR1tdTgifqOiosL3bXN9jFC85tXlfLFuG/ef2YXL+6XVQ4QizYfei/xTfeVLW7dupXXr1ixevJh+/fr52h988EFee+01fvnllyr93W43xx13HFdddRXXXnst4B3N9sEHH9Q6Mi0tLY3x48dX25Tl7bff5vbbb2fGjBl06dKFVatWMX78eB577DFGjx5d47FqGqHYtm1bcnNza3x+BvJ0xv311ZTn5jXleceOHWzdupWKigpf37feeouCcgclPe7CHlQ9TzJsdsYPttOnnaY8B+prRFFREQkJCfX6/l6ZM4x9pJCQsMM7ZkVpES/+U/mHND0aoWihpKQk8vPzSU1NJTU1lR9++IEePXqQmZm53xdLEZFDtWfKs0YoikjTUF/5UsuWLbHb7dVGI+bk5FQbtQhQXFzM8uXLWblyJTfeeCPgLUaYpklQUBBffPEFQ4cOrdO5b7/9du666y4uvPBCALp168bGjRt56KGHai0ohoaG1ji1OSQkpE5fLh3MF1AH03fvD/hNoe/BjCz1h757F6maW1+bzVbn59q+fYuLi9myZQslJSWA9zmblJREbGwskZGRREbCyYNDmLM6hIK9ZubGhcOlx0Cfdgcfg2EYTaovNNy/+6b+GnG4X8jvj0YoSiBTQdFCQ4cOZe7cufTq1YurrrqKW265hf/+978sX76cs88+2+rwRKQZ0hqKItLU1Fe+FBISQu/evfnyyy8566yzfO1ffvklZ555ZrX+0dHR/Pzzz1XannnmGebPn89///tf0tPT63zuXbt2VdtUq3JDCRGpXUlJCVu3bvWtIWqz2UhMTCQpKQm73V5l5Nwx7eC49t7dnHeUQmyYd5rzYe5nJ7JfKihKIFNB0UKzZs3yJZLXXnstcXFxLFq0iJEjR/qm1oiI1Jdyl5u8nd7pcyooikhTUZ/50q233spll13GMcccQ79+/Zg1axabNm3yHWfChAls2bKFV199FZvNRteuXavcPzExEYfDUaW9oqLCt5FHRUUFW7ZsYdWqVURGRtKxY0cARo4cyYMPPki7du3o0qULK1eu5LHHHuPKK6885N+LSFPmBr4DsoBkYCCw9zjHsrIytmzZ4tvcwzAMEhISSEpK2u9INZsNOic1WNgiIrIXFRQtZLPZqnxbff7551fZpUtEpD5tK/QWE0OCbMRFNNzUDxGR+lSf+dIFF1xAfn4+999/P1lZWXTt2pVPP/2U1NRUwLsD7KZNmw7qmFu3buXoo4/2XX/kkUd45JFHGDRokG8H3n/961/ce++9XH/99eTk5JCSksK4ceO47777DulxiDRl7wE3A3/v1dYGeAI4vaKCrVu3VlkbNT4+nuTk5BqXABCxmkYoSiDTpiyNbPXq1XXu27179waMxL9oIXyRmrndbn788UcAevfuXed1iqodx2PyyuJM7v94Pa2iQ1l814nYbcpeRPam9yL/oXypOj0/pTl4DzgXqPYB1OmE7Gxm5OYyZPfH09jYWFJSUggLq33d5/rKk6R5a4jXz8pjjplZP5uyvDxer+/S9GiEYiPr2bMnhmEccBFxwzD2u2OaiAQGu91O3759D+sY89ZkMWXuOt/6iduKyhkwbT6TRmYwvGtyfYQpIlKvlC+JND9uvCMTq/yrdrshOxtycsDj4RHgtKgo2rVuTURExAGPWR95koiIHBoVFBtZZmam1SGISACZtyaL615fUW0kQHZhGde9voJnL+2loqKI+B3lSyLNz3dUnebM9u2wcaO3qAgQEcG21q3ZFhVFZwviEzkUmvIsgUwFxUZWuUaPiEhdeDwe33pe7dq1q7ZL6P64PSZT5q6rPq0I7+gAA5gydx3DMpI0/VlE/IryJZHmJ2vvKy4XbNgAHg84HNC6NcTGVu93AIeTJ4nUBxUUJZCpoGihV199db+3X3755Y0UiYj4K5fLxcsvvwzAxIkTCQmp+2YqSzMLfNOca2ICWYVlLM0soF+H+MOMVESkYShfEmkeqsyH2D3FmbAw6NwZDKPmfgdwOHmSiIgcHhUULXTzzTdXue50Otm1axchISGEh4crQRaRw5JTXHsx8VD6iYhYQfmSSPMwEO9uzn+73d6CIkBysq+YaOy+faBF8YkcCo1QlECmMeEW2r59e5WfnTt38uuvvzJgwADeeustq8MTkSYuMcpRr/1ERKygfEmkebADTwDk5nrXTXQ4fNOcK+spM3f3E2kqKguKh/sj0hSpoOhnjjjiCB5++OFq38aLiBysvulxJMfUXiw0gOQYB33T4xovKBGReqB8SaRpGuXx8Oi2bSQCJCX5Rie2Af4LnG1hbCIicnBUUPRDdrudrVu3Wh2GiDRxdpvBfadn1Hhb5Rehk0ZmaEMWEWmSlC+JND25ubkMcrn4IjSU+XFxvAksADJRMVGaJo1QlECmNRQt9NFHH1W5bpomWVlZPPXUUxx//PEWRSUizYkjpOaJQ0kxDiaNzGB414NZ+lxEpPEpXxJpHjweD9u2bQOgdVISPQxVUaTp0xqKEshUULTQqFGjqlw3DIOEhASGDh3Ko48+ak1QItJsuNwepn6yHoCrBqRxUuckcorLSIzyTnPWyEQRaQqUL4k0baYb8tfBlsx88kqdJHQKIT4+3uqwRETkMKmgaCGPx2N1CCLi5+x2O8OGDfNdPhhzlm/m95ydxIYHc9PQI4kJD26IEEVEGpTyJZGma+sS+PlFKM0z2VicjcsDbVKSaPkPg5R+h3/8w8mTROqDRihKIFNBUUTEj9nt9kOa0ldc5uTxL38D4OYTj1AxUURERBrV1iWwbJr3crGzAJengiAjmJCSeJZNgz53cthFxUPNk0TqiwqKEshUULSQaZr897//ZcGCBeTk5FT7Bv69996zKDIRaeqe++ZP8nZWkN4ygkuOTbU6HBGRQ6Z8SaTpMd3ekYng/Te8vSwLgNjQVtgM776ga16C5L5gaGChiEiTpIKihW6++WZmzZrFkCFDaNWqFYYWJhaRfXg8HrKyvEl4cnIyNpvtgPfZuqOUF7/LBOCuEUcREnTg+4iI+CvlSyJNT/46KMv3Xi6qyMPpKcduBBEdmuDrU5rn7dey26Gf51DyJJH6pBGKEshUULTQ66+/znvvvcepp55qdSgi4qdcLhcvvPACABMnTiQkJOSA95nx+a+Uuzz0TY/j5IxWDR2iiEiDUr4k0vSUbff+v9S1k7zSzQC0CE3yjU7ct9+hOpQ8SaQ+qaAogUxf4VgoJiaG9u3bWx2GiDQjq//ewfsrtwBwz2mdNZJHRJo85UsiTY+jBTg9FWSX/ImJSWRwC2Id1b/kdLSwIDgREakXKihaaPLkyUyZMoXS0lKrQxGRZsA0TR74ZD0AZx3dmu5tYq0NSESkHihfEml6WhzloSDoD9ymi1B7OInhadX6hLWE+IzGj02kvlWOUjzUH5GmSlOeLXTeeefx1ltvkZiYSFpaGsHBVXdhXbFihUWRiUhT9MW6bSzNLCA0yMbtp3SyOhwRkXqhfEmk6dm4eQPtRpbyy6tBJEV0qDbVGaDrVdqQRZo+TXmWQKaCooXGjBnDjz/+yKWXXqpFxkXksFS4PDz82S8AjB2YTkpsmMURiYjUD+VLIk3L1q1b2b59O4k9DDrc04G/3gzxbdAC3pGJXa+ClH7WxSgiIodPBUULffLJJ3z++ecMGDDA6lBEpIl7438bycwroWVkCNcN7mh1OCIi9Ub5kkjTsX37dt+uy6mpqcT3iqTj4N27Pm/3rpkYn6GRidJ8aISiBDIVFC3Utm1boqOjrQ5DRJq4wl1Onvj6dwBuGXYkkaF6aReR5kP5kkjTsGvXLjZs2ABAq1atiI+PB7zFw5bdLAxMpAGpoCiBTJ86LfToo49yxx138Nxzz5GWlmZ1OCLih+x2O4MHD/ZdruT2mCzNLCCnuIzP12SzY5eTIxIjueCYthZFKiLSMJQvifgntwmL3bDNhHiXkxZ//InH4yEmJobWrVs3Sgy15UkiItLwVFC00KWXXsquXbvo0KED4eHh1RYZLygosCgyEfEXeyfKleatyWLK3HVkFZZVaT+5SyuC7NUXPRcRacqUL4n4n4+ccGcZbDXB9Hjw/PEnCbsquC3awXXp6Y221mlNeZJIY9IIRQlkKihaaObMmVaHICJNzLw1WVz3+grMGm57ZsGfdGsdw/CuyY0el4hIQ1G+JOJfPnLC5aX4chFz8yYoKSHPbufu1h1p57FzhgYLSoBQQVECmQqKFho9enS9H/OZZ55hxowZZGVl0aVLF2bOnMnAgQNr7Lto0SLuvPNOfvnlF3bt2kVqairjxo3jlltu8fV54YUXePXVV1mzZg0AvXv3ZurUqfTt29fXZ/LkyUyZMqXKsVu1akV2dna9Pz6RQGOaJrm5uQDExbdkytx1NRYTK02Zu45hGUnYbcpMRKR5aIh8SUQOjdv0jkyszEU8OdswC/LBMDDSO2CEhnJXGZwWBPZGSEX2zpMSEhK0C7yISCNSQdFCmzZt2u/t7dq1O6jjzZkzh/Hjx/PMM89w/PHH8/zzzzNixAjWrVtX47EiIiK48cYb6d69OxERESxatIhx48YRERHBNddcA8DChQu56KKL6N+/Pw6Hg+nTp3PyySezdu3aKmujdOnSha+++sp3XWuYiNQPp9PJM888A8DQC8ZVm+a8NxPIKixjaWYB/TrEN1KEIiINq77zJRE5dIvd3mnOAKbLhbl1CwBGm7YYUVGYwJbdaysObIRPmnvnSRMnTiQkJKThTyqyF41QlECmgqKF0tLS9vstmtvtPqjjPfbYY/x/e/cd31S9/gH8c7KazpTuQelgl01ZRWUoSxBQrzJEBPWqKCLIVQEVKVcsIML1en+AF64CKktZgiIIMkSmLGXLKJRR6B50ZX1/f4QeCF0ptE3afN6vV18kJ0/O+SacJE+efMeLL76Iv//97wAsQ4Q2b96M+fPnY/r06cXi27RpgzZt2li1Z82aNdi1a5dcUFy6dKnVfRYuXIhVq1bhl19+wXPPPSdvV6lUCAoKqlB7iahijlzOsCkuOaf0oiMRUU1T2fkSEd27G3cOk8jLA4QAtFoo/PxLjyOqxVhQJGfGgqIdHTlyxOq6wWDAkSNHMGfOHHz00UcV2pder8ehQ4cwceJEq+29evXCnj17bG7Pnj17MG3atFJj8vLyYDAY4OPjY7X97NmzCAkJgYuLCzp27Ij4+HhERUVV6DEUPQ69Xl9su0KhgEqlsoorjSRJVhO2VyTWYDBAiJIzoKqKBWD1a2pFYo1GI8xmc6XEqtVq+QtbVcWaTKYyv/hVJFalUkGhUDhMrNlshtFoLDVWqVTKPXcrGns57SZ+v5iOzOwTkJTWixFAUkBSWGKFMANmE+q4KEo87+/crxACBoPBpjaUF3vn67OqYoGyX8t8jyg5lu8RFX8tk+OpzHyJiO5P4B2FD1GQDwCQtK5lxhERUe3EgqIdtWrVqti2du3aISQkBLNmzcKTTz5p875SU1NhMpkQGBhotd2WuQzr1q2LlJQUGI1GxMXFyT0cSzJx4kSEhoaiR48e8raOHTviq6++QqNGjXDjxg1MmzYNnTt3xokTJ+DrW/Kwy8LCQhQWFsrXs7OzAQCzZ8+Gi4tLsfiGDRti2LBh8vVZs2aVWoiIiIjAyJEj5euffvop8vLySowNCQmRe2MCwNy5c5GZmVlirL+/P0aPHi1fX7BggTxny928vb0xbtw4+fqiRYtw7dq1EmPd3NzwzjvvyNeXLl2KixcvlhirVqvx3nvvyddXrlyJs2fPlhgLWOa3LLJmzRqcPHmy1Ng7h4n88MMPOHr0aKmxb7/9Ntzd3QEAmzdvxu+//15q7Lhx4+Dt7Q0A+OWXX8oscL/22msICAgAAOzatQs7duwoNfall16Sh93v27cPW7ZsKTV25MiRiIiIAAAcOnQIGzduLDX2mWeeQaNGjQAAx44dw7p160qNffrpp9GsWTMAwKlTp/Ddd9+VGvv444+jdevWAIBz585h2bJlpcb27dsX7du3x2/nUjF9xTZs+34zAECblgeVSgmj+XYxSRvRBtq60QAA8810iNO/YKvbEWwroTdPt27d5JUQU1JS5CFCJencuTN69eoFAMjKyipzUYT27dujX79+ACw/OsyaNavU2NatW+Pxxx8HYCkKxMfHlxobHR2NQYMGydfLiuV7hAXfI2671/cIcjyVmS8R0f3prARCJCBJAMi3FBTherugKMFye2fOfkROgj0UyZmxoOiAGjVqVOaXr7LcPSRICFHu5MS7du3CzZs3sW/fPkycOBENGjTA0KFDi8V9/PHHWL58OXbs2AGtVitvf/TRR+XLLVq0QGxsLOrXr48lS5Zg/PjxJR5z+vTpxRZyISLLa3bfhTR8dGA3/riSBUN6FiQA/p4uGBgbjox8I374M6nY/Ype5d0a+0PBCcmJyAncT75ERPdGKQEztZZVnnFXD8Wi7GOGtnoWZCFyBCwokjOTRFnjpqhKFfXKKyKEQFJSEuLi4nD69Okye3/cTa/Xw83NDd999x2eeOIJefvYsWNx9OhR7Ny506b9TJs2DV9//TXOnDljtf2TTz7BtGnTsHXrVrRr167c/fTs2RMNGjTA/PnzS7y9pB6KYWFhSElJgZeXV7F4DmcsOZbDGWvPkGejyYwfjyXhvzvP42xKHiSFElq1Ak+1CsTN/d/CU6vGhAkToNFosPlEEqb9cArXswvkIc/BOi0m92uCHk38Szp8sTZwyDPfIyoa6wzvEdnZ2dDpdMjKyirxs4jsozLzpZqM5yc5ku/1AuMOHEWKyQxFdHNILi4IlSzFxAHq8u9fWfR6vTyCgYuyUGmq4v2zaJ/9v86C2u3+9mnIy8aG4Xx/p5qHPRTtyNvbu8QehWFhYVixYkWF9qXRaBATE4MtW7ZYFRS3bNmCgQMH2rwfIYRVoQ+wDB2cNm0aNm/ebFMxsbCwEKdOncJDDz1UaoyLi0uJQ5s1Go1NiUBFkoWKxN75Bb8mxN5ZQKkJsXcWqWpbrEKhsPlcuzO20GjC6kNX8fnO80hMtwy79XJ1wXOdw/H8A5Hw0kiIP74ewO3XR/824ejbqh4OJKQjOacAAZ5adIj0gVJh+8+bkiTZ3F5HiAWq7nXP9wjHiXWE1zI5nsrMl4iocvQ2F2Kl1oxjQgGdtwsCbw1zZs9EcjbsoUjOjAVFO9q2bZtVgqxQKODv748GDRpU6AtYkfHjx2P48OFo164dYmNjsWDBAiQmJmLUqFEAgEmTJuHq1av46quvAFjmAqtXrx6aNGkCAPjtt9/wySefYMyYMfI+P/74Y0yePBnLli1DRESEPB+jh4cHPDw8AABvvfUW+vfvj3r16iE5ORnTpk1DdnY2RowYcW9PDJETyNMbsfzAZSz89YKlpyEAH3cNXnwwEs92CofO1VI0MplM6Ny5MwBYFUSUCgmx9Uueo5SIqDap7HyJiO6PSQC7U/Jx/CYQ4umKJ1T2KyQqlcoS8ySi6sKCIjkzZmF2VLQ4QmUZPHgw0tLS8M9//hNJSUlo3rw5Nm7ciPDwcABAUlISEhMT5Xiz2YxJkyYhISEBKpUK9evXx4wZM/DKK6/IMfPmzYNer8dTTz1ldawpU6bIk/lfuXIFQ4cORWpqKvz9/dGpUyfs27dPPi4R3ZaVb8DXey/iy90XkZ5rGWob5KXFy12iMKRDGNw01m/LSqVSXhyFiMgZVXa+RET3bmsWMDMJuHI1H8ZUQFnoigVngAnBQA9d9beHeRIRkf1wDkU7mj59OgIDA/HCCy9Ybf/yyy+RkpKCCRMm2Kll1Y/zAlFtl3qzEF/+loCv915CTqFl/sR6Pm54tVt9PNk2FC4q/qpOZG/8LHJMzJcseH6SvW3NAv6RCAgAhZfPw5yTCXVgGNS+AQCA2fXsU1QkKk9VzqHYd1nlzKG48Rm+v1PNo7B3A5zZf//7X3m48Z2aNWuGzz//3A4tIqLKdi0zH3HrT+DBmdswb8d55BQa0SjQA/8e0hrb/tEVQzvUK7OYKIRAZmYmMjMzy1yIg4iotmK+RGR/JmHpmViUiYg7Vngu2vZxkiWuOjFPInsrGvJ8v39ENRGHPNvR9evXERwcXGy7v78/kpKS7NAiIqosF1NzMX/Heaw5cgWGW9l1q7o6jO7eAD2aBkJh4wIqBoMBn376KQCuXkhEzon5EpH9Hc4Fbhgsl4XJBGGwLOKocHG1bANw3WCJa+9Rfe1inkREZD8sKNpRWFgYdu/ejcjISKvtu3fvRkhIiJ1aRUT34/T1bMzdfh4//nkN5ls/lHeK8sHr3RvigQa+xVYqJSKisjFfIrK/FMtsLTAb9NBfPg8AkNQukO5aGKkojshZcFEWcmYsKNrR3//+d4wbNw4GgwEPP/wwAOCXX37BO++8g3/84x92bh0RVcSRxAzM3X4eW0/dkLc93CQAo7vXR0y4jx1bRkRUszFfIrI/fxVgzs9D4eVzgNEAKFXQhEaWGEfkTFhQJGfGt3w7euedd5Ceno7XXnsNer1ltVetVosJEyZg0qRJdm4dEZVHCIG959Mwd8c57D6XBgCQJKBvi2C81q0+moVwZnIiovvFfInI/qIMmXC/koBCoxmSiys09RpAob49vFgCEKgG2rrbr41ERFS9WFC0I0mSMHPmTEyePBmnTp2Cq6srGjZsCBcXF3s3jYjKIITAL6eSMXfHORxJzAQAqBQSnmgTile71UeUfzVOHkREVMsxXyKyrxs3buDKlSsY4Qt8luMFTd0oQHl7QbmizlXvBANK9rQiJ8MeiuTMWFB0AB4eHmjfvr29m0FE5TCZBTYeS8Lc7edw+noOAMBFpcCQ9mF4uWt9hHq72rmFRES1F/MlouolhMDly5eRkpICAHgs0h8NvcLw8XVJXqAFsPRMfCcY6MGBGeSEWFAkZ8aCIhERLMXCAwnpSM4pQICnFh0ifaC8tRKz3mjGuiNXMX/neSSk5gIAPFxUeLZTOF58MBL+nuwlQ0RERLWHyWTChQsXkJ2dDQCoW7cuAgMDUQ/AwzrLas4pRsuciW3d2TORiMgZsaBIRE5v0/EkTN1wEklZBfK2YJ0Wkx5tgvRcPRb8egHXbt3m7abGCw9EYkRsBHRu6ipvm0KhkHvkKBSKKj8eEREROTe9Xo9z584hPz8fCoUCkZGR8Pb2lm9XSkB7B5ndhXkS2Rt7KJIzY0GRiJzapuNJePWbwxB3bU/KKsAbK47K1wM8XfBylygM7VAP7i7V99apUqnQr1+/ajseEREROQeTAPYagRtmIFABxKqAgrxcnDt3DkajEWq1Gg0aNICbm5u9m1oq5knkCFgQJGfFgiIROS2TWWDqhpPFiol3UkpA3MBmeDomDFq1soxIIiIiopphgx54Nxe4dkcSFJiVgZdTLuIhpRlubm6oX78+NBpN6TshIiKnxn7hROS0DiSkWw1zLolJAA38Pe1WTBRCIDc3F7m5uRCirNInERERUfk26IHnb1oXE803ruNawgXE3TTjoKsOjRs3rhHFROZJZG9FQ57v94+oJmJBkYicVnJO2cXEisZVBYPBgFmzZmHWrFkwGAzl34GIiIioFCZh6ZlYVHoTQsCUeBHmpKsQACT/APxfUH0IqWZ8TWSeRPbGgiI5s5rxSUFEVAUCPLWVGkdERETkyPYa7+qZeCkBIj0NAKCoWw+K0DBcg4S9Rjs1kIiIagzOoUhETqtxkCdUCglGc8lDZCQAQTotOkT6VG/DiIiIiKrADfPtyyI7GyIzA5AkKCLrQ+GlKzGOiErHVZ7JmbGgSEROqdBowmtLD5VZTASAKf2joVTwU56IiIhqvsBb49OEEDBduwwAUPgFWBUT74wjorKxoEjOjB8VROR0hBCYsOpP7LuQDg8XFd7r2xTBOuthzUE6LeY/2xZ9mgfbqZVERERElStWBYRIANJSgYICQKWCFHQ715EAhEqWOCIiorLwo4KInM4nP5/BuqPXoFRImDesLbo08scLD0biQEI6knMKEOBpGebMnolERERUmygl4EOtCSOvX4MEQAoKgaRUArg9OuMjd0scEZWPPRTJmbGgSEROZdn+RMzdfh4AMP3JFujSyB8AoFRIiK3va8+mEREREVW5dmlJmKIxYp5KizRfP3l7iGQpJvbX2LFxRDUMC4rkzFhQJCKnsf10MiZ/fxwAMPaRhhjULszOLSqfQqFA69at5ctERERE96qgoADJycnoogZGNgjDCTcJN8yWORNjVTWvZyLzJCIi+2FBkYicwrErWRi97DBMZoGnYupiXI+G9m6STVQqFR5//HF7N4OIiIhqgatXr0IIAZ1Ohzo6Lzxo7wbdJ+ZJZG/soUjOjAVFIqr1Lqfn4YUlvyNPb8JDDf0w/ckWkCR+chMREVHtZzYD55KApOQcpF3PRD1/CXXr1rV3s4hqBRYUyZmxoEhEtVpWngHPL/4dKTmFaBLkiXnD2kKtrDlDYoQQMBgMAAC1Ws1CKBEREdns6Hngu9+AjJsCGdcvw2gAggL88WIdLVrXt3fr7h/zJCIi+6k536qJiCqo0GjCS18fxLnkmwjy0mLR8+3hqVXbu1kVYjAYEB8fj/j4eDlhJiIiIirP0fPAws1AZi5QkJsGoyEfCkkJozoYCzdbbq/pmCeRvRX1ULzfP6KaiAVFIqqVzGaBt777EwcS0uHposLiF9ojWOdq72YRERERVTmz2dIz0XLZhNzMqwAAN+8QKJSWQWqrdlviiOjesaBIzowFRSKqlT7efAYb/rgGlULC58Nj0CTIy95NIiIiIqoW55IsPRP1+dnIuH4KZrMRKpUWrh7+ckzGTUscERHRveAcikRU63y97xI+32kZxzPzby3xQAM/O7eIiIiIqPqkZxmQnXoFBXnpAACFUg1P34hicwxm59mjdUS1BxdlIWfGgiIR1SpbT97AlO+PAwDG92yEv8VwFUMiIiJyHikpKbhx5SoK8kwAAFfPALjrQqBQKIvFerlVd+uIahcWFMmZsaBIRDWWySxwICEdyTkFCPDUwkWlwJjlR2AWwOB2YRjzcAN7N5GIiIioWuTn5+PSpUvIzc1FSB3AR+cG4RoOtabkqmEdD6BBcDU3koiIag0WFImoRtp0PAlTN5xEUlaBvE0hAWYBdGnkj2lPNC82rIeIiIiotjGbzUhKSsKNGzcghIBCoUBYWChGPe2P//1cei701AOAgjPqE90X9lAkZ8aCIhHVOJuOJ+HVbw5D3LXdfGvDE21CoVbWjgxZoVAgOjpavkxERERUJCsrC4mJidDr9QAAb29vhIWFQaPRICAAeEmyrPacmXv7PnU8LMXE1vXt1OhKxDyJ7I0FRXJmLCgSUY1iMgtM3XCyWDHxTh9vOo0BrUKgVNT8T2eVSoVBgwbZuxlERETkQAwGAy5fvoyMjAwAgEajQVhYGLy9va3iWtcHWkZaVnPOzrPMmdgguPb0TGSeRERkPywoElGNciAh3WqYc0mSsgpwICEdsfV9q6lVRERERJXHJID9eiDZBAQogY4aQCkBQgikpqbi6tWrMJlMkCQJAQEBCAkJKbWHnkIBNAqt5gdA5CTYQ5GcGQuKRFSjJOeUXUysaBwRERGRI9mYD0zJBJLMt7cFK4B3XfLRNNmy6AoAuLu7o169enBz41LNRPbCgiI5MxYUiahG8dSqbYoL8NRWcUuqh16vR3x8PADg3XffhUajsXOLiIiIqKpszAdeSYfV1C7CbMaVa9cwKi0Z73oKdHVXIiQkBP7+/k6/AB3zJCIi+2FBkYhqjF1nU/D+2mNlxkgAgnRadIj0qZ5GEREREVUCk7D0TLyzmGjOzoLpaiKEQQ8JwBeqOnglOgxajW0/sBJR1WIPRXJmLCgSkcPLyjfgox9P4tuDVwAAvu4apOVaEus7k+6iz+Ip/aNrxYIsRERE5Dz2628PczbfzIE5NRnm7EwAgKTWQBlaD+leOhwWQGf7NZOI7sKCIDkrFhSJyKFtPXkD7607hhvZhQCAkZ0j8Hbvxth1NgVTN5y0WqAlSKfFlP7R6NM82F7NJSIiIronSYVGmFLSYE5PhSi8ld9IEpR+gVAEBkO6tehKssmOjSQiIrqFBUUickjpuXpM3XAC3x+9BgCI9HPHzL+1lIcy92kejJ7RQTiQkI7knAIEeFqGObNnIhEREdUkN2/eREpKCrJvZMCUcWvshUIBhbcPlL4BkFxdreIDlHZoJBGViEOeyZmxoEhEDkUIgY3HruOD748jLVcPhQS81CUKb/ZoBK3aOoNWKiTE1ve1U0uJiIiI7o3JZEJaWhpSUlJQUGDpjdhMBQS4uyHd2w+Stw8kpXXeIwEIVgIdue4IkcNgQZGcGQuKROQwknMK8MG6E9h04joAoFGgB2Y91Qqtwrzt2zAiIiKiSnDz5k2kpqYiIyMDZrNlwkSFQgEfHx/4+fnhY4U7Xkm3xJY0T3ScDlCy+EBERA6ABUUisjshBNYeuYqpG04iK98AlULCa90bYHT3+nBROfe4HoVCgYYNG8qXiYiIqGYp6o2YmpqK/Px8eburqyv8/f3h4+MD5a3eiH0B/NfHstpz0QItgKVnYpwO6Gs9+tnpMU8ie2MPRXJmLCgSkV1dy8zHe2uPYfuZFABAsxAvzHqqFaJDvOzcMsegUqkwbNgwezeDiIiIKig3NxcpKSnFeiPWqVMH/v7+cHd3L/F+fV2B3lrLqs/JJsuciR017JlYEuZJZG8sKJIzY0GRiOxCCIHlBy4jfuMp3Cw0QqNUYGyPhni5SxTUSv7CTERERDWPyWRCeno6UlJSivVG9PPzg6+vr9wbsSxKCejsUpUtJSIiuj8sKBJRtUtMy8PENX9iz/k0AECbet6Y9VRLNAjwtHPLiIiIiKyZBPCbAJIABAN4UCreWzA3NxepqalIT0+vUG9EIqrZ2EORnBkLikRUbcxmgSV7L+LjTWeQbzBBq1bg7d5NMLJzBJQKfpKWRK/XY9asWQCAt99+GxoNl3YkIiKqLmvNwHgzcOWObXUBzFEAA4SlN2Jqairy8vLk27VaLfz9/W3ujUj3jnkS2RsLiuTMWFAkompxPuUmJqz6EwcvZQAAOkb6YObfWiLCj7/Yl8dgMNi7CURERE5nrRkYbLZebRkAruTlYVBKCmZkpqMbLL0RJUmSeyN6eHhUf2OdGPMkIiL7YEGRiKqU0WTGwl0J+NfWv6A3muGuUWJS36Z4pkM9KNgrkYiIiByQSVh6JhYVE4XJBGRkACkpQF4eJACzAfR01yIowLJSs0rFr1ZEzoY9FMmZ8VOPiKrM6evZePu7P3HsahYAoEsjf0x/sgVCvV3t3DIiIiKi0v0mbg9zFgYDcOoUUNQTTpIg6tRBsr8/Mrw80JJryRE5LRYUyZmxoEhElU5vNGPejnOYu/0cDCYBL60Kkx+LxlMxdSFJ/MQkIiIix5Z055UbNyzFRI0GCAgAfH0h3eqNmFTivYmIiGo/FhSJ6J6YzAIHEtKRnFOAAE8tOkT6QKmQcOxKFt5e9QdOX88BAPSMDsS0x5sj0Etr5xYTERER2Sb41r/CZLIMcwaA8HBIXl4lxhGRc2IPRXJmLCgSUYVtOp6EqRtOIimrQN4W5OWCVmHe2HoqGSazgI+7BlMHNMNjLYPZK5GIiIhqlAcly2rOV1JTIcxmwNXVqpgoAQi9FUdEzosFRXJmLCgSUYVsOp6EV785XGzFw+vZhbh+4gYA4LGWwZg6oBl8PVyqv4G1jCRJiIiIkC8TERFR1VNKwGxJYPCNG5AAiMBA+baiT+M5Cksc2Q/zJCIi+2FBkYhsZjILTN1wslgx8U513NT495A2UHIF50qhVqsxcuRIezeDiIjI6XTNTMd0kwH/Uqtxw8dH3h4KSzHxCS7GYnfMk8je2EORnBkLikRks22nb1gNcy5JRp4BBxLSEVvft5paRURERFT5bty4ge4KYGhwAM4pJSTBMmfigxJ7JhKRBQuK5MxYUCSiUmXk6rE/IR37LqRhf0I6TiVl23S/5Jyyi45EREREjiw7Oxv5+flQKBQICvBHKHsjEhERWWFBkYhkaTcLceCOAmLRSs0VFeDJFZ0ri16vx6effgoAGDduHDQajX0bREREVIuZBLDXCBy9fAOuRuCRYD8olUp7N4tKwTyJ7I09FMmZsaBI5MRScgqxPyEN+y+kY39CGv66cbNYTMMAD3SM8kHHSF+0i6iDJ+ftwfWsghLnUZQABOm06BDpU8KtdK/y8vLs3QQiIqJab4MeeDcXuJqXD9MNy6iMui6BmKEH+rNO5bCYJ5E9saBIzowFRSInkpxdgH0J6dh/IQ37LqThfEpusZjGgZ7oGOWDTlG+6BDpA7+7Vmqe0j8ar35z2LLi4R3bpTtu54IsREREVJNs0APP37TkNuaUGwAAybsObqg1eP4msMiDRUUiIqI7saBIVItdzyrA/oQ07LtgKSJeSC1eQGwS5IlOUb7oFOWDDpG+8HEvO1vu0zwY859ti6kbTlot0BKk02JK/2j0aR5c6Y+DiIiIqKqYhKVnogAg9HqIjHQAgCIgCAKWH03fywX6qrkYCxFZYw9FcmYsKBLVItcy8y0FxPOWIcwX06yHgEgS0DTIC52ifNExygcdInxQp5wCYkn6NA9Gz+ggHEhIR3JOAQI8LcOc2TORiIiIapq9RuDarWEXIiMdEAKShyckNzfLNgBXb82t+KDafu0kIsfDgiI5MxYUiWqwKxl52H/h9iIqienWBUSFBDQL0aFjpA86RvmiQ4QPdG6VkwkrFRJi6/tWyr6IiIiI7OWG+fZlYTQAACQ39zLjiIiInB0LikQ1hBACVzLysfdCmlxEvJqZbxWjkIAWoTp0vDWEuV2ED7y0/CmdiIiIqDSBijuumEyWf0tY2dkqjogI7KFIzo0FRSIHJYRAYnqepffhrQLitTvmLAQsvQRbhOrkIcztwuvAkwXEWkWSJISEhMiXiYiIqHLFqoAQCUgSuF1QVN3+miTBcnssvzk5HOZJ5AhYECRnxY9FIgchhEBCai72J6TLRcTr2dYFRJVCQsu6RQVEX8SE14GHC1/GtZlarcbLL79s72YQERHVWkoJiHe3rPIsGY0QgNxDsahO8JE7F2RxRMyTiIjsh5UIIjsRQuB8Sq7VKszJOYVWMWqlhNZh3ugY6YtOUb5oG+4NNw1ftkRERESVqb8GWOQBjDebkAxAUlgKiiGSpZjYv+Jr2BGRE+CQZ3JmrEwQVRMhBM4l38S+C2nYl5CO/RfSkXrTuoCoUSrQup43OkX6oFOUL9rUqwNXTfE5fIiIiIiocvXXAGHuJhxSAFovJcI9LcOc2TORiErDgiI5MxYUiaqI2Sxw9lYBcX+CZQhzWq7eKkajUqBtPW/LEOZIX7Sp5w2tmgVEus1gMGDu3LkAgNGjR0Ot5hyZREREVUGYAONBE5qnAM1ylHDvDnBaPsfGPImIyH5YUCSqJGazwOnrObeGMKfhQEI6MvIMVjFatQJt69W5VUD0QaswFhCpbEIIZGZmypeJiIio8hnWAwUTgNzLlkVZChVKiFBAOxNQD7Bz46hUzJPI3thDkZwZC4pE98hkFjiVlC0vovL7xXRk3lVAdFUr0S6iDjpG+qBjlC9a1tXBRcUCIhEREZGjMKwH8p8DTGaTvE0JJUSSZTu+YlGRiErGgiI5MxYUiWxkMgucvJYtD2E+kJCO7AKjVYybRol2ET7oeGsOxBahOmhUCju1mIiIiIjKIkyWnokQgAmWgqIECQpJAQgAElAwEVD1AyT+JkxERCRjQZFqPZNZ4EBCOpJzChDgqUWHSB8oFeX/DGQ0mXFCLiCm4/eEdOQUWhcQPVxUaBdxewhz81Ad1EoWEImIiIhqAtMeQFyzXDbAMtJEdedXJAGIq5Y41UN2aCAROTT2UCRnxoIi1Wqbjidh6oaTSMoqkLcF67SY0j8afZoHW8UaTGYcu5qF/RfSsT8hDQcvZuDmXQVETxcV2kf6oFOUDzpG+qJZiBdULCASERER1UjihuXfm+ImLpovAABc4FJqHBHRnVhQJGfGgiLVWpuOJ+HVbw7j7umZr2cV4NVvDuOzoW0Q4q3FvguWORAPXcpAnt5kFeulVaFDpC86RVmGMDcN9rKpdyMREREROT4pEEg238A1cRUCAlpoEaYILzGOiIiIbmNBkWolk1lg6oaTxYqJAORtY5YfKXabt5saHSIsC6h0ivJBkyAWEMm+JEmCv7+/fJmIiIgqh8lkwsXAi7jmlwmRCtSBD+pJ4Zb5E4tIgBQCKDvbr51UOuZJZG/soUjOjAVFqpUOJKRbDXMujadWhQfq+1mGMEf5onGgJxQsIJIDUavVGD16tL2bQUREVKvk5eXhwoULKCwshPYNCX5TwuCn8IfVr9G3UkLtDC7I4qiYJ5G9saBIzowFRaqVknPKLyYCwIcDm+PxNqFV3BoiIiIichSpqam4fPkyzGYzNBoNol6Ogqa+Owom3F6gBbD0TNTOANQD7NdWIiIiR8WCItVKAZ5am+ICvWyLIyIiIqKazWw2IzExEWlpaQAAnU6HiIgIqFQqYACg6ndr1ecbljkTlZ3ZM5GIysYeiuTMWFCkWilfb4QElDiHImAZwRKk06JDpE81toqo4gwGAxYsWAAAePnll6FWq+3cIiIiopqnsLAQ58+fR35+PgAgNDQUQUFBVjGSElA9ZI/W0b1inkT2xoIiOTMWFKnWWXEgEe+tOy4XE+8uLBa9X0/pH80FV8jhCSGQkpIiXyYiIqLSmc1A0jkgNxtw9wKCGwBZWRm4dOkSTCYTVCoVoqKi4Onpae+mUiVgnkREZD8sKFKtIYTAnC1/4T/bzgEAnmwTiu5NAhC/8ZTVAi1BOi2m9I9Gn+bB9moqEREREVWy80eBXauA3EzLdSEECpVX0KBTMuo2Bjw8PBAVFcVebERUadhDkZwZC4pUK+iNZkxc/SfWHLkKAHjj4QZ4s2cjSJKEvi2CcSAhHck5BQjwtAxzZs9EIiIiotrj/FFg0/9uXzea9EjNvgC9IRfJ64D+LwaibdtQSBJzQCKqPCwokjNjQZFqvKx8A0Z9fQh7L6RBqZAQ/0RzDG5fT75dqZAQW9/Xji0kIiIioqpiNlt6JhbJ12cjLTsBZrMRCkkJH68InN/ljc49AdYTiYiIKgcLilSjXc3Mx/OLDuCvGzfhrlFi3rMx6NrI397NIiIiIqJqknTu9jDn3IJ0pGUnAAA0Kjf46qKgVrrgZqYlLrSR3ZpJRLUQeyiSM2NBkWqs41ez8MLi35GcU4hALxd8ObI9moXo7N0sIiIiIqpGudmWf/WGPKTnXAIAuGt9UcezHhSSolgcEVFlYUGRnBkLilQjbT+TjNFLDyNPb0LjQE8ser49Qrxd7d0sokonSRK8vb3ly0RERGTN3QswmY1IyT4PIcxw1ejg6xVRYhzVLsyTiIjshwVFqnGW7U/E5O+Pw2QWeKCBL+Y/GwMvLVfro9pJrVZj3Lhx9m4GERGRwwqqL5CHBJhMeqiULvD1iiwW4+ENBDeo/rZR1WKeRPbGHorkzBTlhxA5BiEEZm0+jXfXHoPJLPBk21AsGtmBxUQiIiIiJ3b9+jU0fTAbkqSAn64+FAplsZgHnwIU/OZDRJWsqKB4v39ENRF7KFKNUGg0YcKqP7Hu6DUAwBuPNMSbPRpyaAMRERGRE8vIyMD169dRtzHw9GvhOLbFVV6gBbD0THzwKaB+azs1kIiIqJZiQZEcXlaeAa98cxD7LqRDpZAQ/0QLDGofZu9mEVULg8GARYsWAQCef/55qNXskUtERAQABQUFuHjxIgAgMDAQdWN80OahW6s+Z1vmTAxuwJ6JtRnzJLI3DnkmZ8aCIjm0Kxl5GLnod5xLvgkPFxXmDWuLLo387d0somojhMC1a9fky0RERASYTCacO3cOZrMZnp6eCA0NBWApHoY2snPjqNowTyJHwIIgOSsWFMlhHbuShReW/I6UnEIEeWnx5cj2iA7h8nxEREREzsYkgN8EkAQgGEBwwkUUFhZCo9EgKiqK0+AQERFVMxYUySFtP52M0csOI09vQpMgTyx6vj2Cda72bhYRERERVbO1ZmC8Gbhy67pISkJAWibGKyW8Vr8+VCp+pSEi+xASAA55JifFT19yKAcupCOpIB1Tvj8BswAebOCHec+25UrORERERE5orRkYbAaKBrOKrCzg2jWkAJgUFo76Wjc8Yc8GEpFTY0GRnBkLiuRQXljyOxQubgCAp2LqYvqTLaBWciZtIiIiImdjEpaeiQKAMJmA3FwgIQEAIPz9ofD1xXgzMEAClPxCTkREVK1YUCSH9UiTABYTiYiIiJyIEAIFBQXIz8/Httx8XM7NB/LzAb3+dpC7OxAWBgHLMOjfBNCVBUUisgP2UCRnxoIiOSQJwD9/OIlezYKgVPAdlpybm5ubvZtARERU6QwGA/Lz8+W/vLw8FBQUyKv1/mUGYL7jDhoN4OEB1K1rtQhLUvU2mxwM8ySyJxYUyZmxoEgOSQBIyirAgYR0xNb3tXdziOxGo9HgnXfesXcziIiI7pnZbJZ7Hebl5ckFRKPRWGK8UqmEq6srGri4Ai6ugKvlT1IqS4wPrsrGk0NjnkREZD8sKJJDS84psHcTiIiIiMhGer3eqmiYn5+PgoLS8zmtVgtXV1f5z83NDRqNBgDQQABhJuAqbi/KcicJQCiAB9m7h4jshD0UyZmxoEgOLcBTa+8mEBEREdFdTCaTVdGw6M9kMpUYr1KprIqGrq6u0Gq1UChKny9bKQFzFJZVniVYFxWLvn/PUXBBFiKyHxYUyZmxoEgOSQIQpNOiQ6SPvZtCZFcGgwFLly4FAAwbNgxqtdrOLSIiImcihEBhYWGxuQ71dy6ScgdJkqDVauWiYdHfvX5+PaEAVsKy2vOVO7aHwlJMfILr9zk15klERPbDgiI5nKIfaKb0j+aCLOT0hBC4ePGifJmIiKiqGI1Gq6Jh0XBls9lcYrxGo7EqGhb1OrxzwZTK8IQCGCBZVnNOgmXOxAcl9kwk5klkf+yhSM6MBUVyOEE6Lab0j0af5pxim4iIiOhOB3OBrp73V0wTQqCgoKDYXIcGg6HEeIVCUaxw6OrqCpWq+r5KKCWgK790E5GDYUGRnBkLiuRQvhzRHt1bhrNnIhEREVEJXr0ChNwE3g0EenqVH6/X64vNc1hQUFBqby4XF5dicx26uLhU8qMgIiKimo4FRXIoHaJ8WEwkIiIiKkOyERh3FfgUt4uKZrO5WOEwLy+v1EVSlEqlVdGw6K+sRVKIiMgaeyiSM2NBkYiIiIioBjHpC4GCfMSl5yM8MA/6gnwUFhaWGFu0SMrdw5U1Gk01t5qIqPZhQZGcGQuKREREREQ1ROHpPyC5ugEArgHYK4Dmrpbb1Gp1iXMdVvYiKUREREQsKBIROTi1Wm3vJhARkYMQwgxJkqBwcYWkdYUy0BWNgtyqfZEUIkfBPInsiT0UyZkx6yAicmAajQbvvfeevZtBREQOQhPVFCoff7nXYaMQwNPdzo0ishPmSWRvLCiSM2NBkYiIiIiohlC4aCFJEiQAgSogxs3eLSIiIiJnxIIiEREREVENUtSZZVIgoGTPFiIiu2EPRXJmLCgSETkwo9GIlStXAgAGDx7M+bGIiAiBKksxsaeXvVtCZF/Mk8jeWFAkZ8Z3XCIiB2Y2m3H27Fn5MhERObf5dYGuQeyZSAQwTyIisicWFImIiIiIaoh27iwmEhE5CvZQJGemsHcDqHLNmzcPkZGR0Gq1iImJwa5du8qM37lzJ2JiYqDVahEVFYXPP/+8WMzq1asRHR0NFxcXREdHY+3atfd9XCIiIiJ7YK5ERESVRUiV81cR06dPR/v27eHp6YmAgAA8/vjjOHPmTJn32bFjh2VBr7v+Tp8+fR+PnpwdC4q1yMqVKzFu3Di89957OHLkCB566CE8+uijSExMLDE+ISEBffv2xUMPPYQjR47g3XffxRtvvIHVq1fLMXv37sXgwYMxfPhw/PHHHxg+fDgGDRqE/fv33/NxiYiIiOyBuRIREdV0O3fuxOjRo7Fv3z5s2bIFRqMRvXr1Qm5ubrn3PXPmDJKSkuS/hg0bVkOLqbaShBDC3o2gytGxY0e0bdsW8+fPl7c1bdoUjz/+OKZPn14sfsKECVi/fj1OnTolbxs1ahT++OMP7N27F4BlcuPs7Gz89NNPckyfPn1Qp04dLF++/J6OW5Ls7GzodDpkZWXBy4szjBMV0ev1iI+PBwC8++670Gg0dm4RUe3Fz6Laj7kSUe3CPIlsURXvn0X7RGYWpPvcp8jOBrzvvX0pKSkICAjAzp070aVLlxJjduzYge7duyMjIwPe3t731V6iIuyhWEvo9XocOnQIvXr1streq1cv7Nmzp8T77N27t1h87969cfDgQRgMhjJjivZ5L8clIiIiqm7MlYiIqNJVxnDn+5xDMSsrCwDg4+NTbmybNm0QHByMRx55BNu3b7+/A5PT46IstURqaipMJhMCAwOttgcGBuL69esl3uf69eslxhuNRqSmpiI4OLjUmKJ93stxAaCwsBCFhYXy9aI3wezs7HIeKZFz0ev18mslOzubv7wTVaGizyAO3qidmCsR1T7Mk8gWVfr5Xhnvybf2cff7u4uLC1xcXMq8qxAC48ePx4MPPojmzZuXGhccHIwFCxYgJiYGhYWF+Prrr/HII49gx44dpfZqJCoPC4q1jCRZ/7whhCi2rbz4u7fbss+KHnf69OmYOnVqse1hYWGl3ofI2c2YMcPeTSByCmlpaZZhTFQrMVciqp2YJ1F5KvPzXaPRICgoCNcr6T3Zw8Oj2Pv7lClTEBcXV+b9Xn/9dfz555/47bffyoxr3LgxGjduLF+PjY3F5cuX8cknn7CgSPeMBcVaws/PD0qlstgv3cnJycV+ES8SFBRUYrxKpYKvr2+ZMUX7vJfjAsCkSZMwfvx4+XpmZibCw8ORmJjIL3FEd8nOzkZYWBguX77MebOIqlBWVhbq1atn05AhqnmYKxHVTsyTqDxV8fmu1WqRkJAAvV5fKfsr6Uem8nonjhkzBuvXr8evv/6KunXrVviYnTp1wjfffFPh+xEVYUGxltBoNIiJicGWLVvwxBNPyNu3bNmCgQMHlnif2NhYbNiwwWrbzz//jHbt2kGtVssxW7ZswZtvvmkV07lz53s+LlB6922dTsdEgKgUXl5efH0QVQOFglNM10bMlYhqN+ZJVJ7K/nzXarXQarWVuk9bCCEwZswYrF27Fjt27EBkZOQ97efIkSMIDg6u5NaRM2FBsRYZP348hg8fjnbt2iE2NhYLFixAYmIiRo0aBcDyS/fVq1fx1VdfAbCsUvh///d/GD9+PF566SXs3bsXX3zxhbwiIQCMHTsWXbp0wcyZMzFw4EB8//332Lp1q1WX6vKOS0REROQImCsREVFNN3r0aCxbtgzff/89PD095R7wOp0Orq6uAIp/nn366aeIiIhAs2bNoNfr8c0332D16tVYvXq13R4H1XwsKNYigwcPRlpaGv75z38iKSkJzZs3x8aNGxEeHg4ASEpKQmJiohwfGRmJjRs34s0338TcuXMREhKCzz77DH/729/kmM6dO2PFihV4//33MXnyZNSvXx8rV65Ex44dbT4uERERkSNgrkRERDXd/PnzAQDdunWz2r5o0SKMHDkSQPHPM71ej7feegtXr16Fq6srmjVrhh9//BF9+/atrmZTLSQJLmVIDqCwsBDTp0/HpEmTyp0rgsjZ8PVBVD34WiNHxvOTqGR8bVB5eI4QVQ0WFImIiIiIiIiIiMhmnHWciIiIiIiIiIiIbMaCIhEREREREREREdmMBUUiIiIiIiIiIiKyGQuKREREREREREREZDMWFOm+ZWRkYPjw4dDpdNDpdBg+fDgyMzNLjTcYDJgwYQJatGgBd3d3hISE4LnnnsO1a9es4goLCzFmzBj4+fnB3d0dAwYMwJUrV6xiPvroI3Tu3Blubm7w9vYu9ZiLFy9Gy5YtodVqERQUhNdff/1+HjJRmebNm4fIyEhotVrExMRg165dZcbv3LkTMTEx0Gq1iIqKwueff14sZvXq1YiOjoaLiwuio6Oxdu3aCh9XCIG4uDiEhITA1dUV3bp1w4kTJ+7vwRLZUUVea2vWrEHPnj3h7+8PLy8vxMbGYvPmzVYxCxcuxEMPPYQ6deqgTp066NGjBw4cOFDh444cORKSJFn9derUqXIeNNVYFc2XACAuLg5NmjSBu7u7fE7u379fvj09PR1jxoxB48aN4ebmhnr16uGNN95AVlaW1X6YL5EjYZ5E5eHnO1ENIYjuU58+fUTz5s3Fnj17xJ49e0Tz5s3FY489Vmp8Zmam6NGjh1i5cqU4ffq02Lt3r+jYsaOIiYmxihs1apQIDQ0VW7ZsEYcPHxbdu3cXrVq1EkajUY754IMPxJw5c8T48eOFTqcr8XizZ88WISEhYunSpeLcuXPi+PHjYv369ZXy2InutmLFCqFWq8XChQvFyZMnxdixY4W7u7u4dOlSifEXLlwQbm5uYuzYseLkyZNi4cKFQq1Wi1WrVskxe/bsEUqlUsTHx4tTp06J+Ph4oVKpxL59+yp03BkzZghPT0+xevVqcezYMTF48GARHBwssrOzq+4JIaoiFX2tjR07VsycOVMcOHBA/PXXX2LSpElCrVaLw4cPyzHPPPOMmDt3rjhy5Ig4deqUeP7554VOpxNXrlyp0HFHjBgh+vTpI5KSkuS/tLS0qnsyqEaoaL4khBBLly4VW7ZsEefPnxfHjx8XL774ovDy8hLJyclCCCGOHTsmnnzySbF+/Xpx7tw58csvv4iGDRuKv/3tb1b7Yb5EjoJ5EpWHn+9ENQcLinRfTp48KQBYfWDv3btXABCnT5+2eT8HDhwQAOQ37MzMTKFWq8WKFSvkmKtXrwqFQiE2bdpU7P6LFi0qMUFOT08Xrq6uYuvWrRV4VET3rkOHDmLUqFFW25o0aSImTpxYYvw777wjmjRpYrXtlVdeEZ06dZKvDxo0SPTp08cqpnfv3mLIkCE2H9dsNougoCAxY8YM+faCggKh0+nE559/XoFHSOQYKvpaK0l0dLSYOnVqqbcbjUbh6ekplixZUqHjjhgxQgwcONDmdlDtV1n5UlZWlgBQZl7z7bffCo1GIwwGQ7HbmC+RvTFPovLw852o5uCQZ7ove/fuhU6nQ8eOHeVtnTp1gk6nw549e2zeT1ZWFiRJkofhHDp0CAaDAb169ZJjQkJC0Lx58wrtd8uWLTCbzbh69SqaNm2KunXrYtCgQbh8+bLN+yCylV6vx6FDh6zOWwDo1atXqeft3r17i8X37t0bBw8ehMFgKDOmaJ+2HDchIQHXr1+3inFxcUHXrl0r9JoicgT38lq7m9lsRk5ODnx8fEqNycvLg8FgkGMqctwdO3YgICAAjRo1wksvvYTk5GSb2kW1U2XkS3q9HgsWLIBOp0OrVq1KjcvKyoKXlxdUKpXN7WO+RNWBeRKVh5/vRDULC4p0X65fv46AgIBi2wMCAnD9+nWb9lFQUICJEyfimWeegZeXl7xfjUaDOnXqWMUGBgbavF8AuHDhAsxmM+Lj4/Hpp59i1apVSE9PR8+ePaHX623eD5EtUlNTYTKZEBgYaLW9rPP2+vXrJcYbjUakpqaWGVO0T1uOW/RvRdpG5Kju5bV2t9mzZyM3NxeDBg0qNWbixIkIDQ1Fjx49KnTcRx99FEuXLsW2bdswe/Zs/P7773j44YdRWFho60OkWuZ+8qUffvgBHh4e0Gq1+Ne//oUtW7bAz8+vxNi0tDR8+OGHeOWVVyrUPuZLVB2YJ1F5+PlOVLOwoEgliouLKzbh7N1/Bw8eBABIklTs/kKIErffzWAwYMiQITCbzZg3b1658bbut4jZbIbBYMBnn32G3r17o1OnTli+fDnOnj2L7du327wfooq4+xwt77wtKf7u7bbss7JiiGqKez2fly9fjri4OKxcubLEIg8AfPzxx1i+fDnWrFkDrVZboeMOHjwY/fr1Q/PmzdG/f3/89NNP+Ouvv/Djjz/a+tCohqiOfKl79+44evQo9uzZgz59+mDQoEEl9ojJzs5Gv379EB0djSlTplTocTBfourEPInKw893oprB9rEQ5FRef/11DBkypMyYiIgI/Pnnn7hx40ax21JSUor9wnM3g8GAQYMGISEhAdu2bZN7JwJAUFAQ9Ho9MjIyrHopJicno3PnzjY/juDgYABAdHS0vM3f3x9+fn5ITEy0eT9EtvDz84NSqSz2C2pycnKpr4egoKAS41UqFXx9fcuMKdqnLccNCgoCYPkFvuh1UV7biBzVvbzWiqxcuRIvvvgivvvuO7lnwt0++eQTxMfHY+vWrWjZsuV9Hzc4OBjh4eE4e/ZseQ+NapjqyJfc3d3RoEEDNGjQAJ06dULDhg3xxRdfYNKkSXJMTk4O+vTpAw8PD6xduxZqtbpCj4P5ElUH5klUHn6+E9Us7KFIJfLz80OTJk3K/NNqtYiNjUVWVhYOHDgg33f//v3Iysoqs/BXVEw8e/Ystm7dKicERWJiYqBWq7FlyxZ5W1JSEo4fP16hguIDDzwAADhz5oy8LT09HampqQgPD7d5P0S20Gg0iImJsTpvAcvcVKWdt7GxscXif/75Z7Rr107+QlhaTNE+bTluZGQkgoKCrGL0ej127txZodcUkSO4l9caYOm5MHLkSCxbtgz9+vUrMWbWrFn48MMPsWnTJrRr165SjpuWlobLly9bfUml2qGq86WSCCGshtdlZ2ejV69e0Gg0WL9+fbEeN7ZgvkTVgXkSlYef70Q1THWvAkO1T58+fUTLli3F3r17xd69e0WLFi3EY489ZhXTuHFjsWbNGiGEEAaDQQwYMEDUrVtXHD16VCQlJcl/hYWF8n1GjRol6tatK7Zu3SoOHz4sHn74YdGqVSthNBrlmEuXLokjR46IqVOnCg8PD3HkyBFx5MgRkZOTI8cMHDhQNGvWTOzevVscO3ZMPPbYYyI6Olro9foqfmbIGa1YsUKo1WrxxRdfiJMnT4px48YJd3d3cfHiRSGEEBMnThTDhw+X4y9cuCDc3NzEm2++KU6ePCm++OILoVarxapVq+SY3bt3C6VSKWbMmCFOnTolZsyYIVQqldVqoeUdVwghZsyYIXQ6nVizZo04duyYGDp0qAgODhbZ2dnV8MwQVa6KvtaWLVsmVCqVmDt3rtXnTmZmphwzc+ZModFoxKpVq6xi7vxMKe+4OTk54h//+IfYs2ePSEhIENu3bxexsbEiNDSUrzUnV9F86ebNm2LSpEli79694uLFi+LQoUPixRdfFC4uLuL48eNCCCGys7NFx44dRYsWLcS5c+eszlvmS+SImCdRefj5TlRzsKBI9y0tLU0MGzZMeHp6Ck9PTzFs2DCRkZFhFQNALFq0SAghREJCggBQ4t/27dvl++Tn54vXX39d+Pj4CFdXV/HYY4+JxMREq/2OGDGi3P1kZWWJF154QXh7ewsfHx/xxBNPFNsPUWWaO3euCA8PFxqNRrRt21bs3LlTvm3EiBGia9euVvE7duwQbdq0ERqNRkRERIj58+cX2+d3330nGjduLNRqtWjSpIlYvXp1hY4rhBBms1lMmTJFBAUFCRcXF9GlSxdx7NixynnQRHZQkdda165dS/y8GDFihBwTHh5eYsyUKVNsPm5eXp7o1auX8Pf3F2q1WtSrV0+MGDGCnztU4XwpPz9fPPHEEyIkJERoNBoRHBwsBgwYIA4cOCDHb9++vdScKiEhQY5jvkSOhHkSlYef70Q1gyTErVltiYiIiIiIiIiIiMrBORSJiIiIiIiIiIjIZiwoEhERERERERERkc1YUCQiIiIiIiIiIiKbsaBIRERERERERERENmNBkYiIiIiIiIiIiGzGgiIRERERERERERHZjAVFIiIiIiIiIiIishkLikRERERERERERGQzFhSJaojJkyfj5Zdflq9369YN48aNs1+DqFK1b98ea9asqdZjDh8+HPHx8fd037i4OLRu3bpyG0R299RTT2HOnDn2bgYRORjmILUbcxByBMxBiGoeFhSJ7GzkyJGQJAmSJEGtViMqKgpvvfUWcnNz5ZgbN27g3//+N9599107tpSq0uTJkzFx4kSYzeb73le3bt3kc8rFxQWNGjVCfHw8TCaTHPPnn3/ixx9/xJgxY+7pGG+99RZ++eWX+24rOZYPPvgAH330EbKzs+3dFCKqBsxBCGAOQo6BOQhRzcOCIpED6NOnD5KSknDhwgVMmzYN8+bNw1tvvSXf/sUXXyA2NhYRERH2a+Rd9Hq9vZtQY9jyXPXr1w9ZWVnYvHlzpRzzpZdeQlJSEs6cOYM33ngD77//Pj755BP59v/7v//D008/DU9Pz3vav4eHB3x9fSulrfeD56HtbHmuWrZsiYiICCxdurQaWkREjoA5SO3GHKTq8Dy0HXMQotqJBUUiB+Di4oKgoCCEhYXhmWeewbBhw7Bu3Tr59hUrVmDAgAFl7iMjIwPPPfcc6tSpAzc3Nzz66KM4e/asfPulS5fQv39/1KlTB+7u7mjWrBk2btwo337y5En07dsXHh4eCAwMxPDhw5Gamirf3q1bN7z++usYP348/Pz80LNnzxLbMXLkSDz++OOIj49HYGAgvL29MXXqVBiNRrz99tvw8fFB3bp18eWXX1rdb8KECWjUqBHc3NwQFRWFyZMnw2AwyLcXDW/5+uuvERERAZ1OhyFDhiAnJ0eOEULg448/RlRUFFxdXdGqVSusWrVKvn3x4sXw9va2Ou66desgSRIA4MyZM5AkCadPn7aKmTNnDiIiIiCEuK/nKi4uDvXq1YOLiwtCQkLwxhtvyPdRKpXo27cvli9fXuLzWlFubm4ICgpCREQEXn/9dTzyyCPyOWU2m/Hdd99ZnVP/+c9/0KJFi2LPy9y5c+VtvXv3xqRJk+THcudwo6L/908++QTBwcHw9fXF6NGjrf4PIyIiEB8fjxdeeAGenp6oV68eFixYYNXuq1evYvDgwahTpw58fX0xcOBAXLx4sdhxpk+fjpCQEDRq1KjEx1/Uvi+//BL16tWDh4cHXn31VZhMJnz88ccICgpCQEAAPvroI6v7zZkzBy1atIC7uzvCwsLw2muv4ebNm/LtRefQ5s2b0bRpU3h4eMhfxu+0aNEiNG3aFFqtFk2aNMG8efPk23bs2AFJkpCZmSlvO3r0KCRJwsWLF5GVlQVXV1ds2rTJap9r1qyBu7u73J57fa7mzZuHhg0bQqvVIjAwEE899ZTVcQYMGFBp5yEROT7mIMxBmINYMAdhDkJEFcOCIpEDcnV1lZOgjIwMHD9+HO3atSvzPiNHjsTBgwexfv167N27F0II9O3bV97P6NGjUVhYiF9//RXHjh3DzJkz4eHhAQBISkpC165d0bp1axw8eBCbNm3CjRs3MGjQIKtjLFmyBCqVCrt378Z///vfUtuybds2XLt2Db/++ivmzJmDuLg4PPbYY6hTpw7279+PUaNGYdSoUbh8+bJ8H09PTyxevBgnT57Ev//9byxcuBD/+te/rPZ7/vx5rFu3Dj/88AN++OEH7Ny5EzNmzJBvf//997Fo0SLMnz8fJ06cwJtvvolnn30WO3futOFZBxo3boyYmJhiv4wuW7YMzzzzDCRJuufnatWqVfjXv/6F//73vzh79izWrVtnlTwDQIcOHbBr1y6b2lpRd55Tf/75JzIzM63OqW7duuHEiRPyl5KdO3fCz89Pfu6MRiP27NmDrl27lnqM7du34/z589i+fTuWLFmCxYsXY/HixVYxs2fPRrt27XDkyBG89tprePXVV+UvT3l5eejevTs8PDzw66+/4rfffpOT5Tt/2f7ll19w6tQpbNmyBT/88EOp7Tl//jx++uknbNq0CcuXL8eXX36Jfv364cqVK9i5cydmzpyJ999/H/v27ZPvo1Ao8Nlnn+H48eNYsmQJtm3bhnfeecdqv3l5efjkk0/w9ddf49dff0ViYqJVb56FCxfivffew0cffYRTp04hPj4ekydPxpIlS0pt6510Oh369etX4nk4cOBAeHh43PNzdfDgQbzxxhv45z//iTNnzmDTpk3o0qWL1XE6dOiAAwcOoLCw0Kb2ElHtwhyEOUhlYw7CHIQ5CFEtJYjIrkaMGCEGDhwoX9+/f7/w9fUVgwYNEkIIceTIEQFAJCYmWt2va9euYuzYsUIIIf766y8BQOzevVu+PTU1Vbi6uopvv/1WCCFEixYtRFxcXIltmDx5sujVq5fVtsuXLwsA4syZM/LxWrdubdPjCQ8PFyaTSd7WuHFj8dBDD8nXjUajcHd3F8uXLy91Px9//LGIiYmRr0+ZMkW4ubmJ7Oxsedvbb78tOnbsKIQQ4ubNm0Kr1Yo9e/ZY7efFF18UQ4cOFUIIsWjRIqHT6axuX7t2rbjzrXDOnDkiKipKvn7mzBkBQJw4cUIIce/P1ezZs0WjRo2EXq8v9TF///33QqFQWD139+LOc8NkMomffvpJaDQa8c477wghLI9ZqVQKs9ks38dsNgs/Pz+xatUqIYQQrVu3FtOnTxcBAQFCCCH27NkjVCqVyMnJEUJY/j9atWol37/o/91oNMrbnn76aTF48GD5enh4uHj22WetjhkQECDmz58vhBDiiy++EI0bN7ZqV2FhoXB1dRWbN2+WjxMYGCgKCwvLfA5KOl969+4tIiIiip2b06dPL3U/3377rfD19ZWvL1q0SAAQ586dk7fNnTtXBAYGytfDwsLEsmXLrPbz4YcfitjYWCGEENu3bxcAREZGhnx70es8ISFBCCHEmjVrhIeHh8jNzRVCCJGVlSW0Wq348ccf7+u5Wr16tfDy8rJ6Xu72xx9/CADi4sWLpcYQUe3AHKRkzEHuHXMQ5iClPVfMQYhqH/ZQJHIAP/zwAzw8PKDVahEbG4suXbrgP//5DwAgPz8fAKDVaku9/6lTp6BSqdCxY0d5m6+vLxo3boxTp04BAN544w1MmzYNDzzwAKZMmYI///xTjj106BC2b98ODw8P+a9JkyYALL+wFimvh0KRZs2aQaG4/fYSGBho9Uu4UqmEr68vkpOT5W2rVq3Cgw8+iKCgIHh4eGDy5MlITEy02m9ERITVfDvBwcHyPk6ePImCggL07NnT6nF89dVXVo+hPEOGDMGlS5fkX4yXLl2K1q1bIzo6GsC9P1dPP/008vPzERUVhZdeeglr166F0Wi0inF1dYXZbC71V9lHH31UPmazZs3KfBzz5s2Tz6kBAwbg2WefxZQpUwBYzikXFxd5mBUASJKELl26YMeOHcjMzMSJEycwatQomEwmnDp1Cjt27EDbtm3lHiUladasGZRKpXz9zv+fIi1btrQ6ZlBQkBxz6NAhnDt3Dp6envLj9PHxQUFBgdVz26JFC2g0mjIfP1D8fAkMDER0dHSxc/PONm7fvh09e/ZEaGgoPD098dxzzyEtLc1qgQI3NzfUr1+/xMeZkpKCy5cv48UXX7Q6R6ZNm1ah87Bfv35QqVRYv349AGD16tXw9PREr1697uu56tmzJ8LDwxEVFYXhw4dj6dKlyMvLszq2q6srABTbTkS1E3MQ5iAAcxDmILcxByEiW6ns3QAiArp374758+dDrVYjJCQEarVavs3Pzw+AZdiRv79/ifcXt+bVKWl7UcL297//Hb1798aPP/6In3/+GdOnT8fs2bMxZswYmM1m9O/fHzNnziy2j+DgYPmyu7u7TY/nzvYDkFePvHtb0WqC+/btw5AhQzB16lT07t0bOp0OK1aswOzZs8vdb9E+iv798ccfERoaahXn4uICwDKU5O7n6s75dQDL4+3evTuWLVuGTp06Yfny5XjllVfk2+/1uQoLC8OZM2ewZcsWbN26Fa+99hpmzZqFnTt3yo8rPT0dbm5ucjJ1t//973/yl7u7n4u7DRs2DO+99548V9KdSbafnx/y8vKg1+utEr1u3bphwYIF2LVrF1q1agVvb2906dIFO3fuxI4dO9CtW7cyj1nW/48tMWazucThXgCszv2qOg8vXbqEvn37YtSoUfjwww/h4+OD3377DS+++KLVeVLSPorOq6J9LVy40OrLNQD5/6Doy8Sd5+Ld56FGo8FTTz2FZcuWYciQIVi2bBkGDx4MlUolH+denitPT08cPnwYO3bswM8//4wPPvgAcXFx+P333+W5vdLT04vth4hqL+YgzEEA5iDMQW5jDkJEtmJBkcgBuLu7o0GDBiXeVr9+fXh5eeHkyZOlTv4cHR0No9GI/fv3o3PnzgCAtLQ0/PXXX2jatKkcFxYWJs8dNGnSJCxcuBBjxoxB27ZtsXr1akRERMjJQnXavXs3wsPD8d5778nbLl26VKF9REdHw8XFBYmJiaXOsePv74+cnBzk5ubKSc7Ro0eLxQ0bNgwTJkzA0KFDcf78eQwZMkS+7X6eK1dXVwwYMAADBgzA6NGj0aRJExw7dgxt27YFABw/fly+XJK7v6SURafTlXpOFU1kfvLkSatJzbt164axY8di1apVcuLetWtXbN26FXv27MHYsWNtPv69aNu2LVauXImAgAB4eXlV6bFKcvDgQRiNRsyePVtOuL/99tsK7SMwMBChoaG4cOEChg0bVmJMUZKclJSEOnXqACj9POzVqxdOnDiB7du348MPP5Rvu5/nSqVSoUePHujRowemTJkCb29vbNu2DU8++SQAy3lYt25duZBARLUbcxDmIABzEOYg1piDEJEtOOSZyMEpFAr06NEDv/32W6kxDRs2xMCBA/HSSy/ht99+wx9//IFnn30WoaGhGDhwIABg3Lhx2Lx5MxISEnD48GFs27ZNTvRHjx6N9PR0DB06FAcOHMCFCxfw888/44UXXoDJZKryx9igQQMkJiZixYoVOH/+PD777DOsXbu2Qvvw9PTEW2+9hTfffBNLlizB+fPnceTIEcydO1eeiLpjx45wc3PDu+++i3PnzmHZsmXFJuwGgCeffBLZ2dl49dVX0b17d6sk+l6fq8WLF+OLL77A8ePHceHCBXz99ddwdXVFeHi4HLNr1y55OElV8vf3R9u2bYudU82bN4evry+WLl0qJ/PdunXDunXrkJ+fjwcffLBK2zVs2DD4+flh4MCB2LVrFxISErBz506MHTsWV65cqdJjA5YvzkajEf/5z3/k/6PPP/+8wvuJi4vD9OnT8e9//xt//fUXjh07hkWLFmHOnDkALOd7WFgY4uLi8Ndff+HHH38s1hMGsHyRCgwMxLBhwxAREYFOnTrJt93rc/XDDz/gs88+w9GjR3Hp0iV89dVXMJvNaNy4sRxTXechETk+5iC2YQ5iO+YgJWMOYsEchKhmYUGRqAZ4+eWXsWLFimJDN+60aNEixMTE4LHHHkNsbCyEENi4caM8NMJkMmH06NFo2rQp+vTpg8aNG2PevHkAgJCQEOzevRsmkwm9e/dG8+bNMXbsWOh0Oqu5XqrKwIED8eabb+L1119H69atsWfPHkyePLnC+/nwww/xwQcfYPr06WjatCl69+6NDRs2IDIyEgDg4+ODb775Bhs3bkSLFi2wfPlyxMXFFduPl5cX+vfvjz/++KPYL7z3+lx5e3tj4cKFeOCBB9CyZUv88ssv2LBhA3x9fQEAV69exZ49e/D8889X+HHfi5dffrnYUBVJkuSeFQ899BAAy3xDOp0Obdq0qfJf7N3c3PDrr7+iXr16ePLJJ9G0aVO88MILyM/Pr5beAq1bt8acOXMwc+ZMNG/eHEuXLsX06dMrvJ+///3v+N///ofFixejRYsW6Nq1KxYvXiyfh2q1GsuXL8fp06fRqlUrzJw5E9OmTSu2H0mSMHTo0BLPw3t9rry9vbFmzRo8/PDDaNq0KT7//HMsX75cng+roKAAa9euxUsvvVThx01EtRNzENswB7Edc5DimIMwByGqiSRR2sQnROQwhBDo1KkTxo0bh6FDh9q7OVQF3n77bWRlZWHBggXVcryCggI0btwYK1asQGxsbLUckxzf3Llz8f333+Pnn3+2d1OIyEEwB6n9mIOQI2AOQlTzsIciUQ0gSRIWLFhQbEU+qj0CAgKs5qepalqtFl999RVSU1Or7Zjk+NRqtby6KxERwBzEGTAHIUfAHISo5mEPRSIiIiIiIiIiIrIZeygSERERERERERGRzVhQJCIiIiIiIiIiIpuxoEhEREREREREREQ2Y0GRiIiIiIiIiIiIbMaCIhEREREREREREdmMBUUiIiIiIiIiIiKyGQuKREREREREREREZDMWFImIiIiIiIiIiMhmLCgSERERERERERGRzVhQJCIiIiIiIiIiIpuxoEhEREREREREREQ2+38DeAt9DMYwowAAAABJRU5ErkJggg==' width=1300.0/>\n",
       "            </div>\n",
       "        "
      ],
      "text/plain": [
       "Canvas(toolbar=Toolbar(toolitems=[('Home', 'Reset original view', 'home', 'home'), ('Back', 'Back to previous …"
      ]
     },
     "metadata": {},
     "output_type": "display_data"
    }
   ],
   "source": [
    "#  ---------- Two column plot -------------- #\n",
    "\n",
    "numEnsambles = len(fight_ensamble_names)\n",
    "\n",
    "# prepare the colorscale\n",
    "cmap = plt.get_cmap(\"cool\")\n",
    "min_dur = 2.5\n",
    "max_dur = 30\n",
    "norm = plt.Normalize(min_dur, max_dur)\n",
    "\n",
    "xticks_list = [[np.min(bout_list_losMan_minus_winMan[0]), 0, np.max(bout_list_losMan_minus_winMan[0])],\n",
    "               [np.min(bout_list_losMan_minus_winMan[1]), 0, np.max(bout_list_losMan_minus_winMan[1])]\n",
    "              ]\n",
    "\n",
    "# I determined these simply by examining the plot.\n",
    "y_tick_intercepts = [0.325, 0.418]\n",
    "yticks_list = [[0, y_tick_intercepts[0], 1],\n",
    "               [0, y_tick_intercepts[1], 1]]\n",
    "\n",
    "\n",
    "# ----------------------------------------------------------------------------------------------------#\n",
    "\n",
    "fig, axs = plt.subplots(ncols=2, figsize=(13,5))\n",
    "\n",
    "\n",
    "\n",
    "\n",
    "\n",
    "\n",
    "bout_ensamble_index = 0\n",
    "ensamble_name = fight_ensamble_names[bout_ensamble_index]\n",
    "\n",
    "# get the prob differences for this ensamble and sort low to high\n",
    "losMan_minus_winMan = bout_list_losMan_minus_winMan[bout_ensamble_index]\n",
    "sorted_data = np.sort(losMan_minus_winMan)\n",
    "\n",
    "# prepare the y-axis data for cum probs\n",
    "N = len(sorted_data)\n",
    "y_data = np.arange(1,N+1)/N\n",
    "\n",
    "# plot the data\n",
    "ax = axs[bout_ensamble_index]\n",
    "\n",
    "ax.plot(sorted_data, y_data, linestyle='-', marker='o', alpha=1)\n",
    "\n",
    "# set the axes limits\n",
    "ax.set_ylim(0,1)\n",
    "ax.set_xlim(np.min(sorted_data), np.max(sorted_data) )\n",
    "\n",
    "# draw the lines\n",
    "ax.axvline(0, linestyle='--',color='black', alpha=0.5)\n",
    "ax.axhline(y_tick_intercepts[bout_ensamble_index], alpha=0.5, linestyle='--',color='black')\n",
    "\n",
    "# set the ticks\n",
    "ax.set_xticks(xticks_list[bout_ensamble_index])\n",
    "ax.set_yticks(yticks_list[bout_ensamble_index])\n",
    "\n",
    "\n",
    "ax.set_title(f'Cumulative distribution function \\n N={N} bouts {ensamble_name}')\n",
    "ax.set_ylabel('cumulative probability')\n",
    "ax.set_xlabel('P(loser maneuvers) - P(winner maneuvers)')\n",
    "\n",
    "\n",
    "\n",
    "\n",
    "\n",
    "\n",
    "bout_ensamble_index = 1\n",
    "ensamble_name = fight_ensamble_names[bout_ensamble_index]\n",
    "\n",
    "# prepare the colors for the scatters\n",
    "durs = ensamble_durations_mins[bout_ensamble_index]\n",
    "cols = cmap(norm(durs))\n",
    "sm =  ScalarMappable(norm=norm, cmap=cmap)\n",
    "#sm.set_array([])\n",
    "\n",
    "# get the prob differences for this ensamble\n",
    "losMan_minus_winMan = bout_list_losMan_minus_winMan[bout_ensamble_index]\n",
    "\n",
    "# sort the data low to high and similarly rearrange the colors\n",
    "sorted_data = losMan_minus_winMan[np.argsort(losMan_minus_winMan)]\n",
    "cols = cols[np.argsort(losMan_minus_winMan)]\n",
    "\n",
    "\n",
    "# prepare the y-axis data for cum probs\n",
    "N = len(sorted_data)\n",
    "y_data = np.arange(1,N+1)/N\n",
    "\n",
    "# plot the data\n",
    "ax = axs[bout_ensamble_index]\n",
    "\n",
    "# plot the bouts colored by duration\n",
    "for boutIdx in range(N):\n",
    "    ax.plot(sorted_data[boutIdx], y_data[boutIdx], c=cols[boutIdx], marker='o', alpha=1)\n",
    "\n",
    "# plot the lines joining the bouts\n",
    "ax.plot(sorted_data, y_data, c='black', linestyle='-', alpha=0.2)\n",
    "\n",
    "# set the axes limits\n",
    "ax.set_ylim(0,1)\n",
    "ax.set_xlim(np.min(sorted_data), np.max(sorted_data) )\n",
    "\n",
    "# draw the lines\n",
    "ax.axvline(0, linestyle='--',color='black', alpha=0.5)\n",
    "ax.axhline(y_tick_intercepts[bout_ensamble_index], alpha=0.5, linestyle='--',color='black')\n",
    "\n",
    "# set the ticks\n",
    "ax.set_xticks(xticks_list[bout_ensamble_index])\n",
    "ax.set_yticks(yticks_list[bout_ensamble_index])\n",
    "\n",
    "# set the colorbar\n",
    "cbar = fig.colorbar(sm, ax=ax)\n",
    "cbar.ax.set_title(\"duration [min]\")\n",
    "cbar.set_ticks([2.5,30])\n",
    "#cbar.set_ticklabels([mn,md,mx]\n",
    "\n",
    "\n",
    "ax.set_title(f'Cumulative distribution function \\n N={N} bouts {ensamble_name}')\n",
    "ax.set_ylabel('cumulative probability')\n",
    "ax.set_xlabel('P(loser maneuvers) - P(winner maneuvers)')\n",
    "\n",
    "\n",
    "\n",
    "\n",
    "\n",
    "    \n",
    "    \n",
    "fig.subplots_adjust(wspace=0.4)"
   ]
  },
  {
   "cell_type": "code",
   "execution_count": null,
   "id": "d3c5637b-8b8f-4dea-97dc-a73fa8e8dec9",
   "metadata": {},
   "outputs": [],
   "source": []
  },
  {
   "cell_type": "code",
   "execution_count": null,
   "id": "24986a48-af8f-4282-93c7-ab34a4d9b98a",
   "metadata": {},
   "outputs": [],
   "source": []
  },
  {
   "cell_type": "markdown",
   "id": "29b4c5b8-59d4-41f7-998c-9762a1082635",
   "metadata": {},
   "source": [
    "## paper version"
   ]
  },
  {
   "cell_type": "code",
   "execution_count": 258,
   "id": "11fd1d24-6fc5-4b91-9d04-766aee62f805",
   "metadata": {},
   "outputs": [
    {
     "data": {
      "text/plain": [
       "7.7"
      ]
     },
     "execution_count": 258,
     "metadata": {},
     "output_type": "execute_result"
    }
   ],
   "source": [
    "3.85*2"
   ]
  },
  {
   "cell_type": "code",
   "execution_count": 294,
   "id": "5ee0cf1d-4fc1-44b0-a593-c3a0567a964f",
   "metadata": {},
   "outputs": [
    {
     "data": {
      "application/vnd.jupyter.widget-view+json": {
       "model_id": "bfd4db4a62554c169e41c60be20e68e8",
       "version_major": 2,
       "version_minor": 0
      },
      "text/html": [
       "\n",
       "            <div style=\"display: inline-block;\">\n",
       "                <div class=\"jupyter-widgets widget-label\" style=\"text-align: center;\">\n",
       "                    Figure\n",
       "                </div>\n",
       "                <img src='data:image/png;base64,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' width=250.0/>\n",
       "            </div>\n",
       "        "
      ],
      "text/plain": [
       "Canvas(toolbar=Toolbar(toolitems=[('Home', 'Reset original view', 'home', 'home'), ('Back', 'Back to previous …"
      ]
     },
     "metadata": {},
     "output_type": "display_data"
    },
    {
     "data": {
      "application/vnd.jupyter.widget-view+json": {
       "model_id": "41817bd98fbc40259ee1748f1dad33e0",
       "version_major": 2,
       "version_minor": 0
      },
      "text/html": [
       "\n",
       "            <div style=\"display: inline-block;\">\n",
       "                <div class=\"jupyter-widgets widget-label\" style=\"text-align: center;\">\n",
       "                    Figure\n",
       "                </div>\n",
       "                <img src='data:image/png;base64,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' width=250.0/>\n",
       "            </div>\n",
       "        "
      ],
      "text/plain": [
       "Canvas(toolbar=Toolbar(toolitems=[('Home', 'Reset original view', 'home', 'home'), ('Back', 'Back to previous …"
      ]
     },
     "metadata": {},
     "output_type": "display_data"
    }
   ],
   "source": [
    "#  ---------- Two column plot -------------- #\n",
    "\n",
    "numEnsambles = len(fight_ensamble_names)\n",
    "\n",
    "xticks_list = [[np.min(bout_list_losMan_minus_winMan[0]), 0, np.max(bout_list_losMan_minus_winMan[0])],\n",
    "               [np.min(bout_list_losMan_minus_winMan[1]), 0, np.max(bout_list_losMan_minus_winMan[1])]\n",
    "              ]\n",
    "\n",
    "# I determined these simply by examining the plot.\n",
    "y_tick_intercepts = [0.325, 0.418]\n",
    "yticks_list = [[0, 1],\n",
    "               [0, 1]]\n",
    "\n",
    "\n",
    "# ----------------------------------------------------------------------------------------------------#\n",
    "\n",
    "fig, axs = plt.subplots(ncols=1, figsize=(2.5,1.8))\n",
    "ax = axs\n",
    "\n",
    "bout_ensamble_index = 0\n",
    "ensamble_name = fight_ensamble_names[bout_ensamble_index]\n",
    "\n",
    "# get the prob differences for this ensamble and sort low to high\n",
    "losMan_minus_winMan = bout_list_losMan_minus_winMan[bout_ensamble_index]\n",
    "sorted_data = np.sort(losMan_minus_winMan)\n",
    "\n",
    "# prepare the y-axis data for cum probs\n",
    "N = len(sorted_data)\n",
    "y_data = np.arange(1,N+1)/N\n",
    "\n",
    "# plot the data\n",
    "ax.plot(sorted_data, y_data, linestyle='-', marker='o', alpha=1, linewidth=0.9, markersize=3)\n",
    "\n",
    "# set the axes limits\n",
    "ax.set_ylim(0,1)\n",
    "ax.set_xlim(np.min(sorted_data), np.max(sorted_data) )\n",
    "\n",
    "# draw the lines\n",
    "ax.axvline(0, linestyle='--',color='black', linewidth=0.9, alpha=0.5)\n",
    "#ax.axhline(y_tick_intercepts[bout_ensamble_index], alpha=0.5, linestyle='--',color='black')\n",
    "\n",
    "# set the ticks\n",
    "ax.set_xticks(xticks_list[bout_ensamble_index])\n",
    "ax.set_yticks(yticks_list[bout_ensamble_index])\n",
    "\n",
    "ax.set_title('')\n",
    "ax.set_ylabel('')\n",
    "ax.set_xlabel('')\n",
    "ax.set_xticklabels([])\n",
    "ax.set_yticklabels([])\n",
    "\n",
    "ax.xaxis.set_tick_params(width=1, length=4)\n",
    "ax.yaxis.set_tick_params(width=1, length=4)\n",
    "for axis in ['top','bottom','left','right']:\n",
    "    ax.spines[axis].set_linewidth(1)\n",
    "\n",
    "fig.tight_layout()\n",
    "\n",
    "imsavepath = '/home/liam/temp/image_transfer/SI_fig7SI_A.png'\n",
    "fig.savefig(imsavepath, transparent=True, dpi=300)\n",
    "\n",
    "\n",
    "\n",
    "# ----------------------------------------------------------------------------------------------------#\n",
    "\n",
    "fig, axs = plt.subplots(ncols=1, figsize=(2.5,1.8))\n",
    "ax = axs\n",
    "\n",
    "bout_ensamble_index = 1\n",
    "ensamble_name = fight_ensamble_names[bout_ensamble_index]\n",
    "\n",
    "# get the prob differences for this ensamble and sort low to high\n",
    "losMan_minus_winMan = bout_list_losMan_minus_winMan[bout_ensamble_index]\n",
    "sorted_data = np.sort(losMan_minus_winMan)\n",
    "\n",
    "# prepare the y-axis data for cum probs\n",
    "N = len(sorted_data)\n",
    "y_data = np.arange(1,N+1)/N\n",
    "\n",
    "# plot the data\n",
    "ax.plot(sorted_data, y_data, linestyle='-', marker='o', alpha=1, linewidth=0.9, markersize=3)\n",
    "\n",
    "# set the axes limits\n",
    "ax.set_ylim(0,1)\n",
    "ax.set_xlim(np.min(sorted_data), np.max(sorted_data) )\n",
    "\n",
    "# draw the lines\n",
    "ax.axvline(0, linestyle='--', linewidth=0.9, color='black', alpha=0.5)\n",
    "#ax.axhline(y_tick_intercepts[bout_ensamble_index], alpha=0.5, linestyle='--',color='black')\n",
    "\n",
    "# set the ticks\n",
    "ax.set_xticks(xticks_list[bout_ensamble_index])\n",
    "ax.set_yticks(yticks_list[bout_ensamble_index])\n",
    "\n",
    "ax.set_title('')\n",
    "ax.set_ylabel('')\n",
    "ax.set_xlabel('')\n",
    "ax.set_xticklabels([])\n",
    "ax.set_yticklabels([])\n",
    "\n",
    "ax.xaxis.set_tick_params(width=1, length=4)\n",
    "ax.yaxis.set_tick_params(width=1, length=4)\n",
    "for axis in ['top','bottom','left','right']:\n",
    "    ax.spines[axis].set_linewidth(1)\n",
    "\n",
    "fig.tight_layout()\n",
    "\n",
    "imsavepath = '/home/liam/temp/image_transfer/SI_fig7SI_B.png'\n",
    "fig.savefig(imsavepath, transparent=True, dpi=300)\n"
   ]
  },
  {
   "cell_type": "code",
   "execution_count": null,
   "id": "d724d04c-41c5-495e-8fff-787a058575f5",
   "metadata": {},
   "outputs": [],
   "source": []
  },
  {
   "cell_type": "code",
   "execution_count": null,
   "id": "1c49fcf2-71c2-46c5-8599-d9f2ac183290",
   "metadata": {},
   "outputs": [],
   "source": []
  },
  {
   "cell_type": "code",
   "execution_count": null,
   "id": "0bfcc6f3-fa72-4516-b141-b687bf90c8ed",
   "metadata": {},
   "outputs": [],
   "source": []
  },
  {
   "cell_type": "code",
   "execution_count": null,
   "id": "2c5b8709-9422-475e-984f-7530e0b70f95",
   "metadata": {},
   "outputs": [],
   "source": []
  },
  {
   "cell_type": "code",
   "execution_count": null,
   "id": "f7a940a0-7030-48e7-a5a5-c4c41f40b95a",
   "metadata": {},
   "outputs": [],
   "source": []
  },
  {
   "cell_type": "markdown",
   "id": "75ba3a8c-6394-4f9b-8f5f-e55cdab92df4",
   "metadata": {},
   "source": [
    "## paper version with horizontal line"
   ]
  },
  {
   "cell_type": "code",
   "execution_count": null,
   "id": "77d631bc-aff5-4760-bde7-74750b3a4148",
   "metadata": {},
   "outputs": [],
   "source": []
  },
  {
   "cell_type": "code",
   "execution_count": 306,
   "id": "9e18c4b9-615d-4440-8406-7d323eae3720",
   "metadata": {},
   "outputs": [
    {
     "name": "stdout",
     "output_type": "stream",
     "text": [
      "0.2777777777777778\n",
      "0.3939393939393939\n"
     ]
    },
    {
     "data": {
      "application/vnd.jupyter.widget-view+json": {
       "model_id": "934860ffa381476ba1eeb29eb6048f75",
       "version_major": 2,
       "version_minor": 0
      },
      "text/html": [
       "\n",
       "            <div style=\"display: inline-block;\">\n",
       "                <div class=\"jupyter-widgets widget-label\" style=\"text-align: center;\">\n",
       "                    Figure\n",
       "                </div>\n",
       "                <img src='data:image/png;base64,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' width=250.0/>\n",
       "            </div>\n",
       "        "
      ],
      "text/plain": [
       "Canvas(toolbar=Toolbar(toolitems=[('Home', 'Reset original view', 'home', 'home'), ('Back', 'Back to previous …"
      ]
     },
     "metadata": {},
     "output_type": "display_data"
    },
    {
     "data": {
      "application/vnd.jupyter.widget-view+json": {
       "model_id": "04b09cdfa2334904afc3c18c60820915",
       "version_major": 2,
       "version_minor": 0
      },
      "text/html": [
       "\n",
       "            <div style=\"display: inline-block;\">\n",
       "                <div class=\"jupyter-widgets widget-label\" style=\"text-align: center;\">\n",
       "                    Figure\n",
       "                </div>\n",
       "                <img src='data:image/png;base64,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' width=250.0/>\n",
       "            </div>\n",
       "        "
      ],
      "text/plain": [
       "Canvas(toolbar=Toolbar(toolitems=[('Home', 'Reset original view', 'home', 'home'), ('Back', 'Back to previous …"
      ]
     },
     "metadata": {},
     "output_type": "display_data"
    }
   ],
   "source": [
    "#  ---------- Two column plot -------------- #\n",
    "\n",
    "numEnsambles = len(fight_ensamble_names)\n",
    "\n",
    "xticks_list = [[np.min(bout_list_losMan_minus_winMan[0]), 0, np.max(bout_list_losMan_minus_winMan[0])],\n",
    "               [np.min(bout_list_losMan_minus_winMan[1]), 0, np.max(bout_list_losMan_minus_winMan[1])]\n",
    "              ]\n",
    "\n",
    "last_negative_bout_idxs = [4, 12]\n",
    "\n",
    "\n",
    "\n",
    "# ----------------------------------------------------------------------------------------------------#\n",
    "\n",
    "fig, axs = plt.subplots(ncols=1, figsize=(2.5,1.8))\n",
    "ax = axs\n",
    "\n",
    "bout_ensamble_index = 0\n",
    "ensamble_name = fight_ensamble_names[bout_ensamble_index]\n",
    "last_negative_bout_idx = last_negative_bout_idxs[bout_ensamble_index]\n",
    "\n",
    "# get the prob differences for this ensamble and sort low to high\n",
    "losMan_minus_winMan = bout_list_losMan_minus_winMan[bout_ensamble_index]\n",
    "sorted_data = np.sort(losMan_minus_winMan)\n",
    "\n",
    "# prepare the y-axis data for cum probs\n",
    "N = len(sorted_data)\n",
    "y_data = np.arange(1,N+1)/N\n",
    "\n",
    "# plot the data\n",
    "ax.plot(sorted_data, y_data, linestyle='-', marker='o', alpha=1, linewidth=0.9, markersize=3)\n",
    "\n",
    "# set the axes limits\n",
    "ax.set_ylim(0,1)\n",
    "ax.set_xlim(np.min(sorted_data), np.max(sorted_data) )\n",
    "\n",
    "# draw the lines\n",
    "ax.axvline(0, linestyle='--',color='black', linewidth=0.9, alpha=0.5)\n",
    "ax.axhline(y_data[last_negative_bout_idx], alpha=0.5, linewidth=0.9, linestyle='--',color='black')\n",
    "print(y_data[last_negative_bout_idx])\n",
    "\n",
    "# set the ticks\n",
    "ax.set_xticks(xticks_list[bout_ensamble_index])\n",
    "ax.set_yticks([0, y_data[last_negative_bout_idx], 1] )\n",
    "\n",
    "ax.set_title('')\n",
    "ax.set_ylabel('')\n",
    "ax.set_xlabel('')\n",
    "ax.set_xticklabels([])\n",
    "ax.set_yticklabels([])\n",
    "\n",
    "ax.xaxis.set_tick_params(width=1, length=4)\n",
    "ax.yaxis.set_tick_params(width=1, length=4)\n",
    "for axis in ['top','bottom','left','right']:\n",
    "    ax.spines[axis].set_linewidth(1)\n",
    "\n",
    "fig.tight_layout()\n",
    "\n",
    "imsavepath = '/home/liam/temp/image_transfer/SI_fig7SI_A_v2.png'\n",
    "fig.savefig(imsavepath, transparent=True, dpi=300)\n",
    "\n",
    "\n",
    "\n",
    "# ----------------------------------------------------------------------------------------------------#\n",
    "\n",
    "fig, axs = plt.subplots(ncols=1, figsize=(2.5,1.8))\n",
    "ax = axs\n",
    "\n",
    "bout_ensamble_index = 1\n",
    "ensamble_name = fight_ensamble_names[bout_ensamble_index]\n",
    "last_negative_bout_idx = last_negative_bout_idxs[bout_ensamble_index]\n",
    "\n",
    "# get the prob differences for this ensamble and sort low to high\n",
    "losMan_minus_winMan = bout_list_losMan_minus_winMan[bout_ensamble_index]\n",
    "sorted_data = np.sort(losMan_minus_winMan)\n",
    "\n",
    "# prepare the y-axis data for cum probs\n",
    "N = len(sorted_data)\n",
    "y_data = np.arange(1,N+1)/N\n",
    "\n",
    "# plot the data\n",
    "ax.plot(sorted_data, y_data, linestyle='-', marker='o', alpha=1, linewidth=0.9, markersize=3)\n",
    "\n",
    "# set the axes limits\n",
    "ax.set_ylim(0,1)\n",
    "ax.set_xlim(np.min(sorted_data), np.max(sorted_data) )\n",
    "\n",
    "# draw the lines\n",
    "ax.axvline(0, linestyle='--',color='black', linewidth=0.9, alpha=0.5)\n",
    "ax.axhline(y_data[last_negative_bout_idx], alpha=0.5, linewidth=0.9, linestyle='--',color='black')\n",
    "print(y_data[last_negative_bout_idx])\n",
    "\n",
    "# set the ticks\n",
    "ax.set_xticks(xticks_list[bout_ensamble_index])\n",
    "ax.set_yticks([0, y_data[last_negative_bout_idx], 1] )\n",
    "\n",
    "ax.set_title('')\n",
    "ax.set_ylabel('')\n",
    "ax.set_xlabel('')\n",
    "ax.set_xticklabels([])\n",
    "ax.set_yticklabels([])\n",
    "\n",
    "ax.xaxis.set_tick_params(width=1, length=4)\n",
    "ax.yaxis.set_tick_params(width=1, length=4)\n",
    "for axis in ['top','bottom','left','right']:\n",
    "    ax.spines[axis].set_linewidth(1)\n",
    "\n",
    "fig.tight_layout()\n",
    "\n",
    "imsavepath = '/home/liam/temp/image_transfer/SI_fig7SI_B_v2.png'\n",
    "fig.savefig(imsavepath, transparent=True, dpi=300)\n"
   ]
  },
  {
   "cell_type": "code",
   "execution_count": null,
   "id": "d1ff58c7-9577-4d02-8a3f-d1dd00e6052d",
   "metadata": {},
   "outputs": [],
   "source": []
  },
  {
   "cell_type": "code",
   "execution_count": null,
   "id": "786c2ee9-e65e-42a0-ae78-20fe790907cf",
   "metadata": {},
   "outputs": [],
   "source": []
  },
  {
   "cell_type": "markdown",
   "id": "c7d020f1-bb10-4d8e-8d50-ea7c22072800",
   "metadata": {},
   "source": [
    "## bootstrapping the P(pos)"
   ]
  },
  {
   "cell_type": "markdown",
   "id": "d2886b0b-c71c-4b86-a586-390c83f8fe3d",
   "metadata": {},
   "source": [
    "We are going to bootstrap over bouts"
   ]
  },
  {
   "cell_type": "code",
   "execution_count": 307,
   "id": "19e2ad61-9386-4cb3-b01b-6f4738a29886",
   "metadata": {},
   "outputs": [
    {
     "data": {
      "text/plain": [
       "[array([ 0.03780357,  0.02397423,  0.11289276,  0.02076663, -0.20160561,\n",
       "         0.08036299,  0.00634396,  0.05191831,  0.04074464,  0.17454966,\n",
       "        -0.09021749,  0.08771089,  0.12648795,  0.22047894, -0.17700454,\n",
       "         0.01836467, -0.05742919, -0.03857567]),\n",
       " array([-0.32164855, -0.07950936,  0.03780357,  0.02136792,  0.03831286,\n",
       "         0.02397423, -0.2165141 ,  0.11289276,  0.13623463,  0.02076663,\n",
       "        -0.20160561, -0.12042827,  0.05223945,  0.08036299,  0.00634396,\n",
       "         0.05191831, -0.16730837,  0.04074464,  0.17454966, -0.09021749,\n",
       "         0.08771089, -0.17584586,  0.12648795,  0.22047894, -0.17700454,\n",
       "        -0.05412682,  0.05294016, -0.02943468,  0.01836467,  0.03447199,\n",
       "        -0.05742919, -0.03857567,  0.04116016])]"
      ]
     },
     "execution_count": 307,
     "metadata": {},
     "output_type": "execute_result"
    }
   ],
   "source": [
    "bout_list_losMan_minus_winMan"
   ]
  },
  {
   "cell_type": "code",
   "execution_count": null,
   "id": "2b5fc70f-56e2-45a6-bb15-bf5a7fe20d7a",
   "metadata": {},
   "outputs": [],
   "source": []
  },
  {
   "cell_type": "code",
   "execution_count": null,
   "id": "f89bc531-f72c-445f-b9b6-439723e226b5",
   "metadata": {},
   "outputs": [],
   "source": []
  },
  {
   "cell_type": "code",
   "execution_count": 321,
   "id": "b68b9335-a2d8-4a89-8b6c-46c1e4b918f8",
   "metadata": {},
   "outputs": [
    {
     "data": {
      "text/plain": [
       "[0.7222222222222222, 0.6060606060606061]"
      ]
     },
     "execution_count": 321,
     "metadata": {},
     "output_type": "execute_result"
    }
   ],
   "source": [
    "# --------- means --------- #\n",
    "ensamble_mean_p_pos = []\n",
    "\n",
    "for ensambleIdx in range(len(bout_list_losMan_minus_winMan)):\n",
    "    ensamble_bout_prob_diffs = bout_list_losMan_minus_winMan[ensambleIdx]\n",
    "    ensamble_num_pos_bouts = ensamble_bout_prob_diffs[ensamble_bout_prob_diffs>0].shape[0]\n",
    "    ensamble_p_pos = ensamble_num_pos_bouts/ensamble_bout_prob_diffs.shape[0]\n",
    "    ensamble_mean_p_pos.append(ensamble_p_pos)\n",
    "\n",
    "ensamble_mean_p_pos"
   ]
  },
  {
   "cell_type": "code",
   "execution_count": null,
   "id": "20de3a5e-27c9-40ed-ba74-c68d0162ec51",
   "metadata": {},
   "outputs": [],
   "source": []
  },
  {
   "cell_type": "code",
   "execution_count": 332,
   "id": "1d7b63e1-9031-48b1-bf77-799c1ee58a99",
   "metadata": {},
   "outputs": [
    {
     "data": {
      "text/plain": [
       "[0.10514209961338565, 0.0824028437017664]"
      ]
     },
     "execution_count": 332,
     "metadata": {},
     "output_type": "execute_result"
    }
   ],
   "source": [
    "# ----------------------- bootstrap ------------------------------#\n",
    "t0 = time.perf_counter()\n",
    "\n",
    "\n",
    "# args\n",
    "confidence_interval=95\n",
    "n_resamples=1000\n",
    "per=(100-confidence_interval)/2\n",
    "\n",
    "ensamble_err_p_pos = []\n",
    "\n",
    "\n",
    "\n",
    "panelA_resamples_prob_pos = []\n",
    "ensamble_bout_prob_diffs = bout_list_losMan_minus_winMan[0]\n",
    "for i in range(n_resamples):\n",
    "    # the number of bouts we have access to\n",
    "    numSamples = ensamble_bout_prob_diffs.shape[0] \n",
    "    #  get the bout indices for this resample \n",
    "    indices=np.random.choice(range(0,numSamples), numSamples)\n",
    "    # gather the data for this resampling\n",
    "    sample_bout_prob_diffs = np.zeros_like(ensamble_bout_prob_diffs)*np.NaN\n",
    "    for idx,boutIdx in enumerate(indices):\n",
    "        sample_bout_prob_diffs[idx] = ensamble_bout_prob_diffs[boutIdx]\n",
    "    # get the positive probability for the sample\n",
    "    sample_num_pos_bouts = sample_bout_prob_diffs[sample_bout_prob_diffs>+0].shape[0]\n",
    "    sample_p_pos = (sample_num_pos_bouts/numSamples)\n",
    "    # record\n",
    "    panelA_resamples_prob_pos.append(sample_p_pos)\n",
    "# turn into array\n",
    "panelA_resamples_prob_pos = np.array(panelA_resamples_prob_pos)\n",
    "# get the standard deviation of distribution of means\n",
    "bootstrap_std_panelA_prob_pos = np.std(panelA_resamples_prob_pos, axis=0)\n",
    "ensamble_err_p_pos.append(bootstrap_std_panelA_prob_pos)\n",
    "\n",
    "\n",
    "panelB_resamples_prob_pos = []\n",
    "ensamble_bout_prob_diffs = bout_list_losMan_minus_winMan[1]\n",
    "for i in range(n_resamples):\n",
    "    # the number of bouts we have access to\n",
    "    numSamples = ensamble_bout_prob_diffs.shape[0] \n",
    "    #  get the bout indices for this resample \n",
    "    indices=np.random.choice(range(0,numSamples), numSamples)\n",
    "    # gather the data for this resampling\n",
    "    sample_bout_prob_diffs = np.zeros_like(ensamble_bout_prob_diffs)*np.NaN\n",
    "    for idx,boutIdx in enumerate(indices):\n",
    "        sample_bout_prob_diffs[idx] = ensamble_bout_prob_diffs[boutIdx]\n",
    "    # get the positive probability for the sample\n",
    "    sample_num_pos_bouts = sample_bout_prob_diffs[sample_bout_prob_diffs>+0].shape[0]\n",
    "    sample_p_pos = (sample_num_pos_bouts/numSamples)\n",
    "    # record\n",
    "    panelB_resamples_prob_pos.append(sample_p_pos)\n",
    "# turn into array\n",
    "panelB_resamples_prob_pos = np.array(panelB_resamples_prob_pos)\n",
    "# get the standard deviation of distribution of means\n",
    "bootstrap_std_panelB_prob_pos = np.std(panelB_resamples_prob_pos, axis=0)\n",
    "ensamble_err_p_pos.append(bootstrap_std_panelB_prob_pos)      \n",
    "\n",
    "\n",
    "\n",
    "ensamble_err_p_pos"
   ]
  },
  {
   "cell_type": "code",
   "execution_count": null,
   "id": "b67fcf6e-48b3-4655-9897-438b608664af",
   "metadata": {},
   "outputs": [],
   "source": []
  },
  {
   "cell_type": "code",
   "execution_count": 333,
   "id": "66094f0e-b2f2-43ce-aff1-ad075b63ecfa",
   "metadata": {},
   "outputs": [
    {
     "data": {
      "text/plain": [
       "[0.7222222222222222, 0.6060606060606061]"
      ]
     },
     "execution_count": 333,
     "metadata": {},
     "output_type": "execute_result"
    }
   ],
   "source": [
    "ensamble_mean_p_pos"
   ]
  },
  {
   "cell_type": "code",
   "execution_count": 334,
   "id": "a68049d5-fcdc-4c89-9dab-1b11e046071c",
   "metadata": {},
   "outputs": [
    {
     "data": {
      "text/plain": [
       "[0.10514209961338565, 0.0824028437017664]"
      ]
     },
     "execution_count": 334,
     "metadata": {},
     "output_type": "execute_result"
    }
   ],
   "source": [
    "ensamble_err_p_pos"
   ]
  },
  {
   "cell_type": "code",
   "execution_count": null,
   "id": "78bab34d-f619-4550-920f-11e107155c63",
   "metadata": {},
   "outputs": [],
   "source": []
  },
  {
   "cell_type": "code",
   "execution_count": null,
   "id": "005c3fc3-039b-4cb0-97c2-2aec5222b6b9",
   "metadata": {},
   "outputs": [],
   "source": [
    "0.72 \\pm 0.11"
   ]
  },
  {
   "cell_type": "code",
   "execution_count": 336,
   "id": "938ca084-40f7-4106-899d-67e8c2389a0c",
   "metadata": {},
   "outputs": [],
   "source": [
    "0.61 \\pm 0.08"
   ]
  },
  {
   "cell_type": "code",
   "execution_count": null,
   "id": "546f8725-26f4-42e1-b5ce-8a6dc0ff3e16",
   "metadata": {},
   "outputs": [],
   "source": []
  },
  {
   "cell_type": "code",
   "execution_count": null,
   "id": "7bdca7e2-8c58-4495-908d-2a7898626dbc",
   "metadata": {},
   "outputs": [],
   "source": []
  },
  {
   "cell_type": "code",
   "execution_count": null,
   "id": "e3b8ead3-9914-4ca4-a535-b4e2fc43e3d7",
   "metadata": {},
   "outputs": [],
   "source": []
  }
 ],
 "metadata": {
  "kernelspec": {
   "display_name": "analysis",
   "language": "python",
   "name": "analysis"
  },
  "language_info": {
   "codemirror_mode": {
    "name": "ipython",
    "version": 3
   },
   "file_extension": ".py",
   "mimetype": "text/x-python",
   "name": "python",
   "nbconvert_exporter": "python",
   "pygments_lexer": "ipython3",
   "version": "3.9.7"
  }
 },
 "nbformat": 4,
 "nbformat_minor": 5
}

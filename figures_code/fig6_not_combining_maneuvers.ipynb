{
 "cells": [
  {
   "cell_type": "code",
   "execution_count": null,
   "id": "8dce474b-ff82-45f8-8d31-601d5e217bf3",
   "metadata": {},
   "outputs": [],
   "source": []
  },
  {
   "cell_type": "markdown",
   "id": "a06ad90c-9492-45f0-8c33-97b2c2e15f47",
   "metadata": {},
   "source": [
    "# Notes"
   ]
  },
  {
   "cell_type": "markdown",
   "id": "9248323f-781d-42ec-98cc-5eff0ae03ce4",
   "metadata": {},
   "source": [
    "This notebook is exploratory, and not in the paper.\n",
    "The question - what happens if we don't combine attacks and approaches in the new version of figure 6 B?"
   ]
  },
  {
   "cell_type": "code",
   "execution_count": null,
   "id": "3e91f8af-6e77-47c7-9c61-b80df90ef29e",
   "metadata": {},
   "outputs": [],
   "source": []
  },
  {
   "cell_type": "code",
   "execution_count": null,
   "id": "f47abab5-a698-41ee-8d58-d13cd72fc59c",
   "metadata": {},
   "outputs": [],
   "source": []
  },
  {
   "cell_type": "markdown",
   "id": "0b7a9bb6-1767-41e8-92dc-fddd198bce9e",
   "metadata": {},
   "source": [
    "# Imports"
   ]
  },
  {
   "cell_type": "code",
   "execution_count": 3,
   "id": "0ffc9353-7621-4809-8238-000f55235c2a",
   "metadata": {},
   "outputs": [
    {
     "name": "stdout",
     "output_type": "stream",
     "text": [
      "The autoreload extension is already loaded. To reload it, use:\n",
      "  %reload_ext autoreload\n"
     ]
    }
   ],
   "source": [
    "import numpy as np\n",
    "np.set_printoptions(suppress=True)\n",
    "import h5py\n",
    "import time\n",
    "import glob\n",
    "import pandas as pd\n",
    "import matplotlib.pyplot as plt\n",
    "import seaborn as sns\n",
    "import os\n",
    "import sys\n",
    "%matplotlib widget\n",
    "%load_ext autoreload\n",
    "%autoreload 2\n",
    "\n",
    "# --- import functions for computing kinematic variables --- #\n",
    "sys.path.append('../tracking_code/lib/')\n",
    "sys.path.append('./lib/')\n",
    "from post_processing import contiguous_regions"
   ]
  },
  {
   "cell_type": "code",
   "execution_count": null,
   "id": "038d254d-0e40-468f-8d2f-20a16e5a2340",
   "metadata": {},
   "outputs": [],
   "source": []
  },
  {
   "cell_type": "code",
   "execution_count": null,
   "id": "021ce29f-a439-4cfb-8d8e-687b7f6d1825",
   "metadata": {},
   "outputs": [],
   "source": []
  },
  {
   "cell_type": "markdown",
   "id": "e30d0a2e-1a41-473c-ba47-465bb8ceeb55",
   "metadata": {},
   "source": [
    "# Functions "
   ]
  },
  {
   "cell_type": "code",
   "execution_count": 4,
   "id": "f5cbdd2d-6e04-47f3-9295-b9f1f9628a31",
   "metadata": {},
   "outputs": [],
   "source": [
    "def return_state_probabilities_from_state_tseries(state_tseries, numLabelledStates):\n",
    "    ''' Return the probabilities of each state in the state_tseries. \n",
    "        Each value in state_tseries is between 0 and numLabelledStates-1, or NaN,\n",
    "        or -1 if it was belonging to another cluster (nonlabelled cluster)\n",
    "        Return the probability of each state as a vector, with the last entry being prob\n",
    "        of another cluster, and NaN data excluded.\n",
    "    \n",
    "    --- args ---\n",
    "    state_tseries: a 1D timeseries of cluster indexes, starting from -1,  \n",
    "                   Can contains NaNs.\n",
    "    numLabelledStates: the number of state indices that should appear in state_tseries.\n",
    "                       Pass this in case no values are found for some indices, in which\n",
    "                       case we know how many zero probabilities to return.\n",
    "               \n",
    "    --- returns ---\n",
    "    state_probs: 1D array of shape (numLabelledStates+1,), containing the probability of \n",
    "                 each cluster idx and lastly the probability of nonlabelled clusters\n",
    "    '''\n",
    "    # add one state for -1 (nonlabelled cluster)\n",
    "    numStates = numLabelledStates + 1\n",
    "    # preallocate the output\n",
    "    state_probs = np.zeros((numStates,))\n",
    "    #  find the number of frames in total excluding NaN frames\n",
    "    state_tseries_nanless = state_tseries[~np.isnan(state_tseries)]\n",
    "    numFrames = state_tseries_nanless.shape[0]\n",
    "    # if we have no non-nan frames, all probs are zero except the last\n",
    "    if numFrames == 0:\n",
    "        return state_probs\n",
    "    else:\n",
    "        # first compute main states probs\n",
    "        for stateIdx in range(numLabelledStates):\n",
    "            state_counts = np.where(state_tseries_nanless==stateIdx)[0].shape[0]\n",
    "            state_probs[stateIdx] = state_counts / numFrames\n",
    "        # now add the final NaN probability\n",
    "        other_state_counts = np.where(state_tseries_nanless==-1)[0].shape[0]\n",
    "        state_probs[-1] = other_state_counts / numFrames\n",
    "        return state_probs\n",
    "\n",
    "\n",
    "    \n",
    "def compute_state_probabilities_in_time_windows(state_tseries, time_windows, numLabelledStates):\n",
    "    ''' Compute the probability of each of the state indices in state_tseries, in\n",
    "        each of the windows in time_windows.\n",
    "    \n",
    "    --- args ---\n",
    "    state_tseries: a 1D timeseries of cluster indexes, starting from 0 to (numLabelledClusters-1)\n",
    "                   for the labelled states, -1 for all nonlabelled states, and NaN for missing data.\n",
    "    time_windows: array of shape (numWins,2), where each row contains a start frame\n",
    "                  and a stop frame which define a region in time. The probabilities\n",
    "                  are estimated in each of these regions in time.\n",
    "    numLabelledStates: the number of state indices that should appear in state_tseries.\n",
    "                       Pass this in case no values are found for some indices, in which\n",
    "                       case we know how many zero probabilities to return.\n",
    "               \n",
    "    --- returns ---\n",
    "    window_state_probabilities: a (numWinds, numLabelledStates+1) array containing the \n",
    "                                probability of each cluster idx and lastly the probability of \n",
    "                                nonlabelled cluster occuring. \n",
    "                                \n",
    "    --- see also ---\n",
    "    return_state_probabilities_from_state_tseries: \n",
    "    the function which does the main computation in each time window.\n",
    "    \n",
    "    '''\n",
    "    numWins = time_windows.shape[0]\n",
    "    window_state_probabilities = np.zeros((numWins, numLabelledStates+1)) # plus1 for the nonlabelled states\n",
    "    for winIdx in range(numWins):\n",
    "        w0,wE = time_windows[winIdx]\n",
    "        win_data = state_tseries[w0:wE]\n",
    "        win_state_probs = return_state_probabilities_from_state_tseries(win_data, numLabelledStates)\n",
    "        window_state_probabilities[winIdx] = win_state_probs\n",
    "    return window_state_probabilities"
   ]
  },
  {
   "cell_type": "code",
   "execution_count": 5,
   "id": "d3604225-ea0f-4ec2-b9d6-294ee608de9e",
   "metadata": {},
   "outputs": [],
   "source": [
    "def return_region_win_state_probs(region_data, all_exp_window_state_probabilities, all_exp_time_windows, all_exp_numFrames):\n",
    "    ''' Return the list over fight-bouts, containing the windowed state probabilities for the chosen region.\n",
    "    \n",
    "    --- args ---\n",
    "    region_data: array (numBouts,3), where first col is exp idxs, 2nd and 3rd cols are the start/stop\n",
    "                 frames of certain regions, e.g. 3 mins before a fightbout.\n",
    "    \n",
    "    all_exp_window_state_probabilities: the list over experiments, containing the windowed state probability of\n",
    "                                        infomap clusters, e.g. each element of the list is a (numWins, 11) array,\n",
    "                                        where 11 is the number of states and state vals sum to 1.\n",
    "                                        \n",
    "    all_exp_time_windows: the list over experiments, with elements being the time windows associated with the \n",
    "                          state probabilities in all_exp_window_state_probabilities.\n",
    "                          \n",
    "    all_exp_numFrames: a list over experiments containing the number of frames in each experiment.\n",
    "                          \n",
    "    --- return ---\n",
    "    exps_region_win_state_probs: a list over fight bouts, where each element is a (numRegionWins,numStates) array\n",
    "                                 of state proabilities for windows during the chosen region for a particular fight bout.\n",
    "                                 \n",
    "    --- see also ---\n",
    "    find_time_window_indices_bounding_start_and_stop_frame()\n",
    "    \n",
    "    '''\n",
    "    #exps_region_time_wins = []\n",
    "    exps_region_win_state_probs = []\n",
    "\n",
    "    skipped_bIdxs = []\n",
    "    for bIdx in range(region_data.shape[0]):\n",
    "        expIdx, t0, tE = region_data[bIdx]\n",
    "        \n",
    "        # if t0 is negative, exclude this fight bout\n",
    "        # if tE is greater than the number of frames in the experiment, exclude fight bout\n",
    "        if t0 < 0:\n",
    "            skipped_bIdxs.append(bIdx)\n",
    "            continue\n",
    "        expnfs = expNumFrames[expIdx]\n",
    "        if tE > expnfs:\n",
    "            skipped_bIdxs.append(bIdx)\n",
    "            continue\n",
    "\n",
    "        exp_win_state_probs = all_exp_window_state_probabilities[expIdx]\n",
    "        exp_time_wins = all_exp_time_windows[expIdx]\n",
    "\n",
    "        desired_first_win_idx, desired_last_win_idx = find_time_window_indices_bounding_start_and_stop_frame(exp_time_wins, \n",
    "                                                                                                             t0, tE)\n",
    "\n",
    "        #region_time_wins = exp_time_wins[desired_first_win_idx:desired_last_win_idx+1, :] #+1 to get the last win\n",
    "        region_win_state_probs = np.copy(exp_win_state_probs[desired_first_win_idx:desired_last_win_idx+1, :])\n",
    "\n",
    "        #exps_region_time_wins.append(region_time_wins)\n",
    "        exps_region_win_state_probs.append(region_win_state_probs)\n",
    "    \n",
    "    \n",
    "    return exps_region_win_state_probs\n",
    "\n",
    "\n",
    "def find_time_window_indices_bounding_start_and_stop_frame(time_windows, startFrame, stopFrame):\n",
    "    ''' Return the time window indices of which bound the startFrame and stopFrame.\n",
    "    \n",
    "    The idea is to allow for the parsing of time_windows, to choose only windows that contain\n",
    "    no contributions for timepoints outside of the interval [startFrame, stopFrame]\n",
    "    \n",
    "    --- Example ---\n",
    "    time_windows = np.array([[     0,   6000],\n",
    "                            [   100,   6100],\n",
    "                            [   200,   6200],\n",
    "                            ...,\n",
    "                            [711600, 717600],\n",
    "                            [711700, 717700],\n",
    "                            [711800, 717800]])\n",
    "    startFrame = 36000\n",
    "    stopFrame = 66000\n",
    "                       \n",
    "    desired_first_win_idx, desired_first_win_idx = f(time_windows, startFrame, stopFrame)\n",
    "    time_windows[desired_first_win_idx] = array([36000, 42000])\n",
    "    time_windows[desired_last_win_idx] = array([60000, 66000])                  \n",
    "    \n",
    "    -- returns --\n",
    "    desired_first_win_idx, desired_first_win_idx: int, int\n",
    "    \n",
    "    '''\n",
    "    desired_first_win_idx = np.where(time_windows[:,0] >= startFrame)[0][0]\n",
    "    \n",
    "    \n",
    "    # for the end window, we need to do a check to make sure stopFrame is not\n",
    "    # beyond our windows\n",
    "    \n",
    "    # if tE is beyond the end of the last window, use the last window\n",
    "    if time_windows[:,1][-1] <= stopFrame:\n",
    "        desired_last_win_idx = time_windows.shape[0] - 1\n",
    "    # otherwise find the first window beyond tE\n",
    "    else:\n",
    "        desired_last_win_idx = np.where(time_windows[:,1] >= stopFrame)[0][0]\n",
    "    return desired_first_win_idx, desired_last_win_idx\n",
    "\n",
    "\n",
    "\n",
    "def return_overlapping_windows_for_timeframes(numFrames, window_size=200, window_step=50):\n",
    "    ''' Given a number of frames, return an 2D array of window start-stop frames.\n",
    "    '''\n",
    "    # define, for clarity, the first window\n",
    "    win0_start = 0\n",
    "    win0_mid = int(window_size/2)\n",
    "    win0_end = int(window_size)\n",
    "\n",
    "    # find numWindows, by adding incrementally and watching the last frame\n",
    "    last_frame_in_windows = win0_end\n",
    "    numWindows = 1\n",
    "    while last_frame_in_windows < (numFrames - window_step):\n",
    "        numWindows += 1\n",
    "        last_frame_in_windows = win0_end + (numWindows-1)*window_step\n",
    "\n",
    "    # now fill-in the windows array of frame indices\n",
    "    windows = np.zeros((numWindows, 2))\n",
    "    windows[0, 0] = 0\n",
    "    windows[0, 1] = win0_end\n",
    "    for winIdx in range(1, numWindows):\n",
    "        w0 = winIdx*window_step\n",
    "        wF = w0 + window_size\n",
    "        windows[winIdx, 0] = w0\n",
    "        windows[winIdx, 1] = wF\n",
    "    return windows.astype(int)"
   ]
  },
  {
   "cell_type": "code",
   "execution_count": null,
   "id": "4a3f16a7-8d95-49a7-b61a-08b58dd1ee35",
   "metadata": {},
   "outputs": [],
   "source": []
  },
  {
   "cell_type": "code",
   "execution_count": null,
   "id": "b433d0fd-d176-4342-94b3-a82de654a304",
   "metadata": {},
   "outputs": [],
   "source": []
  },
  {
   "cell_type": "code",
   "execution_count": null,
   "id": "c9e4d905-38ea-4388-9478-1dfaf04f0f83",
   "metadata": {},
   "outputs": [],
   "source": []
  },
  {
   "cell_type": "code",
   "execution_count": null,
   "id": "f8c2c67d-d0a5-4306-a8de-123246dd396a",
   "metadata": {},
   "outputs": [],
   "source": []
  },
  {
   "cell_type": "markdown",
   "id": "b18834f3-9b81-4857-930a-1be269f4a3a6",
   "metadata": {},
   "source": [
    "# load the tracking data"
   ]
  },
  {
   "cell_type": "code",
   "execution_count": null,
   "id": "a801f802-708e-46ad-b624-f54528e9ba60",
   "metadata": {},
   "outputs": [],
   "source": []
  },
  {
   "cell_type": "code",
   "execution_count": 6,
   "id": "1a230372-ee0f-4866-8599-ae624503ce04",
   "metadata": {},
   "outputs": [],
   "source": [
    "main_load_folder = '/media/liam/hd1/fighting_data/tracking_results/'\n",
    "\n",
    "# ----------------------#\n",
    "\n",
    "interp_polyOrd=1  # the order of the polynomial used for interpolation\n",
    "interp_limit=5    # the maximum number of frames to interpolate over\n",
    "savgol_win=9      # the number of frames for the Savitzky-Golay filter\n",
    "savgol_ord=2      # the polynomial order for the Savitzky-Golay filter\n",
    "dt=0.01           # the frame rate of the recording\n",
    "\n",
    "\n",
    "# the filepaths for loading the infomap timeseries data we need\n",
    "infomap_data_loadpath = os.path.join( os.path.dirname(os.path.dirname(main_load_folder)) , \n",
    "                                      'infomap_data/transmat_and_infomap.h5')\n",
    "\n",
    "# the path for loading the fightbout info\n",
    "fightBouts_info_path = os.path.join(main_load_folder, 'fightBouts.h5')\n",
    "\n",
    "\n",
    "# -----------------------#\n",
    "\n",
    "loadpaths = glob.glob(os.path.join(main_load_folder, '*results.h5'))\n",
    "loadpaths.sort()\n",
    "\n",
    "# parse the exp names\n",
    "expNames = [path.split('/')[-1][:23] for path in loadpaths]\n",
    "\n",
    "\n",
    "raw_trajectories = []\n",
    "for path in loadpaths:\n",
    "    with h5py.File(path, 'r') as hf:\n",
    "        tracks_3D_raw = hf['tracks_3D_raw'][:]\n",
    "    raw_trajectories.append(tracks_3D_raw)\n",
    "\n",
    "smooth_trajectories = []\n",
    "for path in loadpaths:\n",
    "    with h5py.File(path, 'r') as hf:\n",
    "        tracks_3D_smooth = hf['tracks_3D_smooth'][:]\n",
    "    smooth_trajectories.append(tracks_3D_smooth)\n",
    "    \n",
    "    \n",
    "# create a list of the number of frames in each experiment\n",
    "expNumFrames = []\n",
    "for expIdx in range(len(expNames)):\n",
    "    nfs = smooth_trajectories[expIdx].shape[0]\n",
    "    expNumFrames.append(nfs)\n",
    "    \n",
    "# -----------------------------#\n",
    "# load other useful information\n",
    "    \n",
    "other_info_loadpath = os.path.join(main_load_folder, 'winners_losers_inconclusive.h5')\n",
    "with h5py.File(other_info_loadpath, 'r') as hf:\n",
    "    winner_idxs = hf['winner_idxs'][:]\n",
    "    loser_idxs = hf['loser_idxs'][:]\n",
    "    conclusive_winner_loser = hf['conclusive_winner_loser'][:]\n",
    "    already_established_dominance = hf['already_established_dominance'][:]\n",
    "\n",
    "with h5py.File(fightBouts_info_path, 'r') as hf:\n",
    "    fight_bout_info = hf['fight_bout_info'][:]\n",
    "    fight_bout_info_noDurThresh = hf['fight_bout_info_noDurThresh'][:]\n"
   ]
  },
  {
   "cell_type": "code",
   "execution_count": null,
   "id": "c37e0758-25f8-4fff-bfad-f395691f4ea4",
   "metadata": {},
   "outputs": [],
   "source": []
  },
  {
   "cell_type": "code",
   "execution_count": null,
   "id": "71191c8f-9357-4735-87a5-3e3910c8447b",
   "metadata": {},
   "outputs": [],
   "source": []
  },
  {
   "cell_type": "code",
   "execution_count": null,
   "id": "a7279cc0-5d59-4550-bc43-c1b45588eef7",
   "metadata": {},
   "outputs": [],
   "source": []
  },
  {
   "cell_type": "code",
   "execution_count": null,
   "id": "bb074f70-5a8f-4b63-97bf-c5c16c7a1d5b",
   "metadata": {},
   "outputs": [],
   "source": []
  },
  {
   "cell_type": "code",
   "execution_count": null,
   "id": "5ef5b0aa-bcb8-4e58-ac61-f23e08c93170",
   "metadata": {},
   "outputs": [],
   "source": []
  },
  {
   "cell_type": "code",
   "execution_count": null,
   "id": "ec98a1be-0502-468e-abf1-da41ed6bf119",
   "metadata": {},
   "outputs": [],
   "source": []
  },
  {
   "cell_type": "code",
   "execution_count": null,
   "id": "f4112043-c61e-46cc-be04-fe1ebf739122",
   "metadata": {},
   "outputs": [],
   "source": []
  },
  {
   "cell_type": "markdown",
   "id": "5aa8657e-f1db-4f6b-9b17-6cf7064a7db7",
   "metadata": {},
   "source": [
    "# load the post-processed tseries of infomap cluster idxs"
   ]
  },
  {
   "cell_type": "code",
   "execution_count": null,
   "id": "4768dd1e-73e8-4111-ba93-1951528952ab",
   "metadata": {},
   "outputs": [],
   "source": []
  },
  {
   "cell_type": "code",
   "execution_count": 7,
   "id": "283fbeed-93a8-4524-9d21-d9029a4b7fa4",
   "metadata": {},
   "outputs": [
    {
     "data": {
      "text/plain": [
       "(16044324,)"
      ]
     },
     "execution_count": 7,
     "metadata": {},
     "output_type": "execute_result"
    }
   ],
   "source": [
    "# load\n",
    "all_exps_edited_postProced_clusterIdx_tseries = []\n",
    "postprocessed_all_exp_edited_cluster_tseries_savepath = os.path.join(os.path.dirname(infomap_data_loadpath),\n",
    "                                                                     'postprocessed_exp_edited_clusterIdx_timeseries.h5')\n",
    "with h5py.File(postprocessed_all_exp_edited_cluster_tseries_savepath, 'r') as hf:\n",
    "    for expIdx in range(len(expNames)):\n",
    "        expName = expNames[expIdx]\n",
    "        tseries = hf['{0}_clusterIdxs'.format(expName)][:]\n",
    "        all_exps_edited_postProced_clusterIdx_tseries.append(tseries)\n",
    "        \n",
    "# make the master-set\n",
    "clusterIdx_edited_postProced_tseries_master = np.concatenate(all_exps_edited_postProced_clusterIdx_tseries)\n",
    "clusterIdx_edited_postProced_tseries_master.shape"
   ]
  },
  {
   "cell_type": "code",
   "execution_count": null,
   "id": "7ab507bc-7b5b-4c2f-8a43-da8ab7b29b23",
   "metadata": {},
   "outputs": [],
   "source": []
  },
  {
   "cell_type": "code",
   "execution_count": null,
   "id": "fbd038b3-530b-473a-8512-bfc00bade4b3",
   "metadata": {},
   "outputs": [],
   "source": []
  },
  {
   "cell_type": "code",
   "execution_count": 8,
   "id": "6e731329-52d7-4225-a8c6-bffeb9dccd25",
   "metadata": {},
   "outputs": [],
   "source": [
    "# # We use these for plotting consistent fight maneuver colors across figures\n",
    "\n",
    "# colorlist without red and blue\n",
    "colorlist = ['#ffe119', '#3cb44b',                    '#f58231', \n",
    "             '#911eb4', '#42d4f4', '#f032e6', '#bfef45', '#fabed4', \n",
    "             '#469990', '#dcbeff', '#9A6324', '#800000', \n",
    "             '#aaffc3', '#808000', '#ffd8b1', '#000075', '#a9a9a9'] \n",
    "\n",
    "\n",
    "\n",
    "# colorlist = ['#ffe119', '#3cb44b', '#e6194B', '#4363d8', '#f58231', \n",
    "#              '#911eb4', '#42d4f4', '#f032e6', '#bfef45', '#fabed4', \n",
    "#              '#469990', '#dcbeff', '#9A6324', '#800000', \n",
    "#              '#aaffc3', '#808000', '#ffd8b1', '#000075', '#a9a9a9'] \n"
   ]
  },
  {
   "cell_type": "code",
   "execution_count": 9,
   "id": "0beab27a-5e2b-48a8-8825-668e1e4c11fd",
   "metadata": {},
   "outputs": [
    {
     "data": {
      "text/plain": [
       "['circling',\n",
       " 'direct away',\n",
       " 'winner attack',\n",
       " 'loser attack',\n",
       " 'display',\n",
       " 'direct to',\n",
       " 'middle circling',\n",
       " 'L approach',\n",
       " 'W approach',\n",
       " 'parallel',\n",
       " 'non-fight clusters']"
      ]
     },
     "execution_count": 9,
     "metadata": {},
     "output_type": "execute_result"
    }
   ],
   "source": [
    "\n",
    "# these are the state names of the clusterIdx_edited_postProced_tseries\n",
    "all_state_names = ['circling',\n",
    "                 'direct away',\n",
    "                 'winner attack',\n",
    "                 'loser attack',\n",
    "                 'display',\n",
    "                 'direct to',\n",
    "                 'middle circling',\n",
    "                 'L approach',\n",
    "                 'W approach',\n",
    "                 'parallel',\n",
    "                 'non-fight clusters']\n",
    "\n",
    "all_state_names"
   ]
  },
  {
   "cell_type": "code",
   "execution_count": 10,
   "id": "d907122c-8ce7-4967-ac25-2f5ac06047ac",
   "metadata": {},
   "outputs": [
    {
     "data": {
      "text/plain": [
       "11"
      ]
     },
     "execution_count": 10,
     "metadata": {},
     "output_type": "execute_result"
    }
   ],
   "source": [
    "len(all_state_names)"
   ]
  },
  {
   "cell_type": "code",
   "execution_count": 11,
   "id": "f8dc1a32-c48b-479c-bed3-130714e687d7",
   "metadata": {},
   "outputs": [
    {
     "data": {
      "text/plain": [
       "10"
      ]
     },
     "execution_count": 11,
     "metadata": {},
     "output_type": "execute_result"
    }
   ],
   "source": [
    "numLabelledStates = len(all_state_names)-1\n",
    "numLabelledStates\n"
   ]
  },
  {
   "cell_type": "code",
   "execution_count": null,
   "id": "a90f43f5-302d-457a-96ab-53073443993c",
   "metadata": {},
   "outputs": [],
   "source": []
  },
  {
   "cell_type": "code",
   "execution_count": 12,
   "id": "9e4e9516-5526-468b-b988-eefe2da26630",
   "metadata": {},
   "outputs": [
    {
     "data": {
      "text/plain": [
       "array([-1.,  0.,  1.,  2.,  3.,  4.,  5.,  6.,  7.,  8.,  9.])"
      ]
     },
     "execution_count": 12,
     "metadata": {},
     "output_type": "execute_result"
    }
   ],
   "source": [
    "# -1 represent nonFight clusters\n",
    "# NaN data means missing data\n",
    "np.unique(clusterIdx_edited_postProced_tseries_master[~np.isnan(clusterIdx_edited_postProced_tseries_master)])"
   ]
  },
  {
   "cell_type": "code",
   "execution_count": null,
   "id": "16415249-e4e1-4c4a-90c1-b9e4f398d5d9",
   "metadata": {},
   "outputs": [],
   "source": []
  },
  {
   "cell_type": "markdown",
   "id": "e7258174-5ea6-4600-bb44-2c89ddff8ba2",
   "metadata": {},
   "source": [
    "# --------------------------------------------"
   ]
  },
  {
   "cell_type": "code",
   "execution_count": null,
   "id": "4e34281a-9b77-4e4d-9926-740c6929d5b7",
   "metadata": {},
   "outputs": [],
   "source": []
  },
  {
   "cell_type": "markdown",
   "id": "7a301b3e-054f-4e49-9422-a95893180935",
   "metadata": {},
   "source": [
    "# Panel A"
   ]
  },
  {
   "cell_type": "markdown",
   "id": "39e40fdf-3a69-4607-913a-97f71b431838",
   "metadata": {},
   "source": [
    "Was the old figure6 B."
   ]
  },
  {
   "cell_type": "code",
   "execution_count": null,
   "id": "0eb82da1-5b48-4b9a-af98-c8129f673250",
   "metadata": {},
   "outputs": [],
   "source": []
  },
  {
   "cell_type": "code",
   "execution_count": null,
   "id": "ba275ead-907c-4510-9db3-823237356c53",
   "metadata": {},
   "outputs": [],
   "source": []
  },
  {
   "cell_type": "markdown",
   "id": "f9447490-e06f-48cb-b62f-dc03c35d5843",
   "metadata": {},
   "source": [
    "## prepare the arrays for indexing within fights and outside fights"
   ]
  },
  {
   "cell_type": "markdown",
   "id": "d0596359-5dcb-4ba0-958b-357ed7c182d0",
   "metadata": {},
   "source": [
    "For this figure, we will use without the size threshold on bout duration"
   ]
  },
  {
   "cell_type": "code",
   "execution_count": 13,
   "id": "eea3b774-d804-4450-9543-3459887d3b5e",
   "metadata": {},
   "outputs": [
    {
     "data": {
      "text/plain": [
       "(33, 4)"
      ]
     },
     "execution_count": 13,
     "metadata": {},
     "output_type": "execute_result"
    }
   ],
   "source": [
    "figure_bout_info = np.copy(fight_bout_info_noDurThresh)\n",
    "\n",
    "# the set of expIdxs that have contributions to figure_bout_info\n",
    "chosen_expIdxs = np.unique(figure_bout_info[:,0])\n",
    "\n",
    "numBouts = figure_bout_info.shape[0]\n",
    "\n",
    "figure_bout_info.shape"
   ]
  },
  {
   "cell_type": "code",
   "execution_count": null,
   "id": "03ef303a-b4e4-4caa-9623-c6c977ade53b",
   "metadata": {},
   "outputs": [],
   "source": []
  },
  {
   "cell_type": "code",
   "execution_count": 14,
   "id": "e9218ce9-9bf3-4393-aeaf-9f3c8d55a926",
   "metadata": {},
   "outputs": [],
   "source": [
    "# ---- prepare the nonfight regions ----#\n",
    "# based on 'figure_bout_info'\n",
    "\n",
    "chosen_expIdx_nonFight_regions = []\n",
    "\n",
    "for expIdx in chosen_expIdxs:\n",
    "    expName = expNames[expIdx]\n",
    "    \n",
    "    # find the bouts for this exp\n",
    "    fight_epoch_array_rows = np.where(figure_bout_info[:,0] == expIdx)[0]\n",
    "    \n",
    "    # turn into list format over bouts, data is (startFrame,stopFrame)\n",
    "    exp_fight_bout_lims_list = []\n",
    "    for rowIdx in fight_epoch_array_rows:\n",
    "        fight_bout_lims = figure_bout_info[rowIdx,1:3]\n",
    "        exp_fight_bout_lims_list.append(fight_bout_lims)\n",
    "        \n",
    "    # now, prepare a binary timeseries of fight/non-fight membership for all frames,\n",
    "    # recording all fights as truth\n",
    "    expnfs = expNumFrames[expIdx]\n",
    "    exp_fightFrame_bin_arr = np.zeros((expnfs,), dtype=bool)\n",
    "    for bIdx in range(len(exp_fight_bout_lims_list)):\n",
    "        exp_fightFrame_bin_arr[ exp_fight_bout_lims_list[bIdx][0]:exp_fight_bout_lims_list[bIdx][1]] = True\n",
    "        \n",
    "    # now find contiguous regions of the inverse of this array, \n",
    "    # giving us frame ranges where the fish are not fighting\n",
    "    exp_non_fight_regions = contiguous_regions(~exp_fightFrame_bin_arr)\n",
    "    \n",
    "    # record\n",
    "    chosen_expIdx_nonFight_regions.append([expIdx, exp_non_fight_regions])\n",
    "    \n",
    "    \n",
    "# make into array along fightbouts with expIdxs\n",
    "figure_nonBout_info = []\n",
    "for vals in chosen_expIdx_nonFight_regions:\n",
    "    expIdx = vals[0]\n",
    "    boutInfo = vals[1]\n",
    "    expIdx_with_boutInfo_arr = np.full((boutInfo.shape[0],3), fill_value=expIdx)\n",
    "    expIdx_with_boutInfo_arr[:,1:] = boutInfo\n",
    "    figure_nonBout_info.append(expIdx_with_boutInfo_arr)\n",
    "figure_nonBout_info = np.concatenate(figure_nonBout_info, axis=0)\n",
    "\n",
    "numNoNBouts = figure_nonBout_info.shape[0]"
   ]
  },
  {
   "cell_type": "code",
   "execution_count": null,
   "id": "4fe39380-325f-4194-b1a1-cf51b116bff9",
   "metadata": {},
   "outputs": [],
   "source": []
  },
  {
   "cell_type": "code",
   "execution_count": null,
   "id": "fc9f83f3-a3e8-4ce0-89fe-f11f2d575882",
   "metadata": {},
   "outputs": [],
   "source": []
  },
  {
   "cell_type": "code",
   "execution_count": null,
   "id": "49d87e80-ecb0-4e39-95f2-f2c6c126ab74",
   "metadata": {},
   "outputs": [],
   "source": []
  },
  {
   "cell_type": "code",
   "execution_count": null,
   "id": "663dea4f-96f6-4060-87f6-5025be26149b",
   "metadata": {},
   "outputs": [],
   "source": []
  },
  {
   "cell_type": "markdown",
   "id": "3ef1ee74-4a11-40d7-81b5-d53dddaa52ae",
   "metadata": {},
   "source": [
    "## compute the windowed probabilities"
   ]
  },
  {
   "cell_type": "code",
   "execution_count": 15,
   "id": "e7366ae9-726e-4ec7-a4ab-b1dc2818af64",
   "metadata": {},
   "outputs": [
    {
     "name": "stdout",
     "output_type": "stream",
     "text": [
      "FishTank20200127_143538\n",
      "FishTank20200129_140656\n",
      "FishTank20200130_153857\n",
      "FishTank20200130_181614\n",
      "FishTank20200207_161445\n",
      "FishTank20200213_154940\n",
      "FishTank20200214_153519\n",
      "FishTank20200217_160052\n",
      "FishTank20200218_153008\n",
      "FishTank20200316_163320\n",
      "FishTank20200327_154737\n",
      "FishTank20200330_161100\n",
      "FishTank20200331_162136\n",
      "FishTank20200520_152810\n",
      "FishTank20200521_154541\n",
      "FishTank20200525_161602\n",
      "FishTank20200526_160100\n",
      "FishTank20200527_152401\n",
      "FishTank20200824_151740\n",
      "FishTank20200828_155504\n",
      "FishTank20200902_160124\n",
      "FishTank20200903_160946\n"
     ]
    }
   ],
   "source": [
    "# compute the windowed state probabilities for each experiment\n",
    "window_size= 6000 #6000\n",
    "window_step=100\n",
    "\n",
    "all_exp_window_state_probabilities = []\n",
    "all_exp_time_windows = []\n",
    "\n",
    "for expIdx in range(len(expNames)):\n",
    "    expName = expNames[expIdx]\n",
    "    print(expName)\n",
    "    exp_cls_tseries = np.copy(all_exps_edited_postProced_clusterIdx_tseries[expIdx])\n",
    "    exp_numFrames = exp_cls_tseries.shape[0]\n",
    "    exp_time_windows = return_overlapping_windows_for_timeframes(exp_numFrames, window_size=window_size, window_step=window_step)\n",
    "    exp_window_state_probabilities = compute_state_probabilities_in_time_windows(exp_cls_tseries, exp_time_windows, numLabelledStates)\n",
    "    all_exp_window_state_probabilities.append(exp_window_state_probabilities)\n",
    "    all_exp_time_windows.append(exp_time_windows)"
   ]
  },
  {
   "cell_type": "code",
   "execution_count": null,
   "id": "2682cfd9-e863-4710-860a-f02556d79d2a",
   "metadata": {},
   "outputs": [],
   "source": []
  },
  {
   "cell_type": "code",
   "execution_count": 16,
   "id": "2179598a-6ccc-44a9-92e7-46bbbc56d36a",
   "metadata": {},
   "outputs": [
    {
     "data": {
      "text/plain": [
       "(9658, 11)"
      ]
     },
     "execution_count": 16,
     "metadata": {},
     "output_type": "execute_result"
    }
   ],
   "source": [
    "all_exp_window_state_probabilities[0].shape"
   ]
  },
  {
   "cell_type": "code",
   "execution_count": null,
   "id": "fca7ea95-2172-47c3-a34e-7ad08fd15941",
   "metadata": {},
   "outputs": [],
   "source": []
  },
  {
   "cell_type": "markdown",
   "id": "afbe6c9a-09c4-462e-a102-8a0fdc7b9104",
   "metadata": {},
   "source": [
    "## get fight and nonfight data"
   ]
  },
  {
   "cell_type": "code",
   "execution_count": null,
   "id": "67cc521e-2bec-4004-b3fc-1daf92cbf52f",
   "metadata": {},
   "outputs": [],
   "source": []
  },
  {
   "cell_type": "code",
   "execution_count": null,
   "id": "bfde69d4-1553-4e23-8bfa-c8b80d298e68",
   "metadata": {},
   "outputs": [],
   "source": []
  },
  {
   "cell_type": "code",
   "execution_count": 33,
   "id": "f018c7ba-d246-4dc2-ac11-8e7eb96de2e0",
   "metadata": {},
   "outputs": [],
   "source": [
    "# ----- fighting ---- #\n",
    "\n",
    "bouts_winStateProbs = []\n",
    "\n",
    "for boutIdx in range(numBouts):\n",
    "    \n",
    "    expIdx, f0, fE, bout_duration = figure_bout_info[boutIdx]\n",
    "    \n",
    "    exp_time_wins = all_exp_time_windows[expIdx]\n",
    "    exp_window_state_probabilities = all_exp_window_state_probabilities[expIdx]\n",
    "    \n",
    "    # get the windows corresponding to the start and stop of the bout\n",
    "    desired_first_win_idx, desired_last_win_idx = find_time_window_indices_bounding_start_and_stop_frame(exp_time_wins, \n",
    "                                                                                                         f0, fE)\n",
    "    \n",
    "    # get the windowed probs for this bout\n",
    "    bout_win_state_probs = np.copy(exp_window_state_probabilities[desired_first_win_idx:desired_last_win_idx+1, :]) #+1 to get the last win\n",
    "    \n",
    "    bouts_winStateProbs.append(bout_win_state_probs)\n",
    "    \n",
    "\n",
    "    \n",
    "    \n",
    "# ----- non fighting ---- #\n",
    "\n",
    "nonbouts_winStateProbs = []\n",
    "\n",
    "for boutIdx in range(numNoNBouts):\n",
    "    \n",
    "    expIdx, f0, fE = figure_nonBout_info[boutIdx]\n",
    "    \n",
    "    exp_time_wins = all_exp_time_windows[expIdx]\n",
    "    exp_window_state_probabilities = all_exp_window_state_probabilities[expIdx]\n",
    "    \n",
    "    # get the windows corresponding to the start and stop of the bout\n",
    "    desired_first_win_idx, desired_last_win_idx = find_time_window_indices_bounding_start_and_stop_frame(exp_time_wins, \n",
    "                                                                                                         f0, fE)\n",
    "    \n",
    "    # get the windowed probs for this bout\n",
    "    bout_win_state_probs = np.copy(exp_window_state_probabilities[desired_first_win_idx:desired_last_win_idx+1, :]) #+1 to get the last win\n",
    "    \n",
    "    nonbouts_winStateProbs.append(bout_win_state_probs)\n",
    "    \n",
    "\n",
    "    \n",
    "\n"
   ]
  },
  {
   "cell_type": "code",
   "execution_count": null,
   "id": "4b2df920-2c9f-464e-9204-cfa6247b1e93",
   "metadata": {},
   "outputs": [],
   "source": []
  },
  {
   "cell_type": "code",
   "execution_count": null,
   "id": "cd66744a-deba-4f92-a50c-0aac3206fedc",
   "metadata": {},
   "outputs": [],
   "source": []
  },
  {
   "cell_type": "code",
   "execution_count": 34,
   "id": "59fe519a-d48e-49e1-8e00-37a89545125b",
   "metadata": {},
   "outputs": [
    {
     "data": {
      "text/plain": [
       "33"
      ]
     },
     "execution_count": 34,
     "metadata": {},
     "output_type": "execute_result"
    }
   ],
   "source": [
    "len(bouts_winStateProbs)"
   ]
  },
  {
   "cell_type": "code",
   "execution_count": 35,
   "id": "216747cb-e3e8-4701-8a5a-b5fc53aef52c",
   "metadata": {},
   "outputs": [
    {
     "data": {
      "text/plain": [
       "(360, 11)"
      ]
     },
     "execution_count": 35,
     "metadata": {},
     "output_type": "execute_result"
    }
   ],
   "source": [
    "bouts_winStateProbs[0].shape"
   ]
  },
  {
   "cell_type": "code",
   "execution_count": 36,
   "id": "a03cedb0-3c1c-4f1f-82df-d86c89c1429d",
   "metadata": {},
   "outputs": [
    {
     "data": {
      "text/plain": [
       "(210, 11)"
      ]
     },
     "execution_count": 36,
     "metadata": {},
     "output_type": "execute_result"
    }
   ],
   "source": [
    "bouts_winStateProbs[1].shape"
   ]
  },
  {
   "cell_type": "code",
   "execution_count": 37,
   "id": "beb0bedb-33bb-40ff-81c9-ad4b5a003c99",
   "metadata": {},
   "outputs": [
    {
     "data": {
      "text/plain": [
       "51"
      ]
     },
     "execution_count": 37,
     "metadata": {},
     "output_type": "execute_result"
    }
   ],
   "source": [
    "len(nonbouts_winStateProbs)"
   ]
  },
  {
   "cell_type": "code",
   "execution_count": 38,
   "id": "28e9d74c-0804-47fa-8173-db933d968240",
   "metadata": {},
   "outputs": [],
   "source": [
    "epoch_list_winStateProbs = [bouts_winStateProbs, nonbouts_winStateProbs]"
   ]
  },
  {
   "cell_type": "code",
   "execution_count": null,
   "id": "c83c6560-7cd6-40a2-86bf-3fc0b21b04b8",
   "metadata": {},
   "outputs": [],
   "source": []
  },
  {
   "cell_type": "code",
   "execution_count": null,
   "id": "61491243-6974-44e8-b469-1d4c902260a4",
   "metadata": {},
   "outputs": [],
   "source": []
  },
  {
   "cell_type": "markdown",
   "id": "12d83162-f163-4ace-ba14-a41d145d3993",
   "metadata": {},
   "source": [
    "## bootstrapping"
   ]
  },
  {
   "cell_type": "code",
   "execution_count": null,
   "id": "a1258715-554b-4ca3-9676-4747c95a75a6",
   "metadata": {},
   "outputs": [],
   "source": []
  },
  {
   "cell_type": "code",
   "execution_count": 39,
   "id": "24db26f6-f95e-4658-bdb7-5d5a4b57cc6f",
   "metadata": {},
   "outputs": [],
   "source": [
    "# for fights and nonfights, find the average 1-minute long prob vecs\n",
    "epoch_mean_win_state_probs = []\n",
    "epoch_num_wins_used = []\n",
    "\n",
    "for epoch_win_state_probs in epoch_list_winStateProbs:\n",
    "    \n",
    "    # stack all the prob vecs which occured in this epoch (fight or nonfight)\n",
    "    epoch_all_window_prob_stack = np.vstack(epoch_win_state_probs)\n",
    "    \n",
    "    # record the number of windows we got\n",
    "    epoch_num_wins_used.append(epoch_all_window_prob_stack.shape[0])\n",
    "    \n",
    "    # compute the 1-minute mean across all these measurments\n",
    "    epoch_mean = np.mean(epoch_all_window_prob_stack, axis=0)\n",
    "    epoch_mean_win_state_probs.append(epoch_mean)"
   ]
  },
  {
   "cell_type": "code",
   "execution_count": 40,
   "id": "98c8572f-188e-4b11-9e3c-69eb353abf10",
   "metadata": {},
   "outputs": [
    {
     "data": {
      "text/plain": [
       "[array([0.17231156, 0.00253001, 0.30467414, 0.29816621, 0.05928477,\n",
       "        0.02946006, 0.01744026, 0.04000582, 0.02569933, 0.0060137 ,\n",
       "        0.04441415]),\n",
       " array([0.08625122, 0.01533056, 0.14407221, 0.05022556, 0.06395551,\n",
       "        0.04812746, 0.04877009, 0.05114149, 0.09921823, 0.02884373,\n",
       "        0.3618653 ])]"
      ]
     },
     "execution_count": 40,
     "metadata": {},
     "output_type": "execute_result"
    }
   ],
   "source": [
    "epoch_mean_win_state_probs"
   ]
  },
  {
   "cell_type": "code",
   "execution_count": 41,
   "id": "a275dde3-8a75-4c26-8d66-0c0d7a691586",
   "metadata": {},
   "outputs": [
    {
     "data": {
      "text/plain": [
       "[19936, 106429]"
      ]
     },
     "execution_count": 41,
     "metadata": {},
     "output_type": "execute_result"
    }
   ],
   "source": [
    "epoch_num_wins_used"
   ]
  },
  {
   "cell_type": "code",
   "execution_count": null,
   "id": "d5a85e35-b232-45d9-adeb-eceaa6db0e36",
   "metadata": {},
   "outputs": [],
   "source": []
  },
  {
   "cell_type": "code",
   "execution_count": 42,
   "id": "ff226a20-e546-4984-877f-fbf387c24653",
   "metadata": {},
   "outputs": [
    {
     "name": "stdout",
     "output_type": "stream",
     "text": [
      "finished  0 0.32439112663269043\n",
      "finished  1 1.7297906875610352\n",
      "\n",
      "finished:  1.730036973953247\n"
     ]
    }
   ],
   "source": [
    "# ---- compute the bootstrapped stddev ---- #\n",
    "\n",
    "# args\n",
    "n_resamples=500\n",
    "\n",
    "\n",
    "t0 = time.time()\n",
    "\n",
    "\n",
    "epoch_bootstrapped_stdevs = []\n",
    "for epochIdx in range(2):\n",
    "\n",
    "    # get the list over all bouts for this epoch (fight or nonfight are the two epochs)\n",
    "    epoch_win_state_probs = epoch_list_winStateProbs[epochIdx]\n",
    "    \n",
    "    # get the number of samples\n",
    "    numSamples = len(epoch_win_state_probs) # number of bouts to bootstrap over\n",
    "    \n",
    "    # grab all the bootstrap resampling data\n",
    "    allSamples_mean_epoch_win_state_probs = [] \n",
    "    for i in range(n_resamples):\n",
    "\n",
    "        #  get the fight indices for this resample \n",
    "        indices=np.random.choice(range(0,numSamples), numSamples)\n",
    "\n",
    "        # get the sample collection of bout epoch state probs\n",
    "        sample_epoch_win_state_probs = []\n",
    "        for sampBoutIdx in indices:\n",
    "            sample_epoch_win_state_probs.append(epoch_win_state_probs[sampBoutIdx])\n",
    "            \n",
    "        # concatenate across the selected fights\n",
    "        sample_epoch_win_state_probs  = np.vstack(sample_epoch_win_state_probs)\n",
    "\n",
    "        # get the sample mean and record \n",
    "        sample_epoch_win_state_probs_mean = np.mean(sample_epoch_win_state_probs, axis=0)\n",
    "        allSamples_mean_epoch_win_state_probs.append(sample_epoch_win_state_probs_mean)\n",
    "    allSamples_mean_epoch_win_state_probs = np.stack(allSamples_mean_epoch_win_state_probs, axis=0)\n",
    "\n",
    "    # get the sdtdev of the bootstrap means\n",
    "    allSamples_stdev = np.std(allSamples_mean_epoch_win_state_probs, axis=0)\n",
    "    epoch_bootstrapped_stdevs.append(allSamples_stdev)\n",
    "\n",
    "    tE = time.time()\n",
    "    print('finished ', epochIdx, tE-t0)\n",
    "    \n",
    "print()\n",
    "tE = time.time()\n",
    "print('finished: ', tE-t0)"
   ]
  },
  {
   "cell_type": "code",
   "execution_count": null,
   "id": "672f8cfb-8717-4172-8ea4-37e82996c527",
   "metadata": {},
   "outputs": [],
   "source": []
  },
  {
   "cell_type": "code",
   "execution_count": 43,
   "id": "660859e9-7906-4a71-9926-1b30c1f28e57",
   "metadata": {},
   "outputs": [
    {
     "data": {
      "text/plain": [
       "[array([0.01041394, 0.00036663, 0.01212089, 0.01371363, 0.00304139,\n",
       "        0.00225917, 0.00095081, 0.00513609, 0.00313868, 0.00094043,\n",
       "        0.0077065 ]),\n",
       " array([0.00916118, 0.00116021, 0.01421001, 0.00623058, 0.00404482,\n",
       "        0.00551086, 0.00275563, 0.00396198, 0.0045946 , 0.00188564,\n",
       "        0.02171567])]"
      ]
     },
     "execution_count": 43,
     "metadata": {},
     "output_type": "execute_result"
    }
   ],
   "source": [
    "epoch_bootstrapped_stdevs"
   ]
  },
  {
   "cell_type": "code",
   "execution_count": null,
   "id": "8c20e123-4a51-42ca-bfa9-cbadb80d1ea6",
   "metadata": {},
   "outputs": [],
   "source": []
  },
  {
   "cell_type": "code",
   "execution_count": null,
   "id": "18af22ac-3dce-4039-a2db-387c9acd48b7",
   "metadata": {},
   "outputs": [],
   "source": []
  },
  {
   "cell_type": "code",
   "execution_count": 49,
   "id": "d9720a82-36d1-45e7-bebe-ad4065dca834",
   "metadata": {},
   "outputs": [
    {
     "data": {
      "text/plain": [
       "['winner attack',\n",
       " 'loser attack',\n",
       " 'circling',\n",
       " 'display',\n",
       " 'W approach',\n",
       " 'L approach',\n",
       " 'direct away',\n",
       " 'direct to',\n",
       " 'middle circling',\n",
       " 'parallel',\n",
       " 'non-fight clusters']"
      ]
     },
     "execution_count": 49,
     "metadata": {},
     "output_type": "execute_result"
    }
   ],
   "source": [
    "# define a new order for plotting\n",
    "new_plot_order = [2,3,0,4,8,7,1,5,6,9,10]\n",
    "[all_state_names[i] for i in new_plot_order]\n"
   ]
  },
  {
   "cell_type": "code",
   "execution_count": 50,
   "id": "1bac03b0-2cfe-4887-b97c-baa33fd75b24",
   "metadata": {},
   "outputs": [
    {
     "data": {
      "text/plain": [
       "{2: 0, 3: 1, 0: 2, 4: 3, 8: 4, 7: 5, 1: 6, 5: 7, 6: 8, 9: 9, 10: 10}"
      ]
     },
     "execution_count": 50,
     "metadata": {},
     "output_type": "execute_result"
    }
   ],
   "source": [
    "# a dcionary which maps state indexs to the row i want to draw them\n",
    "correct_place_dictionary = dict(zip(new_plot_order, np.arange(0, numLabelledStates+1)))\n",
    "correct_place_dictionary"
   ]
  },
  {
   "cell_type": "code",
   "execution_count": null,
   "id": "2d9c7f27-1a1f-433e-9589-72961d525ba9",
   "metadata": {},
   "outputs": [],
   "source": []
  },
  {
   "cell_type": "code",
   "execution_count": null,
   "id": "241ee67e-505e-471b-b53a-a8991b2f9d5e",
   "metadata": {},
   "outputs": [],
   "source": []
  },
  {
   "cell_type": "markdown",
   "id": "51392374-fdc0-4c0a-bf7a-3018e33d4397",
   "metadata": {},
   "source": [
    "## plot v1"
   ]
  },
  {
   "cell_type": "code",
   "execution_count": 46,
   "id": "db76ac5b-ddeb-4a06-ba46-ebe01d58dfda",
   "metadata": {},
   "outputs": [],
   "source": [
    "fight_means = epoch_mean_win_state_probs[0]\n",
    "nonfight_means = epoch_mean_win_state_probs[1]\n",
    "\n",
    "fight_err = epoch_bootstrapped_stdevs[0]\n",
    "nonfight_err = epoch_bootstrapped_stdevs[1]\n",
    "\n",
    "n = len(all_state_names)\n",
    "xvals = np.arange(n)\n",
    "width = 0.25\n"
   ]
  },
  {
   "cell_type": "code",
   "execution_count": null,
   "id": "3afff623-2cea-42f5-98b6-3673e8c592c6",
   "metadata": {},
   "outputs": [],
   "source": []
  },
  {
   "cell_type": "code",
   "execution_count": 47,
   "id": "38848ffe-b820-4cd3-a14f-36cd17aab097",
   "metadata": {},
   "outputs": [],
   "source": [
    "# We want to permute based on the new plot order\n",
    "plot_fight_means = np.array([fight_means[i] for i in new_plot_order])\n",
    "plot_fight_err = np.array([fight_err[i] for i in new_plot_order])\n",
    "plot_nonfight_means = np.array([nonfight_means[i] for i in new_plot_order])\n",
    "plot_nonfight_err = np.array([nonfight_err[i] for i in new_plot_order])\n",
    "\n",
    "\n",
    "plot_state_names = [all_state_names[i] for i in new_plot_order]"
   ]
  },
  {
   "cell_type": "code",
   "execution_count": null,
   "id": "86a8a93e-1778-4d27-a443-17e627014704",
   "metadata": {},
   "outputs": [],
   "source": []
  },
  {
   "cell_type": "code",
   "execution_count": 52,
   "id": "23199165-4405-4717-8f6f-0004613d8847",
   "metadata": {},
   "outputs": [
    {
     "data": {
      "application/vnd.jupyter.widget-view+json": {
       "model_id": "45201757661842128bb7e69179397bad",
       "version_major": 2,
       "version_minor": 0
      },
      "text/html": [
       "\n",
       "            <div style=\"display: inline-block;\">\n",
       "                <div class=\"jupyter-widgets widget-label\" style=\"text-align: center;\">\n",
       "                    Figure\n",
       "                </div>\n",
       "                <img src='data:image/png;base64,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' width=640.0/>\n",
       "            </div>\n",
       "        "
      ],
      "text/plain": [
       "Canvas(toolbar=Toolbar(toolitems=[('Home', 'Reset original view', 'home', 'home'), ('Back', 'Back to previous …"
      ]
     },
     "metadata": {},
     "output_type": "display_data"
    }
   ],
   "source": [
    "\n",
    "fig, axs = plt.subplots()\n",
    "ax=axs\n",
    "\n",
    "# get colors\n",
    "state_colors = [colorlist[i] for i in new_plot_order] \n",
    "\n",
    "ax.bar(xvals, plot_fight_means, color=state_colors, width=width, edgecolor='black', yerr=plot_fight_err,\n",
    "       label='fight')\n",
    "\n",
    "ax.bar(xvals+width, plot_nonfight_means, color=state_colors, width=width, edgecolor='black', yerr=plot_nonfight_err, hatch='//',\n",
    "       label='nonfight')\n",
    "\n",
    "xticks = xvals +  width/2\n",
    "xticklabels = list(plot_state_names)\n",
    "ax.set_xticks(xticks)\n",
    "ax.set_xticklabels(xticklabels, rotation=90)\n",
    "\n",
    "ax.legend()\n",
    "\n",
    "ax.set_ylabel('Probability')\n",
    "\n",
    "fig.tight_layout()"
   ]
  },
  {
   "cell_type": "code",
   "execution_count": null,
   "id": "d3d00ade-9ed4-4707-bea3-de3055c2c957",
   "metadata": {},
   "outputs": [],
   "source": []
  },
  {
   "cell_type": "markdown",
   "id": "fb692198-9589-4aa5-9e14-2eb2ab98a56b",
   "metadata": {},
   "source": [
    "## paper version"
   ]
  },
  {
   "cell_type": "code",
   "execution_count": 53,
   "id": "bf09f798-414e-4037-9f74-0f11b7e61e66",
   "metadata": {},
   "outputs": [
    {
     "data": {
      "application/vnd.jupyter.widget-view+json": {
       "model_id": "0bb6be6ad2e04283a4966cbe06ac210e",
       "version_major": 2,
       "version_minor": 0
      },
      "text/html": [
       "\n",
       "            <div style=\"display: inline-block;\">\n",
       "                <div class=\"jupyter-widgets widget-label\" style=\"text-align: center;\">\n",
       "                    Figure\n",
       "                </div>\n",
       "                <img src='data:image/png;base64,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' width=600.0/>\n",
       "            </div>\n",
       "        "
      ],
      "text/plain": [
       "Canvas(toolbar=Toolbar(toolitems=[('Home', 'Reset original view', 'home', 'home'), ('Back', 'Back to previous …"
      ]
     },
     "metadata": {},
     "output_type": "display_data"
    }
   ],
   "source": [
    "imsavepath = '/home/liam/temp/image_transfer/figure6_panel_A.png'\n",
    "\n",
    "\n",
    "fig, axs = plt.subplots(figsize=(6,1.75))\n",
    "ax=axs\n",
    "\n",
    "# get colors\n",
    "state_colors = [colorlist[i] for i in new_plot_order] \n",
    "\n",
    "ax.bar(xvals, plot_fight_means, color=state_colors, width=width, edgecolor='black', yerr=plot_fight_err,\n",
    "       label='fight')\n",
    "\n",
    "ax.bar(xvals+width, plot_nonfight_means, color=state_colors, width=width, edgecolor='black', yerr=plot_nonfight_err, hatch='///',\n",
    "       label='nonfight')\n",
    "\n",
    "xticks = xvals +  width/2\n",
    "xticklabels = list(plot_state_names)\n",
    "ax.set_xticks(xticks)\n",
    "ax.set_xticklabels(xticklabels, rotation=90)\n",
    "\n",
    "ax.legend()\n",
    "\n",
    "\n",
    "# -----------------------#\n",
    "ax.set_ylabel('')\n",
    "ax.set_xlabel('')\n",
    "ax.get_legend().remove()\n",
    "ytop = 0.45\n",
    "ax.set_yticks([0, ytop])\n",
    "ax.set_yticklabels([])\n",
    "#ax.set_xlim(0, np.max(xticks)+2) # add space for legend\n",
    "ax.set_ylim(0,ytop)\n",
    "ax.set_xticklabels([])\n",
    "\n",
    "# tick params\n",
    "ax.xaxis.set_tick_params(width=2, length=4)\n",
    "ax.yaxis.set_tick_params(width=2, length=4)\n",
    "\n",
    "# make the left and rights thicker for each axis\n",
    "for axis in ['top', 'bottom', 'left','right']:\n",
    "    ax.spines[axis].set_linewidth(2)\n",
    "\n",
    "\n",
    "fig.tight_layout()\n",
    "\n",
    "#fig.savefig(imsavepath, dpi=300, transparent=True)"
   ]
  },
  {
   "cell_type": "code",
   "execution_count": null,
   "id": "d7b89f35-39eb-401e-9c90-98ee5efd4b4b",
   "metadata": {},
   "outputs": [],
   "source": []
  },
  {
   "cell_type": "code",
   "execution_count": 98,
   "id": "cd673b20-0d8e-4491-8d38-a12b162405f6",
   "metadata": {},
   "outputs": [
    {
     "data": {
      "application/vnd.jupyter.widget-view+json": {
       "model_id": "dcb6a20e74004fd682c42ab92349cab2",
       "version_major": 2,
       "version_minor": 0
      },
      "text/html": [
       "\n",
       "            <div style=\"display: inline-block;\">\n",
       "                <div class=\"jupyter-widgets widget-label\" style=\"text-align: center;\">\n",
       "                    Figure\n",
       "                </div>\n",
       "                <img src='data:image/png;base64,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' width=392.5/>\n",
       "            </div>\n",
       "        "
      ],
      "text/plain": [
       "Canvas(toolbar=Toolbar(toolitems=[('Home', 'Reset original view', 'home', 'home'), ('Back', 'Back to previous …"
      ]
     },
     "metadata": {},
     "output_type": "display_data"
    }
   ],
   "source": [
    "imsavepath = '/home/liam/temp/image_transfer/figure6_A.png'\n",
    "\n",
    "\n",
    "fig, axs = plt.subplots(figsize=(3.925, 1.1))\n",
    "ax=axs\n",
    "\n",
    "# get colors\n",
    "state_colors = [colorlist[i] for i in new_plot_order] \n",
    "\n",
    "ax.bar(xvals, plot_fight_means, color=state_colors, width=width, edgecolor='black', yerr=plot_fight_err,\n",
    "       label='fight')\n",
    "\n",
    "ax.bar(xvals+width, plot_nonfight_means, color=state_colors, width=width, edgecolor='black', yerr=plot_nonfight_err, hatch='///',\n",
    "       label='nonfight')\n",
    "\n",
    "xticks = xvals +  width/2\n",
    "xticklabels = list(plot_state_names)\n",
    "ax.set_xticks(xticks)\n",
    "ax.set_xticklabels(xticklabels, rotation=90)\n",
    "\n",
    "ax.legend()\n",
    "\n",
    "\n",
    "# -----------------------#\n",
    "ax.set_ylabel('')\n",
    "ax.set_xlabel('')\n",
    "ax.get_legend().remove()\n",
    "ytop = 0.45\n",
    "ax.set_yticks([0, ytop])\n",
    "ax.set_yticklabels([])\n",
    "#ax.set_xlim(0, np.max(xticks)+2) # add space for legend\n",
    "ax.set_ylim(0,ytop)\n",
    "ax.set_xticklabels([])\n",
    "\n",
    "# tick params\n",
    "ax.xaxis.set_tick_params(width=1, length=2)\n",
    "ax.yaxis.set_tick_params(width=1, length=2)\n",
    "\n",
    "# make the left and rights thicker for each axis\n",
    "for axis in ['top', 'bottom', 'left','right']:\n",
    "    ax.spines[axis].set_linewidth(0.9)\n",
    "\n",
    "\n",
    "#fig.tight_layout()\n",
    "\n",
    "fig.savefig(imsavepath, dpi=900, transparent=True)"
   ]
  },
  {
   "cell_type": "code",
   "execution_count": null,
   "id": "820b0075-5c29-4965-8ac5-8d193eec7a00",
   "metadata": {},
   "outputs": [],
   "source": []
  },
  {
   "cell_type": "code",
   "execution_count": null,
   "id": "cbebb4b6-109d-4a8b-9adf-b3bc2d432655",
   "metadata": {},
   "outputs": [],
   "source": []
  },
  {
   "cell_type": "code",
   "execution_count": null,
   "id": "237bc4eb-21e4-4e97-83a6-0175b5d0166a",
   "metadata": {},
   "outputs": [],
   "source": []
  },
  {
   "cell_type": "markdown",
   "id": "7db48941-6261-48ec-a193-a37f8d4ea101",
   "metadata": {},
   "source": [
    "# -------------------------"
   ]
  },
  {
   "cell_type": "code",
   "execution_count": null,
   "id": "5c93e345-d43b-4588-8863-821f8c5269d7",
   "metadata": {},
   "outputs": [],
   "source": []
  },
  {
   "cell_type": "markdown",
   "id": "21bd82ae-c53f-416e-9737-b81edfc04373",
   "metadata": {},
   "source": [
    "# Panel B"
   ]
  },
  {
   "cell_type": "code",
   "execution_count": null,
   "id": "2389e9c1-aea4-42a5-92a2-ed8bbba8a651",
   "metadata": {},
   "outputs": [],
   "source": []
  },
  {
   "cell_type": "markdown",
   "id": "a8be277e-e01c-4118-a722-c7d26cf2fa33",
   "metadata": {},
   "source": [
    "# Compute the windowed probabilities"
   ]
  },
  {
   "cell_type": "code",
   "execution_count": 16,
   "id": "8fe83190-b609-422f-a6e3-f5302cdf063e",
   "metadata": {},
   "outputs": [
    {
     "name": "stdout",
     "output_type": "stream",
     "text": [
      "FishTank20200127_143538\n",
      "FishTank20200129_140656\n",
      "FishTank20200130_153857\n",
      "FishTank20200130_181614\n",
      "FishTank20200207_161445\n",
      "FishTank20200213_154940\n",
      "FishTank20200214_153519\n",
      "FishTank20200217_160052\n",
      "FishTank20200218_153008\n",
      "FishTank20200316_163320\n",
      "FishTank20200327_154737\n",
      "FishTank20200330_161100\n",
      "FishTank20200331_162136\n",
      "FishTank20200520_152810\n",
      "FishTank20200521_154541\n",
      "FishTank20200525_161602\n",
      "FishTank20200526_160100\n",
      "FishTank20200527_152401\n",
      "FishTank20200824_151740\n",
      "FishTank20200828_155504\n",
      "FishTank20200902_160124\n",
      "FishTank20200903_160946\n"
     ]
    }
   ],
   "source": [
    "# compute the windowed state probabilities for each experiment\n",
    "window_size= 3000 #6000\n",
    "window_step=100\n",
    "\n",
    "all_exp_window_state_probabilities = []\n",
    "all_exp_time_windows = []\n",
    "\n",
    "for expIdx in range(len(expNames)):\n",
    "    expName = expNames[expIdx]\n",
    "    print(expName)\n",
    "    exp_cls_tseries = np.copy(all_exps_edited_postProced_clusterIdx_tseries[expIdx])\n",
    "    exp_numFrames = exp_cls_tseries.shape[0]\n",
    "    exp_time_windows = return_overlapping_windows_for_timeframes(exp_numFrames, window_size=window_size, window_step=window_step)\n",
    "    exp_window_state_probabilities = compute_state_probabilities_in_time_windows(exp_cls_tseries, exp_time_windows, numLabelledStates)\n",
    "    all_exp_window_state_probabilities.append(exp_window_state_probabilities)\n",
    "    all_exp_time_windows.append(exp_time_windows)"
   ]
  },
  {
   "cell_type": "code",
   "execution_count": null,
   "id": "7d742b12-41a9-45e1-b959-bdec4c99fd91",
   "metadata": {},
   "outputs": [],
   "source": []
  },
  {
   "cell_type": "code",
   "execution_count": null,
   "id": "54f84754-6b32-443e-9e3c-d4a7e5523168",
   "metadata": {},
   "outputs": [],
   "source": []
  },
  {
   "cell_type": "markdown",
   "id": "a2aaea59-0c60-48a7-b9ad-65a139b3cd03",
   "metadata": {},
   "source": [
    "# Load the fight boundaries for this figure"
   ]
  },
  {
   "cell_type": "markdown",
   "id": "23500677-c8dc-47ae-bb79-625f13e0c8dc",
   "metadata": {},
   "source": [
    "See the fight_detector.ipynb notebook for more information"
   ]
  },
  {
   "cell_type": "code",
   "execution_count": 17,
   "id": "ea2a0a4d-b128-48f6-9c48-dc73b71ae316",
   "metadata": {},
   "outputs": [
    {
     "data": {
      "text/plain": [
       "'/media/liam/hd1/fighting_data/tracking_results/fightBouts.h5'"
      ]
     },
     "execution_count": 17,
     "metadata": {},
     "output_type": "execute_result"
    }
   ],
   "source": [
    "fightBouts_info_path"
   ]
  },
  {
   "cell_type": "code",
   "execution_count": 18,
   "id": "4171d97b-66e2-4edc-9702-dcc754650897",
   "metadata": {},
   "outputs": [
    {
     "data": {
      "text/plain": [
       "(18, 4)"
      ]
     },
     "execution_count": 18,
     "metadata": {},
     "output_type": "execute_result"
    }
   ],
   "source": [
    "with h5py.File(fightBouts_info_path, 'r') as hf:\n",
    "    fight_bout_info = hf['fight_bout_info'][:]\n",
    "    \n",
    "fight_bout_info.shape"
   ]
  },
  {
   "cell_type": "code",
   "execution_count": null,
   "id": "80dff317-2b24-4ada-91b4-696128f4f19c",
   "metadata": {},
   "outputs": [],
   "source": []
  },
  {
   "cell_type": "code",
   "execution_count": null,
   "id": "aa879b2b-67ea-474f-9c56-d369c6792a24",
   "metadata": {},
   "outputs": [],
   "source": []
  },
  {
   "cell_type": "code",
   "execution_count": null,
   "id": "82e55c9c-d2bb-4a40-9e15-8c8caa8cc8d7",
   "metadata": {},
   "outputs": [],
   "source": []
  },
  {
   "cell_type": "markdown",
   "id": "d0b0ef58-b160-4293-a0ac-1ee7c8803a7e",
   "metadata": {},
   "source": [
    "# grabbing the exp and time frame data for each of the 4 periods"
   ]
  },
  {
   "cell_type": "code",
   "execution_count": null,
   "id": "b8431250-5249-4c5d-94ad-faa21297b6b1",
   "metadata": {},
   "outputs": [],
   "source": []
  },
  {
   "cell_type": "code",
   "execution_count": 19,
   "id": "d634fcf3-ddee-4ef7-9bc5-470a226eacc7",
   "metadata": {},
   "outputs": [],
   "source": [
    "# ---- get the frame ranges for each of the 4 time periods ---#\n",
    "\n",
    "\n",
    "''' Schematic for pre-fight\n",
    "\n",
    "win_size = 6000\n",
    "f0 = 36000\n",
    "desired_time_win = 18000\n",
    "\n",
    "win_buff = window_size/2 = 3000\n",
    "\n",
    "pre_fight_time_data = f0 - (desired_time_win+win_buff) : f0 + win_buff\n",
    "                    = 36000 - (21000) : 36000 + 3000\n",
    "                    = 15900 : 39000\n",
    "                    \n",
    "-    : normal time\n",
    "*    : buffer\n",
    "&    : desired region\n",
    "<--> : sample window\n",
    "\n",
    "The buffer allows us to center windows right up until the edges of the desired regions.\n",
    "                    \n",
    "-----------*****&&&&&&&&&*****--------------\n",
    "           <-------->   \n",
    "                    <--------> \n",
    "'''\n",
    "\n",
    "epoch_names = ['pre fight start', 'post fight start', 'pre fight end', 'post fight end']\n",
    "\n",
    "pre_fight_time_data = []\n",
    "start_fight_time_data = []\n",
    "end_fight_time_data = []\n",
    "post_fight_time_data = []\n",
    "\n",
    "desired_time_win = 18000\n",
    "win_buff = window_size/2 # a bit extra, so we can plot a full desired_time_wins\n",
    "\n",
    "for boutIdx in range(fight_bout_info.shape[0]):\n",
    "    expIdx, f0, fE, _ = fight_bout_info[boutIdx]\n",
    "    \n",
    "    pre_fight_time_data.append( np.array([expIdx, f0-(desired_time_win+win_buff), f0+win_buff]) )\n",
    "    start_fight_time_data.append( np.array([expIdx, f0-win_buff, f0+(desired_time_win+win_buff)]) )\n",
    "    end_fight_time_data.append( np.array([expIdx, fE-(desired_time_win+win_buff), fE+win_buff]) )\n",
    "    post_fight_time_data.append( np.array([expIdx, fE-win_buff, fE+(desired_time_win+win_buff)]) )\n",
    "    \n",
    "    \n",
    "pre_fight_time_data = np.array(pre_fight_time_data).astype(int)\n",
    "start_fight_time_data = np.array(start_fight_time_data).astype(int)\n",
    "end_fight_time_data = np.array(end_fight_time_data).astype(int)\n",
    "post_fight_time_data = np.array(post_fight_time_data).astype(int)\n",
    "\n",
    "\n",
    "total_plot_time_mins = int(desired_time_win / (100*60))"
   ]
  },
  {
   "cell_type": "code",
   "execution_count": null,
   "id": "0d8d5fff-67db-487f-a7a8-298b803ba055",
   "metadata": {},
   "outputs": [],
   "source": []
  },
  {
   "cell_type": "code",
   "execution_count": null,
   "id": "a0255359-a704-4873-aa57-b3bede1f8ad2",
   "metadata": {},
   "outputs": [],
   "source": []
  },
  {
   "cell_type": "markdown",
   "id": "601324be-a715-4e2d-b884-cf4e7a927d23",
   "metadata": {},
   "source": [
    "# grabbing the data"
   ]
  },
  {
   "cell_type": "markdown",
   "id": "bd31c915-7f53-4dbb-a453-b5ac41795363",
   "metadata": {},
   "source": [
    "Get the probabilities in windows, for each of the 11 states (fight-maneuvers & all-non-fight-maneuvers), for  <br>\n",
    "(1) before the start of the bouts  <br>\n",
    "(2) after the start of the bouts  <br>\n",
    "(3) before the end of the bouts  <br>\n",
    "(4) after the end of the bouts <br>"
   ]
  },
  {
   "cell_type": "code",
   "execution_count": null,
   "id": "ad03d730-f17f-4e47-a697-e7d4015c4ab2",
   "metadata": {},
   "outputs": [],
   "source": []
  },
  {
   "cell_type": "code",
   "execution_count": null,
   "id": "8d4eaa67-89df-4cc4-8d79-94e3fd64e607",
   "metadata": {},
   "outputs": [],
   "source": []
  },
  {
   "cell_type": "code",
   "execution_count": 20,
   "id": "21a569fc-bb84-4276-9854-c27728bdc6aa",
   "metadata": {},
   "outputs": [],
   "source": [
    "# a list which contains the information for each of the 4 epochs\n",
    "epoch_region_data_list = [pre_fight_time_data, start_fight_time_data, end_fight_time_data, post_fight_time_data]\n",
    "\n",
    "# compute the windowed probs in each epoch (using multiple fightbouts)\n",
    "epoch_list_of_region_bout_win_state_probs = []\n",
    "for region_data in epoch_region_data_list:\n",
    "    region_bout_win_state_probs_list = return_region_win_state_probs(region_data, \n",
    "                                                                all_exp_window_state_probabilities, \n",
    "                                                                all_exp_time_windows,\n",
    "                                                                expNumFrames)\n",
    "    epoch_list_of_region_bout_win_state_probs.append(np.stack(region_bout_win_state_probs_list,axis=0))\n",
    "    \n"
   ]
  },
  {
   "cell_type": "code",
   "execution_count": 21,
   "id": "a5ee1221-baa6-4f1f-95b5-951e1b22f01e",
   "metadata": {},
   "outputs": [
    {
     "data": {
      "text/plain": [
       "4"
      ]
     },
     "execution_count": 21,
     "metadata": {},
     "output_type": "execute_result"
    }
   ],
   "source": [
    "len(epoch_list_of_region_bout_win_state_probs)"
   ]
  },
  {
   "cell_type": "code",
   "execution_count": 22,
   "id": "ac535ab5-7f54-4c0a-8e47-0627c796cc36",
   "metadata": {},
   "outputs": [
    {
     "data": {
      "text/plain": [
       "(16, 181, 11)"
      ]
     },
     "execution_count": 22,
     "metadata": {},
     "output_type": "execute_result"
    }
   ],
   "source": [
    "epoch_list_of_region_bout_win_state_probs[0].shape"
   ]
  },
  {
   "cell_type": "code",
   "execution_count": 23,
   "id": "90238ac5-4fb8-4a1a-a300-5a36b822da24",
   "metadata": {},
   "outputs": [
    {
     "data": {
      "text/plain": [
       "(18, 181, 11)"
      ]
     },
     "execution_count": 23,
     "metadata": {},
     "output_type": "execute_result"
    }
   ],
   "source": [
    "epoch_list_of_region_bout_win_state_probs[1].shape"
   ]
  },
  {
   "cell_type": "code",
   "execution_count": 24,
   "id": "66c27af6-6b21-4cb8-bc95-33c420edc024",
   "metadata": {},
   "outputs": [
    {
     "data": {
      "text/plain": [
       "(18, 181, 11)"
      ]
     },
     "execution_count": 24,
     "metadata": {},
     "output_type": "execute_result"
    }
   ],
   "source": [
    "epoch_list_of_region_bout_win_state_probs[2].shape"
   ]
  },
  {
   "cell_type": "code",
   "execution_count": 25,
   "id": "f0419904-6072-4213-bf31-2f14ce92ccd0",
   "metadata": {},
   "outputs": [
    {
     "data": {
      "text/plain": [
       "(18, 181, 11)"
      ]
     },
     "execution_count": 25,
     "metadata": {},
     "output_type": "execute_result"
    }
   ],
   "source": [
    "epoch_list_of_region_bout_win_state_probs[3].shape"
   ]
  },
  {
   "cell_type": "code",
   "execution_count": 26,
   "id": "1c9e3564-e60b-41d1-9289-a190821e5c48",
   "metadata": {},
   "outputs": [
    {
     "name": "stdout",
     "output_type": "stream",
     "text": [
      "(numBouts, numWins, numStates)\n"
     ]
    }
   ],
   "source": [
    "print('(numBouts, numWins, numStates)')"
   ]
  },
  {
   "cell_type": "code",
   "execution_count": null,
   "id": "1b3c9904-7374-4901-b569-97633daae219",
   "metadata": {},
   "outputs": [],
   "source": []
  },
  {
   "cell_type": "code",
   "execution_count": null,
   "id": "9ec54e30-1569-40eb-bd52-34a11b722c30",
   "metadata": {},
   "outputs": [],
   "source": []
  },
  {
   "cell_type": "code",
   "execution_count": null,
   "id": "c2cfeab4-c4d3-4f61-930b-66f5d54e222e",
   "metadata": {},
   "outputs": [],
   "source": []
  },
  {
   "cell_type": "markdown",
   "id": "7d6cf684-df2f-46d9-b2c4-6075c34a7aaa",
   "metadata": {},
   "source": [
    "# combining maneuvers probabilities in the 4 regions"
   ]
  },
  {
   "cell_type": "markdown",
   "id": "3b5204fa-2e05-492c-a137-3a9e84b94a8a",
   "metadata": {},
   "source": [
    "We are not going to combine states as such, but simply take attacks and approaches"
   ]
  },
  {
   "cell_type": "code",
   "execution_count": null,
   "id": "93b31d11-e6cf-44cc-a009-c124cf6c98b8",
   "metadata": {},
   "outputs": [],
   "source": []
  },
  {
   "cell_type": "code",
   "execution_count": 29,
   "id": "5ef14122-724f-45b7-a763-ba22214109a1",
   "metadata": {},
   "outputs": [
    {
     "name": "stdout",
     "output_type": "stream",
     "text": [
      "0 circling\n",
      "1 direct away\n",
      "2 winner attack\n",
      "3 loser attack\n",
      "4 display\n",
      "5 direct to\n",
      "6 middle circling\n",
      "7 L approach\n",
      "8 W approach\n",
      "9 parallel\n",
      "10 non-fight clusters\n"
     ]
    }
   ],
   "source": [
    "for i, name in enumerate(all_state_names):\n",
    "    print(i, name)"
   ]
  },
  {
   "cell_type": "code",
   "execution_count": null,
   "id": "785d53da-b6b0-47cf-b14c-54d9eaa31df5",
   "metadata": {},
   "outputs": [],
   "source": []
  },
  {
   "cell_type": "code",
   "execution_count": 34,
   "id": "9e5a637f-5830-4197-8a02-bc64f316bd4c",
   "metadata": {},
   "outputs": [],
   "source": [
    "epoch_list_of_region_bout_combined_win_state_probs = []\n",
    "\n",
    "for epochIdx in range(4):\n",
    "\n",
    "    bout_arr_win_state_probs = epoch_list_of_region_bout_win_state_probs[epochIdx]\n",
    "    \n",
    "    winner_attack_probs = bout_arr_win_state_probs[:,:,2]  #winner attack\n",
    "    winner_approach_probs = bout_arr_win_state_probs[:,:,8]  #winner app\n",
    "    \n",
    "    loser_attack_probs = bout_arr_win_state_probs[:,:,3]   #loser attack\n",
    "    loser_approach_probs = bout_arr_win_state_probs[:,:,7]   #loser app\n",
    "    \n",
    "    # combine into one new array\n",
    "    combined_maneuvers_win_state_probs = np.stack([winner_attack_probs, \n",
    "                                                   winner_approach_probs, \n",
    "                                                   loser_attack_probs, \n",
    "                                                   loser_approach_probs], axis=2)\n",
    "\n",
    "    # record\n",
    "    epoch_list_of_region_bout_combined_win_state_probs.append(combined_maneuvers_win_state_probs)\n",
    "\n"
   ]
  },
  {
   "cell_type": "code",
   "execution_count": null,
   "id": "d5250dd4-58ec-4a63-adae-07cc9f14d5ff",
   "metadata": {},
   "outputs": [],
   "source": []
  },
  {
   "cell_type": "code",
   "execution_count": 35,
   "id": "95d0a77e-59a9-4f93-a6e6-14c4151c1faa",
   "metadata": {},
   "outputs": [
    {
     "data": {
      "text/plain": [
       "4"
      ]
     },
     "execution_count": 35,
     "metadata": {},
     "output_type": "execute_result"
    }
   ],
   "source": [
    "len(epoch_list_of_region_bout_combined_win_state_probs)"
   ]
  },
  {
   "cell_type": "code",
   "execution_count": 36,
   "id": "9073abca-5ac9-4479-890c-3dfce6a4fcd3",
   "metadata": {},
   "outputs": [
    {
     "data": {
      "text/plain": [
       "(16, 181, 4)"
      ]
     },
     "execution_count": 36,
     "metadata": {},
     "output_type": "execute_result"
    }
   ],
   "source": [
    "epoch_list_of_region_bout_combined_win_state_probs[0].shape"
   ]
  },
  {
   "cell_type": "code",
   "execution_count": 37,
   "id": "fd6aa4dc-99c5-4186-87cc-52d910899b7b",
   "metadata": {},
   "outputs": [
    {
     "data": {
      "text/plain": [
       "(18, 181, 4)"
      ]
     },
     "execution_count": 37,
     "metadata": {},
     "output_type": "execute_result"
    }
   ],
   "source": [
    "epoch_list_of_region_bout_combined_win_state_probs[1].shape"
   ]
  },
  {
   "cell_type": "code",
   "execution_count": 38,
   "id": "72c0be3a-89fc-48f7-b81b-83bcb938d9a2",
   "metadata": {},
   "outputs": [
    {
     "data": {
      "text/plain": [
       "(18, 181, 4)"
      ]
     },
     "execution_count": 38,
     "metadata": {},
     "output_type": "execute_result"
    }
   ],
   "source": [
    "epoch_list_of_region_bout_combined_win_state_probs[2].shape"
   ]
  },
  {
   "cell_type": "code",
   "execution_count": 39,
   "id": "6ac6f85a-0023-4c9b-95d6-7c434574d65f",
   "metadata": {},
   "outputs": [
    {
     "data": {
      "text/plain": [
       "(18, 181, 4)"
      ]
     },
     "execution_count": 39,
     "metadata": {},
     "output_type": "execute_result"
    }
   ],
   "source": [
    "epoch_list_of_region_bout_combined_win_state_probs[3].shape"
   ]
  },
  {
   "cell_type": "code",
   "execution_count": null,
   "id": "274eab6c-a405-4606-adf2-a43d4cca8c73",
   "metadata": {},
   "outputs": [],
   "source": []
  },
  {
   "cell_type": "code",
   "execution_count": 41,
   "id": "84cca706-541b-4d71-8b9a-b81a0e427d5e",
   "metadata": {},
   "outputs": [
    {
     "name": "stdout",
     "output_type": "stream",
     "text": [
      "(numBouts, numWins, 4_states_of_interest)\n"
     ]
    }
   ],
   "source": [
    "print('(numBouts, numWins, 4_states_of_interest)')"
   ]
  },
  {
   "cell_type": "code",
   "execution_count": null,
   "id": "a224982d-ed50-4077-b370-acf4fafe659c",
   "metadata": {},
   "outputs": [],
   "source": []
  },
  {
   "cell_type": "code",
   "execution_count": null,
   "id": "e20925ad-cfd3-46e7-8acc-2dd4b9721f42",
   "metadata": {},
   "outputs": [],
   "source": []
  },
  {
   "cell_type": "markdown",
   "id": "88440f9a-4452-4b89-9b82-1d4194b20d39",
   "metadata": {},
   "source": [
    "# means across fights and bootstrapping"
   ]
  },
  {
   "cell_type": "code",
   "execution_count": null,
   "id": "2516c80c-089e-42c8-970b-1023feebda4e",
   "metadata": {},
   "outputs": [],
   "source": []
  },
  {
   "cell_type": "code",
   "execution_count": 42,
   "id": "3fcd98f6-1025-47d9-88e7-ae0c08478168",
   "metadata": {},
   "outputs": [],
   "source": [
    "# --- compute the means across experiments for each of the 4 regions ----#\n",
    "epoch_across_bout_mean_win_state_probs = []\n",
    "for region_bout_win_state_probs in epoch_list_of_region_bout_combined_win_state_probs:\n",
    "    across_bout_mean = np.mean(region_bout_win_state_probs, axis=0)\n",
    "    epoch_across_bout_mean_win_state_probs.append(across_bout_mean)"
   ]
  },
  {
   "cell_type": "code",
   "execution_count": 43,
   "id": "c2674b40-aa24-4193-810d-1eebd610c698",
   "metadata": {},
   "outputs": [
    {
     "data": {
      "text/plain": [
       "4"
      ]
     },
     "execution_count": 43,
     "metadata": {},
     "output_type": "execute_result"
    }
   ],
   "source": [
    "len(epoch_across_bout_mean_win_state_probs)"
   ]
  },
  {
   "cell_type": "code",
   "execution_count": 44,
   "id": "385afa1a-00c6-4b06-b601-ae3a81c3cc77",
   "metadata": {},
   "outputs": [
    {
     "data": {
      "text/plain": [
       "(181, 4)"
      ]
     },
     "execution_count": 44,
     "metadata": {},
     "output_type": "execute_result"
    }
   ],
   "source": [
    "epoch_across_bout_mean_win_state_probs[0].shape"
   ]
  },
  {
   "cell_type": "code",
   "execution_count": null,
   "id": "7b3514a4-22eb-4a9d-b8ce-7170078748cf",
   "metadata": {},
   "outputs": [],
   "source": []
  },
  {
   "cell_type": "code",
   "execution_count": 45,
   "id": "d4ea3784-6414-4dc0-8303-ee533d28acc7",
   "metadata": {},
   "outputs": [
    {
     "name": "stdout",
     "output_type": "stream",
     "text": [
      "finished  0 1.0289311408996582\n",
      "finished  1 2.030527353286743\n",
      "finished  2 3.035011053085327\n",
      "finished  3 4.0384743213653564\n",
      "\n",
      "finished:  4.038800954818726\n"
     ]
    }
   ],
   "source": [
    "# ---- compute the bootstrapped stddev ---- #\n",
    "\n",
    "\n",
    "# args\n",
    "n_resamples=10000\n",
    "\n",
    "\n",
    "t0 = time.time()\n",
    "\n",
    "\n",
    "epoch_bootstrapped_stdevs = []\n",
    "for epochIdx in range(4):\n",
    "\n",
    "    epoch_data = np.copy(epoch_list_of_region_bout_combined_win_state_probs[epochIdx])\n",
    "\n",
    "    numSamples = epoch_data.shape[0] # number of bouts to bootstrap over\n",
    "\n",
    "    # grab all the bootstrap resampling data\n",
    "    allSamples_mean_epoch_win_state_probs = []\n",
    "    for i in range(n_resamples):\n",
    "\n",
    "        #  get the fight indices for this resample \n",
    "        indices=np.random.choice(range(0,numSamples), numSamples)\n",
    "\n",
    "        # get the sample collection of bout epoch state probs\n",
    "        sample_epoch_win_state_probs = []\n",
    "        for sampBoutIdx in indices:\n",
    "            sample_epoch_win_state_probs.append(epoch_data[sampBoutIdx,:,:])\n",
    "        sample_epoch_win_state_probs = np.stack(sample_epoch_win_state_probs, axis=0)\n",
    "\n",
    "        # get the sample mean, and record\n",
    "        sample_epoch_win_state_probs_mean = np.mean(sample_epoch_win_state_probs, axis=0)\n",
    "        allSamples_mean_epoch_win_state_probs.append(sample_epoch_win_state_probs_mean)\n",
    "    allSamples_mean_epoch_win_state_probs = np.stack(allSamples_mean_epoch_win_state_probs, axis=0)\n",
    "\n",
    "    # get the sdtdev of the bootstrap means\n",
    "    allSamples_stdev = np.std(allSamples_mean_epoch_win_state_probs, axis=0)\n",
    "    epoch_bootstrapped_stdevs.append(allSamples_stdev)\n",
    "\n",
    "    tE = time.time()\n",
    "    print('finished ', epochIdx, tE-t0)\n",
    "    \n",
    "print()\n",
    "tE = time.time()\n",
    "print('finished: ', tE-t0)"
   ]
  },
  {
   "cell_type": "code",
   "execution_count": 46,
   "id": "c44f460b-f26a-4ef1-8e87-35c2e3ebb118",
   "metadata": {},
   "outputs": [
    {
     "data": {
      "text/plain": [
       "4"
      ]
     },
     "execution_count": 46,
     "metadata": {},
     "output_type": "execute_result"
    }
   ],
   "source": [
    "len(epoch_bootstrapped_stdevs)"
   ]
  },
  {
   "cell_type": "code",
   "execution_count": 47,
   "id": "4ea80cd9-68b0-4b47-bc61-ac6651ac62cd",
   "metadata": {},
   "outputs": [
    {
     "data": {
      "text/plain": [
       "(181, 4)"
      ]
     },
     "execution_count": 47,
     "metadata": {},
     "output_type": "execute_result"
    }
   ],
   "source": [
    "epoch_bootstrapped_stdevs[0].shape"
   ]
  },
  {
   "cell_type": "code",
   "execution_count": null,
   "id": "7788faa4-55f0-4c2e-80c5-4c595fe531e4",
   "metadata": {},
   "outputs": [],
   "source": []
  },
  {
   "cell_type": "code",
   "execution_count": null,
   "id": "aff4a3cd-7303-4c8f-8ddb-6a9fe81ec593",
   "metadata": {},
   "outputs": [],
   "source": []
  },
  {
   "cell_type": "code",
   "execution_count": null,
   "id": "6de32ec1-64dc-4177-a211-082697bef868",
   "metadata": {},
   "outputs": [],
   "source": []
  },
  {
   "cell_type": "code",
   "execution_count": 48,
   "id": "235a2509-0a94-40bc-8761-b5266b8b8001",
   "metadata": {},
   "outputs": [
    {
     "name": "stdout",
     "output_type": "stream",
     "text": [
      "(361, 4)\n",
      "(361, 4)\n",
      "\n",
      "(361, 4)\n",
      "(361, 4)\n"
     ]
    }
   ],
   "source": [
    "# --- for plotting purposes, i.e. 2 panels, combine the first two epochs, and combining the last two epochs --- #\n",
    "\n",
    "# Now, when combining epochs they have one common window, so exclude that window from the second epoch\n",
    "# (i.e. when combining prefightstart and postfightstart, they both contain the exact fight start window)\n",
    "\n",
    "start_epoch_mean_win_state_probs = np.concatenate([ epoch_across_bout_mean_win_state_probs[0], \n",
    "                                                   epoch_across_bout_mean_win_state_probs[1][1:,:] ], axis=0)\n",
    "\n",
    "stop_epoch_mean_win_state_probs = np.concatenate([ epoch_across_bout_mean_win_state_probs[2], \n",
    "                                                  epoch_across_bout_mean_win_state_probs[3][1:,:] ], axis=0)\n",
    "\n",
    "start_epoch_stdevs = np.concatenate([ epoch_bootstrapped_stdevs[0], epoch_bootstrapped_stdevs[1][1:,:] ], axis=0)\n",
    "stop_epoch_stdevs = np.concatenate([ epoch_bootstrapped_stdevs[2], epoch_bootstrapped_stdevs[3][1:,:] ], axis=0)\n",
    "\n",
    "\n",
    "combined_numUsedWins = start_epoch_mean_win_state_probs.shape[0]\n",
    "\n",
    "print(start_epoch_mean_win_state_probs.shape)\n",
    "print(stop_epoch_mean_win_state_probs.shape)\n",
    "print()\n",
    "print(start_epoch_stdevs.shape)\n",
    "print(stop_epoch_stdevs.shape)"
   ]
  },
  {
   "cell_type": "code",
   "execution_count": null,
   "id": "af624daf-b1ad-4b65-aa3c-cc949f59fa3d",
   "metadata": {},
   "outputs": [],
   "source": []
  },
  {
   "cell_type": "code",
   "execution_count": 75,
   "id": "b66aa858-bb76-4128-8bd3-e8e3e39c490f",
   "metadata": {},
   "outputs": [
    {
     "name": "stdout",
     "output_type": "stream",
     "text": [
      "0 0.36\n",
      "1 0.14\n",
      "2 0.41\n",
      "3 0.12\n"
     ]
    }
   ],
   "source": [
    "# find the max y vals for both starts and stops for plotting purposes\n",
    "\n",
    "states_y_max = np.zeros((4))\n",
    "states_y_tick_max = np.zeros((4,))\n",
    "for stateIdx in range(4):\n",
    "    start_max = start_epoch_mean_win_state_probs[:, stateIdx] + start_epoch_stdevs[:, stateIdx]\n",
    "    stop_max = stop_epoch_mean_win_state_probs[:, stateIdx] + stop_epoch_stdevs[:, stateIdx]\n",
    "    both_max = np.round( np.max(np.array([start_max, stop_max])), 2)\n",
    "    states_y_max[stateIdx] = both_max*1.2\n",
    "    states_y_tick_max[stateIdx] = both_max\n",
    "    print(stateIdx, both_max)"
   ]
  },
  {
   "cell_type": "code",
   "execution_count": null,
   "id": "86d3a17f-3ad7-455e-89cb-d9c472da7d05",
   "metadata": {},
   "outputs": [],
   "source": []
  },
  {
   "cell_type": "code",
   "execution_count": 88,
   "id": "7b155426-a72c-4bd7-8695-a6b67b0bd92f",
   "metadata": {},
   "outputs": [
    {
     "data": {
      "text/plain": [
       "array([0.432, 0.168, 0.492, 0.144])"
      ]
     },
     "execution_count": 88,
     "metadata": {},
     "output_type": "execute_result"
    }
   ],
   "source": [
    "states_y_max"
   ]
  },
  {
   "cell_type": "code",
   "execution_count": 89,
   "id": "c1cf6a09-7ca2-4365-8b6e-35278b9f3457",
   "metadata": {},
   "outputs": [
    {
     "data": {
      "text/plain": [
       "array([0.36, 0.14, 0.41, 0.12])"
      ]
     },
     "execution_count": 89,
     "metadata": {},
     "output_type": "execute_result"
    }
   ],
   "source": [
    "states_y_tick_max"
   ]
  },
  {
   "cell_type": "code",
   "execution_count": null,
   "id": "43a8a388-2e88-4e09-ab6f-9a734c9a8a41",
   "metadata": {},
   "outputs": [],
   "source": []
  },
  {
   "cell_type": "code",
   "execution_count": 90,
   "id": "f18bbf10-6ce5-4461-81c4-da1f6c1a93b1",
   "metadata": {},
   "outputs": [
    {
     "data": {
      "text/plain": [
       "0.49199999999999994"
      ]
     },
     "execution_count": 90,
     "metadata": {},
     "output_type": "execute_result"
    }
   ],
   "source": [
    "np.max(states_y_max)"
   ]
  },
  {
   "cell_type": "code",
   "execution_count": null,
   "id": "04986aac-f8e6-44d6-91e4-ca15fb339356",
   "metadata": {},
   "outputs": [],
   "source": []
  },
  {
   "cell_type": "markdown",
   "id": "2dcf1a17-7399-40ec-9221-6c9674c6b7df",
   "metadata": {},
   "source": [
    "# plotting"
   ]
  },
  {
   "cell_type": "code",
   "execution_count": null,
   "id": "881e793f-3e19-4e9b-8f58-6d34c24a3921",
   "metadata": {},
   "outputs": [],
   "source": []
  },
  {
   "cell_type": "markdown",
   "id": "cf2a1f06-0745-48b5-8071-1e74b2802e16",
   "metadata": {},
   "source": [
    "## rough plots - left and right"
   ]
  },
  {
   "cell_type": "code",
   "execution_count": null,
   "id": "42716d9d-4442-4707-8f4e-6363ef1f2d6a",
   "metadata": {},
   "outputs": [],
   "source": []
  },
  {
   "cell_type": "code",
   "execution_count": 91,
   "id": "a574de1a-d922-4c51-ba88-ea85d73e6e18",
   "metadata": {},
   "outputs": [
    {
     "data": {
      "application/vnd.jupyter.widget-view+json": {
       "model_id": "07eca0132bef4dba83620d7ecc607099",
       "version_major": 2,
       "version_minor": 0
      },
      "text/html": [
       "\n",
       "            <div style=\"display: inline-block;\">\n",
       "                <div class=\"jupyter-widgets widget-label\" style=\"text-align: center;\">\n",
       "                    Figure\n",
       "                </div>\n",
       "                <img src='data:image/png;base64,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' width=600.0/>\n",
       "            </div>\n",
       "        "
      ],
      "text/plain": [
       "Canvas(toolbar=Toolbar(toolitems=[('Home', 'Reset original view', 'home', 'home'), ('Back', 'Back to previous …"
      ]
     },
     "metadata": {},
     "output_type": "display_data"
    }
   ],
   "source": [
    "fig = plt.figure(figsize=(6,6))\n",
    "gs = fig.add_gridspec(nrows=1, ncols=1, hspace=0)\n",
    "axs = gs.subplots(sharex=True, sharey=False)\n",
    "ax = axs\n",
    "\n",
    "# create xvalues for plotting\n",
    "x_vals_frames = np.array( [i*window_step for i in range(combined_numUsedWins)]) \n",
    "\n",
    "\n",
    "# make colors for this\n",
    "combined_colors = ['red', 'pink', 'blue', 'teal']\n",
    "\n",
    "var_names = ['winner attacks', 'winner approachs', 'loser attacks', 'loser approachs',]\n",
    "\n",
    "\n",
    "# plot the mean across trials\n",
    "for stateIdx in [0,1,2,3]:\n",
    "        \n",
    "    # fill between the stdev lines\n",
    "    max_curve = start_epoch_mean_win_state_probs[:, stateIdx] + start_epoch_stdevs[:, stateIdx]\n",
    "    min_curve = start_epoch_mean_win_state_probs[:, stateIdx] - start_epoch_stdevs[:, stateIdx]\n",
    "    ax.fill_between(x_vals_frames, y1=min_curve, y2=max_curve, color=combined_colors[stateIdx], alpha=0.5)\n",
    "\n",
    "    # plot the mean\n",
    "    ax.plot(x_vals_frames, start_epoch_mean_win_state_probs[:, stateIdx], color=combined_colors[stateIdx], linewidth=2,\n",
    "           label=var_names[stateIdx])\n",
    "    \n",
    "    # xticks\n",
    "    xticks = np.array([i*6000 for i in range(int(total_plot_time_mins*2)+1)]) #*2 because of concatenated 2 epochs\n",
    "    xticklabels = [i for i in range(-total_plot_time_mins, total_plot_time_mins+1)]\n",
    "    ax.set_xticks(xticks);\n",
    "    ax.set_xticklabels(xticklabels);\n",
    "    \n",
    "    # plot the dividing line between epochs\n",
    "    ax.axvline(np.mean(x_vals_frames), color='black', linestyle='--')\n",
    "    \n",
    "    # set the yticks\n",
    "    ax.set_yticks([0, states_y_tick_max[stateIdx]])\n",
    "    ax.set_yticklabels([0, states_y_tick_max[stateIdx]])\n",
    "    \n",
    "    # plot limits\n",
    "    ax.set_xlim(x_vals_frames[0], x_vals_frames[-1])\n",
    "    #ax.set_ylim(bottom=0, top=states_y_max[stateIdx])\n",
    "    \n",
    "     # axes labels\n",
    "    ax.set_ylabel('probability')\n",
    "        \n",
    "    # tick params\n",
    "    ax.xaxis.set_tick_params(width=2, length=4)\n",
    "    ax.yaxis.set_tick_params(width=2, length=4)\n",
    "    \n",
    "    # make the left and rights thicker for each axis\n",
    "    for axis in ['left','right']:\n",
    "        ax.spines[axis].set_linewidth(2)\n",
    "        \n",
    "    # # turn off all the interior x axes    \n",
    "    # for ii in range(2):\n",
    "    #     axs[ii].spines['bottom'].set_visible(False)\n",
    "    #     axs[ii+1].spines['top'].set_visible(False)\n",
    "        \n",
    "    # set the gridlines\n",
    "    #ax.grid(alpha=0.3)\n",
    "    ax.axhline(y=0, color='grey', alpha=0.3)\n",
    "    ax.axhline(y=states_y_tick_max[stateIdx], color='grey', alpha=0.2)\n",
    "    \n",
    "    ax.legend()\n",
    "\n",
    "    ax.set_title('Fight starts: winsize={0} s'.format(window_size/100))\n",
    "    ax.set_xlabel('time [min]')\n",
    "    \n",
    "ax.set_ylim(bottom=0, top=np.max(states_y_max))\n",
    "    \n",
    "fig.tight_layout()"
   ]
  },
  {
   "cell_type": "code",
   "execution_count": null,
   "id": "8a1697b9-11c5-41c9-b7da-9e67cefef7c7",
   "metadata": {},
   "outputs": [],
   "source": []
  },
  {
   "cell_type": "code",
   "execution_count": 92,
   "id": "492090eb-50cd-4953-b7e5-d54ec10ae2c4",
   "metadata": {},
   "outputs": [
    {
     "data": {
      "application/vnd.jupyter.widget-view+json": {
       "model_id": "d7838b4bf67542e8b8219a61174bbf65",
       "version_major": 2,
       "version_minor": 0
      },
      "text/html": [
       "\n",
       "            <div style=\"display: inline-block;\">\n",
       "                <div class=\"jupyter-widgets widget-label\" style=\"text-align: center;\">\n",
       "                    Figure\n",
       "                </div>\n",
       "                <img src='data:image/png;base64,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' width=600.0/>\n",
       "            </div>\n",
       "        "
      ],
      "text/plain": [
       "Canvas(toolbar=Toolbar(toolitems=[('Home', 'Reset original view', 'home', 'home'), ('Back', 'Back to previous …"
      ]
     },
     "metadata": {},
     "output_type": "display_data"
    }
   ],
   "source": [
    "fig = plt.figure(figsize=(6,6))\n",
    "gs = fig.add_gridspec(nrows=1, ncols=1, hspace=0)\n",
    "axs = gs.subplots(sharex=True, sharey=False)\n",
    "ax = axs\n",
    "\n",
    "# create xvalues for plotting\n",
    "x_vals_frames = np.array( [i*window_step for i in range(combined_numUsedWins)]) \n",
    "\n",
    "\n",
    "# # make colors for this\n",
    "# combined_colors = ['red', 'blue', 'green']\n",
    "\n",
    "# var_names = ['winner maneuvers', 'loser maneuvers', 'display maneuvers']\n",
    "\n",
    "\n",
    "# plot the mean across trials\n",
    "for stateIdx in [0,1,2,3]:\n",
    "        \n",
    "    # fill between the stdev lines\n",
    "    max_curve = stop_epoch_mean_win_state_probs[:, stateIdx] + stop_epoch_stdevs[:, stateIdx]\n",
    "    min_curve = stop_epoch_mean_win_state_probs[:, stateIdx] - stop_epoch_stdevs[:, stateIdx]\n",
    "    ax.fill_between(x_vals_frames, y1=min_curve, y2=max_curve, color=combined_colors[stateIdx], alpha=0.5)\n",
    "\n",
    "    # plot the mean\n",
    "    ax.plot(x_vals_frames, stop_epoch_mean_win_state_probs[:, stateIdx], color=combined_colors[stateIdx], linewidth=2,\n",
    "           label=var_names[stateIdx])\n",
    "    \n",
    "    # xticks\n",
    "    xticks = np.array([i*6000 for i in range(int(total_plot_time_mins*2)+1)]) #*2 because of concatenated 2 epochs\n",
    "    xticklabels = [i for i in range(-total_plot_time_mins, total_plot_time_mins+1)]\n",
    "    ax.set_xticks(xticks);\n",
    "    ax.set_xticklabels(xticklabels);\n",
    "    \n",
    "    # plot the dividing line between epochs\n",
    "    ax.axvline(np.mean(x_vals_frames), color='black', linestyle='--')\n",
    "    \n",
    "    # set the yticks\n",
    "    ax.set_yticks([0, states_y_tick_max[stateIdx]])\n",
    "    ax.set_yticklabels([0, states_y_tick_max[stateIdx]])\n",
    "    \n",
    "    # plot limits\n",
    "    ax.set_xlim(x_vals_frames[0], x_vals_frames[-1])\n",
    "    #ax.set_ylim(bottom=0, top=states_y_max[stateIdx])\n",
    "    \n",
    "     # axes labels\n",
    "    ax.set_ylabel('probability')\n",
    "        \n",
    "    # tick params\n",
    "    ax.xaxis.set_tick_params(width=2, length=4)\n",
    "    ax.yaxis.set_tick_params(width=2, length=4)\n",
    "    \n",
    "    # make the left and rights thicker for each axis\n",
    "    for axis in ['left','right']:\n",
    "        ax.spines[axis].set_linewidth(2)\n",
    "        \n",
    "    # # turn off all the interior x axes    \n",
    "    # for ii in range(2):\n",
    "    #     axs[ii].spines['bottom'].set_visible(False)\n",
    "    #     axs[ii+1].spines['top'].set_visible(False)\n",
    "        \n",
    "    # set the gridlines\n",
    "    #ax.grid(alpha=0.3)\n",
    "    ax.axhline(y=0, color='grey', alpha=0.3)\n",
    "    ax.axhline(y=states_y_tick_max[stateIdx], color='grey', alpha=0.2)\n",
    "    \n",
    "    ax.legend(loc='upper right')\n",
    "    \n",
    "    ax.set_title('Fight ends: winsize={0} s'.format(window_size/100))\n",
    "    ax.set_xlabel('time [min]')\n",
    "    \n",
    "ax.set_ylim(bottom=0, top=np.max(states_y_max))\n",
    "\n",
    "\n",
    "fig.tight_layout()"
   ]
  },
  {
   "cell_type": "code",
   "execution_count": null,
   "id": "2e04f85a-35e0-45b6-bcc5-dd1294ecc694",
   "metadata": {},
   "outputs": [],
   "source": []
  },
  {
   "cell_type": "code",
   "execution_count": null,
   "id": "aba61957-3578-4c71-8d99-34b6672d67e1",
   "metadata": {},
   "outputs": [],
   "source": []
  },
  {
   "cell_type": "code",
   "execution_count": null,
   "id": "3e02605e-0e6d-4a03-8316-10ff92b696b0",
   "metadata": {},
   "outputs": [],
   "source": []
  },
  {
   "cell_type": "code",
   "execution_count": null,
   "id": "d9970187-33ce-46ac-b6cd-55343dc3c94a",
   "metadata": {},
   "outputs": [],
   "source": []
  },
  {
   "cell_type": "markdown",
   "id": "bca25234-9367-4154-ba02-78dab10858f0",
   "metadata": {
    "tags": []
   },
   "source": [
    "## publication version plots - both panels at once"
   ]
  },
  {
   "cell_type": "code",
   "execution_count": 96,
   "id": "92b6289c-5250-44ca-bb90-0a1d651c26be",
   "metadata": {},
   "outputs": [
    {
     "data": {
      "application/vnd.jupyter.widget-view+json": {
       "model_id": "88b1dec1ae60473b8075e126d17bc018",
       "version_major": 2,
       "version_minor": 0
      },
      "text/html": [
       "\n",
       "            <div style=\"display: inline-block;\">\n",
       "                <div class=\"jupyter-widgets widget-label\" style=\"text-align: center;\">\n",
       "                    Figure\n",
       "                </div>\n",
       "                <img src='data:image/png;base64,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' width=484.99999999999994/>\n",
       "            </div>\n",
       "        "
      ],
      "text/plain": [
       "Canvas(toolbar=Toolbar(toolitems=[('Home', 'Reset original view', 'home', 'home'), ('Back', 'Back to previous …"
      ]
     },
     "metadata": {},
     "output_type": "display_data"
    }
   ],
   "source": [
    "#imsavepath = '/home/liam/temp/image_transfer/figure7_A_v2.png'\n",
    "\n",
    "fig = plt.figure(figsize=(4.85,1.75))\n",
    "gs = fig.add_gridspec(nrows=1, ncols=2, hspace=0)\n",
    "axs = gs.subplots(sharex=False, sharey=False)\n",
    "ax= axs[0]\n",
    "\n",
    "# create xvalues for plotting\n",
    "x_vals_frames = np.array( [i*window_step for i in range(combined_numUsedWins)]) \n",
    "\n",
    "\n",
    "# plot the mean across trials\n",
    "for stateIdx in [0,1,2,3]:\n",
    "    \n",
    "    # make the left and rights thicker for each axis\n",
    "    #for axis in ['left','right']:\n",
    "    for axis in ['left', 'right']:\n",
    "        ax.spines[axis].set_linewidth(2)\n",
    "    for axis in ['right']:\n",
    "        ax.spines[axis].set_visible(False)\n",
    "    \n",
    "    # fill between the stdev lines\n",
    "    max_curve = start_epoch_mean_win_state_probs[:, stateIdx] + start_epoch_stdevs[:, stateIdx]\n",
    "    min_curve = start_epoch_mean_win_state_probs[:, stateIdx] - start_epoch_stdevs[:, stateIdx]\n",
    "    ax.fill_between(x_vals_frames, y1=min_curve, y2=max_curve, color=combined_colors[stateIdx], alpha=0.5)\n",
    "\n",
    "    # plot the mean\n",
    "    ax.plot(x_vals_frames, start_epoch_mean_win_state_probs[:, stateIdx], color=combined_colors[stateIdx], linewidth=1)\n",
    "    \n",
    "    # xticks\n",
    "    ax.set_xticks([]);\n",
    "    ax.set_xticklabels([]);\n",
    "    \n",
    "    # plot the dividing line between epochs\n",
    "    ax.axvline(np.mean(x_vals_frames), color='black', linestyle='--')\n",
    "    \n",
    "    # plot limits\n",
    "    ax.set_xlim(x_vals_frames[0], x_vals_frames[-1])\n",
    "    #ax.set_ylim(bottom=0, top=states_y_max[stateIdx])\n",
    "    \n",
    "     # axes labels\n",
    "    ax.set_ylabel(all_state_names[stateIdx]+'\\n prob')\n",
    "        \n",
    "    # tick params\n",
    "    ax.xaxis.set_tick_params(width=1, length=4)\n",
    "    ax.yaxis.set_tick_params(width=1, length=4)\n",
    "\n",
    "    # set the gridlines\n",
    "    #ax.grid(alpha=0.3)\n",
    "    #ax.axhline(y=0, color='grey', alpha=0.3)\n",
    "    #ax.axhline(y=states_y_tick_max[stateIdx], color='grey', alpha=0.2)\n",
    "    \n",
    "    ## EXTRAS TURN OFF PLOT ILLUSTRATOR VERSION ####\n",
    "    ax.set_yticklabels([])\n",
    "    ax.set_xticklabels([])\n",
    "    ax.set_xlabel('')\n",
    "    ax.set_ylabel('')\n",
    "    \n",
    "ax.set_ylim(bottom=0, top=np.max(states_y_max))\n",
    "\n",
    "# xticks\n",
    "xticks = np.array([i*6000 for i in range(int(total_plot_time_mins*2)+1)]) #*2 because of concatenated 2 epochs\n",
    "xticklabels = [i for i in range(-total_plot_time_mins, total_plot_time_mins+1)]\n",
    "ax.set_xticks(xticks);\n",
    "\n",
    "# set the yticks\n",
    "#yticks = [0, states_y_tick_max[2], states_y_tick_max[3]]\n",
    "#ax.set_yticks(yticks)\n",
    "\n",
    "# set the yticks\n",
    "ax.set_yticks([0, np.max(states_y_tick_max)])\n",
    "\n",
    "#ax.set_yticks(yticks)\n",
    "ax.set_yticklabels('')\n",
    "\n",
    "\n",
    "# make the very top and very bottoms lines thicker\n",
    "#ax = axs[0]\n",
    "for axis in ['top']:\n",
    "    ax.spines[axis].set_linewidth(2)\n",
    "#ax = axs[-1]\n",
    "for axis in ['bottom']:\n",
    "    ax.spines[axis].set_linewidth(2)\n",
    "\n",
    "    \n",
    "    \n",
    "    \n",
    "    \n",
    "    \n",
    "# ---------------------------------------------------------------\n",
    "\n",
    "\n",
    "\n",
    "\n",
    "\n",
    "ax= axs[1]\n",
    "# create xvalues for plotting\n",
    "x_vals_frames = np.array( [i*window_step for i in range(combined_numUsedWins)]) \n",
    "\n",
    "\n",
    "# plot the mean across trials\n",
    "for stateIdx in [0,1,2,3]:\n",
    "    \n",
    "    # make the left and rights thicker for each axis\n",
    "    #for axis in ['left','right']:\n",
    "    for axis in ['left', 'right']:\n",
    "        ax.spines[axis].set_linewidth(2)\n",
    "    for axis in ['left']:\n",
    "        ax.spines[axis].set_visible(False)\n",
    "    \n",
    "    # fill between the stdev lines\n",
    "    max_curve = stop_epoch_mean_win_state_probs[:, stateIdx] + stop_epoch_stdevs[:, stateIdx]\n",
    "    min_curve = stop_epoch_mean_win_state_probs[:, stateIdx] - stop_epoch_stdevs[:, stateIdx]\n",
    "    ax.fill_between(x_vals_frames, y1=min_curve, y2=max_curve, color=combined_colors[stateIdx], alpha=0.5)\n",
    "\n",
    "    # plot the mean\n",
    "    ax.plot(x_vals_frames, stop_epoch_mean_win_state_probs[:, stateIdx], color=combined_colors[stateIdx], linewidth=1)\n",
    "    \n",
    "    # xticks\n",
    "    ax.set_xticks([]);\n",
    "    ax.set_xticklabels([]);\n",
    "    \n",
    "    # plot the dividing line between epochs\n",
    "    ax.axvline(np.mean(x_vals_frames), color='black', linestyle='--')\n",
    "    \n",
    "    # plot limits\n",
    "    ax.set_xlim(x_vals_frames[0], x_vals_frames[-1])\n",
    "    #ax.set_ylim(bottom=0, top=states_y_max[stateIdx])\n",
    "    \n",
    "     # axes labels\n",
    "    ax.set_ylabel(all_state_names[stateIdx]+'\\n prob')\n",
    "        \n",
    "    # tick params\n",
    "    ax.xaxis.set_tick_params(width=1, length=4)\n",
    "    ax.yaxis.set_tick_params(width=0, length=4)\n",
    "\n",
    "    # set the gridlines\n",
    "    #ax.grid(alpha=0.3)\n",
    "    #ax.axhline(y=0, color='grey', alpha=0.3)\n",
    "    #ax.axhline(y=states_y_tick_max[stateIdx], color='grey', alpha=0.2)\n",
    "    \n",
    "    ## EXTRAS TURN OFF PLOT ILLUSTRATOR VERSION ####\n",
    "    ax.set_yticklabels([])\n",
    "    ax.set_xticklabels([])\n",
    "    ax.set_xlabel('')\n",
    "    ax.set_ylabel('')\n",
    "    \n",
    "    \n",
    "ax.set_ylim(bottom=0, top=np.max(states_y_max))\n",
    "\n",
    "# xticks\n",
    "xticks = np.array([i*6000 for i in range(int(total_plot_time_mins*2)+1)]) #*2 because of concatenated 2 epochs\n",
    "xticklabels = [i for i in range(-total_plot_time_mins, total_plot_time_mins+1)]\n",
    "ax.set_xticks(xticks);\n",
    "\n",
    "# set the yticks\n",
    "#yticks = [0, states_y_tick_max[2], states_y_tick_max[3]]\n",
    "#ax.set_yticks(yticks)\n",
    "\n",
    "# set the yticks\n",
    "ax.set_yticks([0, np.max(states_y_tick_max)])\n",
    "ax.set_yticklabels([0, states_y_tick_max[stateIdx]])\n",
    "\n",
    "#ax.set_yticks(yticks)\n",
    "ax.set_yticklabels('')\n",
    "\n",
    "\n",
    "# make the very top and very bottoms lines thicker\n",
    "#ax = axs[0]\n",
    "for axis in ['top']:\n",
    "    ax.spines[axis].set_linewidth(2)\n",
    "#ax = axs[-1]\n",
    "for axis in ['bottom']:\n",
    "    ax.spines[axis].set_linewidth(2)\n",
    "    \n",
    "    \n",
    "    \n",
    "    \n",
    "    \n",
    "    \n",
    "\n",
    "\n",
    "\n",
    "# ----------------------------#\n",
    "fig.tight_layout()\n",
    "#fig.savefig(imsavepath, dpi=300, transparent=False)"
   ]
  },
  {
   "cell_type": "code",
   "execution_count": null,
   "id": "7d5f6cad-4bd8-4d8d-b485-f722d8bef5b2",
   "metadata": {},
   "outputs": [],
   "source": []
  },
  {
   "cell_type": "code",
   "execution_count": null,
   "id": "3459d8a6-88dd-4be1-90ff-1a7054565cb9",
   "metadata": {},
   "outputs": [],
   "source": []
  },
  {
   "cell_type": "code",
   "execution_count": null,
   "id": "894b6a05-fcfa-44cf-b509-27257b37d2e5",
   "metadata": {},
   "outputs": [],
   "source": []
  },
  {
   "cell_type": "markdown",
   "id": "0268cbcb-5124-4179-83d3-21bb0427536b",
   "metadata": {},
   "source": [
    "## resized publication versions"
   ]
  },
  {
   "cell_type": "code",
   "execution_count": null,
   "id": "8fa599bf-0a26-4647-a1fb-9f3b8a303764",
   "metadata": {},
   "outputs": [],
   "source": []
  },
  {
   "cell_type": "code",
   "execution_count": null,
   "id": "7917f946-1e01-4b8c-ac2a-cf0ddcb1c20c",
   "metadata": {},
   "outputs": [],
   "source": []
  },
  {
   "cell_type": "code",
   "execution_count": 97,
   "id": "70c8a289-ff8d-49a6-83b0-32947bc517eb",
   "metadata": {},
   "outputs": [
    {
     "data": {
      "application/vnd.jupyter.widget-view+json": {
       "model_id": "0be25b9650514e838cfac4c0c277f9fe",
       "version_major": 2,
       "version_minor": 0
      },
      "text/html": [
       "\n",
       "            <div style=\"display: inline-block;\">\n",
       "                <div class=\"jupyter-widgets widget-label\" style=\"text-align: center;\">\n",
       "                    Figure\n",
       "                </div>\n",
       "                <img src='data:image/png;base64,iVBORw0KGgoAAAANSUhEUgAAALkAAABkCAYAAADaDZGtAAAAOXRFWHRTb2Z0d2FyZQBNYXRwbG90bGliIHZlcnNpb24zLjQuMywgaHR0cHM6Ly9tYXRwbG90bGliLm9yZy/MnkTPAAAACXBIWXMAAA9hAAAPYQGoP6dpAAAiiklEQVR4nO2deXwc1ZXvv7X0pl7Ui7aWZGu1bMv7jrHBDpuNwTAkhMQQGBzygbAkeUmGl9kSkry8N5OQGTJkYLJAgCTGLA67gYDtgGU241W2kSXbWqx9732t7np/XBnbCSQQSwiU+n4+9emW1HXrVutXp84959xbkq7rOgYGExh5vDtgYDDWGCI3mPAYIjeY8BgiN5jwGCI3mPAYIjeY8BgiN5jwGCI3mPAYIjeY8BgiN5jwqKPdYHd3N93d3aTTaaLRKHPnzkVVR/0wBn8jOJ1OJEk6s0b0UeaOO+7QAWMztlHZgsHgGWtS0vXRLdA6Yck7Ozu57LLLqK+vp6ysbDQPMSH4xS9+we23386dd97JjTfeON7d+dgyGpZ81P0Iv9+P3+/H6/UCopMul2u0D/OJx2azvftqfD9jizHwNJjwGCIfJ6qqqlBVlaqqqvHuyoTHCHuME6tXryadTo93N/4mMCz5OFFfX8/UqVOpr68f765MeAyRjxN1dXU0NTVRV1c33l2Z8BgiN5jwGCI3mPAYIjeY8BjRlXHikksuYcuWLVxyySXj3ZUJjyHycaK8vJwnn3xyvLvxN4HhrowTmzZtQpIkNm3aNN5dmfAYIh8nent7T3s1GDsMkRtMeAyRG0x4DJGPE3a7/bRXg7Fj1CdNnKC1tZWKigpaWlooLy8fi0MYGHwgDEs+TgQCAe655x4CgcB4d2XCY4h8nNiwYQO33XYbGzZsGO+uTHgMkRtMeAyRG0x4DJEbTHgMkY8Tc+bMITc3lzlz5ox3VyY8RoHWOLF8+fJPfGRF1+FMF7f6KDAs+TixY8cO3G43O3bsGO+ufCiGhuDb34Z/+if4yV067c/u4+0NTWQy492z98ew5OPE/v37CQaD7N+/n+XLl493dz4Q2Sxs3Aj79kE4rGMb6qIl1UtcdXFeKMCURW4WTu4DjwdMpjM61vPPg9sNZ5995v02RG4Aw8NCmH+GVAqeeAK2b4eq4jhuKUj6tV3EI0k6016e+vFRCrwatYt/R06xG66/HkpKPngfNA2Gh8nKKg8/72bHaxJFRYbIDf4adB0aGoRq334bHA546y0hyrlz33OXVApefRUe/9kgpkAf/YkYw6rOup5HWTW4kUenfodd2jyOd+bxep3G7LwDvLnrJRb9vyvojLrpaEnjT7ay+NOlSDlieTxaW2HfPoaTOTy/WadA76UocpTNPfPZH6pkMGln2XUyUHHGp2yI/JPG4CD88pewYAGcdx4oygfft7ERHnsM2tuFcuNxkGXo7YX77oOqKigrg1mzoKqKZFrmrbfgpZeg81AAa+dRNh5dhD4ylPsD/w78kOWNdXzT8RMWRF6Fbnhu8i08kJzGK198h165mFQ4SU64l+c3RbnxnrmUBN+BBx6g4fVhftl3GYeDxfisVtKWWmLDKZymAY4F81Cb6zFE/gnmmmuuOe31L9LRAY88Al1dcPAg7NkDb74JxcVgt8PnPvenoY4TtXeSBM89B08/Dd3dYDbDpElgsYDNBlOmwPHjQs1ut3itruZX3X/H9rYyEgnwtjXyTl8+dlOK6z1Pc8vQD/i/rh+xObaSjYmr2Ri5mlc5l3Op49Lj9+LydHBfyy3ku97BlAjTpft5c7cJ5av7ud1zH9b+dh7lVo6bipk7dYiEZsIqR4m6FR6oX0YyLYNzdBZCNaoQPwnoOtx/Pzz6KBQWwuTJwhJ3d0MwCD4f3HTTSQdW02DTJmhqgkQCSkuFa5LJiPcnBoW6LsIlmgZFRaLNSITjR5L8qvU8erQ8QjiZkhfg8QNTaYqW8CKruYCtxFUHdy15lFQwznDCxkt9czBbZK6Y1oB7uJkvHfw6g/bJdDimUTJUj8kkca///9AQK2OxrZ5b+79LZ6aITfqneTp5MedSh5pN8iO+BcD3pe9Qfetq1v30zJ1yw5KPEw8++CDr16/ngQce4Prrr//zH25rg9deg6lThaVNJIQvPWWKEOqePeICaGsTLkgsBtu2QTgsBDxpEkSjkJsr2jl0SLg9LheEQuIYt98ONhu6x8tjmbOpi5TjUwO41Qg/37uIwaSD7fJKJL+fbab17CtcTSqUAFXF44F50SNs7F6JKz3AjsB53C5djy0aJxx1AnBlehOrUoco8g5zQ8M/EFXd3Kbfxdb0CqzECVl8BLIu5qb38jifpdVWSz+rR+W7NkQ+TkSj0dNe35d0WoQ1AgFhxR97DI4cgdWrYd484XrMmCFcmHAYBgaEn15eLkSdzcLhw7B3L7S0ANDpX4DDppIb6kVfuhSpuRnuvBOAAXs5uc4MK1z9PNi7mraQB5uc5Gd8mebatexzLmd/TxGW7ih2OYF1ahkpk50K9W3Wmvbz+84ZANS6Oohk7cxxD5HOymzqvJJN7VfSwDSa8xZyh/enbG2axfq5e5mcGzztlH/LfRxosnAlo+NkGCL/uPPss7Bjh4iAPPWU8L/nz4ctW2DrVuGqXHKJsOrJpBD80BC88IIYaI6g5+XRveZLvNgzlydD54NDotjUx8K8YVbOaiR6qJXaN+4nP9pKZfR1ftLzeVrw8W3vPdyc+E/6HZU87rmOY30e5tkayM/2os1dSG9hIZkMHNaX4S1O8k/rVTLhGMrxKDTtFXcWk4ll1t280DufefF6psqDxPpVqnP7mOwKkNVlJHQkdNB12sNu4lkdu+UvGIAPiCHyjzPNzbB5s4iGDA8LMc+eTVqx0rPoCuTWZoqP1iE9+CDccgtEIhAOo2/6HaRT6IoJOSOWh37pnB/wRNsCeqN2phcMkmNKMxCz8czhqRzqy6c9eAl6zW245RAPvLMEgK+a7uWb0e8TVx08X3Ezh447maw3cvvSbeRXOOBfPoduh/5++MMfzDz2mJlMBhRnDtTWgtcrIjeBAM5MhsvkXTTK03ilpZxAKoe/r9pBqD1Ic6wQsjqKSSKmmfFIAaZZhlhZOzpfoyHycaKwsPC01z+huVmE9Q4fht274dOfhpkzGYjlcPdrS2gL5JLVJa6sXsDlx26Dn/703V13FH6G31fewlDaSSQKTj1MT0MRElm6ww4OdvmY7BhkpqeL6bkx9rTkUVUU4njUx7aOOVR6hrh0ShNuay13SY+S0BSO9udSqrTzpc9EyL/oclixAkwmJKCgAFatErH05mbIz4fjxyXATyLlR3FCjh5hWuwV5kTrqSl9h0BJLbZJNRxvq2ZB6QBznc1E/dXsPmBiqdrE2bMjuC5YNSrftRFd+TiyYwf85jfCj969G5Ytg/POI5VRuGfnQrYfLqSyIEIcK0NxG98oephF237IAd+neCj3qxy3VKNlZdChzDkEkkQykuTp5jn0Jt1UOAcYSDoIpWzMcrYyt6SP7cfLaY0VMt3dzeW1R7CoGSJJlYGEk3DSTH6yg5vXtDHnR9dATs57dvvll0Xav6dH5JVCIWHM02nxvqMxiic7SLkniD51GvUNJi6+GNavPxnw0TQY7SdiGpZ8nGhtbeXrX/86d9111+lGQNeFSdyxQ2QmL7wQzjqLrqCdp3aXsqPZQ3VuN/ZwGKfJRCw7ibv7Pk962tUMJ22UOkPMcPVBIIAeixMZyuFopJCXBpeRyJi5emUXU2pN6LkmGre08OjbldQfrqDEEeTKyW8x3dGO1JskkLTSmJhMuW+YVVO6WJB5m5rrrn5fgYPoqt8vQvq1tSIQ5HSKMH1zM+zaZeeZZ+zsj4J6RAwnLr309DKXsXjkqyHycWLz5s089dRTXHDBBdx6660n/9DeLszh4cNCAfPns6eriF9urWAo60F1mNmfs5R9R+zY9QhXFr1GVpPA62W6dZC2YRevNfrItbn4XeuCd5udURHjss+bMZuLAZCAaWsqWe2Dvj64dLUdKVIDbRaOtqnoXjP+eJDbav7ADA6JSM77pP1PZeZMsf0xlZVQUSHC9EePihqYhQtFLmusMUT+cSKdhv/5Hzh0iOzlV/CQfh2dL5vp7ZXozhZSvLCEh1/KQ++WKC2F3h4zL2XP5wrXNkJ9fbwRr+SlnpOTMFQV1q2DSaU6JnMOui6unVBIhMgdDmFxlywBUAnKHlrw4J0H554Lxb4EtXP90N0FNTUiXHkGSJLIV519trD6I0/BHHMMkX9cSKXgv/8bHn+crC+fBxLreOGQn3jGhNVto3hmPhtfzsPuELVUJhO0t0v86ld22uyrCUbFPX/NlCPMuKCI40NOpk49kemXSKehvl4MEmfPFofs7RWuRU6OyB9pmihdufZaURojSVagFCaVjvrp+v2j3uT7Yoj840AqBY8/Di+8gN7czMvzvsWz+ydTUpTBN6uQl4+U8cTjEooisvcnfNhJk4SlPn7cRE58kFxrkhkrysBsZlqB+Iyui/xQWxtUV8P558PateJvmibyTI8+KsR9/vnCqufljc/XMFYYIh8PDh7knFSKmuJizmlpge9+F954A954g4GCGdzXexkJs5Of1U/H3y/R2SlCdFOngtUqhBsOi5qqwkLhSYDv3ebTaeGqhEKiotXtFu70tdeKNk6gqrBmjWhr1SrhL09EDJF/lEQioqZk82Zmt7XRuHKl8CE0DXbsIDZ9Ad/nh/R3O3kzOJVsViIWezdEjiQJ4R49Kt7PmiUCMB7PyahEd7coVMxmxe/mzRPiLi9/76pchwNuuOGj/BI+egyRf1Q0NMA994iqwUSCF71e1m7cyLOrVrF6/36YOpVd82/k1afKORAsY9H8DKvWnBSmrkNnp6irWrxYRCbmz4d/+zfYv18M4gYGhNVeskQI3OOBz3xm4rkfHxZD5B8F2axIz7e2CudXkjh28CCarnPsxRfB7Ub71IU89NxkDgYnc+nyAPPPc5NKierYE1ERu11k9q+99mSgY906ePJJMXB0u0/63J+EWfQfFYbIPwr27hVbQYEQe1vbyb/NmgWXXsoTW7w807eUmdUJFpyXSyoNBw4IT0bXhdtx2WXCep8ayVu8GBYtEhdDLHYy+WJwEkPkY83Bg/DQQ8IX7+kR/se11zLU2Ac7f89xZy3fefkcDvYVMBjPYc3ZEoGgqIqdMkW4HbW1IrMvBph/iiSJz7lGZyLNhMMQ+VjS3Q333ivSe4ODYgRZXc0QXl7Zngf8nrqmIuyZfPYkZ1BSIuF0itj1WWfB1VcL78bgzDBEPla0tYkiq5YW8X7ZMrIzZ7OtpYLXj5dikov5fOVVHAnkcygxCbNNYe1acV1cdpkQ+BkuXWIwgiHysSAWE2Wyb7whQh82GyxeTFOXg0feKOP4sJOXB6edtsst68Vu5eViMGkIfPQwlokbC7ZsEb74gQNiRvznPoceCvPaHhsdcS+7otOReAWQOHfZz/nqV4VPHQ6LmpEzLBEx+CP+pi15f7/QoskksoR+vxjcyWdy6be2iirCbdtEo7fcAsBL+3K5d+jz7On04vfrnD+jkS1bQLVoBINC4GvWiKmbBqPLx0bkg4MiFrxggUhdjzXJpKiHOnBg5BcDA9j1MF/4VimrLj0DX2HPHjH30uEQfkdODrvq4jwUuJxD3R4KC+GGGyTq6jRAnPfkySKB84UvCMNvMLp8LEQeCMBPfiKWCbnqKhGEGMtY79CQWKfn4AGdmuIIlmMN6OFe2gbsPPu9XqpCMtXrFn24Tui6iIX/+MdiPubNN4PZTN+eDh4LfJ66gVrsdon168Xc3qEhsdvSpeKjlZWGwMeKcRF5PC6iCKWlotzz3nuFFXe74ZlnxO+rq0UJqM02usceGoLf/LCLFzZF6Q3ZOKCZsaTz0RJuyuyDRNNp7vyuxjnbXmGd72WUKy4T8TwATUNPJpFOffZmKCQ6ed99worv2QOf+hQ4HGQamnhRWcdTgZX0DKh88YvCRRochEWLqmhoULn88qp3S18NxoaPXOSaJuYF7N0rpj9FoyIuPDAgBl+KAj//ufCTS0vhX/919Ky6rsPG/+jisYdiHBv2EctaOdu6B3tykDmZ3fw49A/cFPsVqurllec86D4XF/c/wkA0Sqamhjc3bKAtGuW6lSupPvdc4dD/+tfiROrrhcB1nUDVfF542Ueb/QaeCa7kSKuZq64SA8q+PrGE4fr1q7n//vTonJjBn2XsJzK/tZNySYED9QS7IryoXMymF53kVbtJ9IeIRmHLThexpEJKk7nmGgm3M0PvgILFIjLhZWUibvznCo20bFYcNxCgwG7Hdeq9v6cHfWCQra9buembDpojhZwrbefn6q1MSx/kUN4K3ph0FU3dCnf3/D3FdHEPt3CuUsfN5/0L/VM0ipwx+tNpErrO4kyGC81mZiWT5NXXi9qUt9+GZJLMNdfx/T1r2JuaRaK0iu1vmFm4UAj7wAE45xz4ylegoaGez372szz++OPMNkz5mDLmllx/5gW68+ewZU8Fe9tyaexIc6QvS0FzNyTi7B6qoMDbzczlr9DVejYbH65kSmkLybwsnpoeDvbEkY872NWax9qrcjicbGae38+lNTWkMxmODQ3x1OHD9A8OIqfT9KoqPquVZZMns7a8AktrGzzwK/YdUPjmWzcTjChsZg0+v5WciM7jlf/KnryLiIfibDunjVmpjcS2z2Rt8GmuyLufafGn2Z06m3pNpctloyQeR5FlmlIpvrJjB0sGBrAMDhG35/H66pvZ1DeZV3qXEJaLGThuwucTwm5oEHMcv/AFcZeqq6ujqamJuro6Q+RjzJiLvM83E6fuZm5lhC2NxbwTLGYgZSI4HCJtzmHqzEMkFr9GuyWFqfhpfI5FtLTUkOwoZDgTwDP1EIo3wSuDLrY8kSFpj3NRTT+BvXs5ODBAh9lKVzxOdngIWddJ22xoefls7O6l50ADJU2NJOtC/PPB22mPFfMb9XremHULPfgJuK1kdZnsQC9H5wzQNKUfc9QC07egKFvZZEoCYsHJ3ESGiuEILR4PncCKnj4K2tvpUKzsrlzOPVXX0mnN0t9eSXiwDJcvxbJlsPDsFAePpPGWJKlY00u7lkue/hHO/TIYe5G7MsPUbTVx04tiztUMf4DvVd7J/vIwlf31HPPlc09RNSlVISch4TnneVi1FUkyEZAgoKlIuo5ZipK0ZECX2HogSgdR+sxmhlSVgYwIxyGBkojzVmc7ZzlzqTU7eD6Uy089l+JbuIutu67ih0tvIJJKUxToY+ZkN9NrO3ilOMCgkiAVTOPxqqx0F3CWx4U3mcuG387g5e1+8vM6UZbsZo15D7ZsJ1unFFF7220U9PnQ0irpfpVYXi+ZnAbslYNU12RJ61aej0poZQmmTc/wQk+Ut0M5XFRVRSiZBGDzkSM49u2j2OmkxOWixudDPaNAvcEfM+Y+eZ55P9HsNJyWFP953SE+u2KItqZ61vZ1EMyxM2yzcp2kcFN3H9tjYSLdXZjjMTRvIcniWaTqO/hZ8mq0gkEqM2niRb0cqwyiSxILkVlaMpmpwMUFxew73sKqyZX8PhXnlqZD9KaTqEkLGUVDVzOYkyqmrIJfzXBjWQXz8zzc3dnGM4O9lFlsPFw7l7NzvdSHY3xzZzcNQxpONJYFF3H/b2tZNDPA2gs7+O9dMdL53QzP3nfaOSsHZmMuHiDu6+LTrskcHE7RqgdwWlUURSORzTDf48VtsdBfV8drDz7ArPXrmbJqFTrgsljIt9v5zPTpLPD7MX2YBfYN3pcxF7mveCfXLc6hN7ePQ64OJlnNHPS24ZZV5jjcqBLcmD+ZaqcFr9VGOK1xfCDKDH8u4UQau0UlGle48ltFvHSgmAJlgMf+7Q1KZzgplRT0p3+HFA6yccZsaly5zHM5sf3zN4hnMnxtyjp+uf/bPPK9wxRMCnFvRwv1sSCdWopo9uTjyr5UVkmeyYxPVjiaTqHpWVyqhXTAQ+thKz0dKdZW5vDjX8wnHDEzvSxOZzhDKGBDtiYonnOEc5YNcsVMmbubBjmvMsv3OxrebX9JroeZOQ760yleHOxjoctNZzBAW0szBZWVzC8pJQpYzSbsJhNWVaXC4+HWRYsoMepnz5gxF3nJ1T/AQwHt7hgJZ4KMScMuKxw+ezlDiRT/0dhAUE6yxGZHkxWuKavicCDKjp4wjx1Lc47PzZdm5pLWdAJtfu5+ooi3G23kzq0nnNGwlXajWFN4TRmi4RwKXEkuSh8kWGfm7s5/QKlqZcHKev7XUhMVjhwWevI4mohxb087r4eGcSomci1mzIqK32rlpqoafDYrnuIiZI+LSAQe/nmEHds0QlGZTy0I85mz+igpyPL6Ozm48kNMz1NQ5ZNxzrZoihua61nq8fDFPD8V1hx2xyM4ZIWWWIQ7mpvYGQ4wze5gWo6TLUN9REaeEWhRFOYUFuK0WFg6aRKzCwroCoep8fkoc7vx2my4LBZahoep8fnO2NqnMxl2d3fTMjyM02JhdmEhWV2n3O0mqWkosvyJd5/GXOTql/83itdL0pzAkpHJ17P8nc1Kr2rCk9FIKArLkfl7kwVUFc1iJWI2YY4neOqAg3fay2kb9qBpEhfODFNWkuX7jxSyu6UQTVPQdSEui6qR1FR8jgSaBqGEhdKKZgpmtfDjKyuZOj3KK309aBL0pVNoaY1+LU2vnmF5ZQXLy8spkFXynQ4wqacVsGQy8NqWJL/+DUQjOhY9SZU/jmtSHwvKkjT2yuzqyaLF7Xz5LJlj9n6eC7bQm0qRJ6vMdDhoSSVRJImBdAqLLDO3o5t//O6/8OKP/osV8xbxs+FeDqNxOBhgZ3c3iiyzpKQEl8XCcDyOy2rFYTZjN5nw5eTQPDzMQr+f84v8TJZUTFYL2/p7SSsyl02b9q74E5rG5qYmPDYbWjbL0tJSJEkiqWns7enhrY4Otra0MBiLUeHxkGezIcsybquVdCaDw2xmcUkJbquVxSUlWD7EOm6pTIb+aBSH2UxvNErz8DB2k4kck4m+aBRFlpni9ZLMZLCpKnFNI5ZO0x4MYlYUzikrwzEK1WpjLnLb1/6Z/NJClpYXU2izYe7t5WgozBJF5fqyKcSHepl0tBF12jRAAn8JuD3Qcgz0DHrtTHa/EuO5nXnsfscGWhqvU2PyTBeyM4few8M8u91FgS9DWa2dxncyONU4pXInqgLnXFfBl79qxhSPQiIJkRikNbCYiXldtKQSTM3L+0DWassW+N0mHVMmycLqMG/vNxGJSiyanWJ2TZLFC3XMcgZdz1KXSfJONEwhMnMUC06bFXMW9geH2dTWws7Nm3nr4d+w+AvXce+668lVFH7d34VLNZEjK3yn+TCDI4NTAI/ZjElRyLfZaA2Hsaoq87w+pqhmTJJCRM/w1vAgxS4XSyrKKXe7KXQ4uPutt9jX04MsSdhMJqaPJBtSmQx90SjHhoaIaRqqLCMB6WyWQrsdVZaJaxp+hwO7yUS+3c7amhqunTOHnA9QB9wVDnPvzp20h0KoskxnOExXOIzDbMasKHSFw0xyuSh0ONAyGSyqSjSdJphIEEml8Nps3LhgAVdMn/7XSvBdxlzk5//X3UytqqQ3GsVuMhFOpZhVUMBX5swlT1LAZRepyL9gIcIhnZdfyhJoDvJ2o4OeITPZrIg52+2i4CqdFk3pOuTn6Vy+NsvqS5TTl2JIa8I0W8x/VSo1HBZZfDUWYbBbIzCYobJaQrJZwGY9OfPYekoyKpkSdwcASaJ7aJgf3Hkn9/7w3/na175ByfJz+azLR6nZgoRYp/CJoT4e6m5nvt1FeY6dV4OD9KVSvBkcxmk2I0vQGolQZLbwKbePF4b6CGgaZlnGpqrYTCZimkYomUSVZaZ5vbQEg8Q1EYnK6jomWeas0lIWFheTzmSo7+tDBkKpFIFEApuqMpxIMBiLkdV1avPzuWLaNM4qLSXfbsesKBTY7RSMlDlksln29vTwZkcHzzY28mpbG5IkkRg5pttqJZhIoAO5FgvBkYtYAhRZfjehByBLEr+94grWzZr1of9Hf8yYhxBnFuQzmEwyt6iI8ysqiKbTnFVa+qFvQ06XxKevVAAvy5tg506RIrfbTz6W8qKLxDIMkgTV1RLFxe/hr5rUk4L7K3A6R964HPhcpy7pM4L6Hse0nH6ufp+X2lLxINcpJX5uufA8tM4+pGyWjCLTOTjMCreXC3J91EWD5KkmrsgrxK2oRDIZ9sXClJrNNMSiPDjQTWMkwrriyXxvUiX/2NzI3miIaDaL12qjwuMjf+TimWp3EldlTKqKWZaxqioZXadleBiH2UxxTg7xdJpci4VpPh/pbBaLouC0WNjd1cXu7m66wmGePHwYk6LgtVqpcLtZUV6O02Khrq2NRw4dojMUQgfOKimhcOROcML6S5JELJ1GBmLpNOqIBdJ1HY/Nhm3E2P2htfWv/h/9yb9k1Fp6H740bx7mvDyqvV7kUSpCqak5fVJvOi1qXz7K9fXOFLvDIV7z85BcDkyZLAyFUDSNioJ8ekNBfna8laZQkHluL68mIwynUiyyOphisRKVJZ6PBEjrMCvXTYAs/9XfyTfKqphuySGt6/SlU0yyiLplHZ1jWY09WpK020H98BCRRJKinBwWFRVRq5iwDoRoS8ZpiEfpkLIEJJAUhUAsRq3bg1dROR6NcnRoiKyuE9c0nGYzmxpEJGkoHqfU5WJtTQ0Os5mEpqEDMU0jlcmQl5NDRtdRJEm4LarKYCxGZsSZSEWjoOtYVJUqj4dAIjEq37WxCP/HCV0X7hRA/xCJcJQBspTY7UjxFOg60WSSUDJFkdVCYzTCoXSC7X29KGmNK0sm4TOZORwJU2m2YNNBM6lUud2YUhqEo6ADNgvokMloyLqwrqTS4i6UyZ58/qfFhJ7Vyeg6spZBBqKZDDsiAbbFwzRlUjQMDZEzYqlrHA7yMqDokEKnpKiQKV4vuSYVt9VGVW4ucixBaGAYq6oSybXTqUA0nSaUTFLkcKDrOm5VpT8SpcTrodL3J/fKD40h8nEiEAiwYcMGrrnmGtxu93t/6NSHzWayohAskYJ4QojSkQO5DtLZLJlsFmsiBX2DoI189oRgVQVkSVxA0YQYN0iS+L02ki+wWU6Oi3RdtJ/WQJFH+iGhmxT6o1EyiRQ+RWVrLMiLkSCBdIq5Vgc3eguxn3A/AFQFSdfFD7I0Ml455fxMKpQUgM8t/t43DENBcWyAqkmQ7znj7/pjMWnib5ENGzZw2223AZy+CP+pnOreKbLYTCo4T3/ag0lRRMjQZAK7TQg8mRbRpGwW7DlC0NE4RGMQiQvhnmhf10XI1O0U7WeyoiY6EhP7ywpIIDlyKCBf3BGCEVbLMhc7PCNN6PRIWfRcOw7FhHQiMqTII8IeOZ4ii2NlshCKQmsXdPSevNhOhG+zWdCzjAaGyCca8oiIVFUI/lTMJiHkVPp0kWey7z0g1zJCaOrJyBAABV4Ix5D6BiCehCxIqoxfUcTdRVWESCOx0/eTZdEnkzqyemkEghERfTKbxKYqIMnCskujk4QyRP63hiT9SbTnfVEV4D2iRbIMuQ6wmiE24jqpKlhG7iSSJC4iLSPigyfEqvyRaN1OcVc44UJZzWIOoEk9edcaBUZd5N3d3XR3d9PZ2QlAOBwmdOLR1gbvEo/H3339RH8/CmAbSQ5lNZFI+DDIgPPUmetZ0FKgAUlwOp1iYHwm6KPMHXfcoSO8MGMztjPeGhsbz1iTox5dOWHJDxw4wPXXX8/WrVtZuHDhaB4CgH379rFixQpeffVV5n6Ap5IZ7X8y29+1axcLFiz4yzv8GUbdXfH7/fhPycq43W5cY1Au6hhJpjgcDqP9Cdz+GbsqjOEycX6/nzvuuOM0wRvtG+2PR/tjlgwyMPi48Mmuhjcw+AAYIjeY8BgiN5jwGCI3mPAYIjeY8BgiN5jw/H9SLqhaU+Zg2QAAAABJRU5ErkJggg==' width=185.0/>\n",
       "            </div>\n",
       "        "
      ],
      "text/plain": [
       "Canvas(toolbar=Toolbar(toolitems=[('Home', 'Reset original view', 'home', 'home'), ('Back', 'Back to previous …"
      ]
     },
     "metadata": {},
     "output_type": "display_data"
    }
   ],
   "source": [
    "imsavepath = '/home/liam/temp/image_transfer/figure7_A_starts_alt.png'\n",
    "\n",
    "fig = plt.figure(figsize=(1.85, 1))\n",
    "gs = fig.add_gridspec(nrows=1, ncols=1, hspace=0)\n",
    "axs = gs.subplots(sharex=False, sharey=False)\n",
    "ax= axs\n",
    "\n",
    "# create xvalues for plotting\n",
    "x_vals_frames = np.array( [i*window_step for i in range(combined_numUsedWins)]) \n",
    "\n",
    "\n",
    "# plot the mean across trials\n",
    "for stateIdx in [0,1,2,3]:\n",
    "    \n",
    "    # make the left and rights thicker for each axis\n",
    "    #for axis in ['left','right']:\n",
    "    for axis in ['left', 'right']:\n",
    "        ax.spines[axis].set_linewidth(0.9)\n",
    "    for axis in ['right']:\n",
    "        ax.spines[axis].set_visible(False)\n",
    "    \n",
    "    # fill between the stdev lines\n",
    "    max_curve = start_epoch_mean_win_state_probs[:, stateIdx] + start_epoch_stdevs[:, stateIdx]\n",
    "    min_curve = start_epoch_mean_win_state_probs[:, stateIdx] - start_epoch_stdevs[:, stateIdx]\n",
    "    ax.fill_between(x_vals_frames, y1=min_curve, y2=max_curve, color=combined_colors[stateIdx], alpha=0.5)\n",
    "\n",
    "    # plot the mean\n",
    "    ax.plot(x_vals_frames, start_epoch_mean_win_state_probs[:, stateIdx], color=combined_colors[stateIdx], linewidth=0.9)\n",
    "    \n",
    "    # xticks\n",
    "    ax.set_xticks([]);\n",
    "    ax.set_xticklabels([]);\n",
    "    \n",
    "    # plot the dividing line between epochs\n",
    "    ax.axvline(np.mean(x_vals_frames), color='black',  linewidth=0.9, linestyle='--')\n",
    "    \n",
    "    # plot limits\n",
    "    ax.set_xlim(x_vals_frames[0], x_vals_frames[-1])\n",
    "    #ax.set_ylim(bottom=0, top=states_y_max[stateIdx])\n",
    "    \n",
    "     # axes labels\n",
    "    ax.set_ylabel(all_state_names[stateIdx]+'\\n prob')\n",
    "        \n",
    "    # tick params\n",
    "    ax.xaxis.set_tick_params(width=1, length=2)\n",
    "    ax.yaxis.set_tick_params(width=1, length=2)\n",
    "\n",
    "    # set the gridlines\n",
    "    #ax.grid(alpha=0.3)\n",
    "    #ax.axhline(y=0, color='grey', alpha=0.3)\n",
    "    #ax.axhline(y=states_y_tick_max[stateIdx], color='grey', alpha=0.2)\n",
    "    \n",
    "    ## EXTRAS TURN OFF PLOT ILLUSTRATOR VERSION ####\n",
    "    ax.set_yticklabels([])\n",
    "    ax.set_xticklabels([])\n",
    "    ax.set_xlabel('')\n",
    "    ax.set_ylabel('')\n",
    "    \n",
    "ax.set_ylim(bottom=0, top=np.max(states_y_max))\n",
    "\n",
    "\n",
    "    \n",
    "# ----------------------------------------------------#\n",
    "\n",
    "# xticks\n",
    "xticks = np.array([i*6000 for i in range(int(total_plot_time_mins*2)+1)]) #*2 because of concatenated 2 epochs\n",
    "xticklabels = [i for i in range(-total_plot_time_mins, total_plot_time_mins+1)]\n",
    "ax.set_xticks(xticks);\n",
    "\n",
    "# set the yticks\n",
    "#yticks = [0, states_y_tick_max[2], states_y_tick_max[3]]\n",
    "#ax.set_yticks(yticks)\n",
    "\n",
    "# set the yticks\n",
    "ax.set_ylim(bottom=0, top=np.max(states_y_max))\n",
    "ax.set_yticks([0, np.max(states_y_max)])\n",
    "\n",
    "#ax.set_yticks(yticks)\n",
    "ax.set_yticklabels('')\n",
    "\n",
    "fig.savefig(imsavepath, dpi=1200, transparent=True)"
   ]
  },
  {
   "cell_type": "code",
   "execution_count": 98,
   "id": "aa64acc2-98d7-4d1b-b82f-fd4f1b796086",
   "metadata": {},
   "outputs": [
    {
     "data": {
      "text/plain": [
       "0.41"
      ]
     },
     "execution_count": 98,
     "metadata": {},
     "output_type": "execute_result"
    }
   ],
   "source": [
    "np.max(states_y_tick_max)"
   ]
  },
  {
   "cell_type": "code",
   "execution_count": 99,
   "id": "c31d05d1-0f9d-454d-b389-b680b4e7273e",
   "metadata": {},
   "outputs": [
    {
     "data": {
      "text/plain": [
       "array([0.36, 0.14, 0.41, 0.12])"
      ]
     },
     "execution_count": 99,
     "metadata": {},
     "output_type": "execute_result"
    }
   ],
   "source": [
    "states_y_tick_max"
   ]
  },
  {
   "cell_type": "code",
   "execution_count": 100,
   "id": "ca60a459-cd3b-410f-a0be-16c0a3fb926e",
   "metadata": {},
   "outputs": [
    {
     "data": {
      "text/plain": [
       "array([0.432, 0.168, 0.492, 0.144])"
      ]
     },
     "execution_count": 100,
     "metadata": {},
     "output_type": "execute_result"
    }
   ],
   "source": [
    "states_y_max"
   ]
  },
  {
   "cell_type": "code",
   "execution_count": null,
   "id": "2c14760f-8c26-4e4d-94d7-0bd2920b2f6c",
   "metadata": {},
   "outputs": [],
   "source": []
  },
  {
   "cell_type": "code",
   "execution_count": 102,
   "id": "2012d179-a10a-483a-86e5-29d665603136",
   "metadata": {},
   "outputs": [
    {
     "data": {
      "application/vnd.jupyter.widget-view+json": {
       "model_id": "2bed0212d62c49f7b99cffc437255657",
       "version_major": 2,
       "version_minor": 0
      },
      "text/html": [
       "\n",
       "            <div style=\"display: inline-block;\">\n",
       "                <div class=\"jupyter-widgets widget-label\" style=\"text-align: center;\">\n",
       "                    Figure\n",
       "                </div>\n",
       "                <img src='data:image/png;base64,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' width=185.0/>\n",
       "            </div>\n",
       "        "
      ],
      "text/plain": [
       "Canvas(toolbar=Toolbar(toolitems=[('Home', 'Reset original view', 'home', 'home'), ('Back', 'Back to previous …"
      ]
     },
     "metadata": {},
     "output_type": "display_data"
    }
   ],
   "source": [
    "imsavepath = '/home/liam/temp/image_transfer/figure7_A_stops_alt.png'\n",
    "\n",
    "fig = plt.figure(figsize=(1.85, 1))\n",
    "gs = fig.add_gridspec(nrows=1, ncols=1, hspace=0)\n",
    "axs = gs.subplots(sharex=False, sharey=False)\n",
    "ax= axs\n",
    "\n",
    "# create xvalues for plotting\n",
    "x_vals_frames = np.array( [i*window_step for i in range(combined_numUsedWins)]) \n",
    "\n",
    "\n",
    "# plot the mean across trials\n",
    "for stateIdx in [0,1,2,3]:\n",
    "    \n",
    "    # make the left and rights thicker for each axis\n",
    "    #for axis in ['left','right']:\n",
    "    for axis in ['left', 'right']:\n",
    "        ax.spines[axis].set_linewidth(0.9)\n",
    "    for axis in ['left']:\n",
    "        ax.spines[axis].set_visible(False)\n",
    "    \n",
    "    # fill between the stdev lines\n",
    "    max_curve = stop_epoch_mean_win_state_probs[:, stateIdx] + stop_epoch_stdevs[:, stateIdx]\n",
    "    min_curve = stop_epoch_mean_win_state_probs[:, stateIdx] - stop_epoch_stdevs[:, stateIdx]\n",
    "    ax.fill_between(x_vals_frames, y1=min_curve, y2=max_curve, color=combined_colors[stateIdx], alpha=0.5)\n",
    "\n",
    "    # plot the mean\n",
    "    ax.plot(x_vals_frames, stop_epoch_mean_win_state_probs[:, stateIdx], color=combined_colors[stateIdx], linewidth=0.9)\n",
    "    \n",
    "    # xticks\n",
    "    ax.set_xticks([]);\n",
    "    ax.set_xticklabels([]);\n",
    "    \n",
    "    # plot the dividing line between epochs\n",
    "    ax.axvline(np.mean(x_vals_frames), linewidth=0.9, color='black', linestyle='--')\n",
    "    \n",
    "    # plot limits\n",
    "    ax.set_xlim(x_vals_frames[0], x_vals_frames[-1])\n",
    "    ax.set_ylim(bottom=0, top=states_y_max[stateIdx])\n",
    "    \n",
    "     # axes labels\n",
    "    ax.set_ylabel(all_state_names[stateIdx]+'\\n prob')\n",
    "        \n",
    "    # tick params\n",
    "    ax.xaxis.set_tick_params(width=1, length=2)\n",
    "    ax.yaxis.set_tick_params(width=0, length=2)\n",
    "\n",
    "    # set the gridlines\n",
    "    #ax.grid(alpha=0.3)\n",
    "    #ax.axhline(y=0, color='grey', alpha=0.3)\n",
    "    #ax.axhline(y=states_y_tick_max[stateIdx], color='grey', alpha=0.2)\n",
    "    \n",
    "    ## EXTRAS TURN OFF PLOT ILLUSTRATOR VERSION ####\n",
    "    ax.set_yticklabels([])\n",
    "    ax.set_xticklabels([])\n",
    "    ax.set_xlabel('')\n",
    "    ax.set_ylabel('')\n",
    "    \n",
    "ax.set_ylim(bottom=0, top=np.max(states_y_max))\n",
    "\n",
    "\n",
    "    \n",
    "# ----------------------------------------------------#\n",
    "\n",
    "# xticks\n",
    "xticks = np.array([i*6000 for i in range(int(total_plot_time_mins*2)+1)]) #*2 because of concatenated 2 epochs\n",
    "xticklabels = [i for i in range(-total_plot_time_mins, total_plot_time_mins+1)]\n",
    "ax.set_xticks(xticks);\n",
    "\n",
    "# set the yticks\n",
    "ax.set_ylim(bottom=0, top=np.max(states_y_max))\n",
    "ax.set_yticks([0, np.max(states_y_max)])\n",
    "\n",
    "#ax.set_yticks(yticks)\n",
    "ax.set_yticklabels('')\n",
    "\n",
    "fig.savefig(imsavepath, dpi=1200, transparent=True)"
   ]
  },
  {
   "cell_type": "code",
   "execution_count": 103,
   "id": "b1494cc2-b5e2-4bf0-8032-88b444075d3d",
   "metadata": {},
   "outputs": [
    {
     "data": {
      "text/plain": [
       "0.49199999999999994"
      ]
     },
     "execution_count": 103,
     "metadata": {},
     "output_type": "execute_result"
    }
   ],
   "source": [
    "np.max(states_y_max)"
   ]
  },
  {
   "cell_type": "code",
   "execution_count": null,
   "id": "4890d7c2-1731-4f0e-bcd2-5ae2383cdd39",
   "metadata": {},
   "outputs": [],
   "source": []
  },
  {
   "cell_type": "code",
   "execution_count": null,
   "id": "1a9c4f4e-055c-46ef-b407-ee3d80b077cb",
   "metadata": {},
   "outputs": [],
   "source": []
  },
  {
   "cell_type": "code",
   "execution_count": null,
   "id": "3ad854f1-781d-4866-a1ab-714ca08f6787",
   "metadata": {},
   "outputs": [],
   "source": []
  },
  {
   "cell_type": "code",
   "execution_count": null,
   "id": "e90d6ad3-e1b2-4167-af71-c3b6d0c0792e",
   "metadata": {},
   "outputs": [],
   "source": []
  },
  {
   "cell_type": "code",
   "execution_count": null,
   "id": "c694b9f0-0bf2-4c16-9e6c-3f60efc524b9",
   "metadata": {},
   "outputs": [],
   "source": []
  },
  {
   "cell_type": "markdown",
   "id": "478b4294-44ac-46fd-912b-d3464143740e",
   "metadata": {},
   "source": [
    "# -----------------------------"
   ]
  },
  {
   "cell_type": "markdown",
   "id": "923f54be-51a1-4256-ad7f-7ecc82fd8e0b",
   "metadata": {},
   "source": [
    "# -------------------------------------------------"
   ]
  },
  {
   "cell_type": "code",
   "execution_count": null,
   "id": "1f5af318-0e30-4ec7-bf0e-1b7b8e136c6c",
   "metadata": {},
   "outputs": [],
   "source": []
  }
 ],
 "metadata": {
  "kernelspec": {
   "display_name": "analysis",
   "language": "python",
   "name": "analysis"
  },
  "language_info": {
   "codemirror_mode": {
    "name": "ipython",
    "version": 3
   },
   "file_extension": ".py",
   "mimetype": "text/x-python",
   "name": "python",
   "nbconvert_exporter": "python",
   "pygments_lexer": "ipython3",
   "version": "3.9.7"
  }
 },
 "nbformat": 4,
 "nbformat_minor": 5
}

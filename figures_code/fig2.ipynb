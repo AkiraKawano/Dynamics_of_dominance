{
 "cells": [
  {
   "cell_type": "code",
   "execution_count": null,
   "id": "1007a8bb-6003-40a8-9ee2-73419d71fa81",
   "metadata": {},
   "outputs": [],
   "source": []
  },
  {
   "cell_type": "markdown",
   "id": "865a7747-4612-4e98-a4e5-08e67ba4a1db",
   "metadata": {},
   "source": [
    "# Notes\n"
   ]
  },
  {
   "cell_type": "code",
   "execution_count": null,
   "id": "974da959-189b-4b1f-bd2b-172737dafc34",
   "metadata": {},
   "outputs": [],
   "source": [
    "\n"
   ]
  },
  {
   "cell_type": "code",
   "execution_count": null,
   "id": "b559f3f3-6bd4-4b26-b892-59ebb6f3a1e0",
   "metadata": {},
   "outputs": [],
   "source": []
  },
  {
   "cell_type": "code",
   "execution_count": null,
   "id": "bcd6e8c9-117b-47c3-8776-46a4a0fb5750",
   "metadata": {},
   "outputs": [],
   "source": []
  },
  {
   "cell_type": "markdown",
   "id": "dd72b960-451b-47fc-9290-0010a0294353",
   "metadata": {},
   "source": [
    "# Imports"
   ]
  },
  {
   "cell_type": "code",
   "execution_count": 14,
   "id": "2a1fdf9e-5d87-44a5-a47d-b5a759dcc447",
   "metadata": {},
   "outputs": [
    {
     "name": "stdout",
     "output_type": "stream",
     "text": [
      "The autoreload extension is already loaded. To reload it, use:\n",
      "  %reload_ext autoreload\n"
     ]
    }
   ],
   "source": [
    "import numpy as np\n",
    "import h5py\n",
    "import time\n",
    "import glob\n",
    "import matplotlib.pyplot as plt\n",
    "%load_ext autoreload\n",
    "import os\n",
    "%autoreload 2\n",
    "import sys\n",
    "%matplotlib widget\n",
    "from ipywidgets import interact, interactive, fixed, interact_manual, FloatSlider, Layout, AppLayout\n",
    "from ipywidgets import Video, Image, VBox, Text\n",
    "import ipywidgets as widgets\n",
    "from sidecar import Sidecar\n",
    "\n",
    "\n",
    "# --- import functions for computing kinematic variables --- #\n",
    "sys.path.append('../tracking_code/lib/')\n",
    "sys.path.append('./lib/')\n",
    "\n",
    "from coordinate_transformations import CoordTransformer_14D_PP\n",
    "from correlation_functions import cross_correlation, angular_cross_correlation\n",
    "\n",
    "from coordinate_transformations import compute_14D_rep_from_trajectories\n",
    "from coordinate_transformations import project_14D_rep_onto_modes\n",
    "\n",
    "# # adding the infomap libs\n",
    "# from infomap_utils import make_dictionary_of_state_numberings, find_binIdxs_for_timeseries\n",
    "# from infomap_utils import build_transition_matrix, apply_infomap_clustering_to_transition_matrix\n",
    "# from infomap_utils import make_binTuple_to_clusterIdx_dict\n",
    "# from post_processing import contiguous_regions\n",
    "# from post_processing import process_1D_timeseries\n",
    "\n"
   ]
  },
  {
   "cell_type": "code",
   "execution_count": null,
   "id": "3830d822-f425-42be-a741-21956d29ebcb",
   "metadata": {},
   "outputs": [],
   "source": []
  },
  {
   "cell_type": "markdown",
   "id": "7fdc1404-24e0-430c-9145-87ee3a9e8b64",
   "metadata": {},
   "source": [
    "# Load the main data"
   ]
  },
  {
   "cell_type": "code",
   "execution_count": null,
   "id": "99c2b6ee-d9b4-4f04-a8e1-05e4ca5b6e37",
   "metadata": {},
   "outputs": [],
   "source": []
  },
  {
   "cell_type": "code",
   "execution_count": 2,
   "id": "f1b4bb99-f694-4f10-9a0c-c82765fe8ebf",
   "metadata": {},
   "outputs": [],
   "source": [
    "main_load_folder = '/media/liam/hd1/fighting_data/tracking_results/'\n",
    "\n",
    "# ----------------------#\n",
    "\n",
    "interp_polyOrd=1  # the order of the polynomial used for interpolation\n",
    "interp_limit=5    # the maximum number of frames to interpolate over\n",
    "savgol_win=9      # the number of frames for the Savitzky-Golay filter\n",
    "savgol_ord=2      # the polynomial order for the Savitzky-Golay filter\n",
    "dt=0.01           # the frame rate of the recording\n",
    "\n",
    "\n",
    "# the filepaths for loading the infomap timeseries data we need\n",
    "infomap_data_loadpath = os.path.join( os.path.dirname(os.path.dirname(main_load_folder)) , \n",
    "                                      'infomap_data/transmat_and_infomap.h5')\n",
    "\n",
    "# the path for loading the fightbout info\n",
    "fightBouts_info_path = os.path.join(main_load_folder, 'fightBouts.h5')\n",
    "\n",
    "\n",
    "# -----------------------#\n",
    "\n",
    "loadpaths = glob.glob(os.path.join(main_load_folder, '*results.h5'))\n",
    "loadpaths.sort()\n",
    "\n",
    "# parse the exp names\n",
    "expNames = [path.split('/')[-1][:23] for path in loadpaths]\n",
    "\n",
    "\n",
    "raw_trajectories = []\n",
    "for path in loadpaths:\n",
    "    with h5py.File(path, 'r') as hf:\n",
    "        tracks_3D_raw = hf['tracks_3D_raw'][:]\n",
    "    raw_trajectories.append(tracks_3D_raw)\n",
    "\n",
    "smooth_trajectories = []\n",
    "for path in loadpaths:\n",
    "    with h5py.File(path, 'r') as hf:\n",
    "        tracks_3D_smooth = hf['tracks_3D_smooth'][:]\n",
    "    smooth_trajectories.append(tracks_3D_smooth)\n",
    "    \n",
    "    \n",
    "# create a list of the number of frames in each experiment\n",
    "expNumFrames = []\n",
    "for expIdx in range(len(expNames)):\n",
    "    nfs = smooth_trajectories[expIdx].shape[0]\n",
    "    expNumFrames.append(nfs)\n",
    "    \n",
    "# -----------------------------#\n",
    "# load other useful information\n",
    "    \n",
    "other_info_loadpath = os.path.join(main_load_folder, 'winners_losers_inconclusive.h5')\n",
    "with h5py.File(other_info_loadpath, 'r') as hf:\n",
    "    winner_idxs = hf['winner_idxs'][:]\n",
    "    loser_idxs = hf['loser_idxs'][:]\n",
    "    conclusive_winner_loser = hf['conclusive_winner_loser'][:]\n",
    "    already_established_dominance = hf['already_established_dominance'][:]\n",
    "\n",
    "\n",
    "with h5py.File(fightBouts_info_path, 'r') as hf:\n",
    "    fight_bout_info = hf['fight_bout_info'][:]\n",
    "    fight_bout_info_noDurThresh = hf['fight_bout_info_noDurThresh'][:]\n"
   ]
  },
  {
   "cell_type": "code",
   "execution_count": null,
   "id": "3d3c3257-8eba-4360-b227-5a13228da438",
   "metadata": {},
   "outputs": [],
   "source": []
  },
  {
   "cell_type": "code",
   "execution_count": null,
   "id": "00af3524-9728-44ca-8dba-3e0612ba9e9e",
   "metadata": {},
   "outputs": [],
   "source": []
  },
  {
   "cell_type": "code",
   "execution_count": null,
   "id": "eedcfa5a-4c1a-480a-8242-64865fcf92d5",
   "metadata": {},
   "outputs": [],
   "source": []
  },
  {
   "cell_type": "markdown",
   "id": "188188d0-2ceb-45a3-b49c-047b92643838",
   "metadata": {},
   "source": [
    "# Compute the 14D timeseries data"
   ]
  },
  {
   "cell_type": "code",
   "execution_count": 3,
   "id": "3242c9da-6fcb-42d9-8f49-5726dc82c1dc",
   "metadata": {},
   "outputs": [
    {
     "data": {
      "text/plain": [
       "'/media/liam/hd1/fighting_data/PCA_data/main.h5'"
      ]
     },
     "execution_count": 3,
     "metadata": {},
     "output_type": "execute_result"
    }
   ],
   "source": [
    "pca_savepath = os.path.join( os.path.dirname(os.path.dirname(main_load_folder)) , \n",
    "                                      'PCA_data/main.h5')\n",
    "pca_savepath"
   ]
  },
  {
   "cell_type": "code",
   "execution_count": null,
   "id": "4555b71d-3449-4a68-964e-c39a4bbfa50e",
   "metadata": {},
   "outputs": [],
   "source": []
  },
  {
   "cell_type": "code",
   "execution_count": 4,
   "id": "1b240105-c58f-4a53-ac0e-0ce28ef63387",
   "metadata": {},
   "outputs": [
    {
     "data": {
      "text/plain": [
       "array([ 0,  1,  2,  3,  5,  6,  7,  8, 10, 11, 12, 13, 14, 15, 17, 18, 19,\n",
       "       20])"
      ]
     },
     "execution_count": 4,
     "metadata": {},
     "output_type": "execute_result"
    }
   ],
   "source": [
    "# ---- create a master trajectory to use -----#\n",
    "#\n",
    "# We could use all exps, but this is slow, and the result doesnt change.\n",
    "exp_idxs_to_use = np.unique(fight_bout_info_noDurThresh[:,0])[:]\n",
    "exp_idxs_to_use"
   ]
  },
  {
   "cell_type": "code",
   "execution_count": null,
   "id": "c0fb4f9b-74ed-4bc3-9f92-6c7572fc1420",
   "metadata": {},
   "outputs": [],
   "source": []
  },
  {
   "cell_type": "code",
   "execution_count": 5,
   "id": "43844c18-f86f-47d6-a2bb-e60fa8095b7f",
   "metadata": {},
   "outputs": [],
   "source": [
    "combined_trajectories = []\n",
    "\n",
    "for expIdx in exp_idxs_to_use:\n",
    "    \n",
    "    smooth_traj = np.copy(smooth_trajectories[expIdx])\n",
    "    \n",
    "    # make sure winner is first\n",
    "    winnerIdx = winner_idxs[expIdx]\n",
    "    if winnerIdx != 0:\n",
    "        smooth_traj = smooth_traj[:, ::-1]\n",
    "    combined_trajectories.append(smooth_traj)\n",
    "    \n",
    "combined_trajectories = np.concatenate(combined_trajectories)\n",
    "\n",
    "numFrames_combined, numFish, numBodyPoints, _ = combined_trajectories.shape\n",
    "\n",
    "\n",
    "# finally we set winnerIdx=0, since we enforced this\n",
    "winnerIdx=0"
   ]
  },
  {
   "cell_type": "code",
   "execution_count": null,
   "id": "0921b854-7570-46da-bf79-075fbbb28fd7",
   "metadata": {},
   "outputs": [],
   "source": []
  },
  {
   "cell_type": "code",
   "execution_count": null,
   "id": "177e6cde-136d-4a8d-9a5b-24c20618493f",
   "metadata": {},
   "outputs": [],
   "source": []
  },
  {
   "cell_type": "markdown",
   "id": "e7d0f554-78d5-4cb9-89a7-a5fde810b193",
   "metadata": {},
   "source": [
    "## save"
   ]
  },
  {
   "cell_type": "code",
   "execution_count": null,
   "id": "6485549f-eb2b-47bb-8378-16b1aee3188d",
   "metadata": {},
   "outputs": [],
   "source": []
  },
  {
   "cell_type": "code",
   "execution_count": 7,
   "id": "44b2efb0-bae3-4cfa-b815-b85b59abea5e",
   "metadata": {},
   "outputs": [
    {
     "name": "stdout",
     "output_type": "stream",
     "text": [
      "1802.342042954173  s\n"
     ]
    }
   ],
   "source": [
    "# ------ compute and save the PCA ---- #\n",
    "t0 = time.perf_counter()\n",
    "\n",
    "# Compute and save\n",
    "coord_handler = CoordTransformer_14D_PP(combined_trajectories, winnerIdx)\n",
    "with h5py.File(pca_savepath, 'w') as hf:\n",
    "    hf.create_dataset('trajectories', data=coord_handler.trajectories)\n",
    "    hf.create_dataset('rep_14D_tseries', data=coord_handler.rep_14D_tseries)\n",
    "    hf.create_dataset('mean_14D_rep', data=coord_handler.mean_rep)\n",
    "    hf.create_dataset('covmat', data=coord_handler.covmat)\n",
    "    hf.create_dataset('eigvals', data=coord_handler.eigvals)\n",
    "    hf.create_dataset('eigvecs', data=coord_handler.eigvecs)\n",
    "    hf.create_dataset('pca_tseries', data=coord_handler.pca_tseries)\n",
    "    hf.create_dataset('cum_var_explained', data=coord_handler.cum_var_explained)\n",
    "    hf.create_dataset('winnerIdx', data=coord_handler.winnerIdx)\n",
    "\n",
    "\n",
    "tE = time.perf_counter()\n",
    "print(tE-t0, ' s')"
   ]
  },
  {
   "cell_type": "code",
   "execution_count": null,
   "id": "93daaabb-3910-4e4b-9d21-653688b0cd73",
   "metadata": {},
   "outputs": [],
   "source": []
  },
  {
   "cell_type": "code",
   "execution_count": null,
   "id": "a6cd5e71-4bda-438a-a832-3023e1ef3fdd",
   "metadata": {},
   "outputs": [],
   "source": []
  },
  {
   "cell_type": "markdown",
   "id": "bee0ce3e-c145-43ff-86b3-ffa6471f07ae",
   "metadata": {},
   "source": [
    "## load"
   ]
  },
  {
   "cell_type": "code",
   "execution_count": null,
   "id": "2b264217-e8c4-41cd-9ea8-91ad352687a5",
   "metadata": {},
   "outputs": [],
   "source": []
  },
  {
   "cell_type": "code",
   "execution_count": 6,
   "id": "9a33eca7-d45b-4ad3-8271-1781ab3f5b79",
   "metadata": {},
   "outputs": [],
   "source": [
    "# Load\n",
    "with h5py.File(pca_savepath, 'r') as hf:\n",
    "    \n",
    "    trajectories = hf['trajectories'][:]\n",
    "    rep_14D_tseries = hf['rep_14D_tseries'][:]\n",
    "    mean_14D_rep = hf['mean_14D_rep'][:]\n",
    "    covmat = hf['covmat'][:]\n",
    "    eigvals = hf['eigvals'][:]\n",
    "    eigvecs = hf['eigvecs'][:]\n",
    "    pca_tseries = hf['pca_tseries'][:]\n",
    "    cum_var_explained = hf['cum_var_explained'][:]\n",
    "    winnerIdx = hf['winnerIdx'][()]\n",
    "\n",
    "coord_handler = CoordTransformer_14D_PP(trajectories, winnerIdx,\n",
    "                             rep_14D_tseries=rep_14D_tseries)\n"
   ]
  },
  {
   "cell_type": "code",
   "execution_count": null,
   "id": "eb92bf20-1b6e-440a-9bd8-6c31062fc0de",
   "metadata": {},
   "outputs": [],
   "source": []
  },
  {
   "cell_type": "markdown",
   "id": "600f0795-32d1-42ca-a22c-37fbaffb7389",
   "metadata": {},
   "source": [
    "# Panel A"
   ]
  },
  {
   "cell_type": "code",
   "execution_count": 9,
   "id": "bfe9dc49-cbab-448f-a627-396902f3ac3e",
   "metadata": {},
   "outputs": [],
   "source": [
    "numProjectionModes = 14\n",
    "projection_eig_vecs = np.copy(eigvecs[:, :numProjectionModes])"
   ]
  },
  {
   "cell_type": "code",
   "execution_count": null,
   "id": "ef4c0cd8-5c17-4bd4-84f0-b9bc441ede53",
   "metadata": {},
   "outputs": [],
   "source": []
  },
  {
   "cell_type": "code",
   "execution_count": 34,
   "id": "3fc39860-5b69-44aa-b464-40ec815fcf94",
   "metadata": {},
   "outputs": [
    {
     "data": {
      "application/vnd.jupyter.widget-view+json": {
       "model_id": "f326497b40e6448991b59d0946813d24",
       "version_major": 2,
       "version_minor": 0
      },
      "text/html": [
       "\n",
       "            <div style=\"display: inline-block;\">\n",
       "                <div class=\"jupyter-widgets widget-label\" style=\"text-align: center;\">\n",
       "                    Figure\n",
       "                </div>\n",
       "                <img src='data:image/png;base64,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' width=280.0/>\n",
       "            </div>\n",
       "        "
      ],
      "text/plain": [
       "Canvas(toolbar=Toolbar(toolitems=[('Home', 'Reset original view', 'home', 'home'), ('Back', 'Back to previous …"
      ]
     },
     "metadata": {},
     "output_type": "display_data"
    }
   ],
   "source": [
    " # ---- Variance explained --- #\n",
    "\n",
    "# get the dimension of the timeseries\n",
    "dim = covmat.shape[0]\n",
    "\n",
    "# get the xvalues for plotting (non zero indexed)\n",
    "x_vals = np.arange(1,dim+1)\n",
    "x_text_vals = [' ', \"PC1\", \"PC2\", \"PC3\", \"PC4\", \"PC5\", \"PC6\", \"PC7\", \"PC8\", \"PC9\", \"PC10\", \"PC11\", \"PC12\", \"PC13\", \"PC14\"]\n",
    "\n",
    "# make the plot\n",
    "fig, ax = plt.subplots(1,1, figsize=(2.8,1.6))\n",
    "\n",
    "bar_list = ax.bar(x_vals, cum_var_explained, alpha=1)\n",
    "ax.set_title('', fontdict={'fontsize':15})\n",
    "\n",
    "ax.set_ylabel('')\n",
    "ax.set_xlabel('')\n",
    "ax.set_xlim(0,len(x_text_vals))\n",
    "ax.set_xticks(np.arange(len(x_text_vals)))\n",
    "ax.set_xticklabels([])\n",
    "\n",
    "ax.set_ylim(0.5, 1)\n",
    "ax.set_yticks([0.5, 1])\n",
    "ax.set_yticklabels([])\n",
    "\n",
    "# set the colors\n",
    "c1 = \"C1\"\n",
    "c2 = \"C2\"\n",
    "c3 = \"C4\"\n",
    "\n",
    "\n",
    "# now set the colors\n",
    "for i in range(2):\n",
    "    bar_list[i].set_color(c1)\n",
    "    bar_list[i].set_edgecolor(\"black\")\n",
    "for i in range(2,8):\n",
    "    bar_list[i].set_color(c2)\n",
    "    bar_list[i].set_edgecolor(\"black\")\n",
    "for i in range(8, 14):\n",
    "    bar_list[i].set_color(c3)\n",
    "    bar_list[i].set_edgecolor(\"black\")\n",
    "    \n",
    "# dummy lines for legend\n",
    "ax.plot(np.NaN, np.NaN, '-', color=c1, label='                             ')\n",
    "ax.plot(np.NaN, np.NaN, '-', color=c2, label='     ')\n",
    "ax.plot(np.NaN, np.NaN, '-', color=c3, label='     ')\n",
    "\n",
    "# The spines\n",
    "plt.setp(ax.spines.values(), linewidth=1)\n",
    "ax.xaxis.set_tick_params(width=1)\n",
    "ax.yaxis.set_tick_params(width=1)\n",
    "\n",
    "fig.tight_layout()\n",
    "\n",
    "fig.savefig('/home/liam/temp/image_transfer/fig2_A.png', dpi=300, transparent=True, bbox_inches='tight')"
   ]
  },
  {
   "cell_type": "code",
   "execution_count": null,
   "id": "ad41c019-6da5-4aa0-bf91-e2e050665e98",
   "metadata": {},
   "outputs": [],
   "source": []
  },
  {
   "cell_type": "code",
   "execution_count": null,
   "id": "9a8ae58e-33af-44f3-a3df-a871dc422003",
   "metadata": {},
   "outputs": [],
   "source": []
  },
  {
   "cell_type": "code",
   "execution_count": null,
   "id": "8228dcf0-91eb-4049-91e4-93b0e02d29aa",
   "metadata": {},
   "outputs": [],
   "source": []
  },
  {
   "cell_type": "markdown",
   "id": "e0156e40-961c-415d-b676-9d4026ee01a2",
   "metadata": {
    "tags": []
   },
   "source": [
    "# Examine the modes"
   ]
  },
  {
   "cell_type": "code",
   "execution_count": null,
   "id": "9b897dcd-642d-4acc-9113-3e8b1279a657",
   "metadata": {},
   "outputs": [],
   "source": []
  },
  {
   "cell_type": "markdown",
   "id": "de994031-0a6d-43da-9295-e5a3beb146be",
   "metadata": {},
   "source": [
    "## Make the widgets to hold the data"
   ]
  },
  {
   "cell_type": "code",
   "execution_count": 77,
   "id": "2770bbe5-1732-4382-8128-75a0ce6f719c",
   "metadata": {},
   "outputs": [],
   "source": [
    "### Prepare the list of widgets ###\n",
    "numFish=2\n",
    "numBodyPoints=3\n",
    "\n",
    "# layout parameters\n",
    "number_layout = widgets.Layout(width='70px')\n",
    "text_layout = widgets.Layout(width='120px')\n",
    "\n",
    "# preallocate list structures to hold the numbers\n",
    "plottable_3D_widget_list = [ [[[] for _ in range(3)] for _ in range(numBodyPoints)] for _ in range(numFish)]\n",
    "pca_widget_list = [ [] for i in range(14)]\n",
    "rep_widget_list = [ [] for i in range(14)]\n",
    "\n",
    "# get the plottable positions for the frame\n",
    "#plottable_positions = rep14D_to_plotable_positions(mean_14D_rep)\n",
    "plottable_positions = coord_handler.convert_rep14D_to_plotable_positions(coord_handler.mean_rep)\n",
    "\n",
    "# grab the plottable values\n",
    "for fishIdx in range(numFish):\n",
    "    for bpIdx in range(numBodyPoints):\n",
    "        for dimIdx in range(3):\n",
    "             \n",
    "            # plottable data\n",
    "            wid_val = np.round(np.copy(plottable_positions[fishIdx, bpIdx, dimIdx]), 2)\n",
    "            val_widge_3D = widgets.FloatText(value=wid_val,layout=number_layout)\n",
    "            plottable_3D_widget_list[fishIdx][bpIdx][dimIdx] = val_widge_3D\n",
    "            \n",
    "# grab the pca values\n",
    "mean_rep_modes = coord_handler.convert_rep14D_to_mode_weights(coord_handler.mean_rep)\n",
    "for pcIdx in range(14):\n",
    "    wid_val = np.round(np.copy(mean_rep_modes[pcIdx]), 2)\n",
    "    val_widge_3D = widgets.FloatText(value=wid_val,layout=number_layout)\n",
    "    pca_widget_list[pcIdx] = val_widge_3D\n",
    "    \n",
    "# grab the rep values\n",
    "for pcIdx in range(14):\n",
    "    wid_val = np.round(np.copy(coord_handler.mean_rep[pcIdx]), 2)\n",
    "    val_widge_3D = widgets.FloatText(value=wid_val,layout=number_layout)\n",
    "    rep_widget_list[pcIdx] = val_widge_3D"
   ]
  },
  {
   "cell_type": "code",
   "execution_count": 78,
   "id": "4d44111b-b2ce-4030-b085-51885cf81cc2",
   "metadata": {},
   "outputs": [],
   "source": [
    "### Make widgets to vizualize the plottable positions\n",
    "\n",
    "\n",
    "# layout parameters\n",
    "number_layout = widgets.Layout(width='80px')\n",
    "text_layout = widgets.Layout(width='120px')\n",
    "\n",
    "# widget lists\n",
    "f_bp_XYZ_boxes = [None]*numFish\n",
    "f_3D_wid_titles = [None]*numFish\n",
    "f_3D_wids = [None]*numFish\n",
    "\n",
    "for fishIdx in range(numFish):\n",
    "    f_bp_box_list = []\n",
    "    for bpIdx in range(numBodyPoints):\n",
    "        f_bp_XYZ_boxes[fishIdx] = widgets.HBox(plottable_3D_widget_list[fishIdx][bpIdx][:], layout=widgets.Layout(padding=('0px 30px 0 0')))\n",
    "        f_bp_box_list.append(f_bp_XYZ_boxes[fishIdx])\n",
    "    f_3D_wid_titles[fishIdx] = widgets.Text('Fish{} FC bps'.format(fishIdx+1), layout=text_layout)\n",
    "    f_3D_wids[fishIdx] = widgets.VBox([f_3D_wid_titles[fishIdx]]+f_bp_box_list)\n",
    "\n",
    "# Final widget\n",
    "plottable_frame_widget = widgets.HBox(f_3D_wids, layout=widgets.Layout(padding=('0px 0px 30px 200px')))"
   ]
  },
  {
   "cell_type": "code",
   "execution_count": 79,
   "id": "69f42d25-ce57-451b-aa4d-dfc6128772fa",
   "metadata": {},
   "outputs": [],
   "source": [
    "### Make widgets to vizualize the pca_data\n",
    "\n",
    "# layout parameters\n",
    "number_layout = widgets.Layout(width='80px')\n",
    "text_layout = widgets.Layout(width='120px')\n",
    "wid_title = widgets.Text('mode weights', layout=text_layout)\n",
    "\n",
    "# get the values of the widget in a hbox\n",
    "mode_weight_vals_wid = widgets.HBox(pca_widget_list, layout=widgets.Layout(padding=('0px 0px 00px 000px')))\n",
    "\n",
    "# make the final widget with title\n",
    "mode_frame_widget = widgets.VBox([wid_title, mode_weight_vals_wid], layout=widgets.Layout(padding=('0px 0px 30px 200px')))\n",
    "\n",
    "\n",
    "### Make widgets to vizualize the rep_data\n",
    "\n",
    "# layout parameters\n",
    "number_layout = widgets.Layout(width='80px')\n",
    "text_layout = widgets.Layout(width='120px')\n",
    "wid_title = widgets.Text('14D rep', layout=text_layout)\n",
    "\n",
    "# get the values of the widget in a hbox\n",
    "rep_vals_wid = widgets.HBox(rep_widget_list, layout=widgets.Layout(padding=('0px 0px 00px 000px')))\n",
    "\n",
    "# make the final widget with title\n",
    "rep_frame_widget = widgets.VBox([wid_title, rep_vals_wid], layout=widgets.Layout(padding=('0px 0px 30px 200px')))"
   ]
  },
  {
   "cell_type": "code",
   "execution_count": 80,
   "id": "0937faa7-659b-4c02-9a3c-a06a26b577fa",
   "metadata": {},
   "outputs": [],
   "source": [
    "# final widget\n",
    "\n",
    "\n",
    "data_widget = widgets.VBox([plottable_frame_widget, mode_frame_widget, rep_frame_widget],\n",
    "                                    layout=widgets.Layout(display=\"flex-start\"))\n",
    "\n",
    "#data_widget"
   ]
  },
  {
   "cell_type": "code",
   "execution_count": null,
   "id": "02589358-0600-4781-a0a4-98b60680bc77",
   "metadata": {},
   "outputs": [],
   "source": []
  },
  {
   "cell_type": "code",
   "execution_count": null,
   "id": "13354bf0-c405-4528-8056-5a1e8429d0bd",
   "metadata": {},
   "outputs": [],
   "source": []
  },
  {
   "cell_type": "code",
   "execution_count": null,
   "id": "debea292-525a-42c7-b44d-8b01d2ccfe2c",
   "metadata": {},
   "outputs": [],
   "source": []
  },
  {
   "cell_type": "markdown",
   "id": "6e4abae4-897b-422d-b250-4baee82c9db4",
   "metadata": {},
   "source": [
    "## Make the 3D plotting widget"
   ]
  },
  {
   "cell_type": "code",
   "execution_count": 81,
   "id": "e443b488-88d1-4b33-80e5-c8d3e9d28bb1",
   "metadata": {},
   "outputs": [
    {
     "data": {
      "application/vnd.jupyter.widget-view+json": {
       "model_id": "2e3e3290157e4566acc0bdce171299ab",
       "version_major": 2,
       "version_minor": 0
      },
      "text/html": [
       "\n",
       "            <div style=\"display: inline-block;\">\n",
       "                <div class=\"jupyter-widgets widget-label\" style=\"text-align: center;\">\n",
       "                    Figure\n",
       "                </div>\n",
       "                <img src='data:image/png;base64,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' width=640.0/>\n",
       "            </div>\n",
       "        "
      ],
      "text/plain": [
       "Canvas(header_visible=False, layout=Layout(height='100%', width='100%'), toolbar=Toolbar(toolitems=[('Home', '…"
      ]
     },
     "metadata": {},
     "output_type": "display_data"
    }
   ],
   "source": [
    "#  ----------------- make a 3D plot of the positions ----------------------- #\n",
    "\n",
    "plt.ion()\n",
    "\n",
    "\n",
    "rep_data = np.copy(coord_handler.mean_rep)\n",
    "pca_data = coord_handler.convert_rep14D_to_mode_weights(rep_data)\n",
    "frame_positions = coord_handler.convert_rep14D_to_plotable_positions(rep_data)\n",
    "\n",
    "numFish, numBodyPoints = 2, 3\n",
    "fish_colors = ['red', 'blue']\n",
    "\n",
    "# Attaching 3D axis to the figure\n",
    "fig = plt.figure()\n",
    "fig.tight_layout()\n",
    "fig.canvas.header_visible = False\n",
    "#fig.canvas.layout.min_height = '400px'\n",
    "fig.canvas.layout.height = '100%'\n",
    "fig.canvas.layout.width = '100%'\n",
    "ax = fig.add_subplot(111, projection='3d')  \n",
    "#fig.suptitle('Investigating PCA mode action about mean configuration')\n",
    "#ax = p3.Axes3D(fig, [0.,0.,1.,1.])\n",
    "\n",
    "\n",
    "# create a widget to hold the title of the slide\n",
    "#text_title_widget = widgets.FloatText(value=0)\n",
    "title_font = {'fontname':'Arial', 'size':'20'}\n",
    "title_text = ax.text2D(0.4, 0.95, \"mode 1\", transform=ax.transAxes, **title_font)\n",
    "\n",
    "\n",
    "# set the limits\n",
    "xmin, xmax = -7, 7\n",
    "ymin, ymax = -7, 7\n",
    "zmin, zmax = -7, 7\n",
    "\n",
    "# Setting the axes properties\n",
    "ax.set_xlim3d([xmin, xmax])\n",
    "ax.set_xlabel('X')\n",
    "\n",
    "ax.set_ylim3d([ymin, ymax])\n",
    "ax.set_ylabel('Y')\n",
    "\n",
    "ax.set_zlim3d([zmin, zmax])\n",
    "ax.set_zlabel('Z')\n",
    "\n",
    "# Initialize scatters (list over fish, list over bps)\n",
    "symbols = ['o', 's', 'x']\n",
    "sizes=30\n",
    "\n",
    "# Main scatters\n",
    "scatters = []\n",
    "for fishIdx in range(numFish):\n",
    "    col = fish_colors[fishIdx]\n",
    "    fish_scatters = []\n",
    "    for bpIdx in range(numBodyPoints):\n",
    "        fish_scatters.append(ax.scatter(frame_positions[fishIdx, bpIdx, 0], \n",
    "                                        frame_positions[fishIdx, bpIdx, 1], \n",
    "                                        frame_positions[fishIdx, bpIdx, 2], \n",
    "                                        c=col, s=sizes, marker=symbols[bpIdx])) \n",
    "    scatters.append(fish_scatters)\n",
    "    \n",
    "# Main lines\n",
    "lines = []\n",
    "for fishIdx in range(numFish):\n",
    "    col = fish_colors[fishIdx]\n",
    "    line = ax.plot(frame_positions[fishIdx, :, 0], frame_positions[fishIdx, :, 1], frame_positions[fishIdx, :, 2], c=col)[0]\n",
    "    lines.append(line)\n",
    "    \n",
    "# scatterplot the origin\n",
    "ax.scatter(0, 0, 0, c='black', s=14)\n",
    "        \n",
    "sizes=5\n",
    "\n",
    "scatter_projections = []\n",
    "lines_projections = []\n",
    "for projectionIdx in range(3):\n",
    "        \n",
    "    # XZ => Y\n",
    "    if projectionIdx == 0:\n",
    "        projectionData = np.copy(frame_positions)\n",
    "        projectionData[:, :, 1] = ymax\n",
    "    # XY => Z\n",
    "    elif projectionIdx == 1:\n",
    "        projectionData = np.copy(frame_positions)\n",
    "        projectionData[:, :, 2] = zmin\n",
    "    # YZ => X\n",
    "    elif projectionIdx == 2:\n",
    "        projectionData = np.copy(frame_positions)\n",
    "        projectionData[:, :, 0] = xmin\n",
    "    \n",
    "    proj_scatters = []\n",
    "    proj_lines = []\n",
    "    for fishIdx in range(numFish):\n",
    "        col = fish_colors[fishIdx]\n",
    "        # scatter plots\n",
    "        fish_scatters = []\n",
    "        for bpIdx in range(numBodyPoints):\n",
    "            #print(symbols[bpIdx])\n",
    "            fish_scatters.append(ax.scatter(projectionData[fishIdx, bpIdx, 0], projectionData[fishIdx, bpIdx, 1], projectionData[fishIdx, bpIdx, 2], \n",
    "                                            c=col, s=sizes, marker=symbols[bpIdx], alpha=0.1))\n",
    "        # lines\n",
    "        line = ax.plot(projectionData[fishIdx, :, 0], projectionData[fishIdx, :, 1], projectionData[fishIdx, :, 2], c=col, alpha=0.1)[0]\n",
    "        proj_lines.append(line)\n",
    "        proj_scatters.append(fish_scatters)\n",
    "\n",
    "    scatter_projections.append(proj_scatters)\n",
    "    lines_projections.append(proj_lines)\n",
    "    \n",
    "    \n",
    "    \n",
    "    \n",
    "    \n",
    "# make the widget\n",
    "layout = widgets.Layout(width='100%')\n",
    "plot_widget = VBox([fig.canvas], layout=layout)"
   ]
  },
  {
   "cell_type": "code",
   "execution_count": null,
   "id": "64d5ec56-134c-4bcd-8d2b-35566c60db24",
   "metadata": {},
   "outputs": [],
   "source": []
  },
  {
   "cell_type": "code",
   "execution_count": 82,
   "id": "75fb12dd-f0da-49b2-92db-f02873dd6ba2",
   "metadata": {},
   "outputs": [],
   "source": [
    "# make a title text widget, and link it to the text of the 3D plot\n",
    "text_title_widget = widgets.FloatText(value=0)\n",
    "def text_title_on_change(change):\n",
    "    title_text.set_text('mode {0}'.format(int(change.new+1)))\n",
    "text_title_widget.observe(text_title_on_change)"
   ]
  },
  {
   "cell_type": "code",
   "execution_count": null,
   "id": "aea02492-a040-45b8-bc61-6ca6c2bb222d",
   "metadata": {},
   "outputs": [],
   "source": []
  },
  {
   "cell_type": "code",
   "execution_count": null,
   "id": "a586efb7-e7d1-49fc-80fe-03c5d2cb5762",
   "metadata": {},
   "outputs": [],
   "source": []
  },
  {
   "cell_type": "markdown",
   "id": "16214b05-8c1f-440e-ad05-cc4bc274d6ad",
   "metadata": {},
   "source": [
    "## Slider widgets"
   ]
  },
  {
   "cell_type": "code",
   "execution_count": 83,
   "id": "126c75ea-ca7a-4253-8c98-8fc0e8402573",
   "metadata": {},
   "outputs": [],
   "source": [
    "# make the 8 sliders\n",
    "numModeSliders = 14\n",
    "\n",
    "mode_sliders = []\n",
    "\n",
    "for ii in range(numModeSliders):\n",
    "    \n",
    "    # get the slider ranges and step\n",
    "    if ii == 6:\n",
    "        slider_min = -5\n",
    "        slider_max = 5\n",
    "        step=0.01\n",
    "        init_val = pca_widget_list[ii].value\n",
    "    elif ii == 7:\n",
    "        slider_min = -5\n",
    "        slider_max = 5\n",
    "        step=0.01\n",
    "        init_val = pca_widget_list[ii].value\n",
    "    else:\n",
    "        slider_min = np.nanmin(pca_tseries[:,ii])\n",
    "        slider_max = np.nanmax(pca_tseries[:,ii])\n",
    "        step=0.01\n",
    "        init_val = pca_widget_list[ii].value\n",
    "        \n",
    "    # make the slider\n",
    "    mode_slider = widgets.FloatSlider(value=init_val, min=slider_min, max=slider_max, step=step, \n",
    "                                         continuous_update=True, description='m{0}: {1}'.format(ii+1, np.round(mean_rep_modes[ii],2)), \n",
    "                                          layout=Layout(width='100%', height='50px'))\n",
    "    \n",
    "    # link the slider to the widget display values\n",
    "    mode_val_slider_link = widgets.link((mode_slider, 'value'), (pca_widget_list[ii], 'value'))\n",
    "    \n",
    "    # keep the mode slider\n",
    "    mode_sliders.append(mode_slider)\n",
    "    \n",
    "    \n",
    "    \n",
    "    \n",
    "# ------- On changes to the mode sliders, update the plottable positions ------ #\n",
    "\n",
    "def update_plottable_from_mode_sliders(change):\n",
    "    numCams=3\n",
    "    numFish=2\n",
    "    numBodyPoints=3\n",
    "    \n",
    "    #title_text.set_text(str(change))\n",
    "    \n",
    "    # get the current values of the mode weights\n",
    "    pca_data = []\n",
    "    for ii in range(numModeSliders):\n",
    "        pca_weight = pca_widget_list[ii].value\n",
    "        pca_data.append(pca_weight)\n",
    "    frame_pca_data = np.array(pca_data)\n",
    "    \n",
    "    # get the representation data from the pca weights\n",
    "    #frame_rep_data = modes_to_14D_rep(frame_pca_data, mean_14D_rep, sorted_eig_vecs)\n",
    "    frame_rep_data = coord_handler.convert_mode_weights_to_14D_rep(frame_pca_data)\n",
    "    \n",
    "    # get the plottable positions\n",
    "    #frame_positions = rep14D_to_plotable_positions(frame_rep_data)\n",
    "    frame_positions = coord_handler.convert_rep14D_to_plotable_positions(frame_rep_data)\n",
    "    \n",
    "    # update the rep data\n",
    "    for ii in range(14):\n",
    "        rep_widget_list[ii].value = np.round(frame_rep_data[ii],3)\n",
    "        \n",
    "    # update the plottable positions (lab can't be updated)\n",
    "    for fishIdx in range(numFish):\n",
    "        for bpIdx in range(numBodyPoints):\n",
    "            for dimIdx in range(3):\n",
    "                plottable_3D_widget_list[fishIdx][bpIdx][dimIdx].value = np.round(frame_positions[fishIdx, bpIdx, dimIdx],3)\n",
    "            \n",
    "    \n",
    "for ii in range(numModeSliders):\n",
    "    mode_sliders[ii].observe(update_plottable_from_mode_sliders, names='value')\n",
    "    \n",
    "    \n",
    "# all sliders\n",
    "all_sliders = widgets.VBox([widgets.VBox(mode_sliders)])\n",
    "\n",
    "\n",
    "\n",
    "# ----- Update the plot with mode sliders ----- #\n",
    "\n",
    "\n",
    "def update_plot_mode_change(change):\n",
    "    numFish=2\n",
    "    numBodyPoints=3\n",
    "    #fig.suptitle('Investigating PCA mode action about mean configuration')\n",
    "    \n",
    "    #------ Gather the current frame positions from the widget --- #\n",
    "    frame_positions = []\n",
    "    for fishIdx in range(numFish):\n",
    "\n",
    "        fish_position = []\n",
    "        for bpIdx in range(numBodyPoints):\n",
    "\n",
    "            bodypoint_pos = []\n",
    "            for dimIdx in range(3):\n",
    "                val = plottable_3D_widget_list[fishIdx][bpIdx][dimIdx].value\n",
    "                bodypoint_pos.append(val)\n",
    "            bodypoint_pos = np.array(bodypoint_pos)\n",
    "\n",
    "            fish_position.append(bodypoint_pos)\n",
    "        fish_position = np.stack(fish_position)\n",
    "\n",
    "        frame_positions.append(fish_position)\n",
    "    frame_positions = np.stack(frame_positions)\n",
    "    #-------------------------------------#\n",
    "        \n",
    "        \n",
    "    #------- Update the real fish ---- #\n",
    "    # update the scatters\n",
    "    for fishIdx in range(numFish):\n",
    "        for bpIdx in range(numBodyPoints):\n",
    "            ax = scatters[fishIdx][bpIdx]\n",
    "            ax._offsets3d[0][0] = frame_positions[fishIdx, bpIdx, 0]\n",
    "            ax._offsets3d[1][0] = frame_positions[fishIdx, bpIdx, 1]\n",
    "            ax._offsets3d[2][0] = frame_positions[fishIdx, bpIdx, 2]\n",
    "            \n",
    "    # update the lines\n",
    "    for fishIdx,line in enumerate(lines):\n",
    "            line.set_data(frame_positions[fishIdx, :, :2].swapaxes(0,1))\n",
    "            line.set_3d_properties(frame_positions[fishIdx, :, 2])\n",
    "    #--------------------------------------#\n",
    "    \n",
    "    \n",
    "    \n",
    "    # -------  Update the projections  ------- #\n",
    "    for projectionIdx in range(3):\n",
    "        \n",
    "        # XZ => Y=0\n",
    "        if projectionIdx == 0:\n",
    "            projectionData = np.copy(frame_positions)\n",
    "            projectionData[:, :, 1] = ymax\n",
    "        # XY => Z=0\n",
    "        elif projectionIdx == 1:\n",
    "            projectionData = np.copy(frame_positions)\n",
    "            projectionData[:, :, 2] = zmin\n",
    "        # YZ => X=0\n",
    "        elif projectionIdx == 2:\n",
    "            projectionData = np.copy(frame_positions)\n",
    "            projectionData[:, :, 0] = xmin\n",
    "            \n",
    "        proj_scatters = scatter_projections[projectionIdx]\n",
    "        proj_lines = lines_projections[projectionIdx]\n",
    "        \n",
    "        # update the scatters\n",
    "        for fishIdx in range(numFish):\n",
    "            for bpIdx in range(numBodyPoints):\n",
    "                ax = proj_scatters[fishIdx][bpIdx]\n",
    "                ax._offsets3d[0][0] = projectionData[fishIdx, bpIdx, 0]\n",
    "                ax._offsets3d[1][0] = projectionData[fishIdx, bpIdx, 1]\n",
    "                ax._offsets3d[2][0] = projectionData[fishIdx, bpIdx, 2]\n",
    "\n",
    "        # update the lines\n",
    "        for fishIdx,line in enumerate(proj_lines):\n",
    "            line.set_data(projectionData[fishIdx, :, :2].swapaxes(0,1))\n",
    "            line.set_3d_properties(projectionData[fishIdx, :, 2])\n",
    "        \n",
    "         \n",
    "    fig.canvas.draw()\n",
    "    fig.canvas.flush_events()\n",
    "\n",
    "\n",
    "for ii in range(numModeSliders):\n",
    "    ms = mode_sliders[ii]\n",
    "    ms.observe(update_plot_mode_change, names='value')\n"
   ]
  },
  {
   "cell_type": "code",
   "execution_count": null,
   "id": "5b26bfeb-d9ad-423f-9d91-b4ded6746c4e",
   "metadata": {},
   "outputs": [],
   "source": []
  },
  {
   "cell_type": "code",
   "execution_count": null,
   "id": "3791962e-e767-4a0f-b669-bb7886c5114e",
   "metadata": {},
   "outputs": [],
   "source": []
  },
  {
   "cell_type": "code",
   "execution_count": null,
   "id": "f100968c-688b-42de-a0e2-5168ae884563",
   "metadata": {},
   "outputs": [],
   "source": []
  },
  {
   "cell_type": "code",
   "execution_count": null,
   "id": "54f23901-2911-480e-a12b-b96701cb5970",
   "metadata": {},
   "outputs": [],
   "source": []
  },
  {
   "cell_type": "markdown",
   "id": "a61b210b-9127-4be5-b767-77edcd871c37",
   "metadata": {},
   "source": [
    "## Main Investigation"
   ]
  },
  {
   "cell_type": "code",
   "execution_count": 84,
   "id": "df891a13-1fa0-4d62-ae7c-e1aad73d71e4",
   "metadata": {},
   "outputs": [
    {
     "data": {
      "application/vnd.jupyter.widget-view+json": {
       "model_id": "e021f1db7d254d92b7ac27502415fa1d",
       "version_major": 2,
       "version_minor": 0
      },
      "text/plain": [
       "VBox(children=(VBox(children=(FloatSlider(value=0.0, description='m1: 0.0', layout=Layout(height='50px', width…"
      ]
     },
     "metadata": {},
     "output_type": "display_data"
    }
   ],
   "source": [
    "# display Vbox\n",
    "plt.ion()\n",
    "sc = Sidecar(title='Sidecar Output')\n",
    "with sc:\n",
    "    display(all_sliders)\n",
    "    #display(mean_rep_modes)"
   ]
  },
  {
   "cell_type": "code",
   "execution_count": 85,
   "id": "1d42bf94-3b65-4fe5-940b-e23b26299232",
   "metadata": {},
   "outputs": [],
   "source": [
    "mode_names = [\"X' distance\", \"Z' distance\", \n",
    "              \"'chasing'\", \"'anti-parallel display'\", \"'parallel display'\", \" 'face-off'\", \"symmetric pitching\", \"asymmetric pitching\",\n",
    "              \" head & tail X' motion \", \" head & tail Y' motion \",\n",
    "              \" head Y' motion\", \"pec Z' motion\"\n",
    "              \" pec X' motion \", \"pec Z' motion \"\n",
    "             ]"
   ]
  },
  {
   "cell_type": "code",
   "execution_count": 86,
   "id": "ea070dd8-2de6-409a-807b-fdf610e23535",
   "metadata": {},
   "outputs": [
    {
     "data": {
      "application/vnd.jupyter.widget-view+json": {
       "model_id": "d6358d3d3d0543649f4d9c4f1944bc6f",
       "version_major": 2,
       "version_minor": 0
      },
      "text/plain": [
       "VBox(children=(Canvas(header_visible=False, layout=Layout(height='100%', width='100%'), toolbar=Toolbar(toolit…"
      ]
     },
     "metadata": {},
     "output_type": "display_data"
    }
   ],
   "source": [
    "plot_widget"
   ]
  },
  {
   "cell_type": "code",
   "execution_count": 67,
   "id": "b1bb63c1-58d2-48cd-b6de-398a21011a3b",
   "metadata": {},
   "outputs": [],
   "source": [
    "#plt.savefig('/home/liam/fish_analysis/nugget_dump/20210209/m3_right_peak.png')"
   ]
  },
  {
   "cell_type": "code",
   "execution_count": null,
   "id": "6b84bad4-b743-49e6-bff8-95d8e755a8e3",
   "metadata": {},
   "outputs": [],
   "source": []
  },
  {
   "cell_type": "code",
   "execution_count": 22,
   "id": "aab2cc9f-2e57-44ed-92a6-a45abfc3c1cb",
   "metadata": {},
   "outputs": [],
   "source": [
    "# reset all the sliders\n",
    "for modeIdx in range(len(pca_widget_list)):\n",
    "    pca_widget_list[modeIdx].value = 0"
   ]
  },
  {
   "cell_type": "code",
   "execution_count": null,
   "id": "3af35d31-eb04-4e9b-88be-307a03ec79ad",
   "metadata": {},
   "outputs": [],
   "source": []
  },
  {
   "cell_type": "code",
   "execution_count": null,
   "id": "a99d4481-7338-4340-ac45-f523628248eb",
   "metadata": {},
   "outputs": [],
   "source": []
  },
  {
   "cell_type": "markdown",
   "id": "17211ae2-d6e1-4cd5-85c6-f0e69a937f8d",
   "metadata": {},
   "source": [
    "## animating the PCA modes"
   ]
  },
  {
   "cell_type": "code",
   "execution_count": 87,
   "id": "74758670-17ba-4e7a-ac97-897272472b67",
   "metadata": {},
   "outputs": [
    {
     "data": {
      "text/plain": [
       "array([ 0. ,  0.5,  1. ,  1.5,  2. ,  2.5,  3. ,  2.5,  2. ,  1.5,  1. ,\n",
       "        0.5,  0. , -0.5, -1. , -1.5, -2. , -2.5, -3. , -2.5, -2. , -1.5,\n",
       "       -1. , -0.5,  0. ])"
      ]
     },
     "execution_count": 87,
     "metadata": {},
     "output_type": "execute_result"
    }
   ],
   "source": [
    "# create a value array for pulses\n",
    "\n",
    "def compute_modeval_array(minval, maxval, step):\n",
    "    ''' 0 -> max -> min -> 0\n",
    "    \n",
    "    minval, maxval are inclusive\n",
    "    '''\n",
    "    first_leg = np.arange(0, maxval+step, step)\n",
    "    second_leg = np.arange(minval, maxval, step)[::-1]\n",
    "    third_leg = np.arange(minval+step, 0+step, step)\n",
    "    modeval_arr = np.concatenate([first_leg, second_leg, third_leg])\n",
    "    return modeval_arr\n",
    "\n",
    "modeval_arr = compute_modeval_array(-3, 3, 0.5)\n",
    "modeval_arr"
   ]
  },
  {
   "cell_type": "code",
   "execution_count": null,
   "id": "b951497d-e7d7-4db9-a62e-28e74e32657a",
   "metadata": {},
   "outputs": [],
   "source": []
  },
  {
   "cell_type": "code",
   "execution_count": 88,
   "id": "934f319c-5846-4f4d-8c1e-baa82fddb3cf",
   "metadata": {},
   "outputs": [],
   "source": [
    "# create a list for each pc\n",
    "\n",
    "pc_modeval_arr_list = []\n",
    "\n",
    "# pc1\n",
    "modeval_arr = compute_modeval_array(-5, 5, 1)\n",
    "pc_modeval_arr_list.append(modeval_arr)\n",
    "\n",
    "# pc2\n",
    "modeval_arr = compute_modeval_array(-10, 10, 1)\n",
    "pc_modeval_arr_list.append(modeval_arr)\n",
    "\n",
    "\n",
    "\n",
    "# pc3\n",
    "modeval_arr = compute_modeval_array(-5, 5, 1)\n",
    "pc_modeval_arr_list.append(modeval_arr)\n",
    "\n",
    "# pc4\n",
    "modeval_arr = compute_modeval_array(-5, 5, 1)\n",
    "pc_modeval_arr_list.append(modeval_arr)\n",
    "\n",
    "# pc5\n",
    "modeval_arr = compute_modeval_array(-5, 5, 1)\n",
    "pc_modeval_arr_list.append(modeval_arr)\n",
    "\n",
    "# pc6\n",
    "modeval_arr = compute_modeval_array(-5, 5, 1)\n",
    "pc_modeval_arr_list.append(modeval_arr)\n",
    "\n",
    "\n",
    "# pc7\n",
    "modeval_arr = compute_modeval_array(-5, 5, 1)\n",
    "pc_modeval_arr_list.append(modeval_arr)\n",
    "\n",
    "# pc8\n",
    "modeval_arr = compute_modeval_array(-5, 5, 1)\n",
    "pc_modeval_arr_list.append(modeval_arr)\n",
    "\n",
    "\n",
    "\n",
    "# pc9\n",
    "modeval_arr = compute_modeval_array(-5, 5, 1)\n",
    "pc_modeval_arr_list.append(modeval_arr)\n",
    "\n",
    "# pc10\n",
    "modeval_arr = compute_modeval_array(-5, 5, 1)\n",
    "pc_modeval_arr_list.append(modeval_arr)\n",
    "\n",
    "# pc11\n",
    "modeval_arr = compute_modeval_array(-5, 5, 1)\n",
    "pc_modeval_arr_list.append(modeval_arr)\n",
    "\n",
    "# pc12\n",
    "modeval_arr = compute_modeval_array(-5, 5, 1)\n",
    "pc_modeval_arr_list.append(modeval_arr)\n",
    "\n",
    "# pc13\n",
    "modeval_arr = compute_modeval_array(-5, 5, 1)\n",
    "pc_modeval_arr_list.append(modeval_arr)\n",
    "\n",
    "# pc14\n",
    "modeval_arr = compute_modeval_array(-5, 5, 1)\n",
    "pc_modeval_arr_list.append(modeval_arr)"
   ]
  },
  {
   "cell_type": "code",
   "execution_count": null,
   "id": "7acb5eb2-72cb-4422-baf6-a93ba9628b34",
   "metadata": {},
   "outputs": [],
   "source": []
  },
  {
   "cell_type": "code",
   "execution_count": null,
   "id": "6d6b56e5-74cf-4919-b2da-c65e8482a87a",
   "metadata": {},
   "outputs": [],
   "source": []
  },
  {
   "cell_type": "code",
   "execution_count": 89,
   "id": "e811a9bb-5ea7-4cce-aef3-bb2eb335b056",
   "metadata": {},
   "outputs": [],
   "source": [
    "text_title_widget.value = 0"
   ]
  },
  {
   "cell_type": "code",
   "execution_count": null,
   "id": "55679431-9638-4136-8828-aa54e01e1421",
   "metadata": {},
   "outputs": [],
   "source": []
  },
  {
   "cell_type": "code",
   "execution_count": 90,
   "id": "b5f69661-64a5-4dc7-a160-3044d4fb67e5",
   "metadata": {},
   "outputs": [],
   "source": [
    "# pulse the top two modes in turn\n",
    "\n",
    "time.sleep(10)\n",
    "\n",
    "modeval_arr = compute_modeval_array(-5, 5, 0.5)\n",
    "\n",
    "for modeIdx in (0, 1):\n",
    "    modeval_arr = pc_modeval_arr_list[modeIdx]\n",
    "    text_title_widget.value = modeIdx\n",
    "    for val in modeval_arr:\n",
    "        pca_widget_list[modeIdx].value = val\n",
    "        time.sleep(0.01)\n",
    "        \n",
    "time.sleep(1)\n",
    "        \n",
    "for modeIdx in (2, 3, 4, 5, 6, 7):\n",
    "    modeval_arr = pc_modeval_arr_list[modeIdx]\n",
    "    text_title_widget.value = str(modeIdx)\n",
    "    for val in modeval_arr:\n",
    "        pca_widget_list[modeIdx].value = val\n",
    "        time.sleep(0.01)\n",
    "        \n",
    "# time.sleep(1)\n",
    "            \n",
    "# for modeIdx in (8, 9, 10, 11, 12, 13):\n",
    "#     modeval_arr = pc_modeval_arr_list[modeIdx]\n",
    "#     text_title_widget.value = str(modeIdx)\n",
    "#     for val in modeval_arr:\n",
    "#         pca_widget_list[modeIdx].value = val\n",
    "#         time.sleep(0.05)\n",
    "        "
   ]
  },
  {
   "cell_type": "code",
   "execution_count": null,
   "id": "77c6c033-53c5-4706-8e26-3bd008cdd9db",
   "metadata": {},
   "outputs": [],
   "source": []
  },
  {
   "cell_type": "code",
   "execution_count": null,
   "id": "a762e86f-0a9c-4976-8d81-3e4b3b8b3488",
   "metadata": {},
   "outputs": [],
   "source": []
  },
  {
   "cell_type": "code",
   "execution_count": null,
   "id": "34aeb2ee-938d-449d-adb3-5a2dc9cd4f66",
   "metadata": {},
   "outputs": [],
   "source": []
  },
  {
   "cell_type": "markdown",
   "id": "341fa8fe-50a1-4a2c-9541-2f00cc45650e",
   "metadata": {},
   "source": [
    "# Compute kin vars for all experiments"
   ]
  },
  {
   "cell_type": "code",
   "execution_count": null,
   "id": "fabc84f5-d480-4dd1-b568-3efa033bac7a",
   "metadata": {},
   "outputs": [],
   "source": []
  },
  {
   "cell_type": "code",
   "execution_count": 8,
   "id": "46529b2d-0466-4dc2-8f07-87918445b5ae",
   "metadata": {},
   "outputs": [],
   "source": [
    "from kinematics import compute_pec_pec_distance, compute_thetaW_and_thetaL\n",
    "from kinematics import compute_signed_pec_z_difference, compute_phi_dot_from_raw_trajectories, compute_coordinate_origin_z\n",
    "from kinematics import compute_pec_pec_distance_dot, compute_coordinate_origin_z_dot"
   ]
  },
  {
   "cell_type": "code",
   "execution_count": null,
   "id": "c2b36dce-0163-48df-9425-2294d877c3cf",
   "metadata": {},
   "outputs": [],
   "source": []
  },
  {
   "cell_type": "code",
   "execution_count": 9,
   "id": "ac60c294-ad96-4a95-8f60-9f4da556538e",
   "metadata": {},
   "outputs": [],
   "source": [
    "interp_polyOrd=1  # the order of the polynomial used for interpolation\n",
    "interp_limit=5    # the maximum number of frames to interpolate over\n",
    "savgol_win=9      # the number of frames for the Savitzky-Golay filter\n",
    "savgol_ord=2      # the polynomial order for the Savitzky-Golay filter\n",
    "dt=0.01           # the frame rate of the recording"
   ]
  },
  {
   "cell_type": "code",
   "execution_count": null,
   "id": "7b99cd59-da77-4cc4-b182-4f9cd30a3ac5",
   "metadata": {},
   "outputs": [],
   "source": []
  },
  {
   "cell_type": "code",
   "execution_count": 10,
   "id": "6ae8c83c-a979-4fa7-82b2-e810a97d97a1",
   "metadata": {},
   "outputs": [
    {
     "name": "stdout",
     "output_type": "stream",
     "text": [
      "FishTank20200127_143538\n"
     ]
    },
    {
     "name": "stderr",
     "output_type": "stream",
     "text": [
      "/home/liam/code/Dynamics_of_dominance/figures_code/../tracking_code/lib/kinematics.py:218: RuntimeWarning: invalid value encountered in true_divide\n",
      "  winnerPec_to_loserPec = winnerPec_to_loserPec / row_norms[:, np.newaxis]\n"
     ]
    },
    {
     "name": "stdout",
     "output_type": "stream",
     "text": [
      "FishTank20200129_140656\n"
     ]
    },
    {
     "name": "stderr",
     "output_type": "stream",
     "text": [
      "/home/liam/code/Dynamics_of_dominance/figures_code/../tracking_code/lib/kinematics.py:218: RuntimeWarning: invalid value encountered in true_divide\n",
      "  winnerPec_to_loserPec = winnerPec_to_loserPec / row_norms[:, np.newaxis]\n"
     ]
    },
    {
     "name": "stdout",
     "output_type": "stream",
     "text": [
      "FishTank20200130_153857\n"
     ]
    },
    {
     "name": "stderr",
     "output_type": "stream",
     "text": [
      "/home/liam/code/Dynamics_of_dominance/figures_code/../tracking_code/lib/kinematics.py:218: RuntimeWarning: invalid value encountered in true_divide\n",
      "  winnerPec_to_loserPec = winnerPec_to_loserPec / row_norms[:, np.newaxis]\n"
     ]
    },
    {
     "name": "stdout",
     "output_type": "stream",
     "text": [
      "FishTank20200130_181614\n"
     ]
    },
    {
     "name": "stderr",
     "output_type": "stream",
     "text": [
      "/home/liam/code/Dynamics_of_dominance/figures_code/../tracking_code/lib/kinematics.py:218: RuntimeWarning: invalid value encountered in true_divide\n",
      "  winnerPec_to_loserPec = winnerPec_to_loserPec / row_norms[:, np.newaxis]\n"
     ]
    },
    {
     "name": "stdout",
     "output_type": "stream",
     "text": [
      "FishTank20200207_161445\n"
     ]
    },
    {
     "name": "stderr",
     "output_type": "stream",
     "text": [
      "/home/liam/code/Dynamics_of_dominance/figures_code/../tracking_code/lib/kinematics.py:218: RuntimeWarning: invalid value encountered in true_divide\n",
      "  winnerPec_to_loserPec = winnerPec_to_loserPec / row_norms[:, np.newaxis]\n"
     ]
    },
    {
     "name": "stdout",
     "output_type": "stream",
     "text": [
      "FishTank20200213_154940\n"
     ]
    },
    {
     "name": "stderr",
     "output_type": "stream",
     "text": [
      "/home/liam/code/Dynamics_of_dominance/figures_code/../tracking_code/lib/kinematics.py:218: RuntimeWarning: invalid value encountered in true_divide\n",
      "  winnerPec_to_loserPec = winnerPec_to_loserPec / row_norms[:, np.newaxis]\n"
     ]
    },
    {
     "name": "stdout",
     "output_type": "stream",
     "text": [
      "FishTank20200214_153519\n"
     ]
    },
    {
     "name": "stderr",
     "output_type": "stream",
     "text": [
      "/home/liam/code/Dynamics_of_dominance/figures_code/../tracking_code/lib/kinematics.py:218: RuntimeWarning: invalid value encountered in true_divide\n",
      "  winnerPec_to_loserPec = winnerPec_to_loserPec / row_norms[:, np.newaxis]\n"
     ]
    },
    {
     "name": "stdout",
     "output_type": "stream",
     "text": [
      "FishTank20200217_160052\n"
     ]
    },
    {
     "name": "stderr",
     "output_type": "stream",
     "text": [
      "/home/liam/code/Dynamics_of_dominance/figures_code/../tracking_code/lib/kinematics.py:218: RuntimeWarning: invalid value encountered in true_divide\n",
      "  winnerPec_to_loserPec = winnerPec_to_loserPec / row_norms[:, np.newaxis]\n"
     ]
    },
    {
     "name": "stdout",
     "output_type": "stream",
     "text": [
      "FishTank20200218_153008\n"
     ]
    },
    {
     "name": "stderr",
     "output_type": "stream",
     "text": [
      "/home/liam/code/Dynamics_of_dominance/figures_code/../tracking_code/lib/kinematics.py:218: RuntimeWarning: invalid value encountered in true_divide\n",
      "  winnerPec_to_loserPec = winnerPec_to_loserPec / row_norms[:, np.newaxis]\n"
     ]
    },
    {
     "name": "stdout",
     "output_type": "stream",
     "text": [
      "FishTank20200316_163320\n"
     ]
    },
    {
     "name": "stderr",
     "output_type": "stream",
     "text": [
      "/home/liam/code/Dynamics_of_dominance/figures_code/../tracking_code/lib/kinematics.py:218: RuntimeWarning: invalid value encountered in true_divide\n",
      "  winnerPec_to_loserPec = winnerPec_to_loserPec / row_norms[:, np.newaxis]\n"
     ]
    },
    {
     "name": "stdout",
     "output_type": "stream",
     "text": [
      "FishTank20200327_154737\n"
     ]
    },
    {
     "name": "stderr",
     "output_type": "stream",
     "text": [
      "/home/liam/code/Dynamics_of_dominance/figures_code/../tracking_code/lib/kinematics.py:218: RuntimeWarning: invalid value encountered in true_divide\n",
      "  winnerPec_to_loserPec = winnerPec_to_loserPec / row_norms[:, np.newaxis]\n"
     ]
    },
    {
     "name": "stdout",
     "output_type": "stream",
     "text": [
      "FishTank20200330_161100\n"
     ]
    },
    {
     "name": "stderr",
     "output_type": "stream",
     "text": [
      "/home/liam/code/Dynamics_of_dominance/figures_code/../tracking_code/lib/kinematics.py:218: RuntimeWarning: invalid value encountered in true_divide\n",
      "  winnerPec_to_loserPec = winnerPec_to_loserPec / row_norms[:, np.newaxis]\n"
     ]
    },
    {
     "name": "stdout",
     "output_type": "stream",
     "text": [
      "FishTank20200331_162136\n"
     ]
    },
    {
     "name": "stderr",
     "output_type": "stream",
     "text": [
      "/home/liam/code/Dynamics_of_dominance/figures_code/../tracking_code/lib/kinematics.py:218: RuntimeWarning: invalid value encountered in true_divide\n",
      "  winnerPec_to_loserPec = winnerPec_to_loserPec / row_norms[:, np.newaxis]\n"
     ]
    },
    {
     "name": "stdout",
     "output_type": "stream",
     "text": [
      "FishTank20200520_152810\n"
     ]
    },
    {
     "name": "stderr",
     "output_type": "stream",
     "text": [
      "/home/liam/code/Dynamics_of_dominance/figures_code/../tracking_code/lib/kinematics.py:218: RuntimeWarning: invalid value encountered in true_divide\n",
      "  winnerPec_to_loserPec = winnerPec_to_loserPec / row_norms[:, np.newaxis]\n"
     ]
    },
    {
     "name": "stdout",
     "output_type": "stream",
     "text": [
      "FishTank20200521_154541\n"
     ]
    },
    {
     "name": "stderr",
     "output_type": "stream",
     "text": [
      "/home/liam/code/Dynamics_of_dominance/figures_code/../tracking_code/lib/kinematics.py:218: RuntimeWarning: invalid value encountered in true_divide\n",
      "  winnerPec_to_loserPec = winnerPec_to_loserPec / row_norms[:, np.newaxis]\n"
     ]
    },
    {
     "name": "stdout",
     "output_type": "stream",
     "text": [
      "FishTank20200525_161602\n"
     ]
    },
    {
     "name": "stderr",
     "output_type": "stream",
     "text": [
      "/home/liam/code/Dynamics_of_dominance/figures_code/../tracking_code/lib/kinematics.py:218: RuntimeWarning: invalid value encountered in true_divide\n",
      "  winnerPec_to_loserPec = winnerPec_to_loserPec / row_norms[:, np.newaxis]\n"
     ]
    },
    {
     "name": "stdout",
     "output_type": "stream",
     "text": [
      "FishTank20200526_160100\n"
     ]
    },
    {
     "name": "stderr",
     "output_type": "stream",
     "text": [
      "/home/liam/code/Dynamics_of_dominance/figures_code/../tracking_code/lib/kinematics.py:24: RuntimeWarning: invalid value encountered in true_divide\n",
      "  vec_ts = vec_ts / row_norms[:, np.newaxis]\n",
      "/home/liam/code/Dynamics_of_dominance/figures_code/../tracking_code/lib/kinematics.py:218: RuntimeWarning: invalid value encountered in true_divide\n",
      "  winnerPec_to_loserPec = winnerPec_to_loserPec / row_norms[:, np.newaxis]\n"
     ]
    },
    {
     "name": "stdout",
     "output_type": "stream",
     "text": [
      "FishTank20200527_152401\n",
      "FishTank20200824_151740\n"
     ]
    },
    {
     "name": "stderr",
     "output_type": "stream",
     "text": [
      "/home/liam/code/Dynamics_of_dominance/figures_code/../tracking_code/lib/kinematics.py:218: RuntimeWarning: invalid value encountered in true_divide\n",
      "  winnerPec_to_loserPec = winnerPec_to_loserPec / row_norms[:, np.newaxis]\n"
     ]
    },
    {
     "name": "stdout",
     "output_type": "stream",
     "text": [
      "FishTank20200828_155504\n"
     ]
    },
    {
     "name": "stderr",
     "output_type": "stream",
     "text": [
      "/home/liam/code/Dynamics_of_dominance/figures_code/../tracking_code/lib/kinematics.py:218: RuntimeWarning: invalid value encountered in true_divide\n",
      "  winnerPec_to_loserPec = winnerPec_to_loserPec / row_norms[:, np.newaxis]\n"
     ]
    },
    {
     "name": "stdout",
     "output_type": "stream",
     "text": [
      "FishTank20200902_160124\n"
     ]
    },
    {
     "name": "stderr",
     "output_type": "stream",
     "text": [
      "/home/liam/code/Dynamics_of_dominance/figures_code/../tracking_code/lib/kinematics.py:218: RuntimeWarning: invalid value encountered in true_divide\n",
      "  winnerPec_to_loserPec = winnerPec_to_loserPec / row_norms[:, np.newaxis]\n"
     ]
    },
    {
     "name": "stdout",
     "output_type": "stream",
     "text": [
      "FishTank20200903_160946\n"
     ]
    },
    {
     "name": "stderr",
     "output_type": "stream",
     "text": [
      "/home/liam/code/Dynamics_of_dominance/figures_code/../tracking_code/lib/kinematics.py:218: RuntimeWarning: invalid value encountered in true_divide\n",
      "  winnerPec_to_loserPec = winnerPec_to_loserPec / row_norms[:, np.newaxis]\n"
     ]
    },
    {
     "name": "stdout",
     "output_type": "stream",
     "text": [
      "\n",
      "finished: 19.189300617668778 s\n"
     ]
    }
   ],
   "source": [
    "t0 = time.perf_counter()\n",
    "\n",
    "exp_dpps = []\n",
    "exp_tetWs = []\n",
    "exp_tetLs = []\n",
    "\n",
    "exp_phi_dots = []\n",
    "exp_dpp_dots = []\n",
    "exp_pec_z_differences = []\n",
    "exp_Oz_dots = []\n",
    "\n",
    "\n",
    "for ii, expName in enumerate(expNames):\n",
    "    print(expName)\n",
    "    \n",
    "    smooth_traj = smooth_trajectories[ii]\n",
    "    raw_traj = raw_trajectories[ii]\n",
    "    winIdx = winner_idxs[ii]\n",
    "    losIdx = loser_idxs[ii]\n",
    "    \n",
    "    dpp_ts = compute_pec_pec_distance(smooth_traj)\n",
    "    tetW_ts, tetL_ts = compute_thetaW_and_thetaL(smooth_traj, winIdx, losIdx)\n",
    "    exp_dpps.append(dpp_ts)\n",
    "    exp_tetWs.append(tetW_ts)\n",
    "    exp_tetLs.append(tetL_ts)\n",
    "    \n",
    "    \n",
    "    phi_dot = compute_phi_dot_from_raw_trajectories(raw_traj, winIdx, losIdx, dt=dt,\n",
    "                                                    interp_max_gap=interp_limit, interp_polyOrd=interp_polyOrd,\n",
    "                                                    smooth_polyOrd=savgol_ord, smooth_winSize=savgol_win)\n",
    "    exp_phi_dots.append(phi_dot)\n",
    "    \n",
    "    \n",
    "    signed_pec_z_difference = compute_signed_pec_z_difference(smooth_traj, winIdx, losIdx)\n",
    "    exp_pec_z_differences.append(signed_pec_z_difference)\n",
    "    \n",
    "    dpp_dot = compute_pec_pec_distance_dot(raw_traj,  dt=dt,\n",
    "                                            interp_max_gap=interp_limit, interp_polyOrd=interp_polyOrd,\n",
    "                                            smooth_polyOrd=savgol_ord, smooth_winSize=savgol_win)\n",
    "    exp_dpp_dots.append(dpp_dot)\n",
    "    \n",
    "    \n",
    "    Oz_dot = compute_coordinate_origin_z_dot(raw_traj, winIdx, losIdx, dt=dt,\n",
    "                                             interp_max_gap=interp_limit, interp_polyOrd=interp_polyOrd, \n",
    "                                             smooth_polyOrd=savgol_ord, smooth_winSize=savgol_win)\n",
    "    exp_Oz_dots.append(Oz_dot)\n",
    "    \n",
    "    \n",
    "tE = time.perf_counter()\n",
    "print()\n",
    "print('finished: {0} s'.format(tE-t0))"
   ]
  },
  {
   "cell_type": "code",
   "execution_count": null,
   "id": "2848976c-58fa-4f6a-a397-c0af7b6ea882",
   "metadata": {},
   "outputs": [],
   "source": []
  },
  {
   "cell_type": "code",
   "execution_count": 14,
   "id": "bbe7d6eb-6be4-4dce-9d28-9f0ab3818be1",
   "metadata": {},
   "outputs": [],
   "source": [
    "# --- Master sets of plotting --- #\n",
    "dpp_dot_master = np.concatenate(exp_dpp_dots)\n",
    "phi_dot_master = np.concatenate(exp_phi_dots)\n",
    "pec_z_difference_master = np.concatenate(exp_pec_z_differences)\n",
    "Oz_dots_master = np.concatenate(exp_Oz_dots)\n",
    "\n",
    "dpp_master = np.concatenate(exp_dpps)\n",
    "tetW_master = np.concatenate(exp_tetWs)\n",
    "tetL_master = np.concatenate(exp_tetLs)\n",
    "\n",
    "\n"
   ]
  },
  {
   "cell_type": "code",
   "execution_count": null,
   "id": "bc3e7f91-e3dc-41e3-a23e-85bf0e6922b9",
   "metadata": {},
   "outputs": [],
   "source": []
  },
  {
   "cell_type": "code",
   "execution_count": null,
   "id": "a6c3ae87-459b-4b07-a257-fb46829cb0b8",
   "metadata": {},
   "outputs": [],
   "source": []
  },
  {
   "cell_type": "code",
   "execution_count": null,
   "id": "b2adc711-390d-47fb-8fc0-3cafa55ec164",
   "metadata": {},
   "outputs": [],
   "source": []
  },
  {
   "cell_type": "code",
   "execution_count": null,
   "id": "87ed9e67-b186-4505-81ba-70e78a9d6b63",
   "metadata": {},
   "outputs": [],
   "source": []
  },
  {
   "cell_type": "markdown",
   "id": "ec6c86b5-a61a-4914-a8b4-584d2a0edb47",
   "metadata": {},
   "source": [
    "# compute the autocorrs for a single experiment, for 5s lags"
   ]
  },
  {
   "cell_type": "code",
   "execution_count": 17,
   "id": "b6f764d1-37eb-4450-b183-94841440be93",
   "metadata": {},
   "outputs": [
    {
     "data": {
      "text/plain": [
       "'FishTank20200331_162136'"
      ]
     },
     "execution_count": 17,
     "metadata": {},
     "output_type": "execute_result"
    }
   ],
   "source": [
    "expIdx = 12\n",
    "expNames[expIdx]"
   ]
  },
  {
   "cell_type": "code",
   "execution_count": null,
   "id": "9705766d-a8c8-44b1-9c14-81090c30e888",
   "metadata": {},
   "outputs": [],
   "source": []
  },
  {
   "cell_type": "code",
   "execution_count": 18,
   "id": "9a4e23e0-9c3b-4f51-a9cb-320dbe4e9d78",
   "metadata": {},
   "outputs": [
    {
     "name": "stdout",
     "output_type": "stream",
     "text": [
      "98.86740110162646  s\n"
     ]
    }
   ],
   "source": [
    "t0 = time.perf_counter()  \n",
    "\n",
    "# make sure winner is first\n",
    "smooth_traj = np.copy(smooth_trajectories[expIdx])\n",
    "winnerIdx = winner_idxs[expIdx]\n",
    "\n",
    "# compute the 14D rep for the experiment\n",
    "exp_14D_rep = compute_14D_rep_from_trajectories(smooth_traj, winnerIdx)\n",
    "\n",
    "# create the mode timeseries\n",
    "exp_mode_ts = project_14D_rep_onto_modes(exp_14D_rep, coord_handler.eigvecs, numProjectionModes=14)\n",
    "\n",
    "\n",
    "tE = time.perf_counter()\n",
    "print(tE-t0, ' s')"
   ]
  },
  {
   "cell_type": "code",
   "execution_count": null,
   "id": "44022495-1ab3-48eb-9223-f061db7e1830",
   "metadata": {},
   "outputs": [],
   "source": []
  },
  {
   "cell_type": "code",
   "execution_count": 19,
   "id": "89223547-014d-476b-a163-5486bf825b7b",
   "metadata": {},
   "outputs": [],
   "source": [
    "# get the dpp,tetW,tetL data\n",
    "dpp = exp_dpps[expIdx]\n",
    "tetW = exp_tetWs[expIdx]\n",
    "tetL = exp_tetLs[expIdx]"
   ]
  },
  {
   "cell_type": "code",
   "execution_count": null,
   "id": "caf23ced-eb46-4b1c-b650-823a1b58980c",
   "metadata": {},
   "outputs": [],
   "source": []
  },
  {
   "cell_type": "code",
   "execution_count": 32,
   "id": "7ded1ca7-e28c-4f55-89f7-2977220241a7",
   "metadata": {},
   "outputs": [
    {
     "name": "stdout",
     "output_type": "stream",
     "text": [
      "0  done\n",
      "1  done\n",
      "2  done\n",
      "3  done\n",
      "4  done\n",
      "5  done\n",
      "6  done\n",
      "7  done\n",
      "8  done\n",
      "9  done\n",
      "10  done\n",
      "11  done\n",
      "12  done\n",
      "13  done\n",
      "dpp done\n",
      "tetW done\n",
      "tetL done\n",
      "2725.5124695110135\n"
     ]
    }
   ],
   "source": [
    "# ----- correlations ----- #\n",
    "t0 = time.perf_counter()\n",
    "\n",
    "\n",
    "maxLag=5000\n",
    "numSamples=50000\n",
    "min_numSamples_allowed=10000\n",
    "\n",
    "\n",
    "pca_lag_results = []\n",
    "for pcIdx in range(exp_mode_ts.shape[1]):\n",
    "    ts = exp_mode_ts[:,pcIdx]\n",
    "    lag_sizes, lag_results = cross_correlation(ts, ts, maxLag=maxLag, numSamples=numSamples, min_numSamples_allowed=min_numSamples_allowed)\n",
    "    pca_lag_results.append(lag_results)\n",
    "    print(pcIdx, ' done')\n",
    "    \n",
    "\n",
    "dpp_lag_sizes, dpp_lag_results = cross_correlation(dpp, dpp, maxLag=maxLag, numSamples=numSamples, min_numSamples_allowed=min_numSamples_allowed)\n",
    "print('dpp done')\n",
    "\n",
    "tetW_lag_sizes, tetW_lag_results = angular_cross_correlation(tetW, tetW, maxLag=maxLag, numSamples=numSamples, min_numSamples_allowed=min_numSamples_allowed)\n",
    "print('tetW done')\n",
    "\n",
    "tetL_lag_sizes, tetL_lag_results = angular_cross_correlation(tetL, tetL, maxLag=maxLag, numSamples=numSamples, min_numSamples_allowed=min_numSamples_allowed)\n",
    "print('tetL done')\n",
    "    \n",
    "\n",
    "tE = time.perf_counter()\n",
    "print(tE-t0)\n"
   ]
  },
  {
   "cell_type": "code",
   "execution_count": null,
   "id": "9fc935b1-12aa-4624-a719-5be9dea90cbf",
   "metadata": {},
   "outputs": [],
   "source": []
  },
  {
   "cell_type": "code",
   "execution_count": null,
   "id": "93d783fa-d93e-4144-858d-f723ca7efc46",
   "metadata": {},
   "outputs": [],
   "source": []
  },
  {
   "cell_type": "markdown",
   "id": "c0cdc114-185b-4560-81d4-39f662e9178f",
   "metadata": {},
   "source": [
    "# Panel B"
   ]
  },
  {
   "cell_type": "code",
   "execution_count": null,
   "id": "03e923a5-0939-41d8-a067-f9694362f8eb",
   "metadata": {},
   "outputs": [],
   "source": []
  },
  {
   "cell_type": "code",
   "execution_count": 35,
   "id": "a0cd7d9d-f5c4-44d4-842f-6ac5839fa66c",
   "metadata": {},
   "outputs": [
    {
     "data": {
      "application/vnd.jupyter.widget-view+json": {
       "model_id": "73ed67ac276d4fbb94e1bdd11eb85131",
       "version_major": 2,
       "version_minor": 0
      },
      "text/html": [
       "\n",
       "            <div style=\"display: inline-block;\">\n",
       "                <div class=\"jupyter-widgets widget-label\" style=\"text-align: center;\">\n",
       "                    Figure\n",
       "                </div>\n",
       "                <img src='data:image/png;base64,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' width=280.0/>\n",
       "            </div>\n",
       "        "
      ],
      "text/plain": [
       "Canvas(toolbar=Toolbar(toolitems=[('Home', 'Reset original view', 'home', 'home'), ('Back', 'Back to previous …"
      ]
     },
     "metadata": {},
     "output_type": "display_data"
    }
   ],
   "source": [
    "t0 = time.time()\n",
    "\n",
    "# set up the figure\n",
    "# 2.8,1.6\n",
    "fig, axs = plt.subplots(figsize=(2.8,1.6)) #plt.subplots(figsize=(16,6))\n",
    "\n",
    "\n",
    "# make the color-list\n",
    "color_list = []\n",
    "for i in range(2):\n",
    "    color_list.append(c1)\n",
    "for i in range(2,8):\n",
    "    color_list.append(c2)\n",
    "for i in range(8, 14):\n",
    "    color_list.append(c3)\n",
    "    \n",
    "    \n",
    "# use the one set of lags\n",
    "lags = lag_sizes[5000:]\n",
    "\n",
    "\n",
    "# plot all the autocorrelations\n",
    "for i in range(14):\n",
    "    pca_cc = pca_lag_results[i]\n",
    "    axs.plot(lags, pca_cc[5000:], color=color_list[i], lw=1.5, alpha=0.5)\n",
    "    \n",
    "    \n",
    "    \n",
    "# plot the new vars\n",
    "axs.plot(lags, dpp_lag_results[5000:], color='black', lw=1.5)\n",
    "axs.plot(lags, tetW_lag_results[5000:], color='red', lw=1.5)\n",
    "axs.plot(lags, tetL_lag_results[5000:], color='blue', lw=1.5)\n",
    "\n",
    "# set x axis params\n",
    "xticks = [0,100,200,300,400,500]\n",
    "xtick_labels = []\n",
    "axs.set_xticks(xticks)\n",
    "axs.set_xticklabels([])\n",
    "axs.set_xlim(0, 500)\n",
    "    \n",
    "\n",
    "\n",
    "\n",
    "# set y axis params\n",
    "axs.set_ylim((0,1))\n",
    "axs.set_yticks([0, 1])\n",
    "axs.set_yticklabels([])\n",
    "\n",
    "\n",
    "# The spines\n",
    "plt.setp(ax.spines.values(), linewidth=1)\n",
    "ax.xaxis.set_tick_params(width=1)\n",
    "ax.yaxis.set_tick_params(width=1)\n",
    "\n",
    "\n",
    "# save and finish\n",
    "fig.tight_layout()\n",
    "fig.savefig('/home/liam/temp/image_transfer/fig2_B.png', dpi=300, transparent=True, bbox_inches='tight')\n",
    "\n",
    "\n",
    "# tE = time.time()\n",
    "# print(tE-t0)"
   ]
  },
  {
   "cell_type": "code",
   "execution_count": null,
   "id": "cdf36f85-f9ee-4eb2-b0d7-6383154e531c",
   "metadata": {},
   "outputs": [],
   "source": []
  },
  {
   "cell_type": "code",
   "execution_count": null,
   "id": "794f718d-3eb9-49ed-b912-ce69b6e56568",
   "metadata": {},
   "outputs": [],
   "source": []
  },
  {
   "cell_type": "code",
   "execution_count": null,
   "id": "50b8f93d-5db3-4cc7-9cef-c7d2907d9b99",
   "metadata": {},
   "outputs": [],
   "source": []
  },
  {
   "cell_type": "code",
   "execution_count": null,
   "id": "2217bdcc-75df-4f38-bb0d-9ac1e122fa4c",
   "metadata": {},
   "outputs": [],
   "source": []
  }
 ],
 "metadata": {
  "kernelspec": {
   "display_name": "analysis",
   "language": "python",
   "name": "analysis"
  },
  "language_info": {
   "codemirror_mode": {
    "name": "ipython",
    "version": 3
   },
   "file_extension": ".py",
   "mimetype": "text/x-python",
   "name": "python",
   "nbconvert_exporter": "python",
   "pygments_lexer": "ipython3",
   "version": "3.9.7"
  }
 },
 "nbformat": 4,
 "nbformat_minor": 5
}

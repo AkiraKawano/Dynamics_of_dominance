{
 "cells": [
  {
   "cell_type": "code",
   "execution_count": null,
   "id": "8dce474b-ff82-45f8-8d31-601d5e217bf3",
   "metadata": {},
   "outputs": [],
   "source": []
  },
  {
   "cell_type": "code",
   "execution_count": null,
   "id": "3e91f8af-6e77-47c7-9c61-b80df90ef29e",
   "metadata": {},
   "outputs": [],
   "source": []
  },
  {
   "cell_type": "markdown",
   "id": "00deff3c-6f6f-4584-8151-1f069b0ae957",
   "metadata": {},
   "source": [
    "# Notes"
   ]
  },
  {
   "cell_type": "code",
   "execution_count": null,
   "id": "da4dca35-5fa6-4146-a434-25ef59e6192e",
   "metadata": {},
   "outputs": [],
   "source": []
  },
  {
   "cell_type": "code",
   "execution_count": null,
   "id": "93164394",
   "metadata": {},
   "outputs": [],
   "source": []
  },
  {
   "cell_type": "code",
   "execution_count": null,
   "id": "f47abab5-a698-41ee-8d58-d13cd72fc59c",
   "metadata": {},
   "outputs": [],
   "source": []
  },
  {
   "cell_type": "markdown",
   "id": "a096c673-053a-4dfa-a7da-eb8c8896e2a4",
   "metadata": {},
   "source": [
    "# Imports"
   ]
  },
  {
   "cell_type": "code",
   "execution_count": 2,
   "id": "0ffc9353-7621-4809-8238-000f55235c2a",
   "metadata": {},
   "outputs": [
    {
     "name": "stdout",
     "output_type": "stream",
     "text": [
      "The autoreload extension is already loaded. To reload it, use:\n",
      "  %reload_ext autoreload\n"
     ]
    }
   ],
   "source": [
    "import numpy as np\n",
    "np.set_printoptions(suppress=True)\n",
    "import h5py\n",
    "import time\n",
    "import glob\n",
    "import pandas as pd\n",
    "import matplotlib.pyplot as plt\n",
    "import matplotlib.patches as mpatches\n",
    "from scipy.spatial import distance\n",
    "import seaborn as sns\n",
    "import os\n",
    "import sys\n",
    "%matplotlib widget\n",
    "%load_ext autoreload\n",
    "%autoreload 2\n",
    "\n",
    "# --- import functions for computing kinematic variables --- #\n",
    "sys.path.append('../tracking_code/lib/')\n",
    "sys.path.append('./lib/')\n",
    "\n",
    "from kinematics import compute_pec_pec_distance, compute_thetaW_and_thetaL\n",
    "from kinematics import compute_signed_pec_z_difference, compute_phi_dot_from_raw_trajectories, compute_coordinate_origin_z\n",
    "from post_processing import contiguous_regions\n",
    "from windowed_prob_utils import return_overlapping_windows_for_timeframes, compute_windowed_distribution_array_from_1D_tseries\n",
    "from windowed_prob_utils import get_fightbout_rectangle_info\n"
   ]
  },
  {
   "cell_type": "code",
   "execution_count": null,
   "id": "038d254d-0e40-468f-8d2f-20a16e5a2340",
   "metadata": {},
   "outputs": [],
   "source": []
  },
  {
   "cell_type": "code",
   "execution_count": null,
   "id": "f8c2c67d-d0a5-4306-a8de-123246dd396a",
   "metadata": {},
   "outputs": [],
   "source": []
  },
  {
   "cell_type": "markdown",
   "id": "352db5df-32d2-448c-951e-c182e697976b",
   "metadata": {},
   "source": [
    "# load the tracking data"
   ]
  },
  {
   "cell_type": "code",
   "execution_count": null,
   "id": "a801f802-708e-46ad-b624-f54528e9ba60",
   "metadata": {},
   "outputs": [],
   "source": []
  },
  {
   "cell_type": "code",
   "execution_count": 3,
   "id": "1a230372-ee0f-4866-8599-ae624503ce04",
   "metadata": {},
   "outputs": [],
   "source": [
    "main_load_folder = '/media/liam/hd1/fighting_data/tracking_results/'\n",
    "\n",
    "# ----------------------#\n",
    "\n",
    "interp_polyOrd=1  # the order of the polynomial used for interpolation\n",
    "interp_limit=5    # the maximum number of frames to interpolate over\n",
    "savgol_win=9      # the number of frames for the Savitzky-Golay filter\n",
    "savgol_ord=2      # the polynomial order for the Savitzky-Golay filter\n",
    "dt=0.01           # the frame rate of the recording\n",
    "\n",
    "\n",
    "# the filepaths for loading the infomap timeseries data we need\n",
    "infomap_data_loadpath = os.path.join( os.path.dirname(os.path.dirname(main_load_folder)) , \n",
    "                                      'infomap_data/transmat_and_infomap.h5')\n",
    "\n",
    "# the path for loading the fightbout info\n",
    "fightBouts_info_path = os.path.join(main_load_folder, 'fightBouts.h5')\n",
    "\n",
    "\n",
    "# -----------------------#\n",
    "\n",
    "loadpaths = glob.glob(os.path.join(main_load_folder, '*results.h5'))\n",
    "loadpaths.sort()\n",
    "\n",
    "# parse the exp names\n",
    "expNames = [path.split('/')[-1][:23] for path in loadpaths]\n",
    "\n",
    "\n",
    "raw_trajectories = []\n",
    "for path in loadpaths:\n",
    "    with h5py.File(path, 'r') as hf:\n",
    "        tracks_3D_raw = hf['tracks_3D_raw'][:]\n",
    "    raw_trajectories.append(tracks_3D_raw)\n",
    "\n",
    "smooth_trajectories = []\n",
    "for path in loadpaths:\n",
    "    with h5py.File(path, 'r') as hf:\n",
    "        tracks_3D_smooth = hf['tracks_3D_smooth'][:]\n",
    "    smooth_trajectories.append(tracks_3D_smooth)\n",
    "    \n",
    "    \n",
    "# create a list of the number of frames in each experiment\n",
    "expNumFrames = []\n",
    "for expIdx in range(len(expNames)):\n",
    "    nfs = smooth_trajectories[expIdx].shape[0]\n",
    "    expNumFrames.append(nfs)\n",
    "    \n",
    "# -----------------------------#\n",
    "# load other useful information\n",
    "    \n",
    "other_info_loadpath = os.path.join(main_load_folder, 'winners_losers_inconclusive.h5')\n",
    "with h5py.File(other_info_loadpath, 'r') as hf:\n",
    "    winner_idxs = hf['winner_idxs'][:]\n",
    "    loser_idxs = hf['loser_idxs'][:]\n",
    "    conclusive_winner_loser = hf['conclusive_winner_loser'][:]\n",
    "    already_established_dominance = hf['already_established_dominance'][:]\n",
    "\n",
    "\n",
    "with h5py.File(fightBouts_info_path, 'r') as hf:\n",
    "    fight_bout_info = hf['fight_bout_info'][:]\n",
    "    fight_bout_info_noDurThresh = hf['fight_bout_info_noDurThresh'][:]"
   ]
  },
  {
   "cell_type": "code",
   "execution_count": null,
   "id": "34f02a0b",
   "metadata": {},
   "outputs": [],
   "source": []
  },
  {
   "cell_type": "markdown",
   "id": "612aff74-4d9f-4b2d-ad32-4fcbfce1920d",
   "metadata": {},
   "source": [
    "# compute the $\\Delta P_{Z}$, $O_{Z}$ vars"
   ]
  },
  {
   "cell_type": "code",
   "execution_count": 38,
   "id": "909119b8-3e84-4ef6-aca7-8b717200e716",
   "metadata": {},
   "outputs": [
    {
     "name": "stdout",
     "output_type": "stream",
     "text": [
      "FishTank20200127_143538\n",
      "FishTank20200129_140656\n",
      "FishTank20200130_153857\n",
      "FishTank20200130_181614\n",
      "FishTank20200207_161445\n",
      "FishTank20200213_154940\n",
      "FishTank20200214_153519\n",
      "FishTank20200217_160052\n",
      "FishTank20200218_153008\n",
      "FishTank20200316_163320\n",
      "FishTank20200327_154737\n",
      "FishTank20200330_161100\n",
      "FishTank20200331_162136\n",
      "FishTank20200520_152810\n",
      "FishTank20200521_154541\n",
      "FishTank20200525_161602\n",
      "FishTank20200526_160100\n",
      "FishTank20200527_152401\n",
      "FishTank20200824_151740\n",
      "FishTank20200828_155504\n",
      "FishTank20200902_160124\n",
      "FishTank20200903_160946\n",
      "\n",
      "finished: 3.453233681153506 s\n"
     ]
    }
   ],
   "source": [
    "# ---- generate the state variables for all exps ---- #\n",
    "\n",
    "\n",
    "t0 = time.perf_counter()\n",
    "\n",
    "\n",
    "exp_Ozs = []\n",
    "exp_signed_deltaZs = []\n",
    "\n",
    "for ii, expName in enumerate(expNames):\n",
    "    print(expName)\n",
    "    \n",
    "    smooth_traj = smooth_trajectories[ii]\n",
    "    winIdx = winner_idxs[ii]\n",
    "    losIdx = loser_idxs[ii]\n",
    "    \n",
    "    Oz = compute_coordinate_origin_z(smooth_traj, winIdx, losIdx)\n",
    "    deltaZ = compute_signed_pec_z_difference(smooth_traj, winIdx, losIdx)\n",
    "    \n",
    "    exp_Ozs.append(Oz)\n",
    "    exp_signed_deltaZs.append(deltaZ)\n",
    "\n",
    "    \n",
    "tE = time.perf_counter()\n",
    "print()\n",
    "print('finished: {0} s'.format(tE-t0))"
   ]
  },
  {
   "cell_type": "code",
   "execution_count": null,
   "id": "bc45be10-177f-4cc6-982a-fab3c8af6739",
   "metadata": {},
   "outputs": [],
   "source": []
  },
  {
   "cell_type": "code",
   "execution_count": null,
   "id": "5e5ef389-6b71-4af3-b6ac-56b3e8ea494a",
   "metadata": {},
   "outputs": [],
   "source": []
  },
  {
   "cell_type": "markdown",
   "id": "3a5d84bb-dd6a-4c7f-9849-d2a3cf8c9182",
   "metadata": {},
   "source": [
    "# prepare the arrays for indexing within fights and outside fights"
   ]
  },
  {
   "cell_type": "markdown",
   "id": "97ceac5b-d883-410d-a2c4-b5425b6053b5",
   "metadata": {},
   "source": [
    "For this figure, we will use without the size threshold on bout duration"
   ]
  },
  {
   "cell_type": "code",
   "execution_count": 39,
   "id": "53432275-07ba-4681-a8ba-0d0d3cf69d9f",
   "metadata": {},
   "outputs": [
    {
     "data": {
      "text/plain": [
       "(33, 4)"
      ]
     },
     "execution_count": 39,
     "metadata": {},
     "output_type": "execute_result"
    }
   ],
   "source": [
    "figure_bout_info = np.copy(fight_bout_info_noDurThresh)\n",
    "\n",
    "# the set of expIdxs that have contributions to figure_bout_info\n",
    "chosen_expIdxs = np.unique(figure_bout_info[:,0])\n",
    "\n",
    "numBouts = figure_bout_info.shape[0]\n",
    "\n",
    "figure_bout_info.shape"
   ]
  },
  {
   "cell_type": "code",
   "execution_count": null,
   "id": "a642bf52-f5df-4174-99b9-d03152878ba6",
   "metadata": {},
   "outputs": [],
   "source": []
  },
  {
   "cell_type": "code",
   "execution_count": 40,
   "id": "396a6346-281c-4089-9940-e5381b1332ab",
   "metadata": {},
   "outputs": [],
   "source": [
    "# ---- prepare the nonfight regions ----#\n",
    "# based on 'figure_bout_info'\n",
    "\n",
    "chosen_expIdx_nonFight_regions = []\n",
    "\n",
    "for expIdx in chosen_expIdxs:\n",
    "    expName = expNames[expIdx]\n",
    "    \n",
    "    # find the bouts for this exp\n",
    "    fight_epoch_array_rows = np.where(figure_bout_info[:,0] == expIdx)[0]\n",
    "    \n",
    "    # turn into list format over bouts, data is (startFrame,stopFrame)\n",
    "    exp_fight_bout_lims_list = []\n",
    "    for rowIdx in fight_epoch_array_rows:\n",
    "        fight_bout_lims = figure_bout_info[rowIdx,1:3]\n",
    "        exp_fight_bout_lims_list.append(fight_bout_lims)\n",
    "        \n",
    "    # now, prepare a binary timeseries of fight/non-fight membership for all frames,\n",
    "    # recording all fights as truth\n",
    "    expnfs = expNumFrames[expIdx]\n",
    "    exp_fightFrame_bin_arr = np.zeros((expnfs,), dtype=bool)\n",
    "    for bIdx in range(len(exp_fight_bout_lims_list)):\n",
    "        exp_fightFrame_bin_arr[ exp_fight_bout_lims_list[bIdx][0]:exp_fight_bout_lims_list[bIdx][1]] = True\n",
    "        \n",
    "    # now find contiguous regions of the inverse of this array, \n",
    "    # giving us frame ranges where the fish are not fighting\n",
    "    exp_non_fight_regions = contiguous_regions(~exp_fightFrame_bin_arr)\n",
    "    \n",
    "    # record\n",
    "    chosen_expIdx_nonFight_regions.append([expIdx, exp_non_fight_regions])\n",
    "    \n",
    "    \n",
    "# make into array along fightbouts with expIdxs\n",
    "figure_nonBout_info = []\n",
    "for vals in chosen_expIdx_nonFight_regions:\n",
    "    expIdx = vals[0]\n",
    "    boutInfo = vals[1]\n",
    "    expIdx_with_boutInfo_arr = np.full((boutInfo.shape[0],3), fill_value=expIdx)\n",
    "    expIdx_with_boutInfo_arr[:,1:] = boutInfo\n",
    "    figure_nonBout_info.append(expIdx_with_boutInfo_arr)\n",
    "figure_nonBout_info = np.concatenate(figure_nonBout_info, axis=0)\n",
    "\n",
    "numNoNBouts = figure_nonBout_info.shape[0]"
   ]
  },
  {
   "cell_type": "code",
   "execution_count": null,
   "id": "fe8a4c80-8400-4f61-8a2d-7d123719433b",
   "metadata": {},
   "outputs": [],
   "source": []
  },
  {
   "cell_type": "code",
   "execution_count": 41,
   "id": "76b174c8-b263-4d89-888b-64a325c60296",
   "metadata": {},
   "outputs": [
    {
     "data": {
      "text/plain": [
       "array([[      0,       0,  385500],\n",
       "       [      0,  427400,  583500],\n",
       "       [      0,  610400,  643500],\n",
       "       [      0,  805400,  971756],\n",
       "       [      1,       0,  274500],\n",
       "       [      1,  301400,  385700],\n",
       "       [      1,  409400,  493700],\n",
       "       [      1,  655400,  700700],\n",
       "       [      1,  718600,  769848],\n",
       "       [      2,       0,   31500],\n",
       "       [      2,  175400,  301300],\n",
       "       [      2,  319600,  501943],\n",
       "       [      3,       0,  331300],\n",
       "       [      3,  436400,  517000],\n",
       "       [      5,       0,  448500],\n",
       "       [      5,  559400,  730119],\n",
       "       [      6,       0,  217700],\n",
       "       [      6,  250400,  495610],\n",
       "       [      7,       0,   91500],\n",
       "       [      7,  127400,  505500],\n",
       "       [      7,  553400,  601226],\n",
       "       [      8,       0,  181500],\n",
       "       [      8,  256200,  274700],\n",
       "       [      8,  334400,  352500],\n",
       "       [      8,  370400,  537880],\n",
       "       [     10,       0,   19700],\n",
       "       [     10,   79400,  561010],\n",
       "       [     11,       0,  214900],\n",
       "       [     11,  280400,  556428],\n",
       "       [     12,       0,  142500],\n",
       "       [     12,  226400,  262500],\n",
       "       [     12,  343400,  358500],\n",
       "       [     12,  385400,  746434],\n",
       "       [     13,       0,  694500],\n",
       "       [     13,  745600, 1248577],\n",
       "       [     14,       0,    7700],\n",
       "       [     14,   61800,  596607],\n",
       "       [     15,       0,   13500],\n",
       "       [     15,  184400,  490500],\n",
       "       [     15,  514600,  588962],\n",
       "       [     17,       0,   85500],\n",
       "       [     17,  124400,  421500],\n",
       "       [     17,  436600,  497635],\n",
       "       [     18,       0,  388700],\n",
       "       [     18,  556400,  898700],\n",
       "       [     18,  931400, 1695643],\n",
       "       [     19,       0,  526700],\n",
       "       [     19,  571200,  798382],\n",
       "       [     20,       0,   40900],\n",
       "       [     20,  169600,  559700],\n",
       "       [     20,  595400,  717814]])"
      ]
     },
     "execution_count": 41,
     "metadata": {},
     "output_type": "execute_result"
    }
   ],
   "source": [
    "figure_nonBout_info"
   ]
  },
  {
   "cell_type": "code",
   "execution_count": null,
   "id": "5d0204bc-49e9-4ac9-9eed-74f1e43603a1",
   "metadata": {},
   "outputs": [],
   "source": []
  },
  {
   "cell_type": "markdown",
   "id": "fa85ca3c-77aa-4453-8e65-c50885f6b14f",
   "metadata": {},
   "source": [
    "# gathering vars in fights and out"
   ]
  },
  {
   "cell_type": "code",
   "execution_count": null,
   "id": "2861b4f0-1d49-4d90-b01c-d1f153400eae",
   "metadata": {},
   "outputs": [],
   "source": []
  },
  {
   "cell_type": "code",
   "execution_count": null,
   "id": "a0be6b8d-72b5-4460-92c9-f663e71b8d42",
   "metadata": {},
   "outputs": [],
   "source": []
  },
  {
   "cell_type": "code",
   "execution_count": 42,
   "id": "8f446eaa-ccca-4d1f-a72f-2f1b648eb1ce",
   "metadata": {},
   "outputs": [],
   "source": [
    "# ----- fighting ---- #\n",
    "\n",
    "\n",
    "master_fight_Ozs = []\n",
    "master_fight_signed_deltaZs = []\n",
    "\n",
    "for boutIdx in range(numBouts):\n",
    "    \n",
    "    expIdx, f0, fE, bout_duration = figure_bout_info[boutIdx]\n",
    "    \n",
    "    bout_Oz = np.copy( exp_Ozs[expIdx][f0:fE] ) \n",
    "    bout_signed_deltaZ = np.copy( exp_signed_deltaZs[expIdx][f0:fE] )\n",
    "    \n",
    "    master_fight_Ozs.append(bout_Oz)\n",
    "    master_fight_signed_deltaZs.append(bout_signed_deltaZ)\n",
    "    \n",
    "# concatenate the results\n",
    "master_fight_Ozs = np.concatenate(master_fight_Ozs)\n",
    "master_fight_signed_deltaZs = np.concatenate(master_fight_signed_deltaZs)\n",
    "\n",
    "    \n"
   ]
  },
  {
   "cell_type": "code",
   "execution_count": 43,
   "id": "e3c9ed66-ba80-4149-bde4-3fa5a48dc071",
   "metadata": {},
   "outputs": [],
   "source": [
    "# ---- non-fighting ---- #\n",
    "\n",
    "\n",
    "master_nonfight_Ozs = []\n",
    "master_nonfight_signed_deltaZs = []\n",
    "\n",
    "for boutIdx in range(numNoNBouts):\n",
    "    \n",
    "    expIdx, f0, fE = figure_nonBout_info[boutIdx]\n",
    "    \n",
    "    bout_Oz = np.copy( exp_Ozs[expIdx][f0:fE] ) \n",
    "    bout_signed_deltaZ = np.copy( exp_signed_deltaZs[expIdx][f0:fE] )\n",
    "    \n",
    "    master_nonfight_Ozs.append(bout_Oz)\n",
    "    master_nonfight_signed_deltaZs.append(bout_signed_deltaZ)\n",
    "    \n",
    "\n",
    "# concatenate the results\n",
    "master_nonfight_Ozs = np.concatenate(master_nonfight_Ozs)\n",
    "master_nonfight_signed_deltaZs = np.concatenate(master_nonfight_signed_deltaZs)\n",
    "\n"
   ]
  },
  {
   "cell_type": "code",
   "execution_count": null,
   "id": "a3fe54bf-8585-4022-9abd-4a7476a4fa56",
   "metadata": {},
   "outputs": [],
   "source": []
  },
  {
   "cell_type": "code",
   "execution_count": 27,
   "id": "a47f6b12-8b5f-4a6d-a90a-3dd7b4197b01",
   "metadata": {},
   "outputs": [],
   "source": [
    "\n",
    "# master_fight_Ozs \n",
    "# master_fight_signed_deltaZs \n",
    "\n",
    "# master_nonfight_Ozs \n",
    "# master_nonfight_signed_deltaZs\n"
   ]
  },
  {
   "cell_type": "code",
   "execution_count": null,
   "id": "41f83b9f-bff7-4116-9b44-c9eea5b0bde1",
   "metadata": {},
   "outputs": [],
   "source": []
  },
  {
   "cell_type": "markdown",
   "id": "00fd702d-bb9b-4102-827e-86e354dac475",
   "metadata": {},
   "source": [
    "# Panel A"
   ]
  },
  {
   "cell_type": "code",
   "execution_count": null,
   "id": "b7784f71-1ecc-47af-bbd0-4cf4c3891df0",
   "metadata": {},
   "outputs": [],
   "source": []
  },
  {
   "cell_type": "code",
   "execution_count": null,
   "id": "c093bfdf-bd13-4d50-bf70-dea4a9ee1f6f",
   "metadata": {},
   "outputs": [],
   "source": []
  },
  {
   "cell_type": "markdown",
   "id": "7ec7417e-66a3-4c96-a6f9-02f961d88494",
   "metadata": {},
   "source": [
    "## rough version"
   ]
  },
  {
   "cell_type": "code",
   "execution_count": 49,
   "id": "ebf9922f-4d35-4b6a-9b2c-156970e4a4f8",
   "metadata": {},
   "outputs": [
    {
     "data": {
      "text/plain": [
       "Text(0.5, 0, 'delta Z')"
      ]
     },
     "execution_count": 49,
     "metadata": {},
     "output_type": "execute_result"
    },
    {
     "data": {
      "application/vnd.jupyter.widget-view+json": {
       "model_id": "9701b95d233d4c3798a9624b90d5d29c",
       "version_major": 2,
       "version_minor": 0
      },
      "text/html": [
       "\n",
       "            <div style=\"display: inline-block;\">\n",
       "                <div class=\"jupyter-widgets widget-label\" style=\"text-align: center;\">\n",
       "                    Figure\n",
       "                </div>\n",
       "                <img src='data:image/png;base64,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' width=640.0/>\n",
       "            </div>\n",
       "        "
      ],
      "text/plain": [
       "Canvas(toolbar=Toolbar(toolitems=[('Home', 'Reset original view', 'home', 'home'), ('Back', 'Back to previous …"
      ]
     },
     "metadata": {},
     "output_type": "display_data"
    }
   ],
   "source": [
    "fig, axs = plt.subplots()\n",
    "ax = axs\n",
    "\n",
    "\n",
    "delta_z_bins = np.linspace(0, 10,200)\n",
    "\n",
    "bout_out = ax.hist(np.abs(master_fight_signed_deltaZs), bins=delta_z_bins, label='fight bouts', alpha=0.5, density=True);\n",
    "nonbout_out =ax.hist(np.abs(master_nonfight_signed_deltaZs), bins=delta_z_bins, label='non fights', alpha=0.5, density=True);\n",
    "\n",
    "ax.set_xlim(0,10)\n",
    "ax.set_ylim(0,1)\n",
    "\n",
    "ax.set_xticks([0, 2, 4, 6, 8, 10])\n",
    "ax.set_yticks([0, 1])\n",
    "\n",
    "ax.set_ylabel('Probability')\n",
    "ax.set_xlabel('delta Z')\n",
    "\n",
    "# ---------- #\n"
   ]
  },
  {
   "cell_type": "code",
   "execution_count": 46,
   "id": "39adfd5e-cea2-4219-93d6-30bdc7527b07",
   "metadata": {},
   "outputs": [
    {
     "data": {
      "text/plain": [
       "0.9621015543525373"
      ]
     },
     "execution_count": 46,
     "metadata": {},
     "output_type": "execute_result"
    }
   ],
   "source": [
    "np.nanmean(np.abs(master_fight_signed_deltaZs))"
   ]
  },
  {
   "cell_type": "code",
   "execution_count": 47,
   "id": "fcbe8b60-53c5-4a1d-a84f-8d48db37af51",
   "metadata": {},
   "outputs": [
    {
     "data": {
      "text/plain": [
       "3.0991164806156988"
      ]
     },
     "execution_count": 47,
     "metadata": {},
     "output_type": "execute_result"
    }
   ],
   "source": [
    "np.nanmean(np.abs(master_nonfight_signed_deltaZs))"
   ]
  },
  {
   "cell_type": "code",
   "execution_count": null,
   "id": "9dcbe272-f55c-4535-9da8-636e5422fa57",
   "metadata": {},
   "outputs": [],
   "source": []
  },
  {
   "cell_type": "code",
   "execution_count": 69,
   "id": "106becc0-e7c6-4d75-8291-ca316555be54",
   "metadata": {},
   "outputs": [],
   "source": [
    "# find the max vals"
   ]
  },
  {
   "cell_type": "code",
   "execution_count": 48,
   "id": "cc961f85-d81a-4db7-8f2c-067f5c8702d9",
   "metadata": {},
   "outputs": [
    {
     "data": {
      "text/plain": [
       "1.0"
      ]
     },
     "execution_count": 48,
     "metadata": {},
     "output_type": "execute_result"
    }
   ],
   "source": [
    "np.sum(bout_out[0])*(delta_z_bins[1]-delta_z_bins[0])"
   ]
  },
  {
   "cell_type": "code",
   "execution_count": null,
   "id": "944ef96b-1be2-413b-97fa-9363be1dda0b",
   "metadata": {},
   "outputs": [],
   "source": []
  },
  {
   "cell_type": "code",
   "execution_count": null,
   "id": "6a396767-6f84-4781-82ca-5fb50b4d0574",
   "metadata": {},
   "outputs": [],
   "source": []
  },
  {
   "cell_type": "code",
   "execution_count": 30,
   "id": "6a52e6a6-2f4f-4c14-b5eb-3a1da2f9fa47",
   "metadata": {},
   "outputs": [],
   "source": [
    "# -------------------------------------$"
   ]
  },
  {
   "cell_type": "code",
   "execution_count": null,
   "id": "6889c7ba-a8f2-4bf9-9cc0-82bae06f7bc8",
   "metadata": {},
   "outputs": [],
   "source": []
  },
  {
   "cell_type": "markdown",
   "id": "9a553219-fce3-45ef-836f-c0d5b87f0e8b",
   "metadata": {},
   "source": [
    "## paper version"
   ]
  },
  {
   "cell_type": "code",
   "execution_count": null,
   "id": "72f3d6ec-5745-4323-95b8-af7151046db3",
   "metadata": {},
   "outputs": [],
   "source": []
  },
  {
   "cell_type": "code",
   "execution_count": 52,
   "id": "ade9859b-1784-4624-adf7-9caca934b9ad",
   "metadata": {},
   "outputs": [
    {
     "data": {
      "application/vnd.jupyter.widget-view+json": {
       "model_id": "06d7d56425bb4ce48fe882678ed2847f",
       "version_major": 2,
       "version_minor": 0
      },
      "text/html": [
       "\n",
       "            <div style=\"display: inline-block;\">\n",
       "                <div class=\"jupyter-widgets widget-label\" style=\"text-align: center;\">\n",
       "                    Figure\n",
       "                </div>\n",
       "                <img src='data:image/png;base64,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' width=229.99999999999997/>\n",
       "            </div>\n",
       "        "
      ],
      "text/plain": [
       "Canvas(toolbar=Toolbar(toolitems=[('Home', 'Reset original view', 'home', 'home'), ('Back', 'Back to previous …"
      ]
     },
     "metadata": {},
     "output_type": "display_data"
    }
   ],
   "source": [
    "fig, axs = plt.subplots(figsize=(2.3,2))\n",
    "ax = axs\n",
    "\n",
    "\n",
    "delta_z_bins = np.linspace(0, 10,200)\n",
    "\n",
    "bout_out = ax.hist(np.abs(master_fight_signed_deltaZs), bins=delta_z_bins, label='fight bouts', alpha=0.5, density=True, color='purple');\n",
    "nonbout_out =ax.hist(np.abs(master_nonfight_signed_deltaZs), bins=delta_z_bins, label='non fights', alpha=0.5, density=True, color='green');\n",
    "\n",
    "ax.set_xlim(0,10)\n",
    "ax.set_ylim(0,1)\n",
    "\n",
    "ax.set_xticks([0, 2, 4, 6, 8, 10])\n",
    "ax.set_yticks([0, 1])\n",
    "\n",
    "ax.set_ylabel('Probability')\n",
    "ax.set_xlabel('delta Z')\n",
    "\n",
    "# ---------- #\n",
    "\n",
    "ax.set_xticklabels([])\n",
    "ax.set_yticklabels([])\n",
    "ax.set_ylabel('')\n",
    "ax.set_xlabel('')\n",
    "\n",
    "for axis in ['top','bottom','left','right']:\n",
    "    ax.spines[axis].set_linewidth(1.5)\n",
    "ax.xaxis.set_tick_params(width=1.5, length=4)\n",
    "ax.yaxis.set_tick_params(width=1.5, length=4)\n",
    "\n",
    "fig.tight_layout()\n",
    "fig.savefig('/home/liam/temp/image_transfer/SI_fig_deltaZ_A.png', dpi=300, transparent=True)"
   ]
  },
  {
   "cell_type": "code",
   "execution_count": 51,
   "id": "a2157ef9-cf80-4f13-995c-87dd67ad6a9c",
   "metadata": {},
   "outputs": [
    {
     "data": {
      "text/plain": [
       "0.05025125628140704"
      ]
     },
     "execution_count": 51,
     "metadata": {},
     "output_type": "execute_result"
    }
   ],
   "source": [
    "# find the max value for y axis\n",
    "yupperlim = 1\n",
    "yupperprob = yupperlim*(delta_z_bins[1]-delta_z_bins[0])\n",
    "yupperprob "
   ]
  },
  {
   "cell_type": "code",
   "execution_count": null,
   "id": "dc66724a-0a18-48da-9813-ab21b2d8243e",
   "metadata": {},
   "outputs": [],
   "source": []
  },
  {
   "cell_type": "code",
   "execution_count": null,
   "id": "8425ee4d-2823-457a-b7bd-97622be3c1ad",
   "metadata": {},
   "outputs": [],
   "source": []
  },
  {
   "cell_type": "code",
   "execution_count": null,
   "id": "c2d9b77c-6489-493f-b369-9f5a14e4ac98",
   "metadata": {},
   "outputs": [],
   "source": []
  },
  {
   "cell_type": "markdown",
   "id": "dbddd8be-8cc7-4bdb-972a-6400cb200adc",
   "metadata": {},
   "source": [
    "# Panel B"
   ]
  },
  {
   "cell_type": "code",
   "execution_count": null,
   "id": "fad257c1-95bb-4a23-b5e2-7922bde3b9b4",
   "metadata": {},
   "outputs": [],
   "source": []
  },
  {
   "cell_type": "code",
   "execution_count": null,
   "id": "16edac0a-ac62-47ae-8ddc-c9278e1d4e53",
   "metadata": {},
   "outputs": [],
   "source": []
  },
  {
   "cell_type": "markdown",
   "id": "05b0c060-9048-455a-91b4-018be1d0b2aa",
   "metadata": {},
   "source": [
    "## calculation"
   ]
  },
  {
   "cell_type": "code",
   "execution_count": null,
   "id": "8733157b-0550-4729-aa7f-49ac4039e37b",
   "metadata": {},
   "outputs": [],
   "source": []
  },
  {
   "cell_type": "markdown",
   "id": "d7993992-1b9d-41e0-a992-94c21ed34c8b",
   "metadata": {},
   "source": [
    "In this figure, we want to only use fights longer than 7 mins (like figure7), <br>\n",
    "so we use the appropriate fight boundaries"
   ]
  },
  {
   "cell_type": "code",
   "execution_count": 53,
   "id": "de220f13-0223-4ca9-8326-a0a1b4ce2285",
   "metadata": {},
   "outputs": [
    {
     "data": {
      "text/plain": [
       "18"
      ]
     },
     "execution_count": 53,
     "metadata": {},
     "output_type": "execute_result"
    }
   ],
   "source": [
    "figure_bout_info = np.copy(fight_bout_info)\n",
    "\n",
    "numBouts = figure_bout_info.shape[0]\n",
    "numBouts"
   ]
  },
  {
   "cell_type": "code",
   "execution_count": 54,
   "id": "1bcb7266-306b-4d85-bbf2-2d42485b6a9d",
   "metadata": {},
   "outputs": [
    {
     "data": {
      "text/plain": [
       "array([[     0, 643500, 805400, 161900],\n",
       "       [     1, 493700, 655400, 161700],\n",
       "       [     2,  31500, 175400, 143900],\n",
       "       [     3, 331300, 436400, 105100],\n",
       "       [     5, 448500, 559400, 110900],\n",
       "       [     7, 505500, 553400,  47900],\n",
       "       [     8, 181500, 256200,  74700],\n",
       "       [     8, 274700, 334400,  59700],\n",
       "       [    10,  19700,  79400,  59700],\n",
       "       [    11, 214900, 280400,  65500],\n",
       "       [    12, 142500, 226400,  83900],\n",
       "       [    12, 262500, 343400,  80900],\n",
       "       [    13, 694500, 745600,  51100],\n",
       "       [    14,   7700,  61800,  54100],\n",
       "       [    15,  13500, 184400, 170900],\n",
       "       [    18, 388700, 556400, 167700],\n",
       "       [    19, 526700, 571200,  44500],\n",
       "       [    20,  40900, 169600, 128700]])"
      ]
     },
     "execution_count": 54,
     "metadata": {},
     "output_type": "execute_result"
    }
   ],
   "source": [
    "figure_bout_info"
   ]
  },
  {
   "cell_type": "code",
   "execution_count": null,
   "id": "6be87f1a-13da-4aab-88f1-32939224aec9",
   "metadata": {},
   "outputs": [],
   "source": []
  },
  {
   "cell_type": "code",
   "execution_count": 55,
   "id": "21f9bb65-ca1e-4bdb-a984-8b6bee3b29a9",
   "metadata": {},
   "outputs": [],
   "source": [
    "frameGap = 30000 # the number of frames either side of the start and stops"
   ]
  },
  {
   "cell_type": "code",
   "execution_count": null,
   "id": "8b2e09f8-72d2-4e2c-a6a3-12f6f8f5c65d",
   "metadata": {},
   "outputs": [],
   "source": []
  },
  {
   "cell_type": "code",
   "execution_count": null,
   "id": "d11b0933-1c09-4bae-b165-39c72dbf9cfe",
   "metadata": {},
   "outputs": [],
   "source": []
  },
  {
   "cell_type": "code",
   "execution_count": 56,
   "id": "37420b5d-12e1-4544-837c-79b1b09e3485",
   "metadata": {},
   "outputs": [],
   "source": [
    "# ----------------- Get the 4 frame ranges for each bout ------------------------#\n",
    "#\n",
    "# We will get the start&stop frame for each bout for each of these 4 regions\n",
    "#\n",
    "#\n",
    "#       <---- nofight---><----fight----><------nofight---->\n",
    "#      ------------|---()---|------|---()---|----------------\n",
    "#                  <1>   <2>       <3>   <4>\n",
    "#\n",
    "# <1> = pre fight start\n",
    "# <2> = post fight start\n",
    "# <3> = pre fight end\n",
    "# <4> = post fight end\n",
    "\n",
    "\n",
    "pre_fight_begins_start_stops = np.zeros((numBouts, 2), dtype=int)\n",
    "post_fight_begins_start_stops = np.zeros((numBouts, 2), dtype=int)\n",
    "\n",
    "pre_fight_ends_start_stops = np.zeros((numBouts, 2), dtype=int)\n",
    "post_fight_ends_start_stops = np.zeros((numBouts, 2), dtype=int)\n",
    "\n",
    "\n",
    "for boutIdx in range(numBouts):\n",
    "    \n",
    "    # parse the info for this bout\n",
    "    expIdx, fight_begin, fight_end, _ = figure_bout_info[boutIdx]\n",
    "    #print(expIdx, fight_start, fight_stop)\n",
    "    \n",
    "    # record the 4 time-windows required from this bout\n",
    "    \n",
    "    pre_fight_begins_start_stops[boutIdx,0] = fight_begin - frameGap\n",
    "    pre_fight_begins_start_stops[boutIdx,1] = fight_begin\n",
    "    \n",
    "    post_fight_begins_start_stops[boutIdx,0] = fight_begin\n",
    "    post_fight_begins_start_stops[boutIdx,1] = fight_begin + frameGap\n",
    "    \n",
    "    pre_fight_ends_start_stops[boutIdx,0] = fight_end - frameGap\n",
    "    pre_fight_ends_start_stops[boutIdx,1] = fight_end\n",
    "    \n",
    "    post_fight_ends_start_stops[boutIdx,0] = fight_end\n",
    "    post_fight_ends_start_stops[boutIdx,1] = fight_end + frameGap\n",
    "    "
   ]
  },
  {
   "cell_type": "code",
   "execution_count": null,
   "id": "0a39e0d5-9151-4e69-90b7-c421414a3524",
   "metadata": {},
   "outputs": [],
   "source": []
  },
  {
   "cell_type": "code",
   "execution_count": null,
   "id": "722de368-1373-49fd-8044-c9b2b9328c37",
   "metadata": {},
   "outputs": [],
   "source": []
  },
  {
   "cell_type": "code",
   "execution_count": 60,
   "id": "f5d71973-1b67-4b42-ba10-3881c38a4d01",
   "metadata": {},
   "outputs": [
    {
     "name": "stdout",
     "output_type": "stream",
     "text": [
      "(15, 30000)\n",
      "(18, 30000)\n",
      "(18, 30000)\n",
      "(18, 30000)\n"
     ]
    }
   ],
   "source": [
    "# ----------------- Use these 4 frame ranges to grab the data  ------------------------#\n",
    "\n",
    "#1\n",
    "pre_fight_begins_Oz_list = []\n",
    "\n",
    "#2\n",
    "post_fight_begins_Oz_list = []\n",
    "\n",
    "#3\n",
    "pre_fight_ends_Oz_list = []\n",
    "\n",
    "#4\n",
    "post_fight_ends_Oz_list = []\n",
    "\n",
    "\n",
    "excluded_pre_begin_boutIdxs = []\n",
    "\n",
    "for boutIdx in range(numBouts):\n",
    "    \n",
    "    # get the state vars for the experiment this bout comes from\n",
    "    expIdx, fight_begin, fight_end, _ = figure_bout_info[boutIdx]\n",
    "    exp_Oz = exp_Ozs[expIdx]\n",
    "\n",
    "    # get the 4 frame ranges for this bout\n",
    "    pre_begin_f0, pre_begin_fE = pre_fight_begins_start_stops[boutIdx]\n",
    "    post_begin_f0, post_begin_fE = post_fight_begins_start_stops[boutIdx]\n",
    "    pre_end_f0, pre_end_fE = pre_fight_ends_start_stops[boutIdx]\n",
    "    post_end_f0, post_end_fE = post_fight_ends_start_stops[boutIdx]\n",
    "    \n",
    "    # deal with the starts first, where we might hit against the start of the experiment.\n",
    "    # In this case we cant get enough frames, so we will exclude these experiments\n",
    "    if pre_begin_f0 <= 0:\n",
    "        excluded_pre_begin_boutIdxs.append(boutIdx)\n",
    "        \n",
    "        # 1 edge case to skip\n",
    "        #pre_fight_begins_Oz_list\n",
    "\n",
    "        # 3 regular cases\n",
    "        post_fight_begins_Oz_list.append( np.copy(exp_Oz[post_begin_f0:post_begin_fE]) )\n",
    "        pre_fight_ends_Oz_list.append( np.copy(exp_Oz[pre_end_f0:pre_end_fE]) )\n",
    "        post_fight_ends_Oz_list.append( np.copy(exp_Oz[post_end_f0:post_end_fE]) )\n",
    "\n",
    "    else:\n",
    "        # 4 regular cases\n",
    "        pre_fight_begins_Oz_list.append( np.copy(exp_Oz[pre_begin_f0:pre_begin_fE]) )\n",
    "        post_fight_begins_Oz_list.append( np.copy(exp_Oz[post_begin_f0:post_begin_fE]) )\n",
    "        pre_fight_ends_Oz_list.append( np.copy(exp_Oz[pre_end_f0:pre_end_fE]) )\n",
    "        post_fight_ends_Oz_list.append( np.copy(exp_Oz[post_end_f0:post_end_fE]) )\n",
    "\n",
    "\n",
    "        \n",
    "# convert to arrays\n",
    "\n",
    "#1\n",
    "pre_fight_begins_Oz_arr = np.stack(pre_fight_begins_Oz_list, axis=0)\n",
    "\n",
    "#2\n",
    "post_fight_begins_Oz_arr = np.stack(post_fight_begins_Oz_list, axis=0)\n",
    "\n",
    "#3\n",
    "pre_fight_ends_Oz_arr = np.stack(pre_fight_ends_Oz_list, axis=0)\n",
    "\n",
    "#4\n",
    "post_fight_ends_Oz_arr= np.stack(post_fight_ends_Oz_list, axis=0)\n",
    "\n",
    "epoch_Oz_arrs = [pre_fight_begins_Oz_arr, post_fight_begins_Oz_arr,\n",
    "                 pre_fight_ends_Oz_arr, post_fight_ends_Oz_arr]\n",
    "\n",
    "\n",
    "print(pre_fight_begins_Oz_arr.shape)\n",
    "print(post_fight_begins_Oz_arr.shape)\n",
    "print(pre_fight_ends_Oz_arr.shape)\n",
    "print(post_fight_ends_Oz_arr.shape)\n"
   ]
  },
  {
   "cell_type": "code",
   "execution_count": null,
   "id": "af4fce20-68ab-40a2-a4ad-50cf0bb2f58e",
   "metadata": {},
   "outputs": [],
   "source": []
  },
  {
   "cell_type": "code",
   "execution_count": null,
   "id": "1d6855f3-154f-4924-bdc9-af09b9c16683",
   "metadata": {},
   "outputs": [],
   "source": []
  },
  {
   "cell_type": "code",
   "execution_count": 58,
   "id": "fd78a2b7-b652-4da7-bdc5-b3931a102c2e",
   "metadata": {},
   "outputs": [],
   "source": [
    "# ---- Getting windowed probabilities distributions ---- #\n",
    "\n",
    "# I want to compute the mean value of Oz in windows. \n",
    "\n",
    "\n",
    "\n",
    "period_numFrames = frameGap\n",
    "window_size=6000\n",
    "window_step=100\n",
    "fight_avg_time_windows = return_overlapping_windows_for_timeframes(period_numFrames,\n",
    "                                                                   window_size=window_size,\n",
    "                                                                   window_step=window_step)\n",
    "\n",
    "numWins = fight_avg_time_windows.shape[0]\n",
    "\n",
    "\n",
    "\n",
    "epoch_Oz_means = []\n",
    "\n",
    "for epochIdx in range(4):\n",
    "    Oz_arr = epoch_Oz_arrs[epochIdx]\n",
    "    numBoutsAvailable = Oz_arr.shape[0]\n",
    "\n",
    "    bouts_Oz_window_means = np.zeros((numBoutsAvailable, numWins))*np.NaN\n",
    "    for boutIdx in range(numBoutsAvailable):\n",
    "        Oz_bout_arr = Oz_arr[boutIdx]\n",
    "        for winIdx in range(numWins):\n",
    "            win0, winE = fight_avg_time_windows[winIdx]\n",
    "            bout_Oz_window_mean = np.nanmean(Oz_bout_arr[win0:winE])\n",
    "            bouts_Oz_window_means[boutIdx, winIdx] = bout_Oz_window_mean\n",
    "            \n",
    "    epoch_Oz_means.append(np.array(bouts_Oz_window_means))"
   ]
  },
  {
   "cell_type": "code",
   "execution_count": null,
   "id": "38bae721-9c5c-4300-ad38-4727190a3695",
   "metadata": {},
   "outputs": [],
   "source": []
  },
  {
   "cell_type": "code",
   "execution_count": 77,
   "id": "415d6448-a4dd-47b5-89f5-628faf7a99c8",
   "metadata": {},
   "outputs": [
    {
     "name": "stdout",
     "output_type": "stream",
     "text": [
      "(15, 240)\n",
      "(18, 240)\n",
      "(18, 240)\n",
      "(18, 240)\n"
     ]
    }
   ],
   "source": [
    "for val in epoch_Oz_means:\n",
    "    print(val.shape)"
   ]
  },
  {
   "cell_type": "code",
   "execution_count": null,
   "id": "384e6e54-36fd-47b5-bec7-098a41a40991",
   "metadata": {},
   "outputs": [],
   "source": []
  },
  {
   "cell_type": "code",
   "execution_count": 78,
   "id": "10eea3ab-35fa-479e-beb3-cc8a1a48200a",
   "metadata": {},
   "outputs": [],
   "source": [
    "# ------------------ compute the mean across bouts ----------------------- #\n",
    "\n",
    "pre_begin_Ozs_expMean = np.mean(epoch_Oz_means[0], axis=0)\n",
    "post_begin_Ozs_expMean = np.mean(epoch_Oz_means[1], axis=0)\n",
    "pre_end_Ozs_expMean = np.mean(epoch_Oz_means[2], axis=0)\n",
    "post_end_Ozs_expMean = np.mean(epoch_Oz_means[3], axis=0)\n",
    "\n",
    "\n"
   ]
  },
  {
   "cell_type": "code",
   "execution_count": 79,
   "id": "ff16c355-49ab-442f-9a37-0b1b093179b6",
   "metadata": {},
   "outputs": [
    {
     "data": {
      "text/plain": [
       "(240,)"
      ]
     },
     "execution_count": 79,
     "metadata": {},
     "output_type": "execute_result"
    }
   ],
   "source": [
    "pre_begin_Ozs_expMean.shape"
   ]
  },
  {
   "cell_type": "code",
   "execution_count": null,
   "id": "bbf56f17-a1a6-40be-b256-34e4a324fb24",
   "metadata": {},
   "outputs": [],
   "source": []
  },
  {
   "cell_type": "code",
   "execution_count": 94,
   "id": "be1a13b0-faf3-49ba-a896-7693b024c7f9",
   "metadata": {},
   "outputs": [],
   "source": [
    "# ----------------------- bootstrap ------------------------------#\n",
    "t0 = time.perf_counter()\n",
    "\n",
    "\n",
    "# args\n",
    "confidence_interval=95\n",
    "n_resamples=1000\n",
    "per=(100-confidence_interval)/2\n",
    "\n",
    "# the number of fight we bootstrap over\n",
    "numSamples_list =[val.shape[0] for val in epoch_Oz_means]\n",
    "\n",
    "\n",
    "epochs_bootstrap_stds = []\n",
    "\n",
    "for epochIdx in range(4):\n",
    "    \n",
    "    epoch_resample_means = []\n",
    "    for i in range(n_resamples):\n",
    "        # the number of bouts we have access to\n",
    "        numSamples = numSamples_list[epochIdx]\n",
    "        #  get the bout indices for this resample \n",
    "        indices=np.random.choice(range(0,numSamples), numSamples)\n",
    "        # gather the data for these resampling\n",
    "        sample_epoch_Ozs = np.zeros_like(epoch_Oz_means[epochIdx])*np.NaN\n",
    "        for idx,boutIdx in enumerate(indices):\n",
    "            sample_epoch_Ozs[idx] = epoch_Oz_means[epochIdx][boutIdx]\n",
    "        # compute the sample-wise mean\n",
    "        sample_epoch_Ozs_mean = np.mean(sample_epoch_Ozs, axis=0)\n",
    "        # add this resample mean to the distribution of means we are building\n",
    "        epoch_resample_means.append(sample_epoch_Ozs_mean)\n",
    "    # combine to array shape (n_resamples, numWins)\n",
    "    epoch_resample_means = np.stack(epoch_resample_means, axis=0)\n",
    "\n",
    "    # get the standard deviation of distribution of means\n",
    "    bootstrap_std_for_epoch = np.std(epoch_resample_means, axis=0)\n",
    "    \n",
    "    # record\n",
    "    epochs_bootstrap_stds.append(bootstrap_std_for_epoch)"
   ]
  },
  {
   "cell_type": "code",
   "execution_count": null,
   "id": "a6071126-5a88-43ee-9844-5dea029e6f86",
   "metadata": {},
   "outputs": [],
   "source": []
  },
  {
   "cell_type": "code",
   "execution_count": 95,
   "id": "0830780f-3aa8-4773-8e98-004624460f7e",
   "metadata": {},
   "outputs": [
    {
     "name": "stdout",
     "output_type": "stream",
     "text": [
      "(240,)\n",
      "(240,)\n",
      "(240,)\n",
      "(240,)\n"
     ]
    }
   ],
   "source": [
    "for val in epochs_bootstrap_stds:\n",
    "    print(val.shape)"
   ]
  },
  {
   "cell_type": "code",
   "execution_count": null,
   "id": "5d4aa9a2-85cf-4a23-b853-a8f31b0bfe06",
   "metadata": {},
   "outputs": [],
   "source": []
  },
  {
   "cell_type": "code",
   "execution_count": 96,
   "id": "8e1aa653-af80-4ca7-b94b-1d01763af2c9",
   "metadata": {},
   "outputs": [],
   "source": [
    "pre_begin_Ozs_expMean = np.mean(epoch_Oz_means[0], axis=0)\n",
    "post_begin_Ozs_expMean = np.mean(epoch_Oz_means[1], axis=0)\n",
    "pre_end_Ozs_expMean = np.mean(epoch_Oz_means[2], axis=0)\n",
    "post_end_Ozs_expMean = np.mean(epoch_Oz_means[3], axis=0)"
   ]
  },
  {
   "cell_type": "code",
   "execution_count": null,
   "id": "e74ac0d4-0e79-4e70-9e77-c4e00a5b3fc7",
   "metadata": {},
   "outputs": [],
   "source": []
  },
  {
   "cell_type": "code",
   "execution_count": 97,
   "id": "e5ccd067-9254-405a-887b-bf0f35f165dc",
   "metadata": {},
   "outputs": [],
   "source": [
    "# concatenate into begins and ends\n",
    "\n",
    "begin_Oz_means = np.concatenate([pre_begin_Ozs_expMean, post_begin_Ozs_expMean])\n",
    "end_Oz_means= np.concatenate([pre_end_Ozs_expMean, post_end_Ozs_expMean])\n",
    "\n",
    "begin_Oz_bootstrap_std = np.concatenate([epochs_bootstrap_stds[0], epochs_bootstrap_stds[1]])\n",
    "end_Oz_bootstrap_std = np.concatenate([epochs_bootstrap_stds[2], epochs_bootstrap_stds[3]])"
   ]
  },
  {
   "cell_type": "code",
   "execution_count": null,
   "id": "164fffb1-e012-48f6-8b6c-1f7ab7a32a1c",
   "metadata": {},
   "outputs": [],
   "source": []
  },
  {
   "cell_type": "code",
   "execution_count": 98,
   "id": "705dd355-4f76-410e-a822-233dc7d3970f",
   "metadata": {},
   "outputs": [
    {
     "name": "stdout",
     "output_type": "stream",
     "text": [
      "(480,)\n",
      "(480,)\n"
     ]
    }
   ],
   "source": [
    "print(begin_Oz_means.shape)\n",
    "print(begin_Oz_bootstrap_std.shape)"
   ]
  },
  {
   "cell_type": "code",
   "execution_count": 99,
   "id": "221521ad-ad59-4cce-9a13-23643e94f689",
   "metadata": {},
   "outputs": [
    {
     "name": "stdout",
     "output_type": "stream",
     "text": [
      "(480,)\n",
      "(480,)\n"
     ]
    }
   ],
   "source": [
    "print(end_Oz_means.shape)\n",
    "print(end_Oz_bootstrap_std.shape)"
   ]
  },
  {
   "cell_type": "code",
   "execution_count": null,
   "id": "cb0a995d-cc43-4c0d-b835-af443a271c53",
   "metadata": {},
   "outputs": [],
   "source": []
  },
  {
   "cell_type": "code",
   "execution_count": null,
   "id": "d3473474-f8d9-45df-aef6-b0aa9dde84fb",
   "metadata": {},
   "outputs": [],
   "source": []
  },
  {
   "cell_type": "markdown",
   "id": "91fb14e2-e620-4263-b26a-8dbcd8a7d73d",
   "metadata": {},
   "source": [
    "## plot rough"
   ]
  },
  {
   "cell_type": "code",
   "execution_count": null,
   "id": "dc3f0f08-823d-45ef-a87a-67aa4da78070",
   "metadata": {},
   "outputs": [],
   "source": []
  },
  {
   "cell_type": "code",
   "execution_count": 100,
   "id": "40bd4d5e-224f-494d-9217-b1a8581d8401",
   "metadata": {},
   "outputs": [
    {
     "data": {
      "application/vnd.jupyter.widget-view+json": {
       "model_id": "6f65021274734a74900151cffcf0a711",
       "version_major": 2,
       "version_minor": 0
      },
      "text/html": [
       "\n",
       "            <div style=\"display: inline-block;\">\n",
       "                <div class=\"jupyter-widgets widget-label\" style=\"text-align: center;\">\n",
       "                    Figure\n",
       "                </div>\n",
       "                <img src='data:image/png;base64,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' width=800.0/>\n",
       "            </div>\n",
       "        "
      ],
      "text/plain": [
       "Canvas(toolbar=Toolbar(toolitems=[('Home', 'Reset original view', 'home', 'home'), ('Back', 'Back to previous …"
      ]
     },
     "metadata": {},
     "output_type": "display_data"
    }
   ],
   "source": [
    "# ---- plot with labels ----- #\n",
    "\n",
    "fig, axs = plt.subplots(ncols=2, figsize=(8,4), sharey=True)\n",
    "\n",
    "\n",
    "\n",
    "## --- starts --- #\n",
    "\n",
    "ax = axs[0]\n",
    "ax.set_title('Fight starts')\n",
    "\n",
    "# get where to draw the fight end line\n",
    "total_num_wins = begin_Oz_means.shape[0]\n",
    "fight_start_win_idx = int(total_num_wins/2)\n",
    "\n",
    "\n",
    "xvals = np.arange(0, total_num_wins)\n",
    "\n",
    "# plot the true mean curve\n",
    "ax.plot(xvals, begin_Oz_means, color='C0', alpha=0.9)\n",
    "\n",
    "# fill between the stdev lines\n",
    "max_curve = begin_Oz_means + begin_Oz_bootstrap_std\n",
    "min_curve = begin_Oz_means - begin_Oz_bootstrap_std\n",
    "ax.fill_between(xvals, y1=min_curve, y2=max_curve, alpha=0.5)\n",
    "\n",
    "\n",
    "ax.axvline(fight_start_win_idx, color='black', linestyle='--', alpha=0.8)\n",
    "ax.set_xlim(0, begin_Oz_means.shape[0])\n",
    "# ax.set_ylim(0, 0.3)\n",
    "ax.set_ylabel('Oz [cm]')\n",
    "ax.set_xlabel('time [min]')\n",
    "\n",
    "xticks = [i*(total_num_wins/6) for i in range(7)]\n",
    "ax.set_xticks(xticks );\n",
    "xticklabels = ['-3', '-2', '1', '0', '1', '2', '3']\n",
    "ax.set_xticklabels(xticklabels);\n",
    "ax.grid(alpha=0.3)\n",
    "\n",
    "\n",
    "\n",
    "# # -- stops --#\n",
    "\n",
    "ax = axs[1]\n",
    "ax.set_title('Fight stops')\n",
    "\n",
    "# get where to draw the fight end line\n",
    "total_num_wins = end_Oz_means.shape[0]\n",
    "fight_start_win_idx = int(total_num_wins/2)\n",
    "\n",
    "\n",
    "xvals = np.arange(0, total_num_wins)\n",
    "\n",
    "# plot the true mean curve\n",
    "ax.plot(xvals, end_Oz_means, color='C0', alpha=0.9)\n",
    "\n",
    "# fill between the stdev lines\n",
    "max_curve = end_Oz_means + end_Oz_bootstrap_std\n",
    "min_curve = end_Oz_means - end_Oz_bootstrap_std\n",
    "ax.fill_between(xvals, y1=min_curve, y2=max_curve, alpha=0.5)\n",
    "\n",
    "\n",
    "ax.axvline(fight_start_win_idx, color='black', linestyle='--', alpha=0.8)\n",
    "ax.set_xlim(0, end_Oz_means.shape[0])\n",
    "# ax.set_ylim(0, 0.3)\n",
    "ax.set_ylabel('Oz [cm]')\n",
    "ax.set_xlabel('time [min]')\n",
    "\n",
    "xticks = [i*(total_num_wins/6) for i in range(7)]\n",
    "ax.set_xticks(xticks );\n",
    "xticklabels = ['-3', '-2', '1', '0', '1', '2', '3']\n",
    "ax.set_xticklabels(xticklabels);\n",
    "ax.grid(alpha=0.3)\n"
   ]
  },
  {
   "cell_type": "code",
   "execution_count": null,
   "id": "863c7c50-308a-4e78-9028-4665365fda90",
   "metadata": {},
   "outputs": [],
   "source": []
  },
  {
   "cell_type": "markdown",
   "id": "e9cb5d0b-2871-495a-9017-4cb259e91fe8",
   "metadata": {},
   "source": [
    "## plot paper"
   ]
  },
  {
   "cell_type": "code",
   "execution_count": null,
   "id": "ab45842c-9313-4cf8-b319-7cac9fd4c4c8",
   "metadata": {},
   "outputs": [],
   "source": []
  },
  {
   "cell_type": "code",
   "execution_count": 104,
   "id": "1b977060-cc85-48d0-b2ff-aaebdacd15db",
   "metadata": {},
   "outputs": [
    {
     "data": {
      "application/vnd.jupyter.widget-view+json": {
       "model_id": "1b74303843fb4111aef7d72b1ef09378",
       "version_major": 2,
       "version_minor": 0
      },
      "text/html": [
       "\n",
       "            <div style=\"display: inline-block;\">\n",
       "                <div class=\"jupyter-widgets widget-label\" style=\"text-align: center;\">\n",
       "                    Figure\n",
       "                </div>\n",
       "                <img src='data:image/png;base64,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' width=229.99999999999997/>\n",
       "            </div>\n",
       "        "
      ],
      "text/plain": [
       "Canvas(toolbar=Toolbar(toolitems=[('Home', 'Reset original view', 'home', 'home'), ('Back', 'Back to previous …"
      ]
     },
     "metadata": {},
     "output_type": "display_data"
    }
   ],
   "source": [
    "# ---- start---- #\n",
    "\n",
    "fig, axs = plt.subplots(ncols=1, figsize=(2.3,2), sharey=False)\n",
    "\n",
    "ax = axs\n",
    "\n",
    "# get where to draw the fight end line\n",
    "total_num_wins = begin_Oz_means.shape[0]\n",
    "fight_start_win_idx = int(total_num_wins/2)\n",
    "\n",
    "\n",
    "xvals = np.arange(0, total_num_wins)\n",
    "\n",
    "# plot the true mean curve\n",
    "ax.plot(xvals, begin_Oz_means, color='C0', alpha=0.9)\n",
    "\n",
    "# fill between the stdev lines\n",
    "max_curve = begin_Oz_means + begin_Oz_bootstrap_std\n",
    "min_curve = begin_Oz_means - begin_Oz_bootstrap_std\n",
    "ax.fill_between(xvals, y1=min_curve, y2=max_curve, alpha=0.5)\n",
    "\n",
    "\n",
    "ax.axvline(fight_start_win_idx, color='black', linestyle='--', alpha=0.8)\n",
    "ax.set_xlim(0, begin_Oz_means.shape[0])\n",
    "# ax.set_ylim(0, 0.3)\n",
    "ax.set_ylabel('')\n",
    "ax.set_xlabel('')\n",
    "\n",
    "xticks = [i*(total_num_wins/6) for i in range(7)]\n",
    "ax.set_xticks(xticks );\n",
    "xticklabels = ['-3', '-2', '1', '0', '1', '2', '3']\n",
    "ax.set_xticklabels([]);\n",
    "ax.grid(alpha=0.3)\n",
    "\n",
    "\n",
    "ax.set_yticks([0, 22])\n",
    "ax.set_yticklabels([])\n",
    "\n",
    "ax.xaxis.set_tick_params(width=1.5, length=4)\n",
    "ax.yaxis.set_tick_params(width=1.5, length=4)\n",
    "for axis in ['top','bottom','left','right']:\n",
    "    ax.spines[axis].set_linewidth(1.5)\n",
    "for axis in ['right']:\n",
    "    ax.spines[axis].set_visible(False)\n",
    "\n",
    "fig.tight_layout()\n",
    "\n",
    "imsavepath = '/home/liam/temp/image_transfer/SI_fig_deltaZ_B.png'\n",
    "fig.savefig(imsavepath, transparent=True, dpi=300)\n"
   ]
  },
  {
   "cell_type": "code",
   "execution_count": null,
   "id": "48afdcaa-7fe5-4c96-a861-8f177e1458f5",
   "metadata": {},
   "outputs": [],
   "source": []
  },
  {
   "cell_type": "code",
   "execution_count": 111,
   "id": "7d5004f0-aa8d-4081-9df3-d74e12a7b9a4",
   "metadata": {},
   "outputs": [
    {
     "data": {
      "application/vnd.jupyter.widget-view+json": {
       "model_id": "c661ed02f9654cd0ba72fa076a09cc97",
       "version_major": 2,
       "version_minor": 0
      },
      "text/html": [
       "\n",
       "            <div style=\"display: inline-block;\">\n",
       "                <div class=\"jupyter-widgets widget-label\" style=\"text-align: center;\">\n",
       "                    Figure\n",
       "                </div>\n",
       "                <img src='data:image/png;base64,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' width=229.99999999999997/>\n",
       "            </div>\n",
       "        "
      ],
      "text/plain": [
       "Canvas(toolbar=Toolbar(toolitems=[('Home', 'Reset original view', 'home', 'home'), ('Back', 'Back to previous …"
      ]
     },
     "metadata": {},
     "output_type": "display_data"
    }
   ],
   "source": [
    "#-----end---- --#\n",
    "\n",
    "fig, axs = plt.subplots(ncols=1, figsize=(2.3,2), sharey=False)\n",
    "\n",
    "\n",
    "ax = axs\n",
    "\n",
    "# get where to draw the fight end line\n",
    "total_num_wins = end_Oz_means.shape[0]\n",
    "fight_start_win_idx = int(total_num_wins/2)\n",
    "\n",
    "\n",
    "xvals = np.arange(0, total_num_wins)\n",
    "\n",
    "# plot the true mean curve\n",
    "ax.plot(xvals, end_Oz_means, color='C0', alpha=0.9)\n",
    "\n",
    "# fill between the stdev lines\n",
    "max_curve = end_Oz_means + end_Oz_bootstrap_std\n",
    "min_curve = end_Oz_means - end_Oz_bootstrap_std\n",
    "ax.fill_between(xvals, y1=min_curve, y2=max_curve, alpha=0.5)\n",
    "\n",
    "\n",
    "ax.axvline(fight_start_win_idx, color='black', linestyle='--', alpha=0.8)\n",
    "ax.set_xlim(0, end_Oz_means.shape[0])\n",
    "# ax.set_ylim(0, 0.3)\n",
    "ax.set_ylabel('')\n",
    "ax.set_xlabel('')\n",
    "\n",
    "xticks = [i*(total_num_wins/6) for i in range(7)]\n",
    "ax.set_xticks(xticks );\n",
    "xticklabels = ['-3', '-2', '1', '0', '1', '2', '3']\n",
    "ax.set_xticklabels([]);\n",
    "ax.grid(alpha=0.3)\n",
    "\n",
    "ax.set_yticks([])\n",
    "ax.set_yticklabels([])\n",
    "\n",
    "ax.xaxis.set_tick_params(width=1.5, length=4)\n",
    "ax.yaxis.set_tick_params(width=1.5, length=4)\n",
    "for axis in ['top','bottom','left','right']:\n",
    "    ax.spines[axis].set_linewidth(1.5)\n",
    "for axis in ['left']:\n",
    "    ax.spines[axis].set_visible(False)\n",
    "\n",
    "fig.tight_layout()\n",
    "\n",
    "imsavepath = '/home/liam/temp/image_transfer/SI_fig_deltaZ_C.png'\n",
    "fig.savefig(imsavepath, transparent=True, dpi=300)"
   ]
  },
  {
   "cell_type": "code",
   "execution_count": null,
   "id": "b5e17cab-63be-4fa8-9eac-5c6dbd02753d",
   "metadata": {},
   "outputs": [],
   "source": []
  },
  {
   "cell_type": "code",
   "execution_count": null,
   "id": "e87c75a9-3f31-4c7b-9950-7e3877d82041",
   "metadata": {},
   "outputs": [],
   "source": []
  }
 ],
 "metadata": {
  "kernelspec": {
   "display_name": "analysis",
   "language": "python",
   "name": "analysis"
  },
  "language_info": {
   "codemirror_mode": {
    "name": "ipython",
    "version": 3
   },
   "file_extension": ".py",
   "mimetype": "text/x-python",
   "name": "python",
   "nbconvert_exporter": "python",
   "pygments_lexer": "ipython3",
   "version": "3.9.7"
  }
 },
 "nbformat": 4,
 "nbformat_minor": 5
}

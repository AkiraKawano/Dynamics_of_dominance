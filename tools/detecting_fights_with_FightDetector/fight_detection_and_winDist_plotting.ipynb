{
 "cells": [
  {
   "cell_type": "code",
   "execution_count": null,
   "id": "c594ef41-727b-4048-8e6e-36e65a6385c6",
   "metadata": {},
   "outputs": [],
   "source": []
  },
  {
   "cell_type": "markdown",
   "id": "8afe5aad-0984-40c5-a7ca-7135eb6ef524",
   "metadata": {},
   "source": [
    "# Notes"
   ]
  },
  {
   "cell_type": "markdown",
   "id": "0b5256d2-d85d-402b-94b0-8fda2c23353a",
   "metadata": {},
   "source": [
    "This is intended as a short tutorial on Fight detection, and plotting windowed distributions. <br>\n"
   ]
  },
  {
   "cell_type": "code",
   "execution_count": null,
   "id": "a88bf439-0d66-4533-a35d-bf447445a08a",
   "metadata": {},
   "outputs": [],
   "source": []
  },
  {
   "cell_type": "markdown",
   "id": "e4d473d9-b9cb-459e-a300-509f6cee33ba",
   "metadata": {},
   "source": [
    "# Imports"
   ]
  },
  {
   "cell_type": "code",
   "execution_count": null,
   "id": "45d8b473-b3a4-4f4b-865d-d2e0c131810b",
   "metadata": {},
   "outputs": [],
   "source": [
    "import numpy as np\n",
    "np.set_printoptions(suppress=True)\n",
    "np.seterr(divide='ignore', invalid='ignore')\n",
    "import h5py\n",
    "import time\n",
    "import glob\n",
    "import pandas as pd\n",
    "import matplotlib.pyplot as plt\n",
    "import seaborn as sns\n",
    "from scipy.spatial import distance\n",
    "import os\n",
    "import sys\n",
    "%matplotlib widget\n",
    "%load_ext autoreload\n",
    "%autoreload 2\n",
    "\n",
    "from FightDetector import FightDetector\n",
    "from WindowedDistributionPlotter import compute_dpp_tet_tet_distribution_plot_with_fight_bouts"
   ]
  },
  {
   "cell_type": "code",
   "execution_count": null,
   "id": "7439585c-0dc3-4a7d-88a1-c2448ef0f49e",
   "metadata": {},
   "outputs": [],
   "source": []
  },
  {
   "cell_type": "markdown",
   "id": "2b27a28f-4ae6-40ce-9eeb-e29018a7505a",
   "metadata": {},
   "source": [
    "# filepaths"
   ]
  },
  {
   "cell_type": "code",
   "execution_count": null,
   "id": "d46d0130-55c1-4235-a052-565e60bab688",
   "metadata": {},
   "outputs": [],
   "source": [
    "# -------------------------------------------#\n",
    "# load data and params needed for clustering\n",
    "# -------------------------------------------#\n",
    "\n",
    "# the path for data for the fight detector\n",
    "clusterable_data_loadpath =  './clusterable_data.h5'\n",
    "\n",
    "# the path to some cluster labels for the clusterable_data\n",
    "clusterable_data_labels_path = './clusterable_data_labels.h5'\n",
    "\n",
    "# the path to the parameters used for the clustering\n",
    "cluster_params_path = './cluster_params.h5'\n",
    "\n",
    "\n",
    "# -------------------------------------------#\n",
    "# load tracking results to play with\n",
    "# -------------------------------------------#\n",
    "data_loadpath = './FishTank20200130_153857_tracking_results.h5'\n",
    "with h5py.File(data_loadpath, 'r') as hf:\n",
    "    traj = hf['tracks_3D_smooth'][:]\n",
    "    \n",
    "expName = 'FishTank20200130_153857'"
   ]
  },
  {
   "cell_type": "code",
   "execution_count": null,
   "id": "81301042-7d74-4f24-bcd0-ba4b3ce72e5d",
   "metadata": {},
   "outputs": [],
   "source": []
  },
  {
   "cell_type": "code",
   "execution_count": null,
   "id": "b36cce3a-aa81-43e2-b34f-100fcc4385e0",
   "metadata": {},
   "outputs": [],
   "source": []
  },
  {
   "cell_type": "markdown",
   "id": "e5b8011d-e65c-4dea-b905-ea5117818a8b",
   "metadata": {},
   "source": [
    "# Create a fight detector"
   ]
  },
  {
   "cell_type": "code",
   "execution_count": null,
   "id": "ae794880-edfa-4bdd-aa1d-12a10397ab18",
   "metadata": {},
   "outputs": [],
   "source": []
  },
  {
   "cell_type": "code",
   "execution_count": null,
   "id": "d687288a-f899-4b59-8521-027d51757661",
   "metadata": {},
   "outputs": [],
   "source": [
    "# --- load the stuff we need to instantiate the fight detector  ---- #\n",
    "\n",
    "with h5py.File(clusterable_data_loadpath, 'r') as hf:\n",
    "    expidx_and_decimated_wins_clusterable_data = hf['expidx_and_decimated_wins_clusterable_data'][:]\n",
    "    prob_vectors_clusterable_data = hf['prob_vectors_clusterable_data'][:]\n",
    "\n",
    "    \n",
    "with h5py.File(clusterable_data_labels_path, 'r') as hf:\n",
    "    cluster_labels = hf['cluster_labels'][:]\n",
    "    fight_label_number = hf['fight_label_number'][()]\n",
    "    \n",
    "    \n",
    "# load the clustering params dictionary\n",
    "cluster_params = {}\n",
    "with h5py.File(cluster_params_path, 'r') as hf:\n",
    "    for param_key in hf.keys():\n",
    "        try:\n",
    "            param_value = hf[param_key][:]\n",
    "        except:\n",
    "            param_value = hf[param_key][()]\n",
    "        cluster_params.update({param_key:param_value})\n",
    "        "
   ]
  },
  {
   "cell_type": "code",
   "execution_count": null,
   "id": "5f629331-c8c6-47bd-b2be-a59f9bb82cb3",
   "metadata": {},
   "outputs": [],
   "source": [
    "# ---- make a fight detector ---- #\n",
    "fd = FightDetector(cluster_params['dpp_bins'], cluster_params['g1_bins'], cluster_params['g2_bins'], \n",
    "                   cluster_params['window_size'], cluster_params['window_step'], cluster_params['skip_size'],\n",
    "                   prob_vectors_clusterable_data, cluster_labels, fight_label_number, \n",
    "                   refining_skip_size=2, merge_gap_size_in_windows=5, min_region_window_size=5)"
   ]
  },
  {
   "cell_type": "code",
   "execution_count": null,
   "id": "aaca127d-b329-4d64-aa83-84c95f6c5e5b",
   "metadata": {},
   "outputs": [],
   "source": []
  },
  {
   "cell_type": "code",
   "execution_count": null,
   "id": "b3067569-c422-4b21-9c3d-acfa8521e488",
   "metadata": {},
   "outputs": [],
   "source": []
  },
  {
   "cell_type": "markdown",
   "id": "d20b9113-f5ce-4710-b1f3-2ee4dbbfc037",
   "metadata": {},
   "source": [
    "# Detect fight-bouts in the experiment"
   ]
  },
  {
   "cell_type": "code",
   "execution_count": null,
   "id": "154bcf7e-acaf-4c38-959f-66179801182a",
   "metadata": {},
   "outputs": [],
   "source": []
  },
  {
   "cell_type": "code",
   "execution_count": null,
   "id": "151acf30-c626-4fc4-b3cc-8de4e4b301ea",
   "metadata": {},
   "outputs": [],
   "source": [
    "t0 = time.perf_counter()\n",
    "\n",
    "fight_bouts_info = fd.detect_fight_bouts(traj)\n",
    "\n",
    "tE = time.perf_counter()\n",
    "print(tE-t0)"
   ]
  },
  {
   "cell_type": "code",
   "execution_count": null,
   "id": "eb29e6e5-0fe2-48b5-9719-4eaf13a083e0",
   "metadata": {},
   "outputs": [],
   "source": [
    "fight_bouts_info"
   ]
  },
  {
   "cell_type": "code",
   "execution_count": null,
   "id": "01eed890-a0fe-4020-8ed3-df4d8a4e8d6a",
   "metadata": {},
   "outputs": [],
   "source": []
  },
  {
   "cell_type": "code",
   "execution_count": null,
   "id": "1448b236-9936-4b04-a9d7-fe5ab27b677d",
   "metadata": {},
   "outputs": [],
   "source": []
  },
  {
   "cell_type": "markdown",
   "id": "75f90af6-bbd4-4133-b93b-9419d00a7f98",
   "metadata": {},
   "source": [
    "# Plot the windowed distributions with fight-bouts"
   ]
  },
  {
   "cell_type": "code",
   "execution_count": null,
   "id": "5333e207-fb27-4cc9-aa0d-0f476cf519a7",
   "metadata": {},
   "outputs": [],
   "source": []
  },
  {
   "cell_type": "code",
   "execution_count": null,
   "id": "eb333091-8322-4d46-8876-f0bffc6fcbbb",
   "metadata": {},
   "outputs": [],
   "source": [
    "t0 = time.perf_counter()\n",
    "\n",
    "# These variables you can read from the tracking results for paper data.\n",
    "# For new experiments, you don't know these yet.\n",
    "# If you don't know, choose winIdx=0, losIdx=1, and set has_clear_winner=False\n",
    "winIdx = 0\n",
    "losIdx = 1\n",
    "has_clear_winner = False\n",
    "\n",
    "# the fight information is simply what we found above\n",
    "exp_fight_bout_info = fight_bouts_info\n",
    "\n",
    "# the trajectory, traj, is also defined above\n",
    "\n",
    "# plotting params\n",
    "# expName is set towards the top of this file\n",
    "figsavepath = f'./{expName}.png'\n",
    "window_size=6000                            # the window width [frames]\n",
    "window_step=100                             # the step forward in time between windows [frames]\n",
    "dpp_bins = np.linspace(0, 30, 300)          # visualization bins\n",
    "tet_bins = np.linspace(-np.pi, np.pi, 300)  # visualization bins\n",
    "dpp_vmax=150                                # the max count color threshold when plotting.\n",
    "tet_vmax=150                                # the max count color threshold when plotting.\n",
    "num_xticks=10                               # the number of xaxis time ticks\n",
    "cmap='Blues'                                # colorscheme\n",
    "fps=100                                     # for frame-minutes conversions\n",
    "use_cbar=False                              # use/not-use the colorbar of the plots\n",
    "\n",
    "\n",
    "\n",
    "compute_dpp_tet_tet_distribution_plot_with_fight_bouts(traj, expName, exp_fight_bout_info, figsavepath, dpp_bins, tet_bins,\n",
    "                                                       winnerIdx=winIdx, loserIdx=losIdx, has_clear_winner=has_clear_winner, \n",
    "                                                       window_size=window_size, window_step=window_step, dpp_vmax=dpp_vmax, \n",
    "                                                       tet_vmax=tet_vmax, num_xticks=num_xticks, cmap='Blues', fps=fps, use_cbar=use_cbar)\n",
    "\n",
    "\n",
    "tE = time.perf_counter()\n",
    "print()\n",
    "print('finished {0}: {1} s'.format(expName, tE-t0))"
   ]
  },
  {
   "cell_type": "code",
   "execution_count": null,
   "id": "2f017dca-ac97-46fa-8e56-94572d211e55",
   "metadata": {},
   "outputs": [],
   "source": []
  },
  {
   "cell_type": "code",
   "execution_count": null,
   "id": "315c1131-506a-400d-bbf8-743c97887434",
   "metadata": {},
   "outputs": [],
   "source": []
  },
  {
   "cell_type": "code",
   "execution_count": null,
   "id": "ab072f54-a940-49a9-b898-989a46ffd978",
   "metadata": {},
   "outputs": [],
   "source": []
  }
 ],
 "metadata": {
  "kernelspec": {
   "display_name": "analysis",
   "language": "python",
   "name": "analysis"
  },
  "language_info": {
   "codemirror_mode": {
    "name": "ipython",
    "version": 3
   },
   "file_extension": ".py",
   "mimetype": "text/x-python",
   "name": "python",
   "nbconvert_exporter": "python",
   "pygments_lexer": "ipython3",
   "version": "3.9.7"
  }
 },
 "nbformat": 4,
 "nbformat_minor": 5
}

{
 "cells": [
  {
   "cell_type": "code",
   "execution_count": null,
   "id": "c594ef41-727b-4048-8e6e-36e65a6385c6",
   "metadata": {},
   "outputs": [],
   "source": []
  },
  {
   "cell_type": "markdown",
   "id": "8afe5aad-0984-40c5-a7ca-7135eb6ef524",
   "metadata": {},
   "source": [
    "# Notes"
   ]
  },
  {
   "cell_type": "code",
   "execution_count": null,
   "id": "7a95a99e-b261-400b-8910-be978349ca6c",
   "metadata": {},
   "outputs": [],
   "source": []
  },
  {
   "cell_type": "code",
   "execution_count": null,
   "id": "a88bf439-0d66-4533-a35d-bf447445a08a",
   "metadata": {},
   "outputs": [],
   "source": []
  },
  {
   "cell_type": "markdown",
   "id": "e4d473d9-b9cb-459e-a300-509f6cee33ba",
   "metadata": {},
   "source": [
    "# Imports"
   ]
  },
  {
   "cell_type": "code",
   "execution_count": 11,
   "id": "45d8b473-b3a4-4f4b-865d-d2e0c131810b",
   "metadata": {},
   "outputs": [
    {
     "name": "stdout",
     "output_type": "stream",
     "text": [
      "The autoreload extension is already loaded. To reload it, use:\n",
      "  %reload_ext autoreload\n"
     ]
    }
   ],
   "source": [
    "import numpy as np\n",
    "np.set_printoptions(suppress=True)\n",
    "np.seterr(divide='ignore', invalid='ignore')\n",
    "import h5py\n",
    "import time\n",
    "import glob\n",
    "import pandas as pd\n",
    "import matplotlib.pyplot as plt\n",
    "import seaborn as sns\n",
    "from scipy.spatial import distance\n",
    "import os\n",
    "import sys\n",
    "%matplotlib widget\n",
    "%load_ext autoreload\n",
    "%autoreload 2\n",
    "\n",
    "# --- import functions for computing kinematic variables --- #\n",
    "#sys.path.append('../tracking_code/lib/')\n",
    "from FightDetector import FightDetector"
   ]
  },
  {
   "cell_type": "code",
   "execution_count": null,
   "id": "7439585c-0dc3-4a7d-88a1-c2448ef0f49e",
   "metadata": {},
   "outputs": [],
   "source": []
  },
  {
   "cell_type": "markdown",
   "id": "2b27a28f-4ae6-40ce-9eeb-e29018a7505a",
   "metadata": {},
   "source": [
    "# filepaths"
   ]
  },
  {
   "cell_type": "code",
   "execution_count": 3,
   "id": "d46d0130-55c1-4235-a052-565e60bab688",
   "metadata": {},
   "outputs": [],
   "source": [
    "main_load_folder = '/media/liam/hd1/fighting_data/tracking_results/'\n",
    "\n",
    "\n",
    "# ----------------------#\n",
    "\n",
    "# the path for data for the fight detector\n",
    "clusterable_data_loadpath = os.path.join( os.path.dirname(os.path.dirname(main_load_folder)) , \n",
    "                                      'fight_detection_data/clusterable_data.h5')\n",
    "\n",
    "# the path to some cluster labels for the clusterable_data\n",
    "clusterable_data_labels_path = os.path.join( os.path.dirname(os.path.dirname(main_load_folder)) , \n",
    "                                      'fight_detection_data/clusterable_data_labels.h5')\n",
    "\n",
    "# the path to the parameters used for the clustering\n",
    "cluster_params_path = os.path.join( os.path.dirname(os.path.dirname(main_load_folder)) , \n",
    "                                      'fight_detection_data/cluster_params.h5')"
   ]
  },
  {
   "cell_type": "code",
   "execution_count": null,
   "id": "5f629331-c8c6-47bd-b2be-a59f9bb82cb3",
   "metadata": {},
   "outputs": [],
   "source": []
  },
  {
   "cell_type": "code",
   "execution_count": null,
   "id": "aaca127d-b329-4d64-aa83-84c95f6c5e5b",
   "metadata": {},
   "outputs": [],
   "source": []
  },
  {
   "cell_type": "markdown",
   "id": "471b5d30-6e6c-41c5-9799-8e77fa6f3de8",
   "metadata": {},
   "source": [
    "# Load some data to test on"
   ]
  },
  {
   "cell_type": "code",
   "execution_count": null,
   "id": "40c5f00f-bd12-441e-96f4-1c291e6db255",
   "metadata": {},
   "outputs": [],
   "source": []
  },
  {
   "cell_type": "code",
   "execution_count": 34,
   "id": "60e4726d-7bf8-40cd-957a-28875f82585b",
   "metadata": {},
   "outputs": [],
   "source": [
    "#  ---- prepare some unit-test filepaths, and the new pair1 filepaths ---- #\n",
    "\n",
    "# We will load 4 tests and 4 new exps\n",
    "numTestsExps = 4\n",
    "paper_filepaths = glob.glob('/media/liam/hd1/fighting_data/tracking_results/*results.h5')\n",
    "paper_filepaths.sort()\n",
    "test_expNames = []\n",
    "test_trajectories = []\n",
    "for ii in range(numTestsExps):\n",
    "    with h5py.File(paper_filepaths[ii], 'r') as hf:\n",
    "        traj = hf['tracks_3D_smooth'][:]\n",
    "        test_trajectories.append(traj)\n",
    "        test_expNames.append( paper_filepaths[ii].split('/')[-1][:23] )\n",
    "        \n",
    "\n",
    "numNewExps = 4\n",
    "pair1_filepaths = glob.glob('/media/liam/hd1/pair1_4_earlier_exps/*A.h5')\n",
    "pair1_filepaths.sort()\n",
    "trajectories = []\n",
    "expNames = []\n",
    "for ii in range(numNewExps):\n",
    "    with h5py.File(pair1_filepaths[ii], 'r') as hf:\n",
    "        traj = hf['tracks_3D_smooth'][:]\n",
    "        trajectories.append(traj)\n",
    "        expNames.append( pair1_filepaths[ii].split('/')[-1][:23] )\n"
   ]
  },
  {
   "cell_type": "code",
   "execution_count": 35,
   "id": "9095392e-46cf-4e7e-9759-533632277a03",
   "metadata": {},
   "outputs": [
    {
     "data": {
      "text/plain": [
       "['/media/liam/hd1/pair1_4_earlier_exps/FishTank20200124_150601_tracks_A.h5',\n",
       " '/media/liam/hd1/pair1_4_earlier_exps/FishTank20200219_161418_tracks_A.h5',\n",
       " '/media/liam/hd1/pair1_4_earlier_exps/FishTank20200228_160449_tracks_A.h5',\n",
       " '/media/liam/hd1/pair1_4_earlier_exps/FishTank20200401_162646_tracks_A.h5']"
      ]
     },
     "execution_count": 35,
     "metadata": {},
     "output_type": "execute_result"
    }
   ],
   "source": [
    "pair1_filepaths"
   ]
  },
  {
   "cell_type": "code",
   "execution_count": null,
   "id": "3ac136fb-b258-49c4-a18e-fa644c0c905f",
   "metadata": {},
   "outputs": [],
   "source": []
  },
  {
   "cell_type": "code",
   "execution_count": null,
   "id": "3d250f34-8453-4eee-bd28-221a9840b573",
   "metadata": {},
   "outputs": [],
   "source": []
  },
  {
   "cell_type": "markdown",
   "id": "2ffb1c56-2dc0-473a-98b7-fbefd922f0ee",
   "metadata": {},
   "source": [
    "# Loading data needed for fight detector"
   ]
  },
  {
   "cell_type": "code",
   "execution_count": null,
   "id": "39530aaf-31eb-466e-98e9-954aa43af93c",
   "metadata": {},
   "outputs": [],
   "source": []
  },
  {
   "cell_type": "code",
   "execution_count": 51,
   "id": "20f37ebe-1a46-4855-a450-c4cf51d95b8a",
   "metadata": {},
   "outputs": [],
   "source": [
    "# --- load arrays of interest ---- #\n",
    "\n",
    "with h5py.File(clusterable_data_loadpath, 'r') as hf:\n",
    "    expidx_and_decimated_wins_clusterable_data = hf['expidx_and_decimated_wins_clusterable_data'][:]\n",
    "    prob_vectors_clusterable_data = hf['prob_vectors_clusterable_data'][:]\n",
    "\n",
    "    \n",
    "with h5py.File(clusterable_data_labels_path, 'r') as hf:\n",
    "    cluster_labels = hf['cluster_labels'][:]\n",
    "    fight_label_number = hf['fight_label_number'][()]\n",
    "    \n",
    "    \n",
    "# load the clustering params dictionary\n",
    "cluster_params = {}\n",
    "with h5py.File(cluster_params_path, 'r') as hf:\n",
    "    for param_key in hf.keys():\n",
    "        try:\n",
    "            param_value = hf[param_key][:]\n",
    "        except:\n",
    "            param_value = hf[param_key][()]\n",
    "        cluster_params.update({param_key:param_value})\n",
    "        \n",
    "        \n"
   ]
  },
  {
   "cell_type": "code",
   "execution_count": null,
   "id": "543508cd-a513-4e72-a132-cbb5a2885551",
   "metadata": {},
   "outputs": [],
   "source": []
  },
  {
   "cell_type": "markdown",
   "id": "b9a55015-9b5a-48de-a8bf-af900e899dc9",
   "metadata": {},
   "source": [
    "# Test the fight detector with paper trajectories"
   ]
  },
  {
   "cell_type": "code",
   "execution_count": 6,
   "id": "13fa1fee-f23f-4df0-82b9-1fe2521e5300",
   "metadata": {},
   "outputs": [
    {
     "name": "stdout",
     "output_type": "stream",
     "text": [
      "FishTank20200127_143538  finished:  575.6883355120663  s\n",
      "FishTank20200129_140656  finished:  1142.8905114890076  s\n",
      "FishTank20200130_153857  finished:  1467.622953023063  s\n",
      "FishTank20200130_181614  finished:  1736.067417935934  s\n",
      "-----\n",
      "\n",
      "1736.0682709470857\n"
     ]
    }
   ],
   "source": [
    "t0 = time.perf_counter()\n",
    "\n",
    "\n",
    "# ---- make a fight detector ---- #\n",
    "fd = FightDetector(cluster_params['dpp_bins'], cluster_params['g1_bins'], cluster_params['g2_bins'], \n",
    "                   cluster_params['window_size'], cluster_params['window_step'], cluster_params['skip_size'],\n",
    "                   prob_vectors_clusterable_data, cluster_labels, fight_label_number, \n",
    "                   refining_skip_size=2, merge_gap_size_in_windows=5, min_region_window_size=5)\n",
    "\n",
    "\n",
    "\n",
    "# ---- apply the all test exps ---- #\n",
    "\n",
    "fight_detector_results = []\n",
    "\n",
    "for ii,traj in enumerate(test_trajectories):\n",
    "    expName = test_expNames[ii]\n",
    "    fight_bouts_info = fd.detect_fight_bouts(traj)\n",
    "    fight_detector_results.append(fight_bouts_info)\n",
    "    print(expName, ' finished: ', time.perf_counter() - t0, ' s')\n",
    "\n",
    "    \n",
    "print('-----')\n",
    "print()\n",
    "tE = time.perf_counter()\n",
    "print(tE-t0)"
   ]
  },
  {
   "cell_type": "code",
   "execution_count": null,
   "id": "19b931dc-5fe8-4547-9d65-418f3feffb2f",
   "metadata": {},
   "outputs": [],
   "source": []
  },
  {
   "cell_type": "code",
   "execution_count": 7,
   "id": "cc83ad80-c923-4e83-8930-3e35e129b6f7",
   "metadata": {},
   "outputs": [
    {
     "data": {
      "text/plain": [
       "[array([[385500., 427400.],\n",
       "        [583500., 610400.],\n",
       "        [643500., 805400.]]),\n",
       " array([[274500., 301400.],\n",
       "        [385700., 409400.],\n",
       "        [493700., 655400.],\n",
       "        [700700., 718600.]]),\n",
       " array([[ 31500., 175400.],\n",
       "        [301300., 319600.]]),\n",
       " array([[331300., 436400.]])]"
      ]
     },
     "execution_count": 7,
     "metadata": {},
     "output_type": "execute_result"
    }
   ],
   "source": [
    "fight_detector_results"
   ]
  },
  {
   "cell_type": "code",
   "execution_count": null,
   "id": "cea806fc-f035-4b2e-8f1b-28cfc1dcc131",
   "metadata": {},
   "outputs": [],
   "source": []
  },
  {
   "cell_type": "code",
   "execution_count": 37,
   "id": "2bbc81ac-7221-486c-aa2d-3ae069f03d7e",
   "metadata": {},
   "outputs": [
    {
     "name": "stdout",
     "output_type": "stream",
     "text": [
      "[[385500 427400]\n",
      " [583500 610400]\n",
      " [643500 805400]]\n",
      "\n",
      "[[274500 301400]\n",
      " [385700 409400]\n",
      " [493700 655400]\n",
      " [700700 718600]]\n",
      "\n",
      "[[ 31500 175400]\n",
      " [301300 319600]]\n",
      "\n",
      "[[331300 436400]]\n",
      "\n"
     ]
    }
   ],
   "source": [
    "fightBouts_info_path = os.path.join(main_load_folder, 'fightBouts.h5')\n",
    "\n",
    "with h5py.File(fightBouts_info_path, 'r') as hf:\n",
    "    refined_exps_fight_info = hf['refined_exps_fight_info'][:]\n",
    "    \n",
    "    \n",
    "for ii in range(numTestsExps):\n",
    "    exp_b_info = refined_exps_fight_info[refined_exps_fight_info[:,0]==ii]\n",
    "    print(exp_b_info[:,1:3])\n",
    "    print()"
   ]
  },
  {
   "cell_type": "code",
   "execution_count": null,
   "id": "c6731b99-fbd9-4043-894f-3286170b9d87",
   "metadata": {},
   "outputs": [],
   "source": []
  },
  {
   "cell_type": "code",
   "execution_count": null,
   "id": "18d49810-9043-41ef-abc9-3101d01ad5c8",
   "metadata": {},
   "outputs": [],
   "source": []
  },
  {
   "cell_type": "code",
   "execution_count": null,
   "id": "4ebe57bb-3f3f-49a9-b774-b1fc2ea47404",
   "metadata": {},
   "outputs": [],
   "source": []
  },
  {
   "cell_type": "markdown",
   "id": "f8c4bf6b-9423-4236-9cb7-cdcd6a9f3268",
   "metadata": {},
   "source": [
    "# TEMP - apply the fight detector to the new pair1 exps"
   ]
  },
  {
   "cell_type": "code",
   "execution_count": null,
   "id": "5a3186b2-1dbc-42d4-8bc7-73482149f0e8",
   "metadata": {},
   "outputs": [],
   "source": []
  },
  {
   "cell_type": "code",
   "execution_count": 19,
   "id": "67eea902-788f-4ac4-9236-7582f684d19d",
   "metadata": {},
   "outputs": [
    {
     "name": "stdout",
     "output_type": "stream",
     "text": [
      "FishTank20200124_150601  finished:  603.8128472529352  s\n",
      "FishTank20200219_161418  finished:  945.2355972789228  s\n",
      "FishTank20200228_160449  finished:  1243.008524490986  s\n",
      "FishTank20200401_162646  finished:  1743.4432178710122  s\n",
      "-----\n",
      "\n",
      "1743.4440203770064\n"
     ]
    }
   ],
   "source": [
    "t0 = time.perf_counter()\n",
    "\n",
    "\n",
    "# ---- make a fight detector ---- #\n",
    "fd = FightDetector(cluster_params['dpp_bins'], cluster_params['g1_bins'], cluster_params['g2_bins'], \n",
    "                   cluster_params['window_size'], cluster_params['window_step'], cluster_params['skip_size'],\n",
    "                   prob_vectors_clusterable_data, cluster_labels, fight_label_number, \n",
    "                   refining_skip_size=2, merge_gap_size_in_windows=5, min_region_window_size=5)\n",
    "\n",
    "\n",
    "\n",
    "# ---- apply the all test exps ---- #\n",
    "fight_detector_results = []\n",
    "for ii,traj in enumerate(trajectories):\n",
    "    expName = expNames[ii]\n",
    "    fight_bouts_info = fd.detect_fight_bouts(traj)\n",
    "    fight_detector_results.append(fight_bouts_info)\n",
    "    print(expName, ' finished: ', time.perf_counter() - t0, ' s')\n",
    "\n",
    "    \n",
    "print('-----')\n",
    "print()\n",
    "tE = time.perf_counter()\n",
    "print(tE-t0)"
   ]
  },
  {
   "cell_type": "code",
   "execution_count": null,
   "id": "57916029-1538-4549-a48c-410bca145457",
   "metadata": {},
   "outputs": [],
   "source": []
  },
  {
   "cell_type": "code",
   "execution_count": 53,
   "id": "5a81edef-800f-454e-b3d7-2df61a3a2846",
   "metadata": {},
   "outputs": [
    {
     "data": {
      "text/plain": [
       "array([[     0,   3000,  75100,  72100],\n",
       "       [     0, 118500, 186400,  67900],\n",
       "       [     0, 203700, 219600,  15900],\n",
       "       [     0, 552500, 572000,  19500],\n",
       "       [     0, 610300, 626600,  16300],\n",
       "       [     2,   3000,  78300,  75300]])"
      ]
     },
     "execution_count": 53,
     "metadata": {},
     "output_type": "execute_result"
    }
   ],
   "source": [
    "# combine the results for the experiments into one array\n",
    "refined_exps_fight_info = []\n",
    "for expIdx in range(len(fight_detector_results)):\n",
    "    numBouts = fight_detector_results[expIdx].shape[0]\n",
    "    if numBouts == 0:\n",
    "        continue\n",
    "    else:\n",
    "        info_arr = np.full( (fight_detector_results[expIdx].shape[0],3), expIdx)\n",
    "        info_arr[:, 1:] = fight_detector_results[expIdx]\n",
    "        refined_exps_fight_info.append(info_arr)\n",
    "refined_exps_fight_info = np.concatenate(refined_exps_fight_info, axis=0)\n",
    "\n",
    "# add the durations column\n",
    "refined_exps_fight_info = np.stack([refined_exps_fight_info[:,0],\n",
    "                                     refined_exps_fight_info[:,1],\n",
    "                                     refined_exps_fight_info[:,2],\n",
    "                                     durations], axis=1)\n",
    "\n",
    "refined_exps_fight_info"
   ]
  },
  {
   "cell_type": "code",
   "execution_count": null,
   "id": "b67d518d-bef0-4052-8837-ed83cdf88792",
   "metadata": {},
   "outputs": [],
   "source": []
  },
  {
   "cell_type": "code",
   "execution_count": null,
   "id": "b4112b7e-10a4-4619-b5fd-36c83e857898",
   "metadata": {},
   "outputs": [],
   "source": [
    "# save the results\n",
    "detectorSavePath = '/media/liam/hd1/pair1_4_earlier_exps/fightBouts.h5'\n",
    "with h5py.File(detectorSavePath, 'w') as hf:\n",
    "    hf.create_dataset('refined_exps_fight_info', data=refined_exps_fight_info)"
   ]
  },
  {
   "cell_type": "code",
   "execution_count": null,
   "id": "c627c53e-dd48-4c54-b11e-17f424a6f475",
   "metadata": {},
   "outputs": [],
   "source": []
  },
  {
   "cell_type": "code",
   "execution_count": null,
   "id": "85fcb253-36e3-4f75-83c7-91f87450136f",
   "metadata": {},
   "outputs": [],
   "source": []
  },
  {
   "cell_type": "code",
   "execution_count": null,
   "id": "1a5c9ec1-cf31-473f-a801-84a5eab4b5e9",
   "metadata": {},
   "outputs": [],
   "source": []
  },
  {
   "cell_type": "code",
   "execution_count": null,
   "id": "c98790d1-9bc5-464b-83c1-af88bf077eb8",
   "metadata": {},
   "outputs": [],
   "source": []
  }
 ],
 "metadata": {
  "kernelspec": {
   "display_name": "analysis",
   "language": "python",
   "name": "analysis"
  },
  "language_info": {
   "codemirror_mode": {
    "name": "ipython",
    "version": 3
   },
   "file_extension": ".py",
   "mimetype": "text/x-python",
   "name": "python",
   "nbconvert_exporter": "python",
   "pygments_lexer": "ipython3",
   "version": "3.9.7"
  }
 },
 "nbformat": 4,
 "nbformat_minor": 5
}

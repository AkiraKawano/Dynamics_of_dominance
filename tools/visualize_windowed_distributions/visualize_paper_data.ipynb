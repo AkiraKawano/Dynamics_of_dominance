{
 "cells": [
  {
   "cell_type": "code",
   "execution_count": null,
   "id": "fc388d13-937b-4c18-a641-eb873826c793",
   "metadata": {},
   "outputs": [],
   "source": []
  },
  {
   "cell_type": "markdown",
   "id": "21ed9855-5494-4aeb-96c3-add5ff79b12f",
   "metadata": {},
   "source": [
    "# Imports "
   ]
  },
  {
   "cell_type": "code",
   "execution_count": 27,
   "id": "08ce32f2-d147-4467-83a9-c85c0dcb2e4b",
   "metadata": {},
   "outputs": [
    {
     "name": "stdout",
     "output_type": "stream",
     "text": [
      "The autoreload extension is already loaded. To reload it, use:\n",
      "  %reload_ext autoreload\n"
     ]
    }
   ],
   "source": [
    "import numpy as np\n",
    "np.set_printoptions(suppress=True)\n",
    "import h5py\n",
    "import pandas as pd\n",
    "import time\n",
    "import glob\n",
    "import matplotlib.pyplot as plt\n",
    "import matplotlib.patches as mpatches\n",
    "import seaborn as sns\n",
    "import os\n",
    "import sys\n",
    "%matplotlib widget\n",
    "%load_ext autoreload\n",
    "%autoreload 2\n",
    "\n",
    "from WindowedDistributionPlotter import compute_dpp_tet_tet_distribution_plot_with_fight_bouts\n",
    "\n",
    "#sys.path.append('./lib/')\n"
   ]
  },
  {
   "cell_type": "code",
   "execution_count": null,
   "id": "f8425eef-319a-45e3-9141-87ec421f0d9b",
   "metadata": {},
   "outputs": [],
   "source": []
  },
  {
   "cell_type": "code",
   "execution_count": null,
   "id": "fdfe6db2-c0a5-445e-9de0-41e706fb5fd7",
   "metadata": {},
   "outputs": [],
   "source": []
  },
  {
   "cell_type": "markdown",
   "id": "3864d32d-fc4c-4755-ab47-31746609f12d",
   "metadata": {},
   "source": [
    "# load the tracking data"
   ]
  },
  {
   "cell_type": "markdown",
   "id": "3de34434-9480-445f-ba07-53b37a947691",
   "metadata": {},
   "source": [
    "Some kinematics variables can be computed from post-processed data, <br>\n",
    "but for others it is best to compute from raw data, and do the post-processing afterwards. <br>\n",
    "So we load both raw and smoothed data. <br>\n",
    "<br>\n",
    "We are also going to load arrays which give us fight regions, winner and loser, and th"
   ]
  },
  {
   "cell_type": "code",
   "execution_count": 8,
   "id": "591f2241-08e8-4049-a4d3-4905a4f208de",
   "metadata": {},
   "outputs": [],
   "source": [
    "main_load_folder = '/media/liam/hd1/fighting_data/tracking_results/'\n",
    "\n",
    "# ----------------------#\n",
    "\n",
    "interp_polyOrd=1  # the order of the polynomial used for interpolation\n",
    "interp_limit=5    # the maximum number of frames to interpolate over\n",
    "savgol_win=9      # the number of frames for the Savitzky-Golay filter\n",
    "savgol_ord=2      # the polynomial order for the Savitzky-Golay filter\n",
    "dt=0.01           # the frame rate of the recording\n",
    "\n",
    "# -----------------------#\n",
    "\n",
    "loadpaths = glob.glob(os.path.join(main_load_folder, '*results.h5'))\n",
    "loadpaths.sort()\n",
    "\n",
    "# parse the exp names\n",
    "expNames = [path.split('/')[-1][:23] for path in loadpaths]\n",
    "\n",
    "smooth_trajectories = []\n",
    "for path in loadpaths:\n",
    "    with h5py.File(path, 'r') as hf:\n",
    "        tracks_3D_smooth = hf['tracks_3D_smooth'][:]\n",
    "    smooth_trajectories.append(tracks_3D_smooth)\n",
    "    \n",
    "raw_trajectories = []\n",
    "for path in loadpaths:\n",
    "    with h5py.File(path, 'r') as hf:\n",
    "        tracks_3D_raw = hf['tracks_3D_raw'][:]\n",
    "    raw_trajectories.append(tracks_3D_raw)\n",
    "    \n",
    "    \n",
    "# -----------------------------#\n",
    "# load other useful information\n",
    "\n",
    "    \n",
    "other_info_loadpath = os.path.join(main_load_folder, 'winners_losers_inconclusive.h5')\n",
    "with h5py.File(other_info_loadpath, 'r') as hf:\n",
    "    winner_idxs = hf['winner_idxs'][:]\n",
    "    loser_idxs = hf['loser_idxs'][:]\n",
    "    conclusive_winner_loser = hf['conclusive_winner_loser'][:]\n",
    "    already_established_dominance = hf['already_established_dominance'][:] \n",
    "\n",
    "    \n",
    "\n",
    "fight_bout_load_path = os.path.join(main_load_folder, 'fightBouts.h5')\n",
    "with h5py.File(fight_bout_load_path, 'r') as hf:\n",
    "    refined_exps_fight_info = hf['refined_exps_fight_info'][:]           # all fight-bouts detected with refined boarders\n",
    "    fight_bout_info = hf['fight_bout_info'][:]                           # the figure7 windows\n",
    "    fight_bout_info_noDurThresh = hf['fight_bout_info_noDurThresh'][:]   # the figure7 windows without the size threshold (i.e. more fights"
   ]
  },
  {
   "cell_type": "code",
   "execution_count": 10,
   "id": "45627cdf-5bb2-455f-b1fb-71fe72fe8c3e",
   "metadata": {},
   "outputs": [
    {
     "data": {
      "text/plain": [
       "'/home/liam/temp/image_transfer/fight_detector_results/FishTank20200127_143538.png'"
      ]
     },
     "execution_count": 10,
     "metadata": {},
     "output_type": "execute_result"
    }
   ],
   "source": []
  },
  {
   "cell_type": "code",
   "execution_count": null,
   "id": "007a91ae-0cee-4ef3-b4d7-9cdf2a19b6dc",
   "metadata": {},
   "outputs": [],
   "source": []
  },
  {
   "cell_type": "markdown",
   "id": "230caee8-03b6-4227-b4b7-62d805a35f7c",
   "metadata": {},
   "source": [
    "# Plot all detected bouts from all experiments"
   ]
  },
  {
   "cell_type": "code",
   "execution_count": 28,
   "id": "310958a5-0fd2-4b83-be62-a4b6aac63fe2",
   "metadata": {},
   "outputs": [
    {
     "name": "stdout",
     "output_type": "stream",
     "text": [
      "FishTank20200127_143538 finished: 19.449291278840974 s\n",
      "FishTank20200129_140656 finished: 35.28962769382633 s\n",
      "FishTank20200130_153857 finished: 46.14810315100476 s\n",
      "FishTank20200130_181614 finished: 57.41504027484916 s\n",
      "FishTank20200207_161445 finished: 67.44163368991576 s\n",
      "FishTank20200213_154940 finished: 82.42667682492174 s\n",
      "FishTank20200214_153519 finished: 92.99783395696431 s\n",
      "FishTank20200217_160052 finished: 105.69214826403186 s\n",
      "FishTank20200218_153008 finished: 117.34042665781453 s\n",
      "FishTank20200316_163320 finished: 137.70598981482908 s\n",
      "FishTank20200327_154737 finished: 149.50173849286512 s\n",
      "FishTank20200330_161100 finished: 161.42352586099878 s\n",
      "FishTank20200331_162136 finished: 178.89885651692748 s\n",
      "FishTank20200520_152810 finished: 203.18753069499508 s\n",
      "FishTank20200521_154541 finished: 215.62737848400138 s\n",
      "FishTank20200525_161602 finished: 228.13545213686302 s\n"
     ]
    },
    {
     "name": "stderr",
     "output_type": "stream",
     "text": [
      "/home/liam/code/Dynamics_of_dominance/tools/visualize_windowed_distributions/WindowedDistributionPlotter.py:390: RuntimeWarning: invalid value encountered in true_divide\n",
      "  vec_ts = vec_ts / row_norms[:, np.newaxis]\n"
     ]
    },
    {
     "name": "stdout",
     "output_type": "stream",
     "text": [
      "FishTank20200526_160100 finished: 242.45791984791867 s\n",
      "FishTank20200527_152401 finished: 253.32523146900348 s\n",
      "FishTank20200824_151740 finished: 285.8628172748722 s\n",
      "FishTank20200828_155504 finished: 302.1626975189429 s\n"
     ]
    },
    {
     "name": "stderr",
     "output_type": "stream",
     "text": [
      "/home/liam/code/Dynamics_of_dominance/tools/visualize_windowed_distributions/WindowedDistributionPlotter.py:95: RuntimeWarning: More than 20 figures have been opened. Figures created through the pyplot interface (`matplotlib.pyplot.figure`) are retained until explicitly closed and may consume too much memory. (To control this warning, see the rcParam `figure.max_open_warning`).\n",
      "  fig, axs = plt.subplots(nrows=nrows, ncols=1, figsize=(10,6), sharex=False)\n"
     ]
    },
    {
     "name": "stdout",
     "output_type": "stream",
     "text": [
      "FishTank20200902_160124 finished: 316.893324584933 s\n",
      "FishTank20200903_160946 finished: 331.99565894086845 s\n",
      "\n",
      "finished FishTank20200903_160946: 331.9961057950277 s\n"
     ]
    }
   ],
   "source": [
    "t0 = time.perf_counter()\n",
    "\n",
    "saveFolder = '/home/liam/temp/image_transfer/refined_exps_fight_info'\n",
    "if ~os.path.exists(saveFolder):\n",
    "    os.makedirs(saveFolder, exist_ok=True)\n",
    "\n",
    "\n",
    "for expIdx in range(len(expNames)):\n",
    "\n",
    "    # plotting params\n",
    "    expName = expNames[expIdx]                  # the name of the exp, for plot title\n",
    "    figsavepath = os.path.join(saveFolder, \n",
    "                             f'{expName}.png')  # the filepath of the outputted png\n",
    "    window_size=6000                            # the window width [frames]\n",
    "    window_step=100                             # the step forward in time between windows [frames]\n",
    "    dpp_bins = np.linspace(0, 30, 300)          # visualization bins\n",
    "    tet_bins = np.linspace(-np.pi, np.pi, 300)  # visualization bins\n",
    "    dpp_vmax=150                                # the max count color threshold when plotting.\n",
    "    tet_vmax=150                                # the max count color threshold when plotting.\n",
    "    num_xticks=10                               # the number of xaxis time ticks\n",
    "    cmap='Blues'                                # colorscheme\n",
    "    fps=100                                     # for frame-minutes conversions\n",
    "    use_cbar=False                              # use/not-use the colorbar of the plots\n",
    "\n",
    "    traj = smooth_trajectories[expIdx]\n",
    "    expName = expNames[expIdx]\n",
    "    winIdx = winner_idxs[expIdx]\n",
    "    losIdx = loser_idxs[expIdx]\n",
    "    has_clear_winner = conclusive_winner_loser[expIdx]\n",
    "    exp_fight_bout_info = refined_exps_fight_info[refined_exps_fight_info[:,0]==expIdx][:,1:3]\n",
    "\n",
    "\n",
    "    compute_dpp_tet_tet_distribution_plot_with_fight_bouts(traj, expName, exp_fight_bout_info, figsavepath, dpp_bins, tet_bins,\n",
    "                                                           winnerIdx=winIdx, loserIdx=losIdx, has_clear_winner=has_clear_winner, \n",
    "                                                           window_size=window_size, window_step=window_step, dpp_vmax=dpp_vmax, \n",
    "                                                           tet_vmax=tet_vmax, num_xticks=num_xticks, cmap='Blues', fps=fps, use_cbar=use_cbar)\n",
    "    print(f'{expName} finished: {time.perf_counter()-t0} s')\n",
    "\n",
    "\n",
    "tE = time.perf_counter()\n",
    "print()\n",
    "print('finished {0}: {1} s'.format(expName, tE-t0))"
   ]
  },
  {
   "cell_type": "code",
   "execution_count": null,
   "id": "101bb5cb-39b3-4e1a-96b9-520d6d39eb87",
   "metadata": {},
   "outputs": [],
   "source": []
  },
  {
   "cell_type": "code",
   "execution_count": null,
   "id": "c94fe88b-7b8c-483f-b69f-5f887d28c9e6",
   "metadata": {},
   "outputs": [],
   "source": []
  },
  {
   "cell_type": "code",
   "execution_count": null,
   "id": "b9ec4c6a-b2a7-4b4d-8a4b-5526106ce3ac",
   "metadata": {},
   "outputs": [],
   "source": []
  },
  {
   "cell_type": "code",
   "execution_count": null,
   "id": "10e87c5f-bb2f-46fa-b432-22a453d12d1b",
   "metadata": {},
   "outputs": [],
   "source": []
  },
  {
   "cell_type": "code",
   "execution_count": null,
   "id": "49b80e0e-3273-46f5-857c-d0900e06a90e",
   "metadata": {},
   "outputs": [],
   "source": []
  },
  {
   "cell_type": "markdown",
   "id": "228df6e9-931b-41b3-aec5-6fa59333deb1",
   "metadata": {},
   "source": [
    "# Plot the bouts used for figure 7"
   ]
  },
  {
   "cell_type": "code",
   "execution_count": 13,
   "id": "96c61535-c8dd-472e-b71c-c5a71b322dab",
   "metadata": {},
   "outputs": [
    {
     "name": "stdout",
     "output_type": "stream",
     "text": [
      "FishTank20200127_143538 finished: 19.566051193978637 s\n",
      "FishTank20200129_140656 finished: 36.18120930995792 s\n",
      "FishTank20200130_153857 finished: 46.94131111493334 s\n",
      "FishTank20200130_181614 finished: 58.080179505981505 s\n",
      "FishTank20200207_161445 finished: 68.07872270094231 s\n",
      "FishTank20200213_154940 finished: 82.98493374395184 s\n",
      "FishTank20200214_153519 finished: 93.42429922288284 s\n",
      "FishTank20200217_160052 finished: 106.00178869394585 s\n",
      "FishTank20200218_153008 finished: 117.64050105400383 s\n",
      "FishTank20200316_163320 finished: 137.86001128493808 s\n",
      "FishTank20200327_154737 finished: 149.56159618892707 s\n",
      "FishTank20200330_161100 finished: 161.35759116290137 s\n",
      "FishTank20200331_162136 finished: 177.65423091407865 s\n",
      "FishTank20200520_152810 finished: 201.69326737103984 s\n",
      "FishTank20200521_154541 finished: 213.94117572391406 s\n",
      "FishTank20200525_161602 finished: 226.37104637594894 s\n",
      "FishTank20200526_160100 finished: 240.5831644369755 s\n",
      "FishTank20200527_152401 finished: 251.17372226691805 s\n",
      "FishTank20200824_151740 finished: 283.27719157096 s\n",
      "FishTank20200828_155504 finished: 299.3877296738792 s\n",
      "FishTank20200902_160124 finished: 313.8890533640515 s\n",
      "FishTank20200903_160946 finished: 328.71784708905034 s\n",
      "\n",
      "finished FishTank20200903_160946: 328.718400004087 s\n"
     ]
    }
   ],
   "source": [
    "t0 = time.perf_counter()\n",
    "\n",
    "saveFolder = '/home/liam/temp/image_transfer/fight_bout_info'\n",
    "if ~os.path.exists(saveFolder):\n",
    "    os.makedirs(saveFolder, exist_ok=True)\n",
    "\n",
    "\n",
    "for expIdx in range(len(expNames)):\n",
    "\n",
    "    # plotting params\n",
    "    expName = expNames[expIdx]                  # the name of the exp, for plot title\n",
    "    figsavepath = os.path.join(saveFolder, \n",
    "                             f'{expName}.png')  # the filepath of the outputted png\n",
    "    window_size=6000                            # the window width [frames]\n",
    "    window_step=100                             # the step forward in time between windows [frames]\n",
    "    dpp_bins = np.linspace(0, 30, 300)          # visualization bins\n",
    "    tet_bins = np.linspace(-np.pi, np.pi, 300)  # visualization bins\n",
    "    dpp_vmax=150                                # the max count color threshold when plotting.\n",
    "    tet_vmax=150                                # the max count color threshold when plotting.\n",
    "    num_xticks=10                               # the number of xaxis time ticks\n",
    "    cmap='Blues'                                # colorscheme\n",
    "    fps=100                                     # for frame-minutes conversions\n",
    "    use_cbar=False                              # use/not-use the colorbar of the plots\n",
    "\n",
    "    traj = smooth_trajectories[expIdx]\n",
    "    expName = expNames[expIdx]\n",
    "    winIdx = winner_idxs[expIdx]\n",
    "    losIdx = loser_idxs[expIdx]\n",
    "    has_clear_winner = conclusive_winner_loser[expIdx]\n",
    "    exp_fight_bout_info = fight_bout_info[fight_bout_info[:,0]==expIdx][:,1:3]\n",
    "\n",
    "\n",
    "    compute_dpp_tet_tet_distribution_plot_with_fight_bouts(traj, expName, exp_fight_bout_info, figsavepath, dpp_bins, tet_bins,\n",
    "                                                           winnerIdx=winIdx, loserIdx=losIdx, has_clear_winner=has_clear_winner, \n",
    "                                                           window_size=window_size, window_step=window_step, dpp_vmax=dpp_vmax, \n",
    "                                                           tet_vmax=tet_vmax, num_xticks=num_xticks, cmap='Blues', fps=fps, use_cbar=use_cbar)\n",
    "    print(f'{expName} finished: {time.perf_counter()-t0} s')\n",
    "\n",
    "\n",
    "tE = time.perf_counter()\n",
    "print()\n",
    "print('finished {0}: {1} s'.format(expName, tE-t0))"
   ]
  },
  {
   "cell_type": "code",
   "execution_count": null,
   "id": "d3a0b4f2-b3ea-4087-8009-edd845321f34",
   "metadata": {},
   "outputs": [],
   "source": []
  },
  {
   "cell_type": "code",
   "execution_count": null,
   "id": "0128bd3f-6b54-4dc3-bccc-38f029cf8599",
   "metadata": {},
   "outputs": [],
   "source": []
  },
  {
   "cell_type": "code",
   "execution_count": null,
   "id": "0e9e294a-792c-4c45-9b7b-938b3eae1267",
   "metadata": {},
   "outputs": [],
   "source": []
  },
  {
   "cell_type": "code",
   "execution_count": null,
   "id": "a8456ca1-8cc3-4a4a-a11e-f586ce0921b0",
   "metadata": {},
   "outputs": [],
   "source": []
  },
  {
   "cell_type": "markdown",
   "id": "a5a3d515-626c-4e27-a963-32258f5738fb",
   "metadata": {},
   "source": [
    "# Plot the figure 7 bouts but without thresholding on duration (i.e. more fights than figure 7 bout set)"
   ]
  },
  {
   "cell_type": "code",
   "execution_count": 14,
   "id": "d8493b65-1d3c-4e16-973b-a310c3137e40",
   "metadata": {},
   "outputs": [
    {
     "name": "stdout",
     "output_type": "stream",
     "text": [
      "FishTank20200127_143538 finished: 19.526265108026564 s\n",
      "FishTank20200129_140656 finished: 35.510917973006144 s\n",
      "FishTank20200130_153857 finished: 46.41872395505197 s\n",
      "FishTank20200130_181614 finished: 58.64189301687293 s\n",
      "FishTank20200207_161445 finished: 68.59135012002662 s\n",
      "FishTank20200213_154940 finished: 83.36718784994446 s\n",
      "FishTank20200214_153519 finished: 93.8108087410219 s\n",
      "FishTank20200217_160052 finished: 106.34544194396585 s\n",
      "FishTank20200218_153008 finished: 117.82138499803841 s\n",
      "FishTank20200316_163320 finished: 137.94553469889797 s\n",
      "FishTank20200327_154737 finished: 149.55468860291876 s\n",
      "FishTank20200330_161100 finished: 161.34889133786783 s\n",
      "FishTank20200331_162136 finished: 176.8106795400381 s\n",
      "FishTank20200520_152810 finished: 201.3814470958896 s\n",
      "FishTank20200521_154541 finished: 213.82960274000652 s\n",
      "FishTank20200525_161602 finished: 226.31580829201266 s\n",
      "FishTank20200526_160100 finished: 240.62033270602114 s\n",
      "FishTank20200527_152401 finished: 251.36723829386756 s\n",
      "FishTank20200824_151740 finished: 284.9395697279833 s\n",
      "FishTank20200828_155504 finished: 301.1612357478589 s\n",
      "FishTank20200902_160124 finished: 315.9976663158741 s\n",
      "FishTank20200903_160946 finished: 331.025286447024 s\n",
      "\n",
      "finished FishTank20200903_160946: 331.0257154589053 s\n"
     ]
    }
   ],
   "source": [
    "t0 = time.perf_counter()\n",
    "\n",
    "saveFolder = '/home/liam/temp/image_transfer/fight_bout_info_noDurThresh'\n",
    "if ~os.path.exists(saveFolder):\n",
    "    os.makedirs(saveFolder, exist_ok=True)\n",
    "\n",
    "\n",
    "for expIdx in range(len(expNames)):\n",
    "\n",
    "    # plotting params\n",
    "    expName = expNames[expIdx]                  # the name of the exp, for plot title\n",
    "    figsavepath = os.path.join(saveFolder, \n",
    "                             f'{expName}.png')  # the filepath of the outputted png\n",
    "    window_size=6000                            # the window width [frames]\n",
    "    window_step=100                             # the step forward in time between windows [frames]\n",
    "    dpp_bins = np.linspace(0, 30, 300)          # visualization bins\n",
    "    tet_bins = np.linspace(-np.pi, np.pi, 300)  # visualization bins\n",
    "    dpp_vmax=150                                # the max count color threshold when plotting.\n",
    "    tet_vmax=150                                # the max count color threshold when plotting.\n",
    "    num_xticks=10                               # the number of xaxis time ticks\n",
    "    cmap='Blues'                                # colorscheme\n",
    "    fps=100                                     # for frame-minutes conversions\n",
    "    use_cbar=False                              # use/not-use the colorbar of the plots\n",
    "\n",
    "    traj = smooth_trajectories[expIdx]\n",
    "    expName = expNames[expIdx]\n",
    "    winIdx = winner_idxs[expIdx]\n",
    "    losIdx = loser_idxs[expIdx]\n",
    "    has_clear_winner = conclusive_winner_loser[expIdx]\n",
    "    exp_fight_bout_info = fight_bout_info_noDurThresh[fight_bout_info_noDurThresho[:,0]==expIdx][:,1:3]\n",
    "\n",
    "\n",
    "    compute_dpp_tet_tet_distribution_plot_with_fight_bouts(traj, expName, exp_fight_bout_info, figsavepath, dpp_bins, tet_bins,\n",
    "                                                           winnerIdx=winIdx, loserIdx=losIdx, has_clear_winner=has_clear_winner, \n",
    "                                                           window_size=window_size, window_step=window_step, dpp_vmax=dpp_vmax, \n",
    "                                                           tet_vmax=tet_vmax, num_xticks=num_xticks, cmap='Blues', fps=fps, use_cbar=use_cbar)\n",
    "    print(f'{expName} finished: {time.perf_counter()-t0} s')\n",
    "\n",
    "\n",
    "tE = time.perf_counter()\n",
    "print()\n",
    "print('finished {0}: {1} s'.format(expName, tE-t0))"
   ]
  },
  {
   "cell_type": "code",
   "execution_count": null,
   "id": "e4d65ef6-c6c4-460d-aa0e-e4f7f3df7eca",
   "metadata": {},
   "outputs": [],
   "source": []
  },
  {
   "cell_type": "code",
   "execution_count": 15,
   "id": "98c2d46d-bc37-4307-a778-9f77957cf310",
   "metadata": {},
   "outputs": [
    {
     "data": {
      "text/plain": [
       "array([], shape=(0, 4), dtype=int64)"
      ]
     },
     "execution_count": 15,
     "metadata": {},
     "output_type": "execute_result"
    }
   ],
   "source": [
    "exp_fight_bout_info"
   ]
  },
  {
   "cell_type": "code",
   "execution_count": 16,
   "id": "8391369a-3526-4e20-9ec0-fb5f4b4a78a3",
   "metadata": {},
   "outputs": [
    {
     "data": {
      "text/plain": [
       "array([[     2,  31500, 175400, 143900],\n",
       "       [     2, 301300, 319600,  18300]])"
      ]
     },
     "execution_count": 16,
     "metadata": {},
     "output_type": "execute_result"
    }
   ],
   "source": [
    "exp_fight_bout_info = fight_bout_info_noDurThresh[fight_bout_info_noDurThresh[:,0]==2]\n",
    "exp_fight_bout_info"
   ]
  },
  {
   "cell_type": "code",
   "execution_count": null,
   "id": "56282b08-6536-434e-8e15-d5523450ca9d",
   "metadata": {},
   "outputs": [],
   "source": []
  }
 ],
 "metadata": {
  "kernelspec": {
   "display_name": "analysis",
   "language": "python",
   "name": "analysis"
  },
  "language_info": {
   "codemirror_mode": {
    "name": "ipython",
    "version": 3
   },
   "file_extension": ".py",
   "mimetype": "text/x-python",
   "name": "python",
   "nbconvert_exporter": "python",
   "pygments_lexer": "ipython3",
   "version": "3.9.7"
  }
 },
 "nbformat": 4,
 "nbformat_minor": 5
}

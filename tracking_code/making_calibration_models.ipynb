{
 "cells": [
  {
   "cell_type": "code",
   "execution_count": null,
   "metadata": {},
   "outputs": [],
   "source": []
  },
  {
   "cell_type": "markdown",
   "metadata": {},
   "source": [
    "# Inputs and explanation"
   ]
  },
  {
   "cell_type": "markdown",
   "metadata": {},
   "source": [
    "We will read in image coordinates and measured coordinates\n",
    "\n",
    "We will then regress 5 functions in total, and save them to a new subfolder called 'python_calibration_models'\n",
    "\n",
    "(1) imCoords_to_XYZ.joblib  \n",
    "\n",
    "(2) xy_yz_to_xz.joblib  \n",
    "\n",
    "(3) xz_xy_to_yz.joblib \n",
    "\n",
    "(4) xz_yz_to_xy.joblib"
   ]
  },
  {
   "cell_type": "code",
   "execution_count": null,
   "metadata": {},
   "outputs": [],
   "source": []
  },
  {
   "cell_type": "markdown",
   "metadata": {},
   "source": [
    "# imports"
   ]
  },
  {
   "cell_type": "code",
   "execution_count": 2,
   "metadata": {},
   "outputs": [
    {
     "name": "stdout",
     "output_type": "stream",
     "text": [
      "The autoreload extension is already loaded. To reload it, use:\n",
      "  %reload_ext autoreload\n"
     ]
    }
   ],
   "source": [
    "import numpy as np\n",
    "np.set_printoptions(suppress=True)\n",
    "import h5py\n",
    "import pandas as pd\n",
    "from scipy.interpolate import interp1d\n",
    "import scipy as sp\n",
    "import pickle\n",
    "import glob\n",
    "import scipy.io as sio\n",
    "from sklearn.linear_model import LinearRegression\n",
    "from sklearn.svm import SVR\n",
    "from sklearn.pipeline import make_pipeline\n",
    "from sklearn.preprocessing import StandardScaler\n",
    "from sklearn.preprocessing import PolynomialFeatures\n",
    "from sklearn.pipeline import Pipeline\n",
    "from sklearn.svm import SVC\n",
    "from joblib import dump, load\n",
    "from sklearn.linear_model import LinearRegression\n",
    "from sklearn.linear_model import Lasso, Ridge, HuberRegressor\n",
    "from sklearn.model_selection import GridSearchCV\n",
    "from sklearn.model_selection import train_test_split\n",
    "from scipy.optimize import linear_sum_assignment\n",
    "from scipy.signal import savgol_filter, savgol_coeffs\n",
    "import matplotlib.pyplot as plt\n",
    "from matplotlib.backends.backend_agg import FigureCanvasAgg as FigureCanvas\n",
    "from mpl_toolkits.mplot3d import Axes3D  \n",
    "import time\n",
    "%load_ext autoreload\n",
    "import os\n",
    "%autoreload 2\n",
    "import matplotlib.pyplot as plt\n",
    "import seaborn as sns\n",
    "%matplotlib widget\n",
    "from mpl_toolkits.mplot3d import Axes3D\n",
    "from IPython.display import display\n",
    "from ipywidgets import Video, Image, VBox, Text"
   ]
  },
  {
   "cell_type": "code",
   "execution_count": null,
   "metadata": {},
   "outputs": [],
   "source": []
  },
  {
   "cell_type": "code",
   "execution_count": null,
   "metadata": {},
   "outputs": [],
   "source": []
  },
  {
   "cell_type": "markdown",
   "metadata": {},
   "source": [
    "# 20200120_calibration"
   ]
  },
  {
   "cell_type": "code",
   "execution_count": null,
   "metadata": {},
   "outputs": [],
   "source": []
  },
  {
   "cell_type": "markdown",
   "metadata": {},
   "source": [
    "## Load the data"
   ]
  },
  {
   "cell_type": "code",
   "execution_count": 3,
   "metadata": {},
   "outputs": [
    {
     "name": "stdout",
     "output_type": "stream",
     "text": [
      "\n",
      "calibration_images_shape:  (3, 4, 1024, 1280)\n",
      "\n",
      "\n",
      "-- Full Measured Coordinates --\n",
      "(numBalls, 3D_coord)\n",
      "(200, 3)\n",
      "\n",
      "-- Full Image coordinates --\n",
      "(numCams, numBalls, 2D_coord)\n",
      "(3, 200, 2)\n",
      "200\n"
     ]
    }
   ],
   "source": [
    "calibration_folder_path = './20200120_calibration/'      \n",
    "\n",
    "\n",
    "# set the folder containing the calibration information\n",
    "measured_coord_folder = os.path.join(calibration_folder_path, 'measured_coords/')\n",
    "image_coord_folder = os.path.join(calibration_folder_path, 'image_coords/')\n",
    "\n",
    "# make a list of the text files we need to read from each position folder\n",
    "imcoord_textfileNames = ['Ex_data_corner.txt', 'Ex_data.txt', 'Ez_data_corner.txt', 'Ez_data.txt', \\\n",
    "                         'Fx_data_corner.txt', 'Fx_data.txt', 'Fy_data_corner.txt', 'Fy_data.txt', \\\n",
    "                         'Gy_data_corner.txt', 'Gy_data.txt', 'Gz_data_corner.txt', 'Gz_data.txt']\n",
    "\n",
    "measured_textfileNames = ['pos1_measured.txt', 'pos1corner_measured.txt',\n",
    "                          'pos2_measured.txt', 'pos2corner_measured.txt',\n",
    "                          'pos3_measured.txt', 'pos3corner_measured.txt',\n",
    "                          'pos4_measured.txt', 'pos4corner_measured.txt']\n",
    "\n",
    "position_names = ['position1', 'position2', 'position3', 'position4']\n",
    "\n",
    "# load the measured coordinates\n",
    "measured_coordinates = []\n",
    "for i in range(0, len(measured_textfileNames), 2):\n",
    "    # get paths\n",
    "    non_corner_path = os.path.join(measured_coord_folder, measured_textfileNames[i])\n",
    "    corner_path = os.path.join(measured_coord_folder, measured_textfileNames[i+1])\n",
    "    # load the data\n",
    "    non_corner_data = np.loadtxt(non_corner_path)\n",
    "    corner_data = np.loadtxt(corner_path)\n",
    "    # combine the two\n",
    "    position_measured_coords = np.concatenate((non_corner_data, corner_data))\n",
    "    # record\n",
    "    measured_coordinates.append(position_measured_coords)\n",
    "full_measured_coordinates = np.vstack(measured_coordinates)\n",
    "\n",
    "# load the image coordinates\n",
    "xz_imCoords = []\n",
    "xy_imCoords = []\n",
    "yz_imCoords = []\n",
    "\n",
    "for positionIdx in range(4):\n",
    "    folder_name = os.path.join(image_coord_folder, position_names[positionIdx])\n",
    "    \n",
    "    Ex_corner_data = np.loadtxt(os.path.join(folder_name, imcoord_textfileNames[0]))\n",
    "    Ex_non_corner_data = np.loadtxt(os.path.join(folder_name, imcoord_textfileNames[1]))\n",
    "    Ez_corner_data = np.loadtxt(os.path.join(folder_name, imcoord_textfileNames[2]))\n",
    "    Ez_non_corner_data = np.loadtxt(os.path.join(folder_name, imcoord_textfileNames[3]))\n",
    "    Ex_data = np.concatenate((Ex_non_corner_data, Ex_corner_data))\n",
    "    Ez_data = np.concatenate((Ez_non_corner_data, Ez_corner_data))\n",
    "    \n",
    "    Fx_corner_data = np.loadtxt(os.path.join(folder_name, imcoord_textfileNames[4]))\n",
    "    Fx_non_corner_data = np.loadtxt(os.path.join(folder_name, imcoord_textfileNames[5]))\n",
    "    Fy_corner_data = np.loadtxt(os.path.join(folder_name, imcoord_textfileNames[6]))\n",
    "    Fy_non_corner_data = np.loadtxt(os.path.join(folder_name, imcoord_textfileNames[7]))\n",
    "    Fx_data = np.concatenate((Fx_non_corner_data, Fx_corner_data))\n",
    "    Fy_data = np.concatenate((Fy_non_corner_data, Fy_corner_data))\n",
    "    \n",
    "    Gy_corner_data = np.loadtxt(os.path.join(folder_name, imcoord_textfileNames[8]))\n",
    "    Gy_non_corner_data = np.loadtxt(os.path.join(folder_name, imcoord_textfileNames[9]))\n",
    "    Gz_corner_data = np.loadtxt(os.path.join(folder_name, imcoord_textfileNames[10]))\n",
    "    Gz_non_corner_data = np.loadtxt(os.path.join(folder_name, imcoord_textfileNames[11]))\n",
    "    Gy_data = np.concatenate((Gy_non_corner_data, Gy_corner_data))\n",
    "    Gz_data = np.concatenate((Gz_non_corner_data, Gz_corner_data))\n",
    "    \n",
    "    # Combine the two arrays for each cam\n",
    "    # BIG DANGER OF A SWAP! e.g (Ex,Ez), or (Ez,Ex)\n",
    "    # WE WANT OPENCV FORMAT I THINK?\n",
    "    xz_data = np.stack([Ex_data, Ez_data], axis=1)\n",
    "    xy_data = np.stack([Fx_data, Fy_data], axis=1)\n",
    "    yz_data = np.stack([Gy_data, Gz_data], axis=1)\n",
    "    \n",
    "    # record for this position\n",
    "    xz_imCoords.append(xz_data)\n",
    "    xy_imCoords.append(xy_data)\n",
    "    yz_imCoords.append(yz_data)\n",
    "    \n",
    "# combine the data for each position\n",
    "xz_imCoords = np.concatenate(xz_imCoords)\n",
    "xy_imCoords = np.concatenate(xy_imCoords)\n",
    "yz_imCoords = np.concatenate(yz_imCoords)\n",
    "\n",
    "# combine into master array\n",
    "full_image_coordinates = np.stack([xz_imCoords, xy_imCoords, yz_imCoords], axis=0)\n",
    "\n",
    "# load the raw images (if you like - not necessary for regressing functions)\n",
    "raw_image_folder = os.path.join(calibration_folder_path, 'raw_images')\n",
    "\n",
    "image_extensions = ['xz_rotation1.tif', 'xz_rotation2.tif', 'xz_rotation3.tif', 'xz_rotation4.tif',\n",
    "                    'xy_rotation1.tif', 'xy_rotation2.tif', 'xy_rotation3.tif', 'xy_rotation4.tif',\n",
    "                    'yz_rotation1.tif', 'yz_rotation2.tif', 'yz_rotation3.tif', 'yz_rotation4.tif',\n",
    "                    ]\n",
    "\n",
    "image_filepaths = [os.path.join(raw_image_folder, image_extension) for image_extension in image_extensions]\n",
    "\n",
    "# load the images as a list\n",
    "images = []\n",
    "for imPath in image_filepaths:\n",
    "    images.append(plt.imread(imPath))\n",
    "    \n",
    "# turn into an array of shape (numCams, numRotations, 1024, 1280)\n",
    "calibration_images = np.stack(images)\n",
    "calibration_images = calibration_images.reshape(3,4,1024,1280)\n",
    "print()\n",
    "print('calibration_images_shape: ', calibration_images.shape)\n",
    "print()\n",
    "print()\n",
    "\n",
    "print('-- Full Measured Coordinates --')\n",
    "print('(numBalls, 3D_coord)')\n",
    "print(full_measured_coordinates.shape)\n",
    "print()\n",
    "print('-- Full Image coordinates --')\n",
    "print('(numCams, numBalls, 2D_coord)')\n",
    "print(full_image_coordinates.shape)\n",
    "\n",
    "total_numBalls = full_measured_coordinates.shape[0]\n",
    "print(total_numBalls)"
   ]
  },
  {
   "cell_type": "code",
   "execution_count": null,
   "metadata": {},
   "outputs": [],
   "source": []
  },
  {
   "cell_type": "code",
   "execution_count": null,
   "metadata": {},
   "outputs": [],
   "source": []
  },
  {
   "cell_type": "code",
   "execution_count": null,
   "metadata": {},
   "outputs": [],
   "source": []
  },
  {
   "cell_type": "markdown",
   "metadata": {},
   "source": [
    "## Parse to within interior cage and inspect"
   ]
  },
  {
   "cell_type": "code",
   "execution_count": 4,
   "metadata": {
    "tags": []
   },
   "outputs": [
    {
     "data": {
      "text/plain": [
       "Text(0.5, 0, 'Z [cm]')"
      ]
     },
     "execution_count": 4,
     "metadata": {},
     "output_type": "execute_result"
    },
    {
     "data": {
      "application/vnd.jupyter.widget-view+json": {
       "model_id": "a9439a68d26e457dacbfd59ad03b1d84",
       "version_major": 2,
       "version_minor": 0
      },
      "text/html": [
       "\n",
       "            <div style=\"display: inline-block;\">\n",
       "                <div class=\"jupyter-widgets widget-label\" style=\"text-align: center;\">\n",
       "                    Figure\n",
       "                </div>\n",
       "                <img src='data:image/png;base64,iVBORw0KGgoAAAANSUhEUgAAAyAAAAMgCAYAAADbcAZoAAAAOXRFWHRTb2Z0d2FyZQBNYXRwbG90bGliIHZlcnNpb24zLjQuMywgaHR0cHM6Ly9tYXRwbG90bGliLm9yZy/MnkTPAAAACXBIWXMAAA9hAAAPYQGoP6dpAAEAAElEQVR4nOy9eXRb53nu+2AiCZIgBlKc50ESRXnQYMmk3ESRYp+4bpLVpDlpepo4V1pntc2wmtv2Jl1Ok7q9TZqkp2nyR69Pcxoldk/dtD2pGvvYx40jmY4dzzbBeQAIcB4FgAPmad8/lG97A8SwAewNbkrvby2txCC490dsAPt9vnd4VBzHcSAIgiAIgiAIgigC6v1eAEEQBEEQBEEQtw8kQAiCIAiCIAiCKBokQAiCIAiCIAiCKBokQAiCIAiCIAiCKBokQAiCIAiCIAiCKBokQAiCIAiCIAiCKBokQAiCIAiCIAiCKBokQAiCIAiCIAiCKBokQAiCIAiCIAiCKBokQAiCIAiCIAiCKBokQAiCIAiCIAiCKBokQAiCIAiCIAiCKBokQAiCIAiCIAiCKBokQAiCIAiCIAiCKBokQAiCIAiCIAiCKBokQAiCIAiCIAiCKBokQAiCIAiCIAiCKBokQAiCIAiCIAiCKBokQAiCIAiCIAiCKBokQAiCIAiCIAiCKBokQAiCIAiCIAiCKBokQAiCIAiCIAiCKBokQAiCIAiCIAiCKBokQAiCIAiCIAiCKBokQAiCIAiCIAiCKBokQAiCIAiCIAiCKBokQAiCIAiCIAiCKBokQAiCIAiCIAiCKBokQAiCIAiCIAiCKBokQAiCIAiCIAiCKBokQAiCIAiCIAiCKBokQAiCIAiCIAiCKBokQAiCIAiCIAiCKBokQAiCIAiCIAiCKBokQAiCIAiCIAiCKBokQAiCIAiCIAiCKBokQAiCIAiCIAiCKBokQAiCIAiCIAiCKBokQAiCIAiCIAiCKBokQAiCIAiCIAiCKBokQAiCIAiCIAiCKBokQAiCIAiCIAiCKBokQAiCIAiCIAiCKBokQAiCIAiCIAiCKBokQAiCIAiCIAiCKBokQAiCIAiCIAiCKBokQAiCIAiCIAiCKBokQAiCIAiCIAiCKBokQAiCIAiCIAiCKBokQAiCIAiCIAiCKBokQAiCIAiCIAiCKBokQAiCIAiCIAiCKBokQAiCIAiCIAiCKBokQAiCIAiCIAiCKBokQAiCIAiCIAiCKBokQAiCIAiCIAiCKBokQAiCIAiCIAiCKBokQAiCIAiCIAiCKBokQAiCIAiCIAiCKBokQAiCIAiCIAiCKBokQAiCIAiCIAiCKBokQAiCIAiCIAiCKBokQAiCIAiCIAiCKBokQAiCIAiCIAiCKBokQAiCIAiCIAiCKBokQAiCIAiCIAiCKBokQAiCIAiCIAiCKBokQAiCIAiCIAiCKBokQAiCIAiCIAiCKBokQAiCIAiCIAiCKBokQAiCIAiCIAiCKBokQAiCIAiCIAiCKBokQAiCIAiCIAiCKBokQAiCIAiCIAiCKBokQAiCIAiCIAiCKBokQAiCIAiCIAiCKBokQAiCIAiCIAiCKBokQAiCIAiCIAiCKBokQAiCIAiCIAiCKBokQAiCIAiCIAiCKBokQAiCIAiCIAiCKBokQAiCIAiCIAiCKBokQAiCIAiCIAiCKBokQAiCIAiCIAiCKBokQAiCIAiCIAiCKBokQAiCIAiCIAiCKBokQAiCIAiCIAiCKBokQAiCIAiCIAiCKBokQAiCIAiCIAiCKBokQAiCIAiCIAiCKBokQAiCIAiCIAiCKBokQAiCIAiCIAiCKBokQAiCIAiCIAiCKBokQAiCIAiCIAiCKBokQAiCIAiCIAiCKBokQAiCIAiCIAiCKBokQAiCIAiCIAiCKBokQAiCIAiCIAiCKBokQAiCIAiCIAiCKBokQAiCIAiCIAiCKBokQAiCIAiCIAiCKBokQAiCIAiCIAiCKBokQAiCIAiCIAiCKBokQAiCIAiCIAiCKBokQAiCIAiCIAiCKBokQAiCIAiCIAiCKBokQAiCIAiCIAiCKBokQAiCIAiCIAiCKBokQAiCIAiCIAiCKBokQAiCIAiCIAiCKBokQAiCIAiCIAiCKBokQAiCIAiCIAiCKBokQAiCIAiCIAiCKBokQAiCIAiCIAiCKBokQAiCIAiCIAiCKBokQAiCIAiCIAiCKBokQAiCIAiCIAiCKBokQAiCIAiCIAiCKBokQAiCIAiCIAiCKBokQAiCIAiCIAiCKBokQAiCIAiCIAiCKBokQAiCIAiCIAiCKBokQAiCIAiCIAiCKBokQAiCIAiCIAiCKBokQAiCIAiCIAiCKBokQAiCIAiCIAiCKBokQAiCIAiCIAiCKBokQAiCIAiCIAiCKBokQAiCIAiCIAiCKBokQAiCIAiCIAiCKBokQAiCIAiCIAiCKBokQAiCIAiCIAiCKBokQAiCIAiCIAiCKBokQAiCIAiCIAiCKBokQAiCIAiCIAiCKBokQAiCIAiCIAiCKBokQAiCIAiCIAiCKBokQAiCIAiCIAiCKBokQAiCIAiCIAiCKBokQAiCIAiCIAiCKBokQAiCIAiCIAiCKBokQAiCIAiCIAiCKBra/V4AQRDE7QDHcYhEIggGg9BqtdBqtdBoNFCr1VCpVPu9PIIgCIIoGiqO47j9XgRBEMStTDweRzgcRiwWQygU4gWHSqWCWq2GTqeDRqOBVquFSqUiQUIQBEHc0pAAIQiCkAmO4xCLxRCJRMBxHFQqFcLhMNRqNTiOA8dxiMfj/M9UKhUvRFiGhAQJQRAEcatBAoQgCEIGWMlVLBYDcDPbwXEcL0BSPV+MIEn1uwRBEARxkKAeEIIgCIlhWY94PJ7Q45Fpv4cJDiYwmCCJRqOIRCIJgoSVbJEgIQiCIA4iJEAIgiAkggmGaDQKAAU1mGcTJLOzs2hpaUFlZSWfHSFBQhAEQRwESIAQBEFIQDwe57MeACTv3UgWJJubm2hoaEAkEkE4HOZ/LizXIkFCEARBKBESIARBEAXA+jZSlVzJiVBwJK8jEonwzxEKEjZliyAIgiD2ExIgBEEQecJxHHZ3dxGPx1FaWrqvnh6sP0S4NiZIUmVIhFO2CIIgCKKYkAAhCILIAxbcT09PQ6/Xo6enp6jnZ1O1Mv08myBRq9V7mtpJkBAEQRByQwKEIAgiB5i3RzQa5Uuu9muaeS7nFStIkntISJAQBEEQUkMChCAIQiTJ3h5qtXrfBEihwkAoSNj6mWM7c2snQUIQBEHIAQkQgiAIEaTz9shWCiUnUp2X/S0kSAiCIIhiQAKEIAgiA0JvD47jUjaaH8QMiJhjCwUJ+xcKhRAOhwGABAlBEASRFyRACIIg0hCPxxGNRhNKrpIDbLVazf+8mBQz8yL0NNFoNHsESSgUwtbWFnQ6Haqrq/mRv/s5FYwgCIJQLiRACIIgkhA2aHMcl9VUcL9KsPaLVIJkY2MDer0eFRUV/HPUajV0Oh2fISFBQhAEQQAkQAiCIBJIbjTPJj72qwdkP3tPkmGvkUqlgk6nS8iQBINB/jksM0KChCAI4vaGBAhBEMQvYVmPWCwmOjjONYCWMuBWigBJJl3JVjweJ0FCEARBkAAhCIJI5e0hNhBWqVSIx+M5nYv9XiEoLVDPliVKJ0hCoRCCwSA/0pgECUEQxK0PCRCCIG5rUnl75BL05vLcSCSC9fV1GI1G6PX6goNrpWVAxK4nuayNCZJYLIZYLJZ27C8JEoIgiFsDEiAEQdy2MJ+LXLMeQsRmQDweD4aHh6FSqRAMBlFSUgKz2cz/Kysry/m8twpMkKjVagCJgiQajfI/Ty7ZytafQxAEQSgTEiAEQdx2sOCWTbkqZGc92+9xHAen04nZ2Vl0d3ejvr4eHMdhZ2cHHo8Hy8vLmJqaQllZWYIgKSkpEfV33IqkEyTRaBSRSIQECUEQxAGHBAhBELcVYrw9ciHTNKpQKISRkRH4/X6cOXMGBoMB4XAYarUaFosFFosFABCNRrG1tQWPx4P5+XmMj4+joqKCFyMmkwk6nW7PeW8XchEkOp2ON0VkzycIgiCUBQkQgiBuC3L19hBLOgHicrkwMjICs9mMgYEBfjxtKrRaLWpqalBTUwPgZq8IEyQOhwM+nw8GgwEmk4kXJOxvuh3JJkiAm8IyGo2ivLycFyUkSAiCIJQBCRCCIG55OI5DIBBALBaDVquVtFQnWYDE43HY7XbMz8/j6NGjaG5uTjiXmPPqdDocOnQIhw4dAgDeadzj8cBms/FTo9bX16HT6WA0GqHRaCT5ew4i6QTJ66+/jjvuuAOVlZV7GtpJkBAEQewfJEAIgrilYVmPsbExlJeXo6enR9LjCwVIIBDAyMgIIpEI7r33XhgMBknOUVpairq6OtTV1QEAgsEgrFYrIpEIJicnEQ6HYTQa+ZKtqqqqogfXSioJEwpM5sTO3gcsQ6JSqUiQEARB7BMkQAiCuCVJ5e0hB0yAbGxsYHR0FHV1dejt7ZU1I1FWVoaSkhI0NDSgvr4egUAAHo8HHo8HS0tLiMViCYLEYDAUJbhWakkY6w9hCMvx0gkSlikjCIIgpIcECEEQtxypvD3UarUsATLHcfB6vRgeHkZfXx8aGxsLOp7KZoPa6US8sxNcd3f65/0yOFapVCgvL0d5eTmamprAcRz8fj8vSBYWFsBxHN8/YjabUVlZeVsE1+mudyZBEg6H+XKu5Kb22+E1IwiCKAYkQAiCuKVI5+2RaVpVvvh8PjgcDkSjUQwMDKCioiL/g7nd0F++DO21a/xD0YsXEbhyBTCbU/5Kqr9HpVKhoqICFRUVaG5u5gUSEyROpxMqlSph5G95efltHVyLFSTJJVu382tGEARRCCRACIK4Jcjm7SHWMFAsKysrmJiYgMlkQklJSWHiA4D+8mVoBgcTHtMMDkJ/6RICV6/ueb7Y4FelUsFgMMBgMKC1tRXxeBy7u7vweDzY3NyE3W6HVqtNGPkrhUv7QUYoSJjIY8I2nUs7CRKCIAjxkAAhCOLAk6rkKjkYVKvV/M8LIRaLYXJyEuvr67jzzjsRj8fhdDoLOqbKZkvIfPCPx2LQXrsGld2+pxwr34yOWq2G0WiE0WhEe3s74vE4tre34fF4sLa2hunp6bxc2pUafBe6Lvb7JEgIgiCkgwQIQRAHGpb1SC65SkaKEqzd3V0MDw9Dq9ViYGAAer0e6+vrBR9XnUXAqB0OxDL0gxR0brWaFxrAzdeTCZJCXNqVgBw9P5kESSgUQjgcBgASJARBEBkgAUIQxIGEGc9Fo1EA2R3NCxEgHMdhaWkJU1NTaGtrQ3d3Nz9VSgphE+/oyPzzzs49j8nR0wLcDKzzdWlX6hQsOREKEo1Gw3uQcBy3R5CwhnatVpv1/UoQBHErQwKEIIgDB2sQZj0dYowF8+0BiUajGBsbg9vtxokTJ3i3cuFxCw28uZ4eRC9ehGZwECpBmRin0SB2/nzGaVhyI9alneM46PV6RKNRaLW3761F+F5MFiTBYBB2ux319fUwGo28RwnzICFBQhDE7cLte5cgCOLAIZxOlK3kKpl8hML29jasVivKy8tx7tw5lJaWSnLcVASuXIH+0qWEXpDY+fM3p2ClQK4MSDbSubQ7nU54PB689NJLMBgMfIZkv13a9zuoTxYk29vbqKmp4QUJew7LkJAgIQjidoAECEEQBwIxjeaZyMUHhOM4zM/Pw2azoaurCx0dHZL1lqR9vtmMwNWrUNntUDscWX1A2Dr3G+bSvrW1BY1Gg+bmZn7k7367tCvh9UkFK9dKlSEB3p3CJewhIUFCEMStBAkQgiAUD8t6xGKxvAMxsUIhHA5jdHQUu7u7OH36NN+cXehxxcJ1d4tqOFdaMMrWU1ZWhoaGBjQ0NIDjOMW4tCuF5PdKupIt1tQeDAZ5I00SJARB3CqQACEIQrEwb49oNJpzyVUyYnpA3G43hoeHYTQaMTAwIGra036VQgHK3eFnkEt7arINSxD+nAmSWCyGWCyWduwvCRKCIA4SJEAIglAkhZZcJZNJKHAcB4fDAYfDgcOHD6O1tVXW3hIpOIjB5n64tCvtdcr1vcIECcsSpRMkrGSL/a+YwQwEQRD7BQkQgiAUh1hvj1xI1wMSDAYxMjKCYDCIs2fPoqqqKqfjUgbkXfIJruV0aVfa6wPcXFOhgiqVIIlGo4hEIvzPk3tISJAQBKEkSIAQBKEYhN4eHMdJWlaSSihsbm5idHQU1dXVOHnyZN7jYykDIg1yubQrDSmvXS6ChPmQsJItgiCI/YIECEEQiiAejyMYDOKdd97B3XffzZeRSIVQgMTjcdhsNiwsLKC3txdNTU15nyuX6VpSo8Qdfim5FV3aC82AZEOsIEl2aSdBQhBEMSEBQhDEviL09ojFYnC5XACk3+FnTeh+vx/Dw8OIxWLo7+9HZWVlwcferwzIrS5AksnVpR1QXqao2NcsnSCJRCK8S3s8Huenk5EgIQiiGJAAIQhi30jVaM4elxq1Wo1wOIxXXnkFDQ0NOHr0qCQGefsV4CotsN6P9WRyaZ+dnQUADA8Pw2Kx8D0kSnBp389rl0qQbG5uYm5uDidOnKAMCUEQRWH/v4kJgrgtSeXtwQKzbONycyUWi2FpaQmBQAB333036uvrJTu2mPG+cnG7ZUCyIXRp5zgOL7zwApqamuD1emGz2RAMBvfdpV3uEqxcYWtRqVTQ6XQJGclIJML/TChIpC6PJAji9oMECEEQRSWTtwf7XykDa5/PB6vVilgshvLycknFB5DfbrYUQagSA0AlCqJDhw6hubkZwM2JZ/vt0q7E14gNfADedWEX/owJknA4zGdPUk3ZIgiCEAsJEIIgioYYbw+1Wi1ZRmF5eRkTExNoaWmBxWLB1NSUJMcVwnox9mNnW4nBrJJRiku70oL1TO/dXASJcMqW0v5GgiCUBQkQgiCKQjweRzgczurtIUVzdTQaxcTEBDY3N3H33Xfj0KFDcLlcsgTs1AOiTLJd6/1yaVeiaMxFPAsFiXCqXLIgSe4hofcrQRBCSIAQBCErrOQqEomI8vYoNAOys7OD4eFhlJSU4Ny5c7xPhFzjcoVlY5QBObgU06VdacF4vu9d9jupBEk4HOZd2kmQEASRDAkQgiBkIx6PIxqNZiy5SibfDAjHcVhcXMT09DTa29vR3d2dcC65xtbK0beSy3mVwq02Flgul3alNaED0q0pkyAJhUL82F8SJARBkAAhCEJyhHXiLLgRG2DkkwGJRCIYGxvD1tYWTp48ierq6j3PkWta1X4KkP2avnWQkCqwlcqlXYkiLR6PyyIAhIJEo9HwvVIcx5EgIYjbHBIgBEFICnNdjkajAJCT+GDPzyVI29rawvDwMCorK3Hu3Lm0TtjFKMHKht/vx8TERIKhXqoglSgcuQP9fFzadTodAOVlr4qVlRF+F6QSJMKSLZ1OxwsSMZlTgiAOFiRACIKQDKG3h9DsLBfEZkA4jsPc3BxsNht6enrQ3t6eMUjZ7xKstbU1jI2Noa6uDhqNBisrK5ienuaDVIvFApPJlFZApTqv0nbTlbaeYiLWpR0A3G43Dh06xAuS/Wa/ysIyCZJgMIidnR14vV60tLSQICGIWwwSIARBFEwmb49cERNYh8NhjIyMwOfz4cyZMzCZTJIcNx+yCZB4PI7p6WksLy/j+PHjqK6u5s0XWZDqdrvhdDrh8/lQWVmZ0FegBOduIndSubS73W6Mj49jYWEBU1NTMBgM/JSt/bzWSulLSRYkoVAIbrcbzc3NCAaD/HOSPUhIkBDEwYPubARBFIQYb49cyJYBcblcGBkZgdlsxsDAgOhd5P0QIH6/H8PDw+A4DgMDAygvL+fdpYG9QWo4HIbH44Hb7cbMzAxCoRCqqqoSnLuFhnG3c8ZBLEoJTHU6HX+dT548CY7j+AzJfru0K0WAJMOm5iX3kMTjcV6QqNXqPT0kJEgIQvmQACEIIm/EenvkQrrAOh6PY3Z2FnNzczhy5AhaWlry6i2ROthKJ0DW19cxOjqKxsZGHD16VFQ5WklJCerq6lBXVwcACUZ5y8vLiMVi/I55KBQiAZIBJb82KpVqz7XeT5d2JQuQ5El2qUq2YrEYYrEYgsEgCRKCOCCQACEIImdy9fbIhVQZkGAwiOHhYYTDYdx7770wGAw5H1dOvw6haEouuaqvr8/7uHq9Hnq9Ho2NjeA4Dj6fjw9SXS4XgJvNz4X6UkgBBXjZySSK9tOlXakChG1spIMJEvacZEGS3NTOSrdyHYxBEIT0kAAhCCIn2MQaNrpT6t3F5PGyGxsbGB0dRW1tLU6dOpV3nbwwSJEaJkBYyVU8Hkd/fz/fdJz83HzPUVlZicrKSrS0tMDhcGBnZwcGg4H3pdDpdFnHwBL7jxgvnGK6tCtZgOSa5UwnSKLRKP/z5B4SEiQEUXxIgBAEIRqW9bh27RrOnj2bVyYiG2xcbjwex8zMDBYXF9HX14fGxsaCjiunX4dKpcKNGzdgs9nQ0NCAo0ePpq3fl+r8arUaJSUlaG9vR3t7+54xsJOTkygvL085BlYulFj2pKTAkr0+ua5Jbpd2lsVUGoUKo3SCJBqNIhKJJAgSliFhJVsEQcgLCRCCILKSyttDrmBTpVIhFArh9ddfRzwex8DAQMpMQj7HBSC5eV88HufF0vHjx9HQ0FDQ8VQ2G9ROJ+KdneC6uzM+V3gNksfARiIRvsnZ6XRibGwsocnZZDIVrcl5P1CiGJJqTVK7tCtVgGQrwcoVEiQEoRxIgBAEkRHm7cECd3YDl8uFOxwOw+FwoLm5GUeOHJEsSJajBCsQCMBqtYLjONx55518Q3FeuN3QX74M7bVr/EPRixcRuHIF+KXZnZBsIlCn0+HQoUM4dOgQACAUCvE75tPT0/yELYvFInuTM5GI1FmZQl3alVqCJbcwyiZIgNQu7fQ5IYjCIQFCEERKWBkUEx/CXg85BEgsFsPk5CR2dnbQ0NCAY8eOSXp8qUuwWG9KXV0d/H5/wf0W+suXoRkcTHhMMzgI/aVLCFy9uuf5uQaMpaWlqK+vR319fcom53g8LllPAZGafEuwciVXl/ZoNKoYU0QhxRZG6QRJJBJBOBzmf06ChCAKhwQIQRB7yObtIbUA8Xq9sFqt0Gq1OHTokCQlV8lIJUBS9aZsbm4WdFyVzZaQ+eAfj8WgvXYNKrs9ZTlWvudM1eTs8/ngdrv5ki21Wg2TycRnSDKV8LBjKhElrWu/ysKyubR7vV7odDpEo1G+ZEsJgiQej++rEWcqQcJGj7/yyiu48847UVZWliBI2JQtgiAyQwKEIIgEWNaDuXWnupkmT6rKF47j+IbptrY2dHd3Y3x8XLbyrkJ7VwKBAIaHhxGNRtHf34/KykpJjqt2OjP/3OFALEmASD15jE3YEvYUuN1urK+vY2ZmJqGEx2KxoLS0dM9xlNR3oaS1MIqVAclGsgHm6OgoH2Q7HA74fD5FuLTnOgVLblh/iEqlQiAQ4F+TdBkS4ZQtgiASIQFCEASAd709otFoVmNBNqmqEKLRKMbHx+FyuXDixAk+GJLi2OkoRDhtbm5iZGQEdXV16O3tTehNKVSAxDs6Mv+8szPl43K9TsKego6ODr6Ex+12Y2lpKWHClsVigclkkmUdtyJKDEaZAG1rawNws19ICS7tSu1NYd8hrASLISxbZYKEObkLm9qV+DcRRLEhAUIQRNaSq2QKLcHa3t7G8PAw9Ho9zp07l7CbLueErXzETTweh81mw8LCQtpxwLmsOdXryvX0IHrxIjSDg1D98hoAAKfRIHb+fMryq2IGMZkmbM3OzsLv96OkpAQ6nQ4ul+uWn7CVL0rMygB7A/3S0lJFuLQreToXsPczyDIkjHSCJLmHhAQJcTtCAoQgbnOYt0e2rIeQfAUIx3GYn5+HzWZDZ2cnOjs795xPzglbuYqbYDAIq9W6p+QqFYUGl4ErV6C/dCmhFyR2/vzNKVgynTNfUk3Ymp6ehs/nw9TUVEKAarFYJHXtzhWlBXdKWw+QPdOwXy7tUo/hlQr2/ZRtbUJBwj6rrIdE6NJOgoS4HSEBQhC3KUJvD7bTKPbGl49ICIfDGBsbw87ODk6fPs1P6ElGqv6SdMcWG7Szkqva2locO3Ys446+JGVjZjMCV69CZbdD7XBk9QFRUpBSWlqKyspK6HQ6HD16lCZspUGpJUW5rKuYLu1Kfb1Yb0quLu0ASJAQxC8hAUIQtyHxeBzRaFR0yVUyuWYSPB4PhoeHUVVVhYGBAZSUlKR9rlqt5mfwS40YcROPx2G32zE/P49jx46hqalJ1LELKcFKOE53956G83THUWJJT6oANdm1WzgmVsyErXxQ4mujxDUBhQX6crq0K60JnSFFZiaVIGH/QqEQwuEwgNQ+JEp8TQgiV0iAEMRthLAmmQUd+dzMxGZAOI6Dw+GAw+FAT08P2trasp5vPzMgwWAQw8PDiEQiWUuuhOxXmYiSAtp01zWVa/fOzg48Hk/ChC027tdsNqecsHWroMTgUcpMg5Qu7UruAZF6XcLvYo1Gs0eQCDMkrKFdq9XmvHlEEEqBBAhB3CYkN5rnKz4AcQIkFAphZGQEgUAAZ86cgdFoFH3s/WhCv3HjBkZGRlBTU4NTp07lPHZULtGUDiUGHWKuG/MXMZlM/IQt1tC+uLiIiYkJVFRUJASohXhSKOl1UmpJkZzrKsSlXakZkGIIo0yCJBgM8s9hgoRlSEiQEAcFEiAEcRsgxtsjF7IJEBbMV1dX48SJEzkF83KWFqU6trDkqre3F83NzXkdVywsiJACJWVA8kWj0aC6uhrV1dUAbk7YYuU7bMKWwWDgMyTFGgErB0q9XsUURrm4tIfD4aILezGw79Fikosg0Wg0KCkpIUFCKBoSIARxC5OLt0cupCuTSg7mm5qacj6f3FOwhMdmJVfhcBj33nsvDAaDJMctBrdqUKHT6VBbW4va2loAe0fARiIRVFVV8YIk3cQlpQb7Srxu+1nqlMmlPRQKYWpqCouLi5JlxKRACaVh6QTJzs4ORkZG0N/fD7VavaeHhAQJoRRIgBDELUqu3h65kKqUSegSXmgwX4wSrEJLroTs1w1dqUG2lKQaAet2u/dMXGKCpKKiQrEBllKvl5JKw4Qu7W63G+3t7VCpVNja2lKMS7sSxwMnCxKtVsv3/IVCIQSDQRIkhKIgAUIQtyDsppPreF2xJGcp1tfXMTY2ltIlvNBjSwnLVNhsNszNzeWdpUl33GJyOwYNwglbwolLbrcbLpcLs7Oz0Gg0fGaE/Y5SUFKgL0Sp64rH49DpdLBYLHxGTAku7UoUIIx4PM5PyhJeU5YhicViiMViaZvaC+kNJIhcIAFCELcQ7AaztraGqakp3HfffbLcTNio3Hg8jqmpKaysrKCvrw8NDQ0FH1vOYJ7jOMzOzoLjuIKyNMnsxw1baWN49+s1YBOX2tra+AlbbrcbGxsbAIBXXnmFD04tFkvGEdDFWrPSUKoASVXqpASXdqULkFRrY8KC/UwoSKLRKP9zJkRYhoQECSEXJEAI4hZB6O3Bgng5J9uEw2G89tprAICBgQGUl5dLdmw5AmuXy4Xd3V0YjUacPn1a0rINpYmB/WK/XwPhhK2Ghga8+uqrOHLkCNxuNxYWFhImbFkslqKX7+z365MOpQoQMYH+fri0K1mAiG2QTydIotEoIpFIWkGi1L+bOHiQACGIA04qbw+tVitrSdDu7i42NjbQ2tqKI0eOSHpTkjqYZ1kPp9MJvV6PpqYmyYPO/RAgJHrEIZywFQ6H97V8R8mBvhLXlevrVSyXdqW+XkD+4igXQcJKtkiQEIVAAoQgDjDsBhGNRgEk3kTkECDRaBSTk5PY3NyE0WhEb2+v5OeQcu1CL5KzZ89iZmZGkuMmk4sYUGrgciuS/FqXlJSknLDldrsxMTGBaDTK75ZbLBZUVlbKYjinNG5VYSSXS7vSMyBSiOhsggRI7dKu1NeFUB4kQAjigCL09hDeKAB5Grl3d3dhtVpRUlKCzs5O7OzsSHp8hlQ7+y6XCyMjIzCbzbwXiVxZA8qAKA8xr01y+U7ybjmAhN3yQidsKTXQV/K6pM6uSuHSrmQBItfa0gmSSCSCcDgMgAQJkRskQAjigCHG20NKAcJxHBYXFzE9PY329nZ0dXVheXlZthKvQtfOcRwcDgccDgeOHDmClpYW/vWRq8F9v8QACRDpSLVbzoJTNmFLGJyazWbo9fqczqHU66VUASJ3qVO+Lu1KFyDFMOpMJUjYphjLkLByYCZI2CYQQQAkQAjiQCHW24M1chcaWEQiEYyPj8Pj8eDkyZN8Lb2ck6oKOXZyyVVVVdWeY+93BkSqGzDdyOVFpVKhqqoKVVVV/IQtFpyurq5ienoapaWlvP+I2WwWNWFLiddNiQKEfZ6KGeiLdWlXq9UoLS1FOBze96lqyeyHSzsAvj+EIRQk4XCYFywcx6GsrIzvI1Ha+44oHiRACOKAEI/HEQ6HRTmasxtQIbth29vbsFqtqKiowMDAAEpLSxOOXwyzwFxwu90YHh5OKLlKRgkCxOVywe12o7q6GgaDoeCSHqWgxEBCyjUlB6dCx+75+XmMj4+jsrIyoXwn+T2opOslRIkChG1C7Oe60rm0OxwO7O7u4uWXX+anqinFpV0p2Zl0guQXv/gF7rrrLr6/KrmpXWnvQ0I+SIAQhMJhJVdsypUYY0F2A8qnIZHjOMzNzcFut6OrqwsdHR2ylnglk2sGJFPJVTJyCScxAiQej8Nut2N+fh5GoxGLi4sAwDc8s5IesTdgJd6olRRgy70WoWM3cHPCFusfEU7YYtfWaDQCUO51U9q69iMDkg12zTc3N1FTU4OWlhZ4PB7FubQX+5xiYOVasVgMpaWl0Gg0ezIkqXpIlPa+JKRDee9SgiB4xJZcJSPMgORCOBzG6Ogodnd3cc8998BkMqU9vpw9IGKDx3A4jJGREfh8Ppw5c4YP8tKxXxmQUCiE4eFhhEIhnD17li/bYD0G6+vrmJmZQWlpaYIgyVbeoaSA/3anpKQkwSBP6EexsrKCaDQKvV6PaDSKnZ2dgrNfUqJEAaKEDEg62EaQTqdLmKqmBJf2WCymuLIwBrumTFiw14J9j7Esv9ClnQTJrQsJEIJQKCzrIabkKpl8BAgrYTKZTDh37lzGUgK5MyBiAmvhegcGBkSVPuxHEzpbp8ViwcmTJ3kTx+QG2FgslrKkh4kRk8mUELzQFCxlo9frodfr0djYyE/Ymp+fx40bN2C1WgHcnLDFrq+Y8a9yoUQBosQMCCNdmRO5tGeGbaQlizD23iNBcntBAoQgFEayt0eu4oPBUtxizseM+rKVMDHkbELPJm44joPT6cTs7CwOHz6M1tZW0a9PMUuwhKVswtc13d+m0Wj2mOYxj4qpqSk+eGE16cnns3lscG450WnqRLe5W/K/8SCilOCETdiyWCwIBAI4ceIEvF4v3G53yvGvFosFZWVlRVmbUgN9JWdAxAb5ubi0S+U7U6wpWPkgzORnIpUgYf9CoVDC2N9f/OIX0Gq1eOCBB2RcOSEHJEAIQkGwmljhzTffG7CYLEUwGMTIyAiCwWDKqVGZji3X7jsL5lPtyuZacpXu2FKTfNxIJILR0VHs7OzktU4gsaRHGLy43W7e0ZnjOIzNjuGRtx/B4NIg/7sX2y7iykNXYC4zS/HniUJpgaJSs0NsJ5dN2GLZr52dHbjdbqysrGB6ehplZWV8YGoymWQrq2GvkxKvn9JEESOfLEOxXNr3awqWGJg4yvVvEt4HNRpNgiD593//d1RUVJAAOYCQACEIBSAcWZhPyVUqsgmQzc1NjIyM4NChQzh58mROjYty94AAe8tCPB4PhoeHYTQaRZdcJVMMAcKmh1VWVmJgYECSwDFV8LK6ugqbzYYvvPQFvOV+K+H5gwuDuPTMJVz96NWCz01IR7r3nkajSTthy+l0wufzZZ2wVeialCZA5PYAKQQp1na7urRLsTahIPH5fHwPDnGwIAFCEPtMvo3m2UgnEuLxOGw2GxYWFnDs2DE0NTVJdmwpYH87u5EKS656enrQ1taW9+sjZw9ILBbD4uIipqam0NnZic7OTtkCKBa8rIZX8Yb7jT0/j3ExXJu/hmtD13BXy11Fm8aj1KyDUhDba5Fuwpbb7cbMzAxCoRCqqqoSmpvzDeyUKkCUngGRusxJSpd2JZdgSb02Js6JgwcJEILYR1jWg+0MSe1bkBxs+/1+DA8PIx6Po7+/P+8v7mJlQNhULq/Xm3Eql1jkEiAcx8HlcmF9fT3BsFFOVCoVVkOrGZ8zvzsP/YweoVAoodbcYDAoNriTEqUF1UB+a8o0YWt5eRmxWCyhdCeXCVtKFSC3egYkG/m6tCu5BEsOAeL3+0mAHFBIgBDEPsC8PaLRqGQlV8kki4S1tTWMjY2hsbERR44cKehGIOcEJnbz3Nrawvj4OKqqqvIuuUp1bKnX7fP5sLKyAgAYGBgouHlYZbNB7XQi3tkJrjtzM3lDaUPGn7/njveg29yNQCAAt9vNN7/G4/GEhuf9nMB0OyHVey95wpbP5+MFydzcXE6lO0oVIErPgBR7bWJd2sPhMLa3t2EwGBQ3jleO7IzP50NFRYWkxySKAwkQgigyrKF4bGwMfX19so0SZAIkFothamoKq6urOH78OOrr6yU5drpGcakYGhrC4cOHCyq5SkZq4cREXWVlJcrLywsTH2439JcvQ3vtGv9Q9OJFBK5cAcx7m8lVKhWayppwse0iBhcGEeNi/M80Kg3Ot57np2Hp9Xo0NTXx/SNsApPL5cLs7Cy0Wi0/DtZisSS43h9UlFoOJvXnRaVSobKyEpWVlWhpaUlZuqPT6fbslDOUKkCUngHZb3GUzqV9bGwMGxsbmJubU5xLuxzZGSrBOriQACGIIsK8PaLRKFZXV3Hs2DHZbrJqtRp+vx+vvfYa1Go1BgYGUF5eLtmxAel3tFjJFQDceeedkoglIVKVYMXjcUxPT2N5eRl33HEHvF4vfD5fQcfUX74MzeBgwmOawUHoL11C4OreZnImpq48dAWXnrmEa/PvCpfzredx5aErKc8jrDVva2tLmMC0tLSEyclJPnBhE5jE9I8oNVhUEsXw20jlLyPcKZ+cnER5efkeMaK060cZkNxgfUMqlQrHjx9HaWmp4lzapS7BYtk/EiAHExIgBFEEhN4eHMfxX/yxWEy2XalwOAy73Y62tjb09PRIesOUQ4BsbW3BarWiqqqKD5KlRooMSCAQgNVqRTwe50Wd1+st6Lgqmy0h88E/HotBe+0aVHZ72nIsc5kZVz96FXaPHY4tR84+IMIJTF1dXYhEInw5D3NzZg3PFotFFvO024X9yMok75RHIpE9E7YAwG63pzS83C8oA5IfbG1KdWmnJnSCQQKEIGQmHo8jGo3umXIlV0N0NBrFxMQE/H4/WlpacOTIEcnPkY/Tejo4jsP8/DxsNhu6u7vR3t6On/3sZ0V3LBcDG11cV1eH3t5e/mZaaG+J2unM/HOHA7EkAZL8t3SbuyUxIEwOXIQNz6Ojo4jH4wkO3hUVFYoNFJW4rv1ek06nw6FDh3Do0CEAN8dbW61WRCIRTE9P8xO22PXdL8Gp5AyIUtcWj8fBcVzKIF8JLu1yCRDqATmYkAAhCJkQenuw0gth8KFWq3lRIhU7OzuwWq0oKytDdXW1ZCVXybC/o9AdXaFh3+nTp/kGS7mMDvM9LsdxsNvtmJubSzu6uJD1xjs6Mv+8szPvYxdKqoZnt9sNt9vN948I/SsY++3MrsQekGKUYOWKTqeDWq1Gb29vSrfueDwOo9HIC5J8zPHygTIgucM2bW4Xl3b2fSRHtpyQHxIgBCEDyd4eqRzNpRxly3EcFhYWMDMzg46ODnR1dWFkZERygcOQIoPDSq4MBsMewz65BEg+GZBwOIzh4WEEAgHce++9KW92hQZKXE8PohcvQjM4CJXgmnEaDWLnz6csv5JzElk6hA3PzKtAOBo0GAzipy/9FH8999d4dfNV/vf2w5ldiShdFKUyvGSCk5VsqdXqhAxYKi8KqdalxCCfDd9Q4trY93GuQX4xXdqlFCChUAixWIwEyAGFBAhBSIxYbw+NRiOJAIlEIhgbG8PW1hZOnTrF13rL6dVRyPFTlVwlv0ZyGgbmclxWnmIymTAwMJC2aVOK9QauXIH+0qWEXpDY+fM3p2ClYb8DWuFoUJ1OB5fLhS9PfRmv33g94XmDC4P41E8+hZ987CeKDNyKhRIzIJnWlEpw7u7uwu12Y319HTMzMwleFFJOUFNqBiSXLEOxEW54FYJcLu2xWEzS0cCsf4lKsA4mJEAIQiJy9faQogTL4/FgeHgYBoMB586d25NFUJoAYWJpe3s7oeQqGTkFiJigXSiSxLivSxIomc0IXL0Kld0OtcOR1QdEicHZUmAJL628tOfxGBfDi8sv4kc//RGO1R8rWjmPEl8jpZGLKBJO2Oro6OAnbAknqLEJW2yCWr5DNpSeZVDq2uTwlJLKpV3qDIjX6+WzN8TBgwQIQUhAcsmVmJtAIRkQjuPgdDpht9vTemUUQ4DksgO/vb0Nq9WKioqKPSVXhR5bLGKOG41GMTo6mlUkCZFSMHHd3XsaztM+V0ElPSqVCsuB5YzPqWytRLWhGm63my/nYcGqxWIp2MRRiJJeG8ZBy4BkI9OErdnZWfj9/oRJS7lM2FJ6BkSpayvGBLN8XdqlXh+bgKXEa0FkhwQIQRRIPB5HOBzOefcpX4EQCoUwMjICv9+Ps2fPwmg0pj2+sClYasQG3cL+lK6uLnR0dGR9jfYrA7K7u4uhoSHo9fqsIin5uMVGiTfdJv3e5nwhxxqOocXcwhvmMf+R1dVVTE9Po6ysjM+OsLKuWw2lXTcpRVHyhK1QKASPxwO3242pqamESUsWiwUGgyFtJkHJGRCVSqXItclh9CcGsS7tsViMd2uXohTL5/OJKv0ilAkJEILIE1ZyxaZc5Zr6zqcEy+VyYWRkBGazGQMDAxkDNI1Gg3A4nNPxc0GMgBL2p4jNJrBjF7sJfXl5GRMTE3wTfy7Xcr8awgFl7aq3VrSKcmYHwDczm0wmAO86ObPsyNjYGAwGAy9IiuFTIDdKzcrIFbSWlpaivr4e9fX1aSdspWtsVnIGRIniA1DO2tK5tE9OTsLlcmF5eVkSl3YawXuwIQFCEHmQztsjF3IpwYrH47Db7Zifn8fRo0fR3Nyc9Xz73QMiLLlK7k/JhlwBfarMSiwWw+TkJNbX13HixAnU1NTkdVyx67W5bZjZnEGXpWtfxtPKST7O7Azm5Mxef+Hu+cTEBKLRKD8Olo0FFZNJUxJKEouMYq0p1aSl5MZm4U56OBxW3GsFKFcYAcUrwcoV9tnW6XTo6elBVVWVJC7tXq9X0T5ERGZIgBBEDmTz9sgFsRmQYDCI4eFhhMPhtGNg0x1/PwQIx3FYXFzE9PQ0Ojs70dnZmfNrJNfak4WC3+/H0NAQ1Go1BgYGoNfrJTluKtwBNx5+6mE873yef6yQ8bRKzIAAhTuzM5J3z/1+Pz8Odm5uLiFYtVgse66dErMNAIkiRqrG5p2dHXg8Hqyvr2Nra4sPptl1lmrCViEoJcuQimKVYKlsNqidzqyDMpJhTehSubT7/X5yQT/AkAAhCJFwHIdoNMr3VRQiPgBxQfbGxgZGR0dRV1eHU6dOidoVyuX4hZAq6I5GoxgbG4PH40kYCZzPseVYu7C0a319HaOjo2hqasKRI0cKunGLESAPP/Uwrs9dT3hscGEQl565hKsfvZr3uZUaaEvlzA4kjgVl/SPJ42BLS0v57IjYUr9iozSxCChnTcKSvI6ODt6VXafTYXFxERMTE5KU7RSKkgWI7Gtzu6G/fDlhVHj04sWbo8JFfObSZWhycWkvLy+H0WhEWVkZvF6vpBOwHnvsMTz22GOYm5sDAPT19eGrX/0qHnzwQQDApz/9aTz++OMJv3P27Fm89tprkq3hdoIECEGIQOjtIVUDYqYSrHg8junpaSwtLaGvrw+NjY05H7/YGRDmws4auAvZrZSzByQej2NqagqLi4u44447UF9fL8lxM63X5rYlZD4YMS6Ga/PXYPfYcw7WlRA0CinmepLHwUajUX4c7NzcHMbGxqDX6xGNRuF2uxXTP6JEsagUAZKK8vJydP9yhz0SifBBqXDCVrF7hJQuQOR8DfSXL0MzOJjwmGZwEPpLlxC4mn0TRewY3kwu7f/0T/+Ev/mbv8Edd9yB5uZmADc3vnLZnEtHc3MzvvGNb/Dvuccffxwf/vCHMTQ0hL6+PgDABz7wAfzgBz/gf0dKX5PbDRIgBJGBXL09ciFdCZbP58Pw8DAAYGBgIO8mu2IJEClKrpKRKwMSiUQQCoVw48YN9Pf3S5a+zyZAHB5Hxt93bDnyzhYoMagtNlqtFtXV1aiurgZw071+cXGR96aIRCJ7pi/tV9CttGBfqT0Nyc3xyWU7ybvkkUgEVVVVvCDJNGFLynUpCTlLsFQ2W0Lmg388FoP22jWo7PaM5VisfLlQl/Zjx47hAx/4AJ5//nn8n//zfzA2Nobq6mq85z3vwYULF/C+970Pd955Z16vwwc/+MGE//7a176Gxx57DK+99hovQFhpKFE4JEAIIg35eHvkQiqBsLq6ivHxcUnKgoohQCKRCIaHh+HxeHDy5Ek+AJTi2FIH1i6XC2NjY1CpVOjv75d0pzCbAOk0d2b8/U5T5p+nOyeRmpKSElgsFqyvr6O/vx+BQIDvH1lYWAAAXoyYzeaUpmlyoMRsgxLXBGQXRql2yYXXmOM4mEwm/hpL1ays9AyIXGtTO52Zf+5wZPQvEt5HC1qHWo2TJ0/i5MmT2N3dxalTp/B7v/d7uH79Oq5du4avfvWrKC0txQ9/+EP82q/9Wt7nicVi+Nd//Vf4fD709/fzjw8ODqK2thYmkwnvfe978bWvfY0XxURukAAhiBTk6+2RCxqNBpFIBEDiJKY777xTki80uQVILBaDw+FAVVVVwSVXyUhq7MdxcDgccDgcaG9vx/z8vORlCtkESI+lB/d33I/rc9ezjqfNFSVlQJS0FoZwB7W5uRnxeBxer3dP/4hQkMhVVqHE3XOlCpBc1pV8jdmELbfbDZfLhdnZWWg0mj2iMx+ULECkdhoXEu/oyPzzzsybKEyASG1EaDQaceLECZw4cQJ/+Id/iEgkgrfffhttbW15HXN0dBT9/f0IBoOorKzE1atXcezYMQDAgw8+iI997GNoa2uD0+nEV77yFVy4cAFvv/22IgYkHDRIgBCEAFZytby8jMXFRZw+fVq2mzMrwdrd3cXw8DC0Wm1Bk5hSHV8OAcJxHJaWluDxeGCxWGR5jaTKgITDYYyOjsLr9eLs2bNQqVSYn5+XYIWJiGlCf+LDT+BTP/lUQi+ImPG0mc5J5I5arUZVVRWqqqrQ3t6OWCzGT+CZn5/H+Pg4Kisr+WA1F/duMSjtuilVgBQS6AsnbLW1taU0vWSik11nsaJTyQJEzrVxPT2IXrwIzeAgVILSYU6jQez8+azTsKTsn2T4/X40NSWan+p0Otx77715H/PIkSOwWq3Y2trCj3/8Yzz88MN48cUXcezYMXz84x/nn3f8+HGcPn0abW1teOaZZ/CRj3wk73PerpAAIYhfklxyJfccerVaDa/Xi9deew1tbW3o7u6W9Ms5H6PDbESjUYyPj8PlcvETh+R4jaTIgGxvb2NoaIjP0Oh0Oni93qIbHDLMZWY8/fGnYXPZML05fXM8raXwKVFKzDooBTHvTY1Gs6d/hPmPsElMzH+k0N4CJV4rpQoQKbNFqUwv2dCChYWFPRO2zGZz2qZmpQsQKZqx0xG4cgX6S5cSekFi58/fnIIlYm1SZ2eYD4iUlJSU8E3op0+fxptvvonvfve7+Lu/+7s9z21oaEBbWxtsNpuka7hdIAFCEADvaM5uLlqtVvLgXUg0GsXa2hq8Xi9OnjyZl/ldNqTuo9jd3YXVakVpaSnOnTsHm80mW4lXIWsXNsV3d3ejvb2dD7Dkam7PxYiw29KN1spWSc5JpCff909JSQk/ElQ4gYcFqwASegvKy8tFXwslBvtKXBMg77pSDS1gWTC73Z7Rh0LJAiQWi8k7lclsRuDqVajsdqgdjpx8QORokPf7/bI7oXMch1AolPJnLpcLi4uLaGhokHUNtyokQIjbmmRvD9bvkYtLea5sb29jeHgYKpUKRqNRFvEB3NzZlUJEcRyH5eVlTE5Oor29Hd3d3XwqXa7XKF+hwDI0brc7pQ+JnON9xR7X5/Nhbm4OBoMB1dXVeQcMQiNCJaDEILZQUrl37+7uwuPxYHNzE3a7HTqdLqG3IFstuNJeJ6UKkGIG+iUlJSknbLndbkxMTCAajfJT1ILBYFHWlA/Fes247u6MDeepkKM/xefzSWpE+Mgjj+DBBx9ES0sLdnd38aMf/QiDg4N47rnn4PV68eijj+KjH/0oGhoaMDc3h0ceeQQ1NTX49V//dcnWcDtBAoS4bWHeHizQFRoLylG+xHEc5ufnYbPZ0NXVhdLSUiwtLUl6DiFS7PZHo1FMTEzgxo0bOHHiRIJYkiubAOQnFLxeL4aGhlBaWpq2KV4u93CxAmRjYwMjIyMwm83Y3t7G5OQkKisr+eBV6n6DYqMUMcSQOrBWqVR8/0hbWxtisRhfyiM0yxNeT2FJjNJeH0DZAmS/1pU8Ycvv9/Mjf10uFziO4z/HUk7YKhS5fUAK4SAIkPX1dXzyk5/E6uoqjEYj7rzzTjz33HO4//77EQgEMDo6iieeeAJbW1toaGjA+973PvzzP/8zDAaDZGu4nSABQtx2sHnkwpKr5JuH1BkQ1gy9u7uL06dPw2w2Y21trWg+HfncHIUlVwMDAygrK9tzfLnK1FQqVU7HXllZwfj4eNZemv0SIBzHwWazYX5+Hn19fXzpBzNXc7vdmJqa4v0qWH9NZWVl2nUqLQNyO6LRaPhrBSReT5vNhmAwyHtTWCwWRXpuKFWAKGVimEqlQkVFBSoqKtDc3JxwXdmELa1Wm9A/ItUgkVyR0wekUKQWIEwYShn8f//730/7M71ej//4j/+Q7FwECRDiNkOstwcrX5Li5ux2uzEyMsI3Q7OSGzkDeODdcYf5/A3MwK29vR1dXV0pb2rMB0QOxGZAmKv56uoq7rrrrqzji9nrIHWpQiYBEg6HMTw8jGAwiHvvvReVlZUIh8MA9vYbsJ1W5uitVqv53XSLxbJHBAIkQNKxH69LslmesH9kaWkJ0WgUXq+XFy659I/IhVIC/WSULIzKysrQ1tbGT9ja3t6Gx+NJmLDFPrdyjnVORsn9KXKsTY4mdKJ4kAAhbhtY1oPtEmW6ubEvykJS2kL/icOHD6O1tTXhnHL2mQCJf4PYL/5MJVepji9nCVa2Y/v9flitVgBAf38/ysvLRR0XkD44TSdA2CQuo9GI/v5+aLXatOdO3mkVjg5dWVnB9PQ09Ho9v5tuMpkUGaAR76LX66HX69HY2AiO42C1WqFWqxN2zoUCcz+8BJQa6Cs1mI7H49DpdPx/q9VqXmgAN79D0411TlWWJ/XaqASLOCiQACFueZi3RzQaFW0syL4o8/3SDAaDGBkZQTAYxNmzZ1FVVbXnOXJnQIQCRAxerxdWqxU6nS5lyVWq48vZhJ5JJGxsbGB0dBQNDQ04evSo6EBFzrIl4TGZV8rU1NSeSVxiEY4O7ezsRCQSwdbWVkJ5D5v4VVdXh6qqKkUGksRNVCoVdDodqqqq0NrailgsxgtMNuSBjYJlAlPOkaoMpQoQpa4rmzDSarWoqanhN2/YWGePx8N/bg0GAy88jUajZELrdivBIgFysCEBQtzSiC25SkY4cjFXNjc3MTo6iurqapw8eTJtECG3U3kuAmR5eRkTExM5+ZHkMvkpV9I1uMfjcdjtdr6XorGxMefjAtILEGHJWCwWw8TEBDY3N3Hy5Em+36NQdDodDh06hEOHDgG4Wd7z2muvwe/3Y3h4GAD44NVisRS9Dl2JwaLS1iQMqpkzN9s5FwpMu92OQCCAqqoq/ppWVVXJElwqOdBX6rpyuQ7CMkvg3bI8j8eDlZWVhAlbFosFBoMh779bqVkjQHoBEggEwHEcCZADDAkQ4pYl2dsjly91NhErlwxFPB6HzWbDwsICent70dTUlPGccpdgsb8h0zlYsLyxsYG7776bD27FIHcJVrJICIVCGB4eRigUQn9/f143HmEPiNSwHg5WZiMmi1QIer0earUaPT09KC8vx+7uLtxuN9bX1zEzM4PS0lJUV1fzQa6wbOR2QIm9MZnWlCwwg8Eg3G43PB4PRkdHEY/HYTKZ+EBVqslLShYgSgymC+2ZSS7L8/v9/HUu1GdGySVYUq/N5/MBAAmQAwwJEOKWQ+jtwW4W+dxgcxEIgUAAw8PDiEajooNjVoIlZwCQSSQIS67OnTuXc7BcTB8Qt9uN4eFhmM3mjFklMceVI3PDApJXXnkFjY2NOZWFSYFwPGx7eztfh+52u+F0OjE+Ps6Xfci9m05kRuxnvaysDI2NjXyg6vP5+EDV4XDwk5dYoJqv2FVyE7oS1yWlMBL2fbW0tCAej8Pr9cLtdvM+M8IJW+kGUTCUXoIlZTM+G+Yg5yYPIS8kQIhbing8jmg0mnPJVSrEGvmtra1hbGyM70cQu8tTyJQqsaQTCWxsbWtrK3p6evK6aRUjA8JxHObm5mC323HkyBG0tLQU/FpJLUA4joPT6QQAPvNV6BpUNhvUTmdWp+F0x0muQw+FQnC73XC73fxuujCoUcI0ptuBfD/rKpUKlZWVqKysRGtra8LkpeXlZUxNTUGv1yf0j4jNeCk1A6LUdcmZmVGr1QkbCcI+ITaIoqysLOE6C4N6pWaNAOnFEXNBV+rfS2SHBAhxSyD09mA3rkJvXtmaxGOxGKanp7GysoLjx4+jvr4+5+MD8t/QhCIhFothcnIS6+vrOZdcZTu2lKjVakSjUQwNDWFnZwdnzpyB0WiU5NhSCpBwOIyRkRG+HKChoaGwA7rd0F++DO21a/xD0YsXEbhyBfhlr0AyYv6W0tLSBGM1tst648YNzM7OQqfT8dmRYo4NlRulBbBSve+Ek5c6OzsRjUb5voLZ2VkEAgEYDAY+UM3U6KzkXgulrqtYQW9yn5BwwpbT6eSbsNl0LY7jFFuCJXUPCI3gPfiQACEOPMmN5lKIDyBzBsTn8yXU+osZAZvq+MDNL2a5pt0IRRQrudJqtRgYGCi4SVnOJvRAIIDd3V2UlJQkeKdIgVTr3tnZwdDQEAwGA06fPo2XXnqp4OBEf/kyNIODCY9pBgehv3QJgatX9zw/3910g8EAg8Gwx81bODaUCRKj0bgvQY3NY4Nzy4lOUye6zemzQOlQYjmYXLv6Wq02oX+EZbw8Hg/Gx8cRjUYT+gqEBpdKzTTcDiVYuZJuwhabjAcAo6OjskzYKhSpBYjP5yMBcsAhAUIcaHLx9siVdD0gbGJUS0sLDh8+nPcXvJwN0QyWpZCi5CrdsaWEja9lu/InT56UPDjK1pgvBmbU2NnZye9AF7wumy0h88E/HotBe+0aVHZ7ynKsQgPtZDfvcDjMl2tNTk4iEonwwauUzc/pcAfcuPzsZVybf/e1uNh2EVceugJzWeosEJFIcsbL5/PxgarT6eQzKBaLBdFoVHEChJVfKiV4FqKkMifhhK1wOIyXX34Z9fX12N7exvLyMmKxGD+4wGw2FzRhq1DkaEKX+7uIkBcSIMSBJB9vj1xJLsFiJn2bm5uiXLezoVKpZPcCUalUmJ+fx/b2tiRrFiK1AInFYhgfH8eNGzfQ1dWFtbU1WW4uYl3WUyEsYRMaNUox3lf9yz6StD93OBBLEiByvD4lJSWor69HfX19wpQeFryyshAmSJh5nlRrufzsZQwuDCY8NrgwiEvPXMLVj+7NAh0k9iPbIOwfYY3OOzs7vHP39vY2tre3EQqFFDMxjX2OlBhcKrU0jN1Hmpqa0NzcnCA8PR4P5ubmoFKp+Guc64QtKdZHGRBCCAkQ4sCRr7dHrghLsHZ3d2G1WlFSUpLXxKhM55ArA+Lz+eD3+xGPxyUpuUpGSgHi8/kwNDTEmyDu7u5iZWVFkmMnk28JViAQwNDQEFQq1Z7XUwoBEu/oyPzzzs6Uj8tZapRqSg8r1xKa57HsSaHvB5vHlpD5YMS4GK7NX4PdY8+pHEuJgeJ+r0locNnR0YHh4WGUlJRArVbD6XRibGxsj1FesUvw2PtIKZkGIUoddZu8EZdKeO7u7sLj8fATtnQ6XYIgkXOilNRN6GRCePAhAUIcKNiX6BtvvIH77rtP1hsUEyALCwuYnp5Ge3s7uru7JQ0g5GrkXl1dxdjYGHQ6HTo7O2UxpSskkyCETRFrbm7mS9p8Pl/RTQ4zcePGDQwPD6O+vh69vb173ndSCBCupwfRixehGRyESpAV4zQaxM6fT1l+VexgVtj8DNw0z2OlPZubm4hEInjnnXdgsViwpdnCRmQDnWbxPRzOrcxZIMeWQ/SxlNoDojRYoNrS0gLgZv8Iu6asBM9oNPKCpBhlPJQByZ1swkitVsNoNMJoNPITtoST1CYnJ1FeXp4gSKTMhFETOpEMCRDiQMBKriKRCADwO/ty75AtLy8jEolI6mgtROoSrFgshqmpKaytreGuu+7C/Py8ogJ5IfF4HNPT01heXsYdd9zBOwUD8nuMiH1NOI6Dw+GAw+FAb28vmpub0x6TPb8QAleuQH/pUkIvSOz8+ZtTsDKscb/Q6XSora1FbW0tjEYjFhcXUWIswX998b/iddfr/PPuq78P3//V76PBlHlKWIcpcxao05Q6C3RQUGLDd3KvRWlp6Z4SPCZIWBkPEyMWi0WWzQ322VfaawUoqwdESK7rSu79ikQiCRO2xsbG+GEUbMpWIQJCjh4QyoAcbEiAEIon2duD7crIOT1qa2sLN27c4Euu5BpLKmUJVvJkLr1ej6WlJVlH5eZ7bGbcGIvFUk4Rk3PCltjMTSQSwcjICLxeL86ePYuqqqq0z5VKgMBsRuDqVajsdqgdjrx9QPYDlUoFjUaDr1i/grfcbyX87JW1V/Cb//qb+MbxbySM+03+/PaYe3Cx7SIGFwYR494V5hqVBudbz+c1DUtpKC2oziSKhCV4zc3NfAba7XZjfX0dMzMzKC0t5a+nVCOclZ4BUaIAKbTESafT7ZmkxvpHpqenEQqFUFVVxV/rXM1Mpc6AMB8Q4uBCAoRQLOm8PdjNSY7mbaHxncFggNFolNUTQaqdflbG1NTUhCNHjvA3Brm9OvI5NitnqqurQ29vb8qbkhSTqtIhJmjf2dmB1WpFRUUFBgYGRJUiSCkGuO7uPQ3nQOGjaeVm0b+YsocjjjiGdoegqdVAFVPxXhUsoLFYLDAYDFCr1bjy0BVceuZSwnHOt57HlYfSZ4HSobQAVqkZELFrEpbxdHR0IBaLYWtrK+UI50J2zeUaLFIoSp/OJWWAn5wJCwQCvCBhG1vC0jzhaOdUa5Pao8Tr9cpSlUAUDxIghCLhOA7RaJQfbyr09mA7rVILEKGp3D333IP19XVJxqtmotASLKEZYnIZEzt+MdzKxQQKHMdhdnYWTqczYzmT8NhykE0osDHLHR0d6OrqEh0E5SpAcgn80o2m/b3a31NUBmQlkHlwwJZ6C2e6zgAAgsEgP12LBTSsrOcfH/xHrARX4Nh2KFZs5YNSrpWQQkSRRqNBdXU1HwiyEc4ejwdTU1MIh8N8kMpEptjvCqWJD0DZzfFSN3kLUalUKC8vR3l5OZqamvgJW+xas9HOQq8ZvV7PX0PhwBip8Pl8aGtrk+x4RPEhAUIoDqG3BxtVm4xWq5VUgLhcLoyMjMBkMvE73jdu3EAoFJLsHKkopATL7/fDarXyU5lSmSHK3UsBiAsWwuEwhoeHEQgEcO+998JgMGQ9tpzrTnXseDyOqakprK6u5uUSL2c5VLrRtNvb2/hfff9LlnPmQ6O+MePPhT0cZWVlaGxsRGNjI+/O7nK5sLm5CZvNhtLSUrRaWlEVqUIkEsm5IVaJwT5wa2dlkkc4BwIBPkhdWFgAAL5Ui/WPpDq3Uhu92XtKiQKkmKVhwglbra2tKUvzSkpK+GvNSqWoBIsQQgKEUAy5eHtI1bzNcRzsdjvm5uZw5MgRtLS08OeUc0QuI1+BkK7kSqrji4GdM9uNb2trC1arFUajEQMDA6L6duTMgKQ6djAYxNDQEDiOQ39/f17O9nIJkEyjad/aeguObQffSLrfNOub8+rhELqzswk9rLQneTQsc2dXYhCYDSWKIrmyDcJdc+ZLwYJUJjJLSkoSGtpZuauSy5wA5QqQ/RoPnKo0j43rXlpawu7uLgBgZmZGsglb5ANy8CEBQiiCXL09pCjBCgaDGB4eRjgcTrkrL7dJYD7nYLv0KysrOH78OOrr67MevxgCJBUcx2F+fh42mw09PT1oa2vLqdY8l/KuXEgWCi6XC8PDw6itrU3bk5LPcdNhc9swc2MGHVUd6Knuyfr8bKNp53fmcRqnRa9TbqTo4Ugu7QmFQvxO+vj4OKLRKB+0sh3WVO8Tpe2iK7G0qFhrUqlUqKqqQlVVVYLIZNmRiYkJVFZWStbILgdKns4lZwlWriRP2PJ4PBgZGYFKpYLD4YDf74fBYODFSD69QjQF6+BDAoTYd4QlV2IbDwvNTmxsbGB0dBS1tbU4depUyl15OfpMUp1D7N/BSq4ApC25SkatVvOji6UmkwCJRqMYHR3F1tYWTp8+zftGiCWX8q5cYUKB4zg4nU7Mzs7i6NGjvA9CocdNhzvgxsNPPYznnc/zj11su4grD12BuSz965NtNG2roTX3xcqIucyMqx+9CrvHDseWND0cpaWlaGhoQENDQ0L9ucvlwuzsLLRaLR/wsJ10JWYbAOUFr/slilL1j7Am58XFRYTDYbzzzju80GRDChj7MZBBqc3xgHKncwE33/NarRaHDx8GkOg1I+wVYoJEzIQtEiAHHxIgxL4h9PZgKXexX+wajSavBvF4PI6ZmRksLi6ir68PjY3pa9aLVYIlRuSsr69jdHQUjY2NOHr0qOgbjdw9IKn6KXZ3dzE0NAS9Xp/3CGP2PpDjpqpSqRCJRGC1WrG9vY0zZ87AaDRKctxMQe/DTz2M63PXEx4bXBjEpWcu4epHr6b9vUyjaU8YT6CjKrNAKRbJn91uc7csgWGq+nO2k764uMjvpJeWlvIbG0pxrlaiKFJKv0VJSQnq6upQV1cHl8uF6elp1NXV8deV4ziYzWaoK9R45O1HMLg0yP+uGCEvBUoO8otVgqWy2aB2OrOOCBeS/BkUM2HLZDLxgiR5whbzpyEBcrAhAULsC7mWXCWTT3bC7/djeHgY8XgcAwMDWetHi5EBySYQhGZ9YkquUh1fzr8hOehmE6QKdY1nN3k5ArZYLAan04mqqioMDAxIVu6RSYDY3LaEzAe/Fi6Ga/PXYPfYMwbr6cqaPt/weUUGtcVErVbzmY+uri5+J315eRmBQAAvvfQSP4nJo/bk7M4uJbdzCVYucBwHrVaLpqYmfuqS1+uF2+3G5Rcu7/GZESPkpUDJAkT2Eiy3G/rLlxNMUqMXL940Sc2S4c60CZBqwpbX6+UFCZuwZTabMTMzg6NHj+LIkSOSZkAee+wxPPbYY5ibmwMA9PX14atf/SoefPBBADffj3/2Z3+G733ve/B4PDh79iz+9m//Fn19fZKc/3aFBAhRdFjWo5B0dq7ZidXVVYyPj6OxsRFHjhwRtVNUjB6QTCKHCSbWGJ1Pw52czdzs+PF4HLFYDJOTk1hfX89rglSq4wLp+0vyZWVlBVtbW7BYLDh16pSkgVcmAeLwODL+rmPLkTEgTlfW9Oabbxa05lsRtpPOfIR6e3vhXHPi8guX8Yb7Df5599Xfhyu/egX1ptxEfaEoMdhX2pqSszJsSMFadC3hGjKYkL82dA13tdwFk8kki0mtUrJFqZA7A6K/fBmawcGExzSDg9BfuoTA1czCL5cspHAgBctw7uzswOPx4PHHH8dLL73ET1B78cUX0dHRkfPGXDLNzc34xje+ge5fZnQef/xxfPjDH8bQ0BD6+vrwrW99C9/+9rfxwx/+EIcPH8Zf/MVf4P7778f09HTWiY5EekiAEEUj2dujkFpasSVYLDBeW1tL6ZOR7RzFKMEKh8N7HheWXIkVTOmOL6eIUqvV8Pv9GB0d5ccB6/X6go8rmbP4LxFmkoxGI2pqamRvbhfSae5M+Tj/c1PmnzOSy5qU5IQOKKvEiJV1VlRU4CvWr+Btz9sJP39l7RV8/F8/jm/e8U0+gyJX4Cpck9ICWKWuKdVuftaBDN55lNvKEQwGC3LtTofSMyByNe+rbLaEzAf/eCwG7bVrUNntGcuxChFHzF/EZDLhJz/5CXZ2dvD888/jj/7oj/CP//iP+PKXv4yjR4/i4sWLuHjxIs6fP59zSe0HP/jBhP/+2te+hsceewyvvfYajh07hu985zv48pe/jI985CMAbgqUuro6PPnkk/id3/mdvP4uggQIUSRYo7lwikghNz0x4sDr9cJqtUKr1eLcuXM5B8bFyoAI/w5hoNzX14eGhoaCji9nDwhwM1AYGRlBc3NzxnHAuZKuvyQfgsEgrFYrYrEYBgYGYLPZZHlNMomBHksP7u+4H9fnruc0npYonHRjjJk7u/qQGlyUg81mQzAY5JthLRYLqqqqJA3OlSTQGEoUIOkyDdkGMrzn+HvQbe7mewqEJpdCk7x0U9PErEupAkTOtamdmYWf2uFALIMAkbI8rKqqCg888ABcLhcmJyeh0WgwODiIa9eu4Utf+hJ0Oh1GR0fzPn4sFsO//uu/wufzob+/H06nE2tra3jggQf455SWluK9730vXnnlFRIgBUAChJAVVgZRaMlVMplKlziOw/LyMiYnJ9Ha2oqenp68vvyK3QMSCARgtVoRj8fzLrnKdHwpicfjsNlsiEQi6OrqQk9P9nGyuSLF7r7b7YbVakVNTQ36+vqg0WhkyxpkO+4TH34Cn/rJpxJ6QXIdT5vrOYnsu+Zb6i2cOXLTnZ0Z57ndbiwuLgIAL0ZY2UehKC3YV6LnRro1ZRrIIBTyer0eer0+weTS4/EkTE0TXtfS0lJR61K6AJGrBCvekVn4xTszZ3ClHgTh8/kAAJWVldDr9fjIRz7CZye8Xm9exxwdHUV/fz+CwSAqKytx9epVHDt2DK+88goA7KmeqKurw/z8fAF/BUEChJCNQhvNM6HRaFK6lEejUYyPj8PlcuHEiROoqakp6BzxeFzWHUKWZWFjgevr63H06FHJvqzlKCNj/imRSAR6vT7nEbtiKSQDwnEc5ubmYLfb9xhMytUXk00MmMvMePrjT8PutmP6xjTaDe2ifECyoRQBorTAmpFt11xY/qbX6xMan5PdncvKyvhd9HzM1JRyrYQcpAwIkLvPTKqeAmaSxzaqysvLE65rujI8JQsQOZvQuZ4eRC9ehGZwECrBphyn0SB2/nzWaVhyCBCdTpdSOObbmH7kyBFYrVZsbW3hxz/+MR5++GG8+OKL/M+T349K/NwcNEiAELKQj7dHLqQKrLe3tzE8PMyPfxW7q5XpHIC8O0tqtRperxfDw8NZxwLne3wpBQgz7aupqcHp06fx2muvyWp0mE/AxjxItre3cc8998BkMiX8fL8yIIxDmkNYXl2Ga80FzsWhuro6LyMudk4iNSxAELtrnkyycV40Gk1wZx8fH09wZxfTZyBn0JKvL4YSA6lMWZlCfWbYRCW2cRKJRPjrOjs7i0AgwF9Xs9kMo9GYMBRDqQJE7rUFrlyB/tKlhF6Q2PnzN6dgiVib1AKkvLxc0vdtSUkJ34R++vRpvPnmm/jud7+LL33pSwCAtbW1hJLojY2NnHpKib2QACEkhXl7RKNRWU2bhOVRQsftzs5OdHZ2SnJO9mUul49AIBCAw+FAOBzGuXPnJCm5SkYqAcJxHBwOBxwOB44ePYrm5maoVCrZndZzPbbX68XQ0BDKysrSjtjdTwGytLSEyclJdHR0oLS0FFtbW5ienkYoFOJr1C0Wy56595lQ4q660pDCnV2r1aKmpobPqgaDQb7PYHR0FPF4nA9sLRZL2gBJ6u9Dd8CNy89eTvjbcvHFUKIAETNtSiqfGZ1Oh0OHDvGT+4TXdXl5GbFYjL+ukUhEca8VQ3YfELMZgatXobLboXY4cvYByTVbmAmv1yvL/VIIx3EIhUL8lK3nn38eJ06cAHDTNPPFF1/EN7/5TVnXcKtDAoSQDI7jsLW1hd3dXRw6dEhWx1gmQMLhMMbGxrCzs5OX43a2cwDSj4IF3nViZ7trcn2ZSiEQwuEwRkdH4fV695j2yW10mEtwvba2htHRUbS1taGnpyfte0+q5vZUpFtvPB7np7GdPHkSVVVViMVi/LhYYe/B3NwcNBrNHmfvdH8LkR053NnLysoS3NmZT8WNGzcwOzsLnU7HXz+z2SybO/vlZy9jcGEw4bFcfDGUKED2sy8l+br6fD643W5elADA+Pg4LzTLysr2ZZ3JFCs7w3V3Z2w4T4XU5WFSu6A/8sgjePDBB9HS0oLd3V386Ec/wuDgIJ577jmoVCp84QtfwNe//nX09PSgp6cHX//611FeXo7f+q3fkmwNtyMkQAhJYN4ebNdI7tQk6wF55ZVXJDeUY7BJTFI2orPm7YWFBfT19aGkpASTk5OSHT+ZQgXC9vY2hoaG+Nc4eRdLzmBe7NqZu/3S0hLuvPPOrO89udacrmSMTeFiBph6vR6RSCRhPcyIq7m5OaFGXejsLRwVK7yZKykDoqS1pEJOd3bWZ9DW1oZYLMZfw/n5eb5ci3ka6PV6SXar0034EmtwyXGcIgWIUvw2VCoVKisrUVlZidbWVszNzcHj8UCv12N1dRXT09N8Hxz7bM555/IqhSsU2Y0IC0COHpB8J5mlYn19HZ/85CexuroKo9GIO++8E8899xzuv/9+AMAXv/hFBAIBfOYzn+GNCH/605+SB0iBkAAhCkLo7cHca+WeHMVxHDY2NuDz+XD06FG0tbXJnmmRgkAggOHhYUSjUfT396OyshJut1t2n458gm2O47C4uIjp6Wl0d3ejvb095Wssp9GhmAxIKBSC1WpFJBIRPTlMzvHKyev1eDywWq2orq7mp3CJWR8r+RA6e7tcLkxMTCAajfIBTzwel92r5qCyn4G1MIMF3Mwiut1uTExMwOFwYGZmJqHkLt9gKtuEr2wGlwwlBPtClDiZC7i5rrKyMnT+cuqTsC9oaGoIX5v6GoZ2h/jn51IKVyiyl2AVgFwCRCq+//3vZ/y5SqXCo48+ikcffVSycxIkQIgCiMfjiEajCVOutFqtKIPAfAmFQhgZGYHX60VpaSna29tlOxcg3RSpzc1NjIyMoK6uDr29vfyXsdxmh/kIEDZJzO1249SpU3wQJdXxxZLt2Cy4Z67mYg3kitEDIhRwhw8fRmtra95BHnP2ZuVarCTE5XJhe3sbPp8Pu7u7qK6uzmsyEyE/JSUlqK+vx+TkJF9HzkrunE4nNBpNXmNhc5nwlQr2flWaAFFKBiSZ5DInYV/Ql0a/hBHvSMLzX5h/AR/70cdw5cIVmM3mnHq7ckXJGRA5mtDl7gEh5IcECJEzQm8PtsvIvlTlzIDcuHEDIyMjqK6uxp133onh4WFZziOk0AyIsOTq2LFjaGpqSvi53EaB7Phid4OZeWNJSQkGBgayBkL70QMiHDqQT3AvVwkWW28sFsPExAQ2NzezCrh8ziEsCbFardDr9VCr1XA6nRgbG+MdoMVOZpJybUR21Go19Ho9Kioq0NLSknIsbEVFRULJXbrgLd8JXwyhMaySUGoGJF2fRSazyzfcb2B0ZRSVzko+u8n6gqTwlcm2NiUgdQbE6/VK2gNC7A8kQIicSPb2SHY0l8O8Lx6Pw263Y35+Hr29vWhqaoLP55O91AsorFxH6JfBSq6kPL4Y2A1JjABZWVnB+Pg42tra0N3dLepmJrcAST62MDuT79ABOTMg4XAYr7/+OlQqFQYGBmRvUGUDDJqbmwHczBCynXU2mUnYzC5lwHMQUGJgnbymVGNhWcMzm5BmNBr5a2gwGBKOUciELyVnQJRYTpRuXdlK4XR1OvxK26/wvjKsf6SsrCxBkOSbvWS9PEp8zQDpszN+v58EyC0ACRBCNGK8PZgAkar+Wtg3ce+99/JNX1KfJx35lkixkqva2lr09vamLQ/SaDSyNoKKmV8fj8cxNTWF1dVV3HXXXaitrRV9fDmduJP7S3w+H4aGhqDT6URlZ8QeVyoikQgcDgcaGxvR29ub8YYr5bUW/i2lpaUJE3zSGemxgEds2dpB5KXVl/D64uv4oPGDuNB+Yb+XI/o9p9PpUFtbi9ra2oQJaR6PBwsLC1CpVAlBq1mf/4QvpQoQJWdAUokEMaVwarUaRqMRRqMRHR0dfP+Ix+Phs5cGg4G/tkajUbSgEJZBKxE5ekDKy8slOx6xP9y6dx9CMnLx9tBqtXyJVqFfOOvr6xgbG9vTNwEUxyQQyD1DIczWpCq5SnV89nty/B3C46ciEAjAarWC4zj09/fn/KVerB6Q9fV1jI6OoqWlBT09PQXdaMWKJpvbBofHgS5zF7otmScJzc3NYXt7G/X19ejr68t7bfwabTaonc6ss/YzBY6ZjPSY4VqmnfV8UMIULIfHgQv/dAHu4M2Rqd93fh+WMgsGf2sQ7ab2/V0ccgv2U01IS95FF05hutByISdRqVQBclB6QBj5lMIl+8qEQiE+8zU5OYlIJMJ/Ps1mc8bPJ/ueVKoAkaMHhPm2EAcXEiBERpJLrrJ5e7AvmUJ2PNiO/MrKCvr6+hLcR6U8jxhyKSljJVfhcDghW5MJuc0OhcdPhmVp6uvrs+7YZzq+3CVY09PTWFxcxPHjx1FfXy/JcTMFyu6AGw8/9TCedz7PP3Z/x/144sNP7JlmE41GMTY2hq2tLb5evyDcbugvX05wG45evHjTbThNuZnYoD854BF6jyTvrFdXV+edYdpvhOKD4Q66cf7J85j7zNz+LArSBPupdtE9Hg88Hg8vKoU9QAaDIePnWqkCRMkZkHTrKtTssrS0FPX19aivrwfHcfD7/bwgmZub25P50uv1/HVTsgBhG5hS94CwSWTEwYUECJGWeDyOcDick6N5poBXDD6fj28uHxgYSLsjX+h5xCK2BIs1yNfU1OQ0kUlOs0Pg3R4d4fE5joPNZsP8/Dz6+vrQ2NiY9/Hl7mFhN957771XsprfbE3oDz/1MK7PXU947PrcdXzqJ5/C0x9/mn/M7/fjnXfegU6nQ39/PyYnJ0WLgXSfJf3ly9AMDiY8phkchP7SJQSu7jWVKyRw1Ov1aGpqQlNTE7+z7nK5sLKygunpaZSXl4tqhFYSP5v72R7xwXAH3bg+d33fyrHkyA5ptdo9Lt5MVC4tLfHu7MIeIOF7JnmIiFI4aBkQQFqzS5VKhYqKCr6/i30+PR4PX05ZWlrKX9vS0lJZjX8LgX3XSvn9EQgEqATrFoAECJERthMl9otNpVJBo9HkNYqXNUE3NzfjyJEjWWvo5Wh4TybbOTiOg91ux9zcHHp7e/lmYLGkEghSI8xShEIhDA8PIxQKpW2MzwW51s5KhSoqKnD27FlJexUy9YDY3LaEzAcjxsXwvPN52N12dFu6+exRY2Mj/14ttB9GZbMlZD74x2MxaK9dg8puT1mOJUVgK9xZ7+zsTGiEnpqa4stBqqur0/pWKCH4eWv1rYw/f2P1jX3vB5HzdSorK0NjYyMaGxsTeoA2Nzdhs9lQWlqa0AOkRBNC4GBmQBhymF0KP5/t7e2IxWL8d+T8/Dy8Xi8AwG63w2w2K2rDQI7+FJqCdWtAAoRIi1qtzutLI9dRvNFoFJOTk9jY2MipCboYAiTTDn8wGMTIyAhCoZDokqtczyEFLIvDfDPMZjNOnjwpSVAvdUO30D+joqIC9fX1kjdKZxIKDo8j4+/a3XaoPCo4HI492aNCBYjamXmSjtrhQCxJgMg1BCC5Edrv9/M76w6HA1qtNmG6VklJieRryIfTDacz/vxMw5kirWQvxS53Su4BEgatrOm5oqICHMfB4/HAaDQqJug/iBmQYqLRaFBdXY3q6moANzPwExMTiEQimJqaQjgclry/K1/kECA+n49cyG8BSIAQkpOLMNjd3eV9J86dO5fT2NJiZUBS7fC7XC4MDw+jpqam4GBebjNClUqF5eVlLC8vF2yKl4yUPSCxWAzj4+NwuVw4deoUlpaWJDluMpmC9k5z5rri0GoIS/ElnD17FlVVVaKPmwybfCYk3pF5kk48Rc1zMYIKYTlIsm/FwsICJiYmYDAYoNfrEYvF9jVIe3/7+2Eps6Qsw7KUWfY1+7HfDfrJQWsoFMLq6iqcTifGx8cRi8V4d3az2YyKigrYt+xwbjkLKifKB6VmQJS6LrVaDZ1Oh97eXn5yGstgLiwsAAA/6jlVKZ6csP4PKc/n9/vJiPAWgAQIkZF8dljFCAOO47C0tISpqSm0t7ejq6sr5y/2YmVAhOVkySVXTU1NBX+xypkBiUQiiEajWFtbwz333FN4k3QSUgkQv9+PoaEhaLVa9Pf3o6ysDCsrK7IZBqY7bo+lB/d33I/rc9f3TLM5YTyBxrJG3HXXXSl3/AvNRnA9PYhevAjN4CBUgvcDp9Egdv582mlYYs/5s7mf4a3Vt3Cm4UxBgbjQt6KrqwvhcJifyhQKhfDSSy/BZDLx5VrFDHYAYPC3BnH+yfMJIoRNwVICStnZLy0tRXV1NRYXF3Hu3Dn4fD643W64XC5Yp63467m/xjs77/DPv9h2EVceurJnEIMcUAYkN4RTpoST05qamlKW4pWUlPBCU+4MptQTsDiOg8/noxKsWwASIITkaLXajD0gkUgE4+Pj8Hg8OHnyJL8jlyvFyoCEQiEA7/ZPBIPBgkqukpFrktTOzg6sVisAoLe3V3LxAUiz9o2NDYyMjKCpqSmh90dOw8BMx33iw0/gUz/5VEIvyF2Gu/Cd+76DU32n0gZGUqw3cOUK9JcuJfSCxM6fvzkFK805s5E8lhaApGNpS0pKUF9fD51Oh2AwiDvuuIMPdux2Ox/sFGq2JpZ2UzvmPjOHf37zn/Ha8mv44N0HywekmAib0CsrK1FZWYnW1lb82Y//DMO7wwnPfWH+Bfzmv/4mnvzVJ2XvMVBqpkHJAiTdulKV4rEM5uLiIiYmJlBZWZngPyJl2avUJoQASIDcIpAAISQnkzDY3t6G1WpFRUVFQWZy2c4jFaw8yuVyYWRkBBaLRbL+ieRzSMnS0hImJyfR2dmJtbU12W6ahQTdwmlcx48f3zNuWS5hlq1vxVxmxtMffxo2lw0/H/85tNta/Kd7/lPWEcCSCCazGYGrV6Gy26F2OLL6gADZA9tijqVNDmST+w7Gx8dhMBj47Ei2MbGF0F/Xj2Nlx3BH+x2yHD9XlDjyNlUTus1jSxgly4gjjlc3X8U16zXUamoTegwqKysl/bsoA5IbuQT5Go2Gv24AEA6H+c/o9PQ0QqEQjEYjL0gK/YzKMWKeBMitAQkQIiNSlWAxszabzYbu7m50dHQUfIMpVgnWzs4O3nnnHRw9ehTNzc2S3xilLMGKxWKYmJjA5uYmn13a3NwsillgLoTDYT6blG4a135lQICbWbpt5zZ60IOT7zsp6mYn5Xq57u49DefpzpmJ/R5Lm9x3IBwTu7i4CAB7xsTe6igpsE4lQJxbmYchmDpMuKfungSPCrVanVDSk0svX7p1KTHQV6oAKaTMqaSkhB84AbzrD+TxeBJGObNrW15entN7WGoBEovFEAgEqAfkFoAECCE5yWN4w+EwRkdHsbu7i3vuuQfmNIZq+ZxHTgESCoWwsLDAl1wlNx1LhVQZEJ/Px/dRDAwM8EFAsdzKxbK9vY2hoSEYjUb09/enzSapVCpZrm+20cG7u7t45513YDAY0N/fL7pkSC7BVMg5izmWVkxQkm5M7NraGmZmZqDX6xO8R6SegLafKLEEK1WmocOUeRhCp7lzj0fFzs4O3G437yFT6HWkDEhuSFnmJPQH4jgOXq8XbrcbN27cwOzsLD8BT+hBkm1tUrugA6ApWLcAt863O6EYhGN43W43hoeHYTKZcO7cOUnrv+UUIGzder0eWq1WNvEBSJMBWVtbw9jYGJqbm3H48OGEm5FSBIhw8EB3dzfa29szBhlSj/hlZAraV1dXMTY2ho6ODnR1deUUBMnt55IPSh5Lm1ybzly93W43bDYbgsEgX+ZTXV2dV5mPkoLYg1KC1WPuwcW2ixhcGNwziOF86/k907DUajVMJhNMJhPvIcNKeoTX0Ww2o7q6WtRIWCVnQJR0/RhyCSOVSgWDwQCDwYC2tja+f4RlRyYnJ1FRUcGLkVRiU+omdCZAqATr4EMChMhIPl+2LANit9vhdDpx5MgRtLS0SPLFrbLZoHI4wHV1ySJAOI6Dw+GAw+HAkSNHUFpaCrvdLuk5kikkAxKPxzE9PY3l5WXccccdqKur2/McOadsiQ26U5WGZaOYPSDxeBwzMzNYWlrKyYtGSC4ZEKmCmGznVPJY2mSSXb2F3iPz8/N8mQ/7l23nVYkZB6UFr+mMCK88dAWXnrmU0AtyvvU8rjyUehiCEJ1Ol3AdWUlPLmV3xQz0bR6bqFHDHMcpNgMidZCfDmH/SFdXF29Y6vF4eLFZVVXFX9+qqirJm9B9Ph9KS0tlH2ZByA8JEEJyOI7D+vo6tFptSr+EvHC7oX34YWief3cyUdfAAOa+/vXCj/1LWF9CIBDg133jxo2i9JnkE2gHg0FYrVbEYjH09/enrYmVK5Mg9th+vx9WqxVqtTqhNCwbxeoBCYfDsFqtCIfDGV/HXI+rFIo5llbKv5+NEk0u81leXsbk5CQqKyv5YMhoNBbN+TnfccZKdB1PtyZzmRlXP3oVdo8dji1HQT4gySU9rOxufX0dMzMzKCsr40t62JS0YmRA3AE3Lj97OUFkZRo1zN7bShQgckyaEoPQsBQA7z/i8XgwOjqKeDyOkpIS6HQ6eL1eVFRUFPwZ8Pl8OfehEMqEBAghKZubm1hcXIROp8PAwIBkNdzahx+G+vr1hMcMr7+Otj/+Y2BwsODjs5Irs9mMEydO8OuW2yQQyC9DcePGDQwPD6Ourg69vb0Zgy85MyDZxNPm5iZGRkbQ0NCAo0eP5nSTlCsDolKpsOhfxH/M/gdqtbXYdm7DZDIVPN1MiT0gwLtjaa/PXccbq28U7AOyH6Qq82G76pOTk4hEIryJnsVikaVBtdBxxkoUp9lEUbe5W1IDwlRld6mmpMViMezu7qK8vFy2wPrys5cxuDCY8NjgwiAuPXMJVz96dc/z2XeREgVIsTIg2dDr9dDr9XyPl9frxczMDILBIN566y1otVo+O2I2m/MaVsCEDHHwIQFCSEI8HofNZsPCwgLq6+sRCoUkEx8qmy0h88E/HovB+NprCNvtWUeVpiO55Cq5VGw/3dZTwXEcZmdn4XQ60dvbi+bm5qy/sx89IMJ19vX1obGxMedjyxHQuwNu/Jf//V/wwuILwOjNx+6rvw//8vF/Kfj9uh8lWID4wPZC+4UDJzzSodPpUFdXh7q6OnAcl1Cu5XA4oNPpoNPpoNFoEIlEJCnXkGKcsdJ2bfc7K6PValFTU4OamhoAN7O6Ho8Hk5OTsNvtmJmZKWgCUzrSjRqOcTFcm78Gu8e+R3gpXYDIaSaYD6x/pLKyEiaTCR0dHXz/yPLyMqampvhhBewai/kOZiN4lfZZInKHBAiRETEfcr/fj+HhYcTjcfT392NnZwcLCwvSrcHhyPzz2dm8BEg4HMbIyAh8Ph/OnDkDo9G45zlyZg+E5xAjENh6/X5/TqVtxRYgwnUWYtgoR1P3w089jJ8v/TzhsVfXX8XDTz2Mpz/+dEHHVmoGpFjsV0CgUqn4qUwtLS18o6zT6YTP58NLL70Eg8HAN7NXVVXlHERKMc5YKddJyH4LkGTKyspQX1+PyclJnD59GtFoNGECk06ng8ViwbZ2G264cbjmcF4Zmmyjhh1bjj3HpRKs/IjFYigtLYVareaFhnBYgcfjwezsLAKBAP85NZvNMBqNKf8mv99PGZBbBBIgREGw6UuNjY04cuQINBoN/H6/pEE719mZ+eddXTkf0+PxwGq1wmQyYWBgIO0OKctOyHmjVqvVCIfDGZ+ztbUFq9XKj67NZUdXTgGSHADv7OxgaGgo5xG2qZC6d8XmtiW4mzNiXAzPO5+H3W1HtyX/cpNcxYBU7yclBrb7CWuU3dnZQVlZGbq7u/nsyHNvPoflwDKO1h7FXc138bvq2ZBinLHSgn1AuWsCbl5HvV6fMIFpfmMev/ez38Orm6/yz+8/1I///v7/jtbaVtFlSFlHDZv23nNYY7zSXi+geOOBVTYb1E6nKINURjpxlDysgGW/2DjnaDTKl1VWVVXBYDBAo9FIWoL1l3/5l/i3f/s3PhszMDCAb37zmzhy5Aj/nE9/+tN4/PHHE37v7NmzeO211yRZw+0MCRAiL2KxGKamprC6uorjx48nuERLXbbE9fQgdv/9UF+/DpXguJxGA/fJk6jMIfvBcRycTidmZ2dx+PBhtLa2ZryhsBuanDW2mUqwOI7DwsICZmZm0NPTg7a2tpxvgMm+LFIiFDdC9/XOzs6Cb9RSC6fhxeGMP5/1zBZVgEiB0oIhJYqh0tJSlJpK8Sev/Mm7ZTd24IzlDH6/6fdRXVHNO7OnKwORapyxEq+X0tbEPvPJ69JoNPjDV/4Qb9x4I+Hx12+8jv/rmf8Lj3Y/uqcPKN3fluuoYbYuJWcZZO0Bcbuhv3wZ2mvvlq1FL15E4MoVIIuvl9i1lZWVoaGhAQ0NDeA4Dj6fjxckP/7xj/E3f/M3uOeee1BfXy9ZudmLL76Iz372s7jnnnsQjUbx5S9/GQ888AAmJiYSRM4HPvAB/OAHP+D/W2nlbgcVEiBERlJ9gXu9XgwPD/NTjZJ3EOXom4g+8QS0n/pUQi9I6L77MPaFL+BekcdghoherzdtyVUy7IYj5xd8ukA7Go1ibGwMHo8Hp0+fztvAsRglWGNjY1hfX8eJEyf4eu5CkSqg5zgOi4uL8C54Mz6vy5x7Ji3VuYqNEoN+pcC+v1I1HL/teRvfr/w+/v7E38PtdvNlIFVVVXy5FvOskGKcsRKvkxL9NtKVOqXr24hzcbyz8w6qD1fDFDPxDe0ajSZh3G/y2OZcRw0rWYDIvTb95cvQJA170QwOQn/pEgJX9zbsC8nn3qlSqVBZWYnKykq0tLTgyJEj6Ovrw/PPP48XXngBNpsNhw8fxvvf/368//3vx/ve97687o/PPfdcwn//4Ac/QG1tLd5++2285z3v4R8vLS1N2GQlpIEECJETy8vLmJiYQGtrK3p6elJ+6Wm1Wul33M1mRJ9+GjG7/WbPR1cX3GYzQmNjon7d4/FgeHgYRqMxY8lVMsIMiFyk6jPZ3d2F1WpFWVkZBgYGsnoeZDu+XOtnpWM7OzsYGBhIOdM/X6RYt9B/5EPnPoQf+3+M63PX9+x6Xmi/UFD2A6AeEKXBXpdMDcfXF65jS7OFw4cPA7hZBpLsWcEC2P/46H/gP/34PxU0zlhp2YZUGRCxvhhyrgnY+1pl69tYDa3ijo470NLSgng8ju3t7YSxzRUVFQnu7LmOGla6AJFrg0xlsyVkPvjHYzFor12DKssQGCnWVlZWhgceeAAPPPAA/vzP/xwrKyv4xCc+gZ/97Gf46le/isnJSZw6dQrf/e530d/fn/d5tre3Adz8zAsZHBxEbW0tTCYT3vve9+JrX/taXl5RRCIkQAhRRKNRTExM4MaNG7j77rv5us1UsAyIHOl9rrub/7LTbm9nzbRwHIe5uTnY7fa8SphUKpXsjejJJVhM5LW3t6O7u1txpUwMNgoYAE6fPi15WrrQ4DoQCGBoaAgqlYr3H3niw0/gt6/+dkJAeqH9Ap748BNFXe/Kygpu3LjBB0QHOaXPAtYalTSZL6nJpeG4rKwMjY2N/BhR5j2yurqKnZ0d/OjkjzATncFsaBa/0vEreH/n+0WvQ4nlTsI15eqLIRfpSrBy6dsQNjwD4A3z3G43pqenEQqFYDQaYbFYUGupRVd7V9Zro3QBItfa1M7Mnx+1w4FYBgEidfWAz+eD2WzGr/3ar+HXfu3XANz8Pr1+/TqampryPi7HcfiDP/gD3HfffTh+/Dj/+IMPPoiPfexjaGtrg9PpxFe+8hVcuHABb7/9dkEbgwQJECILKpUKOzs7Cbvx2WZ3F6Nvgp0nkzBgJVe7u7u45557YDKZ8jqP3AKECYRYLIbJyUmsr69nFXn5HD8dNrcNDo8DXeYuUVmA5NHFExMTsgRWhQgnl8sFq9WK+vp69Pb28jdnc5kZ//4b/45/ePYfUN9bf3OKToGZD4YYARKPx/neqbq6OiwuLmJiYgIGg4HvQ8hlStN+ZkBSBaynjKfwbyf/ragBazbyaTgGbr62RqMRRqMRHR0d/NQes9uMblc3QvMhDG0P8SIy22hQJWaqhAIkV18MuUjX7J1P3wZDaJjHcRzvzu7xeLCwsACVSpXgT5HOnV2pAkTOKVjxjsyfn3iWITFyCJCGhoaExxobG/Hbv/3bBR33c5/7HEZGRvDyyy8nPP7xj3+c///Hjx/H6dOn0dbWhmeeeQYf+chHsh73b//2bzEzM4OamhqUlpbyXillZWX8/wr/lZaW8v9KSkr4fzqdDlqtVhF+L1JBAoTIyO7uLl5//XV0dHSgqyv7LhEAvokzGo3K+mFhwiDVziKbGlVVVYVz584VNI1JbjNCtVqNSCSC119/nd+tL0YpkzvgxsNPPZwwGer+jvvxxIefSBtARiIRjIyMwOv14uzZs6isrMTExIRshoG5Bm3CjFc6nxSVSoXG0kZcaL8gaeYh23pDoRCsViui0SjuvfdeaDQafgKay+WC2+3G6OgoOI6D2WzmBUkmwb+fO+qpAtah7aGiB6yZUKlUBQWuQoRTe4RBrNvtxtzcHD99K11WS4kZEBbs5+OLIReZ+lJy7dtIhUqlQnl5OcrLy9Hc3Ix4PM67s6+urmJ6ehp6vT5BkGi1Wv61UiJybvZxPT2IXrwIzeDgniEwsfPns07Dkloc+f1+VFZWSnY8APj85z+Pp556Cj//+c+zems1NDSgra0NNptN1LGffPJJvPrqqwn3B7VaDY1GA61WC61Wy/sWMbHBxEdpaWmCMDEYDPD5fPirv/ordOUx/VNpkAAhMlJZWYn+/v6cPvBs90pu/wwmdIRfvoWWXKVCbjPC3d1deL1etLW14ciRI5LvZKUTIA8/9TCuzyW6y1+fu45P/eRTKT0xdnd3MTQ0hIqKCr6Phn2hyiFAcs2ACJv2M2W82Osr9Y50JgGyvb2NoaEhmEwmnD59GiqViu+fKSkpSZj+khwMlZeXJ9SuJwcaUvwdudb9p20IRrzoAWs6hK+LFIGrkFRBLOs5YFmtysrKhOvGfk9JMFGUjy+G3GtKRa59G2JQq9UJma5oNAqPx5PgT1FVVYWSkhLE43FFZkLkXlPgyhXoL11K6AWJnT9/cwqWiLVJnQGRagwvx3H4/Oc/j6tXr2JwcBAdWbI9wM3s+uLi4p4sTDq2t7dRUlKCz33uc9Dr9djZ2UEgEEAgEEAwGEz4/8J/Ozs7CIVCiEQiCIfDiMViiMfjiEQi+NM//dNC/3RFQAKEyIharc55t0GlUhXFQTx5QlUkEsHo6Ch2dnYKKrlKdR45/hbmHj8/P4+SkhL09vZKfg4gdSCfqycG60tJzoSxHpn9zoD4/X4MDQ1Bq9Vmbdpna5dDgKRiZWUF4+Pj6O7uRnt7e0aDRZVKhaqqKlRVVaG9vT2hdn1qagqRSAQmk4nPjhRKvnX/SgpYxSBH4CpE2HPQ1dWFcDgMj8cDl8uFiYkJRKNRVFZWIhqNwufzSeboXSgs2M+3TE0OxATT3eZu2d5fWq12jz8F86YIBAJ4+eWXE8b96vX6fb+WshsRms0IXL0Kld0OtcMh2geE4zjJBYjX65UsA/LZz34WTz75JH7yk5/AYDBgbW0NAGA0GqHX6+H1evHoo4/iox/9KBoaGjA3N4dHHnkENTU1+PVf/3VR5/D7/WhoaMAf/MEfoK6uDoFAgC+5jkajCf8ikQj/LxwOIxKJIBQKIRAIoKSkBN/4xjfwwgsv3DJGjCRACFmQ03tCeA7g5pcvK7kyGAwYGBiQtLRGjhKsYDCI4eFhRCIRHD9+HNPT05IeX0gqgeDwZHaXZ54Ywp6FdH0pcvUhiBU2m5ubGBkZ4c0wxd6I5RAgwvXG43HMzMxgaWkp756e5Np1v98Pl8sFl8uF2dlZqNVqaLVabG5upvWwyES+df9KClhzQc7AVUhJSQnq6upQV1fHexosLS3B6/XizTff5B29q6urYTabCyoRLQQmQKQqU5NyTUqBDSbgOA4ajQZdXV1wu93Y3NyEzWZDaWkpL0b241pyHMevTfZzdXdnbDhPhm3cSZ0BMRgMkhzrscceAwCcP38+4fEf/OAH+PSnPw2NRoPR0VE88cQT2NraQkNDA973vvfhn//5n0WvIRAIwGg08tnrQsTT3//93wMACRDi9iGfAFOr1cqeAWG77wsLC1hYWEjYYZYSqbM5LpcLw8PDqKmpwalTp+D3+2XvMUk+fqc5c4DYZe5CMBjE0NAQOI5Df39/Wsfo/cqACJvh+/r60NjYKPq4cogm4fsuHA5jeHgYoVAI/f39ktwwVCoVKioqUFFRgdbWVsRiMczMzGBra4svFWGTfaqrq7M2RRdS958uYFVDjfe1vU8x2Q8lBLLM0+DQoUPY3t7G6dOnsb29DZfLBafTiSdeeQILsQWcbTqLh44+lNMQgkIRBvtSl6nli1J7LdhOvjBDyTa/mPfI2NgYDAYDL0iMRqPs15Ldm5RWFgbIsza/35/2XpQr2e4Ber0e//Ef/1HQOWZmZhCJREStOd0IavY5LSsrg06nIwFCEJkoRglWJBIBx3FYXl4uyKgvG1KVYAld2I8ePYrm5uaijPlNdfweSw/u77g/rSeGmTPjlVdeQW1tLXp7ezPuYMklQDIdNxqNYmRkBLu7uzh79iyqqqpyOnamMqh8YaJmd3cX37v2PTjDTnzw5Adlu1loNBpUVFQgGo3ijjvuSGiKnp+fh1qt5sVIqqboQsuoUgWsJ4wnih6wpkMKgfmzuZ/hrdW3cKbhjCizQTHrYc3qW6otfPz5j/O+Ij+c/yGqXq/CXx/9axxrPJZQ4iMXQgEid5laLmtSYjCdal0ajQbV1dWorq4GcHPQBJuuNT4+jlgsllCuJUfpHfseU+JrFovF+HucFLBsolQZkGKQy1rTvTfY448//jgef/xxSdalBEiAELIgtwDZ3t6G1WqFSqVCX1+fbOIDkKYESzg9KtmFnR1frtKDdIH8Ex9+Ap/6yacSekEutF/An9/153jnnXdw9OhRtLS05H38QkmXpfB6vRgaGkJZWRn6+/vzKreTKwMytzOHD//3D2M3tgsA+HvH36NaX42XH345a9lSvudk6PV6NDU1oampCfF4HDs7O3zDJBv1ywRJVVVVwWVUyQFrraYWvkWfokbw5ovD48CFf7qQ0nSw3dSe93GF1yv5+ACwE9vBF+1fxItHXsT6+jpmZmZQVlaWUOKTa5ldJlJ95xSrTC0dSmzyBsT1WZSWliYMlPD5fHC73XzJpFarzTgpLR+ULkCkLg2Tsgl9v2E9MkKE/ZXC/70VIQFCZCXfEiw5ekA4jsPCwgJmZmbQ1dWFpaUl2b94CxVTTCxVVlamdGEXTmUqpgAxl5nx9Mefht1tx6xnFm1VbQgsBbC9tr1HJOVz/EJRq9V8fTN7XdbX1zE6OoqWlhYcPnw479eLHVsqOI7DysoKfn/093nxwXAFXLjv8fuw/PvLoo+nstmgdjqzNnum+2yq1WqYTCaYTCa+KZoFQqOjo4jH47BYLLiv/j68uv5qQXX/LGDd3t7G2OKY6L9RyaQSB+6gG+efPI+5z8zldUzh+/hncz/bc3yGJ+SBAw5cOHkB0WiUL/FJLrOzWCwwGAwFfWcoMdugtB4QRq6vFSu9q6ys5Esmt7e34fF4Uk5KMxqNeQXrTBgp8TWTYzzwQcuAZIIN7LldIQFCyIIcGZBIJIKxsTFsbW3xJVdra2tFmbaVzzk4jsPi4iKmp6fR1dWFjo6OlDcJ4TQvOYKBbAKh29KNOl0dhoaGUF5ennMTv1xN6MnTqtjEsDvuuAP19fUFH1uqNbPs1vWF63vEB8MVcOGa8xoudlzMfDC3G/rLlxPGXUYvXrw57rKALF9JSQnq6+tRX18PjuPg9Xrhcrnwxc4v4k99f4qh3SH+ue9teW/eZVRKM9vLJyjLJA7cQTeuz13PqxxL+Nq8tfpWxue+sfoGLrRfgFarRU1NDWpqbrrMC8vskg30qqurc3ZmVmKwr+QekEK+n4U+McJJaW63G5OTk4hEIgniMlsPl1TrkhOpMyDRaBShUOiWyYA888wzcDqdCIfDKCsrQ2VlJaqqqmAwGFBRUYHKykr+f6UyJlYSJEAIWZBagLAsQkVFBc6dO8cHyMXoNcnnHNFoFOPj43C73Th16lTGkalC53g50Gg0ezIJQtiY2Pb2dnR3d+d885czAwLcrKseHx+H3+/P2ZMmHWJ6QMQ4xLNyML1eD0+5J+PxXl9+PasA0V++DM3gYMJjmsFB6C9dQuDq3qlU+QgplUoFg8EAg8GA9vZ2XDt9De/Mv4Ox5TFURipRq6nF/NQ8vNVe2erWi0G+YkisOMgH9jqebjid8XlnGs6kfDy5zG53dxculwsrKyuiPGOSUaoAUWJALfW6kiel+f1+XpDMzc3xPVxMYKYzJJXThLBQpN5U83q9AHLrq1Aic3Nz+MIXvoA333wTq6urWZ+v1+vh8/kU+9nIFxIgRFbyuUFJNYY3ueQqOYtQLAESiUREP9/r9cJqtaKkpCSrJwXw7usr19/BvrCSb1TxeBzT09NYXl7GXXfdhdra2ryPL1cPCAC88cYbvCGmVCMuMwXuYh3iNzY2MDIygtbWVvT09GB+ZD7jOc82nc28JpstIfPBPx6LQXvtGlR2e8pyrEKzDlqtFme6zuBM1xk+EBLWret0Or6R3WKxSNqDoETyFQfZEF6n97e/H5YyS8pMi6XMIkrgCA30Ojs7U3rGGI1G/tpVVFSkna6jJJS4JuDm96Vc733hhDtmbLmzs8P7jzB3dqG4ZGuR3QOkAKTOgPh8PgCQ3Am9mLjdbvzxH/8xnnrqKTQ0NOAzn/kMjEYjYrEYdnZ2sLOzA6/Xi93dXfh8Pqyvr/MGiUrLMBfKrX0nIfYNrVabU9CeikgkgvHxcXg8nrRZhGIZHoo9x+rqKsbGxvigVMyNgdWBypUBSSVAgsEgrFYrYrEYBgYGChprKJcAWV9fBwDU1dXhyJEjkgYlmXpAsjnEC8f/Hj9+nHfEvdB6AVXaKuxEd/Ycs1pfnTX7oXZmnkqldjj2zOCXOlATBkItLS0JY0YdDgfGx8dRVVXFB7XCHgQlBo35IIU4SEVyYD34W4M4/+T5lI3u+ZDKM4aVazkcjpQN0ErtAVHamoDiloYJe7iYuGSfQ5vNhmAwCKPRCLPZDI1Go9jPntQCxO/3Q6/XKzbjkwn2+V9cXMS//Mu/oLe3F48//jhOnDgh+u85iH93JkiAELKg0WgQDAbz/v3t7W0MDw+jvLw8oeQq1XmKkQHJFmAzw76VlZW8sglyBfHs2MC7JV5utxtWqxU1NTXo6+sr+EtN6pG2QgM/ALJ4u6TLgGRziJ/anEJgKYCdnZ09439VKhW+0/cd/D8z/w9cARf/OJuClY14R+apVPHO1FOp5NwVE44Z7enpQTAYhMvlSjnqV2oDNpvHBueWs6BxsPm+b6QWB6nW025qx9xn5nB97jreWH1DklG/wvMIhWQ8Hsf29jbfO8KmorEAUUmlHUruAdmvAFCn0yW4swt7gdxuN2KxGEZHR4syujkX5HBBP8gloSqVCltbWwCACxcu4PTp04jH4/w/IcK/UalDBgqFBAiRlXxLsApt3O7s7ERnZ2fG8yuhByQQCMBqtYLjuLyzCXJ6gQhLvJxOJ+x2O44cOYKWlhZJvtSyTZQS00vBCIfDsFqtCIfD6O/vx8svv1zUEb/ZHOKfffVZ3Fd/X8rxvyqVCvWl9Vj+/WVcc17D68uv42zT2eyN57+E6+lB9OJFaAYHoRK8FziNBrHz51OWXxXzppTgiXHHhYQykcXFRezu7kKlUmF2drYgEzZ3wI3Lz15O8Be52HYRVx66ktOI30KEmRziIN16LrRfkEx4pEOtVsNsNsNsNidMRZudncX6+jrW19dhMpn4zJZer9+3gIcyINkR9gKtrKxgaWkJBoNhz+hmds2L7c7OkKMH5KA2oLP3jkajgVar5Xt6WAO6Et/zckMChJCFfMbwRqNRjI2NZSy5Sma/S7A2NzcxMjKC+vp6HD16NO/dHjlLsJjz98TEBLxeL+655x6YTCbJjp8ueyO2l4Kxvb2NoaEhmEwmnDx5ElqtVhbDQCB91iabQ/yxhmM4fep0ypuFUNRc7LgoWngICVy5Av2lSwm9ILHz529OwUqD3HXB2TwxWJmIy+XC2NgYQqEQxsbG+FG/ue7KXn72MgYXBhMeG1wYxKVnLuHqR/c24suJlOJASb0NbCraxsYGH6S63W5sbm7CbrejpKQEuyW72NHs4I7mO3D00NGirU1Jgb4QJWWJhHAch9LSUrS3t6O9vT1hdLPT6cT4+HiCO3tVVVXR/g45ekDETgdTGmzNfX19OH/+PH7605/iW9/6VtrhArcDJEAIWchVGOzs7MBqtUKv14tq3BaeRw6/keRzJP8tHMfBbrdjbm4OfX19aGxsLOgccpZgeb1ecByHSCSS84hdMaRbe7ZeCiFLS0uYnJxEd3d3QsmV1H4dwjWnOm46h3g11DjXeA4fuOcDaY+Z60SqlDdRsxmBq1ehstuhdjhE+YDIjVhPDJ1OB7VajWPHjiWM+mW7sqyJtrq6Ou2EJpvHlpD5YMS4GK7NX4PdY99Xk7xCUVrgxLINQr+KG74b+PTTn8bPV37OP+8e8z349sC30V7fDoPBIGsAq+QMyEFYV/Lo5mAwyA8nYB5ATHTKPeVOjh6QQvoVlYDZbMZXv/pVfPGLX8Rv//Zv44/+6I9w7NixnEdo3wqQACGyImcJlrDkqqOjA11dXTmdr1gCRBhgh0IhjIyMIBgM4t5775VkJKBcJVhra2sYHR2FWq1Gb2+v5OIDSC1AsvVS2N12dFu6+d6Z1dVVnDhxgr9pMuT0GEl33FQO8e9teS+e/OiTeR8zFey5qd7vXHf3nobzbMeRg3w9MZJH/UajUT4Imp6eRjgchslk4gUJC4KcW5kb8R1bjpwEiJICfiVlQBipsg3/9bn/il+s/iLhsXe23sEfvfZH+ErHVwCAD17l6Dc4KIG+UshW5lRWVpbgzu71euF2u3Hjxg1+yh27lmazWdJ7RCwWkzSw9nq9B3oCFuO+++7DJz7xCTzyyCOYmZnB6dOnUVNTg6qqKt73o7y8HAaDARqNBkePHkVzc/N+L1tySIAQsiBGGAi9Mk6ePInq6uq8zlPMEiyPxwOr1Qqz2YwTJ05INpZR6hIsYSP3nXfeicnJSdkC1VSBd7ZeilnPLJrLm2G1WhGPx9Hf359yZ0vOEb/pXg9zmRn/8qF/wdOvPI3V0CruP3k/jtUfK+iYciH3OaXyxNBqtXwTbaoJTSwIMuqMGY/TacpcIqdklDhCM1kUZcpAve56HY0fbEStthZutxtra2sJma3k8bBSrUkpKFWA5LIu4cZAW1sb787Ohkqwci0mME0mU0F/s9RN6D6f78D2gAj53ve+h7//+7+Hz+fD22+/jbfffjvj8//kT/4Ef/7nf45oNHpLjUG/df4SQlFotdqMwmB3d5c3cMul5CoZOXsnhOcQNnAfPnwYra2tko+FTfd35NLEDdzM0FitVkQiEfT396OiogLT09OyTtlKPna2XooaTQ1effVVVFdXZ5zEJWcGJN3rwaaE9dX34Td6fyOnm/t+CBA5ycUTQ+xaUo363d7ehsvlAlzACcMJDO8OI453r49GpcH51vM5ZT+UGMgqbT3Jr1HWDNS2A90d3aiqqtqT2RKOh2WZrXzq9ZXaA6LU0rBCypyE7uwA+OEEbrcbExMTiEajfKYynZeMXGtLhd/vP7AZECYUn332WTz66KNYW1vDf/7P/xlnzpyBRqNBKBSC1+uF1+uFz+eD1+tFMBiEw+HAnXfeCQCKfP8VAgkQQhbSZSY4jsPS0hKmpqbyKrlKdR65S7A4jkM4HMb8/LzkDdyMVCVYuTZxA+9maCwWC06dOsXvlsg5ZSuVAEnXS6FRaTBQPwC3zS1KyBUzAyI0vTx69ChaWloKPqbUpBpNK+c55fLEEJIcBP3zkX/GpWcv4eW1d0cXn7acxl+e/kuEQqEDWystvE5SjBiWak3Cz1+HKfMo6OQMlDCzBSAhsyUc08z+ibl2HMcp0u9AqYZ/UmYZ2HCC+vr6PZlKp9MJjUaTUH6X7XpK/Zod5AwIEyDPP/881tbW8OUvfxmPPPJITiWMSnz/FQIJECIrhfSACG9w0WgUExMTuHHjRt4lV6nOI2cGZGdnByMjI/yIXTl6KIDUf0cuTdwcx2F+fh42my1lYC+3z0gq08lUvRT31NyDzzV8TvSUM7mmYCU3ocfjcUxMTGBjYwOnT5+G2Sx+3CuDvd5y7LynG037V2f/StLzpEIuT4x01Jvq8exvPQu7x45Z9yxqtbUwxoxwbbjwi9lfoLKykh8Xm23Ur5J20jmOw250F7/+418veMSwlGsSvkY95h5cbLuIwYXBPRsHYjJQ5eXlKC8v3+Pmvby8jMnJSVRWVvLBq9FoTBk4UwYkN+LxuCz3pUxeMux6VlRUJJTfJV9PqTMgt0IPyMbGBgDgQx/6EPR6PcLhcMYKAODWEx4MEiCELLCd91gsBq1Wi93dXVitVpSWlmJgYECy0XNy9oCwyUwtLS2Ym5uTdZZ6skAQ28QNJPbSpAue5RQg6USCucyMpz/+NOxuOybWJxBcCaKlvAUnTpwQff3lmoIlzFYEg0EMDQ0BgKj3ZrqSuFwESK4BVrrRtL8f+X38aeef5nSsXJHTMC8T3ebuhIC3s7MzoURkfHwcsVgMZrM5wb9CyTw6+ijecif21ezXiGEg9Xv1ykNXcOmZSwki6XzreVx5KP0o6FSkcvNm125ychKRSCRleY+SA30lrqtYmRmhlwwARCKRhMESoVCIL7+zWCwwGAyy9ICI2bhSIuwaHTp0CCqVio+RVCqVIjN+xYAECCEL7AMVjUaxtraGyclJtLe3o7u7W9LdLTkESCwWw8TEBDY3N3HixAlUVVVhbm5OVifc5BIpMU3c3ZZu+Hw+DA0NoaSkJGMvjZyZomwiwcyZUbFSgc66Thw7diynm6XcPSBbW1sYGhrK2osCZC+JEwoQsWsQQ6bG4JdWXsJSwxLO4EyK35QWMZ4YcpegJZeIpBv1a7FYFFcy49xx4nXX63se388Rw6kEiLnMjKsfvQq7xw7HlkOyMjGdToe6ujrU1dVlHETg9/uL5o2QSymcUgXIfq1Lp9OhtrYWtbW14DiOd2f3eDx8+R37jq2srJTkmvr9/gNbgsWu0e/+7u/i+9//Pn70ox/hxIkT+2YSqQRIgBBZyUcwsA/bxMQEtra2Uo5YLWhNNhtUDgd0dXWSChCfzwer1QqNRsPvhrMeE6nTyUKSBUK2Ju4ucxfW19cxOjqKlpYW9PT0ZLwJyV2ClerYwrKwfHoqMh27UFQqFba2tmC329HT04O2tras73OxJXFSB+HZGoOXA8uSnu+gkGnU78zMDILBIMrKylBSUpJXA63ULHgXMv481xHDUpApW5ecgZKSdIMI3G43fD4fdnZ24HK5+GZ2qc3z0pU0ZiqFU7IA2e8ddJVKtaf8jlU9uN1uLC4uQq/X8/0jZrM5r2lOPp9PkrH3+0ldXR0effRR/N3f/R1UKhV+8zd/E62trSgvL4darYZarebNg9m/WxUSIIQs7O7uArhZ3iJlyRXcbmgffhia52/uQlsA3HPiBLiTJ6EqMDW7traGsbExNDc34/Dhw/zNhn25y9lrolarE5rpMzVxv6/9fYhtxjC6OIrjx4+jvr5e1PGLKUCEZWGFNO7LkQFhtenBYBCnTp0S1YskpiSuvaodgPQCJFtjcGNZYSaYUrHfN8rkUb8TExMIh8PweDwJO+zV1dUwm81F33lsqcgswPdjxLBSyp2Egwh8Ph+MRiNKS0v3mOex5xRqRpeupDFdKRzHcYp5rZJRWqYPuHlPMBpvjtQ+duwYysrK4PF44PF4MDs7i0AggKqqqoRyLTF/w63QhP6JT3wCGxsbcDgc+Na3voXnn38eXV1d/CYJE3Ll5eWoqKiAWq3Gb/7mbx54A8ZUkAAhRJFLIMh6J5iBjpTpdO3DD0N9PXEXumZ4GNynPoXo//7feR0zHo9jenoay8vLKQN6lUol6xQp4OYNOBwOJzyWqon7fOt5/N/N/zc2NjZw7733im7IK6YA8fv9GBoaglarLWjEcqpjF4pwRHFLS4voQQhiSuLkEiCZGoPPNZxDU1mTpOe7FWA11mVlZejq6uJ32N+Zfwc/e+dnsHAWHK09ygsSg8Egu4Bqq2zDvTX34k3Xm3k1eMuBEkcVcxyHkpKSlOZ5m5ubsNlsKC0t5ft+ct1Nz1TSmK4Ujn0HKS3QB5SbmeE4js/OJE9LCwaDfPnd0tISOI5L6AfS6/Up35cHOQPC/p7Z2VksLi6ipqYGkUgEIyMjfA9iOh566CESIASRCdY7sbGxgbvvvhtTU1OSBu0qm43PfAhRx+PAz36GmN0OTqR7NCMYDMJqtSIWi/GeGamQW4CkCrSFTdyznlkc0hzCtnMb5gozjh8/ntNNV+4mdBZ0b25uYmRkBI2NjThy5EjBN0Ypp2Btb29jaGgIJpMJer0+p9dPTEkc+1vl6INI1xj87YFvY31+XfLz3QoIr8N2eBuXX0gsubnPcx/+pPdPsLi4CJVKlfO42HzW8//e/f/iG7ZvFNzgLeWalCZAkqdgpTLPY6V2ybvpYsRkVq+TFKVw7DtIaa8VUJwSLJXNBrXTiXhnp+h7LMsapVpbWVkZGhsb0djYeHM63O7uHoHJPotVVVX8JqbP55MsEP/Lv/xL/Nu//RumpqZ4P7JvfvObOHLkSMLf8Gd/9mf43ve+B4/Hg7Nnz+Jv//Zv0dfXl/P52Hvn6aefxu7uLvx+PwKBAILBIAKBAPx+P/x+P3w+H//frK+GZZNuNUiAEJLg9XphtVqh0+lw7tw5lJWVwW63SytAHJl3oVWzszkJkBs3bmBkZASHDh3CsWPHMn6Jyz3uN5PA6TJ3ocRbgunpadH9CqmOL2cGJBaLYXZ2Fg6HA319fWhslKYsSMwUrOcdz+PNlTdxtuksLnZcTPmclZUVjI+Po6urCx0dHZiYmMjp9chUEneh/QK6Ld388eQQIOkagz0eD9a4NcnPd6uRquTm1fVX8Velf4Uf//qPsbu7C5fLtWdcbHV1ddZRv7lgLDHK0uCdL0oUINlKnTQaDWpqavieQuFu+uLiIgAkiMnkDHyuXieAsjMgspZgud3QX74M7bV3BXP04kUErlwBsowqZ/ezbOJIpVKhqqqKN7eMxWLY2trivUe+9KUvwefz4b777kNJSYlkFRUvvvgiPvvZz+Kee+5BNBrFl7/8ZTzwwAOYmJjgNyK/9a1v4dvf/jZ++MMf4vDhw/iLv/gL3H///Ziens47E3P06FFJ1n8rQAKEEEWmEqzl5WVMTEygra0N3d3dCb0TUgoQrjPzLjTX1SXuOByH2dlZOJ1O9Pb2orm5OevvyDnulx0/VUAci8UwPj4Ol8sl2jsjFXIKEFYiEQqFcPbsWVRVVUl27Ezvu1nPLN7zxHvgCrj4x6r11Xj54Zf5ICMej2NmZgZLS0u4++67+RKAfMb7piqJu9B+AU98+Al+rWLxer2w2WyorKxETU2N6AbpVI3BxXZfz4SS1sLIVnLj2L654200GvlRvx6PBy6XK2HULxMk+Y76Fb42cjZ454ISBUiuPiDJu+nMe2R1dRXT09P8ZLTq6mqYTKa8vE5u1wyI/vJlaAYHEx7TDA5Cf+kSAlczj41m98tcxZFGo0F1dTVfHvv444/j2WefxQsvvIDZ2Vl86EMfwvve9z7cf//9uP/++3Hs2LG8rstzzz2X8N8/+MEPUFtbi7fffhvvec97wHEcvvOd7+DLX/4yPvKRj/Brqaurw5NPPonf+Z3fyfmcyQjvycLvB1b2fatDAoTIm+SSKxbcMSQXID09iN1/P9TXr0MlOG5crUbkve8FRGQ/wuEwRkZG4Pf7cwqWi1GClXx8YS9Ff39/QTs/cqzf5rZhfHUc3gUv6rR16O/vl9wQK5NwShYfAOAKuHDf4/dh+feXEQ6HMTw8jFAotKe8Lp/m9uSSuHQ+INmE3sbGBoaHh1FbW4vt7W3eY4YFSRaLRXR5mBIDIqXAgutcS25KSkoSxsWy/oONjQ3YbDaUlZUl9B+IDf6UGOwrdU35Bl8qlQpGoxFGoxEdHR2IRCL8bjrzqjCZTPizO/8MfxL7EwwuDfK/m6kUjvVZKO21AuTrAVHZbAmZD/7xWAzaa9egylLyzDIzhb5mbW1t+L3f+z387u/+LmpqavC//tf/gs1mw3PPPYdHHnkEZrMZH/vYx/Cd73ynoPNsb28DAL/J53Q6sba2hgceeIB/TmlpKd773vfilVdeyVuAvPrqq/if//N/4oMf/CA+8IEPpH3e4uIiotEoWlpa8poYdhC4Nf8qQnZYyZVWq+VLrpLRaDQJk52kIPrEE9B+6lMJvSCuEycQ///+P5iy/O7W1hasViuMRiP6+/tzmoIjdwlW8vE3NjYwMjKCpqYmSXop0rmV50MqP4zTptN4+leeRgmkFSDphMLzjuf3iA+GK+DCU+NPwXjDCIPBgHvvvXfPF3ghvSXdlu4E4ZF83HRwHAeHwwGHw4Hjx4/zNzrmMOxyueBwODA+Ps4belVXV6OysjLrcYn05FNyw0juP4hGo9ja2oLL5cLMzAwf0DJBki2TpbQAVokCREondJ1OlzAZjdXUu91u/GHdH+K/WP4LdnW7ON5wHCfbT6bdQFHqBCxAvhIstTOzcFc7HIhlESBSZmbC4TAikQhOnTqFD33oQ/jDP/xDBINBvPLKK1hZWSno2BzH4Q/+4A9w33334fjx4wBuTsUEbo7NFVJXV4f5+fm8zhMIBPDtb38bV69exW/91m+lfV40GsXf/d3f4bvf/S7+5V/+BQ8++GBe51M6JEAIUQhvCKyevrW1NaP/hFarlT5rYDYj+vTTiNntN3s+urowvLqK3gz1mBzHYWFhATMzM3n3UMhdgsV2+jmOg81mw/z8PI4fP46GhgZJjy8Fqfww3tl6Z48fhhSkW/ebK29m/L1/f+vf8ci5R9DV1ZXyWkvZ3C7muLFYDKOjo9ja2sLZs2dhMBj4qWfCEaQ9PT18kORyuTA/P59QkpA8PlZJwaOS1iIkn5KbdGi12oT+A2amx8RjplG/ShSKShQgcgX7qbwqmPeI2+3Gyy+/zPf+WCwWmEwmfh1KnjSVrtG7UOIdmYV7PEtJtBwu6AASJj+WlZXhwoXM5qhi+NznPoeRkRG8/PLLe36W/Pko5DOzvb2Na9euoa+vD+fOnUv7vtJqtfiN3/gNfP3rX8fTTz+NBx98UJGf1UIhAUKIJhaLYXJyEuvr67jrrrtQW1ub8flyBu1cdzef/tVsbKQ9TzQaxdjYGDweD06fPg1zlsa5dBSjBCsajeKtt95CMBhEf3+/6BG7Yo+faf02tw0Oj2NPWVEyE+sTKf0w4ojzfhiZfj9X0gX09zTek/H3fvWOX0V3ht05OR3WkwkEAhgaGoJGo0F/fz9KS0sznluv16OpqQlNTU28kzBryBwfH0dVVVVCjbQSA1ulkW6KWKHTp5ID2uRrZTAY+OyIEgMIJa5JygxIJtRqNcxmM8xmM7q6uhJ6fyYmJhCNRvneH51Op7jXCZC3OZ7r6UH04kVoBgcTSp45jQax8+ezDnyROgPi9XoBQHIfkM9//vN46qmn8POf/zyhH5SN419bW0vYCNzY2NiTFckG+5y53W5sbW3hoYceyvo7JpMJKpUKs7OzCce4lSABQojC6/XinXfe4R3CxTRipvK2kIN0Qoc5sZaVlRXsRyF3CVYgEODHSfb390te85kuk5CqnOr+jvvxxIef2OMIvLu7i2dfezbjeWY9s5IKkHTN4vd33o9qfXXKMixLmQW/cfI38jpuoSQLG4/Hg6GhIdTW1uLYsWMJgYIYEaRWq/kd2e7ubgSDQbhcLrjdbszPz/MCbX19nQ+U8sHmscG55dz3qUxSIrxhp5siJiXJ1yoUCvHXanFxEfF4HGVlZfwuu5SjfvO5fmz3XGlBzX6VOyX3/vh8Pj675fF4AACTk5P7ZmSZinwbvcUSuHIF+kuXEnpBYufP35yCJWJtUq7L7/fzbuFSwHEcPv/5z+Pq1asYHBxER1LGp6OjA/X19Xj++edx4sQJADfLwF588UV885vfzOucLIvDStZTff+zz2QkEoFer0cgEEj73IMOCRBCFOvr66iurk5wCM+GVqvlPzxykkqAsMlc7e3t6O7uLvgmK1c2h+O4BOPGu+++W5aAIJ0ASVVOdX3u+p5yqtXVVYyNjeHu1ruByfTn6TKLm0QmlkylUi8//DLue/y+BBFiKbPgF5/+hajjyi1A2HU9fPgwWltbJbmuZWVlCdmR1dVVvmRvYmKC33EXa67nDrhx+dlEf4yLbRdx5aErewTorUAxp0+VlpYmTGcaGxtDKBTC8vIypqamUFFRkbLcJxcKuX7sfao0AVKsDEgmVCoVKisrUVlZidbWVmxsbMBut0Or1cLpdGJsbCzBybuqqmpfRJPs44HNZgSuXoXKbofa4cjJB0SODIjYaYFi+OxnP4snn3wSP/nJT2AwGPieD6PRyBshfuELX8DXv/519PT0oKenB1//+tdRXl6esX8jE+z1YOOigcTyPqF54+bmJvx+/x5j5FsJEiCEKLq7u3NuKJe7byLVeWKxGKamprC2tpZyMle+yFGCxaaIbW5uore3F1NTU7LdeFMJEJvblrKcKsbF+HKqTlMnP8aWld3dP7PXD0MNNS52XJQ0+8HWne517zB1YOgTQ/jhSz/EmmYNv3rnr+L9ne8XdVy5e0AmJyexsrKCkydPinZbZ4jdzVar1Xzgc+bMGX7H3eVyJZjrsRKgVA22qfwxBhcGcemZS7j60cxjNlNxK+7SFQq7nqqICp3mTnR1dSESifC9B//wyj9gcncSp+tP4wM9H4DFYhFttlbI9VOqAFFqw3dJSQl6enoAAKFQiL9+o6OjiMfjCd4j+Y5qzhWpJk1lg+vuzthwngqpBYjP55O0/Oqxxx4DAJw/fz7h8R/84Af49Kc/DQD44he/iEAggM985jO8EeFPf/rTnD1A2PU5dOgQzp8/jxdeeAH/8A//gE9+8pN7nqfRaLCzs4PHH38cAHD27Nk8/rqDAQkQQjaKLUD8fj+sVitUKpXoMrFczyEVbK1qtRoDAwOIx+NFnbIFAA5PZmPHqc0puO1uhMPhhDG2qfww7jLcxfthSEm6TIVwotQnBz6Zc7O+XBkQ4GaZRiwWQ39/f06uvfnsZgsDD+GOezwex87ODlwuFxYWFjAxMcH3jrAdW/uWPaM/ht1jv2XKsfaDVNdzoHYA/9T0TzCXmeEr8eHBFx6EO+gGADy5+iQeHX0U/+3wf0ObsS3BuyJVSWY2f5Ns10+pAkQJGZBkktdUWlqKhoYGNDQ0JDh5r6+vY2ZmBmVlZbwYMZvNso1RVWpzPCBPE7qUGRAx3/8qlQqPPvooHn30UUnO2dLSgk984hMYHBzEI488gtXVVfzKr/wKmpubUVJSgkAggBs3buDxxx/H//gf/wP33XcfPvShDwFQpglmoZAAIUSRz4deq9VKPoY3FWzHwOl0orGxEUePHpX8w6rRaCQbY7u5uYmRkRE0NDTwaw0Gg7LWZKfKgHSaM08x2XZso6m+CSdPnky4gSb7YTSXN2NxeBGmUlNR1h2NRjE6OoqdnZ28jQ/l6AHxer2IRCIoLy9POfo3G8Ld7J4bQJcHcLpfwCVk3s1O9Xeo1WqYTCaYTCZ0dXXxO7bC7Mh0bDrjepL9MbKhtKAR2N81pcpOvL75Op+duPBPF3jxwdiJ7uCPHX+Mt/7zW3C5XLDZbAgGgzD9/+y9d5gb53ktflB2ge0Atu9yeyO5XJLLLeRSlkSRomTZcWRbLrETiyp24jjxdaLr3Dj2TVyj3Ni5iXNTHKfIMu2f7NiOaVlxE4soySqmtAtsL8Bie0Xbhl7m9wf9jQbYwWAGmMFiqTnPo0cSFpgZAIOZ93zve87R6WhCQoowofkmsSDnTSYVNuQamEnHBHAX+rFJ3sSq2el0Ynp6Gl6vl7bVNhgMvEYjhRyXVCGEqUJsDYjYHZC9wgc/+EFMT0/jy1/+Mj71qU+hra0N9fX1yMnJwcbGBl588UWEw2E0Nzfj4x//OFpaWjKaaKYCmYDIkAzp6IAQK8Xt7W0cPXpUNNvaWIgxgsVMYG9vb0dVVVXU9oGbF20pVsvYRo5aDC0437B7nEqlUOFowVH0tfWhoaEh7s2S5GEEAgEsYEGSm2HscXs8HgwMDCA7Ozul4EOxOyA2mw2Dg4NQqVRoaWkR/B2S1Wy9B3jqv4C3TpO/RPDzpquY6RpAQ/2JXa/jW8gwV2xJdyQ0z704wJWPsR+wl+NgiboTF0cu7iIfBE6fE0M7QzjbdtNelFj9Op1OzM7O0rbMhWpu4p3o+8vEDkgmHhMgrNMQa9XMzB6Zn5+HQqGg3bWKi4tTMiOQKgNEDEilAdnvyMvLw2c+8xkcPnwYP/rRj/Daa6/hypUrCIfDKCgoQFNTE9rb2/HYY49xWvXeCpAJiAzJIDUB8fv9MJlM8Hq9KCsrk4x8AKm7YAUCAQwPD8PtduPUqVO7ZkjJhVqqMax4x881TtVYza8AZXrli01AmJ0Ku92OwcFBVFVVpRzOKBYBoSgKMzMzmJ6expEjR2A2m5PaDlnNfuq/gLtjJuPutgL2j/4R8PMX4h6DEJDuyF26u3DOvDsfQwkleop7kOfLQyAQED3d/s2ARN2JF+df5Pz7jZUbOFt/k4DEs/pVOpXoLOjE4PYgInjjt8033yQTi/1M7MoAqY06xdpqb29vw+FwYHl5GZOTk8jNzY0yIxByDc3k4lQKDYiY1vR7BYqiUFBQgAcffBDnz5/H5OQk1tbW4PF4kJOTg46ODrS3t9PPzdTvVwzIBEQGLyRzk5IiCZ3A6XRicHCQdvwh9nZSIRUytbW1BaPRiIKCgrgJ7MwiXgrEc8Ei41SjK6O4MnAFldpK/EbfbwjSLjAdPMSGQqFAOBzGzMwMLBYLDh8+jOrqalG2y+ez5spHCYfDGBkZgdPpRG9vL4qKimCxWJL6HBp0DWixMzsfb0BNARUvm7BjsexyoEm1eGTLx7i9+nZ88dgXaRevgoICerV2r9x+9hsSpa/fXns7/nPiP+P+vbeyl/VxptUvAHyv7Xt4+CcP45erbwSodRu68XjX4/D7/Zyr65loGEB+k5lEigDxCn2lUomioiIUFRWhsbERwWAQLpcLTqcTExMTCAaDKCoqorVaiTQPmT6CJebihcfjuSUICPP7JF3pWJBR7Ez7HYgNmYDIkAxSJKEzV5wPHjyIAwcOYH5+XvJRr2RHsEgR19jYiMbGxrgXFHKxkep9cCWhu1wurE+s466au9De3i74hkbek1TkaXt7G9vb23SRLwYSaUAS5aP4fD4YjUYAiMqYSbaz0qJvwQNZxwAMxj9mq5XViSaVQjJRPkYgEKC1I8PDw6Aoii6A2cZHMq2o3asbeKL09QePPIi/eOEvWMewDFoD3f1IhPKicvz0gz+9+f25rChTl6EoXASH3YGXZ15Gbm4uXczGWv1mYpHD1QHZy6waqToNWVlZKCsrQ1lZGSiKihq3s1qtUKvVUe5asQV9Jo9gSSVCv9UQe99Mh6tZpkAmIDIkAxn7EUtYHQwGMTQ0hJ2dnahiNB1aE6H7iEQiGBsbw9raGjo7O+l54ET7SGcHhKIoLCwsYHJyMqWsClLEiH3sXq8XMzMzCIfDuP3220UNbktEFLjyUb5177dgNBpRUlKC9vZ2weGC8fDx930V+Lu74v490rh7JE6sG1W8fIzs7GxUVFSgoqKCdvsh4yMTExPIz8+nC9xMCGZjYq/JEFt36VTZKTp9/foHr+PMU2eiSIhBa8D1D14XvK/Y76+hoSHK6peZ7E2+LyAzOw1A9HFlQlZNOkadFAoF8vLykJeXh5qaGlrfSLQjJOeHkJGioqI31QjWzs7OvuqA/O7v/i4GBgbw1FNPobW1Ne53xef7I4HOt9o4rExAZEgGcvERQ1i9ubkJk8mE/Px8nD59OqrYSRcB4Vtge71emEwmABBkB8zVpUgVsdtmZpB0dXXRBYlY208VTqeT/r4jkYio5APgJgqJ8lGefvFp3NlxJ+rq6nYVcEIJCJOcF7R3IXTuHFTXn4Mi/MZnSalUCJ85EzcALF2FNtPthxS4JOl7ZGSEXmxYXl5m7Y4IXcHe7+nssd2l0FoIR6qO0EVzva4esx+bxbXZa7ixcgO9lb28Ox98kJWVxZrsbbPZYDabkZ2dDYqiYLfb41r9igEh3yNbV0bsrJpksBez+EqlEnq9Hnq9Hk1NTXQ30ul0YnR0FOFwGFqtFgqFgtYPZBKhlMIFq6ysTLTtSY2JiQmMj4+npGsiv4f/+3//Lz772c/i2rVreMtb3iL2oe4ZZAIigxeS1YAAN21Tk725MVfpm5qaWF2Z0kFA+I5gEaF0RUUFDh06JOiiI0XYIXPbxOLS5/NFESStVivK9sUgIMzvu62tDVlZWZidnU15u7Hg6tgkykfJOZCD+vr6uNtNhRB4n3gCOY88AvXVN1Z7w2fOwPvEE3H3B0C0LqMQZGVlRXVH7HY7hoeHsbKyQotri4uLocpX4bGXHuO9gi3mincmFGSkOzG8M8x6PGfrz4pKPNgQm+wdDoexsrICs9lMW/0ytQf5+fkpf3bJfI+xeRupZp2IhUgkIhlB44vYbqTb7YbFYsHOzg5u3LiB7OzsqOyRve5Iit0B8Xg8+2oEy+PxQKVSYW5uDjk5OQiFQtBoNFCr1VCr1VCpVFCpVFAqlfS/FQoF/W8ykq1Wq2Gz2VKqozIVt9a7kSEphBZXSqUypaI6FAphbGwMdrudc5U+EzogzGC8ZIXSUo9gAaCLxLKyMhw+fFi0FapEmgouMTcBGVtbX19Hd3c39Ho91tbWJBO3x9tuonyUE3W77XD5bJcX9Hp4L12CwmKB0mpFpLExbueD7C8TQApchUKBrq4uevzH4XDgY//9MZi2TFHP51rBzoQVbymw1yNhTKhUKhQVFUGtVqOvr4/V6pfofJIdr0vme4ztNKSadSIWMm3UifzeCgsLodFo0NraSrujzczMYHR0FAUFBfT3V1BQkPbjl0IDIjSBfC/hdruxs7ODD3zgA9BoNNBoNMjJyYFWq0VOTg5yc3Ppf+fl5SEnJwd5eXm0611ubi60Wi1KS0sxMTEBAPtqBI0PZAIiQ1IkSw52dnZgMpmQlZWVcJV+rzUgTG1KssF4gLQdEFKoGo1GHDp0CDU1NaJvn408JRJzE5CuDEVRUd+3FNoSgJswceWjnK0/G5dAkeMVxd63uZlVcB73+XvQAeECGf8Z9g5jYGtg19/JCnb/bD86azvp4kjMFe9MKviBzPuOmMcTa/VrnDfitaXXUGArgC6sQ2FhIU1I+BSzyX6PsR2QRG5i6cqqyTQCQkCKfJINU1xcDODm9ZQQyoWFBQCgs0cMBgPvseBUIIUN737qgBw8eBDZ2dkIh8Pwer3w+/1wu90IBAIIBoMIBoO8XULJuScTEBkyBCAZK96VlRWMjIygtrYWLS0tCS/8ezmCtb29DaPRiLy8vF3aFKGQqgMSDocxOjoKADh+/Lgkc7TxRrC4xNzPvP8ZAMDGxgaMRiOKi4t3uXBJkVgOJCYKF++/iN/6/m/h+aXn6cfO1p/FxfsvJtx2OgvfTCpomWAbv2HDCyMvYGduhxZHT26Lm86eacik7yu22AfYv7e7au7CXzf9NTzbHiwtLUU5oRkMBtbFoWQ7F7EdkERuYuk6FzKVgMQr8rVaLaqqqlBVVUWbRzidTqyurmJqago5OTlR2SNSjPa82XNAfvCDH8Dv9yMYDMLv98Pn88Hn88Hr9cLn88Hj8cDj8cDr9dL/HfuP2+2mX7O+vg69Pj2mC+mCTEBk8EYyq7tCrHgjkQgmJiawvLyMY8eO8S6U0zmCxVw1XF5exujoKBoaGtDU1JRycSGFCN3j8cBoNNI3GKku4GzHnkjMbXFaoPVoMT4+jpaWFlFE3XzBtV2KorC5uolPVnwSf9HzF9jJ2uEcHWNCKsKUCJmy2k+Og238hg3vOP0OlGeVw+l0Ym1tDRtrG5zPF7rinUkFf6Z8RwRsHRm27+2FxRfwZ8o/w6UHLkU5oTG1PqQ7Qqx+k+1csJEiNjexM7VnaDexdCBTCUgkEkm46MU0j6ivr0coFKKzR5j6H/IdiqH/AcQVoROL4v3UAVGpVILytN6MkAmIDEnBlxwQ5ygygiPkh6tSqUBRlKQ3CWZSuUKhwMTEBFZWVnD8+HGUlpaKsg+xR7BsNhuGhobo5PArV65IqjGJLbASibmfG3wOjZFGnDhxgh4dYNuuVCNYbNuNRCIYHR2F3W5HT08PdDqd4G2/2Tsg8cZvmKBXsH9N6goKClBXV4ejoaP4zsZ38NLqS4hQ0enedxy4Y193P8QewboyewWvr7yetHtW7PHwHZuKdUJzuVxwOBwYHx9HMBikR33OHDiDF5deFNS5YHObSpRVkw6wEaNMQDJdBrVajdLSUvq+xdT/zM3NRYVdGgyGpBwIyf1YbBve/aQBYQPz3hB7nyD/z7YIl4nnnhiQCYgMScFnBIsUyhUVFTh48KDgixbT7lcqAkK263a7MTo6Coqi0NfXJ+oKh1gjWExBfHt7O6qqqkTdPhvYtBqJxNyF4UL0neb+DNPZAfH7/TAajfR3m4w7GN8OiNg3lUxYXSfvJ9H4DRB/BVutVuPb7/r2rhXvE7oT+LDuw3j11VejVtu5rhWZ8JnEQozv3Oqy4ux3zrLmh9Tr6nlvRwzBd2yQHrH6tdvt+Ij+I9je3kb/Zj/9/ESdC65CP15WTTqQyR2QVI8rVv+ztbUFp9OJpaUljI+PIz8/Pyp7hM/9mdwL3swaEDYwz+1blVQIgUxAZEgKrhEsiqJgsVgwOzubtHMU8AY5CIfDklkPkgvpa6+9hvLychw6dEjUiysgTgckFApheHgYW1tbuwTx6cwZAeKLuZVQorekFw+ceSDh7LFUxxxLQDY3NzEwMMCqQxEKqQtfZq5CfUG9pPtKBonGb3707h9xrtjHW/EmoyMOhwMTExNRq+3FxcUZP+4g1nkRSz4AwOlz4sxTZzD7sVlBxyOm4DvW6vdo+Cj6XH0wzZswtjaGYhTjUPkhbK5uQl2sZh312Yu8DT7IZAIi5n1IqVRCp9NBp9OhsbExKsySdLh0Oh1NSPLy8lgLaXIfE+vYyAjWftKAyEgMmYDI4I1ks0DYimq/34+hoSH4fD6cOnUqpdYq8c2WSgdCURRmZm6uDtbX16OpqUmS/aTaodjZ2YHRaIRWq0VfX9+u1NR0ExDgppj7wacfjNKC9JX34fu/9X1ewkepXLCYBISYHjQ3N6O+vj6llSkpNSBsAuGztWfxSOEjGbXan0g4zHdcKHbFmzk6QgoSh8MBu90Oi8UCrVZL245molhTjBGsK7NXdpEPAqfPiWuz13h/vrHHI7bgW6VSoaSkBHeX3I27cTe8Xi9tzTw3N0db/ZJ/SDBiJq4MZyoBkbLrD+wOs2SOa1mtVmRlZUV9h2QBMBwOi9rl9fv9CIVC+34ES0Y0ZAIiQ1KwERCXywWTyQS9Xo/Ozk5RHDiEiN2FgHQUNjc36QJIKqRCENbW1jA8PIyamhq0trayXvj3goDotXr8+H0/xrP9z8I4Z8TZY2fR29wraLtSjWCFw2FMTU1hfn5eVC0Pn+M1O82Ysk+hvqAeLcUtvLbLJhB+fuF5uPJdeCv11mQOVTJILRxWKBTIy8tDXl4eamtrEQqFsLGxAYfDgampKQQCAahUKigUChgMBuTm5mZEYZvqMby+8jrn32+s3EiagADSfm85OTmorq5GdXU1IpEINjc34XQ6MT8/j7GxMRQUFECj0SASiWRcwZ9px0OQzuNi/uZqamoQDofp73Bubo7OHmH+3sT6zbndbgC3ng3tmx0yAZEhKZgaEIqiMDc3B7PZjNbWVtTW1op2gZLCCYtY7Obm5uL06dN46aWXJHXbSmYEiznG1tHRgYqKCs7tp5uABAIBDA4OIteXi4+/9eOCZ3il0oCQz3l1dRWnTp0S7caW6Hxmy0Xhk/LNJRA2bhsxvTGNQ2WHkj9wEUFRVNqFw2q1GiUlJSgpKaFXaoeHh+F2u/Haa68hOzubzknQ6/Wij0/ygRjncXdlN+ffeyv5k3s2ApKu702pVEKv10Ov16OpqQl+v5/WHbjdbvzyl7+krZnjWf2mE5lMQPbiXAYQ1cECQH+H5HuMRCIYGhqin5PKiKTb7YZCocj4MUsZwiATEBm8kQxZUKvVtBf2yMgINjc3k3YX4oLYDlJkLKe+vh7Nzc1QKBSSirgB4ZkpwWAQg4OD8Hg8vMbYpCQgbERhe3sbAwMDKCgoQF9fX1KdLtIBEXM0w+PxwGQyAQBOnTq1a1QtFSQaGWPLReGT8s1HILzXBITt+9kL4TBZqc3JyUFxcTEqKyt32Y7qdDqakKSrOyLGOXx3/d0waA2sY1gGrUGQGxbX8aT7e9NoNKisrEQkEoFarUZjY2Ncq1++QmgxkakEROoRLCEg32FlZSWtGSkqKoLNZoPZbIZGo4kakRRyPyAC9EzoYgpBPGcrGTchExAZkkKlUsHn8+GVV16hOwliFXwKsxkKqxVUU5NoI1iRSASTk5NYWlralUUiZVI52T5fgsAMQOzr6+Mlvk9nB2R1dRXDw8MpZ6SQ14lFQBwOB0wmE8rLy2F2mnF1/ipaDC28Mj74gOsYuXJREqV8JxIINxRx//3NDKJFKCkpgdllxsTaBLIiWVC6lLBarcjOzqaLW6GFkVCIcQ5f/+B1nHnqDKsLlhBkot6CFPp8rX7TNV4ni+OFgeST1NXVoa6uDuFwmF4EmJ6ehtfrRWFhIf27Kygo4PwOd3Z29iUBYR6v0N9bJv4+xYZMQGRIip2dHdjtdjQ3N4sS1gcAcDqhvnABqstvFHPHenqw/a//CpSXJ71Zn88Hk8mEcDjMmkUidQeEL8Eh3RmhxX06CAhzJOzo0aMoT+H7INsFUr/RUhSF+fl5TE1NobKxEn96409vjjRN3Pz7+YbzuHj/Rc4xKD7g6oAkykXhSvnmEggfzT+KxiJhAX23GpjOYMzPkPw22AT85+rO4d/f+u+A7yYxtVgsdCgb6Y6IWfSINUpYr6vH7MdmcW32Gm6s3BAtByQTwFbox1r9EvMBh8OB6elperwumZV1vsjkQl/qbpDCbIZyZgaRxkZQzfwWamI7M8xFAODmvZaMay0sLABAlJg9duRuP1nwkt/VpUuX8MADD+DChQv46le/iqKiIoRCIV7n59raGp5++mm0trbizJkz0h/0HkEmIDJ4Q8jNKhwOY2xsDGtraygoKEAzzwsXH6gvXIDyWvQYi76/H5r/8T+Ay7tXmPnA6XTCZDKhpKQkrg2r1InriQhOJBLB1NQUFhcXBSXFE0hNQEKhEAYGBuB2u9HX1yeKroKcc6kcdyQSwdjYGNbX19Hd3Y0Hn31wl5j72uw1PPj0g3jm/c+kcricv5FEuSiJLHXjCYQfLnhY0DHeSohHLGJF02wC/uvz1/Hhn38Ylx64RAdhEpcfh8OBmZkZ2uWHFLipFrdiFvxn688mRTwIMpGAJAr8izUfCIfDtPkAWVkXO9Vb6pDbVCDpCJbTiZxHH4X66hu/rdC5c/A+8QSQwGUuUUCiVqtFVVUVqqqqQFEUnT1CRu5ycnJQUFCAiYkJ3HPPPaKPYL3wwgv4yle+gv7+fqysrODSpUt45zvfSf/9oYcewje/+c2o15w8eRKvvvoq7304HA4AwLe//W0sLCzg7/7u79DR0cFJQsh5Njw8jI9+9KN4z3vegzNnzvAmLvsNt947krHncLvdMJlMUKlUaGtrw9LSkmjbVpjNUZ0P+vFIBHkvvoiAxcJ7lQa4eXOZnZ2FxWJBW1sbampq4l7kpCYgXAQhEAjAZDIhEAigr68vqdUgKUfIQqEQ1tfXodPpeI+E8QG5uSZaPb5svYzXll/DyeqTONdwjn7c7/fTXa2+vj4sehfjjkFdnrkMi9OS0jgWVwckbi6KQonOwk4sjyzDo/NEaROYiCcQfu655zLKhjedhW08YvHITx7BZ5s+C4B/wjcQHcpGXH4cDgesVitGR0dT6o5kWsGfaccDCD8mlUpFfx8Adln9KpVKmjwSq99kjglAxhEQoo2TqgOS8+ijUF2/HvWY6vp15DzyCLyX4uvVAGEJ7QqFAkVFRSgqKkJDQwOd92MymfCpT30KH/nIR3Do0CHa0OTo0aMpn7dutxvHjh3Dww8/jAceeID1OW9961vxjW98g/5/oefO9vY2gJvf07Vr1/A7v/M7+Ku/+iu87W1vox+P9z7IfZrLVOZWgExAZIgKYgd74MABtLa2wuFwiFr0KqzcYyyK6WneBCQUCmFkZAQbGxu8hPHp0ICwbX9zcxNGoxFFRUU4ceJE0ishUnVA1tfXsbq6ivz8fHR1dYla1DA1IGyYdk3jjot3wOF10I8V5xTjlxd+iWJlMQYGBqDT6dDR0QGVSgXrMvf5M+2aTpmAxANFUfj80c/D7rDDuGWkH7+r9i78x9v+A5qIJirXgoioSeo3KYDYBMKZREDShUTE4pHKR1CK0qQSvoFol5+WlhZ4vV44HA44nU7Mzs5GFb96vT4h6c607yhRt2EvkGqnIZ7V78LCAm31SwhJYWEhr32Ra2amERApj0thNkd1PujHw2Gor16FIsFCnxACEgtid3/+/HlMTk5ibGwM//iP/4grV67gLW95C/Ly8nDPPffgnnvuwfnz55Ma873vvvtw3333cT5Ho9EkRQAIsdjY2AAAfP7zn4fRaMQPf/hD/O7v/i7+/M//HL/3e79HW8GzfU5vFtthmYDI4A2umxVzPOjIkSP0D1etVgtydkoEqpF7jIXiGRLIDO3jK4xPhwtW7PaXlpYwNjaGpqYmNDQ0pBySJ+bxUxQFq9UKq9WK0tJSZGVliV7QEC/5eMcdSz4AwOF14PQ3TuPikYtobGxEY2MjfVyJxqCa9KmFTMazDQ6HwxgZGcGWawu/+J1fYD20jkn75K4cEGauRazwloyVFBcXR81IZ1oRmS4kIhZL3iV0KbpSTvgmyMnJwYEDB3DgwAFEIhF69GdmZgajo6MoLCykv594oz+Z9F1lagdErII61uo3EAjQBHJ4ePimXfSvxeyxvykmMpWAkMUqKY5LOcP921JarQhzEBCxRtaUSiWOHDmCw4cPw+1243vf+x5eeeUVPPvss/jqV7+KCxcu4Ac/+AHe9a53pbyvWFy/fh1lZWXQ6XS488478Zd/+ZeCxp5JB+TYsWP41Kc+hUceeQTf+ta38Nhjj2FhYQF/9md/hry8vCgSQu4dhIAUFhYCyKzrhpiQCYiMlMEUb8eOB4k9tkS1tCB8/jyU165BwdgupVJhu7cXGh7dD+LQVFdXh5aWFkEi7nSNYEUiEUxMTGBlZQWdnZ20eE+s7acKEtA4ujqKvAN5UIVVKImkfoxsiEdALlsv7yIfBC6/C1vFW7tS6+ONQakUKpytP5uyGxYbAfH7/RgYGAAA9PX1QaPRoBCFqCuoi3s+xaZ+u91uOBwOrK2tYWpqCrm5uXSxS0Yx9hrpvkkmIhbV2moA4id8Azd/S8wMBJ/PRwujmSnfZLU9Kysr4wp+tuOJJ+bfy2MSC9nZ2bRNLEVR2N7ehtPpxOrqKqampuiOo8FggE6no4tCcu3JpO8OkJYYRRq4f1uRBAuBqXRA2ODxeJCXl4fs7GzceeedNCGw2WzIyckRbT8E9913H9773veirq4OMzMz+PM//3OcPXsW/f390Gg0vLaxtbUF4ObChUqlwj/+4z/i4MGD+MxnPoPHH38cS0tL+MIXvoCamhr6NeQc83g8AICioiKR31lmQSYgMlKCw+HA4OAgSktLcfjw4V0XHaHZFnwQungR6gcfjNKC7Jw8CeuXvgSuJARmlyYZh6Z0aEDC4TD8fj+MRiNN6MQKXxKLgHg8Hlz/1XX8H/P/wQ3nDWDw5uOnSk7hUuullJ2kYhEvDf215dc4XzfpmWR9/OL9F/Hg0w9GaUHO1p/Fxfsvpnag2E2Wtra2MDAwAIPBsMvcgG9Bo1AokJ+fj/z8fNTV1UXZko6OjoKiKExNTaG8vBzFxcW8b5D7HYmIxYHcA/RjUieza7XaXaM/DocDs7OzGBsbQ2FhIYLBIDweD3Q6XUYUs8xin0vML/bvmQvpCtZTKBS01W99fT1CoRDtyjQxMYFgMEhnxYid6i0WSJdBiuOiWloQOncOquvXdy30hc+cSTjmHA6HRdMBAjcnFtjGkUpLS0XbBxPvf//76f8+cuQIuru7UVdXh5/85Cd497vfzflacq8iHRBCkAoKCvDJT34S9fX1+MQnPoFvfvObWF5exl/+5V+iu/tmwCgxFSAERB7BkiGDBczxm0OHDuHAgQOsz1Or1eK7iOj1CD3zDMIWy03NR1MTFhQKBHZ24r6EiJGDwWDSIm6VSoVgMJjKkSfcfigUwssvv4zi4uK4blzJgjhVpQK73Y7BwUF8ZfYr6Hf1R/3thuOGKE5SsYjXAemp6uF83cnqk6yP67V6PPP+Z/DNZ76JosYiHKk8ImoOCLkBkU5b7BhYqoi1JX3++eeRm5uL5eVlTE5OIi8vD8XFxSgpKUFhYWHGFU5igotYzI7P0o+lM5mdOfrT3NxMW45OTU3BbDbDarXSK+3FxcWiFGrJdC6YBIRLzM8VkCk2SH5EuqFWq+Na/VosFlAUhYmJibRkxfCF1CGE3ieeQM4jj0RpQcJnztx0weJxbGKm17vd7j3tBlRWVqKurg5ms5n3a7a3t5GVlUUvIIZCIWRlZeEDH/gAKisr8dhjj+Hy5ctYW1vDF77wBfzmb/4mfe4TAiKPYMmQ8WuQH0EgEMDQ0BA8Hg9OnjxJ/0jYQApoKS6WVHMzvRKjmp2Nu7pPHDUMBgO6urqSvnmQUEUpQFEU1tfXEQwGcejQIdTW1op+0UmlA8J0C8s5kINXXntl13MiVEQUJ6lYxOuAnG88j+KcYtYxrOKc4ig3LDZU51TjZO3JhAnyQkDI0vT0NKxWqyhZKIn2p1QqUV1djfz8fPzc/HNcnb2KJm8TmpebQVEUPaqVrAtQJoOLWMxidtdvaC+S2Ynl6MzMDNrb20FRFJxOJ+bn5+nuCPmOEgWyxSKVzgXRWwhxCZMamTCmFmv163K5MDQ0BJVKFRWil0jvIzUktwbW6+G9dAkKiwVKq1VQDojYnSyPx4Pq6mrRticUDocDCwsLqKys5P2a7e1taDQaugPC/DzOnDmDb3zjG/jiF7+IH/7wh/jIRz6C1dVVXLhwARqNZpcG5FaFTEBkCALTkYmP3SqTgEi5ssU26kVRFObm5mA2m9Ha2ppyUS+VBoRkpqyvr0OhUKCurk70fQDJi+jD4TBGR0fhcDjQ09ODXzl+xfn8VJ2kYsElQv/e+e/hnT95J7bD2/RjxAUrle0mC1JcOhyOhORczKJlZmMG77j4jl3p2D9+x4+RE8zBwsICxsfHaRegZIpdvtgLPcp+cAYjxbVOp6OF0X6/nxZGLywsQKFQRGlHmISRrcuRSueCHE+yLmFSIBMTx5VKJdRqNVpaWmg3NDKuRax+431nUkJsnUU8UM3NnIJzNoh9bG63W7RRZODmSJfFYqH/f2Zmhl6kNBgM+NznPocHHngAlZWVmJ2dxac//WmUlJTwEruTa6rb7UZ2djY9Esu81kYiERw7dgx/+7d/i+rqavzDP/wDPvrRj2J+fh5f+tKX4Pf7AYCe1NhrUi4VZAIigzfC4TCMRiPq6upQX1/P60ehUCgk0YHEIra4DoVCGB0dhdPpRHd3N/QJgpOS2YcY8Hq9MJlMAICuri68+uqrkq0CJtMB8Xq9MBqNUCqVOH36NDQaDRoj0jpJxYKtAxKJRDA+Pg7/mh+Tj07CuGnEr5Z+tSsHROh2U4Hf78fy8jLC4TDe8pa3pKzF4JtArFAo8Pan344N/0bU406fE+/48Tsw9wdzaGxshN/vp8kRKXaZ3ZG9GH15syH2d63RaOhAtkgkgq2tLfr7Ibax6gI1/mLwL/D80vP0687VncP/vu1/p9S5INcZsVzCxEAmBv7Fdu9jrX7ZvjNCSPha/SaDTPysCMSeeHC73aLqIV5//XXcdddd9P8/9thjAIALFy7ga1/7GoaHh3Hx4kVsbGygsrISd911F/7zP/9TULd8Z2cHOTk5rCJ5sphZW1uLv/7rv0ZZWRn+5m/+Bo8//jg8Hg+sv44bkDUgMmT8GiqVCrfffrvglQ2pxdux+3C73TAajcjOzqaLZjEgdgeECPjLyspw+PBhWl8ilRBTKAEh6fDk+MgNJW6gHpQ413BO1O4HsLtTQUIZiZ4nJycH5wzneBMP5nbFIiBEbJ6VlQWdTpfaOScwgXhgc2AX+SBw+V24NnsNZ+vPQqPR0C5AzMJpbm5u1yhQMmMlt+oqnVhItLCgVCqh0+mg0+no7ojT6cSDzz6I1xzRhgvX56/HdYAjSNS5IN2GZn2z6C5hySITRrBiwdWVif3OAoEATfKHh4cRiUToVXWDwSCqY1O6BPvJQIoOiJjF+JkzZziv/b/4xS9S3gchIPHuBSqVChRFQavV4jOf+QxKS0vxd3/3d/jqV79KLwYRwpNpvwmxIBMQGYKQlZUleBU9XQQkFArRQYg1NTVoaWkRdRVGrPfBHA07ePAgbcPHtH3cSwJCURQWFhYwOTmJtrY21NbW7noOm5NUl75LFCepWDA7Fdvb2xgYGEBhYWFKoYyAeASEiM2J5S+xX0wEiqJYVwqFJhDf2LjBuZ+fz/wcZ+vPRj0WWzjF2siq1WoYDAaUlJRkjOg2GWTSjVvouabRaLCj3WEdeQxTYZjWTZyvT9S5YBb7UruE8cV+D0fMzs5GRUUFKioqQFEUdnZ24HA4Elr9JgOpReipQAoNSDLGMXsB8p0cPnwYOp2OU4zPDNr93d/9XdTU1ODzn/88bty4eU0Xc+wsE7E/7yoy9hXSMYKlVCrh9/sxPDwcFYQoJsQYwSKBdE6nc1f6OrlwSaWX4UNAIpEIrUfhGl0jTlIWpwXTrmnoKT0CqwFJLDtJB2RtbQ1DQ0NoaGhAU1NTyoVKqhoQphMcEZvPzs7yKjQJ+aAoCoFAAEqlEkqlEqrpacEJxLpsHee+SnMSW1XG2siSkD0iuiWWpExb0kxHpmlAAOGEKJE+o62gDeZtMyJ44zzm27lgEpB0uoRxIRPHipI9JoVCgYKCAhQUFNBWv8Q+e3JyEoFAADqdjh7XEvq7ysTPikDMDgjJQdpv40g//elPEQqFeLmBkVT0++67D21tbfijP/ojTExM7BvSlSxkAiJDcqjVakk7IH6/H5OTk/TsvVQXqlQ7IB6PB0ajEWq1mnU0jHi6S5W2noiAkEDJSCSC06dP87pwNhua0WxovplJsTwq5uHSUCgUWF1dhc1mQ0dHh2jkko8GxOw0w+qyoknfFDVaRoiky+WKEpvz6apQFEUTctKGJ48pEtg8siUQ32G4A99a/Fbc17yrTVhKMDNkj4huSXfEarUiOzubJiN6vT5jx0AyDckQokT6jK+/4+v44ktfjOpcHM0/ij+s/ENMT09z6hDYxp32wiWMiUwcwRKr0I8NF/V4PPS4ltVqRVZWFt0dMRgMCbuOb6YRrJ2dHVHdCtOB7OxsQYYE5F7Q2NiIH//4xxIeWeZAJiAyBCGZm4OUI1gbGxswmUz0zLqUqySp2NjabDYMDQ2hqqoKbW1tnDPFe0FANjY2YDQak84fkeq4Q6EQPB4PPB4PTp06Jbplbryi0Ol14sKPL0SNmJ1vOI+L919EDnJgNBqhUCjoZHM+2yREIxKJgKIoqFQqusiIRCI3fyNN3AJ+tgTimtwa9Jb34sba7lGsvqq+lAvKnJwcHDhwAAcOHEA4HKa7I1NTU/QqbnFxMe3Tn4mdh0xAMsV1orDFExUndnUuavNqo3QIFEVBr9fTpJGcr5lY7GeiC5YUnQam1W9NTQ39u3I6nZiZmcHo6CityTIYDKyOdZk8giX2sXk8nn3XAUkGmfZ7lBoyAZEhOaQYwWLqFFpaWlBeXo7nn39e0ptqMkSKOabT3t6OqqoqzudLZfXLte3FxUWMj4+jpaUFdXV1SX1+Ygq6CbxeLwYGBkBRFJqbmwWRj3idCya4jvnCjy/g2uy1qMeuzV7DB//rg/jT6j9lTTYnYNsmIR6EpMUmGJMRLBw+jNDdd0P13HO7EoiDd96JYH09FOEwnf9B8O/n/h1//NIfs+ZBiAmVSkUXsi0tLfQqrt1up20tp6enUVJSkvKM+62IZH5bfPQZsZ0Lpg5he3sbDocjKqjSYDDA7/dn3Iw5lwYkmbBFsY5J6kKf+bsCQGuyYq1+ybhWdnZ2xo5gMRdYxAAZwbrVx5HejJAJiAzJIfYIFjOXoqurCwaDgXaQCofDkglmhZKDUCiE4eFhbG5uore3l1eSqxRWvwSxXYpIJIKJiQmsrKzgxIkT9M1PjG2nCpfLBaPRiPLycmRnZ/O+0XJ1LmL1KfEIiNlpjno9QZgK47mF5/AnR/4EHR0drIUS21gXU+9BnsOFwJNPQvPQQ1BduUI/FjpzBp5/+zeayJDjJ9sq0hSlfYY/dhXX5/Ph5Zdfps+rYDAYlY8ghgOQkCI001b4kyXoqegzFAoFCgsLUVhYiIaGBgSDQbo7srGxgY2NDWxvb9Pfk5jp1cmArQOSStiiGNgLYXysJmtrawtOp5NeLCIdEY1Gk3FEhFyfxCIgXq8XkUhk341gyUgMmYDIkBxijmAxdRR9fX30DZMZeCgVASHkgE9hs7OzA6PRCK1Wi9OnT/OeBZV6BIsUQYFAAEajEaFQCH19fSmvhIp53AsLC5iYmEBbWxv8+X5cf+06juQcQS12u3HFIl7n4sGnH8Qz738m6vF4ehury8q5j2B+kPP7ZxaazM5HbNcjLvR6+J9+GgqLBYrpaVBNTaCam5GNN1YXw+EwIpEIfD4fQqEQgsEgQqEQGov2RjwMgP7dtbS0QKVSwe12w+FwYG1tDVNTU8jNzaVXeYuKigQVTXtdhIqBVAmRGPqMrKwslJeXo7y8HMFgELm5ucjKyqJdmsh3RFyaUi1shXYt2Ir9VMIWxcBeF/hMx7rGxkba6ndmZgY7Ozt48cUX6RE7sa1+kwG514tFQEgq+JthBOvNBpmAyBCEvdSArK+vY2hoCNXV1bt0FKS4k1Lsztcml2kF3NraKugzS8cIFsms0Ol06OrqEoWwiUFAmB2ZhsMN+INf/sEbnQgjcH6UvZNBwNW5uDxzGRanJWocK54IvVGffNAic5tMosCbfDBANTfvcrwi5zwp8IeGhqDX66HT6aLE7aQ7EjuqlS4QPdZKcAX2iB21NbUwUIabZgWjowiHw/SqO1OXEA97XYSKhUzqyABv6Hvq6+sRDAZpl6axsTGEw+GkC9tkCWNsB8TsMqcUtigG9pqAxIJY/bpcLmRnZ6OsrCyK6Ofk5NC/rb0YgyT6D7HOdbfbDZVKtefdORniQyYgMiSHSqWCz+dL+vUURcFisWB2dhZHjhxBZWVl3P2kg4DEc/hgHmeybk1Sj2CFw2H86le/QlNTExoaGkS7SZDCm2uVl0uXEQgEMDg4CL/fj76+Prz/mffz7mQQJOpcTLumo/YbbwQrXtCiSqHC2fqzCYMWmV2PZMlHIjgcDgwNDaGmpoa2JGbukxa1/xpEY5KuQoqrAD148CCdj7CyskLrEggZiXVtSqUIzZSCn5xnmXI8wO6OTFZWFsrKylBWVgaz04yx1TEgAoTWQlEZFqSw5TqXkiWMsR2QRDbEicIWxUCmERCCSCQCtVrNavXrdDppq9+ioqK0WmhLkYKem5ubkd+BjNQgExAZkiMVDQgpTH0+H/r6+jjbsFITEHIBZCMIwWAQQ0NDcLvdKbk1STWCRVEUnVFx7NgxlJWVibp9ZqBS7A0ukS5jZ2cHAwMDyM/Px6lTpzCzNSOok0EgtHPBZXn8j3f9Iz74Xx9E/2Y//djZ+rMJgxYJqSHnoRTkY3FxEZOTkzh06FCUqQGTYJBRLUJG0t0dSVSAMoumYDBI2/wS1yZmdyQTitBUkYnOYPF+q2zE8d/u/TdEPBE4HA6Mj48jGAxGOWsxuyOpEMbYDkgiG+JEYYtiIFPtbtkK/XhWv06nk7b6Jb8tvV4vSd6UFBa88vjVrQmZgMgQhHSOYG1ubsJoNKKoqAh9fX0JR4WkJiCkYIvdx/b2NoxGI/Ly8tDX15fSRV2KESxC4rxeLwCgpKRE1O0D0eQs9qbIpcv4j7v+A0NDQ6irq0NzczMUCoXgTgaB0M5FvA7I6uoqpoan8K17v4VwURjWDW43LQJS0G1vb2NkZASlpaW0Y40YoCgKU1NTtGlAvJBIIHpUC3jD5peQEim7I2ansAI0KysryrVpa2sLDoeDFty61W7O/cUrQjOx6Od7/VSYzVDOzCDS2LhrDE8skPOVqdP4k2t/wkocP/KLj+DSA5dQVlZGuxI5HA6sr6/DbDZHjf1Mb0xz7peLMMZ2QBLZEKeDeEYiEUkK9VSRqDPDZvW7ubkJh8MRZfVLvjc2q99kj0tMAiI7YN26kAmIDMmRjA0vESI3Nzejvr6e14VRagLCto+VlRWMjIygvr6eLqBT3b6YHRBCjvLz89HT04Pnn39ekpGCeN2hRLqMn+X+DPd03xM1VpeKBuPi/Rfx4NMPRu0zXuciVgNCURSmp6cxMzMT1SVqKW7hPB7y2kgkAr1ej66uLtjtdszNzdE3+dLSUpSUlNB5NUJBHNW8Xi96e3sFmwawdUcIIRG7OzK7Ocv5d64CVKFQoKioCEVFRbTg1uFw4OTMSbzmeC2pxO9MAG8y5HQi59FHob76BoELnTsH7xNPAByEMxlsBjbx59f/HC+uvMj5vFjiSPQ9+fn5qKuri0r4npiYgGPbwbk9rq4FmwsWHxtiKZGpI1hCOw0qlYq28gVuWv0SR7SFhQUoFAr67waDIaEuS6zjSgSPx5OW0TEZ6YdMQGRIDiEjWOFwGGNjY7DZbIKtYdNBQEiHIhKJYGpqCouLi6KONIk5grW6uorh4WGaHJHtSjHiFY+AJOpmFNYX7tL0pKLB0Gv1eOb9z8DitGDaNc07ByQcDmN4eBgbGxuCR+iYYnOVSkU71jQ3N8Pn88Fut8Nut2NmZgZqtRolJSUoKSlBcXExrxu1z+eD0WhEdnY2enp6Ul6N5dsdUSgUNBHhU4CRAqG+qJ7zeULGZrKzs1FZWYnvvf97u4rQo/lH8YnqT2B2dhbFxcWs5C5Tiha+GpCcRx+F6vr1qMdU168j55FH4L0krtj+S+NfwsDGAO/nxyOOsWM/x9zH8G3Ht/HK2iu7COOdNXdyEkY2F6xUbIjFQCaGIwKpEyOtVouqqipUVVUhEonQeTGk85ifn08bEAhxrRNbAyKPYN26kAmIDEGQcgTL4/HAZDJBqVTi9OnTgl0v0tUB8fv96O/vpwXTYraHxRjBYorhjx49ivLycnrbgDQEhJwXsdtO1M3oqO5gfVxIJ4MNzYbmhCNThICQAp8t2TwREonNtVotnSIeiUTgcrlgt9thNpsxNDQEg8FAExK2rsbm5iZMJhNKS0tx8OBBSQqheN0R5nsjz2OSknho1jeLPjbDVoQeyDkQFdbGDHMjq7yZBq7rp8Jsjup80I+Hw1BfvQqFxSLaOJbZZcZrrtcEvYYPcSTdkaceeGoXYTxeeBwf1n0YJpMpSjvC1I8B8XNyxLAhTgaZ2gERc9RJqVTu6jwS7QhxrdPr9fS4FpcjmtgdELfbLROQWxQyAZEhOfgQA5vNhqGhIVRWViZdaKWDgADA2NgY9Ho9Ojs7Rc8cSXUEKxQKYXBwkFUMT4rHdOSMECTbzWB2Mp4feR5Vmircd/I+UY9XoVDA6/XilVdeQXFxMY4cOcL7vCOjS0LE5kqlki682tra4Ha7YbfbYbPZaJehkpISlJaWQqfTwWazYXR0FE1NTaitrU3Lan687ghT1A4kHtWSamwmtghlhrVtbGzA4XDAarVidHQUSqUSNpsNubm5ez7CwWcESznDLbZXWq0Ii0RAEgn7mUiGOLIRxiZdEzweDxwOB+x2OywWCzQaTZT7GZA5XSuCTCUgYncamCBWv0SXRVzrYjU/BoMBer0+inBIQUBkDcitCZmAyJAcarU6rgaEOXff3t4e5eojFFITkKWlJXg8HlRWVuLo0aOS3ChT6YC43W4MDAwgJycnrhhe6qBDtm1fvP8i3ve99+HF5Tdmzfl2M5oNzaAqqZRsnOPB5/PB5XKhpaVFkCVxbLI5IXZCsexfhjVsRVNjE44VHIPT6YTNZsPw8DCCwSAoisKBAwdQUVGxZ0UZV3ckVsjOLLLTPTajVCrpgqilpQVerxcDAwNwu9147bXXkJ2dTRe6sQVTOsBnBCvSwO34FGkUz/EpkbsUE6kQx1jCSETRtbW1CIfDtHZkamoKfr8fALC8vIzS0tI9J40EmUpA0nVcCoUirtXv1NRUlNWvwWBAKBSSCYgMXpAJiAxBEHMEKxAIYHh4OGXr2kT7SRXMgLyCggKUlJRIdmNUKpWCBfvAzQ7S4OBgwvDDdBOQSCSCtdk1fKr6U/jL2/4SLrh4OUrFbldMRyNCel0uF8rKytAooLBLNVwQuGl1+vB/P4wrs1fox+6uvxtPvuNJHCo5hLGxMdjtdpSXl2N7exsvvvgi8vPzaSF7YWHhnhRmibojhCQGg0H6s9mrsZmcnBxkZWWhoaEBer2e7o6Qgkmn00VlI/DFldkreH3ldfRW9uJs/VnBx8X1vVEtLQidOwfV9etQMK5jlEqF8Jkzorphtehb0K3rhnHTyDom95WzX5GcOKpUKnr8kLif9ff3w+VyYXZ2liaNZJVd7G4zX2QyAdkLe+BYzY/X66VHIa1WKxQKBTQaDdbX10Wx+pVHsG5dyAREhuRQqVT0+Aa5kG9tbcFoNKKgoCBl61rmfsQmIH6/HyaTCaFQCH19fRgfH5c87DAQCPB+PkVRsFqtsFqtnCGNBFInrTMJSDAYpO1/T506lfQqlpikiSk2Ly8vF5TuzCQf0xvTmNmcuUmmBBZoD//3w3hu7rmox56bew4PPv0g/qLxLxAOh3Hq1ClaAxUIBGgh+/z8PD3KRYTse2URyuyObG1tYXh4GOXl5btMJ9IdghgLpjaEdEeYY0BarTYqYI+tqLO6rDj7nbNw+pz0YwatAdc/eB31uvqo5zJtbcm5wZdAe594AjmPPBKlBQmfOXPTBUtkfKrlU/iH5X/A80vP04+Rbodeq08rcVQoFPT5fvz48aiROovFAp/PR5NGg8GAvLy8tJHwTCYge31cCoWCHnEkVr+jo6Pw+/2iWf3u7OwIMqORsX8gExAZghEvPyEeyA09FAohOzubdtlobGxEY2OjaDcSlUqFYDAoyrYAwOVy0YLJ9vZ2qFQqSQt4QBhBINasm5ubOHnyJD1DnWj7UnVAmOcFCRck2SiprF4KPd/iIVZsbrVaeX8WRIxtd9vx4Z99mLV7odcmtkk1O81RryUIU2Fcm7+G36v5Pdx38r6oIjg7OzvKrWZzc5N21RoZGYFOp6NXktNZmBE4nU4MDg6itrYWjY2NtD5mr0IQCdjOmdiCiTlOMjExETdgL5Z8AIDT58SZp85g9mOzN/+fI/09V5FL758Tej28ly5BYbFAabVKmgOSp8zDt+79FuyUfU/cpWLB1BcxSSMAOlCPaHyysrKiRuqk7I6wOXPtNWIX9DIFKpUKWVlZyM/PR2NjI23163Q6sbCwAAA0GeFr9evxeFBbWyv1ocvYA8gERIbkIMVUMBjE1NQU1tbW0NnZKXognkqlEkUrQFEUFhYWMDk5iZaWFtTV1dE3ILFzOmLBd/sejwcDAwPIzs7G6dOneYfdpWMEi+84GF+IIZzf3NzEwMBAlNhcoVBgZmsG89PzccfCYsXmH/7Zh1m7Fw898xCefu/TCY/DusFtS5xVnsU5VqFUKqHX66HX6+nVfNIdmZ6eRnZ2Nh2AaDAYJB/RWF5exvj4eFQqO/O3AqQ3BFEomOMkra2tuwL2cnNzMRme3EU+CJw+J67NXsPZ+rOc6e/feft3APAfYaWam0UTnMfdx6+DCJt1ezMmx3Y88c6D3NxcLPmXsBZcQ311PYoVxXA6nZienobX66U1CMXFxaKT8Ews9Mn1MFMT2slxxbP6XVpaoq1+CSGJZ/Ura0BuXcgERIbkIKudRqMRKpUKp0+fFjT6wrltsxkKqxVUUxNUAvJG4oGZQ9LV1bXLzlNqoTsfgmC32zE4OIiqqiq0tbUJujlK3QFZWVnB6upqyoYCTKSqASF5KMxQS6fXiY+9/DG8vP4y/bzzDedx8f6LdCeDuYoPABaXJW734srslV0J32xIZGXaZIgfssiGnJwc1NTU0OMPTqcTdrsdExMTCAQCUTa/Yv3mgDd0NAsLC+js7OS0vRXb5lcIhBSibAF7TqcT3//V9zlfd2PlBmqKajjT36dd3OngewFCQDIF8ToNXJ0l5kgdSfjOysqKWmVPtTuSiQSE6b4nJRRmM5QzM4I6cfG0KbFWv8FgkO5qxVr9FhQUoKioCIC4GpAXXngBX/nKV9Df34+VlRVcunQJ73znO+m/UxSFz3/+8/jXf/1XuFwunDx5Ev/0T/+E9vZ2UfYvIxoyAZEhGEJHYux2OyKRCPLy8nDs2DFxLppOJ9QXLkB1+Y2ciAO33w7Xn/1Z0pv0er0wmUwAEDeHROoRLC6CQ1EU5ubmYDabcejQIRw4cEDw9qUiIOFwGH6/H+vr6+jt7aVvHmIg2Q5IvGRzALjw4wv4le1XUc+/NnsNDz79IJ55/zNRRTIpiGc2ua1Lp13TCQlIi6EFd9ffjefmntsl/r2r7q6UVqJVKlWUOJTY/K6trWFychJ5eXk0GRESLBaLSCSCsbExuFwu9PT0CCoOxLL5TQfUajXKysrw1o634l/N/xr3ee0F7bA6uTtb1k0r8hWZJaTNNAISrwPC1Vm69MAl5OTkRGXtxNoxFxYW0t0RtrDKRMhEAsIk7ZLA6UTOo49GaZFC587d1CLpuUdN+drwZmVloby8HOXl5bTVr9PpxPr6Ov7n//yfGBoawm233YZQKCSazs3tduPYsWN4+OGH8cADD+z6+5e//GX87d/+LZ588km0trbiS1/6Es6fP4/JycmUTXJk7IZMQGRIBqZAOjs7G7W1taJdMNUXLkB57VrUY7kvv4zWz30OOCvcncbhcGBwcBBlZWU4fPhw3OMUW2cSi3gEgYj7HA4Henp6oNPpRN1+KiDaikgkgtbWVlHJB5BcB4Qr2dzsNEcFHNKvocK4PHMZZocZDUUNu5yuEnYv9Py6F//xtv/A+/7zffiV4w0CdFfdXXjyHU/yej0fMFfz6+vrEQwGaeH14OAgKIqihewlJSW8R/iCwSBMJhMikQh6e3sFhTayQYjNL3mekKwWMXB3/d0waA2sY1hFWUXQuXRYXF7k3EZDYQPsq3ZRjkcsZBoBYeuAmF1mzs5SbNeRzY6ZrLIzwyrJc/gUtplKQJJ14eODnEcfher69ajHVNevI+eRR+C9dInztcnkgDCtfuvq6vAv//IvePbZZ/GLX/wCw8PD+P3f/31897vfxb333ou3vvWtOHLkSFLv/b777sN997HnSVEUha9+9av4zGc+g3e/+90AgG9+85soLy/HU089hd/7vd8TvD8Z3JAJiAxJEAwGMTQ0hJ2dHZw8eRLDw8OidQ4UZnNU54N+PByG4cYNBAQkBjO7CgcPHkRNTQ3n88XSmcQDW4fF6/XCaDTSCfGpFH1iExCmtkKpVEoiBhV6zD6fDwMDA1AqlazJ5lYX92q12WFGXUHdrhu8GN0Ln88Hy7AFXz76ZeTX5mNuZy4pJy2hyMrKigoW29raol21xsbGUFhYSJOReE41Ho8HRqMReXl56OjoEH3+PFF3ZC+E7ATXP3gdZ546w+qCVVdUh62tLZxeP41X119FBG+cq8TWtqGoAXbIBIQLbB2QRIGJ1g0r528nJydnV1il0+nE7Owsfd4n6o5waVP2ClKGECrM5qjOB/14OAz11atQJLi/inFser0e73//+/G+970Px48fx9/93d9hZ2cHv/jFL/C5z30OOp0O999/P/75n/85pf0wMTMzg9XVVdxzzz30YxqNBnfeeSdefvllmYBIAJmAyBCMRDet7e1tulA5ffo0srKyRNVOKKzcBaRiepoXAQmHwxgZGYHT6eTdVUjHCBaz2HY6nTCZTAk7M8luPxUsLy9jdHSU1lb09/dLMt4lZOSPEKKSkhK0t7ezfl6Neu5ORoOuIe7q4pPveBIPPfNQlBaEb/dia2uLdlU7dOgQlEolDpYdTPymRIZCoaBnsZuamuD3+2kh++zsLNRqNU1GyAz9xsYGTCYTKisrWY0FzE4zrBtWUclUbHeE+Q9fIbtYBXa9rh6zH5vFtdlruLFyY1cOSFFREb7znu/sSn8/VnAMHzF8BNPT06AoCsFgcM9sk2MhJQFJJi+FrQOSKDAxUVeSCWZ3pLm5GT6fj86vIN0RpnYkKyuLJr+ZRkCk7MooZ7hJn9Jq5TRIkCIJva2tDX19ffjDP/xD+P1+vPTSS5ieFldXtbq6CgAoLy+Pery8vBxzc3Oi7kvGTcgERIaoIEVpQ0MDmpqa6BsKVxq6UFAJguOopsSjMGQ1V61WC+oqSO2CRVb7mU5cbW1totkQitEBoSgKU1NTWFhYwPHjx1FaWirattnAVwOysrKCkZGRKLE5G1oMLTjfcB7XZq+xdjJaDC1xX6vX6vH0e5+GxWXBtGuad8G9vr6OkZERNDY2RrmqZQI0Gk3UKrHL5YLdbofZbIbX60VeXh7cbjf9m2aCK1SRjy0xX8SSEQAJuyNS4Gz92bgFNVv6e2NRI7a2trCysgKKovDLX/4yZU2CWIglIGz5JUIhJC+F7Xhii+oWfQvO1Z3D9fnrrIGJqZBdrVYbdd5vbm7So1pEO6L/td4hk36vgLQhhJEGbtIXSXD/FfvYPB5PlM5Mo9Hg7NmzOJvEqDUfxH7XmdYpvJUgExAZooCZFs4sSgnE7IBQLS0Inz8P5bVruxKDbceOoShB98Nms2FoaAiVlZU4ePCgoJWkdLhghUIhjI6OYn19Hd3d3fRNUKztp0ISyGgdSa9n3hikIiCJNCBcYvN4uHj/Rbz3u+/FL1d/ST9GOhl8bjZ8E77JiB8JiuRzbHsJEnJYXFyM1tZWmM1mzM/PIz8/nx5RIN0RvV4fN1SRry1xssfI/Ddbd4Rp+ZvuGf7Yc4OEG9psNvT29rJqEsRybOIL8ntSKpWcLlNCSSSfvJR4iOeC9cTbn9jVWSKBiWKBaW8N3AygJZopAPjVr34V1R3hq5mSClKOYFEtLQidOwfV9eu77q/hM2cSTheI2QGJRCJps+GtqKgAcLMTwgz0XV9f39UVkSEOZAIiQzBibxJEhExRFPr6+pCbm7vrNWIX7qGLF6F+8MEoLUjwzjsx8OEP4644r2GK4g8fPozq6mrB+5V6BCscDiMUCmFrawt9fX2iWqcCqZEEt9uNgYEB5OTksKbXixUYGAuuDggRm29ubu4Sm3NBr9XjibNP4IblBjSVGrSUtKDF0CLmYSMSiWB8fBwOhwPd3d28giL3GmSUqqGoAeH1MO1qVlhYSNvS2u12jI6OYm5nLmVbYjHANqo1NTWFcDiMnJycPdWOMEHSvpm5CLGOTUVFRXTCfW5urmQrr+R3qlAoErpM8cWV2Su88lK4jonte2HrLEl9Xmk0GlRVVaG4uBh2ux1HjhyB0+mM0kwRQlJYWJj2FXKpSbX3iSeQ88gjUVqQ8JkzN12wOEBMJMQ6No/HA4qi0uJA1dDQgIqKCly+fBmdnZ0AgEAggOeffx5//dd/Lfn+34yQCYiMlMB0jzp06FDclQ8xR7AAAHo9Qs88g7DFclPz0dQE74ED8F+/ztoyZaaGp2ITK+UIFpmzB4CTJ09K0mJPloAQ96Tq6mq0tbWx3nDT3QFhis1PnTolSJxPURRyc3NhgAHhxTC8Pi+WfcuCHKG4EAwGMTg4iFAohN7eXlZL50wC2yhVt64b333Pd2niRGxpy8rKQFEUnGNOYDT+NvnYEosNiqIwOjpKm19oNJqMCEFkO3/ZHJtIngVxDmSmfYt5PSDHM70xLchliguvr7zO+fcbKzc4CUiixHG+XUcxQY6JdEeIZop0sRYXF6FQKOjvsbi4OC3dEbF1Frug18N76RIUFguUVivvHBCxAxLdbjcAiJYDsrOzA4vFQv//zMwMTCYTDAYDamtr8Ud/9Ed4/PHH0dLSgpaWFjz++OPIzc3FBz/4QVH2LyMaMgGRkRQoisLMzAymp6d5u0dJ0TmgmpvpC6Pq1/a44XA4apRhZ2cHRqMRWq1WUGo4G6R6H4uLixgfH0dDQwMsFotkK2pCSQLTJSxR10hKAhK7XT5iczaQZPNIJILCwkLcfvvt2N7e3uUIVVpaipKSkqRm9N1uN0wmE/Ly8tDZ2ZmRacWxYBulMm4a8dErH2UdpVIoFGiv5A7nCtvCWM1dRXFxcVqE14FAgCbwPT099O98r0IQmeAzR87MswiHw3R3xGw2w+/3Q6fT0YSErcss9HgAYHZrlvN5iVymmOiu7Ob8e29lb8Jj2g9ib41Gg8rKSlRWVkale5NreEFBAf09SdUdSddYIdXczCk4j4XYBMTj8UCtVqds903w+uuv46673piReOyxxwAAFy5cwJNPPon/9b/+F7xeLz72sY/RQYTPPvusnAEiEWQCIkMwSBaAkG6CSqVCIBCQ9LjIRY9JQNbX1zE0NISamhq0tLSkfNEWewSLqZ05ceIECgsLYbFYJLvBKJVK3jkmkUgEo6OjsNvtvFzCpBShM1eQ+YrNYxGbbE6KTqYjlM/nox2hyCo00xEq0Y3V6XRiaGgIVVVVaGmJL2bPJJid5qRGqbhsid9S/Ra0GFowMzODkZERerSotLQUeXl5on8uXq8XAwMDyM/Px5EjR+ImMQN7F4Io5D0ztSHAzUKsf7Yfr069ioJAARp1jfTficZECMjvKZGLlBCXKa68FIPWkNANK1EHZC+Q6Docm+4dCARoZ63BwUEAiNKOiFVISylCTwViJ7Tv7OyIer04c+YM55iwQqHA5z73OXzuc58TZX8yuCETEBmC4XA4EA6HBXUTVCqVuCNYLCArmGTkwmKxYHZ2Fh0dHbTALFWIOYJFVmyDwSCtnSEXcKnGvPgSKL/fT4cL9vX18RohkkofQzQgzO+Ur9icgKx8M8W3bNBqtVGr0MQRamJiAoFAAAaDge6OxH4mS0tLmJiYQFtbW1Ip9XsF6wa3rTXXKBWXLbFeq0dLSwtN6mw2W1KkLhG2trZgNBpRXl4edzyQDVKGIMYiFW2U0+vEoz+LFonfUXUHPlvwWdgmbAgGg9Dr9TQh4aMbI8fTYhDXZYorL4XPMWViB0RI8ZudnU13R0jejsPhwNLSEsbHx5Gfnx/VHUn2/UopQk8FZDRMLMJACIiMWxMyAZEhGJWVlSguLhZ0kVGr1ZKKt4GbhapKpYLf78f4+Djt1CRm+1SsEaytrS0MDAxAp9PhxIkTdMeG3FSk+qz4dCk2NzdhNBqh1+vjriazQSoROjnmwcFBwWJzAFGFpRCLVpVKRRfKbW1tcLvdsNlsWFlZwcTEBPLy8mgysr6+jqWlJXR2dsJgMAAArsxcwWsrr6G3qhfn6s8l9d7TgVwf9zgPV8I7H1vieKRucnISfr8fer2e/hyFmi7Y7XYMDQ2hqakJtbW1SRc+UoYgml1mDC8OI+xL7jfNJhJ/aeUlPJ71OH747h/C7XbD4XBgfX0dZrMZubm5dJFbVFTEepxMEbqYLlOJ8lK4sB87IFxgdldJd4RoR4aHh0FRVBRxFNIdycR0dkB8YhRrwSvj1oJMQGQkBaE3CqntawkUCgVMJhMKCwtZnZpSBTOnI9mbJclKaWpqQkNDQ9R2SGEjZQeEiySQ8Sa2Y+OzbSmOOxAIgKIo+P1+9PX1CdLwMDsfqeRDKBQK5OfnIz8/Hw0NDfSohc1mw+uvvw6KolBaWopgMIgp2xTOfffcrlXgFz70QsJgtXSCdJTC62HceeBO/HLpl0knvPMVCDNJHUVR8Hg8sNlsWFtbw+TkJHJzc+m/63Q6zmKGdJza29tF63ASiBGCyGZv+9TGU4Lsbc0uM6dIfHrjZncqPz8fdXV1tFOZw+HA6OgowuEwPQLELHKZ42ZSuExx5aXEQ6Z2QMQ6puzsbFRUVKCiogIURdHakeXlZUxMTNDdEYPBEJc4Mo8rU0ewxA4hlNINTsbeQiYgMgQjmYtBOgjIysoKgsEgqqqq0NHRIclFi7lCmszcNVuAXyykJiBs3wNFUXTmg9DxJua2xT5u0o0BgO7ubkGfObNoFDucLjs7G3q9HnNzcygsLER9fT02NzcxPT2Nd7/6bmyHt6Oe7/Q5cce37sDCxxdEO4ZUEA6HMTo6iq2tLfT09OD/U/1/SSe8JwuFQoG8vDzk5eWhvr4ewWCQtvkdHh5GJBJBcXExTUgI8SR22vPz81EdJ6nANqpFziuu7ogY9rYzG9yp1LEi8Vinsp2dHTgcDqysrGBychJ5eXkoLi5mHWvZC5cpJm61DggXFAoFCgsLUVhYiIaGBgSDQVo7MjIygkgkEqUdiR33lNwFK0mITYx2dnbkDsgtDJmAyEgLRLfhZYD4/i8uLkKr1aKiokKyGxlT6C7kQkuE+z6fD319fZxzrVKSNTaSEAqFMDQ0hJ2dnV3hgqluOxWQbgxxBuOLeGJzMbG9vQ2j0Yji4mIcOnQISqUSZWVlmFPP7SIfBE6fE5etl3G+8byoxyIUTLeo3t5eZGdnIw95SSW8i4msrCyUl5ejvLycnp+32+1YWFjA2NgY7S60vb2N7e1t9PT0pL04iTeqFWvza3FZRLG3TdQx4xKJKxQKFBQUoKCgIIrgEU0CAIyMjNDdkb0O18vEDki6jikrK4u1O0KIY+xYXSQSSYuznFBI0QGRNSC3LmQCIiMtkKqoDgQCGBwcpMdzhoaGJE8qB4RpNEixmp+fj76+voRpx1J3QJjb9ng8GBgYgEajwalTp1IqQsTSgMSKzfV6PSwWC69t8xWbp4L19XWaGMW6cL228hrna7//yvdRvlO+a1U/XXC73TAajSgsLER7e/uuYmGvV8EJFAoF1sPrsCqsaGptwvHc41hfX4fVakUgEEBWVhbm5ubo0L50JYjHIp6QfW57jvN1fO1tW/TiicSZBG97exv9/f3Izc3dZR9bUlKCgoKCPQnXi7dPs8uMmY2ZtIQQMrEXYm+27kjsWJ1arUZBQQF8Pl9GZQyJ/XnJBOTWhkxAZAhGpoxgkfGcoqIidHZ2Qq1WSy52F6rRWFtbw9DQEOrr69Hc3Mzrs5MybZ157A6HAyaTCVVVVWhraxPFojhV4sSWbE46Z4m2zex8KJVKeqZdrNV8kolitVrR3t6O8vLyXc/pqezh3MZvHP8N5GnzsLCwEJV8XVpamlTmiBC4XC46TJLvubgXYAtFPFt7Fv+j6n/AkG9AR0cHdnZ2YLfbMT09jeHhYej1eprU7dXMOLM70lbaxvncuoI63uM9YorEY4+3sbExyj6WXBMUCgW94m4wGNKy2s7WbWDT0ZyrOydIRyP2MaUbsZ3BnZ0dOmzzlVdeuRmo+utxrUS6KakhRQdEHsG6dSETEBlpAbHhTUW8zcTS0hLGxsZ2iaWlLN4J+JAp5ir+0aNHWYtVru1L1QEhxz4/P4/JyUkcOnRINMvYVAkISTZXqVRRYnNyQ+XqgDCdrjb8G3jkJ49EFbB3199NW8MmA5LXYrPZ0NXVFTf75u4G7iyE32z/TQCgE5WJPe3s7CzUajVNRsSwp2ViZWUFY2Nj+8IimC0U8fr8dXg8Hly+cDkqQby1tRUej4fObrFYLNBoNPTnqNfr96Qg48pIubPmTjQUNtDEOlEIohQi8djrMNM+NhKJ0Paxc3NzdDgnISRSEWU2/YAYOppUj2mvCQgTZKxOq9WitLQUZWVlcLlccDgcGBsbQzgchl6vpwmJUFe5VCGPYMkQApmAyEgKQsdtyIhEqiI1ZnBfZ2cnSkpKov6eDrF7IpITq6kQagMs5QgWcDPjw2KxoLu7G3q9eKuIqRw3V7K5xWVB/1Y/DjgO4EjVkV2vjRWbP/KTR3YVsM/NPYeHnnmINdU7EYLBIIaGhhAIBHDy5MmEIw8vfOgF3PGtO1hdsJjQaDSorq5GdXU1IpEIXC4XbDYbbU9rMBjoQjrZMQuKojAzM4O5uTkcO3Zs1+8l0xAvFDGCCF61v4pr89cQjoSjulq5ubmora1FbW0twuEwnE4nbDYbRkdHEQqF6M+RLbtFSvzbvf+G933vfXjN9cZYHhH2a7I1gkMQxRyP41rZVyqV0Ol00Ol0NFEm3ZG5ubmokESDwSDa+FvsMSVyAOOro0kFmUZACMh9NCsrK8p0INaSOScnh/6ekgmsFAopCEg8sxYZ+x8yAZGRFiQr3mbC7/fDZDIhFArRwX1s+0lHByReoe12uzEwMICcnJykbYCl6uIEAgFMTU0hHA7jtttuE311LBEBMTvNsLp+PRJleKNwiJds7vQ6ceHHF3B55jIA4IvWL+J8w3lcvP8i9Fo9KIqiOx9k/xaXJalU73jweDwwGo3Izc1FT08Pr2KrQdeAhY8v4OrsVdxYvsErB0SpVNJFHSkk7HY7VldXafcikpVRVFTEawU6EolgfHwcDocD3d3doubhJAOz05xwJC5RKOL937+f/m+2rpZKpUJpaSlKS0vpcRW73c6a3cL3c0wGXq8XlhEL/r7n76Gt1mJ2a3bX+xYSgih2ESykE63RaFBVVYWqqipEIhFsbm7C4XBgZmaGHiMk524qqdWxGhChDmBSIFMJCJvWgmkVTiyZSXdkYmIiKrDSYDCw3j9ThdguWG63Gw0NmWNdLkNcyARERlpALpahUCgp4a3L5YLJZILBYOAMx0sXAWHbh81mw+DgIGpqatDa2pr0jViKESwSfJiXlwe1Wi1Jaz5eVyyWSADA+Ybz+OZvfhOORQe9Oh9r/XvhxxdwbfZa1GPXZq/hwacfxI/f9+MosTkZYUkl1TsWRDNRWVmZ1Pd5rv5cUgGEzEKCuBeRESOj0QiFQkGv6BcXF7OSXNK1CQaD6O3t3VOhKpumI95IHJerUywSdbWYLlBEzEs+R+ICxrT5FUvnsLOzQ3fzDh06BIVCgbaS+JoQKUMQ4yHZUVilUgm9Xg+9Xo/m5mZ4vV66OzIzM4OsrCz6vNTr9YKK0dhjSsUBTCxkojUwwI8YqdXqKDLudrvp7qDZbIZWq6WJo1jdEbE7IB6PRx7BuoUhExAZSUHoCJZCoUhKIE5RFBYWFjA5OYmWlhbU1dVx3hCI1kRKxHYoyJjL9PQ0jhw5gsrKypS3LyYBWV1dxfDwMBobG1FaWoobN26Itm0m4h13PCLxrm+/C19o/QJOnjy5a3Xe7DRHERaCMBXG5ZnLmHJMoaGwYZfFbqKihCvVm4nl5WWMj49nhGYiKysraj5/c3MTdrsdVqsVIyMj0Ol09Kp+Xl4evF4vjEYjcnJy0N3dvWcOUQRsmo545KFZ34y+0j78yvYrRMD9GxDa1WJ+jhRF0Z/j3NxclCFASUlJ0joHslBSW1uLxsbGpIv8VEMQE0EsLV5OTk5Uyv3GxgYcDgfMZjN8Pl9U0neiFffYolpMB7BkcasE/jEXNWpra1m7Izqdjvd3xXVcYjr7yTkgtzZkAiIjbRDanQiHwxgfH8f6+jq6urp4BY6pVCr4/f5UDpPXPkihHQqFMDIygo2NDZw8eRKFhYWibF+MLg6bEN7tdqfN4hfgJhK/cvwKpQdLWUeDrC7uTobZYUaTrmlXEcUl/uWT6k1RFKanp+mwyOLiYs7npxvMFeiWlhZ4vV7YbDbY7XaYzWZkZ2cjGAzCYLjpFrXX5COepoONPJBwxP9Z/z/xT9p/wnMLz+16HRuEdLUIFAoFrXNobm6Gz+ejuyNkJb+4uFiQIQCxZ25tbRXV2CGZEMREIARETHtbpjYEuLl6Tboj09PT0Gg0nCvubLoUqRzA+GI/d0C4ENsdId8VMXLQarW0kF1IJ0uKDshej47KkA4yAZGRNggprL1eLz0mcfr0ad4jJOkcwSL6gKysLJw+fVq0lR8xOiChUAjDw8PY2tqKEsKTbYu1AsoE23EnIhILOws4XH541+ONeu5ORrMhvo3sk+94MqlU79h08ExdeYvVUhABNnG6ys/Px9bWFl544QW6iN6LzBEgsaaDkAcS1ElRFM6dPof7su+jQxFVSlWU9iMWfLtaXNBqtfRKPpshQKzNbywWFxcxNTWFI0eO7BolFAt8QxDJc7m6Iy6fC382+md4/aXX6cfEtrfNzc1Fbm4uampqEA6H4+oRiFsT2zVJCgcwIcjUwD8xOzMKhQJ5eXnIy8ujuyOkkzU1NYVAIBCl8+GyuZZCAyKFVkVGZkAmIDKSQjLFK980dKfTCZPJhLKyMhw+fFjQSk+6XLC2trZgNptFy9CI3X4q74FJjJh2tmTbgHgjGEywjeUlIhLxiscWQwvON5zHtdlrrJ2MFkNL3G3qtXrBqd7E4ECpVNLp4JkGLi3F9vo2LBYLjhw5QucFbG9vw2az7cocSWfQHJ+RODIylpubi46ODrqAYbo+pdLVEopYQwBi82uz2TA1NYXc3Fz6cywqKsLs7Czm5+fR2dkpmqucwmyGwmoF1dQEOPPGhgABAABJREFUqpn9/cULQWSObJHnxdr8fuLFT2BgYyBqe1La26pUKvozI9bJsW5N4XAYubm5rKv7exWQmakidCmPi9iBl5SU0Oc/CUK0Wq3Izs6O6mQxu6xidkCIbkXugNy6kAmIjLQhETkgQW9msxkHDx5ETU2N6PtIFRRFwev1Yn19He3t7ZLoA1J5D06nE0ajEZWVlTh48OCumxSzYBH7BsbWAeEiEmfrz0a5YcXi4v0X8eDTD0aNcHUWdeKz7Z/FxsZGQhcjvkXL9vY2TCYT9Hq9YMKbTsTTUrz3u+/F/67/31H5JMw0ZWbmiN1ulzxzhIlEI3FlqjLcuHEDZWVlOHjwoOhdrVTBXB0mzkJkVGV4eBjBYBAKhQINDQ28V2o53cCcTmgefhiqK2+8z/Ddd8P/5JMAB7lJJGRn2vxaN614cfnFXdtIl70t24q70+nE5OQkVlZWsLy8TI//FBcXQ6PRSHYsiZCJBIR8n+k4LuZ3xexkOZ1OWufD1I6EQiE5iFAGb8gEREbawFVYh8NhjIyMwOl0oqenBzqdTvR9pAoyouN2u1FZWSmZOFmpVCIYDAp+3cLCAiYmJtDW1oba2tq42wZuvhex9QFsBCQUCuGTDZ+E0+lE/2Y//fjZ+rO4eP9Fzu3pNDpceuASphxTmN2cRV1BHXQRHWw2G4xGI5RKZZQbVDLvx2azYXh4GPX19VGBlpkGLi3FK7ZXUHxPcdxwRIB/5khJSYnoDmnxyMPf3va3eP3119HQ0BBlv8yGZLpaUkCtVqO8vBwlJSUYHh7G9vY2ysrKaFOAgoIC+nMsLCyMek983MA0Dz8M5XPRJFP53HPQPPQQ/E/zz7Dh6o5Mu6Y5X5sOe1sm1Go1ysrKMD8/j5qaGuTm5sLhcGBlZYW2oCYFbmFhYVoJQSYSEHKN3QtxPLOTBbyh83E6nbBaraAoCktLSwAAvV6f8j1GdsG6tSETEBlJIZlCLZ5DFRkZUqvVOH36dEorXlKliJMxEaVSiYqKCknFvUJHsJjhjInE+syiRGzEEhCSbK5VafHco89hfmf+jeKRo/MBRCebtxa3RtmYVlRU0G5QNpsN09PTGB4ehsFgoPUOiYpo4q5msVhw+PBhVFRUpPbmJUYiLcWybxkd6OC1LbYRI5vNhrW1NbrgI90RMbIy2MhDrjcX4+PjOHz4sCDXuL0axWGCqVc5efIkPa4XCAToLtP8/HwUQTYYDAndwBRmc1Tng0ARDkN15QoUFkvccSwuxHZHSlTcYZQNhXuTu0BE6MQ6mVhQk/Gf4eFhUBQV1R2RelSSK7Bxr8AcrdtrxOp8Xn75ZahUKkxPT8Pr9aaUEUN0lnIH5NaFTEBkpA1sNrx2u53OWmAbGRIKKWx4XS4XjEYjrUmxWCxJdSj4QgiJCgQCMJlMCAaDccMZmSCz4FIREODmDXJrawtGoxGlpaX0WFOzoTkh8SCvZyabs920mG5QZKbcZrNhfX09YXBfJBLB5OQk7a7G1TmQAldmruC1ldd4BRQSiGUvHAvmiAUp+BwOB2w2G20CkShzhC+a9c1o0jVhZmYGk3OT6Ozs5OVsl0nw+XwwGo3QarU4evRo1Cp0dnZ2VGDfxsYG7HY7pqen8fPXfp7QDazVyk0yFdPTSREQJpaXl+Fd8OKOqjvw0spLu8bi7qy5E3UFdQgEApKFIMYDW7chKysL5eXlUbomh8OBpaUlTExMID8/P6o7wqfAFeL8lYkdEGbwaiaB/Bbq6+tRUFDAmhFDyKPBYEi4iOd2uwFA1oDcwpAJiIy0gTkeRVEUrFYrrFYrDh8+jOrqatH3IQbm5+cxOTkZNdakUqng8/lE20cs+LpgbW9vY2BgAIWFhThx4gTvrozYOSME5OZP3Jj45LYwwZZszve1ubm5qKurQ11dXVQRTYL7CBkpLCzE2NgYAoEAent7Uxo34pPszcS0axpnvn0GTp+TfsygNeCFD72QMHQtVXthvsjKykJFRQUqKirorAybzYaZmRk6c4R0R7jccNhAOnV2uz0jktmFwu12Y2BgAAaDAYcOHeIsAJVKJQwGAwwGA1pbW+GYcADj8bc97ZpGSyM3yaSaUnP7mpubg9VqxfHjx/HU6adYx+KeePsTUKvVkoYgxkMiYwzLhoUmDt0N3QgEAnSBu7i4CIVCEdUdiSXLTq8Tj/700ShL30TOX5lIQLgWZvYaTBF6bEbM5uYmLWQnphjk+2LL3fF4PAAgd0BuYcgEREZSSHYEKxwO0xaxm5ub6O3tFXUFWqwRrEgkgrGxMdYMklRdqhKBz/bX1tYwNDSE+vp6NDfHt6SNt30pCcjY2BiOHz+O0tJS3q9l5huQbSV7g2UW0cxRLbPZDK/Xi6ysLNTX1ye1bUBYsjcTseQDAJw+J+741h1Y+PhCwv3+n+7/g484PwLjlpF+TEohNjMrg2SOEDcokutAiJ1er+cs1Mhv3ufz7XkyezLY3NyE0WjEgQMH0NS0O38mEQ6WHeT8u3/Fj4W6HNSfPYus55+Hghl0qlIhctddSXc/SB7Q0tISurq66KyiRJoaqUIQ4yFe5gYXcWAGdG5tbcHhcGB+fh7j4+MoLCykyUh+fj4e/emjuD5/PWrbiZy/MpGAhMPh9AjQzWYoZ2YQaWzkde6RazibNkWlUtGEnFxLyGjd3NxcVIaMVqtFYWEh3G43srOzJbNB/tznPofPf/7zUY+Vl5djdXVVkv3J2A2ZgMhIG9RqNdxuN1555RVotVpRszOIbWVWdTXtjZ9sAevz+WAymRCJRNDX17drlVwqnQmf7TM7Rx0dHUlpF6Q4flJgAuAdGknA1HuIvcJKRrUUCgWWl5dRWVmJgoICOnArGb2DkGRvgiszV3aRDwKnz4mrs1fjjmORcMTVhVX8+L0/hlPh3BMhdk5ODmpqauh5b+IGNTo6ilAohOLiYnpci6njIhbHKpUK3d3dGZmrAMTvaBGjgubm5rjmDonA1cG648AdOFp9FCsrK5h+9FH0bm2h+PU38jkid9110wUrCVAUhfHxcTgcDvT09OwS9HJpauIJ2UmnUuzuSLxinw9xUCqVNFkmrm+kOzI3N4eVwEoUgSFI5PyViQRE8mNyOpHz6KNQX33j8wqdOwfvE09wOrEJGQ3LycmJMsXY2NigndDe8573oLm5GV1dXSgvL0/9/XCgvb0dVxi6q0xMvb+VIRMQGWkDmdOvr69HS0uLOBdRpxPqCxegunzTqjULwKnOTkS6u6Eq4RZbsmFjYwNGoxHFxcVob2+Pu5ojdQeEjSCEw2EMDw+nnLoudgeEiM2ZrXe+YJIPqcYKyEhYa2srbe3MHNWy2+203oGs6Mdz1RKS7M3EayuvcR7jjeUbrAQkEolgdHQUGxsbdDiiAYY9F2KrVCqUlZWhrKyMns232+1YXFzE2NgYCgsLUVJSgvz8fExNTUGn06G9vT3jijmAu6PldXoxPj6O9vb2lI0KuKyE9Vr9TQ3O8eNwnDqFxYEBBMbGsFNRgdxjx1Di86E4EBC0YBOJRDA8PAy3242enp6Uuk5ihiDGA5vg2+wyJ0UcNBpNlB7nR6M/Aobj7zue81emEhApC+WcRx+F6vr1qMdU168j55FH4L0UPyMmWXcu5rhic3MzXnrpJTzzzDP42c9+huXlZVRXV+Pee+/Ffffdh3vuuUe0rB3g5qJophuQ3MqQCYgMyUFGAFZWVpCfn4+2trbEL+IJ9YULUF67FvVY6eAgIhcuIPyTnwja1uLiIsbHxxNqF/ZiBIu4cKlUKvT19aXkFCYmASGEjYjNL1++zHvbUpMP0jlYWFjAsWPHaOtIArZRLSIaJq5apDtCSBXfZO9Y9FT2cL6ut6p312PEbSkSiaC3t3dP8xC4wMwcaWxspFefl5eXYbVaoVKpoFKpYLfbUVxcnHGrjPE6Wu//3vvxZzV/JppYno+VMH1Ovu1toO67jz4n5+bmMDo6ShO70tJS1rl5glAohMHBQYRCIXR3d4vuFpVKCGI8sHWtZzZmOF/DxzJYqVSi40AChzgnYMu37bKOzUQCIuUIlsJsjup80I+Hw1BfvcrpxBYOh0XpYDc3N+OP//iP0d7ejk9/+tP4+te/jp/97Gd4/PHH8du//ds4efIkPve5z+H8+fMp7QcAHSas0Whw8uRJPP7442hMoMWSIR5kAiIjKfAtFoPBIIaGhuB2u9Hc3Iz19XXxjsFspjsfTCgjESivXkWEp20lcUVaXl7GiRMnUFxczPn8dI9gxbpwpXqBF4uALC8vY3R0NIqwKZXKXWnosSAjHImcrlIByWzZ3NykOwdcYLpqtbS00N06kn5NRrVKsri7avHcqO5uuBsGrYF1DMugNezqfhBr6vz8fBw5ciTjinYuaDQaqNVqbG1toa2tDXl5ebDb7ZiamoLf74der+dtlyw1uDpaL629BMNdBtGduvhaCTM1OM3NzfD5fHTHjhkmSWx+SeEcCARoW/Ouri5JLcMBYSGIXKNabBqQROYMidzhCFr0LThXdw7X56/vGoG7rfI21BfUw2Kx0MF6pAuaLr2FEEhJipQz3IRPabUizEFApAghPHPmDM6cOYO//uu/xtLSEn7+85/vWkxKBidPnsTFixfR2tqKtbU1fOlLX8Lp06cxOjqasAaQIQ5kAiJDMmxvb8NoNCIvLw99fX1wuVxYWVkRbfsKEWwrhdrYAukdwSJdmdbWVtTW1opSqKdKQEhHa25ubpfYPNG2Y8XmUpAPv9+PwcFBAIjKaRACNlctu92O7aVtnCg8AdO2CRHqjffJx43qhQ+9gDu+dQerCxYTGxsbMJlMqKysRGtra0a63XBhYWEBZrMZR44cQVlZGQCguLg4yi45NnOE2CWnu9hL1NFaDa7iGI6l6Wi4odVqd4VJ2u122lxBr9dDp9NhZWUFBQUF6Ojo2JPi+drcNdpm+q7au6K6I2yjWuS/2UawuIjDmdozgkYRn3j7E3jkJ49EjXSdqT0T5YJFgvUcDgemp6cRiUQwPz+PiooK6HS6jFgIkHIEK9LATfgiHN0Bscnazs7OroWj6upqPProo6Js/7777qP/u6OjA319fWhqasI3v/lNPPbYY6LsQwY3ZAIiQxKsrKxgZGQkyqVJ7MKdStG2cmtrCwMDA9DpdIJtbKUkICTLZHx8nHdXRghSISBEbL61tYVTp07tukFwbZspYiXPFRs7OzswGo3Q6XQ4fPiwKDfq2FGtiwcv4nd/8bt4ef1l+jl95X34l7v/hXM7DboGLHx8AVdnr+LG8g3WHJC1tTW6q0T0KvsFTLelEydOQKfTRf09XuYIyQICbhKV0tLSlDNH+EKqfBWpwQyTbGtrg9vtxvLyMmZnZ+lOgtls5uVQJhb42EzHdkeYmU3xOqdcxEEI9Fo9Lj1wCRaXBdYNK2sOSGyw3vPPPw8AmJycRCAQgF6vpz/3vereSdmVoVpaEDp3Dqrr13c5sYXPnOFc0JOiA5LOFPS8vDx0dHTAbDanbZ9vdsgEREZSiLcqG4lEYDab6bl7sgIKsAcRpgKqpQXh8+ehvHYt6mIZUSoRuOMOKDguloQgNTY2orGxUdAqs9QjWOFwmHYZ4tuVEYJkCVSsDoWtsxCPgKRDbG632zE8PIza2lrB3ylfKJVKNFQ04PKFy7C4LBhbHUNRuAj5/nyM9o9iNm82oavWufpzu4gHRVF0TkNHR4cgC+NMABHLk5E3PoVDosyRoqIielRLaIoyX6QrX0VKmJ1mjCyPwLPoQW9TL+rr6+nuSCKHMjHBx2Y6VjtC/lldXYVCoQBFUbtCEPkQByHgOwJHjrOpqQkajYbujqyvr8NsNiMnJ4cmIzqdbk8DG8WE94knkPPII1FakPCZMzddsBIcl5gExOPxpJWA+P1+jI+P4/bbb0/bPt/skAmIjKRBbhgEgUAAg4OD8Pl8rKvjUqSUhy5ehPrBB6O0IK4TJ+D7h38A25QoRVGYmprCwsKC4KwKAilHsHZ2dqLGh6RYBebqUpidZlhdv7YiZaSWx4rN490AY88JAFErnVKRj/n5eVgsFhw+fDhtriaxhQybqxYhI/FctYDoZPbu7u6k3c32CsFgEIODgwiHw+jt7U1q5C1e5ggxBdBoNPRnKfaK/tfOfQ2/9YPfQv9mP/2YlPkqYoHVvWv7bjxZ8ySrQ9nS0hLGx8eRn59Pf5Z808MTIRmbaUIwFhcXYbFYcOzYMWi12rghiI1FqREPoYgdEyXdu9raWoRCITrHYmxsDOFwOKo7ImXOjdidhl3Q6+G9dAkKiwVKq5V3DojYx8U2giUmPvnJT+Id73gHamtrsb6+ji996UvY2trChQsXJNunjGjIBESGKCBBXUVFRejr62MttkjhnkpGxy7o9Qg98wzCFstNzUdTE4ZtNjSwpCyTQsnr9aKvry/p1RVSwIv6PgCsr69jaGgI1dXVmJubk05oyCIUd3qduPDjC7g88waRO99wHhfvvwiv07tLbM61bXLjZorNyXy32OQjEolgamoKa2trrGM/6UTsiv7GxkaUqxYRXzNdtUKhEIaGhuD3+1NOZhcDQtPdfT4fjEYjtFotOjs7RStAYjNHnE4nbDab6Cv6W1tbmBqawr+f+XcoShSC3vteg08eTaxDGUkPt9lsGBgYgEKhoD/HVMbekrWZnp2dxczMzK7fbrpDENnANSqqVqujSN7Ozg4cDgdWV1dp0wpCRgoLC0UPbExHt4Vqbo4rOGeD2KNhUo9gLS4u4gMf+ADsdjtKS0tx6tQpvPrqq6irq5NsnzKiIRMQGSljaWkJY2NjaGpqQkNDQ9wik+mSIvYKDtXcTK/SqJzOXR0KIojPz8+PS5D4Quz3QVEUZmZmMD09jSNHjqC0tBRzc3OSiQ3ZRrAu/PgCrs1G2xlfm72GB556AJ+u/TTvbhGTnEktNg8Gg1Hp2ntdvDOhUCh2uWqRFPGpqSnk5uZCr9fD4XBAq9XueUBfMunu5DdVUlKCgwcPSlYUqVQqmriRYs9ms9HXHaY1bUFBAe/zzOFwYHBwEI2NjaivrwdwcyRrPyDZPJrs7Oyo9HBi85vq2JtQm2likb24uBiVzk6Q7hBENjCvXVywbFgwszGDRl0juuq7EAwG6e7I8PAwKIqCwWCgCUmqlshS54AkC7E7IB6PR9Ju9ne/+13Jti2DH2QCIiNpRCIRjI+PY2VlBZ2dnQmt8UjRHwqFJL2Axo5Ira2tYWhoKEoQn+r2AXEuuOFwGCMjI3C5XOjt7UVRURF94wuHw2kZwTI7zVGdD/rYqDBeXn8ZpfeU8h5VI9uWWmxO9CharRa9vb2SW42mitzcXNTW1qK2thbBYBBLS0uYnp4GcPP3MDk5GTWqJbQTkSqEprs7HA4MDQ2hrq6Oc9FBbCgUChQUFKCgoIBe0SfEbm5ujiYrsda0sSDhlIcPH0ZlZWVajl1MvDr5Kuff4+XRMBFrPR079padnR1l88t1rRNiM01RVNTIIR+LbEDaEEQ2MO2D2eD0OvHoTx+NEsefqzuHJ97+BMrLy1FeXk6PwDkcDnoErqCgIKo7IvS3k4nZJMD+F6HLSD8y+64tI2NBURT6+/vh9/t5C6XJSpWUDlJA9KiXxWLB7OwsOjo6RFtNIRf/VN8HSRBXKpVR4YLkc5JK6B5LQKyuBFakfv5WpAqFAqFQSFKx+cbGBgYHB1FeXo7W1taMvBlzYXNzE1arFY2Njairq4sKQHzZ+DL+39L/ww3nDfr5iToRqULoajop3g8dOoSqqipJjokvsrOzoxKvifh6amoKPp+PNUxybm4O09PTrOGUmQ5yTVNucp/zybh3xY69kc9yYmICgUCA/izj5bfwsZkmi1Yulws9PT1JdS2lCEFkQ6Jr2KM/fRTX569HPXZ9/joe+ckjuPTAzcRw5ghcQ0MDPQLncDiwuLgIhUIR1R3hs+AUDoczcsFFqhwQGbcuMu8slrEvoFAo0NzcjIKCAkEXHakzNMg+gsEgjEYjdnZ2cOrUKRSwaEKSBbmhpUIQiKi7pKQE7e3tu26QUlr9xh57o14cK1KKoqBWq2G1WuF2uzmdoJLF6uoqxsbG0NzcjNraWtG2my4sLCxgamoK7e3tNCFmrkL/xnd/A/2u/qjXPDf3HH7n0u/gv3/rvyUhdHzT3SmKwuzsLGZnZ3H8+PGMC+tis6a12+1YX1+nx95UKhXcbnfa9EJidrIoisL4+DgcDgfeefs78b3t70nm3qVSqWiywfwsSX5Lbm4u3Wki+S2JbKYjkQiGh4fhdrvR3d0tilBbrBBENnB1Gswuc1TngyBMhXF17irvEThiEDA/Px/VHSkpKYmbdJ+pHRCxR8OkFqHL2HvIBERG0jAYDIKLcLVaLboTViwikQgWFhZQWFiIvr4+ScaYUiFSZHadS9QtpdVvrBtZi6EF5xvO49rstV3FzNn6s1FuWPFAVh4PHTpEr5wajUYolcooJ6hkb1AURcFqtWJ+fh5Hjx7dlyvXZrOZznXR63d3M8xOM55beG7X42EqjOuL1/HUL57CsQPHErpqCQWfLAyKojAxMUGPzYhJ6KUCcS2qq6ujHfq2t7ehUCho8k/+EfsakYymhgvM4r2npwdarRZPvuNJPPTMQ1H7kMK9S6FQID8/H/n5+XR+CzEFGBoaQiQSiTIFYLOZDofDGBwcRCAQQHd3d8o6iHjg6o4IHdXiKvRnNrgTw60bVl4jcEVFRSgqKkJTUxP8fj/dHZmfn4dKpaIJNXOcUHIXrCQh9siwx+ORCcgtDpmAyEgayazGSt0BISnLeXl56O7ulmw2PZkOBZl9XlxcTKiZSbXDwoXYbVMUhc+2fxYOhwMDWwP042frz+Li/Rc5t0VEoeSzyM7OjgrtI9kOU1NT8Pv9MBgM9Mop3xXQcDiMsbExbGxsoKenZ9/dlIjOZ3t7mzMjI1EnIqc6BxqNhtNVKxkkysJoKGzA4OAgPB5Pxon9uXBl5gpeW3kN3eXdKN4sRigUwm233Ybs7Gx67G12dhajo6OiZ44I1dRwIRQKYXBwEKFQKKp412v1ePq9T8PismDaNZ02vVBWVlaUxmFra4texWeaApSUlKCgoADhcBhGoxEA0N3dnbbxoUTdkURCdi4CQoIV4yERqWeDRqOJGifc3NyEw+HAzMwMfY4WFxcjEAikTXMlBOFwWFT7YVkDcutDJiAy0gqpCAjTSaq0tBRqtVrSi7TQDoVQC+B0jWCRZHPPtgfPPvgsVgOrbxQzCTofiZLNY0WuHo8HNpsNKysrmJiYQEFBAV1Axxs3CAQCdKZGb2+vZCFqUoEcv0KhSJiRkahoOXrgKJr1zXFdtchnmczYW7zV9H+799/Q398PhUKBnp6ePXXq4gu2RO5CdSFe/NCL9PlDMkeam5vh8/lgs9lEyxxJ1qGKDYFAAEajEWq1Gl1dXazFO99gPSmgUCh2reITIfvs7CxUKhUoioJGo8GJEyf2VLsQLwQxXneEi4C06Ftwru4crs9f30Xaz9SeSfn7YF47m5ub4fV6aWetra0teDwe7OzsoLi4GHq9PiM0IWJ2ZiiKgtvt3hedVhnJY+/PWhlvKkgSRhgKYWRkBBsbGzh58iQcDgc2NzdF3UcshBCpnZ0dDAwMIC8vD6dOneJVxEk5gkVurl6vFwMDA8jKysKpU6eQnZ2NZjTzGrli2uzyEZszg7zq6+uj3ItmZ2eRlZVFF9Ck6NvZ2aGzZdrb2zNy7IALbrcbRqMRhYWFvI5fSCo301UrFArR2Q5CAhCZYFtNr9JUYWBggPfxZwrYErm3Qlu46zt30YncTGi12l2ZI8wUcWbXjg8B5qupSQRiUpGfn48jR45k5Nx/LDQaDaqrq1FdXQ2Px0OT10gkghdffBF6vZ7ujvBd3ZbCEY5tVItcz0h3xO/3A7hZWLNpR554+xN45CePRGlBztSewRNv504MTwY5OTn053rjxg0UFxcjHA7DYrHA5/NBp9PR41q5ubl70iGRwoZX7oDc2pAJiIykkcxFTq1Wi7qy7/F4YDQakZWVhdOnTyM7OxsbGxuSC935dihsNhsGBwdRU1OD1tZW3p+Z1CNYfr8fr7zyCsrKyjiTzdnAnKtO1umK6V5EHHeYQXMFBQXY2tpCTU0NWlpaMnLkgAsulwsmkwkHDhwQZP2czFy/Wq2OGokhY2+xo1olJSUJ3erIavrm5iZu3LiBqqqqffX5J5PIzQQzc+TgwYNRmSMkRZx8lvEsVPloahLB7XZjYGAAxcXFOHTo0L75/AnI4obBYMChQ4egVCrprp3dbofZbIZWq6U/S7ZOk9g6mnhgG9XyeDyYnZ2FTqeLqx3Ra/W49MAlWFwWWDesaNSlJ6mdoigUFRXRI7wej4fWjlitVto+ubi4GDqdLm0LB2KL0GUXrFsfMgGRkVaIOYLlcDhgMplQWVkZFYSWLqctLoJAHIMsFgva29sF25VKOYK1tbWFzc1NHDx4MGGyeSyYYwti2ewyHXcOHjwIi8WCubk5aDQazM/PY3Nzky4KhayIpTtLg4DY1La1teHAgQOCXpvqXL9CoaDHi5Id1bLZbBgeHt6XTmPJJnKzIV7mCNE7MA0WmCJhIZ0sNmxubsJoNOLAgQNoamrad+TD7Xajv78fZWVlaGtro4+f2bULh8NwOBy7Ok3kOqDVakXV0QiB3++HyWSCXq/HwYMHASAqdyTW5rexKD3EgyC20M/NzUVubm6UfbLD4cDk5CQCgQD0ej3dHZFSvyVmByQUCsHn88kE5BaHTEBkpBVijGBRFIW5uTmYzWYcOnRoV5GXLgISbx/hcBijo6NwOBzo6elJyu5TihEs4sS0tLREj0IJeS1TbC5FxgcR6a+urqK7uxs6nY6ezycr+mTVlBTQbJ2bdK2csh3/zMwM5ubmUrapFWuuX+io1uLiIm0TXF5envL+043mHO7PLDaRWwhiM0c2NjZgs9lgNpvh9XqjCuhkHaqcTiedzl5XV5f0se4Vtra2MDAwkJA8qVQqlJWVoaysjE63t9vtWF5exsTEBFxKl2g6GiEgY2NkMYQcf7wQxFRsfpNFOByOuw/mYg5FUXR3hJynOTk5NBnR6XSiHivXcQnFzs4OAMgakFscMgGRkTT2YgSLT3GfDgISr0Ph8/lox5e+vr6kXUHE7oAQsfn29jba2tqwtLTE+7WxYnMS7iUmyPF5vV709vbSo0LM+fxQKETbfw4ODgJg1zrsxcopCVhzOp0Za1ObaFRLo9EgEAjsW/KxsLCAYlcx9Bo9XH7Xrr/HJnKnAqVSCYPBAIPBEJWTwew0feXYV7Ddsw1b2IZmQ2JCub6+jpGRERw8eHDPAx6TAck2amhoELS4wew0kbC+Hw79kPM1fHU0QuB2u/H666+jsrIy7tihEJvfVEIQucA3B4SpuyMLEMQifWxsDOFwOKo7kqqDlZgdEI/HAwByB+QWh0xAZKQVJCQwGcQmh8e7YO7VCNbm5iY9t52qaFdMDUis2Hxzc5P3tsXQe/A5PpPJhOzsbE6nJbVaHbVqGltAGwwG7Gh20r5yGgwGMTQ0hGAwSGc0ZDqYo1pNTU0YGhqCy+VCQUEBRkZGYLVa6fl8nU4nyvcu1UgcRVGYnp7G4uIiTpw4gRdPvJgwkVtsMDNHmDkZ28vb0FAaeD1erPhW4maOLC0tYXJyEkeOHEFZWZlkxykVHA4HBgcH0draKnjsMBbZ2dnoauwCdkfi0NDsaLC9vR3XPU8otre3MTAwgOrqat5jb1KGIHIhWa2FWq2mu8ek6+RwOLC6uoqpqSnk5eXRZKSwsFDwsYqpAXG73dBqtfvG+EJGcpAJiIy0QqVSwefzCX6dy+WC0WjkJZreixGs5eVljI6Oorm5GfX19SnfFMUawWL73Ph2V9JBPjY3N2Eymeh5cb43PTatg81mw8sTL3O+TuyVU6/XC6PRiJycnLRmHCQLko1BUqqZ5On06dPQaDRRo1qxnSaDwSDYilfKkbhIJIKJiQk4HA50d3cjPz8fOug4E7mlRmxOBskcmZubo/McyOeZl5eHubk5zMzM4Pjx4zAYDGk7TrFAOjeHDh1CZWWlKNvk0tH0lfehKFyEGzdu0ILrkpISGAyGpApWMjZWW1uLxkbh+R0EYoYgxgMhNqkSGWbXiRku6XA4MDw8DIqiYDAY6BBEPu5vYnZAdnZ2RMnjkZHZyOy7pYyMRrJBhEI1IPPz85icnERbWxtqamoS7jedI1gURWFqagoLCws4fvw4SktLRd1+KiCkKDZxnU93RQqxeSxWV1cxNjaG5uZmXt8rF3Jzc1FXV4d7C+7Fnw79adzn1RfWJ72PWBDyVF5ejtbW1oy2SWXLxjBoDfj7I3+P+qL6KPIkpqsWIN1IXDgcvplh4/Gwdp7YErnTDSZRJpkjZFTLarXSv8WWlhYUFRXt6bEmA6LZkKJzw6Wj0Wv1tODabrdjcnISfr8/6tzkI7gmY2Nia26Y3RFyrRUSghgPZFtidwZiSfP29jYcDgft/lZQUBDVHYm9VpP3JTYBkXFrQyYgMtIKIRqQSCSCsbExrK+vo6uri/fqICEgFEVJtoKiUqng9/sxMDAAt9uNU6dOiTqvmsoIFhGbz8/Ps5Iirm2nS2w+MzOD2dlZdHR0iEbagPgrp0qFEp2FnVgcXIS32EuPInAFA3KBrPo2NTWhtrY241fq2LIxnD4n/nDwD7H4PxbjFj+xnSav10ubAjBdteKNaokZysdEMBiE0WjcVwGJwE1N04EDB1BVVYWxsTHY7XaUlpbSphrFxcVRTlBSI5WxuIWFBZjNZhw7diwlw4V4SOQIxya4ttlsWFtbw+TkJHJzc+m/swmuSXe4paUFNTU1oh8/AdmvkBDEeL9HpgOXVFAoFCgsLERhYSGtySHdkcHBQSgUCro7UlxcjKysrKj7hRggGSCZfl2VkRpkAiIjreDbnfD7/TAajYhEIujr6xNkH8icyZVqhjQcDmNtbQ1FRUXo6+sTvQBKVisTCoUwNDSEnZ2duKQoHgFhc3YR+wZASKXL5UJPT48kYm22ldOzdWfxjd/4BrJCWVG5DoWFhVEWv3ze7/z8PCwWy76Z1+fKxtgMbuK5+ed4dwpycnJYXbWYo1okgyArK0u0UD4miBYsNzcXHR0d+25OPBwOY2RkhF640Gq1rE5QXJkjsaN0QpHqWBxZQDhx4kRSLn9CwMcRLjbolJybdrsdw8PDiEQiUeRue3sbg4ODaGtrQ3V1taTHHws+IYjkPcV2R8Qu9PkgOzsbFRUVqKioQCQSwfb2Nm1FTboj5BwQ67jcbrfcAXkTQCYgMtIKPiNYqYq5yfPFTmYlsNvtWFhYgFarRVdXlyQ3g2RGsNiSzeNtO5aAMOeVpbKSDAQCGBwcRCQSQW9vL6+54mSQaOWU5Dr4/X56Nd9qtUKj0dBkhG3FlNgEr62toaura9+MzIiZjcFEvFGtmZkZjIyMQK/XJ1zF5xPKx8TOzg4GBgZom9RMHntjQygUwuDgIMLhMLq7u+nfKJsTFFvmiDvbjQd+/gCrwL5B18D7OJIdi6MoChaLBUtLSxnr9gbsPje3trbo6/bo6CgAoKysDPn5+ZJ2yhMhnpCdkJLY7kgoFJJsJJbv8RYVFaGoqAhNTU3w+/1wOBxYX18HALz88st0Z0Sv1ye9MLezsyM7YL0JIBMQGUlDChvepaUljI2N7dItCEHsapFYYOaPVFRUIBgMSlYACRWhk3GC8vJyOnmYa9tk1EqhUKRFbL6zswOTyYTCwsKUHcL4ItHKqUajwYEDB3DgwAGEw2HauYismDItfpVKJa036O3tlTTQS2z0VPZw/j2VbAyCeKNasAGdBZ0Y3B5EBG+cz3xD+Zgg8/pELLzfxjMCgQCMRiPUajVOnDgR17BAYTZDa7WiuqkJVUeP0pkjdrsd9//3/dgKbUU93+lz4o5v3YGFjy/wOo5kx+IIAV9fX0dPT8++WaFWKBR00Zyfn4/h4WFUV1cjGAzSrorMzt1eGklwCdkjkQh8Ph8UCgVCoZBkNr9CoNFoUFVVhYKCAmxtbaG9vR0OhwMzMzO04QIhJEJGqsgIloxbGzIBkZESSAHLF/FGsCKRCCYnJ7G8vIzOzk6UlJSkdExiC9GZepTu7m54PB5BWRpCIUQDQsTmra2tvPQIzBsc6bRIST4cDgeGhoZQU1OTscnOKpUqyqJya2srajVfqVQiOzsbR48e3VfkA7gpxi7KKsJmcHPX38TMxmCCOap1qe0SHnz6Qbyw/IYNbk9xD77c+2UEg0Feq6REcyP1vL5U8Pl86O/vR0FBAY4cOcJeNDqd0Dz8MFRX3iAH4bvvhv/JJ2EwGDCwObCLfNAv9Tnxo6Ef4TeP/GbCgjSZsThy/dvY2EBPT8+++w0AwMrKys2RofoCzCvn0VTRhCNHjtDkjmmyQAhJbm5uxnRHdnZ2MDk5icrKSkltfpMBmTbQ6/XQ6/W04YLD4aAJSVZWVlR3hIvoySNYbw7IBERGWsFGDAKBAEwmEwKBAPr6+ng56ySzn2TB1KOcPn0aWq0Wfr9fUqctPiNYTLG5ENJGblKknU8ek+JGu7i4iMnJSRw6dGjfhKsxV0wrKirQ398PrVYLtVqNGzduIC8vjyYrbI4wfJDqDD9fEL3B/+v4f/jjsT9OazYGQWl+KX722z+7ORLnnEapuhQFgQLYl+1YMC/QBV9paSnrb3+/p7O73W56pPTQoUNxzxfNww9D+Vz0WJTyueegeegh+J9+OuEo3c9GfoYix80VZ9K5YxvDbNRxW83GjsVFIpEotzGpRielxNLSEl4ffR1ft38dz/c/Tz9OdC+tra1obW2lO3d2ux0WiwUajYYmI3q9fs/0RuQcqqioQEtLS5RZSDwhO/nvdIBt3Fmr1aK6uhrV1dUIh8PY3NyEw+HA9PQ0vF4vdDodTUhiiZ7b7ZZ8BOuf//mf8ZWvfAUrKytob2/HV7/6Vdx+++2S7lNGNGQCIiOtICNYZPyHeLDrdDrOsQShECtJnHl8TMGrmEGBbEg0gsVHbB4P5ELv9XrptrgUTldTU1NYWVnBiRMnoNenlvcgJeI5AZHODXPkJxgM0sJr5vgGKfgSFSjx7HCFzvDzASH2CoUCv3n7b+I9596zZ9kYwO6ROOaolt1uh9lspp2LCLmbm5vD3NwcOjs7M/ociofNzU0YjUYcOHCAs/unMJujOh/04+EwVFeuQGGxJByle2/fe3HCcAI2my1u5ohCoeDM2IgdiwuHwxgcHEQwGER3d/e+cRtjgrh1fd3+dfxy+ZdRf4vVvTA7d2Qs0263Y3x8HIFAIO0uZcAbCe1VVVVobm6Oul7HC0FM1uYXuHkuKmdmEGlsBNXMb0QykeGLSqWCwWCAwWCgc5tId8RqtSI7O5vWk9x7772Sa0D+8z//E3/0R3+Ef/7nf8Ztt92Gr3/967jvvvswNjaG2tpayfYrIxoKSsj8jAwZMQgGg4IK8WAwiKtXr+Luu++GzWbDyMgIGhsbRZ/p/uUvf4m2traULF5XV1cxPDyMpqYmNDQ0RB2fw+HA6Ogo7rjjDjEOl3XfMzMz6Ovr2/U3ptj8+PHjgqxkyc2pv78fm5ubKCoqinKBEgOhUAjDw8Pwer04fvy4KB0tKcDlBORxeDAxMcHZuSGz+UTI7vf7YTAY6M+TbaW45h9qWB2pDFoD7xl+PiDnSH5+Po4cObIvnKKYrlp2u51eQGhsbMSBAwf2XfHrdDoxODjIK2NC+YtfQPvud8f9u++HP0Tk3nsFnT8kc8Rut8PhcNChfaWlpUAO8OhPH+V0wQoGgzSBPX78eMaHbLJhbm4OVqsVhQ2FuOP78a/Vgx8e5NQjMV3K7HY7Njc3kZeXR3+eRUVFkmnn+vv7o8hHIsTa/DJLPE6bX6cTOY8+CvXVq/RDoXPn4H3iCSAB+V9dXcXy8jJOnDjB/839GiTP5ZlnnsHjjz8Ol8uFlpYWVFVV4V/+5V9SCoeMh5MnT+LEiRP42te+Rj926NAhvPOd78Rf/dVfib4/GeyQCYiMlCCUgEQiETz77LOora3F8vIyjh49KpqVqcJshsJqBdXUhJdtNjQ0NKCiokLwdojTy9zcXNzjc7lcMJlMuOuuu8Q49F2w2WyYnJzEW97yll375Ss2j0Ws2JzpAuV0OulMh1RuqD6fD0ajkdZLZHLReP/372ddBT5ZehKfrv00jh07xjt7hqIouN1uunje3NxEQUEB/Xnm5+fj6uxV3P+D++Nu48fv/bEoXQlmQGJbW1tGam64QAIGt7a2UFpaio2NDbjd7oSjWpmEtbU1jI6O4uDBg7xGDxVmM3KOH4/7d+/gIKjmZsxszOCOb90huINGijxyfpLV/B3NDjYUGzhYfjCqAA8EAhgYGIBGo8HRo0f3BYGNxczMDN09e9XxKt79X/EJ3g8f+CHubbyX97ZJJ5QQEgBR3RExrnuEfFRXVyetnWOz+SUlX2x3JOdd74Lq+nUoGJMDlEqF8Jkz8F66xLmfpaUl2O12HDt2TPAxxh7v0NAQ/uIv/gLz8/NYWFhAY2Mj3va2t+Ftb3sbbr/99pRHAAOBAHJzc/H9738f73rXu+jHP/GJT8BkMuH555/neLUMMbH/ljRk7GuQVU2bzSZeeJ/TCfWFC1Bdvkw/dLS3F1v/8i+AQAJCRpu2t7dx8uTJuDaTQl2qhIJtxIs4hPEVmzPB5nSl1WpRU1ODmpqaqNVno9EIpVJJF88Gg4FXAUIK39LS0oy3SOVyAnp5/WUUnyvmTT6Amzfz/Px85OfnR9mo2mw2zM7OIisrCz9z/oxzG8na4TJBXLz2S0BiLILBIG3VzLSS5hrVKioqwvTGdNKBekBqgXyxWFpawuTkpKCcGKqlBeG774byued2FYCRu+6iR2EadA1Y+PiC4FG62NA+QpaD9iC0m1rYN+xACehwTqPRSHfPMvl3zAaKojA9PY3FxUV0dXXdtN0OC9O9JEJWVhadjUEsqO12+67Rt5KSEuTn5wv+He7s7OD1119HTU1NStMBbDa/bCGISoslqvNBoAiHob56FQqLhXMcKxwOi3KeKJVKHD9+HBqNBp/4xCfw8MMP4+rVq/jpT3+Khx56CB6PBysrKymRENJdjdWTlZeXY3V1NdW3IEMAZAIiI23Y3t6m04s7OjpEm/FUX7gA5bVrUY/pX38dmk98AmCQkkTweDwYGBhAdnY2+vr6OEebxHbZigVTw0L0FAsLC4IdwsiKF7nhxBObM33zmaNFk5OT8Pv9KC4uRllZGUpKSlg/F7Liu18K30ROQCuBFRzF0aS3n52djaqqKlRVVdGrz+ZRM+drUrXDJYL/9vb2pDp/ew3SPdNqtejs7IwivWwBiHa7Hb/s/yW+PP1lDGwN0M8VEqiXaiBfLGZnZzEzM4Pjx48LIrAA4H/ySWgeeihKCxK56y74n3xy13PP1Z9LmqyykWWy+NDf349wOIycnByUlZXR14z9AmLMsbKygu7ubvoeI0T3IhRMC2ri/kQ6IzMzM1Cr1VE2v4kWc7a3t9Hf30+7BoqJeDa/qrk57tdZrQgnICBidsmIC1ZBQQHe+c534p3vfCcoiqLzmsRA7D1qL/Ng3qyQCYiMlMD3B7u2toahoSHU19djcXFRtB+6wmyO6nzQj0ciyHvxRQQSrNwQOBwOmEwmVFZW8lq9Jx0QqS5aZPupiM1jk835Ol0plUpaMNja2oqdnR3YbDYsLCxgbGwsSjeSm5tLF137JRkcEO4ElArI6vMjdz6Czw59lnWGX5etw6nSU0ltn9yY5+fnM17wHw/E5Uev1+Pw4cOcvz8mWf702KcxuD0Y9fdrs9fw/u+9Hz96z48SjmolG8gXC2bh29XVhcLCQt6vpaHXw//001BYLFBMT4NqauItAk4F2dnZqKysREFBAZxOJ4qLi5GTkwOr1UoHSpJE9kwefSM5JTabDT09PbuO9cl3PImHnnkoimzeVXcXnnzHk6Ieh1arpfOFIpEIXC4X7HY7pqam4Pf7d9n8MkHIBzG+kBLM7oiirY3zucG6OoCDjIpNQDwez657nUKhEIWQlZSUQKVS7ep2rK+v70uXvf0MmYDIkBRETzE7O4uOjg5UVFRgbW0tYRo6Xyis3CvZiunphDfx+fl5TE5O4uDBg7wzBpirSFLMR5MOyK9+9auEyeZsICtbZN432VVMZkJzY2MjfD4frRuxWCz0dg8ePJiS4D/dkHJFlAsvfOiFXTP8umwdvt71dbzyyiuCdTiRSATj4+NwOp3o6enZl+nBxCmqurqat9AWiD9GF0EEL629hB9c+wGaDc1Ro1rM30GygXy79sf4Drq7u1M2c6Cam9NCPJgwzhtxdeAqTjScwNGjR6FQKNDa2gqPx0OPEk5NTSEnJ4cmIzqdLmO6IxRFRX0HbDkleq0eT7/36Zt20K5pUcbtEkGpVNJWs21tbXC73VGfZ25uLm2brFQqYTKZUFdXh4YGcR3xEoFrBDB4550INTQAv75nk4UsprOW2PfBnZ0dyXJAsrOz0dXVhcuXL0dpQC5fvoz774+v0ZMhPmQCIkMyMPUUp06dovUUYo4vUQlWiSiOFRNSOKytraGrq0vQyAS52Iq98kOws7ODSCQCnU6XsthczA4N0Y2Ul5fDZDLB7/ejsLAQk5OTMJvNKCkpQVlZGW/dyF7iKye/gkecj8C4ZaQfk2JFlAmuGX6mDsdkMgFAlMVvrAsR+X35/X709PSkzRZUTNjtdgwNDaG5uVmw/WWiMbrStlI0FTbBbrdjcPBml4SZkZFMIF8sSM6K2+3el9+B0+vE7/zod/D84q+Ft2bg7qk3RtByc3NZR9+Gh4cRiUSihNdCFkjEBAlJ3NzcRHd3d8LvINYOOp3Iy8tDXl4e6urqEAqF4HQ6YbPZMDQ0hGAwiPz8fNqSNt15K/FGAENPPgmNRhNl8xsbghgKhUQLpyQapXj6SzHw2GOP4UMf+hC6u7vR19eHf/3Xf8X8/Dw++tGPSrZPGbshExAZKSFecUtGKrRa7S49hagEpKUF4fPnobx2bdfKzVZvL7RxVhIDgQCMRiNCoRD6+voEXzwJIZBCB7K0tITR0VEASJp8UBQlWbig2+2G0WhEQUEBurq6oFKpMGmfxMjSCAK+AFyTLlo3Qlbz96o4YQNFUZibm8OidRGX3n0Jm+rNtK2IErDN8DNHiyiK2pXQzLT4VSgUMBqNyMrKQk9Pz760SF1eXsb4+HjSmpVEY3QtJS0o17/xeRKhMEm392R7OF+faAwvFArBZDIhEomgp6cnox3f4uF3Lv0OXlx6MeqxeCNosefn1tYW7HY75ufnMTY2hsLCQro7kozwOhlEIhGaAHZ3d++rkES1Wo2ysjJoNBqsra2hpqYG2dnZWFpaupnYXlBAk7tkA08FgWMEUAmwakfImLDX64VWq6XDbVPtjHk8HknH/d7//vfD4XDgC1/4AlZWVnDkyBH89Kc/TWiXLUNcyDa8MlJCOBzeNU5ls9kwODiImpoatLS07LoY9ff3o7S0VLzAH5cL6gcfjNKCbN92Gyxf+AIO33bbrqdvb29jYGAAhYWF6OjoSLp4e/bZZ3H69GnRxl6YYvMjR47AZDLh7rvv5n18THeTVMgHlyMQyTY4cOAAmpub4fK5WEW8/3T2nxDYDMBms2F7e1uSvJFkEIlEMDExAZvNhs7OzuRm9fcATItfl8sFhUKBvLw8HDp0SLIMAqlACODMzAyOHj2K4uLipLcVz0r5rrq7ODUcXq8XdrsdDz77IF53vo4IIoJeT2xqs7OzcezYsYzv9rHhFfMruPtHd8f9e6JsDCbiZY6UlJRI1g0llq0+nw8nTpzIqEUOvtjc3MTAwMCurBjiokc+TzLKRVwJM4XsUhRFX0+PHTsGjUYT1+ZXyDZLS0sxODiIgwcPSnXoMjIA+2/ZTEbGgqIozMzMYHp6Gu3t7XH979VqtWgaEACAXo/QM88gzFi5WVQqEdja2vVUIoZvaGhI2ludQEwr3lixOVn9CYfDCQlIsmLzWCRyBCIuSwcPHkR1dTWA+CLeP7j2B3j6vU/TuhG73Y719XVYLBZR8kaSAXNk6eTJk/tqXIaMbhQVFcFoNMJgMEChUGBgYABqtZr+PPV6fUYXw4Rkr66uJi/WZiBZYXFOTg5qamrww9/+IS78+AKuzr1hQXqs4Bj+V9P/wurqKoqLi3cVeyTksaCgYF/a1AI3u08vjrzI+Rw+I2gETOE1cX2z2+2YmJhAIBCgu3diJYiThPZQKISurq6MKciFYGNjA0ajkXYOZILpoheJROjuHemG6nQ6muCRhPt0g/yW7XY7uru7kZubG9fmF0gQgshAIBBAIBCQdARLRmZA7oDISAmRSATBYBChUAgjIyPY2NhAZ2cnioqK4r5mZGQEGo0GLS0tkh3X3Nwc7HY7urq6ALzhDU9WXcVwu7h+/TqOHTuWsusQKWjIamp2djYoisIvfvEL3HnnnZzjYWKJzQHu1eSvHPsKHRxJtDJmpxnH/+N43O2xraDGpl0rFIq06EaIxSsJVtuPI0vE6ri1tRUHDhwAANplhxgDBINBmCkz5oJzuLPpTtzbwj9cjUDMTAwmIpEIRkdHsbm5iRMnTog6YpGqsJi8vlHXiFJlKS0Udrvd0Ol0dPFMURQGBgborJv91HkimJ+fh8ViQWFDIe78wZ1xnyekAxIPbAGd+fn5tLYpmdEiMvpGURQ6Ozv35W+ZkI/m5mbexicEpHtnt9vhdDqRnZ1Nn5/pWoAgrm+rq6s0+YiFkBBEJpxOJ+rr67GxscFZR8jY/9h/v1wZGQePxwOj0Qi1Wo3Tp08nbIWrVCpxOyBx9kFWX0KhEJ2szBTDpwq2sEChiJdsTi7MXBoTPvkefJHIEcikN+HtfW+PGp9KRsTLJ29EbN0IyZ8pKSnJ+IDEeJibm8P09DQ6Ojqi3MaYLjtZZVm489t3wuV3AQD+fvjvUaguxPfOfw8nGm4W/FzniNiZGEyEQiEMDg4iGAyit7dX9HGZVIXFsa8nmQ6k2LPZbDCbzaAoCkVFRbQOYj8REIqiMDs7i9nZWXR1daGoqEhyJ7h4mSN2ux0DAwP0AkQ8o4VYBINBGI1GqFSqXVkx+wXkmt/S0iKYfABvdO9qamoQDofhdDpht9sxPj5Od5tId0QsYTgTxNmSdDHjLSSwhSCSxTKu7ojb7QaAPR3VlZEeyARERkrY2NjAq6++yjs/A7hZhPr9fkmPixAQ0l1Qq9UJwwWT3UeyYCabs4nfuEa8xHa6SkQm8mvzd90QUs3SiM0bcbvdWF9fx+LiIsbHx0XRjRCXpYaGBtTX1++rghF4Y8yB5EtwrQie+f/O0OSDYCu0hfddfh++ffTb0Gg09OfJZqEqViZGLPx+Py2Y7+7u3lcr1qTYy83NhcvlQkVFBRQKBe0CxSyeM3kMiBSNy8vL6O7uphdh0pWNQUAyRyorK+nRIpvNRo8WMTMyYn/zwWCQ7hQfPXp0X5MPZhczFahUKvo3TbpNdrsdq6urmJycRF5eHv15xtpQJwMySUDOIyHX5XghiLEjxFtbW8jJydmXC0UyhGH/3AlkZCTy8/Nx+PBhVFZW8n6N1CniZB+BQACvvPLKru6CWEjUoYgHvsnm8TosYonNmUhEJlpLW3c9JmaWBnOllKkbIcUJyR8QohtZWFiA2WzG4cOH92UyeDgcxujoKLa2ttDb28s5snRl5gprwCFwk4RE6iNoLWiFzWZjLZ5nt2dFycSIhcfjwcDAAIqKitDe3r4vi4q1tTWMjIzg0KFDtK6NzVWLOaqVSau3RChMZvWZx7YX2RgESqUSer0eer0+KnPEbrfDbDYjJyeHPkdzc3NhNBqRm5uLjo6OfXkeOZ1OmEwm0chHLJjX0Pr6egSDQbrbNDg4CIqiomyok1mMs1qtWFpaQldXV0rnOFd35Jvf/Cb8fj+CweC+cjWTIRwyAZGRErKysgSRDyA9BMTpdMLr9eLw4cPiuW3FIBkRupBk81iCQ2ZoyWNi2uwmSyakWkFlilpj8zFixzZiV0LJfPLy8jJOnDgBnU6X0rHsBYLBID3nzmdk6bWV1zj//vra6zjfdB5lZWV08Wyz2ejieTIyyfl6IYJkgq2tLRiNRlRUVKC1tXXfdZ+uzFzBlYkrKPWV4sG3PBg1+qZQKKDT6eKOamVKYB/R3WxtbcUN6AP2NhuDIDZzJDYjQ6PRoKSkBKFQaN85XhHy0dbWRht4SI2srCxUVFSgoqKCtk222WyYm5vD6OgoCgsL6e5IQUFBwt+n1WrFwsICuru7RQ88Jfeyr33ta3jqqadw9epVmXy8CSATEBlph5QEhNisLi8vIysrSzLyAQh/H16vF/39/dBoNLySzZkEJ1ZsTpJoxcQ3fuMb+K3v/xZeWnuJfiwRmUjHCmo83cjU1NQu3YhKpcLIyAi2t7fR09OTUSvRfOH1eqNWe/mMmvRU9nD+vbeql/5vZvHc0tICj8eDrJksYDD+6xON08XC4XBgcHAQjY2NqK+vF/Tavca0axpnvn0mqqP01cWv4oUPvYAGHXtCNXMun1k8M7tN5J90jWqFw2EMDw/D6/Xu24yMgoICOJ1OFBUVoaCggB7PJMVzaWlp2jJHkgX5LRw8eDCuM6TUUCgUKCoqQlFREZqbm+Hz+ejuyOzsLNRqdZRtcuyY5MzMDObn5yUhH8DN+9t//Md/4Itf/CJ+8pOf4C1veYvo+5CReZBdsGSkDKF6jtXVVczMzKCvr0/U4wgEAjCZTAgEAmhra4PJZML58+dF3QcTJpMJRUVFaGhgL0qYILO/FRUVvLUyL7/8MpqamlBWVka3qKUKFySp8A6HA4UNhVgLrqV1HCMZMB121tfXsbW1BZVKhaysLHR0dOzLzgfpGpSVlQl2War5hxrWMSyD1oCFjy8kfD2bC5oSSvSW9uK7b/8ub5ey1dVVjI6ORo0s7Sek+jkywVx5ZnPVkoogh8NhmEwmhMNhdHZ2ZrQ+JR48Hg/6+/tp8wjyW/D7/XS3yel00jbUUmaOJAtCPg4dOiR4UiBdIE56ZPzN6/VCr9fTn+n6+jptXCCFNS5FUfjWt76FP/mTP8EzzzyDM2fOiL4PGZkJuQMiI+2QogNCwgULCgpw4sQJBAIBWugm1eoYXxcsIjZva2sT1JEhI1hiis3ZEAwGaU/93t7efZOPwZx5Lisrw8DAALKyspCdnY3+/n5otVqUlZWlPW8kWTC7BnV1dYKP94UPvYA7vnVHVPFs0Brwwode4PV6tnG626tvx+c7Pr/LpaykpIR1RZ1YvB47diyutimT8ez0s3G1NE6fE1dnr+5KsOdC7MpzOka1mE5RJ06c2FeifwK3243+/n6Ul5fvGt/TaDSorq5GdXV1lA01M3OEdEf28lpGDDAymXwA0U56bW1ttBaHdJkpikJFRQV9TxVznJCiKHznO9/BJz/5SfzoRz+SycebDPvvyiQj46BQKCCkkSa2De/6+joGBwdRX1+P5uZmKBQKelxJSgKSiEjxFZvHg1KphN/vl5R8uN1umEwm5OXl7Vtby9h0doVCIVg3stdYXl7G+Pi4YEMHJhp0DVj4+AKuzl7FjeUb6K3qFVQsc43TMbtNS0tL9BgMcyV/enqaFqjuR//+cDiM/zb9N+dzbizfEPSZxkLqUS2S0E7ybjLtPOeDnZ0d9Pf3o6qqiv49x0Ns8czmAkXO0XQuQpDvdD8aYBAtDtGKNTY2wuPxYHR0FKFQCMXFxfQ5mupY33/913/hE5/4BL7//e/j7rvvFukdyNgvkAmIjLRDrVaL0gGhKApWqxVWqxUdHR1RF3py45VSsMjlgkVyD9xuN/r6+gSNWhDiVFRUhKmpKSwtLdEr+XzEgnzhdDoxNDSEqqoqtLS0ZHyHgA0rKyt0d4npLEN0I1tZW/Dl+FCqLIU6oGbVjeyloJWiKMzMzGBubg6dnZ10yGMqOFd/LqUimU2QzJbnQMaKrFYrfe60tbXtywRjEm7Xmrfb7Y0JppYmVRCdAzEGIKNas7OzGB0dpdOu+dpQ+3w+9Pf3o7CwcN86jm1tbWFgYAC1tbVoaGgQdE1ic4EiY0VGozFqEcJgMEg2lkaE80eOHBEl8HYvMD8/D6vVGrWYQFEUdnZ2ohYhSKhkMgTv6aefxu///u/jqaeewtve9jap3oqMDIasAZGRMgKBgKAOiNvtxksvvYR77rkn6X0SgeXGxgZOnDiBwsLCqL+TJPEzZ85I1oafmppCMBhEe3t71OPEelSj0eD48eOCbnSxYvPY5PCsrCyUlpairKwspZGNpaUlTExM7Crc9wuYhfvRo0dRXFwc9fd4oXrf+I1vIDucTetGtre3RckbSQbEMMFut6Ozs3NfFu5Ea+DxeKDX6+FwOBCJRKJGtTJdf0C6BtnZ2Th27Bjq/7leNA1IsmCOajmdzoSjWkQvUVxcjEOHDu3LxYTNzU0MDAzQmT1igmSOkM/U4/FIosVZX1/H8PDwviYfCwsLsFgsOHHiBGcnkxkqabfbaYJXUlKSMBfnJz/5CR566CF885vfxHve8x4p3oaMfQCZgMhIGcFgUJAdrc/nw/Xr13HPPfckVUATlyClUonOzs64beBnn30Wp0+flsS1AwCmp6fhdrtx9OhR+rFkxOYEicIFI5EInE4n1tfXYbPZEIlE6MK5pKSE17gFCSRbXFzEsWPHRFlxTzeIYN7pdOL48eOshTuboJpYCjND9fx+P72S73Q606YbCYVCGB4ehs/nQ2dn577R3TBBTB+USiWOHTuGrKysqJV8u92OnZ0dutAjeQ6ZBBJUWlBQgCNHjkCpVGJmYyauliaeC5aUYI5q2e32XaNafr8f/f39qKys3LedTJfLBZPJhKamJkmdCwm8Xi/9eRKCRz5PvV6f1H2JkI+Ojg6UlZVJcNTSY3FxEWazGZ2dnYJMPJgEz263w+120ws7eXl5KC4upj/Ty5cv47d/+7fxb//2b/jABz4g0TuRsR8gExAZKUMoAQmFQrhy5QrOnTsneHWUFPhlZWU4fPgw543i6tWr6Onp2dUdEQuzs7NwuVzo7OwEkLzYHBCebM7McrDZbPB6vTAYDHTxzDZWFA6HaYvazs7OfWlRGwwG6VyA48ePsxbuZqcZx//jeNxtDH54kNXdK7bbBIAunMXUjfj9fphMJqhUKrpw3w+4MnMFr628ht6qXpwuP42BgQHk5+fjyJEjcT+b2JX83NxcwYGSUmFnZwcDAwMoLS1ldRxLVksjJdhctQDAYDCgtbVVssUWKUHMF6QK6EsEQvDIeRoOh6M6eHxGNElY5X4nH1NTU+js7IRer09pW+R3b7fb8Vd/9Vd47bXXcMcdd+Dw4cP4m7/5G3zta1/Dhz70oX1JlmWIB5mAyEgZQglIsuNRxAO+tbUVtbW1CS9e169fx7Fjx1K+mMbD/Pw8bDYbTpw4gampKbqrIFRsLkayudvtpjsjW1tb9OpTWVkZcnNz4fP5oore/RbkBbzR+crJyUFHR0dcd59fWH+Bd//Xu+Nu54cP/BD3Nt7LuS9m3ojNZhNNN+J2u2E0GvdVMjhbLkahqhDfvvPbOHviLO/zlYvgsWUPSInNzU0YjUYcOHAATU1N+7IQIuF2xcXFCIfDcLlc0Gq1tM5hLwMQ+YI4Re1lRgYTFEVhe3ubPke3t7cTZo4Q8nH06NGosMr9hKWlJUxOTopCPmKxs7ODn/3sZ/jBD36AF154AV6vF+fPn8fb3/52vP3tb0ddXZ2o+5OxfyATEBkpIxQKCRaVP/vss7jtttt4rcJHIhFMTk5ieXlZUIH/4osv4uDBg5LdFJaWlrC4uAi1Wg23242urq6kxObksxMrXJCMFa2vr9NjRYFAAP8/e2ce3lSZvv87LbR0o3tDy1KgtBS6JWkBARURZC8pIu4j6IyOo8OIjoOOjo44CgLq15kRXMZRcGYEhZZNdqQFFVGbpRtt6UIXuiRpm7Zpmj3n9we/95iUpk3anCxwPtfldUmT5pycZnnv93me+w4PD/daZ5yuri5IpVJwuVxMnTp1wOs01AqILSwdoIjAGz16NF1tsvdv3tnZCalUirFjxw7q7uNJODMXg0BaNsg11Wq1LrNPJTvuU6ZMcUm7DxMQlyXLZO3+WrU8eRaHtCylpKR4rFMUyRxpa2tDe3s7HdhHRLNCoUBZWZlXi4/m5mZUVFSAx+Mx1pJ78eJFrFq1Cm+++SbuvPNOHDt2DEePHsV3332HqVOn4v7778df/vIXRo7N4rmwAoRl2AxFgHzzzTfIysoa1K7TYDBAKpVCp9M53DZEgvyYGgasr69HZWUlwsPDhzRsTqoeADPJ5sA1l6iysjIEBQVBq9XC19eXrowMtdfZ1cjlcpSWltL94fZcJ3tnQIZCf3Mj5JraaisizyExMRHjx48f1vFdyZkrZyDcL7R5++E1h53SnmQp8Lq6uhAcHExXR5zp/EZ2q4djd+xuyHMYaNDZVgCipatWVUcVajtr3RI4SsIqvallyTJzpK2tDVqtFhRFYdy4cZg4cSICAgLcfYoO09LSgvLycmRkZFxn5OEsRCIRsrOz8dprr+GZZ56xei93dXXh1KlTUCgUeOqppxg5PovnwgoQlmEzFAFy7tw5pKWlDbjjQnq0g4KCkJGR4XCLxo8//ojx48czUtpXKpUQiUTgcDiYP3/+kIfNORwOIyKAoijU19ejtrYWKSkp4HK59BcoadUymUz0giQqKsojA8tIsF1qaqpDCxWlVnldqN7CiQuxK3sXwkc5r8XAnrmRoT4HT2DLhS144/s3bN7+l7l/wZ/n/Nmpx9Tr9XQ/fnt7O0aOHGm16zzU9wvpcU9LS/Pa3WrSKpOenu5Qq6flLE6DogH/1/B/KOwspG9n4r1hC7Lj7uhz8CRIbk9sbCx6e3vR2dmJoKAg+nXq7vkme2htbcWlS5cYFR9FRUVYvnw5XnzxRfzpT3/y+GvC4lpYAcIybIYiQEjp1dZCQKFQoKioCBMmTBiys0thYSG4XK7Td5zJLMq4ceOgUChw++232/27jg6b22Kg3Uti76pQKMDj8fqtMlnukMrlcvT29loNsQ83YGq4UBSFyspKyGQym8/BHvoL1WMK0lZEBJ5Op4O/vz/0er3XLnpP155GTm6OzdudVQGxBXF+I4tng8Hg8IAwRVGoq6tDXV0deDweYzNhTEM2FIbrXrfyq5UoaCiwqg76cHwwd8xcHLnvCKOtWkQEMtnuwzREQFku3A0GA70R0d7eDgB2W9K6A5lMRreOMSUCS0tLsWzZMjzzzDP4y1/+wooPlutgBQjLsDGZTA4nm//www+YNGnSdb2/ZLFQXV2NlJSUYVUvJBIJwsPDneYpT5LNr169Ch6PB19fX0gkEsyfP9/u3x+u+LCVb0F2L4lLlF6vd8jetbe3l144d3V10SnXMTExLnfLMplMKC4uhkajAZ/P98rWBvIcOjs7MWrUKKjV6iHNjbgTImQXnFyAbmP3dbe7MhcDsA5CUygUdmW4UBSFqqoqtLS0QCAQeGXWCsm8aWhoAJ/PH1bK/GDzUR9M+wDTuNMYycVpaGhATU2NwxavngSpQA0koCwdCoklrWX7W2BgoFsX464Ymi8vL8eyZcvwxBNP4PXXX2fFB0u/eF7PBctNwYgRI64TLSaTCWVlZWhvb8fMmTOH9UULXEtDd0biOmCdbH7LLbcgKCgI3d3ddrl/kWHz4TpdAcCjXz+K/Pp8q5/l1+dj3ZF12LN8DyQSCQIDAzFjxgyHWqoCAwMxceJETJw4kU65lsvlqK2tdVk2BnBtvkIikWDEiBGYMWOGx+0c2oPBYEBRURFMJhPmzp0LPz8/q7mRmpoau+ZG3AkJ+uzt7UXBgwVY+NXCfnMxXAmHw0FISAhCQkIwefJkaLVaujJieU3J6xQAnRczY8YMj8sgsQdLAZWVlTVsm93aztoBb4+YEoExQWOsrqkzXLWuXLmCurq6QcPtPBl7xAdw7XUaFhaGsLAwJCYmWrW/1dTUwN/fn67guXoOj8yiMSk+qqqqsGLFCqxduxabNm3yuM82Fs+BrYCwDJuhVEDEYjEiIyNpCz6tVguJRAIATgtmKysrw8iRI5GUlDSsx7GVbG5Porszh80H2738OO1jZE3KQlJSktM+9C1nHBQKBXx8fOiF83D68fujp6eHrloNlvHiqWi1WojFYgQEBNh0HHNV3shQIcYPAKxe756Yi0EwmUxWr1OKouDr6wsOhwM+n+9V+RicqipwamthnjwZl/5/a09mZqZTBJQjDnGW13SorloURaG2thaNjY3IzMz0ygoU4LyMDHJNibOW0Wikr2lkZCSjra8KhQLFxcWMDv7X1tZi6dKlWL16Nd59912v/AxncR1sBYRl2AxlsWtZnejs7IREIkFkZCRSUlKctgBzRgVEqVRCLBYjNjb2umRzX19fmM1mUBTV7zUgLVdE4w/3w3iw3UtEAFOnTh3WMfoyYsQIcLlceoi9s7MTcrkc5eXlMBgMVkPsw6lWtLe3o7i4GBMmTMDkyZO9Ytes7xyOSqWCRCJBVFTUda8VS/peUzI3cvnyZeh0OnoWJyoqyuWzOERABQYGIi0tzeq9uGDiAo8THgRfX1/ExMQgJiYGBoMBIpEIer0ePj4+uHjxopXFr8e29HV0wP/RR+F75pf2yolZWUj48kv4O6l6kxiRiIUTF9p0iLOck7K8ppYzY/X19SgrK7Nqf+uvrYiiKFRXV6O5udkp1Rt30djYSKeDD3d+qO81ValUaGtrQ2NjIy5duoSQkBD689SZ7m9EfDBphFFfX4/ly5cjOzubFR8sdsFWQFiGjdlshsFgcOh3SktL4efnh+DgYJSVlSExMRHx8fFOXXhWVVVBp9MhNTV1SL9Phs1tJZvr9XqcPXsWd91113WiyVnD5pY4O99iOFgGdsnlcqjVaoSHh9OtWo5UsJqamlBRUYFp06Z5RBjZYPQ3hzNv7Dz8Lvp3SJ2SiokTJw7p720rb8RVszikAhUZGTmggPJk9Ho9xGIx/Pz8kJGRAV9fX/T29tLXlLgVkYXz6NGjPUbs+guF8MnPB8di04Ty9YV5/nzoDg3POtoSZzjEabVaujLS0dFBtxWRVi0Oh4PKykrI5XKH85E8icbGRlRXV7tkbkWn01kNspPMETLIPtSNuba2NhQVFQ1o2zxcmpubsWjRIixYsAAfffSRV352sLgeVoCwDJuhCJDy8nIolUr09vYiIyPDaf2opH2BSkhAjY8PVCoVMjIyHHoM4sDU1NQEHo9n06LQZDLh9OnTuPPOO63ceCiKolvSnJ3vwWS+xXDQaDT0EHtnZye9k0cWzrYqRDU1NWhsbBy2s48r6e9v4AMfzI2dixMPn3DacWzljVgu8pwFqUKOHz/ea5PBNRoNxGIxQkJCkJqa2u8iyGAwWFn8kpZCYvHrrvY3TlUVAng8m7driopATXHu5oKzHOL6a9UaOXIkjEYjBAIBRo8e7cSzdh3uHJonlunktarT6RAeHk5XR+yt4pHQzenTpzMW9tja2oolS5Zg9uzZ+PTTT93eQsriPbAChGXYUBQFvV5v9/0NBgN++OEH6PV6zJ492zm7Yx0dGLF2LXxPn6Z/pL71VpT95S/IuOMOux+GDJv39vZCIBAMeG4UReHkyZOYN28eAgICnDpsbgulVolHDj2Csw1n6Z+50sPfHkiOg1wuR3t7O/z9/enKCFk4m81mlJWVoaurCzwez2vaM9xVhSIp13K53OlzIyRV29tCEi0hmUHR0dFITk62631HWgqJyNPpdFYzDq5sf/M5eRKj7r7b5u3avDyYFy922fkMFbPZDKlUiq6uLvj7+6O3t3fQVi1PhFgee8LQPEVRdBWvra3N7swRIj6mTZvGWOimXC7HsmXLkJGRgf/85z8emSXF4rmwAoRl2DgiQNRqNcRiMQAgKCgIAoHAKecwIjsbPmfPXte+0JmZicDz9rn12Bo2H4hTp05hzpw5CAoKckmyuUqlglQqhcpPBZ8oH0yJmOLyFGNH6DscDACRkZFQqVTw9fUFn8+3K8vBUzhZexJ359peKOatzsPiycwuFMncCGl/G87cCHH2IWGV3khXVxddvRnq/NBA7W/EjpbJhbOhrAyhM2favJ2JCoizMZvNKC0tRU9PDzIzM+Hv7z9oq5YnturU1dXhypUrHiE++oNkjpBBduD6zJGOjg5IpVIkJycz1tba3t6O5cuXIzExEXv37vVKx0IW98IKEJZhY68AaWtrg1Qqxbhx4xAQEIC2tjZkZmYO+/icqir4paXZvF1fWjrol3dHRwckEkm/w+YD8c033yArKwtBQUFOGza3BdmpnjhxIiZNmuQVO4mWmM1myGQyVFRU0EKN7OJFR0d7xReYJ83hAEOfGyHZEvX19V7V/tYXsss7ZcqUfue0hopOp7Nq1WJy4Uxax2a8+ipCf/6Z8RkQJjCbzXR2T2ZmZr+bCpYOUAqFwspVKzIy0iM2Ioj4yMzM9IrWsf4yR4KCgqBWq5GQkDDkebTBUCqVyM7Oxrhx47B//36P+NuxeB+sAGFxCjqdzuZtFEWhvr4eVVVVmD59OsaOHYumpiY0NTVh5gC7fvbic/IkRgqFNm83HDo0YPvCYMPmA1FQUIC0tDSEhIQw0nIFXLt+pB+ZyV5epuns7IRUKkVcXBymTJlCL5zlcjl6enoQFhZGt2p5qlORXq/Hos8XQaQUwYxfMmA8YQ4HsG9uxDJl3lvD+YBfAtWmT5/OWIsJcG3h3NHRQV9Xs9lM7zgP1/2NVISjoqKQzOViVB8XLNPChdDt2gV4cHq7yWRCUVERDAYDBAKB3fa8xFWrra0NPT09bm/VIoLcm+dWWltbUVpaiqCgIPT29sLf35/e5HFW5khXVxeEQiEiIyNx4MABp1jms9ycsAKExSnYEiCk17+trc1qmK+1tRVXrlzB7Nmzh33soVZA7B02twVFUfj+++8xcuRIxMbGIiYmxum7+GazmXaT4fF4HtkSYA8ymYx2O+tvzkCj0dALPKVSieDgYHoXPzg42COqPaRFDwHA9trtw3IRcgVkx9lybiQqKgq9vb3Q6/XIzMz0WKE3GCSXIS0tjbFAtf6wXDgrFAra/Y3MjTiS1aFSqSAWi2lBTl7jnOpqcGpqQCUkeHzblclkglQqhdlsBp/PH/IMgLtbtWpra9HQ0ODVWSWdnZ0Qi8VISkrCuHHjrISzZeYIEc5DmXFSqVRYtWoVAgMDceTIEa/9/GDxDFgBwuIU9Ho9+r6USKq12WyGQCCw2ilpa2tDeXk5brvtNqcc39YMSBuPh9Hff3/d/R0ZNu8PMu+hVqshk8mgUCjQ09NDL0ZiYmKGvTNkMBhQXFwMvV4PHo/n8R/2fXMxgF+qX7W1tXYvFolTERliHzlypNUQuzv6xsmcQVxcHBITE8HhcJzmIuQKKIqi33PEsS4iIoJe5Lk6b2SoUBSFuro61NXVgcfjDTuXYbj0Fc6BgYFWaey2hHNXVxfEYjHdTumNGI1GSCQScDgc8Hg8pw0gu7pVizjxebv4kEgkmDJlSr8bPBRFoaenhxYj3d3dCAkJoasj9mSOqNVqrF69GhwOB0ePHvUa4xAWz4UVICxOoa8AIQu28PBwpKamXufSo1QqUVRUhDsccKgaEKUSIx55xMoFSz9/PvJ/+1vckZNjddehDJsTiNMVCTi0HDYnixG5XE5b0ZKFs6Mf1r29vZBKpQgICEBaWppHu4v0l4uxcOJCfLr8U8jqrokzPp8/pLaGvu0vFEUhKioKMTExLksNl8vlKC0tdfqcgSvR6XT0az49PZ3ecXbHwPVQoSgKly9fRmtrq0e2jlkm3CsUCvj4+NALPMvXKhkQ9ubXk8FggFgsxsiRI+m8FSYgFSciRixbtaKioob1WrVMaffmoEQiZm2Jj/4gToX2Zo5oNBqsWbMGOp0OJ06c8Lj3Hot3wgoQFqdgKUBaWlpQWlqKhIQEm8PS3d3d+Pnnn7FggXOTlS3bF9Rxcfj222+x2GL+Y6jD5oBjyeZ6vZ4WI6QXnyTgDhZ+RmYlYmNjkZSU5JGLQUtsZZNkhmdi8/TN4PP5TukTJgOXJG9Eq9XSO6PR0dGMDEKSFGRvdokicwbh4eGYPn36da9bV+aNDBWz2YxLly6hs7MTAoHAoVYnd2DLqWzUqFFobm72mtDN/iBhj6NGjUJ6erpLK5K2WrWioqIcmnEgGURNTU3IzMz0WvHR3d0NkUiEhISEIYvZ/jJHSkpKoNVqsWrVKsTHx+OBBx5AZ2cnTp065bVtwCyeBytAWJyCwWCAyWRCVVUVGhoakJ6ejpiYGJv37+3tvU4cOBudTof8/HwsWrQIPj4+wxo2J/keJpPJ4WFzsjNKevF9fX3pNq2+X5otLS24dOkSkpKSvCKTYTBXKPE6MaZGT3X6cS3dn+RyOVQqFUJDQ+mK03AXqBRFobq6mp4PcnUQmbMglcixY8dazRnYoj/bZGfljQwVk8mEkpISaDQaCAQCr2kXI5Ach9raWrS2tgKAVcXJU2ac7EGn00EkEiE4ONhm2KOrGGqrFnlvNzc30w6G3ggRH5MnT0Z8fLzTHletVuOLL77A7t27UVxcjOjoaJjNZnz22WdYtGiRy6vxW7ZswUsvvYRnnnkG7733HoBrf8NNmzbh448/hlKpxKxZs7Bjxw6kpKS49NxYhofn9nWweBUGgwFSqRRqtRq33HLLoDtKvr6+9KKeqS8xslgyGo2ora1FU1MTBALBkIbNTSbTkMMFR4wYAS6XCy6XS+82kbYes9lML0S6urrQ1NSEjIwMREVFOXQMd1HbWTvg7XWqOkYECIfDQXBwMIKDgzFp0iSrlqKqqioEBQXRIs+e/mZLyG67UqnEjBkzvHaB0tbWhuLiYiQkJNi9QPH19UXXiC5cDbiKyemTEcWJgkKhwOXLl+ldfFfOjRgMBhQVFcFsNiMrK8srrJr7wuFwoFQqrVoRyaK5rq4OI0eOpK+ps5yKmECr1UIkEiE0NLTfSpqr8fX1pavKlq1a9fX1KCsr67dV60YRH8TAYNKkSU4VH8C1fK7HH38c69atw9q1a1FbW4tp06Zh7dq1MJvNWLp0KVasWIHFixczPoP1888/4+OPP0Z6errVz7dt24Z3330Xu3btQlJSEt544w3cddddqKysZNvDvAi2AsLiFC5cuACz2Wz3TIXRaMSZM2ewYMECxhYVJKk8IiICOp1uWMPmTCSbk5YimUyGpqYmmEwmhIeHIy4uDlFRUV7hre5puRjAL0FdpOLkyAKPDP4bDAbw+Xyv220nNDc3o7y83CGLWluzPLuydyHMP8zlQX2k1cfPz4/ROQOmISYM/Q3Nm0wmWpwoFAoYjUYri19P+QzQaDQQiUSIiIjAtGnTPL5io9VqaZFHWrWioqKg0+nQ2dnp9eJDJBIhPj6eMQMDo9GIxx9/HCUlJSgoKEBMTAxMJhN++uknfP311/j666+h0Whw+fJlRo4PAD09PRAIBNi5cyfeeOMN8Hg8vPfee6AoCnFxcdiwYQNeeOEFANcqc1wuF1u3bsVvf/tbxs6JxbmwAoTFKXR3d2PkyJEO9eCePHkSd9xxB2M+4r29vTh//jzCwsKQmZnptGFzZ6LT6VBUVASKopCUlERXRyxzMZzhqMUktmZAPCEXw2w200PscrmcznAgQ+yW7QRarRYSiYQe1Pbkwf+BqKurQ21tLTIyMhyq9jnyd2R6boSE840ePRopKSlu320fChRF4WzRWUjqJFiYuRC88bxB769Sqejr2jcbw10LZrVaDZFIhJiYGEydOtXjxUdfSKtWdXU11Go1fH19PVLk2UNPTw8KCwsxYcIETJ48mZFjmEwm/O53v8PPP/+MgoICmxsYKpWK0WrD2rVrERERgf/7v//DHXfcQQuQ2tpaJCQkQCwWg8/n0/cXCoUICwvD7t27GTsnFufind+wLB5HYGAgvVi3Bw6HA19fXxiNRkbOhwyb+/j4YNq0aQ6LD8thc6bEh0qlglQqRVhYGKZPnw5fX1+Eh4dj8uTJVo5aly9ftnLU8iSXIoqi8Mq0V9DR0QFxt5j++fz4+diVvct9J/b/IU5EUVFRSE5ORnd3N+RyOWpqalBaWkq3FAUGBqK0tBSRkZGYNm2a1y54iUtUVlaWQ65jVR1VVpUPgoky4UzdGVQrq60qWf7+/hg3bhydN0DmRoqKigAMb26kp6cHYrHYaxe8ANDe2477vroPPyh+AAD8teqvg2bFcDgcjB49GqNHj0ZCQoJVW+G50nPoQAdS41KRNSnLZeYAPT09EIlE12WVeBM+Pj7o6OiAyWTCnDlzYDQa0dbWhoaGBly6dMlprlpMQ/4W48ePZ0x8mM1m/OEPf8DFixeRn58/YPWUSfGxd+9eiMVi/Pzzz9fdRuao+pqCcLlc1NfXM3ZOLM6HFSAsbsPX19ch0WIvlsPmtbW1MJvNg//S/2e48x720tbWhpKSEnonq+9xAgICMGHCBEyYMMHKUau2ttYhRy0mMZlMKC0tha5Hh5O/OolmXbNH52JwOByEhoYiNDQUiYmJdEtRQ0MD1Go1/P39ERgYCI1G43XtGSTws6urCzNmzHB4CH+wWZ4aZY3Nv2nfXvzOzk56FqekpMShuREyNE8WWZ66GBwIiqJw71f34ifFT1Y/z6/Px7oj6+yuCo4aNQpBUUH4/cXf/yIOywHBaAE2JmzEpDGTaJHHRLWOtPp4+9+isrISCoUCWVlZdJZSaGgoLfJIq1ZNTc2QXbWYhlShxo4dy6j4+OMf/4j8/HwUFBS4zQSlsbERzzzzDE6dOjVg5b/v65GiKK98jd7MsAKExSkM5Y3v7AqIZbI5GTavr6+3W+S4Snw0NDSguroa06dPx5gxYwa9v5+fH8aOHYuxY8daOWqJxeIBHbWYRK/XQyqVgsPhYMaMGfDz88OUwCkeKTxsERQUBJVKBY1Gg6SkJPj6+kKhUKC2thYBAQH0dXWnyLMHo9FIB1bOmDFjSHMrk8MGXtQkhCfY9TgcDgfh4eEIDw+3EnnNzc2oqKgYcG6kvb0dRUVFXp2PYTabcezHY7iouHjdbbaqSQPx6NePIr8+3+pnRaoifKj4EO/Fv4eamprrRJ4z2jVvhKBEiqJQUVGBtrY2K/FhyahRo6wqeaRdkxiEWCaHu6tVS61Wo7CwEHFxcUhISGDks8hsNuPPf/4zjh07hvz8fEycONHpx7AXkUgEuVyOzMxM+mcmkwnnz5/H+++/j8rKSgDXKiGWFRq5XO61Vuk3K6wAYXEbI0aMcFoFxDLZ/JZbbqF3sO2tsjA5bG55jMuXL0Mmk0EgEAzJ2tVeR62oqCjGhnbVajUkEgndn++Nw8GWCe2WrmPjxo2zKfKio6MRERHhMbuiwC+D2iNHjkRWVtaQd8ITIxKxcOJCmzMgQxGWfZ3KLOdGSCWPXFedToeysjKHhuY9DZPJhOLiYtQoawa830DVJEsGaosruFoAzhIO5iTOgVqtRltbG2QyGSorKxEcHExfV0cd4IBfUrWdbe/qSiiKQnl5OTo6OmyKj75Yvs8t53EsW7VIsKSrWrV6e3sZb4Ezm83461//itzcXOTn52PKFPduIi1YsAAlJSVWP3v00UeRnJyMF154AZMnT8aYMWNw+vRpegZEr9fj3Llz2Lp1qztOmWWIsAKExW04qwWLJJuPGjUKt9xyi9W8x2DH6DtszpT4MBgMdLjTzJkz7fpCHAwfHx9ERkYiMjISycnJdPBZdXU1Pc8QExPj1N27jo4OFBUVYfz48YztxjENqZTJZLJ+ZyX6E3kKhQKXLl2CyWSir2tkZKRbbWHJ63706NFOyWTYlb0L646ss1r0OnOWx9bciEQioR3gyPvV20St0WiEVCoFRVFYlLUIL5W9ZPO+9laT7G2LCwoKQlBQEOLj42EwGOiWooaGBnrgmojnwa4rSWlPTEz0ihyi/ugrPoZSEepvHodc19raWpe0avX29qKwsBBcLpcx8UFRFDZv3oz//ve/OHv2LKZOdb5luqOEhIQgNTXV6mdBQUGIjIykf75hwwZs3rwZiYmJSExMxObNmxEYGIgHH3zQHafMMkRYAcLiFIbagjVcAUKGzePi4jB16tTrvggGOoZluCAZNGfiQ16j0UAikWDUqFGYOXMmI/3aHA4HYWFhCAsLw5QpU6BWqyGXy+ndO2c4apGQxOTkZIwdO9bJz8A1kLmVnp4eu4SgpcibOnUqVCoV5HI5rly5YjXE7qzWF3vp7u6GRCLBmDFjkJSU5JTXbfiocBxacwjVymrGZ3nIbrNarQYATJ06FVqtdkhzI+7GYDDQVShiF+yMatJQ2uJGjhyJ2NhYxMbGWonniooK6PV6OqgvOjr6uk0JkhuTnJzstSntFEXh0qVLtNWus96Ttlq1ysrK6E0JZ7ZqEdtjLpfrtPd3XyiKwvbt2/Hxxx/j7NmzXhXit3HjRmg0Gjz11FN0EOGpU6fYDBAvg7XhZXEKZrMZBoPBod+RSCQIDw8fcr8pGTZPTk62uVtn6xiW8x4cDoextprOzk4UFRXRXyTuaN+xdNTq7OxEcHAwLUbsaSWgKAq1tbV0wr2jQY6eguXcir15NQPR29tLX9euri6XOZWRKhQJIfPWKhRx7BIIBFYLByKeXZU3Mhx0Oh3EYjECAwORlpZGv7+VWuV11aTBXLD6w1kW1xRFoaenh26BU6lUVtdVrVajtLQUKSkpds2leSIURdFGDJmZmS7ZELBlnTycVi2NRoPCwkJER0cz5gJHURT+8Y9/YPv27Th9+rTVvAULi6tgBQiLUxiKACkuLkZQUBASEuxrSSCQ4cLm5mbweLwBF8T9HcNVw+YtLS0oLy/3qKFavV6PtrY2yOVytLe3D+qoZZkKzuPxvHaHqbe3FxKJBMHBwUhNTXV6iw9xKlMoFPR1JUPsoaGhTnuNtba2oqysDNOmTfPaXWrymurs7IRAIBjQsUun09GvVxIoR0Seq6xobUF2qYmNdn+bC8OtJjlLyPTFch6nvb0dFEUhKioK8fHxCAsL86g5J3sg4qO7uxuZmZluq5rZCkC0N+Veq9WisLCQbqtlSnx88MEHeOONN3Dy5EnMmjXL6cdgYbEHVoCwOIWhCJCysjKMHDkSSUlJdv+OwWBAUVERNBqNXcnmpaWl8PPzo4/hCvFhWTFIS0ujB5w9Dcth67a2tusctUwmE4qKimA0GsHj8Tw6DHEgurq6IJVKndquNBBkvoFcVw6HYzXEPlTxQ9zT0tPTPfY1NRBVHVWo7qiGQWZAtE80BAKBQwtFy7kRhUIBAFahkq6cG3F1OB9TbXGkrTI+Pp4W0SSsk1j8unPOyR6IBbVKpXKr+OiLZatWW1sbjEYj3QLXX6sWER9Mps1TFIV///vfeOWVV3Ds2DHMnTvX6cdgYbEXVoCwOAWKoqDX6x36nYqKCpjNZkyfPt2u+xNHkICAAGRkZNj1xVheXg4ASE5Odkmyuclkond3+Xw+goODnX4MJrB01JLL5fR1CgwMBJ/P95gvdUdRKBQoKSlBQkKCWxx9zGYznYshl8thMBiszAHseQ1TFIXq6mo0NTWBz+cjNDTUBWfuPDo0HXj060etdvEXxC/A7pW7Hd7Fr+qoQm1nLSaHTUYUJ4oWI1qt1mVzIyQfY9y4cV5rxABca2G9fPkyMjIy6CoyRVHo7u6mr6tarUZ4eDh9XZ1hnuFMzGYzPdPlSeKjL4O1avn6+kIsFtPVNKbEx+eff46NGzfiyJEjuOOOO5x+DBYWR2AFCItTGIoAqa6uhkajQVpa2qD3HWzY3BZVVVXQ6XSYNm0aHUjIlPggMwYAkJGR4bFfhoNBbDgDAgJgMpmg1WoZcdRiGrLAsjdvhWlIHz6Zb+jp6aEXd7bMAcxmM+3oY0/FzxNxxhxDfyLGshXJVXMj5L3hzfkYwLWwt+rqavB4PISH2xaBZH5MoVBAqVQiKCiIvq7uzsch4kOtViMzM9NrPpeA61u1KIpCYGAgkpKSGLH6pigKe/bswYYNG3Do0CEsWLDAqY/PwjIUWAHC4hSGIkCuXLmCrq4u8Hi8Ae/X2NiIioqKAYfNbVFTUwOVSkU7fDDV29zT0wOJRILQ0FCvzcYAQGeKJCQk0HMrZHEnl8vR09NDO2p54o4oYN0CN9gCy53YMgeIjo5GcHAwzGYziouLodVqwefzvbIFrqqjCrx/82zeXvSbIrtaihwRMf3NjVjO4wz1M4AEJXqzRS0A1NXV4cqVK+Dz+Q5lERkMBroFrq2tDT4+PlatWq78zDObzSgpKUFvb6/XiQ9LdDodCgsL4e/vj8DAQLtatYbC/v378dRTT2Hfvn1YunSpE86chWX4sAKExWnodDqH7t/Q0ACFQmHTgcORYXNbv9/S0kLbepLFnbMrE21tbSgpKcGECRMwefJkr2zJoCgKDQ0NqKmpQWpqKmJiYvq933AdtZjGsmLgTS1wBoOB3mlua2uDn58fzGYz/Pz8vHqBdajsEB48ZtubP291HhZPXjzgYwxHxDhrboQIc2+2qAVAC3OBQHBd/o0jWLYWKhQK6HQ6l7XAEfFB5gC99b2h1+tRWFhI515wOJx+W7WGW807dOgQfvOb32DPnj1YuXIlQ8+GhcVxWAHC4jT0ej0ceTk1NzejsbGxXxcOR4fN+2I5bE4cX4hdamhoKL1oHu4OfmNjI93m460JzpbBfDwez+4ZA1uOWtHR0U51frIXo9GI4uJi6HQ6r60YANeqaSKRCD4+PvQsDlmAuHqneTh0dnbi6MWjeKLkCZv3sacCcrL2JO7Ovdvm7faIGODa67yrq4tu1bJ3boS42Q0kzD0diqJQU1ODpqYmZGZmOlWYUxQFtVpNL5q7u7sREhJCX9fg4GCnfRZYVgUzMzM9fkDeFnq9HiKRCEFBQQOGiA7XVevo0aNYt24dPv/8c6xevZqJp8LCMmRYAcLiNBwVIDKZDDU1NZgzZ47Vz4cybE4gyeZms7lfpyudTke3EymVSgQHB4PL5dJflI4cp7KyEq2treDxeA61MngSRqOR3k3k8/lDFmQmk4n+olQoFNc5ajFt66nT6SCRSOgwOCbCHl2BSqWCRCJBdHQ0kpOTAcBqiF2n03nFPA4JtZsyZQrW/7h+WDMgzmrj6gtZNMvlcptzI/0NansbJHNFJpMhMzOT8TkisjFhWc0j13U4nwVmsxlFRUXQ6/UQCAQ3vPjoi6OuWqdPn8aDDz6ITz75BA888AATT4WFZViwAoTFaTgqQNra2lBeXo7bbruN/tlQh80BWAkPYPBhc9L2QnbwAwIC6MpISEiIzd+1XLTzeLwBcww8GbJoHzFihMNCbyD6OmqZzWZ6ARIVFeX0HXwyfxMeHm4zj8EbUCqVkEqliI+Px6RJk657/ZGdZrKDr1KpEBYWRgs9T5nHIVklpCrojCwLZwXy2YLMjZBcDH9/f/j7+0OlUoHP53vsHNFgkDbWtrY2ZGZmuvyzymQy0WnsCoWCTg0nnwX2fuaYTCYUFxd7vfgwGAz05pplcKWjWLZqtbW1obu7G3//+9+RkZGBVatWobu7G/fffz927tyJX/3qVy6pRn/wwQf44IMPUFdXBwBISUnBq6++Ss+crFu3Drt377b6nVmzZuHixYuMnxuLZ8IKEBan4agAIQuu+fPnAxjesDlpuSLHd/SDnezgk+yGESNG0GLEMvBMo9FAKpXCz88P6enpXvtFqFKpIJVKGV+0E1tPIkac7ahFXkPjx4/3aktUMmOQlJSEcePG2fU7Wq2WFtDEoYi0wA0koJmksbERVVVV/WaVDCfLgqlAvv4wGo0oKyujK3kcDsdq2NpbqmsURdEhopmZmW4XqP3NNxABHRUVZbMyY5lHxOfzvfYzl4iPUaNGIT093amfuWq1Gh999BFOnDiBn3/+GSNGjMDs2bOxceNG3HHHHS6plB45cgS+vr6YMuXae3v37t3Yvn07JBIJUlJSsG7dOshkMnz22Wf07/j5+SEiIoLxc2PxTFgBwuI0DAYDXX2wB5VKhR9//BF33nknKisrhzVs7sxwQbPZjI6ODnrRTILkgoKCcOXKFXC5XIerM55Ee3s7iouLbe60M4XlDr4zHLVkMhlKS0sxdepUuxftnghZtA9nxsBgMFi1vYwcOZKujLgi2ZqiKFy5cgX19fUOuys5AlOBfATSWimXy+nZs6HMjQwHTlUVOLW1oBISQE0Z2nO0DOcTCAQeOQ9FBDSZbwgMDKSvK5khM5lMkEqlMJlMEAgEXiP++mIwGCAWi+Hn54eMjAzG3o8XL17EmjVrcN9998FkMuHo0aPo7u7G4sWLkZ2djaVLlyI6OpqRY/dHREQEtm/fjl//+tdYt24dOjs7cfDgQZcdn8WzYQUIi9NwVID09vbi/PnziIqKgkajGVKLgGXlw7Llyhlf4sAvbi91dXVob2+Hj48PXRlhop2IaZqamlBRUeERQ/NarZYWI446atXX16OmpgZpaWku/UJ1JkzZBVsKaJJszWQLHJkxaG1thUAgQEhIiFMf31XYUzGwZ25kyHR0wP/RR+F75pcqj2nhQuh27QIceG14o0Wt0Wi0svgFgMjISPT09MDX19erxYfRaIRYLKbn05gSH4WFhVi5ciU2bdqEP/zhD7SrllQqxZEjR3DkyBHcdddd2Lx5MyPHt8RkMmHfvn1Yu3YtJBIJpk+fjnXr1uHgwYPw8/NDWFgY5s2bhzfffNNrjR1Yhg8rQFichqMCpLOzExcvXkRUVNSQZhDIvIdV5cNJX+IEsrNbV1eH1NRU+Pv7W7UTEUtPR/qZ3QFxwWlsbERGRobHlb3tddQii92WlhavTAUnUBSF8vJytLW1QSAQMGYXTJyfyKKZ7OCTazvcxanZbMalS5fQ2dkJgUDgtfNQZNGuVqvtrhj0NzcynLwRf6EQPvn54Jh+mXOhfH1hnj8fukP2zbmQWQmdTue1FrUURaGjowNlZWUwGAygKMqq6uSJ1RxbEPFB5uyY2rCSSqVYvnw5XnrpJTz//PM2hTD5rmSKkpISzJ49G1qtFsHBwfjiiy+wbNkyAMCXX36J4OBgxMfH48qVK3jllVdgNBohEom8NrSXZXiwAoTFaRiNRto2dDDa29shlUphMBgwf/58hz6ABho2d8aXOIEsrpRKJXg8ntXObn/tRExmjQwHk8mEsrIydHd3g8/ne3yati1HraioKDQ3N6Onpwd8Pt9rF7smk4neoR6O89hQ6JsYHhoaSi+aHb2eZLGr1WohEAg86jXvCGTGgAw4D2XRbitvxN65EU5VFQIGCGTVFBUNWsm1bFfy5lkJk8kEiUQCAODxeLSNukKhQFdXF4KDg2kx4q5ZJ3swGo2QSCTw8fEBj8djTHyUlpZi2bJl2LBhA15++WW3Xg+9Xo+GhgZ0dnYiNzcXn3zyCc6dO4fp06dfd9+WlhbEx8dj7969uPtu2zbbLDcurABhcRr2ChDLYfOysjLMmzfP7kXYQMPmzvgSJ+j1ehQVFcFsNoPH4w26uNJoNLQYcXbWyHAgz4OiKPB4PK/bESWOWq2trWhpaQFFUYiJicGYMWO8sgXOYDBAKpWCoii3LxIt83FIDz4R0KNHjx7UQU4qlQK4tkj01sUuWSQCAJ/Pd0qbj62q00BzIz4nT2LUAIswbV4ezIttZ52Q58HhcMDj8by6XYk8Dz6ff937W6/XW7VqjRgxwsri11M+D0wmE8RiMePio7y8HEuXLsWTTz6JTZs2eZwYW7hwIRISEvDRRx/1e3tiYiJ+85vf4IUXXnDxmbF4At75KcXilZjNZnrYPDMzExEREaioqLC7ajJQvgcAcGprB/x9Tk2NXQKkp6cHUqkUo0ePRkpKil1fHgEBAYiPj0d8fDydNaJQKFBVVWU12+DKZO7e3l5IJBIEBwcjNTXVY76cHcHHxweBgYHo6upCZGQk4uPj0d7ejurqapSWlnpFJgZBq9VCIpHQLjju/nv4+/tj3LhxGDduHIxGI111EovFA+a46HQ6iMVij3keQ0Wv11tlxzjreXA4HISFhSEsLAyJiYn03EhzczMqKioQEhJCCz0yN0JNnjzgY1IJCTZvMxgMVnba3vr3sKdi4Ofnh9jYWMTGxtKbEwqFAuXl5TAYDAPmYrgKUsEhYpCpv8fly5exYsUKPProo3jttdc8TnwA176zdTpdv7e1t7ejsbHR7bOILO6DrYCwOA2TyQSj0djvbSTZnLRrkHaP/Px8u1xz7HG6ckYFhDhEOcvWdahZI8Ols7MTUqkUcXFxSExM9MgvJ3vo7u6GRCKhnccsZ0EsB4JJJsZQHbWYhmSVREREYNq0aR7toGaZ40KyG0g7UVBQEIqKihAaGoqUlBSPfh4DodVqIRaLERQUNKw8BkfR6/V0O5Hl3Eh0dDTGPPoofB1sH9Xr9RCLxfD39/dqMUhmJXx9fYe0aKcoCj09PfS1ValUdHthdHQ0AgMDXfIZSNrgzGYzBAIBY3+P2tpaLFmyBPfccw/effddj3gfvvTSS1i6dCnGjx8PlUqFvXv34q233sKJEycwe/ZsvPbaa1i9ejViY2NRV1eHl156CQ0NDSgvL/da4wqW4cEKEBanYUuAqNVqiMXifpPNz58/j5SUlAGtd/sdNrfBcGZArl69isrKSkybNg1xcXED3nco2Js1MlxaW1tx6dIlJCYmOpyn4kmQNO3JkycjPj5+wOszHEctpiFicNy4cV6XVUJyXBQKBVpbW6HRaDBq1ChMnDgRMTExXjn3odFoIBKJEB4e7lYx2HduZIRKhZnvvYcwi2C2gQw0SCUqMDDQpSLK2TBRwdFqtXRFr6Ojw0roMWVLTWaJyAwOU21w9fX1WLJkCZYvX47333/fY/7uv/71r/HNN9+gpaUFoaGhSE9PxwsvvIC77roLGo0GOTk5kEgk6OzsRGxsLObPn4+//e1vXv0dxTI8WAHC4jT6EyBk2DwuLg7JycnXLb6+//57JCYm9mvFR1EUXfkABk82BwAolfBft84hFyxLZ6WMjAyXpB7byhqJiYlBRETEkL5UKIpCXV0drly54tX2tADQ3NyM8vLyIdkF2+uo5QoUCgVKSkq8Xgx2dnZCIpEgNjYWo0aNogeCiQ0tEXqejlqthkgkQkxMjFVFzd1Yzo30SCQYUVeHEcnJCBEI+p0b0Wq1EIlEdJuopyxCHcUyH4OpCo6l0Gtra4PZbLYyCHDG/JJlWCKTlsFNTU1YvHgxFixYgI8++shr/+4sLAArQFiciNlshsFgoP9Nhs2nTZtmMyjuxx9/xPjx46+rOAw32ZxTXX1t5mOQHBCj0YiSkhJoNBrweDy3OCtRFGXV8mI0Gq3sfe35UjabzaioqEBbWxt4PB5Gjx7tgjN3PpaBds6wC+7rqGWZ49J3tsHZkMyV1NRUcLlcxo7DNKQS1VdEERtaMsTuTqFnD93d3RCLxV5RiSLthUToWc6N+Pj4QCwWIzw8HNOnT/fo5zEQrgrns8RS6LW1tUGtViM8PJyujgylddNsNqOoqAgGg4FR8dHa2oolS5Zg9uzZ+PTTT7223Y6FhcAKEBanQQSI5bA5n88fcBFZWFgILpdrtbAhw+Ymk8kpyea2IEPBZPfNE5x8SMuLI1kjRqOR9v7n8/le5ZNviaWI4vP5Tu8LtjXb4OxQSVKJqqur88jMFUdobW1FWVnZoJUoyyA5IvSGW9FzJqSCM2nSJEycONGt5+IofedGKIpCUFAQpk6d6pKUeyYwGAwQiUS0kYG7nkNvby+9QaFUKhEUFESLkcGc4IBfxAexcGbqO0Qul2PZsmXg8Xj4/PPPvdbljIXFElaAsDgNs9mM3t7efofNbSGRSBAeHk4vCuwZNncGXV1dkEqliI6ORnJyskd+iduTNUJEFBlC9dYvJlKJ0mq1LhFR/Qk94qAznIA+iqJQWVkJmUzm1angwLUKZlVVFdLT0xEVFWX375nNZnR2dtJCz2Aw0C0v7gjsbG9vR1FREZKSkmxWYr0BtVqNn3/+GWFhYRg5cuSQ8kY8ATI4727x0ReDwWDVqkVEdHR0NCIiIq7boDCbzXQOTmZmJmOv6/b2dixfvhxJSUnYs2ePR2yUsbA4A1aAsDiNnp4eXLx4EYGBgcjIyLDry7C4uBhBQUFISEhwaNh8OMhkMpSVlSEhIQETJkzwmhaGvlkjwcHB6O3tRVRUFFJTUz3mi9xRdDodbYfqrkoUcdAZjqOW2WxGaWkpVCoVBAKBxzlx2YtlG5w9DnWDPZZKpaKvLWl5IdeWaaEpl8tRUlIypFkiT0KlUkEsFmPs2LF0+9hQ8kbcjV6vh0gk8vjBeSKiSeVJp9NZWfyOHDmSbt1lUnwolUpkZ2dj/Pjx2Ldvn8dbjbOwOAIrQFichlarRU1NjUP91ZcuXYKvry8SExMdGzYfApZD2qmpqf0OvnsLzc3NuHTpEgICAqDRaNyWNTJc1Go1JBKJR9m6Ekct0pZhj6MWsZkmDjjeulAghgytra2MVHCIiFYoFOjs7ERISIjVELsz3/ctLS0oLy/3+vc6mV2ZMGECJg+QFzLQ3Ii7neCAX8RHUFCQV22YWFp+KxQKdHd3Y8SIEeBwOEhPT3eqg6ElXV1dWLlyJaKionDw4EGPFJQsLMOBFSAsToOiKOj1eod+p6KiAkajEVOnTgXAnPgwm824dOkSOjo6GJkvcCWkNWb69OkYM2aM27JGhguxpx07diymTJnikedpj6MWqeCQWSJvaIPpD/Ie6ezstKt9crj0vbb+/v70tR3uoo68RzIyMga0+PZ0yOwKsaK2l4HyRtwxN6LX61FYWEiHonqL+OgLabvq7u5GcHAwlEol/Pz8rNLYnfHcVCoVVq1ahcDAQBw5csRrq6ksLAPBChAWp+GoACGtHnV1dYiNjQWXy7Vr8M9R9Ho9vTvN4/G8dkiboihUVVWhubkZPB6v39YYV2WNDBe5XI7S0lKvsqftz1ErPDwcSqUSERERHlPBGQomk4nuZxcIBC7fbe2biQHAaojdEYMA8pky3PYxd6NUKq/lY3BHQBOgQUJ4AqaEDxyk2h8mk4m2/G5rawNFUS6dG9HpdBCJRAgJCfHq9whFUXSLZVZWFvz8/OhrS163ZrP5ulYtR1Gr1Vi9ejV8fHxw9OhRr7C3ZmEZCqwAYXEqOp3OrvuRYXOj0Wj1Ae7r64uYmBhwuVynLJhJi09ISAhSU1O91rrQZDKhtLQUPT094PP5du1O980aAUCLEXc6EzU0NKC6utqrW2PMZjOuXr2KqqoqumpHHLW8ZRiYYDAYIJVKAQA8Hs/tQ65msxldXV10q5ZOp6MXzNHR0TbPj6IoVFdXo6mpCZmZmV5d5Wxvb8d3ou/wgfwDfNvyLf3zhRMXYlf2LoSPGlpWkeXciEKhQG9vL21sERUV5fTNGSI+SF6Jp2yAOApFUSgrK0N3dzcyMzP7FeiWoZ1tbW3o6elBWFiYVRr7YGg0GqxZswZ6vR7Hjx/36tcwC8tgsAKExano9XoM9pKyNWxuK5yPy+UOqbTd0dGBoqIijBs3zmNbfOxBr9dDKpWCw+EgIyNjSPMFFEXRzkRyuXxIWSPDxZ4KjrdAsjGIkUFfRy1LtzJPngchadrEkcjTBDpFUVYGAWRR19cggLiPyeVyZGZmevWuMQmv3Na8DRdaL8BEmejbfDm+mB8/H4fWHHLKsfqbG3HWTA4JSyTzXd76+UtRFN2amJWVZXd1UKPRWKWxBwYG0mKkv5wcrVaLBx54AJ2dnTh16hRCQ0OZeDosLB4DK0BYnMpAAsSRZHNLK0+ZTAaKougvxsjIyEHFyNWrV1FZWYnk5GSMHTt2eE/KjVgOaU+fPt0pC0RbWSOD7TAPB+IQ1d3dDT6f79ULxJaWFly6dMmms5IzHLVcgUajgUgkQlhYGKZPn+4VrTEajYZeMBODgKioKKhUKvT09CArK8ujrrGjyGQylJaWInBCIBYeXGjzfkW/KRpSO9ZAOHNuhIgP8tryZvFRXl6Ojo4OZGVlDblCZJmT09bWBuCaA2RERASys7MREBCAhx9+GC0tLTh9+rRLsoM++OADfPDBB6irqwMApKSk4NVXX8XSpUsBXHvumzZtwscffwylUolZs2Zhx44dSElJYfzcWG4OWAHC4lRsCRASLmg2mwE4NmxO2gZkMhnkcjkMBgMtRvru3lvusqenp3t1CByp4IwfP56x5GZ7skaGy43iEAUAdXV1qK2ttXu4eSiOWq6A2LpyuVxMnTrVKxeIBoMBcrkcNTU10Ol08Pf3B5fLddug9XAhrl1paWkQq8S4O/dum/fNW52HxZMXM3Yuw5kb0Wq1KCws9PqkdmeJj76QFsP33nsPe/bsgVwux+TJk9HT04Pjx48jLS3NKccZjCNHjsDX1xdTplwTsrt378b27dshkUiQkpKCrVu34s0338SuXbuQlJSEN954A+fPn0dlZSXbGsbiFFgBwuJUSBK6JZbhghwOZ1gLA5IrQMSIZVJ4REQEysvLoVarwePxvHqXvbm5GeXl5S6v4PTNGgkNDaUXzEPZWdZqtRCLxQgICPDIFh97sRS2fD5/SO0R/TlqESHdX0sGUxBnpfj4eEyaNMlrF4gmkwlFRUUwGAzIyMig80YUCgW9YCYVU09/3TU1NaGyspIWtlUdVeD9m2fz/kxUQGzhyNwIqapFRERg2rRpXvvaoigKFRUVaG9vd6r46IvRaMRjjz2G0tJShIeH4+effwaPx8PKlSuRnZ0NHo/n0msYERGB7du347HHHkNcXBw2bNiAF154AcC1dk0ul4utW7fit7/9rcvOieXGhRUgLE6lrwBhMtmc7N7LZDK0trait7cXI0eOxOTJkxEbG+v2YdqhQFEUamtr0dDQgPT0dLdaiOp0OrqVqKOjw+GsEZVKBYlEgqioKI9Nm7cHs9mMsrIydHV1Oa19jLg+keqIj48PfW2dZeXZH2R2xZvcx/qDDM5zOBzweDyrHXmyYCZC2jJEzhNncohlMI/Hs6rYCvcJkV+fz+gMyFCwNTcyevRolJeX0+93bxYflZWVUCgUjLb0mUwm/O53v8PPP/+MgoICxMbGoq2tDcePH8fhw4dx4sQJTJ06FYWFhYwcv++57Nu3D2vXroVEIsGoUaOQkJAAsVgMPp9P308oFCIsLAy7d+9m/JxYbnxYAcLiVCwFCJPiw5Lu7m5IpVKEhoYiJCQECoUCKpUK4eHhdEuGN4Q4kRwGpVIJPp/vUYGCfbNGSB5GTExMv9bJ7e3tKC4uxsSJEzFx4kSvXYwYjUYUFxdDr9eDz+cz8joym81QKpW0GDGZTIw4arW2tqKsrAwpKSkYM2aMUx7THej1eojFYvj7+w9aVbMMkSMzOaSqZ68zEZPU19ejtra2X8tgpVaJdUfW4UzdGfpnw3XBcjZkbqS1tRUdHR3w9fVFXFwcbfvtbZsOJIhTLpczKj7MZjPWr1+Pb7/9Fvn5+f1uBuh0OlRXVzM6c1FSUoLZs2dDq9UiODgYX3zxBZYtW4YLFy5g7ty5aGpqQlxcHH3/J554AvX19Th58iRj58Ry88AKEBanYjAYYDKZrGY+mBQfJE+CBHWR4/TXSsTlchETE+OROSBkTsJoNDK20HUWg2WNkF72adOmWX15eRt6vf5aDsOIEcjIyHCJtW5/BgHOcNQiu+zp6emIiopy8lm7DtLSN9RAO61WS+/ed3R0ICgoiG6Dc3Vo55UrV1BfXz9oS1+1sho1ypoh54AwTW9vL0QiESIjIxEVFUU7P5nNZrrq5A3W1KTNsrW1FVlZWYyJU7PZjD/+8Y84deoU8vPzMXHiREaOYw96vR4NDQ3o7OxEbm4uPvnkE5w7dw6dnZ2YO3cumpubrYw2Hn/8cTQ2NuLEiRNuO2eWGwdWgLA4FYPBYFUFYSrZnKIoevdwsDwJnU5HL+iUSiVGjx5NL5jdvQMKXBNLEokEAQEBSEtL8/gvakv6WicT0Tl58mRMnDjR63ZACb29vRCLxRg9erRbk5uH66hl2dLn7cF8vb29OPz9YahGqHBHxh1IjEgc1uMZDAa6Da6trQ0jR450eqJ1f1AUhZqaGly9etXr80p6e3tRWFgILpeLpKQk+rPe1twIub6etglEMmRaWloYFx9//vOfcfDgQRQUFCAhIYGR4wyVhQsXIiEhAS+88ALbgsXCOKwAYXEaFEXh7bffxoIFC5CYmMjY4KfZbEZ5eTna29vB4/EwevRou3+XtAzIZLIhzTU4m66uLkilUq92IwKu/U0qKiogl8sRGRmJzs5Ot2SNOANPdYhy1FGL9LLLZDJkZmZ6VEufozS2NeLB3Ach7hbTP3NmOxIR0kTsmc1mRtrgyC57S0uL1/9N1Go1RCIRxowZg8TExAHfJ7bmRqKjoxEcHOzW9xgRhE1NTcjKymLMvMRsNuPVV1/F3r17UVBQgKSkJEaOMxwWLFiA8ePH47PPPkNcXByeffZZbNy4EcC1786YmBh2CJ3FabAChMVpdHV14eGHH8bp06eRkJAAoVCIVatWYdq0aU7bTbRsVeLxeMPaSTMYDGhra4NMJkN7ezsCAgLoFHZXfCmS9rEpU6ZgwoQJjB6LSUwmE4qLi6HRaMDn8xEQENBvK1FkZCS9e++pBgHE+tjTZ1f6Omr5+/vTYiQ0NJRObu7q6kJmZqZXZ2N0d3dj+Z7lKFIVuWQg2/K1q1AooNForHbvh9oeaTncnJmZ6RHV16GiVqtRWFiIuLg4h0Ne+3vtDjVvxBmQahST4oOiKLzxxhv49NNPkZ+fj+nTpzNyHEd46aWXsHTpUowfPx4qlQp79+7FW2+9hRMnTuCuu+7C1q1bsWXLFnz22WdITEzE5s2bUVBQwNrwsjgNVoCwOJ3Ozk4cOXIEeXl5OHnyJMaNG0eLkfT09CF/wajVakilUgQFBSEtLc2pO+pGo9FqrsHPz48WI/0NWQ8HiqLQ0NCAmpqaQdvHPB0yJ+Hr64uMjAybwqKnp4fRrBFnQIa0vW12pT9HLfIe8/ZgPqVSiaMXj+K3pbZ3XJm2pLUcYu/u7qZbOKOjo+1esFpmSni7IByO+OgLyRsh1RFXz41YtsIxVY2iKArbtm3Djh07cPbsWaSnpzNyHEf59a9/jW+++QYtLS0IDQ1Feno6XnjhBdx1110Afgki/Oijj6yCCFNTU9185iw3CqwAYWEUlUqFY8eOITc3F8ePH0dUVBSEQiFycnKQlZVltxjp6OhAcXEx4uLiBi33D5e+CzpfX19ajISFhQ3r2GazGZcvX4ZMJgOPxxtSnoSnMNQ5CWdnjTiDhoYGVFdXIy0tDdHR0W45B2eg0+kgEolgMBgAgLFWIldALINbglvwxLknbN6P6VA+S4g1NUkLDwwMpIfYbW1UEHc7Uo3ytPkHR+jp6YFIJMLYsWOdHo7q6rkRMhuVlZXFqPj4+9//jrfffhunT59GZmYmI8dhYfFGWAHC4jJ6e3tx4sQJ5Obm4ujRoxg9ejRWrlwJoVCIW265xWZF4+rVq6isrMTUqVMxbtw4l55z3yFrDoeD6OhocLlchwdVjUYjSkpKrFqVvJWuri5IJJJhC8KBskZckRRuORDM4/G8ekhbp9NBLBZj1KhRdKWRCUctVyCTyVBaWoqUlBSo/FQeE8pnidFotBpi9/X1pRfLERER8PHxgdlsRmlpKXp6epCZmekx1b6hQMTHuHHjMHnyZMbfm0zOjRAHMiZNACiKws6dO7F582acOHECs2bNYuQ4LCzeCitAWNyCVqvF6dOnkZubi8OHD8Pf3x/Z2dlYtWoV5s6dixEjRsBkMuGZZ56BWq3GO++8YxXS5Q7MZjM6Ozshl8shk8lAURS9+xkZGTmgGNFqtZBKpRg5ciTS09M9dgbCHpiaXXE0a2S4EDODjo4Oj8tdcRRSjQoLC8P06dP7fS2q1WpajAzFUctVNDc3o6Kiwqoa5amhfASS5UJevyaTCZGRkejt7QVFUcjMzPRowTcYKpUKIpEI48ePd4tzE5kbUSgUaGtrG9bcSF1dHerq6hgXH5988gleffVVHDt2DHPnzmXkOCws3gwrQFjcjl6vR35+Pvbv349Dh64tJhYtWoSamho0NDRg//79yMjIcPNZWkPaBWQyGeRyOQwGAy1G+jo+qVQqSKVShIeH21wcegskTyIlJQVcLpex4wyWNTJcMUIG57VaLfh8vle3xRDXrjFjxlhZoQ6Eo45aroK0wvVNBfeGUD4CRVHo7OxEWVkZdDodKIryaAvawSDiY8KECZg8ebK7T2dYcyPEuj0zM9Mh90RHoCgKn3/+OTZu3IgjR47gjjvuYOQ4LCzeDitAWDwKo9GIvLw8/P73v4fZbIafnx8WLFiAnJwczJ8/3yO/vCmKgkqlosWIVqul++59fX1RVlaG+Ph4TJo0yWNdlQaD+OQ3NTW5vFWpbxscAHqxTFpdHEGv10MqlYLD4YDH43l1NaqzsxMSiWRYr6++lae+jlqueM1SFEXvTAsEApuzUZ4eygdc+wyTSqWgKAp8Pp+2/iYzTyEhIVZD7J78mdDd3Q2xWEy/vjwNR+ZGiPHHQK8vZ5zPF198gWeffRaHDh3CggULGDkOC8uNACtAWDwKiUSC7Oxs3HXXXdi5cyd+/vln5Obm4sCBA+jq6sLSpUuRk5ODhQsXeqSNJUVRUKvVkMlkaGpqgk6nQ0hICMaPH4+YmBivXOySIVqlUgmBQMCYVaU9kN1lIkYczRohoY9BQUFITU31mmyS/iBD2omJiRg/frxTHrM/Ry2yWB6K2LMHIm6bm5shEAi82uLTYDDQrnA8Hu+61xcRI2SInbQZRkdHIzQ0FD7V1eDU1oJKSAA1xb0Cq7u7GyKRCJMmTXJrWrcj2JobMZlMaGxsRGZmJqPGH/v27cPTTz+Nffv2YenSpYwdh4XlRoAVICwew+HDh/HQQw/h5ZdfxgsvvGC1M2g2m/HTTz9h//79OHDgAGQyGRYvXgyhUIglS5Z4VP8+WVBdvXoVU6dOpZPYVSoVwsPDweVyPcp+diAMBgOKi4thMBjA5/M96pwdzRrp6emBWCxGVFQUpk2b5tE7z4PR0tKCS5cuISUlBWPGjGHkGP3NNTjbUYuiKFRUVKCtrc3t4na4GAwGiMVi+Pn5IT09fVBxayn2uq5cAW/bNkSLfwlaNC1cCN2uXUC461vMurq6IBaLvUp89IXMjdTX16Onpwf+/v70Zy8TeSMHDx7E448/jj179mDlypVOfWwWlhsRVoCweAQURUEoFGLt2rVYvXr1gPc1m82QSCTYv38/8vLy0NjYiIULF0IoFGLZsmWMDCzbi8lkQllZGbq7u8Hn860WVP3Zz3K5XMTExHhka5lWq4VEIoG/vz/S09M93sJ1oKyR3t5eSKVSuo/dm8UHmcNJT09HVFSUS45pK5xvOI5alva0AoHAowbhHUWv10MkEiEwMBBpaWkOL279hEL45ueDY/plyJ7y8YFm7lwYjhxxaeWUiI/JkycjPj7eZcdlgqtXr+Ly5cvg8XgwmUxWcyPOFNNff/01Hn30UXz++eeDfn+xsLBcgxUgLB4DRVEOLwwpikJpaSn27duHAwcO4PLly7jzzjshFAqxYsUKhIeHu2yxqdfrUVRUBIqiwOPxBlyUkaqIXC6HUqlESEgILUY8obWMVAsiIyOdmmTvKizFXmdnJ4BrcyNJSUleu9ClKIrOLuDz+W61DB6uo5bJZKItqQUCgUdV1hxFq9VCLBajg9OBETEjMCViikPzKZyqKgTweDZv/+aDD+CXkkKbXDC5WUFmihISEpzqcOcOmpqaUFlZCT6fj3CLKpKz80ZOnjyJX/3qV/jkk09w//33O/tpsLDcsLAChOWGgbRzkDat0tJS3H777cjJycGKFSsQHR3NmBhRq9WQSCQICQlxeLaA9IXLZLLrsjDc0VrW0dGBoqKiG6JaQDJk4uLioNFo3JI14gwoikJlZSVkMhmjqc1DQavV0m1a9jhqmUwmSKVSmEwm8Pl8r5yLImg0GuRfzMc7de/gYttF+ueOOHT5nDyJUXffbfP27r170ZyRQYtpcn2dkYdhyY0kPoiVc183tf4YTt5Ifn4+7rvvPuzcuRO/+tWvvOKzhIXFU2AFCMsNCQmYy83NRV5eHsRiMebMmQOhUIiVK1ciNjbWqV/cUqnUKSntBoMBbW1tkMlkaG9vR0BAAJ3C7szFhi3IbEFycjLGjh3L6LGYxLJawOPx6B1Q4vhE8gSYzhpxBmazGWVlZXSStidXcPpe376OWkajkR7SzsjI8Pi2voHo7e2FSCTCpppN+KntpyFnlAxWAdEUFdED6bbyMIZrT61UKiGRSJxqaOAuWlpaUF5ebpf46Evf6+vn50eLvb5zI99++y3uuecevPfee3jsscc88rODhcWTYQUIyw0PRVFoaGigxciPP/6ImTNn0ins48ePH/KXR2trKy5dusTIF7fRaLTKwiBfhlwu1+mLZYqiaI98V84WMAGphCkUCggEApvVgv6yRshizpWtewNB8kp0Op3HmQAMRn+OWhRFISAgAAKBwKsrH2q1GiKRCNogLVadXWXzfvamtPsLhfDpOwPi6wvz/PnQHepfxJA8DHJ9AVjlYdhbhSXiIykpCePGjbPrdzwVIj4yMjIQGRk5rMfqmzfyyiuvIDIyEtnZ2Rg/fjx+9atf4a233sLvfvc7l31WbNmyBXl5eaioqEBAQADmzJmDrVu3YurUqfR91q1bh927d1v93qxZs3Dx4sW+D8fC4lZYAcJyU0FRFJqbm5GXl4e8vDx899134PP5EAqFEAqFdmcpkNyCK1euuGTB3ncx5+vrS4uR4QbzWbb38Pl8xgK6XIHJZEJpaSnUajX4fL7d1QJnZ404A4PBAKlUCgBen1fS29uLwsJC+Pr6wmQyMeKo5Sp6enogEokQFxeHWp9a3J1nu30qb3UeFk9ePPiDKpXwX7cOvmd+CVp0xAWL2FOTVjidTkc7wkVFRdmcR+vo6IBUKr0hxAfZDHKG+OgLRVEoKChAXl4ezpw5g6tXryIxMRHr16+HUCh02bVbsmQJ7r//fsyYMQNGoxEvv/wySkpKcOnSJdrwZN26dZDJZPjss8/o3/Pz83O4GsTCwjSsAGG5aaEoCjKZDAcPHkReXh4KCgqQkpJCixFbqdImkwmVlZVoa2sDn893eW5B38Uyh8NBdHQ0uFwuwsPDHVoskwV7T0+P1zsRkQW7PSYAAzHcrBFnoNPpIBaLMWrUKLssXT0Z0qpEDA0AON1Ry1WQYL4JEyZg0qRJqFZWg/dvns3721sBIXCqq8GpqRlWDgjJIiLXl5gEkOoeeY8T8TF16lSvbrcEAJlMhtLSUmRkZDC6GSSVSrF8+XI88cQTiImJweHDh/H999+Dx+Nh5cqVyMnJQXp6OmPH74tCoUBMTAzOnTuH22+/HcA1AdLZ2YmDBw+67DxYWIYCK0BYWHDtS7ujo4MWI2fOnEFiYiKEQiFWrVpF50Z0dHRgzZo1yM7OxpNPPul2+1yz2UwvlmUyGSiKohcakZGRA4qRGykRnFgGO3vBTlLuyfUdLGvEGfT29kIsFiMsLAzTp0/3OgcyS0i1IDY21uZ8VH+OWn0Xy56ArWwM4T4h8uvzhzwDwjR9TQKCgoIQHBwMuVzu9bNeACCXy1FSUoL09HRER0czdpzS0lIsXboUzz33HF566SX6tdzW1oZjx47h0KFD0Ov1OHLkCGPn0Jfq6mokJiaipKQEqampAK4JkIMHD8LPzw9hYWGYN28e3nzzTcTExLjsvFhY7IEVICwsfSA2jYcPH0ZeXh5OnTqF8ePHY9GiRfj6668RExOD3Nxcjytpk/OWyWSQy+UwGAz0Qq7vzn1vby8kEgmCg4O9PhFcrVZDLBYjIiKCccvg/rJGyDV2xnyGSqWCWCzGmDFjbFbgvIWuri5IJBK6WmDPc3HUUctVKJVKSKXSfh2ilFol1h1ZhzN1v7RPOeKC5UoMBgPq6upQX18PDocDPz8/qyF2bxO7RHykpaUxusAuLy/H0qVL8eSTT2LTpk02X4dDsZIfKiQ7S6lU4ttvv6V//uWXXyI4OBjx8fG4cuUKXnnlFRiNRohEIq+aIWO58WEFCAvLIKhUKrz//vt4/fXXMWbMGPj4+CA7OxurVq1CZmamR35pk517Ika0Wi3dRuTv74+SkpIbYpFLHMjGjRuHhIQElz6X/oIlyWJ5KDv3xAY1Pj7e7gW7p0KsnIdj6TqYo5arrk97ezuKiooGnZOoVlajRlmDhPAEh9quXElbWxuKi4sxbdo0xMTEQKlU0q1aFEUhKioK0dHRLms1HA4KhQLFxcWMi4/Lly9j6dKlWLt2LTZv3uwxn/dPP/00jh49iu+++27A12VLSwvi4+Oxd+9e3D2A3TMLi6thBQgLyyAcO3YM999/P/7yl7/gqaeewsmTJ5Gbm4ujR48iNDSU7v2dNWuWR35pk55wmUyG5uZmaLVaBAUFIT4+HjExMV7beqVQKFBSUoIpU6a4PbdAp9PRO/dDyRohz+VGsEElz8WZswX9OWqRnXsmTQLIgj05ORlxcXGMHMNVkL/L9OnTMWbMGKvbLMP5yIaFJ8/lEPGRmpoKLpfL2HFqa2uxZMkSrFmzBu+8847HiI/169fj4MGDOH/+PCZNmjTo/RMTE/Gb3/wGL7zwggvOjoXFPlgBwsIyADt37sTGjRvx6aef4t5777W6TaPR4PTp08jLy8Phw4cxatQoujIyZ84cj3P2IaF8iYmJMJlMdM99eHg4vVj2lhJ9c3MzysvLkZKSct1iyt2QLBdi7ztY1gjJXvHE5+IoZBiYyYWh2WyGUqmkF8tMOWqR9p4b4e9CxEdKSopdfxfLIfbu7m6EhobSgi8wMNAFZ2ybtrY2FBUVMf53qa+vx5IlS7BixQr885//9AjxQVEU1q9fjwMHDqCgoACJiYmD/k57ezvGjh2Ljz/+GI888ogLzpKFxT5YAcLCYoPu7m7MmzcPO3bswJw5cwa8r16vx9mzZ5Gbm4uDBw+Cw+FgxYoVWLVqFW677Ta37iCSUMbGxkarUD6g/zYiLpeLmJgYtw/Y9wexP66rq0NGRobHzeH0ZbCskcbGRlRXVzNiHepqmpqaUFlZ6dIcGYqiGHHUam1tRVlZGePtPa6ACKmhikKtVku/hjs6OhAYGEhfX1eHd5J2uGnTpiE2Npax4zQ1NWHx4sVYuHAhPvzwQ48QHwDw1FNP4YsvvsChQ4essj9CQ0MREBCAnp4evPbaa1i9ejViY2NRV1eHl156CQ0NDSgvL7fp2Ehmr7y9+sriXbAChIVlAIYyVGg0GnHu3Dns378fBw8ehE6nw4oVKyAUCnHnnXe6tMpgNptRXl6Ojo4O8Pl8m6F8wLU2IiJGlEolQkJCaDHi7l1PwPvzSvraJ5tMJlAURbeQecoiZyg0NDSgpqbG7aKwr6PWUOZympubUVFR4fWBnIDzh7RJOCqZy/H19bUS1Ey+holtMNPio7W1FYsXL8bcuXPx73//26Paam19F3322WdYt24dNBoNcnJyIJFI0NnZidjYWMyfPx9/+9vfbIoLnU6HWbNmQS6Xo6CgAElJSUw+BRYWGlaAsLAwiMlkwvfff4/9+/fjwIEDUKlUWLp0KYRCIRYuXMjowt5oNKK4uBh6vR48Hs+hioZer4dCoYBMJrtupmEgEcMUZrMZpaWl6O7uhkAg8AhBNFRIUrtMJkNkZCQ6OzvdkjXiDCiKwpUrV9DQ0AA+n4/Q0FB3nxLNUBy1rl69isuXL4PH43l8dW0wSDscU1Uc0gpHqk+kFY4MsTuzBZWID6ZnceRyOZYuXQqBQIDdu3d7XButszEajbj11lvx008/AQDS0tKwd+9eOq+HhYVJWAHCwuIizGYzfvzxR1qMKBQKLFq0CDk5OVi8eLFTF/Y6nQ4SiQR+fn5IT08f1hcpmWmQyWRob29HQEAAncIeHBzMeAuG0WhEUVERjEYj+Hy+xw3EOoLZbEZZWRktpAICAtySNeIMKIpCVVUVWlpakJmZ6RZhai/2OGqRKg6fz0dYWJi7T3lYEPHBdDYGgbTCEcHX29tr1Qo3nKqvUqmERCJhPDCxra0Ny5cvx9SpU7Fnzx6Pfd85k+XLl+P48eO455570N3djVOnTiE5ORlffvkl0tLS3H16LDc4rABhYXEDZrMZYrEY+/fvR15eHq5evYqFCxciJycHS5cuHVZvdU9PDyQSCcLDw50eZEdaMMhMg5+fHy1GmOgHd6aQcjcmkwlFRUXQ6/Xg8/k2F2V9s0Y80SSAoiiUl5ejvb0dmZmZXlWRsnTUamtrA4fDwahRo9DT0wOBQGA1I+WNkPkVV4mP/lCr1bTg6+rqwujRo+lWraCgILsfp7OzE2KxeFAL5OGiVCqxYsUKTJgwAfv27fPqTQ57UavVeOaZZzBixAhs374do0aNwj333IMjR45gypQp2Lt3LwQCgbtPk+UGhhUgLCxuhrQXETFSXV2NO++8E0KhEMuXL0d4eLjdC3sSmDZ+/HjGczH6WqP6+vrSYiQsLGzYxyaJ4KGhoUhJSfHqGQmDwQCJROJw6ryzs0acgWUVJzMz0yPNCuzFZDKhvLwcMpkMI0aMgNlsZsRRy1W0tLSgvLzco+ZXiEW1QqFAR0cHAgICEB0djejo6AHzXEguzpQpUxgdju7q6sLKlSsRHR2NAwcOeIzIZxIy26jVamE2m+kNhI6ODjzxxBPIy8vDpEmTsHfvXsyYMcPNZ8tyo8IKEBYWD4LMBxAxUlZWhnnz5iEnJwcrVqxAVFSUzS9smUyGsrIyxncL+6PvgDWHw0F0dDS4XO6QhlNJinZcXBwSExO9OpRPp9NBLBYjICAAaWlpQ57vGG7WiDMwmUwoLi6GTqeDQCDw6p1iiqJQXV2N5uZmZGZmIigoyKqNyFmOWq6CiA9PdlQzGo1ob2+nBYmtPJeuri6IxWLGxYdKpUJOTg6Cg4Nx+PBht4l6d2BpsGL5/52dnfjd736HL7/8EuPHj8eePXsGdYFkYRkKrABhYfFQyAIpNzcXeXl5kEgkmDt3LoRCIVauXIkxY8bQXxqvv/461Go1nn/+ebe1XRDMZjM6OzvpmQaKouhFRmRk5KBihFhtTp48GRMnTnTNSTMEqeKEhYU5tR3O0awRZ0BmcUwmE/h8vlf3yBNHNblcTouPvjjDUctVEOcuTxYffbH8nFAoFDAYDIiKikJwcDDq6uoYDxhVq9VYvXo1fHx8cPToUYdaw250VCoVnn76afz3v/9FXFwcvvjiC9x+++3uPi2WGwxWgLC4jJ07d2L79u1oaWlBSkoK3nvvPdx2223uPi2vgKIo1NfX02Lkp59+wqxZs7BixQqIRCKcPn0ae/bswbx589x9qlaQhGWZTAa5XA6DwUCLkf7cnkgo3/Tp0xm12nQFKpUKYrEYY8aMQVJSEmMVisGyRpxxXNJC5uvri4yMDK9rTbLEcn4lKyvLLjHRn6MWucauMGIYCJK/4s3OXcSI4erVq2hqagIAq+qTs9v8NBoN1qxZA71ej+PHj9vMx7iZ6enpwR/+8Afs2rULXC4X//vf/3DnnXe6+7RYbiBYAcLiEr788kv86le/ws6dOzF37lx89NFH+OSTT3Dp0iVGd7luRCiKQlNTE7788ku89dZb0Ov1SEtLw7JlyyAUCjFx4kSPbFkiiwwiRrRaLd1vHx0djaamJtTU1HhU//pQIbM4EydOdOnfw7IVTqFQgKIoetfessXFEZzVQuYJUBSFsrIydHV1DXl+xR5HLVdxI4gPgkqlgkgkwsSJExETE0Nf487OToSEhFgNsQ/nGmu1WjzwwAPo6urCyZMnPco62tPQaDTYsGED/vWvfyEyMhL//e9/sXjxYnefFssNAitAWFzCrFmzIBAI8MEHH9A/mzZtGnJycrBlyxY3npl30tHRAaFQCKPRiE8++QTnz59HXl4ezp07h5SUFOTk5EAoFHrs/ARFUVCr1bQY6enpAYfDwcSJEzFhwgSP77cfCIVCgZKSErfM4lhCURTd4tK3+mTvgLVGo4FYLMbo0aO93giAmD309PQgMzPTKcPG/Tlq9TfTwAQks4TP53u9cxcRH/Hx8Zg0aZLVbXq9nq7wtbe304IvOjraYbMLvV6Phx9+GC0tLThz5ozXX7ehYCtc19bPtVotnn/+eezcuRNhYWH4/PPPsWLFClecKssNDitAWBhHr9cjMDAQ+/btw6pVq+ifP/PMM5BKpTh37pwbz877qKurw9KlS5GcnIz//e9/tIMJRVFob2/HoUOHkJubi2+++QZJSUkQCoXIycnBtGnTPE6MmM1mXLp0Ce3t7RgzZgw6OzuhUqk80nrWHkgLWWpqKrhcrrtPh2YoWSNqtRpisRhRUVFITk72uNeOI5jNZhQXF0Oj0SAzM5MRgWs500CS7ply1GpsbERVVdUNIT56enpQWFiICRMmYPLkyQPelwg+Uh0BYCX4BqrOGQwGrF27FleuXMHZs2e9ZlbGmZhMJvoaKZVK6HQ6BAQEDFoF0uv12LhxI/7xj38gJCQEn3/+OYRCoStOmeUGhhUgLIzT3NyMsWPH4vvvv7dy09i8eTN2796NyspKN56d93HHHXcgNTUVf//7321+4ZLZi8OHDyM3NxenTp1CfHw8LUbS0tLcvptNktqJoxIRGv1Zz3K5XMTExHi05WtDQwOqq6u9YhB4sKwRMr8SFxeHKVOmeLX4IPkrBoMBAoHAJcPzfYP5nOmo1djYiOrq6hsiMJGID2Ib7ghE8JFrrNfr6ST2vqLaaDTiN7/5DcrKypCfn89IMnx/bNmyBXl5eaioqEBAQADmzJmDrVu3YurUqfR9KIrCpk2b8PHHH0OpVGLWrFnYsWMHUlJSnHouZrOZ/sx/7bXXcOzYMVRXVyM5ORn33HMPnnvuuQF/32g04s9//jPeeecdBAYGYteuXbjnnnuceo4sNxesAGFhHCJALly4gNmzZ9M/f/PNN/Gf//wHFRUVbjw770OpVDrcetDd3Y2jR48iNzcXJ06cAJfLxcqVK7Fq1SoIBAKXixG9Xm811GxrUajT6eiFslKpREhICC1GPCX8jqIo1NbWorGxEXw+3+t6yvsKvqCgIPT29mL8+PFISkpy9+kNC5PJBKlU6nbnLuKopVAo0N3dPWRHrRsprV2tVqOwsBBjx47FlClThvVYFEXRolqhUCA/Px/Hjh3D0qVLcffdd+Pdd99FYWEhCgoKMGbMGCc9g8FZsmQJ7r//fsyYMQNGoxEvv/wySkpKcOnSJdp1a+vWrXjzzTexa9cuJCUl4Y033sD58+dRWVnJyHD8Sy+9hLfeegt+fn4ICgqCUqkEAKxbtw5/+ctfBqxCmUwmvPLKK3jrrbfg7++PTz/9FA888IDTz5Hl5oAVICyMw7ZgeRZqtRrHjx9Hbm4ujh07hrCwMKxcuRI5OTmYOXMm40PGZK4gJCQEqampdosfvV4PhUIBmUyGjo4OBAUF0WIkODiY0XO2haWdq0AgcNt5OAuZTIaSkhIEBARAo9G4JWvEWRiNRqvwR09x7hqqo1Z9fT1qa2shEAi8TuT2xVJ8MBGYWldXhz179uD48eOQSqUYOXIknn76aTzyyCNIS0tz2+tYoVAgJiYG586dw+233w6KohAXF4cNGzbghRdeAHBt04XL5WLr1q347W9/69Tjnz9/HtnZ2YiPj8eOHTsQGxsLqVSK9evXQyaT0TOZlhWavhgMBmzfvh1/+ctfEBwcjDfffBPr16936nmy3BywAoTFJcyaNQuZmZnYuXMn/bPp06dDKBSyQ+huRKPR4NSpU8jLy8ORI0cQEBCA7Oxs5OTkYM6cOU5ftJHWHi6Xi6lTpw55IUByMGQyGdrb2xEQEEAvlENCQlyywLBMBBcIBB6XDeEoZHg+OTkZcXFxbskacRYGgwFisRgjR45ERkaGxzp39b3Gthy16urqcOXKlRtGfIhEIsTGxjLa3mc2m/Hcc88hPz8fTz31FL7//nucOHEC0dHRyMnJQU5ODubOnetSYVpdXY3ExESUlJQgNTUVtbW1SEhIgFgsBp/Pp+8nFAoRFhaG3bt3O/X4u3btwmOPPYbvv/8es2fPptuyLly4gD/+8Y/48ccfsXz5cmzbtg3Tpk277vfJDIlSqcRdd90FsViMRYsW4cSJE049T5abA1aAsLgEYsP74YcfYvbs2fj444/xr3/9C2VlZYiPj3f36bHgWoXhzJkzyMvLw6FDh8DhcGgxcvvttw+7faWjowNFRUVOt6Yl6coymQxtbW3w8/NDTEwMuFwuYwtlMleg1+u9PhEcAFpbW3Hp0iWkpKT0Ozxv6fakUCgYyRpxFnq9HmKxGKNGjUJ6errbZ53sxZajFkVRkMlkyMrKwujRo919msOit7cXhYWFGDNmDKMOfWazGS+++CIOHz6M/Px8er5Eo9Hgm2++waFDh3Do0CF89tlnWL58OSPn0BeKoiAUCqFUKvHtt98CAC5cuIC5c+eiqakJcXFx9H2feOIJ1NfX4+TJk0M+nuXMB+Hvf/87/v3vf6O4uBhGoxEcDocW5yKRCH/4wx/www8/YMmSJdi2bRtSU1Ove1y1Wo3f//732L17N+bOnYtz5855zXuMxbNgBQiLy9i5cye2bduGlpYWpKam4v/+7//YdFUPxWAw4Pz589i3bx8OHToEvV6PFStWQCgUYv78+Q47U8lkMpSWliI5ORljx45l6KyvXyj7+vrSYsTRuRlbkFA+Hx8fj2rtGSrEztXe/JX+skYcSbpnEp1OB5FIhODgYIfa+zwNMmBdXV2Nrq4u+Pr60sPVUVFRXvma02g0KCwsRExMDKPBnGazGa+++ir27t2LgoICm3NMJpMJAFxWHXv66adx9OhRfPfdd7Q9NxEgzc3NVsGrjz/+OBobG4dcWbAUHxKJBFevXoWPjw/Onz8PsViM06dPA7jeereoqAh/+MMf8O2332LhwoV45513kJqaanWf77//Hvfffz9iY2Px/fffu22uisX7YQUICwvLgJhMJnz33XfYv38/Dh48CJVKRYceLly4cNDWI2IZmpaWhujoaBedtfVCWS6X0zvKXC4X4eHhQ1qcarVaSCSSGyKUD/hlroDH4w3JztUZWSPOQqvVQiQSITQ0FNOnT/da8UGora1FQ0MDBAIBKIpixFHLVRDxER0dPazWy8GgKApvvPEGPv30U+Tn52P69OmMHMdR1q9fj4MHD+L8+fNWOSdMtGBZiop//vOfePnll9HT0wMA8PPzg16vx/79+3H33Xf3+/tlZWVYv349CgoKMH/+fGzZsgUzZ860us+RI0ewaNEir7JIZ/E8WAHCwsJiN2azGRcvXqTFiEKhwOLFi5GTk4PFixfTzi7kvu+88w54PB5mzJjhVtcey4wGmUwGs9lM99rbu2vf29sLsViM8PBwTJs2zasXuJbOXQKBwCmtPZZZI2ShPFjWiLPQaDQQiUSIiIjwyLwbe+FUVYFTW4v6kSNR4+ODzMzM65yQnOWo5SrI3yYyMpLRPBmKorBt2zbs3LkTZ8+eRVpaGiPHcfSc1q9fjwMHDqCgoACJiYnX3R4XF4dnn30WGzduBHCthTAmJmbYQ+j//e9/8cgjj8DHxwerVq1Cd3c3Tp8+DQ6HgzVr1uDll1++7hoR8VJRUYENGzbg1KlTeOmll/DGG28A6L+ti4VlqLAChOWm5LXXXsOmTZusfsblctHa2uqmM/I+zGYzRCIR9u/fjwMHDqCpqQkLFy5ETk4OFi5ciN///vf44YcfcOzYMY/ZiQR+yUghKeyWu/ZRUVH9VjXI8PyYMWMYbR9xBRRF4fLly2htbUVmZiZjzl09PT20a1l/WSPOggw1x8TEMLq7zigdHfB/9FH4njlD/0g3fz5M//kPMEBlaqiOWq5Cq9WisLCQcWFIURT+/ve/4+2338aZM2cgEAgYOY6jPPXUU/jiiy9w6NAhK2ep0NBQWixu3boVW7ZswWeffYbExERs3rwZBQUFDtvwWlY+zGYz7rrrLly6dAmff/457rrrLgDAhx9+iPfffx+XLl3CY489hueee+66z2byOOXl5fjyyy/x2muvDfMqsLD0DytAWG5KXnvtNezfvx9nLL7wSZ81i+OQpOnc3Fzs378fTU1NCAkJwTPPPIOHHnrIafMXzobs2hMxotVq6fTq6OhojBgxAkqlElKp1OnD8+6AoiiUl5ejo6MDAoHAZVkqfbNGRo8eTYuR4ZxDT08PRCKR1wcm+guF8MnPB+f/zyUAAOXrC/P8+dAdOmTXY9jrqOUqXCk+du7cic2bN+PkyZPXtQu5E1vP+bPPPsO6desA/BJE+NFHH1kFEfY3AG4PIpEIAQEBWLx4MdavX4+NGzdaJaAfPnwYr7/+OsRiMdauXYvnn3/+utDDvpUOo9HolXNHLJ4NK0BYbkpee+01HDx4EFKp1N2nckPR0dGB7OxsaLVaLFq0CMePH8elS5dwxx13QCgUYsWKFYiKivLIhSJFUVCr1bQYUavVCAkJgUqlwpQpUzBx4kR3n+KwMJvNKC0tRU9PDwQCgdtS5XU6Hb1r39HRMeSsEZVKBZFIhPHjx2Py5Mke+ZqyB05VFQJ4PJu3a4qKQDkY1EfMGBQKBRQKBT3/FBMTg4iICMbbaHQ6HQoLCxEWFobp06czKj4++eQTvPrqqzh+/DjmzJnDyHG8hdzcXKxZswbPPfcc9uzZg3/84x9YvXo1TCYTfHx86L/DsWPHsGnTJvz888946KGH8Kc//Qnp6ekArh9MZ2FhClbSsty0VFVVIS4uDv7+/pg1axY2b948YAosy8A0NjZiyZIlSExMxJ49exAQEIDNmzejuroa+/fvx65du7BhwwbceuutEAqFWLlyJbhcrsd82XE4HAQHByM4OBgJCQmoq6tDdXU1Ro0aherqarS3tzPSQuQKTCYTiouLodPpkJWV5dbBZX9/f4wbNw7jxo2z2rW/cuWK3VkjXV1dEIvFmDhxotVQrzfCqa0d+PaaGocFCHF/i4mJsZp/Ki8vh9FopGdzmHDUIk5kxAyASfGxe/duvPLKKzhy5MhNLz7MZjNkMhliYmLw4Ycfore3F21tbQB+cfoi4mLZsmXw9fXFpk2b8L///Q9msxkbN25ERkaGx3wes9z4sBUQlpuS48ePo7e3F0lJSZDJZHjjjTdQUVGBsrIyREZGuvv0vI6mpibccsstWLZsGXbs2NHvooaiKNTV1SE3NxcHDhzATz/9hFtuuQUrV66EUCjE2LFjPebLr6GhAdXV1cjIyEBkZOR1LUShoaF0Cru7Kgn2YjQaIZVKQVEUeDyex9pm2rJQjomJQVhYGL1r39nZCYlEgsmTJ3t9hhBFUWg4cwbTcnJs3mcoFZCBjtfd3c2Yo5Zer0dhYSFCQkKus291JhRF4YsvvsBzzz2HQ4cO4c4772TkON6GRqPBnj17sHPnTojFYqSnp+N///ufVYuVZYXjzJkz2LRpEy5cuIA777wT77///oAp6CwszoQVICwsuDbImpCQgI0bN+K5555z9+l4HWazGXl5eVi9erVdiw6KonD16lXk5eUhLy8PFy5cgEAgQE5ODoRCIeLj490iRiiKQk1NDa5evQo+n99v6rROp6PFiFKpREhICC1GXDVTYS/ekgjeF1tZI4GBgaitrUVSUhLGjx/v7tMcFsQMQCaT4c5t2zDy/PlhzYAMBWc6aun1eohEIgQFBTGewbJv3z48/fTT2L9/P5YsWcLYcbyB3t5ejBw5kt5Y0Ol0+OKLL/DPf/4TxcXFePzxx/GnP/3JqrpvKULOnTuHp59+Gn5+fvjxxx89doOC5caDFSAsLP+fu+66C1OmTMEHH3zg7lO5qaAoCq2trThw4ADy8vJw7tw5pKWl0WLEVcPFFEWhoqICCoUCAoHALncovV5POz11dHQgKCiIFiNMuUvZi06ng1gsRmBgINLS0rzWPpNkjdTX10OhUMDHx8fKQtkbh2OJ+JDL5cjMzESgTgf/deusXLBMCxdCt2vXgC5YzmQ4jlquFB8HDx7E448/jr179yI7O5ux43gyREBIJBJ89NFHaG5uxo4dO2hRbjAYsHfvXmzbtg3V1dV44oknsH79ekyxqKRZihCRSISUlBSMGjWKtdplcRmsAGFhwbXFWkJCAp544gm8+uqr7j6dmxaKotDe3o5Dhw5h//79OHv2LKZOnQqhUAihUMiYmw4Z0FapVBAIBEPKUyDzDDKZDO3t7QgICKAXyiEhIS6t6JDsBTIE7O0LCrlcjpKSEkyfPh1BQUFuyRpxFhRFobKyEgqFAllZWVavNU519bWZj4QEp7VdDQVHHLUMBgPtvMS00P3666/x6KOP4j//+Y/NIL0bHSIcCgoK8Mgjj+Dq1auYPn063nrrLaxYsYK+3Wg0Yt++fdiyZQsuX76MX//613jmmWeskuH7Dpyz4oPFlbAChOWm5Pnnn0d2djYmTJgAuVyON954A+fOnUNJSYnX95XfKJCd78OHDyM3NxenT5/GxIkTsXLlSqxatcppO60mkwlFRUXQ6/UQCAROGdA2Go1ob2+HTCZDW1sb/Pz8XGaJekPkYlggk8lQWlqKtLQ0xMTEWN3mqqwRZ0GqbG1tbdeJD09lIEetkJAQSCQSjBo1Cunp6YwuXk+ePImHH34Yn376Ke677z7GjuPJEMHw448/4o477oDJZMJf/vIXvPrqq1Zigvy/yWRCbm4utmzZgkuXLmHdunV49tlnkZyc7OZnwsLCChCWm5T7778f58+fR1tbG6Kjo3HLLbfgb3/7m0cF5rFY093dja+//hq5ubk4ceIEYmNjaTHC5/OHtPgxGAyQSCTw8fEBj8djpJ1noOHq8PBwpwoEYk07duxYr87FILS0tKC8vBxpaWmDZvQwlTXiLCwzWDIzM71CfPTF0lFLLpdDp9PBz88PSUlJdG4OE+Tn5+O+++7DBx98gIcfftjrX9fDQSaT4e6778YPP/yAd999Fxs2bABwffWCiBCKopCbm4u33noLxcXFeOyxx/C73/0OGRkZbnoGLCzXYAUICwuL19HT04Pjx48jLy8PR48eRUREBLKzs7Fq1SrMmDHDrmFrrVYLiURCt464YkDbcrhaLpfTu8lcLhfh4eHD2kEm7lA3gjUtAFy9ehWXL1+mncgcwVlZI87CUnxkZWV5vHPaYJC2K19fX4SFhUGhUKC3txeRkZF0dcRZVs/ffvst7rnnHrz33nt47LHHblrxQQTFhQsXsHjxYtx555049P8NCmy1TllWRQ4cOIC3334bP/zwA5599lls3brVK+enWG4c2FcfCwuL1xEcHIw1a9ZgzZo10Gg0OHnyJO3CFRgYiJUrVyInJwezZ8/u90tWLpejsrKSTml2Vd+zj48PoqKiEBUVheTkZHo3ubS0FGazmV4kR0REOCSI2tvbUVRUhMTERK93hwKuZcpUV1eDz+cjfAhD2M7IGnEWFEXh0qVL6OzsvCHEh9FohEQigZ+fH+2slpiYSDtqNTc3o6KiYliOWoQffvgBa9aswbZt224K8VFUVISff/4Zv/nNb667jTz3b7/9Fmq1mrbWtUw57+93iAhZtWoVjEYjwsPDsX79elZ8sLgdtgLCwuJGzp8/j+3bt0MkEqGlpQUHDhxAjkUmAEVR2LRpEz7++GMolUrMmjULO3bssPJ1Z/kFrVaLb775Bnl5eTh06BB8fX2RnZ2NnJwc3HbbbRg5ciS9qNmxYwdWrlzpEYsaiqLQ1dVFp7AbDAZ6JzkqKmpAMUIETHJyMuLi4lx41sxQV1eHK1eugM/nIywszKmPbW/WiLOgKAplZWXo6upCZmbmDSM+SMuirddlX0etoKAg+joP5qhFKCwsxMqVK/H6669j/fr1HvE+ZZKKigpkZGTAYDDgp59+QlZWVr/3+8c//oENGzZg48aNeOutt2AwGGyaL6hUKnR1dWHcuHH0z3p7exEYGDigcGFhcQWsAGFhcSPHjx/H999/D4FAgNWrV18nQLZu3Yo333wTu3btQlJSEt544w2cP38elZWVCAkJcd+JewEGgwHnzp3D/v37cfDgQRgMBsybNw8nT57E448/js2bN7v7FPuFoiioVCpajGi1WkRFRdFOT5Y7l2RGIjU19boBbW+ktrYWDQ0NEAgEGD16NKPHspU1Qux9hytGLMVHVlaWRw7FO4LJZIJYLB5UfPTFEUctglQqxfLly/Hyyy/jj3/84w0vPqqqqjBr1ix0dnZi06ZNeOWVV667D6lk7N27Fw8++CD4fD6+++47BAQEXNeCRcTFt99+iw0bNuC///0vpk2b5sqnxMIyKKwAYWHxEDgcjpUAoSgKcXFx2LBhA1544QUA13rbuVwutm7dit/+9rduPFvvwmg0Ytu2bXjttdcwZcoUNDc3Y9myZcjJycGCBQs8diCYoiio1WpajKjVatp21mAwoLa2dkgzEp4GCYBsampCZmamyzNUiOMamc2xrEANJWvEbDajrKwMKpUKmZmZN4T4kEgkAAA+nz/knfP+HLU4HA5aW1uRnZ2NgIAAlJaWYunSpfjjH/+IP//5zy4VH4NVpNetW4fdu3db/c6sWbNw8eLFIR9To9Hg4YcfxoEDB5CRkYH//Oc/SE1NBVma9X3+KpUKs2bNQkVFBTZs2IC//e1vCAoKokWI0WikX6+PPvoodu/ejSNHjmD58uVDPkcWFiZgDZ9ZWDyUK1euoLW1FYsWLaJ/5u/vj3nz5uHChQtuPDPvY8+ePXjzzTexZ88elJSU4OjRoxgzZgxeeOEFTJo0CWvXrsWBAwegVqvdfapWcDgcBAcHIyEhAbNnz8bs2bMRFhaGmpoaVFVVISgoCL29vdDpdO4+1SFDQvmam5uRlZXllgBHDoeD8PBwTJ06FbfeeittkVtTU4Nz585BKpWiubkZBoNh0MeyzJS5UcSHVCoFRVHDEh8A6Ja3lJQU3H777UhLS0NjYyM2btyI8ePHY9myZVi5ciUef/xxl4sP4JqFdUZGBt5//32b91myZAlaWlro/44dOzasYwYEBOC+++7DnXfeiZKSErz99tsoLCykxZnlHrHJZEJISAheffVVREdH4/PPP8f27dvR3d1NV0CI+Hjrrbewe/duzJs3DzNmzBjWObKwMAFbAWFh8RD6VkAuXLiAuXPnoqmpyaq3/4knnkB9fT1OnjzppjP1Lv7+97/jlVdeQV5eHhYuXGh1m9lsRmFhIXJzc3HgwAE0NTXhrrvuQk5ODpYsWcJ4G5CjkErB1atXkZKSgt7eXtp2NjQ0lE5h95ZZA8tcjMzMTI+wy+2LI1kjRHyo1WpkZmY6zQnKXRDxYTabwefzGRtcNpvNyM3NxXvvvYerV6+iu7sbCxcuxKpVq7By5Uq3tBf2/TwGrlVAOjs7cfDgQaccw9Kl6vjx49iyZQu+//573HvvvXj++eeRmZl53f0AQKFQYMeOHfjnP/8JtVqNO++8E5s2bUJwcDBGjBiBDz/8EP/3f/+HsLAwFBQUID09/brHYGFxN6wNAguLh9P3S4P9IrEflUqF//73vzhz5gxmzpx53e0+Pj6YOXMmZs6ciS1btqC4uBj79+/Htm3b8OSTT2LhwoUQCoVYvnw54wGCg0EStOVyuVWlID4+Hjqdjm4funz5MkJCQmgx4omLeuAXdyilUunRoXzBwcEIDg7GpEmT6KyR1tZWVFZWWmWNjBo1CiUlJejt7b1hxEdRURFMJhMEAgGjrkl1dXV4+eWXce+99+Ltt99GdXU1Dhw4gH//+9948sknMWfOHLz++uu44447GDsHeykoKKBNC+bNm4c333xzyALJ0qVq6dKl8PX1xVtvvYWvvvoKRqMRf/rTnzBz5kyr+wFAdHQ0nnjiCYSEhOCjjz7CiRMncO7cOfpxNRoN4uLi8NVXXyE9PZ1NOGfxSNgKCAuLh9B3x622thYJCQkQi8Xg8/n0/YRCIcLCwq7rRWbpn6EINrI43r9/P/Ly8lBeXo758+dDKBRixYoViIyMdKkYsVysDxZip9fr6R37jo4OBAUF0WLEHe1N/WE5IyEQCLymYmNJ36wRX19f+Pj4ID09HWFhYV69SWA2m1FUVASDwcC4+Kivr8eSJUuQnZ2Nf/zjH9ctlJubm3Ho0CHMnj0bPB6PsfPoS38VkC+//BLBwcGIj4/HlStX8Morr8BoNEIkEg2r1c7yM+rMmTPYunUrzp49C6FQiD/96U+YPXv2dfcDrrWM1dfXY+vWraipqUFjYyMmTJiAO++8E/feey9SUlJY8cHisbAChIXFQ7A1hP7ss89i48aNAK4tLmNiYtghdBdCURSqqqpoMVJUVITbbrsNQqEQ2dnZ4HK5jC42SVtPT0+Pw4t14kAkk8nQ3t6OgIAAesc+JCTELYtks9l8Q1UKzGYzpFIp1Go1goOD0dHR4fKsEWdCxIder4dAILBp8eoMmpqasGjRIixatAgffPCBRy2U+xMgfWlpaUF8fDz27t2Lu+++e1jHsxQX+fn52Lp1K06dOoXs7Gxs3LgRc+fOve5+lqjVanR3dyM6Ohq+vr7XVU1YWDwNtgWLhcWN9PT0oLq6mv73lStXIJVKERERgQkTJmDDhg3YvHkzEhMTkZiYiM2bNyMwMBAPPvigG8/65oLD4SApKQkvvfQS/vznP+PKlSvIzc3Fl19+ieeffx633HILhEIhhEIh4uLinPqFT9pg9Ho9srKyHF6sjxw5ErGxsYiNjYXRaER7eztkMhkKCwvh5+c3qB2qszGZTCguLoZOp7thxAf5+9xyyy0YOXKkVdaIWCxmPGvEmZjNZqu/D5Pio7W1FcuWLcMdd9yBnTt3evR1sUVsbCzi4+NRVVU14P0shYBer+/3dW8pGObPnw9fX1/4+vriyJEjMJlM2LhxI26//fbrhAWpcAQFBSEoKIj+GRliZ2HxVFgBwsLiRgoLCzF//nz638899xwAYO3atdi1axc2btwIjUaDp556ig4iPHXqFJsB4iY4HA4mT56MP/3pT3j++edx9epV5OXlIS8vDy+++CKysrIgFAqRk5ODCRMmDGsBQELfACArK2vYbTAjRowAl8sFl8u1WiRLJBKrRXJ4eDgjCxcy0GwymRhf3LoCIqb0er3V87G8lpZZIyUlJU7PGnEmpDKl1WoZ//vI5XIsX74cM2fOxL/+9S+vDcRrb29HY2MjYmNjB7wfeT/t2LEDsbGxuPvuu/utTliKi9tvvx0+Pj7w9fXF119/DZPJBJPJhPnz51vdr7/XkCe9rlhYbMG2YLGwsLAME4qi0NraigMHDiA3Nxfnz59Heno6cnJyIBQKkZCQ4NCiXq/XQyKRYOTIkcjIyGB0gWa5SJbL5eBwOIiOjgaXy0V4eLhTFjOWYopJNyVXQSpTRqMRfD7frsV6f1kjUVFR4HK5Q8oacSaudO9qa2vD8uXLkZycjC+++MKjhKhlRZrP5+Pdd9/F/PnzERERgYiICLz22mtYvXo1YmNjUVdXh5deegkNDQ0oLy8fdFMoNzcXa9aswe9+9zvs2LFjwNkMS3Hyww8/YNu2bTh8+DAWLFiAF154AQsWLLjufiws3gYrQFhYWFicCEVRaGtrw8GDB5Gbm4v8/HxMnTqVFiPJyckDLhp0Oh1EIhGCgoKQlpbm0t1Ms9lML5JlMhnMZjMtRiIiIoYkhAwGA11lcSRB21OxFB9DHdAmafdEjGg0GjpgMjo62qWLcleKD6VSiRUrViA+Ph5fffWVx7XgFRQUWFWkCWvXrsUHH3yAnJwcSCQSdHZ2IjY2FvPnz8ff/vY3jB8/ftDH/u677zB//nzcfffd+PLLLwe9v6W4+Omnn7B9+3bk5eVh3rx5ePHFF+l8KHbInMVbYQUICwsLC0NQFAWlUonDhw8jNzcXp0+fxuTJk7Fy5UqsWrUKKSkpVouHyspKHDp0CMuXL8e0adPcurCgKApdXV10Crvljn1UVJRdQkKv10MsFsPf3x/p6ek3hPhgIhfDkawRZ0JRFB2aOJQZI0fo6uqiTRvy8vK8PqDRUcrLyzFjxgz4+/tDLBbb1aJpKUIKCwvx9ttvY9++fbjtttuwceNGLFu2DMA1G+Po6Gh6BoSFxRtgBQgLC4sV58+fx/bt2yESidDS0tJvGFdfC+BZs2bh4sWLLj5T76Orqwtff/018vLycOLECcTGxkIoFGLVqlUAQAcgfvTRRx7VWkF27IkY0Wq1iIqKQkxMDKKiovrdsdfpdBCLxQgMDHR5JYcJXBXKR7JGSMCkZdaIMzNdKIpCWVkZuru7GU9sV6lUyMnJQUhICA4fPuyVtsvDxWw2Y/HixTh//jzOnTuHW265xa7fsxQhYrEY77zzDr788kvccsst2Lx5MyIiInDfffdh3LhxOHjwoMfm6bCw9MW7G3FZWFicjlqtRkZGBh599FGsXr263/ssWbIEn332Gf1vT2ul8FRCQ0Px0EMP4aGHHkJPTw+OHTuGvLw8LF68GBRF4dZbb8W6detgNps9qlrA4XAwevRojB49GlOmTIFarYZMJkNdXR3Kysqs2of8/Pyg1WohEokwevTo66o83ojJZHLZDEtAQADi4+PpgEmSNVJdXY2goCDExMSAy+UiKChoyCKV5Mp0dXUhKyuLUfGhVquxZs0ajBo1CgcOHLgpxQdwbTB8ypQp+Oabb3DhwgXccsstdrVPWQ6cCwQCbNy4Eb6+vvjiiy/wzDPPwGw2o7y8HHw+nxUfLF4FK0BYWFisWLp0KZYuXTrgffz9/TFmzBgXndGNSXBwMO69916MHTsWJ06cgFAohNlsxpo1axAUFISVK1ciJycHs2fP9jgxQtLBExISoFarIZfLcfXqVZSXlyM0NBRqtRoRERFITU31qErOUCAD9BwOB3w+36V/C39/f4wbNw7jxo2jM13kcjnq6uqGnDVCxEdnZyfjlQ+NRoN7770XZrMZR48evalahCzFBfn/2bNn46OPPsKPP/4IwH63KksRkpGRgY0bN8LPzw979uyBRqPBE088gQ8//JCx58LCwgSsAGFhYXGYgoICOtdg3rx5ePPNNxETE+Pu0/I6Tp8+jbvvvhvbt2/Hk08+CQDQarX45ptvkJubiwcffBAjRoxAdnY2cnJycOutt3qUaxAABAUFYdKkSZg0aRI6OjpQVFQEHx8fyOVyFBYW0ins3rjzTcSHj4+P2wfoLTNdhpo1QlEUysvLoVQqkZWVxejfRKvV4oEHHoBGo8HJkydveOtwIhDa2toQFRVl9Tcg/5+ZmYnAwEDU1NSgt7fXoZY6S4GZmpqKZ599Fmq1GqGhoaz4YPFK2BkQFhYWm/SXBvzll18iODgY8fHxuHLlCl555RUYjUaIRKKbbrB0OBw9ehT33nsvPv74Yzz00EP93sdgMKCgoAD79+/HwYMHYTKZkJ2dDaFQiDvuuMOjWt/UajUKCwsRGxuLxMRE6PV6epZBqVQiJCSEFiPOnGVgCqPRSC/u3S0+BsLSRlmhUNjMGqEoChUVFWhvb2dcfOh0Ojz88MOQyWQ4ffo0wsPDGTuWJ3Hs2DG8+OKLSEhIQGpqKmbOnIno6GjMnDkTJpMJPj4+SElJQXV1Nb777ju750Bs0dTUhLFjxzrp7FlYXAsrQFhYWGzSnwDpS0tLC+Lj47F3717cfffdrjs5L+fy5cuorKxEdna2Xfc3Go347rvvsG/fPhw8eBC9vb1YtmwZhEIhFi5c6NYKg0qlglgsxtixY/vNPNHr9bTLU0dHB4KCgmgxEhwc7Kaztg2xDh4xYgTjOSzOxFbWSExMDDo6OmjxweSsgMFgwCOPPIK6ujqcPXsWkZGRjB3Lk7h69Srmzp2LxsbG627LyMhAaGgo7rnnHnz88ce4fPky9u3bh+zsbJhMJq95fbGwOBNWgLCwsNjEHgECAImJifjNb36DF154wTUndpNjMpnwww8/IDc3FwcOHEBHRweWLFmCnJwc3HXXXS7tte/u7qZtRSdPnjzo/cksg0wmQ3t7OwICAuj2oZCQELfPjBgMBojFYvj5+bnUOphTVQVObS2ohARQU6YM+/EsncuuXr0Ko9GIiIgIxMbGMpY1YjQa8etf/xrl5eU4e/bsTdeW2dTUBAC4ePEipFIpampq8MMPP0Cn06G1tdXqvllZWThy5Ai4XC4rQlhuSlgBwsLCYhN7BEh7ezvGjh2Ljz/+GI888ojrTo4FwLUWnJ9//pkWI83NzVi0aBGEQiGWLl3KaO99Z2cnJBIJJk+ejPj4eId/32g0or29HTKZDG1tbfDz86PFSGhoqMvFiKX4yMjIcI17V0cH/B99FL5nztA/Mi1cCN2uXcAwW5coisLly5chk8kwffp0OvxQpVI5PWvEZDLhySefhFgsRn5+/k1pUtGfq5VMJoNWq8X58+chk8lQUFCAsrIy1NfXY/bs2fjyyy8xbtw4NlCQ5aaDFSAsLCxW9PT0oLq6GsA1y9F3330X8+fPR0REBCIiIvDaa69h9erViI2NRV1dHV566SU0NDSgvLz8hh809XTMZjOKioqwf/9+5OXloa6uDgsXLsTKlSuxfPlypy7qlUolJBIJEhMT7UqCHgzLwWqFQmE1WB0eHs64GDEYDPQck8vEBwB/oRA++fngmEz0zyhfX5jnz4fu0KEhPy5FUaiqqkJrayuysrKs5m40Gg3dEueMrBGTyYQ//OEP+O6771BQUHDTzyUQMWGZ4UFoa2vDiRMn8Le//Q1VVVXIysrCV199hYkTJ7IihOWmghUgLCwsVhQUFGD+/PnX/Xzt2rX44IMPkJOTA4lEgs7OTsTGxmL+/Pn429/+5pRFKIvzIEFz+/fvx4EDB1BRUYH58+dDKBRixYoViIiIGPKivr29HUVFRZg6dSoji03LwWq5XA4Oh4Po6GhwuVyEh4c7fZFGEttHjRqF9PR0ly0COVVVCODxbN6uKSoaUjsWRVGorq5Gc3MzsrKyBmzJs8waIfM5jmSNmM1mPPfcczhz5gzy8/OHVAm72eju7saBAwfw1ltvobKyEnw+H1999RUSEhJYEcJy08AKEBYWFpYbHNKKk5ubi7y8PBQVFeG2225DTk4OsrOzERMTY7cYUSgUKCkpwbRp0xAbG8vwmV9b4FoOVptMJlqMREREDLt3Xq/XQyQSuSWx3efkSYwawLhBm5cH8+LFDj0mRVGoqalBU1PToOKjL5ZZI21tbYNmjZjNZrz44os4fPgwCgoK7JoBchbnz5/H9u3bIRKJ0NLScl2rKEVR2LRpEz7++GMolUrMmjULO3bsQEpKisvOcSBUKhUOHz6MLVu24NKlS8jIyMDevXsxderUfisnLCw3GqwAYWFhYbmJoCgKtbW19MxIYWEhZs+eDaFQiJUrVyIuLs7m4kcmk6G0tBSpqangcrkuPvNr597V1QW5XA6ZTEa7PHG5XERFRTksRoj4CAoKQmpqqst3npmogNTU1ODq1avIzMwclsNYfy1x5eXlGDt2LBYtWoQRI0bglVdewVdffYX8/HwkJSUN+VhD4fjx4/j+++8hEAiwevXq6wTI1q1b8eabb2LXrl1ISkrCG2+8gfPnz6OystJjWkXVajWOHDmCbdu2QSqVIjIyElKp9KZvYWO5OWAFCAsLC8tNCkVRaGxsRF5eHvLy8nDhwgXMmDEDQqEQQqEQEyZMoMXIRx99hAsXLuDtt99GdHS0m8/c2uVJLpdDq9XSlrNRUVGDujy5W3wQnDkDUltbi4aGBmRlZTnV3thsNkOpVOLNN9/EV199BZPJhJSUFJSXl6OgoAAZGRlOO9ZQ6GuWQVEU4uLisGHDBtqZT6fTgcvlYuvWrfjtb3/rxrO1pre3F8eOHcOzzz6L9PR0HD161N2nxMLiElgBwsLC4hVs2bIFeXl5qKioQEBAAObMmYOtW7di6tSp9H08ve3Ck6Eoim5lyc3NxbfffouMjAwIhUJoNBq89957+Ne//oVVq1a5+1Svg6IoqNVqWoyo1WpERkYiJiYG0dHR1wU26nQ6iEQihISEICUlxb0990ol/NetG7YL1pUrV1BfX4/MzExGd/gNBgNefPFFHD9+HAaDASqVCsuXL8fdd9+NpUuXuiXXpa8Aqa2tRUJCAsRiMfh8Pn0/oVCIsLAw7N692+XnOBC9vb0oLi6mgwlZW16WmwF20omFhcUrOHfuHJ5++mlcvHgRp0+fhtFoxKJFi6BWq+n7bNu2De+++y7ef/99/PzzzxgzZgzuuusuqFQqN565d8DhcBAXF4enn34a33zzDZqbm/HEE09gz5492L59O/h8PiorK1FRUQFP27ficDgIDg5GQkICZs+ejdmzZyMsLAxXr17F+fPnIRKJ0NjYCJ1OR4uP0aNHu7XyQRMeDt2hQ9AUFUGblwdNUdG1yocD4qOurs4l4oOiKLz//vv48ssvceDAAVy9ehUFBQVISEjAX//6V0RFRUEoFKKtrY2xc7AHkrnRt02Qy+Vel8fhCQQGBrLig+WmY4S7T4CFhYXFHk6cOGH1788++wwxMTEQiUS4/fbbQVEU3nvvPbz88st0Ivvu3bvB5XLxxRdfeFTbhadDXKfUajWam5vx9ddfo7m5GXl5edi2bRsSEhKwcuVKrFq1CtOnT3f/Ir4PQUFBmDRpEiZNmgSNRgO5XI7W1lZUVFTAx8eHFiueNOhLTZkyJMer+vp6XLlyxSXiY8eOHXj77bdx8uRJurIgEAggEAjwxhtvoKKiAl9//TUiIiIYOw9H6Pv39YbhblZ8sNwssAKEhYXFLjzNHrKrqwsA6MXOlStX0NraikWLFtH38ff3x7x583DhwgVWgDjIm2++iXfffRfffPMNMjMzAQCPPvoourq6cOTIEeTl5eGOO+7A2LFjkZOTg5ycHJfmZ9hLQEAA4uPjweVyUVhYCD8/P/j4+OD7779HSEgIuFzukPMv3E1DQwNqa2uRmZmJ0aNHM3YciqLwr3/9C2+++SaOHz+OmTNn9nu/5ORkJCcnM3Ye9kJCEFtbW62c2uRyuVvME1hYWK6HFSAsLCw26ejowOXLlzFz5kybwVrugKIoPPfcc7j11luRmpoKYOC2i/r6epefozfz2Wef4e9//zvy8/ORnp5udVtoaCgefvhhPPzww1CpVDh27Bjy8vKwZMkSREVFYeXKlcjJycGMGTM8RoxotVoUFhYiPDwc06dPB4fDgV6vp8P4qqurERQURIsRd8wxOEpDQwNqamogEAgYFx+7d+/Gq6++iq+//hpz5sxh7FjOYtKkSRgzZgxOnz5NV2r0ej3OnTuHrVu3uvnsWFhYAFaAsLCwDABFUVi+fDmUSiUqKipcbrVpi9///vcoLi7Gd999d91t3th24WmsWbMGt956KxITEwe8X0hICO677z7cd9996O3txcmTJ5Gbm4tVq1YhJCQEK1euhFAoxOzZs93WWqLRaCASiRAREYFp06bRrwU/Pz+MHTsWY8eOpfMvZDIZrly5goCAADr/IiQkxONeP42NjaipqQGfz0doaChjx6EoCl988QVeeOEFHDp0CLfffjtjx3KUnp4eVFdX0/++cuUKpFIpIiIiMGHCBGzYsAGbN29GYmIiEhMTsXnzZgQGBuLBBx9041mzsLAQWAHCwsJik8jISDz00EN4//33cerUqUEFiCvatNavX4/Dhw/j/PnzGDduHP1ztu3CeQQHBw8qPvoSGBiIVatWYdWqVdBqtThz5gxyc3PxwAMPwM/PDytWrMCqVaswd+7cQS1ynQURH5GRkUhOTrYpJEaOHInY2FjExsbCaDSivb0dMpmMbtkiYiQ0NNTtYuTq1auoqqqCQCBAWFgYY8ehKAr79u3Ds88+i/379+POO+9k7FhDobCwEPPnz6f//dxzzwEA1q5di127dmHjxo3QaDR46qmnaEe8U6dOeUwGCAvLzQ5rw8vCwtIvREx8/vnnWLduHR566CH85z//6VdkVFdXY8yYMYy2rlAUhfXr1+PAgQMoKCi4boFMvP+fffZZbNy4EcC1touYmBiP8/6/mTAYDMjPz8f+/ftx6NAhmM1mLF++HKtWrcK8efOus8h1FhqNBoWFhYiOjsbUqVOHJBz6C+MjYiQ8PNzlYqSpqQmVlZXg8/kId8AlaygcPHgQTzzxBPbu3YsVK1YweiwWFpabD1aAsLCwDEhZWRkWLFiA0NBQnD17FmPHjrWyijx8+DB++9vfQiaT4U9/+hNjPdZPPfUUvvjiCxw6dMgq+yM0NBQBAQEArqUfb9myBZ999hnddlFQUOBR6cc3M0ajEd9++y3279+PgwcPore3F8uXL4dQKMSCBQswatQopxynt7cXIpFoWOKjL2azGR0dHZDL5ZDL5bRTGJfLRXh4OOOVv+bmZlRUVLhEfHz99dd49NFH8d///tcjc19YWFi8H1aAsLCwDIjRaERqaiouX76M0tJSTJ8+nb7tr3/9K3bu3In29nY888wz+PWvf43U1FRGWrFsLSI/++wzrFu3DsAvQYQfffSRVRAhGVRn8RxMJhMuXLiA3NxcHDhwAJ2dnViyZAlycnJw1113DdmVqre3F4WFheByuUhKSmKkSmE2m9HZ2UmLEZPJRIuRiIgIp8+7EPHB4/EYt7g9efIkfvWrX+Hf//437rvvPkaPxcLCcvPCChAWFhabECHx8ssvY8uWLfjrX/+Kv/71r+jo6MBf//pX7NixAz4+Pnj99dfx7LPP0pWIwR6PhMJNGULuAcuNh9lsxk8//USLEWKnLBQKsWTJErurV2q1GiKRCGPGjEFiYqJLWqQoikJXVxfkcjlkMhkMBgOioqLA5XIRFRU1bDHS0tKC8vJyZGRkIDIy0kln3T9nz57F/fffjw8//BAPPfSQ2+ddWFhYblw8wyORhYXFIyFVjMmTJwMAVCoVfvrpJzz++OPYsWMHEhMT8eGHH+Kll14aVHxY8v777yMpKQmTJk3Ciy++CKlUCgAel7DN4hp8fHxwyy23YPv27bh8+TLOnz+P5ORkbNmyBRMnTsR9992HL774Ap2dnTZfIyqVCiKRCLGxsS4TH8C1ylxYWBiSkpJw6623IisrC4GBgaiurkZBQQGKiorQ0tICg8Hg8GO3tra6THycP38eDzzwAP7xj3+w4oOFhYVx2AoICwvLoDQ2NmLOnDno7u7G6NGj0dTUhMzMTLzzzju0Nae9drdmsxkrVqzAqVOnMGrUKPT29gIAiouLvbJVasuWLcjLy0NFRQUCAgIwZ84cbN261WpOZd26ddi9e7fV782aNQsXL1509el6FRRFobS0FPv378eBAwdQWVmJ+fPnIycnB8uXL0dERAQ4HA6kUikefPBBfPzxx5g7d65HLJ4pioJarYZMJoNcLodarUZkZCRiYmIQHR096PC9TCZDaWkpMjIyEBUVxei5/vDDD1i1ahW2bt2KJ5980iOuHwsLy40NK0BYWFgGpbq6GvPmzUNLSwtGjBiBO+64A3v37nWoH520X4lEIixatAjh4eH48MMPUVdXh8uXL2Pbtm0MPgPmWLJkCe6//37MmDEDRqMRL7/8MkpKSnDp0iUEBQUBuCZAZDIZPvvsM/r3/Pz8GO/nv5GgKAqVlZXIzc1FXl4eSkpKcNttt2Hu3Ll4//33cffdd+O9997zmPDDvqjVanpmRKVSITw8nHbU8vf3t7ovER/p6emIjo5m9Lx+/vlnCIVCvP7661i/fj0rPlhYWFwCK0BYWFj6hThdffvtt3j33Xdx6NAhAMADDzyA9957D9HR0VZuWINBBMjbb7+NjRs34rHHHsMnn3zC5FNwCwqFAjExMTh37hxdHVq3bh06Oztx8OBB957cDQJFUaitrcXOnTvx/vvvIz4+HlwuF6tWrcLKlSsRGxvr0QtpjUZDi5Guri6EhobSYkSlUqGkpMQl4kMi+X/t3XlYlPX+//HXCAoo6pE0wA0XQHHheFzDrlIUTHJB0TT1ojhmR8ssv7ZrKS3aejyWZifN0kzDjqjkUVGsAMkNzYU0S1LTlEVZ1AREhvn94W/miIhiyT0gz8d1eV12z33PvGeCy/s1n+W9RwMHDtS0adP09NNPV+rPDMDtpXJ+VQTA7hwcHJSYmKgxY8YoJiZGzZo1sz1mbYB2Mwtsrd9Mf/PNN5Kkvn37ymw233brPs6ePStJpUY34uPjdeedd8rX11ePPvqoMjMz7VHebcFkMik/P19Lly7Viy++qLi4OIWFhWn16tVq27atgoODNXfuXB0/frxS/ny5uLjIy8tL3bp10z333CMPDw+dOXNGSUlJ2rdvn9zd3W2jZxUlJSVFgwcP1rPPPkv4AGA4RkAA2FhHKS5cuKAvvvhCjz32mMxms8aMGaMXXnjBthj2yJEjN3WDZH3effv22bZYLU9n9arGYrEoNDRUOTk52rJli+34ihUr5OrqKi8vLx09elQvv/yyioqKtHv37lLTb3Bj+/fvV9++ffXkk0/q5Zdfth23WCw6deqUVq9erejoaCUlJalTp04KDQ1VaGioWrVqVWlvtE+fPq19+/apSZMmys/PV3Z2turUqSN3d3fdeeedt7TJ58GDB3X//ffr8ccf14wZMyrtZwLg9kUAASDpf4vIi4uLNWnSJC1atEiFhYV6/fXXNWHCBLm5uem+++7T5s2btXr1ag0ePLjcz20NIHPmzNGUKVMUHh6uDz744Lo3VVfWY7FYbnlvhYowceJErVu3TklJSWratGmZ56WlpcnLy0tRUVEKCwszsMKqr6CgQD4+PpowYYKmTZtW5nkWi0WZmZlas2aNoqOjFR8fr3bt2ik0NFRDhgypsB4hf8SZM2e0b98+dejQQe7u7pIud5A/c+aMMjIylJWVJRcXF9s0rbp16/7h2n/++WeFhIQoIiJCs2bNqjSfAYDqxdHeBQCoHEwmk9LT0xUREaFNmzapTp06WrZsmcLCwmw3Kd7e3oqLi9PRo0clqdxrQKzTr77++mtJUnBwcJkjKNbgYX3NKxcVFxcXlzpWWUyaNElfffWVEhMTrxs+JMnT01NeXl46fPiwQdXdPpydnZWYmKiWLVte9zyTySR3d3eNHz9e//jHP5Sdna2YmBitWrVKb731llq3bq3Q0FANHTpUfn5+dvuZysrK0v79+9W+fXtb+JCkmjVrytPTU56enioqKlJWVpYyMjK0a9cu1apVyxZG6tevX+4Q8csvv2jgwIEaPXq0Zs6cSfgAYDeMgACQJEVFRWnu3Lnatm2bunbtqpdeekmDBw8u0dV848aNCgkJUe/evfX111+Xe9vdGjVq6MCBAwoKCpKjo6M2bdokPz+/Mq+JiYlRamqqfvzxR7m6uiooKEghISGVchTEYrFo0qRJWr16teLj4+Xj43PDa7KystSkSRMtWLBADz30kAFV4kq5ublau3atVq1apY0bN6pp06a2MOLv729YGMnKytK+ffvk5+cnT0/Pcl1jNpuVlZWlzMxMnT59Wg4ODrYw0qBBgzJ/J48dO6aQkBANGjRI77//fqUM8QCqD0ZAAEiSfvjhB23btk2DBg3SzJkzbT05rrxRad68uZycnHTy5EllZ2fb+jCUx7fffquMjAyNGjWqzBGCU6dO6ZlnntHKlStVVFRkO/7+++/Ly8tLEyZM0NixY0vtDmQ2m2UymexyUzVx4kQtX75cMTExqlu3rtLT0yVJ9evXl4uLi37//XdFRkZq2LBh8vT01LFjxzR16lQ1bNhQQ4cONbxeXN5EITw8XOHh4Tp//rzWr1+v6Oho3XfffWrYsKFtmlbXrl0r7GcqOztb+/btU9u2bcsdPiSVCBzFxcXKzs5WZmam9u/fL5PJpEaNGsnZ2VlNmjSxrS86efKkBgwYoP79+1eK8BEZGalXXnmlxDF3d3fb7w6A2x8jIABKuHDhwjWnR1lHMgYMGKANGzZo7dq1GjBgQLmfd+jQoYqJidGiRYsUERFhCy7WKVenTp3SjBkztGjRIrVs2VLDhw/XyJEjlZqaqq+//lpLly5VQUGBpk+frsjISNvzFhYWlmrqZjabVaNGDUOmmJT1Gp9++qkiIiKUn5+vIUOGaM+ePcrNzZWnp6cCAwP12muvldhZDPaXl5en2NhYRUdHa926dapXr54GDx6s0NBQ3XXXXbdsBC4nJ0d79uxRmzZt1KRJk1vynMXFxcrNzVVmZqbefvttrVu3Tr169VJQUJDmzZune++9VwsXLqwUo4iRkZFauXKlNm/ebDvm4OBQ4dsOA6g8GAEBIEkqKiqSo6NjmWszrN+aNm/eXJJ05MiRGz6nNbQcOnRIO3fulIeHh7p3717ipt369yVLligqKkqenp5aunSpevbsKUnq3LmzRowYoRkzZmjy5Mk6ffq07dqTJ08qMDBQvr6+Wrp0qRo0aCDpf9sDl7c7+59xo+9wXFxctHHjxgqtAbdG7dq1FRYWprCwMBUUFCguLk7R0dEaOXKknJycNGjQIA0dOlR33323HB3/2D+f1vDh6+t7y8KHdPn3083NTW5ublq4cKG+/fZbRUVF6bXXXtO5c+eUl5en1atXKyQkpMK3+C0PR0dHeXh42LsMAHbCJFAAklTuG6oHH3xQkjRv3jyZzeZyXZOQkKC0tDTdc889Jb71t968Z2RkaNWqVbp06ZKefvppW/iwWCwym80qLi5W48aN9dZbb+m5556zXb9161alpqYqJydHBw4c0Jdffqknn3xSixcvVk5Ozh8KH9aF7gUFBTd9LW4fzs7OGjRokBYvXqz09HQtXrxYFotFDz/8sLy9vTVx4kRt3rxZhYWF5X7O3NxcW/i40UYFf4aDg4M6deqklJQU9enTR0lJSWrdurVeeuklNWrUSGFhYVq2bJnOnTtXYTXcyOHDh9W4cWO1bNlSDz74YLm+0ABw+2AKFoCbtnv3bqWkpCgsLEz16tW74fkPPPCAoqOjtWDBAo0dO9Y2mmIdIVmzZo1GjRqlDh066JNPPlHHjh3LNXoxbtw4LV26VC1btpTFYtHhw4fl4OAgs9msBg0aaN68eRo1alSp66zB5lqhy7qz17Bhw7Rv3z6NHz9eDzzwgFq0aFG+Dwe3taKiIiUmJmrlypVas2aNCgoKNGDAAA0ZMkSBgYFydna+5nU5OTnau3evvL29K3zqXU5OjgYOHCgvLy99+eWXtimKFotFBw8e1MqVKxUdHa133nlH9913X4XWci0bNmxQXl6efH19lZGRoddff12HDh3SgQMHdMcddxheDwDjMQIC4KZ16dJFERER1w0f1u82UlNTtWPHDjVs2FDdu3cvsQDW+vcff/xRFy9elL+/v21aSlnhw/q8p0+fVnJysi5duqS0tDQ9++yzysjI0ObNm/XII4/o/PnzmjZtmu2bVbPZrJ9++kkZGRkymUxljvg4ODjYwk96erqef/55tWrVSmPHjrXrN8Z/xIcffih/f3/Vq1dP9erVU0BAgDZs2GB73GKxKDIyUo0bN5aLi4t69+6tAwcO2LHiys/R0VF9+vTR/PnzdeLECa1Zs0Zubm76v//7P7Vs2VJjx47VV199pby8PNs1iYmJuvfee+Xh4VHh4ePs2bMKDQ1V48aNtWLFihLro0wmk9q3b68ZM2Zo//796tevX4XWUpaQkBANGzZMHTt2VFBQkNatWyfp8jRMANUDAQTATbNOUyrPOfHx8frtt990zz33yMvLq9R5FovFtluPk5OT3NzcyvW8W7Zs0aFDh+Tt7a0FCxZo3LhxatSokXr16qWFCxcqICBAx44d044dOxQTE6OAgAD16tVLrVu3VkBAgD7//PMSO21dyWQy2RbJBgcHq1atWnJ2di7XaE9l0rRpU7355pvatWuXdu3apT59+ig0NNQWMt5++23Nnj1b8+bNU3Jysjw8PBQcHKzz58/bufKqwcHBQffee6/ee+89HTt2zLal77Rp09SiRQuFh4dr9uzZGj58uEaMGHHdradvhfPnz2vo0KFyc3NTdHS07feqLJWlD0idOnXUsWNH+uIA1QgBBMBNK882ntaF4Nbmg4GBgaUWvxYXF8tkMtm+pbV+a3y9gHNlU8NLly5p2LBh6t+/v6TLoxwXL160vZ4kPf3005o8ebLat2+vkSNHqlOnTtqxY4eeffZZfffdd9d8DevallatWsliscjZ2VlBQUE3fM+VzaBBg3T//ffL19dXvr6+mjlzplxdXbV9+3ZZLBbNmTNH06ZNU1hYmDp06KAlS5YoLy9Py5cvt3fpVU6NGjV011136d1339Xhw4eVkJCg+vXr65VXXpGXl5cOHDigL774QmfPnr3hxgV/xIULFzR8+HC5uLhozZo1ZU4Fq4wuXryoH3/88aa2IwZQtRFAANxy1huso0ePaufOnbrjjjs0YMCAUtOerGHC19dXf/nLX7R161YdOXJENWrUUHFx8TUXuZtMJmVnZyspKUm1atVS//79Vb9+fUmXQ4/1Nfbs2SNJatasmT744AN9+umneu+995SUlKTp06crIyOjxHa+V7KGp507dyo5OVl+fn7q0qXLn/9g7MhsNisqKkoXLlxQQECAjh49qvT09BLTcJycnNSrVy9t3brVjpVWfTVq1FDNmjX11Vdf6bXXXlNUVJQ6deqkOXPmqEWLFho+fLg+++wzZWdn35Iwkp+frxEjRkiS1q5dq9q1a//p56xIzzzzjBISEnT06FHt2LFDw4cP17lz5/Twww/buzQABiGAALjlrDdV69ev14kTJ+Tq6qpvv/22zEZj/fr1U8eOHZWamqrZs2fr3LlzqlGjRqmeBdZAsnXrVh08eFBdu3ZV27ZtS5zj4OCg/Px8JScnS5JeeuklhYSESJJtx6Lg4GC5ubkpLy9Pv/766zVrKigo0K5du3T27Fn16NHjmtPHqoKUlBS5urrKyclJEyZM0OrVq9WuXTvb/wt3d/cS59MQ7s/74Ycf1LdvX02ZMkUvvPCCOnbsqFdffVX79+/X3r171bNnTy1YsECtWrVSaGioPvnkE2VmZv6hMFJQUKBRo0apoKBA//3vf+Xq6loB7+jW+u233zRq1Ci1adNGYWFhqlWrlrZv315lf8cA3DwCCIBbzjqy4ejoqLp16+rXX3/VuHHjFBAQYBuZsLLedC1ZskSBgYGaP3++/P399dRTT+nzzz/Xtm3btHLlStuOWZIUFxcns9msoKCgEmtGrAElPj5e6enp6tatm/r27Wub626d6tW8eXMVFBQoLS2t1LfF1nrS09P13XffydXV1bYtcFXUpk0b7d27V9u3b9djjz2mhx9+WAcPHrQ9fvU6ACN6p9zOzp8/r6CgIE2aNElTp04t8ZjJZJKfn59efvll7d69WwcPHlRwcLCWLl0qHx8f3X///fr3v/+tU6dOlSuMXLx4UeHh4crOztb69ettI4GVXVRUlE6dOqXCwkKdPHlS0dHRateunb3LAmAgAgiACjN+/HhlZWXpm2++0dixY+Xq6ipfX98S55hMJhUXF6tFixZ699139fe//13p6emaO3euHnroId19992KiYmxdTY/e/astmzZIkdHR/Xq1Us1a9Ys8VySFBMTI+ly9/UrA4Y1oBw6dEh5eXlq3ry5GjVqVOJmz/ocP//8s77//nu1bdtWXbt2rZgPyAC1atWSt7e3unbtqjfeeEN//etf9d5779mawF092pGZmVlqVATlV7duXcXGxmr69OnXPc9kMsnb21vPP/+8tm/frtTUVIWGhmrVqlXy8/NTv379NHfuXB0/fvyaYeTSpUuKiIjQyZMntXHjRlsTTgCoCgggACpc79699fHHHyslJUV16tQpdUNlHdn429/+pkWLFiknJ8c2f37OnDl68cUXbedu27ZNP/30k7p06VJq+lWNGjV06dIlbdq0SZJK9Tiwvm50dLSky4u0JZVaa3Lx4kXt3LlTOTk56t69u1q1avVnP4JKw2Kx6OLFi2rZsqU8PDwUFxdne6ywsFAJCQlVesSnMujUqdNNnW8ymeTl5aUpU6Zoy5YtOnbsmB588EHFxsaqY8eOCgwM1L/+9S8dOXJEFotFRUVFGjdunH755RfFxcXROwNAlVO+1scAcAuVNcXHGgRcXFw0cOBADRw4sNQ5q1atUn5+vgIDA0vceFkbCCYkJOjYsWPq3LmzOnToUOJa6wJ1awAZNmyYpP8FIOv0o4yMDCUlJal27dpV+mZ86tSpCgkJUbNmzXT+/HlFRUUpPj5esbGxMplMmjx5smbNmiUfHx/5+Pho1qxZql27tkaPHm3v0qstk8mkJk2aaNKkSXriiSeUkZGhNWvWaNWqVXrllVfk5+cnk8mkvLw8JSYmqlGjRvYuGQBuGgEEQKVx5aJz6xa9V4eV8PBw2zz7K5usWa1du1aSNHjw4BLTs6wBZdu2bcrKypKfn5+8vb1lsVhsAcT6WocPH9b333+vNm3aqFu3brf8fRolIyND4eHhSktLU/369eXv76/Y2FgFBwdLkp577jnl5+fr8ccfV05Ojnr06KFNmzapbt26dq4c0uWfRw8PD02YMEHjx49Xdna2li9frjfffFMJCQm2aXQAUNWYLBWxITkA2IHZbFarVq104sQJJScnl9g6t6ioSI6OjnryySc1b948RUZGavr06bbjVoWFhZo9e7amTp2q8ePH68MPP7THWwEA4LbFGhAAVYrZbC5zh6DU1FSlpaWpSZMmZU6/+s9//iNJtr4JV06/kmSbfuXi4qKAgIAKeQ8AAFRnTMECUKVc3RvkSm3atFFhYaGOHz8uJycn23Hr9Kvdu3crIyNDvr6+tgXsV0+/Sk1N1a5du+Tj46Pu3btX4DsBAKB6YgQEwG3Duoi9efPmJY5bw8XChQslSaGhoZIuT8u60qVLl7R7925lZmaqW7duatOmTUWXXK19+OGH8vf3V7169VSvXj0FBARow4YNtscjIiJs64Csf+666y47VgwAuBUYAQFw2yhrdMQ6yvHEE0+oqKhIY8eOLXHcuvtVZmamkpKS5OTkpJ49e9KQr4I1bdpUb775pry9vSVdbkYZGhqqPXv2qH379pKk/v3769NPP7Vdc62NBwAAVQuL0AFUe9Yu6wkJCRo9erTc3NwUFRVluwmGcdzc3PTOO+/okUceUUREhHJzc7VmzRp7lwUAuIWYggWg2rjWAnZr+JCk/fv3Ky0tTd26dSvV5BAVy2w2KyoqShcuXCix+D8+Pl533nmnfH199eijjyozM9OOVQIAbgUCCIBqw8HBwTatyrr+44MPPtATTzyhZcuWKS4uTjVr1lTPnj2vu9gdt05KSopcXV3l5OSkCRMmaPXq1WrXrp0kKSQkRMuWLdM333yjf/7zn0pOTlafPn108eJFO1ddvcyfP18tW7aUs7OzunTpoi1btti7JABVHFOwAFRrHTp00MGDB23/3blzZ33yySfy9/e3Y1XVh3XXstzcXEVHR+vjjz9WQkKCLYRcKS0tTV5eXoqKilJYWJgdqq1+VqxYofDwcM2fP1933323PvroI3388cc6ePBgqc0eAKC8CCAAqrVLly5p3bp1+uyzzxQbG6ugoCBFR0eX6KIO4wQFBal169b66KOPrvm4j4+Pxo0bp+eff97gyqqnHj16qHPnziUacvr5+WnIkCF644037FgZgKqMXbAAVGs1a9bUkCFDNGTIEFksFh0/fpzwYUcWi6XMKVZZWVk6ceKEPD09Da6qeiosLNTu3bv1wgsvlDjer18/bd261U5VAbgdEEAA4P8zmUzy8vKydxnVxtSpUxUSEqJmzZrp/PnzioqKUnx8vGJjY/X7778rMjJSw4YNk6enp44dO6apU6eqYcOGGjp0qL1LrxbOnDkjs9ksd3f3Esfd3d2Vnp5up6oA3A4IIAAAu8jIyFB4eLjS0tJUv359+fv7KzY2VsHBwcrPz1dKSoo+++wz5ebmytPTU4GBgVqxYoXq1q1r79Krlav74Vj75gDAH0UAAQDYxaJFi8p8zMXFRRs3bjSwGlytYcOGcnBwKDXakZmZWWpUBABuBtvwAgCAUmrVqqUuXbooLi6uxPG4uDj17NnTTlUBuB0wAgIAAK5pypQpCg8PV9euXRUQEKAFCxbo+PHjmjBhgr1LA1CFMQICAMANvPHGGzKZTJo8ebLtmMViUWRkpBo3biwXFxf17t1bBw4csF+RFWDkyJGaM2eOXn31VXXq1EmJiYlav349mzUA+FPoAwIAwHUkJydrxIgRqlevngIDAzVnzhxJ0ltvvaWZM2dq8eLF8vX11euvv67ExET99NNPLJQHgOtgBAQAgDL8/vvvGjNmjBYuXKgGDRrYjlssFs2ZM0fTpk1TWFiYOnTooCVLligvL0/Lly+3Y8UAUPkRQAAAKMPEiRM1YMAABQUFlTh+9OhRpaenq1+/frZjTk5O6tWrF036AOAGWIQOAMA1REVF6fvvv1dycnKpx6xb016rSd+vv/5qSH0AUFURQAAAuMqJEyf01FNPadOmTXJ2di7zPJr0AcDNYwoWAABX2b17tzIzM9WlSxc5OjrK0dFRCQkJev/99+Xo6Ggb+aBJHwDcPAIIAABX6du3r1JSUrR3717bn65du2rMmDHau3evWrVqJQ8PjxJN+goLC5WQkECTPgC4AaZgAQBwlbp166pDhw4ljtWpU0d33HGH7fjkyZM1a9Ys+fj4yMfHR7NmzVLt2rU1evRoe5QMAFUGAQQAgD/gueeeU35+vh5//HHl5OSoR48e2rRpEz1AAOAGaEQIAAAAwDCsAQEAAABgGAIIAAAAAMMQQAAAAAAYhgACAAAAwDAEEAAAAACGIYAAAAAAMAwBBAAAAIBhCCAAAAAADEMAAQAAAGAYAggAAAAAwxBAAAAAABiGAAIAAADAMAQQAAAAAIYhgAAAAAAwDAEEAAAAgGEIIAAAAAAMQwABAAAAYBgCCAAAAADDEEAAAAAAGIYAAgAAAMAwBBAAAAAAhiGAAAAAADAMAQQAAACAYQggAAAAAAxDAAEAAABgGAIIAAAAAMMQQAAAAAAYhgACAAAAwDAEEAAAAACGIYAAAAAAMAwBBAAAAIBhCCAAAAAADEMAAQAAAGAYAggAAAAAwxBAAAAAABiGAAIAAADAMAQQAAAAAIYhgAAAAAAwDAEEAAAAgGEIIAAAAAAMQwABAAAAYBgCCAAAAADDEEAAAAAAGIYAAgAAAMAwBBAAAAAAhiGAAAAAADAMAQQAAACAYQggAAAAAAxDAAEAAABgGAIIAAAAAMMQQAAAAAAYhgACAAAAwDAEEAAAAACGIYAAAAAAMAwBBAAAAIBhCCAAAAAADEMAAQAAAGAYAggAAAAAwxBAAAAAABiGAAIAAADAMAQQAAAAAIYhgAAAAAAwDAEEAAAAgGEIIAAAAAAMQwABAAAAYBgCCAAAAADDEEAAAAAAGIYAAgAAAMAwBBAAAAAAhlkUdvMAAADkSURBVCGAAAAAADAMAQQAAACAYQggAAAAAAxDAAEAAABgGAIIAAAAAMMQQAAAAAAYhgACAAAAwDAEEAAAAACGIYAAAAAAMAwBBAAAAIBhCCAAAAAADEMAAQAAAGAYAggAAAAAwxBAAAAAABiGAAIAAADAMAQQAAAAAIYhgAAAAAAwDAEEAAAAgGEIIAAAAAAMQwABAAAAYBgCCAAAAADDEEAAAAAAGIYAAgAAAMAwBBAAAAAAhiGAAAAAADAMAQQAAACAYQggAAAAAAxDAAEAAABgGAIIAAAAAMMQQAAAAAAY5v8BC1jxCMB67YIAAAAASUVORK5CYII=' width=800.0/>\n",
       "            </div>\n",
       "        "
      ],
      "text/plain": [
       "Canvas(toolbar=Toolbar(toolitems=[('Home', 'Reset original view', 'home', 'home'), ('Back', 'Back to previous …"
      ]
     },
     "metadata": {},
     "output_type": "display_data"
    }
   ],
   "source": [
    "# parse the image coordinates - we only want to use calibration balls which lie within the interior volume\n",
    "\n",
    "def is_within_interior_cage(XYZ):\n",
    "    ''' Return True if this 3D values is within the iterior cage,\n",
    "        False otherwise\n",
    "    '''\n",
    "    # define the X, Y and Z ranges of the iterior cage\n",
    "    iterior_cage_lims = np.array([[5,35],[5,35],[0,32]])\n",
    "    #iterior_cage_lims = np.array([[0,40],[0,40],[0,40]])\n",
    "\n",
    "    # preallocate a list to hold the success for the checking of each dimension\n",
    "    dim_successes = [False]*3\n",
    "    # check each dimension, does component lie within the cage component limits?\n",
    "    for i,dim_range in enumerate(iterior_cage_lims):\n",
    "        if dim_range[0] <= XYZ[i] <= dim_range[1]:\n",
    "            dim_successes[i] = True\n",
    "    # If all 3 are successes, then we return True\n",
    "    if np.all(dim_successes):\n",
    "        return True\n",
    "    else:\n",
    "        return False\n",
    "    \n",
    "    \n",
    "new_meas_list = []\n",
    "new_im_list = []\n",
    "within_mask = np.zeros((total_numBalls,), dtype=bool)\n",
    "\n",
    "for ballIdx in range(total_numBalls):\n",
    "    if is_within_interior_cage(full_measured_coordinates[ballIdx]):\n",
    "        new_meas_list.append(full_measured_coordinates[ballIdx])\n",
    "        new_im_list.append(full_image_coordinates[:,ballIdx])\n",
    "        within_mask[ballIdx] = True\n",
    "        \n",
    "        \n",
    "fig = plt.figure(figsize=(8,8))\n",
    "ax = fig.add_subplot(111, projection='3d')\n",
    "\n",
    "\n",
    "ax.scatter(full_measured_coordinates[within_mask,0], \n",
    "           full_measured_coordinates[within_mask,1], \n",
    "           full_measured_coordinates[within_mask,2], \n",
    "           marker='o', c='g', depthshade=False)\n",
    "#c=[1,1,0.1,1]\n",
    "\n",
    "ax.scatter(full_measured_coordinates[~within_mask,0], \n",
    "           full_measured_coordinates[~within_mask,1], \n",
    "           full_measured_coordinates[~within_mask,2], \n",
    "           marker='o', c='r', depthshade=False)\n",
    "\n",
    "ax.set_xlabel('X [cm]', fontsize=16)\n",
    "ax.set_ylabel('Y [cm]', fontsize=16)\n",
    "ax.set_zlabel('Z [cm]', fontsize=16)\n",
    "\n",
    "\n",
    "#plt.tight_layout() #Tatsuo added 20221030\n",
    "#plt.savefig('calibration_structure.pdf')\n",
    "#plt.savefig('calibration_structure.png', dpi=300)"
   ]
  },
  {
   "cell_type": "code",
   "execution_count": null,
   "metadata": {},
   "outputs": [],
   "source": []
  },
  {
   "cell_type": "code",
   "execution_count": 6,
   "metadata": {},
   "outputs": [
    {
     "name": "stdout",
     "output_type": "stream",
     "text": [
      "(168, 3)\n",
      "(3, 168, 2)\n",
      "168\n"
     ]
    }
   ],
   "source": [
    "# Now define measured and image coordinates to only use interior points\n",
    "measured_coordinates = full_measured_coordinates[within_mask]\n",
    "image_coordinates = full_image_coordinates[:, within_mask]\n",
    "\n",
    "print(measured_coordinates.shape)\n",
    "print(image_coordinates.shape)\n",
    "\n",
    "numBalls = measured_coordinates.shape[0]\n",
    "print(numBalls)"
   ]
  },
  {
   "cell_type": "code",
   "execution_count": null,
   "metadata": {},
   "outputs": [],
   "source": []
  },
  {
   "cell_type": "code",
   "execution_count": null,
   "metadata": {},
   "outputs": [],
   "source": []
  },
  {
   "cell_type": "code",
   "execution_count": 7,
   "metadata": {},
   "outputs": [
    {
     "name": "stderr",
     "output_type": "stream",
     "text": [
      "/tmp/ipykernel_2176512/2271114367.py:33: UserWarning: Tight layout not applied. The left and right margins cannot be made large enough to accommodate all axes decorations. \n",
      "  fig.tight_layout()\n"
     ]
    },
    {
     "data": {
      "application/vnd.jupyter.widget-view+json": {
       "model_id": "3f36081cc08843acaea1fe356bcf12df",
       "version_major": 2,
       "version_minor": 0
      },
      "text/html": [
       "\n",
       "            <div style=\"display: inline-block;\">\n",
       "                <div class=\"jupyter-widgets widget-label\" style=\"text-align: center;\">\n",
       "                    Figure\n",
       "                </div>\n",
       "                <img src='data:image/png;base64,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' width=229.99999999999997/>\n",
       "            </div>\n",
       "        "
      ],
      "text/plain": [
       "Canvas(toolbar=Toolbar(toolitems=[('Home', 'Reset original view', 'home', 'home'), ('Back', 'Back to previous …"
      ]
     },
     "metadata": {},
     "output_type": "display_data"
    }
   ],
   "source": [
    "fig = plt.figure(figsize=(2.3,2.3))\n",
    "ax = fig.add_subplot(111, projection='3d')\n",
    "\n",
    "\n",
    "ax.scatter(full_measured_coordinates[within_mask,0], \n",
    "           full_measured_coordinates[within_mask,1], \n",
    "           full_measured_coordinates[within_mask,2], \n",
    "           marker='o', c='g', depthshade=False, s=3)\n",
    "\n",
    "ax.set_xlabel('X [cm]', fontsize=16)\n",
    "ax.set_ylabel('Y [cm]', fontsize=16)\n",
    "ax.set_zlabel('Z [cm]', fontsize=16)\n",
    "\n",
    "ax.set_xlim(5,35)\n",
    "ax.set_ylim(5,35)\n",
    "ax.set_zlim(0,32)\n",
    "\n",
    "# -----------------------------------------------------#\n",
    "\n",
    "ax.view_init(elev=21, azim=-61)\n",
    "\n",
    "ax.set_xticks([5,10,15,20,25,30,35])\n",
    "ax.set_yticks([5,10,15,20,25,30,35])\n",
    "ax.set_zticks([0,5,10,15,20,25,30])\n",
    "\n",
    "ax.set_xticklabels([])\n",
    "ax.set_yticklabels([])\n",
    "ax.set_zticklabels([])\n",
    "ax.set_xlabel('', fontsize=16)\n",
    "ax.set_ylabel('', fontsize=16)\n",
    "ax.set_zlabel('', fontsize=16)\n",
    "\n",
    "fig.tight_layout() \n",
    "#fig.savefig('/home/liam/temp/image_transfer/SI_calibration_panelA_topright.png', dpi=300, transparent=True)"
   ]
  },
  {
   "cell_type": "code",
   "execution_count": null,
   "metadata": {},
   "outputs": [],
   "source": []
  },
  {
   "cell_type": "code",
   "execution_count": null,
   "metadata": {},
   "outputs": [],
   "source": []
  },
  {
   "cell_type": "code",
   "execution_count": null,
   "metadata": {},
   "outputs": [],
   "source": []
  },
  {
   "cell_type": "code",
   "execution_count": null,
   "metadata": {},
   "outputs": [],
   "source": []
  },
  {
   "cell_type": "markdown",
   "metadata": {},
   "source": [
    "## prepare the data to use for building the models"
   ]
  },
  {
   "cell_type": "code",
   "execution_count": 8,
   "metadata": {},
   "outputs": [
    {
     "name": "stdout",
     "output_type": "stream",
     "text": [
      "(168, 4)\n",
      "(168, 4)\n",
      "(168, 4)\n",
      "\n",
      "(168, 2)\n",
      "(168, 2)\n",
      "(168, 2)\n",
      "\n",
      "(168, 3)\n",
      "\n",
      "(168, 6)\n"
     ]
    }
   ],
   "source": [
    "# prepare the image coordinates \n",
    "xz_xy_image_coordinates = np.copy(image_coordinates[:2,:,:].swapaxes(0,1).reshape(numBalls, -1))\n",
    "xy_yz_image_coordinates = np.copy(image_coordinates[1:,:,:].swapaxes(0,1).reshape(numBalls, -1))\n",
    "xz_yz_image_coordinates = np.copy(image_coordinates[::2,:,:].swapaxes(0,1).reshape(numBalls, -1))\n",
    "\n",
    "xz_image_coordinates = np.copy(image_coordinates[0,:,:])\n",
    "xy_image_coordinates = np.copy(image_coordinates[1,:,:])\n",
    "yz_image_coordinates = np.copy(image_coordinates[2,:,:])\n",
    "\n",
    "# I need to transform from (numCams,numBalls,2) to (numBalls,6)\n",
    "flat_image_coordinates = np.copy(image_coordinates.swapaxes(0,1).reshape(-1,6))\n",
    "\n",
    "print(xz_xy_image_coordinates.shape)\n",
    "print(xy_yz_image_coordinates.shape)\n",
    "print(xz_yz_image_coordinates.shape)\n",
    "print()\n",
    "print(xz_image_coordinates.shape)\n",
    "print(xy_image_coordinates.shape)\n",
    "print(yz_image_coordinates.shape)\n",
    "print()\n",
    "print(measured_coordinates.shape)\n",
    "print()\n",
    "print(flat_image_coordinates.shape)"
   ]
  },
  {
   "cell_type": "code",
   "execution_count": null,
   "metadata": {},
   "outputs": [],
   "source": []
  },
  {
   "cell_type": "code",
   "execution_count": null,
   "metadata": {},
   "outputs": [],
   "source": []
  },
  {
   "cell_type": "markdown",
   "metadata": {},
   "source": [
    "## XZ&XY to YZ"
   ]
  },
  {
   "cell_type": "code",
   "execution_count": 9,
   "metadata": {},
   "outputs": [],
   "source": [
    "X_data = np.copy(xz_xy_image_coordinates)\n",
    "Y_data = np.copy(yz_image_coordinates)"
   ]
  },
  {
   "cell_type": "code",
   "execution_count": 10,
   "metadata": {},
   "outputs": [
    {
     "name": "stdout",
     "output_type": "stream",
     "text": [
      "{'estimator__alpha': 0.01, 'preprocessor__degree': 3}\n",
      "-0.3666301740588658\n"
     ]
    }
   ],
   "source": [
    "# ---- STEP1: determine alpha parameter and polydegree ---- #\n",
    "\n",
    "# set the parameters for the grid search\n",
    "alpha = [1e-10, 1e-7, 1e-6, 1e-4, 1e-5, 1e-3, 0.001, 0.01, 0.1, 1]\n",
    "polyDegList = [1, 2, 3, 4]\n",
    "parameters = {'estimator__alpha': alpha,\n",
    "              'preprocessor__degree': polyDegList}\n",
    "\n",
    "# set the pipeline for building the model\n",
    "pipe = Pipeline(steps=[\n",
    "    ('scaler', StandardScaler()),\n",
    "    ('preprocessor', PolynomialFeatures(include_bias=True)),\n",
    "    ('estimator', Ridge())\n",
    "])\n",
    "\n",
    "# set the gridsearch score metric\n",
    "score = 'neg_mean_squared_error'\n",
    "\n",
    "# perform a gridsearch\n",
    "getter_GS = GridSearchCV(pipe, parameters, cv=3, scoring=score) \n",
    "getter_GS.fit(X_data, Y_data)\n",
    "\n",
    "\n",
    "print(getter_GS.best_params_)\n",
    "print(getter_GS.best_score_)"
   ]
  },
  {
   "cell_type": "code",
   "execution_count": 11,
   "metadata": {},
   "outputs": [
    {
     "name": "stdout",
     "output_type": "stream",
     "text": [
      "t = 0.21793031692504883 s\n",
      "\n"
     ]
    },
    {
     "data": {
      "text/plain": [
       "<matplotlib.legend.Legend at 0x7f63bc865c10>"
      ]
     },
     "execution_count": 11,
     "metadata": {},
     "output_type": "execute_result"
    },
    {
     "data": {
      "application/vnd.jupyter.widget-view+json": {
       "model_id": "9b86425949c04b2fba479d2c4d8d8f8c",
       "version_major": 2,
       "version_minor": 0
      },
      "text/html": [
       "\n",
       "            <div style=\"display: inline-block;\">\n",
       "                <div class=\"jupyter-widgets widget-label\" style=\"text-align: center;\">\n",
       "                    Figure\n",
       "                </div>\n",
       "                <img src='data:image/png;base64,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' width=640.0/>\n",
       "            </div>\n",
       "        "
      ],
      "text/plain": [
       "Canvas(toolbar=Toolbar(toolitems=[('Home', 'Reset original view', 'home', 'home'), ('Back', 'Back to previous …"
      ]
     },
     "metadata": {},
     "output_type": "display_data"
    }
   ],
   "source": [
    "# ---- STEP2: examine the residuals and the amount of over-fitting ---- #\n",
    "# \n",
    "# using the above-determined alpha and polydeg, examine the residuals for \n",
    "# a train-test split\n",
    "\n",
    "# the number of training test splits\n",
    "numPermutations = 100\n",
    "# the proportion of the dataset to include in the train split\n",
    "trainFac = 0.9\n",
    "# the binning for plotting the residuals\n",
    "bins = np.arange(0, 3, 0.1)\n",
    "\n",
    "# --------------------------#\n",
    "\n",
    "t0 = time.time()\n",
    "\n",
    "# use the GS results to set the params\n",
    "alpha = getter_GS.best_params_['estimator__alpha']\n",
    "polyDeg = getter_GS.best_params_['preprocessor__degree']\n",
    "\n",
    "# based on the trainFac, determine the number of balls to use for training\n",
    "# we do this just for preallocating the results array below\n",
    "dummy_X_train, _, _, _, = train_test_split(X_data, Y_data, train_size=trainFac)\n",
    "numTrainingBalls = dummy_X_train.shape[0]\n",
    "\n",
    "# preallocate arrays to hold the results\n",
    "train_errors = np.zeros((numPermutations, numTrainingBalls))\n",
    "test_errors = np.zeros((numPermutations, numBalls-numTrainingBalls))\n",
    "\n",
    "\n",
    "\n",
    "for permIdx in range(numPermutations):\n",
    "\n",
    "    # train test split\n",
    "    X_train, X_test, y_train, y_test = train_test_split(X_data, Y_data, train_size=trainFac)\n",
    "\n",
    "    getter = Pipeline(steps=[('scaler', StandardScaler()),\n",
    "                                ('preprocessor', PolynomialFeatures(degree=polyDeg, include_bias=True)),\n",
    "                                ('estimator', Ridge(alpha=alpha))\n",
    "                                ])\n",
    "\n",
    "    getter.fit(X_train, y_train)\n",
    "\n",
    "    train_calculated_coordinates = getter.predict(X_train)\n",
    "    errs = np.linalg.norm(y_train - train_calculated_coordinates, axis=1)\n",
    "    train_errors[permIdx, :] = errs\n",
    "\n",
    "    test_calculated_coordinates = getter.predict(X_test)\n",
    "    errs = np.linalg.norm(y_test - test_calculated_coordinates, axis=1)\n",
    "    test_errors[permIdx, :] = errs\n",
    "        \n",
    "        \n",
    "te = time.time()\n",
    "print('t = {0} s'.format(te-t0))\n",
    "print()\n",
    "\n",
    "# flatten the error arrays for histogramming the distributions\n",
    "train_errors = train_errors.reshape(-1)\n",
    "test_errors = test_errors.reshape(-1)\n",
    "\n",
    "plt.figure()\n",
    "plt.title('Residuals Test: PolyOrd = {0}, alpha = {1}'.format(polyDeg, alpha))\n",
    "plt.hist(train_errors, label='train errors', bins=bins, alpha=0.2, density=True);\n",
    "plt.hist(test_errors, label='test errors', bins=bins, alpha=0.2, density=True);\n",
    "plt.legend()"
   ]
  },
  {
   "cell_type": "code",
   "execution_count": null,
   "metadata": {},
   "outputs": [],
   "source": []
  },
  {
   "cell_type": "code",
   "execution_count": 12,
   "metadata": {},
   "outputs": [],
   "source": [
    "# --------------- STEP3: Fit and save the final model ----------------#\n",
    "getter_name = 'xz_xy_to_yz.joblib'\n"
   ]
  },
  {
   "cell_type": "code",
   "execution_count": 13,
   "metadata": {},
   "outputs": [],
   "source": [
    "# make the final model\n",
    "getter = Pipeline(steps=[('scaler', StandardScaler()),\n",
    "                         ('preprocessor', PolynomialFeatures(degree=polyDeg, include_bias=True)),\n",
    "                          ('estimator', Ridge(alpha=alpha))\n",
    "                          ])\n",
    "\n",
    "python_calibration_folderPath = os.path.join(calibration_folder_path, 'python_calibration_models')\n",
    "os.makedirs(python_calibration_folderPath, exist_ok=True);\n",
    "\n",
    "getter.fit(X_data, Y_data)\n",
    "\n",
    "dump(getter, os.path.join(python_calibration_folderPath, getter_name));"
   ]
  },
  {
   "cell_type": "code",
   "execution_count": 14,
   "metadata": {},
   "outputs": [],
   "source": [
    "# ---- How to load ----#\n",
    "\n",
    "# # load the model\n",
    "# yz_getter_name = 'xz_xy_to_yz.joblib'\n",
    "\n",
    "# python_calibration_folderPath = os.path.join(calibration_folder_path, 'python_calibration_models')\n",
    "# yz_getter = load(os.path.join(python_calibration_folderPath, yz_getter_name));"
   ]
  },
  {
   "cell_type": "code",
   "execution_count": null,
   "metadata": {},
   "outputs": [],
   "source": []
  },
  {
   "cell_type": "code",
   "execution_count": 15,
   "metadata": {},
   "outputs": [
    {
     "data": {
      "text/plain": [
       "(168,)"
      ]
     },
     "execution_count": 15,
     "metadata": {},
     "output_type": "execute_result"
    }
   ],
   "source": [
    "# ---- compute the final residuals plot ---- #\n",
    "\n",
    "# load the model\n",
    "yz_getter_name = 'xz_xy_to_yz.joblib'\n",
    "\n",
    "python_calibration_folderPath = os.path.join(calibration_folder_path, 'python_calibration_models')\n",
    "yz_getter = load(os.path.join(python_calibration_folderPath, yz_getter_name));\n",
    "\n",
    "\n",
    "calculated_im_coordinates = yz_getter.predict(X_data)\n",
    "\n",
    "residuals = np.linalg.norm(Y_data - calculated_im_coordinates , axis=1)\n",
    "residuals.shape"
   ]
  },
  {
   "cell_type": "code",
   "execution_count": null,
   "metadata": {},
   "outputs": [],
   "source": []
  },
  {
   "cell_type": "code",
   "execution_count": 16,
   "metadata": {},
   "outputs": [
    {
     "data": {
      "text/plain": [
       "[<matplotlib.axis.YTick at 0x7f63b8705a60>,\n",
       " <matplotlib.axis.YTick at 0x7f63b87052e0>]"
      ]
     },
     "execution_count": 16,
     "metadata": {},
     "output_type": "execute_result"
    },
    {
     "data": {
      "application/vnd.jupyter.widget-view+json": {
       "model_id": "ebb66c2ea6b8487fafa895c23badb877",
       "version_major": 2,
       "version_minor": 0
      },
      "text/html": [
       "\n",
       "            <div style=\"display: inline-block;\">\n",
       "                <div class=\"jupyter-widgets widget-label\" style=\"text-align: center;\">\n",
       "                    Figure\n",
       "                </div>\n",
       "                <img src='data:image/png;base64,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' width=640.0/>\n",
       "            </div>\n",
       "        "
      ],
      "text/plain": [
       "Canvas(toolbar=Toolbar(toolitems=[('Home', 'Reset original view', 'home', 'home'), ('Back', 'Back to previous …"
      ]
     },
     "metadata": {},
     "output_type": "display_data"
    }
   ],
   "source": [
    "fig, axs = plt.subplots()\n",
    "ax = axs\n",
    "\n",
    "# the binning for plotting the residuals\n",
    "bins = np.arange(0, 3, 0.1)\n",
    "\n",
    "ax.hist(residuals, bins=bins);\n",
    "\n",
    "ax.set_ylabel('counts')\n",
    "ax.set_xlabel('residuals [pixels]')\n",
    "\n",
    "ax.set_xlim(0, 2)\n",
    "ax.set_ylim(0, 35)\n",
    "\n",
    "ax.set_xticks([0, 0.5, 1, 1.5, 2]);\n",
    "ax.set_yticks([0, 35])"
   ]
  },
  {
   "cell_type": "code",
   "execution_count": null,
   "metadata": {},
   "outputs": [],
   "source": []
  },
  {
   "cell_type": "code",
   "execution_count": null,
   "metadata": {},
   "outputs": [],
   "source": []
  },
  {
   "cell_type": "code",
   "execution_count": null,
   "metadata": {},
   "outputs": [],
   "source": []
  },
  {
   "cell_type": "markdown",
   "metadata": {},
   "source": [
    "## XY&YZ to XZ"
   ]
  },
  {
   "cell_type": "code",
   "execution_count": 17,
   "metadata": {},
   "outputs": [],
   "source": [
    "X_data = np.copy(xy_yz_image_coordinates)\n",
    "Y_data = np.copy(xz_image_coordinates)"
   ]
  },
  {
   "cell_type": "code",
   "execution_count": 18,
   "metadata": {},
   "outputs": [
    {
     "name": "stdout",
     "output_type": "stream",
     "text": [
      "{'estimator__alpha': 0.01, 'preprocessor__degree': 3}\n",
      "-0.32860322111429663\n"
     ]
    }
   ],
   "source": [
    "# ---- STEP1: determine alpha parameter and polydegree ---- #\n",
    "\n",
    "# set the parameters for the grid search\n",
    "alpha = [1e-10, 1e-7, 1e-6, 1e-4, 1e-5, 1e-3, 0.001, 0.01, 0.1, 1]\n",
    "polyDegList = [1, 2, 3, 4]\n",
    "parameters = {'estimator__alpha': alpha,\n",
    "              'preprocessor__degree': polyDegList}\n",
    "\n",
    "# set the pipeline for building the model\n",
    "pipe = Pipeline(steps=[\n",
    "    ('scaler', StandardScaler()),\n",
    "    ('preprocessor', PolynomialFeatures(include_bias=True)),\n",
    "    ('estimator', Ridge())\n",
    "])\n",
    "\n",
    "# set the gridsearch score metric\n",
    "score = 'neg_mean_squared_error'\n",
    "\n",
    "# perform a gridsearch\n",
    "getter_GS = GridSearchCV(pipe, parameters, cv=3, scoring=score) \n",
    "getter_GS.fit(X_data, Y_data)\n",
    "\n",
    "\n",
    "print(getter_GS.best_params_)\n",
    "print(getter_GS.best_score_)"
   ]
  },
  {
   "cell_type": "code",
   "execution_count": 19,
   "metadata": {},
   "outputs": [
    {
     "name": "stdout",
     "output_type": "stream",
     "text": [
      "t = 0.21169686317443848 s\n",
      "\n"
     ]
    },
    {
     "data": {
      "text/plain": [
       "<matplotlib.legend.Legend at 0x7f63b863f280>"
      ]
     },
     "execution_count": 19,
     "metadata": {},
     "output_type": "execute_result"
    },
    {
     "data": {
      "application/vnd.jupyter.widget-view+json": {
       "model_id": "549cded50867484a9327c665ac45f9d6",
       "version_major": 2,
       "version_minor": 0
      },
      "text/html": [
       "\n",
       "            <div style=\"display: inline-block;\">\n",
       "                <div class=\"jupyter-widgets widget-label\" style=\"text-align: center;\">\n",
       "                    Figure\n",
       "                </div>\n",
       "                <img src='data:image/png;base64,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' width=640.0/>\n",
       "            </div>\n",
       "        "
      ],
      "text/plain": [
       "Canvas(toolbar=Toolbar(toolitems=[('Home', 'Reset original view', 'home', 'home'), ('Back', 'Back to previous …"
      ]
     },
     "metadata": {},
     "output_type": "display_data"
    }
   ],
   "source": [
    "# ---- STEP2: examine the residuals and the amount of over-fitting ---- #\n",
    "# \n",
    "# using the above-determined alpha and polydeg, examine the residuals for \n",
    "# a train-test split\n",
    "\n",
    "# the number of training test splits\n",
    "numPermutations = 100\n",
    "# the proportion of the dataset to include in the train split\n",
    "trainFac = 0.9\n",
    "# the binning for plotting the residuals\n",
    "bins = np.arange(0, 3, 0.1)\n",
    "\n",
    "# --------------------------#\n",
    "\n",
    "t0 = time.time()\n",
    "\n",
    "# use the GS results to set the params\n",
    "alpha = getter_GS.best_params_['estimator__alpha']\n",
    "polyDeg = getter_GS.best_params_['preprocessor__degree']\n",
    "\n",
    "# based on the trainFac, determine the number of balls to use for training\n",
    "# we do this just for preallocating the results array below\n",
    "dummy_X_train, _, _, _, = train_test_split(X_data, Y_data, train_size=trainFac)\n",
    "numTrainingBalls = dummy_X_train.shape[0]\n",
    "\n",
    "# preallocate arrays to hold the results\n",
    "train_errors = np.zeros((numPermutations, numTrainingBalls))\n",
    "test_errors = np.zeros((numPermutations, numBalls-numTrainingBalls))\n",
    "\n",
    "\n",
    "\n",
    "for permIdx in range(numPermutations):\n",
    "\n",
    "    # train test split\n",
    "    X_train, X_test, y_train, y_test = train_test_split(X_data, Y_data, train_size=trainFac)\n",
    "\n",
    "    getter = Pipeline(steps=[('scaler', StandardScaler()),\n",
    "                                ('preprocessor', PolynomialFeatures(degree=polyDeg, include_bias=True)),\n",
    "                                ('estimator', Ridge(alpha=alpha))\n",
    "                                ])\n",
    "\n",
    "    getter.fit(X_train, y_train)\n",
    "\n",
    "    train_calculated_coordinates = getter.predict(X_train)\n",
    "    errs = np.linalg.norm(y_train - train_calculated_coordinates, axis=1)\n",
    "    train_errors[permIdx, :] = errs\n",
    "\n",
    "    test_calculated_coordinates = getter.predict(X_test)\n",
    "    errs = np.linalg.norm(y_test - test_calculated_coordinates, axis=1)\n",
    "    test_errors[permIdx, :] = errs\n",
    "        \n",
    "        \n",
    "te = time.time()\n",
    "print('t = {0} s'.format(te-t0))\n",
    "print()\n",
    "\n",
    "# flatten the error arrays for histogramming the distributions\n",
    "train_errors = train_errors.reshape(-1)\n",
    "test_errors = test_errors.reshape(-1)\n",
    "\n",
    "plt.figure()\n",
    "plt.title('Residuals Test: PolyOrd = {0}, alpha = {1}'.format(polyDeg, alpha))\n",
    "plt.hist(train_errors, label='train errors', bins=bins, alpha=0.2, density=True);\n",
    "plt.hist(test_errors, label='test errors', bins=bins, alpha=0.2, density=True);\n",
    "plt.legend()"
   ]
  },
  {
   "cell_type": "code",
   "execution_count": null,
   "metadata": {},
   "outputs": [],
   "source": []
  },
  {
   "cell_type": "code",
   "execution_count": 20,
   "metadata": {},
   "outputs": [],
   "source": [
    "# --------------- STEP3: Fit and save the final model ----------------#\n",
    "getter_name = 'xy_yz_to_xz.joblib'\n"
   ]
  },
  {
   "cell_type": "code",
   "execution_count": 21,
   "metadata": {},
   "outputs": [],
   "source": [
    "# make the final model\n",
    "getter = Pipeline(steps=[('scaler', StandardScaler()),\n",
    "                         ('preprocessor', PolynomialFeatures(degree=polyDeg, include_bias=True)),\n",
    "                          ('estimator', Ridge(alpha=alpha))\n",
    "                          ])\n",
    "\n",
    "python_calibration_folderPath = os.path.join(calibration_folder_path, 'python_calibration_models')\n",
    "os.makedirs(python_calibration_folderPath, exist_ok=True);\n",
    "\n",
    "getter.fit(X_data, Y_data)\n",
    "\n",
    "dump(getter, os.path.join(python_calibration_folderPath, getter_name));"
   ]
  },
  {
   "cell_type": "code",
   "execution_count": 22,
   "metadata": {},
   "outputs": [],
   "source": [
    "# ---- How to load ----#\n",
    "\n",
    "# # load the model\n",
    "# xz_getter_name = 'xy_yz_to_xz.joblib'\n",
    "\n",
    "# python_calibration_folderPath = os.path.join(calibration_folder_path, 'python_calibration_models')\n",
    "# xz_getter = load(os.path.join(python_calibration_folderPath, xz_getter_name));"
   ]
  },
  {
   "cell_type": "code",
   "execution_count": null,
   "metadata": {},
   "outputs": [],
   "source": []
  },
  {
   "cell_type": "code",
   "execution_count": null,
   "metadata": {},
   "outputs": [],
   "source": []
  },
  {
   "cell_type": "code",
   "execution_count": 23,
   "metadata": {},
   "outputs": [
    {
     "data": {
      "text/plain": [
       "(168,)"
      ]
     },
     "execution_count": 23,
     "metadata": {},
     "output_type": "execute_result"
    }
   ],
   "source": [
    "# ---- compute the final residuals plot ---- #\n",
    "\n",
    "# load the model\n",
    "xz_getter_name = 'xy_yz_to_xz.joblib'\n",
    "\n",
    "python_calibration_folderPath = os.path.join(calibration_folder_path, 'python_calibration_models')\n",
    "xz_getter = load(os.path.join(python_calibration_folderPath, xz_getter_name));\n",
    "\n",
    "\n",
    "calculated_im_coordinates = xz_getter.predict(X_data)\n",
    "\n",
    "residuals = np.linalg.norm(Y_data - calculated_im_coordinates , axis=1)\n",
    "residuals.shape"
   ]
  },
  {
   "cell_type": "code",
   "execution_count": null,
   "metadata": {},
   "outputs": [],
   "source": []
  },
  {
   "cell_type": "code",
   "execution_count": 24,
   "metadata": {},
   "outputs": [
    {
     "data": {
      "text/plain": [
       "Text(0.5, 0, 'pixels')"
      ]
     },
     "execution_count": 24,
     "metadata": {},
     "output_type": "execute_result"
    },
    {
     "data": {
      "application/vnd.jupyter.widget-view+json": {
       "model_id": "e607324af7424235b6361b93e1c2e4fe",
       "version_major": 2,
       "version_minor": 0
      },
      "text/html": [
       "\n",
       "            <div style=\"display: inline-block;\">\n",
       "                <div class=\"jupyter-widgets widget-label\" style=\"text-align: center;\">\n",
       "                    Figure\n",
       "                </div>\n",
       "                <img src='data:image/png;base64,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' width=640.0/>\n",
       "            </div>\n",
       "        "
      ],
      "text/plain": [
       "Canvas(toolbar=Toolbar(toolitems=[('Home', 'Reset original view', 'home', 'home'), ('Back', 'Back to previous …"
      ]
     },
     "metadata": {},
     "output_type": "display_data"
    }
   ],
   "source": [
    "fig, axs = plt.subplots()\n",
    "ax = axs\n",
    "\n",
    "# the binning for plotting the residuals\n",
    "bins = np.arange(0, 3, 0.1)\n",
    "\n",
    "ax.hist(residuals, bins=bins);\n",
    "ax.set_xlabel('pixels')"
   ]
  },
  {
   "cell_type": "code",
   "execution_count": null,
   "metadata": {},
   "outputs": [],
   "source": []
  },
  {
   "cell_type": "code",
   "execution_count": null,
   "metadata": {},
   "outputs": [],
   "source": []
  },
  {
   "cell_type": "code",
   "execution_count": null,
   "metadata": {},
   "outputs": [],
   "source": []
  },
  {
   "cell_type": "markdown",
   "metadata": {},
   "source": [
    "## XZ&YZ to XY"
   ]
  },
  {
   "cell_type": "code",
   "execution_count": 25,
   "metadata": {},
   "outputs": [],
   "source": [
    "X_data = np.copy(xz_yz_image_coordinates)\n",
    "Y_data = np.copy(xy_image_coordinates)"
   ]
  },
  {
   "cell_type": "code",
   "execution_count": 26,
   "metadata": {},
   "outputs": [
    {
     "name": "stdout",
     "output_type": "stream",
     "text": [
      "{'estimator__alpha': 0.01, 'preprocessor__degree': 3}\n",
      "-0.2668300099828393\n"
     ]
    }
   ],
   "source": [
    "# ---- STEP1: determine alpha parameter and polydegree ---- #\n",
    "\n",
    "# set the parameters for the grid search\n",
    "alpha = [1e-10, 1e-7, 1e-6, 1e-4, 1e-5, 1e-3, 0.001, 0.01, 0.1, 1]\n",
    "polyDegList = [1, 2, 3, 4]\n",
    "parameters = {'estimator__alpha': alpha,\n",
    "              'preprocessor__degree': polyDegList}\n",
    "\n",
    "# set the pipeline for building the model\n",
    "pipe = Pipeline(steps=[\n",
    "    ('scaler', StandardScaler()),\n",
    "    ('preprocessor', PolynomialFeatures(include_bias=True)),\n",
    "    ('estimator', Ridge())\n",
    "])\n",
    "\n",
    "# set the gridsearch score metric\n",
    "score = 'neg_mean_squared_error'\n",
    "\n",
    "# perform a gridsearch\n",
    "getter_GS = GridSearchCV(pipe, parameters, cv=3, scoring=score) \n",
    "getter_GS.fit(X_data, Y_data)\n",
    "\n",
    "\n",
    "print(getter_GS.best_params_)\n",
    "print(getter_GS.best_score_)"
   ]
  },
  {
   "cell_type": "code",
   "execution_count": 27,
   "metadata": {},
   "outputs": [
    {
     "name": "stdout",
     "output_type": "stream",
     "text": [
      "t = 0.2116532325744629 s\n",
      "\n"
     ]
    },
    {
     "data": {
      "text/plain": [
       "<matplotlib.legend.Legend at 0x7f63b84a3070>"
      ]
     },
     "execution_count": 27,
     "metadata": {},
     "output_type": "execute_result"
    },
    {
     "data": {
      "application/vnd.jupyter.widget-view+json": {
       "model_id": "9e4cc4706701484b8fa5d2a9d4ce1b77",
       "version_major": 2,
       "version_minor": 0
      },
      "text/html": [
       "\n",
       "            <div style=\"display: inline-block;\">\n",
       "                <div class=\"jupyter-widgets widget-label\" style=\"text-align: center;\">\n",
       "                    Figure\n",
       "                </div>\n",
       "                <img src='data:image/png;base64,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' width=640.0/>\n",
       "            </div>\n",
       "        "
      ],
      "text/plain": [
       "Canvas(toolbar=Toolbar(toolitems=[('Home', 'Reset original view', 'home', 'home'), ('Back', 'Back to previous …"
      ]
     },
     "metadata": {},
     "output_type": "display_data"
    }
   ],
   "source": [
    "# ---- STEP2: examine the residuals and the amount of over-fitting ---- #\n",
    "# \n",
    "# using the above-determined alpha and polydeg, examine the residuals for \n",
    "# a train-test split\n",
    "\n",
    "# the number of training test splits\n",
    "numPermutations = 100\n",
    "# the proportion of the dataset to include in the train split\n",
    "trainFac = 0.9\n",
    "# the binning for plotting the residuals\n",
    "bins = np.arange(0, 3, 0.1)\n",
    "\n",
    "# --------------------------#\n",
    "\n",
    "t0 = time.time()\n",
    "\n",
    "# use the GS results to set the params\n",
    "alpha = getter_GS.best_params_['estimator__alpha']\n",
    "polyDeg = getter_GS.best_params_['preprocessor__degree']\n",
    "\n",
    "# based on the trainFac, determine the number of balls to use for training\n",
    "# we do this just for preallocating the results array below\n",
    "dummy_X_train, _, _, _, = train_test_split(X_data, Y_data, train_size=trainFac)\n",
    "numTrainingBalls = dummy_X_train.shape[0]\n",
    "\n",
    "# preallocate arrays to hold the results\n",
    "train_errors = np.zeros((numPermutations, numTrainingBalls))\n",
    "test_errors = np.zeros((numPermutations, numBalls-numTrainingBalls))\n",
    "\n",
    "\n",
    "\n",
    "for permIdx in range(numPermutations):\n",
    "\n",
    "    # train test split\n",
    "    X_train, X_test, y_train, y_test = train_test_split(X_data, Y_data, train_size=trainFac)\n",
    "\n",
    "    getter = Pipeline(steps=[('scaler', StandardScaler()),\n",
    "                                ('preprocessor', PolynomialFeatures(degree=polyDeg, include_bias=True)),\n",
    "                                ('estimator', Ridge(alpha=alpha))\n",
    "                                ])\n",
    "\n",
    "    getter.fit(X_train, y_train)\n",
    "\n",
    "    train_calculated_coordinates = getter.predict(X_train)\n",
    "    errs = np.linalg.norm(y_train - train_calculated_coordinates, axis=1)\n",
    "    train_errors[permIdx, :] = errs\n",
    "\n",
    "    test_calculated_coordinates = getter.predict(X_test)\n",
    "    errs = np.linalg.norm(y_test - test_calculated_coordinates, axis=1)\n",
    "    test_errors[permIdx, :] = errs\n",
    "        \n",
    "        \n",
    "te = time.time()\n",
    "print('t = {0} s'.format(te-t0))\n",
    "print()\n",
    "\n",
    "# flatten the error arrays for histogramming the distributions\n",
    "train_errors = train_errors.reshape(-1)\n",
    "test_errors = test_errors.reshape(-1)\n",
    "\n",
    "plt.figure()\n",
    "plt.title('Residuals Test: PolyOrd = {0}, alpha = {1}'.format(polyDeg, alpha))\n",
    "plt.hist(train_errors, label='train errors', bins=bins, alpha=0.2, density=True);\n",
    "plt.hist(test_errors, label='test errors', bins=bins, alpha=0.2, density=True);\n",
    "plt.legend()"
   ]
  },
  {
   "cell_type": "code",
   "execution_count": 28,
   "metadata": {},
   "outputs": [],
   "source": [
    "# --------------- STEP3: Fit and save the final model ----------------#\n",
    "getter_name = 'xz_yz_to_xy.joblib'\n"
   ]
  },
  {
   "cell_type": "code",
   "execution_count": 29,
   "metadata": {},
   "outputs": [],
   "source": [
    "# make the final model\n",
    "getter = Pipeline(steps=[('scaler', StandardScaler()),\n",
    "                         ('preprocessor', PolynomialFeatures(degree=polyDeg, include_bias=True)),\n",
    "                          ('estimator', Ridge(alpha=alpha))\n",
    "                          ])\n",
    "\n",
    "python_calibration_folderPath = os.path.join(calibration_folder_path, 'python_calibration_models')\n",
    "os.makedirs(python_calibration_folderPath, exist_ok=True);\n",
    "\n",
    "getter.fit(X_data, Y_data)\n",
    "\n",
    "dump(getter, os.path.join(python_calibration_folderPath, getter_name));"
   ]
  },
  {
   "cell_type": "code",
   "execution_count": null,
   "metadata": {},
   "outputs": [],
   "source": []
  },
  {
   "cell_type": "code",
   "execution_count": null,
   "metadata": {},
   "outputs": [],
   "source": []
  },
  {
   "cell_type": "code",
   "execution_count": 30,
   "metadata": {},
   "outputs": [
    {
     "data": {
      "text/plain": [
       "(168,)"
      ]
     },
     "execution_count": 30,
     "metadata": {},
     "output_type": "execute_result"
    }
   ],
   "source": [
    "# ---- compute the final residuals plot ---- #\n",
    "\n",
    "# load the model\n",
    "xy_getter_name = 'xz_yz_to_xy.joblib'\n",
    "\n",
    "python_calibration_folderPath = os.path.join(calibration_folder_path, 'python_calibration_models')\n",
    "xy_getter = load(os.path.join(python_calibration_folderPath, xy_getter_name));\n",
    "\n",
    "\n",
    "calculated_im_coordinates = xy_getter.predict(X_data)\n",
    "\n",
    "residuals = np.linalg.norm(Y_data - calculated_im_coordinates , axis=1)\n",
    "residuals.shape"
   ]
  },
  {
   "cell_type": "code",
   "execution_count": null,
   "metadata": {},
   "outputs": [],
   "source": []
  },
  {
   "cell_type": "code",
   "execution_count": null,
   "metadata": {},
   "outputs": [],
   "source": []
  },
  {
   "cell_type": "code",
   "execution_count": null,
   "metadata": {},
   "outputs": [],
   "source": []
  },
  {
   "cell_type": "code",
   "execution_count": 31,
   "metadata": {},
   "outputs": [
    {
     "data": {
      "text/plain": [
       "[<matplotlib.axis.YTick at 0x7f63b8410790>,\n",
       " <matplotlib.axis.YTick at 0x7f63b840afd0>]"
      ]
     },
     "execution_count": 31,
     "metadata": {},
     "output_type": "execute_result"
    },
    {
     "data": {
      "application/vnd.jupyter.widget-view+json": {
       "model_id": "5843d1f0308642488546be5851ed6959",
       "version_major": 2,
       "version_minor": 0
      },
      "text/html": [
       "\n",
       "            <div style=\"display: inline-block;\">\n",
       "                <div class=\"jupyter-widgets widget-label\" style=\"text-align: center;\">\n",
       "                    Figure\n",
       "                </div>\n",
       "                <img src='data:image/png;base64,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' width=640.0/>\n",
       "            </div>\n",
       "        "
      ],
      "text/plain": [
       "Canvas(toolbar=Toolbar(toolitems=[('Home', 'Reset original view', 'home', 'home'), ('Back', 'Back to previous …"
      ]
     },
     "metadata": {},
     "output_type": "display_data"
    }
   ],
   "source": [
    "fig, axs = plt.subplots()\n",
    "ax = axs\n",
    "\n",
    "# the binning for plotting the residuals\n",
    "bins = np.arange(0, 3, 0.1)\n",
    "\n",
    "ax.hist(residuals, bins=bins);\n",
    "\n",
    "ax.set_ylabel('counts')\n",
    "ax.set_xlabel('residuals [pixels]')\n",
    "\n",
    "ax.set_xlim(0, 2)\n",
    "ax.set_ylim(0, 40)\n",
    "\n",
    "ax.set_xticks([0, 0.5, 1, 1.5, 2]);\n",
    "ax.set_yticks([0, 35])\n"
   ]
  },
  {
   "cell_type": "code",
   "execution_count": null,
   "metadata": {},
   "outputs": [],
   "source": []
  },
  {
   "cell_type": "code",
   "execution_count": null,
   "metadata": {},
   "outputs": [],
   "source": []
  },
  {
   "cell_type": "code",
   "execution_count": null,
   "metadata": {},
   "outputs": [],
   "source": []
  },
  {
   "cell_type": "markdown",
   "metadata": {},
   "source": [
    "## XZ&XY&YZ to XYZ"
   ]
  },
  {
   "cell_type": "code",
   "execution_count": 32,
   "metadata": {},
   "outputs": [],
   "source": [
    "X_data = np.copy(flat_image_coordinates)\n",
    "Y_data = np.copy(measured_coordinates)"
   ]
  },
  {
   "cell_type": "code",
   "execution_count": 33,
   "metadata": {},
   "outputs": [
    {
     "name": "stdout",
     "output_type": "stream",
     "text": [
      "{'estimator__alpha': 0.1, 'preprocessor__degree': 2}\n",
      "-0.014949662981693979\n"
     ]
    }
   ],
   "source": [
    "# ---- STEP1: determine alpha parameter and polydegree ---- #\n",
    "\n",
    "# set the parameters for the grid search\n",
    "alpha = [1e-10, 1e-7, 1e-6, 1e-4, 1e-5, 1e-3, 0.001, 0.01, 0.1, 1]\n",
    "polyDegList = [1, 2, 3, 4]\n",
    "parameters = {'estimator__alpha': alpha,\n",
    "              'preprocessor__degree': polyDegList}\n",
    "\n",
    "# set the pipeline for building the model\n",
    "pipe = Pipeline(steps=[\n",
    "    ('scaler', StandardScaler()),\n",
    "    ('preprocessor', PolynomialFeatures(include_bias=True)),\n",
    "    ('estimator', Ridge())\n",
    "])\n",
    "\n",
    "# set the gridsearch score metric\n",
    "score = 'neg_mean_squared_error'\n",
    "\n",
    "# perform a gridsearch\n",
    "getter_GS = GridSearchCV(pipe, parameters, cv=3, scoring=score) \n",
    "getter_GS.fit(X_data, Y_data)\n",
    "\n",
    "\n",
    "print(getter_GS.best_params_)\n",
    "print(getter_GS.best_score_)"
   ]
  },
  {
   "cell_type": "code",
   "execution_count": 34,
   "metadata": {},
   "outputs": [
    {
     "name": "stdout",
     "output_type": "stream",
     "text": [
      "t = 0.2060103416442871 s\n",
      "\n"
     ]
    },
    {
     "data": {
      "text/plain": [
       "Text(0.5, 0, '[cm]')"
      ]
     },
     "execution_count": 34,
     "metadata": {},
     "output_type": "execute_result"
    },
    {
     "data": {
      "application/vnd.jupyter.widget-view+json": {
       "model_id": "c85d49efb1fa4121bcee790c6913214f",
       "version_major": 2,
       "version_minor": 0
      },
      "text/html": [
       "\n",
       "            <div style=\"display: inline-block;\">\n",
       "                <div class=\"jupyter-widgets widget-label\" style=\"text-align: center;\">\n",
       "                    Figure\n",
       "                </div>\n",
       "                <img src='data:image/png;base64,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' width=640.0/>\n",
       "            </div>\n",
       "        "
      ],
      "text/plain": [
       "Canvas(toolbar=Toolbar(toolitems=[('Home', 'Reset original view', 'home', 'home'), ('Back', 'Back to previous …"
      ]
     },
     "metadata": {},
     "output_type": "display_data"
    }
   ],
   "source": [
    "# ---- STEP2: examine the residuals and the amount of over-fitting ---- #\n",
    "# \n",
    "# using the above-determined alpha and polydeg, examine the residuals for \n",
    "# a train-test split\n",
    "\n",
    "# the number of training test splits\n",
    "numPermutations = 100\n",
    "# the proportion of the dataset to include in the train split\n",
    "trainFac = 0.9\n",
    "# the binning for plotting the residuals\n",
    "bins = np.arange(0, 3, 0.05)\n",
    "\n",
    "# --------------------------#\n",
    "\n",
    "t0 = time.time()\n",
    "\n",
    "# use the GS results to set the params\n",
    "alpha = getter_GS.best_params_['estimator__alpha']\n",
    "polyDeg = getter_GS.best_params_['preprocessor__degree']\n",
    "\n",
    "# based on the trainFac, determine the number of balls to use for training\n",
    "# we do this just for preallocating the results array below\n",
    "dummy_X_train, _, _, _, = train_test_split(X_data, Y_data, train_size=trainFac)\n",
    "numTrainingBalls = dummy_X_train.shape[0]\n",
    "\n",
    "# preallocate arrays to hold the results\n",
    "train_errors = np.zeros((numPermutations, numTrainingBalls))\n",
    "test_errors = np.zeros((numPermutations, numBalls-numTrainingBalls))\n",
    "\n",
    "\n",
    "\n",
    "for permIdx in range(numPermutations):\n",
    "\n",
    "    # train test split\n",
    "    X_train, X_test, y_train, y_test = train_test_split(X_data, Y_data, train_size=trainFac)\n",
    "\n",
    "    getter = Pipeline(steps=[('scaler', StandardScaler()),\n",
    "                                ('preprocessor', PolynomialFeatures(degree=polyDeg, include_bias=True)),\n",
    "                                ('estimator', Ridge(alpha=alpha))\n",
    "                                ])\n",
    "\n",
    "    getter.fit(X_train, y_train)\n",
    "\n",
    "    train_calculated_coordinates = getter.predict(X_train)\n",
    "    errs = np.linalg.norm(y_train - train_calculated_coordinates, axis=1)\n",
    "    train_errors[permIdx, :] = errs\n",
    "\n",
    "    test_calculated_coordinates = getter.predict(X_test)\n",
    "    errs = np.linalg.norm(y_test - test_calculated_coordinates, axis=1)\n",
    "    test_errors[permIdx, :] = errs\n",
    "        \n",
    "        \n",
    "te = time.time()\n",
    "print('t = {0} s'.format(te-t0))\n",
    "print()\n",
    "\n",
    "# flatten the error arrays for histogramming the distributions\n",
    "train_errors = train_errors.reshape(-1)\n",
    "test_errors = test_errors.reshape(-1)\n",
    "\n",
    "plt.figure()\n",
    "plt.title('Residuals Test: PolyOrd = {0}, alpha = {1}'.format(polyDeg, alpha))\n",
    "plt.hist(train_errors, label='train errors', bins=bins, alpha=0.2, density=True);\n",
    "plt.hist(test_errors, label='test errors', bins=bins, alpha=0.2, density=True);\n",
    "plt.xticks([0.2*i for i in range(15)])\n",
    "plt.legend()\n",
    "plt.xlim(-0.1,1)\n",
    "plt.xlabel('[cm]')"
   ]
  },
  {
   "cell_type": "code",
   "execution_count": null,
   "metadata": {},
   "outputs": [],
   "source": []
  },
  {
   "cell_type": "code",
   "execution_count": 35,
   "metadata": {},
   "outputs": [],
   "source": [
    "# --------------- STEP3: Fit and save the final model ----------------#\n",
    "getter_name = 'imCoords_to_XYZ.joblib'\n"
   ]
  },
  {
   "cell_type": "code",
   "execution_count": 36,
   "metadata": {},
   "outputs": [],
   "source": [
    "# make the final model\n",
    "getter = Pipeline(steps=[('scaler', StandardScaler()),\n",
    "                         ('preprocessor', PolynomialFeatures(degree=polyDeg, include_bias=True)),\n",
    "                          ('estimator', Ridge(alpha=alpha))\n",
    "                          ])\n",
    "\n",
    "python_calibration_folderPath = os.path.join(calibration_folder_path, 'python_calibration_models')\n",
    "os.makedirs(python_calibration_folderPath, exist_ok=True);\n",
    "\n",
    "getter.fit(X_data, Y_data)\n",
    "\n",
    "dump(getter, os.path.join(python_calibration_folderPath, getter_name));"
   ]
  },
  {
   "cell_type": "code",
   "execution_count": null,
   "metadata": {},
   "outputs": [],
   "source": []
  },
  {
   "cell_type": "code",
   "execution_count": null,
   "metadata": {},
   "outputs": [],
   "source": []
  },
  {
   "cell_type": "code",
   "execution_count": null,
   "metadata": {},
   "outputs": [],
   "source": []
  },
  {
   "cell_type": "code",
   "execution_count": 37,
   "metadata": {},
   "outputs": [
    {
     "data": {
      "text/plain": [
       "(168,)"
      ]
     },
     "execution_count": 37,
     "metadata": {},
     "output_type": "execute_result"
    }
   ],
   "source": [
    "# ---- compute the final residuals plot ---- #\n",
    "\n",
    "# load the model\n",
    "xyz_getter_name = 'imCoords_to_XYZ.joblib'\n",
    "\n",
    "python_calibration_folderPath = os.path.join(calibration_folder_path, 'python_calibration_models')\n",
    "xyz_getter = load(os.path.join(python_calibration_folderPath, xyz_getter_name));\n",
    "\n",
    "\n",
    "calculated_im_coordinates = xyz_getter.predict(X_data)\n",
    "\n",
    "residuals = np.linalg.norm(Y_data - calculated_im_coordinates , axis=1)\n",
    "residuals.shape"
   ]
  },
  {
   "cell_type": "code",
   "execution_count": null,
   "metadata": {},
   "outputs": [],
   "source": []
  },
  {
   "cell_type": "code",
   "execution_count": null,
   "metadata": {},
   "outputs": [],
   "source": []
  },
  {
   "cell_type": "code",
   "execution_count": null,
   "metadata": {},
   "outputs": [],
   "source": []
  },
  {
   "cell_type": "code",
   "execution_count": 38,
   "metadata": {},
   "outputs": [
    {
     "data": {
      "text/plain": [
       "[<matplotlib.axis.YTick at 0x7f63b8376910>,\n",
       " <matplotlib.axis.YTick at 0x7f63b820cf70>]"
      ]
     },
     "execution_count": 38,
     "metadata": {},
     "output_type": "execute_result"
    },
    {
     "data": {
      "application/vnd.jupyter.widget-view+json": {
       "model_id": "6791e31d8212412199659bec7ffe43e9",
       "version_major": 2,
       "version_minor": 0
      },
      "text/html": [
       "\n",
       "            <div style=\"display: inline-block;\">\n",
       "                <div class=\"jupyter-widgets widget-label\" style=\"text-align: center;\">\n",
       "                    Figure\n",
       "                </div>\n",
       "                <img src='data:image/png;base64,iVBORw0KGgoAAAANSUhEUgAAAoAAAAHgCAYAAAA10dzkAAAAOXRFWHRTb2Z0d2FyZQBNYXRwbG90bGliIHZlcnNpb24zLjQuMywgaHR0cHM6Ly9tYXRwbG90bGliLm9yZy/MnkTPAAAACXBIWXMAAA9hAAAPYQGoP6dpAAAgNklEQVR4nO3de5SU9X348c8gsNxclIsrFMJFFLygIMZksREOCkhMY+pJNNIaFK1a4wmIDZcYIqSpSlICXiKiRyJNSrTV0NjaGIgHKAUsRZYTkRgIAaG/LCrKTQzL7fn90bDNZjFxkdkZ5vt6nbPnMM88M89n98uyb56Z2cllWZYFAADJaFLoAQAAaFwCEAAgMQIQACAxAhAAIDECEAAgMQIQACAxAhAAIDECEAAgMQIQACAxAhAAIDECEAAgMQIQACAxAhAAIDECEAAgMQIQACAxAhAAIDECEAAgMQIQACAxAhAAIDECEAAgMQIQACAxAhAAIDECEAAgMQIQACAxAhAAIDECEAAgMQIQACAxAhAAIDECEAAgMQIQACAxAhAAIDECEAAgMQIQACAxAhAAIDECEAAgMQIQACAxAhAAIDECEAAgMQIQACAxAhAAIDECEAAgMQIQACAxAhAAIDECEAAgMQIQACAxAhAAIDECEAAgMQIQACAxAhAAIDECEAAgMQIQACAxAhAAIDElG4CzZs2K888/P8rLy6O8vDwqKyvjxz/+ce31WZbFlClTonPnztGyZcsYPHhwvPrqqwWcGACgcZRsAHbp0iXuv//+WLVqVaxatSqGDBkSV111VW3kffOb34xvf/vb8fDDD8d///d/x+mnnx5Dhw6NPXv2FHhyAID8ymVZlhV6iMbSrl27+Na3vhWjR4+Ozp07x9ixY2PChAkREVFTUxMVFRUxbdq0uPXWWws8KQBA/pTsGcDfdejQoXjqqadi7969UVlZGZs2bYpt27bFsGHDavcpKyuLQYMGxfLlyws4KQBA/jUt9AD59Morr0RlZWXs27cv2rRpE/Pnz49zzjmnNvIqKirq7F9RURGvv/76+95fTU1N1NTU1F4+fPhwvPPOO9G+ffvI5XL5+SQAgOMqy7LYs2dPdO7cOZo0SeJcWD0lHYC9e/eONWvWxM6dO+PZZ5+NUaNGxZIlS2qv//1oy7LsD4bcfffdF1OnTs3bvABA49m6dWt06dKl0GMURFLPAbz88svjjDPOiAkTJsQZZ5wRq1evjv79+9def9VVV8Upp5wSc+fOPertf/8M4K5du+IjH/lIbN26NcrLy/M+PwDw4e3evTu6du0aO3fujLZt2xZ6nIIo6TOAvy/LsqipqYkePXrE6aefHgsXLqwNwP3798eSJUti2rRp73v7srKyKCsrq7f9yK+aAQBOHCk/fatkA/ArX/lKjBgxIrp27Rp79uyJp556KhYvXhwvvPBC5HK5GDt2bNx7771x5plnxplnnhn33ntvtGrVKkaOHFno0QEA8qpkA/CNN96I66+/Pqqrq6Nt27Zx/vnnxwsvvBBDhw6NiIjx48fHb37zm7j99ttjx44d8bGPfSwWLFgQJ598coEnBwDIr6SeA3i87d69O9q2bRu7du3yEDAAnCD8/E7k9wACAPB/BCAAQGIEIABAYgQgAEBiBCAAQGIEIABAYgQgAEBiBCAAQGIEIABAYgQgAEBiBCAAQGIEIABAYgQgAEBiBCAAQGIEIABAYgQgAEBiBCAAQGIEIABAYgQgAEBiBCAAQGIEIABAYgQgAEBiBCAAQGIEIABAYgQgAEBiBCAAQGIEIABAYgQgAEBiBCAAQGIEIABAYgQgAEBiBCAAQGIEIABAYgQgAEBiBCAAQGIEIABAYgQgAEBiBCAAQGIEIABAYgQgAEBiBCAAQGIEIABAYgQgAEBimhZ6AIpD94nP5/X+N99/ZV7vHwD44JwBBABIjAAEAEiMAAQASIwABABIjAAEAEiMAAQASIwABABIjAAEAEiMAAQASIwABABIjAAEAEiMAAQASIwABABIjAAEAEiMAAQASIwABABIjAAEAEiMAAQASIwABABIjAAEAEiMAAQASIwABABIjAAEAEiMAAQASIwABABIjAAEAEiMAAQASIwABABIjAAEAEiMAAQASIwABABIjAAEAEiMAAQASIwABABIjAAEAEiMAAQASIwABABIjAAEAEiMAAQASIwABABIjAAEAEiMAAQASIwABABIjAAEAEiMAAQASIwABABIjAAEAEiMAAQASIwABABIjAAEAEiMAAQASIwABABIjAAEAEiMAAQASIwABABIjAAEAEiMAAQASIwABABIjAAEAEiMAAQASIwABABIjAAEAEiMAAQASIwABABIjAAEAEiMAAQASIwABABIjAAEAEiMAAQASIwABABIjAAEAEiMAAQASIwABABIjAAEAEiMAAQASIwABABIjAAEAEiMAAQASIwABABIjAAEAEiMAAQASIwABABIjAAEAEiMAAQASIwABABITNNCDwAnku4Tn8/7MTbff2Xej5Fvvk4Axc0ZQACAxAhAAIDECEAAgMQIQACAxAhAAIDECEAAgMQIQACAxAhAAIDECEAAgMQIQACAxAhAAIDECEAAgMQIQACAxAhAAIDECEAAgMQIQACAxAhAAIDECEAAgMQIQACAxAhAAIDECEAAgMQIQACAxAhAAIDECEAAgMQ0LfQAQF3dJz6f92Nsvv/KvB8DgOLlDCAAQGIEIABAYgQgAEBiii4At27dGv/zP/9Te3nlypUxduzYeOyxxwo4FQBA6Si6ABw5cmQsWrQoIiK2bdsWQ4cOjZUrV8ZXvvKV+PrXv17g6QAATnxFF4Br166Niy++OCIi/umf/inOO++8WL58ecybNy+efPLJwg4HAFACii4ADxw4EGVlZRER8dOf/jQ+/elPR0REnz59orq6upCjAQCUhKILwHPPPTceffTRWLp0aSxcuDCuuOKKiIj49a9/He3bty/wdAAAJ76iC8Bp06bF7NmzY/DgwXHdddfFBRdcEBERzz33XO1DwwAAHLuieyeQwYMHx/bt22P37t1x6qmn1m6/5ZZbonXr1gWcDACgNBTdGcAhQ4bEnj176sRfRES7du3i2muvLdBUAAClo+jOAC5evDj2799fb/u+ffti6dKlBZgISk9jvN9wvnnPZIBjVzQB+LOf/az2z+vWrYtt27bVXj506FC88MIL8Sd/8ieFGA0AoKQUTQD269cvcrlc5HK5GDJkSL3rW7ZsGQ899FABJgMAKC1FE4CbNm2KLMuiZ8+esXLlyujYsWPtdc2bN4/TTjstTjrppAJOCABQGoomALt16xYREYcPHy7wJAAApa1oAvB3rV+/PhYvXhxvvvlmvSD82te+VqCpAABKQ9EF4OOPPx5//dd/HR06dIjTTz89crlc7XW5XE4AAgB8SEUXgN/4xjfi7/7u72LChAmFHgUAoCQV3S+C3rFjR3zuc58r9BgAACWr6ALwc5/7XCxYsKDQYwAAlKyiewi4V69eMXny5HjppZeib9++0axZszrXf+lLXyrQZAAApaHoAvCxxx6LNm3axJIlS2LJkiV1rsvlcgIQAOBDKroA3LRpU6FHIA+8bysAFI+iew4gAAD5VXRnAEePHv0Hr58zZ04jTQIAUJqKLgB37NhR5/KBAwdi7dq1sXPnzhgyZEiBpgIAKB1FF4Dz58+vt+3w4cNx++23R8+ePQswEQBAaTkhngPYpEmTuPPOO2PGjBmFHgUA4IR3QgRgRMTGjRvj4MGDhR4DAOCEV3QPAY8bN67O5SzLorq6Op5//vkYNWpUgaYCACgdRReAVVVVdS43adIkOnbsGNOnT/+jrxAGAOCPK7oAXLRoUaFHAAAoaUUXgEe89dZb8Ytf/CJyuVycddZZ0bFjx0KPBABQEoruRSB79+6N0aNHR6dOneLSSy+NT3ziE9G5c+e46aab4r333iv0eAAAJ7yiC8Bx48bFkiVL4l//9V9j586dsXPnzvjRj34US5YsibvuuqvQ4wEAnPCK7iHgZ599Np555pkYPHhw7bZPfvKT0bJly7jmmmti1qxZhRuOotZ94vOFHgEATghFdwbwvffei4qKinrbTzvtNA8BAwAcB0UXgJWVlXHPPffEvn37arf95je/ialTp0ZlZWUBJwMAKA1F9xDwzJkzY8SIEdGlS5e44IILIpfLxZo1a6KsrCwWLFhQ6PEAAE54RReAffv2jQ0bNsT3v//9eO211yLLsvj85z8ff/EXfxEtW7Ys9HgAACe8ogvA++67LyoqKuKv/uqv6myfM2dOvPXWWzFhwoQCTQYAUBqK7jmAs2fPjj59+tTbfu6558ajjz5agIkAAEpL0QXgtm3bolOnTvW2d+zYMaqrqwswEQBAaSm6AOzatWssW7as3vZly5ZF586dCzARAEBpKbrnAN58880xduzYOHDgQAwZMiQiIl588cUYP368dwIBADgOii4Ax48fH++8807cfvvtsX///oiIaNGiRUyYMCEmTZpU4OkAAE58RReAuVwupk2bFpMnT46f//zn0bJlyzjzzDOjrKys0KMBAJSEogvAI9q0aRMf/ehHCz0GAEDJKboXgQAAkF8CEAAgMQIQACAxAhAAIDECEAAgMQIQACAxAhAAIDECEAAgMQIQACAxAhAAIDECEAAgMQIQACAxAhAAIDECEAAgMQIQACAxAhAAIDECEAAgMQIQACAxAhAAIDECEAAgMQIQACAxAhAAIDECEAAgMQIQACAxAhAAIDECEAAgMQIQACAxAhAAIDECEAAgMQIQACAxAhAAIDECEAAgMQIQACAxAhAAIDECEAAgMQIQACAxAhAAIDECEAAgMQIQACAxAhAAIDECEAAgMQIQACAxAhAAIDECEAAgMQIQACAxAhAAIDECEAAgMQIQACAxAhAAIDECEAAgMQIQACAxAhAAIDECEAAgMQIQACAxAhAAIDECEAAgMQIQACAxAhAAIDECEAAgMQIQACAxAhAAIDFNCz0Af1z3ic8XegQgTxrj+3vz/Vfm/RjAicUZQACAxAhAAIDECEAAgMQIQACAxAhAAIDECEAAgMQIQACAxAhAAIDECEAAgMQIQACAxAhAAIDECEAAgMQIQACAxAhAAIDECEAAgMQIQACAxAhAAIDECEAAgMQIQACAxAhAAIDECEAAgMQIQACAxAhAAIDECEAAgMQIQACAxAhAAIDECEAAgMQIQACAxAhAAIDECEAAgMQIQACAxAhAAIDECEAAgMQIQACAxAhAAIDECEAAgMQ0LfQApeC8e34STcpaFXoMAIAPxBlAAIDECEAAgMQIQACAxAhAAIDECEAAgMQIQACAxAhAAIDECEAAgMQIQACAxAhAAIDECEAAgMQIQACAxAhAAIDECEAAgMQIQACAxAhAAIDECEAAgMQIQACAxAhAAIDECEAAgMQIQACAxAhAAIDECEAAgMQIQACAxAhAAIDECEAAgMQIQACAxAhAAIDECEAAgMQIQACAxAhAAIDECEAAgMQIQACAxAhAAIDECEAAgMQIQACAxDQt9AAAxar7xOcLPQJAXjgDCACQGAEIAJAYAQgAkBgBCACQGAEIAJAYAQgAkBgBCACQGAEIAJAYAQgAkBgBCACQGAEIAJAY7wUMUOJK4T2NN99/ZaFH4Lca4++T9c4/ZwABABIjAAEAEiMAAQASIwABABIjAAEAEiMAAQASIwABABKTfAA+8sgj0aNHj2jRokUMGDAgli5dWuiRAADyKukAfPrpp2Ps2LFx9913R1VVVXziE5+IESNGxJYtWwo9GgBA3iQdgN/+9rfjpptuiptvvjnOPvvsmDlzZnTt2jVmzZpV6NEAAPIm2beC279/f7z88ssxceLEOtuHDRsWy5cvP+ptampqoqampvbyrl27IiLicM17+RsUgNi9e3ehR+C3GuNnXr7X+8j9Z1mW1+MUs2QDcPv27XHo0KGoqKios72ioiK2bdt21Nvcd999MXXq1Hrb/9+sG/IxIgC/1XZmoSegMTXWer/99tvRtm3bxjlYkUk2AI/I5XJ1LmdZVm/bEZMmTYpx48bVXt65c2d069YttmzZkuxfoGKxe/fu6Nq1a2zdujXKy8sLPU7SrEVxsR7Fw1oUj127dsVHPvKRaNeuXaFHKZhkA7BDhw5x0kkn1Tvb9+abb9Y7K3hEWVlZlJWV1dvetm1b38xFory83FoUCWtRXKxH8bAWxaNJk3RfCpHsZ968efMYMGBALFy4sM72hQsXxsCBAws0FQBA/iV7BjAiYty4cXH99dfHRRddFJWVlfHYY4/Fli1b4rbbbiv0aAAAeZN0AF577bXx9ttvx9e//vWorq6O8847L/793/89unXr9oFuX1ZWFvfcc89RHxamcVmL4mEtiov1KB7WonhYi4hclvJroAEAEpTscwABAFIlAAEAEiMAAQASIwABABIjAP+IRx55JHr06BEtWrSIAQMGxNKlS//g/kuWLIkBAwZEixYtomfPnvHoo4820qSlryFrUV1dHSNHjozevXtHkyZNYuzYsY03aAIashY//OEPY+jQodGxY8coLy+PysrK+MlPftKI05a2hqzFf/7nf8Yll1wS7du3j5YtW0afPn1ixowZjTht6Wvoz4wjli1bFk2bNo1+/frld8CENGQtFi9eHLlcrt7Ha6+91ogTN7KM9/XUU09lzZo1yx5//PFs3bp12ZgxY7LWrVtnr7/++lH3/9WvfpW1atUqGzNmTLZu3brs8ccfz5o1a5Y988wzjTx56WnoWmzatCn70pe+lM2dOzfr169fNmbMmMYduIQ1dC3GjBmTTZs2LVu5cmW2fv36bNKkSVmzZs2y1atXN/Lkpaeha7F69eps3rx52dq1a7NNmzZl3/ve97JWrVpls2fPbuTJS1ND1+OInTt3Zj179syGDRuWXXDBBY0zbIlr6FosWrQoi4jsF7/4RVZdXV37cfDgwUaevPEIwD/g4osvzm677bY62/r06ZNNnDjxqPuPHz8+69OnT51tt956a/bxj388bzOmoqFr8bsGDRokAI+jD7MWR5xzzjnZ1KlTj/doyTkea/Hnf/7n2V/+5V8e79GSdKzrce2112Zf/epXs3vuuUcAHicNXYsjAbhjx45GmK44eAj4fezfvz9efvnlGDZsWJ3tw4YNi+XLlx/1NitWrKi3//Dhw2PVqlVx4MCBvM1a6o5lLciP47EWhw8fjj179iT9JuzHw/FYi6qqqli+fHkMGjQoHyMm5VjX47vf/W5s3Lgx7rnnnnyPmIwP873Rv3//6NSpU1x22WWxaNGifI5ZcEm/E8gfsn379jh06FBUVFTU2V5RURHbtm076m22bdt21P0PHjwY27dvj06dOuVt3lJ2LGtBfhyPtZg+fXrs3bs3rrnmmnyMmIwPsxZdunSJt956Kw4ePBhTpkyJm2++OZ+jJuFY1mPDhg0xceLEWLp0aTRt6sfx8XIsa9GpU6d47LHHYsCAAVFTUxPf+9734rLLLovFixfHpZde2hhjNzp/4/6IXC5X53KWZfW2/bH9j7adhmvoWpA/x7oWP/jBD2LKlCnxox/9KE477bR8jZeUY1mLpUuXxrvvvhsvvfRSTJw4MXr16hXXXXddPsdMxgddj0OHDsXIkSNj6tSpcdZZZzXWeElpyPdG7969o3fv3rWXKysrY+vWrfH3f//3AjA1HTp0iJNOOqne/xbefPPNev+rOOL0008/6v5NmzaN9u3b523WUncsa0F+fJi1ePrpp+Omm26Kf/7nf47LL788n2Mm4cOsRY8ePSIiom/fvvHGG2/ElClTBOCH1ND12LNnT6xatSqqqqrijjvuiIj/fXpElmXRtGnTWLBgQQwZMqRRZi81x+tnxsc//vH4/ve/f7zHKxqeA/g+mjdvHgMGDIiFCxfW2b5w4cIYOHDgUW9TWVlZb/8FCxbERRddFM2aNcvbrKXuWNaC/DjWtfjBD34QN9xwQ8ybNy+uvPLKfI+ZhOP1fZFlWdTU1Bzv8ZLT0PUoLy+PV155JdasWVP7cdttt0Xv3r1jzZo18bGPfayxRi85x+t7o6qqqrSfulWwl5+cAI68jPyJJ57I1q1bl40dOzZr3bp1tnnz5izLsmzixInZ9ddfX7v/kV8Dc+edd2br1q3LnnjiCb8G5jhp6FpkWZZVVVVlVVVV2YABA7KRI0dmVVVV2auvvlqI8UtKQ9di3rx5WdOmTbPvfOc7dX69ws6dOwv1KZSMhq7Fww8/nD333HPZ+vXrs/Xr12dz5szJysvLs7vvvrtQn0JJOZZ/p36XVwEfPw1dixkzZmTz58/P1q9fn61duzabOHFiFhHZs88+W6hPIe8E4B/xne98J+vWrVvWvHnz7MILL8yWLFlSe92oUaOyQYMG1dl/8eLFWf/+/bPmzZtn3bt3z2bNmtXIE5euhq5FRNT76NatW+MOXaIashaDBg066lqMGjWq8QcvQQ1ZiwcffDA799xzs1atWmXl5eVZ//79s0ceeSQ7dOhQASYvTQ39d+p3CcDjqyFrMW3atOyMM87IWrRokZ166qnZn/7pn2bPP/98AaZuPLks++2rFAAASILnAAIAJEYAAgAkRgACACRGAAIAJEYAAgAkRgACACRGAAIAJEYAAgAkRgACJ5QbbrghPvOZz/zBfQYPHhxjx449rsedMmVK9OvX75huu3nz5sjlcpHL5Y75Pj6oJ598svZYx/trAJSOpoUeAKAhHnjggThR38Dopz/9ad4D8Nprr40rrrgirr766rweBzixCUCg0ezfvz+aN2/+oe6jbdu2x2maxte+ffto3759Xo/RsmXLaNmy5Yf+OgOlzUPAQN4MHjw47rjjjhg3blx06NAhhg4dGhER69ati09+8pPRpk2bqKioiOuvvz62b99ee7tnnnkm+vbtGy1btoz27dvH5ZdfHnv37o2I+g8B7927N77whS9EmzZtolOnTjF9+vR6c+RyufiXf/mXOttOOeWUePLJJ2svT5gwIc4666xo1apV9OzZMyZPnhwHDhx4389t8eLFcfHFF0fr1q3jlFNOiUsuuSRef/31Bn+N5syZE+eee26UlZVFp06d4o477qgz9+zZs+NTn/pUtGrVKs4+++xYsWJF/PKXv4zBgwdH69ato7KyMjZu3Njg4wJpE4BAXs2dOzeaNm0ay5Yti9mzZ0d1dXUMGjQo+vXrF6tWrYoXXngh3njjjbjmmmsiIqK6ujquu+66GD16dPz85z+PxYsXx9VXX/2+D/t++ctfjkWLFsX8+fNjwYIFsXjx4nj55ZcbPOfJJ58cTz75ZKxbty4eeOCBePzxx2PGjBlH3ffgwYPxmc98JgYNGhQ/+9nPYsWKFXHLLbdELpdr0DFnzZoVX/ziF+OWW26JV155JZ577rno1atXnX3+9m//Nr7whS/EmjVrok+fPjFy5Mi49dZbY9KkSbFq1aqIiDrRCPBBeAgYyKtevXrFN7/5zdrLX/va1+LCCy+Me++9t3bbnDlzomvXrrF+/fp499134+DBg3H11VdHt27dIiKib9++R73vd999N5544on4h3/4h9qzi3Pnzo0uXbo0eM6vfvWrtX/u3r173HXXXfH000/H+PHj6+27e/fu2LVrV3zqU5+KM844IyIizj777AYf8xvf+EbcddddMWbMmNptH/3oR+vsc+ONN9bG8YQJE6KysjImT54cw4cPj4iIMWPGxI033tjgYwNpE4BAXl100UV1Lr/88suxaNGiaNOmTb19N27cGMOGDYvLLrss+vbtG8OHD49hw4bFZz/72Tj11FOPuv/+/fujsrKydlu7du2id+/eDZ7zmWeeiZkzZ8Yvf/nL2ggtLy8/6r7t2rWLG264IYYPHx5Dhw6Nyy+/PK655pro1KnTBz7em2++Gb/+9a/jsssu+4P7nX/++bV/rqioiIi6QVxRURH79u2L3bt3v++8AL/PQ8BAXrVu3brO5cOHD8ef/dmfxZo1a+p8bNiwIS699NI46aSTYuHChfHjH/84zjnnnHjooYeid+/esWnTpnr3/UFfDZzL5ert+7vP73vppZfi85//fIwYMSL+7d/+LaqqquLuu++O/fv3v+99fve7340VK1bEwIED4+mnn46zzjorXnrppQ80T8T/vljjg2jWrFmdz+P9th0+fPgDHxtAAAKN6sILL4xXX301unfvHr169arzcSQWc7lcXHLJJTF16tSoqqqK5s2bx/z58+vdV69evaJZs2Z1wmvHjh2xfv36Ovt17Ngxqquray9v2LAh3nvvvdrLy5Yti27dusXdd98dF110UZx55pkf6AUd/fv3j0mTJsXy5cvjvPPOi3nz5n3gr8PJJ58c3bt3jxdffPED3wbgeBGAQKP64he/GO+8805cd911sXLlyvjVr34VCxYsiNGjR8ehQ4fiv/7rv+Lee++NVatWxZYtW+KHP/xhvPXWW0d9jl2bNm3ipptuii9/+cvx4osvxtq1a+OGG26IJk3q/tM2ZMiQePjhh2P16tWxatWquO222+qcRevVq1ds2bIlnnrqqdi4cWM8+OCDRw3OIzZt2hSTJk2KFStWxOuvvx4LFiyI9evXN/h5gFOmTInp06fHgw8+GBs2bIjVq1fHQw891KD7ADgWngMINKrOnTvHsmXLYsKECTF8+PCoqamJbt26xRVXXBFNmjSJ8vLy+I//+I+YOXNm7N69O7p16xbTp0+PESNGHPX+vvWtb8W7774bn/70p+Pkk0+Ou+66K3bt2lVnn+nTp8eNN94Yl156aXTu3DkeeOCBOq8Uvuqqq+LOO++MO+64I2pqauLKK6+MyZMnx5QpU456zFatWsVrr70Wc+fOjbfffrv217fceuutDfpajBo1Kvbt2xczZsyIv/mbv4kOHTrEZz/72QbdB8CxyGUn6q/UBzhBbN68OXr06BFVVVV5fyeQIwYPHhz9+vWLmTNnNsrxgBOLh4ABGsnAgQNj4MCBeT3GP/7jP0abNm1i6dKleT0OcGJzBhAgzw4ePBibN2+OiIiysrLo2rVr3o61Z8+eeOONNyLif9/tpEOHDnk7FnDiEoAAAInxEDAAQGIEIABAYgQgAEBiBCAAQGIEIABAYgQgAEBiBCAAQGIEIABAYv4/hSz5skpaGDcAAAAASUVORK5CYII=' width=640.0/>\n",
       "            </div>\n",
       "        "
      ],
      "text/plain": [
       "Canvas(toolbar=Toolbar(toolitems=[('Home', 'Reset original view', 'home', 'home'), ('Back', 'Back to previous …"
      ]
     },
     "metadata": {},
     "output_type": "display_data"
    }
   ],
   "source": [
    "fig, axs = plt.subplots()\n",
    "ax = axs\n",
    "\n",
    "# the binning for plotting the residuals\n",
    "bins = np.arange(0, 0.8, 0.025)\n",
    "\n",
    "ax.hist(residuals, bins=bins);\n",
    "\n",
    "ax.set_ylabel('counts')\n",
    "ax.set_xlabel('residuals [cm]')\n",
    "\n",
    "ax.set_xlim(0, 0.5)\n",
    "ax.set_ylim(0, 30)\n",
    "\n",
    "ax.set_xticks([0, 0.1, 0.2, 0.3, 0.4, 0.5]);\n",
    "ax.set_yticks([0, 30])\n"
   ]
  },
  {
   "cell_type": "code",
   "execution_count": null,
   "metadata": {},
   "outputs": [],
   "source": []
  },
  {
   "cell_type": "code",
   "execution_count": null,
   "metadata": {},
   "outputs": [],
   "source": []
  },
  {
   "cell_type": "code",
   "execution_count": null,
   "metadata": {},
   "outputs": [],
   "source": []
  },
  {
   "cell_type": "markdown",
   "metadata": {},
   "source": [
    "# 20200325_calibration"
   ]
  },
  {
   "cell_type": "markdown",
   "metadata": {},
   "source": [
    "## load data"
   ]
  },
  {
   "cell_type": "code",
   "execution_count": 39,
   "metadata": {},
   "outputs": [
    {
     "name": "stdout",
     "output_type": "stream",
     "text": [
      "\n",
      "calibration_images_shape:  (3, 4, 1024, 1280)\n",
      "\n",
      "\n",
      "-- Full Measured Coordinates --\n",
      "(numBalls, 3D_coord)\n",
      "(200, 3)\n",
      "\n",
      "-- Full Image coordinates --\n",
      "(numCams, numBalls, 2D_coord)\n",
      "(3, 200, 2)\n",
      "200\n"
     ]
    }
   ],
   "source": [
    "calibration_folder_path = './20200325_calibration/'\n",
    "\n",
    "\n",
    "# set the folder containing the calibration information\n",
    "measured_coord_folder = os.path.join(calibration_folder_path, 'measured_coords/')\n",
    "image_coord_folder = os.path.join(calibration_folder_path, 'image_coords/')\n",
    "\n",
    "# make a list of the text files we need to read from each position folder\n",
    "imcoord_textfileNames = ['Ex_data_corner.txt', 'Ex_data.txt', 'Ez_data_corner_fixed.txt', 'Ez_data_fixed.txt', \\\n",
    "                         'Fx_data_corner.txt', 'Fx_data.txt', 'Fy_data_corner_fixed.txt', 'Fy_data_fixed.txt', \\\n",
    "                         'Gy_data_corner.txt', 'Gy_data.txt', 'Gz_data_corner_fixed.txt', 'Gz_data_fixed.txt']\n",
    "\n",
    "measured_textfileNames = ['pos1_measured.txt', 'pos1corner_measured.txt',\n",
    "                          'pos2_measured.txt', 'pos2corner_measured.txt',\n",
    "                          'pos3_measured.txt', 'pos3corner_measured.txt',\n",
    "                          'pos4_measured.txt', 'pos4corner_measured.txt']\n",
    "\n",
    "#position_names = ['position1', 'position2', 'position3', 'position4']\n",
    "position_names = ['rotation1', 'rotation2', 'rotation3', 'rotation4']\n",
    "\n",
    "# load the measured coordinates\n",
    "measured_coordinates = []\n",
    "for i in range(0, len(measured_textfileNames), 2):\n",
    "    # get paths\n",
    "    non_corner_path = os.path.join(measured_coord_folder, measured_textfileNames[i])\n",
    "    corner_path = os.path.join(measured_coord_folder, measured_textfileNames[i+1])\n",
    "    # load the data\n",
    "    non_corner_data = np.loadtxt(non_corner_path)\n",
    "    corner_data = np.loadtxt(corner_path)\n",
    "    # combine the two\n",
    "    position_measured_coords = np.concatenate((non_corner_data, corner_data))\n",
    "    # record\n",
    "    measured_coordinates.append(position_measured_coords)\n",
    "full_measured_coordinates = np.vstack(measured_coordinates)\n",
    "\n",
    "# load the image coordinates\n",
    "xz_imCoords = []\n",
    "xy_imCoords = []\n",
    "yz_imCoords = []\n",
    "\n",
    "for positionIdx in range(4):\n",
    "    folder_name = os.path.join(image_coord_folder, position_names[positionIdx])\n",
    "    \n",
    "    Ex_corner_data = np.loadtxt(os.path.join(folder_name, imcoord_textfileNames[0]))\n",
    "    Ex_non_corner_data = np.loadtxt(os.path.join(folder_name, imcoord_textfileNames[1]))\n",
    "    Ez_corner_data = np.loadtxt(os.path.join(folder_name, imcoord_textfileNames[2]))\n",
    "    Ez_non_corner_data = np.loadtxt(os.path.join(folder_name, imcoord_textfileNames[3]))\n",
    "    Ex_data = np.concatenate((Ex_non_corner_data, Ex_corner_data))\n",
    "    Ez_data = np.concatenate((Ez_non_corner_data, Ez_corner_data))\n",
    "    \n",
    "    Fx_corner_data = np.loadtxt(os.path.join(folder_name, imcoord_textfileNames[4]))\n",
    "    Fx_non_corner_data = np.loadtxt(os.path.join(folder_name, imcoord_textfileNames[5]))\n",
    "    Fy_corner_data = np.loadtxt(os.path.join(folder_name, imcoord_textfileNames[6]))\n",
    "    Fy_non_corner_data = np.loadtxt(os.path.join(folder_name, imcoord_textfileNames[7]))\n",
    "    Fx_data = np.concatenate((Fx_non_corner_data, Fx_corner_data))\n",
    "    Fy_data = np.concatenate((Fy_non_corner_data, Fy_corner_data))\n",
    "    \n",
    "    Gy_corner_data = np.loadtxt(os.path.join(folder_name, imcoord_textfileNames[8]))\n",
    "    Gy_non_corner_data = np.loadtxt(os.path.join(folder_name, imcoord_textfileNames[9]))\n",
    "    Gz_corner_data = np.loadtxt(os.path.join(folder_name, imcoord_textfileNames[10]))\n",
    "    Gz_non_corner_data = np.loadtxt(os.path.join(folder_name, imcoord_textfileNames[11]))\n",
    "    Gy_data = np.concatenate((Gy_non_corner_data, Gy_corner_data))\n",
    "    Gz_data = np.concatenate((Gz_non_corner_data, Gz_corner_data))\n",
    "    \n",
    "    # Combine the two arrays for each cam\n",
    "    # BIG DANGER OF A SWAP! e.g (Ex,Ez), or (Ez,Ex)\n",
    "    # WE WANT OPENCV FORMAT I THINK?\n",
    "    xz_data = np.stack([Ex_data, Ez_data], axis=1)\n",
    "    xy_data = np.stack([Fx_data, Fy_data], axis=1)\n",
    "    yz_data = np.stack([Gy_data, Gz_data], axis=1)\n",
    "    \n",
    "    # record for this position\n",
    "    xz_imCoords.append(xz_data)\n",
    "    xy_imCoords.append(xy_data)\n",
    "    yz_imCoords.append(yz_data)\n",
    "    \n",
    "# combine the data for each position\n",
    "xz_imCoords = np.concatenate(xz_imCoords)\n",
    "xy_imCoords = np.concatenate(xy_imCoords)\n",
    "yz_imCoords = np.concatenate(yz_imCoords)\n",
    "\n",
    "# combine into master array\n",
    "full_image_coordinates = np.stack([xz_imCoords, xy_imCoords, yz_imCoords], axis=0)\n",
    "\n",
    "# load the raw images (if you like - not necessary for regressing functions)\n",
    "raw_image_folder = os.path.join(calibration_folder_path, 'raw_images')\n",
    "\n",
    "image_extensions = ['xz_rotation1.tif', 'xz_rotation2.tif', 'xz_rotation3.tif', 'xz_rotation4.tif',\n",
    "                    'xy_rotation1.tif', 'xy_rotation2.tif', 'xy_rotation3.tif', 'xy_rotation4.tif',\n",
    "                    'yz_rotation1.tif', 'yz_rotation2.tif', 'yz_rotation3.tif', 'yz_rotation4.tif',\n",
    "                    ]\n",
    "\n",
    "image_filepaths = [os.path.join(raw_image_folder, image_extension) for image_extension in image_extensions]\n",
    "\n",
    "# load the images as a list\n",
    "images = []\n",
    "for imPath in image_filepaths:\n",
    "    images.append(plt.imread(imPath))\n",
    "    \n",
    "# turn into an array of shape (numCams, numRotations, 1024, 1280)\n",
    "calibration_images = np.stack(images)\n",
    "calibration_images = calibration_images.reshape(3,4,1024,1280)\n",
    "print()\n",
    "print('calibration_images_shape: ', calibration_images.shape)\n",
    "print()\n",
    "print()\n",
    "\n",
    "print('-- Full Measured Coordinates --')\n",
    "print('(numBalls, 3D_coord)')\n",
    "print(full_measured_coordinates.shape)\n",
    "print()\n",
    "print('-- Full Image coordinates --')\n",
    "print('(numCams, numBalls, 2D_coord)')\n",
    "print(full_image_coordinates.shape)\n",
    "\n",
    "total_numBalls = full_measured_coordinates.shape[0]\n",
    "print(total_numBalls)"
   ]
  },
  {
   "cell_type": "code",
   "execution_count": null,
   "metadata": {},
   "outputs": [],
   "source": []
  },
  {
   "cell_type": "code",
   "execution_count": null,
   "metadata": {},
   "outputs": [],
   "source": []
  },
  {
   "cell_type": "markdown",
   "metadata": {},
   "source": [
    "## parse to within interior cage and inspect"
   ]
  },
  {
   "cell_type": "code",
   "execution_count": 40,
   "metadata": {},
   "outputs": [
    {
     "data": {
      "text/plain": [
       "Text(0.5, 0, 'Z [cm]')"
      ]
     },
     "execution_count": 40,
     "metadata": {},
     "output_type": "execute_result"
    },
    {
     "data": {
      "application/vnd.jupyter.widget-view+json": {
       "model_id": "056414d896054dad8c9019fad856910c",
       "version_major": 2,
       "version_minor": 0
      },
      "text/html": [
       "\n",
       "            <div style=\"display: inline-block;\">\n",
       "                <div class=\"jupyter-widgets widget-label\" style=\"text-align: center;\">\n",
       "                    Figure\n",
       "                </div>\n",
       "                <img src='data:image/png;base64,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' width=640.0/>\n",
       "            </div>\n",
       "        "
      ],
      "text/plain": [
       "Canvas(toolbar=Toolbar(toolitems=[('Home', 'Reset original view', 'home', 'home'), ('Back', 'Back to previous …"
      ]
     },
     "metadata": {},
     "output_type": "display_data"
    }
   ],
   "source": [
    "# parse the image coordinates - we only want to use calibration balls which lie within the interior volume\n",
    "\n",
    "def is_within_interior_cage(XYZ):\n",
    "    ''' Return True if this 3D values is within the iterior cage,\n",
    "        False otherwise\n",
    "    '''\n",
    "    # define the X, Y and Z ranges of the iterior cage\n",
    "    iterior_cage_lims = np.array([[5,35],[5,35],[0,32]])\n",
    "    # preallocate a list to hold the success for the checking of each dimension\n",
    "    dim_successes = [False]*3\n",
    "    # check each dimension, does component lie within the cage component limits?\n",
    "    for i,dim_range in enumerate(iterior_cage_lims):\n",
    "        if dim_range[0] <= XYZ[i] <= dim_range[1]:\n",
    "            dim_successes[i] = True\n",
    "    # If all 3 are successes, then we return True\n",
    "    if np.all(dim_successes):\n",
    "        return True\n",
    "    else:\n",
    "        return False\n",
    "    \n",
    "    \n",
    "# create the mask of balls within the interior cage\n",
    "new_meas_list = []\n",
    "new_im_list = []\n",
    "within_mask = np.zeros((total_numBalls,), dtype=bool)\n",
    "for ballIdx in range(total_numBalls):\n",
    "    if is_within_interior_cage(full_measured_coordinates[ballIdx]):\n",
    "        new_meas_list.append(full_measured_coordinates[ballIdx])\n",
    "        new_im_list.append(full_image_coordinates[:,ballIdx])\n",
    "        within_mask[ballIdx] = True\n",
    "        \n",
    "        \n",
    "fig = plt.figure()\n",
    "ax = fig.add_subplot(111, projection='3d')\n",
    "\n",
    "\n",
    "# set the colors\n",
    "# 2D arrays with a single row\n",
    "within_color = np.array([1,0,0,0.3]).reshape(1,-11)\n",
    "outside_color = np.array([0,0,1,0.3]).reshape(1,-11)\n",
    "\n",
    "# plot the interior balls we use\n",
    "ax.scatter(full_measured_coordinates[within_mask,0], \n",
    "           full_measured_coordinates[within_mask,1], \n",
    "           full_measured_coordinates[within_mask,2], \n",
    "           marker='o', c=within_color, depthshade=False)\n",
    "\n",
    "# plot the balls outside the interior cage\n",
    "ax.scatter(full_measured_coordinates[~within_mask,0], \n",
    "           full_measured_coordinates[~within_mask,1], \n",
    "           full_measured_coordinates[~within_mask,2], \n",
    "           marker='o', c=outside_color, depthshade=False)\n",
    "\n",
    "ax.set_xlabel('X [cm]')\n",
    "ax.set_ylabel('Y [cm]')\n",
    "ax.set_zlabel('Z [cm]')"
   ]
  },
  {
   "cell_type": "code",
   "execution_count": 41,
   "metadata": {},
   "outputs": [
    {
     "name": "stdout",
     "output_type": "stream",
     "text": [
      "(168, 3)\n",
      "(3, 168, 2)\n",
      "168\n"
     ]
    }
   ],
   "source": [
    "# Now define measured and image coordinates to only use interior points\n",
    "measured_coordinates = full_measured_coordinates[within_mask]\n",
    "image_coordinates = full_image_coordinates[:, within_mask]\n",
    "\n",
    "print(measured_coordinates.shape)\n",
    "print(image_coordinates.shape)\n",
    "\n",
    "numBalls = measured_coordinates.shape[0]\n",
    "print(numBalls)"
   ]
  },
  {
   "cell_type": "code",
   "execution_count": null,
   "metadata": {},
   "outputs": [],
   "source": []
  },
  {
   "cell_type": "markdown",
   "metadata": {},
   "source": [
    "## prepare the data to use for building the models"
   ]
  },
  {
   "cell_type": "code",
   "execution_count": 43,
   "metadata": {},
   "outputs": [
    {
     "name": "stdout",
     "output_type": "stream",
     "text": [
      "(168, 4)\n",
      "(168, 4)\n",
      "(168, 4)\n",
      "\n",
      "(168, 2)\n",
      "(168, 2)\n",
      "(168, 2)\n",
      "\n",
      "(168, 3)\n",
      "\n",
      "(168, 6)\n"
     ]
    }
   ],
   "source": [
    "# prepare the image coordinates \n",
    "xz_xy_image_coordinates = np.copy(image_coordinates[:2,:,:].swapaxes(0,1).reshape(numBalls, -1))\n",
    "xy_yz_image_coordinates = np.copy(image_coordinates[1:,:,:].swapaxes(0,1).reshape(numBalls, -1))\n",
    "xz_yz_image_coordinates = np.copy(image_coordinates[::2,:,:].swapaxes(0,1).reshape(numBalls, -1))\n",
    "\n",
    "xz_image_coordinates = np.copy(image_coordinates[0,:,:])\n",
    "xy_image_coordinates = np.copy(image_coordinates[1,:,:])\n",
    "yz_image_coordinates = np.copy(image_coordinates[2,:,:])\n",
    "\n",
    "# I need to transform from (numCams,numBalls,2) to (numBalls,6)\n",
    "flat_image_coordinates = np.copy(image_coordinates.swapaxes(0,1).reshape(-1,6))\n",
    "\n",
    "print(xz_xy_image_coordinates.shape)\n",
    "print(xy_yz_image_coordinates.shape)\n",
    "print(xz_yz_image_coordinates.shape)\n",
    "print()\n",
    "print(xz_image_coordinates.shape)\n",
    "print(xy_image_coordinates.shape)\n",
    "print(yz_image_coordinates.shape)\n",
    "print()\n",
    "print(measured_coordinates.shape)\n",
    "print()\n",
    "print(flat_image_coordinates.shape)"
   ]
  },
  {
   "cell_type": "code",
   "execution_count": null,
   "metadata": {},
   "outputs": [],
   "source": []
  },
  {
   "cell_type": "code",
   "execution_count": null,
   "metadata": {},
   "outputs": [],
   "source": []
  },
  {
   "cell_type": "markdown",
   "metadata": {},
   "source": [
    "## XZ&XY to YZ"
   ]
  },
  {
   "cell_type": "code",
   "execution_count": 44,
   "metadata": {},
   "outputs": [],
   "source": [
    "X_data = np.copy(xz_xy_image_coordinates)\n",
    "Y_data = np.copy(yz_image_coordinates)"
   ]
  },
  {
   "cell_type": "code",
   "execution_count": 45,
   "metadata": {},
   "outputs": [
    {
     "name": "stdout",
     "output_type": "stream",
     "text": [
      "{'estimator__alpha': 0.01, 'preprocessor__degree': 3}\n",
      "-0.18526780980263088\n"
     ]
    }
   ],
   "source": [
    "# ---- STEP1: determine alpha parameter and polydegree ---- #\n",
    "\n",
    "# set the parameters for the grid search\n",
    "alpha = [1e-10, 1e-7, 1e-6, 1e-4, 1e-5, 1e-3, 0.001, 0.01, 0.1, 1]\n",
    "polyDegList = [1, 2, 3, 4]\n",
    "parameters = {'estimator__alpha': alpha,\n",
    "              'preprocessor__degree': polyDegList}\n",
    "\n",
    "# set the pipeline for building the model\n",
    "pipe = Pipeline(steps=[\n",
    "    ('scaler', StandardScaler()),\n",
    "    ('preprocessor', PolynomialFeatures(include_bias=True)),\n",
    "    ('estimator', Ridge())\n",
    "])\n",
    "\n",
    "# set the gridsearch score metric\n",
    "score = 'neg_mean_squared_error'\n",
    "\n",
    "# perform a gridsearch\n",
    "getter_GS = GridSearchCV(pipe, parameters, cv=3, scoring=score) \n",
    "getter_GS.fit(X_data, Y_data)\n",
    "\n",
    "\n",
    "print(getter_GS.best_params_)\n",
    "print(getter_GS.best_score_)"
   ]
  },
  {
   "cell_type": "code",
   "execution_count": 46,
   "metadata": {},
   "outputs": [
    {
     "name": "stdout",
     "output_type": "stream",
     "text": [
      "t = 0.21239686012268066 s\n",
      "\n"
     ]
    },
    {
     "data": {
      "text/plain": [
       "<matplotlib.legend.Legend at 0x7f63bf802a90>"
      ]
     },
     "execution_count": 46,
     "metadata": {},
     "output_type": "execute_result"
    },
    {
     "data": {
      "application/vnd.jupyter.widget-view+json": {
       "model_id": "e18016dbc49c4d4bae67bdee8c340988",
       "version_major": 2,
       "version_minor": 0
      },
      "text/html": [
       "\n",
       "            <div style=\"display: inline-block;\">\n",
       "                <div class=\"jupyter-widgets widget-label\" style=\"text-align: center;\">\n",
       "                    Figure\n",
       "                </div>\n",
       "                <img src='data:image/png;base64,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' width=640.0/>\n",
       "            </div>\n",
       "        "
      ],
      "text/plain": [
       "Canvas(toolbar=Toolbar(toolitems=[('Home', 'Reset original view', 'home', 'home'), ('Back', 'Back to previous …"
      ]
     },
     "metadata": {},
     "output_type": "display_data"
    }
   ],
   "source": [
    "# ---- STEP2: examine the residuals and the amount of over-fitting ---- #\n",
    "# \n",
    "# using the above-determined alpha and polydeg, examine the residuals for \n",
    "# a train-test split\n",
    "\n",
    "# the number of training test splits\n",
    "numPermutations = 100\n",
    "# the proportion of the dataset to include in the train split\n",
    "trainFac = 0.9\n",
    "# the binning for plotting the residuals\n",
    "bins = np.arange(0, 3, 0.1)\n",
    "\n",
    "# --------------------------#\n",
    "\n",
    "t0 = time.time()\n",
    "\n",
    "# use the GS results to set the params\n",
    "alpha = getter_GS.best_params_['estimator__alpha']\n",
    "polyDeg = getter_GS.best_params_['preprocessor__degree']\n",
    "\n",
    "# based on the trainFac, determine the number of balls to use for training\n",
    "# we do this just for preallocating the results array below\n",
    "dummy_X_train, _, _, _, = train_test_split(X_data, Y_data, train_size=trainFac)\n",
    "numTrainingBalls = dummy_X_train.shape[0]\n",
    "\n",
    "# preallocate arrays to hold the results\n",
    "train_errors = np.zeros((numPermutations, numTrainingBalls))\n",
    "test_errors = np.zeros((numPermutations, numBalls-numTrainingBalls))\n",
    "\n",
    "\n",
    "\n",
    "for permIdx in range(numPermutations):\n",
    "\n",
    "    # train test split\n",
    "    X_train, X_test, y_train, y_test = train_test_split(X_data, Y_data, train_size=trainFac)\n",
    "\n",
    "    getter = Pipeline(steps=[('scaler', StandardScaler()),\n",
    "                                ('preprocessor', PolynomialFeatures(degree=polyDeg, include_bias=True)),\n",
    "                                ('estimator', Ridge(alpha=alpha))\n",
    "                                ])\n",
    "\n",
    "    getter.fit(X_train, y_train)\n",
    "\n",
    "    train_calculated_coordinates = getter.predict(X_train)\n",
    "    errs = np.linalg.norm(y_train - train_calculated_coordinates, axis=1)\n",
    "    train_errors[permIdx, :] = errs\n",
    "\n",
    "    test_calculated_coordinates = getter.predict(X_test)\n",
    "    errs = np.linalg.norm(y_test - test_calculated_coordinates, axis=1)\n",
    "    test_errors[permIdx, :] = errs\n",
    "        \n",
    "        \n",
    "te = time.time()\n",
    "print('t = {0} s'.format(te-t0))\n",
    "print()\n",
    "\n",
    "# flatten the error arrays for histogramming the distributions\n",
    "train_errors = train_errors.reshape(-1)\n",
    "test_errors = test_errors.reshape(-1)\n",
    "\n",
    "plt.figure()\n",
    "plt.title('Residuals Test: PolyOrd = {0}, alpha = {1}'.format(polyDeg, alpha))\n",
    "plt.hist(train_errors, label='train errors', bins=bins, alpha=0.2, density=True);\n",
    "plt.hist(test_errors, label='test errors', bins=bins, alpha=0.2, density=True);\n",
    "plt.legend()"
   ]
  },
  {
   "cell_type": "code",
   "execution_count": null,
   "metadata": {},
   "outputs": [],
   "source": []
  },
  {
   "cell_type": "code",
   "execution_count": 47,
   "metadata": {},
   "outputs": [],
   "source": [
    "# --------------- STEP3: Fit and save the final model ----------------#\n",
    "getter_name = 'xz_xy_to_yz.joblib'\n"
   ]
  },
  {
   "cell_type": "code",
   "execution_count": 48,
   "metadata": {},
   "outputs": [],
   "source": [
    "# make the final model\n",
    "getter = Pipeline(steps=[('scaler', StandardScaler()),\n",
    "                         ('preprocessor', PolynomialFeatures(degree=polyDeg, include_bias=True)),\n",
    "                          ('estimator', Ridge(alpha=alpha))\n",
    "                          ])\n",
    "\n",
    "python_calibration_folderPath = os.path.join(calibration_folder_path, 'python_calibration_models')\n",
    "os.makedirs(python_calibration_folderPath, exist_ok=True);\n",
    "\n",
    "getter.fit(X_data, Y_data)\n",
    "\n",
    "dump(getter, os.path.join(python_calibration_folderPath, getter_name));"
   ]
  },
  {
   "cell_type": "code",
   "execution_count": 49,
   "metadata": {},
   "outputs": [],
   "source": [
    "# ---- How to load ----#\n",
    "\n",
    "# # load the model\n",
    "# yz_getter_name = 'xz_xy_to_yz.joblib'\n",
    "\n",
    "# python_calibration_folderPath = os.path.join(calibration_folder_path, 'python_calibration_models')\n",
    "# yz_getter = load(os.path.join(python_calibration_folderPath, yz_getter_name));"
   ]
  },
  {
   "cell_type": "code",
   "execution_count": null,
   "metadata": {},
   "outputs": [],
   "source": []
  },
  {
   "cell_type": "code",
   "execution_count": 50,
   "metadata": {},
   "outputs": [
    {
     "data": {
      "text/plain": [
       "(168,)"
      ]
     },
     "execution_count": 50,
     "metadata": {},
     "output_type": "execute_result"
    }
   ],
   "source": [
    "# ---- compute the final residuals plot ---- #\n",
    "\n",
    "# load the model\n",
    "yz_getter_name = 'xz_xy_to_yz.joblib'\n",
    "\n",
    "python_calibration_folderPath = os.path.join(calibration_folder_path, 'python_calibration_models')\n",
    "yz_getter = load(os.path.join(python_calibration_folderPath, yz_getter_name));\n",
    "\n",
    "\n",
    "calculated_im_coordinates = yz_getter.predict(X_data)\n",
    "\n",
    "residuals = np.linalg.norm(Y_data - calculated_im_coordinates , axis=1)\n",
    "residuals.shape"
   ]
  },
  {
   "cell_type": "code",
   "execution_count": null,
   "metadata": {},
   "outputs": [],
   "source": []
  },
  {
   "cell_type": "code",
   "execution_count": 51,
   "metadata": {},
   "outputs": [
    {
     "data": {
      "text/plain": [
       "[<matplotlib.axis.YTick at 0x7f63bf6f10a0>,\n",
       " <matplotlib.axis.YTick at 0x7f63bf6f2070>]"
      ]
     },
     "execution_count": 51,
     "metadata": {},
     "output_type": "execute_result"
    },
    {
     "data": {
      "application/vnd.jupyter.widget-view+json": {
       "model_id": "f2069be2bca9472fb5eed5cc93ae3014",
       "version_major": 2,
       "version_minor": 0
      },
      "text/html": [
       "\n",
       "            <div style=\"display: inline-block;\">\n",
       "                <div class=\"jupyter-widgets widget-label\" style=\"text-align: center;\">\n",
       "                    Figure\n",
       "                </div>\n",
       "                <img src='data:image/png;base64,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' width=640.0/>\n",
       "            </div>\n",
       "        "
      ],
      "text/plain": [
       "Canvas(toolbar=Toolbar(toolitems=[('Home', 'Reset original view', 'home', 'home'), ('Back', 'Back to previous …"
      ]
     },
     "metadata": {},
     "output_type": "display_data"
    }
   ],
   "source": [
    "fig, axs = plt.subplots()\n",
    "ax = axs\n",
    "\n",
    "# the binning for plotting the residuals\n",
    "bins = np.arange(0, 3, 0.1)\n",
    "\n",
    "ax.hist(residuals, bins=bins);\n",
    "\n",
    "ax.set_ylabel('counts')\n",
    "ax.set_xlabel('residuals [pixels]')\n",
    "\n",
    "ax.set_xlim(0, 2)\n",
    "ax.set_ylim(0, 35)\n",
    "\n",
    "ax.set_xticks([0, 0.5, 1, 1.5, 2]);\n",
    "ax.set_yticks([0, 35])"
   ]
  },
  {
   "cell_type": "code",
   "execution_count": null,
   "metadata": {},
   "outputs": [],
   "source": []
  },
  {
   "cell_type": "code",
   "execution_count": null,
   "metadata": {},
   "outputs": [],
   "source": []
  },
  {
   "cell_type": "code",
   "execution_count": null,
   "metadata": {},
   "outputs": [],
   "source": []
  },
  {
   "cell_type": "markdown",
   "metadata": {},
   "source": [
    "## XY&YZ to XZ"
   ]
  },
  {
   "cell_type": "code",
   "execution_count": 52,
   "metadata": {},
   "outputs": [],
   "source": [
    "X_data = np.copy(xy_yz_image_coordinates)\n",
    "Y_data = np.copy(xz_image_coordinates)"
   ]
  },
  {
   "cell_type": "code",
   "execution_count": 53,
   "metadata": {},
   "outputs": [
    {
     "name": "stdout",
     "output_type": "stream",
     "text": [
      "{'estimator__alpha': 0.01, 'preprocessor__degree': 3}\n",
      "-0.22524803214094843\n"
     ]
    }
   ],
   "source": [
    "# ---- STEP1: determine alpha parameter and polydegree ---- #\n",
    "\n",
    "# set the parameters for the grid search\n",
    "alpha = [1e-10, 1e-7, 1e-6, 1e-4, 1e-5, 1e-3, 0.001, 0.01, 0.1, 1]\n",
    "polyDegList = [1, 2, 3, 4]\n",
    "parameters = {'estimator__alpha': alpha,\n",
    "              'preprocessor__degree': polyDegList}\n",
    "\n",
    "# set the pipeline for building the model\n",
    "pipe = Pipeline(steps=[\n",
    "    ('scaler', StandardScaler()),\n",
    "    ('preprocessor', PolynomialFeatures(include_bias=True)),\n",
    "    ('estimator', Ridge())\n",
    "])\n",
    "\n",
    "# set the gridsearch score metric\n",
    "score = 'neg_mean_squared_error'\n",
    "\n",
    "# perform a gridsearch\n",
    "getter_GS = GridSearchCV(pipe, parameters, cv=3, scoring=score) \n",
    "getter_GS.fit(X_data, Y_data)\n",
    "\n",
    "\n",
    "print(getter_GS.best_params_)\n",
    "print(getter_GS.best_score_)"
   ]
  },
  {
   "cell_type": "code",
   "execution_count": 54,
   "metadata": {},
   "outputs": [
    {
     "name": "stdout",
     "output_type": "stream",
     "text": [
      "t = 0.19748616218566895 s\n",
      "\n"
     ]
    },
    {
     "data": {
      "text/plain": [
       "<matplotlib.legend.Legend at 0x7f63bf6062b0>"
      ]
     },
     "execution_count": 54,
     "metadata": {},
     "output_type": "execute_result"
    },
    {
     "data": {
      "application/vnd.jupyter.widget-view+json": {
       "model_id": "93dbc213a5174aafa9d47bff34cdc3ec",
       "version_major": 2,
       "version_minor": 0
      },
      "text/html": [
       "\n",
       "            <div style=\"display: inline-block;\">\n",
       "                <div class=\"jupyter-widgets widget-label\" style=\"text-align: center;\">\n",
       "                    Figure\n",
       "                </div>\n",
       "                <img src='data:image/png;base64,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' width=640.0/>\n",
       "            </div>\n",
       "        "
      ],
      "text/plain": [
       "Canvas(toolbar=Toolbar(toolitems=[('Home', 'Reset original view', 'home', 'home'), ('Back', 'Back to previous …"
      ]
     },
     "metadata": {},
     "output_type": "display_data"
    }
   ],
   "source": [
    "# ---- STEP2: examine the residuals and the amount of over-fitting ---- #\n",
    "# \n",
    "# using the above-determined alpha and polydeg, examine the residuals for \n",
    "# a train-test split\n",
    "\n",
    "# the number of training test splits\n",
    "numPermutations = 100\n",
    "# the proportion of the dataset to include in the train split\n",
    "trainFac = 0.9\n",
    "# the binning for plotting the residuals\n",
    "bins = np.arange(0, 3, 0.1)\n",
    "\n",
    "# --------------------------#\n",
    "\n",
    "t0 = time.time()\n",
    "\n",
    "# use the GS results to set the params\n",
    "alpha = getter_GS.best_params_['estimator__alpha']\n",
    "polyDeg = getter_GS.best_params_['preprocessor__degree']\n",
    "\n",
    "# based on the trainFac, determine the number of balls to use for training\n",
    "# we do this just for preallocating the results array below\n",
    "dummy_X_train, _, _, _, = train_test_split(X_data, Y_data, train_size=trainFac)\n",
    "numTrainingBalls = dummy_X_train.shape[0]\n",
    "\n",
    "# preallocate arrays to hold the results\n",
    "train_errors = np.zeros((numPermutations, numTrainingBalls))\n",
    "test_errors = np.zeros((numPermutations, numBalls-numTrainingBalls))\n",
    "\n",
    "\n",
    "\n",
    "for permIdx in range(numPermutations):\n",
    "\n",
    "    # train test split\n",
    "    X_train, X_test, y_train, y_test = train_test_split(X_data, Y_data, train_size=trainFac)\n",
    "\n",
    "    getter = Pipeline(steps=[('scaler', StandardScaler()),\n",
    "                                ('preprocessor', PolynomialFeatures(degree=polyDeg, include_bias=True)),\n",
    "                                ('estimator', Ridge(alpha=alpha))\n",
    "                                ])\n",
    "\n",
    "    getter.fit(X_train, y_train)\n",
    "\n",
    "    train_calculated_coordinates = getter.predict(X_train)\n",
    "    errs = np.linalg.norm(y_train - train_calculated_coordinates, axis=1)\n",
    "    train_errors[permIdx, :] = errs\n",
    "\n",
    "    test_calculated_coordinates = getter.predict(X_test)\n",
    "    errs = np.linalg.norm(y_test - test_calculated_coordinates, axis=1)\n",
    "    test_errors[permIdx, :] = errs\n",
    "        \n",
    "        \n",
    "te = time.time()\n",
    "print('t = {0} s'.format(te-t0))\n",
    "print()\n",
    "\n",
    "# flatten the error arrays for histogramming the distributions\n",
    "train_errors = train_errors.reshape(-1)\n",
    "test_errors = test_errors.reshape(-1)\n",
    "\n",
    "plt.figure()\n",
    "plt.title('Residuals Test: PolyOrd = {0}, alpha = {1}'.format(polyDeg, alpha))\n",
    "plt.hist(train_errors, label='train errors', bins=bins, alpha=0.2, density=True);\n",
    "plt.hist(test_errors, label='test errors', bins=bins, alpha=0.2, density=True);\n",
    "plt.legend()"
   ]
  },
  {
   "cell_type": "code",
   "execution_count": null,
   "metadata": {},
   "outputs": [],
   "source": []
  },
  {
   "cell_type": "code",
   "execution_count": 55,
   "metadata": {},
   "outputs": [],
   "source": [
    "# --------------- STEP3: Fit and save the final model ----------------#\n",
    "getter_name = 'xy_yz_to_xz.joblib'\n"
   ]
  },
  {
   "cell_type": "code",
   "execution_count": 56,
   "metadata": {},
   "outputs": [],
   "source": [
    "# make the final model\n",
    "getter = Pipeline(steps=[('scaler', StandardScaler()),\n",
    "                         ('preprocessor', PolynomialFeatures(degree=polyDeg, include_bias=True)),\n",
    "                          ('estimator', Ridge(alpha=alpha))\n",
    "                          ])\n",
    "\n",
    "python_calibration_folderPath = os.path.join(calibration_folder_path, 'python_calibration_models')\n",
    "os.makedirs(python_calibration_folderPath, exist_ok=True);\n",
    "\n",
    "getter.fit(X_data, Y_data)\n",
    "\n",
    "dump(getter, os.path.join(python_calibration_folderPath, getter_name));"
   ]
  },
  {
   "cell_type": "code",
   "execution_count": 57,
   "metadata": {},
   "outputs": [],
   "source": [
    "# ---- How to load ----#\n",
    "\n",
    "# # load the model\n",
    "# xz_getter_name = 'xy_yz_to_xz.joblib'\n",
    "\n",
    "# python_calibration_folderPath = os.path.join(calibration_folder_path, 'python_calibration_models')\n",
    "# xz_getter = load(os.path.join(python_calibration_folderPath, xz_getter_name));"
   ]
  },
  {
   "cell_type": "code",
   "execution_count": null,
   "metadata": {},
   "outputs": [],
   "source": []
  },
  {
   "cell_type": "code",
   "execution_count": null,
   "metadata": {},
   "outputs": [],
   "source": []
  },
  {
   "cell_type": "code",
   "execution_count": 58,
   "metadata": {},
   "outputs": [
    {
     "data": {
      "text/plain": [
       "(168,)"
      ]
     },
     "execution_count": 58,
     "metadata": {},
     "output_type": "execute_result"
    }
   ],
   "source": [
    "# ---- compute the final residuals plot ---- #\n",
    "\n",
    "# load the model\n",
    "xz_getter_name = 'xy_yz_to_xz.joblib'\n",
    "\n",
    "python_calibration_folderPath = os.path.join(calibration_folder_path, 'python_calibration_models')\n",
    "xz_getter = load(os.path.join(python_calibration_folderPath, xz_getter_name));\n",
    "\n",
    "\n",
    "calculated_im_coordinates = xz_getter.predict(X_data)\n",
    "\n",
    "residuals = np.linalg.norm(Y_data - calculated_im_coordinates , axis=1)\n",
    "residuals.shape"
   ]
  },
  {
   "cell_type": "code",
   "execution_count": null,
   "metadata": {},
   "outputs": [],
   "source": []
  },
  {
   "cell_type": "code",
   "execution_count": 59,
   "metadata": {},
   "outputs": [
    {
     "data": {
      "text/plain": [
       "Text(0.5, 0, 'pixels')"
      ]
     },
     "execution_count": 59,
     "metadata": {},
     "output_type": "execute_result"
    },
    {
     "data": {
      "application/vnd.jupyter.widget-view+json": {
       "model_id": "a3c833fda9354ca989a8dbcdf9b2cbd2",
       "version_major": 2,
       "version_minor": 0
      },
      "text/html": [
       "\n",
       "            <div style=\"display: inline-block;\">\n",
       "                <div class=\"jupyter-widgets widget-label\" style=\"text-align: center;\">\n",
       "                    Figure\n",
       "                </div>\n",
       "                <img src='data:image/png;base64,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' width=640.0/>\n",
       "            </div>\n",
       "        "
      ],
      "text/plain": [
       "Canvas(toolbar=Toolbar(toolitems=[('Home', 'Reset original view', 'home', 'home'), ('Back', 'Back to previous …"
      ]
     },
     "metadata": {},
     "output_type": "display_data"
    }
   ],
   "source": [
    "fig, axs = plt.subplots()\n",
    "ax = axs\n",
    "\n",
    "# the binning for plotting the residuals\n",
    "bins = np.arange(0, 3, 0.1)\n",
    "\n",
    "ax.hist(residuals, bins=bins);\n",
    "ax.set_xlabel('pixels')"
   ]
  },
  {
   "cell_type": "code",
   "execution_count": null,
   "metadata": {},
   "outputs": [],
   "source": []
  },
  {
   "cell_type": "code",
   "execution_count": null,
   "metadata": {},
   "outputs": [],
   "source": []
  },
  {
   "cell_type": "code",
   "execution_count": null,
   "metadata": {},
   "outputs": [],
   "source": []
  },
  {
   "cell_type": "markdown",
   "metadata": {},
   "source": [
    "## XZ&YZ to XY"
   ]
  },
  {
   "cell_type": "code",
   "execution_count": 60,
   "metadata": {},
   "outputs": [],
   "source": [
    "X_data = np.copy(xz_yz_image_coordinates)\n",
    "Y_data = np.copy(xy_image_coordinates)"
   ]
  },
  {
   "cell_type": "code",
   "execution_count": 61,
   "metadata": {},
   "outputs": [
    {
     "name": "stdout",
     "output_type": "stream",
     "text": [
      "{'estimator__alpha': 0.001, 'preprocessor__degree': 3}\n",
      "-0.11939040012573625\n"
     ]
    }
   ],
   "source": [
    "# ---- STEP1: determine alpha parameter and polydegree ---- #\n",
    "\n",
    "# set the parameters for the grid search\n",
    "alpha = [1e-10, 1e-7, 1e-6, 1e-4, 1e-5, 1e-3, 0.001, 0.01, 0.1, 1]\n",
    "polyDegList = [1, 2, 3, 4]\n",
    "parameters = {'estimator__alpha': alpha,\n",
    "              'preprocessor__degree': polyDegList}\n",
    "\n",
    "# set the pipeline for building the model\n",
    "pipe = Pipeline(steps=[\n",
    "    ('scaler', StandardScaler()),\n",
    "    ('preprocessor', PolynomialFeatures(include_bias=True)),\n",
    "    ('estimator', Ridge())\n",
    "])\n",
    "\n",
    "# set the gridsearch score metric\n",
    "score = 'neg_mean_squared_error'\n",
    "\n",
    "# perform a gridsearch\n",
    "getter_GS = GridSearchCV(pipe, parameters, cv=3, scoring=score) \n",
    "getter_GS.fit(X_data, Y_data)\n",
    "\n",
    "\n",
    "print(getter_GS.best_params_)\n",
    "print(getter_GS.best_score_)"
   ]
  },
  {
   "cell_type": "code",
   "execution_count": 62,
   "metadata": {},
   "outputs": [
    {
     "name": "stdout",
     "output_type": "stream",
     "text": [
      "t = 0.21138858795166016 s\n",
      "\n"
     ]
    },
    {
     "data": {
      "text/plain": [
       "<matplotlib.legend.Legend at 0x7f63bf495ca0>"
      ]
     },
     "execution_count": 62,
     "metadata": {},
     "output_type": "execute_result"
    },
    {
     "data": {
      "application/vnd.jupyter.widget-view+json": {
       "model_id": "6172795d2828411183d93d51d0cc79f6",
       "version_major": 2,
       "version_minor": 0
      },
      "text/html": [
       "\n",
       "            <div style=\"display: inline-block;\">\n",
       "                <div class=\"jupyter-widgets widget-label\" style=\"text-align: center;\">\n",
       "                    Figure\n",
       "                </div>\n",
       "                <img src='data:image/png;base64,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' width=640.0/>\n",
       "            </div>\n",
       "        "
      ],
      "text/plain": [
       "Canvas(toolbar=Toolbar(toolitems=[('Home', 'Reset original view', 'home', 'home'), ('Back', 'Back to previous …"
      ]
     },
     "metadata": {},
     "output_type": "display_data"
    }
   ],
   "source": [
    "# ---- STEP2: examine the residuals and the amount of over-fitting ---- #\n",
    "# \n",
    "# using the above-determined alpha and polydeg, examine the residuals for \n",
    "# a train-test split\n",
    "\n",
    "# the number of training test splits\n",
    "numPermutations = 100\n",
    "# the proportion of the dataset to include in the train split\n",
    "trainFac = 0.9\n",
    "# the binning for plotting the residuals\n",
    "bins = np.arange(0, 3, 0.1)\n",
    "\n",
    "# --------------------------#\n",
    "\n",
    "t0 = time.time()\n",
    "\n",
    "# use the GS results to set the params\n",
    "alpha = getter_GS.best_params_['estimator__alpha']\n",
    "polyDeg = getter_GS.best_params_['preprocessor__degree']\n",
    "\n",
    "# based on the trainFac, determine the number of balls to use for training\n",
    "# we do this just for preallocating the results array below\n",
    "dummy_X_train, _, _, _, = train_test_split(X_data, Y_data, train_size=trainFac)\n",
    "numTrainingBalls = dummy_X_train.shape[0]\n",
    "\n",
    "# preallocate arrays to hold the results\n",
    "train_errors = np.zeros((numPermutations, numTrainingBalls))\n",
    "test_errors = np.zeros((numPermutations, numBalls-numTrainingBalls))\n",
    "\n",
    "\n",
    "\n",
    "for permIdx in range(numPermutations):\n",
    "\n",
    "    # train test split\n",
    "    X_train, X_test, y_train, y_test = train_test_split(X_data, Y_data, train_size=trainFac)\n",
    "\n",
    "    getter = Pipeline(steps=[('scaler', StandardScaler()),\n",
    "                                ('preprocessor', PolynomialFeatures(degree=polyDeg, include_bias=True)),\n",
    "                                ('estimator', Ridge(alpha=alpha))\n",
    "                                ])\n",
    "\n",
    "    getter.fit(X_train, y_train)\n",
    "\n",
    "    train_calculated_coordinates = getter.predict(X_train)\n",
    "    errs = np.linalg.norm(y_train - train_calculated_coordinates, axis=1)\n",
    "    train_errors[permIdx, :] = errs\n",
    "\n",
    "    test_calculated_coordinates = getter.predict(X_test)\n",
    "    errs = np.linalg.norm(y_test - test_calculated_coordinates, axis=1)\n",
    "    test_errors[permIdx, :] = errs\n",
    "        \n",
    "        \n",
    "te = time.time()\n",
    "print('t = {0} s'.format(te-t0))\n",
    "print()\n",
    "\n",
    "# flatten the error arrays for histogramming the distributions\n",
    "train_errors = train_errors.reshape(-1)\n",
    "test_errors = test_errors.reshape(-1)\n",
    "\n",
    "plt.figure()\n",
    "plt.title('Residuals Test: PolyOrd = {0}, alpha = {1}'.format(polyDeg, alpha))\n",
    "plt.hist(train_errors, label='train errors', bins=bins, alpha=0.2, density=True);\n",
    "plt.hist(test_errors, label='test errors', bins=bins, alpha=0.2, density=True);\n",
    "plt.legend()"
   ]
  },
  {
   "cell_type": "code",
   "execution_count": 63,
   "metadata": {},
   "outputs": [],
   "source": [
    "# --------------- STEP3: Fit and save the final model ----------------#\n",
    "getter_name = 'xz_yz_to_xy.joblib'\n"
   ]
  },
  {
   "cell_type": "code",
   "execution_count": 64,
   "metadata": {},
   "outputs": [],
   "source": [
    "# make the final model\n",
    "getter = Pipeline(steps=[('scaler', StandardScaler()),\n",
    "                         ('preprocessor', PolynomialFeatures(degree=polyDeg, include_bias=True)),\n",
    "                          ('estimator', Ridge(alpha=alpha))\n",
    "                          ])\n",
    "\n",
    "python_calibration_folderPath = os.path.join(calibration_folder_path, 'python_calibration_models')\n",
    "os.makedirs(python_calibration_folderPath, exist_ok=True);\n",
    "\n",
    "getter.fit(X_data, Y_data)\n",
    "\n",
    "dump(getter, os.path.join(python_calibration_folderPath, getter_name));"
   ]
  },
  {
   "cell_type": "code",
   "execution_count": null,
   "metadata": {},
   "outputs": [],
   "source": []
  },
  {
   "cell_type": "code",
   "execution_count": null,
   "metadata": {},
   "outputs": [],
   "source": []
  },
  {
   "cell_type": "code",
   "execution_count": 65,
   "metadata": {},
   "outputs": [
    {
     "data": {
      "text/plain": [
       "(168,)"
      ]
     },
     "execution_count": 65,
     "metadata": {},
     "output_type": "execute_result"
    }
   ],
   "source": [
    "# ---- compute the final residuals plot ---- #\n",
    "\n",
    "# load the model\n",
    "xy_getter_name = 'xz_yz_to_xy.joblib'\n",
    "\n",
    "python_calibration_folderPath = os.path.join(calibration_folder_path, 'python_calibration_models')\n",
    "xy_getter = load(os.path.join(python_calibration_folderPath, xy_getter_name));\n",
    "\n",
    "\n",
    "calculated_im_coordinates = xy_getter.predict(X_data)\n",
    "\n",
    "residuals = np.linalg.norm(Y_data - calculated_im_coordinates , axis=1)\n",
    "residuals.shape"
   ]
  },
  {
   "cell_type": "code",
   "execution_count": null,
   "metadata": {},
   "outputs": [],
   "source": []
  },
  {
   "cell_type": "code",
   "execution_count": null,
   "metadata": {},
   "outputs": [],
   "source": []
  },
  {
   "cell_type": "code",
   "execution_count": null,
   "metadata": {},
   "outputs": [],
   "source": []
  },
  {
   "cell_type": "code",
   "execution_count": 66,
   "metadata": {},
   "outputs": [
    {
     "data": {
      "text/plain": [
       "[<matplotlib.axis.YTick at 0x7f63bf3eab50>,\n",
       " <matplotlib.axis.YTick at 0x7f63bf3ea3d0>]"
      ]
     },
     "execution_count": 66,
     "metadata": {},
     "output_type": "execute_result"
    },
    {
     "data": {
      "application/vnd.jupyter.widget-view+json": {
       "model_id": "abf05a3cb2b94b5fb58b2ceba8c3e4c3",
       "version_major": 2,
       "version_minor": 0
      },
      "text/html": [
       "\n",
       "            <div style=\"display: inline-block;\">\n",
       "                <div class=\"jupyter-widgets widget-label\" style=\"text-align: center;\">\n",
       "                    Figure\n",
       "                </div>\n",
       "                <img src='data:image/png;base64,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' width=640.0/>\n",
       "            </div>\n",
       "        "
      ],
      "text/plain": [
       "Canvas(toolbar=Toolbar(toolitems=[('Home', 'Reset original view', 'home', 'home'), ('Back', 'Back to previous …"
      ]
     },
     "metadata": {},
     "output_type": "display_data"
    }
   ],
   "source": [
    "fig, axs = plt.subplots()\n",
    "ax = axs\n",
    "\n",
    "# the binning for plotting the residuals\n",
    "bins = np.arange(0, 3, 0.1)\n",
    "\n",
    "ax.hist(residuals, bins=bins);\n",
    "\n",
    "ax.set_ylabel('counts')\n",
    "ax.set_xlabel('residuals [pixels]')\n",
    "\n",
    "ax.set_xlim(0, 2)\n",
    "ax.set_ylim(0, 40)\n",
    "\n",
    "ax.set_xticks([0, 0.5, 1, 1.5, 2]);\n",
    "ax.set_yticks([0, 35])\n"
   ]
  },
  {
   "cell_type": "code",
   "execution_count": null,
   "metadata": {},
   "outputs": [],
   "source": []
  },
  {
   "cell_type": "code",
   "execution_count": null,
   "metadata": {},
   "outputs": [],
   "source": []
  },
  {
   "cell_type": "code",
   "execution_count": null,
   "metadata": {},
   "outputs": [],
   "source": []
  },
  {
   "cell_type": "markdown",
   "metadata": {},
   "source": [
    "## XZ&XY&YZ to XYZ"
   ]
  },
  {
   "cell_type": "code",
   "execution_count": 67,
   "metadata": {},
   "outputs": [],
   "source": [
    "X_data = np.copy(flat_image_coordinates)\n",
    "Y_data = np.copy(measured_coordinates)"
   ]
  },
  {
   "cell_type": "code",
   "execution_count": 68,
   "metadata": {},
   "outputs": [
    {
     "name": "stdout",
     "output_type": "stream",
     "text": [
      "{'estimator__alpha': 0.1, 'preprocessor__degree': 2}\n",
      "-0.010561701665143676\n"
     ]
    }
   ],
   "source": [
    "# ---- STEP1: determine alpha parameter and polydegree ---- #\n",
    "\n",
    "# set the parameters for the grid search\n",
    "alpha = [1e-10, 1e-7, 1e-6, 1e-4, 1e-5, 1e-3, 0.001, 0.01, 0.1, 1]\n",
    "polyDegList = [1, 2, 3, 4]\n",
    "parameters = {'estimator__alpha': alpha,\n",
    "              'preprocessor__degree': polyDegList}\n",
    "\n",
    "# set the pipeline for building the model\n",
    "pipe = Pipeline(steps=[\n",
    "    ('scaler', StandardScaler()),\n",
    "    ('preprocessor', PolynomialFeatures(include_bias=True)),\n",
    "    ('estimator', Ridge())\n",
    "])\n",
    "\n",
    "# set the gridsearch score metric\n",
    "score = 'neg_mean_squared_error'\n",
    "\n",
    "# perform a gridsearch\n",
    "getter_GS = GridSearchCV(pipe, parameters, cv=3, scoring=score) \n",
    "getter_GS.fit(X_data, Y_data)\n",
    "\n",
    "\n",
    "print(getter_GS.best_params_)\n",
    "print(getter_GS.best_score_)"
   ]
  },
  {
   "cell_type": "code",
   "execution_count": 69,
   "metadata": {},
   "outputs": [
    {
     "name": "stdout",
     "output_type": "stream",
     "text": [
      "t = 0.2097949981689453 s\n",
      "\n"
     ]
    },
    {
     "data": {
      "text/plain": [
       "Text(0.5, 0, '[cm]')"
      ]
     },
     "execution_count": 69,
     "metadata": {},
     "output_type": "execute_result"
    },
    {
     "data": {
      "application/vnd.jupyter.widget-view+json": {
       "model_id": "356a9002e4cd4755a69906922e2dd324",
       "version_major": 2,
       "version_minor": 0
      },
      "text/html": [
       "\n",
       "            <div style=\"display: inline-block;\">\n",
       "                <div class=\"jupyter-widgets widget-label\" style=\"text-align: center;\">\n",
       "                    Figure\n",
       "                </div>\n",
       "                <img src='data:image/png;base64,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' width=640.0/>\n",
       "            </div>\n",
       "        "
      ],
      "text/plain": [
       "Canvas(toolbar=Toolbar(toolitems=[('Home', 'Reset original view', 'home', 'home'), ('Back', 'Back to previous …"
      ]
     },
     "metadata": {},
     "output_type": "display_data"
    }
   ],
   "source": [
    "# ---- STEP2: examine the residuals and the amount of over-fitting ---- #\n",
    "# \n",
    "# using the above-determined alpha and polydeg, examine the residuals for \n",
    "# a train-test split\n",
    "\n",
    "# the number of training test splits\n",
    "numPermutations = 100\n",
    "# the proportion of the dataset to include in the train split\n",
    "trainFac = 0.9\n",
    "# the binning for plotting the residuals\n",
    "bins = np.arange(0, 3, 0.05)\n",
    "\n",
    "# --------------------------#\n",
    "\n",
    "t0 = time.time()\n",
    "\n",
    "# use the GS results to set the params\n",
    "alpha = getter_GS.best_params_['estimator__alpha']\n",
    "polyDeg = getter_GS.best_params_['preprocessor__degree']\n",
    "\n",
    "# based on the trainFac, determine the number of balls to use for training\n",
    "# we do this just for preallocating the results array below\n",
    "dummy_X_train, _, _, _, = train_test_split(X_data, Y_data, train_size=trainFac)\n",
    "numTrainingBalls = dummy_X_train.shape[0]\n",
    "\n",
    "# preallocate arrays to hold the results\n",
    "train_errors = np.zeros((numPermutations, numTrainingBalls))\n",
    "test_errors = np.zeros((numPermutations, numBalls-numTrainingBalls))\n",
    "\n",
    "\n",
    "\n",
    "for permIdx in range(numPermutations):\n",
    "\n",
    "    # train test split\n",
    "    X_train, X_test, y_train, y_test = train_test_split(X_data, Y_data, train_size=trainFac)\n",
    "\n",
    "    getter = Pipeline(steps=[('scaler', StandardScaler()),\n",
    "                                ('preprocessor', PolynomialFeatures(degree=polyDeg, include_bias=True)),\n",
    "                                ('estimator', Ridge(alpha=alpha))\n",
    "                                ])\n",
    "\n",
    "    getter.fit(X_train, y_train)\n",
    "\n",
    "    train_calculated_coordinates = getter.predict(X_train)\n",
    "    errs = np.linalg.norm(y_train - train_calculated_coordinates, axis=1)\n",
    "    train_errors[permIdx, :] = errs\n",
    "\n",
    "    test_calculated_coordinates = getter.predict(X_test)\n",
    "    errs = np.linalg.norm(y_test - test_calculated_coordinates, axis=1)\n",
    "    test_errors[permIdx, :] = errs\n",
    "        \n",
    "        \n",
    "te = time.time()\n",
    "print('t = {0} s'.format(te-t0))\n",
    "print()\n",
    "\n",
    "# flatten the error arrays for histogramming the distributions\n",
    "train_errors = train_errors.reshape(-1)\n",
    "test_errors = test_errors.reshape(-1)\n",
    "\n",
    "plt.figure()\n",
    "plt.title('Residuals Test: PolyOrd = {0}, alpha = {1}'.format(polyDeg, alpha))\n",
    "plt.hist(train_errors, label='train errors', bins=bins, alpha=0.2, density=True);\n",
    "plt.hist(test_errors, label='test errors', bins=bins, alpha=0.2, density=True);\n",
    "plt.xticks([0.2*i for i in range(15)])\n",
    "plt.legend()\n",
    "plt.xlim(-0.1,1)\n",
    "plt.xlabel('[cm]')"
   ]
  },
  {
   "cell_type": "code",
   "execution_count": null,
   "metadata": {},
   "outputs": [],
   "source": []
  },
  {
   "cell_type": "code",
   "execution_count": 70,
   "metadata": {},
   "outputs": [],
   "source": [
    "# --------------- STEP3: Fit and save the final model ----------------#\n",
    "getter_name = 'imCoords_to_XYZ.joblib'\n"
   ]
  },
  {
   "cell_type": "code",
   "execution_count": 71,
   "metadata": {},
   "outputs": [],
   "source": [
    "# make the final model\n",
    "getter = Pipeline(steps=[('scaler', StandardScaler()),\n",
    "                         ('preprocessor', PolynomialFeatures(degree=polyDeg, include_bias=True)),\n",
    "                          ('estimator', Ridge(alpha=alpha))\n",
    "                          ])\n",
    "\n",
    "python_calibration_folderPath = os.path.join(calibration_folder_path, 'python_calibration_models')\n",
    "os.makedirs(python_calibration_folderPath, exist_ok=True);\n",
    "\n",
    "getter.fit(X_data, Y_data)\n",
    "\n",
    "dump(getter, os.path.join(python_calibration_folderPath, getter_name));"
   ]
  },
  {
   "cell_type": "code",
   "execution_count": null,
   "metadata": {},
   "outputs": [],
   "source": []
  },
  {
   "cell_type": "code",
   "execution_count": null,
   "metadata": {},
   "outputs": [],
   "source": []
  },
  {
   "cell_type": "code",
   "execution_count": null,
   "metadata": {},
   "outputs": [],
   "source": []
  },
  {
   "cell_type": "code",
   "execution_count": 72,
   "metadata": {},
   "outputs": [
    {
     "data": {
      "text/plain": [
       "(168,)"
      ]
     },
     "execution_count": 72,
     "metadata": {},
     "output_type": "execute_result"
    }
   ],
   "source": [
    "# ---- compute the final residuals plot ---- #\n",
    "\n",
    "# load the model\n",
    "xyz_getter_name = 'imCoords_to_XYZ.joblib'\n",
    "\n",
    "python_calibration_folderPath = os.path.join(calibration_folder_path, 'python_calibration_models')\n",
    "xyz_getter = load(os.path.join(python_calibration_folderPath, xyz_getter_name));\n",
    "\n",
    "\n",
    "calculated_im_coordinates = xyz_getter.predict(X_data)\n",
    "\n",
    "residuals = np.linalg.norm(Y_data - calculated_im_coordinates , axis=1)\n",
    "residuals.shape"
   ]
  },
  {
   "cell_type": "code",
   "execution_count": null,
   "metadata": {},
   "outputs": [],
   "source": []
  },
  {
   "cell_type": "code",
   "execution_count": null,
   "metadata": {},
   "outputs": [],
   "source": []
  },
  {
   "cell_type": "code",
   "execution_count": null,
   "metadata": {},
   "outputs": [],
   "source": []
  },
  {
   "cell_type": "code",
   "execution_count": 73,
   "metadata": {},
   "outputs": [
    {
     "data": {
      "text/plain": [
       "[<matplotlib.axis.YTick at 0x7f63bf1e6a60>,\n",
       " <matplotlib.axis.YTick at 0x7f63bf1e62e0>]"
      ]
     },
     "execution_count": 73,
     "metadata": {},
     "output_type": "execute_result"
    },
    {
     "data": {
      "application/vnd.jupyter.widget-view+json": {
       "model_id": "405b88e2fdb2420ebc21926789ed8072",
       "version_major": 2,
       "version_minor": 0
      },
      "text/html": [
       "\n",
       "            <div style=\"display: inline-block;\">\n",
       "                <div class=\"jupyter-widgets widget-label\" style=\"text-align: center;\">\n",
       "                    Figure\n",
       "                </div>\n",
       "                <img src='data:image/png;base64,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' width=640.0/>\n",
       "            </div>\n",
       "        "
      ],
      "text/plain": [
       "Canvas(toolbar=Toolbar(toolitems=[('Home', 'Reset original view', 'home', 'home'), ('Back', 'Back to previous …"
      ]
     },
     "metadata": {},
     "output_type": "display_data"
    }
   ],
   "source": [
    "fig, axs = plt.subplots()\n",
    "ax = axs\n",
    "\n",
    "# the binning for plotting the residuals\n",
    "bins = np.arange(0, 0.8, 0.025)\n",
    "\n",
    "ax.hist(residuals, bins=bins);\n",
    "\n",
    "ax.set_ylabel('counts')\n",
    "ax.set_xlabel('residuals [cm]')\n",
    "\n",
    "ax.set_xlim(0, 0.5)\n",
    "ax.set_ylim(0, 30)\n",
    "\n",
    "ax.set_xticks([0, 0.1, 0.2, 0.3, 0.4, 0.5]);\n",
    "ax.set_yticks([0, 30])\n"
   ]
  },
  {
   "cell_type": "code",
   "execution_count": null,
   "metadata": {},
   "outputs": [],
   "source": []
  },
  {
   "cell_type": "code",
   "execution_count": null,
   "metadata": {},
   "outputs": [],
   "source": []
  },
  {
   "cell_type": "code",
   "execution_count": null,
   "metadata": {},
   "outputs": [],
   "source": []
  },
  {
   "cell_type": "code",
   "execution_count": null,
   "metadata": {},
   "outputs": [],
   "source": []
  }
 ],
 "metadata": {
  "kernelspec": {
   "display_name": "analysis",
   "language": "python",
   "name": "analysis"
  },
  "language_info": {
   "codemirror_mode": {
    "name": "ipython",
    "version": 3
   },
   "file_extension": ".py",
   "mimetype": "text/x-python",
   "name": "python",
   "nbconvert_exporter": "python",
   "pygments_lexer": "ipython3",
   "version": "3.9.7"
  },
  "toc": {
   "base_numbering": 1,
   "nav_menu": {},
   "number_sections": true,
   "sideBar": true,
   "skip_h1_title": false,
   "title_cell": "Table of Contents",
   "title_sidebar": "Contents",
   "toc_cell": false,
   "toc_position": {},
   "toc_section_display": true,
   "toc_window_display": true
  },
  "varInspector": {
   "cols": {
    "lenName": 16,
    "lenType": 16,
    "lenVar": 40
   },
   "kernels_config": {
    "python": {
     "delete_cmd_postfix": "",
     "delete_cmd_prefix": "del ",
     "library": "var_list.py",
     "varRefreshCmd": "print(var_dic_list())"
    },
    "r": {
     "delete_cmd_postfix": ") ",
     "delete_cmd_prefix": "rm(",
     "library": "var_list.r",
     "varRefreshCmd": "cat(var_dic_list()) "
    }
   },
   "types_to_exclude": [
    "module",
    "function",
    "builtin_function_or_method",
    "instance",
    "_Feature"
   ],
   "window_display": false
  }
 },
 "nbformat": 4,
 "nbformat_minor": 4
}
